{
 "cells": [
  {
   "cell_type": "code",
   "execution_count": 1,
   "id": "51df8fbe",
   "metadata": {},
   "outputs": [],
   "source": [
    "import pandas as pd\n",
    "import numpy as np\n",
    "import networkx as nx\n",
    "from networkx.drawing.nx_agraph import graphviz_layout\n",
    "from matplotlib import pyplot as plt\n",
    "import msgpack\n",
    "\n",
    "from stellarpunk import econ_sim, serialization"
   ]
  },
  {
   "cell_type": "code",
   "execution_count": 2,
   "id": "2798635b",
   "metadata": {},
   "outputs": [],
   "source": [
    "%load_ext autoreload\n",
    "%autoreload 1\n",
    "%aimport stellarpunk.serialization\n",
    "%aimport stellarpunk.econ_sim"
   ]
  },
  {
   "cell_type": "code",
   "execution_count": 3,
   "id": "cdea8d15",
   "metadata": {},
   "outputs": [],
   "source": [
    "#production_chain_df = pd.DataFrame(msgpack.unpackb(open(\"/tmp/production_chain.log\", \"rb\").read(), object_hook=serialization.decode_matrix))\n",
    "production_chain = serialization.load_production_chain(open(\"/tmp/production_chain.log\", \"rb\").read())\n",
    "production_chain_df = production_chain.adj_matrix"
   ]
  },
  {
   "cell_type": "code",
   "execution_count": 4,
   "id": "9e697251",
   "metadata": {},
   "outputs": [
    {
     "data": {
      "text/plain": [
       "(7, 7)"
      ]
     },
     "execution_count": 4,
     "metadata": {},
     "output_type": "execute_result"
    }
   ],
   "source": [
    "production_chain_df.shape"
   ]
  },
  {
   "cell_type": "code",
   "execution_count": 5,
   "id": "0fa7cb9a",
   "metadata": {},
   "outputs": [],
   "source": [
    "agent_goods_df = pd.DataFrame(msgpack.unpackb(open(\"/tmp/agent_goods.log\", \"rb\").read(), object_hook=serialization.decode_matrix))"
   ]
  },
  {
   "cell_type": "code",
   "execution_count": 6,
   "id": "fa93786b",
   "metadata": {},
   "outputs": [
    {
     "data": {
      "text/html": [
       "<div>\n",
       "<style scoped>\n",
       "    .dataframe tbody tr th:only-of-type {\n",
       "        vertical-align: middle;\n",
       "    }\n",
       "\n",
       "    .dataframe tbody tr th {\n",
       "        vertical-align: top;\n",
       "    }\n",
       "\n",
       "    .dataframe thead th {\n",
       "        text-align: right;\n",
       "    }\n",
       "</style>\n",
       "<table border=\"1\" class=\"dataframe\">\n",
       "  <thead>\n",
       "    <tr style=\"text-align: right;\">\n",
       "      <th></th>\n",
       "      <th>0</th>\n",
       "      <th>1</th>\n",
       "      <th>2</th>\n",
       "      <th>3</th>\n",
       "      <th>4</th>\n",
       "      <th>5</th>\n",
       "      <th>6</th>\n",
       "    </tr>\n",
       "  </thead>\n",
       "  <tbody>\n",
       "    <tr>\n",
       "      <th>0</th>\n",
       "      <td>1.0</td>\n",
       "      <td>0.0</td>\n",
       "      <td>0.0</td>\n",
       "      <td>0.0</td>\n",
       "      <td>0.0</td>\n",
       "      <td>0.0</td>\n",
       "      <td>0.0</td>\n",
       "    </tr>\n",
       "    <tr>\n",
       "      <th>1</th>\n",
       "      <td>0.0</td>\n",
       "      <td>1.0</td>\n",
       "      <td>0.0</td>\n",
       "      <td>0.0</td>\n",
       "      <td>0.0</td>\n",
       "      <td>0.0</td>\n",
       "      <td>0.0</td>\n",
       "    </tr>\n",
       "    <tr>\n",
       "      <th>2</th>\n",
       "      <td>0.0</td>\n",
       "      <td>0.0</td>\n",
       "      <td>1.0</td>\n",
       "      <td>0.0</td>\n",
       "      <td>0.0</td>\n",
       "      <td>0.0</td>\n",
       "      <td>0.0</td>\n",
       "    </tr>\n",
       "    <tr>\n",
       "      <th>3</th>\n",
       "      <td>0.0</td>\n",
       "      <td>0.0</td>\n",
       "      <td>0.0</td>\n",
       "      <td>1.0</td>\n",
       "      <td>0.0</td>\n",
       "      <td>0.0</td>\n",
       "      <td>0.0</td>\n",
       "    </tr>\n",
       "    <tr>\n",
       "      <th>4</th>\n",
       "      <td>0.0</td>\n",
       "      <td>0.0</td>\n",
       "      <td>0.0</td>\n",
       "      <td>0.0</td>\n",
       "      <td>1.0</td>\n",
       "      <td>0.0</td>\n",
       "      <td>0.0</td>\n",
       "    </tr>\n",
       "    <tr>\n",
       "      <th>5</th>\n",
       "      <td>0.0</td>\n",
       "      <td>0.0</td>\n",
       "      <td>0.0</td>\n",
       "      <td>0.0</td>\n",
       "      <td>0.0</td>\n",
       "      <td>1.0</td>\n",
       "      <td>0.0</td>\n",
       "    </tr>\n",
       "    <tr>\n",
       "      <th>6</th>\n",
       "      <td>0.0</td>\n",
       "      <td>0.0</td>\n",
       "      <td>0.0</td>\n",
       "      <td>0.0</td>\n",
       "      <td>0.0</td>\n",
       "      <td>0.0</td>\n",
       "      <td>1.0</td>\n",
       "    </tr>\n",
       "  </tbody>\n",
       "</table>\n",
       "</div>"
      ],
      "text/plain": [
       "     0    1    2    3    4    5    6\n",
       "0  1.0  0.0  0.0  0.0  0.0  0.0  0.0\n",
       "1  0.0  1.0  0.0  0.0  0.0  0.0  0.0\n",
       "2  0.0  0.0  1.0  0.0  0.0  0.0  0.0\n",
       "3  0.0  0.0  0.0  1.0  0.0  0.0  0.0\n",
       "4  0.0  0.0  0.0  0.0  1.0  0.0  0.0\n",
       "5  0.0  0.0  0.0  0.0  0.0  1.0  0.0\n",
       "6  0.0  0.0  0.0  0.0  0.0  0.0  1.0"
      ]
     },
     "execution_count": 6,
     "metadata": {},
     "output_type": "execute_result"
    }
   ],
   "source": [
    "agent_goods_df"
   ]
  },
  {
   "cell_type": "markdown",
   "id": "315237e7",
   "metadata": {},
   "source": [
    "# Transactions"
   ]
  },
  {
   "cell_type": "code",
   "execution_count": 7,
   "id": "67d97016",
   "metadata": {},
   "outputs": [],
   "source": [
    "columns = [\"tick\", \"seller\", \"buyer\", \"product\", \"amount\", \"price\"]\n",
    "transaction_df = pd.read_csv(\"/tmp/transactions.log\", sep=\"\\t\", header=None, names=columns)"
   ]
  },
  {
   "cell_type": "code",
   "execution_count": 8,
   "id": "6e5b256e",
   "metadata": {},
   "outputs": [],
   "source": [
    "transaction_df[\"value\"] = transaction_df[\"amount\"] * transaction_df[\"price\"]"
   ]
  },
  {
   "cell_type": "code",
   "execution_count": 9,
   "id": "f4931977",
   "metadata": {},
   "outputs": [
    {
     "data": {
      "text/html": [
       "<div>\n",
       "<style scoped>\n",
       "    .dataframe tbody tr th:only-of-type {\n",
       "        vertical-align: middle;\n",
       "    }\n",
       "\n",
       "    .dataframe tbody tr th {\n",
       "        vertical-align: top;\n",
       "    }\n",
       "\n",
       "    .dataframe thead th {\n",
       "        text-align: right;\n",
       "    }\n",
       "</style>\n",
       "<table border=\"1\" class=\"dataframe\">\n",
       "  <thead>\n",
       "    <tr style=\"text-align: right;\">\n",
       "      <th></th>\n",
       "      <th>tick</th>\n",
       "      <th>seller</th>\n",
       "      <th>buyer</th>\n",
       "      <th>product</th>\n",
       "      <th>amount</th>\n",
       "      <th>price</th>\n",
       "      <th>value</th>\n",
       "    </tr>\n",
       "  </thead>\n",
       "  <tbody>\n",
       "    <tr>\n",
       "      <th>0</th>\n",
       "      <td>0</td>\n",
       "      <td>0</td>\n",
       "      <td>2</td>\n",
       "      <td>0</td>\n",
       "      <td>10.0</td>\n",
       "      <td>15.154425</td>\n",
       "      <td>151.544248</td>\n",
       "    </tr>\n",
       "    <tr>\n",
       "      <th>1</th>\n",
       "      <td>0</td>\n",
       "      <td>1</td>\n",
       "      <td>3</td>\n",
       "      <td>1</td>\n",
       "      <td>10.0</td>\n",
       "      <td>6.907915</td>\n",
       "      <td>69.079147</td>\n",
       "    </tr>\n",
       "    <tr>\n",
       "      <th>2</th>\n",
       "      <td>1</td>\n",
       "      <td>1</td>\n",
       "      <td>3</td>\n",
       "      <td>1</td>\n",
       "      <td>96.0</td>\n",
       "      <td>11.280813</td>\n",
       "      <td>1082.958014</td>\n",
       "    </tr>\n",
       "    <tr>\n",
       "      <th>3</th>\n",
       "      <td>1</td>\n",
       "      <td>0</td>\n",
       "      <td>2</td>\n",
       "      <td>0</td>\n",
       "      <td>96.0</td>\n",
       "      <td>15.292603</td>\n",
       "      <td>1468.089909</td>\n",
       "    </tr>\n",
       "    <tr>\n",
       "      <th>4</th>\n",
       "      <td>2</td>\n",
       "      <td>1</td>\n",
       "      <td>3</td>\n",
       "      <td>1</td>\n",
       "      <td>689.0</td>\n",
       "      <td>11.280813</td>\n",
       "      <td>7772.479915</td>\n",
       "    </tr>\n",
       "    <tr>\n",
       "      <th>...</th>\n",
       "      <td>...</td>\n",
       "      <td>...</td>\n",
       "      <td>...</td>\n",
       "      <td>...</td>\n",
       "      <td>...</td>\n",
       "      <td>...</td>\n",
       "      <td>...</td>\n",
       "    </tr>\n",
       "    <tr>\n",
       "      <th>139837</th>\n",
       "      <td>99850</td>\n",
       "      <td>1</td>\n",
       "      <td>3</td>\n",
       "      <td>1</td>\n",
       "      <td>10000.0</td>\n",
       "      <td>9.722334</td>\n",
       "      <td>97223.339613</td>\n",
       "    </tr>\n",
       "    <tr>\n",
       "      <th>139838</th>\n",
       "      <td>99851</td>\n",
       "      <td>1</td>\n",
       "      <td>3</td>\n",
       "      <td>1</td>\n",
       "      <td>10000.0</td>\n",
       "      <td>9.722334</td>\n",
       "      <td>97223.339613</td>\n",
       "    </tr>\n",
       "    <tr>\n",
       "      <th>139839</th>\n",
       "      <td>99852</td>\n",
       "      <td>1</td>\n",
       "      <td>3</td>\n",
       "      <td>1</td>\n",
       "      <td>10000.0</td>\n",
       "      <td>9.722334</td>\n",
       "      <td>97223.339613</td>\n",
       "    </tr>\n",
       "    <tr>\n",
       "      <th>139840</th>\n",
       "      <td>99853</td>\n",
       "      <td>1</td>\n",
       "      <td>3</td>\n",
       "      <td>1</td>\n",
       "      <td>10000.0</td>\n",
       "      <td>9.722334</td>\n",
       "      <td>97223.339613</td>\n",
       "    </tr>\n",
       "    <tr>\n",
       "      <th>139841</th>\n",
       "      <td>99854</td>\n",
       "      <td>1</td>\n",
       "      <td>3</td>\n",
       "      <td>1</td>\n",
       "      <td>8564.0</td>\n",
       "      <td>9.722334</td>\n",
       "      <td>83262.068045</td>\n",
       "    </tr>\n",
       "  </tbody>\n",
       "</table>\n",
       "<p>139842 rows × 7 columns</p>\n",
       "</div>"
      ],
      "text/plain": [
       "         tick  seller  buyer  product   amount      price         value\n",
       "0           0       0      2        0     10.0  15.154425    151.544248\n",
       "1           0       1      3        1     10.0   6.907915     69.079147\n",
       "2           1       1      3        1     96.0  11.280813   1082.958014\n",
       "3           1       0      2        0     96.0  15.292603   1468.089909\n",
       "4           2       1      3        1    689.0  11.280813   7772.479915\n",
       "...       ...     ...    ...      ...      ...        ...           ...\n",
       "139837  99850       1      3        1  10000.0   9.722334  97223.339613\n",
       "139838  99851       1      3        1  10000.0   9.722334  97223.339613\n",
       "139839  99852       1      3        1  10000.0   9.722334  97223.339613\n",
       "139840  99853       1      3        1  10000.0   9.722334  97223.339613\n",
       "139841  99854       1      3        1   8564.0   9.722334  83262.068045\n",
       "\n",
       "[139842 rows x 7 columns]"
      ]
     },
     "execution_count": 9,
     "metadata": {},
     "output_type": "execute_result"
    }
   ],
   "source": [
    "transaction_df"
   ]
  },
  {
   "cell_type": "code",
   "execution_count": 10,
   "id": "58165314",
   "metadata": {},
   "outputs": [
    {
     "data": {
      "text/plain": [
       "Text(0.5, 1.0, 'transaction count by tick')"
      ]
     },
     "execution_count": 10,
     "metadata": {},
     "output_type": "execute_result"
    },
    {
     "data": {
      "image/png": "[encoded data removed]",
      "text/plain": [
       "<Figure size 432x288 with 1 Axes>"
      ]
     },
     "metadata": {
      "needs_background": "light"
     },
     "output_type": "display_data"
    }
   ],
   "source": [
    "transaction_df.groupby(\"tick\")[\"price\"].count().plot()\n",
    "plt.title(\"transaction count by tick\")"
   ]
  },
  {
   "cell_type": "code",
   "execution_count": 11,
   "id": "ea9f0181",
   "metadata": {},
   "outputs": [
    {
     "data": {
      "text/plain": [
       "Text(0.5, 1.0, 'product 0 transaction count per tick')"
      ]
     },
     "execution_count": 11,
     "metadata": {},
     "output_type": "execute_result"
    },
    {
     "data": {
      "image/png": "[encoded data removed]",
      "text/plain": [
       "<Figure size 432x288 with 1 Axes>"
      ]
     },
     "metadata": {
      "needs_background": "light"
     },
     "output_type": "display_data"
    }
   ],
   "source": [
    "transaction_df[transaction_df[\"product\"] == 0].groupby(\"tick\")[\"price\"].count().plot()\n",
    "plt.title(\"product 0 transaction count per tick\")"
   ]
  },
  {
   "cell_type": "code",
   "execution_count": 12,
   "id": "d2dfec84",
   "metadata": {},
   "outputs": [
    {
     "data": {
      "text/plain": [
       "Text(0.5, 1.0, 'transaction unit quantity per tick')"
      ]
     },
     "execution_count": 12,
     "metadata": {},
     "output_type": "execute_result"
    },
    {
     "data": {
      "image/png": "[encoded data removed]",
      "text/plain": [
       "<Figure size 432x288 with 1 Axes>"
      ]
     },
     "metadata": {
      "needs_background": "light"
     },
     "output_type": "display_data"
    }
   ],
   "source": [
    "transaction_df.groupby(\"tick\")[\"amount\"].sum().plot()\n",
    "plt.title(\"transaction unit quantity per tick\")"
   ]
  },
  {
   "cell_type": "code",
   "execution_count": 13,
   "id": "57217f8c",
   "metadata": {},
   "outputs": [
    {
     "data": {
      "text/plain": [
       "Text(0.5, 1.0, 'transaction value per tick')"
      ]
     },
     "execution_count": 13,
     "metadata": {},
     "output_type": "execute_result"
    },
    {
     "data": {
      "image/png": "[encoded data removed]",
      "text/plain": [
       "<Figure size 432x288 with 1 Axes>"
      ]
     },
     "metadata": {
      "needs_background": "light"
     },
     "output_type": "display_data"
    }
   ],
   "source": [
    "transaction_df.groupby(\"tick\")[\"value\"].sum().plot()\n",
    "plt.title(\"transaction value per tick\")"
   ]
  },
  {
   "cell_type": "code",
   "execution_count": 14,
   "id": "923f356b",
   "metadata": {},
   "outputs": [
    {
     "data": {
      "text/plain": [
       "Text(0.5, 1.0, 'distinct products sold per tick')"
      ]
     },
     "execution_count": 14,
     "metadata": {},
     "output_type": "execute_result"
    },
    {
     "data": {
      "image/png": "[encoded data removed]",
      "text/plain": [
       "<Figure size 432x288 with 1 Axes>"
      ]
     },
     "metadata": {
      "needs_background": "light"
     },
     "output_type": "display_data"
    }
   ],
   "source": [
    "transaction_df.groupby(\"tick\")[\"product\"].nunique().plot()\n",
    "plt.title(\"distinct products sold per tick\") "
   ]
  },
  {
   "cell_type": "code",
   "execution_count": 15,
   "id": "1bd20b91",
   "metadata": {},
   "outputs": [
    {
     "data": {
      "text/plain": [
       "Text(0.5, 1.0, 'distinct sellers per tick')"
      ]
     },
     "execution_count": 15,
     "metadata": {},
     "output_type": "execute_result"
    },
    {
     "data": {
      "image/png": "[encoded data removed]",
      "text/plain": [
       "<Figure size 432x288 with 1 Axes>"
      ]
     },
     "metadata": {
      "needs_background": "light"
     },
     "output_type": "display_data"
    }
   ],
   "source": [
    "transaction_df.groupby(\"tick\")[\"seller\"].nunique().plot()\n",
    "plt.title(\"distinct sellers per tick\")"
   ]
  },
  {
   "cell_type": "code",
   "execution_count": 16,
   "id": "501a34d5",
   "metadata": {},
   "outputs": [
    {
     "data": {
      "text/plain": [
       "Text(0.5, 1.0, 'distinct buyers per tick')"
      ]
     },
     "execution_count": 16,
     "metadata": {},
     "output_type": "execute_result"
    },
    {
     "data": {
      "image/png": "[encoded data removed]",
      "text/plain": [
       "<Figure size 432x288 with 1 Axes>"
      ]
     },
     "metadata": {
      "needs_background": "light"
     },
     "output_type": "display_data"
    }
   ],
   "source": [
    "transaction_df.groupby(\"tick\")[\"buyer\"].nunique().plot()\n",
    "plt.title(\"distinct buyers per tick\")"
   ]
  },
  {
   "cell_type": "code",
   "execution_count": 17,
   "id": "31a507f8",
   "metadata": {},
   "outputs": [
    {
     "data": {
      "text/plain": [
       "4"
      ]
     },
     "execution_count": 17,
     "metadata": {},
     "output_type": "execute_result"
    }
   ],
   "source": [
    "transaction_df[\"seller\"].nunique()"
   ]
  },
  {
   "cell_type": "code",
   "execution_count": 18,
   "id": "d043ecf1",
   "metadata": {},
   "outputs": [
    {
     "data": {
      "text/plain": [
       "5"
      ]
     },
     "execution_count": 18,
     "metadata": {},
     "output_type": "execute_result"
    }
   ],
   "source": [
    "transaction_df[\"buyer\"].nunique()"
   ]
  },
  {
   "cell_type": "code",
   "execution_count": 19,
   "id": "eed1ef75",
   "metadata": {},
   "outputs": [
    {
     "data": {
      "text/plain": [
       "4"
      ]
     },
     "execution_count": 19,
     "metadata": {},
     "output_type": "execute_result"
    }
   ],
   "source": [
    "transaction_df[\"product\"].nunique()"
   ]
  },
  {
   "cell_type": "code",
   "execution_count": 20,
   "id": "c8f19015",
   "metadata": {},
   "outputs": [
    {
     "data": {
      "text/plain": [
       "<AxesSubplot:>"
      ]
     },
     "execution_count": 20,
     "metadata": {},
     "output_type": "execute_result"
    },
    {
     "data": {
      "image/png": "[encoded data removed]",
      "text/plain": [
       "<Figure size 720x360 with 1 Axes>"
      ]
     },
     "metadata": {
      "needs_background": "light"
     },
     "output_type": "display_data"
    }
   ],
   "source": [
    "plt.figure(figsize=(10,5))\n",
    "transaction_df[\"product\"].hist(bins=transaction_df[\"product\"].max()+1)"
   ]
  },
  {
   "cell_type": "code",
   "execution_count": 21,
   "id": "1c2cef64",
   "metadata": {},
   "outputs": [
    {
     "data": {
      "text/plain": [
       "Text(0.5, 1.0, 'max product id sold each tick')"
      ]
     },
     "execution_count": 21,
     "metadata": {},
     "output_type": "execute_result"
    },
    {
     "data": {
      "image/png": "[encoded data removed]",
      "text/plain": [
       "<Figure size 432x288 with 1 Axes>"
      ]
     },
     "metadata": {
      "needs_background": "light"
     },
     "output_type": "display_data"
    }
   ],
   "source": [
    "transaction_df.groupby(\"tick\")[\"product\"].max().plot()\n",
    "plt.title(\"max product id sold each tick\")"
   ]
  },
  {
   "cell_type": "code",
   "execution_count": 22,
   "id": "ec8c1ac8",
   "metadata": {},
   "outputs": [
    {
     "data": {
      "text/plain": [
       "count    411.000000\n",
       "mean      12.939044\n",
       "std        2.372355\n",
       "min        7.861908\n",
       "25%       11.070473\n",
       "50%       13.056007\n",
       "75%       15.960157\n",
       "max       16.029866\n",
       "Name: price, dtype: float64"
      ]
     },
     "execution_count": 22,
     "metadata": {},
     "output_type": "execute_result"
    }
   ],
   "source": [
    "transaction_df[transaction_df[\"seller\"] == 3][\"price\"].describe()"
   ]
  },
  {
   "cell_type": "code",
   "execution_count": 76,
   "id": "04db3ed7",
   "metadata": {},
   "outputs": [
    {
     "data": {
      "text/plain": [
       "Text(0.5, 1.0, 'price of product 0 over time')"
      ]
     },
     "execution_count": 76,
     "metadata": {},
     "output_type": "execute_result"
    },
    {
     "data": {
      "image/png": "[encoded data removed]",
      "text/plain": [
       "<Figure size 432x288 with 1 Axes>"
      ]
     },
     "metadata": {
      "needs_background": "light"
     },
     "output_type": "display_data"
    }
   ],
   "source": [
    "transaction_df[transaction_df[\"seller\"] == 0][\"price\"].plot()\n",
    "plt.title(\"price of product 0 over time\")"
   ]
  },
  {
   "cell_type": "code",
   "execution_count": 83,
   "id": "1ce2fa6a",
   "metadata": {},
   "outputs": [
    {
     "data": {
      "text/plain": [
       "Text(0.5, 1.0, 'price of product 2 over time')"
      ]
     },
     "execution_count": 83,
     "metadata": {},
     "output_type": "execute_result"
    },
    {
     "data": {
      "image/png": "[encoded data removed]",
      "text/plain": [
       "<Figure size 432x288 with 1 Axes>"
      ]
     },
     "metadata": {
      "needs_background": "light"
     },
     "output_type": "display_data"
    }
   ],
   "source": [
    "transaction_df[transaction_df[\"seller\"] == 2][\"price\"].plot()\n",
    "plt.title(\"price of product 2 over time\")"
   ]
  },
  {
   "cell_type": "code",
   "execution_count": 24,
   "id": "0c85c0d3",
   "metadata": {},
   "outputs": [
    {
     "data": {
      "text/plain": [
       "Text(0.5, 1.0, 'price of product 6 over time')"
      ]
     },
     "execution_count": 24,
     "metadata": {},
     "output_type": "execute_result"
    },
    {
     "data": {
      "image/png": "[encoded data removed]",
      "text/plain": [
       "<Figure size 432x288 with 1 Axes>"
      ]
     },
     "metadata": {
      "needs_background": "light"
     },
     "output_type": "display_data"
    }
   ],
   "source": [
    "transaction_df[transaction_df[\"seller\"] == 6][\"price\"].plot()\n",
    "plt.title(\"price of product 6 over time\")"
   ]
  },
  {
   "cell_type": "code",
   "execution_count": 25,
   "id": "8161ff8e",
   "metadata": {},
   "outputs": [
    {
     "data": {
      "text/plain": [
       "<AxesSubplot:>"
      ]
     },
     "execution_count": 25,
     "metadata": {},
     "output_type": "execute_result"
    },
    {
     "data": {
      "image/png": "[encoded data removed]",
      "text/plain": [
       "<Figure size 432x288 with 1 Axes>"
      ]
     },
     "metadata": {
      "needs_background": "light"
     },
     "output_type": "display_data"
    }
   ],
   "source": [
    "transaction_df[transaction_df[\"buyer\"] == 3][\"price\"].hist()"
   ]
  },
  {
   "cell_type": "code",
   "execution_count": 26,
   "id": "d3d3c22d",
   "metadata": {},
   "outputs": [
    {
     "data": {
      "image/png": "[encoded data removed]",
      "text/plain": [
       "<Figure size 432x288 with 1 Axes>"
      ]
     },
     "metadata": {
      "needs_background": "light"
     },
     "output_type": "display_data"
    }
   ],
   "source": [
    "plt.scatter(transaction_df[transaction_df[\"product\"] == 0].groupby(\"tick\")[\"price\"].mean(), transaction_df[transaction_df[\"product\"] == 0].groupby(\"tick\")[\"value\"].sum())\n",
    "plt.title(\"price vs revenue for product 0\")\n",
    "plt.show()"
   ]
  },
  {
   "cell_type": "code",
   "execution_count": 74,
   "id": "85646318",
   "metadata": {},
   "outputs": [
    {
     "data": {
      "image/png": "[encoded data removed]",
      "text/plain": [
       "<Figure size 432x288 with 1 Axes>"
      ]
     },
     "metadata": {
      "needs_background": "light"
     },
     "output_type": "display_data"
    }
   ],
   "source": [
    "plt.scatter(transaction_df[transaction_df[\"product\"] == 3].groupby(\"tick\")[\"price\"].mean(), transaction_df[transaction_df[\"product\"] == 3].groupby(\"tick\")[\"value\"].sum())\n",
    "plt.title(\"price vs revenue for product 3\")\n",
    "plt.show()"
   ]
  },
  {
   "cell_type": "code",
   "execution_count": 27,
   "id": "77f75892",
   "metadata": {},
   "outputs": [
    {
     "data": {
      "text/html": [
       "<div>\n",
       "<style scoped>\n",
       "    .dataframe tbody tr th:only-of-type {\n",
       "        vertical-align: middle;\n",
       "    }\n",
       "\n",
       "    .dataframe tbody tr th {\n",
       "        vertical-align: top;\n",
       "    }\n",
       "\n",
       "    .dataframe thead th {\n",
       "        text-align: right;\n",
       "    }\n",
       "</style>\n",
       "<table border=\"1\" class=\"dataframe\">\n",
       "  <thead>\n",
       "    <tr style=\"text-align: right;\">\n",
       "      <th></th>\n",
       "      <th>tick</th>\n",
       "      <th>seller</th>\n",
       "      <th>buyer</th>\n",
       "      <th>product</th>\n",
       "      <th>amount</th>\n",
       "      <th>price</th>\n",
       "      <th>value</th>\n",
       "    </tr>\n",
       "  </thead>\n",
       "  <tbody>\n",
       "    <tr>\n",
       "      <th>0</th>\n",
       "      <td>0</td>\n",
       "      <td>0</td>\n",
       "      <td>2</td>\n",
       "      <td>0</td>\n",
       "      <td>10.0</td>\n",
       "      <td>15.154425</td>\n",
       "      <td>151.544248</td>\n",
       "    </tr>\n",
       "    <tr>\n",
       "      <th>3</th>\n",
       "      <td>1</td>\n",
       "      <td>0</td>\n",
       "      <td>2</td>\n",
       "      <td>0</td>\n",
       "      <td>96.0</td>\n",
       "      <td>15.292603</td>\n",
       "      <td>1468.089909</td>\n",
       "    </tr>\n",
       "    <tr>\n",
       "      <th>5</th>\n",
       "      <td>2</td>\n",
       "      <td>0</td>\n",
       "      <td>2</td>\n",
       "      <td>0</td>\n",
       "      <td>927.0</td>\n",
       "      <td>15.292603</td>\n",
       "      <td>14176.243187</td>\n",
       "    </tr>\n",
       "    <tr>\n",
       "      <th>7</th>\n",
       "      <td>3</td>\n",
       "      <td>0</td>\n",
       "      <td>2</td>\n",
       "      <td>0</td>\n",
       "      <td>2149.0</td>\n",
       "      <td>15.292603</td>\n",
       "      <td>32863.804324</td>\n",
       "    </tr>\n",
       "    <tr>\n",
       "      <th>9</th>\n",
       "      <td>4</td>\n",
       "      <td>0</td>\n",
       "      <td>2</td>\n",
       "      <td>0</td>\n",
       "      <td>4491.0</td>\n",
       "      <td>15.292603</td>\n",
       "      <td>68679.081069</td>\n",
       "    </tr>\n",
       "    <tr>\n",
       "      <th>...</th>\n",
       "      <td>...</td>\n",
       "      <td>...</td>\n",
       "      <td>...</td>\n",
       "      <td>...</td>\n",
       "      <td>...</td>\n",
       "      <td>...</td>\n",
       "      <td>...</td>\n",
       "    </tr>\n",
       "    <tr>\n",
       "      <th>99688</th>\n",
       "      <td>52364</td>\n",
       "      <td>0</td>\n",
       "      <td>2</td>\n",
       "      <td>0</td>\n",
       "      <td>10000.0</td>\n",
       "      <td>14.556238</td>\n",
       "      <td>145562.381077</td>\n",
       "    </tr>\n",
       "    <tr>\n",
       "      <th>99690</th>\n",
       "      <td>52365</td>\n",
       "      <td>0</td>\n",
       "      <td>2</td>\n",
       "      <td>0</td>\n",
       "      <td>10000.0</td>\n",
       "      <td>14.556238</td>\n",
       "      <td>145562.381077</td>\n",
       "    </tr>\n",
       "    <tr>\n",
       "      <th>99692</th>\n",
       "      <td>52366</td>\n",
       "      <td>0</td>\n",
       "      <td>2</td>\n",
       "      <td>0</td>\n",
       "      <td>10000.0</td>\n",
       "      <td>14.556238</td>\n",
       "      <td>145562.381077</td>\n",
       "    </tr>\n",
       "    <tr>\n",
       "      <th>99694</th>\n",
       "      <td>52367</td>\n",
       "      <td>0</td>\n",
       "      <td>2</td>\n",
       "      <td>0</td>\n",
       "      <td>10000.0</td>\n",
       "      <td>14.556238</td>\n",
       "      <td>145562.381077</td>\n",
       "    </tr>\n",
       "    <tr>\n",
       "      <th>99696</th>\n",
       "      <td>52368</td>\n",
       "      <td>0</td>\n",
       "      <td>2</td>\n",
       "      <td>0</td>\n",
       "      <td>5784.0</td>\n",
       "      <td>14.556238</td>\n",
       "      <td>84193.281215</td>\n",
       "    </tr>\n",
       "  </tbody>\n",
       "</table>\n",
       "<p>46041 rows × 7 columns</p>\n",
       "</div>"
      ],
      "text/plain": [
       "        tick  seller  buyer  product   amount      price          value\n",
       "0          0       0      2        0     10.0  15.154425     151.544248\n",
       "3          1       0      2        0     96.0  15.292603    1468.089909\n",
       "5          2       0      2        0    927.0  15.292603   14176.243187\n",
       "7          3       0      2        0   2149.0  15.292603   32863.804324\n",
       "9          4       0      2        0   4491.0  15.292603   68679.081069\n",
       "...      ...     ...    ...      ...      ...        ...            ...\n",
       "99688  52364       0      2        0  10000.0  14.556238  145562.381077\n",
       "99690  52365       0      2        0  10000.0  14.556238  145562.381077\n",
       "99692  52366       0      2        0  10000.0  14.556238  145562.381077\n",
       "99694  52367       0      2        0  10000.0  14.556238  145562.381077\n",
       "99696  52368       0      2        0   5784.0  14.556238   84193.281215\n",
       "\n",
       "[46041 rows x 7 columns]"
      ]
     },
     "execution_count": 27,
     "metadata": {},
     "output_type": "execute_result"
    }
   ],
   "source": [
    "transaction_df[(transaction_df[\"price\"] > 12) & (transaction_df[\"product\"] == 0)]"
   ]
  },
  {
   "cell_type": "markdown",
   "id": "7ee9470e",
   "metadata": {},
   "source": [
    "## Transaction Graph"
   ]
  },
  {
   "cell_type": "code",
   "execution_count": 28,
   "id": "214f1a71",
   "metadata": {},
   "outputs": [],
   "source": [
    "G = nx.from_pandas_edgelist(transaction_df, source=\"seller\", target=\"buyer\", create_using=nx.DiGraph)"
   ]
  },
  {
   "cell_type": "code",
   "execution_count": 29,
   "id": "5f347534",
   "metadata": {},
   "outputs": [],
   "source": [
    "labels = pd.DataFrame(transaction_df.groupby(\"seller\")[\"product\"].first()).apply(lambda x: f'{x.name}:{x[\"product\"]}', axis=1)"
   ]
  },
  {
   "cell_type": "code",
   "execution_count": 30,
   "id": "1081357e",
   "metadata": {},
   "outputs": [],
   "source": [
    "G = nx.relabel_nodes(G, labels)"
   ]
  },
  {
   "cell_type": "code",
   "execution_count": 31,
   "id": "8f218e8f",
   "metadata": {},
   "outputs": [
    {
     "data": {
      "text/plain": [
       "True"
      ]
     },
     "execution_count": 31,
     "metadata": {},
     "output_type": "execute_result"
    }
   ],
   "source": [
    "nx.is_directed_acyclic_graph(G)"
   ]
  },
  {
   "cell_type": "code",
   "execution_count": 32,
   "id": "3403689a",
   "metadata": {},
   "outputs": [
    {
     "data": {
      "image/png": "[encoded data removed]",
      "text/plain": [
       "<Figure size 1080x1080 with 1 Axes>"
      ]
     },
     "metadata": {},
     "output_type": "display_data"
    }
   ],
   "source": [
    "plt.figure(figsize=(15, 15))\n",
    "#nx.draw_kamada_kawai(G, arrows=True)\n",
    "pos = graphviz_layout(G, prog='dot')\n",
    "nx.draw(G, pos, with_labels=True, arrows=True)\n",
    "plt.show()"
   ]
  },
  {
   "cell_type": "markdown",
   "id": "a6afc700",
   "metadata": {},
   "source": [
    "# Balance"
   ]
  },
  {
   "cell_type": "code",
   "execution_count": 33,
   "id": "a2e126a5",
   "metadata": {},
   "outputs": [],
   "source": [
    "balance_df = econ_sim.read_tick_log_to_df(open(\"/tmp/balance.log\", \"rb\"), index_name=\"agent\", column_names=[\"balance\"])\n",
    "balance_df.reset_index(inplace=True)"
   ]
  },
  {
   "cell_type": "code",
   "execution_count": 34,
   "id": "91e8cf4b",
   "metadata": {},
   "outputs": [
    {
     "data": {
      "text/html": [
       "<div>\n",
       "<style scoped>\n",
       "    .dataframe tbody tr th:only-of-type {\n",
       "        vertical-align: middle;\n",
       "    }\n",
       "\n",
       "    .dataframe tbody tr th {\n",
       "        vertical-align: top;\n",
       "    }\n",
       "\n",
       "    .dataframe thead th {\n",
       "        text-align: right;\n",
       "    }\n",
       "</style>\n",
       "<table border=\"1\" class=\"dataframe\">\n",
       "  <thead>\n",
       "    <tr style=\"text-align: right;\">\n",
       "      <th></th>\n",
       "      <th>tick</th>\n",
       "      <th>balance</th>\n",
       "    </tr>\n",
       "    <tr>\n",
       "      <th>agent</th>\n",
       "      <th></th>\n",
       "      <th></th>\n",
       "    </tr>\n",
       "  </thead>\n",
       "  <tbody>\n",
       "    <tr>\n",
       "      <th>0</th>\n",
       "      <td>0</td>\n",
       "      <td>7.578353e+03</td>\n",
       "    </tr>\n",
       "    <tr>\n",
       "      <th>1</th>\n",
       "      <td>0</td>\n",
       "      <td>3.510630e+03</td>\n",
       "    </tr>\n",
       "    <tr>\n",
       "      <th>2</th>\n",
       "      <td>0</td>\n",
       "      <td>1.260592e+09</td>\n",
       "    </tr>\n",
       "    <tr>\n",
       "      <th>3</th>\n",
       "      <td>0</td>\n",
       "      <td>1.709880e+09</td>\n",
       "    </tr>\n",
       "    <tr>\n",
       "      <th>4</th>\n",
       "      <td>0</td>\n",
       "      <td>1.259027e+08</td>\n",
       "    </tr>\n",
       "    <tr>\n",
       "      <th>5</th>\n",
       "      <td>0</td>\n",
       "      <td>1.960790e+09</td>\n",
       "    </tr>\n",
       "    <tr>\n",
       "      <th>6</th>\n",
       "      <td>0</td>\n",
       "      <td>9.333250e+06</td>\n",
       "    </tr>\n",
       "  </tbody>\n",
       "</table>\n",
       "</div>"
      ],
      "text/plain": [
       "       tick       balance\n",
       "agent                    \n",
       "0         0  7.578353e+03\n",
       "1         0  3.510630e+03\n",
       "2         0  1.260592e+09\n",
       "3         0  1.709880e+09\n",
       "4         0  1.259027e+08\n",
       "5         0  1.960790e+09\n",
       "6         0  9.333250e+06"
      ]
     },
     "execution_count": 34,
     "metadata": {},
     "output_type": "execute_result"
    }
   ],
   "source": [
    "balance_df[balance_df[\"tick\"] == balance_df[\"tick\"].min()].set_index(\"agent\")"
   ]
  },
  {
   "cell_type": "code",
   "execution_count": 35,
   "id": "2ba7e9e8",
   "metadata": {},
   "outputs": [
    {
     "data": {
      "text/html": [
       "<div>\n",
       "<style scoped>\n",
       "    .dataframe tbody tr th:only-of-type {\n",
       "        vertical-align: middle;\n",
       "    }\n",
       "\n",
       "    .dataframe tbody tr th {\n",
       "        vertical-align: top;\n",
       "    }\n",
       "\n",
       "    .dataframe thead th {\n",
       "        text-align: right;\n",
       "    }\n",
       "</style>\n",
       "<table border=\"1\" class=\"dataframe\">\n",
       "  <thead>\n",
       "    <tr style=\"text-align: right;\">\n",
       "      <th></th>\n",
       "      <th>tick</th>\n",
       "      <th>balance</th>\n",
       "    </tr>\n",
       "    <tr>\n",
       "      <th>agent</th>\n",
       "      <th></th>\n",
       "      <th></th>\n",
       "    </tr>\n",
       "  </thead>\n",
       "  <tbody>\n",
       "    <tr>\n",
       "      <th>0</th>\n",
       "      <td>99999</td>\n",
       "      <td>4.363660e+09</td>\n",
       "    </tr>\n",
       "    <tr>\n",
       "      <th>1</th>\n",
       "      <td>99999</td>\n",
       "      <td>3.599515e+09</td>\n",
       "    </tr>\n",
       "    <tr>\n",
       "      <th>2</th>\n",
       "      <td>99999</td>\n",
       "      <td>1.251867e+01</td>\n",
       "    </tr>\n",
       "    <tr>\n",
       "      <th>3</th>\n",
       "      <td>99999</td>\n",
       "      <td>7.397368e+00</td>\n",
       "    </tr>\n",
       "    <tr>\n",
       "      <th>4</th>\n",
       "      <td>99999</td>\n",
       "      <td>3.821594e+08</td>\n",
       "    </tr>\n",
       "    <tr>\n",
       "      <th>5</th>\n",
       "      <td>99999</td>\n",
       "      <td>1.972308e+09</td>\n",
       "    </tr>\n",
       "    <tr>\n",
       "      <th>6</th>\n",
       "      <td>99999</td>\n",
       "      <td>1.584504e+07</td>\n",
       "    </tr>\n",
       "  </tbody>\n",
       "</table>\n",
       "</div>"
      ],
      "text/plain": [
       "        tick       balance\n",
       "agent                     \n",
       "0      99999  4.363660e+09\n",
       "1      99999  3.599515e+09\n",
       "2      99999  1.251867e+01\n",
       "3      99999  7.397368e+00\n",
       "4      99999  3.821594e+08\n",
       "5      99999  1.972308e+09\n",
       "6      99999  1.584504e+07"
      ]
     },
     "execution_count": 35,
     "metadata": {},
     "output_type": "execute_result"
    }
   ],
   "source": [
    "balance_df[balance_df[\"tick\"] == balance_df[\"tick\"].max()].set_index(\"agent\")"
   ]
  },
  {
   "cell_type": "code",
   "execution_count": 36,
   "id": "9cae1904",
   "metadata": {},
   "outputs": [
    {
     "data": {
      "text/plain": [
       "<AxesSubplot:xlabel='tick'>"
      ]
     },
     "execution_count": 36,
     "metadata": {},
     "output_type": "execute_result"
    },
    {
     "data": {
      "image/png": "[encoded data removed]",
      "text/plain": [
       "<Figure size 432x288 with 1 Axes>"
      ]
     },
     "metadata": {
      "needs_background": "light"
     },
     "output_type": "display_data"
    }
   ],
   "source": [
    "balance_df.groupby(\"tick\")[\"balance\"].sum().plot()"
   ]
  },
  {
   "cell_type": "code",
   "execution_count": 37,
   "id": "93106752",
   "metadata": {},
   "outputs": [
    {
     "data": {
      "text/plain": [
       "count    7.000000e+00\n",
       "mean     7.237870e+08\n",
       "std      8.856584e+08\n",
       "min      3.510630e+03\n",
       "25%      4.670414e+06\n",
       "50%      1.259027e+08\n",
       "75%      1.485236e+09\n",
       "max      1.960790e+09\n",
       "Name: balance, dtype: float64"
      ]
     },
     "execution_count": 37,
     "metadata": {},
     "output_type": "execute_result"
    }
   ],
   "source": [
    "balance_df[balance_df[\"tick\"] == balance_df[\"tick\"].min()][\"balance\"].describe()"
   ]
  },
  {
   "cell_type": "code",
   "execution_count": 38,
   "id": "6d8fcb92",
   "metadata": {},
   "outputs": [
    {
     "data": {
      "text/plain": [
       "count    7.000000e+00\n",
       "mean     1.476213e+09\n",
       "std      1.860999e+09\n",
       "min      7.397368e+00\n",
       "25%      7.922527e+06\n",
       "50%      3.821594e+08\n",
       "75%      2.785912e+09\n",
       "max      4.363660e+09\n",
       "Name: balance, dtype: float64"
      ]
     },
     "execution_count": 38,
     "metadata": {},
     "output_type": "execute_result"
    }
   ],
   "source": [
    "balance_df[balance_df[\"tick\"] == balance_df[\"tick\"].max()][\"balance\"].describe()"
   ]
  },
  {
   "cell_type": "code",
   "execution_count": 39,
   "id": "129c6c5d",
   "metadata": {},
   "outputs": [],
   "source": [
    "ltb_df = balance_df[balance_df[\"tick\"] == balance_df[\"tick\"].max()]"
   ]
  },
  {
   "cell_type": "code",
   "execution_count": 40,
   "id": "969f09a5",
   "metadata": {},
   "outputs": [
    {
     "data": {
      "text/plain": [
       "<BarContainer object of 7 artists>"
      ]
     },
     "execution_count": 40,
     "metadata": {},
     "output_type": "execute_result"
    },
    {
     "data": {
      "image/png": "[encoded data removed]",
      "text/plain": [
       "<Figure size 432x288 with 1 Axes>"
      ]
     },
     "metadata": {
      "needs_background": "light"
     },
     "output_type": "display_data"
    }
   ],
   "source": [
    "plt.bar(balance_df[balance_df[\"tick\"] == balance_df[\"tick\"].min()][\"agent\"], balance_df[balance_df[\"tick\"] == balance_df[\"tick\"].min()][\"balance\"])"
   ]
  },
  {
   "cell_type": "code",
   "execution_count": 41,
   "id": "4cebd6e0",
   "metadata": {},
   "outputs": [
    {
     "data": {
      "text/plain": [
       "<BarContainer object of 7 artists>"
      ]
     },
     "execution_count": 41,
     "metadata": {},
     "output_type": "execute_result"
    },
    {
     "data": {
      "image/png": "[encoded data removed]",
      "text/plain": [
       "<Figure size 432x288 with 1 Axes>"
      ]
     },
     "metadata": {
      "needs_background": "light"
     },
     "output_type": "display_data"
    }
   ],
   "source": [
    "plt.bar(balance_df[balance_df[\"tick\"] == balance_df[\"tick\"].max()][\"agent\"], balance_df[balance_df[\"tick\"] == balance_df[\"tick\"].max()][\"balance\"])"
   ]
  },
  {
   "cell_type": "code",
   "execution_count": 42,
   "id": "cc3f8902",
   "metadata": {},
   "outputs": [
    {
     "data": {
      "text/html": [
       "<div>\n",
       "<style scoped>\n",
       "    .dataframe tbody tr th:only-of-type {\n",
       "        vertical-align: middle;\n",
       "    }\n",
       "\n",
       "    .dataframe tbody tr th {\n",
       "        vertical-align: top;\n",
       "    }\n",
       "\n",
       "    .dataframe thead th {\n",
       "        text-align: right;\n",
       "    }\n",
       "</style>\n",
       "<table border=\"1\" class=\"dataframe\">\n",
       "  <thead>\n",
       "    <tr style=\"text-align: right;\">\n",
       "      <th></th>\n",
       "      <th>agent</th>\n",
       "      <th>tick</th>\n",
       "      <th>balance</th>\n",
       "    </tr>\n",
       "  </thead>\n",
       "  <tbody>\n",
       "    <tr>\n",
       "      <th>699993</th>\n",
       "      <td>0</td>\n",
       "      <td>99999</td>\n",
       "      <td>4.363660e+09</td>\n",
       "    </tr>\n",
       "    <tr>\n",
       "      <th>699994</th>\n",
       "      <td>1</td>\n",
       "      <td>99999</td>\n",
       "      <td>3.599515e+09</td>\n",
       "    </tr>\n",
       "    <tr>\n",
       "      <th>699995</th>\n",
       "      <td>2</td>\n",
       "      <td>99999</td>\n",
       "      <td>1.251867e+01</td>\n",
       "    </tr>\n",
       "    <tr>\n",
       "      <th>699996</th>\n",
       "      <td>3</td>\n",
       "      <td>99999</td>\n",
       "      <td>7.397368e+00</td>\n",
       "    </tr>\n",
       "    <tr>\n",
       "      <th>699997</th>\n",
       "      <td>4</td>\n",
       "      <td>99999</td>\n",
       "      <td>3.821594e+08</td>\n",
       "    </tr>\n",
       "    <tr>\n",
       "      <th>699998</th>\n",
       "      <td>5</td>\n",
       "      <td>99999</td>\n",
       "      <td>1.972308e+09</td>\n",
       "    </tr>\n",
       "    <tr>\n",
       "      <th>699999</th>\n",
       "      <td>6</td>\n",
       "      <td>99999</td>\n",
       "      <td>1.584504e+07</td>\n",
       "    </tr>\n",
       "  </tbody>\n",
       "</table>\n",
       "</div>"
      ],
      "text/plain": [
       "        agent   tick       balance\n",
       "699993      0  99999  4.363660e+09\n",
       "699994      1  99999  3.599515e+09\n",
       "699995      2  99999  1.251867e+01\n",
       "699996      3  99999  7.397368e+00\n",
       "699997      4  99999  3.821594e+08\n",
       "699998      5  99999  1.972308e+09\n",
       "699999      6  99999  1.584504e+07"
      ]
     },
     "execution_count": 42,
     "metadata": {},
     "output_type": "execute_result"
    }
   ],
   "source": [
    "balance_df[balance_df[\"tick\"] == balance_df[\"tick\"].max()].head(50)"
   ]
  },
  {
   "cell_type": "code",
   "execution_count": 43,
   "id": "47ef654b",
   "metadata": {},
   "outputs": [
    {
     "data": {
      "text/plain": [
       "<AxesSubplot:>"
      ]
     },
     "execution_count": 43,
     "metadata": {},
     "output_type": "execute_result"
    },
    {
     "data": {
      "image/png": "[encoded data removed]",
      "text/plain": [
       "<Figure size 432x288 with 1 Axes>"
      ]
     },
     "metadata": {
      "needs_background": "light"
     },
     "output_type": "display_data"
    }
   ],
   "source": [
    "balance_df[balance_df[\"agent\"] == 3][\"balance\"].plot()"
   ]
  },
  {
   "cell_type": "markdown",
   "id": "1739d91e",
   "metadata": {},
   "source": [
    "# Inventory"
   ]
  },
  {
   "cell_type": "code",
   "execution_count": 44,
   "id": "f7404414",
   "metadata": {},
   "outputs": [],
   "source": [
    "#columns = list(map(lambda x: str(x), range(production_chain_df.shape[0])))\n",
    "columns=None\n",
    "inventory_df = econ_sim.read_tick_log_to_df(open(\"/tmp/inventory.log\", \"rb\"), index_name=\"agent\", column_names=columns)\n",
    "inventory_df.reset_index(inplace=True)"
   ]
  },
  {
   "cell_type": "markdown",
   "id": "e7d32ca8",
   "metadata": {},
   "source": [
    "### Last Tick Inventory"
   ]
  },
  {
   "cell_type": "code",
   "execution_count": 45,
   "id": "43563565",
   "metadata": {},
   "outputs": [
    {
     "data": {
      "text/html": [
       "<div>\n",
       "<style scoped>\n",
       "    .dataframe tbody tr th:only-of-type {\n",
       "        vertical-align: middle;\n",
       "    }\n",
       "\n",
       "    .dataframe tbody tr th {\n",
       "        vertical-align: top;\n",
       "    }\n",
       "\n",
       "    .dataframe thead th {\n",
       "        text-align: right;\n",
       "    }\n",
       "</style>\n",
       "<table border=\"1\" class=\"dataframe\">\n",
       "  <thead>\n",
       "    <tr style=\"text-align: right;\">\n",
       "      <th></th>\n",
       "      <th>agent</th>\n",
       "      <th>tick</th>\n",
       "      <th>0</th>\n",
       "      <th>1</th>\n",
       "      <th>2</th>\n",
       "      <th>3</th>\n",
       "      <th>4</th>\n",
       "      <th>5</th>\n",
       "      <th>6</th>\n",
       "    </tr>\n",
       "  </thead>\n",
       "  <tbody>\n",
       "    <tr>\n",
       "      <th>699993</th>\n",
       "      <td>0</td>\n",
       "      <td>99999</td>\n",
       "      <td>59430.0</td>\n",
       "      <td>0.0</td>\n",
       "      <td>0.0</td>\n",
       "      <td>0.0</td>\n",
       "      <td>0.0</td>\n",
       "      <td>0.0</td>\n",
       "      <td>0.0</td>\n",
       "    </tr>\n",
       "    <tr>\n",
       "      <th>699994</th>\n",
       "      <td>1</td>\n",
       "      <td>99999</td>\n",
       "      <td>0.0</td>\n",
       "      <td>86181.0</td>\n",
       "      <td>0.0</td>\n",
       "      <td>0.0</td>\n",
       "      <td>0.0</td>\n",
       "      <td>0.0</td>\n",
       "      <td>0.0</td>\n",
       "    </tr>\n",
       "    <tr>\n",
       "      <th>699995</th>\n",
       "      <td>2</td>\n",
       "      <td>99999</td>\n",
       "      <td>1443056.0</td>\n",
       "      <td>0.0</td>\n",
       "      <td>192239444.0</td>\n",
       "      <td>0.0</td>\n",
       "      <td>0.0</td>\n",
       "      <td>0.0</td>\n",
       "      <td>0.0</td>\n",
       "    </tr>\n",
       "    <tr>\n",
       "      <th>699996</th>\n",
       "      <td>3</td>\n",
       "      <td>99999</td>\n",
       "      <td>0.0</td>\n",
       "      <td>658191.0</td>\n",
       "      <td>0.0</td>\n",
       "      <td>324725403.0</td>\n",
       "      <td>0.0</td>\n",
       "      <td>0.0</td>\n",
       "      <td>0.0</td>\n",
       "    </tr>\n",
       "    <tr>\n",
       "      <th>699997</th>\n",
       "      <td>4</td>\n",
       "      <td>99999</td>\n",
       "      <td>0.0</td>\n",
       "      <td>0.0</td>\n",
       "      <td>0.0</td>\n",
       "      <td>37905.0</td>\n",
       "      <td>0.0</td>\n",
       "      <td>0.0</td>\n",
       "      <td>0.0</td>\n",
       "    </tr>\n",
       "    <tr>\n",
       "      <th>699998</th>\n",
       "      <td>5</td>\n",
       "      <td>99999</td>\n",
       "      <td>0.0</td>\n",
       "      <td>0.0</td>\n",
       "      <td>11004969.0</td>\n",
       "      <td>469611.0</td>\n",
       "      <td>0.0</td>\n",
       "      <td>0.0</td>\n",
       "      <td>0.0</td>\n",
       "    </tr>\n",
       "    <tr>\n",
       "      <th>699999</th>\n",
       "      <td>6</td>\n",
       "      <td>99999</td>\n",
       "      <td>0.0</td>\n",
       "      <td>0.0</td>\n",
       "      <td>68993.0</td>\n",
       "      <td>1251.0</td>\n",
       "      <td>0.0</td>\n",
       "      <td>0.0</td>\n",
       "      <td>0.0</td>\n",
       "    </tr>\n",
       "  </tbody>\n",
       "</table>\n",
       "</div>"
      ],
      "text/plain": [
       "        agent   tick          0         1            2            3    4    5  \\\n",
       "699993      0  99999    59430.0       0.0          0.0          0.0  0.0  0.0   \n",
       "699994      1  99999        0.0   86181.0          0.0          0.0  0.0  0.0   \n",
       "699995      2  99999  1443056.0       0.0  192239444.0          0.0  0.0  0.0   \n",
       "699996      3  99999        0.0  658191.0          0.0  324725403.0  0.0  0.0   \n",
       "699997      4  99999        0.0       0.0          0.0      37905.0  0.0  0.0   \n",
       "699998      5  99999        0.0       0.0   11004969.0     469611.0  0.0  0.0   \n",
       "699999      6  99999        0.0       0.0      68993.0       1251.0  0.0  0.0   \n",
       "\n",
       "          6  \n",
       "699993  0.0  \n",
       "699994  0.0  \n",
       "699995  0.0  \n",
       "699996  0.0  \n",
       "699997  0.0  \n",
       "699998  0.0  \n",
       "699999  0.0  "
      ]
     },
     "execution_count": 45,
     "metadata": {},
     "output_type": "execute_result"
    }
   ],
   "source": [
    "inventory_df[inventory_df[\"tick\"] == inventory_df[\"tick\"].max()]"
   ]
  },
  {
   "cell_type": "markdown",
   "id": "8a5bbe0a",
   "metadata": {},
   "source": [
    "### Produced Goods Inventory"
   ]
  },
  {
   "cell_type": "code",
   "execution_count": 46,
   "id": "bb3efefb",
   "metadata": {},
   "outputs": [
    {
     "data": {
      "text/html": [
       "<div>\n",
       "<style scoped>\n",
       "    .dataframe tbody tr th:only-of-type {\n",
       "        vertical-align: middle;\n",
       "    }\n",
       "\n",
       "    .dataframe tbody tr th {\n",
       "        vertical-align: top;\n",
       "    }\n",
       "\n",
       "    .dataframe thead th {\n",
       "        text-align: right;\n",
       "    }\n",
       "</style>\n",
       "<table border=\"1\" class=\"dataframe\">\n",
       "  <thead>\n",
       "    <tr style=\"text-align: right;\">\n",
       "      <th></th>\n",
       "      <th>0</th>\n",
       "      <th>1</th>\n",
       "      <th>2</th>\n",
       "      <th>3</th>\n",
       "      <th>4</th>\n",
       "      <th>5</th>\n",
       "      <th>6</th>\n",
       "      <th>tick</th>\n",
       "    </tr>\n",
       "  </thead>\n",
       "  <tbody>\n",
       "    <tr>\n",
       "      <th>0</th>\n",
       "      <td>59430.0</td>\n",
       "      <td>0.0</td>\n",
       "      <td>0.0</td>\n",
       "      <td>0.0</td>\n",
       "      <td>0.0</td>\n",
       "      <td>0.0</td>\n",
       "      <td>0.0</td>\n",
       "      <td>NaN</td>\n",
       "    </tr>\n",
       "    <tr>\n",
       "      <th>1</th>\n",
       "      <td>0.0</td>\n",
       "      <td>86181.0</td>\n",
       "      <td>0.0</td>\n",
       "      <td>0.0</td>\n",
       "      <td>0.0</td>\n",
       "      <td>0.0</td>\n",
       "      <td>0.0</td>\n",
       "      <td>NaN</td>\n",
       "    </tr>\n",
       "    <tr>\n",
       "      <th>2</th>\n",
       "      <td>0.0</td>\n",
       "      <td>0.0</td>\n",
       "      <td>192239444.0</td>\n",
       "      <td>0.0</td>\n",
       "      <td>0.0</td>\n",
       "      <td>0.0</td>\n",
       "      <td>0.0</td>\n",
       "      <td>NaN</td>\n",
       "    </tr>\n",
       "    <tr>\n",
       "      <th>3</th>\n",
       "      <td>0.0</td>\n",
       "      <td>0.0</td>\n",
       "      <td>0.0</td>\n",
       "      <td>324725403.0</td>\n",
       "      <td>0.0</td>\n",
       "      <td>0.0</td>\n",
       "      <td>0.0</td>\n",
       "      <td>NaN</td>\n",
       "    </tr>\n",
       "    <tr>\n",
       "      <th>4</th>\n",
       "      <td>0.0</td>\n",
       "      <td>0.0</td>\n",
       "      <td>0.0</td>\n",
       "      <td>0.0</td>\n",
       "      <td>0.0</td>\n",
       "      <td>0.0</td>\n",
       "      <td>0.0</td>\n",
       "      <td>NaN</td>\n",
       "    </tr>\n",
       "    <tr>\n",
       "      <th>5</th>\n",
       "      <td>0.0</td>\n",
       "      <td>0.0</td>\n",
       "      <td>0.0</td>\n",
       "      <td>0.0</td>\n",
       "      <td>0.0</td>\n",
       "      <td>0.0</td>\n",
       "      <td>0.0</td>\n",
       "      <td>NaN</td>\n",
       "    </tr>\n",
       "    <tr>\n",
       "      <th>6</th>\n",
       "      <td>0.0</td>\n",
       "      <td>0.0</td>\n",
       "      <td>0.0</td>\n",
       "      <td>0.0</td>\n",
       "      <td>0.0</td>\n",
       "      <td>0.0</td>\n",
       "      <td>0.0</td>\n",
       "      <td>NaN</td>\n",
       "    </tr>\n",
       "  </tbody>\n",
       "</table>\n",
       "</div>"
      ],
      "text/plain": [
       "         0        1            2            3    4    5    6  tick\n",
       "0  59430.0      0.0          0.0          0.0  0.0  0.0  0.0   NaN\n",
       "1      0.0  86181.0          0.0          0.0  0.0  0.0  0.0   NaN\n",
       "2      0.0      0.0  192239444.0          0.0  0.0  0.0  0.0   NaN\n",
       "3      0.0      0.0          0.0  324725403.0  0.0  0.0  0.0   NaN\n",
       "4      0.0      0.0          0.0          0.0  0.0  0.0  0.0   NaN\n",
       "5      0.0      0.0          0.0          0.0  0.0  0.0  0.0   NaN\n",
       "6      0.0      0.0          0.0          0.0  0.0  0.0  0.0   NaN"
      ]
     },
     "execution_count": 46,
     "metadata": {},
     "output_type": "execute_result"
    }
   ],
   "source": [
    "agent_goods_df * inventory_df[inventory_df[\"tick\"] == inventory_df[\"tick\"].max()].set_index(\"agent\")"
   ]
  },
  {
   "cell_type": "markdown",
   "id": "b3a4742e",
   "metadata": {},
   "source": [
    "### Input Resources Inventory"
   ]
  },
  {
   "cell_type": "code",
   "execution_count": 47,
   "id": "a64ccefb",
   "metadata": {},
   "outputs": [
    {
     "data": {
      "text/html": [
       "<div>\n",
       "<style scoped>\n",
       "    .dataframe tbody tr th:only-of-type {\n",
       "        vertical-align: middle;\n",
       "    }\n",
       "\n",
       "    .dataframe tbody tr th {\n",
       "        vertical-align: top;\n",
       "    }\n",
       "\n",
       "    .dataframe thead th {\n",
       "        text-align: right;\n",
       "    }\n",
       "</style>\n",
       "<table border=\"1\" class=\"dataframe\">\n",
       "  <thead>\n",
       "    <tr style=\"text-align: right;\">\n",
       "      <th></th>\n",
       "      <th>0</th>\n",
       "      <th>1</th>\n",
       "      <th>2</th>\n",
       "      <th>3</th>\n",
       "      <th>4</th>\n",
       "      <th>5</th>\n",
       "      <th>6</th>\n",
       "      <th>tick</th>\n",
       "    </tr>\n",
       "    <tr>\n",
       "      <th>agent</th>\n",
       "      <th></th>\n",
       "      <th></th>\n",
       "      <th></th>\n",
       "      <th></th>\n",
       "      <th></th>\n",
       "      <th></th>\n",
       "      <th></th>\n",
       "      <th></th>\n",
       "    </tr>\n",
       "  </thead>\n",
       "  <tbody>\n",
       "    <tr>\n",
       "      <th>0</th>\n",
       "      <td>0.0</td>\n",
       "      <td>0.0</td>\n",
       "      <td>0.0</td>\n",
       "      <td>0.0</td>\n",
       "      <td>0.0</td>\n",
       "      <td>0.0</td>\n",
       "      <td>0.0</td>\n",
       "      <td>NaN</td>\n",
       "    </tr>\n",
       "    <tr>\n",
       "      <th>1</th>\n",
       "      <td>0.0</td>\n",
       "      <td>0.0</td>\n",
       "      <td>0.0</td>\n",
       "      <td>0.0</td>\n",
       "      <td>0.0</td>\n",
       "      <td>0.0</td>\n",
       "      <td>0.0</td>\n",
       "      <td>NaN</td>\n",
       "    </tr>\n",
       "    <tr>\n",
       "      <th>2</th>\n",
       "      <td>1443056.0</td>\n",
       "      <td>0.0</td>\n",
       "      <td>0.0</td>\n",
       "      <td>0.0</td>\n",
       "      <td>0.0</td>\n",
       "      <td>0.0</td>\n",
       "      <td>0.0</td>\n",
       "      <td>NaN</td>\n",
       "    </tr>\n",
       "    <tr>\n",
       "      <th>3</th>\n",
       "      <td>0.0</td>\n",
       "      <td>658191.0</td>\n",
       "      <td>0.0</td>\n",
       "      <td>0.0</td>\n",
       "      <td>0.0</td>\n",
       "      <td>0.0</td>\n",
       "      <td>0.0</td>\n",
       "      <td>NaN</td>\n",
       "    </tr>\n",
       "    <tr>\n",
       "      <th>4</th>\n",
       "      <td>0.0</td>\n",
       "      <td>0.0</td>\n",
       "      <td>0.0</td>\n",
       "      <td>37905.0</td>\n",
       "      <td>0.0</td>\n",
       "      <td>0.0</td>\n",
       "      <td>0.0</td>\n",
       "      <td>NaN</td>\n",
       "    </tr>\n",
       "    <tr>\n",
       "      <th>5</th>\n",
       "      <td>0.0</td>\n",
       "      <td>0.0</td>\n",
       "      <td>11004969.0</td>\n",
       "      <td>469611.0</td>\n",
       "      <td>0.0</td>\n",
       "      <td>0.0</td>\n",
       "      <td>0.0</td>\n",
       "      <td>NaN</td>\n",
       "    </tr>\n",
       "    <tr>\n",
       "      <th>6</th>\n",
       "      <td>0.0</td>\n",
       "      <td>0.0</td>\n",
       "      <td>68993.0</td>\n",
       "      <td>1251.0</td>\n",
       "      <td>0.0</td>\n",
       "      <td>0.0</td>\n",
       "      <td>0.0</td>\n",
       "      <td>NaN</td>\n",
       "    </tr>\n",
       "  </tbody>\n",
       "</table>\n",
       "</div>"
      ],
      "text/plain": [
       "               0         1           2         3    4    5    6  tick\n",
       "agent                                                                \n",
       "0            0.0       0.0         0.0       0.0  0.0  0.0  0.0   NaN\n",
       "1            0.0       0.0         0.0       0.0  0.0  0.0  0.0   NaN\n",
       "2      1443056.0       0.0         0.0       0.0  0.0  0.0  0.0   NaN\n",
       "3            0.0  658191.0         0.0       0.0  0.0  0.0  0.0   NaN\n",
       "4            0.0       0.0         0.0   37905.0  0.0  0.0  0.0   NaN\n",
       "5            0.0       0.0  11004969.0  469611.0  0.0  0.0  0.0   NaN\n",
       "6            0.0       0.0     68993.0    1251.0  0.0  0.0  0.0   NaN"
      ]
     },
     "execution_count": 47,
     "metadata": {},
     "output_type": "execute_result"
    }
   ],
   "source": [
    "inventory_df[inventory_df[\"tick\"] == inventory_df[\"tick\"].max()].set_index(\"agent\") - agent_goods_df * inventory_df[inventory_df[\"tick\"] == inventory_df[\"tick\"].max()].set_index(\"agent\")"
   ]
  },
  {
   "cell_type": "markdown",
   "id": "5ad59a36",
   "metadata": {},
   "source": [
    "### Production Surplus/Deficit"
   ]
  },
  {
   "cell_type": "code",
   "execution_count": 48,
   "id": "99b55684",
   "metadata": {},
   "outputs": [
    {
     "data": {
      "text/html": [
       "<div>\n",
       "<style scoped>\n",
       "    .dataframe tbody tr th:only-of-type {\n",
       "        vertical-align: middle;\n",
       "    }\n",
       "\n",
       "    .dataframe tbody tr th {\n",
       "        vertical-align: top;\n",
       "    }\n",
       "\n",
       "    .dataframe thead th {\n",
       "        text-align: right;\n",
       "    }\n",
       "</style>\n",
       "<table border=\"1\" class=\"dataframe\">\n",
       "  <thead>\n",
       "    <tr style=\"text-align: right;\">\n",
       "      <th></th>\n",
       "      <th>0</th>\n",
       "      <th>1</th>\n",
       "      <th>2</th>\n",
       "      <th>3</th>\n",
       "      <th>4</th>\n",
       "      <th>5</th>\n",
       "      <th>6</th>\n",
       "      <th>tick</th>\n",
       "    </tr>\n",
       "    <tr>\n",
       "      <th>agent</th>\n",
       "      <th></th>\n",
       "      <th></th>\n",
       "      <th></th>\n",
       "      <th></th>\n",
       "      <th></th>\n",
       "      <th></th>\n",
       "      <th></th>\n",
       "      <th></th>\n",
       "    </tr>\n",
       "  </thead>\n",
       "  <tbody>\n",
       "    <tr>\n",
       "      <th>0</th>\n",
       "      <td>0.0</td>\n",
       "      <td>0.0</td>\n",
       "      <td>0.0</td>\n",
       "      <td>0.0</td>\n",
       "      <td>0.0</td>\n",
       "      <td>0.0</td>\n",
       "      <td>0.0</td>\n",
       "      <td>NaN</td>\n",
       "    </tr>\n",
       "    <tr>\n",
       "      <th>1</th>\n",
       "      <td>0.0</td>\n",
       "      <td>0.0</td>\n",
       "      <td>0.0</td>\n",
       "      <td>0.0</td>\n",
       "      <td>0.0</td>\n",
       "      <td>0.0</td>\n",
       "      <td>0.0</td>\n",
       "      <td>NaN</td>\n",
       "    </tr>\n",
       "    <tr>\n",
       "      <th>2</th>\n",
       "      <td>1443055.0</td>\n",
       "      <td>0.0</td>\n",
       "      <td>0.0</td>\n",
       "      <td>0.0</td>\n",
       "      <td>0.0</td>\n",
       "      <td>0.0</td>\n",
       "      <td>0.0</td>\n",
       "      <td>NaN</td>\n",
       "    </tr>\n",
       "    <tr>\n",
       "      <th>3</th>\n",
       "      <td>0.0</td>\n",
       "      <td>658190.0</td>\n",
       "      <td>0.0</td>\n",
       "      <td>0.0</td>\n",
       "      <td>0.0</td>\n",
       "      <td>0.0</td>\n",
       "      <td>0.0</td>\n",
       "      <td>NaN</td>\n",
       "    </tr>\n",
       "    <tr>\n",
       "      <th>4</th>\n",
       "      <td>0.0</td>\n",
       "      <td>0.0</td>\n",
       "      <td>0.0</td>\n",
       "      <td>-119179.0</td>\n",
       "      <td>0.0</td>\n",
       "      <td>0.0</td>\n",
       "      <td>0.0</td>\n",
       "      <td>NaN</td>\n",
       "    </tr>\n",
       "    <tr>\n",
       "      <th>5</th>\n",
       "      <td>0.0</td>\n",
       "      <td>0.0</td>\n",
       "      <td>9908839.0</td>\n",
       "      <td>-864791.0</td>\n",
       "      <td>0.0</td>\n",
       "      <td>0.0</td>\n",
       "      <td>0.0</td>\n",
       "      <td>NaN</td>\n",
       "    </tr>\n",
       "    <tr>\n",
       "      <th>6</th>\n",
       "      <td>0.0</td>\n",
       "      <td>0.0</td>\n",
       "      <td>62106.0</td>\n",
       "      <td>-3407.0</td>\n",
       "      <td>0.0</td>\n",
       "      <td>0.0</td>\n",
       "      <td>0.0</td>\n",
       "      <td>NaN</td>\n",
       "    </tr>\n",
       "  </tbody>\n",
       "</table>\n",
       "</div>"
      ],
      "text/plain": [
       "               0         1          2         3    4    5    6  tick\n",
       "agent                                                               \n",
       "0            0.0       0.0        0.0       0.0  0.0  0.0  0.0   NaN\n",
       "1            0.0       0.0        0.0       0.0  0.0  0.0  0.0   NaN\n",
       "2      1443055.0       0.0        0.0       0.0  0.0  0.0  0.0   NaN\n",
       "3            0.0  658190.0        0.0       0.0  0.0  0.0  0.0   NaN\n",
       "4            0.0       0.0        0.0 -119179.0  0.0  0.0  0.0   NaN\n",
       "5            0.0       0.0  9908839.0 -864791.0  0.0  0.0  0.0   NaN\n",
       "6            0.0       0.0    62106.0   -3407.0  0.0  0.0  0.0   NaN"
      ]
     },
     "execution_count": 48,
     "metadata": {},
     "output_type": "execute_result"
    }
   ],
   "source": [
    "(inventory_df[inventory_df[\"tick\"] == inventory_df[\"tick\"].max()].set_index(\"agent\") - agent_goods_df * inventory_df[inventory_df[\"tick\"] == inventory_df[\"tick\"].max()].set_index(\"agent\")) - (agent_goods_df @ production_chain_df.T)"
   ]
  },
  {
   "cell_type": "markdown",
   "id": "7a7d0d1a",
   "metadata": {},
   "source": [
    "# Buy and Sell Prices"
   ]
  },
  {
   "cell_type": "code",
   "execution_count": 49,
   "id": "0d969350",
   "metadata": {},
   "outputs": [],
   "source": [
    "buy_price_df = econ_sim.read_tick_log_to_df(open(\"/tmp/buy_prices.log\", \"rb\"), index_name=\"agent\").reset_index()\n",
    "sell_price_df = econ_sim.read_tick_log_to_df(open(\"/tmp/sell_prices.log\", \"rb\"), index_name=\"agent\").reset_index()"
   ]
  },
  {
   "cell_type": "code",
   "execution_count": 50,
   "id": "659f5dc7",
   "metadata": {},
   "outputs": [
    {
     "data": {
      "text/plain": [
       "<matplotlib.legend.Legend at 0x7ff1efb0c850>"
      ]
     },
     "execution_count": 50,
     "metadata": {},
     "output_type": "execute_result"
    },
    {
     "data": {
      "image/png": "[encoded data removed]",
      "text/plain": [
       "<Figure size 432x288 with 1 Axes>"
      ]
     },
     "metadata": {
      "needs_background": "light"
     },
     "output_type": "display_data"
    }
   ],
   "source": [
    "df1 = sell_price_df[(sell_price_df[\"agent\"] == 0) & (sell_price_df[\"tick\"] <10000)]\n",
    "df2 = buy_price_df[buy_price_df[\"tick\"] < 10000].groupby(\"tick\")[0].max()\n",
    "plt.scatter(df1[\"tick\"], df1[0], label=\"sell price\")\n",
    "plt.scatter(df1[\"tick\"], df2, label=\"buy price\", marker=\".\")\n",
    "plt.legend()"
   ]
  },
  {
   "cell_type": "code",
   "execution_count": 51,
   "id": "a2959a93",
   "metadata": {},
   "outputs": [
    {
     "data": {
      "text/html": [
       "<div>\n",
       "<style scoped>\n",
       "    .dataframe tbody tr th:only-of-type {\n",
       "        vertical-align: middle;\n",
       "    }\n",
       "\n",
       "    .dataframe tbody tr th {\n",
       "        vertical-align: top;\n",
       "    }\n",
       "\n",
       "    .dataframe thead th {\n",
       "        text-align: right;\n",
       "    }\n",
       "</style>\n",
       "<table border=\"1\" class=\"dataframe\">\n",
       "  <thead>\n",
       "    <tr style=\"text-align: right;\">\n",
       "      <th></th>\n",
       "      <th>tick</th>\n",
       "      <th>0</th>\n",
       "      <th>1</th>\n",
       "      <th>2</th>\n",
       "      <th>3</th>\n",
       "      <th>4</th>\n",
       "      <th>5</th>\n",
       "      <th>6</th>\n",
       "    </tr>\n",
       "    <tr>\n",
       "      <th>agent</th>\n",
       "      <th></th>\n",
       "      <th></th>\n",
       "      <th></th>\n",
       "      <th></th>\n",
       "      <th></th>\n",
       "      <th></th>\n",
       "      <th></th>\n",
       "      <th></th>\n",
       "    </tr>\n",
       "  </thead>\n",
       "  <tbody>\n",
       "    <tr>\n",
       "      <th>0</th>\n",
       "      <td>99999</td>\n",
       "      <td>0.000000</td>\n",
       "      <td>0.000000</td>\n",
       "      <td>0.000000</td>\n",
       "      <td>0.000000</td>\n",
       "      <td>0.0</td>\n",
       "      <td>0.0</td>\n",
       "      <td>0.0</td>\n",
       "    </tr>\n",
       "    <tr>\n",
       "      <th>1</th>\n",
       "      <td>99999</td>\n",
       "      <td>0.000000</td>\n",
       "      <td>0.000000</td>\n",
       "      <td>0.000000</td>\n",
       "      <td>0.000000</td>\n",
       "      <td>0.0</td>\n",
       "      <td>0.0</td>\n",
       "      <td>0.0</td>\n",
       "    </tr>\n",
       "    <tr>\n",
       "      <th>2</th>\n",
       "      <td>99999</td>\n",
       "      <td>21.793351</td>\n",
       "      <td>0.000000</td>\n",
       "      <td>0.000000</td>\n",
       "      <td>0.000000</td>\n",
       "      <td>0.0</td>\n",
       "      <td>0.0</td>\n",
       "      <td>0.0</td>\n",
       "    </tr>\n",
       "    <tr>\n",
       "      <th>3</th>\n",
       "      <td>99999</td>\n",
       "      <td>0.000000</td>\n",
       "      <td>13.599746</td>\n",
       "      <td>0.000000</td>\n",
       "      <td>0.000000</td>\n",
       "      <td>0.0</td>\n",
       "      <td>0.0</td>\n",
       "      <td>0.0</td>\n",
       "    </tr>\n",
       "    <tr>\n",
       "      <th>4</th>\n",
       "      <td>99999</td>\n",
       "      <td>0.000000</td>\n",
       "      <td>0.000000</td>\n",
       "      <td>0.000000</td>\n",
       "      <td>16.029984</td>\n",
       "      <td>0.0</td>\n",
       "      <td>0.0</td>\n",
       "      <td>0.0</td>\n",
       "    </tr>\n",
       "    <tr>\n",
       "      <th>5</th>\n",
       "      <td>99999</td>\n",
       "      <td>0.000000</td>\n",
       "      <td>0.000000</td>\n",
       "      <td>25.805099</td>\n",
       "      <td>8.190982</td>\n",
       "      <td>0.0</td>\n",
       "      <td>0.0</td>\n",
       "      <td>0.0</td>\n",
       "    </tr>\n",
       "    <tr>\n",
       "      <th>6</th>\n",
       "      <td>99999</td>\n",
       "      <td>0.000000</td>\n",
       "      <td>0.000000</td>\n",
       "      <td>21.625295</td>\n",
       "      <td>8.100385</td>\n",
       "      <td>0.0</td>\n",
       "      <td>0.0</td>\n",
       "      <td>0.0</td>\n",
       "    </tr>\n",
       "  </tbody>\n",
       "</table>\n",
       "</div>"
      ],
      "text/plain": [
       "        tick          0          1          2          3    4    5    6\n",
       "agent                                                                  \n",
       "0      99999   0.000000   0.000000   0.000000   0.000000  0.0  0.0  0.0\n",
       "1      99999   0.000000   0.000000   0.000000   0.000000  0.0  0.0  0.0\n",
       "2      99999  21.793351   0.000000   0.000000   0.000000  0.0  0.0  0.0\n",
       "3      99999   0.000000  13.599746   0.000000   0.000000  0.0  0.0  0.0\n",
       "4      99999   0.000000   0.000000   0.000000  16.029984  0.0  0.0  0.0\n",
       "5      99999   0.000000   0.000000  25.805099   8.190982  0.0  0.0  0.0\n",
       "6      99999   0.000000   0.000000  21.625295   8.100385  0.0  0.0  0.0"
      ]
     },
     "execution_count": 51,
     "metadata": {},
     "output_type": "execute_result"
    }
   ],
   "source": [
    "buy_price_df[buy_price_df[\"tick\"] == buy_price_df[\"tick\"].max()].set_index(\"agent\")"
   ]
  },
  {
   "cell_type": "code",
   "execution_count": 52,
   "id": "e12ae180",
   "metadata": {},
   "outputs": [
    {
     "data": {
      "text/html": [
       "<div>\n",
       "<style scoped>\n",
       "    .dataframe tbody tr th:only-of-type {\n",
       "        vertical-align: middle;\n",
       "    }\n",
       "\n",
       "    .dataframe tbody tr th {\n",
       "        vertical-align: top;\n",
       "    }\n",
       "\n",
       "    .dataframe thead th {\n",
       "        text-align: right;\n",
       "    }\n",
       "</style>\n",
       "<table border=\"1\" class=\"dataframe\">\n",
       "  <thead>\n",
       "    <tr style=\"text-align: right;\">\n",
       "      <th></th>\n",
       "      <th>tick</th>\n",
       "      <th>0</th>\n",
       "      <th>1</th>\n",
       "      <th>2</th>\n",
       "      <th>3</th>\n",
       "      <th>4</th>\n",
       "      <th>5</th>\n",
       "      <th>6</th>\n",
       "    </tr>\n",
       "    <tr>\n",
       "      <th>agent</th>\n",
       "      <th></th>\n",
       "      <th></th>\n",
       "      <th></th>\n",
       "      <th></th>\n",
       "      <th></th>\n",
       "      <th></th>\n",
       "      <th></th>\n",
       "      <th></th>\n",
       "    </tr>\n",
       "  </thead>\n",
       "  <tbody>\n",
       "    <tr>\n",
       "      <th>0</th>\n",
       "      <td>99999</td>\n",
       "      <td>7.319126</td>\n",
       "      <td>inf</td>\n",
       "      <td>inf</td>\n",
       "      <td>inf</td>\n",
       "      <td>inf</td>\n",
       "      <td>inf</td>\n",
       "      <td>inf</td>\n",
       "    </tr>\n",
       "    <tr>\n",
       "      <th>1</th>\n",
       "      <td>99999</td>\n",
       "      <td>inf</td>\n",
       "      <td>5.844922</td>\n",
       "      <td>inf</td>\n",
       "      <td>inf</td>\n",
       "      <td>inf</td>\n",
       "      <td>inf</td>\n",
       "      <td>inf</td>\n",
       "    </tr>\n",
       "    <tr>\n",
       "      <th>2</th>\n",
       "      <td>99999</td>\n",
       "      <td>inf</td>\n",
       "      <td>inf</td>\n",
       "      <td>14.556238</td>\n",
       "      <td>inf</td>\n",
       "      <td>inf</td>\n",
       "      <td>inf</td>\n",
       "      <td>inf</td>\n",
       "    </tr>\n",
       "    <tr>\n",
       "      <th>3</th>\n",
       "      <td>99999</td>\n",
       "      <td>inf</td>\n",
       "      <td>inf</td>\n",
       "      <td>inf</td>\n",
       "      <td>387.263362</td>\n",
       "      <td>inf</td>\n",
       "      <td>inf</td>\n",
       "      <td>inf</td>\n",
       "    </tr>\n",
       "    <tr>\n",
       "      <th>4</th>\n",
       "      <td>99999</td>\n",
       "      <td>inf</td>\n",
       "      <td>inf</td>\n",
       "      <td>inf</td>\n",
       "      <td>inf</td>\n",
       "      <td>2.249027e+06</td>\n",
       "      <td>inf</td>\n",
       "      <td>inf</td>\n",
       "    </tr>\n",
       "    <tr>\n",
       "      <th>5</th>\n",
       "      <td>99999</td>\n",
       "      <td>inf</td>\n",
       "      <td>inf</td>\n",
       "      <td>inf</td>\n",
       "      <td>inf</td>\n",
       "      <td>inf</td>\n",
       "      <td>3.853301e+07</td>\n",
       "      <td>inf</td>\n",
       "    </tr>\n",
       "    <tr>\n",
       "      <th>6</th>\n",
       "      <td>99999</td>\n",
       "      <td>inf</td>\n",
       "      <td>inf</td>\n",
       "      <td>inf</td>\n",
       "      <td>inf</td>\n",
       "      <td>inf</td>\n",
       "      <td>inf</td>\n",
       "      <td>1.811803e+05</td>\n",
       "    </tr>\n",
       "  </tbody>\n",
       "</table>\n",
       "</div>"
      ],
      "text/plain": [
       "        tick         0         1          2           3             4  \\\n",
       "agent                                                                   \n",
       "0      99999  7.319126       inf        inf         inf           inf   \n",
       "1      99999       inf  5.844922        inf         inf           inf   \n",
       "2      99999       inf       inf  14.556238         inf           inf   \n",
       "3      99999       inf       inf        inf  387.263362           inf   \n",
       "4      99999       inf       inf        inf         inf  2.249027e+06   \n",
       "5      99999       inf       inf        inf         inf           inf   \n",
       "6      99999       inf       inf        inf         inf           inf   \n",
       "\n",
       "                  5             6  \n",
       "agent                              \n",
       "0               inf           inf  \n",
       "1               inf           inf  \n",
       "2               inf           inf  \n",
       "3               inf           inf  \n",
       "4               inf           inf  \n",
       "5      3.853301e+07           inf  \n",
       "6               inf  1.811803e+05  "
      ]
     },
     "execution_count": 52,
     "metadata": {},
     "output_type": "execute_result"
    }
   ],
   "source": [
    "sell_price_df[sell_price_df[\"tick\"] == sell_price_df[\"tick\"].max()].set_index(\"agent\")"
   ]
  },
  {
   "cell_type": "code",
   "execution_count": 53,
   "id": "31f3ba6b",
   "metadata": {},
   "outputs": [
    {
     "data": {
      "text/plain": [
       "tick    0.000000e+00\n",
       "0       1.447423e+01\n",
       "1       7.754823e+00\n",
       "2       1.124886e+01\n",
       "3      -3.712334e+02\n",
       "4      -2.249027e+06\n",
       "5      -3.853301e+07\n",
       "6      -1.811803e+05\n",
       "dtype: float64"
      ]
     },
     "execution_count": 53,
     "metadata": {},
     "output_type": "execute_result"
    }
   ],
   "source": [
    "buy_price_df[buy_price_df[\"tick\"] == buy_price_df[\"tick\"].max()].set_index(\"agent\").max(axis=0) - sell_price_df[sell_price_df[\"tick\"] == sell_price_df[\"tick\"].max()].set_index(\"agent\").min(axis=0)"
   ]
  },
  {
   "cell_type": "code",
   "execution_count": 54,
   "id": "a2283e35",
   "metadata": {},
   "outputs": [
    {
     "data": {
      "text/html": [
       "<div>\n",
       "<style scoped>\n",
       "    .dataframe tbody tr th:only-of-type {\n",
       "        vertical-align: middle;\n",
       "    }\n",
       "\n",
       "    .dataframe tbody tr th {\n",
       "        vertical-align: top;\n",
       "    }\n",
       "\n",
       "    .dataframe thead th {\n",
       "        text-align: right;\n",
       "    }\n",
       "</style>\n",
       "<table border=\"1\" class=\"dataframe\">\n",
       "  <thead>\n",
       "    <tr style=\"text-align: right;\">\n",
       "      <th></th>\n",
       "      <th>tick</th>\n",
       "      <th>balance</th>\n",
       "    </tr>\n",
       "    <tr>\n",
       "      <th>agent</th>\n",
       "      <th></th>\n",
       "      <th></th>\n",
       "    </tr>\n",
       "  </thead>\n",
       "  <tbody>\n",
       "    <tr>\n",
       "      <th>0</th>\n",
       "      <td>99999</td>\n",
       "      <td>4.363660e+09</td>\n",
       "    </tr>\n",
       "    <tr>\n",
       "      <th>1</th>\n",
       "      <td>99999</td>\n",
       "      <td>3.599515e+09</td>\n",
       "    </tr>\n",
       "    <tr>\n",
       "      <th>2</th>\n",
       "      <td>99999</td>\n",
       "      <td>1.251867e+01</td>\n",
       "    </tr>\n",
       "    <tr>\n",
       "      <th>3</th>\n",
       "      <td>99999</td>\n",
       "      <td>7.397368e+00</td>\n",
       "    </tr>\n",
       "    <tr>\n",
       "      <th>4</th>\n",
       "      <td>99999</td>\n",
       "      <td>3.821594e+08</td>\n",
       "    </tr>\n",
       "    <tr>\n",
       "      <th>5</th>\n",
       "      <td>99999</td>\n",
       "      <td>1.972308e+09</td>\n",
       "    </tr>\n",
       "    <tr>\n",
       "      <th>6</th>\n",
       "      <td>99999</td>\n",
       "      <td>1.584504e+07</td>\n",
       "    </tr>\n",
       "  </tbody>\n",
       "</table>\n",
       "</div>"
      ],
      "text/plain": [
       "        tick       balance\n",
       "agent                     \n",
       "0      99999  4.363660e+09\n",
       "1      99999  3.599515e+09\n",
       "2      99999  1.251867e+01\n",
       "3      99999  7.397368e+00\n",
       "4      99999  3.821594e+08\n",
       "5      99999  1.972308e+09\n",
       "6      99999  1.584504e+07"
      ]
     },
     "execution_count": 54,
     "metadata": {},
     "output_type": "execute_result"
    }
   ],
   "source": [
    "balance_df[balance_df[\"tick\"] == balance_df[\"tick\"].max()].set_index(\"agent\")"
   ]
  },
  {
   "cell_type": "markdown",
   "id": "6fca8f00",
   "metadata": {},
   "source": [
    "# Profit Analysis"
   ]
  },
  {
   "cell_type": "code",
   "execution_count": 55,
   "id": "660157d7",
   "metadata": {},
   "outputs": [],
   "source": [
    "revenue = transaction_df.groupby(\"seller\")[\"value\"].sum()\n",
    "costs = transaction_df.groupby(\"buyer\")[\"value\"].sum()"
   ]
  },
  {
   "cell_type": "code",
   "execution_count": 56,
   "id": "e1ae8b14",
   "metadata": {},
   "outputs": [
    {
     "data": {
      "text/plain": [
       "buyer\n",
       "2    7.938358e+09\n",
       "3    9.025671e+09\n",
       "4    3.901050e+09\n",
       "5    9.988512e+09\n",
       "6    1.039939e+08\n",
       "Name: value, dtype: float64"
      ]
     },
     "execution_count": 56,
     "metadata": {},
     "output_type": "execute_result"
    }
   ],
   "source": [
    "costs"
   ]
  },
  {
   "cell_type": "code",
   "execution_count": 57,
   "id": "fcec4455",
   "metadata": {},
   "outputs": [
    {
     "data": {
      "text/plain": [
       "seller\n",
       "0    7.938358e+09\n",
       "1    9.025671e+09\n",
       "2    6.677766e+09\n",
       "3    7.315791e+09\n",
       "Name: value, dtype: float64"
      ]
     },
     "execution_count": 57,
     "metadata": {},
     "output_type": "execute_result"
    }
   ],
   "source": [
    "revenue"
   ]
  },
  {
   "cell_type": "code",
   "execution_count": 58,
   "id": "0a2e122f",
   "metadata": {},
   "outputs": [
    {
     "data": {
      "text/plain": [
       "0             NaN\n",
       "1             NaN\n",
       "2   -1.260592e+09\n",
       "3   -1.709880e+09\n",
       "4             NaN\n",
       "5             NaN\n",
       "6             NaN\n",
       "Name: value, dtype: float64"
      ]
     },
     "execution_count": 58,
     "metadata": {},
     "output_type": "execute_result"
    }
   ],
   "source": [
    "revenue-costs"
   ]
  },
  {
   "cell_type": "code",
   "execution_count": 59,
   "id": "c6524620",
   "metadata": {},
   "outputs": [
    {
     "data": {
      "text/html": [
       "<div>\n",
       "<style scoped>\n",
       "    .dataframe tbody tr th:only-of-type {\n",
       "        vertical-align: middle;\n",
       "    }\n",
       "\n",
       "    .dataframe tbody tr th {\n",
       "        vertical-align: top;\n",
       "    }\n",
       "\n",
       "    .dataframe thead th {\n",
       "        text-align: right;\n",
       "    }\n",
       "</style>\n",
       "<table border=\"1\" class=\"dataframe\">\n",
       "  <thead>\n",
       "    <tr style=\"text-align: right;\">\n",
       "      <th></th>\n",
       "      <th>tick</th>\n",
       "      <th>balance</th>\n",
       "    </tr>\n",
       "    <tr>\n",
       "      <th>agent</th>\n",
       "      <th></th>\n",
       "      <th></th>\n",
       "    </tr>\n",
       "  </thead>\n",
       "  <tbody>\n",
       "    <tr>\n",
       "      <th>0</th>\n",
       "      <td>99999</td>\n",
       "      <td>4.363652e+09</td>\n",
       "    </tr>\n",
       "    <tr>\n",
       "      <th>1</th>\n",
       "      <td>99999</td>\n",
       "      <td>3.599512e+09</td>\n",
       "    </tr>\n",
       "    <tr>\n",
       "      <th>2</th>\n",
       "      <td>99999</td>\n",
       "      <td>-1.260592e+09</td>\n",
       "    </tr>\n",
       "    <tr>\n",
       "      <th>3</th>\n",
       "      <td>99999</td>\n",
       "      <td>-1.709880e+09</td>\n",
       "    </tr>\n",
       "    <tr>\n",
       "      <th>4</th>\n",
       "      <td>99999</td>\n",
       "      <td>2.562567e+08</td>\n",
       "    </tr>\n",
       "    <tr>\n",
       "      <th>5</th>\n",
       "      <td>99999</td>\n",
       "      <td>1.151781e+07</td>\n",
       "    </tr>\n",
       "    <tr>\n",
       "      <th>6</th>\n",
       "      <td>99999</td>\n",
       "      <td>6.511792e+06</td>\n",
       "    </tr>\n",
       "  </tbody>\n",
       "</table>\n",
       "</div>"
      ],
      "text/plain": [
       "        tick       balance\n",
       "agent                     \n",
       "0      99999  4.363652e+09\n",
       "1      99999  3.599512e+09\n",
       "2      99999 -1.260592e+09\n",
       "3      99999 -1.709880e+09\n",
       "4      99999  2.562567e+08\n",
       "5      99999  1.151781e+07\n",
       "6      99999  6.511792e+06"
      ]
     },
     "execution_count": 59,
     "metadata": {},
     "output_type": "execute_result"
    }
   ],
   "source": [
    "balance_df[balance_df[\"tick\"] == balance_df[\"tick\"].max()].set_index(\"agent\") - balance_df[balance_df[\"tick\"] == balance_df[\"tick\"].min()].set_index(\"agent\")"
   ]
  },
  {
   "cell_type": "markdown",
   "id": "1b6f1ed8",
   "metadata": {},
   "source": [
    "# Production Efficiency"
   ]
  },
  {
   "cell_type": "code",
   "execution_count": 60,
   "id": "5274fc8c",
   "metadata": {},
   "outputs": [],
   "source": [
    "production_efficiency_df = econ_sim.read_tick_log_to_df(open(\"/tmp/production_efficiency.log\", \"rb\"), index_name=\"agent\")"
   ]
  },
  {
   "cell_type": "code",
   "execution_count": 61,
   "id": "26541fc1",
   "metadata": {},
   "outputs": [
    {
     "data": {
      "text/plain": [
       "agent  tick \n",
       "0      0            0\n",
       "1      0            0\n",
       "2      0            0\n",
       "3      0            0\n",
       "4      0            0\n",
       "                ...  \n",
       "2      99999    99999\n",
       "3      99999    99999\n",
       "4      99999    99999\n",
       "5      99999    99999\n",
       "6      99999    99999\n",
       "Name: tick, Length: 700000, dtype: int64"
      ]
     },
     "execution_count": 61,
     "metadata": {},
     "output_type": "execute_result"
    }
   ],
   "source": [
    "production_efficiency_df.index.to_frame()[\"tick\"]"
   ]
  },
  {
   "cell_type": "code",
   "execution_count": 62,
   "id": "80031d1c",
   "metadata": {},
   "outputs": [
    {
     "data": {
      "text/plain": [
       "<AxesSubplot:xlabel='tick'>"
      ]
     },
     "execution_count": 62,
     "metadata": {},
     "output_type": "execute_result"
    },
    {
     "data": {
      "image/png": "[encoded data removed]",
      "text/plain": [
       "<Figure size 432x288 with 1 Axes>"
      ]
     },
     "metadata": {
      "needs_background": "light"
     },
     "output_type": "display_data"
    }
   ],
   "source": [
    "production_efficiency_df[production_efficiency_df.index.to_frame()[\"tick\"] < 10000].groupby(\"tick\").max()[4].plot()"
   ]
  },
  {
   "cell_type": "code",
   "execution_count": 63,
   "id": "77c90dc9",
   "metadata": {},
   "outputs": [
    {
     "data": {
      "text/plain": [
       "(0.0, 17.554713123131137)"
      ]
     },
     "execution_count": 63,
     "metadata": {},
     "output_type": "execute_result"
    },
    {
     "data": {
      "image/png": "[encoded data removed]",
      "text/plain": [
       "<Figure size 432x288 with 1 Axes>"
      ]
     },
     "metadata": {
      "needs_background": "light"
     },
     "output_type": "display_data"
    }
   ],
   "source": [
    "buy_price_df[(buy_price_df[\"tick\"] < 10000)].groupby(\"tick\")[3].max().plot()\n",
    "plt.ylim(0)"
   ]
  },
  {
   "cell_type": "code",
   "execution_count": 71,
   "id": "89ecbba7",
   "metadata": {},
   "outputs": [
    {
     "data": {
      "text/plain": [
       "<AxesSubplot:xlabel='tick'>"
      ]
     },
     "execution_count": 71,
     "metadata": {},
     "output_type": "execute_result"
    },
    {
     "data": {
      "image/png": "[encoded data removed]",
      "text/plain": [
       "<Figure size 432x288 with 1 Axes>"
      ]
     },
     "metadata": {
      "needs_background": "light"
     },
     "output_type": "display_data"
    }
   ],
   "source": [
    "sell_price_df[(sell_price_df[\"tick\"] < 10000)].groupby(\"tick\")[3].min().plot()"
   ]
  },
  {
   "cell_type": "code",
   "execution_count": 65,
   "id": "65c36ca1",
   "metadata": {},
   "outputs": [
    {
     "data": {
      "text/plain": [
       "count    100000.000000\n",
       "mean      17784.692567\n",
       "std       49842.035919\n",
       "min           7.325343\n",
       "25%         100.808281\n",
       "50%         961.356389\n",
       "75%        9069.716352\n",
       "max      337362.443731\n",
       "Name: 3, dtype: float64"
      ]
     },
     "execution_count": 65,
     "metadata": {},
     "output_type": "execute_result"
    }
   ],
   "source": [
    "sell_price_df.groupby(\"tick\")[3].min().describe()"
   ]
  },
  {
   "cell_type": "code",
   "execution_count": 67,
   "id": "3e2ee89c",
   "metadata": {},
   "outputs": [
    {
     "data": {
      "text/plain": [
       "<AxesSubplot:xlabel='tick'>"
      ]
     },
     "execution_count": 67,
     "metadata": {},
     "output_type": "execute_result"
    },
    {
     "data": {
      "image/png": "[encoded data removed]",
      "text/plain": [
       "<Figure size 432x288 with 1 Axes>"
      ]
     },
     "metadata": {
      "needs_background": "light"
     },
     "output_type": "display_data"
    }
   ],
   "source": [
    "inventory_df[(inventory_df[\"tick\"] < 1000) & (inventory_df[\"agent\"] == 3)].groupby(\"tick\")[3].max().plot()"
   ]
  },
  {
   "cell_type": "code",
   "execution_count": 68,
   "id": "fd5ee41f",
   "metadata": {},
   "outputs": [
    {
     "data": {
      "text/plain": [
       "<AxesSubplot:xlabel='tick'>"
      ]
     },
     "execution_count": 68,
     "metadata": {},
     "output_type": "execute_result"
    },
    {
     "data": {
      "image/png": "[encoded data removed]",
      "text/plain": [
       "<Figure size 432x288 with 1 Axes>"
      ]
     },
     "metadata": {
      "needs_background": "light"
     },
     "output_type": "display_data"
    }
   ],
   "source": [
    "transaction_df[(transaction_df[\"tick\"] < 10000) & (transaction_df[\"seller\"] == 3)].groupby(\"tick\")[\"amount\"].sum().plot(marker=\"o\", linestyle='none')"
   ]
  },
  {
   "cell_type": "code",
   "execution_count": 69,
   "id": "683d9624",
   "metadata": {},
   "outputs": [
    {
     "data": {
      "text/html": [
       "<div>\n",
       "<style scoped>\n",
       "    .dataframe tbody tr th:only-of-type {\n",
       "        vertical-align: middle;\n",
       "    }\n",
       "\n",
       "    .dataframe tbody tr th {\n",
       "        vertical-align: top;\n",
       "    }\n",
       "\n",
       "    .dataframe thead th {\n",
       "        text-align: right;\n",
       "    }\n",
       "</style>\n",
       "<table border=\"1\" class=\"dataframe\">\n",
       "  <thead>\n",
       "    <tr style=\"text-align: right;\">\n",
       "      <th></th>\n",
       "      <th>tick</th>\n",
       "      <th>seller</th>\n",
       "      <th>buyer</th>\n",
       "      <th>product</th>\n",
       "      <th>amount</th>\n",
       "      <th>price</th>\n",
       "      <th>value</th>\n",
       "    </tr>\n",
       "  </thead>\n",
       "  <tbody>\n",
       "    <tr>\n",
       "      <th>442</th>\n",
       "      <td>219</td>\n",
       "      <td>3</td>\n",
       "      <td>6</td>\n",
       "      <td>3</td>\n",
       "      <td>48101.0</td>\n",
       "      <td>15.815982</td>\n",
       "      <td>7.607646e+05</td>\n",
       "    </tr>\n",
       "    <tr>\n",
       "      <th>443</th>\n",
       "      <td>219</td>\n",
       "      <td>3</td>\n",
       "      <td>5</td>\n",
       "      <td>3</td>\n",
       "      <td>2089249.0</td>\n",
       "      <td>15.782681</td>\n",
       "      <td>3.297395e+07</td>\n",
       "    </tr>\n",
       "    <tr>\n",
       "      <th>2856</th>\n",
       "      <td>1424</td>\n",
       "      <td>3</td>\n",
       "      <td>6</td>\n",
       "      <td>3</td>\n",
       "      <td>45181.0</td>\n",
       "      <td>15.986753</td>\n",
       "      <td>7.222975e+05</td>\n",
       "    </tr>\n",
       "    <tr>\n",
       "      <th>2857</th>\n",
       "      <td>1424</td>\n",
       "      <td>3</td>\n",
       "      <td>4</td>\n",
       "      <td>3</td>\n",
       "      <td>1575105.0</td>\n",
       "      <td>15.986575</td>\n",
       "      <td>2.518053e+07</td>\n",
       "    </tr>\n",
       "    <tr>\n",
       "      <th>2858</th>\n",
       "      <td>1424</td>\n",
       "      <td>3</td>\n",
       "      <td>5</td>\n",
       "      <td>3</td>\n",
       "      <td>9066464.0</td>\n",
       "      <td>15.980816</td>\n",
       "      <td>1.448895e+08</td>\n",
       "    </tr>\n",
       "    <tr>\n",
       "      <th>3016</th>\n",
       "      <td>1502</td>\n",
       "      <td>3</td>\n",
       "      <td>6</td>\n",
       "      <td>3</td>\n",
       "      <td>54871.0</td>\n",
       "      <td>13.763895</td>\n",
       "      <td>7.552387e+05</td>\n",
       "    </tr>\n",
       "    <tr>\n",
       "      <th>3017</th>\n",
       "      <td>1502</td>\n",
       "      <td>3</td>\n",
       "      <td>5</td>\n",
       "      <td>3</td>\n",
       "      <td>2082479.0</td>\n",
       "      <td>13.739489</td>\n",
       "      <td>2.861220e+07</td>\n",
       "    </tr>\n",
       "    <tr>\n",
       "      <th>5401</th>\n",
       "      <td>2692</td>\n",
       "      <td>3</td>\n",
       "      <td>4</td>\n",
       "      <td>3</td>\n",
       "      <td>1569217.0</td>\n",
       "      <td>16.002988</td>\n",
       "      <td>2.511216e+07</td>\n",
       "    </tr>\n",
       "    <tr>\n",
       "      <th>5403</th>\n",
       "      <td>2693</td>\n",
       "      <td>3</td>\n",
       "      <td>4</td>\n",
       "      <td>3</td>\n",
       "      <td>189075.0</td>\n",
       "      <td>13.093748</td>\n",
       "      <td>2.475700e+06</td>\n",
       "    </tr>\n",
       "    <tr>\n",
       "      <th>5404</th>\n",
       "      <td>2693</td>\n",
       "      <td>3</td>\n",
       "      <td>6</td>\n",
       "      <td>3</td>\n",
       "      <td>50691.0</td>\n",
       "      <td>12.443277</td>\n",
       "      <td>6.307622e+05</td>\n",
       "    </tr>\n",
       "    <tr>\n",
       "      <th>5405</th>\n",
       "      <td>2693</td>\n",
       "      <td>3</td>\n",
       "      <td>5</td>\n",
       "      <td>3</td>\n",
       "      <td>8877767.0</td>\n",
       "      <td>12.419965</td>\n",
       "      <td>1.102616e+08</td>\n",
       "    </tr>\n",
       "    <tr>\n",
       "      <th>5588</th>\n",
       "      <td>2784</td>\n",
       "      <td>3</td>\n",
       "      <td>4</td>\n",
       "      <td>3</td>\n",
       "      <td>1809500.0</td>\n",
       "      <td>13.608936</td>\n",
       "      <td>2.462537e+07</td>\n",
       "    </tr>\n",
       "    <tr>\n",
       "      <th>5589</th>\n",
       "      <td>2784</td>\n",
       "      <td>3</td>\n",
       "      <td>5</td>\n",
       "      <td>3</td>\n",
       "      <td>327850.0</td>\n",
       "      <td>12.485614</td>\n",
       "      <td>4.093408e+06</td>\n",
       "    </tr>\n",
       "    <tr>\n",
       "      <th>7971</th>\n",
       "      <td>3973</td>\n",
       "      <td>3</td>\n",
       "      <td>4</td>\n",
       "      <td>3</td>\n",
       "      <td>1458709.0</td>\n",
       "      <td>15.985163</td>\n",
       "      <td>2.331770e+07</td>\n",
       "    </tr>\n",
       "    <tr>\n",
       "      <th>7973</th>\n",
       "      <td>3974</td>\n",
       "      <td>3</td>\n",
       "      <td>4</td>\n",
       "      <td>3</td>\n",
       "      <td>191269.0</td>\n",
       "      <td>12.823205</td>\n",
       "      <td>2.452682e+06</td>\n",
       "    </tr>\n",
       "    <tr>\n",
       "      <th>7975</th>\n",
       "      <td>3974</td>\n",
       "      <td>3</td>\n",
       "      <td>6</td>\n",
       "      <td>3</td>\n",
       "      <td>45143.0</td>\n",
       "      <td>11.531716</td>\n",
       "      <td>5.205763e+05</td>\n",
       "    </tr>\n",
       "    <tr>\n",
       "      <th>7976</th>\n",
       "      <td>3974</td>\n",
       "      <td>3</td>\n",
       "      <td>5</td>\n",
       "      <td>3</td>\n",
       "      <td>8991629.0</td>\n",
       "      <td>11.357675</td>\n",
       "      <td>1.021240e+08</td>\n",
       "    </tr>\n",
       "    <tr>\n",
       "      <th>8161</th>\n",
       "      <td>4067</td>\n",
       "      <td>3</td>\n",
       "      <td>4</td>\n",
       "      <td>3</td>\n",
       "      <td>1804807.0</td>\n",
       "      <td>13.612083</td>\n",
       "      <td>2.456718e+07</td>\n",
       "    </tr>\n",
       "    <tr>\n",
       "      <th>8164</th>\n",
       "      <td>4067</td>\n",
       "      <td>3</td>\n",
       "      <td>5</td>\n",
       "      <td>3</td>\n",
       "      <td>332543.0</td>\n",
       "      <td>11.812957</td>\n",
       "      <td>3.928316e+06</td>\n",
       "    </tr>\n",
       "    <tr>\n",
       "      <th>10541</th>\n",
       "      <td>5254</td>\n",
       "      <td>3</td>\n",
       "      <td>4</td>\n",
       "      <td>3</td>\n",
       "      <td>1458141.0</td>\n",
       "      <td>16.003080</td>\n",
       "      <td>2.333475e+07</td>\n",
       "    </tr>\n",
       "    <tr>\n",
       "      <th>10543</th>\n",
       "      <td>5255</td>\n",
       "      <td>3</td>\n",
       "      <td>4</td>\n",
       "      <td>3</td>\n",
       "      <td>195503.0</td>\n",
       "      <td>12.679202</td>\n",
       "      <td>2.478822e+06</td>\n",
       "    </tr>\n",
       "    <tr>\n",
       "      <th>10545</th>\n",
       "      <td>5255</td>\n",
       "      <td>3</td>\n",
       "      <td>6</td>\n",
       "      <td>3</td>\n",
       "      <td>45818.0</td>\n",
       "      <td>10.861475</td>\n",
       "      <td>4.976511e+05</td>\n",
       "    </tr>\n",
       "    <tr>\n",
       "      <th>10546</th>\n",
       "      <td>5255</td>\n",
       "      <td>3</td>\n",
       "      <td>5</td>\n",
       "      <td>3</td>\n",
       "      <td>8987288.0</td>\n",
       "      <td>10.677526</td>\n",
       "      <td>9.596200e+07</td>\n",
       "    </tr>\n",
       "    <tr>\n",
       "      <th>10734</th>\n",
       "      <td>5349</td>\n",
       "      <td>3</td>\n",
       "      <td>4</td>\n",
       "      <td>3</td>\n",
       "      <td>1802103.0</td>\n",
       "      <td>13.609349</td>\n",
       "      <td>2.452545e+07</td>\n",
       "    </tr>\n",
       "    <tr>\n",
       "      <th>10736</th>\n",
       "      <td>5349</td>\n",
       "      <td>3</td>\n",
       "      <td>5</td>\n",
       "      <td>3</td>\n",
       "      <td>335247.0</td>\n",
       "      <td>11.321244</td>\n",
       "      <td>3.795413e+06</td>\n",
       "    </tr>\n",
       "    <tr>\n",
       "      <th>13117</th>\n",
       "      <td>6537</td>\n",
       "      <td>3</td>\n",
       "      <td>4</td>\n",
       "      <td>3</td>\n",
       "      <td>1462716.0</td>\n",
       "      <td>15.954127</td>\n",
       "      <td>2.333636e+07</td>\n",
       "    </tr>\n",
       "    <tr>\n",
       "      <th>13119</th>\n",
       "      <td>6538</td>\n",
       "      <td>3</td>\n",
       "      <td>4</td>\n",
       "      <td>3</td>\n",
       "      <td>191431.0</td>\n",
       "      <td>12.574257</td>\n",
       "      <td>2.407103e+06</td>\n",
       "    </tr>\n",
       "    <tr>\n",
       "      <th>13121</th>\n",
       "      <td>6538</td>\n",
       "      <td>3</td>\n",
       "      <td>6</td>\n",
       "      <td>3</td>\n",
       "      <td>50402.0</td>\n",
       "      <td>10.199995</td>\n",
       "      <td>5.141002e+05</td>\n",
       "    </tr>\n",
       "    <tr>\n",
       "      <th>13122</th>\n",
       "      <td>6538</td>\n",
       "      <td>3</td>\n",
       "      <td>5</td>\n",
       "      <td>3</td>\n",
       "      <td>8982201.0</td>\n",
       "      <td>10.197118</td>\n",
       "      <td>9.159256e+07</td>\n",
       "    </tr>\n",
       "    <tr>\n",
       "      <th>13307</th>\n",
       "      <td>6631</td>\n",
       "      <td>3</td>\n",
       "      <td>4</td>\n",
       "      <td>3</td>\n",
       "      <td>1803845.0</td>\n",
       "      <td>13.592634</td>\n",
       "      <td>2.451901e+07</td>\n",
       "    </tr>\n",
       "    <tr>\n",
       "      <th>15232</th>\n",
       "      <td>7591</td>\n",
       "      <td>3</td>\n",
       "      <td>4</td>\n",
       "      <td>3</td>\n",
       "      <td>1455757.0</td>\n",
       "      <td>16.006785</td>\n",
       "      <td>2.330199e+07</td>\n",
       "    </tr>\n",
       "    <tr>\n",
       "      <th>15235</th>\n",
       "      <td>7592</td>\n",
       "      <td>3</td>\n",
       "      <td>4</td>\n",
       "      <td>3</td>\n",
       "      <td>192293.0</td>\n",
       "      <td>12.919256</td>\n",
       "      <td>2.484283e+06</td>\n",
       "    </tr>\n",
       "    <tr>\n",
       "      <th>15236</th>\n",
       "      <td>7592</td>\n",
       "      <td>3</td>\n",
       "      <td>6</td>\n",
       "      <td>3</td>\n",
       "      <td>49057.0</td>\n",
       "      <td>10.402774</td>\n",
       "      <td>5.103289e+05</td>\n",
       "    </tr>\n",
       "    <tr>\n",
       "      <th>15237</th>\n",
       "      <td>7592</td>\n",
       "      <td>3</td>\n",
       "      <td>5</td>\n",
       "      <td>3</td>\n",
       "      <td>7185798.0</td>\n",
       "      <td>10.111565</td>\n",
       "      <td>7.265966e+07</td>\n",
       "    </tr>\n",
       "    <tr>\n",
       "      <th>15453</th>\n",
       "      <td>7700</td>\n",
       "      <td>3</td>\n",
       "      <td>4</td>\n",
       "      <td>3</td>\n",
       "      <td>1808606.0</td>\n",
       "      <td>13.591889</td>\n",
       "      <td>2.458237e+07</td>\n",
       "    </tr>\n",
       "    <tr>\n",
       "      <th>17377</th>\n",
       "      <td>8660</td>\n",
       "      <td>3</td>\n",
       "      <td>4</td>\n",
       "      <td>3</td>\n",
       "      <td>1453073.0</td>\n",
       "      <td>16.027438</td>\n",
       "      <td>2.328904e+07</td>\n",
       "    </tr>\n",
       "    <tr>\n",
       "      <th>17380</th>\n",
       "      <td>8661</td>\n",
       "      <td>3</td>\n",
       "      <td>4</td>\n",
       "      <td>3</td>\n",
       "      <td>194311.0</td>\n",
       "      <td>12.939906</td>\n",
       "      <td>2.514366e+06</td>\n",
       "    </tr>\n",
       "    <tr>\n",
       "      <th>17381</th>\n",
       "      <td>8661</td>\n",
       "      <td>3</td>\n",
       "      <td>6</td>\n",
       "      <td>3</td>\n",
       "      <td>46125.0</td>\n",
       "      <td>10.368028</td>\n",
       "      <td>4.782253e+05</td>\n",
       "    </tr>\n",
       "    <tr>\n",
       "      <th>17382</th>\n",
       "      <td>8661</td>\n",
       "      <td>3</td>\n",
       "      <td>5</td>\n",
       "      <td>3</td>\n",
       "      <td>7184635.0</td>\n",
       "      <td>10.036022</td>\n",
       "      <td>7.210516e+07</td>\n",
       "    </tr>\n",
       "    <tr>\n",
       "      <th>17598</th>\n",
       "      <td>8769</td>\n",
       "      <td>3</td>\n",
       "      <td>4</td>\n",
       "      <td>3</td>\n",
       "      <td>1807443.0</td>\n",
       "      <td>13.599379</td>\n",
       "      <td>2.458010e+07</td>\n",
       "    </tr>\n",
       "    <tr>\n",
       "      <th>19522</th>\n",
       "      <td>9729</td>\n",
       "      <td>3</td>\n",
       "      <td>4</td>\n",
       "      <td>3</td>\n",
       "      <td>1454162.0</td>\n",
       "      <td>16.026699</td>\n",
       "      <td>2.330542e+07</td>\n",
       "    </tr>\n",
       "    <tr>\n",
       "      <th>19525</th>\n",
       "      <td>9730</td>\n",
       "      <td>3</td>\n",
       "      <td>4</td>\n",
       "      <td>3</td>\n",
       "      <td>194240.0</td>\n",
       "      <td>12.939025</td>\n",
       "      <td>2.513276e+06</td>\n",
       "    </tr>\n",
       "    <tr>\n",
       "      <th>19526</th>\n",
       "      <td>9730</td>\n",
       "      <td>3</td>\n",
       "      <td>6</td>\n",
       "      <td>3</td>\n",
       "      <td>46404.0</td>\n",
       "      <td>10.317585</td>\n",
       "      <td>4.787772e+05</td>\n",
       "    </tr>\n",
       "    <tr>\n",
       "      <th>19527</th>\n",
       "      <td>9730</td>\n",
       "      <td>3</td>\n",
       "      <td>5</td>\n",
       "      <td>3</td>\n",
       "      <td>7184501.0</td>\n",
       "      <td>9.971067</td>\n",
       "      <td>7.163714e+07</td>\n",
       "    </tr>\n",
       "    <tr>\n",
       "      <th>19743</th>\n",
       "      <td>9837</td>\n",
       "      <td>3</td>\n",
       "      <td>4</td>\n",
       "      <td>3</td>\n",
       "      <td>1807473.0</td>\n",
       "      <td>13.599179</td>\n",
       "      <td>2.458015e+07</td>\n",
       "    </tr>\n",
       "  </tbody>\n",
       "</table>\n",
       "</div>"
      ],
      "text/plain": [
       "       tick  seller  buyer  product     amount      price         value\n",
       "442     219       3      6        3    48101.0  15.815982  7.607646e+05\n",
       "443     219       3      5        3  2089249.0  15.782681  3.297395e+07\n",
       "2856   1424       3      6        3    45181.0  15.986753  7.222975e+05\n",
       "2857   1424       3      4        3  1575105.0  15.986575  2.518053e+07\n",
       "2858   1424       3      5        3  9066464.0  15.980816  1.448895e+08\n",
       "3016   1502       3      6        3    54871.0  13.763895  7.552387e+05\n",
       "3017   1502       3      5        3  2082479.0  13.739489  2.861220e+07\n",
       "5401   2692       3      4        3  1569217.0  16.002988  2.511216e+07\n",
       "5403   2693       3      4        3   189075.0  13.093748  2.475700e+06\n",
       "5404   2693       3      6        3    50691.0  12.443277  6.307622e+05\n",
       "5405   2693       3      5        3  8877767.0  12.419965  1.102616e+08\n",
       "5588   2784       3      4        3  1809500.0  13.608936  2.462537e+07\n",
       "5589   2784       3      5        3   327850.0  12.485614  4.093408e+06\n",
       "7971   3973       3      4        3  1458709.0  15.985163  2.331770e+07\n",
       "7973   3974       3      4        3   191269.0  12.823205  2.452682e+06\n",
       "7975   3974       3      6        3    45143.0  11.531716  5.205763e+05\n",
       "7976   3974       3      5        3  8991629.0  11.357675  1.021240e+08\n",
       "8161   4067       3      4        3  1804807.0  13.612083  2.456718e+07\n",
       "8164   4067       3      5        3   332543.0  11.812957  3.928316e+06\n",
       "10541  5254       3      4        3  1458141.0  16.003080  2.333475e+07\n",
       "10543  5255       3      4        3   195503.0  12.679202  2.478822e+06\n",
       "10545  5255       3      6        3    45818.0  10.861475  4.976511e+05\n",
       "10546  5255       3      5        3  8987288.0  10.677526  9.596200e+07\n",
       "10734  5349       3      4        3  1802103.0  13.609349  2.452545e+07\n",
       "10736  5349       3      5        3   335247.0  11.321244  3.795413e+06\n",
       "13117  6537       3      4        3  1462716.0  15.954127  2.333636e+07\n",
       "13119  6538       3      4        3   191431.0  12.574257  2.407103e+06\n",
       "13121  6538       3      6        3    50402.0  10.199995  5.141002e+05\n",
       "13122  6538       3      5        3  8982201.0  10.197118  9.159256e+07\n",
       "13307  6631       3      4        3  1803845.0  13.592634  2.451901e+07\n",
       "15232  7591       3      4        3  1455757.0  16.006785  2.330199e+07\n",
       "15235  7592       3      4        3   192293.0  12.919256  2.484283e+06\n",
       "15236  7592       3      6        3    49057.0  10.402774  5.103289e+05\n",
       "15237  7592       3      5        3  7185798.0  10.111565  7.265966e+07\n",
       "15453  7700       3      4        3  1808606.0  13.591889  2.458237e+07\n",
       "17377  8660       3      4        3  1453073.0  16.027438  2.328904e+07\n",
       "17380  8661       3      4        3   194311.0  12.939906  2.514366e+06\n",
       "17381  8661       3      6        3    46125.0  10.368028  4.782253e+05\n",
       "17382  8661       3      5        3  7184635.0  10.036022  7.210516e+07\n",
       "17598  8769       3      4        3  1807443.0  13.599379  2.458010e+07\n",
       "19522  9729       3      4        3  1454162.0  16.026699  2.330542e+07\n",
       "19525  9730       3      4        3   194240.0  12.939025  2.513276e+06\n",
       "19526  9730       3      6        3    46404.0  10.317585  4.787772e+05\n",
       "19527  9730       3      5        3  7184501.0   9.971067  7.163714e+07\n",
       "19743  9837       3      4        3  1807473.0  13.599179  2.458015e+07"
      ]
     },
     "execution_count": 69,
     "metadata": {},
     "output_type": "execute_result"
    }
   ],
   "source": [
    "transaction_df[(transaction_df[\"tick\"] < 10000) & (transaction_df[\"seller\"] == 3)]"
   ]
  },
  {
   "cell_type": "code",
   "execution_count": null,
   "id": "15c31889",
   "metadata": {},
   "outputs": [],
   "source": []
  }
 ],
 "metadata": {
  "kernelspec": {
   "display_name": "Python 3 (ipykernel)",
   "language": "python",
   "name": "python3"
  },
  "language_info": {
   "codemirror_mode": {
    "name": "ipython",
    "version": 3
   },
   "file_extension": ".py",
   "mimetype": "text/x-python",
   "name": "python",
   "nbconvert_exporter": "python",
   "pygments_lexer": "ipython3",
   "version": "3.10.6"
  }
 },
 "nbformat": 4,
 "nbformat_minor": 5
}
