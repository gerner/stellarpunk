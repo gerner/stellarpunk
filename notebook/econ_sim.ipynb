{
 "cells": [
  {
   "cell_type": "markdown",
   "id": "8b74be5a",
   "metadata": {},
   "source": [
    "# Preliminaries"
   ]
  },
  {
   "cell_type": "code",
   "execution_count": 1,
   "id": "51df8fbe",
   "metadata": {},
   "outputs": [],
   "source": [
    "import os.path\n",
    "import datetime, time\n",
    "import math\n",
    "\n",
    "import pandas as pd\n",
    "import numpy as np\n",
    "import networkx as nx\n",
    "from networkx.drawing.nx_agraph import graphviz_layout\n",
    "from matplotlib import pyplot as plt\n",
    "from matplotlib import cm\n",
    "import msgpack\n",
    "\n",
    "from stellarpunk import econ_sim, serialization"
   ]
  },
  {
   "cell_type": "code",
   "execution_count": 2,
   "id": "a490fd0f",
   "metadata": {},
   "outputs": [],
   "source": [
    "%load_ext autoreload\n",
    "%autoreload 1\n",
    "%aimport stellarpunk.serialization\n",
    "%aimport stellarpunk.econ_sim"
   ]
  },
  {
   "cell_type": "markdown",
   "id": "c97e4c99",
   "metadata": {},
   "source": [
    "# Data Loading"
   ]
  },
  {
   "cell_type": "markdown",
   "id": "493476a3",
   "metadata": {},
   "source": [
    "## Economic Model"
   ]
  },
  {
   "cell_type": "code",
   "execution_count": 3,
   "id": "ebe5e1c7",
   "metadata": {},
   "outputs": [],
   "source": [
    "#production_chain_df = pd.DataFrame(msgpack.unpackb(open(\"/tmp/production_chain.log\", \"rb\").read(), object_hook=serialization.decode_matrix))\n",
    "production_chain = serialization.load_production_chain(open(\"/tmp/production_chain.log\", \"rb\").read())\n",
    "production_chain_df = production_chain.adj_matrix"
   ]
  },
  {
   "cell_type": "code",
   "execution_count": 4,
   "id": "9e697251",
   "metadata": {},
   "outputs": [
    {
     "data": {
      "text/plain": [
       "(20, 20)"
      ]
     },
     "execution_count": 4,
     "metadata": {},
     "output_type": "execute_result"
    }
   ],
   "source": [
    "production_chain_df.shape"
   ]
  },
  {
   "cell_type": "code",
   "execution_count": 5,
   "id": "40bf57c3",
   "metadata": {},
   "outputs": [],
   "source": [
    "if os.path.exists(\"/tmp/agent_goods.log\"):\n",
    "    agent_goods_df = pd.DataFrame(msgpack.unpackb(open(\"/tmp/agent_goods.log\", \"rb\").read(), object_hook=serialization.decode_matrix))\n",
    "    #TODO: assumes every agent produces exactly one good\n",
    "    agent_goods = agent_goods_df.idxmax(axis=1)\n",
    "    loaded_agent_goods_from_file = True\n",
    "else:\n",
    "    loaded_agent_goods_from_file = False"
   ]
  },
  {
   "cell_type": "markdown",
   "id": "5a7b1d29",
   "metadata": {},
   "source": [
    "## Loading Other Data"
   ]
  },
  {
   "cell_type": "code",
   "execution_count": 6,
   "id": "12abceb4",
   "metadata": {},
   "outputs": [],
   "source": [
    "buy_price_df = serialization.read_tick_log_to_df(open(\"/tmp/buy_prices.log\", \"rb\"), index_name=\"agent\").reset_index()\n",
    "buy_budget_df = serialization.read_tick_log_to_df(open(\"/tmp/buy_budget.log\", \"rb\"), index_name=\"agent\").reset_index()\n",
    "sell_price_df = serialization.read_tick_log_to_df(open(\"/tmp/sell_prices.log\", \"rb\"), index_name=\"agent\", fill_values=np.inf).reset_index()\n",
    "max_buy_price_df = serialization.read_tick_log_to_df(open(\"/tmp/max_buy_prices.log\", \"rb\"), index_name=\"agent\").reset_index()\n",
    "min_sell_price_df = serialization.read_tick_log_to_df(open(\"/tmp/min_sell_prices.log\", \"rb\"), index_name=\"agent\", fill_values=np.inf).reset_index()"
   ]
  },
  {
   "cell_type": "code",
   "execution_count": 7,
   "id": "04ce57f9",
   "metadata": {},
   "outputs": [],
   "source": [
    "# if we were not able to load agent_goods_df above, infer it from sell prices now\n",
    "if not loaded_agent_goods_from_file:\n",
    "    g = sell_price_df.drop(\"tick\", axis=1).groupby(\"agent\").min()\n",
    "    agent_goods_df = np.zeros((len(g),production_chain.num_products), dtype=int)\n",
    "    agent_goods = np.full((len(g),), -3)\n",
    "    for i in g.index:\n",
    "        if g.loc[i].min() > 0:\n",
    "            agent_goods_df[i,g.loc[i].argmin()] = 1\n",
    "            agent_goods[i] = g.loc[i].argmin()\n",
    "    agent_goods_df = pd.DataFrame(agent_goods_df)\n",
    "    agent_goods = pd.Series(agent_goods)"
   ]
  },
  {
   "cell_type": "code",
   "execution_count": 8,
   "id": "3c28ecec",
   "metadata": {},
   "outputs": [],
   "source": [
    "production_goods = agent_goods_df @ production_chain_df.T"
   ]
  },
  {
   "cell_type": "code",
   "execution_count": 9,
   "id": "67d97016",
   "metadata": {},
   "outputs": [],
   "source": [
    "columns = [\"tick\", \"product\", \"buyer\", \"seller\", \"price\", \"amount\"]\n",
    "transaction_df = pd.read_csv(\"/tmp/transactions.log\", sep=\"\\t\", header=None, names=columns)"
   ]
  },
  {
   "cell_type": "code",
   "execution_count": 10,
   "id": "0ba8c521",
   "metadata": {},
   "outputs": [],
   "source": [
    "transaction_df[\"value\"] = transaction_df[\"amount\"] * transaction_df[\"price\"]"
   ]
  },
  {
   "cell_type": "code",
   "execution_count": 11,
   "id": "d3f033ee",
   "metadata": {},
   "outputs": [],
   "source": [
    "# if you want to interpret tick as datetime in stellarpunk universe\n",
    "#transaction_df[\"tick\"] += time.mktime(datetime.datetime(2234, 4, 3).timetuple())\n",
    "#transaction_df[\"tick\"] = pd.to_datetime(transaction_df[\"tick\"], unit=\"s\")"
   ]
  },
  {
   "cell_type": "code",
   "execution_count": 12,
   "id": "1b81db9a",
   "metadata": {},
   "outputs": [],
   "source": [
    "cannot_buy_df = serialization.read_tick_log_to_df(open(\"/tmp/cannot_buy.log\", \"rb\"), index_name=\"agent\", fill_values=0.).reset_index()\n",
    "cannot_sell_df = serialization.read_tick_log_to_df(open(\"/tmp/cannot_sell.log\", \"rb\"), index_name=\"agent\", fill_values=0.).reset_index()"
   ]
  },
  {
   "cell_type": "code",
   "execution_count": 13,
   "id": "680d49bd",
   "metadata": {},
   "outputs": [],
   "source": [
    "balance_df = serialization.read_tick_log_to_df(open(\"/tmp/balance.log\", \"rb\"), index_name=\"agent\", column_names=[\"balance\"])\n",
    "balance_df.reset_index(inplace=True)"
   ]
  },
  {
   "cell_type": "code",
   "execution_count": 14,
   "id": "6e77aeb6",
   "metadata": {},
   "outputs": [],
   "source": [
    "#columns = list(map(lambda x: str(x), range(production_chain_df.shape[0])))\n",
    "columns=None\n",
    "inventory_df = serialization.read_tick_log_to_df(open(\"/tmp/inventory.log\", \"rb\"), index_name=\"agent\", column_names=columns)\n",
    "inventory_df.reset_index(inplace=True)"
   ]
  },
  {
   "cell_type": "code",
   "execution_count": 15,
   "id": "7d6a17de",
   "metadata": {},
   "outputs": [],
   "source": [
    "#production_efficiency_df = serialization.read_tick_log_to_df(open(\"/tmp/production_efficiency.log\", \"rb\"), index_name=\"agent\")"
   ]
  },
  {
   "cell_type": "markdown",
   "id": "315237e7",
   "metadata": {},
   "source": [
    "# Transactions"
   ]
  },
  {
   "cell_type": "markdown",
   "id": "44269c02",
   "metadata": {},
   "source": [
    "## Market Overview"
   ]
  },
  {
   "cell_type": "code",
   "execution_count": 16,
   "id": "f4931977",
   "metadata": {},
   "outputs": [
    {
     "data": {
      "text/html": [
       "<div>\n",
       "<style scoped>\n",
       "    .dataframe tbody tr th:only-of-type {\n",
       "        vertical-align: middle;\n",
       "    }\n",
       "\n",
       "    .dataframe tbody tr th {\n",
       "        vertical-align: top;\n",
       "    }\n",
       "\n",
       "    .dataframe thead th {\n",
       "        text-align: right;\n",
       "    }\n",
       "</style>\n",
       "<table border=\"1\" class=\"dataframe\">\n",
       "  <thead>\n",
       "    <tr style=\"text-align: right;\">\n",
       "      <th></th>\n",
       "      <th>amount</th>\n",
       "      <th>value</th>\n",
       "    </tr>\n",
       "    <tr>\n",
       "      <th>product</th>\n",
       "      <th></th>\n",
       "      <th></th>\n",
       "    </tr>\n",
       "  </thead>\n",
       "  <tbody>\n",
       "    <tr>\n",
       "      <th>0</th>\n",
       "      <td>306657.080844</td>\n",
       "      <td>4.919486e+06</td>\n",
       "    </tr>\n",
       "    <tr>\n",
       "      <th>1</th>\n",
       "      <td>452341.000000</td>\n",
       "      <td>2.125922e+06</td>\n",
       "    </tr>\n",
       "    <tr>\n",
       "      <th>2</th>\n",
       "      <td>202194.118123</td>\n",
       "      <td>2.540313e+06</td>\n",
       "    </tr>\n",
       "    <tr>\n",
       "      <th>3</th>\n",
       "      <td>118379.000000</td>\n",
       "      <td>2.873625e+06</td>\n",
       "    </tr>\n",
       "    <tr>\n",
       "      <th>4</th>\n",
       "      <td>20911.000000</td>\n",
       "      <td>2.458404e+06</td>\n",
       "    </tr>\n",
       "    <tr>\n",
       "      <th>5</th>\n",
       "      <td>44824.000000</td>\n",
       "      <td>1.974026e+06</td>\n",
       "    </tr>\n",
       "    <tr>\n",
       "      <th>6</th>\n",
       "      <td>22324.000000</td>\n",
       "      <td>1.553270e+06</td>\n",
       "    </tr>\n",
       "    <tr>\n",
       "      <th>7</th>\n",
       "      <td>12048.000000</td>\n",
       "      <td>2.804581e+06</td>\n",
       "    </tr>\n",
       "    <tr>\n",
       "      <th>8</th>\n",
       "      <td>8361.000000</td>\n",
       "      <td>5.469662e+06</td>\n",
       "    </tr>\n",
       "    <tr>\n",
       "      <th>9</th>\n",
       "      <td>13354.000000</td>\n",
       "      <td>1.420702e+07</td>\n",
       "    </tr>\n",
       "    <tr>\n",
       "      <th>10</th>\n",
       "      <td>16930.000000</td>\n",
       "      <td>5.205140e+07</td>\n",
       "    </tr>\n",
       "    <tr>\n",
       "      <th>11</th>\n",
       "      <td>12885.000000</td>\n",
       "      <td>6.235563e+06</td>\n",
       "    </tr>\n",
       "    <tr>\n",
       "      <th>12</th>\n",
       "      <td>8511.000000</td>\n",
       "      <td>1.396154e+07</td>\n",
       "    </tr>\n",
       "    <tr>\n",
       "      <th>13</th>\n",
       "      <td>3412.000000</td>\n",
       "      <td>1.777456e+08</td>\n",
       "    </tr>\n",
       "    <tr>\n",
       "      <th>14</th>\n",
       "      <td>4500.000000</td>\n",
       "      <td>1.089807e+08</td>\n",
       "    </tr>\n",
       "    <tr>\n",
       "      <th>15</th>\n",
       "      <td>35167.000000</td>\n",
       "      <td>6.555584e+08</td>\n",
       "    </tr>\n",
       "    <tr>\n",
       "      <th>16</th>\n",
       "      <td>2856.000000</td>\n",
       "      <td>1.030251e+08</td>\n",
       "    </tr>\n",
       "  </tbody>\n",
       "</table>\n",
       "</div>"
      ],
      "text/plain": [
       "                amount         value\n",
       "product                             \n",
       "0        306657.080844  4.919486e+06\n",
       "1        452341.000000  2.125922e+06\n",
       "2        202194.118123  2.540313e+06\n",
       "3        118379.000000  2.873625e+06\n",
       "4         20911.000000  2.458404e+06\n",
       "5         44824.000000  1.974026e+06\n",
       "6         22324.000000  1.553270e+06\n",
       "7         12048.000000  2.804581e+06\n",
       "8          8361.000000  5.469662e+06\n",
       "9         13354.000000  1.420702e+07\n",
       "10        16930.000000  5.205140e+07\n",
       "11        12885.000000  6.235563e+06\n",
       "12         8511.000000  1.396154e+07\n",
       "13         3412.000000  1.777456e+08\n",
       "14         4500.000000  1.089807e+08\n",
       "15        35167.000000  6.555584e+08\n",
       "16         2856.000000  1.030251e+08"
      ]
     },
     "execution_count": 16,
     "metadata": {},
     "output_type": "execute_result"
    }
   ],
   "source": [
    "transaction_df.groupby(\"product\")[[\"amount\", \"value\"]].sum()"
   ]
  },
  {
   "cell_type": "code",
   "execution_count": 17,
   "id": "4286367d",
   "metadata": {},
   "outputs": [],
   "source": [
    "#transaction_tick_grouping = \"tick\"\n",
    "transaction_tick_grouping = transaction_df[\"tick\"] // (5*60)"
   ]
  },
  {
   "cell_type": "code",
   "execution_count": 18,
   "id": "45882546",
   "metadata": {},
   "outputs": [
    {
     "name": "stdout",
     "output_type": "stream",
     "text": [
      "5581 transactions total\n"
     ]
    },
    {
     "data": {
      "image/png": "[encoded data removed]",
      "text/plain": [
       "<Figure size 432x288 with 1 Axes>"
      ]
     },
     "metadata": {
      "needs_background": "light"
     },
     "output_type": "display_data"
    }
   ],
   "source": [
    "transaction_df.groupby(transaction_tick_grouping)[\"price\"].count().plot()\n",
    "plt.title(\"transaction count by tick\")\n",
    "print(f'{len(transaction_df)} transactions total')"
   ]
  },
  {
   "cell_type": "code",
   "execution_count": 19,
   "id": "ea9f0181",
   "metadata": {},
   "outputs": [
    {
     "data": {
      "text/plain": [
       "Text(0.5, 1.0, 'product 0 transaction count per tick')"
      ]
     },
     "execution_count": 19,
     "metadata": {},
     "output_type": "execute_result"
    },
    {
     "data": {
      "image/png": "[encoded data removed]",
      "text/plain": [
       "<Figure size 432x288 with 1 Axes>"
      ]
     },
     "metadata": {
      "needs_background": "light"
     },
     "output_type": "display_data"
    }
   ],
   "source": [
    "transaction_df[transaction_df[\"product\"] == 0].groupby(\"tick\")[\"price\"].count().plot()\n",
    "plt.title(\"product 0 transaction count per tick\")"
   ]
  },
  {
   "cell_type": "code",
   "execution_count": 20,
   "id": "972bc999",
   "metadata": {},
   "outputs": [
    {
     "data": {
      "text/plain": [
       "Text(0.5, 1.0, 'transaction unit quantity per tick')"
      ]
     },
     "execution_count": 20,
     "metadata": {},
     "output_type": "execute_result"
    },
    {
     "data": {
      "image/png": "[encoded data removed]",
      "text/plain": [
       "<Figure size 432x288 with 1 Axes>"
      ]
     },
     "metadata": {
      "needs_background": "light"
     },
     "output_type": "display_data"
    }
   ],
   "source": [
    "transaction_df.groupby(transaction_tick_grouping)[\"amount\"].sum().plot()\n",
    "plt.title(\"transaction unit quantity per tick\")"
   ]
  },
  {
   "cell_type": "code",
   "execution_count": 21,
   "id": "ed265d99",
   "metadata": {},
   "outputs": [
    {
     "data": {
      "text/plain": [
       "Text(0.5, 1.0, 'transaction value per tick')"
      ]
     },
     "execution_count": 21,
     "metadata": {},
     "output_type": "execute_result"
    },
    {
     "data": {
      "image/png": "[encoded data removed]",
      "text/plain": [
       "<Figure size 432x288 with 1 Axes>"
      ]
     },
     "metadata": {
      "needs_background": "light"
     },
     "output_type": "display_data"
    }
   ],
   "source": [
    "transaction_df.groupby(transaction_tick_grouping)[\"value\"].sum().plot()\n",
    "plt.title(\"transaction value per tick\")"
   ]
  },
  {
   "cell_type": "code",
   "execution_count": 22,
   "id": "9b91df9b",
   "metadata": {},
   "outputs": [
    {
     "data": {
      "text/plain": [
       "Text(0.5, 1.0, 'distinct products sold per tick')"
      ]
     },
     "execution_count": 22,
     "metadata": {},
     "output_type": "execute_result"
    },
    {
     "data": {
      "image/png": "[encoded data removed]",
      "text/plain": [
       "<Figure size 432x288 with 1 Axes>"
      ]
     },
     "metadata": {
      "needs_background": "light"
     },
     "output_type": "display_data"
    }
   ],
   "source": [
    "transaction_df.groupby(transaction_tick_grouping)[\"product\"].nunique().plot()\n",
    "plt.title(\"distinct products sold per tick\") "
   ]
  },
  {
   "cell_type": "code",
   "execution_count": 23,
   "id": "1bd20b91",
   "metadata": {},
   "outputs": [
    {
     "data": {
      "text/plain": [
       "Text(0.5, 1.0, 'distinct sellers per tick')"
      ]
     },
     "execution_count": 23,
     "metadata": {},
     "output_type": "execute_result"
    },
    {
     "data": {
      "image/png": "[encoded data removed]",
      "text/plain": [
       "<Figure size 432x288 with 1 Axes>"
      ]
     },
     "metadata": {
      "needs_background": "light"
     },
     "output_type": "display_data"
    }
   ],
   "source": [
    "transaction_df.groupby(transaction_tick_grouping)[\"seller\"].nunique().plot()\n",
    "plt.title(\"distinct sellers per tick\")"
   ]
  },
  {
   "cell_type": "code",
   "execution_count": 24,
   "id": "501a34d5",
   "metadata": {},
   "outputs": [
    {
     "data": {
      "text/plain": [
       "Text(0.5, 1.0, 'distinct buyers per tick')"
      ]
     },
     "execution_count": 24,
     "metadata": {},
     "output_type": "execute_result"
    },
    {
     "data": {
      "image/png": "[encoded data removed]",
      "text/plain": [
       "<Figure size 432x288 with 1 Axes>"
      ]
     },
     "metadata": {
      "needs_background": "light"
     },
     "output_type": "display_data"
    }
   ],
   "source": [
    "transaction_df.groupby(transaction_tick_grouping)[\"buyer\"].nunique().plot()\n",
    "plt.title(\"distinct buyers per tick\")"
   ]
  },
  {
   "cell_type": "code",
   "execution_count": 25,
   "id": "31a507f8",
   "metadata": {},
   "outputs": [
    {
     "data": {
      "text/plain": [
       "607"
      ]
     },
     "execution_count": 25,
     "metadata": {},
     "output_type": "execute_result"
    }
   ],
   "source": [
    "transaction_df[\"seller\"].nunique()"
   ]
  },
  {
   "cell_type": "code",
   "execution_count": 26,
   "id": "d043ecf1",
   "metadata": {},
   "outputs": [
    {
     "data": {
      "text/plain": [
       "475"
      ]
     },
     "execution_count": 26,
     "metadata": {},
     "output_type": "execute_result"
    }
   ],
   "source": [
    "transaction_df[\"buyer\"].nunique()"
   ]
  },
  {
   "cell_type": "code",
   "execution_count": 27,
   "id": "eed1ef75",
   "metadata": {},
   "outputs": [
    {
     "data": {
      "text/plain": [
       "17"
      ]
     },
     "execution_count": 27,
     "metadata": {},
     "output_type": "execute_result"
    }
   ],
   "source": [
    "transaction_df[\"product\"].nunique()"
   ]
  },
  {
   "cell_type": "code",
   "execution_count": 28,
   "id": "c8f19015",
   "metadata": {},
   "outputs": [
    {
     "data": {
      "text/plain": [
       "<AxesSubplot:>"
      ]
     },
     "execution_count": 28,
     "metadata": {},
     "output_type": "execute_result"
    },
    {
     "data": {
      "image/png": "[encoded data removed]",
      "text/plain": [
       "<Figure size 720x360 with 1 Axes>"
      ]
     },
     "metadata": {
      "needs_background": "light"
     },
     "output_type": "display_data"
    }
   ],
   "source": [
    "plt.figure(figsize=(10,5))\n",
    "transaction_df[\"product\"].hist(bins=transaction_df[\"product\"].nunique())"
   ]
  },
  {
   "cell_type": "code",
   "execution_count": 29,
   "id": "af329353",
   "metadata": {},
   "outputs": [
    {
     "data": {
      "text/plain": [
       "Text(0.5, 1.0, 'max product id sold each tick')"
      ]
     },
     "execution_count": 29,
     "metadata": {},
     "output_type": "execute_result"
    },
    {
     "data": {
      "image/png": "[encoded data removed]",
      "text/plain": [
       "<Figure size 432x288 with 1 Axes>"
      ]
     },
     "metadata": {
      "needs_background": "light"
     },
     "output_type": "display_data"
    }
   ],
   "source": [
    "transaction_df.groupby(transaction_tick_grouping)[\"product\"].max().plot()\n",
    "plt.axhline(production_chain_df.shape[1], color=\"red\")\n",
    "plt.title(\"max product id sold each tick\")"
   ]
  },
  {
   "cell_type": "markdown",
   "id": "d08fd4f3",
   "metadata": {
    "heading_collapsed": true
   },
   "source": [
    "## Further Exploration"
   ]
  },
  {
   "cell_type": "code",
   "execution_count": 30,
   "id": "3c5b9c3a",
   "metadata": {
    "hidden": true
   },
   "outputs": [
    {
     "data": {
      "text/plain": [
       "count     1.000000\n",
       "mean     38.397866\n",
       "std            NaN\n",
       "min      38.397866\n",
       "25%      38.397866\n",
       "50%      38.397866\n",
       "75%      38.397866\n",
       "max      38.397866\n",
       "Name: price, dtype: float64"
      ]
     },
     "execution_count": 30,
     "metadata": {},
     "output_type": "execute_result"
    }
   ],
   "source": [
    "transaction_df[transaction_df[\"seller\"] == 3][\"price\"].describe()"
   ]
  },
  {
   "cell_type": "code",
   "execution_count": 31,
   "id": "8a17eb90",
   "metadata": {
    "hidden": true
   },
   "outputs": [
    {
     "data": {
      "text/plain": [
       "Text(0.5, 1.0, 'price of product 0 over time')"
      ]
     },
     "execution_count": 31,
     "metadata": {},
     "output_type": "execute_result"
    },
    {
     "data": {
      "image/png": "[encoded data removed]",
      "text/plain": [
       "<Figure size 432x288 with 1 Axes>"
      ]
     },
     "metadata": {
      "needs_background": "light"
     },
     "output_type": "display_data"
    }
   ],
   "source": [
    "transaction_df[transaction_df[\"product\"] == 0].groupby(\"tick\")[\"price\"].mean().plot()\n",
    "plt.title(\"price of product 0 over time\")"
   ]
  },
  {
   "cell_type": "code",
   "execution_count": 32,
   "id": "e39b74e4",
   "metadata": {
    "hidden": true
   },
   "outputs": [
    {
     "data": {
      "text/plain": [
       "Text(0.5, 1.0, 'price of product 3 over time')"
      ]
     },
     "execution_count": 32,
     "metadata": {},
     "output_type": "execute_result"
    },
    {
     "data": {
      "image/png": "[encoded data removed]",
      "text/plain": [
       "<Figure size 432x288 with 1 Axes>"
      ]
     },
     "metadata": {
      "needs_background": "light"
     },
     "output_type": "display_data"
    }
   ],
   "source": [
    "transaction_df[transaction_df[\"product\"] == 3].groupby(\"tick\")[\"price\"].mean().plot()\n",
    "plt.title(\"price of product 3 over time\")"
   ]
  },
  {
   "cell_type": "code",
   "execution_count": 33,
   "id": "0160de55",
   "metadata": {
    "hidden": true
   },
   "outputs": [
    {
     "data": {
      "text/plain": [
       "<AxesSubplot:>"
      ]
     },
     "execution_count": 33,
     "metadata": {},
     "output_type": "execute_result"
    },
    {
     "data": {
      "image/png": "[encoded data removed]",
      "text/plain": [
       "<Figure size 432x288 with 1 Axes>"
      ]
     },
     "metadata": {
      "needs_background": "light"
     },
     "output_type": "display_data"
    }
   ],
   "source": [
    "transaction_df[transaction_df[\"buyer\"] == 3][\"price\"].hist()"
   ]
  },
  {
   "cell_type": "code",
   "execution_count": 34,
   "id": "9cb9ca1c",
   "metadata": {
    "hidden": true
   },
   "outputs": [
    {
     "data": {
      "image/png": "[encoded data removed]",
      "text/plain": [
       "<Figure size 432x288 with 1 Axes>"
      ]
     },
     "metadata": {
      "needs_background": "light"
     },
     "output_type": "display_data"
    }
   ],
   "source": [
    "plt.scatter(transaction_df[transaction_df[\"product\"] == 0].groupby(\"tick\")[\"price\"].mean(), transaction_df[transaction_df[\"product\"] == 0].groupby(\"tick\")[\"value\"].sum())\n",
    "plt.title(\"price vs revenue for product 0\")\n",
    "plt.show()"
   ]
  },
  {
   "cell_type": "code",
   "execution_count": 35,
   "id": "a783b178",
   "metadata": {
    "hidden": true
   },
   "outputs": [
    {
     "data": {
      "image/png": "[encoded data removed]",
      "text/plain": [
       "<Figure size 432x288 with 1 Axes>"
      ]
     },
     "metadata": {
      "needs_background": "light"
     },
     "output_type": "display_data"
    }
   ],
   "source": [
    "plt.scatter(transaction_df[transaction_df[\"product\"] == 3].groupby(\"tick\")[\"price\"].mean(), transaction_df[transaction_df[\"product\"] == 3].groupby(\"tick\")[\"value\"].sum())\n",
    "plt.title(\"price vs revenue for product 3\")\n",
    "plt.show()"
   ]
  },
  {
   "cell_type": "code",
   "execution_count": 36,
   "id": "be1f5968",
   "metadata": {
    "hidden": true
   },
   "outputs": [
    {
     "data": {
      "text/html": [
       "<div>\n",
       "<style scoped>\n",
       "    .dataframe tbody tr th:only-of-type {\n",
       "        vertical-align: middle;\n",
       "    }\n",
       "\n",
       "    .dataframe tbody tr th {\n",
       "        vertical-align: top;\n",
       "    }\n",
       "\n",
       "    .dataframe thead th {\n",
       "        text-align: right;\n",
       "    }\n",
       "</style>\n",
       "<table border=\"1\" class=\"dataframe\">\n",
       "  <thead>\n",
       "    <tr style=\"text-align: right;\">\n",
       "      <th></th>\n",
       "      <th>tick</th>\n",
       "      <th>product</th>\n",
       "      <th>buyer</th>\n",
       "      <th>seller</th>\n",
       "      <th>price</th>\n",
       "      <th>amount</th>\n",
       "      <th>value</th>\n",
       "    </tr>\n",
       "  </thead>\n",
       "  <tbody>\n",
       "    <tr>\n",
       "      <th>24</th>\n",
       "      <td>230.600000</td>\n",
       "      <td>0</td>\n",
       "      <td>785</td>\n",
       "      <td>783</td>\n",
       "      <td>16.042302</td>\n",
       "      <td>500.0</td>\n",
       "      <td>8021.151140</td>\n",
       "    </tr>\n",
       "    <tr>\n",
       "      <th>47</th>\n",
       "      <td>279.600000</td>\n",
       "      <td>0</td>\n",
       "      <td>492</td>\n",
       "      <td>490</td>\n",
       "      <td>16.042302</td>\n",
       "      <td>500.0</td>\n",
       "      <td>8021.151140</td>\n",
       "    </tr>\n",
       "    <tr>\n",
       "      <th>51</th>\n",
       "      <td>290.866667</td>\n",
       "      <td>0</td>\n",
       "      <td>785</td>\n",
       "      <td>756</td>\n",
       "      <td>16.042302</td>\n",
       "      <td>500.0</td>\n",
       "      <td>8021.151140</td>\n",
       "    </tr>\n",
       "    <tr>\n",
       "      <th>57</th>\n",
       "      <td>304.633333</td>\n",
       "      <td>0</td>\n",
       "      <td>492</td>\n",
       "      <td>460</td>\n",
       "      <td>16.042302</td>\n",
       "      <td>500.0</td>\n",
       "      <td>8021.151140</td>\n",
       "    </tr>\n",
       "    <tr>\n",
       "      <th>59</th>\n",
       "      <td>308.066667</td>\n",
       "      <td>0</td>\n",
       "      <td>54</td>\n",
       "      <td>8</td>\n",
       "      <td>16.042302</td>\n",
       "      <td>500.0</td>\n",
       "      <td>8021.151140</td>\n",
       "    </tr>\n",
       "    <tr>\n",
       "      <th>...</th>\n",
       "      <td>...</td>\n",
       "      <td>...</td>\n",
       "      <td>...</td>\n",
       "      <td>...</td>\n",
       "      <td>...</td>\n",
       "      <td>...</td>\n",
       "      <td>...</td>\n",
       "    </tr>\n",
       "    <tr>\n",
       "      <th>5566</th>\n",
       "      <td>10360.833333</td>\n",
       "      <td>0</td>\n",
       "      <td>943</td>\n",
       "      <td>976</td>\n",
       "      <td>16.042302</td>\n",
       "      <td>500.0</td>\n",
       "      <td>8021.151140</td>\n",
       "    </tr>\n",
       "    <tr>\n",
       "      <th>5567</th>\n",
       "      <td>10363.933333</td>\n",
       "      <td>0</td>\n",
       "      <td>34</td>\n",
       "      <td>36</td>\n",
       "      <td>16.042302</td>\n",
       "      <td>500.0</td>\n",
       "      <td>8021.151140</td>\n",
       "    </tr>\n",
       "    <tr>\n",
       "      <th>5568</th>\n",
       "      <td>10365.300000</td>\n",
       "      <td>0</td>\n",
       "      <td>943</td>\n",
       "      <td>926</td>\n",
       "      <td>16.042302</td>\n",
       "      <td>500.0</td>\n",
       "      <td>8021.151140</td>\n",
       "    </tr>\n",
       "    <tr>\n",
       "      <th>5572</th>\n",
       "      <td>10375.633333</td>\n",
       "      <td>0</td>\n",
       "      <td>497</td>\n",
       "      <td>476</td>\n",
       "      <td>16.042302</td>\n",
       "      <td>156.0</td>\n",
       "      <td>2502.599156</td>\n",
       "    </tr>\n",
       "    <tr>\n",
       "      <th>5575</th>\n",
       "      <td>10380.700000</td>\n",
       "      <td>0</td>\n",
       "      <td>943</td>\n",
       "      <td>925</td>\n",
       "      <td>16.042302</td>\n",
       "      <td>500.0</td>\n",
       "      <td>8021.151140</td>\n",
       "    </tr>\n",
       "  </tbody>\n",
       "</table>\n",
       "<p>709 rows × 7 columns</p>\n",
       "</div>"
      ],
      "text/plain": [
       "              tick  product  buyer  seller      price  amount        value\n",
       "24      230.600000        0    785     783  16.042302   500.0  8021.151140\n",
       "47      279.600000        0    492     490  16.042302   500.0  8021.151140\n",
       "51      290.866667        0    785     756  16.042302   500.0  8021.151140\n",
       "57      304.633333        0    492     460  16.042302   500.0  8021.151140\n",
       "59      308.066667        0     54       8  16.042302   500.0  8021.151140\n",
       "...            ...      ...    ...     ...        ...     ...          ...\n",
       "5566  10360.833333        0    943     976  16.042302   500.0  8021.151140\n",
       "5567  10363.933333        0     34      36  16.042302   500.0  8021.151140\n",
       "5568  10365.300000        0    943     926  16.042302   500.0  8021.151140\n",
       "5572  10375.633333        0    497     476  16.042302   156.0  2502.599156\n",
       "5575  10380.700000        0    943     925  16.042302   500.0  8021.151140\n",
       "\n",
       "[709 rows x 7 columns]"
      ]
     },
     "execution_count": 36,
     "metadata": {},
     "output_type": "execute_result"
    }
   ],
   "source": [
    "transaction_df[(transaction_df[\"price\"] > 12) & (transaction_df[\"product\"] == 0)]"
   ]
  },
  {
   "cell_type": "code",
   "execution_count": 37,
   "id": "fc82ed4d",
   "metadata": {
    "hidden": true
   },
   "outputs": [
    {
     "data": {
      "text/html": [
       "<div>\n",
       "<style scoped>\n",
       "    .dataframe tbody tr th:only-of-type {\n",
       "        vertical-align: middle;\n",
       "    }\n",
       "\n",
       "    .dataframe tbody tr th {\n",
       "        vertical-align: top;\n",
       "    }\n",
       "\n",
       "    .dataframe thead th {\n",
       "        text-align: right;\n",
       "    }\n",
       "</style>\n",
       "<table border=\"1\" class=\"dataframe\">\n",
       "  <thead>\n",
       "    <tr style=\"text-align: right;\">\n",
       "      <th></th>\n",
       "      <th>tick</th>\n",
       "      <th>price</th>\n",
       "      <th>amount</th>\n",
       "      <th>value</th>\n",
       "    </tr>\n",
       "    <tr>\n",
       "      <th>product</th>\n",
       "      <th></th>\n",
       "      <th></th>\n",
       "      <th></th>\n",
       "      <th></th>\n",
       "    </tr>\n",
       "  </thead>\n",
       "  <tbody>\n",
       "    <tr>\n",
       "      <th>0</th>\n",
       "      <td>10380.700000</td>\n",
       "      <td>16.042302</td>\n",
       "      <td>306657.080844</td>\n",
       "      <td>4.919486e+06</td>\n",
       "    </tr>\n",
       "    <tr>\n",
       "      <th>1</th>\n",
       "      <td>10355.366667</td>\n",
       "      <td>4.699822</td>\n",
       "      <td>452341.000000</td>\n",
       "      <td>2.125922e+06</td>\n",
       "    </tr>\n",
       "    <tr>\n",
       "      <th>2</th>\n",
       "      <td>10315.266667</td>\n",
       "      <td>12.563733</td>\n",
       "      <td>202194.118123</td>\n",
       "      <td>2.540313e+06</td>\n",
       "    </tr>\n",
       "    <tr>\n",
       "      <th>3</th>\n",
       "      <td>10357.000000</td>\n",
       "      <td>24.274787</td>\n",
       "      <td>118379.000000</td>\n",
       "      <td>2.873625e+06</td>\n",
       "    </tr>\n",
       "    <tr>\n",
       "      <th>4</th>\n",
       "      <td>10024.166667</td>\n",
       "      <td>118.058796</td>\n",
       "      <td>20911.000000</td>\n",
       "      <td>2.458404e+06</td>\n",
       "    </tr>\n",
       "    <tr>\n",
       "      <th>5</th>\n",
       "      <td>10345.400000</td>\n",
       "      <td>44.201487</td>\n",
       "      <td>44824.000000</td>\n",
       "      <td>1.974026e+06</td>\n",
       "    </tr>\n",
       "    <tr>\n",
       "      <th>6</th>\n",
       "      <td>10386.366667</td>\n",
       "      <td>69.648222</td>\n",
       "      <td>22324.000000</td>\n",
       "      <td>1.553270e+06</td>\n",
       "    </tr>\n",
       "    <tr>\n",
       "      <th>7</th>\n",
       "      <td>10385.066667</td>\n",
       "      <td>232.941528</td>\n",
       "      <td>12048.000000</td>\n",
       "      <td>2.804581e+06</td>\n",
       "    </tr>\n",
       "    <tr>\n",
       "      <th>8</th>\n",
       "      <td>10369.466667</td>\n",
       "      <td>654.439183</td>\n",
       "      <td>8361.000000</td>\n",
       "      <td>5.469662e+06</td>\n",
       "    </tr>\n",
       "    <tr>\n",
       "      <th>9</th>\n",
       "      <td>10200.900000</td>\n",
       "      <td>1062.088587</td>\n",
       "      <td>13354.000000</td>\n",
       "      <td>1.420702e+07</td>\n",
       "    </tr>\n",
       "    <tr>\n",
       "      <th>10</th>\n",
       "      <td>10383.700000</td>\n",
       "      <td>3084.168162</td>\n",
       "      <td>16930.000000</td>\n",
       "      <td>5.205140e+07</td>\n",
       "    </tr>\n",
       "    <tr>\n",
       "      <th>11</th>\n",
       "      <td>10374.333333</td>\n",
       "      <td>478.309726</td>\n",
       "      <td>12885.000000</td>\n",
       "      <td>6.235563e+06</td>\n",
       "    </tr>\n",
       "    <tr>\n",
       "      <th>12</th>\n",
       "      <td>10379.100000</td>\n",
       "      <td>1627.760709</td>\n",
       "      <td>8511.000000</td>\n",
       "      <td>1.396154e+07</td>\n",
       "    </tr>\n",
       "    <tr>\n",
       "      <th>13</th>\n",
       "      <td>10371.800000</td>\n",
       "      <td>51466.037885</td>\n",
       "      <td>3412.000000</td>\n",
       "      <td>1.777456e+08</td>\n",
       "    </tr>\n",
       "    <tr>\n",
       "      <th>14</th>\n",
       "      <td>8965.333333</td>\n",
       "      <td>23365.861496</td>\n",
       "      <td>4500.000000</td>\n",
       "      <td>1.089807e+08</td>\n",
       "    </tr>\n",
       "    <tr>\n",
       "      <th>15</th>\n",
       "      <td>10382.866667</td>\n",
       "      <td>19073.369623</td>\n",
       "      <td>35167.000000</td>\n",
       "      <td>6.555584e+08</td>\n",
       "    </tr>\n",
       "    <tr>\n",
       "      <th>16</th>\n",
       "      <td>10290.666667</td>\n",
       "      <td>34984.435604</td>\n",
       "      <td>2856.000000</td>\n",
       "      <td>1.030251e+08</td>\n",
       "    </tr>\n",
       "  </tbody>\n",
       "</table>\n",
       "</div>"
      ],
      "text/plain": [
       "                 tick         price         amount         value\n",
       "product                                                         \n",
       "0        10380.700000     16.042302  306657.080844  4.919486e+06\n",
       "1        10355.366667      4.699822  452341.000000  2.125922e+06\n",
       "2        10315.266667     12.563733  202194.118123  2.540313e+06\n",
       "3        10357.000000     24.274787  118379.000000  2.873625e+06\n",
       "4        10024.166667    118.058796   20911.000000  2.458404e+06\n",
       "5        10345.400000     44.201487   44824.000000  1.974026e+06\n",
       "6        10386.366667     69.648222   22324.000000  1.553270e+06\n",
       "7        10385.066667    232.941528   12048.000000  2.804581e+06\n",
       "8        10369.466667    654.439183    8361.000000  5.469662e+06\n",
       "9        10200.900000   1062.088587   13354.000000  1.420702e+07\n",
       "10       10383.700000   3084.168162   16930.000000  5.205140e+07\n",
       "11       10374.333333    478.309726   12885.000000  6.235563e+06\n",
       "12       10379.100000   1627.760709    8511.000000  1.396154e+07\n",
       "13       10371.800000  51466.037885    3412.000000  1.777456e+08\n",
       "14        8965.333333  23365.861496    4500.000000  1.089807e+08\n",
       "15       10382.866667  19073.369623   35167.000000  6.555584e+08\n",
       "16       10290.666667  34984.435604    2856.000000  1.030251e+08"
      ]
     },
     "execution_count": 37,
     "metadata": {},
     "output_type": "execute_result"
    }
   ],
   "source": [
    "transaction_df.groupby(\"product\").agg({\"tick\":\"max\", \"price\":\"mean\", \"amount\":\"sum\", \"value\":\"sum\"})"
   ]
  },
  {
   "cell_type": "markdown",
   "id": "7ee9470e",
   "metadata": {},
   "source": [
    "## Transaction Graph"
   ]
  },
  {
   "cell_type": "markdown",
   "id": "12c80942",
   "metadata": {},
   "source": [
    "### By Agent"
   ]
  },
  {
   "cell_type": "code",
   "execution_count": 38,
   "id": "8f08f688",
   "metadata": {},
   "outputs": [
    {
     "data": {
      "text/html": [
       "<div>\n",
       "<style scoped>\n",
       "    .dataframe tbody tr th:only-of-type {\n",
       "        vertical-align: middle;\n",
       "    }\n",
       "\n",
       "    .dataframe tbody tr th {\n",
       "        vertical-align: top;\n",
       "    }\n",
       "\n",
       "    .dataframe thead th {\n",
       "        text-align: right;\n",
       "    }\n",
       "</style>\n",
       "<table border=\"1\" class=\"dataframe\">\n",
       "  <thead>\n",
       "    <tr style=\"text-align: right;\">\n",
       "      <th></th>\n",
       "      <th>buyer</th>\n",
       "      <th>seller</th>\n",
       "      <th>amount</th>\n",
       "    </tr>\n",
       "  </thead>\n",
       "  <tbody>\n",
       "    <tr>\n",
       "      <th>0</th>\n",
       "      <td>0</td>\n",
       "      <td>13</td>\n",
       "      <td>500.0</td>\n",
       "    </tr>\n",
       "    <tr>\n",
       "      <th>1</th>\n",
       "      <td>0</td>\n",
       "      <td>19</td>\n",
       "      <td>500.0</td>\n",
       "    </tr>\n",
       "    <tr>\n",
       "      <th>2</th>\n",
       "      <td>0</td>\n",
       "      <td>22</td>\n",
       "      <td>500.0</td>\n",
       "    </tr>\n",
       "    <tr>\n",
       "      <th>3</th>\n",
       "      <td>0</td>\n",
       "      <td>36</td>\n",
       "      <td>107.0</td>\n",
       "    </tr>\n",
       "    <tr>\n",
       "      <th>4</th>\n",
       "      <td>0</td>\n",
       "      <td>39</td>\n",
       "      <td>251.0</td>\n",
       "    </tr>\n",
       "    <tr>\n",
       "      <th>...</th>\n",
       "      <td>...</td>\n",
       "      <td>...</td>\n",
       "      <td>...</td>\n",
       "    </tr>\n",
       "    <tr>\n",
       "      <th>2547</th>\n",
       "      <td>990</td>\n",
       "      <td>968</td>\n",
       "      <td>13.0</td>\n",
       "    </tr>\n",
       "    <tr>\n",
       "      <th>2548</th>\n",
       "      <td>990</td>\n",
       "      <td>970</td>\n",
       "      <td>1.0</td>\n",
       "    </tr>\n",
       "    <tr>\n",
       "      <th>2549</th>\n",
       "      <td>990</td>\n",
       "      <td>980</td>\n",
       "      <td>15.0</td>\n",
       "    </tr>\n",
       "    <tr>\n",
       "      <th>2550</th>\n",
       "      <td>990</td>\n",
       "      <td>982</td>\n",
       "      <td>1044.0</td>\n",
       "    </tr>\n",
       "    <tr>\n",
       "      <th>2551</th>\n",
       "      <td>990</td>\n",
       "      <td>986</td>\n",
       "      <td>15.0</td>\n",
       "    </tr>\n",
       "  </tbody>\n",
       "</table>\n",
       "<p>2552 rows × 3 columns</p>\n",
       "</div>"
      ],
      "text/plain": [
       "      buyer  seller  amount\n",
       "0         0      13   500.0\n",
       "1         0      19   500.0\n",
       "2         0      22   500.0\n",
       "3         0      36   107.0\n",
       "4         0      39   251.0\n",
       "...     ...     ...     ...\n",
       "2547    990     968    13.0\n",
       "2548    990     970     1.0\n",
       "2549    990     980    15.0\n",
       "2550    990     982  1044.0\n",
       "2551    990     986    15.0\n",
       "\n",
       "[2552 rows x 3 columns]"
      ]
     },
     "execution_count": 38,
     "metadata": {},
     "output_type": "execute_result"
    }
   ],
   "source": [
    "transaction_df.groupby([\"buyer\", \"seller\"])[\"amount\"].sum().to_frame().reset_index()"
   ]
  },
  {
   "cell_type": "code",
   "execution_count": 39,
   "id": "214f1a71",
   "metadata": {},
   "outputs": [],
   "source": [
    "G = nx.from_pandas_edgelist(\n",
    "    transaction_df.groupby([\"buyer\", \"seller\"])[\"amount\"].sum().to_frame().reset_index(),\n",
    "    source=\"seller\", target=\"buyer\", edge_attr=\"amount\", create_using=nx.DiGraph)"
   ]
  },
  {
   "cell_type": "code",
   "execution_count": 40,
   "id": "5f347534",
   "metadata": {},
   "outputs": [],
   "source": [
    "labels = pd.DataFrame(transaction_df.groupby(\"seller\")[\"product\"].first()).apply(lambda x: f'{x.name}:{x[\"product\"]}', axis=1)"
   ]
  },
  {
   "cell_type": "code",
   "execution_count": 41,
   "id": "1081357e",
   "metadata": {},
   "outputs": [],
   "source": [
    "G = nx.relabel_nodes(G, labels)"
   ]
  },
  {
   "cell_type": "code",
   "execution_count": 42,
   "id": "8f218e8f",
   "metadata": {},
   "outputs": [
    {
     "data": {
      "text/plain": [
       "False"
      ]
     },
     "execution_count": 42,
     "metadata": {},
     "output_type": "execute_result"
    }
   ],
   "source": [
    "nx.is_directed_acyclic_graph(G)"
   ]
  },
  {
   "cell_type": "code",
   "execution_count": 43,
   "id": "3403689a",
   "metadata": {},
   "outputs": [],
   "source": [
    "# this is pretty slow for lots of agents\n",
    "#plt.figure(figsize=(15, 15))\n",
    "#pos = graphviz_layout(G, prog='dot')\n",
    "#nx.draw(G, pos, with_labels=True, arrows=True)\n",
    "#nx.draw_networkx_edge_labels(G, pos)\n",
    "#plt.show()"
   ]
  },
  {
   "cell_type": "markdown",
   "id": "1fe9c3ce",
   "metadata": {},
   "source": [
    "### By Good"
   ]
  },
  {
   "cell_type": "code",
   "execution_count": 44,
   "id": "1c66db83",
   "metadata": {},
   "outputs": [],
   "source": [
    "augmented_transaction_df = transaction_df.merge(agent_goods.rename(\"buyer_product\"), how=\"left\", left_on=\"buyer\", right_index=True)\n",
    "augmented_transaction_df[\"buyer_product\"].fillna(-2, inplace=True)\n",
    "product_flow = augmented_transaction_df.groupby([\"product\", \"buyer_product\"]).agg({\"value\":\"sum\", \"amount\":\"sum\"}).reset_index().rename({\"buyer_product\":\"target\", \"product\":\"source\"}, axis=1)"
   ]
  },
  {
   "cell_type": "code",
   "execution_count": 45,
   "id": "2fd3e874",
   "metadata": {},
   "outputs": [
    {
     "data": {
      "text/html": [
       "<div>\n",
       "<style scoped>\n",
       "    .dataframe tbody tr th:only-of-type {\n",
       "        vertical-align: middle;\n",
       "    }\n",
       "\n",
       "    .dataframe tbody tr th {\n",
       "        vertical-align: top;\n",
       "    }\n",
       "\n",
       "    .dataframe thead th {\n",
       "        text-align: right;\n",
       "    }\n",
       "</style>\n",
       "<table border=\"1\" class=\"dataframe\">\n",
       "  <thead>\n",
       "    <tr style=\"text-align: right;\">\n",
       "      <th></th>\n",
       "      <th>source</th>\n",
       "      <th>target</th>\n",
       "      <th>value</th>\n",
       "      <th>amount</th>\n",
       "    </tr>\n",
       "  </thead>\n",
       "  <tbody>\n",
       "    <tr>\n",
       "      <th>0</th>\n",
       "      <td>0</td>\n",
       "      <td>4</td>\n",
       "      <td>4.919486e+06</td>\n",
       "      <td>306657.080844</td>\n",
       "    </tr>\n",
       "    <tr>\n",
       "      <th>1</th>\n",
       "      <td>1</td>\n",
       "      <td>5</td>\n",
       "      <td>2.125922e+06</td>\n",
       "      <td>452341.000000</td>\n",
       "    </tr>\n",
       "    <tr>\n",
       "      <th>2</th>\n",
       "      <td>2</td>\n",
       "      <td>6</td>\n",
       "      <td>2.540313e+06</td>\n",
       "      <td>202194.118123</td>\n",
       "    </tr>\n",
       "    <tr>\n",
       "      <th>3</th>\n",
       "      <td>3</td>\n",
       "      <td>7</td>\n",
       "      <td>2.873625e+06</td>\n",
       "      <td>118379.000000</td>\n",
       "    </tr>\n",
       "    <tr>\n",
       "      <th>4</th>\n",
       "      <td>4</td>\n",
       "      <td>-3</td>\n",
       "      <td>1.145316e+06</td>\n",
       "      <td>10864.000000</td>\n",
       "    </tr>\n",
       "    <tr>\n",
       "      <th>5</th>\n",
       "      <td>4</td>\n",
       "      <td>12</td>\n",
       "      <td>1.313088e+06</td>\n",
       "      <td>10047.000000</td>\n",
       "    </tr>\n",
       "    <tr>\n",
       "      <th>6</th>\n",
       "      <td>5</td>\n",
       "      <td>-3</td>\n",
       "      <td>8.701724e+05</td>\n",
       "      <td>22662.000000</td>\n",
       "    </tr>\n",
       "    <tr>\n",
       "      <th>7</th>\n",
       "      <td>5</td>\n",
       "      <td>11</td>\n",
       "      <td>1.103853e+06</td>\n",
       "      <td>22162.000000</td>\n",
       "    </tr>\n",
       "    <tr>\n",
       "      <th>8</th>\n",
       "      <td>6</td>\n",
       "      <td>-3</td>\n",
       "      <td>7.989621e+05</td>\n",
       "      <td>11662.000000</td>\n",
       "    </tr>\n",
       "    <tr>\n",
       "      <th>9</th>\n",
       "      <td>6</td>\n",
       "      <td>8</td>\n",
       "      <td>7.543080e+05</td>\n",
       "      <td>10662.000000</td>\n",
       "    </tr>\n",
       "    <tr>\n",
       "      <th>10</th>\n",
       "      <td>7</td>\n",
       "      <td>-3</td>\n",
       "      <td>1.196932e+06</td>\n",
       "      <td>6530.000000</td>\n",
       "    </tr>\n",
       "    <tr>\n",
       "      <th>11</th>\n",
       "      <td>7</td>\n",
       "      <td>10</td>\n",
       "      <td>1.607649e+06</td>\n",
       "      <td>5518.000000</td>\n",
       "    </tr>\n",
       "    <tr>\n",
       "      <th>12</th>\n",
       "      <td>8</td>\n",
       "      <td>-3</td>\n",
       "      <td>2.225452e+06</td>\n",
       "      <td>4356.000000</td>\n",
       "    </tr>\n",
       "    <tr>\n",
       "      <th>13</th>\n",
       "      <td>8</td>\n",
       "      <td>13</td>\n",
       "      <td>3.219095e+06</td>\n",
       "      <td>3972.000000</td>\n",
       "    </tr>\n",
       "    <tr>\n",
       "      <th>14</th>\n",
       "      <td>8</td>\n",
       "      <td>15</td>\n",
       "      <td>2.511515e+04</td>\n",
       "      <td>33.000000</td>\n",
       "    </tr>\n",
       "    <tr>\n",
       "      <th>15</th>\n",
       "      <td>9</td>\n",
       "      <td>-3</td>\n",
       "      <td>6.205404e+06</td>\n",
       "      <td>6802.000000</td>\n",
       "    </tr>\n",
       "    <tr>\n",
       "      <th>16</th>\n",
       "      <td>9</td>\n",
       "      <td>14</td>\n",
       "      <td>8.001620e+06</td>\n",
       "      <td>6552.000000</td>\n",
       "    </tr>\n",
       "    <tr>\n",
       "      <th>17</th>\n",
       "      <td>10</td>\n",
       "      <td>-3</td>\n",
       "      <td>2.098982e+07</td>\n",
       "      <td>8759.000000</td>\n",
       "    </tr>\n",
       "    <tr>\n",
       "      <th>18</th>\n",
       "      <td>10</td>\n",
       "      <td>13</td>\n",
       "      <td>3.106158e+07</td>\n",
       "      <td>8171.000000</td>\n",
       "    </tr>\n",
       "    <tr>\n",
       "      <th>19</th>\n",
       "      <td>11</td>\n",
       "      <td>-3</td>\n",
       "      <td>2.419860e+06</td>\n",
       "      <td>6588.000000</td>\n",
       "    </tr>\n",
       "    <tr>\n",
       "      <th>20</th>\n",
       "      <td>11</td>\n",
       "      <td>16</td>\n",
       "      <td>3.815703e+06</td>\n",
       "      <td>6297.000000</td>\n",
       "    </tr>\n",
       "    <tr>\n",
       "      <th>21</th>\n",
       "      <td>12</td>\n",
       "      <td>-3</td>\n",
       "      <td>5.472539e+06</td>\n",
       "      <td>4386.000000</td>\n",
       "    </tr>\n",
       "    <tr>\n",
       "      <th>22</th>\n",
       "      <td>12</td>\n",
       "      <td>15</td>\n",
       "      <td>1.672840e+04</td>\n",
       "      <td>9.000000</td>\n",
       "    </tr>\n",
       "    <tr>\n",
       "      <th>23</th>\n",
       "      <td>12</td>\n",
       "      <td>16</td>\n",
       "      <td>8.472270e+06</td>\n",
       "      <td>4116.000000</td>\n",
       "    </tr>\n",
       "    <tr>\n",
       "      <th>24</th>\n",
       "      <td>13</td>\n",
       "      <td>-3</td>\n",
       "      <td>7.370226e+07</td>\n",
       "      <td>1755.000000</td>\n",
       "    </tr>\n",
       "    <tr>\n",
       "      <th>25</th>\n",
       "      <td>13</td>\n",
       "      <td>17</td>\n",
       "      <td>7.520614e+07</td>\n",
       "      <td>1041.000000</td>\n",
       "    </tr>\n",
       "    <tr>\n",
       "      <th>26</th>\n",
       "      <td>13</td>\n",
       "      <td>18</td>\n",
       "      <td>2.265096e+07</td>\n",
       "      <td>487.000000</td>\n",
       "    </tr>\n",
       "    <tr>\n",
       "      <th>27</th>\n",
       "      <td>13</td>\n",
       "      <td>19</td>\n",
       "      <td>6.186287e+06</td>\n",
       "      <td>129.000000</td>\n",
       "    </tr>\n",
       "    <tr>\n",
       "      <th>28</th>\n",
       "      <td>14</td>\n",
       "      <td>-3</td>\n",
       "      <td>4.021393e+07</td>\n",
       "      <td>2250.000000</td>\n",
       "    </tr>\n",
       "    <tr>\n",
       "      <th>29</th>\n",
       "      <td>14</td>\n",
       "      <td>17</td>\n",
       "      <td>6.798007e+07</td>\n",
       "      <td>2211.000000</td>\n",
       "    </tr>\n",
       "    <tr>\n",
       "      <th>30</th>\n",
       "      <td>14</td>\n",
       "      <td>18</td>\n",
       "      <td>2.969198e+05</td>\n",
       "      <td>15.000000</td>\n",
       "    </tr>\n",
       "    <tr>\n",
       "      <th>31</th>\n",
       "      <td>14</td>\n",
       "      <td>19</td>\n",
       "      <td>4.898261e+05</td>\n",
       "      <td>24.000000</td>\n",
       "    </tr>\n",
       "    <tr>\n",
       "      <th>32</th>\n",
       "      <td>15</td>\n",
       "      <td>-3</td>\n",
       "      <td>2.679416e+08</td>\n",
       "      <td>18098.000000</td>\n",
       "    </tr>\n",
       "    <tr>\n",
       "      <th>33</th>\n",
       "      <td>15</td>\n",
       "      <td>17</td>\n",
       "      <td>3.024674e+08</td>\n",
       "      <td>11876.000000</td>\n",
       "    </tr>\n",
       "    <tr>\n",
       "      <th>34</th>\n",
       "      <td>15</td>\n",
       "      <td>18</td>\n",
       "      <td>8.514942e+07</td>\n",
       "      <td>5193.000000</td>\n",
       "    </tr>\n",
       "    <tr>\n",
       "      <th>35</th>\n",
       "      <td>16</td>\n",
       "      <td>-3</td>\n",
       "      <td>3.994877e+07</td>\n",
       "      <td>1443.000000</td>\n",
       "    </tr>\n",
       "    <tr>\n",
       "      <th>36</th>\n",
       "      <td>16</td>\n",
       "      <td>17</td>\n",
       "      <td>5.534037e+07</td>\n",
       "      <td>1162.000000</td>\n",
       "    </tr>\n",
       "    <tr>\n",
       "      <th>37</th>\n",
       "      <td>16</td>\n",
       "      <td>18</td>\n",
       "      <td>6.408217e+06</td>\n",
       "      <td>209.000000</td>\n",
       "    </tr>\n",
       "    <tr>\n",
       "      <th>38</th>\n",
       "      <td>16</td>\n",
       "      <td>19</td>\n",
       "      <td>1.327771e+06</td>\n",
       "      <td>42.000000</td>\n",
       "    </tr>\n",
       "  </tbody>\n",
       "</table>\n",
       "</div>"
      ],
      "text/plain": [
       "    source  target         value         amount\n",
       "0        0       4  4.919486e+06  306657.080844\n",
       "1        1       5  2.125922e+06  452341.000000\n",
       "2        2       6  2.540313e+06  202194.118123\n",
       "3        3       7  2.873625e+06  118379.000000\n",
       "4        4      -3  1.145316e+06   10864.000000\n",
       "5        4      12  1.313088e+06   10047.000000\n",
       "6        5      -3  8.701724e+05   22662.000000\n",
       "7        5      11  1.103853e+06   22162.000000\n",
       "8        6      -3  7.989621e+05   11662.000000\n",
       "9        6       8  7.543080e+05   10662.000000\n",
       "10       7      -3  1.196932e+06    6530.000000\n",
       "11       7      10  1.607649e+06    5518.000000\n",
       "12       8      -3  2.225452e+06    4356.000000\n",
       "13       8      13  3.219095e+06    3972.000000\n",
       "14       8      15  2.511515e+04      33.000000\n",
       "15       9      -3  6.205404e+06    6802.000000\n",
       "16       9      14  8.001620e+06    6552.000000\n",
       "17      10      -3  2.098982e+07    8759.000000\n",
       "18      10      13  3.106158e+07    8171.000000\n",
       "19      11      -3  2.419860e+06    6588.000000\n",
       "20      11      16  3.815703e+06    6297.000000\n",
       "21      12      -3  5.472539e+06    4386.000000\n",
       "22      12      15  1.672840e+04       9.000000\n",
       "23      12      16  8.472270e+06    4116.000000\n",
       "24      13      -3  7.370226e+07    1755.000000\n",
       "25      13      17  7.520614e+07    1041.000000\n",
       "26      13      18  2.265096e+07     487.000000\n",
       "27      13      19  6.186287e+06     129.000000\n",
       "28      14      -3  4.021393e+07    2250.000000\n",
       "29      14      17  6.798007e+07    2211.000000\n",
       "30      14      18  2.969198e+05      15.000000\n",
       "31      14      19  4.898261e+05      24.000000\n",
       "32      15      -3  2.679416e+08   18098.000000\n",
       "33      15      17  3.024674e+08   11876.000000\n",
       "34      15      18  8.514942e+07    5193.000000\n",
       "35      16      -3  3.994877e+07    1443.000000\n",
       "36      16      17  5.534037e+07    1162.000000\n",
       "37      16      18  6.408217e+06     209.000000\n",
       "38      16      19  1.327771e+06      42.000000"
      ]
     },
     "execution_count": 45,
     "metadata": {},
     "output_type": "execute_result"
    }
   ],
   "source": [
    "product_flow"
   ]
  },
  {
   "cell_type": "code",
   "execution_count": 46,
   "id": "2d7747ef",
   "metadata": {},
   "outputs": [],
   "source": [
    "# discount intermediate sales by final sales\n",
    "# this represents, e.g., traders carrying goods from one station to another\n",
    "# if they completed their trade route we don't want to display that in the product flow graph\n",
    "final_sales = product_flow[product_flow[\"target\"] != -3].groupby(\"source\")[\"amount\"].sum()\n",
    "final_sales_df = pd.DataFrame(final_sales.rename(\"final_value\")).reset_index()\n",
    "final_sales_df[\"target\"] = -3\n",
    "net_amount = (product_flow[\"amount\"] - product_flow.merge(final_sales_df, how=\"left\", on=[\"source\", \"target\"])[\"final_value\"].fillna(0.)).rename(\"net_amount\")\n",
    "product_flow[\"value\"] = (product_flow[\"value\"] /product_flow[\"amount\"]  * net_amount).rename(\"net_value\")"
   ]
  },
  {
   "cell_type": "code",
   "execution_count": 47,
   "id": "cea7b6b8",
   "metadata": {},
   "outputs": [
    {
     "data": {
      "text/html": [
       "<div>\n",
       "<style scoped>\n",
       "    .dataframe tbody tr th:only-of-type {\n",
       "        vertical-align: middle;\n",
       "    }\n",
       "\n",
       "    .dataframe tbody tr th {\n",
       "        vertical-align: top;\n",
       "    }\n",
       "\n",
       "    .dataframe thead th {\n",
       "        text-align: right;\n",
       "    }\n",
       "</style>\n",
       "<table border=\"1\" class=\"dataframe\">\n",
       "  <thead>\n",
       "    <tr style=\"text-align: right;\">\n",
       "      <th></th>\n",
       "      <th>source</th>\n",
       "      <th>target</th>\n",
       "      <th>value</th>\n",
       "      <th>amount</th>\n",
       "    </tr>\n",
       "  </thead>\n",
       "  <tbody>\n",
       "    <tr>\n",
       "      <th>0</th>\n",
       "      <td>0</td>\n",
       "      <td>4</td>\n",
       "      <td>4.919486e+06</td>\n",
       "      <td>306657.080844</td>\n",
       "    </tr>\n",
       "    <tr>\n",
       "      <th>1</th>\n",
       "      <td>1</td>\n",
       "      <td>5</td>\n",
       "      <td>2.125922e+06</td>\n",
       "      <td>452341.000000</td>\n",
       "    </tr>\n",
       "    <tr>\n",
       "      <th>2</th>\n",
       "      <td>2</td>\n",
       "      <td>6</td>\n",
       "      <td>2.540313e+06</td>\n",
       "      <td>202194.118123</td>\n",
       "    </tr>\n",
       "    <tr>\n",
       "      <th>3</th>\n",
       "      <td>3</td>\n",
       "      <td>7</td>\n",
       "      <td>2.873625e+06</td>\n",
       "      <td>118379.000000</td>\n",
       "    </tr>\n",
       "    <tr>\n",
       "      <th>4</th>\n",
       "      <td>4</td>\n",
       "      <td>-3</td>\n",
       "      <td>8.613061e+04</td>\n",
       "      <td>10864.000000</td>\n",
       "    </tr>\n",
       "    <tr>\n",
       "      <th>5</th>\n",
       "      <td>4</td>\n",
       "      <td>12</td>\n",
       "      <td>1.313088e+06</td>\n",
       "      <td>10047.000000</td>\n",
       "    </tr>\n",
       "    <tr>\n",
       "      <th>6</th>\n",
       "      <td>5</td>\n",
       "      <td>-3</td>\n",
       "      <td>1.919893e+04</td>\n",
       "      <td>22662.000000</td>\n",
       "    </tr>\n",
       "    <tr>\n",
       "      <th>7</th>\n",
       "      <td>5</td>\n",
       "      <td>11</td>\n",
       "      <td>1.103853e+06</td>\n",
       "      <td>22162.000000</td>\n",
       "    </tr>\n",
       "    <tr>\n",
       "      <th>8</th>\n",
       "      <td>6</td>\n",
       "      <td>-3</td>\n",
       "      <td>6.850987e+04</td>\n",
       "      <td>11662.000000</td>\n",
       "    </tr>\n",
       "    <tr>\n",
       "      <th>9</th>\n",
       "      <td>6</td>\n",
       "      <td>8</td>\n",
       "      <td>7.543080e+05</td>\n",
       "      <td>10662.000000</td>\n",
       "    </tr>\n",
       "    <tr>\n",
       "      <th>10</th>\n",
       "      <td>7</td>\n",
       "      <td>-3</td>\n",
       "      <td>1.854970e+05</td>\n",
       "      <td>6530.000000</td>\n",
       "    </tr>\n",
       "    <tr>\n",
       "      <th>11</th>\n",
       "      <td>7</td>\n",
       "      <td>10</td>\n",
       "      <td>1.607649e+06</td>\n",
       "      <td>5518.000000</td>\n",
       "    </tr>\n",
       "    <tr>\n",
       "      <th>12</th>\n",
       "      <td>8</td>\n",
       "      <td>-3</td>\n",
       "      <td>1.793236e+05</td>\n",
       "      <td>4356.000000</td>\n",
       "    </tr>\n",
       "    <tr>\n",
       "      <th>13</th>\n",
       "      <td>8</td>\n",
       "      <td>13</td>\n",
       "      <td>3.219095e+06</td>\n",
       "      <td>3972.000000</td>\n",
       "    </tr>\n",
       "    <tr>\n",
       "      <th>14</th>\n",
       "      <td>8</td>\n",
       "      <td>15</td>\n",
       "      <td>2.511515e+04</td>\n",
       "      <td>33.000000</td>\n",
       "    </tr>\n",
       "    <tr>\n",
       "      <th>15</th>\n",
       "      <td>9</td>\n",
       "      <td>-3</td>\n",
       "      <td>2.280728e+05</td>\n",
       "      <td>6802.000000</td>\n",
       "    </tr>\n",
       "    <tr>\n",
       "      <th>16</th>\n",
       "      <td>9</td>\n",
       "      <td>14</td>\n",
       "      <td>8.001620e+06</td>\n",
       "      <td>6552.000000</td>\n",
       "    </tr>\n",
       "    <tr>\n",
       "      <th>17</th>\n",
       "      <td>10</td>\n",
       "      <td>-3</td>\n",
       "      <td>1.409066e+06</td>\n",
       "      <td>8759.000000</td>\n",
       "    </tr>\n",
       "    <tr>\n",
       "      <th>18</th>\n",
       "      <td>10</td>\n",
       "      <td>13</td>\n",
       "      <td>3.106158e+07</td>\n",
       "      <td>8171.000000</td>\n",
       "    </tr>\n",
       "    <tr>\n",
       "      <th>19</th>\n",
       "      <td>11</td>\n",
       "      <td>-3</td>\n",
       "      <td>1.068882e+05</td>\n",
       "      <td>6588.000000</td>\n",
       "    </tr>\n",
       "    <tr>\n",
       "      <th>20</th>\n",
       "      <td>11</td>\n",
       "      <td>16</td>\n",
       "      <td>3.815703e+06</td>\n",
       "      <td>6297.000000</td>\n",
       "    </tr>\n",
       "    <tr>\n",
       "      <th>21</th>\n",
       "      <td>12</td>\n",
       "      <td>-3</td>\n",
       "      <td>3.256573e+05</td>\n",
       "      <td>4386.000000</td>\n",
       "    </tr>\n",
       "    <tr>\n",
       "      <th>22</th>\n",
       "      <td>12</td>\n",
       "      <td>15</td>\n",
       "      <td>1.672840e+04</td>\n",
       "      <td>9.000000</td>\n",
       "    </tr>\n",
       "    <tr>\n",
       "      <th>23</th>\n",
       "      <td>12</td>\n",
       "      <td>16</td>\n",
       "      <td>8.472270e+06</td>\n",
       "      <td>4116.000000</td>\n",
       "    </tr>\n",
       "    <tr>\n",
       "      <th>24</th>\n",
       "      <td>13</td>\n",
       "      <td>-3</td>\n",
       "      <td>4.115568e+06</td>\n",
       "      <td>1755.000000</td>\n",
       "    </tr>\n",
       "    <tr>\n",
       "      <th>25</th>\n",
       "      <td>13</td>\n",
       "      <td>17</td>\n",
       "      <td>7.520614e+07</td>\n",
       "      <td>1041.000000</td>\n",
       "    </tr>\n",
       "    <tr>\n",
       "      <th>26</th>\n",
       "      <td>13</td>\n",
       "      <td>18</td>\n",
       "      <td>2.265096e+07</td>\n",
       "      <td>487.000000</td>\n",
       "    </tr>\n",
       "    <tr>\n",
       "      <th>27</th>\n",
       "      <td>13</td>\n",
       "      <td>19</td>\n",
       "      <td>6.186287e+06</td>\n",
       "      <td>129.000000</td>\n",
       "    </tr>\n",
       "    <tr>\n",
       "      <th>28</th>\n",
       "      <td>14</td>\n",
       "      <td>-3</td>\n",
       "      <td>0.000000e+00</td>\n",
       "      <td>2250.000000</td>\n",
       "    </tr>\n",
       "    <tr>\n",
       "      <th>29</th>\n",
       "      <td>14</td>\n",
       "      <td>17</td>\n",
       "      <td>6.798007e+07</td>\n",
       "      <td>2211.000000</td>\n",
       "    </tr>\n",
       "    <tr>\n",
       "      <th>30</th>\n",
       "      <td>14</td>\n",
       "      <td>18</td>\n",
       "      <td>2.969198e+05</td>\n",
       "      <td>15.000000</td>\n",
       "    </tr>\n",
       "    <tr>\n",
       "      <th>31</th>\n",
       "      <td>14</td>\n",
       "      <td>19</td>\n",
       "      <td>4.898261e+05</td>\n",
       "      <td>24.000000</td>\n",
       "    </tr>\n",
       "    <tr>\n",
       "      <th>32</th>\n",
       "      <td>15</td>\n",
       "      <td>-3</td>\n",
       "      <td>1.523438e+07</td>\n",
       "      <td>18098.000000</td>\n",
       "    </tr>\n",
       "    <tr>\n",
       "      <th>33</th>\n",
       "      <td>15</td>\n",
       "      <td>17</td>\n",
       "      <td>3.024674e+08</td>\n",
       "      <td>11876.000000</td>\n",
       "    </tr>\n",
       "    <tr>\n",
       "      <th>34</th>\n",
       "      <td>15</td>\n",
       "      <td>18</td>\n",
       "      <td>8.514942e+07</td>\n",
       "      <td>5193.000000</td>\n",
       "    </tr>\n",
       "    <tr>\n",
       "      <th>35</th>\n",
       "      <td>16</td>\n",
       "      <td>-3</td>\n",
       "      <td>8.305357e+05</td>\n",
       "      <td>1443.000000</td>\n",
       "    </tr>\n",
       "    <tr>\n",
       "      <th>36</th>\n",
       "      <td>16</td>\n",
       "      <td>17</td>\n",
       "      <td>5.534037e+07</td>\n",
       "      <td>1162.000000</td>\n",
       "    </tr>\n",
       "    <tr>\n",
       "      <th>37</th>\n",
       "      <td>16</td>\n",
       "      <td>18</td>\n",
       "      <td>6.408217e+06</td>\n",
       "      <td>209.000000</td>\n",
       "    </tr>\n",
       "    <tr>\n",
       "      <th>38</th>\n",
       "      <td>16</td>\n",
       "      <td>19</td>\n",
       "      <td>1.327771e+06</td>\n",
       "      <td>42.000000</td>\n",
       "    </tr>\n",
       "  </tbody>\n",
       "</table>\n",
       "</div>"
      ],
      "text/plain": [
       "    source  target         value         amount\n",
       "0        0       4  4.919486e+06  306657.080844\n",
       "1        1       5  2.125922e+06  452341.000000\n",
       "2        2       6  2.540313e+06  202194.118123\n",
       "3        3       7  2.873625e+06  118379.000000\n",
       "4        4      -3  8.613061e+04   10864.000000\n",
       "5        4      12  1.313088e+06   10047.000000\n",
       "6        5      -3  1.919893e+04   22662.000000\n",
       "7        5      11  1.103853e+06   22162.000000\n",
       "8        6      -3  6.850987e+04   11662.000000\n",
       "9        6       8  7.543080e+05   10662.000000\n",
       "10       7      -3  1.854970e+05    6530.000000\n",
       "11       7      10  1.607649e+06    5518.000000\n",
       "12       8      -3  1.793236e+05    4356.000000\n",
       "13       8      13  3.219095e+06    3972.000000\n",
       "14       8      15  2.511515e+04      33.000000\n",
       "15       9      -3  2.280728e+05    6802.000000\n",
       "16       9      14  8.001620e+06    6552.000000\n",
       "17      10      -3  1.409066e+06    8759.000000\n",
       "18      10      13  3.106158e+07    8171.000000\n",
       "19      11      -3  1.068882e+05    6588.000000\n",
       "20      11      16  3.815703e+06    6297.000000\n",
       "21      12      -3  3.256573e+05    4386.000000\n",
       "22      12      15  1.672840e+04       9.000000\n",
       "23      12      16  8.472270e+06    4116.000000\n",
       "24      13      -3  4.115568e+06    1755.000000\n",
       "25      13      17  7.520614e+07    1041.000000\n",
       "26      13      18  2.265096e+07     487.000000\n",
       "27      13      19  6.186287e+06     129.000000\n",
       "28      14      -3  0.000000e+00    2250.000000\n",
       "29      14      17  6.798007e+07    2211.000000\n",
       "30      14      18  2.969198e+05      15.000000\n",
       "31      14      19  4.898261e+05      24.000000\n",
       "32      15      -3  1.523438e+07   18098.000000\n",
       "33      15      17  3.024674e+08   11876.000000\n",
       "34      15      18  8.514942e+07    5193.000000\n",
       "35      16      -3  8.305357e+05    1443.000000\n",
       "36      16      17  5.534037e+07    1162.000000\n",
       "37      16      18  6.408217e+06     209.000000\n",
       "38      16      19  1.327771e+06      42.000000"
      ]
     },
     "execution_count": 47,
     "metadata": {},
     "output_type": "execute_result"
    }
   ],
   "source": [
    "product_flow"
   ]
  },
  {
   "cell_type": "code",
   "execution_count": 48,
   "id": "d2bd93b6",
   "metadata": {},
   "outputs": [
    {
     "data": {
      "text/plain": [
       "{17, 18, 19}"
      ]
     },
     "execution_count": 48,
     "metadata": {},
     "output_type": "execute_result"
    }
   ],
   "source": [
    "set(agent_goods_df.columns) - set(product_flow[\"source\"].unique())"
   ]
  },
  {
   "cell_type": "code",
   "execution_count": 49,
   "id": "09eeeabf",
   "metadata": {},
   "outputs": [
    {
     "data": {
      "text/plain": [
       "{0, 1, 2, 3, 9}"
      ]
     },
     "execution_count": 49,
     "metadata": {},
     "output_type": "execute_result"
    }
   ],
   "source": [
    "set(agent_goods_df.columns) - set(product_flow[\"target\"].unique())"
   ]
  },
  {
   "cell_type": "code",
   "execution_count": 50,
   "id": "5ea227b5",
   "metadata": {},
   "outputs": [
    {
     "data": {
      "application/vnd.jupyter.widget-view+json": {
       "model_id": "1c540e82b79d4f999b643efbdbe0b25d",
       "version_major": 2,
       "version_minor": 0
      },
      "text/plain": [
       "SankeyWidget(layout=Layout(height='680', width='1024'), links=[{'source': 0, 'target': 4, 'value': 4919485.587…"
      ]
     },
     "metadata": {},
     "output_type": "display_data"
    }
   ],
   "source": [
    "from ipysankeywidget import SankeyWidget\n",
    "from ipywidgets import Layout\n",
    "sankey = SankeyWidget(layout=Layout(height='680', width='1024'), links=product_flow.to_dict(\"records\"))\n",
    "sankey"
   ]
  },
  {
   "cell_type": "code",
   "execution_count": 51,
   "id": "bfbeca78",
   "metadata": {},
   "outputs": [
    {
     "data": {
      "image/png": "\n",
      "text/plain": [
       "<IPython.core.display.Image object>"
      ]
     },
     "execution_count": 51,
     "metadata": {},
     "output_type": "execute_result"
    }
   ],
   "source": [
    "from IPython.display import (\n",
    "    Image,\n",
    "    SVG\n",
    ")\n",
    "import base64\n",
    "data = base64.decodebytes(bytes(sankey.png, 'ascii'))\n",
    "Image(data)"
   ]
  },
  {
   "cell_type": "markdown",
   "id": "96ee498b",
   "metadata": {},
   "source": [
    "## Indicators by Market"
   ]
  },
  {
   "cell_type": "code",
   "execution_count": 52,
   "id": "a47e367e",
   "metadata": {},
   "outputs": [
    {
     "data": {
      "text/html": [
       "<div>\n",
       "<style scoped>\n",
       "    .dataframe tbody tr th:only-of-type {\n",
       "        vertical-align: middle;\n",
       "    }\n",
       "\n",
       "    .dataframe tbody tr th {\n",
       "        vertical-align: top;\n",
       "    }\n",
       "\n",
       "    .dataframe thead th {\n",
       "        text-align: right;\n",
       "    }\n",
       "</style>\n",
       "<table border=\"1\" class=\"dataframe\">\n",
       "  <thead>\n",
       "    <tr style=\"text-align: right;\">\n",
       "      <th></th>\n",
       "      <th>producers</th>\n",
       "      <th>sellers</th>\n",
       "      <th>zero_sales</th>\n",
       "      <th>seller_value_cv</th>\n",
       "      <th>transactions</th>\n",
       "      <th>total_amount</th>\n",
       "      <th>total_value</th>\n",
       "      <th>price</th>\n",
       "      <th>price_cv</th>\n",
       "      <th>first_tick</th>\n",
       "      <th>last_tick</th>\n",
       "    </tr>\n",
       "  </thead>\n",
       "  <tbody>\n",
       "    <tr>\n",
       "      <th>0</th>\n",
       "      <td>15</td>\n",
       "      <td>202.0</td>\n",
       "      <td>-187.0</td>\n",
       "      <td>0.870417</td>\n",
       "      <td>709.0</td>\n",
       "      <td>306657.080844</td>\n",
       "      <td>4.919486e+06</td>\n",
       "      <td>16.042302</td>\n",
       "      <td>0.000000</td>\n",
       "      <td>230.600000</td>\n",
       "      <td>10380.700000</td>\n",
       "    </tr>\n",
       "    <tr>\n",
       "      <th>1</th>\n",
       "      <td>0</td>\n",
       "      <td>203.0</td>\n",
       "      <td>-203.0</td>\n",
       "      <td>0.866688</td>\n",
       "      <td>1134.0</td>\n",
       "      <td>452341.000000</td>\n",
       "      <td>2.125922e+06</td>\n",
       "      <td>4.699822</td>\n",
       "      <td>0.000000</td>\n",
       "      <td>214.500000</td>\n",
       "      <td>10355.366667</td>\n",
       "    </tr>\n",
       "    <tr>\n",
       "      <th>2</th>\n",
       "      <td>0</td>\n",
       "      <td>152.0</td>\n",
       "      <td>-152.0</td>\n",
       "      <td>1.068265</td>\n",
       "      <td>453.0</td>\n",
       "      <td>202194.118123</td>\n",
       "      <td>2.540313e+06</td>\n",
       "      <td>12.563733</td>\n",
       "      <td>0.000000</td>\n",
       "      <td>251.166667</td>\n",
       "      <td>10315.266667</td>\n",
       "    </tr>\n",
       "    <tr>\n",
       "      <th>3</th>\n",
       "      <td>0</td>\n",
       "      <td>142.0</td>\n",
       "      <td>-142.0</td>\n",
       "      <td>0.926730</td>\n",
       "      <td>279.0</td>\n",
       "      <td>118379.000000</td>\n",
       "      <td>2.873625e+06</td>\n",
       "      <td>24.274787</td>\n",
       "      <td>0.000000</td>\n",
       "      <td>232.566667</td>\n",
       "      <td>10357.000000</td>\n",
       "    </tr>\n",
       "    <tr>\n",
       "      <th>4</th>\n",
       "      <td>71</td>\n",
       "      <td>41.0</td>\n",
       "      <td>30.0</td>\n",
       "      <td>0.204008</td>\n",
       "      <td>44.0</td>\n",
       "      <td>20911.000000</td>\n",
       "      <td>2.458404e+06</td>\n",
       "      <td>118.058796</td>\n",
       "      <td>0.108267</td>\n",
       "      <td>5315.666667</td>\n",
       "      <td>10024.166667</td>\n",
       "    </tr>\n",
       "    <tr>\n",
       "      <th>5</th>\n",
       "      <td>173</td>\n",
       "      <td>76.0</td>\n",
       "      <td>97.0</td>\n",
       "      <td>0.651098</td>\n",
       "      <td>116.0</td>\n",
       "      <td>44824.000000</td>\n",
       "      <td>1.974026e+06</td>\n",
       "      <td>44.201487</td>\n",
       "      <td>0.129615</td>\n",
       "      <td>2641.100000</td>\n",
       "      <td>10345.400000</td>\n",
       "    </tr>\n",
       "    <tr>\n",
       "      <th>6</th>\n",
       "      <td>94</td>\n",
       "      <td>45.0</td>\n",
       "      <td>49.0</td>\n",
       "      <td>0.335561</td>\n",
       "      <td>57.0</td>\n",
       "      <td>22324.000000</td>\n",
       "      <td>1.553270e+06</td>\n",
       "      <td>69.648222</td>\n",
       "      <td>0.016203</td>\n",
       "      <td>799.633333</td>\n",
       "      <td>10386.366667</td>\n",
       "    </tr>\n",
       "    <tr>\n",
       "      <th>7</th>\n",
       "      <td>39</td>\n",
       "      <td>30.0</td>\n",
       "      <td>9.0</td>\n",
       "      <td>0.438217</td>\n",
       "      <td>37.0</td>\n",
       "      <td>12048.000000</td>\n",
       "      <td>2.804581e+06</td>\n",
       "      <td>232.941528</td>\n",
       "      <td>0.234348</td>\n",
       "      <td>4903.133333</td>\n",
       "      <td>10385.066667</td>\n",
       "    </tr>\n",
       "    <tr>\n",
       "      <th>8</th>\n",
       "      <td>25</td>\n",
       "      <td>39.0</td>\n",
       "      <td>-14.0</td>\n",
       "      <td>0.574236</td>\n",
       "      <td>56.0</td>\n",
       "      <td>8361.000000</td>\n",
       "      <td>5.469662e+06</td>\n",
       "      <td>654.439183</td>\n",
       "      <td>0.229595</td>\n",
       "      <td>2343.933333</td>\n",
       "      <td>10369.466667</td>\n",
       "    </tr>\n",
       "    <tr>\n",
       "      <th>9</th>\n",
       "      <td>21</td>\n",
       "      <td>28.0</td>\n",
       "      <td>-7.0</td>\n",
       "      <td>0.298302</td>\n",
       "      <td>33.0</td>\n",
       "      <td>13354.000000</td>\n",
       "      <td>1.420702e+07</td>\n",
       "      <td>1062.088587</td>\n",
       "      <td>0.147635</td>\n",
       "      <td>5111.700000</td>\n",
       "      <td>10200.900000</td>\n",
       "    </tr>\n",
       "    <tr>\n",
       "      <th>10</th>\n",
       "      <td>17</td>\n",
       "      <td>64.0</td>\n",
       "      <td>-47.0</td>\n",
       "      <td>0.718763</td>\n",
       "      <td>143.0</td>\n",
       "      <td>16930.000000</td>\n",
       "      <td>5.205140e+07</td>\n",
       "      <td>3084.168162</td>\n",
       "      <td>0.228538</td>\n",
       "      <td>911.866667</td>\n",
       "      <td>10383.700000</td>\n",
       "    </tr>\n",
       "    <tr>\n",
       "      <th>11</th>\n",
       "      <td>31</td>\n",
       "      <td>29.0</td>\n",
       "      <td>2.0</td>\n",
       "      <td>0.558711</td>\n",
       "      <td>43.0</td>\n",
       "      <td>12885.000000</td>\n",
       "      <td>6.235563e+06</td>\n",
       "      <td>478.309726</td>\n",
       "      <td>0.251801</td>\n",
       "      <td>2936.766667</td>\n",
       "      <td>10374.333333</td>\n",
       "    </tr>\n",
       "    <tr>\n",
       "      <th>12</th>\n",
       "      <td>23</td>\n",
       "      <td>51.0</td>\n",
       "      <td>-28.0</td>\n",
       "      <td>0.700417</td>\n",
       "      <td>72.0</td>\n",
       "      <td>8511.000000</td>\n",
       "      <td>1.396154e+07</td>\n",
       "      <td>1627.760709</td>\n",
       "      <td>0.248966</td>\n",
       "      <td>1184.166667</td>\n",
       "      <td>10379.100000</td>\n",
       "    </tr>\n",
       "    <tr>\n",
       "      <th>13</th>\n",
       "      <td>15</td>\n",
       "      <td>127.0</td>\n",
       "      <td>-112.0</td>\n",
       "      <td>1.339422</td>\n",
       "      <td>799.0</td>\n",
       "      <td>3412.000000</td>\n",
       "      <td>1.777456e+08</td>\n",
       "      <td>51466.037885</td>\n",
       "      <td>0.253987</td>\n",
       "      <td>214.466667</td>\n",
       "      <td>10371.800000</td>\n",
       "    </tr>\n",
       "    <tr>\n",
       "      <th>14</th>\n",
       "      <td>15</td>\n",
       "      <td>137.0</td>\n",
       "      <td>-122.0</td>\n",
       "      <td>1.410106</td>\n",
       "      <td>426.0</td>\n",
       "      <td>4500.000000</td>\n",
       "      <td>1.089807e+08</td>\n",
       "      <td>23365.861496</td>\n",
       "      <td>0.265463</td>\n",
       "      <td>140.800000</td>\n",
       "      <td>8965.333333</td>\n",
       "    </tr>\n",
       "    <tr>\n",
       "      <th>15</th>\n",
       "      <td>15</td>\n",
       "      <td>136.0</td>\n",
       "      <td>-121.0</td>\n",
       "      <td>1.450430</td>\n",
       "      <td>718.0</td>\n",
       "      <td>35167.000000</td>\n",
       "      <td>6.555584e+08</td>\n",
       "      <td>19073.369623</td>\n",
       "      <td>0.265605</td>\n",
       "      <td>137.366667</td>\n",
       "      <td>10382.866667</td>\n",
       "    </tr>\n",
       "    <tr>\n",
       "      <th>16</th>\n",
       "      <td>16</td>\n",
       "      <td>127.0</td>\n",
       "      <td>-111.0</td>\n",
       "      <td>1.213741</td>\n",
       "      <td>462.0</td>\n",
       "      <td>2856.000000</td>\n",
       "      <td>1.030251e+08</td>\n",
       "      <td>34984.435604</td>\n",
       "      <td>0.262560</td>\n",
       "      <td>357.866667</td>\n",
       "      <td>10290.666667</td>\n",
       "    </tr>\n",
       "    <tr>\n",
       "      <th>17</th>\n",
       "      <td>15</td>\n",
       "      <td>NaN</td>\n",
       "      <td>NaN</td>\n",
       "      <td>NaN</td>\n",
       "      <td>NaN</td>\n",
       "      <td>NaN</td>\n",
       "      <td>NaN</td>\n",
       "      <td>NaN</td>\n",
       "      <td>NaN</td>\n",
       "      <td>NaN</td>\n",
       "      <td>NaN</td>\n",
       "    </tr>\n",
       "    <tr>\n",
       "      <th>18</th>\n",
       "      <td>15</td>\n",
       "      <td>NaN</td>\n",
       "      <td>NaN</td>\n",
       "      <td>NaN</td>\n",
       "      <td>NaN</td>\n",
       "      <td>NaN</td>\n",
       "      <td>NaN</td>\n",
       "      <td>NaN</td>\n",
       "      <td>NaN</td>\n",
       "      <td>NaN</td>\n",
       "      <td>NaN</td>\n",
       "    </tr>\n",
       "    <tr>\n",
       "      <th>19</th>\n",
       "      <td>15</td>\n",
       "      <td>NaN</td>\n",
       "      <td>NaN</td>\n",
       "      <td>NaN</td>\n",
       "      <td>NaN</td>\n",
       "      <td>NaN</td>\n",
       "      <td>NaN</td>\n",
       "      <td>NaN</td>\n",
       "      <td>NaN</td>\n",
       "      <td>NaN</td>\n",
       "      <td>NaN</td>\n",
       "    </tr>\n",
       "  </tbody>\n",
       "</table>\n",
       "</div>"
      ],
      "text/plain": [
       "    producers  sellers  zero_sales  seller_value_cv  transactions  \\\n",
       "0          15    202.0      -187.0         0.870417         709.0   \n",
       "1           0    203.0      -203.0         0.866688        1134.0   \n",
       "2           0    152.0      -152.0         1.068265         453.0   \n",
       "3           0    142.0      -142.0         0.926730         279.0   \n",
       "4          71     41.0        30.0         0.204008          44.0   \n",
       "5         173     76.0        97.0         0.651098         116.0   \n",
       "6          94     45.0        49.0         0.335561          57.0   \n",
       "7          39     30.0         9.0         0.438217          37.0   \n",
       "8          25     39.0       -14.0         0.574236          56.0   \n",
       "9          21     28.0        -7.0         0.298302          33.0   \n",
       "10         17     64.0       -47.0         0.718763         143.0   \n",
       "11         31     29.0         2.0         0.558711          43.0   \n",
       "12         23     51.0       -28.0         0.700417          72.0   \n",
       "13         15    127.0      -112.0         1.339422         799.0   \n",
       "14         15    137.0      -122.0         1.410106         426.0   \n",
       "15         15    136.0      -121.0         1.450430         718.0   \n",
       "16         16    127.0      -111.0         1.213741         462.0   \n",
       "17         15      NaN         NaN              NaN           NaN   \n",
       "18         15      NaN         NaN              NaN           NaN   \n",
       "19         15      NaN         NaN              NaN           NaN   \n",
       "\n",
       "     total_amount   total_value         price  price_cv   first_tick  \\\n",
       "0   306657.080844  4.919486e+06     16.042302  0.000000   230.600000   \n",
       "1   452341.000000  2.125922e+06      4.699822  0.000000   214.500000   \n",
       "2   202194.118123  2.540313e+06     12.563733  0.000000   251.166667   \n",
       "3   118379.000000  2.873625e+06     24.274787  0.000000   232.566667   \n",
       "4    20911.000000  2.458404e+06    118.058796  0.108267  5315.666667   \n",
       "5    44824.000000  1.974026e+06     44.201487  0.129615  2641.100000   \n",
       "6    22324.000000  1.553270e+06     69.648222  0.016203   799.633333   \n",
       "7    12048.000000  2.804581e+06    232.941528  0.234348  4903.133333   \n",
       "8     8361.000000  5.469662e+06    654.439183  0.229595  2343.933333   \n",
       "9    13354.000000  1.420702e+07   1062.088587  0.147635  5111.700000   \n",
       "10   16930.000000  5.205140e+07   3084.168162  0.228538   911.866667   \n",
       "11   12885.000000  6.235563e+06    478.309726  0.251801  2936.766667   \n",
       "12    8511.000000  1.396154e+07   1627.760709  0.248966  1184.166667   \n",
       "13    3412.000000  1.777456e+08  51466.037885  0.253987   214.466667   \n",
       "14    4500.000000  1.089807e+08  23365.861496  0.265463   140.800000   \n",
       "15   35167.000000  6.555584e+08  19073.369623  0.265605   137.366667   \n",
       "16    2856.000000  1.030251e+08  34984.435604  0.262560   357.866667   \n",
       "17            NaN           NaN           NaN       NaN          NaN   \n",
       "18            NaN           NaN           NaN       NaN          NaN   \n",
       "19            NaN           NaN           NaN       NaN          NaN   \n",
       "\n",
       "       last_tick  \n",
       "0   10380.700000  \n",
       "1   10355.366667  \n",
       "2   10315.266667  \n",
       "3   10357.000000  \n",
       "4   10024.166667  \n",
       "5   10345.400000  \n",
       "6   10386.366667  \n",
       "7   10385.066667  \n",
       "8   10369.466667  \n",
       "9   10200.900000  \n",
       "10  10383.700000  \n",
       "11  10374.333333  \n",
       "12  10379.100000  \n",
       "13  10371.800000  \n",
       "14   8965.333333  \n",
       "15  10382.866667  \n",
       "16  10290.666667  \n",
       "17           NaN  \n",
       "18           NaN  \n",
       "19           NaN  "
      ]
     },
     "execution_count": 52,
     "metadata": {},
     "output_type": "execute_result"
    }
   ],
   "source": [
    "transactions_by_product = pd.DataFrame({\"producers\":agent_goods_df.sum(axis=0), \"sellers\":transaction_df.groupby(\"product\")[\"seller\"].nunique()})\n",
    "transactions_by_product[\"zero_sales\"] = transactions_by_product[\"producers\"] - transactions_by_product[\"sellers\"]\n",
    "transactions_by_product[\"seller_value_cv\"] = transaction_df.groupby([\"product\", \"seller\"])[\"value\"].sum().groupby(\"product\").std() / transaction_df.groupby([\"product\", \"seller\"])[\"value\"].sum().groupby(\"product\").mean()\n",
    "transactions_by_product[\"transactions\"] = transaction_df.groupby(\"product\")[\"price\"].count()\n",
    "transactions_by_product[\"total_amount\"] = transaction_df.groupby(\"product\")[\"amount\"].sum()\n",
    "transactions_by_product[\"total_value\"] = transaction_df.groupby(\"product\")[\"value\"].sum()\n",
    "transactions_by_product[\"price\"] = transaction_df.groupby(\"product\")[\"price\"].mean()\n",
    "transactions_by_product[\"price_cv\"] = transaction_df.groupby(\"product\")[\"price\"].std() / transaction_df.groupby(\"product\")[\"price\"].mean()\n",
    "transactions_by_product[\"first_tick\"] = transaction_df.groupby(\"product\")[\"tick\"].min()\n",
    "transactions_by_product[\"last_tick\"] = transaction_df.groupby(\"product\")[\"tick\"].max()\n",
    "\n",
    "transactions_by_product"
   ]
  },
  {
   "cell_type": "code",
   "execution_count": 53,
   "id": "195ae27a",
   "metadata": {},
   "outputs": [
    {
     "data": {
      "text/plain": [
       "Text(0.5, 1.0, 'mean prices by products')"
      ]
     },
     "execution_count": 53,
     "metadata": {},
     "output_type": "execute_result"
    },
    {
     "data": {
      "image/png": "[encoded data removed]",
      "text/plain": [
       "<Figure size 432x288 with 1 Axes>"
      ]
     },
     "metadata": {
      "needs_background": "light"
     },
     "output_type": "display_data"
    }
   ],
   "source": [
    "transactions_by_product[\"price\"].plot.bar()\n",
    "plt.yscale(\"log\")\n",
    "plt.title(\"mean prices by products\")"
   ]
  },
  {
   "cell_type": "code",
   "execution_count": 54,
   "id": "f9349ef7",
   "metadata": {},
   "outputs": [
    {
     "data": {
      "text/plain": [
       "Text(0.5, 1.0, 'cv by product')"
      ]
     },
     "execution_count": 54,
     "metadata": {},
     "output_type": "execute_result"
    },
    {
     "data": {
      "image/png": "[encoded data removed]",
      "text/plain": [
       "<Figure size 432x288 with 1 Axes>"
      ]
     },
     "metadata": {
      "needs_background": "light"
     },
     "output_type": "display_data"
    }
   ],
   "source": [
    "transactions_by_product[\"price_cv\"].plot.bar()\n",
    "plt.title(\"cv by product\")"
   ]
  },
  {
   "cell_type": "code",
   "execution_count": 55,
   "id": "4fd885e4",
   "metadata": {},
   "outputs": [
    {
     "data": {
      "text/plain": [
       "Text(0.5, 0.98, 'Prices for goods over time')"
      ]
     },
     "execution_count": 55,
     "metadata": {},
     "output_type": "execute_result"
    },
    {
     "data": {
      "image/png": "[encoded data removed]",
      "text/plain": [
       "<Figure size 1080x1080 with 5 Axes>"
      ]
     },
     "metadata": {
      "needs_background": "light"
     },
     "output_type": "display_data"
    }
   ],
   "source": [
    "price_by_tick = transaction_df.groupby([\"tick\", \"product\"])[\"price\"].mean().to_frame().reset_index()\n",
    "\n",
    "a = np.insert(production_chain.ranks.cumsum(), 0,0)\n",
    "rank_ranges = list(zip(a[0:-1], a[1:]))\n",
    "\n",
    "fig, axs = plt.subplots(int(np.ceil(len(rank_ranges)/2)),2, figsize=(15,15))\n",
    "if len(rank_ranges) % 2 == 1:\n",
    "    fig.delaxes(axs.flatten()[-1])\n",
    "for i,rng in enumerate(rank_ranges):\n",
    "    ax = axs.flatten()[i]\n",
    "    for product in range(rng[0], rng[1]):\n",
    "        ax.scatter(price_by_tick[price_by_tick[\"product\"] == product][\"tick\"], price_by_tick[price_by_tick[\"product\"] == product][\"price\"], label=f'{product}')\n",
    "    ax.title.set_text(f'rank {i} goods')\n",
    "    ax.legend(loc=\"upper right\")\n",
    "    \n",
    "fig.suptitle(\"Prices for goods over time\")"
   ]
  },
  {
   "cell_type": "code",
   "execution_count": 56,
   "id": "3810d9ef",
   "metadata": {},
   "outputs": [],
   "source": [
    "buy_price_melt = buy_price_df.melt(id_vars=[\"agent\", \"tick\"], value_vars=list(range(production_chain.ranks.sum())), var_name=\"product\", value_name=\"price\")\n",
    "buy_price_melt = buy_price_melt[buy_price_melt[\"price\"] > 0]\n",
    "buy_price_by_tick = buy_price_melt.groupby([\"tick\", \"product\"])[\"price\"].max()\n",
    "sell_price_melt = sell_price_df.melt(id_vars=[\"agent\", \"tick\"], value_vars=list(range(production_chain.ranks.sum())), var_name=\"product\", value_name=\"price\")\n",
    "sell_price_melt = sell_price_melt[sell_price_melt[\"price\"] < np.inf]\n",
    "sell_price_by_tick = sell_price_melt.groupby([\"tick\", \"product\"])[\"price\"].min()"
   ]
  },
  {
   "cell_type": "code",
   "execution_count": 57,
   "id": "5117e602",
   "metadata": {},
   "outputs": [
    {
     "data": {
      "text/plain": [
       "Text(0.5, 0.98, 'Buy/sell price diffs for goods over time')"
      ]
     },
     "execution_count": 57,
     "metadata": {},
     "output_type": "execute_result"
    },
    {
     "data": {
      "image/png": "[encoded data removed]",
      "text/plain": [
       "<Figure size 1080x1080 with 5 Axes>"
      ]
     },
     "metadata": {
      "needs_background": "light"
     },
     "output_type": "display_data"
    }
   ],
   "source": [
    "price_diffs = (buy_price_by_tick - sell_price_by_tick).to_frame().reset_index()\n",
    "\n",
    "a = np.insert(production_chain.ranks.cumsum(), 0,0)\n",
    "rank_ranges = list(zip(a[0:-1], a[1:]))\n",
    "\n",
    "fig, axs = plt.subplots(int(np.ceil(len(rank_ranges)/2)),2, figsize=(15,15))\n",
    "if len(rank_ranges) % 2 == 1:\n",
    "    fig.delaxes(axs.flatten()[-1])\n",
    "for i,rng in enumerate(rank_ranges):\n",
    "    ax = axs.flatten()[i]\n",
    "    for product in range(rng[0], rng[1]):\n",
    "        ax.scatter(price_diffs[price_diffs[\"product\"] == product][\"tick\"], price_diffs[price_diffs[\"product\"] == product][\"price\"], label=f'{product}')\n",
    "    ax.axhline(0, color=\"black\")\n",
    "    ax.title.set_text(f'rank {i} goods')\n",
    "    ax.legend(loc=\"upper right\")\n",
    "    \n",
    "fig.suptitle(\"Buy/sell price diffs for goods over time\")"
   ]
  },
  {
   "cell_type": "markdown",
   "id": "a6afc700",
   "metadata": {
    "heading_collapsed": true
   },
   "source": [
    "# Balance"
   ]
  },
  {
   "cell_type": "code",
   "execution_count": 58,
   "id": "c7e91c74",
   "metadata": {
    "hidden": true
   },
   "outputs": [
    {
     "data": {
      "text/html": [
       "<div>\n",
       "<style scoped>\n",
       "    .dataframe tbody tr th:only-of-type {\n",
       "        vertical-align: middle;\n",
       "    }\n",
       "\n",
       "    .dataframe tbody tr th {\n",
       "        vertical-align: top;\n",
       "    }\n",
       "\n",
       "    .dataframe thead th {\n",
       "        text-align: right;\n",
       "    }\n",
       "</style>\n",
       "<table border=\"1\" class=\"dataframe\">\n",
       "  <thead>\n",
       "    <tr style=\"text-align: right;\">\n",
       "      <th></th>\n",
       "      <th>tick</th>\n",
       "      <th>balance</th>\n",
       "    </tr>\n",
       "    <tr>\n",
       "      <th>agent</th>\n",
       "      <th></th>\n",
       "      <th></th>\n",
       "    </tr>\n",
       "  </thead>\n",
       "  <tbody>\n",
       "    <tr>\n",
       "      <th>0</th>\n",
       "      <td>0.033333</td>\n",
       "      <td>1.824838e+04</td>\n",
       "    </tr>\n",
       "    <tr>\n",
       "      <th>1</th>\n",
       "      <td>0.033333</td>\n",
       "      <td>0.000000e+00</td>\n",
       "    </tr>\n",
       "    <tr>\n",
       "      <th>2</th>\n",
       "      <td>0.033333</td>\n",
       "      <td>4.305820e+04</td>\n",
       "    </tr>\n",
       "    <tr>\n",
       "      <th>3</th>\n",
       "      <td>0.033333</td>\n",
       "      <td>2.170419e+04</td>\n",
       "    </tr>\n",
       "    <tr>\n",
       "      <th>4</th>\n",
       "      <td>0.033333</td>\n",
       "      <td>2.170419e+04</td>\n",
       "    </tr>\n",
       "    <tr>\n",
       "      <th>...</th>\n",
       "      <td>...</td>\n",
       "      <td>...</td>\n",
       "    </tr>\n",
       "    <tr>\n",
       "      <th>986</th>\n",
       "      <td>0.033333</td>\n",
       "      <td>0.000000e+00</td>\n",
       "    </tr>\n",
       "    <tr>\n",
       "      <th>987</th>\n",
       "      <td>0.033333</td>\n",
       "      <td>1.691162e+04</td>\n",
       "    </tr>\n",
       "    <tr>\n",
       "      <th>988</th>\n",
       "      <td>0.033333</td>\n",
       "      <td>1.691162e+04</td>\n",
       "    </tr>\n",
       "    <tr>\n",
       "      <th>989</th>\n",
       "      <td>0.033333</td>\n",
       "      <td>3.423178e+07</td>\n",
       "    </tr>\n",
       "    <tr>\n",
       "      <th>990</th>\n",
       "      <td>0.033333</td>\n",
       "      <td>3.423178e+07</td>\n",
       "    </tr>\n",
       "  </tbody>\n",
       "</table>\n",
       "<p>991 rows × 2 columns</p>\n",
       "</div>"
      ],
      "text/plain": [
       "           tick       balance\n",
       "agent                        \n",
       "0      0.033333  1.824838e+04\n",
       "1      0.033333  0.000000e+00\n",
       "2      0.033333  4.305820e+04\n",
       "3      0.033333  2.170419e+04\n",
       "4      0.033333  2.170419e+04\n",
       "...         ...           ...\n",
       "986    0.033333  0.000000e+00\n",
       "987    0.033333  1.691162e+04\n",
       "988    0.033333  1.691162e+04\n",
       "989    0.033333  3.423178e+07\n",
       "990    0.033333  3.423178e+07\n",
       "\n",
       "[991 rows x 2 columns]"
      ]
     },
     "execution_count": 58,
     "metadata": {},
     "output_type": "execute_result"
    }
   ],
   "source": [
    "balance_df[balance_df[\"tick\"] == balance_df[\"tick\"].min()].set_index(\"agent\")"
   ]
  },
  {
   "cell_type": "code",
   "execution_count": 59,
   "id": "0751c966",
   "metadata": {
    "hidden": true
   },
   "outputs": [
    {
     "data": {
      "text/html": [
       "<div>\n",
       "<style scoped>\n",
       "    .dataframe tbody tr th:only-of-type {\n",
       "        vertical-align: middle;\n",
       "    }\n",
       "\n",
       "    .dataframe tbody tr th {\n",
       "        vertical-align: top;\n",
       "    }\n",
       "\n",
       "    .dataframe thead th {\n",
       "        text-align: right;\n",
       "    }\n",
       "</style>\n",
       "<table border=\"1\" class=\"dataframe\">\n",
       "  <thead>\n",
       "    <tr style=\"text-align: right;\">\n",
       "      <th></th>\n",
       "      <th>tick</th>\n",
       "      <th>balance</th>\n",
       "    </tr>\n",
       "    <tr>\n",
       "      <th>agent</th>\n",
       "      <th></th>\n",
       "      <th></th>\n",
       "    </tr>\n",
       "  </thead>\n",
       "  <tbody>\n",
       "    <tr>\n",
       "      <th>0</th>\n",
       "      <td>10384.566667</td>\n",
       "      <td>3.970354</td>\n",
       "    </tr>\n",
       "    <tr>\n",
       "      <th>1</th>\n",
       "      <td>10384.566667</td>\n",
       "      <td>0.000000</td>\n",
       "    </tr>\n",
       "    <tr>\n",
       "      <th>2</th>\n",
       "      <td>10384.566667</td>\n",
       "      <td>125368.428736</td>\n",
       "    </tr>\n",
       "    <tr>\n",
       "      <th>3</th>\n",
       "      <td>10384.566667</td>\n",
       "      <td>1.200673</td>\n",
       "    </tr>\n",
       "    <tr>\n",
       "      <th>4</th>\n",
       "      <td>10384.566667</td>\n",
       "      <td>1.200673</td>\n",
       "    </tr>\n",
       "    <tr>\n",
       "      <th>...</th>\n",
       "      <td>...</td>\n",
       "      <td>...</td>\n",
       "    </tr>\n",
       "    <tr>\n",
       "      <th>986</th>\n",
       "      <td>10384.566667</td>\n",
       "      <td>0.000000</td>\n",
       "    </tr>\n",
       "    <tr>\n",
       "      <th>987</th>\n",
       "      <td>10384.566667</td>\n",
       "      <td>34190.655741</td>\n",
       "    </tr>\n",
       "    <tr>\n",
       "      <th>988</th>\n",
       "      <td>10384.566667</td>\n",
       "      <td>34190.655741</td>\n",
       "    </tr>\n",
       "    <tr>\n",
       "      <th>989</th>\n",
       "      <td>10384.566667</td>\n",
       "      <td>11346.415752</td>\n",
       "    </tr>\n",
       "    <tr>\n",
       "      <th>990</th>\n",
       "      <td>10384.566667</td>\n",
       "      <td>11346.415752</td>\n",
       "    </tr>\n",
       "  </tbody>\n",
       "</table>\n",
       "<p>991 rows × 2 columns</p>\n",
       "</div>"
      ],
      "text/plain": [
       "               tick        balance\n",
       "agent                             \n",
       "0      10384.566667       3.970354\n",
       "1      10384.566667       0.000000\n",
       "2      10384.566667  125368.428736\n",
       "3      10384.566667       1.200673\n",
       "4      10384.566667       1.200673\n",
       "...             ...            ...\n",
       "986    10384.566667       0.000000\n",
       "987    10384.566667   34190.655741\n",
       "988    10384.566667   34190.655741\n",
       "989    10384.566667   11346.415752\n",
       "990    10384.566667   11346.415752\n",
       "\n",
       "[991 rows x 2 columns]"
      ]
     },
     "execution_count": 59,
     "metadata": {},
     "output_type": "execute_result"
    }
   ],
   "source": [
    "balance_df[balance_df[\"tick\"] == balance_df[\"tick\"].max()].set_index(\"agent\")"
   ]
  },
  {
   "cell_type": "code",
   "execution_count": 60,
   "id": "9cae1904",
   "metadata": {
    "hidden": true
   },
   "outputs": [],
   "source": [
    "#balance_df.groupby(\"tick\")[\"balance\"].sum().plot()"
   ]
  },
  {
   "cell_type": "code",
   "execution_count": 61,
   "id": "2059d390",
   "metadata": {
    "hidden": true
   },
   "outputs": [
    {
     "data": {
      "text/plain": [
       "count    9.910000e+02\n",
       "mean     4.455660e+06\n",
       "std      1.866062e+07\n",
       "min      0.000000e+00\n",
       "25%      0.000000e+00\n",
       "50%      1.691162e+04\n",
       "75%      4.305820e+04\n",
       "max      9.383996e+07\n",
       "Name: balance, dtype: float64"
      ]
     },
     "execution_count": 61,
     "metadata": {},
     "output_type": "execute_result"
    }
   ],
   "source": [
    "balance_df[balance_df[\"tick\"] == balance_df[\"tick\"].min()][\"balance\"].describe()"
   ]
  },
  {
   "cell_type": "code",
   "execution_count": 62,
   "id": "9b448b74",
   "metadata": {
    "hidden": true
   },
   "outputs": [
    {
     "data": {
      "text/plain": [
       "count    9.910000e+02\n",
       "mean     4.372540e+06\n",
       "std      1.776151e+07\n",
       "min      0.000000e+00\n",
       "25%      0.000000e+00\n",
       "50%      1.507422e+01\n",
       "75%      7.536227e+04\n",
       "max      9.572713e+07\n",
       "Name: balance, dtype: float64"
      ]
     },
     "execution_count": 62,
     "metadata": {},
     "output_type": "execute_result"
    }
   ],
   "source": [
    "balance_df[balance_df[\"tick\"] == balance_df[\"tick\"].max()][\"balance\"].describe()"
   ]
  },
  {
   "cell_type": "code",
   "execution_count": 63,
   "id": "0f54d20f",
   "metadata": {
    "hidden": true
   },
   "outputs": [],
   "source": [
    "ltb_df = balance_df[balance_df[\"tick\"] == balance_df[\"tick\"].max()]"
   ]
  },
  {
   "cell_type": "code",
   "execution_count": 64,
   "id": "981701b1",
   "metadata": {
    "hidden": true
   },
   "outputs": [
    {
     "data": {
      "image/png": "[encoded data removed]",
      "text/plain": [
       "<Figure size 432x288 with 1 Axes>"
      ]
     },
     "metadata": {
      "needs_background": "light"
     },
     "output_type": "display_data"
    }
   ],
   "source": [
    "plt.bar(balance_df[balance_df[\"tick\"] == balance_df[\"tick\"].min()][\"agent\"], balance_df[balance_df[\"tick\"] == balance_df[\"tick\"].min()][\"balance\"])\n",
    "plt.title(\"initial balance distribution\")\n",
    "plt.yscale(\"log\")"
   ]
  },
  {
   "cell_type": "code",
   "execution_count": 65,
   "id": "4f110a57",
   "metadata": {
    "hidden": true
   },
   "outputs": [
    {
     "data": {
      "image/png": "[encoded data removed]",
      "text/plain": [
       "<Figure size 432x288 with 1 Axes>"
      ]
     },
     "metadata": {
      "needs_background": "light"
     },
     "output_type": "display_data"
    }
   ],
   "source": [
    "plt.bar(balance_df[balance_df[\"tick\"] == balance_df[\"tick\"].max()][\"agent\"], balance_df[balance_df[\"tick\"] == balance_df[\"tick\"].max()][\"balance\"])\n",
    "plt.title(\"final balance distribution\")\n",
    "plt.yscale(\"log\")"
   ]
  },
  {
   "cell_type": "code",
   "execution_count": 66,
   "id": "694ba8e6",
   "metadata": {
    "hidden": true
   },
   "outputs": [
    {
     "data": {
      "text/plain": [
       "agent\n",
       "0     -1.824441e+04\n",
       "1      0.000000e+00\n",
       "2      8.231023e+04\n",
       "3     -2.170299e+04\n",
       "4     -2.170299e+04\n",
       "           ...     \n",
       "986    0.000000e+00\n",
       "987    1.727904e+04\n",
       "988    1.727904e+04\n",
       "989   -3.422043e+07\n",
       "990   -3.422043e+07\n",
       "Name: balance, Length: 991, dtype: float64"
      ]
     },
     "execution_count": 66,
     "metadata": {},
     "output_type": "execute_result"
    }
   ],
   "source": [
    "balance_df[balance_df[\"tick\"] == balance_df[\"tick\"].max()].set_index(\"agent\")[\"balance\"]-balance_df[balance_df[\"tick\"] == balance_df[\"tick\"].min()].set_index(\"agent\")[\"balance\"]"
   ]
  },
  {
   "cell_type": "code",
   "execution_count": 67,
   "id": "00765896",
   "metadata": {
    "hidden": true
   },
   "outputs": [
    {
     "data": {
      "text/plain": [
       "<AxesSubplot:xlabel='agent'>"
      ]
     },
     "execution_count": 67,
     "metadata": {},
     "output_type": "execute_result"
    },
    {
     "data": {
      "image/png": "[encoded data removed]",
      "text/plain": [
       "<Figure size 432x288 with 1 Axes>"
      ]
     },
     "metadata": {
      "needs_background": "light"
     },
     "output_type": "display_data"
    }
   ],
   "source": [
    "(balance_df[balance_df[\"tick\"] == balance_df[\"tick\"].max()].set_index(\"agent\")[\"balance\"]-balance_df[balance_df[\"tick\"] == balance_df[\"tick\"].min()].set_index(\"agent\")[\"balance\"]).plot.bar()"
   ]
  },
  {
   "cell_type": "code",
   "execution_count": 68,
   "id": "6f9b4deb",
   "metadata": {
    "hidden": true
   },
   "outputs": [
    {
     "data": {
      "text/plain": [
       "agent\n",
       "0           3.970354\n",
       "1           0.000000\n",
       "2      125368.428736\n",
       "3           1.200673\n",
       "4           1.200673\n",
       "           ...      \n",
       "986         0.000000\n",
       "987     34190.655741\n",
       "988     34190.655741\n",
       "989     11346.415752\n",
       "990     11346.415752\n",
       "Name: balance, Length: 991, dtype: float64"
      ]
     },
     "execution_count": 68,
     "metadata": {},
     "output_type": "execute_result"
    }
   ],
   "source": [
    "balance_df[balance_df[\"tick\"] == balance_df[\"tick\"].max()].set_index(\"agent\")[\"balance\"]"
   ]
  },
  {
   "cell_type": "code",
   "execution_count": 69,
   "id": "0cebdc17",
   "metadata": {
    "hidden": true
   },
   "outputs": [
    {
     "data": {
      "text/html": [
       "<div>\n",
       "<style scoped>\n",
       "    .dataframe tbody tr th:only-of-type {\n",
       "        vertical-align: middle;\n",
       "    }\n",
       "\n",
       "    .dataframe tbody tr th {\n",
       "        vertical-align: top;\n",
       "    }\n",
       "\n",
       "    .dataframe thead th {\n",
       "        text-align: right;\n",
       "    }\n",
       "</style>\n",
       "<table border=\"1\" class=\"dataframe\">\n",
       "  <thead>\n",
       "    <tr style=\"text-align: right;\">\n",
       "      <th></th>\n",
       "      <th>agent</th>\n",
       "      <th>tick</th>\n",
       "      <th>balance</th>\n",
       "    </tr>\n",
       "  </thead>\n",
       "  <tbody>\n",
       "    <tr>\n",
       "      <th>5096713</th>\n",
       "      <td>0</td>\n",
       "      <td>10384.566667</td>\n",
       "      <td>3.970354e+00</td>\n",
       "    </tr>\n",
       "    <tr>\n",
       "      <th>5096714</th>\n",
       "      <td>1</td>\n",
       "      <td>10384.566667</td>\n",
       "      <td>0.000000e+00</td>\n",
       "    </tr>\n",
       "    <tr>\n",
       "      <th>5096715</th>\n",
       "      <td>2</td>\n",
       "      <td>10384.566667</td>\n",
       "      <td>1.253684e+05</td>\n",
       "    </tr>\n",
       "    <tr>\n",
       "      <th>5096716</th>\n",
       "      <td>3</td>\n",
       "      <td>10384.566667</td>\n",
       "      <td>1.200673e+00</td>\n",
       "    </tr>\n",
       "    <tr>\n",
       "      <th>5096717</th>\n",
       "      <td>4</td>\n",
       "      <td>10384.566667</td>\n",
       "      <td>1.200673e+00</td>\n",
       "    </tr>\n",
       "    <tr>\n",
       "      <th>5096718</th>\n",
       "      <td>5</td>\n",
       "      <td>10384.566667</td>\n",
       "      <td>1.158033e+01</td>\n",
       "    </tr>\n",
       "    <tr>\n",
       "      <th>5096719</th>\n",
       "      <td>6</td>\n",
       "      <td>10384.566667</td>\n",
       "      <td>1.138790e+07</td>\n",
       "    </tr>\n",
       "    <tr>\n",
       "      <th>5096720</th>\n",
       "      <td>7</td>\n",
       "      <td>10384.566667</td>\n",
       "      <td>0.000000e+00</td>\n",
       "    </tr>\n",
       "    <tr>\n",
       "      <th>5096721</th>\n",
       "      <td>8</td>\n",
       "      <td>10384.566667</td>\n",
       "      <td>0.000000e+00</td>\n",
       "    </tr>\n",
       "    <tr>\n",
       "      <th>5096722</th>\n",
       "      <td>9</td>\n",
       "      <td>10384.566667</td>\n",
       "      <td>8.310620e+05</td>\n",
       "    </tr>\n",
       "    <tr>\n",
       "      <th>5096723</th>\n",
       "      <td>10</td>\n",
       "      <td>10384.566667</td>\n",
       "      <td>1.619309e+06</td>\n",
       "    </tr>\n",
       "    <tr>\n",
       "      <th>5096724</th>\n",
       "      <td>11</td>\n",
       "      <td>10384.566667</td>\n",
       "      <td>0.000000e+00</td>\n",
       "    </tr>\n",
       "    <tr>\n",
       "      <th>5096725</th>\n",
       "      <td>12</td>\n",
       "      <td>10384.566667</td>\n",
       "      <td>1.719354e+04</td>\n",
       "    </tr>\n",
       "    <tr>\n",
       "      <th>5096726</th>\n",
       "      <td>13</td>\n",
       "      <td>10384.566667</td>\n",
       "      <td>0.000000e+00</td>\n",
       "    </tr>\n",
       "    <tr>\n",
       "      <th>5096727</th>\n",
       "      <td>14</td>\n",
       "      <td>10384.566667</td>\n",
       "      <td>0.000000e+00</td>\n",
       "    </tr>\n",
       "    <tr>\n",
       "      <th>5096728</th>\n",
       "      <td>15</td>\n",
       "      <td>10384.566667</td>\n",
       "      <td>9.378381e+07</td>\n",
       "    </tr>\n",
       "    <tr>\n",
       "      <th>5096729</th>\n",
       "      <td>16</td>\n",
       "      <td>10384.566667</td>\n",
       "      <td>0.000000e+00</td>\n",
       "    </tr>\n",
       "    <tr>\n",
       "      <th>5096730</th>\n",
       "      <td>17</td>\n",
       "      <td>10384.566667</td>\n",
       "      <td>2.207398e+07</td>\n",
       "    </tr>\n",
       "    <tr>\n",
       "      <th>5096731</th>\n",
       "      <td>18</td>\n",
       "      <td>10384.566667</td>\n",
       "      <td>2.207398e+07</td>\n",
       "    </tr>\n",
       "    <tr>\n",
       "      <th>5096732</th>\n",
       "      <td>19</td>\n",
       "      <td>10384.566667</td>\n",
       "      <td>0.000000e+00</td>\n",
       "    </tr>\n",
       "    <tr>\n",
       "      <th>5096733</th>\n",
       "      <td>20</td>\n",
       "      <td>10384.566667</td>\n",
       "      <td>5.144847e+04</td>\n",
       "    </tr>\n",
       "    <tr>\n",
       "      <th>5096734</th>\n",
       "      <td>21</td>\n",
       "      <td>10384.566667</td>\n",
       "      <td>1.209756e+04</td>\n",
       "    </tr>\n",
       "    <tr>\n",
       "      <th>5096735</th>\n",
       "      <td>22</td>\n",
       "      <td>10384.566667</td>\n",
       "      <td>0.000000e+00</td>\n",
       "    </tr>\n",
       "    <tr>\n",
       "      <th>5096736</th>\n",
       "      <td>23</td>\n",
       "      <td>10384.566667</td>\n",
       "      <td>0.000000e+00</td>\n",
       "    </tr>\n",
       "    <tr>\n",
       "      <th>5096737</th>\n",
       "      <td>24</td>\n",
       "      <td>10384.566667</td>\n",
       "      <td>0.000000e+00</td>\n",
       "    </tr>\n",
       "    <tr>\n",
       "      <th>5096738</th>\n",
       "      <td>25</td>\n",
       "      <td>10384.566667</td>\n",
       "      <td>7.400654e+04</td>\n",
       "    </tr>\n",
       "    <tr>\n",
       "      <th>5096739</th>\n",
       "      <td>26</td>\n",
       "      <td>10384.566667</td>\n",
       "      <td>0.000000e+00</td>\n",
       "    </tr>\n",
       "    <tr>\n",
       "      <th>5096740</th>\n",
       "      <td>27</td>\n",
       "      <td>10384.566667</td>\n",
       "      <td>1.802004e+01</td>\n",
       "    </tr>\n",
       "    <tr>\n",
       "      <th>5096741</th>\n",
       "      <td>28</td>\n",
       "      <td>10384.566667</td>\n",
       "      <td>0.000000e+00</td>\n",
       "    </tr>\n",
       "    <tr>\n",
       "      <th>5096742</th>\n",
       "      <td>29</td>\n",
       "      <td>10384.566667</td>\n",
       "      <td>4.886978e-01</td>\n",
       "    </tr>\n",
       "    <tr>\n",
       "      <th>5096743</th>\n",
       "      <td>30</td>\n",
       "      <td>10384.566667</td>\n",
       "      <td>4.886978e-01</td>\n",
       "    </tr>\n",
       "    <tr>\n",
       "      <th>5096744</th>\n",
       "      <td>31</td>\n",
       "      <td>10384.566667</td>\n",
       "      <td>2.376114e+01</td>\n",
       "    </tr>\n",
       "    <tr>\n",
       "      <th>5096745</th>\n",
       "      <td>32</td>\n",
       "      <td>10384.566667</td>\n",
       "      <td>2.170389e-01</td>\n",
       "    </tr>\n",
       "    <tr>\n",
       "      <th>5096746</th>\n",
       "      <td>33</td>\n",
       "      <td>10384.566667</td>\n",
       "      <td>3.397174e+05</td>\n",
       "    </tr>\n",
       "    <tr>\n",
       "      <th>5096747</th>\n",
       "      <td>34</td>\n",
       "      <td>10384.566667</td>\n",
       "      <td>4.585699e+04</td>\n",
       "    </tr>\n",
       "    <tr>\n",
       "      <th>5096748</th>\n",
       "      <td>35</td>\n",
       "      <td>10384.566667</td>\n",
       "      <td>1.892490e+05</td>\n",
       "    </tr>\n",
       "    <tr>\n",
       "      <th>5096749</th>\n",
       "      <td>36</td>\n",
       "      <td>10384.566667</td>\n",
       "      <td>0.000000e+00</td>\n",
       "    </tr>\n",
       "    <tr>\n",
       "      <th>5096750</th>\n",
       "      <td>37</td>\n",
       "      <td>10384.566667</td>\n",
       "      <td>0.000000e+00</td>\n",
       "    </tr>\n",
       "    <tr>\n",
       "      <th>5096751</th>\n",
       "      <td>38</td>\n",
       "      <td>10384.566667</td>\n",
       "      <td>1.281193e+04</td>\n",
       "    </tr>\n",
       "    <tr>\n",
       "      <th>5096752</th>\n",
       "      <td>39</td>\n",
       "      <td>10384.566667</td>\n",
       "      <td>0.000000e+00</td>\n",
       "    </tr>\n",
       "    <tr>\n",
       "      <th>5096753</th>\n",
       "      <td>40</td>\n",
       "      <td>10384.566667</td>\n",
       "      <td>2.170389e-01</td>\n",
       "    </tr>\n",
       "    <tr>\n",
       "      <th>5096754</th>\n",
       "      <td>41</td>\n",
       "      <td>10384.566667</td>\n",
       "      <td>2.701637e+06</td>\n",
       "    </tr>\n",
       "    <tr>\n",
       "      <th>5096755</th>\n",
       "      <td>42</td>\n",
       "      <td>10384.566667</td>\n",
       "      <td>2.701637e+06</td>\n",
       "    </tr>\n",
       "    <tr>\n",
       "      <th>5096756</th>\n",
       "      <td>43</td>\n",
       "      <td>10384.566667</td>\n",
       "      <td>0.000000e+00</td>\n",
       "    </tr>\n",
       "    <tr>\n",
       "      <th>5096757</th>\n",
       "      <td>44</td>\n",
       "      <td>10384.566667</td>\n",
       "      <td>0.000000e+00</td>\n",
       "    </tr>\n",
       "    <tr>\n",
       "      <th>5096758</th>\n",
       "      <td>45</td>\n",
       "      <td>10384.566667</td>\n",
       "      <td>0.000000e+00</td>\n",
       "    </tr>\n",
       "    <tr>\n",
       "      <th>5096759</th>\n",
       "      <td>46</td>\n",
       "      <td>10384.566667</td>\n",
       "      <td>3.217060e+04</td>\n",
       "    </tr>\n",
       "    <tr>\n",
       "      <th>5096760</th>\n",
       "      <td>47</td>\n",
       "      <td>10384.566667</td>\n",
       "      <td>0.000000e+00</td>\n",
       "    </tr>\n",
       "    <tr>\n",
       "      <th>5096761</th>\n",
       "      <td>48</td>\n",
       "      <td>10384.566667</td>\n",
       "      <td>2.170389e-01</td>\n",
       "    </tr>\n",
       "    <tr>\n",
       "      <th>5096762</th>\n",
       "      <td>49</td>\n",
       "      <td>10384.566667</td>\n",
       "      <td>2.372160e+06</td>\n",
       "    </tr>\n",
       "  </tbody>\n",
       "</table>\n",
       "</div>"
      ],
      "text/plain": [
       "         agent          tick       balance\n",
       "5096713      0  10384.566667  3.970354e+00\n",
       "5096714      1  10384.566667  0.000000e+00\n",
       "5096715      2  10384.566667  1.253684e+05\n",
       "5096716      3  10384.566667  1.200673e+00\n",
       "5096717      4  10384.566667  1.200673e+00\n",
       "5096718      5  10384.566667  1.158033e+01\n",
       "5096719      6  10384.566667  1.138790e+07\n",
       "5096720      7  10384.566667  0.000000e+00\n",
       "5096721      8  10384.566667  0.000000e+00\n",
       "5096722      9  10384.566667  8.310620e+05\n",
       "5096723     10  10384.566667  1.619309e+06\n",
       "5096724     11  10384.566667  0.000000e+00\n",
       "5096725     12  10384.566667  1.719354e+04\n",
       "5096726     13  10384.566667  0.000000e+00\n",
       "5096727     14  10384.566667  0.000000e+00\n",
       "5096728     15  10384.566667  9.378381e+07\n",
       "5096729     16  10384.566667  0.000000e+00\n",
       "5096730     17  10384.566667  2.207398e+07\n",
       "5096731     18  10384.566667  2.207398e+07\n",
       "5096732     19  10384.566667  0.000000e+00\n",
       "5096733     20  10384.566667  5.144847e+04\n",
       "5096734     21  10384.566667  1.209756e+04\n",
       "5096735     22  10384.566667  0.000000e+00\n",
       "5096736     23  10384.566667  0.000000e+00\n",
       "5096737     24  10384.566667  0.000000e+00\n",
       "5096738     25  10384.566667  7.400654e+04\n",
       "5096739     26  10384.566667  0.000000e+00\n",
       "5096740     27  10384.566667  1.802004e+01\n",
       "5096741     28  10384.566667  0.000000e+00\n",
       "5096742     29  10384.566667  4.886978e-01\n",
       "5096743     30  10384.566667  4.886978e-01\n",
       "5096744     31  10384.566667  2.376114e+01\n",
       "5096745     32  10384.566667  2.170389e-01\n",
       "5096746     33  10384.566667  3.397174e+05\n",
       "5096747     34  10384.566667  4.585699e+04\n",
       "5096748     35  10384.566667  1.892490e+05\n",
       "5096749     36  10384.566667  0.000000e+00\n",
       "5096750     37  10384.566667  0.000000e+00\n",
       "5096751     38  10384.566667  1.281193e+04\n",
       "5096752     39  10384.566667  0.000000e+00\n",
       "5096753     40  10384.566667  2.170389e-01\n",
       "5096754     41  10384.566667  2.701637e+06\n",
       "5096755     42  10384.566667  2.701637e+06\n",
       "5096756     43  10384.566667  0.000000e+00\n",
       "5096757     44  10384.566667  0.000000e+00\n",
       "5096758     45  10384.566667  0.000000e+00\n",
       "5096759     46  10384.566667  3.217060e+04\n",
       "5096760     47  10384.566667  0.000000e+00\n",
       "5096761     48  10384.566667  2.170389e-01\n",
       "5096762     49  10384.566667  2.372160e+06"
      ]
     },
     "execution_count": 69,
     "metadata": {},
     "output_type": "execute_result"
    }
   ],
   "source": [
    "balance_df[balance_df[\"tick\"] == balance_df[\"tick\"].max()].head(50)"
   ]
  },
  {
   "cell_type": "code",
   "execution_count": 70,
   "id": "0586b20a",
   "metadata": {
    "hidden": true
   },
   "outputs": [
    {
     "data": {
      "text/plain": [
       "<matplotlib.collections.PathCollection at 0x7f7b47c043a0>"
      ]
     },
     "execution_count": 70,
     "metadata": {},
     "output_type": "execute_result"
    },
    {
     "data": {
      "image/png": "[encoded data removed]",
      "text/plain": [
       "<Figure size 432x288 with 1 Axes>"
      ]
     },
     "metadata": {
      "needs_background": "light"
     },
     "output_type": "display_data"
    }
   ],
   "source": [
    "plt.scatter(balance_df[balance_df[\"agent\"] == 1][\"tick\"],balance_df[balance_df[\"agent\"] == 1][\"balance\"])"
   ]
  },
  {
   "cell_type": "code",
   "execution_count": 71,
   "id": "db07fda0",
   "metadata": {
    "hidden": true
   },
   "outputs": [],
   "source": [
    "#for agent in balance_df[\"agent\"].unique():\n",
    "#    plt.scatter(balance_df[balance_df[\"agent\"] == agent][\"tick\"], balance_df[balance_df[\"agent\"] == agent][\"balance\"])\n"
   ]
  },
  {
   "cell_type": "code",
   "execution_count": 72,
   "id": "2c9ee0e6",
   "metadata": {
    "hidden": true
   },
   "outputs": [
    {
     "data": {
      "text/html": [
       "<div>\n",
       "<style scoped>\n",
       "    .dataframe tbody tr th:only-of-type {\n",
       "        vertical-align: middle;\n",
       "    }\n",
       "\n",
       "    .dataframe tbody tr th {\n",
       "        vertical-align: top;\n",
       "    }\n",
       "\n",
       "    .dataframe thead th {\n",
       "        text-align: right;\n",
       "    }\n",
       "</style>\n",
       "<table border=\"1\" class=\"dataframe\">\n",
       "  <thead>\n",
       "    <tr style=\"text-align: right;\">\n",
       "      <th></th>\n",
       "      <th>balance</th>\n",
       "    </tr>\n",
       "    <tr>\n",
       "      <th>agent</th>\n",
       "      <th></th>\n",
       "    </tr>\n",
       "  </thead>\n",
       "  <tbody>\n",
       "    <tr>\n",
       "      <th>0</th>\n",
       "      <td>0.000218</td>\n",
       "    </tr>\n",
       "    <tr>\n",
       "      <th>1</th>\n",
       "      <td>NaN</td>\n",
       "    </tr>\n",
       "    <tr>\n",
       "      <th>2</th>\n",
       "      <td>2.911604</td>\n",
       "    </tr>\n",
       "    <tr>\n",
       "      <th>3</th>\n",
       "      <td>0.000055</td>\n",
       "    </tr>\n",
       "    <tr>\n",
       "      <th>4</th>\n",
       "      <td>0.000055</td>\n",
       "    </tr>\n",
       "    <tr>\n",
       "      <th>...</th>\n",
       "      <td>...</td>\n",
       "    </tr>\n",
       "    <tr>\n",
       "      <th>986</th>\n",
       "      <td>NaN</td>\n",
       "    </tr>\n",
       "    <tr>\n",
       "      <th>987</th>\n",
       "      <td>2.021726</td>\n",
       "    </tr>\n",
       "    <tr>\n",
       "      <th>988</th>\n",
       "      <td>2.021726</td>\n",
       "    </tr>\n",
       "    <tr>\n",
       "      <th>989</th>\n",
       "      <td>0.000331</td>\n",
       "    </tr>\n",
       "    <tr>\n",
       "      <th>990</th>\n",
       "      <td>0.000331</td>\n",
       "    </tr>\n",
       "  </tbody>\n",
       "</table>\n",
       "<p>991 rows × 1 columns</p>\n",
       "</div>"
      ],
      "text/plain": [
       "        balance\n",
       "agent          \n",
       "0      0.000218\n",
       "1           NaN\n",
       "2      2.911604\n",
       "3      0.000055\n",
       "4      0.000055\n",
       "...         ...\n",
       "986         NaN\n",
       "987    2.021726\n",
       "988    2.021726\n",
       "989    0.000331\n",
       "990    0.000331\n",
       "\n",
       "[991 rows x 1 columns]"
      ]
     },
     "execution_count": 72,
     "metadata": {},
     "output_type": "execute_result"
    }
   ],
   "source": [
    "balance_df[balance_df[\"tick\"] == balance_df[\"tick\"].max()].drop(\"tick\", axis=1).set_index(\"agent\") / balance_df[balance_df[\"tick\"] == balance_df[\"tick\"].min()].drop(\"tick\", axis=1).set_index(\"agent\")"
   ]
  },
  {
   "cell_type": "markdown",
   "id": "1739d91e",
   "metadata": {},
   "source": [
    "# Inventory"
   ]
  },
  {
   "cell_type": "markdown",
   "id": "ccdffcc8",
   "metadata": {
    "heading_collapsed": true
   },
   "source": [
    "## Last Tick Inventory"
   ]
  },
  {
   "cell_type": "code",
   "execution_count": 73,
   "id": "6b3f26c8",
   "metadata": {
    "hidden": true
   },
   "outputs": [
    {
     "data": {
      "text/html": [
       "<div>\n",
       "<style scoped>\n",
       "    .dataframe tbody tr th:only-of-type {\n",
       "        vertical-align: middle;\n",
       "    }\n",
       "\n",
       "    .dataframe tbody tr th {\n",
       "        vertical-align: top;\n",
       "    }\n",
       "\n",
       "    .dataframe thead th {\n",
       "        text-align: right;\n",
       "    }\n",
       "</style>\n",
       "<table border=\"1\" class=\"dataframe\">\n",
       "  <thead>\n",
       "    <tr style=\"text-align: right;\">\n",
       "      <th></th>\n",
       "      <th>agent</th>\n",
       "      <th>tick</th>\n",
       "      <th>0</th>\n",
       "      <th>1</th>\n",
       "      <th>2</th>\n",
       "      <th>3</th>\n",
       "      <th>4</th>\n",
       "      <th>5</th>\n",
       "      <th>6</th>\n",
       "      <th>7</th>\n",
       "      <th>...</th>\n",
       "      <th>10</th>\n",
       "      <th>11</th>\n",
       "      <th>12</th>\n",
       "      <th>13</th>\n",
       "      <th>14</th>\n",
       "      <th>15</th>\n",
       "      <th>16</th>\n",
       "      <th>17</th>\n",
       "      <th>18</th>\n",
       "      <th>19</th>\n",
       "    </tr>\n",
       "  </thead>\n",
       "  <tbody>\n",
       "    <tr>\n",
       "      <th>5096713</th>\n",
       "      <td>0</td>\n",
       "      <td>10384.566667</td>\n",
       "      <td>0.0</td>\n",
       "      <td>0.0</td>\n",
       "      <td>0.0</td>\n",
       "      <td>1930.0</td>\n",
       "      <td>0.0</td>\n",
       "      <td>0.0</td>\n",
       "      <td>0.0</td>\n",
       "      <td>108.0</td>\n",
       "      <td>...</td>\n",
       "      <td>0.0</td>\n",
       "      <td>0.0</td>\n",
       "      <td>0.0</td>\n",
       "      <td>0.0</td>\n",
       "      <td>0.0</td>\n",
       "      <td>0.0</td>\n",
       "      <td>0.0</td>\n",
       "      <td>0.0</td>\n",
       "      <td>0.0</td>\n",
       "      <td>0.0</td>\n",
       "    </tr>\n",
       "    <tr>\n",
       "      <th>5096714</th>\n",
       "      <td>1</td>\n",
       "      <td>10384.566667</td>\n",
       "      <td>0.0</td>\n",
       "      <td>0.0</td>\n",
       "      <td>0.0</td>\n",
       "      <td>0.0</td>\n",
       "      <td>0.0</td>\n",
       "      <td>0.0</td>\n",
       "      <td>0.0</td>\n",
       "      <td>0.0</td>\n",
       "      <td>...</td>\n",
       "      <td>0.0</td>\n",
       "      <td>0.0</td>\n",
       "      <td>0.0</td>\n",
       "      <td>0.0</td>\n",
       "      <td>0.0</td>\n",
       "      <td>0.0</td>\n",
       "      <td>0.0</td>\n",
       "      <td>0.0</td>\n",
       "      <td>0.0</td>\n",
       "      <td>0.0</td>\n",
       "    </tr>\n",
       "    <tr>\n",
       "      <th>5096715</th>\n",
       "      <td>2</td>\n",
       "      <td>10384.566667</td>\n",
       "      <td>0.0</td>\n",
       "      <td>0.0</td>\n",
       "      <td>0.0</td>\n",
       "      <td>0.0</td>\n",
       "      <td>0.0</td>\n",
       "      <td>262.0</td>\n",
       "      <td>0.0</td>\n",
       "      <td>0.0</td>\n",
       "      <td>...</td>\n",
       "      <td>0.0</td>\n",
       "      <td>216.0</td>\n",
       "      <td>0.0</td>\n",
       "      <td>0.0</td>\n",
       "      <td>0.0</td>\n",
       "      <td>0.0</td>\n",
       "      <td>0.0</td>\n",
       "      <td>0.0</td>\n",
       "      <td>0.0</td>\n",
       "      <td>0.0</td>\n",
       "    </tr>\n",
       "    <tr>\n",
       "      <th>5096716</th>\n",
       "      <td>3</td>\n",
       "      <td>10384.566667</td>\n",
       "      <td>0.0</td>\n",
       "      <td>6.0</td>\n",
       "      <td>0.0</td>\n",
       "      <td>0.0</td>\n",
       "      <td>0.0</td>\n",
       "      <td>0.0</td>\n",
       "      <td>0.0</td>\n",
       "      <td>0.0</td>\n",
       "      <td>...</td>\n",
       "      <td>0.0</td>\n",
       "      <td>0.0</td>\n",
       "      <td>0.0</td>\n",
       "      <td>0.0</td>\n",
       "      <td>0.0</td>\n",
       "      <td>0.0</td>\n",
       "      <td>0.0</td>\n",
       "      <td>0.0</td>\n",
       "      <td>0.0</td>\n",
       "      <td>0.0</td>\n",
       "    </tr>\n",
       "    <tr>\n",
       "      <th>5096717</th>\n",
       "      <td>4</td>\n",
       "      <td>10384.566667</td>\n",
       "      <td>0.0</td>\n",
       "      <td>0.0</td>\n",
       "      <td>0.0</td>\n",
       "      <td>17.0</td>\n",
       "      <td>0.0</td>\n",
       "      <td>0.0</td>\n",
       "      <td>0.0</td>\n",
       "      <td>585.0</td>\n",
       "      <td>...</td>\n",
       "      <td>0.0</td>\n",
       "      <td>0.0</td>\n",
       "      <td>0.0</td>\n",
       "      <td>0.0</td>\n",
       "      <td>0.0</td>\n",
       "      <td>0.0</td>\n",
       "      <td>0.0</td>\n",
       "      <td>0.0</td>\n",
       "      <td>0.0</td>\n",
       "      <td>0.0</td>\n",
       "    </tr>\n",
       "    <tr>\n",
       "      <th>...</th>\n",
       "      <td>...</td>\n",
       "      <td>...</td>\n",
       "      <td>...</td>\n",
       "      <td>...</td>\n",
       "      <td>...</td>\n",
       "      <td>...</td>\n",
       "      <td>...</td>\n",
       "      <td>...</td>\n",
       "      <td>...</td>\n",
       "      <td>...</td>\n",
       "      <td>...</td>\n",
       "      <td>...</td>\n",
       "      <td>...</td>\n",
       "      <td>...</td>\n",
       "      <td>...</td>\n",
       "      <td>...</td>\n",
       "      <td>...</td>\n",
       "      <td>...</td>\n",
       "      <td>...</td>\n",
       "      <td>...</td>\n",
       "      <td>...</td>\n",
       "    </tr>\n",
       "    <tr>\n",
       "      <th>5097699</th>\n",
       "      <td>986</td>\n",
       "      <td>10384.566667</td>\n",
       "      <td>0.0</td>\n",
       "      <td>0.0</td>\n",
       "      <td>0.0</td>\n",
       "      <td>0.0</td>\n",
       "      <td>0.0</td>\n",
       "      <td>0.0</td>\n",
       "      <td>0.0</td>\n",
       "      <td>0.0</td>\n",
       "      <td>...</td>\n",
       "      <td>0.0</td>\n",
       "      <td>0.0</td>\n",
       "      <td>0.0</td>\n",
       "      <td>0.0</td>\n",
       "      <td>0.0</td>\n",
       "      <td>0.0</td>\n",
       "      <td>0.0</td>\n",
       "      <td>0.0</td>\n",
       "      <td>0.0</td>\n",
       "      <td>0.0</td>\n",
       "    </tr>\n",
       "    <tr>\n",
       "      <th>5097700</th>\n",
       "      <td>987</td>\n",
       "      <td>10384.566667</td>\n",
       "      <td>0.0</td>\n",
       "      <td>0.0</td>\n",
       "      <td>0.0</td>\n",
       "      <td>0.0</td>\n",
       "      <td>0.0</td>\n",
       "      <td>0.0</td>\n",
       "      <td>0.0</td>\n",
       "      <td>0.0</td>\n",
       "      <td>...</td>\n",
       "      <td>0.0</td>\n",
       "      <td>0.0</td>\n",
       "      <td>0.0</td>\n",
       "      <td>0.0</td>\n",
       "      <td>0.0</td>\n",
       "      <td>0.0</td>\n",
       "      <td>0.0</td>\n",
       "      <td>0.0</td>\n",
       "      <td>0.0</td>\n",
       "      <td>0.0</td>\n",
       "    </tr>\n",
       "    <tr>\n",
       "      <th>5097701</th>\n",
       "      <td>988</td>\n",
       "      <td>10384.566667</td>\n",
       "      <td>0.0</td>\n",
       "      <td>0.0</td>\n",
       "      <td>0.0</td>\n",
       "      <td>0.0</td>\n",
       "      <td>0.0</td>\n",
       "      <td>450.0</td>\n",
       "      <td>0.0</td>\n",
       "      <td>0.0</td>\n",
       "      <td>...</td>\n",
       "      <td>0.0</td>\n",
       "      <td>0.0</td>\n",
       "      <td>0.0</td>\n",
       "      <td>0.0</td>\n",
       "      <td>0.0</td>\n",
       "      <td>0.0</td>\n",
       "      <td>0.0</td>\n",
       "      <td>0.0</td>\n",
       "      <td>0.0</td>\n",
       "      <td>0.0</td>\n",
       "    </tr>\n",
       "    <tr>\n",
       "      <th>5097702</th>\n",
       "      <td>989</td>\n",
       "      <td>10384.566667</td>\n",
       "      <td>0.0</td>\n",
       "      <td>0.0</td>\n",
       "      <td>0.0</td>\n",
       "      <td>0.0</td>\n",
       "      <td>39.0</td>\n",
       "      <td>0.0</td>\n",
       "      <td>0.0</td>\n",
       "      <td>0.0</td>\n",
       "      <td>...</td>\n",
       "      <td>0.0</td>\n",
       "      <td>0.0</td>\n",
       "      <td>0.0</td>\n",
       "      <td>0.0</td>\n",
       "      <td>0.0</td>\n",
       "      <td>0.0</td>\n",
       "      <td>0.0</td>\n",
       "      <td>0.0</td>\n",
       "      <td>0.0</td>\n",
       "      <td>0.0</td>\n",
       "    </tr>\n",
       "    <tr>\n",
       "      <th>5097703</th>\n",
       "      <td>990</td>\n",
       "      <td>10384.566667</td>\n",
       "      <td>0.0</td>\n",
       "      <td>0.0</td>\n",
       "      <td>0.0</td>\n",
       "      <td>0.0</td>\n",
       "      <td>0.0</td>\n",
       "      <td>0.0</td>\n",
       "      <td>0.0</td>\n",
       "      <td>0.0</td>\n",
       "      <td>...</td>\n",
       "      <td>0.0</td>\n",
       "      <td>0.0</td>\n",
       "      <td>0.0</td>\n",
       "      <td>49.0</td>\n",
       "      <td>46.0</td>\n",
       "      <td>722.0</td>\n",
       "      <td>32.0</td>\n",
       "      <td>27.0</td>\n",
       "      <td>0.0</td>\n",
       "      <td>0.0</td>\n",
       "    </tr>\n",
       "  </tbody>\n",
       "</table>\n",
       "<p>991 rows × 22 columns</p>\n",
       "</div>"
      ],
      "text/plain": [
       "         agent          tick    0    1    2       3     4      5    6      7  \\\n",
       "5096713      0  10384.566667  0.0  0.0  0.0  1930.0   0.0    0.0  0.0  108.0   \n",
       "5096714      1  10384.566667  0.0  0.0  0.0     0.0   0.0    0.0  0.0    0.0   \n",
       "5096715      2  10384.566667  0.0  0.0  0.0     0.0   0.0  262.0  0.0    0.0   \n",
       "5096716      3  10384.566667  0.0  6.0  0.0     0.0   0.0    0.0  0.0    0.0   \n",
       "5096717      4  10384.566667  0.0  0.0  0.0    17.0   0.0    0.0  0.0  585.0   \n",
       "...        ...           ...  ...  ...  ...     ...   ...    ...  ...    ...   \n",
       "5097699    986  10384.566667  0.0  0.0  0.0     0.0   0.0    0.0  0.0    0.0   \n",
       "5097700    987  10384.566667  0.0  0.0  0.0     0.0   0.0    0.0  0.0    0.0   \n",
       "5097701    988  10384.566667  0.0  0.0  0.0     0.0   0.0  450.0  0.0    0.0   \n",
       "5097702    989  10384.566667  0.0  0.0  0.0     0.0  39.0    0.0  0.0    0.0   \n",
       "5097703    990  10384.566667  0.0  0.0  0.0     0.0   0.0    0.0  0.0    0.0   \n",
       "\n",
       "         ...   10     11   12    13    14     15    16    17   18   19  \n",
       "5096713  ...  0.0    0.0  0.0   0.0   0.0    0.0   0.0   0.0  0.0  0.0  \n",
       "5096714  ...  0.0    0.0  0.0   0.0   0.0    0.0   0.0   0.0  0.0  0.0  \n",
       "5096715  ...  0.0  216.0  0.0   0.0   0.0    0.0   0.0   0.0  0.0  0.0  \n",
       "5096716  ...  0.0    0.0  0.0   0.0   0.0    0.0   0.0   0.0  0.0  0.0  \n",
       "5096717  ...  0.0    0.0  0.0   0.0   0.0    0.0   0.0   0.0  0.0  0.0  \n",
       "...      ...  ...    ...  ...   ...   ...    ...   ...   ...  ...  ...  \n",
       "5097699  ...  0.0    0.0  0.0   0.0   0.0    0.0   0.0   0.0  0.0  0.0  \n",
       "5097700  ...  0.0    0.0  0.0   0.0   0.0    0.0   0.0   0.0  0.0  0.0  \n",
       "5097701  ...  0.0    0.0  0.0   0.0   0.0    0.0   0.0   0.0  0.0  0.0  \n",
       "5097702  ...  0.0    0.0  0.0   0.0   0.0    0.0   0.0   0.0  0.0  0.0  \n",
       "5097703  ...  0.0    0.0  0.0  49.0  46.0  722.0  32.0  27.0  0.0  0.0  \n",
       "\n",
       "[991 rows x 22 columns]"
      ]
     },
     "execution_count": 73,
     "metadata": {},
     "output_type": "execute_result"
    }
   ],
   "source": [
    "inventory_df[inventory_df[\"tick\"] == inventory_df[\"tick\"].max()]"
   ]
  },
  {
   "cell_type": "markdown",
   "id": "cc782c16",
   "metadata": {
    "hidden": true
   },
   "source": [
    "### Produced Goods Inventory"
   ]
  },
  {
   "cell_type": "code",
   "execution_count": 74,
   "id": "b49a7384",
   "metadata": {
    "hidden": true
   },
   "outputs": [
    {
     "data": {
      "text/html": [
       "<div>\n",
       "<style scoped>\n",
       "    .dataframe tbody tr th:only-of-type {\n",
       "        vertical-align: middle;\n",
       "    }\n",
       "\n",
       "    .dataframe tbody tr th {\n",
       "        vertical-align: top;\n",
       "    }\n",
       "\n",
       "    .dataframe thead th {\n",
       "        text-align: right;\n",
       "    }\n",
       "</style>\n",
       "<table border=\"1\" class=\"dataframe\">\n",
       "  <thead>\n",
       "    <tr style=\"text-align: right;\">\n",
       "      <th></th>\n",
       "      <th>0</th>\n",
       "      <th>1</th>\n",
       "      <th>2</th>\n",
       "      <th>3</th>\n",
       "      <th>4</th>\n",
       "      <th>5</th>\n",
       "      <th>6</th>\n",
       "      <th>7</th>\n",
       "      <th>8</th>\n",
       "      <th>9</th>\n",
       "      <th>...</th>\n",
       "      <th>11</th>\n",
       "      <th>12</th>\n",
       "      <th>13</th>\n",
       "      <th>14</th>\n",
       "      <th>15</th>\n",
       "      <th>16</th>\n",
       "      <th>17</th>\n",
       "      <th>18</th>\n",
       "      <th>19</th>\n",
       "      <th>tick</th>\n",
       "    </tr>\n",
       "  </thead>\n",
       "  <tbody>\n",
       "    <tr>\n",
       "      <th>0</th>\n",
       "      <td>0.0</td>\n",
       "      <td>0.0</td>\n",
       "      <td>0.0</td>\n",
       "      <td>0.0</td>\n",
       "      <td>0.0</td>\n",
       "      <td>0.0</td>\n",
       "      <td>0.0</td>\n",
       "      <td>108.0</td>\n",
       "      <td>0.0</td>\n",
       "      <td>0.0</td>\n",
       "      <td>...</td>\n",
       "      <td>0.0</td>\n",
       "      <td>0.0</td>\n",
       "      <td>0.0</td>\n",
       "      <td>0.0</td>\n",
       "      <td>0.0</td>\n",
       "      <td>0.0</td>\n",
       "      <td>0.0</td>\n",
       "      <td>0.0</td>\n",
       "      <td>0.0</td>\n",
       "      <td>NaN</td>\n",
       "    </tr>\n",
       "    <tr>\n",
       "      <th>1</th>\n",
       "      <td>0.0</td>\n",
       "      <td>0.0</td>\n",
       "      <td>0.0</td>\n",
       "      <td>0.0</td>\n",
       "      <td>0.0</td>\n",
       "      <td>0.0</td>\n",
       "      <td>0.0</td>\n",
       "      <td>0.0</td>\n",
       "      <td>0.0</td>\n",
       "      <td>0.0</td>\n",
       "      <td>...</td>\n",
       "      <td>0.0</td>\n",
       "      <td>0.0</td>\n",
       "      <td>0.0</td>\n",
       "      <td>0.0</td>\n",
       "      <td>0.0</td>\n",
       "      <td>0.0</td>\n",
       "      <td>0.0</td>\n",
       "      <td>0.0</td>\n",
       "      <td>0.0</td>\n",
       "      <td>NaN</td>\n",
       "    </tr>\n",
       "    <tr>\n",
       "      <th>2</th>\n",
       "      <td>0.0</td>\n",
       "      <td>0.0</td>\n",
       "      <td>0.0</td>\n",
       "      <td>0.0</td>\n",
       "      <td>0.0</td>\n",
       "      <td>0.0</td>\n",
       "      <td>0.0</td>\n",
       "      <td>0.0</td>\n",
       "      <td>0.0</td>\n",
       "      <td>0.0</td>\n",
       "      <td>...</td>\n",
       "      <td>216.0</td>\n",
       "      <td>0.0</td>\n",
       "      <td>0.0</td>\n",
       "      <td>0.0</td>\n",
       "      <td>0.0</td>\n",
       "      <td>0.0</td>\n",
       "      <td>0.0</td>\n",
       "      <td>0.0</td>\n",
       "      <td>0.0</td>\n",
       "      <td>NaN</td>\n",
       "    </tr>\n",
       "    <tr>\n",
       "      <th>3</th>\n",
       "      <td>0.0</td>\n",
       "      <td>0.0</td>\n",
       "      <td>0.0</td>\n",
       "      <td>0.0</td>\n",
       "      <td>0.0</td>\n",
       "      <td>0.0</td>\n",
       "      <td>0.0</td>\n",
       "      <td>0.0</td>\n",
       "      <td>0.0</td>\n",
       "      <td>0.0</td>\n",
       "      <td>...</td>\n",
       "      <td>0.0</td>\n",
       "      <td>0.0</td>\n",
       "      <td>0.0</td>\n",
       "      <td>0.0</td>\n",
       "      <td>0.0</td>\n",
       "      <td>0.0</td>\n",
       "      <td>0.0</td>\n",
       "      <td>0.0</td>\n",
       "      <td>0.0</td>\n",
       "      <td>NaN</td>\n",
       "    </tr>\n",
       "    <tr>\n",
       "      <th>4</th>\n",
       "      <td>0.0</td>\n",
       "      <td>0.0</td>\n",
       "      <td>0.0</td>\n",
       "      <td>0.0</td>\n",
       "      <td>0.0</td>\n",
       "      <td>0.0</td>\n",
       "      <td>0.0</td>\n",
       "      <td>585.0</td>\n",
       "      <td>0.0</td>\n",
       "      <td>0.0</td>\n",
       "      <td>...</td>\n",
       "      <td>0.0</td>\n",
       "      <td>0.0</td>\n",
       "      <td>0.0</td>\n",
       "      <td>0.0</td>\n",
       "      <td>0.0</td>\n",
       "      <td>0.0</td>\n",
       "      <td>0.0</td>\n",
       "      <td>0.0</td>\n",
       "      <td>0.0</td>\n",
       "      <td>NaN</td>\n",
       "    </tr>\n",
       "    <tr>\n",
       "      <th>...</th>\n",
       "      <td>...</td>\n",
       "      <td>...</td>\n",
       "      <td>...</td>\n",
       "      <td>...</td>\n",
       "      <td>...</td>\n",
       "      <td>...</td>\n",
       "      <td>...</td>\n",
       "      <td>...</td>\n",
       "      <td>...</td>\n",
       "      <td>...</td>\n",
       "      <td>...</td>\n",
       "      <td>...</td>\n",
       "      <td>...</td>\n",
       "      <td>...</td>\n",
       "      <td>...</td>\n",
       "      <td>...</td>\n",
       "      <td>...</td>\n",
       "      <td>...</td>\n",
       "      <td>...</td>\n",
       "      <td>...</td>\n",
       "      <td>...</td>\n",
       "    </tr>\n",
       "    <tr>\n",
       "      <th>986</th>\n",
       "      <td>0.0</td>\n",
       "      <td>0.0</td>\n",
       "      <td>0.0</td>\n",
       "      <td>0.0</td>\n",
       "      <td>0.0</td>\n",
       "      <td>0.0</td>\n",
       "      <td>0.0</td>\n",
       "      <td>0.0</td>\n",
       "      <td>0.0</td>\n",
       "      <td>0.0</td>\n",
       "      <td>...</td>\n",
       "      <td>0.0</td>\n",
       "      <td>0.0</td>\n",
       "      <td>0.0</td>\n",
       "      <td>0.0</td>\n",
       "      <td>0.0</td>\n",
       "      <td>0.0</td>\n",
       "      <td>0.0</td>\n",
       "      <td>0.0</td>\n",
       "      <td>0.0</td>\n",
       "      <td>NaN</td>\n",
       "    </tr>\n",
       "    <tr>\n",
       "      <th>987</th>\n",
       "      <td>0.0</td>\n",
       "      <td>0.0</td>\n",
       "      <td>0.0</td>\n",
       "      <td>0.0</td>\n",
       "      <td>0.0</td>\n",
       "      <td>0.0</td>\n",
       "      <td>0.0</td>\n",
       "      <td>0.0</td>\n",
       "      <td>0.0</td>\n",
       "      <td>0.0</td>\n",
       "      <td>...</td>\n",
       "      <td>0.0</td>\n",
       "      <td>0.0</td>\n",
       "      <td>0.0</td>\n",
       "      <td>0.0</td>\n",
       "      <td>0.0</td>\n",
       "      <td>0.0</td>\n",
       "      <td>0.0</td>\n",
       "      <td>0.0</td>\n",
       "      <td>0.0</td>\n",
       "      <td>NaN</td>\n",
       "    </tr>\n",
       "    <tr>\n",
       "      <th>988</th>\n",
       "      <td>0.0</td>\n",
       "      <td>0.0</td>\n",
       "      <td>0.0</td>\n",
       "      <td>0.0</td>\n",
       "      <td>0.0</td>\n",
       "      <td>450.0</td>\n",
       "      <td>0.0</td>\n",
       "      <td>0.0</td>\n",
       "      <td>0.0</td>\n",
       "      <td>0.0</td>\n",
       "      <td>...</td>\n",
       "      <td>0.0</td>\n",
       "      <td>0.0</td>\n",
       "      <td>0.0</td>\n",
       "      <td>0.0</td>\n",
       "      <td>0.0</td>\n",
       "      <td>0.0</td>\n",
       "      <td>0.0</td>\n",
       "      <td>0.0</td>\n",
       "      <td>0.0</td>\n",
       "      <td>NaN</td>\n",
       "    </tr>\n",
       "    <tr>\n",
       "      <th>989</th>\n",
       "      <td>0.0</td>\n",
       "      <td>0.0</td>\n",
       "      <td>0.0</td>\n",
       "      <td>0.0</td>\n",
       "      <td>0.0</td>\n",
       "      <td>0.0</td>\n",
       "      <td>0.0</td>\n",
       "      <td>0.0</td>\n",
       "      <td>0.0</td>\n",
       "      <td>0.0</td>\n",
       "      <td>...</td>\n",
       "      <td>0.0</td>\n",
       "      <td>0.0</td>\n",
       "      <td>0.0</td>\n",
       "      <td>0.0</td>\n",
       "      <td>0.0</td>\n",
       "      <td>0.0</td>\n",
       "      <td>0.0</td>\n",
       "      <td>0.0</td>\n",
       "      <td>0.0</td>\n",
       "      <td>NaN</td>\n",
       "    </tr>\n",
       "    <tr>\n",
       "      <th>990</th>\n",
       "      <td>0.0</td>\n",
       "      <td>0.0</td>\n",
       "      <td>0.0</td>\n",
       "      <td>0.0</td>\n",
       "      <td>0.0</td>\n",
       "      <td>0.0</td>\n",
       "      <td>0.0</td>\n",
       "      <td>0.0</td>\n",
       "      <td>0.0</td>\n",
       "      <td>0.0</td>\n",
       "      <td>...</td>\n",
       "      <td>0.0</td>\n",
       "      <td>0.0</td>\n",
       "      <td>0.0</td>\n",
       "      <td>0.0</td>\n",
       "      <td>0.0</td>\n",
       "      <td>0.0</td>\n",
       "      <td>27.0</td>\n",
       "      <td>0.0</td>\n",
       "      <td>0.0</td>\n",
       "      <td>NaN</td>\n",
       "    </tr>\n",
       "  </tbody>\n",
       "</table>\n",
       "<p>991 rows × 21 columns</p>\n",
       "</div>"
      ],
      "text/plain": [
       "       0    1    2    3    4      5    6      7    8    9  ...     11   12  \\\n",
       "0    0.0  0.0  0.0  0.0  0.0    0.0  0.0  108.0  0.0  0.0  ...    0.0  0.0   \n",
       "1    0.0  0.0  0.0  0.0  0.0    0.0  0.0    0.0  0.0  0.0  ...    0.0  0.0   \n",
       "2    0.0  0.0  0.0  0.0  0.0    0.0  0.0    0.0  0.0  0.0  ...  216.0  0.0   \n",
       "3    0.0  0.0  0.0  0.0  0.0    0.0  0.0    0.0  0.0  0.0  ...    0.0  0.0   \n",
       "4    0.0  0.0  0.0  0.0  0.0    0.0  0.0  585.0  0.0  0.0  ...    0.0  0.0   \n",
       "..   ...  ...  ...  ...  ...    ...  ...    ...  ...  ...  ...    ...  ...   \n",
       "986  0.0  0.0  0.0  0.0  0.0    0.0  0.0    0.0  0.0  0.0  ...    0.0  0.0   \n",
       "987  0.0  0.0  0.0  0.0  0.0    0.0  0.0    0.0  0.0  0.0  ...    0.0  0.0   \n",
       "988  0.0  0.0  0.0  0.0  0.0  450.0  0.0    0.0  0.0  0.0  ...    0.0  0.0   \n",
       "989  0.0  0.0  0.0  0.0  0.0    0.0  0.0    0.0  0.0  0.0  ...    0.0  0.0   \n",
       "990  0.0  0.0  0.0  0.0  0.0    0.0  0.0    0.0  0.0  0.0  ...    0.0  0.0   \n",
       "\n",
       "      13   14   15   16    17   18   19  tick  \n",
       "0    0.0  0.0  0.0  0.0   0.0  0.0  0.0   NaN  \n",
       "1    0.0  0.0  0.0  0.0   0.0  0.0  0.0   NaN  \n",
       "2    0.0  0.0  0.0  0.0   0.0  0.0  0.0   NaN  \n",
       "3    0.0  0.0  0.0  0.0   0.0  0.0  0.0   NaN  \n",
       "4    0.0  0.0  0.0  0.0   0.0  0.0  0.0   NaN  \n",
       "..   ...  ...  ...  ...   ...  ...  ...   ...  \n",
       "986  0.0  0.0  0.0  0.0   0.0  0.0  0.0   NaN  \n",
       "987  0.0  0.0  0.0  0.0   0.0  0.0  0.0   NaN  \n",
       "988  0.0  0.0  0.0  0.0   0.0  0.0  0.0   NaN  \n",
       "989  0.0  0.0  0.0  0.0   0.0  0.0  0.0   NaN  \n",
       "990  0.0  0.0  0.0  0.0  27.0  0.0  0.0   NaN  \n",
       "\n",
       "[991 rows x 21 columns]"
      ]
     },
     "execution_count": 74,
     "metadata": {},
     "output_type": "execute_result"
    }
   ],
   "source": [
    "agent_goods_df * inventory_df[inventory_df[\"tick\"] == inventory_df[\"tick\"].max()].set_index(\"agent\")"
   ]
  },
  {
   "cell_type": "markdown",
   "id": "f64bb201",
   "metadata": {
    "hidden": true
   },
   "source": [
    "### Input Resources Inventory"
   ]
  },
  {
   "cell_type": "code",
   "execution_count": 75,
   "id": "3f5ddfce",
   "metadata": {
    "hidden": true
   },
   "outputs": [
    {
     "data": {
      "text/html": [
       "<div>\n",
       "<style scoped>\n",
       "    .dataframe tbody tr th:only-of-type {\n",
       "        vertical-align: middle;\n",
       "    }\n",
       "\n",
       "    .dataframe tbody tr th {\n",
       "        vertical-align: top;\n",
       "    }\n",
       "\n",
       "    .dataframe thead th {\n",
       "        text-align: right;\n",
       "    }\n",
       "</style>\n",
       "<table border=\"1\" class=\"dataframe\">\n",
       "  <thead>\n",
       "    <tr style=\"text-align: right;\">\n",
       "      <th></th>\n",
       "      <th>0</th>\n",
       "      <th>1</th>\n",
       "      <th>2</th>\n",
       "      <th>3</th>\n",
       "      <th>4</th>\n",
       "      <th>5</th>\n",
       "      <th>6</th>\n",
       "      <th>7</th>\n",
       "      <th>8</th>\n",
       "      <th>9</th>\n",
       "      <th>...</th>\n",
       "      <th>11</th>\n",
       "      <th>12</th>\n",
       "      <th>13</th>\n",
       "      <th>14</th>\n",
       "      <th>15</th>\n",
       "      <th>16</th>\n",
       "      <th>17</th>\n",
       "      <th>18</th>\n",
       "      <th>19</th>\n",
       "      <th>tick</th>\n",
       "    </tr>\n",
       "    <tr>\n",
       "      <th>agent</th>\n",
       "      <th></th>\n",
       "      <th></th>\n",
       "      <th></th>\n",
       "      <th></th>\n",
       "      <th></th>\n",
       "      <th></th>\n",
       "      <th></th>\n",
       "      <th></th>\n",
       "      <th></th>\n",
       "      <th></th>\n",
       "      <th></th>\n",
       "      <th></th>\n",
       "      <th></th>\n",
       "      <th></th>\n",
       "      <th></th>\n",
       "      <th></th>\n",
       "      <th></th>\n",
       "      <th></th>\n",
       "      <th></th>\n",
       "      <th></th>\n",
       "      <th></th>\n",
       "    </tr>\n",
       "  </thead>\n",
       "  <tbody>\n",
       "    <tr>\n",
       "      <th>0</th>\n",
       "      <td>0.0</td>\n",
       "      <td>0.0</td>\n",
       "      <td>0.0</td>\n",
       "      <td>1930.0</td>\n",
       "      <td>0.0</td>\n",
       "      <td>0.0</td>\n",
       "      <td>0.0</td>\n",
       "      <td>0.0</td>\n",
       "      <td>0.0</td>\n",
       "      <td>0.0</td>\n",
       "      <td>...</td>\n",
       "      <td>0.0</td>\n",
       "      <td>0.0</td>\n",
       "      <td>0.0</td>\n",
       "      <td>0.0</td>\n",
       "      <td>0.0</td>\n",
       "      <td>0.0</td>\n",
       "      <td>0.0</td>\n",
       "      <td>0.0</td>\n",
       "      <td>0.0</td>\n",
       "      <td>NaN</td>\n",
       "    </tr>\n",
       "    <tr>\n",
       "      <th>1</th>\n",
       "      <td>0.0</td>\n",
       "      <td>0.0</td>\n",
       "      <td>0.0</td>\n",
       "      <td>0.0</td>\n",
       "      <td>0.0</td>\n",
       "      <td>0.0</td>\n",
       "      <td>0.0</td>\n",
       "      <td>0.0</td>\n",
       "      <td>0.0</td>\n",
       "      <td>0.0</td>\n",
       "      <td>...</td>\n",
       "      <td>0.0</td>\n",
       "      <td>0.0</td>\n",
       "      <td>0.0</td>\n",
       "      <td>0.0</td>\n",
       "      <td>0.0</td>\n",
       "      <td>0.0</td>\n",
       "      <td>0.0</td>\n",
       "      <td>0.0</td>\n",
       "      <td>0.0</td>\n",
       "      <td>NaN</td>\n",
       "    </tr>\n",
       "    <tr>\n",
       "      <th>2</th>\n",
       "      <td>0.0</td>\n",
       "      <td>0.0</td>\n",
       "      <td>0.0</td>\n",
       "      <td>0.0</td>\n",
       "      <td>0.0</td>\n",
       "      <td>262.0</td>\n",
       "      <td>0.0</td>\n",
       "      <td>0.0</td>\n",
       "      <td>0.0</td>\n",
       "      <td>0.0</td>\n",
       "      <td>...</td>\n",
       "      <td>0.0</td>\n",
       "      <td>0.0</td>\n",
       "      <td>0.0</td>\n",
       "      <td>0.0</td>\n",
       "      <td>0.0</td>\n",
       "      <td>0.0</td>\n",
       "      <td>0.0</td>\n",
       "      <td>0.0</td>\n",
       "      <td>0.0</td>\n",
       "      <td>NaN</td>\n",
       "    </tr>\n",
       "    <tr>\n",
       "      <th>3</th>\n",
       "      <td>0.0</td>\n",
       "      <td>6.0</td>\n",
       "      <td>0.0</td>\n",
       "      <td>0.0</td>\n",
       "      <td>0.0</td>\n",
       "      <td>0.0</td>\n",
       "      <td>0.0</td>\n",
       "      <td>0.0</td>\n",
       "      <td>0.0</td>\n",
       "      <td>0.0</td>\n",
       "      <td>...</td>\n",
       "      <td>0.0</td>\n",
       "      <td>0.0</td>\n",
       "      <td>0.0</td>\n",
       "      <td>0.0</td>\n",
       "      <td>0.0</td>\n",
       "      <td>0.0</td>\n",
       "      <td>0.0</td>\n",
       "      <td>0.0</td>\n",
       "      <td>0.0</td>\n",
       "      <td>NaN</td>\n",
       "    </tr>\n",
       "    <tr>\n",
       "      <th>4</th>\n",
       "      <td>0.0</td>\n",
       "      <td>0.0</td>\n",
       "      <td>0.0</td>\n",
       "      <td>17.0</td>\n",
       "      <td>0.0</td>\n",
       "      <td>0.0</td>\n",
       "      <td>0.0</td>\n",
       "      <td>0.0</td>\n",
       "      <td>0.0</td>\n",
       "      <td>0.0</td>\n",
       "      <td>...</td>\n",
       "      <td>0.0</td>\n",
       "      <td>0.0</td>\n",
       "      <td>0.0</td>\n",
       "      <td>0.0</td>\n",
       "      <td>0.0</td>\n",
       "      <td>0.0</td>\n",
       "      <td>0.0</td>\n",
       "      <td>0.0</td>\n",
       "      <td>0.0</td>\n",
       "      <td>NaN</td>\n",
       "    </tr>\n",
       "    <tr>\n",
       "      <th>...</th>\n",
       "      <td>...</td>\n",
       "      <td>...</td>\n",
       "      <td>...</td>\n",
       "      <td>...</td>\n",
       "      <td>...</td>\n",
       "      <td>...</td>\n",
       "      <td>...</td>\n",
       "      <td>...</td>\n",
       "      <td>...</td>\n",
       "      <td>...</td>\n",
       "      <td>...</td>\n",
       "      <td>...</td>\n",
       "      <td>...</td>\n",
       "      <td>...</td>\n",
       "      <td>...</td>\n",
       "      <td>...</td>\n",
       "      <td>...</td>\n",
       "      <td>...</td>\n",
       "      <td>...</td>\n",
       "      <td>...</td>\n",
       "      <td>...</td>\n",
       "    </tr>\n",
       "    <tr>\n",
       "      <th>986</th>\n",
       "      <td>0.0</td>\n",
       "      <td>0.0</td>\n",
       "      <td>0.0</td>\n",
       "      <td>0.0</td>\n",
       "      <td>0.0</td>\n",
       "      <td>0.0</td>\n",
       "      <td>0.0</td>\n",
       "      <td>0.0</td>\n",
       "      <td>0.0</td>\n",
       "      <td>0.0</td>\n",
       "      <td>...</td>\n",
       "      <td>0.0</td>\n",
       "      <td>0.0</td>\n",
       "      <td>0.0</td>\n",
       "      <td>0.0</td>\n",
       "      <td>0.0</td>\n",
       "      <td>0.0</td>\n",
       "      <td>0.0</td>\n",
       "      <td>0.0</td>\n",
       "      <td>0.0</td>\n",
       "      <td>NaN</td>\n",
       "    </tr>\n",
       "    <tr>\n",
       "      <th>987</th>\n",
       "      <td>0.0</td>\n",
       "      <td>0.0</td>\n",
       "      <td>0.0</td>\n",
       "      <td>0.0</td>\n",
       "      <td>0.0</td>\n",
       "      <td>0.0</td>\n",
       "      <td>0.0</td>\n",
       "      <td>0.0</td>\n",
       "      <td>0.0</td>\n",
       "      <td>0.0</td>\n",
       "      <td>...</td>\n",
       "      <td>0.0</td>\n",
       "      <td>0.0</td>\n",
       "      <td>0.0</td>\n",
       "      <td>0.0</td>\n",
       "      <td>0.0</td>\n",
       "      <td>0.0</td>\n",
       "      <td>0.0</td>\n",
       "      <td>0.0</td>\n",
       "      <td>0.0</td>\n",
       "      <td>NaN</td>\n",
       "    </tr>\n",
       "    <tr>\n",
       "      <th>988</th>\n",
       "      <td>0.0</td>\n",
       "      <td>0.0</td>\n",
       "      <td>0.0</td>\n",
       "      <td>0.0</td>\n",
       "      <td>0.0</td>\n",
       "      <td>0.0</td>\n",
       "      <td>0.0</td>\n",
       "      <td>0.0</td>\n",
       "      <td>0.0</td>\n",
       "      <td>0.0</td>\n",
       "      <td>...</td>\n",
       "      <td>0.0</td>\n",
       "      <td>0.0</td>\n",
       "      <td>0.0</td>\n",
       "      <td>0.0</td>\n",
       "      <td>0.0</td>\n",
       "      <td>0.0</td>\n",
       "      <td>0.0</td>\n",
       "      <td>0.0</td>\n",
       "      <td>0.0</td>\n",
       "      <td>NaN</td>\n",
       "    </tr>\n",
       "    <tr>\n",
       "      <th>989</th>\n",
       "      <td>0.0</td>\n",
       "      <td>0.0</td>\n",
       "      <td>0.0</td>\n",
       "      <td>0.0</td>\n",
       "      <td>39.0</td>\n",
       "      <td>0.0</td>\n",
       "      <td>0.0</td>\n",
       "      <td>0.0</td>\n",
       "      <td>0.0</td>\n",
       "      <td>0.0</td>\n",
       "      <td>...</td>\n",
       "      <td>0.0</td>\n",
       "      <td>0.0</td>\n",
       "      <td>0.0</td>\n",
       "      <td>0.0</td>\n",
       "      <td>0.0</td>\n",
       "      <td>0.0</td>\n",
       "      <td>0.0</td>\n",
       "      <td>0.0</td>\n",
       "      <td>0.0</td>\n",
       "      <td>NaN</td>\n",
       "    </tr>\n",
       "    <tr>\n",
       "      <th>990</th>\n",
       "      <td>0.0</td>\n",
       "      <td>0.0</td>\n",
       "      <td>0.0</td>\n",
       "      <td>0.0</td>\n",
       "      <td>0.0</td>\n",
       "      <td>0.0</td>\n",
       "      <td>0.0</td>\n",
       "      <td>0.0</td>\n",
       "      <td>0.0</td>\n",
       "      <td>0.0</td>\n",
       "      <td>...</td>\n",
       "      <td>0.0</td>\n",
       "      <td>0.0</td>\n",
       "      <td>49.0</td>\n",
       "      <td>46.0</td>\n",
       "      <td>722.0</td>\n",
       "      <td>32.0</td>\n",
       "      <td>0.0</td>\n",
       "      <td>0.0</td>\n",
       "      <td>0.0</td>\n",
       "      <td>NaN</td>\n",
       "    </tr>\n",
       "  </tbody>\n",
       "</table>\n",
       "<p>991 rows × 21 columns</p>\n",
       "</div>"
      ],
      "text/plain": [
       "         0    1    2       3     4      5    6    7    8    9  ...   11   12  \\\n",
       "agent                                                          ...             \n",
       "0      0.0  0.0  0.0  1930.0   0.0    0.0  0.0  0.0  0.0  0.0  ...  0.0  0.0   \n",
       "1      0.0  0.0  0.0     0.0   0.0    0.0  0.0  0.0  0.0  0.0  ...  0.0  0.0   \n",
       "2      0.0  0.0  0.0     0.0   0.0  262.0  0.0  0.0  0.0  0.0  ...  0.0  0.0   \n",
       "3      0.0  6.0  0.0     0.0   0.0    0.0  0.0  0.0  0.0  0.0  ...  0.0  0.0   \n",
       "4      0.0  0.0  0.0    17.0   0.0    0.0  0.0  0.0  0.0  0.0  ...  0.0  0.0   \n",
       "...    ...  ...  ...     ...   ...    ...  ...  ...  ...  ...  ...  ...  ...   \n",
       "986    0.0  0.0  0.0     0.0   0.0    0.0  0.0  0.0  0.0  0.0  ...  0.0  0.0   \n",
       "987    0.0  0.0  0.0     0.0   0.0    0.0  0.0  0.0  0.0  0.0  ...  0.0  0.0   \n",
       "988    0.0  0.0  0.0     0.0   0.0    0.0  0.0  0.0  0.0  0.0  ...  0.0  0.0   \n",
       "989    0.0  0.0  0.0     0.0  39.0    0.0  0.0  0.0  0.0  0.0  ...  0.0  0.0   \n",
       "990    0.0  0.0  0.0     0.0   0.0    0.0  0.0  0.0  0.0  0.0  ...  0.0  0.0   \n",
       "\n",
       "         13    14     15    16   17   18   19  tick  \n",
       "agent                                                \n",
       "0       0.0   0.0    0.0   0.0  0.0  0.0  0.0   NaN  \n",
       "1       0.0   0.0    0.0   0.0  0.0  0.0  0.0   NaN  \n",
       "2       0.0   0.0    0.0   0.0  0.0  0.0  0.0   NaN  \n",
       "3       0.0   0.0    0.0   0.0  0.0  0.0  0.0   NaN  \n",
       "4       0.0   0.0    0.0   0.0  0.0  0.0  0.0   NaN  \n",
       "...     ...   ...    ...   ...  ...  ...  ...   ...  \n",
       "986     0.0   0.0    0.0   0.0  0.0  0.0  0.0   NaN  \n",
       "987     0.0   0.0    0.0   0.0  0.0  0.0  0.0   NaN  \n",
       "988     0.0   0.0    0.0   0.0  0.0  0.0  0.0   NaN  \n",
       "989     0.0   0.0    0.0   0.0  0.0  0.0  0.0   NaN  \n",
       "990    49.0  46.0  722.0  32.0  0.0  0.0  0.0   NaN  \n",
       "\n",
       "[991 rows x 21 columns]"
      ]
     },
     "execution_count": 75,
     "metadata": {},
     "output_type": "execute_result"
    }
   ],
   "source": [
    "inventory_df[inventory_df[\"tick\"] == inventory_df[\"tick\"].max()].set_index(\"agent\") - agent_goods_df * inventory_df[inventory_df[\"tick\"] == inventory_df[\"tick\"].max()].set_index(\"agent\")"
   ]
  },
  {
   "cell_type": "code",
   "execution_count": 76,
   "id": "99da859d",
   "metadata": {
    "hidden": true
   },
   "outputs": [
    {
     "data": {
      "text/html": [
       "<div>\n",
       "<style scoped>\n",
       "    .dataframe tbody tr th:only-of-type {\n",
       "        vertical-align: middle;\n",
       "    }\n",
       "\n",
       "    .dataframe tbody tr th {\n",
       "        vertical-align: top;\n",
       "    }\n",
       "\n",
       "    .dataframe thead th {\n",
       "        text-align: right;\n",
       "    }\n",
       "</style>\n",
       "<table border=\"1\" class=\"dataframe\">\n",
       "  <thead>\n",
       "    <tr style=\"text-align: right;\">\n",
       "      <th></th>\n",
       "      <th>0</th>\n",
       "      <th>1</th>\n",
       "      <th>2</th>\n",
       "      <th>3</th>\n",
       "      <th>4</th>\n",
       "      <th>5</th>\n",
       "      <th>6</th>\n",
       "      <th>7</th>\n",
       "      <th>8</th>\n",
       "      <th>9</th>\n",
       "      <th>...</th>\n",
       "      <th>11</th>\n",
       "      <th>12</th>\n",
       "      <th>13</th>\n",
       "      <th>14</th>\n",
       "      <th>15</th>\n",
       "      <th>16</th>\n",
       "      <th>17</th>\n",
       "      <th>18</th>\n",
       "      <th>19</th>\n",
       "      <th>tick</th>\n",
       "    </tr>\n",
       "    <tr>\n",
       "      <th>agent</th>\n",
       "      <th></th>\n",
       "      <th></th>\n",
       "      <th></th>\n",
       "      <th></th>\n",
       "      <th></th>\n",
       "      <th></th>\n",
       "      <th></th>\n",
       "      <th></th>\n",
       "      <th></th>\n",
       "      <th></th>\n",
       "      <th></th>\n",
       "      <th></th>\n",
       "      <th></th>\n",
       "      <th></th>\n",
       "      <th></th>\n",
       "      <th></th>\n",
       "      <th></th>\n",
       "      <th></th>\n",
       "      <th></th>\n",
       "      <th></th>\n",
       "      <th></th>\n",
       "    </tr>\n",
       "  </thead>\n",
       "  <tbody>\n",
       "    <tr>\n",
       "      <th>0</th>\n",
       "      <td>0.0</td>\n",
       "      <td>0.0</td>\n",
       "      <td>0.0</td>\n",
       "      <td>1924.0</td>\n",
       "      <td>0.0</td>\n",
       "      <td>0.0</td>\n",
       "      <td>0.0</td>\n",
       "      <td>0.0</td>\n",
       "      <td>0.0</td>\n",
       "      <td>0.0</td>\n",
       "      <td>...</td>\n",
       "      <td>0.0</td>\n",
       "      <td>0.0</td>\n",
       "      <td>0.0</td>\n",
       "      <td>0.0</td>\n",
       "      <td>0.0</td>\n",
       "      <td>0.0</td>\n",
       "      <td>0.0</td>\n",
       "      <td>0.0</td>\n",
       "      <td>0.0</td>\n",
       "      <td>NaN</td>\n",
       "    </tr>\n",
       "    <tr>\n",
       "      <th>1</th>\n",
       "      <td>0.0</td>\n",
       "      <td>0.0</td>\n",
       "      <td>0.0</td>\n",
       "      <td>0.0</td>\n",
       "      <td>0.0</td>\n",
       "      <td>0.0</td>\n",
       "      <td>0.0</td>\n",
       "      <td>0.0</td>\n",
       "      <td>0.0</td>\n",
       "      <td>0.0</td>\n",
       "      <td>...</td>\n",
       "      <td>0.0</td>\n",
       "      <td>0.0</td>\n",
       "      <td>0.0</td>\n",
       "      <td>0.0</td>\n",
       "      <td>0.0</td>\n",
       "      <td>0.0</td>\n",
       "      <td>0.0</td>\n",
       "      <td>0.0</td>\n",
       "      <td>0.0</td>\n",
       "      <td>NaN</td>\n",
       "    </tr>\n",
       "    <tr>\n",
       "      <th>2</th>\n",
       "      <td>0.0</td>\n",
       "      <td>0.0</td>\n",
       "      <td>0.0</td>\n",
       "      <td>0.0</td>\n",
       "      <td>0.0</td>\n",
       "      <td>256.0</td>\n",
       "      <td>0.0</td>\n",
       "      <td>0.0</td>\n",
       "      <td>0.0</td>\n",
       "      <td>0.0</td>\n",
       "      <td>...</td>\n",
       "      <td>0.0</td>\n",
       "      <td>0.0</td>\n",
       "      <td>0.0</td>\n",
       "      <td>0.0</td>\n",
       "      <td>0.0</td>\n",
       "      <td>0.0</td>\n",
       "      <td>0.0</td>\n",
       "      <td>0.0</td>\n",
       "      <td>0.0</td>\n",
       "      <td>NaN</td>\n",
       "    </tr>\n",
       "    <tr>\n",
       "      <th>3</th>\n",
       "      <td>0.0</td>\n",
       "      <td>0.0</td>\n",
       "      <td>0.0</td>\n",
       "      <td>0.0</td>\n",
       "      <td>0.0</td>\n",
       "      <td>0.0</td>\n",
       "      <td>0.0</td>\n",
       "      <td>0.0</td>\n",
       "      <td>0.0</td>\n",
       "      <td>0.0</td>\n",
       "      <td>...</td>\n",
       "      <td>0.0</td>\n",
       "      <td>0.0</td>\n",
       "      <td>0.0</td>\n",
       "      <td>0.0</td>\n",
       "      <td>0.0</td>\n",
       "      <td>0.0</td>\n",
       "      <td>0.0</td>\n",
       "      <td>0.0</td>\n",
       "      <td>0.0</td>\n",
       "      <td>NaN</td>\n",
       "    </tr>\n",
       "    <tr>\n",
       "      <th>4</th>\n",
       "      <td>0.0</td>\n",
       "      <td>0.0</td>\n",
       "      <td>0.0</td>\n",
       "      <td>11.0</td>\n",
       "      <td>0.0</td>\n",
       "      <td>0.0</td>\n",
       "      <td>0.0</td>\n",
       "      <td>0.0</td>\n",
       "      <td>0.0</td>\n",
       "      <td>0.0</td>\n",
       "      <td>...</td>\n",
       "      <td>0.0</td>\n",
       "      <td>0.0</td>\n",
       "      <td>0.0</td>\n",
       "      <td>0.0</td>\n",
       "      <td>0.0</td>\n",
       "      <td>0.0</td>\n",
       "      <td>0.0</td>\n",
       "      <td>0.0</td>\n",
       "      <td>0.0</td>\n",
       "      <td>NaN</td>\n",
       "    </tr>\n",
       "    <tr>\n",
       "      <th>...</th>\n",
       "      <td>...</td>\n",
       "      <td>...</td>\n",
       "      <td>...</td>\n",
       "      <td>...</td>\n",
       "      <td>...</td>\n",
       "      <td>...</td>\n",
       "      <td>...</td>\n",
       "      <td>...</td>\n",
       "      <td>...</td>\n",
       "      <td>...</td>\n",
       "      <td>...</td>\n",
       "      <td>...</td>\n",
       "      <td>...</td>\n",
       "      <td>...</td>\n",
       "      <td>...</td>\n",
       "      <td>...</td>\n",
       "      <td>...</td>\n",
       "      <td>...</td>\n",
       "      <td>...</td>\n",
       "      <td>...</td>\n",
       "      <td>...</td>\n",
       "    </tr>\n",
       "    <tr>\n",
       "      <th>986</th>\n",
       "      <td>0.0</td>\n",
       "      <td>0.0</td>\n",
       "      <td>0.0</td>\n",
       "      <td>0.0</td>\n",
       "      <td>0.0</td>\n",
       "      <td>0.0</td>\n",
       "      <td>0.0</td>\n",
       "      <td>0.0</td>\n",
       "      <td>0.0</td>\n",
       "      <td>0.0</td>\n",
       "      <td>...</td>\n",
       "      <td>0.0</td>\n",
       "      <td>0.0</td>\n",
       "      <td>0.0</td>\n",
       "      <td>0.0</td>\n",
       "      <td>0.0</td>\n",
       "      <td>0.0</td>\n",
       "      <td>0.0</td>\n",
       "      <td>0.0</td>\n",
       "      <td>0.0</td>\n",
       "      <td>NaN</td>\n",
       "    </tr>\n",
       "    <tr>\n",
       "      <th>987</th>\n",
       "      <td>0.0</td>\n",
       "      <td>-6.0</td>\n",
       "      <td>0.0</td>\n",
       "      <td>0.0</td>\n",
       "      <td>0.0</td>\n",
       "      <td>0.0</td>\n",
       "      <td>0.0</td>\n",
       "      <td>0.0</td>\n",
       "      <td>0.0</td>\n",
       "      <td>0.0</td>\n",
       "      <td>...</td>\n",
       "      <td>0.0</td>\n",
       "      <td>0.0</td>\n",
       "      <td>0.0</td>\n",
       "      <td>0.0</td>\n",
       "      <td>0.0</td>\n",
       "      <td>0.0</td>\n",
       "      <td>0.0</td>\n",
       "      <td>0.0</td>\n",
       "      <td>0.0</td>\n",
       "      <td>NaN</td>\n",
       "    </tr>\n",
       "    <tr>\n",
       "      <th>988</th>\n",
       "      <td>0.0</td>\n",
       "      <td>-6.0</td>\n",
       "      <td>0.0</td>\n",
       "      <td>0.0</td>\n",
       "      <td>0.0</td>\n",
       "      <td>0.0</td>\n",
       "      <td>0.0</td>\n",
       "      <td>0.0</td>\n",
       "      <td>0.0</td>\n",
       "      <td>0.0</td>\n",
       "      <td>...</td>\n",
       "      <td>0.0</td>\n",
       "      <td>0.0</td>\n",
       "      <td>0.0</td>\n",
       "      <td>0.0</td>\n",
       "      <td>0.0</td>\n",
       "      <td>0.0</td>\n",
       "      <td>0.0</td>\n",
       "      <td>0.0</td>\n",
       "      <td>0.0</td>\n",
       "      <td>NaN</td>\n",
       "    </tr>\n",
       "    <tr>\n",
       "      <th>989</th>\n",
       "      <td>0.0</td>\n",
       "      <td>0.0</td>\n",
       "      <td>0.0</td>\n",
       "      <td>0.0</td>\n",
       "      <td>31.0</td>\n",
       "      <td>0.0</td>\n",
       "      <td>0.0</td>\n",
       "      <td>0.0</td>\n",
       "      <td>0.0</td>\n",
       "      <td>0.0</td>\n",
       "      <td>...</td>\n",
       "      <td>0.0</td>\n",
       "      <td>0.0</td>\n",
       "      <td>0.0</td>\n",
       "      <td>0.0</td>\n",
       "      <td>0.0</td>\n",
       "      <td>0.0</td>\n",
       "      <td>0.0</td>\n",
       "      <td>0.0</td>\n",
       "      <td>0.0</td>\n",
       "      <td>NaN</td>\n",
       "    </tr>\n",
       "    <tr>\n",
       "      <th>990</th>\n",
       "      <td>0.0</td>\n",
       "      <td>0.0</td>\n",
       "      <td>0.0</td>\n",
       "      <td>0.0</td>\n",
       "      <td>0.0</td>\n",
       "      <td>0.0</td>\n",
       "      <td>0.0</td>\n",
       "      <td>0.0</td>\n",
       "      <td>0.0</td>\n",
       "      <td>0.0</td>\n",
       "      <td>...</td>\n",
       "      <td>0.0</td>\n",
       "      <td>0.0</td>\n",
       "      <td>34.0</td>\n",
       "      <td>-6.0</td>\n",
       "      <td>670.0</td>\n",
       "      <td>15.0</td>\n",
       "      <td>0.0</td>\n",
       "      <td>0.0</td>\n",
       "      <td>0.0</td>\n",
       "      <td>NaN</td>\n",
       "    </tr>\n",
       "  </tbody>\n",
       "</table>\n",
       "<p>991 rows × 21 columns</p>\n",
       "</div>"
      ],
      "text/plain": [
       "         0    1    2       3     4      5    6    7    8    9  ...   11   12  \\\n",
       "agent                                                          ...             \n",
       "0      0.0  0.0  0.0  1924.0   0.0    0.0  0.0  0.0  0.0  0.0  ...  0.0  0.0   \n",
       "1      0.0  0.0  0.0     0.0   0.0    0.0  0.0  0.0  0.0  0.0  ...  0.0  0.0   \n",
       "2      0.0  0.0  0.0     0.0   0.0  256.0  0.0  0.0  0.0  0.0  ...  0.0  0.0   \n",
       "3      0.0  0.0  0.0     0.0   0.0    0.0  0.0  0.0  0.0  0.0  ...  0.0  0.0   \n",
       "4      0.0  0.0  0.0    11.0   0.0    0.0  0.0  0.0  0.0  0.0  ...  0.0  0.0   \n",
       "...    ...  ...  ...     ...   ...    ...  ...  ...  ...  ...  ...  ...  ...   \n",
       "986    0.0  0.0  0.0     0.0   0.0    0.0  0.0  0.0  0.0  0.0  ...  0.0  0.0   \n",
       "987    0.0 -6.0  0.0     0.0   0.0    0.0  0.0  0.0  0.0  0.0  ...  0.0  0.0   \n",
       "988    0.0 -6.0  0.0     0.0   0.0    0.0  0.0  0.0  0.0  0.0  ...  0.0  0.0   \n",
       "989    0.0  0.0  0.0     0.0  31.0    0.0  0.0  0.0  0.0  0.0  ...  0.0  0.0   \n",
       "990    0.0  0.0  0.0     0.0   0.0    0.0  0.0  0.0  0.0  0.0  ...  0.0  0.0   \n",
       "\n",
       "         13   14     15    16   17   18   19  tick  \n",
       "agent                                               \n",
       "0       0.0  0.0    0.0   0.0  0.0  0.0  0.0   NaN  \n",
       "1       0.0  0.0    0.0   0.0  0.0  0.0  0.0   NaN  \n",
       "2       0.0  0.0    0.0   0.0  0.0  0.0  0.0   NaN  \n",
       "3       0.0  0.0    0.0   0.0  0.0  0.0  0.0   NaN  \n",
       "4       0.0  0.0    0.0   0.0  0.0  0.0  0.0   NaN  \n",
       "...     ...  ...    ...   ...  ...  ...  ...   ...  \n",
       "986     0.0  0.0    0.0   0.0  0.0  0.0  0.0   NaN  \n",
       "987     0.0  0.0    0.0   0.0  0.0  0.0  0.0   NaN  \n",
       "988     0.0  0.0    0.0   0.0  0.0  0.0  0.0   NaN  \n",
       "989     0.0  0.0    0.0   0.0  0.0  0.0  0.0   NaN  \n",
       "990    34.0 -6.0  670.0  15.0  0.0  0.0  0.0   NaN  \n",
       "\n",
       "[991 rows x 21 columns]"
      ]
     },
     "execution_count": 76,
     "metadata": {},
     "output_type": "execute_result"
    }
   ],
   "source": [
    "(inventory_df[inventory_df[\"tick\"] == inventory_df[\"tick\"].max()].set_index(\"agent\") - agent_goods_df * inventory_df[inventory_df[\"tick\"] == inventory_df[\"tick\"].max()].set_index(\"agent\")) - (agent_goods_df @ production_chain_df.T)"
   ]
  },
  {
   "cell_type": "markdown",
   "id": "70a32ec0",
   "metadata": {},
   "source": [
    "## Production Surplus/Deficit"
   ]
  },
  {
   "cell_type": "code",
   "execution_count": 77,
   "id": "fc7339dd",
   "metadata": {},
   "outputs": [
    {
     "data": {
      "text/html": [
       "<div>\n",
       "<style scoped>\n",
       "    .dataframe tbody tr th:only-of-type {\n",
       "        vertical-align: middle;\n",
       "    }\n",
       "\n",
       "    .dataframe tbody tr th {\n",
       "        vertical-align: top;\n",
       "    }\n",
       "\n",
       "    .dataframe thead th {\n",
       "        text-align: right;\n",
       "    }\n",
       "</style>\n",
       "<table border=\"1\" class=\"dataframe\">\n",
       "  <thead>\n",
       "    <tr style=\"text-align: right;\">\n",
       "      <th></th>\n",
       "      <th>inventory</th>\n",
       "      <th>unit_need</th>\n",
       "      <th>batch_need</th>\n",
       "      <th>surplus</th>\n",
       "      <th>batches</th>\n",
       "    </tr>\n",
       "  </thead>\n",
       "  <tbody>\n",
       "    <tr>\n",
       "      <th>0</th>\n",
       "      <td>0.0</td>\n",
       "      <td>0.0</td>\n",
       "      <td>0.0</td>\n",
       "      <td>0.0</td>\n",
       "      <td>NaN</td>\n",
       "    </tr>\n",
       "    <tr>\n",
       "      <th>1</th>\n",
       "      <td>0.0</td>\n",
       "      <td>0.0</td>\n",
       "      <td>0.0</td>\n",
       "      <td>0.0</td>\n",
       "      <td>NaN</td>\n",
       "    </tr>\n",
       "    <tr>\n",
       "      <th>2</th>\n",
       "      <td>0.0</td>\n",
       "      <td>0.0</td>\n",
       "      <td>0.0</td>\n",
       "      <td>0.0</td>\n",
       "      <td>NaN</td>\n",
       "    </tr>\n",
       "    <tr>\n",
       "      <th>3</th>\n",
       "      <td>0.0</td>\n",
       "      <td>0.0</td>\n",
       "      <td>0.0</td>\n",
       "      <td>0.0</td>\n",
       "      <td>NaN</td>\n",
       "    </tr>\n",
       "    <tr>\n",
       "      <th>4</th>\n",
       "      <td>0.0</td>\n",
       "      <td>0.0</td>\n",
       "      <td>0.0</td>\n",
       "      <td>0.0</td>\n",
       "      <td>NaN</td>\n",
       "    </tr>\n",
       "    <tr>\n",
       "      <th>5</th>\n",
       "      <td>0.0</td>\n",
       "      <td>0.0</td>\n",
       "      <td>0.0</td>\n",
       "      <td>0.0</td>\n",
       "      <td>NaN</td>\n",
       "    </tr>\n",
       "    <tr>\n",
       "      <th>6</th>\n",
       "      <td>0.0</td>\n",
       "      <td>0.0</td>\n",
       "      <td>0.0</td>\n",
       "      <td>0.0</td>\n",
       "      <td>NaN</td>\n",
       "    </tr>\n",
       "    <tr>\n",
       "      <th>7</th>\n",
       "      <td>0.0</td>\n",
       "      <td>0.0</td>\n",
       "      <td>0.0</td>\n",
       "      <td>0.0</td>\n",
       "      <td>NaN</td>\n",
       "    </tr>\n",
       "    <tr>\n",
       "      <th>8</th>\n",
       "      <td>0.0</td>\n",
       "      <td>0.0</td>\n",
       "      <td>0.0</td>\n",
       "      <td>0.0</td>\n",
       "      <td>NaN</td>\n",
       "    </tr>\n",
       "    <tr>\n",
       "      <th>9</th>\n",
       "      <td>0.0</td>\n",
       "      <td>0.0</td>\n",
       "      <td>0.0</td>\n",
       "      <td>0.0</td>\n",
       "      <td>NaN</td>\n",
       "    </tr>\n",
       "    <tr>\n",
       "      <th>10</th>\n",
       "      <td>0.0</td>\n",
       "      <td>0.0</td>\n",
       "      <td>0.0</td>\n",
       "      <td>0.0</td>\n",
       "      <td>NaN</td>\n",
       "    </tr>\n",
       "    <tr>\n",
       "      <th>11</th>\n",
       "      <td>0.0</td>\n",
       "      <td>0.0</td>\n",
       "      <td>0.0</td>\n",
       "      <td>0.0</td>\n",
       "      <td>NaN</td>\n",
       "    </tr>\n",
       "    <tr>\n",
       "      <th>12</th>\n",
       "      <td>0.0</td>\n",
       "      <td>0.0</td>\n",
       "      <td>0.0</td>\n",
       "      <td>0.0</td>\n",
       "      <td>NaN</td>\n",
       "    </tr>\n",
       "    <tr>\n",
       "      <th>13</th>\n",
       "      <td>0.0</td>\n",
       "      <td>0.0</td>\n",
       "      <td>0.0</td>\n",
       "      <td>0.0</td>\n",
       "      <td>NaN</td>\n",
       "    </tr>\n",
       "    <tr>\n",
       "      <th>14</th>\n",
       "      <td>0.0</td>\n",
       "      <td>0.0</td>\n",
       "      <td>0.0</td>\n",
       "      <td>0.0</td>\n",
       "      <td>NaN</td>\n",
       "    </tr>\n",
       "    <tr>\n",
       "      <th>15</th>\n",
       "      <td>0.0</td>\n",
       "      <td>0.0</td>\n",
       "      <td>0.0</td>\n",
       "      <td>0.0</td>\n",
       "      <td>NaN</td>\n",
       "    </tr>\n",
       "    <tr>\n",
       "      <th>16</th>\n",
       "      <td>0.0</td>\n",
       "      <td>0.0</td>\n",
       "      <td>0.0</td>\n",
       "      <td>0.0</td>\n",
       "      <td>NaN</td>\n",
       "    </tr>\n",
       "    <tr>\n",
       "      <th>17</th>\n",
       "      <td>0.0</td>\n",
       "      <td>0.0</td>\n",
       "      <td>0.0</td>\n",
       "      <td>0.0</td>\n",
       "      <td>NaN</td>\n",
       "    </tr>\n",
       "    <tr>\n",
       "      <th>18</th>\n",
       "      <td>0.0</td>\n",
       "      <td>0.0</td>\n",
       "      <td>0.0</td>\n",
       "      <td>0.0</td>\n",
       "      <td>NaN</td>\n",
       "    </tr>\n",
       "    <tr>\n",
       "      <th>19</th>\n",
       "      <td>0.0</td>\n",
       "      <td>0.0</td>\n",
       "      <td>0.0</td>\n",
       "      <td>0.0</td>\n",
       "      <td>NaN</td>\n",
       "    </tr>\n",
       "  </tbody>\n",
       "</table>\n",
       "</div>"
      ],
      "text/plain": [
       "    inventory  unit_need  batch_need  surplus  batches\n",
       "0         0.0        0.0         0.0      0.0      NaN\n",
       "1         0.0        0.0         0.0      0.0      NaN\n",
       "2         0.0        0.0         0.0      0.0      NaN\n",
       "3         0.0        0.0         0.0      0.0      NaN\n",
       "4         0.0        0.0         0.0      0.0      NaN\n",
       "5         0.0        0.0         0.0      0.0      NaN\n",
       "6         0.0        0.0         0.0      0.0      NaN\n",
       "7         0.0        0.0         0.0      0.0      NaN\n",
       "8         0.0        0.0         0.0      0.0      NaN\n",
       "9         0.0        0.0         0.0      0.0      NaN\n",
       "10        0.0        0.0         0.0      0.0      NaN\n",
       "11        0.0        0.0         0.0      0.0      NaN\n",
       "12        0.0        0.0         0.0      0.0      NaN\n",
       "13        0.0        0.0         0.0      0.0      NaN\n",
       "14        0.0        0.0         0.0      0.0      NaN\n",
       "15        0.0        0.0         0.0      0.0      NaN\n",
       "16        0.0        0.0         0.0      0.0      NaN\n",
       "17        0.0        0.0         0.0      0.0      NaN\n",
       "18        0.0        0.0         0.0      0.0      NaN\n",
       "19        0.0        0.0         0.0      0.0      NaN"
      ]
     },
     "execution_count": 77,
     "metadata": {},
     "output_type": "execute_result"
    }
   ],
   "source": [
    "agent_id = 22\n",
    "target_tick = np.inf\n",
    "\n",
    "target_tick = np.clip(target_tick, 0, inventory_df[\"tick\"].max())\n",
    "\n",
    "#inv_s = inventory_df[inventory_df[\"tick\"] == target_tick].set_index(\"agent\").loc[agent_id].drop(\"tick\")\n",
    "inv_s = inventory_df.drop(\"tick\", axis=1).groupby(\"agent\").mean().loc[agent_id]\n",
    "need_s = (agent_goods_df.loc[agent_id] @ production_chain_df.T)\n",
    "batch_s = (agent_goods_df * production_chain.batch_sizes[np.newaxis,:]).loc[agent_id] @ production_chain_df.T\n",
    "deficit_df = pd.DataFrame({\"inventory\":inv_s, \"unit_need\":need_s, \"batch_need\": batch_s, \"surplus\":inv_s - batch_s, \"batches\":inv_s/batch_s})\n",
    "deficit_df"
   ]
  },
  {
   "cell_type": "code",
   "execution_count": 78,
   "id": "adb70d5a",
   "metadata": {},
   "outputs": [
    {
     "data": {
      "text/html": [
       "<div>\n",
       "<style scoped>\n",
       "    .dataframe tbody tr th:only-of-type {\n",
       "        vertical-align: middle;\n",
       "    }\n",
       "\n",
       "    .dataframe tbody tr th {\n",
       "        vertical-align: top;\n",
       "    }\n",
       "\n",
       "    .dataframe thead th {\n",
       "        text-align: right;\n",
       "    }\n",
       "</style>\n",
       "<table border=\"1\" class=\"dataframe\">\n",
       "  <thead>\n",
       "    <tr style=\"text-align: right;\">\n",
       "      <th></th>\n",
       "      <th>agent</th>\n",
       "      <th>tick</th>\n",
       "      <th>balance</th>\n",
       "    </tr>\n",
       "  </thead>\n",
       "  <tbody>\n",
       "    <tr>\n",
       "      <th>5096735</th>\n",
       "      <td>22</td>\n",
       "      <td>10384.566667</td>\n",
       "      <td>0.0</td>\n",
       "    </tr>\n",
       "  </tbody>\n",
       "</table>\n",
       "</div>"
      ],
      "text/plain": [
       "         agent          tick  balance\n",
       "5096735     22  10384.566667      0.0"
      ]
     },
     "execution_count": 78,
     "metadata": {},
     "output_type": "execute_result"
    }
   ],
   "source": [
    "balance_df[(balance_df[\"agent\"] == agent_id) & (balance_df[\"tick\"] == target_tick)]"
   ]
  },
  {
   "cell_type": "code",
   "execution_count": 79,
   "id": "cefe64da",
   "metadata": {},
   "outputs": [
    {
     "data": {
      "text/html": [
       "<div>\n",
       "<style scoped>\n",
       "    .dataframe tbody tr th:only-of-type {\n",
       "        vertical-align: middle;\n",
       "    }\n",
       "\n",
       "    .dataframe tbody tr th {\n",
       "        vertical-align: top;\n",
       "    }\n",
       "\n",
       "    .dataframe thead th {\n",
       "        text-align: right;\n",
       "    }\n",
       "</style>\n",
       "<table border=\"1\" class=\"dataframe\">\n",
       "  <thead>\n",
       "    <tr style=\"text-align: right;\">\n",
       "      <th></th>\n",
       "      <th>5096735</th>\n",
       "    </tr>\n",
       "  </thead>\n",
       "  <tbody>\n",
       "    <tr>\n",
       "      <th>agent</th>\n",
       "      <td>22.000000</td>\n",
       "    </tr>\n",
       "    <tr>\n",
       "      <th>tick</th>\n",
       "      <td>10384.566667</td>\n",
       "    </tr>\n",
       "    <tr>\n",
       "      <th>0</th>\n",
       "      <td>0.000000</td>\n",
       "    </tr>\n",
       "    <tr>\n",
       "      <th>1</th>\n",
       "      <td>0.000000</td>\n",
       "    </tr>\n",
       "    <tr>\n",
       "      <th>2</th>\n",
       "      <td>0.000000</td>\n",
       "    </tr>\n",
       "    <tr>\n",
       "      <th>3</th>\n",
       "      <td>0.000000</td>\n",
       "    </tr>\n",
       "    <tr>\n",
       "      <th>4</th>\n",
       "      <td>0.000000</td>\n",
       "    </tr>\n",
       "    <tr>\n",
       "      <th>5</th>\n",
       "      <td>0.000000</td>\n",
       "    </tr>\n",
       "    <tr>\n",
       "      <th>6</th>\n",
       "      <td>0.000000</td>\n",
       "    </tr>\n",
       "    <tr>\n",
       "      <th>7</th>\n",
       "      <td>0.000000</td>\n",
       "    </tr>\n",
       "    <tr>\n",
       "      <th>8</th>\n",
       "      <td>0.000000</td>\n",
       "    </tr>\n",
       "    <tr>\n",
       "      <th>9</th>\n",
       "      <td>0.000000</td>\n",
       "    </tr>\n",
       "    <tr>\n",
       "      <th>10</th>\n",
       "      <td>0.000000</td>\n",
       "    </tr>\n",
       "    <tr>\n",
       "      <th>11</th>\n",
       "      <td>0.000000</td>\n",
       "    </tr>\n",
       "    <tr>\n",
       "      <th>12</th>\n",
       "      <td>0.000000</td>\n",
       "    </tr>\n",
       "    <tr>\n",
       "      <th>13</th>\n",
       "      <td>0.000000</td>\n",
       "    </tr>\n",
       "    <tr>\n",
       "      <th>14</th>\n",
       "      <td>0.000000</td>\n",
       "    </tr>\n",
       "    <tr>\n",
       "      <th>15</th>\n",
       "      <td>0.000000</td>\n",
       "    </tr>\n",
       "    <tr>\n",
       "      <th>16</th>\n",
       "      <td>0.000000</td>\n",
       "    </tr>\n",
       "    <tr>\n",
       "      <th>17</th>\n",
       "      <td>0.000000</td>\n",
       "    </tr>\n",
       "    <tr>\n",
       "      <th>18</th>\n",
       "      <td>0.000000</td>\n",
       "    </tr>\n",
       "    <tr>\n",
       "      <th>19</th>\n",
       "      <td>0.000000</td>\n",
       "    </tr>\n",
       "  </tbody>\n",
       "</table>\n",
       "</div>"
      ],
      "text/plain": [
       "            5096735\n",
       "agent     22.000000\n",
       "tick   10384.566667\n",
       "0          0.000000\n",
       "1          0.000000\n",
       "2          0.000000\n",
       "3          0.000000\n",
       "4          0.000000\n",
       "5          0.000000\n",
       "6          0.000000\n",
       "7          0.000000\n",
       "8          0.000000\n",
       "9          0.000000\n",
       "10         0.000000\n",
       "11         0.000000\n",
       "12         0.000000\n",
       "13         0.000000\n",
       "14         0.000000\n",
       "15         0.000000\n",
       "16         0.000000\n",
       "17         0.000000\n",
       "18         0.000000\n",
       "19         0.000000"
      ]
     },
     "execution_count": 79,
     "metadata": {},
     "output_type": "execute_result"
    }
   ],
   "source": [
    "buy_price_df[(buy_price_df[\"tick\"] == target_tick) & (buy_price_df[\"agent\"] == agent_id)].T"
   ]
  },
  {
   "cell_type": "code",
   "execution_count": 80,
   "id": "bd8e83b9",
   "metadata": {},
   "outputs": [
    {
     "data": {
      "text/html": [
       "<div>\n",
       "<style scoped>\n",
       "    .dataframe tbody tr th:only-of-type {\n",
       "        vertical-align: middle;\n",
       "    }\n",
       "\n",
       "    .dataframe tbody tr th {\n",
       "        vertical-align: top;\n",
       "    }\n",
       "\n",
       "    .dataframe thead th {\n",
       "        text-align: right;\n",
       "    }\n",
       "</style>\n",
       "<table border=\"1\" class=\"dataframe\">\n",
       "  <thead>\n",
       "    <tr style=\"text-align: right;\">\n",
       "      <th></th>\n",
       "      <th>5096735</th>\n",
       "    </tr>\n",
       "  </thead>\n",
       "  <tbody>\n",
       "    <tr>\n",
       "      <th>agent</th>\n",
       "      <td>22.000000</td>\n",
       "    </tr>\n",
       "    <tr>\n",
       "      <th>tick</th>\n",
       "      <td>10384.566667</td>\n",
       "    </tr>\n",
       "    <tr>\n",
       "      <th>0</th>\n",
       "      <td>0.000000</td>\n",
       "    </tr>\n",
       "    <tr>\n",
       "      <th>1</th>\n",
       "      <td>0.000000</td>\n",
       "    </tr>\n",
       "    <tr>\n",
       "      <th>2</th>\n",
       "      <td>0.000000</td>\n",
       "    </tr>\n",
       "    <tr>\n",
       "      <th>3</th>\n",
       "      <td>0.000000</td>\n",
       "    </tr>\n",
       "    <tr>\n",
       "      <th>4</th>\n",
       "      <td>0.000000</td>\n",
       "    </tr>\n",
       "    <tr>\n",
       "      <th>5</th>\n",
       "      <td>0.000000</td>\n",
       "    </tr>\n",
       "    <tr>\n",
       "      <th>6</th>\n",
       "      <td>0.000000</td>\n",
       "    </tr>\n",
       "    <tr>\n",
       "      <th>7</th>\n",
       "      <td>0.000000</td>\n",
       "    </tr>\n",
       "    <tr>\n",
       "      <th>8</th>\n",
       "      <td>0.000000</td>\n",
       "    </tr>\n",
       "    <tr>\n",
       "      <th>9</th>\n",
       "      <td>0.000000</td>\n",
       "    </tr>\n",
       "    <tr>\n",
       "      <th>10</th>\n",
       "      <td>0.000000</td>\n",
       "    </tr>\n",
       "    <tr>\n",
       "      <th>11</th>\n",
       "      <td>0.000000</td>\n",
       "    </tr>\n",
       "    <tr>\n",
       "      <th>12</th>\n",
       "      <td>0.000000</td>\n",
       "    </tr>\n",
       "    <tr>\n",
       "      <th>13</th>\n",
       "      <td>0.000000</td>\n",
       "    </tr>\n",
       "    <tr>\n",
       "      <th>14</th>\n",
       "      <td>0.000000</td>\n",
       "    </tr>\n",
       "    <tr>\n",
       "      <th>15</th>\n",
       "      <td>0.000000</td>\n",
       "    </tr>\n",
       "    <tr>\n",
       "      <th>16</th>\n",
       "      <td>0.000000</td>\n",
       "    </tr>\n",
       "    <tr>\n",
       "      <th>17</th>\n",
       "      <td>0.000000</td>\n",
       "    </tr>\n",
       "    <tr>\n",
       "      <th>18</th>\n",
       "      <td>0.000000</td>\n",
       "    </tr>\n",
       "    <tr>\n",
       "      <th>19</th>\n",
       "      <td>0.000000</td>\n",
       "    </tr>\n",
       "  </tbody>\n",
       "</table>\n",
       "</div>"
      ],
      "text/plain": [
       "            5096735\n",
       "agent     22.000000\n",
       "tick   10384.566667\n",
       "0          0.000000\n",
       "1          0.000000\n",
       "2          0.000000\n",
       "3          0.000000\n",
       "4          0.000000\n",
       "5          0.000000\n",
       "6          0.000000\n",
       "7          0.000000\n",
       "8          0.000000\n",
       "9          0.000000\n",
       "10         0.000000\n",
       "11         0.000000\n",
       "12         0.000000\n",
       "13         0.000000\n",
       "14         0.000000\n",
       "15         0.000000\n",
       "16         0.000000\n",
       "17         0.000000\n",
       "18         0.000000\n",
       "19         0.000000"
      ]
     },
     "execution_count": 80,
     "metadata": {},
     "output_type": "execute_result"
    }
   ],
   "source": [
    "buy_budget_df[(buy_budget_df[\"tick\"] == target_tick) & (buy_budget_df[\"agent\"] == agent_id)].T"
   ]
  },
  {
   "cell_type": "code",
   "execution_count": 81,
   "id": "e7212c5e",
   "metadata": {},
   "outputs": [
    {
     "ename": "KeyError",
     "evalue": "22",
     "output_type": "error",
     "traceback": [
      "\u001b[0;31m---------------------------------------------------------------------------\u001b[0m",
      "\u001b[0;31mKeyError\u001b[0m                                  Traceback (most recent call last)",
      "\u001b[0;32m~/src/stellarpunk/.venv/lib/python3.10/site-packages/pandas/core/indexes/base.py\u001b[0m in \u001b[0;36mget_loc\u001b[0;34m(self, key, method, tolerance)\u001b[0m\n\u001b[1;32m   3799\u001b[0m             \u001b[0;32mtry\u001b[0m\u001b[0;34m:\u001b[0m\u001b[0;34m\u001b[0m\u001b[0;34m\u001b[0m\u001b[0m\n\u001b[0;32m-> 3800\u001b[0;31m                 \u001b[0;32mreturn\u001b[0m \u001b[0mself\u001b[0m\u001b[0;34m.\u001b[0m\u001b[0m_engine\u001b[0m\u001b[0;34m.\u001b[0m\u001b[0mget_loc\u001b[0m\u001b[0;34m(\u001b[0m\u001b[0mcasted_key\u001b[0m\u001b[0;34m)\u001b[0m\u001b[0;34m\u001b[0m\u001b[0;34m\u001b[0m\u001b[0m\n\u001b[0m\u001b[1;32m   3801\u001b[0m             \u001b[0;32mexcept\u001b[0m \u001b[0mKeyError\u001b[0m \u001b[0;32mas\u001b[0m \u001b[0merr\u001b[0m\u001b[0;34m:\u001b[0m\u001b[0;34m\u001b[0m\u001b[0;34m\u001b[0m\u001b[0m\n",
      "\u001b[0;32m~/src/stellarpunk/.venv/lib/python3.10/site-packages/pandas/_libs/index.pyx\u001b[0m in \u001b[0;36mpandas._libs.index.IndexEngine.get_loc\u001b[0;34m()\u001b[0m\n",
      "\u001b[0;32m~/src/stellarpunk/.venv/lib/python3.10/site-packages/pandas/_libs/index.pyx\u001b[0m in \u001b[0;36mpandas._libs.index.IndexEngine.get_loc\u001b[0;34m()\u001b[0m\n",
      "\u001b[0;32mpandas/_libs/hashtable_class_helper.pxi\u001b[0m in \u001b[0;36mpandas._libs.hashtable.PyObjectHashTable.get_item\u001b[0;34m()\u001b[0m\n",
      "\u001b[0;32mpandas/_libs/hashtable_class_helper.pxi\u001b[0m in \u001b[0;36mpandas._libs.hashtable.PyObjectHashTable.get_item\u001b[0;34m()\u001b[0m\n",
      "\u001b[0;31mKeyError\u001b[0m: 22",
      "\nThe above exception was the direct cause of the following exception:\n",
      "\u001b[0;31mKeyError\u001b[0m                                  Traceback (most recent call last)",
      "\u001b[0;32m/tmp/ipykernel_1556744/259356488.py\u001b[0m in \u001b[0;36m<module>\u001b[0;34m\u001b[0m\n\u001b[0;32m----> 1\u001b[0;31m \u001b[0minventory_df\u001b[0m\u001b[0;34m[\u001b[0m\u001b[0minventory_df\u001b[0m\u001b[0;34m[\u001b[0m\u001b[0;34m\"agent\"\u001b[0m\u001b[0;34m]\u001b[0m \u001b[0;34m==\u001b[0m \u001b[0magent_id\u001b[0m\u001b[0;34m]\u001b[0m\u001b[0;34m.\u001b[0m\u001b[0mdrop\u001b[0m\u001b[0;34m(\u001b[0m\u001b[0;34m\"agent\"\u001b[0m\u001b[0;34m,\u001b[0m \u001b[0maxis\u001b[0m\u001b[0;34m=\u001b[0m\u001b[0;36m1\u001b[0m\u001b[0;34m)\u001b[0m\u001b[0;34m.\u001b[0m\u001b[0mset_index\u001b[0m\u001b[0;34m(\u001b[0m\u001b[0;34m\"tick\"\u001b[0m\u001b[0;34m)\u001b[0m\u001b[0;34m[\u001b[0m\u001b[0magent_id\u001b[0m\u001b[0;34m]\u001b[0m\u001b[0;34m.\u001b[0m\u001b[0mdescribe\u001b[0m\u001b[0;34m(\u001b[0m\u001b[0;34m)\u001b[0m\u001b[0;34m\u001b[0m\u001b[0;34m\u001b[0m\u001b[0m\n\u001b[0m",
      "\u001b[0;32m~/src/stellarpunk/.venv/lib/python3.10/site-packages/pandas/core/frame.py\u001b[0m in \u001b[0;36m__getitem__\u001b[0;34m(self, key)\u001b[0m\n\u001b[1;32m   3803\u001b[0m             \u001b[0;32mif\u001b[0m \u001b[0mself\u001b[0m\u001b[0;34m.\u001b[0m\u001b[0mcolumns\u001b[0m\u001b[0;34m.\u001b[0m\u001b[0mnlevels\u001b[0m \u001b[0;34m>\u001b[0m \u001b[0;36m1\u001b[0m\u001b[0;34m:\u001b[0m\u001b[0;34m\u001b[0m\u001b[0;34m\u001b[0m\u001b[0m\n\u001b[1;32m   3804\u001b[0m                 \u001b[0;32mreturn\u001b[0m \u001b[0mself\u001b[0m\u001b[0;34m.\u001b[0m\u001b[0m_getitem_multilevel\u001b[0m\u001b[0;34m(\u001b[0m\u001b[0mkey\u001b[0m\u001b[0;34m)\u001b[0m\u001b[0;34m\u001b[0m\u001b[0;34m\u001b[0m\u001b[0m\n\u001b[0;32m-> 3805\u001b[0;31m             \u001b[0mindexer\u001b[0m \u001b[0;34m=\u001b[0m \u001b[0mself\u001b[0m\u001b[0;34m.\u001b[0m\u001b[0mcolumns\u001b[0m\u001b[0;34m.\u001b[0m\u001b[0mget_loc\u001b[0m\u001b[0;34m(\u001b[0m\u001b[0mkey\u001b[0m\u001b[0;34m)\u001b[0m\u001b[0;34m\u001b[0m\u001b[0;34m\u001b[0m\u001b[0m\n\u001b[0m\u001b[1;32m   3806\u001b[0m             \u001b[0;32mif\u001b[0m \u001b[0mis_integer\u001b[0m\u001b[0;34m(\u001b[0m\u001b[0mindexer\u001b[0m\u001b[0;34m)\u001b[0m\u001b[0;34m:\u001b[0m\u001b[0;34m\u001b[0m\u001b[0;34m\u001b[0m\u001b[0m\n\u001b[1;32m   3807\u001b[0m                 \u001b[0mindexer\u001b[0m \u001b[0;34m=\u001b[0m \u001b[0;34m[\u001b[0m\u001b[0mindexer\u001b[0m\u001b[0;34m]\u001b[0m\u001b[0;34m\u001b[0m\u001b[0;34m\u001b[0m\u001b[0m\n",
      "\u001b[0;32m~/src/stellarpunk/.venv/lib/python3.10/site-packages/pandas/core/indexes/base.py\u001b[0m in \u001b[0;36mget_loc\u001b[0;34m(self, key, method, tolerance)\u001b[0m\n\u001b[1;32m   3800\u001b[0m                 \u001b[0;32mreturn\u001b[0m \u001b[0mself\u001b[0m\u001b[0;34m.\u001b[0m\u001b[0m_engine\u001b[0m\u001b[0;34m.\u001b[0m\u001b[0mget_loc\u001b[0m\u001b[0;34m(\u001b[0m\u001b[0mcasted_key\u001b[0m\u001b[0;34m)\u001b[0m\u001b[0;34m\u001b[0m\u001b[0;34m\u001b[0m\u001b[0m\n\u001b[1;32m   3801\u001b[0m             \u001b[0;32mexcept\u001b[0m \u001b[0mKeyError\u001b[0m \u001b[0;32mas\u001b[0m \u001b[0merr\u001b[0m\u001b[0;34m:\u001b[0m\u001b[0;34m\u001b[0m\u001b[0;34m\u001b[0m\u001b[0m\n\u001b[0;32m-> 3802\u001b[0;31m                 \u001b[0;32mraise\u001b[0m \u001b[0mKeyError\u001b[0m\u001b[0;34m(\u001b[0m\u001b[0mkey\u001b[0m\u001b[0;34m)\u001b[0m \u001b[0;32mfrom\u001b[0m \u001b[0merr\u001b[0m\u001b[0;34m\u001b[0m\u001b[0;34m\u001b[0m\u001b[0m\n\u001b[0m\u001b[1;32m   3803\u001b[0m             \u001b[0;32mexcept\u001b[0m \u001b[0mTypeError\u001b[0m\u001b[0;34m:\u001b[0m\u001b[0;34m\u001b[0m\u001b[0;34m\u001b[0m\u001b[0m\n\u001b[1;32m   3804\u001b[0m                 \u001b[0;31m# If we have a listlike key, _check_indexing_error will raise\u001b[0m\u001b[0;34m\u001b[0m\u001b[0;34m\u001b[0m\u001b[0m\n",
      "\u001b[0;31mKeyError\u001b[0m: 22"
     ]
    }
   ],
   "source": [
    "inventory_df[inventory_df[\"agent\"] == agent_id].drop(\"agent\", axis=1).set_index(\"tick\")[agent_id].describe()"
   ]
  },
  {
   "cell_type": "markdown",
   "id": "80fb367c",
   "metadata": {},
   "source": [
    "# Buy and Sell Prices"
   ]
  },
  {
   "cell_type": "code",
   "execution_count": null,
   "id": "2930f1f3",
   "metadata": {},
   "outputs": [],
   "source": [
    "max_last_buy_price = buy_price_df[buy_price_df[\"tick\"] == buy_price_df[\"tick\"].max()].drop([\"agent\", \"tick\"], axis=1).max(axis=0)\n",
    "min_last_sell_price = sell_price_df[sell_price_df[\"tick\"] == sell_price_df[\"tick\"].max()].drop([\"agent\", \"tick\"], axis=1).min(axis=0)\n",
    "#max_last_buy_price - min_last_sell_price\n",
    "min_last_sell_price"
   ]
  },
  {
   "cell_type": "markdown",
   "id": "9d5e3bac",
   "metadata": {},
   "source": [
    "## Market Analysis for one Good"
   ]
  },
  {
   "cell_type": "markdown",
   "id": "ff422434",
   "metadata": {},
   "source": [
    "### Overview of one Market"
   ]
  },
  {
   "cell_type": "code",
   "execution_count": null,
   "id": "16eb83d5",
   "metadata": {},
   "outputs": [],
   "source": [
    "product_id = 3\n",
    "min_ticks = 0\n",
    "max_ticks = np.inf\n",
    "\n",
    "max_ticks = np.clip(max_ticks, 0, sell_price_df[\"tick\"].max())\n",
    "\n",
    "dfsp = sell_price_df[(sell_price_df[product_id] < np.inf) & (sell_price_df[\"tick\"].between(min_ticks,max_ticks))][[\"agent\", \"tick\", product_id]].merge(inventory_df[[\"agent\", \"tick\", product_id]], on=[\"tick\", \"agent\"], suffixes=(\"\",\"_inventory\")).rename({str(product_id): product_id}, axis=1)\n",
    "dfms = min_sell_price_df[(min_sell_price_df[product_id] < np.inf) & (min_sell_price_df[\"tick\"].between(min_ticks,max_ticks))][[\"agent\", \"tick\", product_id]].merge(inventory_df[[\"agent\", \"tick\", product_id]], on=[\"tick\", \"agent\"], suffixes=(\"\",\"_inventory\")).rename({str(product_id): product_id}, axis=1)\n",
    "\n",
    "df1 = dfsp[dfsp[f'{product_id}_inventory'] > 0].groupby(\"tick\")[product_id].min().to_frame()\n",
    "df1_mean = dfsp[dfsp[f'{product_id}_inventory'] > 0].groupby(\"tick\")[product_id].mean().to_frame()\n",
    "df1_max = dfsp[dfsp[f'{product_id}_inventory'] > 0].groupby(\"tick\")[product_id].max().to_frame()\n",
    "dfms = dfms[dfms[f'{product_id}_inventory'] > 0].groupby(\"tick\")[product_id].min().to_frame()\n",
    "df2 = buy_price_df[(buy_price_df[\"tick\"].between(min_ticks, max_ticks)) & (buy_price_df[product_id] > 0)][[\"tick\", \"agent\", product_id]]\n",
    "df2[product_id] = df2[product_id]\n",
    "dfmb = max_buy_price_df[(max_buy_price_df[\"tick\"].between(min_ticks, max_ticks)) & (max_buy_price_df[product_id] > 0)][[\"tick\", \"agent\", product_id]]\n",
    "dfmb[product_id] = dfmb[product_id]\n",
    "\n",
    "buyer_df = buy_budget_df[(buy_budget_df[product_id] > 0) & buy_budget_df[\"tick\"].between(min_ticks, max_ticks)][[\"tick\", \"agent\", product_id]].merge(df2, on=[\"tick\", \"agent\"], suffixes=[\"_budget\", \"_price\"])\n",
    "buyer_df[\"units\"] = buyer_df[f'{product_id}_budget'] / buyer_df[f'{product_id}_price']\n",
    "seller_df = inventory_df[inventory_df[\"tick\"].between(min_ticks, max_ticks) & inventory_df[\"agent\"].isin(np.where(agent_goods_df[product_id])[0])].groupby(\"tick\")[product_id].sum()\n",
    "seller_df = seller_df.loc[min_ticks:max_ticks]\n"
   ]
  },
  {
   "cell_type": "markdown",
   "id": "9cb142e8",
   "metadata": {},
   "source": [
    "Seller prices"
   ]
  },
  {
   "cell_type": "code",
   "execution_count": null,
   "id": "4bbcee17",
   "metadata": {},
   "outputs": [],
   "source": [
    "sell_price_df[(sell_price_df[product_id] < np.inf) & sell_price_df[\"tick\"].between(min_ticks, max_ticks)].groupby(\"agent\")[product_id].describe()"
   ]
  },
  {
   "cell_type": "markdown",
   "id": "dad64f03",
   "metadata": {},
   "source": [
    "Buyer Prices"
   ]
  },
  {
   "cell_type": "code",
   "execution_count": null,
   "id": "8b845814",
   "metadata": {},
   "outputs": [],
   "source": [
    "buyer_df.groupby(\"agent\")[f'{product_id}_price'].describe()"
   ]
  },
  {
   "cell_type": "markdown",
   "id": "508ca454",
   "metadata": {},
   "source": [
    "#### Market Volume"
   ]
  },
  {
   "cell_type": "code",
   "execution_count": null,
   "id": "e39fc61b",
   "metadata": {},
   "outputs": [],
   "source": [
    "colors = plt.rcParams['axes.prop_cycle'].by_key()[\"color\"]\n",
    "plt.figure(figsize=(10,5))\n",
    "plt.scatter(seller_df[seller_df>0].index, seller_df[seller_df>0], label=f'supply {seller_df.mean():.2f}')\n",
    "for agent_id, color in zip(buyer_df[\"agent\"].unique(), colors[1:]):\n",
    "    plt.scatter(buyer_df[buyer_df[\"agent\"] == agent_id][\"tick\"], buyer_df[buyer_df[\"agent\"] == agent_id][\"units\"], label=f'{agent_id} demand {buyer_df[buyer_df[\"agent\"] == agent_id][\"units\"].mean():.2f}', marker=\".\")\n",
    "total_demand = buyer_df.groupby(\"tick\")[\"units\"].sum()\n",
    "plt.scatter(total_demand.index, total_demand, label=\"total demand\", marker=\".\", color=\"black\")\n",
    "plt.legend(loc=\"right\")\n",
    "plt.title(f'market volume for {product_id}')\n",
    "print(seller_df.max())"
   ]
  },
  {
   "cell_type": "code",
   "execution_count": null,
   "id": "1df6543f",
   "metadata": {},
   "outputs": [],
   "source": [
    "seller_df[seller_df > 0].index.to_series().describe()"
   ]
  },
  {
   "cell_type": "code",
   "execution_count": null,
   "id": "bf330dd8",
   "metadata": {},
   "outputs": [],
   "source": [
    "seller_df.describe()"
   ]
  },
  {
   "cell_type": "code",
   "execution_count": null,
   "id": "0070fcbe",
   "metadata": {},
   "outputs": [],
   "source": [
    "buyer_df.groupby(\"agent\")[\"units\"].describe()"
   ]
  },
  {
   "cell_type": "code",
   "execution_count": null,
   "id": "1f96cca0",
   "metadata": {},
   "outputs": [],
   "source": [
    "cannot_buy_df[cannot_buy_df[\"tick\"].between(min_ticks, max_ticks) & cannot_buy_df[\"agent\"].isin(np.where(production_goods[product_id])[0])][[\"agent\", \"tick\", product_id]].groupby(\"agent\")[product_id].describe()"
   ]
  },
  {
   "cell_type": "code",
   "execution_count": null,
   "id": "03fd0ef9",
   "metadata": {},
   "outputs": [],
   "source": [
    "df2[product_id].max()"
   ]
  },
  {
   "cell_type": "code",
   "execution_count": null,
   "id": "eb8a0772",
   "metadata": {},
   "outputs": [],
   "source": [
    "df2.groupby(\"tick\")[product_id].describe().describe()"
   ]
  },
  {
   "cell_type": "markdown",
   "id": "86a2c8f9",
   "metadata": {},
   "source": [
    "#### Market Price"
   ]
  },
  {
   "cell_type": "code",
   "execution_count": null,
   "id": "b7998322",
   "metadata": {},
   "outputs": [],
   "source": [
    "colors = plt.rcParams['axes.prop_cycle'].by_key()[\"color\"]\n",
    "plt.figure(figsize=(15,5))\n",
    "plt.scatter(df1.index, df1[product_id], label=f'min sell price {df1[product_id].mean():.2f}', color=colors[0])\n",
    "plt.scatter(df1_mean.index, df1_mean[product_id], label=f'mean sell price {df1_mean[product_id].mean():.2f}', color=colors[0], marker=\".\")\n",
    "plt.scatter(df1_mean.index, df1_max[product_id], label=f'max sell price {df1_max[product_id].mean():.2f}', color=colors[0], marker=\".\")\n",
    "plt.scatter(dfms.index, dfms[product_id], label=f'min sell price {dfms[product_id].mean():.2f}', marker=\"_\", color=colors[0])\n",
    "for agent, color in zip(df2[\"agent\"].unique(), colors[1:]):\n",
    "    plt.scatter(df2[df2[\"agent\"] == agent][\"tick\"], df2[df2[\"agent\"] == agent][product_id], label=f'{agent} buy price {df2[df2[\"agent\"] == agent][product_id].mean():.2f}', marker=\".\", color=color)\n",
    "    plt.scatter(dfmb[dfmb[\"agent\"] == agent][\"tick\"], dfmb[dfmb[\"agent\"] == agent][product_id], label=f'{agent} max buy price {dfmb[dfmb[\"agent\"] == agent][product_id].mean():.2f}', marker=\"_\", color=color)\n",
    "if len(df2) > 0:\n",
    "    plt.ylim(0, df2[product_id].max()*1.1)\n",
    "plt.ylim(plt.ylim()[0], plt.ylim()[1]*1.1)\n",
    "\n",
    "#plt.legend(loc=\"right\")\n",
    "plt.legend(bbox_to_anchor=(1.25, 1), borderaxespad=0)\n",
    "\n",
    "# some status indicators\n",
    "ax2 = plt.twinx()\n",
    "print(\"is there a transaction?\")\n",
    "ax2.vlines(transaction_df[(transaction_df[\"product\"] == product_id) & transaction_df[\"tick\"].between(min_ticks, max_ticks)][\"tick\"], ymin=0.98, ymax=1, color=\"gray\")\n",
    "print(\"do the sellers have inventory?\")\n",
    "ax2.vlines(seller_df[seller_df>0].index, ymin=0.96, ymax=0.98, color=\"darkblue\")\n",
    "print(\"do any buyers demand goods?\")\n",
    "ax2.vlines(buyer_df[\"tick\"].unique()[(buyer_df.groupby(\"tick\")[\"units\"].sum() > 0)], ymin=0.94, ymax=0.96, color=\"darkred\")\n",
    "print(\"are prices compatible?\")\n",
    "price_diff = (df2.groupby(\"tick\")[product_id].max() - df1[product_id]).rename(\"price_diff\")\n",
    "ax2.vlines(df1.join(price_diff[price_diff>0]).index, ymin=0.92, ymax=0.94, color=\"darkgreen\")\n",
    "print(\"is at least one agent in the cannot buy state (> 100 ticks)\")\n",
    "ax2.vlines(cannot_buy_df[cannot_buy_df[\"tick\"].between(min_ticks, max_ticks)][\"tick\"].unique()[(cannot_buy_df[cannot_buy_df[\"tick\"].between(min_ticks, max_ticks)].groupby(\"tick\")[product_id].max() > 100)], ymin=0.90, ymax=0.92, color=\"darkred\")\n",
    "ax2.set_ylim(0,1)\n",
    "plt.subplots_adjust(right=0.7)\n",
    "\n",
    "plt.title(f'price chart for {product_id}')\n",
    "\n",
    "#plt.tight_layout(rect=[0, 0, 0.75, 1])\n",
    "\n"
   ]
  },
  {
   "cell_type": "code",
   "execution_count": null,
   "id": "7300a48b",
   "metadata": {},
   "outputs": [],
   "source": [
    "transaction_df[transaction_df[\"tick\"].between(min_ticks, max_ticks) & (transaction_df[\"product\"] == product_id)]"
   ]
  },
  {
   "cell_type": "markdown",
   "id": "4f26da6f",
   "metadata": {},
   "source": [
    "#### Ticks when max buy price changes a lot"
   ]
  },
  {
   "cell_type": "code",
   "execution_count": null,
   "id": "f5046905",
   "metadata": {},
   "outputs": [],
   "source": [
    "def consecutive_diffs(x):\n",
    "    return x.iloc[1] - x.iloc[0]\n",
    "    print(x)\n",
    "    raise Exception(x.__class__)\n",
    "mb_diffs = dfmb.set_index(\"tick\").groupby(\"agent\")[product_id].rolling(2).apply(consecutive_diffs)\n",
    "mb_diffs.to_frame().sort_values([\"agent\", product_id], key=abs, ascending=False).groupby(\"agent\").head(5)"
   ]
  },
  {
   "cell_type": "code",
   "execution_count": null,
   "id": "5ccadd7c",
   "metadata": {},
   "outputs": [],
   "source": []
  },
  {
   "cell_type": "markdown",
   "id": "5d38f78c",
   "metadata": {},
   "source": [
    "#### Balance"
   ]
  },
  {
   "cell_type": "code",
   "execution_count": null,
   "id": "4ae06649",
   "metadata": {},
   "outputs": [],
   "source": [
    "plt.subplots_adjust(right=0.7)\n",
    "colors = plt.rcParams['axes.prop_cycle'].by_key()[\"color\"]\n",
    "plt.figure(figsize=(10,5))\n",
    "plt.scatter(df1.index, df1[product_id], label=f'sell price {df1[product_id].mean():.2f}', color=colors[0])\n",
    "for agent, color in zip(df2[\"agent\"].unique(), colors[1:]):\n",
    "    plt.scatter(balance_df[balance_df[\"agent\"] == agent][\"tick\"], balance_df[balance_df[\"agent\"] == agent][\"balance\"], color=color, label=f'{agent} balance ({balance_df[balance_df[\"agent\"] == agent][\"balance\"].mean():.2f})')\n",
    "plt.title(f'balance for buyers of {product_id}')\n",
    "plt.legend(loc=\"right\")\n",
    "plt.ylim(0)"
   ]
  },
  {
   "cell_type": "code",
   "execution_count": null,
   "id": "60a6298b",
   "metadata": {},
   "outputs": [],
   "source": [
    "np.where(agent_goods_df[product_id])"
   ]
  },
  {
   "cell_type": "code",
   "execution_count": null,
   "id": "11b0e53b",
   "metadata": {},
   "outputs": [],
   "source": [
    "plt.subplots_adjust(right=0.7)\n",
    "colors = plt.rcParams['axes.prop_cycle'].by_key()[\"color\"]\n",
    "plt.figure(figsize=(10,5))\n",
    "#plt.scatter(df1.index, df1[product_id], label=f'sell price {df1[product_id].mean():.2f}', color=colors[0])\n",
    "for agent, color in zip(np.where(agent_goods_df[product_id])[0], colors[1:]):\n",
    "    plt.scatter(balance_df[balance_df[\"agent\"] == agent][\"tick\"], balance_df[balance_df[\"agent\"] == agent][\"balance\"], color=color, label=f'{agent} balance ({balance_df[balance_df[\"agent\"] == agent][\"balance\"].mean():.2f})')\n",
    "plt.title(f'balance for sellers of {product_id}')\n",
    "plt.legend(loc=\"right\")\n",
    "plt.ylim(0)"
   ]
  },
  {
   "cell_type": "markdown",
   "id": "40cc2496",
   "metadata": {},
   "source": [
    "### Sellers for the Market"
   ]
  },
  {
   "cell_type": "code",
   "execution_count": null,
   "id": "f035ce72",
   "metadata": {},
   "outputs": [],
   "source": [
    "np.where(agent_goods_df[product_id] == 1)"
   ]
  },
  {
   "cell_type": "markdown",
   "id": "a3860914",
   "metadata": {},
   "source": [
    "Amounts Sold"
   ]
  },
  {
   "cell_type": "code",
   "execution_count": null,
   "id": "d0ae1ed3",
   "metadata": {},
   "outputs": [],
   "source": [
    "transaction_df[(transaction_df[\"product\"] == product_id) & transaction_df[\"tick\"].between(min_ticks, max_ticks)].groupby(\"seller\")[\"amount\"].sum()"
   ]
  },
  {
   "cell_type": "markdown",
   "id": "efb4cd0e",
   "metadata": {},
   "source": [
    "Time ranges of sales"
   ]
  },
  {
   "cell_type": "code",
   "execution_count": null,
   "id": "622442cc",
   "metadata": {},
   "outputs": [],
   "source": [
    "transaction_df[(transaction_df[\"product\"] == product_id) & transaction_df[\"tick\"].between(min_ticks, max_ticks)].groupby(\"seller\")[\"tick\"].describe()"
   ]
  },
  {
   "cell_type": "markdown",
   "id": "53bfd4cb",
   "metadata": {},
   "source": [
    "Prices for transactions"
   ]
  },
  {
   "cell_type": "code",
   "execution_count": null,
   "id": "31d73cd3",
   "metadata": {},
   "outputs": [],
   "source": [
    "transaction_df[(transaction_df[\"product\"] == product_id) & transaction_df[\"tick\"].between(min_ticks, max_ticks)].groupby(\"seller\")[\"price\"].describe()"
   ]
  },
  {
   "cell_type": "markdown",
   "id": "e051bc63",
   "metadata": {},
   "source": [
    "Desired sell prices"
   ]
  },
  {
   "cell_type": "code",
   "execution_count": null,
   "id": "4bf4bade",
   "metadata": {},
   "outputs": [],
   "source": [
    "sell_price_df[sell_price_df[product_id] < np.inf][[\"agent\", \"tick\", product_id]].groupby(\"agent\")[product_id].describe()"
   ]
  },
  {
   "cell_type": "markdown",
   "id": "f3a43a30",
   "metadata": {},
   "source": [
    "Min Sell Prices"
   ]
  },
  {
   "cell_type": "code",
   "execution_count": null,
   "id": "120567f9",
   "metadata": {},
   "outputs": [],
   "source": [
    "min_sell_price_df[sell_price_df[product_id] < np.inf][[\"agent\", \"tick\", product_id]].groupby(\"agent\")[product_id].describe()"
   ]
  },
  {
   "cell_type": "markdown",
   "id": "553edc59",
   "metadata": {},
   "source": [
    "Product inventory"
   ]
  },
  {
   "cell_type": "code",
   "execution_count": null,
   "id": "e2f57bdd",
   "metadata": {},
   "outputs": [],
   "source": [
    "inventory_df[inventory_df[\"agent\"].isin(np.where(agent_goods_df[product_id])[0])].groupby(\"agent\")[product_id].describe()"
   ]
  },
  {
   "cell_type": "code",
   "execution_count": null,
   "id": "37d6d837",
   "metadata": {},
   "outputs": [],
   "source": [
    "for agent in np.where(agent_goods_df[product_id])[0]:\n",
    "    plt.scatter(inventory_df[inventory_df[\"agent\"] == agent][\"tick\"], inventory_df[inventory_df[\"agent\"] == agent][product_id])"
   ]
  },
  {
   "cell_type": "markdown",
   "id": "32e75a6f",
   "metadata": {},
   "source": [
    "Input inventory"
   ]
  },
  {
   "cell_type": "code",
   "execution_count": null,
   "id": "173b0969",
   "metadata": {},
   "outputs": [],
   "source": [
    "production_needs = pd.Series(production_chain.adj_matrix[:,product_id] * production_chain.batch_sizes[product_id])\n",
    "production_needs[production_needs > 0].to_frame()"
   ]
  },
  {
   "cell_type": "code",
   "execution_count": null,
   "id": "e1399ab7",
   "metadata": {},
   "outputs": [],
   "source": [
    "production_needs[production_needs > 0].index.to_list()"
   ]
  },
  {
   "cell_type": "code",
   "execution_count": null,
   "id": "605bb076",
   "metadata": {},
   "outputs": [],
   "source": [
    "input_ids = production_needs[production_needs > 0].index.to_list()\n",
    "inventory_melt = pd.melt(inventory_df[inventory_df[\"agent\"].isin(np.where(agent_goods_df[product_id])[0])][[\"agent\", \"tick\"]+input_ids], id_vars=[\"agent\", \"tick\"], value_vars=input_ids, var_name=\"product\")\n",
    "input_inventory_info = inventory_melt.groupby([\"agent\", \"product\"])[\"value\"].describe()\n",
    "input_inventory_info"
   ]
  },
  {
   "cell_type": "code",
   "execution_count": null,
   "id": "85c4233c",
   "metadata": {},
   "outputs": [],
   "source": [
    "inventory_melt.groupby([\"agent\",\"tick\"])[\"value\"].min().groupby(\"agent\").describe()"
   ]
  },
  {
   "cell_type": "markdown",
   "id": "c0fad8e6",
   "metadata": {},
   "source": [
    "Cannot sell ticks by seller"
   ]
  },
  {
   "cell_type": "code",
   "execution_count": null,
   "id": "a09eb41a",
   "metadata": {},
   "outputs": [],
   "source": [
    "relevant_cannot_sell_df = cannot_sell_df[cannot_sell_df[\"agent\"].isin(np.where(agent_goods_df[product_id])[0])][[\"tick\", \"agent\", product_id]]\n",
    "relevant_cannot_sell_df.groupby(\"agent\")[product_id].describe()"
   ]
  },
  {
   "cell_type": "code",
   "execution_count": null,
   "id": "16f6186d",
   "metadata": {},
   "outputs": [],
   "source": [
    "plt.figure(figsize=(10,5))\n",
    "colors = plt.rcParams['axes.prop_cycle'].by_key()[\"color\"]\n",
    "vtick = 0\n",
    "vtick_step = 0.2\n",
    "for agent, color in zip(relevant_cannot_sell_df[\"agent\"].unique(), colors[1:]):\n",
    "    plt.vlines(relevant_cannot_sell_df[(relevant_cannot_sell_df[\"agent\"] == agent) & (relevant_cannot_sell_df[product_id]>100)][\"tick\"], ymin=vtick, ymax=vtick+vtick_step, label=f'{agent}', color=color)\n",
    "    vtick += vtick_step\n",
    "plt.legend()\n",
    "plt.xlim(min_ticks, max_ticks)\n",
    "plt.title(f'cannot sell {product_id}')"
   ]
  },
  {
   "cell_type": "markdown",
   "id": "b83c4aab",
   "metadata": {},
   "source": [
    "### Buyers for the Market"
   ]
  },
  {
   "cell_type": "markdown",
   "id": "82c89f1f",
   "metadata": {},
   "source": [
    "Total Amount Purchased"
   ]
  },
  {
   "cell_type": "code",
   "execution_count": null,
   "id": "641a9222",
   "metadata": {},
   "outputs": [],
   "source": [
    "transaction_df[(transaction_df[\"product\"] == product_id) & transaction_df[\"tick\"].between(min_ticks, max_ticks)].groupby(\"buyer\")[\"amount\"].sum()"
   ]
  },
  {
   "cell_type": "markdown",
   "id": "c2080416",
   "metadata": {},
   "source": [
    "Time Ranges of Purchase"
   ]
  },
  {
   "cell_type": "code",
   "execution_count": null,
   "id": "6397168e",
   "metadata": {},
   "outputs": [],
   "source": [
    "transaction_df[(transaction_df[\"product\"] == product_id) & transaction_df[\"tick\"].between(min_ticks, max_ticks)].groupby(\"buyer\")[\"tick\"].describe()"
   ]
  },
  {
   "cell_type": "markdown",
   "id": "54283278",
   "metadata": {},
   "source": [
    "Prices Paid"
   ]
  },
  {
   "cell_type": "code",
   "execution_count": null,
   "id": "1032b369",
   "metadata": {},
   "outputs": [],
   "source": [
    "transaction_df[(transaction_df[\"product\"] == product_id) & transaction_df[\"tick\"].between(min_ticks, max_ticks)].groupby(\"buyer\")[\"price\"].describe()"
   ]
  },
  {
   "cell_type": "markdown",
   "id": "8090d1e8",
   "metadata": {},
   "source": [
    "Desired Buy Prices"
   ]
  },
  {
   "cell_type": "code",
   "execution_count": null,
   "id": "15364211",
   "metadata": {},
   "outputs": [],
   "source": [
    "buy_price_df[buy_price_df[product_id] > 0][[\"agent\", \"tick\", product_id]].groupby(\"agent\")[product_id].describe()"
   ]
  },
  {
   "cell_type": "code",
   "execution_count": null,
   "id": "daf8cdb2",
   "metadata": {},
   "outputs": [],
   "source": [
    "max_buy_price_df[max_buy_price_df[product_id] > 0][[\"agent\", \"tick\", product_id]].groupby(\"agent\")[product_id].describe()"
   ]
  },
  {
   "cell_type": "markdown",
   "id": "9ff155a2",
   "metadata": {},
   "source": [
    "Cannot buy ticks by buyer"
   ]
  },
  {
   "cell_type": "code",
   "execution_count": null,
   "id": "cf701668",
   "metadata": {},
   "outputs": [],
   "source": [
    "relevant_cannot_buy_df = cannot_buy_df[cannot_buy_df[\"tick\"].between(min_ticks, max_ticks) & cannot_buy_df[\"agent\"].isin(np.where(production_goods[product_id]>0)[0])][[\"tick\", \"agent\", product_id]]\n",
    "relevant_cannot_buy_df.groupby(\"agent\")[product_id].describe()"
   ]
  },
  {
   "cell_type": "markdown",
   "id": "005c1f76",
   "metadata": {},
   "source": [
    "Behavior of one buyer"
   ]
  },
  {
   "cell_type": "code",
   "execution_count": null,
   "id": "2c5eb0d4",
   "metadata": {},
   "outputs": [],
   "source": [
    "price_diff = (buy_price_df[buy_price_df[\"agent\"] == agent].set_index(\"tick\")[product_id] - sell_price_df.groupby(\"tick\")[product_id].min())\n",
    "price_diff[price_diff > 0].index"
   ]
  },
  {
   "cell_type": "code",
   "execution_count": null,
   "id": "270c19bb",
   "metadata": {},
   "outputs": [],
   "source": [
    "agent_id = relevant_cannot_buy_df[\"agent\"].unique()[0]\n",
    "agent_output = agent_goods_df.loc[agent_id].idxmax()\n",
    "plt.scatter(buy_budget_df[buy_budget_df[\"agent\"] == agent_id][\"tick\"], buy_budget_df[buy_budget_df[\"agent\"] == agent_id][product_id], label=f'buy budget')\n",
    "plt.scatter(buy_price_df[buy_price_df[\"agent\"] == agent_id][\"tick\"], buy_price_df[buy_price_df[\"agent\"] == agent_id][product_id], label=f'buy price')\n",
    "plt.scatter(inventory_df[inventory_df[\"agent\"] == agent_id][\"tick\"], inventory_df[inventory_df[\"agent\"] == agent_id][product_id], label=f'inventory')\n",
    "plt.scatter(inventory_df[inventory_df[\"agent\"] == agent_id][\"tick\"], inventory_df[inventory_df[\"agent\"] == agent_id][agent_output], label=f'output_inventory')\n",
    "plt.legend(loc=\"right\")\n",
    "ax2 = plt.twinx()\n",
    "\n",
    "print(\"is transaction?\")\n",
    "ax2.vlines(transaction_df[(transaction_df[\"buyer\"] == agent_id) & (transaction_df[\"product\"] == product_id)][\"tick\"], ymin=0.95, ymax=1.0, color=\"green\")\n",
    "print(\"cannot buy?\")\n",
    "ax2.vlines(cannot_buy_df[(cannot_buy_df[\"agent\"] == agent_id) & (cannot_buy_df[product_id] > 0)][\"tick\"], ymin=0.90, ymax=0.95, color=\"red\")\n",
    "print(\"has budget?\")\n",
    "ax2.vlines(buy_budget_df[(buy_budget_df[\"agent\"] == agent_id) & (buy_budget_df[product_id] > 0)][\"tick\"], ymin=0.85, ymax=0.90, color=\"blue\")\n",
    "print(\"buy price at max price?\")\n",
    "ax2.vlines(buy_price_df[(buy_price_df[\"agent\"] == agent_id) & (max_buy_price_df[product_id] - buy_price_df[product_id] < econ_sim.PRICE_EPS)][\"tick\"], ymin=0.80, ymax=0.85, color=\"purple\")\n",
    "price_diff = (buy_price_df[buy_price_df[\"agent\"] == agent].set_index(\"tick\")[product_id] - sell_price_df.groupby(\"tick\")[product_id].min())\n",
    "print(\"price compatible\")\n",
    "ax2.vlines(price_diff[price_diff > 0].index, ymin=0.75, ymax=0.80, color=\"yellow\")\n",
    "ax2.set_ylim(0,1)\n",
    "\n",
    "plt.xlim(min_ticks, max_ticks)\n",
    "\n",
    "plt.title(f'behavior for buyer {agent_id}')"
   ]
  },
  {
   "cell_type": "code",
   "execution_count": null,
   "id": "51e15b0a",
   "metadata": {},
   "outputs": [],
   "source": [
    "transaction_df[transaction_df[\"tick\"].between(min_ticks, max_ticks) & (transaction_df[\"buyer\"] == agent_id) & (transaction_df[\"product\"] == product_id)]"
   ]
  },
  {
   "cell_type": "code",
   "execution_count": null,
   "id": "0f64348e",
   "metadata": {},
   "outputs": [],
   "source": [
    "cannot_buy_df[cannot_buy_df[\"tick\"].between(min_ticks, max_ticks) & (cannot_buy_df[\"agent\"] == agent_id)].set_index(\"tick\")[product_id].plot()"
   ]
  },
  {
   "cell_type": "markdown",
   "id": "38af828f",
   "metadata": {},
   "source": [
    "When cannot buy exceeds 0"
   ]
  },
  {
   "cell_type": "code",
   "execution_count": null,
   "id": "8272866e",
   "metadata": {},
   "outputs": [],
   "source": [
    "relevant_cannot_buy_df[relevant_cannot_buy_df[product_id] > 0].groupby(\"agent\")[\"tick\"].describe()"
   ]
  },
  {
   "cell_type": "code",
   "execution_count": null,
   "id": "b5765cde",
   "metadata": {},
   "outputs": [],
   "source": [
    "plt.figure(figsize=(10,5))\n",
    "colors = plt.rcParams['axes.prop_cycle'].by_key()[\"color\"]\n",
    "vtick = 0\n",
    "vtick_step = 0.2\n",
    "for agent, color in zip(relevant_cannot_buy_df[\"agent\"].unique(), colors[1:]):\n",
    "    plt.vlines(relevant_cannot_buy_df[(relevant_cannot_buy_df[\"agent\"] == agent) & (relevant_cannot_buy_df[product_id]>100)][\"tick\"], ymin=vtick, ymax=vtick+vtick_step, label=f'{agent}', color=color)\n",
    "    vtick += vtick_step\n",
    "plt.legend()\n",
    "plt.title(f'cannot buy {product_id}')\n",
    "plt.xlim(min_ticks, max_ticks)"
   ]
  },
  {
   "cell_type": "markdown",
   "id": "6ac8e805",
   "metadata": {},
   "source": [
    "## Buy/Sell Price Investigation"
   ]
  },
  {
   "cell_type": "code",
   "execution_count": null,
   "id": "ed95a6cb",
   "metadata": {},
   "outputs": [],
   "source": [
    "df1[product_id].describe()"
   ]
  },
  {
   "cell_type": "code",
   "execution_count": null,
   "id": "3823fb6e",
   "metadata": {},
   "outputs": [],
   "source": [
    "df2.groupby(\"agent\")[product_id].describe()"
   ]
  },
  {
   "cell_type": "code",
   "execution_count": null,
   "id": "72506881",
   "metadata": {},
   "outputs": [],
   "source": [
    "df2[df2[\"tick\"] == df2[\"tick\"].max()][product_id].max() - df1[product_id].iloc[-1]"
   ]
  },
  {
   "cell_type": "code",
   "execution_count": null,
   "id": "2aba7942",
   "metadata": {},
   "outputs": [],
   "source": [
    "(df2.groupby(\"tick\")[product_id].max() - df1[product_id]).describe()"
   ]
  },
  {
   "cell_type": "code",
   "execution_count": null,
   "id": "24b19787",
   "metadata": {},
   "outputs": [],
   "source": [
    "dfmb[dfmb[\"tick\"] == dfmb[\"tick\"].max()][product_id].max() - dfms[product_id].iloc[-1]"
   ]
  },
  {
   "cell_type": "code",
   "execution_count": null,
   "id": "fe258083",
   "metadata": {},
   "outputs": [],
   "source": [
    "(dfmb.groupby(\"tick\")[product_id].max() - dfms[product_id]).describe()"
   ]
  },
  {
   "cell_type": "code",
   "execution_count": null,
   "id": "13572b1a",
   "metadata": {},
   "outputs": [],
   "source": [
    "bp_s = (production_goods.loc[product_id] * buy_price_df[buy_price_df[\"agent\"] == product_id].drop([\"agent\", \"tick\"], axis=1)).sum(axis=1)\n",
    "mbp_s = (production_goods.loc[product_id] * max_buy_price_df[max_buy_price_df[\"agent\"] == product_id].drop([\"agent\", \"tick\"], axis=1)).sum(axis=1)\n",
    "sp_s = sell_price_df[sell_price_df[\"agent\"] == product_id].drop([\"agent\", \"tick\"], axis=1).min(axis=1)\n",
    "msp_s = min_sell_price_df[min_sell_price_df[\"agent\"] == product_id].drop([\"agent\", \"tick\"], axis=1).min(axis=1)\n",
    "price_df = pd.DataFrame({\"cost\":bp_s, \"max_cost\":mbp_s, \"price\":sp_s, \"min_price\":msp_s, \"unit_profit\":sp_s-bp_s})\n",
    "price_df"
   ]
  },
  {
   "cell_type": "markdown",
   "id": "41c8abfe",
   "metadata": {},
   "source": [
    "## Larger Scale Market Analysis"
   ]
  },
  {
   "cell_type": "code",
   "execution_count": null,
   "id": "0585b4da",
   "metadata": {},
   "outputs": [],
   "source": [
    "demand_units_df = (buy_budget_df.set_index([\"agent\", \"tick\"]) / buy_price_df.set_index([\"agent\", \"tick\"])).fillna(0.)\n",
    "supply_units_df = (inventory_df.drop(\"tick\", axis=1).set_index(\"agent\") * agent_goods_df).rename_axis('agent').reset_index(level=0)\n",
    "supply_units_df[\"tick\"] = inventory_df[\"tick\"]"
   ]
  },
  {
   "cell_type": "markdown",
   "id": "6515eb13",
   "metadata": {},
   "source": [
    "### Supply Deficit\n",
    "\n",
    "For each product, on average how many units of supply above demand are on the market"
   ]
  },
  {
   "cell_type": "code",
   "execution_count": null,
   "id": "ca1ce608",
   "metadata": {},
   "outputs": [],
   "source": [
    "transaction_df.groupby(\"product\")[\"amount\"].sum() / transaction_df[\"tick\"].max()"
   ]
  },
  {
   "cell_type": "code",
   "execution_count": null,
   "id": "479c2d58",
   "metadata": {},
   "outputs": [],
   "source": [
    "demand_units_mean = demand_units_df.groupby(\"tick\").sum().mean()\n",
    "supply_units_mean = supply_units_df.groupby(\"tick\").sum().mean().drop(\"agent\")\n",
    "surplus_df = pd.DataFrame({\n",
    "    \"agents\": agent_goods_df.sum(axis=0),\n",
    "    \"supply\": supply_units_mean,\n",
    "    \"supply_cv\": ((supply_units_df.groupby(\"tick\").sum()).std()/(supply_units_df.groupby(\"tick\").sum()).mean()).drop(\"agent\"),\n",
    "    \"demand\": demand_units_mean,\n",
    "    \"demand_cv\": (demand_units_df.groupby(\"tick\").sum()).std()/(demand_units_df.groupby(\"tick\").sum()).mean(),\n",
    "    \"surplus\": supply_units_mean - demand_units_mean\n",
    "})\n",
    "surplus_df[\"min_input_surplus\"] = 1./(pd.DataFrame(production_chain.adj_matrix).replace(0, np.nan).multiply(1./surplus_df[\"surplus\"], axis=0).max(axis=0).fillna(np.inf))\n",
    "surplus_df"
   ]
  },
  {
   "cell_type": "code",
   "execution_count": null,
   "id": "b50b9465",
   "metadata": {},
   "outputs": [],
   "source": [
    "surplus_df[\"surplus\"] + surplus_df[\"min_input_surplus\"]"
   ]
  },
  {
   "cell_type": "markdown",
   "id": "517ae6b9",
   "metadata": {},
   "source": [
    "## Cannot Buy or Sell"
   ]
  },
  {
   "cell_type": "code",
   "execution_count": null,
   "id": "73e4b171",
   "metadata": {},
   "outputs": [],
   "source": [
    "cannot_buy_df.drop(\"tick\", axis=1).groupby(\"agent\").max().max(axis=1)"
   ]
  },
  {
   "cell_type": "code",
   "execution_count": null,
   "id": "0fb333d3",
   "metadata": {},
   "outputs": [],
   "source": [
    "cannot_buy_df.drop(\"tick\", axis=1).groupby(\"agent\").max().max(axis=1).hist(bins=int(np.sqrt(cannot_buy_df[\"agent\"].nunique())))\n",
    "plt.title(\"distribution of max cannot buy ticks for agents\")"
   ]
  },
  {
   "cell_type": "markdown",
   "id": "ac88a57d",
   "metadata": {},
   "source": [
    "Summary of cannot buy by good"
   ]
  },
  {
   "cell_type": "code",
   "execution_count": null,
   "id": "dfa39931",
   "metadata": {},
   "outputs": [],
   "source": [
    "maxes = cannot_buy_df.drop(\"tick\", axis=1).groupby(\"agent\").max()\n",
    "describe_series = []\n",
    "for product in agent_goods_df.columns:\n",
    "    describe_series.append(maxes[product][production_goods[product] > 0].describe())\n",
    "cannot_buy_summary = pd.concat(describe_series, axis=1).T\n",
    "cannot_buy_summary[\"cv\"] = cannot_buy_summary[\"std\"] / cannot_buy_summary[\"mean\"]\n",
    "cannot_buy_summary[\"min_tick\"] = transaction_df.groupby(\"product\")[\"tick\"].min()\n",
    "cannot_buy_summary[\"max_tick\"] = transaction_df.groupby(\"product\")[\"tick\"].max()\n",
    "cannot_buy_summary"
   ]
  },
  {
   "cell_type": "code",
   "execution_count": null,
   "id": "db887963",
   "metadata": {},
   "outputs": [],
   "source": [
    "cannot_sell_df.drop(\"tick\", axis=1).groupby(\"agent\").max().max(axis=1).hist(bins=int(np.sqrt(cannot_sell_df[\"agent\"].nunique())))\n",
    "plt.title(\"distribution of max cannot sell ticks for agents\")"
   ]
  },
  {
   "cell_type": "code",
   "execution_count": null,
   "id": "e3a54bf7",
   "metadata": {},
   "outputs": [],
   "source": [
    "#cannot_sell_df[cannot_sell_df[\"agent\"].isin(np.where(agent_goods_df[0] > 0)[0])]\n",
    "cannot_sell_df[cannot_sell_df[\"agent\"].isin([0])].set_index(\"tick\")[0].plot()"
   ]
  },
  {
   "cell_type": "code",
   "execution_count": null,
   "id": "edaf10dd",
   "metadata": {},
   "outputs": [],
   "source": [
    "transaction_df[(transaction_df[\"product\"] == 0) & (transaction_df[\"seller\"] == 0)].groupby(\"tick\")[\"tick\"].count()"
   ]
  },
  {
   "cell_type": "code",
   "execution_count": null,
   "id": "d4548157",
   "metadata": {},
   "outputs": [],
   "source": [
    "cannot_sell_df[(cannot_sell_df[\"agent\"] == 0) & (cannot_sell_df[\"tick\"] > 46026)]"
   ]
  },
  {
   "cell_type": "markdown",
   "id": "94706169",
   "metadata": {},
   "source": [
    "Summary of cannot sell by product"
   ]
  },
  {
   "cell_type": "code",
   "execution_count": null,
   "id": "3a0b9608",
   "metadata": {},
   "outputs": [],
   "source": [
    "maxes = cannot_sell_df.drop(\"tick\", axis=1).groupby(\"agent\").max()\n",
    "describe_series = []\n",
    "for product in agent_goods_df.columns:\n",
    "    describe_series.append(maxes[product][agent_goods_df[product] > 0].describe())\n",
    "cannot_sell_summary = pd.concat(describe_series, axis=1).T\n",
    "cannot_sell_summary[\"cv\"] = cannot_sell_summary[\"std\"] / cannot_sell_summary[\"mean\"]\n",
    "cannot_sell_summary[\"min_tick\"] = transaction_df.groupby(\"product\")[\"tick\"].min()\n",
    "cannot_sell_summary[\"max_tick\"] = transaction_df.groupby(\"product\")[\"tick\"].max()\n",
    "cannot_sell_summary"
   ]
  },
  {
   "cell_type": "markdown",
   "id": "fb2e1d6b",
   "metadata": {},
   "source": [
    "# Profit Analysis"
   ]
  },
  {
   "cell_type": "markdown",
   "id": "82955c8f",
   "metadata": {},
   "source": [
    "## Basic Profit = Revenue - Cost\n",
    "\n",
    "Sum up all revenue (from transactions, final goods are sunk elsewhere)\n",
    "Sum up all costs (from transactions, basic resources are sourced elsewhere)\n",
    "Account for inventory (using latest market prices)\n",
    "\n",
    "profit = costs - revenue + value_of_goods_on_hand"
   ]
  },
  {
   "cell_type": "code",
   "execution_count": null,
   "id": "a9121cd8",
   "metadata": {},
   "outputs": [],
   "source": [
    "revenue = transaction_df.groupby(\"seller\")[\"value\"].sum().reindex(list(range(agent_goods_df.shape[0])), fill_value=0)\n",
    "costs = transaction_df.groupby(\"buyer\")[\"value\"].sum().reindex(list(range(agent_goods_df.shape[0])), fill_value=0)"
   ]
  },
  {
   "cell_type": "code",
   "execution_count": null,
   "id": "6f8b304a",
   "metadata": {},
   "outputs": [],
   "source": [
    "costs.describe()"
   ]
  },
  {
   "cell_type": "code",
   "execution_count": null,
   "id": "8a623a1f",
   "metadata": {},
   "outputs": [],
   "source": [
    "revenue.describe()"
   ]
  },
  {
   "cell_type": "markdown",
   "id": "6ace4795",
   "metadata": {},
   "source": [
    "Profit (without accounting for inventory value):"
   ]
  },
  {
   "cell_type": "code",
   "execution_count": null,
   "id": "f9c2f921",
   "metadata": {},
   "outputs": [],
   "source": [
    "(revenue-costs).describe()"
   ]
  },
  {
   "cell_type": "code",
   "execution_count": null,
   "id": "f9cb5041",
   "metadata": {},
   "outputs": [],
   "source": [
    "((revenue - costs)).hist(bins=int(np.sqrt(revenue.shape[0])))"
   ]
  },
  {
   "cell_type": "markdown",
   "id": "e6f8e346",
   "metadata": {},
   "source": [
    "How much value is sitting in inventory?"
   ]
  },
  {
   "cell_type": "code",
   "execution_count": null,
   "id": "dd6f95c8",
   "metadata": {},
   "outputs": [],
   "source": [
    "# estimate based on last price in the market\n",
    "value_of_goods_on_hand = (inventory_df[inventory_df[\"tick\"] == inventory_df[\"tick\"].max()].drop(\"tick\", axis=1).set_index(\"agent\") * transaction_df.groupby(\"product\")[\"price\"].nth(-1)).fillna(0).sum(axis=1)\n",
    "value_of_goods_on_hand.describe()"
   ]
  },
  {
   "cell_type": "code",
   "execution_count": null,
   "id": "5a5945ce",
   "metadata": {},
   "outputs": [],
   "source": [
    "revenue.mean() - costs.mean()"
   ]
  },
  {
   "cell_type": "code",
   "execution_count": null,
   "id": "776c211a",
   "metadata": {},
   "outputs": [],
   "source": [
    "value_of_goods_on_hand.mean()/revenue.mean()"
   ]
  },
  {
   "cell_type": "markdown",
   "id": "92c9a9d1",
   "metadata": {},
   "source": [
    "Profit (accounting for value of goods on hand):"
   ]
  },
  {
   "cell_type": "code",
   "execution_count": null,
   "id": "2425c6ac",
   "metadata": {},
   "outputs": [],
   "source": [
    "((revenue - costs) + value_of_goods_on_hand).describe()"
   ]
  },
  {
   "cell_type": "code",
   "execution_count": null,
   "id": "19b2b605",
   "metadata": {},
   "outputs": [],
   "source": [
    "((revenue - costs) + value_of_goods_on_hand).hist(bins=int(np.sqrt(revenue.shape[0])))"
   ]
  },
  {
   "cell_type": "markdown",
   "id": "7368e017",
   "metadata": {},
   "source": [
    "## Further Investigation"
   ]
  },
  {
   "cell_type": "markdown",
   "id": "82196706",
   "metadata": {},
   "source": [
    "### Profit by Product"
   ]
  },
  {
   "cell_type": "code",
   "execution_count": null,
   "id": "67d3a18e",
   "metadata": {},
   "outputs": [],
   "source": [
    "revenue-costs"
   ]
  },
  {
   "cell_type": "code",
   "execution_count": null,
   "id": "9c3e8f52",
   "metadata": {},
   "outputs": [],
   "source": [
    "agent_results = pd.DataFrame({\"product\":agent_goods, \"profit\":revenue-costs})\n",
    "profit_by_product = agent_results.groupby(\"product\")[\"profit\"].describe().sort_values(\"mean\")\n",
    "profit_by_product[\"sem\"] = agent_results.groupby(\"product\").sem()\n",
    "profit_by_product = profit_by_product.sort_values(\"mean\", ascending=False)\n",
    "profit_by_product"
   ]
  },
  {
   "cell_type": "code",
   "execution_count": null,
   "id": "ba7c7b7c",
   "metadata": {},
   "outputs": [],
   "source": [
    "plt.scatter(profit_by_product[\"count\"], profit_by_product[\"mean\"])\n",
    "plt.xscale(\"log\")\n",
    "plt.yscale(\"symlog\")"
   ]
  },
  {
   "cell_type": "code",
   "execution_count": null,
   "id": "d7cec3db",
   "metadata": {},
   "outputs": [],
   "source": [
    "xvals = np.arange(len(profit_by_product))\n",
    "width = 0.2\n",
    "plt.bar(list(map(lambda x: f'product {x}', profit_by_product.index.to_list())), profit_by_product[\"mean\"], yerr=profit_by_product[\"sem\"].fillna(0))\n",
    "#ax2 = plt.twinx()\n",
    "#ax2.bar(xvals + width, profit_by_product[\"std\"], width=width)"
   ]
  },
  {
   "cell_type": "markdown",
   "id": "fbe75ce4",
   "metadata": {},
   "source": [
    "### Who Made a Profit?"
   ]
  },
  {
   "cell_type": "code",
   "execution_count": null,
   "id": "91dea8f6",
   "metadata": {},
   "outputs": [],
   "source": [
    "print(len(np.where(((revenue - costs)) > 0)[0]))\n",
    "np.where(((revenue - costs)) > 0)"
   ]
  },
  {
   "cell_type": "code",
   "execution_count": null,
   "id": "f1358472",
   "metadata": {},
   "outputs": [],
   "source": [
    "print(len(np.where(((revenue - costs) + value_of_goods_on_hand) > 0)[0]))\n",
    "np.where(((revenue - costs) + value_of_goods_on_hand) > 0)"
   ]
  },
  {
   "cell_type": "code",
   "execution_count": null,
   "id": "8aa8fa47",
   "metadata": {},
   "outputs": [],
   "source": [
    "revenue[((revenue - costs) + value_of_goods_on_hand) > 0].sort_values(ascending=False).head(10)"
   ]
  },
  {
   "cell_type": "code",
   "execution_count": null,
   "id": "07eb87f4",
   "metadata": {},
   "outputs": [],
   "source": [
    "costs[((revenue - costs) + value_of_goods_on_hand) > 0].sort_values(ascending=False)"
   ]
  },
  {
   "cell_type": "markdown",
   "id": "7da72b9a",
   "metadata": {},
   "source": [
    "top profit takers"
   ]
  },
  {
   "cell_type": "code",
   "execution_count": null,
   "id": "ef079605",
   "metadata": {},
   "outputs": [],
   "source": [
    "(revenue-costs).sort_values(ascending=False).head(20)"
   ]
  },
  {
   "cell_type": "code",
   "execution_count": null,
   "id": "e6894a5d",
   "metadata": {},
   "outputs": [],
   "source": [
    "agent_goods_df.loc[(revenue-costs).sort_values(ascending=False).head(20).index.to_series()].idxmax(axis=1)"
   ]
  },
  {
   "cell_type": "markdown",
   "id": "87d54dc0",
   "metadata": {},
   "source": [
    "Taking into account value of goods on hand:"
   ]
  },
  {
   "cell_type": "code",
   "execution_count": null,
   "id": "787f243d",
   "metadata": {},
   "outputs": [],
   "source": [
    "(revenue-costs+value_of_goods_on_hand).sort_values(ascending=False).head(20)"
   ]
  },
  {
   "cell_type": "code",
   "execution_count": null,
   "id": "4d9d271d",
   "metadata": {},
   "outputs": [],
   "source": [
    "agent_goods_df.loc[(revenue-costs+value_of_goods_on_hand).sort_values(ascending=False).head(20).index.to_series()].idxmax(axis=1)"
   ]
  },
  {
   "cell_type": "markdown",
   "id": "b18fcfba",
   "metadata": {},
   "source": [
    "### Who Made a Loss?\n",
    "\n",
    "And selling what products?"
   ]
  },
  {
   "cell_type": "code",
   "execution_count": null,
   "id": "e6ccad21",
   "metadata": {},
   "outputs": [],
   "source": [
    "print(len(np.where(((revenue - costs)) < 0)[0]))\n",
    "np.where(((revenue - costs)) < 0)"
   ]
  },
  {
   "cell_type": "code",
   "execution_count": null,
   "id": "67116313",
   "metadata": {},
   "outputs": [],
   "source": [
    "print(len(np.where(((revenue - costs) + value_of_goods_on_hand) < 0)[0]))\n",
    "np.where(((revenue - costs) + value_of_goods_on_hand) < 0)"
   ]
  },
  {
   "cell_type": "code",
   "execution_count": null,
   "id": "c981ce31",
   "metadata": {},
   "outputs": [],
   "source": [
    "(revenue-costs).sort_values(ascending=True).head(20)"
   ]
  },
  {
   "cell_type": "code",
   "execution_count": null,
   "id": "4bf5295c",
   "metadata": {},
   "outputs": [],
   "source": [
    "agent_goods_df[((revenue - costs)) < 0].idxmax(axis=1).head(20)"
   ]
  },
  {
   "cell_type": "code",
   "execution_count": null,
   "id": "277cc215",
   "metadata": {},
   "outputs": [],
   "source": [
    "(revenue-costs + value_of_goods_on_hand).sort_values(ascending=True).head(20)"
   ]
  },
  {
   "cell_type": "code",
   "execution_count": null,
   "id": "2e4cbb56",
   "metadata": {},
   "outputs": [],
   "source": [
    "agent_goods_df[((revenue - costs) + value_of_goods_on_hand) < 0].idxmax(axis=1)"
   ]
  },
  {
   "cell_type": "markdown",
   "id": "2f55c0f1",
   "metadata": {},
   "source": [
    "## Recompute Profit from ending vs starting balance\n",
    "\n",
    "And also account for value of goods on hand."
   ]
  },
  {
   "cell_type": "code",
   "execution_count": null,
   "id": "a67d4631",
   "metadata": {},
   "outputs": [],
   "source": [
    "(balance_df[balance_df[\"tick\"] == balance_df[\"tick\"].max()].set_index(\"agent\") - balance_df[balance_df[\"tick\"] == balance_df[\"tick\"].min()].set_index(\"agent\"))[\"balance\"]"
   ]
  },
  {
   "cell_type": "code",
   "execution_count": null,
   "id": "683ac31b",
   "metadata": {},
   "outputs": [],
   "source": [
    "((balance_df[balance_df[\"tick\"] == balance_df[\"tick\"].max()].set_index(\"agent\") - balance_df[balance_df[\"tick\"] == balance_df[\"tick\"].min()].set_index(\"agent\"))[\"balance\"]).hist()"
   ]
  },
  {
   "cell_type": "code",
   "execution_count": null,
   "id": "6c33ef35",
   "metadata": {},
   "outputs": [],
   "source": [
    "((balance_df[balance_df[\"tick\"] == balance_df[\"tick\"].max()].set_index(\"agent\") - balance_df[balance_df[\"tick\"] == balance_df[\"tick\"].min()].set_index(\"agent\"))[\"balance\"] + value_of_goods_on_hand).hist()"
   ]
  },
  {
   "cell_type": "markdown",
   "id": "4e857daa",
   "metadata": {},
   "source": [
    "## Profit By Prices"
   ]
  },
  {
   "cell_type": "code",
   "execution_count": null,
   "id": "027a3192",
   "metadata": {},
   "outputs": [],
   "source": [
    "production_goods"
   ]
  },
  {
   "cell_type": "code",
   "execution_count": null,
   "id": "bd8d1b41",
   "metadata": {},
   "outputs": [],
   "source": [
    "(buy_price_df[buy_price_df[\"agent\"] == 26].drop([\"agent\", \"tick\"], axis=1) * production_goods.loc[26]).sum(axis=1).plot()"
   ]
  },
  {
   "cell_type": "code",
   "execution_count": null,
   "id": "d471cb48",
   "metadata": {},
   "outputs": [],
   "source": [
    "sell_price_df[sell_price_df[\"agent\"] == 26][26].plot()"
   ]
  },
  {
   "cell_type": "markdown",
   "id": "3f0eebcb",
   "metadata": {
    "heading_collapsed": true
   },
   "source": [
    "# Production Efficiency"
   ]
  }
 ],
 "metadata": {
  "kernelspec": {
   "display_name": "Python 3 (ipykernel)",
   "language": "python",
   "name": "python3"
  },
  "language_info": {
   "codemirror_mode": {
    "name": "ipython",
    "version": 3
   },
   "file_extension": ".py",
   "mimetype": "text/x-python",
   "name": "python",
   "nbconvert_exporter": "python",
   "pygments_lexer": "ipython3",
   "version": "3.10.8"
  },
  "toc": {
   "base_numbering": 1,
   "nav_menu": {},
   "number_sections": true,
   "sideBar": true,
   "skip_h1_title": false,
   "title_cell": "Table of Contents",
   "title_sidebar": "Contents",
   "toc_cell": false,
   "toc_position": {
    "height": "calc(100% - 180px)",
    "left": "10px",
    "top": "150px",
    "width": "354.594px"
   },
   "toc_section_display": true,
   "toc_window_display": true
  }
 },
 "nbformat": 4,
 "nbformat_minor": 5
}
