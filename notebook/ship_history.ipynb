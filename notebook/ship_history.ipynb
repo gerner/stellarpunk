{
 "cells": [
  {
   "cell_type": "code",
   "execution_count": 1,
   "id": "5b6f3318",
   "metadata": {},
   "outputs": [],
   "source": [
    "import json\n",
    "\n",
    "import pandas as pd\n",
    "import numpy as np\n",
    "from matplotlib import pyplot as plt\n",
    "import ipywidgets\n",
    "\n",
    "from stellarpunk import util"
   ]
  },
  {
   "cell_type": "markdown",
   "id": "f65a445b",
   "metadata": {},
   "source": [
    "# Loading and Preparing Data"
   ]
  },
  {
   "cell_type": "code",
   "execution_count": 2,
   "id": "3a6eacdd",
   "metadata": {},
   "outputs": [],
   "source": [
    "#df_base = pd.json_normalize(list(json.loads(line) for line in open(\"/tmp/stellarpunk_test.history\", \"r\")))\n",
    "df_base = pd.read_json(\"/tmp/stellarpunk.history.gz\", lines=True)\n",
    "df_base = df_base.join(pd.json_normalize(df_base[\"o\"]).add_prefix(\"o.\"))"
   ]
  },
  {
   "cell_type": "code",
   "execution_count": 3,
   "id": "ca755957",
   "metadata": {},
   "outputs": [
    {
     "data": {
      "text/plain": [
       "0     59e69d87-78f2-4b33-902e-52db626e16da\n",
       "1     266059be-6e18-4b08-81d4-5c2e9b68fffc\n",
       "2     3c6951c3-fa33-41d9-b0ad-a44f2a6ad65c\n",
       "3     ca367884-b4a8-4822-8c10-12b8a66b4b63\n",
       "4     5a0c6512-3415-41bf-91d0-f64a01b76cf0\n",
       "5     d85f250d-b5df-4c25-95de-c4bfa3bf1500\n",
       "6     0ee4556e-de0f-4e9f-ba1e-c6841ade0f7a\n",
       "7     e24afb37-08be-4a85-978a-e22d76944d80\n",
       "8     2db9e6ba-c0cf-4bf8-86c0-323afc2273b1\n",
       "9     416e3635-98b5-4129-a2b0-7535ffc5ea62\n",
       "10    fea792c9-b040-45ef-9135-2847d0fdc1d6\n",
       "11    b47be085-418b-4ebb-b6d2-395492b6657e\n",
       "12    b7f21a29-4278-4cb8-89f9-4850e1b053ec\n",
       "13    b2acebe9-de60-4481-b4dc-655026918cee\n",
       "14    3afc02f9-40f4-47d2-86da-10066603761c\n",
       "15    b774243f-6bec-436f-9cd5-020ca2fc9d71\n",
       "16    294d919e-57e9-42ae-bb98-527dc4208f3b\n",
       "17    102bf43b-55e7-4ac4-a6fd-7a263100f813\n",
       "18    f2b88470-7138-4ddb-bbcc-b6480a67cc14\n",
       "19    bcf039df-ffe6-440f-a0ae-55d8c1a43e12\n",
       "20    687aa521-6d73-4e7d-9b9a-86bc585b1306\n",
       "21    3e548a32-51fa-49ea-bda9-2722569eb189\n",
       "22    8aa6e48a-43c9-43f9-86b4-f78c5697e33a\n",
       "23    08bc4ef1-d6da-4b28-9206-ce7f0daf4a8a\n",
       "24    d6d012ee-3315-476d-bb4e-74a4003ee176\n",
       "25    9a4c5f9a-2481-4869-9f23-140a62ce9541\n",
       "26    78dc492f-2463-4615-aed9-54dd1531203b\n",
       "27    3d4c030d-229a-4992-b7cf-57c40e9dc879\n",
       "28    d63a99bd-6ffc-4f24-a7b7-61637547efa4\n",
       "29    91306631-0a6c-4ae6-aac5-4de578b56d8a\n",
       "30    8197979b-9d1a-4f46-9d74-62e00c04c1f1\n",
       "31    97cd6e8a-d8d3-4dc3-bd08-0727bbd4d7ac\n",
       "32    8d035514-e06a-4c75-89eb-2304e7533a96\n",
       "33    30c6d866-148d-4949-a870-cf0e7a30c8fb\n",
       "34    03c3cf64-4bed-4902-88c8-6fd3ecd49954\n",
       "35    e7661f1c-6e20-4f2e-9e93-65a9e4dc6ebc\n",
       "36    2e0520b0-0ea3-4de6-9a39-189b477bff3b\n",
       "37    46d5a500-3983-4967-a78b-ab704065686f\n",
       "38    3746e0bd-7eb3-4210-98f8-807d25849565\n",
       "39    f13a8a1d-8de4-4580-938f-d40c181d215a\n",
       "40    b1220f71-a0d7-432c-90f0-38a667a4e08d\n",
       "41    2a386364-29c3-4b91-926a-7252c4e53614\n",
       "42    7008ba7c-f0cb-4149-b801-213ef79d8c7b\n",
       "43    d459689c-d5db-4c8b-a132-713a01764687\n",
       "44    4052bf6f-e0d0-4a11-9c30-c6d19b014881\n",
       "45    5a7d4493-c4c5-4559-b1fa-5e7178016085\n",
       "46    0484954e-f422-4e6c-98ff-875cafa8a2b2\n",
       "dtype: object"
      ]
     },
     "execution_count": 3,
     "metadata": {},
     "output_type": "execute_result"
    }
   ],
   "source": [
    "pd.Series(df_base[\"eid\"].unique())"
   ]
  },
  {
   "cell_type": "code",
   "execution_count": 4,
   "id": "c0194935",
   "metadata": {},
   "outputs": [
    {
     "data": {
      "text/plain": [
       "array(['5a7d4493-c4c5-4559-b1fa-5e7178016085'], dtype=object)"
      ]
     },
     "execution_count": 4,
     "metadata": {},
     "output_type": "execute_result"
    }
   ],
   "source": [
    "target_eid = df_base[\"eid\"].unique()[45]\n",
    "df_base = df_base[df_base[\"eid\"] == target_eid].reset_index()\n",
    "df_base[\"eid\"].unique()"
   ]
  },
  {
   "cell_type": "code",
   "execution_count": 5,
   "id": "48615985",
   "metadata": {},
   "outputs": [],
   "source": [
    "loc = pd.DataFrame(np.vstack(df_base[\"loc\"]), columns=[\"loc.x\", \"loc.y\"])\n",
    "v = pd.DataFrame(np.vstack(df_base[\"v\"]), columns=[\"v.x\", \"v.y\"])\n",
    "\n",
    "empty_array = np.empty(len(df_base))\n",
    "empty_array[:] = np.nan\n",
    "\n",
    "if \"o.t_loc\" in df_base:\n",
    "    o_tloc = pd.DataFrame(np.vstack(df_base[\"o.t_loc\"].apply(lambda x: (np.nan, np.nan) if np.all(np.isnan(x)) else x)), columns=[\"o.t_loc.x\", \"o.t_loc.y\"])\n",
    "    o_tv = pd.DataFrame(np.vstack(df_base[\"o.t_v\"].apply(lambda x: (np.nan, np.nan) if np.all(np.isnan(x)) else x)), columns=[\"o.t_v.x\", \"o.t_v.y\"])\n",
    "else:\n",
    "    o_tloc = pd.DataFrame({\"o.t_loc\": empty_array, \"o.t_loc.x\": empty_array, \"o.t_loc.y\": empty_array})\n",
    "    o_tv = pd.DataFrame({\"o.t_v\": empty_array, \"o.t_v.x\": empty_array, \"o.t_v.y\": empty_array})\n",
    "    \n",
    "if \"o.ct\" in df_base:\n",
    "    o_ctloc = pd.DataFrame(np.vstack(df_base[\"o.ct_loc\"].apply(lambda x: (np.nan, np.nan) if np.all(np.isnan(x)) else x)), columns=[\"o.ct_loc.x\", \"o.ct_loc.y\"])\n",
    "    o_ctdv = pd.DataFrame(np.vstack(df_base[\"o.ct_dv\"].apply(lambda x: (np.nan, np.nan) if np.all(np.isnan(x)) else x)), columns=[\"o.ct_dv.x\", \"o.ct_dv.y\"])\n",
    "else:\n",
    "    o_ctloc = pd.DataFrame({\"o.ct_loc\": empty_array, \"o.ct_loc.x\": empty_array, \"o.ct_loc.y\": empty_array})\n",
    "    o_ctdv = pd.DataFrame({\"o.ct_dv\": empty_array, \"o.ct_dv.x\": empty_array, \"o.ct_dv.y\": empty_array})\n",
    "angle = pd.DataFrame(np.vstack(df_base.apply(lambda row: np.array(util.polar_to_cartesian(100, row[\"a\"])), axis=1)), columns=[\"angle.x\", \"angle.y\"])\n",
    "df = pd.concat([df_base, loc, v, o_ctloc, o_ctdv, o_tloc, o_tv, angle], axis=1)\n",
    "\n",
    "if \"o.ct\" not in df_base:\n",
    "    df[\"o.ct\"] = empty_array\n",
    "    df[\"o.ct_ts\"] = empty_array\n",
    "    df[\"o.cac\"] = empty_array\n",
    "    df[\"o.cbdr\"] = empty_array\n",
    "    \n",
    "if \"o.t_loc\" not in df_base:\n",
    "    df[\"o.cs\"] = empty_array"
   ]
  },
  {
   "cell_type": "code",
   "execution_count": 6,
   "id": "61808e58",
   "metadata": {},
   "outputs": [],
   "source": [
    "df[\"speed\"] = np.linalg.norm(df[[\"v.x\", \"v.y\"]], axis=1)\n",
    "df[\"o_ct_dist\"] = np.linalg.norm(np.vstack(df[\"loc\"]) - np.vstack(df[\"o.ct_loc\"].apply(lambda x: (np.nan, np.nan) if np.all(np.isnan(x)) else x)), axis=1)\n",
    "df[\"o_t_dist\"] = np.linalg.norm(np.vstack(df[\"loc\"]) - np.vstack(df[\"o.t_loc\"].apply(lambda x: (np.nan, np.nan) if np.all(np.isnan(x)) else x)), axis=1)\n",
    "df[\"o_t_speed\"] = np.linalg.norm(df[[\"o.t_v.x\", \"o.t_v.y\"]], axis=1)"
   ]
  },
  {
   "cell_type": "code",
   "execution_count": 7,
   "id": "9ce68d8d",
   "metadata": {},
   "outputs": [
    {
     "data": {
      "text/html": [
       "<div>\n",
       "<style scoped>\n",
       "    .dataframe tbody tr th:only-of-type {\n",
       "        vertical-align: middle;\n",
       "    }\n",
       "\n",
       "    .dataframe tbody tr th {\n",
       "        vertical-align: top;\n",
       "    }\n",
       "\n",
       "    .dataframe thead th {\n",
       "        text-align: right;\n",
       "    }\n",
       "</style>\n",
       "<table border=\"1\" class=\"dataframe\">\n",
       "  <thead>\n",
       "    <tr style=\"text-align: right;\">\n",
       "      <th></th>\n",
       "      <th>index</th>\n",
       "      <th>eid</th>\n",
       "      <th>ts</th>\n",
       "      <th>loc</th>\n",
       "      <th>a</th>\n",
       "      <th>v</th>\n",
       "      <th>av</th>\n",
       "      <th>o</th>\n",
       "      <th>o.o</th>\n",
       "      <th>o.nnd</th>\n",
       "      <th>...</th>\n",
       "      <th>o.t_loc.x</th>\n",
       "      <th>o.t_loc.y</th>\n",
       "      <th>o.t_v.x</th>\n",
       "      <th>o.t_v.y</th>\n",
       "      <th>angle.x</th>\n",
       "      <th>angle.y</th>\n",
       "      <th>speed</th>\n",
       "      <th>o_ct_dist</th>\n",
       "      <th>o_t_dist</th>\n",
       "      <th>o_t_speed</th>\n",
       "    </tr>\n",
       "  </thead>\n",
       "  <tbody>\n",
       "    <tr>\n",
       "      <th>0</th>\n",
       "      <td>18040</td>\n",
       "      <td>5a7d4493-c4c5-4559-b1fa-5e7178016085</td>\n",
       "      <td>58.133333</td>\n",
       "      <td>[20730.00507776424, 21770.739140788522]</td>\n",
       "      <td>0.286937</td>\n",
       "      <td>[1662.7749483599844, 545.6001018204189]</td>\n",
       "      <td>0.000000</td>\n",
       "      <td>{'o': 'stellarpunk.orders.GoToLocation', 'nnd'...</td>\n",
       "      <td>stellarpunk.orders.GoToLocation</td>\n",
       "      <td>19910.267302</td>\n",
       "      <td>...</td>\n",
       "      <td>116125.840777</td>\n",
       "      <td>53072.616597</td>\n",
       "      <td>1662.774948</td>\n",
       "      <td>545.600102</td>\n",
       "      <td>95.911534</td>\n",
       "      <td>28.301547</td>\n",
       "      <td>1750.000000</td>\n",
       "      <td>NaN</td>\n",
       "      <td>100400.064747</td>\n",
       "      <td>1750.0</td>\n",
       "    </tr>\n",
       "    <tr>\n",
       "      <th>1</th>\n",
       "      <td>18041</td>\n",
       "      <td>5a7d4493-c4c5-4559-b1fa-5e7178016085</td>\n",
       "      <td>58.150000</td>\n",
       "      <td>[20757.71799357024, 21779.832475818865]</td>\n",
       "      <td>0.286937</td>\n",
       "      <td>[1662.7749483599844, 545.6001018204189]</td>\n",
       "      <td>0.000000</td>\n",
       "      <td>{'o': 'stellarpunk.orders.GoToLocation', 'nnd'...</td>\n",
       "      <td>stellarpunk.orders.GoToLocation</td>\n",
       "      <td>19888.167363</td>\n",
       "      <td>...</td>\n",
       "      <td>116125.840777</td>\n",
       "      <td>53072.616597</td>\n",
       "      <td>1662.774948</td>\n",
       "      <td>545.600102</td>\n",
       "      <td>95.911534</td>\n",
       "      <td>28.301547</td>\n",
       "      <td>1750.000000</td>\n",
       "      <td>NaN</td>\n",
       "      <td>100370.898080</td>\n",
       "      <td>1750.0</td>\n",
       "    </tr>\n",
       "    <tr>\n",
       "      <th>2</th>\n",
       "      <td>18042</td>\n",
       "      <td>5a7d4493-c4c5-4559-b1fa-5e7178016085</td>\n",
       "      <td>58.166667</td>\n",
       "      <td>[20785.430909376242, 21788.925810849207]</td>\n",
       "      <td>0.286937</td>\n",
       "      <td>[1662.7749483599844, 545.6001018204189]</td>\n",
       "      <td>0.000000</td>\n",
       "      <td>{'o': 'stellarpunk.orders.GoToLocation', 'nnd'...</td>\n",
       "      <td>stellarpunk.orders.GoToLocation</td>\n",
       "      <td>19866.085661</td>\n",
       "      <td>...</td>\n",
       "      <td>116125.840777</td>\n",
       "      <td>53072.616597</td>\n",
       "      <td>1662.774948</td>\n",
       "      <td>545.600102</td>\n",
       "      <td>95.911534</td>\n",
       "      <td>28.301547</td>\n",
       "      <td>1750.000000</td>\n",
       "      <td>NaN</td>\n",
       "      <td>100341.731413</td>\n",
       "      <td>1750.0</td>\n",
       "    </tr>\n",
       "    <tr>\n",
       "      <th>3</th>\n",
       "      <td>18043</td>\n",
       "      <td>5a7d4493-c4c5-4559-b1fa-5e7178016085</td>\n",
       "      <td>58.183333</td>\n",
       "      <td>[20813.143825182244, 21798.019145879545]</td>\n",
       "      <td>0.286937</td>\n",
       "      <td>[1662.7749483599844, 545.6001018204188]</td>\n",
       "      <td>0.000000</td>\n",
       "      <td>{'o': 'stellarpunk.orders.GoToLocation', 'nnd'...</td>\n",
       "      <td>stellarpunk.orders.GoToLocation</td>\n",
       "      <td>19844.022257</td>\n",
       "      <td>...</td>\n",
       "      <td>116125.840777</td>\n",
       "      <td>53072.616597</td>\n",
       "      <td>1662.774948</td>\n",
       "      <td>545.600102</td>\n",
       "      <td>95.911534</td>\n",
       "      <td>28.301547</td>\n",
       "      <td>1750.000000</td>\n",
       "      <td>NaN</td>\n",
       "      <td>100312.564747</td>\n",
       "      <td>1750.0</td>\n",
       "    </tr>\n",
       "    <tr>\n",
       "      <th>4</th>\n",
       "      <td>18044</td>\n",
       "      <td>5a7d4493-c4c5-4559-b1fa-5e7178016085</td>\n",
       "      <td>58.200000</td>\n",
       "      <td>[20840.856740988245, 21807.112480909887]</td>\n",
       "      <td>0.286937</td>\n",
       "      <td>[1662.7749483599844, 545.6001018204189]</td>\n",
       "      <td>0.000000</td>\n",
       "      <td>{'o': 'stellarpunk.orders.GoToLocation', 'nnd'...</td>\n",
       "      <td>stellarpunk.orders.GoToLocation</td>\n",
       "      <td>19821.977210</td>\n",
       "      <td>...</td>\n",
       "      <td>116125.840777</td>\n",
       "      <td>53072.616597</td>\n",
       "      <td>1662.774948</td>\n",
       "      <td>545.600102</td>\n",
       "      <td>95.911534</td>\n",
       "      <td>28.301547</td>\n",
       "      <td>1750.000000</td>\n",
       "      <td>NaN</td>\n",
       "      <td>100283.398080</td>\n",
       "      <td>1750.0</td>\n",
       "    </tr>\n",
       "    <tr>\n",
       "      <th>...</th>\n",
       "      <td>...</td>\n",
       "      <td>...</td>\n",
       "      <td>...</td>\n",
       "      <td>...</td>\n",
       "      <td>...</td>\n",
       "      <td>...</td>\n",
       "      <td>...</td>\n",
       "      <td>...</td>\n",
       "      <td>...</td>\n",
       "      <td>...</td>\n",
       "      <td>...</td>\n",
       "      <td>...</td>\n",
       "      <td>...</td>\n",
       "      <td>...</td>\n",
       "      <td>...</td>\n",
       "      <td>...</td>\n",
       "      <td>...</td>\n",
       "      <td>...</td>\n",
       "      <td>...</td>\n",
       "      <td>...</td>\n",
       "      <td>...</td>\n",
       "    </tr>\n",
       "    <tr>\n",
       "      <th>3595</th>\n",
       "      <td>21635</td>\n",
       "      <td>5a7d4493-c4c5-4559-b1fa-5e7178016085</td>\n",
       "      <td>118.050000</td>\n",
       "      <td>[115761.06299594746, 52962.04302549309]</td>\n",
       "      <td>-3.093792</td>\n",
       "      <td>[964.9596116666611, 319.36323023985733]</td>\n",
       "      <td>0.638465</td>\n",
       "      <td>{'o': 'stellarpunk.orders.GoToLocation', 'nnd'...</td>\n",
       "      <td>stellarpunk.orders.GoToLocation</td>\n",
       "      <td>381.168394</td>\n",
       "      <td>...</td>\n",
       "      <td>116125.840777</td>\n",
       "      <td>53072.616597</td>\n",
       "      <td>0.000000</td>\n",
       "      <td>0.000000</td>\n",
       "      <td>-99.885777</td>\n",
       "      <td>-4.778229</td>\n",
       "      <td>1016.434909</td>\n",
       "      <td>NaN</td>\n",
       "      <td>381.168394</td>\n",
       "      <td>0.0</td>\n",
       "    </tr>\n",
       "    <tr>\n",
       "      <th>3596</th>\n",
       "      <td>21636</td>\n",
       "      <td>5a7d4493-c4c5-4559-b1fa-5e7178016085</td>\n",
       "      <td>118.066667</td>\n",
       "      <td>[115777.1456561419, 52967.365745997085]</td>\n",
       "      <td>-3.083151</td>\n",
       "      <td>[964.9200551243624, 319.3501385985359]</td>\n",
       "      <td>0.626336</td>\n",
       "      <td>{'o': 'stellarpunk.orders.GoToLocation', 'nnd'...</td>\n",
       "      <td>stellarpunk.orders.GoToLocation</td>\n",
       "      <td>364.233482</td>\n",
       "      <td>...</td>\n",
       "      <td>116125.840777</td>\n",
       "      <td>53072.616597</td>\n",
       "      <td>0.000000</td>\n",
       "      <td>0.000000</td>\n",
       "      <td>-99.829278</td>\n",
       "      <td>-5.840831</td>\n",
       "      <td>1016.393243</td>\n",
       "      <td>NaN</td>\n",
       "      <td>364.233482</td>\n",
       "      <td>0.0</td>\n",
       "    </tr>\n",
       "    <tr>\n",
       "      <th>3597</th>\n",
       "      <td>21637</td>\n",
       "      <td>5a7d4493-c4c5-4559-b1fa-5e7178016085</td>\n",
       "      <td>118.083333</td>\n",
       "      <td>[115793.22765706065, 52972.68824830706]</td>\n",
       "      <td>-3.072712</td>\n",
       "      <td>[964.8804985820638, 319.3370469572145]</td>\n",
       "      <td>0.614196</td>\n",
       "      <td>{'o': 'stellarpunk.orders.GoToLocation', 'nnd'...</td>\n",
       "      <td>stellarpunk.orders.GoToLocation</td>\n",
       "      <td>347.299817</td>\n",
       "      <td>...</td>\n",
       "      <td>116125.840777</td>\n",
       "      <td>53072.616597</td>\n",
       "      <td>0.000000</td>\n",
       "      <td>0.000000</td>\n",
       "      <td>-99.762868</td>\n",
       "      <td>-6.882605</td>\n",
       "      <td>1016.351576</td>\n",
       "      <td>NaN</td>\n",
       "      <td>347.299817</td>\n",
       "      <td>0.0</td>\n",
       "    </tr>\n",
       "    <tr>\n",
       "      <th>3598</th>\n",
       "      <td>21638</td>\n",
       "      <td>5a7d4493-c4c5-4559-b1fa-5e7178016085</td>\n",
       "      <td>118.100000</td>\n",
       "      <td>[115809.30899870368, 52978.01053242301]</td>\n",
       "      <td>-3.062476</td>\n",
       "      <td>[964.8409420397651, 319.3239553158931]</td>\n",
       "      <td>0.602044</td>\n",
       "      <td>{'o': 'stellarpunk.orders.GoToLocation', 'nnd'...</td>\n",
       "      <td>stellarpunk.orders.GoToLocation</td>\n",
       "      <td>330.367484</td>\n",
       "      <td>...</td>\n",
       "      <td>116125.840777</td>\n",
       "      <td>53072.616597</td>\n",
       "      <td>0.000000</td>\n",
       "      <td>0.000000</td>\n",
       "      <td>-99.687187</td>\n",
       "      <td>-7.903460</td>\n",
       "      <td>1016.309909</td>\n",
       "      <td>NaN</td>\n",
       "      <td>330.367484</td>\n",
       "      <td>0.0</td>\n",
       "    </tr>\n",
       "    <tr>\n",
       "      <th>3599</th>\n",
       "      <td>21639</td>\n",
       "      <td>5a7d4493-c4c5-4559-b1fa-5e7178016085</td>\n",
       "      <td>118.116667</td>\n",
       "      <td>[115825.38968107101, 52983.33259834494]</td>\n",
       "      <td>-3.052441</td>\n",
       "      <td>[-6.009179999837854, 20.22159339209697]</td>\n",
       "      <td>-0.087312</td>\n",
       "      <td>{'o': 'stellarpunk.orders.GoToLocation', 'nnd'...</td>\n",
       "      <td>stellarpunk.orders.GoToLocation</td>\n",
       "      <td>313.436586</td>\n",
       "      <td>...</td>\n",
       "      <td>116125.840777</td>\n",
       "      <td>53072.616597</td>\n",
       "      <td>0.000000</td>\n",
       "      <td>0.000000</td>\n",
       "      <td>-99.602866</td>\n",
       "      <td>-8.903313</td>\n",
       "      <td>21.095570</td>\n",
       "      <td>NaN</td>\n",
       "      <td>313.436586</td>\n",
       "      <td>0.0</td>\n",
       "    </tr>\n",
       "  </tbody>\n",
       "</table>\n",
       "<p>3600 rows × 37 columns</p>\n",
       "</div>"
      ],
      "text/plain": [
       "      index                                   eid          ts  \\\n",
       "0     18040  5a7d4493-c4c5-4559-b1fa-5e7178016085   58.133333   \n",
       "1     18041  5a7d4493-c4c5-4559-b1fa-5e7178016085   58.150000   \n",
       "2     18042  5a7d4493-c4c5-4559-b1fa-5e7178016085   58.166667   \n",
       "3     18043  5a7d4493-c4c5-4559-b1fa-5e7178016085   58.183333   \n",
       "4     18044  5a7d4493-c4c5-4559-b1fa-5e7178016085   58.200000   \n",
       "...     ...                                   ...         ...   \n",
       "3595  21635  5a7d4493-c4c5-4559-b1fa-5e7178016085  118.050000   \n",
       "3596  21636  5a7d4493-c4c5-4559-b1fa-5e7178016085  118.066667   \n",
       "3597  21637  5a7d4493-c4c5-4559-b1fa-5e7178016085  118.083333   \n",
       "3598  21638  5a7d4493-c4c5-4559-b1fa-5e7178016085  118.100000   \n",
       "3599  21639  5a7d4493-c4c5-4559-b1fa-5e7178016085  118.116667   \n",
       "\n",
       "                                           loc         a  \\\n",
       "0      [20730.00507776424, 21770.739140788522]  0.286937   \n",
       "1      [20757.71799357024, 21779.832475818865]  0.286937   \n",
       "2     [20785.430909376242, 21788.925810849207]  0.286937   \n",
       "3     [20813.143825182244, 21798.019145879545]  0.286937   \n",
       "4     [20840.856740988245, 21807.112480909887]  0.286937   \n",
       "...                                        ...       ...   \n",
       "3595   [115761.06299594746, 52962.04302549309] -3.093792   \n",
       "3596   [115777.1456561419, 52967.365745997085] -3.083151   \n",
       "3597   [115793.22765706065, 52972.68824830706] -3.072712   \n",
       "3598   [115809.30899870368, 52978.01053242301] -3.062476   \n",
       "3599   [115825.38968107101, 52983.33259834494] -3.052441   \n",
       "\n",
       "                                            v        av  \\\n",
       "0     [1662.7749483599844, 545.6001018204189]  0.000000   \n",
       "1     [1662.7749483599844, 545.6001018204189]  0.000000   \n",
       "2     [1662.7749483599844, 545.6001018204189]  0.000000   \n",
       "3     [1662.7749483599844, 545.6001018204188]  0.000000   \n",
       "4     [1662.7749483599844, 545.6001018204189]  0.000000   \n",
       "...                                       ...       ...   \n",
       "3595  [964.9596116666611, 319.36323023985733]  0.638465   \n",
       "3596   [964.9200551243624, 319.3501385985359]  0.626336   \n",
       "3597   [964.8804985820638, 319.3370469572145]  0.614196   \n",
       "3598   [964.8409420397651, 319.3239553158931]  0.602044   \n",
       "3599  [-6.009179999837854, 20.22159339209697] -0.087312   \n",
       "\n",
       "                                                      o  \\\n",
       "0     {'o': 'stellarpunk.orders.GoToLocation', 'nnd'...   \n",
       "1     {'o': 'stellarpunk.orders.GoToLocation', 'nnd'...   \n",
       "2     {'o': 'stellarpunk.orders.GoToLocation', 'nnd'...   \n",
       "3     {'o': 'stellarpunk.orders.GoToLocation', 'nnd'...   \n",
       "4     {'o': 'stellarpunk.orders.GoToLocation', 'nnd'...   \n",
       "...                                                 ...   \n",
       "3595  {'o': 'stellarpunk.orders.GoToLocation', 'nnd'...   \n",
       "3596  {'o': 'stellarpunk.orders.GoToLocation', 'nnd'...   \n",
       "3597  {'o': 'stellarpunk.orders.GoToLocation', 'nnd'...   \n",
       "3598  {'o': 'stellarpunk.orders.GoToLocation', 'nnd'...   \n",
       "3599  {'o': 'stellarpunk.orders.GoToLocation', 'nnd'...   \n",
       "\n",
       "                                  o.o         o.nnd  ...      o.t_loc.x  \\\n",
       "0     stellarpunk.orders.GoToLocation  19910.267302  ...  116125.840777   \n",
       "1     stellarpunk.orders.GoToLocation  19888.167363  ...  116125.840777   \n",
       "2     stellarpunk.orders.GoToLocation  19866.085661  ...  116125.840777   \n",
       "3     stellarpunk.orders.GoToLocation  19844.022257  ...  116125.840777   \n",
       "4     stellarpunk.orders.GoToLocation  19821.977210  ...  116125.840777   \n",
       "...                               ...           ...  ...            ...   \n",
       "3595  stellarpunk.orders.GoToLocation    381.168394  ...  116125.840777   \n",
       "3596  stellarpunk.orders.GoToLocation    364.233482  ...  116125.840777   \n",
       "3597  stellarpunk.orders.GoToLocation    347.299817  ...  116125.840777   \n",
       "3598  stellarpunk.orders.GoToLocation    330.367484  ...  116125.840777   \n",
       "3599  stellarpunk.orders.GoToLocation    313.436586  ...  116125.840777   \n",
       "\n",
       "         o.t_loc.y      o.t_v.x     o.t_v.y    angle.x    angle.y  \\\n",
       "0     53072.616597  1662.774948  545.600102  95.911534  28.301547   \n",
       "1     53072.616597  1662.774948  545.600102  95.911534  28.301547   \n",
       "2     53072.616597  1662.774948  545.600102  95.911534  28.301547   \n",
       "3     53072.616597  1662.774948  545.600102  95.911534  28.301547   \n",
       "4     53072.616597  1662.774948  545.600102  95.911534  28.301547   \n",
       "...            ...          ...         ...        ...        ...   \n",
       "3595  53072.616597     0.000000    0.000000 -99.885777  -4.778229   \n",
       "3596  53072.616597     0.000000    0.000000 -99.829278  -5.840831   \n",
       "3597  53072.616597     0.000000    0.000000 -99.762868  -6.882605   \n",
       "3598  53072.616597     0.000000    0.000000 -99.687187  -7.903460   \n",
       "3599  53072.616597     0.000000    0.000000 -99.602866  -8.903313   \n",
       "\n",
       "            speed o_ct_dist       o_t_dist  o_t_speed  \n",
       "0     1750.000000       NaN  100400.064747     1750.0  \n",
       "1     1750.000000       NaN  100370.898080     1750.0  \n",
       "2     1750.000000       NaN  100341.731413     1750.0  \n",
       "3     1750.000000       NaN  100312.564747     1750.0  \n",
       "4     1750.000000       NaN  100283.398080     1750.0  \n",
       "...           ...       ...            ...        ...  \n",
       "3595  1016.434909       NaN     381.168394        0.0  \n",
       "3596  1016.393243       NaN     364.233482        0.0  \n",
       "3597  1016.351576       NaN     347.299817        0.0  \n",
       "3598  1016.309909       NaN     330.367484        0.0  \n",
       "3599    21.095570       NaN     313.436586        0.0  \n",
       "\n",
       "[3600 rows x 37 columns]"
      ]
     },
     "execution_count": 7,
     "metadata": {},
     "output_type": "execute_result"
    }
   ],
   "source": [
    "df"
   ]
  },
  {
   "cell_type": "markdown",
   "id": "f1466d5c",
   "metadata": {},
   "source": [
    "# Basic Ship Vitals"
   ]
  },
  {
   "cell_type": "markdown",
   "id": "961cd0c1",
   "metadata": {},
   "source": [
    "## Position and Heading"
   ]
  },
  {
   "cell_type": "code",
   "execution_count": 8,
   "id": "cedd64b2",
   "metadata": {},
   "outputs": [
    {
     "data": {
      "application/vnd.jupyter.widget-view+json": {
       "model_id": "248668bfd4814f22a7ec95fde82ee0f4",
       "version_major": 2,
       "version_minor": 0
      },
      "text/plain": [
       "interactive(children=(FloatSlider(value=118.11666666666125, continuous_update=False, description='max_time', m…"
      ]
     },
     "metadata": {},
     "output_type": "display_data"
    },
    {
     "data": {
      "text/plain": [
       "<function __main__.plot_location_chart(max_time)>"
      ]
     },
     "execution_count": 8,
     "metadata": {},
     "output_type": "execute_result"
    }
   ],
   "source": [
    "def plot_location_chart(max_time):\n",
    "    sample = df[df[\"ts\"] <= max_time].iloc[::50]\n",
    "    plt.quiver(sample[\"loc.x\"], sample[\"loc.y\"], sample[\"angle.x\"], sample[\"angle.y\"])#, scale=100)\n",
    "    plt.scatter(sample[\"o.t_loc.x\"], sample[\"o.t_loc.y\"])\n",
    "    #center = (0,2500)\n",
    "    #radius = 10000\n",
    "    #plt.xlim(center[0]-radius,center[0]+radius)\n",
    "    #plt.ylim(center[1]-radius,center[1]+radius)\n",
    "\n",
    "ipywidgets.interact(plot_location_chart, max_time=ipywidgets.FloatSlider(value=df[\"ts\"].max(), min=df[\"ts\"].min(), max=df[\"ts\"].max(), continuous_update=False))"
   ]
  },
  {
   "cell_type": "code",
   "execution_count": 9,
   "id": "00d08d28",
   "metadata": {},
   "outputs": [
    {
     "data": {
      "text/plain": [
       "<matplotlib.collections.PathCollection at 0x7f9438d70be0>"
      ]
     },
     "execution_count": 9,
     "metadata": {},
     "output_type": "execute_result"
    },
    {
     "data": {
      "image/png": "[encoded data removed]",
      "text/plain": [
       "<Figure size 432x288 with 1 Axes>"
      ]
     },
     "metadata": {
      "needs_background": "light"
     },
     "output_type": "display_data"
    }
   ],
   "source": [
    "plt.scatter(df[\"ts\"], df[\"loc.x\"])\n",
    "plt.scatter(df[\"ts\"], df[\"loc.y\"])"
   ]
  },
  {
   "cell_type": "code",
   "execution_count": 10,
   "id": "ef292ad6",
   "metadata": {},
   "outputs": [
    {
     "data": {
      "text/plain": [
       "<matplotlib.legend.Legend at 0x7f9439557f40>"
      ]
     },
     "execution_count": 10,
     "metadata": {},
     "output_type": "execute_result"
    },
    {
     "data": {
      "image/png": "[encoded data removed]",
      "text/plain": [
       "<Figure size 432x288 with 1 Axes>"
      ]
     },
     "metadata": {
      "needs_background": "light"
     },
     "output_type": "display_data"
    }
   ],
   "source": [
    "\n",
    "plt.scatter(df[\"ts\"], df[\"a\"], label=\"theta\")\n",
    "plt.scatter(df[\"ts\"], df[\"av\"], label=\"omega\")\n",
    "plt.hlines(np.pi, df[\"ts\"].min(), df[\"ts\"].max(), color=\"red\")\n",
    "plt.hlines(0, df[\"ts\"].min(), df[\"ts\"].max(), color=\"red\")\n",
    "plt.legend()\n"
   ]
  },
  {
   "cell_type": "markdown",
   "id": "6c6fcdbe",
   "metadata": {},
   "source": [
    "## Velocity and Acceleration"
   ]
  },
  {
   "cell_type": "code",
   "execution_count": 11,
   "id": "6fc7f9b9",
   "metadata": {
    "scrolled": true
   },
   "outputs": [
    {
     "data": {
      "text/plain": [
       "<matplotlib.collections.PathCollection at 0x7f9439cf19c0>"
      ]
     },
     "execution_count": 11,
     "metadata": {},
     "output_type": "execute_result"
    },
    {
     "data": {
      "image/png": "[encoded data removed]",
      "text/plain": [
       "<Figure size 432x288 with 1 Axes>"
      ]
     },
     "metadata": {
      "needs_background": "light"
     },
     "output_type": "display_data"
    }
   ],
   "source": [
    "plt.scatter(df[\"ts\"], df[\"v.x\"])\n",
    "plt.scatter(df[\"ts\"], df[\"v.y\"])"
   ]
  },
  {
   "cell_type": "code",
   "execution_count": 12,
   "id": "2d5d2f83",
   "metadata": {
    "scrolled": true
   },
   "outputs": [
    {
     "data": {
      "image/png": "[encoded data removed]",
      "text/plain": [
       "<Figure size 432x288 with 1 Axes>"
      ]
     },
     "metadata": {
      "needs_background": "light"
     },
     "output_type": "display_data"
    }
   ],
   "source": [
    "#plt.scatter(df[\"ts\"], (df[\"v.x\"] - df[\"v.x\"].shift(-1)))#/(df[\"ts\"]-df[\"ts\"].shift(-1)))\n",
    "plt.scatter(df[\"ts\"], (df[\"v.x\"].shift(1) - df[\"v.x\"]) / (df[\"ts\"].shift(1) - df[\"ts\"]))\n",
    "plt.scatter(df[\"ts\"], (df[\"v.y\"].shift(1) - df[\"v.y\"]) / (df[\"ts\"].shift(1) - df[\"ts\"]))\n",
    "plt.yscale(\"symlog\")\n"
   ]
  },
  {
   "cell_type": "markdown",
   "id": "b202ee5f",
   "metadata": {},
   "source": [
    "# Behavior Monitoring"
   ]
  },
  {
   "cell_type": "code",
   "execution_count": 13,
   "id": "f4055702",
   "metadata": {},
   "outputs": [
    {
     "data": {
      "application/vnd.jupyter.widget-view+json": {
       "model_id": "90a0f890e46e4d62b078beede898dad2",
       "version_major": 2,
       "version_minor": 0
      },
      "text/plain": [
       "interactive(children=(FloatSlider(value=5.0, continuous_update=False, description='hist_length', max=59.983333…"
      ]
     },
     "metadata": {},
     "output_type": "display_data"
    },
    {
     "data": {
      "text/plain": [
       "<function __main__.plot_collision_info(hist_length, max_time)>"
      ]
     },
     "execution_count": 13,
     "metadata": {},
     "output_type": "execute_result"
    }
   ],
   "source": [
    "def plot_collision_info(hist_length, max_time):\n",
    "    sample = df[(df[\"ts\"] >= max_time - hist_length) & (df[\"ts\"] <= max_time)]\n",
    "    plt.scatter(sample[\"ts\"], (~(sample[\"o.ct\"].isna())).astype(int), label=\"ct\")\n",
    "    plt.scatter(sample[\"ts\"], sample[\"o.cs\"].fillna(0).astype(int)+0.05, label=\"cs\")\n",
    "    plt.scatter(sample[\"ts\"], sample[\"o.cac\"].fillna(0).astype(int)+0.1, label=\"cac\")\n",
    "    plt.scatter(sample[\"ts\"], sample[\"o.cbdr\"].fillna(0).astype(int)+0.15, label=\"cbdr\")\n",
    "    plt.legend()\n",
    "\n",
    "ipywidgets.interact(plot_collision_info, hist_length=ipywidgets.FloatSlider(value=5, min=0, max=df[\"ts\"].max()-df[\"ts\"].min(), continuous_update=False), max_time=ipywidgets.FloatSlider(value=df[\"ts\"].max(), min=df[\"ts\"].min(), max=df[\"ts\"].max()+1, continuous_update=False))"
   ]
  },
  {
   "cell_type": "markdown",
   "id": "f7ed62df",
   "metadata": {},
   "source": [
    "## Target Location"
   ]
  },
  {
   "cell_type": "code",
   "execution_count": 14,
   "id": "d8802176",
   "metadata": {},
   "outputs": [
    {
     "data": {
      "text/html": [
       "<div>\n",
       "<style scoped>\n",
       "    .dataframe tbody tr th:only-of-type {\n",
       "        vertical-align: middle;\n",
       "    }\n",
       "\n",
       "    .dataframe tbody tr th {\n",
       "        vertical-align: top;\n",
       "    }\n",
       "\n",
       "    .dataframe thead th {\n",
       "        text-align: right;\n",
       "    }\n",
       "</style>\n",
       "<table border=\"1\" class=\"dataframe\">\n",
       "  <thead>\n",
       "    <tr style=\"text-align: right;\">\n",
       "      <th></th>\n",
       "      <th></th>\n",
       "      <th>count</th>\n",
       "      <th>mean</th>\n",
       "      <th>std</th>\n",
       "      <th>min</th>\n",
       "      <th>25%</th>\n",
       "      <th>50%</th>\n",
       "      <th>75%</th>\n",
       "      <th>max</th>\n",
       "    </tr>\n",
       "    <tr>\n",
       "      <th>o.t_loc.x</th>\n",
       "      <th>o.t_loc.y</th>\n",
       "      <th></th>\n",
       "      <th></th>\n",
       "      <th></th>\n",
       "      <th></th>\n",
       "      <th></th>\n",
       "      <th></th>\n",
       "      <th></th>\n",
       "      <th></th>\n",
       "    </tr>\n",
       "  </thead>\n",
       "  <tbody>\n",
       "    <tr>\n",
       "      <th>116125.840777</th>\n",
       "      <th>53072.616597</th>\n",
       "      <td>3600.0</td>\n",
       "      <td>88.125</td>\n",
       "      <td>17.322914</td>\n",
       "      <td>58.133333</td>\n",
       "      <td>73.129167</td>\n",
       "      <td>88.125</td>\n",
       "      <td>103.120833</td>\n",
       "      <td>118.116667</td>\n",
       "    </tr>\n",
       "  </tbody>\n",
       "</table>\n",
       "</div>"
      ],
      "text/plain": [
       "                             count    mean        std        min        25%  \\\n",
       "o.t_loc.x     o.t_loc.y                                                       \n",
       "116125.840777 53072.616597  3600.0  88.125  17.322914  58.133333  73.129167   \n",
       "\n",
       "                               50%         75%         max  \n",
       "o.t_loc.x     o.t_loc.y                                     \n",
       "116125.840777 53072.616597  88.125  103.120833  118.116667  "
      ]
     },
     "execution_count": 14,
     "metadata": {},
     "output_type": "execute_result"
    }
   ],
   "source": [
    "if np.any(~df[\"o.t_loc\"].isna()):\n",
    "    x = df.groupby([\"o.t_loc.x\", \"o.t_loc.y\"])[\"ts\"].describe().sort_values([\"min\"])\n",
    "x"
   ]
  },
  {
   "cell_type": "code",
   "execution_count": 15,
   "id": "ee208520",
   "metadata": {
    "scrolled": true
   },
   "outputs": [
    {
     "data": {
      "text/html": [
       "<div>\n",
       "<style scoped>\n",
       "    .dataframe tbody tr th:only-of-type {\n",
       "        vertical-align: middle;\n",
       "    }\n",
       "\n",
       "    .dataframe tbody tr th {\n",
       "        vertical-align: top;\n",
       "    }\n",
       "\n",
       "    .dataframe thead th {\n",
       "        text-align: right;\n",
       "    }\n",
       "</style>\n",
       "<table border=\"1\" class=\"dataframe\">\n",
       "  <thead>\n",
       "    <tr style=\"text-align: right;\">\n",
       "      <th></th>\n",
       "      <th></th>\n",
       "      <th>count</th>\n",
       "      <th>mean</th>\n",
       "      <th>std</th>\n",
       "      <th>min</th>\n",
       "      <th>25%</th>\n",
       "      <th>50%</th>\n",
       "      <th>75%</th>\n",
       "      <th>max</th>\n",
       "    </tr>\n",
       "    <tr>\n",
       "      <th>o.t_loc.x</th>\n",
       "      <th>o.t_loc.y</th>\n",
       "      <th></th>\n",
       "      <th></th>\n",
       "      <th></th>\n",
       "      <th></th>\n",
       "      <th></th>\n",
       "      <th></th>\n",
       "      <th></th>\n",
       "      <th></th>\n",
       "    </tr>\n",
       "  </thead>\n",
       "  <tbody>\n",
       "    <tr>\n",
       "      <th>116125.840777</th>\n",
       "      <th>53072.616597</th>\n",
       "      <td>3600.0</td>\n",
       "      <td>48207.163117</td>\n",
       "      <td>29861.449585</td>\n",
       "      <td>313.436586</td>\n",
       "      <td>21671.939747</td>\n",
       "      <td>47914.64808</td>\n",
       "      <td>74157.356413</td>\n",
       "      <td>100400.064747</td>\n",
       "    </tr>\n",
       "  </tbody>\n",
       "</table>\n",
       "</div>"
      ],
      "text/plain": [
       "                             count          mean           std         min  \\\n",
       "o.t_loc.x     o.t_loc.y                                                      \n",
       "116125.840777 53072.616597  3600.0  48207.163117  29861.449585  313.436586   \n",
       "\n",
       "                                     25%          50%           75%  \\\n",
       "o.t_loc.x     o.t_loc.y                                               \n",
       "116125.840777 53072.616597  21671.939747  47914.64808  74157.356413   \n",
       "\n",
       "                                      max  \n",
       "o.t_loc.x     o.t_loc.y                    \n",
       "116125.840777 53072.616597  100400.064747  "
      ]
     },
     "execution_count": 15,
     "metadata": {},
     "output_type": "execute_result"
    }
   ],
   "source": [
    "if np.any(~df[\"o.t_loc\"].isna()):\n",
    "    x = df.groupby([\"o.t_loc.x\", \"o.t_loc.y\"])[\"o_t_dist\"].describe()\n",
    "x"
   ]
  },
  {
   "cell_type": "code",
   "execution_count": 27,
   "id": "16bc6a8b",
   "metadata": {},
   "outputs": [
    {
     "data": {
      "text/plain": [
       "(313.4365864889512, 313.4365864889512)"
      ]
     },
     "execution_count": 27,
     "metadata": {},
     "output_type": "execute_result"
    },
    {
     "data": {
      "image/png": "[encoded data removed]",
      "text/plain": [
       "<Figure size 432x288 with 1 Axes>"
      ]
     },
     "metadata": {
      "needs_background": "light"
     },
     "output_type": "display_data"
    }
   ],
   "source": [
    "plt.scatter(df[\"ts\"], df[\"o_t_dist\"])\n",
    "plt.hlines(1000, df[\"ts\"].min(), df[\"ts\"].max(), color=\"red\")\n",
    "df[\"o_t_dist\"].min(),df[df[\"ts\"] > df[\"ts\"].max()-1][\"o_t_dist\"].min()"
   ]
  },
  {
   "cell_type": "code",
   "execution_count": 28,
   "id": "fea08463",
   "metadata": {},
   "outputs": [
    {
     "data": {
      "text/plain": [
       "(0.0, 1837.5000000000005)"
      ]
     },
     "execution_count": 28,
     "metadata": {},
     "output_type": "execute_result"
    },
    {
     "data": {
      "image/png": "[encoded data removed]",
      "text/plain": [
       "<Figure size 432x288 with 1 Axes>"
      ]
     },
     "metadata": {
      "needs_background": "light"
     },
     "output_type": "display_data"
    }
   ],
   "source": [
    "plt.scatter(df[\"ts\"], df[\"speed\"], label=\"actual speed\")\n",
    "plt.scatter(df[\"ts\"], df[\"o_t_speed\"], label=\"desired speed\")\n",
    "plt.legend()\n",
    "plt.ylim(0)"
   ]
  },
  {
   "cell_type": "code",
   "execution_count": 18,
   "id": "c7beaa8d",
   "metadata": {
    "scrolled": true
   },
   "outputs": [
    {
     "data": {
      "text/plain": [
       "<matplotlib.collections.PathCollection at 0x7f94395ed630>"
      ]
     },
     "execution_count": 18,
     "metadata": {},
     "output_type": "execute_result"
    },
    {
     "data": {
      "image/png": "[encoded data removed]",
      "text/plain": [
       "<Figure size 432x288 with 1 Axes>"
      ]
     },
     "metadata": {
      "needs_background": "light"
     },
     "output_type": "display_data"
    }
   ],
   "source": [
    "plt.scatter(df[\"ts\"], df[\"o_t_speed\"] - df[\"speed\"])"
   ]
  },
  {
   "cell_type": "markdown",
   "id": "14ae4fa8",
   "metadata": {},
   "source": [
    "## Collision Avoidance"
   ]
  },
  {
   "cell_type": "code",
   "execution_count": 19,
   "id": "1b848a6f",
   "metadata": {},
   "outputs": [
    {
     "data": {
      "text/html": [
       "<div>\n",
       "<style scoped>\n",
       "    .dataframe tbody tr th:only-of-type {\n",
       "        vertical-align: middle;\n",
       "    }\n",
       "\n",
       "    .dataframe tbody tr th {\n",
       "        vertical-align: top;\n",
       "    }\n",
       "\n",
       "    .dataframe thead th {\n",
       "        text-align: right;\n",
       "    }\n",
       "</style>\n",
       "<table border=\"1\" class=\"dataframe\">\n",
       "  <thead>\n",
       "    <tr style=\"text-align: right;\">\n",
       "      <th></th>\n",
       "      <th>count</th>\n",
       "      <th>mean</th>\n",
       "      <th>std</th>\n",
       "      <th>min</th>\n",
       "      <th>25%</th>\n",
       "      <th>50%</th>\n",
       "      <th>75%</th>\n",
       "      <th>max</th>\n",
       "    </tr>\n",
       "    <tr>\n",
       "      <th>o.ct</th>\n",
       "      <th></th>\n",
       "      <th></th>\n",
       "      <th></th>\n",
       "      <th></th>\n",
       "      <th></th>\n",
       "      <th></th>\n",
       "      <th></th>\n",
       "      <th></th>\n",
       "    </tr>\n",
       "  </thead>\n",
       "  <tbody>\n",
       "    <tr>\n",
       "      <th>4052bf6f-e0d0-4a11-9c30-c6d19b014881</th>\n",
       "      <td>63.0</td>\n",
       "      <td>114.716667</td>\n",
       "      <td>0.305505</td>\n",
       "      <td>114.2</td>\n",
       "      <td>114.458333</td>\n",
       "      <td>114.716667</td>\n",
       "      <td>114.975</td>\n",
       "      <td>115.233333</td>\n",
       "    </tr>\n",
       "  </tbody>\n",
       "</table>\n",
       "</div>"
      ],
      "text/plain": [
       "                                      count        mean       std    min  \\\n",
       "o.ct                                                                       \n",
       "4052bf6f-e0d0-4a11-9c30-c6d19b014881   63.0  114.716667  0.305505  114.2   \n",
       "\n",
       "                                             25%         50%      75%  \\\n",
       "o.ct                                                                    \n",
       "4052bf6f-e0d0-4a11-9c30-c6d19b014881  114.458333  114.716667  114.975   \n",
       "\n",
       "                                             max  \n",
       "o.ct                                              \n",
       "4052bf6f-e0d0-4a11-9c30-c6d19b014881  115.233333  "
      ]
     },
     "execution_count": 19,
     "metadata": {},
     "output_type": "execute_result"
    }
   ],
   "source": [
    "if np.any(~df[\"o.ct\"].isna()):\n",
    "    x = df.groupby(\"o.ct\")[\"ts\"].describe()\n",
    "else:\n",
    "    x = \"no collision threats\"\n",
    "x"
   ]
  },
  {
   "cell_type": "code",
   "execution_count": 20,
   "id": "1d324fed",
   "metadata": {},
   "outputs": [
    {
     "data": {
      "text/html": [
       "<div>\n",
       "<style scoped>\n",
       "    .dataframe tbody tr th:only-of-type {\n",
       "        vertical-align: middle;\n",
       "    }\n",
       "\n",
       "    .dataframe tbody tr th {\n",
       "        vertical-align: top;\n",
       "    }\n",
       "\n",
       "    .dataframe thead th {\n",
       "        text-align: right;\n",
       "    }\n",
       "</style>\n",
       "<table border=\"1\" class=\"dataframe\">\n",
       "  <thead>\n",
       "    <tr style=\"text-align: right;\">\n",
       "      <th></th>\n",
       "      <th>count</th>\n",
       "      <th>mean</th>\n",
       "      <th>std</th>\n",
       "      <th>min</th>\n",
       "      <th>25%</th>\n",
       "      <th>50%</th>\n",
       "      <th>75%</th>\n",
       "      <th>max</th>\n",
       "    </tr>\n",
       "    <tr>\n",
       "      <th>o.ct</th>\n",
       "      <th></th>\n",
       "      <th></th>\n",
       "      <th></th>\n",
       "      <th></th>\n",
       "      <th></th>\n",
       "      <th></th>\n",
       "      <th></th>\n",
       "      <th></th>\n",
       "    </tr>\n",
       "  </thead>\n",
       "  <tbody>\n",
       "    <tr>\n",
       "      <th>4052bf6f-e0d0-4a11-9c30-c6d19b014881</th>\n",
       "      <td>63.0</td>\n",
       "      <td>3055.130247</td>\n",
       "      <td>338.440699</td>\n",
       "      <td>2479.79046</td>\n",
       "      <td>2769.314956</td>\n",
       "      <td>3056.617347</td>\n",
       "      <td>3342.223542</td>\n",
       "      <td>3622.330205</td>\n",
       "    </tr>\n",
       "  </tbody>\n",
       "</table>\n",
       "</div>"
      ],
      "text/plain": [
       "                                      count         mean         std  \\\n",
       "o.ct                                                                   \n",
       "4052bf6f-e0d0-4a11-9c30-c6d19b014881   63.0  3055.130247  338.440699   \n",
       "\n",
       "                                             min          25%          50%  \\\n",
       "o.ct                                                                         \n",
       "4052bf6f-e0d0-4a11-9c30-c6d19b014881  2479.79046  2769.314956  3056.617347   \n",
       "\n",
       "                                              75%          max  \n",
       "o.ct                                                            \n",
       "4052bf6f-e0d0-4a11-9c30-c6d19b014881  3342.223542  3622.330205  "
      ]
     },
     "execution_count": 20,
     "metadata": {},
     "output_type": "execute_result"
    }
   ],
   "source": [
    "if np.any(~df[\"o.ct\"].isna()):\n",
    "    x = df.groupby(\"o.ct\")[\"o_ct_dist\"].describe()\n",
    "else:\n",
    "    x = \"no collision threats\"\n",
    "x"
   ]
  },
  {
   "cell_type": "code",
   "execution_count": 21,
   "id": "00a4ef8e",
   "metadata": {},
   "outputs": [
    {
     "data": {
      "text/plain": [
       "(0.0, 3788.4467154193862)"
      ]
     },
     "execution_count": 21,
     "metadata": {},
     "output_type": "execute_result"
    },
    {
     "data": {
      "image/png": "[encoded data removed]",
      "text/plain": [
       "<Figure size 432x288 with 1 Axes>"
      ]
     },
     "metadata": {
      "needs_background": "light"
     },
     "output_type": "display_data"
    }
   ],
   "source": [
    "plt.scatter(df[\"ts\"], df[\"o_ct_dist\"])\n",
    "plt.hlines(300, df[\"ts\"].min(), df[\"ts\"].max(), color=\"red\")\n",
    "plt.ylim(0)"
   ]
  },
  {
   "cell_type": "code",
   "execution_count": 22,
   "id": "31bda86b",
   "metadata": {},
   "outputs": [
    {
     "data": {
      "text/plain": [
       "<matplotlib.collections.PathCollection at 0x7f943dcd97b0>"
      ]
     },
     "execution_count": 22,
     "metadata": {},
     "output_type": "execute_result"
    },
    {
     "data": {
      "image/png": "[encoded data removed]",
      "text/plain": [
       "<Figure size 432x288 with 2 Axes>"
      ]
     },
     "metadata": {
      "needs_background": "light"
     },
     "output_type": "display_data"
    }
   ],
   "source": [
    "fig, ax1 = plt.subplots()\n",
    "ax2 = ax1.twinx()\n",
    "\n",
    "ax1.scatter(df[\"ts\"], 1-df[\"o.ct\"].isna().astype(int))\n",
    "ax2.scatter(df[\"ts\"], df[\"ts\"] - df[\"o.ct_ts\"], color=\"orange\")\n",
    "\n",
    "#ax2.set_ylim(0,(df[\"ts\"] - df[\"o.ct_ts\"]).max()*1.2)"
   ]
  },
  {
   "cell_type": "markdown",
   "id": "b306baad",
   "metadata": {},
   "source": [
    "# History Visualization"
   ]
  },
  {
   "cell_type": "markdown",
   "id": "59fa6e29",
   "metadata": {},
   "source": [
    "## Position and Velocity"
   ]
  },
  {
   "cell_type": "code",
   "execution_count": 23,
   "id": "75104adc",
   "metadata": {},
   "outputs": [
    {
     "data": {
      "application/vnd.jupyter.widget-view+json": {
       "model_id": "68f625c71de84430807a0d7ff97cfd3a",
       "version_major": 2,
       "version_minor": 0
      },
      "text/plain": [
       "interactive(children=(FloatSlider(value=5.0, continuous_update=False, description='hist_length', max=59.983333…"
      ]
     },
     "metadata": {},
     "output_type": "display_data"
    },
    {
     "data": {
      "text/plain": [
       "<function __main__.plot_collision_chart(hist_length=118.11666666666125, max_time=118.11666666666125)>"
      ]
     },
     "execution_count": 23,
     "metadata": {},
     "output_type": "execute_result"
    }
   ],
   "source": [
    "def plot_collision_chart(hist_length=df[\"ts\"].max(), max_time=df[\"ts\"].max()):\n",
    "    plt.figure(figsize=(10, 10))\n",
    "    sample = df[(df[\"ts\"] >= max_time - hist_length) & (df[\"ts\"] <= max_time)].iloc[::20]\n",
    "    plt.quiver(sample[\"loc.x\"], sample[\"loc.y\"], sample[\"v.x\"], sample[\"v.y\"], label=\"v\")\n",
    "    ctdv_df = sample[~(sample[\"o.ct_dv\"].isna())]\n",
    "    plt.quiver(ctdv_df[\"loc.x\"], ctdv_df[\"loc.y\"], ctdv_df[\"o.ct_dv.x\"], ctdv_df[\"o.ct_dv.y\"], label=\"ctdv\", color=\"orange\")\n",
    "    plt.quiver(sample[\"loc.x\"], sample[\"loc.y\"], sample[\"o.t_v.x\"], sample[\"o.t_v.y\"], label=\"tv\", color=\"purple\")\n",
    "    cmap = plt.get_cmap('viridis')\n",
    "    for x, c in zip(df[\"o.ct\"].unique(), cmap(np.linspace(0, 1, len(df[\"o.ct\"].unique())))):\n",
    "        if not isinstance(x, str):\n",
    "            continue\n",
    "        ct = sample[sample[\"o.ct\"] == x]\n",
    "        if len(ct) == 0:\n",
    "            continue\n",
    "        plt.scatter(ct[\"o.ct_loc.x\"], ct[\"o.ct_loc.y\"], color=c, label=x[:8])\n",
    "    plt.scatter(sample[\"o.t_loc.x\"], sample[\"o.t_loc.y\"], label=\"t_loc\")\n",
    "    plt.axis('equal')\n",
    "    #center = (-33555, -5000)\n",
    "    #radius = 15000\n",
    "    #plt.xlim(center[0]-radius,center[0]+radius)\n",
    "    #plt.ylim(center[1]-radius,center[1]+radius)\n",
    "\n",
    "    plt.legend()\n",
    "    plt.show()\n",
    "    \n",
    "ipywidgets.interact(plot_collision_chart, hist_length=ipywidgets.FloatSlider(value=5, min=0, max=df[\"ts\"].max()-df[\"ts\"].min(), continuous_update=False), max_time=ipywidgets.FloatSlider(value=df[\"ts\"].max(), min=df[\"ts\"].min(), max=df[\"ts\"].max(), continuous_update=False))"
   ]
  },
  {
   "cell_type": "markdown",
   "id": "ba39fb82",
   "metadata": {},
   "source": [
    "## Position and Heading"
   ]
  },
  {
   "cell_type": "code",
   "execution_count": 24,
   "id": "18a65601",
   "metadata": {},
   "outputs": [
    {
     "data": {
      "application/vnd.jupyter.widget-view+json": {
       "model_id": "90ebd20385564c0b9e0496be9485d9db",
       "version_major": 2,
       "version_minor": 0
      },
      "text/plain": [
       "interactive(children=(FloatSlider(value=5.0, continuous_update=False, description='hist_length', max=59.983333…"
      ]
     },
     "metadata": {},
     "output_type": "display_data"
    },
    {
     "data": {
      "text/plain": [
       "<function __main__.plot_collision_chart(hist_length=118.11666666666125, max_time=118.11666666666125)>"
      ]
     },
     "execution_count": 24,
     "metadata": {},
     "output_type": "execute_result"
    }
   ],
   "source": [
    "def plot_collision_chart(hist_length=df[\"ts\"].max(), max_time=df[\"ts\"].max()):\n",
    "    sample = df[(df[\"ts\"] >= max_time - hist_length) & (df[\"ts\"] <= max_time)].iloc[::20]\n",
    "    plt.quiver(sample[\"loc.x\"], sample[\"loc.y\"], sample[\"angle.x\"], sample[\"angle.y\"], label=\"ship\")\n",
    "    ctdv_df = sample[~(sample[\"o.ct_dv\"].isna())]\n",
    "    plt.quiver(ctdv_df[\"loc.x\"], ctdv_df[\"loc.y\"], ctdv_df[\"o.ct_dv.x\"], ctdv_df[\"o.ct_dv.y\"], label=\"ctdv\", color=\"orange\")\n",
    "    plt.quiver(sample[\"loc.x\"], sample[\"loc.y\"], sample[\"o.t_v.x\"], sample[\"o.t_v.y\"], label=\"tv\", color=\"purple\")\n",
    "    cmap = plt.get_cmap('viridis')\n",
    "    for x, c in zip(df[\"o.ct\"].unique(), cmap(np.linspace(0, 1, len(sample[\"o.ct\"].unique())))):\n",
    "        if not isinstance(x, str):\n",
    "            continue\n",
    "        ct = sample[sample[\"o.ct\"] == x]\n",
    "        plt.scatter(ct[\"o.ct_loc.x\"], ct[\"o.ct_loc.y\"], color=c, label=x[:8])\n",
    "    plt.scatter(sample[\"o.t_loc.x\"], sample[\"o.t_loc.y\"], label=\"t_loc\")\n",
    "    #plt.axis('square')\n",
    "    #center = (-33555, -5000)\n",
    "    #radius = 15000\n",
    "    #plt.xlim(center[0]-radius,center[0]+radius)\n",
    "    #plt.ylim(center[1]-radius,center[1]+radius)\n",
    "\n",
    "    plt.legend()\n",
    "    plt.axis('equal')\n",
    "    plt.show()\n",
    "    \n",
    "ipywidgets.interact(plot_collision_chart, hist_length=ipywidgets.FloatSlider(value=5, min=0, max=df[\"ts\"].max()-df[\"ts\"].min(), continuous_update=False), max_time=ipywidgets.FloatSlider(value=df[\"ts\"].max(), min=df[\"ts\"].min(), max=df[\"ts\"].max(), continuous_update=False))"
   ]
  },
  {
   "cell_type": "markdown",
   "id": "199f71fb",
   "metadata": {},
   "source": [
    "# "
   ]
  }
 ],
 "metadata": {
  "kernelspec": {
   "display_name": "Python 3 (ipykernel)",
   "language": "python",
   "name": "python3"
  },
  "language_info": {
   "codemirror_mode": {
    "name": "ipython",
    "version": 3
   },
   "file_extension": ".py",
   "mimetype": "text/x-python",
   "name": "python",
   "nbconvert_exporter": "python",
   "pygments_lexer": "ipython3",
   "version": "3.10.1"
  }
 },
 "nbformat": 4,
 "nbformat_minor": 5
}
