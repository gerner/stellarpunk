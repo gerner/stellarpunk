{
 "cells": [
  {
   "cell_type": "code",
   "execution_count": 1,
   "id": "9c5bbe2a",
   "metadata": {},
   "outputs": [],
   "source": [
    "import json\n",
    "\n",
    "import pandas as pd\n",
    "import numpy as np\n",
    "from matplotlib import pyplot as plt\n",
    "import ipywidgets\n",
    "\n",
    "from stellarpunk import util"
   ]
  },
  {
   "cell_type": "markdown",
   "id": "d6d53462",
   "metadata": {},
   "source": [
    "# Loading and Preparing Data"
   ]
  },
  {
   "cell_type": "code",
   "execution_count": 2,
   "id": "ceb18552",
   "metadata": {},
   "outputs": [],
   "source": [
    "df_base = pd.read_json(\"/tmp/stellarpunk.history.gz\", lines=True)\n",
    "df_base = df_base.join(pd.json_normalize(df_base[\"o\"]).add_prefix(\"o.\"))"
   ]
  },
  {
   "cell_type": "code",
   "execution_count": 3,
   "id": "1585e6a6",
   "metadata": {},
   "outputs": [
    {
     "data": {
      "text/plain": [
       "0      194eac00-7cde-4938-b7e4-ecf74aaf8942\n",
       "1      fb5c0c14-30be-4967-bf54-b9d8fd6e31cc\n",
       "2      f1856490-765f-4598-a452-16c809060a4b\n",
       "3      e4f4db84-4225-4f58-99f6-407b23f6b1be\n",
       "4      6aeb3969-ae36-4aff-858b-2bb84c2eb696\n",
       "                       ...                 \n",
       "322    6b72ca42-8710-4c1a-931e-ebc0744a2518\n",
       "323    8f4147ae-6fd6-4318-adb3-443831ce93a4\n",
       "324    07ff1121-d9d3-4285-bdaa-5af918ecd655\n",
       "325    c31f2d24-f7c0-485e-8dad-a6d7d752f2c1\n",
       "326    489fca7e-84c8-4f91-8bec-116d2d876ce7\n",
       "Length: 327, dtype: object"
      ]
     },
     "execution_count": 3,
     "metadata": {},
     "output_type": "execute_result"
    }
   ],
   "source": [
    "eids = pd.Series(df_base[\"eid\"].unique())\n",
    "eids"
   ]
  },
  {
   "cell_type": "code",
   "execution_count": 4,
   "id": "288e3f1e",
   "metadata": {},
   "outputs": [
    {
     "data": {
      "text/plain": [
       "277    35220c57-5f3d-475c-851e-9e1838dff215\n",
       "dtype: object"
      ]
     },
     "execution_count": 4,
     "metadata": {},
     "output_type": "execute_result"
    }
   ],
   "source": [
    "targets = eids[pd.Series(df_base[\"eid\"].unique()).str.startswith(\"3522\")]\n",
    "targets"
   ]
  },
  {
   "cell_type": "code",
   "execution_count": 5,
   "id": "caf3fedb",
   "metadata": {},
   "outputs": [],
   "source": [
    "target_index = targets.index[0]"
   ]
  },
  {
   "cell_type": "code",
   "execution_count": 6,
   "id": "c9be6491",
   "metadata": {},
   "outputs": [
    {
     "data": {
      "text/plain": [
       "array(['35220c57-5f3d-475c-851e-9e1838dff215'], dtype=object)"
      ]
     },
     "execution_count": 6,
     "metadata": {},
     "output_type": "execute_result"
    }
   ],
   "source": [
    "target_eid = df_base[\"eid\"].unique()[target_index]\n",
    "df_base = df_base[df_base[\"eid\"] == target_eid].reset_index()\n",
    "df_base[\"eid\"].unique()"
   ]
  },
  {
   "cell_type": "code",
   "execution_count": 7,
   "id": "b77f957c",
   "metadata": {},
   "outputs": [],
   "source": [
    "loc = pd.DataFrame(np.vstack(df_base[\"loc\"]), columns=[\"loc.x\", \"loc.y\"])\n",
    "v = pd.DataFrame(np.vstack(df_base[\"v\"]), columns=[\"v.x\", \"v.y\"])\n",
    "\n",
    "empty_array = np.empty(len(df_base))\n",
    "empty_array[:] = np.nan\n",
    "\n",
    "if \"o.t_loc\" in df_base:\n",
    "    o_tloc = pd.DataFrame(np.vstack(df_base[\"o.t_loc\"].apply(lambda x: (np.nan, np.nan) if np.all(np.isnan(x)) else x)), columns=[\"o.t_loc.x\", \"o.t_loc.y\"])\n",
    "    o_tv = pd.DataFrame(np.vstack(df_base[\"o.t_v\"].apply(lambda x: (np.nan, np.nan) if np.all(np.isnan(x)) else x)), columns=[\"o.t_v.x\", \"o.t_v.y\"])\n",
    "else:\n",
    "    o_tloc = pd.DataFrame({\"o.t_loc\": empty_array, \"o.t_loc.x\": empty_array, \"o.t_loc.y\": empty_array})\n",
    "    o_tv = pd.DataFrame({\"o.t_v\": empty_array, \"o.t_v.x\": empty_array, \"o.t_v.y\": empty_array})\n",
    "o_dv = pd.DataFrame(np.vstack(df_base[\"o._dv\"].apply(lambda x: (np.nan, np.nan) if np.all(np.isnan(x)) else x)), columns=[\"o._dv.x\", \"o._dv.y\"])\n",
    "    \n",
    "if \"o.ct\" in df_base:\n",
    "    o_ctloc = pd.DataFrame(np.vstack(df_base[\"o.ct_loc\"].apply(lambda x: (np.nan, np.nan) if np.all(np.isnan(x)) else x)), columns=[\"o.ct_loc.x\", \"o.ct_loc.y\"])\n",
    "    o_ctdv = pd.DataFrame(np.vstack(df_base[\"o.ct_dv\"].apply(lambda x: (np.nan, np.nan) if np.all(np.isnan(x)) else x)), columns=[\"o.ct_dv.x\", \"o.ct_dv.y\"])\n",
    "    o_ctv = pd.DataFrame(np.vstack(df_base[\"o.ct_v\"].apply(lambda x: (np.nan, np.nan) if np.all(np.isnan(x)) else x)), columns=[\"o.ct_v.x\", \"o.ct_v.y\"])\n",
    "    o_ctcloc = pd.DataFrame(np.vstack(df_base[\"o.ct_cloc\"].apply(lambda x: (np.nan, np.nan) if np.all(np.isnan(x)) else x)), columns=[\"o.ct_cloc.x\", \"o.ct_cloc.y\"])\n",
    "else:\n",
    "    o_ctloc = pd.DataFrame({\"o.ct_loc\": empty_array, \"o.ct_loc.x\": empty_array, \"o.ct_loc.y\": empty_array})\n",
    "    o_ctdv = pd.DataFrame({\"o.ct_dv\": empty_array, \"o.ct_dv.x\": empty_array, \"o.ct_dv.y\": empty_array})\n",
    "    o_ctv = pd.DataFrame({\"o.ct_v\": empty_array, \"o.ct_v.x\": empty_array, \"o.ct_v.y\": empty_array})\n",
    "    o_ctcloc = pd.DataFrame({\"o.ct_cloc\": empty_array, \"o.ct_cloc.x\": empty_array, \"o.ct_cloc.y\": empty_array})\n",
    "angle = pd.DataFrame(np.vstack(df_base.apply(lambda row: np.array(util.polar_to_cartesian(100, row[\"a\"])), axis=1)), columns=[\"angle.x\", \"angle.y\"])\n",
    "desired_angle = pd.DataFrame(np.vstack(df_base.apply(lambda row: np.array(util.polar_to_cartesian(100, row[\"o._ada\"])), axis=1)), columns=[\"_ada.x\", \"_ada.y\"])\n",
    "df = pd.concat([df_base, loc, v, o_ctloc, o_ctcloc, o_ctdv, o_ctv, o_tloc, o_tv, o_dv, angle, desired_angle], axis=1)\n",
    "\n",
    "if \"o.ct\" not in df_base:\n",
    "    df[\"o.ct\"] = empty_array\n",
    "    df[\"o.ct_ts\"] = empty_array\n",
    "    df[\"o.cac\"] = empty_array\n",
    "    df[\"o.cbdr\"] = empty_array\n",
    "    df[\"o.cbdr_hist\"] = empty_array\n",
    "    df[\"o.ct_ct\"] = empty_array\n",
    "    df[\"o.ct_cradius\"] = empty_array\n",
    "    df[\"o.nd\"] = empty_array\n",
    "    df[\"o.ct_dist\"] = empty_array\n",
    "else:\n",
    "    df[\"o.ct_dist\"] = np.linalg.norm(np.vstack(df[\"loc\"]) - np.vstack(df[\"o.ct_cloc\"].apply(lambda x: (np.nan, np.nan) if np.all(np.isnan(x)) else x)), axis=1)\n",
    "    \n",
    "if \"o.t_loc\" not in df_base:\n",
    "    df[\"o.cs\"] = empty_array\n",
    "    df[\"o.t_dist\"] = empty_array\n",
    "else:\n",
    "    df[\"o.t_dist\"] = np.linalg.norm(np.vstack(df[\"loc\"]) - np.vstack(df[\"o.t_loc\"].apply(lambda x: (np.nan, np.nan) if np.all(np.isnan(x)) else x)), axis=1)\n",
    "    \n"
   ]
  },
  {
   "cell_type": "code",
   "execution_count": 8,
   "id": "81413445",
   "metadata": {},
   "outputs": [],
   "source": [
    "df[\"f\"] = df[\"f\"].apply(lambda x: [x[\"x\"],x[\"y\"]])"
   ]
  },
  {
   "cell_type": "code",
   "execution_count": 9,
   "id": "6e17314e",
   "metadata": {},
   "outputs": [],
   "source": [
    "df[\"speed\"] = np.linalg.norm(df[[\"v.x\", \"v.y\"]], axis=1)\n",
    "df[\"o.t_speed\"] = np.linalg.norm(df[[\"o.t_v.x\", \"o.t_v.y\"]], axis=1)\n",
    "df[\"o._dv_speed\"] = np.linalg.norm(df[[\"o._dv.x\", \"o._dv.y\"]], axis=1)\n",
    "df[\"f_mag\"] = df[\"f\"].apply(lambda x:np.linalg.norm(x))"
   ]
  },
  {
   "cell_type": "code",
   "execution_count": 10,
   "id": "39640462",
   "metadata": {},
   "outputs": [],
   "source": [
    "#df[\"o.ct_v.x\"] = (df[\"o.ct_loc.x\"].shift(1) - df[\"o.ct_loc.x\"]) / (df[\"ts\"].shift(1) - df[\"ts\"])\n",
    "#df[\"o.ct_v.y\"] = (df[\"o.ct_loc.y\"].shift(1) - df[\"o.ct_loc.y\"]) / (df[\"ts\"].shift(1) - df[\"ts\"])"
   ]
  },
  {
   "cell_type": "code",
   "execution_count": 11,
   "id": "34fd5383",
   "metadata": {},
   "outputs": [],
   "source": [
    "df[\"o.max_speed_cap\"] = (df[\"o.msc\"]*(1+df[\"o.msc_a\"])**(df[\"ts\"] - df[\"o.msc_ts\"])).clip(upper=3000)"
   ]
  },
  {
   "cell_type": "code",
   "execution_count": 12,
   "id": "a703dac7",
   "metadata": {},
   "outputs": [
    {
     "data": {
      "text/plain": [
       "{'o': 'stellarpunk.orders.movement.GoToLocation',\n",
       " 'ct': '05324c26-5215-4c71-9ed2-a36bad573230',\n",
       " 'ct_ms': 29.78643743652466,\n",
       " 'ct_loc': [57080.48046875, 418752.0],\n",
       " 'ct_v': [0.0, 0.0],\n",
       " 'ct_ts': 435.2632798865824,\n",
       " 'ct_at': 3.195882437076931,\n",
       " 'ct_dv': [28.09380889784287, -2999.8684534328518],\n",
       " 'ct_tc': 0.0,\n",
       " 'ct_ct': 1,\n",
       " 'ct_cloc': [57080.48046875, 418752.0],\n",
       " 'ct_cradius': 300.0,\n",
       " 'ct_cn': [[57080.48046875, 418752.0]],\n",
       " 'ct_dv_override': False,\n",
       " 'cac': True,\n",
       " 'cach': True,\n",
       " 'cbdr': False,\n",
       " 'cbdr_hist': [[40.6875, 738.21875], [-2.47265625, 264.03125]],\n",
       " 'nd': 8.488263631567751e-09,\n",
       " 'nnd': 264.04282797586677,\n",
       " '_nact': 438.18563105820806,\n",
       " '_ada': -1.5614315869508402,\n",
       " 't_loc': [57574.21635689385, 417177.6033305552],\n",
       " 'ad': 650.0,\n",
       " 'md': 0.0,\n",
       " 't_v': [35.10458819953946, -93.6358258752533],\n",
       " 'cs': False,\n",
       " 'scm': 200.0,\n",
       " '_ncts': 437.6442322675348,\n",
       " '_dv': [50.37410522352646, -2785.7546228664455],\n",
       " 'msc': 100.0,\n",
       " 'msc_ts': 437.62994655324906,\n",
       " 'msc_a': 0.2}"
      ]
     },
     "execution_count": 12,
     "metadata": {},
     "output_type": "execute_result"
    }
   ],
   "source": [
    "df.iloc[-1][\"o\"]"
   ]
  },
  {
   "cell_type": "markdown",
   "id": "a6d3cf5e",
   "metadata": {},
   "source": [
    "# Basic Ship Vitals"
   ]
  },
  {
   "cell_type": "markdown",
   "id": "36730903",
   "metadata": {},
   "source": [
    "## Position and Heading"
   ]
  },
  {
   "cell_type": "code",
   "execution_count": 13,
   "id": "665329e8",
   "metadata": {},
   "outputs": [
    {
     "data": {
      "application/vnd.jupyter.widget-view+json": {
       "model_id": "04d3347a53354b69aedb97c1d543b4c2",
       "version_major": 2,
       "version_minor": 0
      },
      "text/plain": [
       "interactive(children=(FloatSlider(value=437.6632798865824, continuous_update=False, description='max_time', ma…"
      ]
     },
     "metadata": {},
     "output_type": "display_data"
    },
    {
     "data": {
      "text/plain": [
       "<function __main__.plot_location_chart(max_time)>"
      ]
     },
     "execution_count": 13,
     "metadata": {},
     "output_type": "execute_result"
    }
   ],
   "source": [
    "def plot_location_chart(max_time):\n",
    "    sample = df[df[\"ts\"] <= max_time].iloc[::50]\n",
    "    plt.quiver(sample[\"loc.x\"], sample[\"loc.y\"], sample[\"angle.x\"], sample[\"angle.y\"])#, scale=100)\n",
    "    plt.scatter(sample[\"o.t_loc.x\"], sample[\"o.t_loc.y\"])\n",
    "    #center = (0,2500)\n",
    "    #radius = 10000\n",
    "    #plt.xlim(center[0]-radius,center[0]+radius)\n",
    "    #plt.ylim(center[1]-radius,center[1]+radius)\n",
    "\n",
    "ipywidgets.interact(plot_location_chart, max_time=ipywidgets.FloatSlider(value=df[\"ts\"].max(), min=df[\"ts\"].min(), max=df[\"ts\"].max(), continuous_update=False))"
   ]
  },
  {
   "cell_type": "code",
   "execution_count": 14,
   "id": "ed1c2ca3",
   "metadata": {},
   "outputs": [
    {
     "data": {
      "text/html": [
       "<div>\n",
       "<style scoped>\n",
       "    .dataframe tbody tr th:only-of-type {\n",
       "        vertical-align: middle;\n",
       "    }\n",
       "\n",
       "    .dataframe tbody tr th {\n",
       "        vertical-align: top;\n",
       "    }\n",
       "\n",
       "    .dataframe thead th {\n",
       "        text-align: right;\n",
       "    }\n",
       "</style>\n",
       "<table border=\"1\" class=\"dataframe\">\n",
       "  <thead>\n",
       "    <tr style=\"text-align: right;\">\n",
       "      <th></th>\n",
       "      <th>loc.x</th>\n",
       "      <th>loc.y</th>\n",
       "    </tr>\n",
       "  </thead>\n",
       "  <tbody>\n",
       "    <tr>\n",
       "      <th>count</th>\n",
       "      <td>610.000000</td>\n",
       "      <td>610.000000</td>\n",
       "    </tr>\n",
       "    <tr>\n",
       "      <th>mean</th>\n",
       "      <td>190291.218891</td>\n",
       "      <td>109439.504726</td>\n",
       "    </tr>\n",
       "    <tr>\n",
       "      <th>std</th>\n",
       "      <td>59015.673559</td>\n",
       "      <td>103733.573531</td>\n",
       "    </tr>\n",
       "    <tr>\n",
       "      <th>min</th>\n",
       "      <td>52502.804688</td>\n",
       "      <td>34700.835938</td>\n",
       "    </tr>\n",
       "    <tr>\n",
       "      <th>25%</th>\n",
       "      <td>179817.457031</td>\n",
       "      <td>40316.280273</td>\n",
       "    </tr>\n",
       "    <tr>\n",
       "      <th>50%</th>\n",
       "      <td>182133.898438</td>\n",
       "      <td>69987.156250</td>\n",
       "    </tr>\n",
       "    <tr>\n",
       "      <th>75%</th>\n",
       "      <td>228516.027344</td>\n",
       "      <td>124192.123047</td>\n",
       "    </tr>\n",
       "    <tr>\n",
       "      <th>max</th>\n",
       "      <td>282167.781250</td>\n",
       "      <td>418487.968750</td>\n",
       "    </tr>\n",
       "  </tbody>\n",
       "</table>\n",
       "</div>"
      ],
      "text/plain": [
       "               loc.x          loc.y\n",
       "count     610.000000     610.000000\n",
       "mean   190291.218891  109439.504726\n",
       "std     59015.673559  103733.573531\n",
       "min     52502.804688   34700.835938\n",
       "25%    179817.457031   40316.280273\n",
       "50%    182133.898438   69987.156250\n",
       "75%    228516.027344  124192.123047\n",
       "max    282167.781250  418487.968750"
      ]
     },
     "execution_count": 14,
     "metadata": {},
     "output_type": "execute_result"
    }
   ],
   "source": [
    "df[[\"loc.x\", \"loc.y\"]].describe()"
   ]
  },
  {
   "cell_type": "code",
   "execution_count": 15,
   "id": "e0f37c4c",
   "metadata": {},
   "outputs": [
    {
     "data": {
      "text/plain": [
       "Text(0.5, 1.0, 'position')"
      ]
     },
     "execution_count": 15,
     "metadata": {},
     "output_type": "execute_result"
    },
    {
     "data": {
      "image/png": "[encoded data removed]",
      "text/plain": [
       "<Figure size 432x288 with 1 Axes>"
      ]
     },
     "metadata": {
      "needs_background": "light"
     },
     "output_type": "display_data"
    }
   ],
   "source": [
    "plt.scatter(df[\"ts\"], df[\"loc.x\"])\n",
    "plt.scatter(df[\"ts\"], df[\"loc.y\"])\n",
    "plt.title(\"position\")"
   ]
  },
  {
   "cell_type": "code",
   "execution_count": 16,
   "id": "b65fd521",
   "metadata": {},
   "outputs": [
    {
     "data": {
      "application/vnd.jupyter.widget-view+json": {
       "model_id": "0fa2852576de4149b81aeb3af4bc45b0",
       "version_major": 2,
       "version_minor": 0
      },
      "text/plain": [
       "interactive(children=(FloatSlider(value=15.0, continuous_update=False, description='hist_length', max=437.3299…"
      ]
     },
     "metadata": {},
     "output_type": "display_data"
    },
    {
     "data": {
      "text/plain": [
       "<function __main__.plot_heading(hist_length, max_time)>"
      ]
     },
     "execution_count": 16,
     "metadata": {},
     "output_type": "execute_result"
    }
   ],
   "source": [
    "def plot_heading(hist_length, max_time):\n",
    "    sample = df[(df[\"ts\"] >= max_time - hist_length) & (df[\"ts\"] <= max_time)]\n",
    "    plt.scatter(sample[\"ts\"], sample[\"a\"].apply(lambda x: util.normalize_angle(x, shortest=True)), label=\"theta\")\n",
    "    plt.scatter(sample[\"ts\"], sample[\"av\"], label=\"omega\")\n",
    "    plt.scatter(sample[\"ts\"], sample[\"o._ada\"].apply(lambda x: util.normalize_angle(x, shortest=True)), label=\"desired theta\")\n",
    "    plt.hlines(np.pi, sample[\"ts\"].min(), sample[\"ts\"].max(), color=\"red\")\n",
    "    plt.hlines(0, sample[\"ts\"].min(), sample[\"ts\"].max(), color=\"red\")\n",
    "    plt.legend()\n",
    "    plt.title(\"heading and angular velocity\")\n",
    "    \n",
    "ipywidgets.interact(plot_heading, hist_length=ipywidgets.FloatSlider(value=15, min=0, max=df[\"ts\"].max()-df[\"ts\"].min(), continuous_update=False), max_time=ipywidgets.FloatSlider(value=df[\"ts\"].max(), min=df[\"ts\"].min(), max=df[\"ts\"].max()+.1, continuous_update=False))"
   ]
  },
  {
   "cell_type": "code",
   "execution_count": 17,
   "id": "e1a4515d",
   "metadata": {},
   "outputs": [
    {
     "data": {
      "text/plain": [
       "<matplotlib.collections.PathCollection at 0x7fb6b7d83880>"
      ]
     },
     "execution_count": 17,
     "metadata": {},
     "output_type": "execute_result"
    },
    {
     "data": {
      "image/png": "[encoded data removed]",
      "text/plain": [
       "<Figure size 432x288 with 1 Axes>"
      ]
     },
     "metadata": {
      "needs_background": "light"
     },
     "output_type": "display_data"
    }
   ],
   "source": [
    "plt.scatter(df[\"ts\"], df[\"t\"])"
   ]
  },
  {
   "cell_type": "code",
   "execution_count": 18,
   "id": "f22420e0",
   "metadata": {},
   "outputs": [
    {
     "data": {
      "text/plain": [
       "False    455\n",
       "True     155\n",
       "Name: t, dtype: int64"
      ]
     },
     "execution_count": 18,
     "metadata": {},
     "output_type": "execute_result"
    }
   ],
   "source": [
    "(df[\"t\"] == 0).value_counts()"
   ]
  },
  {
   "cell_type": "code",
   "execution_count": 19,
   "id": "fa4f825a",
   "metadata": {},
   "outputs": [
    {
     "data": {
      "text/plain": [
       "True     542\n",
       "False     68\n",
       "Name: t, dtype: int64"
      ]
     },
     "execution_count": 19,
     "metadata": {},
     "output_type": "execute_result"
    }
   ],
   "source": [
    "((df[\"t\"].abs() == 2700000.0) | (df[\"t\"] == 0)).value_counts()"
   ]
  },
  {
   "cell_type": "markdown",
   "id": "4ce26323",
   "metadata": {},
   "source": [
    "### Velocity and Acceleration"
   ]
  },
  {
   "cell_type": "code",
   "execution_count": 20,
   "id": "b5778f75",
   "metadata": {},
   "outputs": [
    {
     "data": {
      "application/vnd.jupyter.widget-view+json": {
       "model_id": "b19753a28b2d4480841b1496cf62d125",
       "version_major": 2,
       "version_minor": 0
      },
      "text/plain": [
       "interactive(children=(FloatSlider(value=15.0, continuous_update=False, description='hist_length', max=437.3299…"
      ]
     },
     "metadata": {},
     "output_type": "display_data"
    },
    {
     "data": {
      "text/plain": [
       "<function __main__.plot_speed(hist_length, max_time)>"
      ]
     },
     "execution_count": 20,
     "metadata": {},
     "output_type": "execute_result"
    }
   ],
   "source": [
    "def plot_speed(hist_length, max_time):\n",
    "    sample = df[(df[\"ts\"] >= max_time - hist_length) & (df[\"ts\"] <= max_time)]\n",
    "    plt.scatter(sample[\"ts\"], sample[\"speed\"])\n",
    "    plt.title(\"speed\")\n",
    "    print(f'min speed: {sample[\"speed\"].min()}')\n",
    "    print(f'max speed: {sample[\"speed\"].max()}')\n",
    "    \n",
    "ipywidgets.interact(plot_speed, hist_length=ipywidgets.FloatSlider(value=15, min=0, max=df[\"ts\"].max()-df[\"ts\"].min(), continuous_update=False), max_time=ipywidgets.FloatSlider(value=df[\"ts\"].max(), min=df[\"ts\"].min(), max=df[\"ts\"].max()+.1, continuous_update=False))"
   ]
  },
  {
   "cell_type": "code",
   "execution_count": 21,
   "id": "32a0a440",
   "metadata": {
    "scrolled": true
   },
   "outputs": [
    {
     "data": {
      "application/vnd.jupyter.widget-view+json": {
       "model_id": "4f406a216acb4125b2e484d8a51c22a7",
       "version_major": 2,
       "version_minor": 0
      },
      "text/plain": [
       "interactive(children=(FloatSlider(value=15.0, continuous_update=False, description='hist_length', max=437.3299…"
      ]
     },
     "metadata": {},
     "output_type": "display_data"
    },
    {
     "data": {
      "text/plain": [
       "<function __main__.plot_velocity(hist_length, max_time)>"
      ]
     },
     "execution_count": 21,
     "metadata": {},
     "output_type": "execute_result"
    }
   ],
   "source": [
    "def plot_velocity(hist_length, max_time):\n",
    "    sample = df[(df[\"ts\"] >= max_time - hist_length) & (df[\"ts\"] <= max_time)]\n",
    "    plt.scatter(sample[\"ts\"], sample[\"v.x\"], label=\"x\")\n",
    "    plt.scatter(sample[\"ts\"], sample[\"v.y\"], label=\"y\")\n",
    "    plt.legend()\n",
    "    plt.title(\"velocity\")\n",
    "    \n",
    "ipywidgets.interact(plot_velocity, hist_length=ipywidgets.FloatSlider(value=15, min=0, max=df[\"ts\"].max()-df[\"ts\"].min(), continuous_update=False), max_time=ipywidgets.FloatSlider(value=df[\"ts\"].max(), min=df[\"ts\"].min(), max=df[\"ts\"].max()+.1, continuous_update=False))"
   ]
  },
  {
   "cell_type": "code",
   "execution_count": 22,
   "id": "7e3172c1",
   "metadata": {
    "scrolled": true
   },
   "outputs": [
    {
     "data": {
      "application/vnd.jupyter.widget-view+json": {
       "model_id": "d781187d345445559df197ffa820e023",
       "version_major": 2,
       "version_minor": 0
      },
      "text/plain": [
       "interactive(children=(FloatSlider(value=15.0, continuous_update=False, description='hist_length', max=437.3299…"
      ]
     },
     "metadata": {},
     "output_type": "display_data"
    },
    {
     "data": {
      "text/plain": [
       "<function __main__.plot_acceleration(hist_length, max_time)>"
      ]
     },
     "execution_count": 22,
     "metadata": {},
     "output_type": "execute_result"
    }
   ],
   "source": [
    "def plot_acceleration(hist_length, max_time):\n",
    "    sample = df[(df[\"ts\"] >= max_time - hist_length) & (df[\"ts\"] <= max_time)]\n",
    "    plt.scatter(sample[\"ts\"], (sample[\"v.x\"].shift(1) - sample[\"v.x\"]) / (sample[\"ts\"].shift(1) - sample[\"ts\"]), label=\"x\")\n",
    "    plt.scatter(sample[\"ts\"], (sample[\"v.y\"].shift(1) - sample[\"v.y\"]) / (sample[\"ts\"].shift(1) - sample[\"ts\"]), label=\"y\")\n",
    "    plt.yscale(\"symlog\")\n",
    "    plt.legend()\n",
    "    plt.title(\"acceleration\")\n",
    "    \n",
    "ipywidgets.interact(plot_acceleration, hist_length=ipywidgets.FloatSlider(value=15, min=0, max=df[\"ts\"].max()-df[\"ts\"].min(), continuous_update=False), max_time=ipywidgets.FloatSlider(value=df[\"ts\"].max(), min=df[\"ts\"].min(), max=df[\"ts\"].max()+.1, continuous_update=False))"
   ]
  },
  {
   "cell_type": "code",
   "execution_count": 23,
   "id": "7754010f",
   "metadata": {},
   "outputs": [
    {
     "data": {
      "application/vnd.jupyter.widget-view+json": {
       "model_id": "e05a6d1e027d484ab946a739aa157de2",
       "version_major": 2,
       "version_minor": 0
      },
      "text/plain": [
       "interactive(children=(FloatSlider(value=15.0, continuous_update=False, description='hist_length', max=437.3299…"
      ]
     },
     "metadata": {},
     "output_type": "display_data"
    },
    {
     "data": {
      "text/plain": [
       "<function __main__.plot_force(hist_length, max_time)>"
      ]
     },
     "execution_count": 23,
     "metadata": {},
     "output_type": "execute_result"
    }
   ],
   "source": [
    "def plot_force(hist_length, max_time):\n",
    "    sample = df[(df[\"ts\"] >= max_time - hist_length) & (df[\"ts\"] <= max_time)]\n",
    "    plt.scatter(sample[\"ts\"], sample[\"f_mag\"])\n",
    "    plt.yscale(\"log\")\n",
    "    plt.title(\"force\")\n",
    "    print(f'min force={sample[\"f_mag\"].min()}')\n",
    "    print(f'max force={sample[\"f_mag\"].max()}')\n",
    "\n",
    "ipywidgets.interact(plot_force, hist_length=ipywidgets.FloatSlider(value=15, min=0, max=df[\"ts\"].max()-df[\"ts\"].min(), continuous_update=False), max_time=ipywidgets.FloatSlider(value=df[\"ts\"].max(), min=df[\"ts\"].min(), max=df[\"ts\"].max()+.1, continuous_update=False))"
   ]
  },
  {
   "cell_type": "markdown",
   "id": "4630e3f8",
   "metadata": {},
   "source": [
    "# Behavior Monitoring"
   ]
  },
  {
   "cell_type": "code",
   "execution_count": 24,
   "id": "cf1a4380",
   "metadata": {},
   "outputs": [
    {
     "data": {
      "text/plain": [
       "[79.3333333333314, None, 437.4966132199156, 425.6632798865829]"
      ]
     },
     "execution_count": 24,
     "metadata": {},
     "output_type": "execute_result"
    }
   ],
   "source": [
    "[next((df.iloc[idx][\"ts\"] if idx is not None else None for idx, v in zip(df.index, (~df[c].isna() & df[c] == True)) if v), None) for c in [\"o.ct\", \"o.cs\", \"o.cac\", \"o.cbdr\"]]"
   ]
  },
  {
   "cell_type": "code",
   "execution_count": 25,
   "id": "9e6db2b0",
   "metadata": {},
   "outputs": [
    {
     "data": {
      "application/vnd.jupyter.widget-view+json": {
       "model_id": "8449fe0cfc744d16b83297cf3ac94c9a",
       "version_major": 2,
       "version_minor": 0
      },
      "text/plain": [
       "interactive(children=(FloatSlider(value=15.0, continuous_update=False, description='hist_length', max=437.3299…"
      ]
     },
     "metadata": {},
     "output_type": "display_data"
    },
    {
     "data": {
      "text/plain": [
       "<function __main__.plot_collision_info(hist_length, max_time)>"
      ]
     },
     "execution_count": 25,
     "metadata": {},
     "output_type": "execute_result"
    }
   ],
   "source": [
    "def plot_collision_info(hist_length, max_time):\n",
    "    sample = df[(df[\"ts\"] >= max_time - hist_length) & (df[\"ts\"] <= max_time)]\n",
    "    plt.scatter(sample[\"ts\"], (~(sample[\"o.ct\"].isna())).astype(int), label=\"ct\")\n",
    "    plt.scatter(sample[\"ts\"], sample[\"o.cs\"].fillna(0).astype(int)+0.05, label=\"cs\")\n",
    "    plt.scatter(sample[\"ts\"], sample[\"o.cac\"].fillna(0).astype(int)+0.1, label=\"cac\")\n",
    "    plt.scatter(sample[\"ts\"], sample[\"o.cbdr\"].fillna(0).astype(int)+0.15, label=\"cbdr\")\n",
    "    plt.scatter(sample[\"ts\"], sample[\"o.cach\"].fillna(0).astype(int)+0.1, label=\"cach\", marker=\"+\")\n",
    "    plt.scatter(sample[\"ts\"], sample[\"o.ct_dv_override\"].fillna(0).astype(int)+0.2, label=\"dv override\")\n",
    "    plt.legend()\n",
    "    plt.title(\"status flags\")\n",
    "    \n",
    "    flag_cols = [\"o.ct\", \"o.cs\", \"o.cac\", \"o.cach\", \"o.cbdr\", \"o.ct_dv_override\"]\n",
    "    first_ts = [\n",
    "        next(\n",
    "            (sample.loc[idx][\"ts\"] if idx is not None else None\n",
    "             for idx, v in zip(sample.index, (~sample[c].isna() & sample[c] == True))\n",
    "             if v),\n",
    "            None\n",
    "        )\n",
    "        for c in flag_cols\n",
    "    ]\n",
    "    for c, ts in zip(flag_cols, first_ts):\n",
    "        print(f'first {c}: {ts}')\n",
    "\n",
    "ipywidgets.interact(plot_collision_info, hist_length=ipywidgets.FloatSlider(value=15, min=0, max=df[\"ts\"].max()-df[\"ts\"].min(), continuous_update=False), max_time=ipywidgets.FloatSlider(value=df[\"ts\"].max(), min=df[\"ts\"].min(), max=df[\"ts\"].max()+.1, continuous_update=False))"
   ]
  },
  {
   "cell_type": "markdown",
   "id": "94ba2b3d",
   "metadata": {},
   "source": [
    "### Target Location"
   ]
  },
  {
   "cell_type": "code",
   "execution_count": 26,
   "id": "2640e1e5",
   "metadata": {},
   "outputs": [
    {
     "data": {
      "text/html": [
       "<div>\n",
       "<style scoped>\n",
       "    .dataframe tbody tr th:only-of-type {\n",
       "        vertical-align: middle;\n",
       "    }\n",
       "\n",
       "    .dataframe tbody tr th {\n",
       "        vertical-align: top;\n",
       "    }\n",
       "\n",
       "    .dataframe thead tr th {\n",
       "        text-align: left;\n",
       "    }\n",
       "\n",
       "    .dataframe thead tr:last-of-type th {\n",
       "        text-align: right;\n",
       "    }\n",
       "</style>\n",
       "<table border=\"1\" class=\"dataframe\">\n",
       "  <thead>\n",
       "    <tr>\n",
       "      <th></th>\n",
       "      <th></th>\n",
       "      <th colspan=\"3\" halign=\"left\">ts</th>\n",
       "      <th colspan=\"2\" halign=\"left\">o.t_dist</th>\n",
       "      <th>o.ad</th>\n",
       "    </tr>\n",
       "    <tr>\n",
       "      <th></th>\n",
       "      <th></th>\n",
       "      <th>count</th>\n",
       "      <th>min</th>\n",
       "      <th>max</th>\n",
       "      <th>min</th>\n",
       "      <th>max</th>\n",
       "      <th>min</th>\n",
       "    </tr>\n",
       "    <tr>\n",
       "      <th>o.t_loc.x</th>\n",
       "      <th>o.t_loc.y</th>\n",
       "      <th></th>\n",
       "      <th></th>\n",
       "      <th></th>\n",
       "      <th></th>\n",
       "      <th></th>\n",
       "      <th></th>\n",
       "    </tr>\n",
       "  </thead>\n",
       "  <tbody>\n",
       "    <tr>\n",
       "      <th>51459.725516</th>\n",
       "      <th>418177.880008</th>\n",
       "      <td>128</td>\n",
       "      <td>195.057285</td>\n",
       "      <td>405.663280</td>\n",
       "      <td>3298.692245</td>\n",
       "      <td>404706.957844</td>\n",
       "      <td>4650.0</td>\n",
       "    </tr>\n",
       "    <tr>\n",
       "      <th>57574.216357</th>\n",
       "      <th>417177.603331</th>\n",
       "      <td>17</td>\n",
       "      <td>407.663280</td>\n",
       "      <td>437.663280</td>\n",
       "      <td>771.779264</td>\n",
       "      <td>5458.767275</td>\n",
       "      <td>650.0</td>\n",
       "    </tr>\n",
       "    <tr>\n",
       "      <th>176868.206200</th>\n",
       "      <th>37550.664010</th>\n",
       "      <td>332</td>\n",
       "      <td>0.333333</td>\n",
       "      <td>110.666667</td>\n",
       "      <td>3698.627153</td>\n",
       "      <td>137878.868963</td>\n",
       "      <td>4650.0</td>\n",
       "    </tr>\n",
       "    <tr>\n",
       "      <th>180928.383417</th>\n",
       "      <th>34201.752961</th>\n",
       "      <td>72</td>\n",
       "      <td>111.333333</td>\n",
       "      <td>137.179333</td>\n",
       "      <td>510.772387</td>\n",
       "      <td>5884.954986</td>\n",
       "      <td>650.0</td>\n",
       "    </tr>\n",
       "  </tbody>\n",
       "</table>\n",
       "</div>"
      ],
      "text/plain": [
       "                               ts                             o.t_dist  \\\n",
       "                            count         min         max          min   \n",
       "o.t_loc.x     o.t_loc.y                                                  \n",
       "51459.725516  418177.880008   128  195.057285  405.663280  3298.692245   \n",
       "57574.216357  417177.603331    17  407.663280  437.663280   771.779264   \n",
       "176868.206200 37550.664010    332    0.333333  110.666667  3698.627153   \n",
       "180928.383417 34201.752961     72  111.333333  137.179333   510.772387   \n",
       "\n",
       "                                              o.ad  \n",
       "                                       max     min  \n",
       "o.t_loc.x     o.t_loc.y                             \n",
       "51459.725516  418177.880008  404706.957844  4650.0  \n",
       "57574.216357  417177.603331    5458.767275   650.0  \n",
       "176868.206200 37550.664010   137878.868963  4650.0  \n",
       "180928.383417 34201.752961     5884.954986   650.0  "
      ]
     },
     "execution_count": 26,
     "metadata": {},
     "output_type": "execute_result"
    }
   ],
   "source": [
    "if np.any(~df[\"o.t_loc\"].isna()):\n",
    "    x = df.groupby([\"o.t_loc.x\", \"o.t_loc.y\"]).agg({\"ts\": [\"count\", \"min\", \"max\"], \"o.t_dist\": [\"min\",\"max\"], \"o.ad\":[\"min\"]})\n",
    "else:\n",
    "    x = \"no location target\"\n",
    "x"
   ]
  },
  {
   "cell_type": "code",
   "execution_count": 27,
   "id": "74d23fb4",
   "metadata": {},
   "outputs": [
    {
     "data": {
      "application/vnd.jupyter.widget-view+json": {
       "model_id": "cf855db7c4da46458722eb788915c107",
       "version_major": 2,
       "version_minor": 0
      },
      "text/plain": [
       "interactive(children=(FloatSlider(value=15.0, continuous_update=False, description='hist_length', max=437.3299…"
      ]
     },
     "metadata": {},
     "output_type": "display_data"
    },
    {
     "data": {
      "text/plain": [
       "<function __main__.plot_target_distance(hist_length, max_time)>"
      ]
     },
     "execution_count": 27,
     "metadata": {},
     "output_type": "execute_result"
    }
   ],
   "source": [
    "#sample = df[(df[\"ts\"] < 124.4) & (df[\"ts\"] > 120)]\n",
    "def plot_target_distance(hist_length, max_time):\n",
    "    sample = df[(df[\"ts\"] >= max_time - hist_length) & (df[\"ts\"] <= max_time)]\n",
    "    plt.scatter(sample[\"ts\"], sample[\"o.t_dist\"])\n",
    "    plt.scatter(sample[\"ts\"], sample[\"o.ad\"], color=\"green\", marker=\"_\")\n",
    "    plt.scatter(sample[\"ts\"], sample[\"o.md\"], color=\"red\", marker=\"_\")\n",
    "    #plt.ylim(0,1500)\n",
    "    plt.title(\"distance to target\")\n",
    "    print(f'when first arrived {sample[sample[\"o.t_dist\"] < sample[\"o.ad\"]][\"ts\"].min()}')\n",
    "\n",
    "ipywidgets.interact(\n",
    "    plot_target_distance,\n",
    "    hist_length=ipywidgets.FloatSlider(value=15, min=0, max=df[\"ts\"].max()-df[\"ts\"].min(), continuous_update=False),\n",
    "    max_time=ipywidgets.FloatSlider(value=df[\"ts\"].max(), min=df[\"ts\"].min(), max=df[\"ts\"].max()+.1, continuous_update=False))"
   ]
  },
  {
   "cell_type": "code",
   "execution_count": 28,
   "id": "d86ba49e",
   "metadata": {},
   "outputs": [
    {
     "data": {
      "text/plain": [
       "106.66666666666318"
      ]
     },
     "execution_count": 28,
     "metadata": {},
     "output_type": "execute_result"
    }
   ],
   "source": [
    "df[df[\"o.t_dist\"] < df[\"o.ad\"]][\"ts\"].min()"
   ]
  },
  {
   "cell_type": "code",
   "execution_count": 29,
   "id": "4d0bf8d0",
   "metadata": {},
   "outputs": [
    {
     "data": {
      "application/vnd.jupyter.widget-view+json": {
       "model_id": "76e2bee290a0405f875988f362c06809",
       "version_major": 2,
       "version_minor": 0
      },
      "text/plain": [
       "interactive(children=(FloatSlider(value=15.0, continuous_update=False, description='hist_length', max=437.3299…"
      ]
     },
     "metadata": {},
     "output_type": "display_data"
    },
    {
     "data": {
      "text/plain": [
       "<function __main__.plot_desired_speed(hist_length, max_time)>"
      ]
     },
     "execution_count": 29,
     "metadata": {},
     "output_type": "execute_result"
    }
   ],
   "source": [
    "def plot_desired_speed(hist_length, max_time):\n",
    "    sample = df[(df[\"ts\"] >= max_time - hist_length) & (df[\"ts\"] <= max_time)]\n",
    "    plt.scatter(sample[\"ts\"], sample[\"speed\"], label=\"actual speed\")\n",
    "    plt.scatter(sample[\"ts\"], sample[\"o.t_speed\"], label=\"desired speed\")\n",
    "    plt.scatter(sample[\"ts\"], sample[\"o.max_speed_cap\"], label=\"max speed cap\")\n",
    "    plt.scatter(sample[\"ts\"], sample[\"o._dv_speed\"], label=\"desired speed (_dv)\")\n",
    "    plt.legend()\n",
    "    plt.title(\"speed and desired speed to target\")\n",
    "    plt.ylim(0)\n",
    "\n",
    "ipywidgets.interact(\n",
    "    plot_desired_speed,\n",
    "    hist_length=ipywidgets.FloatSlider(value=15, min=0, max=df[\"ts\"].max()-df[\"ts\"].min(), continuous_update=False),\n",
    "    max_time=ipywidgets.FloatSlider(value=df[\"ts\"].max(), min=df[\"ts\"].min(), max=df[\"ts\"].max()+.1, continuous_update=False))"
   ]
  },
  {
   "cell_type": "code",
   "execution_count": 30,
   "id": "d7341dc2",
   "metadata": {
    "scrolled": true
   },
   "outputs": [
    {
     "data": {
      "text/plain": [
       "Text(0.5, 1.0, 'desired speed delta')"
      ]
     },
     "execution_count": 30,
     "metadata": {},
     "output_type": "execute_result"
    },
    {
     "data": {
      "image/png": "[encoded data removed]",
      "text/plain": [
       "<Figure size 432x288 with 1 Axes>"
      ]
     },
     "metadata": {
      "needs_background": "light"
     },
     "output_type": "display_data"
    }
   ],
   "source": [
    "plt.scatter(df[\"ts\"], df[\"o.t_speed\"] - df[\"speed\"])\n",
    "plt.scatter(df[\"ts\"], np.linalg.norm(np.array((df[\"o.t_v.x\"] - df[\"v.x\"], df[\"o.t_v.y\"] - df[\"v.y\"])), axis=0))\n",
    "plt.title(\"desired speed delta\")"
   ]
  },
  {
   "cell_type": "markdown",
   "id": "5ac378ec",
   "metadata": {},
   "source": [
    "## Collision Avoidance"
   ]
  },
  {
   "cell_type": "markdown",
   "id": "6936a767",
   "metadata": {},
   "source": [
    "### Collision Threats"
   ]
  },
  {
   "cell_type": "code",
   "execution_count": 31,
   "id": "f38ca4d8",
   "metadata": {},
   "outputs": [
    {
     "data": {
      "application/vnd.jupyter.widget-view+json": {
       "model_id": "4f5043c73a7644aca79db94918cee900",
       "version_major": 2,
       "version_minor": 0
      },
      "text/plain": [
       "interactive(children=(FloatSlider(value=15.0, continuous_update=False, description='hist_length', max=437.3299…"
      ]
     },
     "metadata": {},
     "output_type": "display_data"
    },
    {
     "data": {
      "text/plain": [
       "<function __main__.show_collision_threats(hist_length, max_time)>"
      ]
     },
     "execution_count": 31,
     "metadata": {},
     "output_type": "execute_result"
    }
   ],
   "source": [
    "def show_collision_threats(hist_length, max_time):\n",
    "    sample = df[(df[\"ts\"] >= max_time-hist_length) & (df[\"ts\"] <= max_time)]\n",
    "    if np.any(~sample[\"o.ct\"].isna()):\n",
    "        x = sample.groupby(\"o.ct\").agg({\"ts\": [\"count\", \"min\", \"max\"], \"o.ct_dist\": [\"min\",\"max\"]})\n",
    "    else:\n",
    "        x = \"no collision threats\"\n",
    "    return x\n",
    "ipywidgets.interact(\n",
    "    show_collision_threats,\n",
    "    hist_length=ipywidgets.FloatSlider(value=15, min=0, max=df[\"ts\"].max()-df[\"ts\"].min(), continuous_update=False),\n",
    "    max_time=ipywidgets.FloatSlider(value=df[\"ts\"].max(), min=df[\"ts\"].min(), max=df[\"ts\"].max()+.1, continuous_update=False)\n",
    ")"
   ]
  },
  {
   "cell_type": "code",
   "execution_count": 32,
   "id": "890424d5",
   "metadata": {},
   "outputs": [
    {
     "data": {
      "application/vnd.jupyter.widget-view+json": {
       "model_id": "b5cb3a545c8145b88f2c5a67c60ab25b",
       "version_major": 2,
       "version_minor": 0
      },
      "text/plain": [
       "interactive(children=(FloatSlider(value=15.0, continuous_update=False, description='hist_length', max=437.3299…"
      ]
     },
     "metadata": {},
     "output_type": "display_data"
    },
    {
     "data": {
      "text/plain": [
       "<function __main__.plot_collision_distance(hist_length, max_time)>"
      ]
     },
     "execution_count": 32,
     "metadata": {},
     "output_type": "execute_result"
    }
   ],
   "source": [
    "def plot_collision_distance(hist_length, max_time):\n",
    "    sample = df[(df[\"ts\"] >= max_time-hist_length) & (df[\"ts\"] <= max_time)]\n",
    "    plt.scatter(sample[\"ts\"], sample[\"o.ct_dist\"])\n",
    "    plt.scatter(sample[\"ts\"], sample[\"o.ct_cradius\"]+sample[\"o.scm\"]*2, color=\"green\", marker=\"_\")\n",
    "    plt.scatter(sample[\"ts\"], sample[\"o.ct_cradius\"]+sample[\"o.scm\"], color=\"orange\", marker=\"_\")\n",
    "    plt.scatter(sample[\"ts\"], sample[\"o.ct_cradius\"], color=\"red\", marker=\"_\")\n",
    "    plt.hlines(60, sample[\"ts\"].min(), sample[\"ts\"].max(), color=\"red\")\n",
    "    plt.ylim(0)\n",
    "    plt.title(\"distance to collision threat\")\n",
    "    print(f'max ct dist: {sample[\"o.ct_dist\"].max()}')\n",
    "    print(f'min ct dist: {sample[\"o.ct_dist\"].min()}')\n",
    "\n",
    "ipywidgets.interact(\n",
    "    plot_collision_distance,\n",
    "    hist_length=ipywidgets.FloatSlider(value=15, min=0, max=df[\"ts\"].max()-df[\"ts\"].min(), continuous_update=False),\n",
    "    max_time=ipywidgets.FloatSlider(value=df[\"ts\"].max(), min=df[\"ts\"].min(), max=df[\"ts\"].max()+.1, continuous_update=False)\n",
    ")"
   ]
  },
  {
   "cell_type": "code",
   "execution_count": 33,
   "id": "04aa08ad",
   "metadata": {},
   "outputs": [
    {
     "data": {
      "application/vnd.jupyter.widget-view+json": {
       "model_id": "da24bc38737f402cba19b34455150777",
       "version_major": 2,
       "version_minor": 0
      },
      "text/plain": [
       "interactive(children=(FloatSlider(value=15.0, continuous_update=False, description='hist_length', max=437.3299…"
      ]
     },
     "metadata": {},
     "output_type": "display_data"
    },
    {
     "data": {
      "text/plain": [
       "<function __main__.plot_minimum_separation(hist_length, max_time)>"
      ]
     },
     "execution_count": 33,
     "metadata": {},
     "output_type": "execute_result"
    }
   ],
   "source": [
    "def plot_minimum_separation(hist_length, max_time):\n",
    "    sample = df[(df[\"ts\"] >= max_time-hist_length) & (df[\"ts\"] <= max_time)]\n",
    "    plt.scatter(sample[\"ts\"], sample[\"o.ct_ms\"])\n",
    "    #plt.scatter(sample[\"ts\"], sample[\"o.ct_cradius\"]+30, color=\"red\", marker=\"_\")\n",
    "    plt.ylim(0)\n",
    "    plt.title(\"minimum_separation with collision threat\")\n",
    "    print(f'max min sep: {sample[\"o.ct_ms\"].max()}')\n",
    "    print(f'min min sep: {sample[\"o.ct_ms\"].min()}')\n",
    "\n",
    "ipywidgets.interact(\n",
    "    plot_minimum_separation,\n",
    "    hist_length=ipywidgets.FloatSlider(value=15, min=0, max=df[\"ts\"].max()-df[\"ts\"].min(), continuous_update=False),\n",
    "    max_time=ipywidgets.FloatSlider(value=df[\"ts\"].max(), min=df[\"ts\"].min(), max=df[\"ts\"].max()+.1, continuous_update=False)\n",
    ")"
   ]
  },
  {
   "cell_type": "code",
   "execution_count": 34,
   "id": "12faf352",
   "metadata": {},
   "outputs": [
    {
     "data": {
      "application/vnd.jupyter.widget-view+json": {
       "model_id": "56b8bc3667744afbae9c49dc442335d9",
       "version_major": 2,
       "version_minor": 0
      },
      "text/plain": [
       "interactive(children=(FloatSlider(value=15.0, continuous_update=False, description='hist_length', max=437.3299…"
      ]
     },
     "metadata": {},
     "output_type": "display_data"
    },
    {
     "data": {
      "text/plain": [
       "<function __main__.plot_threat_age(hist_length, max_time)>"
      ]
     },
     "execution_count": 34,
     "metadata": {},
     "output_type": "execute_result"
    }
   ],
   "source": [
    "def plot_threat_age(hist_length, max_time):\n",
    "    sample = df[(df[\"ts\"] >= max_time - hist_length) & (df[\"ts\"] <= max_time)]\n",
    "    fig, ax1 = plt.subplots()\n",
    "    ax2 = ax1.twinx()\n",
    "\n",
    "    ax1.scatter(sample[\"ts\"], 1-sample[\"o.ct\"].isna().astype(int))\n",
    "    ax2.scatter(sample[\"ts\"], sample[\"ts\"] - sample[\"o.ct_ts\"], color=\"orange\")\n",
    "    plt.title(\"Collision Threat and Time Since Detection\")\n",
    "\n",
    "    #ax2.set_ylim(0,(df[\"ts\"] - df[\"o.ct_ts\"]).max()*1.2)\n",
    "    \n",
    "ipywidgets.interact(\n",
    "    plot_threat_age,\n",
    "    hist_length=ipywidgets.FloatSlider(value=15, min=0, max=df[\"ts\"].max()-df[\"ts\"].min(), continuous_update=False),\n",
    "    max_time=ipywidgets.FloatSlider(value=df[\"ts\"].max(), min=df[\"ts\"].min(), max=df[\"ts\"].max()+.1, continuous_update=False))"
   ]
  },
  {
   "cell_type": "markdown",
   "id": "86ed216b",
   "metadata": {},
   "source": [
    "## CBDR Detection"
   ]
  },
  {
   "cell_type": "code",
   "execution_count": 35,
   "id": "bcee6bd2",
   "metadata": {},
   "outputs": [
    {
     "data": {
      "application/vnd.jupyter.widget-view+json": {
       "model_id": "80f294cc174840d88fcd2a77b90aaeb9",
       "version_major": 2,
       "version_minor": 0
      },
      "text/plain": [
       "interactive(children=(FloatSlider(value=15.0, continuous_update=False, description='hist_length', max=437.3299…"
      ]
     },
     "metadata": {},
     "output_type": "display_data"
    },
    {
     "data": {
      "text/plain": [
       "<function __main__.plot_cbdr_detection_data(hist_length, max_time)>"
      ]
     },
     "execution_count": 35,
     "metadata": {},
     "output_type": "execute_result"
    }
   ],
   "source": [
    "def plot_cbdr_detection_data(hist_length, max_time):\n",
    "    sample = df[(df[\"ts\"] >= max_time - hist_length) & (df[\"ts\"] <= max_time)]\n",
    "    fig, ax1 = plt.subplots()\n",
    "    ax2 = ax1.twinx()\n",
    "\n",
    "    bearing = sample[\"o.cbdr_hist\"].apply(lambda x: np.nan if isinstance(x, float) or len(x) < 2 else abs(util.cartesian_to_polar(x[0][0], x[0][1])[1] - util.cartesian_to_polar(x[-1][0], x[-1][1])[1]))\n",
    "    threat_range = sample[\"o.cbdr_hist\"].apply(lambda x: np.nan if isinstance(x, float) or len(x) < 2 else util.cartesian_to_polar(x[0][0], x[0][1])[0] - util.cartesian_to_polar(x[-1][0], x[-1][1])[0])\n",
    "    ax1.scatter(sample[\"ts\"], bearing, label=\"delta bearing\")\n",
    "    ax1.hlines(2e-3, sample[\"ts\"].min(), sample[\"ts\"].max(), color=\"green\", label=\"max delta bearing\")\n",
    "    ax2.scatter(sample[\"ts\"], threat_range, color=\"orange\", label=\"delta range\")\n",
    "    ax2.hlines(5, sample[\"ts\"].min(), sample[\"ts\"].max(), color=\"red\", label=\"min delta range\")\n",
    "    fig.legend()\n",
    "    \n",
    "ipywidgets.interact(\n",
    "    plot_cbdr_detection_data,\n",
    "    hist_length=ipywidgets.FloatSlider(value=15, min=0, max=df[\"ts\"].max()-df[\"ts\"].min(), continuous_update=False),\n",
    "    max_time=ipywidgets.FloatSlider(value=df[\"ts\"].max(), min=df[\"ts\"].min(), max=df[\"ts\"].max()+.1, continuous_update=False))"
   ]
  },
  {
   "cell_type": "code",
   "execution_count": 36,
   "id": "9c947c36",
   "metadata": {},
   "outputs": [
    {
     "data": {
      "application/vnd.jupyter.widget-view+json": {
       "model_id": "a96bbe717b134ec6be410d1d82a2fc34",
       "version_major": 2,
       "version_minor": 0
      },
      "text/plain": [
       "interactive(children=(FloatSlider(value=15.0, continuous_update=False, description='hist_length', max=437.3299…"
      ]
     },
     "metadata": {},
     "output_type": "display_data"
    },
    {
     "data": {
      "text/plain": [
       "<function __main__.plot_num_coalesced_threats(hist_length, max_time)>"
      ]
     },
     "execution_count": 36,
     "metadata": {},
     "output_type": "execute_result"
    }
   ],
   "source": [
    "def plot_num_coalesced_threats(hist_length, max_time):\n",
    "    sample = df[(df[\"ts\"] >= max_time-hist_length) & (df[\"ts\"] <= max_time)]\n",
    "    plt.scatter(sample[\"ts\"], sample[\"o.ct_ct\"])\n",
    "    plt.title(\"number of coalesced threats\")\n",
    "    plt.show()\n",
    "\n",
    "ipywidgets.interact(\n",
    "    plot_num_coalesced_threats,\n",
    "    hist_length=ipywidgets.FloatSlider(value=15, min=0, max=df[\"ts\"].max()-df[\"ts\"].min(), continuous_update=False),\n",
    "    max_time=ipywidgets.FloatSlider(value=df[\"ts\"].max(), min=df[\"ts\"].min(), max=df[\"ts\"].max()+.1, continuous_update=False)\n",
    ")  "
   ]
  },
  {
   "cell_type": "code",
   "execution_count": 37,
   "id": "91227c9a",
   "metadata": {},
   "outputs": [
    {
     "data": {
      "application/vnd.jupyter.widget-view+json": {
       "model_id": "33cd00b3a37e4ab585c13c1e586ff638",
       "version_major": 2,
       "version_minor": 0
      },
      "text/plain": [
       "interactive(children=(FloatSlider(value=15.0, continuous_update=False, description='hist_length', max=437.3299…"
      ]
     },
     "metadata": {},
     "output_type": "display_data"
    },
    {
     "data": {
      "text/plain": [
       "<function __main__.plot_collision_threat_radius(hist_length, max_time)>"
      ]
     },
     "execution_count": 37,
     "metadata": {},
     "output_type": "execute_result"
    }
   ],
   "source": [
    "def plot_collision_threat_radius(hist_length, max_time):\n",
    "    sample = df[(df[\"ts\"] >= max_time - hist_length) & (df[\"ts\"] <= max_time)]\n",
    "    plt.scatter(sample[\"ts\"], sample[\"o.ct_cradius\"], label=\"threat radius\")\n",
    "    plt.scatter(sample[\"ts\"], sample[\"o.scm\"], label=\"desired margin\")\n",
    "    plt.title(\"collision threat radius\")\n",
    "    plt.legend()\n",
    "    print(f'min coalesced radius: {sample[\"o.ct_cradius\"].min()}')\n",
    "    print(f'min scaled margin: {sample[\"o.scm\"].min()}')\n",
    "    plt.show()\n",
    "\n",
    "ipywidgets.interact(\n",
    "    plot_collision_threat_radius,\n",
    "    hist_length=ipywidgets.FloatSlider(value=15, min=0, max=df[\"ts\"].max()-df[\"ts\"].min(), continuous_update=False),\n",
    "    max_time=ipywidgets.FloatSlider(value=df[\"ts\"].max(), min=df[\"ts\"].min(), max=df[\"ts\"].max()+.1, continuous_update=False))"
   ]
  },
  {
   "cell_type": "code",
   "execution_count": 38,
   "id": "10290387",
   "metadata": {},
   "outputs": [
    {
     "data": {
      "application/vnd.jupyter.widget-view+json": {
       "model_id": "b1741e5bae5f43379f4bd9f5ae931722",
       "version_major": 2,
       "version_minor": 0
      },
      "text/plain": [
       "interactive(children=(FloatSlider(value=15.0, continuous_update=False, description='hist_length', max=437.3299…"
      ]
     },
     "metadata": {},
     "output_type": "display_data"
    },
    {
     "data": {
      "text/plain": [
       "<function __main__.plot_collision_threat_loc(hist_length, max_time)>"
      ]
     },
     "execution_count": 38,
     "metadata": {},
     "output_type": "execute_result"
    }
   ],
   "source": [
    "def plot_collision_threat_loc(hist_length, max_time):\n",
    "    sample = df[(df[\"ts\"] >= max_time - hist_length) & (df[\"ts\"] <= max_time)]\n",
    "    fig, ax1 = plt.subplots()\n",
    "    ax2 = ax1.twinx()\n",
    "    ax1.scatter(sample[\"ts\"], sample[\"o.ct_cloc.x\"])\n",
    "    ax2.scatter(sample[\"ts\"], sample[\"o.ct_cloc.y\"], color=\"orange\")\n",
    "    plt.title(\"collision threat coalesced location\")\n",
    "    plt.show()\n",
    "\n",
    "ipywidgets.interact(\n",
    "    plot_collision_threat_loc,\n",
    "    hist_length=ipywidgets.FloatSlider(value=15, min=0, max=df[\"ts\"].max()-df[\"ts\"].min(), continuous_update=False),\n",
    "    max_time=ipywidgets.FloatSlider(value=df[\"ts\"].max(), min=df[\"ts\"].min(), max=df[\"ts\"].max()+.1, continuous_update=False))"
   ]
  },
  {
   "cell_type": "code",
   "execution_count": 39,
   "id": "88757cdd",
   "metadata": {},
   "outputs": [
    {
     "data": {
      "text/html": [
       "<div>\n",
       "<style scoped>\n",
       "    .dataframe tbody tr th:only-of-type {\n",
       "        vertical-align: middle;\n",
       "    }\n",
       "\n",
       "    .dataframe tbody tr th {\n",
       "        vertical-align: top;\n",
       "    }\n",
       "\n",
       "    .dataframe thead th {\n",
       "        text-align: right;\n",
       "    }\n",
       "</style>\n",
       "<table border=\"1\" class=\"dataframe\">\n",
       "  <thead>\n",
       "    <tr style=\"text-align: right;\">\n",
       "      <th></th>\n",
       "      <th>index</th>\n",
       "      <th>p</th>\n",
       "      <th>eid</th>\n",
       "      <th>ts</th>\n",
       "      <th>loc</th>\n",
       "      <th>r</th>\n",
       "      <th>a</th>\n",
       "      <th>v</th>\n",
       "      <th>av</th>\n",
       "      <th>f</th>\n",
       "      <th>...</th>\n",
       "      <th>angle.y</th>\n",
       "      <th>_ada.x</th>\n",
       "      <th>_ada.y</th>\n",
       "      <th>o.ct_dist</th>\n",
       "      <th>o.t_dist</th>\n",
       "      <th>speed</th>\n",
       "      <th>o.t_speed</th>\n",
       "      <th>o._dv_speed</th>\n",
       "      <th>f_mag</th>\n",
       "      <th>o.max_speed_cap</th>\n",
       "    </tr>\n",
       "  </thead>\n",
       "  <tbody>\n",
       "    <tr>\n",
       "      <th>503</th>\n",
       "      <td>28417</td>\n",
       "      <td>SHP</td>\n",
       "      <td>35220c57-5f3d-475c-851e-9e1838dff215</td>\n",
       "      <td>246.825763</td>\n",
       "      <td>[155217.90625, 115213.015625]</td>\n",
       "      <td>30</td>\n",
       "      <td>-84.901389</td>\n",
       "      <td>[-1085.5870361328125, 2660.81005859375]</td>\n",
       "      <td>0.399263</td>\n",
       "      <td>[12879.306640625, 7689.1787109375]</td>\n",
       "      <td>...</td>\n",
       "      <td>7.830759</td>\n",
       "      <td>85.862042</td>\n",
       "      <td>51.261192</td>\n",
       "      <td>20726.771723</td>\n",
       "      <td>320239.705720</td>\n",
       "      <td>2873.744836</td>\n",
       "      <td>3000.000000</td>\n",
       "      <td>3010.273047</td>\n",
       "      <td>15000.000293</td>\n",
       "      <td>3000.000000</td>\n",
       "    </tr>\n",
       "    <tr>\n",
       "      <th>602</th>\n",
       "      <td>28516</td>\n",
       "      <td>SHP</td>\n",
       "      <td>35220c57-5f3d-475c-851e-9e1838dff215</td>\n",
       "      <td>425.663280</td>\n",
       "      <td>[56123.55859375, 416621.15625]</td>\n",
       "      <td>30</td>\n",
       "      <td>-85.719051</td>\n",
       "      <td>[194.29563903808594, 104.59134674072266]</td>\n",
       "      <td>0.689753</td>\n",
       "      <td>[-13344.89453125, 6849.3642578125]</td>\n",
       "      <td>...</td>\n",
       "      <td>78.086480</td>\n",
       "      <td>-88.965964</td>\n",
       "      <td>45.662428</td>\n",
       "      <td>1533.506412</td>\n",
       "      <td>1553.718539</td>\n",
       "      <td>220.658436</td>\n",
       "      <td>163.031500</td>\n",
       "      <td>183.777518</td>\n",
       "      <td>15000.000026</td>\n",
       "      <td>1033.588531</td>\n",
       "    </tr>\n",
       "    <tr>\n",
       "      <th>603</th>\n",
       "      <td>28517</td>\n",
       "      <td>SHP</td>\n",
       "      <td>35220c57-5f3d-475c-851e-9e1838dff215</td>\n",
       "      <td>427.663280</td>\n",
       "      <td>[56468.3984375, 416854.90625]</td>\n",
       "      <td>30</td>\n",
       "      <td>-85.628341</td>\n",
       "      <td>[121.33541107177734, 154.6845245361328]</td>\n",
       "      <td>0.438547</td>\n",
       "      <td>[-13462.8017578125, 6614.60205078125]</td>\n",
       "      <td>...</td>\n",
       "      <td>72.106586</td>\n",
       "      <td>-89.752013</td>\n",
       "      <td>44.097349</td>\n",
       "      <td>992.909973</td>\n",
       "      <td>1151.940396</td>\n",
       "      <td>196.594975</td>\n",
       "      <td>139.398205</td>\n",
       "      <td>197.853630</td>\n",
       "      <td>14999.999715</td>\n",
       "      <td>695.136508</td>\n",
       "    </tr>\n",
       "  </tbody>\n",
       "</table>\n",
       "<p>3 rows × 74 columns</p>\n",
       "</div>"
      ],
      "text/plain": [
       "     index    p                                   eid          ts  \\\n",
       "503  28417  SHP  35220c57-5f3d-475c-851e-9e1838dff215  246.825763   \n",
       "602  28516  SHP  35220c57-5f3d-475c-851e-9e1838dff215  425.663280   \n",
       "603  28517  SHP  35220c57-5f3d-475c-851e-9e1838dff215  427.663280   \n",
       "\n",
       "                                loc   r          a  \\\n",
       "503   [155217.90625, 115213.015625]  30 -84.901389   \n",
       "602  [56123.55859375, 416621.15625]  30 -85.719051   \n",
       "603   [56468.3984375, 416854.90625]  30 -85.628341   \n",
       "\n",
       "                                            v        av  \\\n",
       "503   [-1085.5870361328125, 2660.81005859375]  0.399263   \n",
       "602  [194.29563903808594, 104.59134674072266]  0.689753   \n",
       "603   [121.33541107177734, 154.6845245361328]  0.438547   \n",
       "\n",
       "                                         f  ...    angle.y     _ada.x  \\\n",
       "503     [12879.306640625, 7689.1787109375]  ...   7.830759  85.862042   \n",
       "602     [-13344.89453125, 6849.3642578125]  ...  78.086480 -88.965964   \n",
       "603  [-13462.8017578125, 6614.60205078125]  ...  72.106586 -89.752013   \n",
       "\n",
       "        _ada.y     o.ct_dist       o.t_dist        speed    o.t_speed  \\\n",
       "503  51.261192  20726.771723  320239.705720  2873.744836  3000.000000   \n",
       "602  45.662428   1533.506412    1553.718539   220.658436   163.031500   \n",
       "603  44.097349    992.909973    1151.940396   196.594975   139.398205   \n",
       "\n",
       "     o._dv_speed         f_mag  o.max_speed_cap  \n",
       "503  3010.273047  15000.000293      3000.000000  \n",
       "602   183.777518  15000.000026      1033.588531  \n",
       "603   197.853630  14999.999715       695.136508  \n",
       "\n",
       "[3 rows x 74 columns]"
      ]
     },
     "execution_count": 39,
     "metadata": {},
     "output_type": "execute_result"
    }
   ],
   "source": [
    "df[(df[\"o.ct_cloc.x\"]-df[\"o.ct_cloc.x\"].shift(1)).abs() > 30]"
   ]
  },
  {
   "cell_type": "code",
   "execution_count": 40,
   "id": "a5619e23",
   "metadata": {},
   "outputs": [
    {
     "data": {
      "text/plain": [
       "503    5323.501030\n",
       "602     269.889531\n",
       "603     180.792649\n",
       "Name: o.ct_cloc.x, dtype: float64"
      ]
     },
     "execution_count": 40,
     "metadata": {},
     "output_type": "execute_result"
    }
   ],
   "source": [
    "ctxloc_diff_s = (df[\"o.ct_cloc.x\"]-df[\"o.ct_cloc.x\"].shift(1)).abs()\n",
    "ctxloc_diff_s[ctxloc_diff_s > 30]"
   ]
  },
  {
   "cell_type": "code",
   "execution_count": 41,
   "id": "5e817d73",
   "metadata": {},
   "outputs": [
    {
     "data": {
      "application/vnd.jupyter.widget-view+json": {
       "model_id": "f87ad44656764e09bfdfbacab9e7ca5c",
       "version_major": 2,
       "version_minor": 0
      },
      "text/plain": [
       "interactive(children=(FloatSlider(value=15.0, continuous_update=False, description='hist_length', max=437.3299…"
      ]
     },
     "metadata": {},
     "output_type": "display_data"
    },
    {
     "data": {
      "text/plain": [
       "<function __main__.plot_collision_dv(hist_length, max_time)>"
      ]
     },
     "execution_count": 41,
     "metadata": {},
     "output_type": "execute_result"
    }
   ],
   "source": [
    "def plot_collision_dv(hist_length, max_time):\n",
    "    sample = df[(df[\"ts\"] >= max_time - hist_length) & (df[\"ts\"] <= max_time)]\n",
    "    plt.scatter(sample[\"ts\"], sample[\"o.ct_dv.x\"])\n",
    "    plt.scatter(sample[\"ts\"], sample[\"o.ct_dv.y\"])\n",
    "    plt.title(\"collision avoidance velocity\")\n",
    "\n",
    "ipywidgets.interact(\n",
    "    plot_collision_dv,\n",
    "    hist_length=ipywidgets.FloatSlider(value=15, min=0, max=df[\"ts\"].max()-df[\"ts\"].min(), continuous_update=False),\n",
    "    max_time=ipywidgets.FloatSlider(value=df[\"ts\"].max(), min=df[\"ts\"].min(), max=df[\"ts\"].max()+.1, continuous_update=False))"
   ]
  },
  {
   "cell_type": "code",
   "execution_count": 42,
   "id": "7f11097b",
   "metadata": {},
   "outputs": [
    {
     "data": {
      "text/html": [
       "<div>\n",
       "<style scoped>\n",
       "    .dataframe tbody tr th:only-of-type {\n",
       "        vertical-align: middle;\n",
       "    }\n",
       "\n",
       "    .dataframe tbody tr th {\n",
       "        vertical-align: top;\n",
       "    }\n",
       "\n",
       "    .dataframe thead th {\n",
       "        text-align: right;\n",
       "    }\n",
       "</style>\n",
       "<table border=\"1\" class=\"dataframe\">\n",
       "  <thead>\n",
       "    <tr style=\"text-align: right;\">\n",
       "      <th></th>\n",
       "      <th>index</th>\n",
       "      <th>p</th>\n",
       "      <th>eid</th>\n",
       "      <th>ts</th>\n",
       "      <th>loc</th>\n",
       "      <th>r</th>\n",
       "      <th>a</th>\n",
       "      <th>v</th>\n",
       "      <th>av</th>\n",
       "      <th>f</th>\n",
       "      <th>...</th>\n",
       "      <th>angle.y</th>\n",
       "      <th>_ada.x</th>\n",
       "      <th>_ada.y</th>\n",
       "      <th>o.ct_dist</th>\n",
       "      <th>o.t_dist</th>\n",
       "      <th>speed</th>\n",
       "      <th>o.t_speed</th>\n",
       "      <th>o._dv_speed</th>\n",
       "      <th>f_mag</th>\n",
       "      <th>o.max_speed_cap</th>\n",
       "    </tr>\n",
       "  </thead>\n",
       "  <tbody>\n",
       "    <tr>\n",
       "      <th>473</th>\n",
       "      <td>28387</td>\n",
       "      <td>SHP</td>\n",
       "      <td>35220c57-5f3d-475c-851e-9e1838dff215</td>\n",
       "      <td>206.078656</td>\n",
       "      <td>[180292.765625, 38217.45703125]</td>\n",
       "      <td>30</td>\n",
       "      <td>-88.714952</td>\n",
       "      <td>[-38.78623962402344, 658.0015258789062]</td>\n",
       "      <td>0.367479</td>\n",
       "      <td>[14783.8525390625, -2537.2607421875]</td>\n",
       "      <td>...</td>\n",
       "      <td>-68.190053</td>\n",
       "      <td>98.559020</td>\n",
       "      <td>-16.915072</td>\n",
       "      <td>1051.115113</td>\n",
       "      <td>401208.019925</td>\n",
       "      <td>659.143672</td>\n",
       "      <td>450.506134</td>\n",
       "      <td>2921.865462</td>\n",
       "      <td>14999.999599</td>\n",
       "      <td>465.427856</td>\n",
       "    </tr>\n",
       "    <tr>\n",
       "      <th>503</th>\n",
       "      <td>28417</td>\n",
       "      <td>SHP</td>\n",
       "      <td>35220c57-5f3d-475c-851e-9e1838dff215</td>\n",
       "      <td>246.825763</td>\n",
       "      <td>[155217.90625, 115213.015625]</td>\n",
       "      <td>30</td>\n",
       "      <td>-84.901389</td>\n",
       "      <td>[-1085.5870361328125, 2660.81005859375]</td>\n",
       "      <td>0.399263</td>\n",
       "      <td>[12879.306640625, 7689.1787109375]</td>\n",
       "      <td>...</td>\n",
       "      <td>7.830759</td>\n",
       "      <td>85.862042</td>\n",
       "      <td>51.261192</td>\n",
       "      <td>20726.771723</td>\n",
       "      <td>320239.705720</td>\n",
       "      <td>2873.744836</td>\n",
       "      <td>3000.000000</td>\n",
       "      <td>3010.273047</td>\n",
       "      <td>15000.000293</td>\n",
       "      <td>3000.000000</td>\n",
       "    </tr>\n",
       "    <tr>\n",
       "      <th>507</th>\n",
       "      <td>28421</td>\n",
       "      <td>SHP</td>\n",
       "      <td>35220c57-5f3d-475c-851e-9e1838dff215</td>\n",
       "      <td>254.077763</td>\n",
       "      <td>[148045.796875, 134427.25]</td>\n",
       "      <td>30</td>\n",
       "      <td>-88.707712</td>\n",
       "      <td>[-794.5755615234375, 2562.979248046875]</td>\n",
       "      <td>0.400489</td>\n",
       "      <td>[14801.2099609375, 2433.96337890625]</td>\n",
       "      <td>...</td>\n",
       "      <td>-67.658718</td>\n",
       "      <td>98.674734</td>\n",
       "      <td>16.226422</td>\n",
       "      <td>1005.497385</td>\n",
       "      <td>299738.701556</td>\n",
       "      <td>2683.321253</td>\n",
       "      <td>489.443451</td>\n",
       "      <td>3740.483924</td>\n",
       "      <td>14999.999801</td>\n",
       "      <td>504.115306</td>\n",
       "    </tr>\n",
       "    <tr>\n",
       "      <th>607</th>\n",
       "      <td>28521</td>\n",
       "      <td>SHP</td>\n",
       "      <td>35220c57-5f3d-475c-851e-9e1838dff215</td>\n",
       "      <td>435.663280</td>\n",
       "      <td>[57039.79296875, 418013.78125]</td>\n",
       "      <td>30</td>\n",
       "      <td>-86.327058</td>\n",
       "      <td>[21.08344841003418, 244.31993103027344]</td>\n",
       "      <td>-0.449774</td>\n",
       "      <td>[3600.404541015625, -14561.4931640625]</td>\n",
       "      <td>...</td>\n",
       "      <td>99.777368</td>\n",
       "      <td>24.002697</td>\n",
       "      <td>-97.076622</td>\n",
       "      <td>739.339161</td>\n",
       "      <td>992.371841</td>\n",
       "      <td>245.227936</td>\n",
       "      <td>100.000000</td>\n",
       "      <td>177.325654</td>\n",
       "      <td>14999.999868</td>\n",
       "      <td>103.713729</td>\n",
       "    </tr>\n",
       "  </tbody>\n",
       "</table>\n",
       "<p>4 rows × 74 columns</p>\n",
       "</div>"
      ],
      "text/plain": [
       "     index    p                                   eid          ts  \\\n",
       "473  28387  SHP  35220c57-5f3d-475c-851e-9e1838dff215  206.078656   \n",
       "503  28417  SHP  35220c57-5f3d-475c-851e-9e1838dff215  246.825763   \n",
       "507  28421  SHP  35220c57-5f3d-475c-851e-9e1838dff215  254.077763   \n",
       "607  28521  SHP  35220c57-5f3d-475c-851e-9e1838dff215  435.663280   \n",
       "\n",
       "                                 loc   r          a  \\\n",
       "473  [180292.765625, 38217.45703125]  30 -88.714952   \n",
       "503    [155217.90625, 115213.015625]  30 -84.901389   \n",
       "507       [148045.796875, 134427.25]  30 -88.707712   \n",
       "607   [57039.79296875, 418013.78125]  30 -86.327058   \n",
       "\n",
       "                                           v        av  \\\n",
       "473  [-38.78623962402344, 658.0015258789062]  0.367479   \n",
       "503  [-1085.5870361328125, 2660.81005859375]  0.399263   \n",
       "507  [-794.5755615234375, 2562.979248046875]  0.400489   \n",
       "607  [21.08344841003418, 244.31993103027344] -0.449774   \n",
       "\n",
       "                                          f  ...    angle.y     _ada.x  \\\n",
       "473    [14783.8525390625, -2537.2607421875]  ... -68.190053  98.559020   \n",
       "503      [12879.306640625, 7689.1787109375]  ...   7.830759  85.862042   \n",
       "507    [14801.2099609375, 2433.96337890625]  ... -67.658718  98.674734   \n",
       "607  [3600.404541015625, -14561.4931640625]  ...  99.777368  24.002697   \n",
       "\n",
       "        _ada.y     o.ct_dist       o.t_dist        speed    o.t_speed  \\\n",
       "473 -16.915072   1051.115113  401208.019925   659.143672   450.506134   \n",
       "503  51.261192  20726.771723  320239.705720  2873.744836  3000.000000   \n",
       "507  16.226422   1005.497385  299738.701556  2683.321253   489.443451   \n",
       "607 -97.076622    739.339161     992.371841   245.227936   100.000000   \n",
       "\n",
       "     o._dv_speed         f_mag  o.max_speed_cap  \n",
       "473  2921.865462  14999.999599       465.427856  \n",
       "503  3010.273047  15000.000293      3000.000000  \n",
       "507  3740.483924  14999.999801       504.115306  \n",
       "607   177.325654  14999.999868       103.713729  \n",
       "\n",
       "[4 rows x 74 columns]"
      ]
     },
     "execution_count": 42,
     "metadata": {},
     "output_type": "execute_result"
    }
   ],
   "source": [
    "df[(df[\"o.ct_dv.x\"]-df[\"o.ct_dv.x\"].shift(1)).abs() > 250]"
   ]
  },
  {
   "cell_type": "markdown",
   "id": "785ce89f",
   "metadata": {},
   "source": [
    "## Nearest Neighbors"
   ]
  },
  {
   "cell_type": "code",
   "execution_count": 43,
   "id": "03a6b3aa",
   "metadata": {},
   "outputs": [
    {
     "data": {
      "application/vnd.jupyter.widget-view+json": {
       "model_id": "dc0da94a3a5f40e6b821d70d7338f787",
       "version_major": 2,
       "version_minor": 0
      },
      "text/plain": [
       "interactive(children=(FloatSlider(value=15.0, continuous_update=False, description='hist_length', max=437.3299…"
      ]
     },
     "metadata": {},
     "output_type": "display_data"
    },
    {
     "data": {
      "text/plain": [
       "<function __main__.plot_neighborhood_size(hist_length, max_time)>"
      ]
     },
     "execution_count": 43,
     "metadata": {},
     "output_type": "execute_result"
    }
   ],
   "source": [
    "neighborhood_radius = 5e4\n",
    "def plot_neighborhood_size(hist_length, max_time):\n",
    "    sample = df[(df[\"ts\"] >= max_time - hist_length) & (df[\"ts\"] <= max_time)]\n",
    "    plt.scatter(sample[\"ts\"], sample[\"o.nd\"]*np.pi*neighborhood_radius**2)\n",
    "    plt.title(\"neighborhood size (10km^2)\")\n",
    "    plt.show()\n",
    "\n",
    "ipywidgets.interact(\n",
    "    plot_neighborhood_size,\n",
    "    hist_length=ipywidgets.FloatSlider(value=15, min=0, max=df[\"ts\"].max()-df[\"ts\"].min(), continuous_update=False),\n",
    "    max_time=ipywidgets.FloatSlider(value=df[\"ts\"].max(), min=df[\"ts\"].min(), max=df[\"ts\"].max()+.1, continuous_update=False))"
   ]
  },
  {
   "cell_type": "code",
   "execution_count": 44,
   "id": "139c049e",
   "metadata": {},
   "outputs": [
    {
     "data": {
      "application/vnd.jupyter.widget-view+json": {
       "model_id": "1707d839cf7c49dca57c1f9550a21879",
       "version_major": 2,
       "version_minor": 0
      },
      "text/plain": [
       "interactive(children=(FloatSlider(value=15.0, continuous_update=False, description='hist_length', max=437.3299…"
      ]
     },
     "metadata": {},
     "output_type": "display_data"
    },
    {
     "data": {
      "text/plain": [
       "<function __main__.plot_nearest_neighbor(hist_length, max_time)>"
      ]
     },
     "execution_count": 44,
     "metadata": {},
     "output_type": "execute_result"
    }
   ],
   "source": [
    "def plot_nearest_neighbor(hist_length, max_time):\n",
    "    sample = df[(df[\"ts\"] >= max_time - hist_length) & (df[\"ts\"] <= max_time)]\n",
    "    plt.scatter(sample[\"ts\"], sample[\"o.nnd\"], label=\"nearest neighbor dist\")\n",
    "    plt.scatter(sample[\"ts\"], sample[\"o.scm\"], label=\"desired margin\")\n",
    "    plt.title(\"nearest neighor dist\")\n",
    "    plt.legend()\n",
    "    plt.show()\n",
    "    print(f'min dist {sample[\"o.nnd\"].min()}')\n",
    "\n",
    "ipywidgets.interact(\n",
    "    plot_nearest_neighbor,\n",
    "    hist_length=ipywidgets.FloatSlider(value=15, min=0, max=df[\"ts\"].max()-df[\"ts\"].min(), continuous_update=False),\n",
    "    max_time=ipywidgets.FloatSlider(value=df[\"ts\"].max(), min=df[\"ts\"].min(), max=df[\"ts\"].max()+.1, continuous_update=False))"
   ]
  },
  {
   "cell_type": "code",
   "execution_count": 45,
   "id": "a89ffef7",
   "metadata": {},
   "outputs": [],
   "source": [
    "# \n",
    "# Smallest enclosing circle - Library (Python)\n",
    "# \n",
    "# Copyright (c) 2020 Project Nayuki\n",
    "# https://www.nayuki.io/page/smallest-enclosing-circle\n",
    "# \n",
    "# This program is free software: you can redistribute it and/or modify\n",
    "# it under the terms of the GNU Lesser General Public License as published by\n",
    "# the Free Software Foundation, either version 3 of the License, or\n",
    "# (at your option) any later version.\n",
    "# \n",
    "# This program is distributed in the hope that it will be useful,\n",
    "# but WITHOUT ANY WARRANTY; without even the implied warranty of\n",
    "# MERCHANTABILITY or FITNESS FOR A PARTICULAR PURPOSE.  See the\n",
    "# GNU Lesser General Public License for more details.\n",
    "# \n",
    "# You should have received a copy of the GNU Lesser General Public License\n",
    "# along with this program (see COPYING.txt and COPYING.LESSER.txt).\n",
    "# If not, see <http://www.gnu.org/licenses/>.\n",
    "# \n",
    "\n",
    "import math, random\n",
    "\n",
    "\n",
    "# Data conventions: A point is a pair of floats (x, y). A circle is a triple of floats (center x, center y, radius).\n",
    "\n",
    "# Returns the smallest circle that encloses all the given points. Runs in expected O(n) time, randomized.\n",
    "# Input: A sequence of pairs of floats or ints, e.g. [(0,5), (3.1,-2.7)].\n",
    "# Output: A triple of floats representing a circle.\n",
    "# Note: If 0 points are given, None is returned. If 1 point is given, a circle of radius 0 is returned.\n",
    "# \n",
    "# Initially: No boundary points known\n",
    "def make_circle(points):\n",
    "\t# Convert to float and randomize order\n",
    "\tshuffled = [(float(x), float(y)) for (x, y) in points]\n",
    "\trandom.shuffle(shuffled)\n",
    "\t\n",
    "\t# Progressively add points to circle or recompute circle\n",
    "\tc = None\n",
    "\tfor (i, p) in enumerate(shuffled):\n",
    "\t\tif c is None or not is_in_circle(c, p):\n",
    "\t\t\tc = _make_circle_one_point(shuffled[ : i + 1], p)\n",
    "\treturn c\n",
    "\n",
    "\n",
    "# One boundary point known\n",
    "def _make_circle_one_point(points, p):\n",
    "\tc = (p[0], p[1], 0.0)\n",
    "\tfor (i, q) in enumerate(points):\n",
    "\t\tif not is_in_circle(c, q):\n",
    "\t\t\tif c[2] == 0.0:\n",
    "\t\t\t\tc = make_diameter(p, q)\n",
    "\t\t\telse:\n",
    "\t\t\t\tc = _make_circle_two_points(points[ : i + 1], p, q)\n",
    "\treturn c\n",
    "\n",
    "\n",
    "# Two boundary points known\n",
    "def _make_circle_two_points(points, p, q):\n",
    "\tcirc = make_diameter(p, q)\n",
    "\tleft  = None\n",
    "\tright = None\n",
    "\tpx, py = p\n",
    "\tqx, qy = q\n",
    "\t\n",
    "\t# For each point not in the two-point circle\n",
    "\tfor r in points:\n",
    "\t\tif is_in_circle(circ, r):\n",
    "\t\t\tcontinue\n",
    "\t\t\n",
    "\t\t# Form a circumcircle and classify it on left or right side\n",
    "\t\tcross = _cross_product(px, py, qx, qy, r[0], r[1])\n",
    "\t\tc = make_circumcircle(p, q, r)\n",
    "\t\tif c is None:\n",
    "\t\t\tcontinue\n",
    "\t\telif cross > 0.0 and (left is None or _cross_product(px, py, qx, qy, c[0], c[1]) > _cross_product(px, py, qx, qy, left[0], left[1])):\n",
    "\t\t\tleft = c\n",
    "\t\telif cross < 0.0 and (right is None or _cross_product(px, py, qx, qy, c[0], c[1]) < _cross_product(px, py, qx, qy, right[0], right[1])):\n",
    "\t\t\tright = c\n",
    "\t\n",
    "\t# Select which circle to return\n",
    "\tif left is None and right is None:\n",
    "\t\treturn circ\n",
    "\telif left is None:\n",
    "\t\treturn right\n",
    "\telif right is None:\n",
    "\t\treturn left\n",
    "\telse:\n",
    "\t\treturn left if (left[2] <= right[2]) else right\n",
    "\n",
    "\n",
    "def make_diameter(a, b):\n",
    "\tcx = (a[0] + b[0]) / 2\n",
    "\tcy = (a[1] + b[1]) / 2\n",
    "\tr0 = math.hypot(cx - a[0], cy - a[1])\n",
    "\tr1 = math.hypot(cx - b[0], cy - b[1])\n",
    "\treturn (cx, cy, max(r0, r1))\n",
    "\n",
    "\n",
    "def make_circumcircle(a, b, c):\n",
    "\t# Mathematical algorithm from Wikipedia: Circumscribed circle\n",
    "\tox = (min(a[0], b[0], c[0]) + max(a[0], b[0], c[0])) / 2\n",
    "\toy = (min(a[1], b[1], c[1]) + max(a[1], b[1], c[1])) / 2\n",
    "\tax = a[0] - ox;  ay = a[1] - oy\n",
    "\tbx = b[0] - ox;  by = b[1] - oy\n",
    "\tcx = c[0] - ox;  cy = c[1] - oy\n",
    "\td = (ax * (by - cy) + bx * (cy - ay) + cx * (ay - by)) * 2.0\n",
    "\tif d == 0.0:\n",
    "\t\treturn None\n",
    "\tx = ox + ((ax*ax + ay*ay) * (by - cy) + (bx*bx + by*by) * (cy - ay) + (cx*cx + cy*cy) * (ay - by)) / d\n",
    "\ty = oy + ((ax*ax + ay*ay) * (cx - bx) + (bx*bx + by*by) * (ax - cx) + (cx*cx + cy*cy) * (bx - ax)) / d\n",
    "\tra = math.hypot(x - a[0], y - a[1])\n",
    "\trb = math.hypot(x - b[0], y - b[1])\n",
    "\trc = math.hypot(x - c[0], y - c[1])\n",
    "\treturn (x, y, max(ra, rb, rc))\n",
    "\n",
    "\n",
    "_MULTIPLICATIVE_EPSILON = 1 + 1e-14\n",
    "\n",
    "def is_in_circle(c, p):\n",
    "\treturn c is not None and math.hypot(p[0] - c[0], p[1] - c[1]) <= c[2] * _MULTIPLICATIVE_EPSILON\n",
    "\n",
    "\n",
    "# Returns twice the signed area of the triangle defined by (x0, y0), (x1, y1), (x2, y2).\n",
    "def _cross_product(x0, y0, x1, y1, x2, y2):\n",
    "\treturn (x1 - x0) * (y2 - y0) - (y1 - y0) * (x2 - x0)"
   ]
  },
  {
   "cell_type": "code",
   "execution_count": 46,
   "id": "2d2731c1",
   "metadata": {},
   "outputs": [
    {
     "data": {
      "application/vnd.jupyter.widget-view+json": {
       "model_id": "28dd42bed63d48b1bca5ccd8c85e77a2",
       "version_major": 2,
       "version_minor": 0
      },
      "text/plain": [
       "interactive(children=(FloatSlider(value=15.0, continuous_update=False, description='hist_length', max=437.3299…"
      ]
     },
     "metadata": {},
     "output_type": "display_data"
    },
    {
     "data": {
      "text/plain": [
       "<function __main__.plot_radius_comparison(hist_length, max_time)>"
      ]
     },
     "execution_count": 46,
     "metadata": {},
     "output_type": "execute_result"
    }
   ],
   "source": [
    "def plot_radius_comparison(hist_length, max_time):\n",
    "    sample = df[(df[\"ts\"] >= max_time - hist_length) & (df[\"ts\"] <= max_time)]\n",
    "    foo = sample[\"o.ct_cn\"].apply(lambda x: np.nan if isinstance(x, float) else make_circle(x)[2]+30)\n",
    "    plt.scatter(sample[\"ts\"], sample[\"o.ct_cradius\"], label=\"threat radius\")\n",
    "    plt.scatter(sample[\"ts\"], sample[\"o.scm\"], label=\"threat radius\")\n",
    "    plt.scatter(sample[\"ts\"], foo, label=\"min radius\", marker=\"x\")\n",
    "    plt.legend()\n",
    "    plt.title(\"cradius vs smallest enclosing radius\")\n",
    "    plt.show()\n",
    "\n",
    "ipywidgets.interact(\n",
    "    plot_radius_comparison,\n",
    "    hist_length=ipywidgets.FloatSlider(value=15, min=0, max=df[\"ts\"].max()-df[\"ts\"].min(), continuous_update=False),\n",
    "    max_time=ipywidgets.FloatSlider(value=df[\"ts\"].max(), min=df[\"ts\"].min(), max=df[\"ts\"].max()+.1, continuous_update=False))"
   ]
  },
  {
   "cell_type": "markdown",
   "id": "12a7d799",
   "metadata": {},
   "source": [
    "# History Visualization"
   ]
  },
  {
   "cell_type": "markdown",
   "id": "e7b61368",
   "metadata": {},
   "source": [
    "## Position and Velocity"
   ]
  },
  {
   "cell_type": "code",
   "execution_count": 47,
   "id": "05fc6ec3",
   "metadata": {
    "scrolled": false
   },
   "outputs": [
    {
     "data": {
      "application/vnd.jupyter.widget-view+json": {
       "model_id": "636af841e8d3439fae928a3aa14d5d7e",
       "version_major": 2,
       "version_minor": 0
      },
      "text/plain": [
       "interactive(children=(FloatSlider(value=15.0, continuous_update=False, description='hist_length', max=437.3299…"
      ]
     },
     "metadata": {},
     "output_type": "display_data"
    },
    {
     "data": {
      "text/plain": [
       "<function __main__.plot_collision_chart(hist_length=437.6632798865824, max_time=437.6632798865824, sampling_interval=50, show_tloc=True, show_tv=True, show_ctdv=True, show_v=True, show_cn=True, show_all_cts=True)>"
      ]
     },
     "execution_count": 47,
     "metadata": {},
     "output_type": "execute_result"
    }
   ],
   "source": [
    "def plot_collision_chart(hist_length=df[\"ts\"].max(), max_time=df[\"ts\"].max(), sampling_interval=50, show_tloc=True, show_tv=True, show_ctdv=True, show_v=True, show_cn=True, show_all_cts=True):\n",
    "    plt.figure(figsize=(10, 10))\n",
    "    sample = df[(df[\"ts\"] >= max_time - hist_length) & (df[\"ts\"] <= max_time)].iloc[::sampling_interval]\n",
    "    scale = None\n",
    "    if show_v:\n",
    "        q = plt.quiver(sample[\"loc.x\"], sample[\"loc.y\"], sample[\"v.x\"], sample[\"v.y\"], scale=scale, units=\"inches\", label=\"v\")\n",
    "        q._init()\n",
    "        scale = q.scale\n",
    "    ctdv_df = sample[~(sample[\"o.ct_dv\"].isna())]\n",
    "    if show_ctdv:\n",
    "        q = plt.quiver(ctdv_df[\"loc.x\"], ctdv_df[\"loc.y\"], ctdv_df[\"o.ct_dv.x\"], ctdv_df[\"o.ct_dv.y\"], scale=scale, units=\"inches\", label=\"ctdv\", color=\"orange\")\n",
    "        q._init()\n",
    "        scale = q.scale\n",
    "    if show_tv:\n",
    "        q = plt.quiver(sample[\"loc.x\"], sample[\"loc.y\"], sample[\"o.t_v.x\"], sample[\"o.t_v.y\"], scale=scale, units=\"inches\", label=\"tv\", color=\"purple\")\n",
    "        q._init()\n",
    "        scale = q.scale\n",
    "    \n",
    "    \n",
    "    if show_all_cts:\n",
    "        ctv_df = sample\n",
    "    else:\n",
    "        ctv_df = sample[sample[\"o.ct\"] == sample.iloc[-1][\"o.ct\"]]\n",
    "    q = plt.quiver(ctv_df[\"o.ct_loc.x\"], ctv_df[\"o.ct_loc.y\"], ctv_df[\"o.ct_v.x\"], ctv_df[\"o.ct_v.y\"], scale=scale, units=\"inches\", label=\"ctv\", color=\"cyan\")\n",
    "    q._init()\n",
    "    scale = q.scale\n",
    "    \n",
    "    if show_all_cts:\n",
    "        cts = df[\"o.ct\"].unique()\n",
    "    else:\n",
    "        cts = [sample.iloc[-1][\"o.ct\"]]\n",
    "        \n",
    "    cmap = plt.get_cmap('viridis')\n",
    "    for x, c in zip(cts, cmap(np.linspace(0, 1, len(cts)))):\n",
    "        if not isinstance(x, str):\n",
    "            continue\n",
    "        ct = sample[sample[\"o.ct\"] == x]\n",
    "        if len(ct) == 0:\n",
    "            continue\n",
    "        plt.scatter(ct[\"o.ct_loc.x\"], ct[\"o.ct_loc.y\"], color=c, label=x[:8])\n",
    "        \n",
    "        t_next = 10\n",
    "        x, y = ct.iloc[-1][\"o.ct_loc.x\"], ct.iloc[-1][\"o.ct_loc.y\"]\n",
    "        x_next, y_next = ct.iloc[-1][\"o.ct_loc.x\"]+ct.iloc[-1][\"o.ct_v.x\"]*t_next, ct.iloc[-1][\"o.ct_loc.y\"]+ct.iloc[-1][\"o.ct_v.y\"]*t_next\n",
    "        if not np.allclose((x, y), (x_next, y_next)):\n",
    "            plt.axline((x,y),(x_next,y_next), marker = 'x', color=c, dashes=[2,2])\n",
    "    \n",
    "    cloc_df = sample#[~(sample[\"o.ct_cloc\"].isna())]\n",
    "    if not isinstance(cloc_df.iloc[-1][\"o.ct\"], float):\n",
    "        cloc_x = cloc_df.iloc[-1][\"o.ct_cloc.x\"]\n",
    "        cloc_y = cloc_df.iloc[-1][\"o.ct_cloc.y\"]\n",
    "        cradius = cloc_df.iloc[-1][\"o.ct_cradius\"]\n",
    "        cmargin = cloc_df.iloc[-1].get([\"o.scm\"],500)\n",
    "        threat_radius = plt.Circle((cloc_x, cloc_y), cradius, color=\"red\", fill=False)\n",
    "        margin = plt.Circle((cloc_x, cloc_y), cradius+cmargin, color=\"orange\", fill=False)\n",
    "        margin_hist = plt.Circle((cloc_x, cloc_y), cradius+cmargin*2, color=\"green\", fill=False)\n",
    "        plt.gca().add_patch(threat_radius)\n",
    "        plt.gca().add_patch(margin)\n",
    "        plt.gca().add_patch(margin_hist)\n",
    "        print(f'{cradius=}')\n",
    "        \n",
    "        if show_cn:\n",
    "            cn_x, cn_y = list(zip(*cloc_df.iloc[-1][\"o.ct_cn\"]))\n",
    "            plt.scatter(cn_x, cn_y, label=\"ct_cnloc\", marker=\"+\", color=\"pink\")\n",
    "    \n",
    "    if show_tloc and not all(sample[\"o.t_loc.x\"].isna()):\n",
    "        plt.scatter(sample[\"o.t_loc.x\"], sample[\"o.t_loc.y\"], label=\"t_loc\", marker=\"x\")\n",
    "        for ((tloc_x, tloc_y), ad, md) in sample.groupby([\"o.t_loc.x\", \"o.t_loc.y\"]).agg({\"o.t_loc\": \"min\", \"o.ad\":\"min\", \"o.md\":\"min\"}).values:\n",
    "            arrival_dist = plt.Circle((tloc_x, tloc_y), ad, color=\"green\", fill=False)\n",
    "            nearby_dist = plt.Circle((tloc_x, tloc_y), ad*5, color=\"green\", ls=\"--\", fill=False)\n",
    "            min_dist = plt.Circle((tloc_x, tloc_y), md, color=\"red\", fill=False)\n",
    "            plt.gca().add_patch(arrival_dist)\n",
    "            plt.gca().add_patch(nearby_dist)\n",
    "            plt.gca().add_patch(min_dist)\n",
    "            \n",
    "    t_next = hist_length\n",
    "    x, y = sample.iloc[-1][\"loc.x\"], sample.iloc[-1][\"loc.y\"]\n",
    "    x_next, y_next = sample.iloc[-1][\"loc.x\"]+sample.iloc[-1][\"v.x\"]*t_next, sample.iloc[-1][\"loc.y\"]+sample.iloc[-1][\"v.y\"]*t_next\n",
    "    if not np.allclose((x, y), (x_next, y_next)):\n",
    "        plt.axline((x,y),(x_next,y_next),marker = 'o')\n",
    "    \n",
    "    plt.axis('equal')\n",
    "    #center = (-72000, -50000)\n",
    "    #radius = 20000\n",
    "    #plt.xlim(center[0]-radius,center[0]+radius)\n",
    "    #plt.ylim(center[1]-radius,center[1]+radius)\n",
    "\n",
    "    plt.legend()\n",
    "    plt.show()\n",
    "    \n",
    "ipywidgets.interact(\n",
    "    plot_collision_chart,\n",
    "    hist_length=ipywidgets.FloatSlider(value=15, min=0, max=df[\"ts\"].max()-df[\"ts\"].min(), continuous_update=False),\n",
    "    max_time=ipywidgets.FloatSlider(step=1/60, value=df[\"ts\"].max()+1/60, min=df[\"ts\"].min(), max=df[\"ts\"].max()+1/60, continuous_update=False),\n",
    "    sampling_interval=ipywidgets.IntSlider(value=2, min=1, max=100, continuous_update=False),\n",
    "    show_tloc=ipywidgets.Checkbox(value=True),\n",
    "    show_tv=ipywidgets.Checkbox(value=True),\n",
    "    show_ctdv=ipywidgets.Checkbox(value=True),\n",
    "    show_v=ipywidgets.Checkbox(value=True),\n",
    "    show_cn=ipywidgets.Checkbox(value=True),\n",
    "    show_all_cts=ipywidgets.Checkbox(value=True),\n",
    ")"
   ]
  },
  {
   "cell_type": "markdown",
   "id": "6e5e3aad",
   "metadata": {},
   "source": [
    "## Position and Heading"
   ]
  },
  {
   "cell_type": "code",
   "execution_count": 48,
   "id": "2f7475c2",
   "metadata": {
    "scrolled": false
   },
   "outputs": [
    {
     "data": {
      "application/vnd.jupyter.widget-view+json": {
       "model_id": "229e83acc01947779be9356c41d89272",
       "version_major": 2,
       "version_minor": 0
      },
      "text/plain": [
       "interactive(children=(FloatSlider(value=15.0, continuous_update=False, description='hist_length', max=437.3299…"
      ]
     },
     "metadata": {},
     "output_type": "display_data"
    },
    {
     "data": {
      "text/plain": [
       "<function __main__.plot_collision_chart(hist_length=437.6632798865824, max_time=437.6632798865824)>"
      ]
     },
     "execution_count": 48,
     "metadata": {},
     "output_type": "execute_result"
    }
   ],
   "source": [
    "def plot_collision_chart(hist_length=df[\"ts\"].max(), max_time=df[\"ts\"].max()):\n",
    "    sample = df[(df[\"ts\"] >= max_time - hist_length) & (df[\"ts\"] <= max_time)]#.iloc[::30]\n",
    "   \n",
    "    plt.figure(figsize=(10, 10))\n",
    "    plt.quiver(sample[\"loc.x\"], sample[\"loc.y\"], sample[\"angle.x\"], sample[\"angle.y\"], label=\"heading\")\n",
    "    plt.quiver(sample[\"loc.x\"], sample[\"loc.y\"], sample[\"_ada.x\"], sample[\"_ada.y\"], label=\"acceleration heading\", color=\"cyan\")\n",
    "    ctdv_df = sample[~(sample[\"o.ct_dv\"].isna())]\n",
    "    #plt.quiver(ctdv_df[\"loc.x\"], ctdv_df[\"loc.y\"], ctdv_df[\"o.ct_dv.x\"], ctdv_df[\"o.ct_dv.y\"], label=\"ctdv\", color=\"orange\")\n",
    "    #plt.quiver(sample[\"loc.x\"], sample[\"loc.y\"], sample[\"o.t_v.x\"], sample[\"o.t_v.y\"], label=\"tv\", color=\"purple\")\n",
    "    cmap = plt.get_cmap('viridis')\n",
    "    #for x, c in zip(df[\"o.ct\"].unique(), cmap(np.linspace(0, 1, len(sample[\"o.ct\"].unique())))):\n",
    "    #    print(x)\n",
    "    #    if not isinstance(x, str):\n",
    "    #        continue\n",
    "    #    ct = sample[sample[\"o.ct\"] == x]\n",
    "    #    plt.scatter(ct[\"o.ct_loc.x\"], ct[\"o.ct_loc.y\"], color=c, label=x[:8])\n",
    "    #plt.scatter(sample[\"o.t_loc.x\"], sample[\"o.t_loc.y\"], label=\"t_loc\")\n",
    "    #plt.axis('square')\n",
    "    #center = (-33555, -5000)\n",
    "    #radius = 15000\n",
    "    #plt.xlim(center[0]-radius,center[0]+radius)\n",
    "    #plt.ylim(center[1]-radius,center[1]+radius)\n",
    "    \n",
    "    print(sample[\"ts\"].min())\n",
    "    print(sample[\"ts\"].max())\n",
    "    print((sample[\"ts\"].max() - sample[\"ts\"].min())/(1/60))\n",
    "    \n",
    "    plt.legend()\n",
    "    plt.axis('equal')\n",
    "    plt.show()\n",
    "    \n",
    "ipywidgets.interact(plot_collision_chart, hist_length=ipywidgets.FloatSlider(value=15, min=0, max=df[\"ts\"].max()-df[\"ts\"].min(), continuous_update=False), max_time=ipywidgets.FloatSlider(value=df[\"ts\"].max(), min=df[\"ts\"].min(), max=df[\"ts\"].max(), continuous_update=False))"
   ]
  },
  {
   "cell_type": "code",
   "execution_count": 49,
   "id": "369a3889",
   "metadata": {},
   "outputs": [
    {
     "data": {
      "text/html": [
       "<div>\n",
       "<style scoped>\n",
       "    .dataframe tbody tr th:only-of-type {\n",
       "        vertical-align: middle;\n",
       "    }\n",
       "\n",
       "    .dataframe tbody tr th {\n",
       "        vertical-align: top;\n",
       "    }\n",
       "\n",
       "    .dataframe thead th {\n",
       "        text-align: right;\n",
       "    }\n",
       "</style>\n",
       "<table border=\"1\" class=\"dataframe\">\n",
       "  <thead>\n",
       "    <tr style=\"text-align: right;\">\n",
       "      <th></th>\n",
       "      <th>ts</th>\n",
       "      <th>o._ada</th>\n",
       "      <th>o.ct</th>\n",
       "    </tr>\n",
       "  </thead>\n",
       "  <tbody>\n",
       "    <tr>\n",
       "      <th>2</th>\n",
       "      <td>1.0</td>\n",
       "      <td>-2.426843</td>\n",
       "      <td>NaN</td>\n",
       "    </tr>\n",
       "  </tbody>\n",
       "</table>\n",
       "</div>"
      ],
      "text/plain": [
       "    ts    o._ada o.ct\n",
       "2  1.0 -2.426843  NaN"
      ]
     },
     "execution_count": 49,
     "metadata": {},
     "output_type": "execute_result"
    }
   ],
   "source": [
    "df[(df[\"ts\"] > 0.9)& (df[\"ts\"]<1)][[\"ts\", \"o._ada\", \"o.ct\"]]#.apply(lambda x: util.normalize_angle(x, shortest=True))"
   ]
  },
  {
   "cell_type": "code",
   "execution_count": 50,
   "id": "7b74a956",
   "metadata": {},
   "outputs": [
    {
     "data": {
      "text/plain": [
       "2    2.454199\n",
       "Name: a, dtype: float64"
      ]
     },
     "execution_count": 50,
     "metadata": {},
     "output_type": "execute_result"
    }
   ],
   "source": [
    "df[(df[\"ts\"] > 0.9)& (df[\"ts\"]<1)][\"a\"].apply(lambda x: util.normalize_angle(x, shortest=True))"
   ]
  }
 ],
 "metadata": {
  "kernelspec": {
   "display_name": "Python 3 (ipykernel)",
   "language": "python",
   "name": "python3"
  },
  "language_info": {
   "codemirror_mode": {
    "name": "ipython",
    "version": 3
   },
   "file_extension": ".py",
   "mimetype": "text/x-python",
   "name": "python",
   "nbconvert_exporter": "python",
   "pygments_lexer": "ipython3",
   "version": "3.10.7"
  },
  "toc": {
   "base_numbering": 1,
   "nav_menu": {},
   "number_sections": true,
   "sideBar": true,
   "skip_h1_title": false,
   "title_cell": "Table of Contents",
   "title_sidebar": "Contents",
   "toc_cell": false,
   "toc_position": {},
   "toc_section_display": true,
   "toc_window_display": false
  }
 },
 "nbformat": 4,
 "nbformat_minor": 5
}
