{
 "cells": [
  {
   "cell_type": "code",
   "execution_count": 1,
   "id": "9c5bbe2a",
   "metadata": {},
   "outputs": [],
   "source": [
    "import json\n",
    "\n",
    "import pandas as pd\n",
    "import numpy as np\n",
    "from matplotlib import pyplot as plt\n",
    "import ipywidgets\n",
    "\n",
    "from stellarpunk import util"
   ]
  },
  {
   "cell_type": "markdown",
   "id": "d6d53462",
   "metadata": {},
   "source": [
    "# Loading and Preparing Data"
   ]
  },
  {
   "cell_type": "code",
   "execution_count": 2,
   "id": "ceb18552",
   "metadata": {},
   "outputs": [],
   "source": [
    "df_base = pd.read_json(\"/tmp/stellarpunk_test.test_many_threats.history.gz\", lines=True)\n",
    "df_base = df_base.join(pd.json_normalize(df_base[\"o\"]).add_prefix(\"o.\"))"
   ]
  },
  {
   "cell_type": "code",
   "execution_count": 3,
   "id": "1585e6a6",
   "metadata": {},
   "outputs": [
    {
     "data": {
      "text/plain": [
       "0    24dadf7f-45ce-4737-9014-54c2d2b720e9\n",
       "1    49e55767-38e9-41cd-8458-54554ae1dd6d\n",
       "2    4f822992-3ae5-4087-965f-9fdcc7a0ae80\n",
       "3    35956b59-857b-4bc3-af9c-9a00134234ef\n",
       "dtype: object"
      ]
     },
     "execution_count": 3,
     "metadata": {},
     "output_type": "execute_result"
    }
   ],
   "source": [
    "eids = pd.Series(df_base[\"eid\"].unique())\n",
    "eids"
   ]
  },
  {
   "cell_type": "code",
   "execution_count": 4,
   "id": "288e3f1e",
   "metadata": {},
   "outputs": [
    {
     "data": {
      "text/plain": [
       "Series([], dtype: object)"
      ]
     },
     "execution_count": 4,
     "metadata": {},
     "output_type": "execute_result"
    }
   ],
   "source": [
    "eids[pd.Series(df_base[\"eid\"].unique()).str.startswith(\"8ccb\")]"
   ]
  },
  {
   "cell_type": "code",
   "execution_count": 5,
   "id": "c9be6491",
   "metadata": {},
   "outputs": [
    {
     "data": {
      "text/plain": [
       "array(['49e55767-38e9-41cd-8458-54554ae1dd6d'], dtype=object)"
      ]
     },
     "execution_count": 5,
     "metadata": {},
     "output_type": "execute_result"
    }
   ],
   "source": [
    "target_eid = df_base[\"eid\"].unique()[1]\n",
    "df_base = df_base[df_base[\"eid\"] == target_eid].reset_index()\n",
    "df_base[\"eid\"].unique()"
   ]
  },
  {
   "cell_type": "code",
   "execution_count": 6,
   "id": "b77f957c",
   "metadata": {},
   "outputs": [],
   "source": [
    "loc = pd.DataFrame(np.vstack(df_base[\"loc\"]), columns=[\"loc.x\", \"loc.y\"])\n",
    "v = pd.DataFrame(np.vstack(df_base[\"v\"]), columns=[\"v.x\", \"v.y\"])\n",
    "\n",
    "empty_array = np.empty(len(df_base))\n",
    "empty_array[:] = np.nan\n",
    "\n",
    "if \"o.t_loc\" in df_base:\n",
    "    o_tloc = pd.DataFrame(np.vstack(df_base[\"o.t_loc\"].apply(lambda x: (np.nan, np.nan) if np.all(np.isnan(x)) else x)), columns=[\"o.t_loc.x\", \"o.t_loc.y\"])\n",
    "    o_tv = pd.DataFrame(np.vstack(df_base[\"o.t_v\"].apply(lambda x: (np.nan, np.nan) if np.all(np.isnan(x)) else x)), columns=[\"o.t_v.x\", \"o.t_v.y\"])\n",
    "else:\n",
    "    o_tloc = pd.DataFrame({\"o.t_loc\": empty_array, \"o.t_loc.x\": empty_array, \"o.t_loc.y\": empty_array})\n",
    "    o_tv = pd.DataFrame({\"o.t_v\": empty_array, \"o.t_v.x\": empty_array, \"o.t_v.y\": empty_array})\n",
    "    \n",
    "if \"o.ct\" in df_base:\n",
    "    o_ctloc = pd.DataFrame(np.vstack(df_base[\"o.ct_loc\"].apply(lambda x: (np.nan, np.nan) if np.all(np.isnan(x)) else x)), columns=[\"o.ct_loc.x\", \"o.ct_loc.y\"])\n",
    "    o_ctdv = pd.DataFrame(np.vstack(df_base[\"o.ct_dv\"].apply(lambda x: (np.nan, np.nan) if np.all(np.isnan(x)) else x)), columns=[\"o.ct_dv.x\", \"o.ct_dv.y\"])\n",
    "    o_ctv = pd.DataFrame(np.vstack(df_base[\"o.ct_v\"].apply(lambda x: (np.nan, np.nan) if np.all(np.isnan(x)) else x)), columns=[\"o.ct_v.x\", \"o.ct_v.y\"])\n",
    "    o_ctcloc = pd.DataFrame(np.vstack(df_base[\"o.ct_cloc\"].apply(lambda x: (np.nan, np.nan) if np.all(np.isnan(x)) else x)), columns=[\"o.ct_cloc.x\", \"o.ct_cloc.y\"])\n",
    "else:\n",
    "    o_ctloc = pd.DataFrame({\"o.ct_loc\": empty_array, \"o.ct_loc.x\": empty_array, \"o.ct_loc.y\": empty_array})\n",
    "    o_ctdv = pd.DataFrame({\"o.ct_dv\": empty_array, \"o.ct_dv.x\": empty_array, \"o.ct_dv.y\": empty_array})\n",
    "    o_ctv = pd.DataFrame({\"o.ct_v\": empty_array, \"o.ct_v.x\": empty_array, \"o.ct_v.y\": empty_array})\n",
    "    o_ctcloc = pd.DataFrame({\"o.ct_cloc\": empty_array, \"o.ct_cloc.x\": empty_array, \"o.ct_cloc.y\": empty_array})\n",
    "angle = pd.DataFrame(np.vstack(df_base.apply(lambda row: np.array(util.polar_to_cartesian(100, row[\"a\"])), axis=1)), columns=[\"angle.x\", \"angle.y\"])\n",
    "df = pd.concat([df_base, loc, v, o_ctloc, o_ctcloc, o_ctdv, o_ctv, o_tloc, o_tv, angle], axis=1)\n",
    "\n",
    "if \"o.ct\" not in df_base:\n",
    "    df[\"o.ct\"] = empty_array\n",
    "    df[\"o.ct_ts\"] = empty_array\n",
    "    df[\"o.cac\"] = empty_array\n",
    "    df[\"o.cbdr\"] = empty_array\n",
    "    df[\"o.ct_ct\"] = empty_array\n",
    "    df[\"o.ct_cradius\"] = empty_array\n",
    "    df[\"o.nd\"] = empty_array\n",
    "    df[\"o.ct_dist\"] = empty_array\n",
    "else:\n",
    "    df[\"o.ct_dist\"] = np.linalg.norm(np.vstack(df[\"loc\"]) - np.vstack(df[\"o.ct_cloc\"].apply(lambda x: (np.nan, np.nan) if np.all(np.isnan(x)) else x)), axis=1)\n",
    "    \n",
    "if \"o.t_loc\" not in df_base:\n",
    "    df[\"o.cs\"] = empty_array\n",
    "    df[\"o.t_dist\"] = empty_array\n",
    "else:\n",
    "    df[\"o.t_dist\"] = np.linalg.norm(np.vstack(df[\"loc\"]) - np.vstack(df[\"o.t_loc\"].apply(lambda x: (np.nan, np.nan) if np.all(np.isnan(x)) else x)), axis=1)"
   ]
  },
  {
   "cell_type": "code",
   "execution_count": 7,
   "id": "6e17314e",
   "metadata": {},
   "outputs": [],
   "source": [
    "df[\"speed\"] = np.linalg.norm(df[[\"v.x\", \"v.y\"]], axis=1)\n",
    "df[\"o.t_speed\"] = np.linalg.norm(df[[\"o.t_v.x\", \"o.t_v.y\"]], axis=1)\n",
    "df[\"f_mag\"] = df[\"f\"].apply(lambda x:np.linalg.norm(x))"
   ]
  },
  {
   "cell_type": "code",
   "execution_count": 8,
   "id": "39640462",
   "metadata": {},
   "outputs": [],
   "source": [
    "#df[\"o.ct_v.x\"] = (df[\"o.ct_loc.x\"].shift(1) - df[\"o.ct_loc.x\"]) / (df[\"ts\"].shift(1) - df[\"ts\"])\n",
    "#df[\"o.ct_v.y\"] = (df[\"o.ct_loc.y\"].shift(1) - df[\"o.ct_loc.y\"]) / (df[\"ts\"].shift(1) - df[\"ts\"])"
   ]
  },
  {
   "cell_type": "code",
   "execution_count": 9,
   "id": "34fd5383",
   "metadata": {},
   "outputs": [
    {
     "data": {
      "text/html": [
       "<div>\n",
       "<style scoped>\n",
       "    .dataframe tbody tr th:only-of-type {\n",
       "        vertical-align: middle;\n",
       "    }\n",
       "\n",
       "    .dataframe tbody tr th {\n",
       "        vertical-align: top;\n",
       "    }\n",
       "\n",
       "    .dataframe thead th {\n",
       "        text-align: right;\n",
       "    }\n",
       "</style>\n",
       "<table border=\"1\" class=\"dataframe\">\n",
       "  <thead>\n",
       "    <tr style=\"text-align: right;\">\n",
       "      <th></th>\n",
       "      <th>index</th>\n",
       "      <th>p</th>\n",
       "      <th>eid</th>\n",
       "      <th>ts</th>\n",
       "      <th>loc</th>\n",
       "      <th>r</th>\n",
       "      <th>a</th>\n",
       "      <th>v</th>\n",
       "      <th>av</th>\n",
       "      <th>f</th>\n",
       "      <th>...</th>\n",
       "      <th>o.t_loc.y</th>\n",
       "      <th>o.t_v.x</th>\n",
       "      <th>o.t_v.y</th>\n",
       "      <th>angle.x</th>\n",
       "      <th>angle.y</th>\n",
       "      <th>o.ct_dist</th>\n",
       "      <th>o.t_dist</th>\n",
       "      <th>speed</th>\n",
       "      <th>o.t_speed</th>\n",
       "      <th>f_mag</th>\n",
       "    </tr>\n",
       "  </thead>\n",
       "  <tbody>\n",
       "    <tr>\n",
       "      <th>0</th>\n",
       "      <td>3159</td>\n",
       "      <td>SHP</td>\n",
       "      <td>49e55767-38e9-41cd-8458-54554ae1dd6d</td>\n",
       "      <td>0.000000</td>\n",
       "      <td>[-155658.66557027007, 14490.11653909362]</td>\n",
       "      <td>30</td>\n",
       "      <td>6.636648</td>\n",
       "      <td>[-630.2860517808444, -353.0702665909155]</td>\n",
       "      <td>0.288905</td>\n",
       "      <td>[174488.21036001755, 97743.87165115909]</td>\n",
       "      <td>...</td>\n",
       "      <td>10529.524943</td>\n",
       "      <td>-436.220526</td>\n",
       "      <td>-244.359679</td>\n",
       "      <td>93.817969</td>\n",
       "      <td>34.614863</td>\n",
       "      <td>7162.146247</td>\n",
       "      <td>8104.020291</td>\n",
       "      <td>722.439700</td>\n",
       "      <td>500.000000</td>\n",
       "      <td>200000.0</td>\n",
       "    </tr>\n",
       "    <tr>\n",
       "      <th>1</th>\n",
       "      <td>3160</td>\n",
       "      <td>SHP</td>\n",
       "      <td>49e55767-38e9-41cd-8458-54554ae1dd6d</td>\n",
       "      <td>0.016667</td>\n",
       "      <td>[-155669.17033779973, 14484.232034650438]</td>\n",
       "      <td>30</td>\n",
       "      <td>6.641463</td>\n",
       "      <td>[-628.8319833611777, -352.25573432715584]</td>\n",
       "      <td>0.322239</td>\n",
       "      <td>[6470.1136184825355, 7624.803588547499]</td>\n",
       "      <td>...</td>\n",
       "      <td>10529.524943</td>\n",
       "      <td>-341.902574</td>\n",
       "      <td>-191.525154</td>\n",
       "      <td>93.650208</td>\n",
       "      <td>35.066202</td>\n",
       "      <td>7758.049370</td>\n",
       "      <td>8091.979629</td>\n",
       "      <td>720.773033</td>\n",
       "      <td>391.891892</td>\n",
       "      <td>10000.0</td>\n",
       "    </tr>\n",
       "    <tr>\n",
       "      <th>2</th>\n",
       "      <td>3161</td>\n",
       "      <td>SHP</td>\n",
       "      <td>49e55767-38e9-41cd-8458-54554ae1dd6d</td>\n",
       "      <td>0.033333</td>\n",
       "      <td>[-155679.65087085575, 14478.361105744985]</td>\n",
       "      <td>30</td>\n",
       "      <td>6.646834</td>\n",
       "      <td>[-628.7780657476903, -352.19219429725126]</td>\n",
       "      <td>0.355572</td>\n",
       "      <td>[6457.815130987603, 7635.222572655467]</td>\n",
       "      <td>...</td>\n",
       "      <td>10529.524943</td>\n",
       "      <td>-341.902574</td>\n",
       "      <td>-191.525154</td>\n",
       "      <td>93.460530</td>\n",
       "      <td>35.568656</td>\n",
       "      <td>7739.243830</td>\n",
       "      <td>8079.966745</td>\n",
       "      <td>720.694941</td>\n",
       "      <td>391.891892</td>\n",
       "      <td>10000.0</td>\n",
       "    </tr>\n",
       "    <tr>\n",
       "      <th>3</th>\n",
       "      <td>3162</td>\n",
       "      <td>SHP</td>\n",
       "      <td>49e55767-38e9-41cd-8458-54554ae1dd6d</td>\n",
       "      <td>0.050000</td>\n",
       "      <td>[-155690.13050528488, 14472.49123584003]</td>\n",
       "      <td>30</td>\n",
       "      <td>6.652760</td>\n",
       "      <td>[-628.7242506215988, -352.12856744247915]</td>\n",
       "      <td>0.388905</td>\n",
       "      <td>[6445.503684338433, 7645.618500499466]</td>\n",
       "      <td>...</td>\n",
       "      <td>10529.524943</td>\n",
       "      <td>-341.902563</td>\n",
       "      <td>-191.525174</td>\n",
       "      <td>93.248103</td>\n",
       "      <td>36.121894</td>\n",
       "      <td>7720.423238</td>\n",
       "      <td>8067.955163</td>\n",
       "      <td>720.616896</td>\n",
       "      <td>391.891892</td>\n",
       "      <td>10000.0</td>\n",
       "    </tr>\n",
       "    <tr>\n",
       "      <th>4</th>\n",
       "      <td>3163</td>\n",
       "      <td>SHP</td>\n",
       "      <td>49e55767-38e9-41cd-8458-54554ae1dd6d</td>\n",
       "      <td>0.066667</td>\n",
       "      <td>[-155700.60924279524, 14466.622426382655]</td>\n",
       "      <td>30</td>\n",
       "      <td>6.659242</td>\n",
       "      <td>[-628.670538090896, -352.064853954975]</td>\n",
       "      <td>0.422239</td>\n",
       "      <td>[6433.182738379566, 7655.988496243655]</td>\n",
       "      <td>...</td>\n",
       "      <td>10529.524943</td>\n",
       "      <td>-341.902540</td>\n",
       "      <td>-191.525216</td>\n",
       "      <td>93.012013</td>\n",
       "      <td>36.725542</td>\n",
       "      <td>7701.589200</td>\n",
       "      <td>8055.944881</td>\n",
       "      <td>720.538900</td>\n",
       "      <td>391.891892</td>\n",
       "      <td>10000.0</td>\n",
       "    </tr>\n",
       "    <tr>\n",
       "      <th>...</th>\n",
       "      <td>...</td>\n",
       "      <td>...</td>\n",
       "      <td>...</td>\n",
       "      <td>...</td>\n",
       "      <td>...</td>\n",
       "      <td>...</td>\n",
       "      <td>...</td>\n",
       "      <td>...</td>\n",
       "      <td>...</td>\n",
       "      <td>...</td>\n",
       "      <td>...</td>\n",
       "      <td>...</td>\n",
       "      <td>...</td>\n",
       "      <td>...</td>\n",
       "      <td>...</td>\n",
       "      <td>...</td>\n",
       "      <td>...</td>\n",
       "      <td>...</td>\n",
       "      <td>...</td>\n",
       "      <td>...</td>\n",
       "      <td>...</td>\n",
       "    </tr>\n",
       "    <tr>\n",
       "      <th>3154</th>\n",
       "      <td>6313</td>\n",
       "      <td>SHP</td>\n",
       "      <td>49e55767-38e9-41cd-8458-54554ae1dd6d</td>\n",
       "      <td>52.566667</td>\n",
       "      <td>[-161694.48296056787, 11687.156206789388]</td>\n",
       "      <td>30</td>\n",
       "      <td>10.267343</td>\n",
       "      <td>[-12.976329089565011, -14.521360461697084]</td>\n",
       "      <td>0.000000</td>\n",
       "      <td>[0.0, 0.0]</td>\n",
       "      <td>...</td>\n",
       "      <td>10529.524943</td>\n",
       "      <td>-12.956310</td>\n",
       "      <td>-14.498958</td>\n",
       "      <td>-66.555044</td>\n",
       "      <td>-74.635287</td>\n",
       "      <td>NaN</td>\n",
       "      <td>1552.489293</td>\n",
       "      <td>19.474471</td>\n",
       "      <td>19.444427</td>\n",
       "      <td>0.0</td>\n",
       "    </tr>\n",
       "    <tr>\n",
       "      <th>3155</th>\n",
       "      <td>6314</td>\n",
       "      <td>SHP</td>\n",
       "      <td>49e55767-38e9-41cd-8458-54554ae1dd6d</td>\n",
       "      <td>52.583333</td>\n",
       "      <td>[-161694.69889906596, 11686.914557495007]</td>\n",
       "      <td>30</td>\n",
       "      <td>10.267343</td>\n",
       "      <td>[-12.956309884720588, -14.498957662901395]</td>\n",
       "      <td>0.000000</td>\n",
       "      <td>[0.0, 0.0]</td>\n",
       "      <td>...</td>\n",
       "      <td>10529.524943</td>\n",
       "      <td>-12.936319</td>\n",
       "      <td>-14.476587</td>\n",
       "      <td>-66.555044</td>\n",
       "      <td>-74.635287</td>\n",
       "      <td>NaN</td>\n",
       "      <td>1552.165219</td>\n",
       "      <td>19.444427</td>\n",
       "      <td>19.414426</td>\n",
       "      <td>0.0</td>\n",
       "    </tr>\n",
       "    <tr>\n",
       "      <th>3156</th>\n",
       "      <td>6315</td>\n",
       "      <td>SHP</td>\n",
       "      <td>49e55767-38e9-41cd-8458-54554ae1dd6d</td>\n",
       "      <td>52.600000</td>\n",
       "      <td>[-161694.91450438832, 11686.67328104602]</td>\n",
       "      <td>30</td>\n",
       "      <td>10.267343</td>\n",
       "      <td>[-12.936319342276938, -14.476586939205728]</td>\n",
       "      <td>0.000000</td>\n",
       "      <td>[0.0, 0.0]</td>\n",
       "      <td>...</td>\n",
       "      <td>10529.524943</td>\n",
       "      <td>-12.916357</td>\n",
       "      <td>-14.454248</td>\n",
       "      <td>-66.555044</td>\n",
       "      <td>-74.635287</td>\n",
       "      <td>NaN</td>\n",
       "      <td>1551.841645</td>\n",
       "      <td>19.414426</td>\n",
       "      <td>19.384468</td>\n",
       "      <td>0.0</td>\n",
       "    </tr>\n",
       "    <tr>\n",
       "      <th>3157</th>\n",
       "      <td>6316</td>\n",
       "      <td>SHP</td>\n",
       "      <td>49e55767-38e9-41cd-8458-54554ae1dd6d</td>\n",
       "      <td>52.616667</td>\n",
       "      <td>[-161695.1297770121, 11686.43237690849]</td>\n",
       "      <td>30</td>\n",
       "      <td>10.267343</td>\n",
       "      <td>[-12.916357427558392, -14.45424825180537]</td>\n",
       "      <td>0.000000</td>\n",
       "      <td>[0.0, 0.0]</td>\n",
       "      <td>...</td>\n",
       "      <td>10529.524943</td>\n",
       "      <td>-12.896424</td>\n",
       "      <td>-14.431942</td>\n",
       "      <td>-66.555044</td>\n",
       "      <td>-74.635287</td>\n",
       "      <td>NaN</td>\n",
       "      <td>1551.518571</td>\n",
       "      <td>19.384468</td>\n",
       "      <td>19.354552</td>\n",
       "      <td>0.0</td>\n",
       "    </tr>\n",
       "    <tr>\n",
       "      <th>3158</th>\n",
       "      <td>6317</td>\n",
       "      <td>SHP</td>\n",
       "      <td>49e55767-38e9-41cd-8458-54554ae1dd6d</td>\n",
       "      <td>52.633333</td>\n",
       "      <td>[-161695.34471741386, 11686.191844549125]</td>\n",
       "      <td>30</td>\n",
       "      <td>10.267343</td>\n",
       "      <td>[-12.896424105911176, -14.43194156192089]</td>\n",
       "      <td>0.000000</td>\n",
       "      <td>[0.0, 0.0]</td>\n",
       "      <td>...</td>\n",
       "      <td>10529.524943</td>\n",
       "      <td>-12.876519</td>\n",
       "      <td>-14.409667</td>\n",
       "      <td>-66.555044</td>\n",
       "      <td>-74.635287</td>\n",
       "      <td>NaN</td>\n",
       "      <td>1551.195995</td>\n",
       "      <td>19.354552</td>\n",
       "      <td>19.324680</td>\n",
       "      <td>0.0</td>\n",
       "    </tr>\n",
       "  </tbody>\n",
       "</table>\n",
       "<p>3159 rows × 55 columns</p>\n",
       "</div>"
      ],
      "text/plain": [
       "      index    p                                   eid         ts  \\\n",
       "0      3159  SHP  49e55767-38e9-41cd-8458-54554ae1dd6d   0.000000   \n",
       "1      3160  SHP  49e55767-38e9-41cd-8458-54554ae1dd6d   0.016667   \n",
       "2      3161  SHP  49e55767-38e9-41cd-8458-54554ae1dd6d   0.033333   \n",
       "3      3162  SHP  49e55767-38e9-41cd-8458-54554ae1dd6d   0.050000   \n",
       "4      3163  SHP  49e55767-38e9-41cd-8458-54554ae1dd6d   0.066667   \n",
       "...     ...  ...                                   ...        ...   \n",
       "3154   6313  SHP  49e55767-38e9-41cd-8458-54554ae1dd6d  52.566667   \n",
       "3155   6314  SHP  49e55767-38e9-41cd-8458-54554ae1dd6d  52.583333   \n",
       "3156   6315  SHP  49e55767-38e9-41cd-8458-54554ae1dd6d  52.600000   \n",
       "3157   6316  SHP  49e55767-38e9-41cd-8458-54554ae1dd6d  52.616667   \n",
       "3158   6317  SHP  49e55767-38e9-41cd-8458-54554ae1dd6d  52.633333   \n",
       "\n",
       "                                            loc   r          a  \\\n",
       "0      [-155658.66557027007, 14490.11653909362]  30   6.636648   \n",
       "1     [-155669.17033779973, 14484.232034650438]  30   6.641463   \n",
       "2     [-155679.65087085575, 14478.361105744985]  30   6.646834   \n",
       "3      [-155690.13050528488, 14472.49123584003]  30   6.652760   \n",
       "4     [-155700.60924279524, 14466.622426382655]  30   6.659242   \n",
       "...                                         ...  ..        ...   \n",
       "3154  [-161694.48296056787, 11687.156206789388]  30  10.267343   \n",
       "3155  [-161694.69889906596, 11686.914557495007]  30  10.267343   \n",
       "3156   [-161694.91450438832, 11686.67328104602]  30  10.267343   \n",
       "3157    [-161695.1297770121, 11686.43237690849]  30  10.267343   \n",
       "3158  [-161695.34471741386, 11686.191844549125]  30  10.267343   \n",
       "\n",
       "                                               v        av  \\\n",
       "0       [-630.2860517808444, -353.0702665909155]  0.288905   \n",
       "1      [-628.8319833611777, -352.25573432715584]  0.322239   \n",
       "2      [-628.7780657476903, -352.19219429725126]  0.355572   \n",
       "3      [-628.7242506215988, -352.12856744247915]  0.388905   \n",
       "4         [-628.670538090896, -352.064853954975]  0.422239   \n",
       "...                                          ...       ...   \n",
       "3154  [-12.976329089565011, -14.521360461697084]  0.000000   \n",
       "3155  [-12.956309884720588, -14.498957662901395]  0.000000   \n",
       "3156  [-12.936319342276938, -14.476586939205728]  0.000000   \n",
       "3157   [-12.916357427558392, -14.45424825180537]  0.000000   \n",
       "3158   [-12.896424105911176, -14.43194156192089]  0.000000   \n",
       "\n",
       "                                            f  ...     o.t_loc.y     o.t_v.x  \\\n",
       "0     [174488.21036001755, 97743.87165115909]  ...  10529.524943 -436.220526   \n",
       "1     [6470.1136184825355, 7624.803588547499]  ...  10529.524943 -341.902574   \n",
       "2      [6457.815130987603, 7635.222572655467]  ...  10529.524943 -341.902574   \n",
       "3      [6445.503684338433, 7645.618500499466]  ...  10529.524943 -341.902563   \n",
       "4      [6433.182738379566, 7655.988496243655]  ...  10529.524943 -341.902540   \n",
       "...                                       ...  ...           ...         ...   \n",
       "3154                               [0.0, 0.0]  ...  10529.524943  -12.956310   \n",
       "3155                               [0.0, 0.0]  ...  10529.524943  -12.936319   \n",
       "3156                               [0.0, 0.0]  ...  10529.524943  -12.916357   \n",
       "3157                               [0.0, 0.0]  ...  10529.524943  -12.896424   \n",
       "3158                               [0.0, 0.0]  ...  10529.524943  -12.876519   \n",
       "\n",
       "         o.t_v.y    angle.x    angle.y    o.ct_dist     o.t_dist       speed  \\\n",
       "0    -244.359679  93.817969  34.614863  7162.146247  8104.020291  722.439700   \n",
       "1    -191.525154  93.650208  35.066202  7758.049370  8091.979629  720.773033   \n",
       "2    -191.525154  93.460530  35.568656  7739.243830  8079.966745  720.694941   \n",
       "3    -191.525174  93.248103  36.121894  7720.423238  8067.955163  720.616896   \n",
       "4    -191.525216  93.012013  36.725542  7701.589200  8055.944881  720.538900   \n",
       "...          ...        ...        ...          ...          ...         ...   \n",
       "3154  -14.498958 -66.555044 -74.635287          NaN  1552.489293   19.474471   \n",
       "3155  -14.476587 -66.555044 -74.635287          NaN  1552.165219   19.444427   \n",
       "3156  -14.454248 -66.555044 -74.635287          NaN  1551.841645   19.414426   \n",
       "3157  -14.431942 -66.555044 -74.635287          NaN  1551.518571   19.384468   \n",
       "3158  -14.409667 -66.555044 -74.635287          NaN  1551.195995   19.354552   \n",
       "\n",
       "       o.t_speed     f_mag  \n",
       "0     500.000000  200000.0  \n",
       "1     391.891892   10000.0  \n",
       "2     391.891892   10000.0  \n",
       "3     391.891892   10000.0  \n",
       "4     391.891892   10000.0  \n",
       "...          ...       ...  \n",
       "3154   19.444427       0.0  \n",
       "3155   19.414426       0.0  \n",
       "3156   19.384468       0.0  \n",
       "3157   19.354552       0.0  \n",
       "3158   19.324680       0.0  \n",
       "\n",
       "[3159 rows x 55 columns]"
      ]
     },
     "execution_count": 9,
     "metadata": {},
     "output_type": "execute_result"
    }
   ],
   "source": [
    "df"
   ]
  },
  {
   "cell_type": "code",
   "execution_count": 10,
   "id": "a703dac7",
   "metadata": {},
   "outputs": [
    {
     "data": {
      "text/plain": [
       "{'o': 'stellarpunk.orders.GoToLocation',\n",
       " 'nd': 9.549296585513724e-09,\n",
       " 'nnd': inf,\n",
       " 't_loc': [-162728.94555641068, 10529.524943379436],\n",
       " 'ad': 1500.0,\n",
       " 'md': 1350.0,\n",
       " 't_v': [-12.876519342707669, -14.40966683080166],\n",
       " 'cs': False}"
      ]
     },
     "execution_count": 10,
     "metadata": {},
     "output_type": "execute_result"
    }
   ],
   "source": [
    "df.iloc[-1][\"o\"]"
   ]
  },
  {
   "cell_type": "markdown",
   "id": "a6d3cf5e",
   "metadata": {},
   "source": [
    "# Basic Ship Vitals"
   ]
  },
  {
   "cell_type": "markdown",
   "id": "36730903",
   "metadata": {},
   "source": [
    "## Position and Heading"
   ]
  },
  {
   "cell_type": "code",
   "execution_count": 11,
   "id": "665329e8",
   "metadata": {},
   "outputs": [
    {
     "data": {
      "application/vnd.jupyter.widget-view+json": {
       "model_id": "197fff6d26574d51b7608b9272f3f5d4",
       "version_major": 2,
       "version_minor": 0
      },
      "text/plain": [
       "interactive(children=(FloatSlider(value=52.63333333333163, continuous_update=False, description='max_time', ma…"
      ]
     },
     "metadata": {},
     "output_type": "display_data"
    },
    {
     "data": {
      "text/plain": [
       "<function __main__.plot_location_chart(max_time)>"
      ]
     },
     "execution_count": 11,
     "metadata": {},
     "output_type": "execute_result"
    }
   ],
   "source": [
    "def plot_location_chart(max_time):\n",
    "    sample = df[df[\"ts\"] <= max_time].iloc[::50]\n",
    "    plt.quiver(sample[\"loc.x\"], sample[\"loc.y\"], sample[\"angle.x\"], sample[\"angle.y\"])#, scale=100)\n",
    "    plt.scatter(sample[\"o.t_loc.x\"], sample[\"o.t_loc.y\"])\n",
    "    #center = (0,2500)\n",
    "    #radius = 10000\n",
    "    #plt.xlim(center[0]-radius,center[0]+radius)\n",
    "    #plt.ylim(center[1]-radius,center[1]+radius)\n",
    "\n",
    "ipywidgets.interact(plot_location_chart, max_time=ipywidgets.FloatSlider(value=df[\"ts\"].max(), min=df[\"ts\"].min(), max=df[\"ts\"].max(), continuous_update=False))"
   ]
  },
  {
   "cell_type": "code",
   "execution_count": 12,
   "id": "ed1c2ca3",
   "metadata": {},
   "outputs": [
    {
     "data": {
      "text/html": [
       "<div>\n",
       "<style scoped>\n",
       "    .dataframe tbody tr th:only-of-type {\n",
       "        vertical-align: middle;\n",
       "    }\n",
       "\n",
       "    .dataframe tbody tr th {\n",
       "        vertical-align: top;\n",
       "    }\n",
       "\n",
       "    .dataframe thead th {\n",
       "        text-align: right;\n",
       "    }\n",
       "</style>\n",
       "<table border=\"1\" class=\"dataframe\">\n",
       "  <thead>\n",
       "    <tr style=\"text-align: right;\">\n",
       "      <th></th>\n",
       "      <th>loc.x</th>\n",
       "      <th>loc.y</th>\n",
       "    </tr>\n",
       "  </thead>\n",
       "  <tbody>\n",
       "    <tr>\n",
       "      <th>count</th>\n",
       "      <td>3159.000000</td>\n",
       "      <td>3159.000000</td>\n",
       "    </tr>\n",
       "    <tr>\n",
       "      <th>mean</th>\n",
       "      <td>-160722.402909</td>\n",
       "      <td>12260.034957</td>\n",
       "    </tr>\n",
       "    <tr>\n",
       "      <th>std</th>\n",
       "      <td>1314.562432</td>\n",
       "      <td>546.499555</td>\n",
       "    </tr>\n",
       "    <tr>\n",
       "      <th>min</th>\n",
       "      <td>-161695.344717</td>\n",
       "      <td>11686.191845</td>\n",
       "    </tr>\n",
       "    <tr>\n",
       "      <th>25%</th>\n",
       "      <td>-161373.267527</td>\n",
       "      <td>12001.280280</td>\n",
       "    </tr>\n",
       "    <tr>\n",
       "      <th>50%</th>\n",
       "      <td>-161211.065443</td>\n",
       "      <td>12170.845428</td>\n",
       "    </tr>\n",
       "    <tr>\n",
       "      <th>75%</th>\n",
       "      <td>-160904.697201</td>\n",
       "      <td>12205.876433</td>\n",
       "    </tr>\n",
       "    <tr>\n",
       "      <th>max</th>\n",
       "      <td>-155658.665570</td>\n",
       "      <td>14490.116539</td>\n",
       "    </tr>\n",
       "  </tbody>\n",
       "</table>\n",
       "</div>"
      ],
      "text/plain": [
       "               loc.x         loc.y\n",
       "count    3159.000000   3159.000000\n",
       "mean  -160722.402909  12260.034957\n",
       "std      1314.562432    546.499555\n",
       "min   -161695.344717  11686.191845\n",
       "25%   -161373.267527  12001.280280\n",
       "50%   -161211.065443  12170.845428\n",
       "75%   -160904.697201  12205.876433\n",
       "max   -155658.665570  14490.116539"
      ]
     },
     "execution_count": 12,
     "metadata": {},
     "output_type": "execute_result"
    }
   ],
   "source": [
    "df[[\"loc.x\", \"loc.y\"]].describe()"
   ]
  },
  {
   "cell_type": "code",
   "execution_count": 13,
   "id": "e0f37c4c",
   "metadata": {},
   "outputs": [
    {
     "data": {
      "text/plain": [
       "Text(0.5, 1.0, 'position')"
      ]
     },
     "execution_count": 13,
     "metadata": {},
     "output_type": "execute_result"
    },
    {
     "data": {
      "image/png": "[encoded data removed]",
      "text/plain": [
       "<Figure size 432x288 with 1 Axes>"
      ]
     },
     "metadata": {
      "needs_background": "light"
     },
     "output_type": "display_data"
    }
   ],
   "source": [
    "plt.scatter(df[\"ts\"], df[\"loc.x\"])\n",
    "plt.scatter(df[\"ts\"], df[\"loc.y\"])\n",
    "plt.title(\"position\")"
   ]
  },
  {
   "cell_type": "code",
   "execution_count": 14,
   "id": "b65fd521",
   "metadata": {},
   "outputs": [
    {
     "data": {
      "text/plain": [
       "Text(0.5, 1.0, 'heading and angular velocity')"
      ]
     },
     "execution_count": 14,
     "metadata": {},
     "output_type": "execute_result"
    },
    {
     "data": {
      "image/png": "[encoded data removed]",
      "text/plain": [
       "<Figure size 432x288 with 1 Axes>"
      ]
     },
     "metadata": {
      "needs_background": "light"
     },
     "output_type": "display_data"
    }
   ],
   "source": [
    "plt.scatter(df[\"ts\"], df[\"a\"], label=\"theta\")\n",
    "plt.scatter(df[\"ts\"], df[\"av\"], label=\"omega\")\n",
    "plt.hlines(np.pi, df[\"ts\"].min(), df[\"ts\"].max(), color=\"red\")\n",
    "plt.hlines(0, df[\"ts\"].min(), df[\"ts\"].max(), color=\"red\")\n",
    "plt.legend()\n",
    "plt.title(\"heading and angular velocity\")"
   ]
  },
  {
   "cell_type": "code",
   "execution_count": 15,
   "id": "e1a4515d",
   "metadata": {},
   "outputs": [
    {
     "data": {
      "text/plain": [
       "<matplotlib.collections.PathCollection at 0x7f3b96b0bcd0>"
      ]
     },
     "execution_count": 15,
     "metadata": {},
     "output_type": "execute_result"
    },
    {
     "data": {
      "image/png": "[encoded data removed]",
      "text/plain": [
       "<Figure size 432x288 with 1 Axes>"
      ]
     },
     "metadata": {
      "needs_background": "light"
     },
     "output_type": "display_data"
    }
   ],
   "source": [
    "plt.scatter(df[\"ts\"], df[\"t\"])"
   ]
  },
  {
   "cell_type": "markdown",
   "id": "4ce26323",
   "metadata": {},
   "source": [
    "## Velocity and Acceleration"
   ]
  },
  {
   "cell_type": "code",
   "execution_count": 16,
   "id": "f6d63433",
   "metadata": {},
   "outputs": [
    {
     "data": {
      "text/plain": [
       "<matplotlib.collections.PathCollection at 0x7f3b96b6b6d0>"
      ]
     },
     "execution_count": 16,
     "metadata": {},
     "output_type": "execute_result"
    },
    {
     "data": {
      "image/png": "[encoded data removed]",
      "text/plain": [
       "<Figure size 432x288 with 1 Axes>"
      ]
     },
     "metadata": {
      "needs_background": "light"
     },
     "output_type": "display_data"
    }
   ],
   "source": [
    "plt.scatter(df[\"ts\"], df[\"speed\"])"
   ]
  },
  {
   "cell_type": "code",
   "execution_count": 17,
   "id": "32a0a440",
   "metadata": {
    "scrolled": true
   },
   "outputs": [
    {
     "data": {
      "text/plain": [
       "Text(0.5, 1.0, 'velocity')"
      ]
     },
     "execution_count": 17,
     "metadata": {},
     "output_type": "execute_result"
    },
    {
     "data": {
      "image/png": "[encoded data removed]",
      "text/plain": [
       "<Figure size 432x288 with 1 Axes>"
      ]
     },
     "metadata": {
      "needs_background": "light"
     },
     "output_type": "display_data"
    }
   ],
   "source": [
    "plt.scatter(df[\"ts\"], df[\"v.x\"])\n",
    "plt.scatter(df[\"ts\"], df[\"v.y\"])\n",
    "plt.title(\"velocity\")"
   ]
  },
  {
   "cell_type": "code",
   "execution_count": 18,
   "id": "7e3172c1",
   "metadata": {
    "scrolled": true
   },
   "outputs": [
    {
     "data": {
      "text/plain": [
       "Text(0.5, 1.0, 'acceleration')"
      ]
     },
     "execution_count": 18,
     "metadata": {},
     "output_type": "execute_result"
    },
    {
     "data": {
      "image/png": "[encoded data removed]",
      "text/plain": [
       "<Figure size 432x288 with 1 Axes>"
      ]
     },
     "metadata": {
      "needs_background": "light"
     },
     "output_type": "display_data"
    }
   ],
   "source": [
    "#plt.scatter(df[\"ts\"], (df[\"v.x\"] - df[\"v.x\"].shift(-1)))#/(df[\"ts\"]-df[\"ts\"].shift(-1)))\n",
    "plt.scatter(df[\"ts\"], (df[\"v.x\"].shift(1) - df[\"v.x\"]) / (df[\"ts\"].shift(1) - df[\"ts\"]))\n",
    "plt.scatter(df[\"ts\"], (df[\"v.y\"].shift(1) - df[\"v.y\"]) / (df[\"ts\"].shift(1) - df[\"ts\"]))\n",
    "plt.yscale(\"symlog\")\n",
    "plt.title(\"acceleration\")"
   ]
  },
  {
   "cell_type": "code",
   "execution_count": 19,
   "id": "7754010f",
   "metadata": {},
   "outputs": [
    {
     "data": {
      "text/plain": [
       "Text(0.5, 1.0, 'force')"
      ]
     },
     "execution_count": 19,
     "metadata": {},
     "output_type": "execute_result"
    },
    {
     "data": {
      "image/png": "[encoded data removed]",
      "text/plain": [
       "<Figure size 432x288 with 1 Axes>"
      ]
     },
     "metadata": {
      "needs_background": "light"
     },
     "output_type": "display_data"
    }
   ],
   "source": [
    "plt.scatter(df[\"ts\"], df[\"f_mag\"])\n",
    "plt.yscale(\"log\")\n",
    "plt.title(\"force\")"
   ]
  },
  {
   "cell_type": "markdown",
   "id": "4630e3f8",
   "metadata": {},
   "source": [
    "# Behavior Monitoring"
   ]
  },
  {
   "cell_type": "code",
   "execution_count": 20,
   "id": "cf1a4380",
   "metadata": {},
   "outputs": [
    {
     "data": {
      "text/plain": [
       "[0.0, None, None, 0.516666666666666]"
      ]
     },
     "execution_count": 20,
     "metadata": {},
     "output_type": "execute_result"
    }
   ],
   "source": [
    "[next((df.iloc[idx][\"ts\"] if idx is not None else None for idx, v in zip(df.index, (~df[c].isna() & df[c] == True)) if v), None) for c in [\"o.ct\", \"o.cs\", \"o.cac\", \"o.cbdr\"]]"
   ]
  },
  {
   "cell_type": "code",
   "execution_count": 21,
   "id": "9e6db2b0",
   "metadata": {},
   "outputs": [
    {
     "data": {
      "application/vnd.jupyter.widget-view+json": {
       "model_id": "21b55434aaea46ab9a5964c04d74ec92",
       "version_major": 2,
       "version_minor": 0
      },
      "text/plain": [
       "interactive(children=(FloatSlider(value=5.0, continuous_update=False, description='hist_length', max=52.633333…"
      ]
     },
     "metadata": {},
     "output_type": "display_data"
    },
    {
     "data": {
      "text/plain": [
       "<function __main__.plot_collision_info(hist_length, max_time)>"
      ]
     },
     "execution_count": 21,
     "metadata": {},
     "output_type": "execute_result"
    }
   ],
   "source": [
    "def plot_collision_info(hist_length, max_time):\n",
    "    sample = df[(df[\"ts\"] >= max_time - hist_length) & (df[\"ts\"] <= max_time)]\n",
    "    plt.scatter(sample[\"ts\"], (~(sample[\"o.ct\"].isna())).astype(int), label=\"ct\")\n",
    "    plt.scatter(sample[\"ts\"], sample[\"o.cs\"].fillna(0).astype(int)+0.05, label=\"cs\")\n",
    "    plt.scatter(sample[\"ts\"], sample[\"o.cac\"].fillna(0).astype(int)+0.1, label=\"cac\")\n",
    "    plt.scatter(sample[\"ts\"], sample[\"o.cbdr\"].fillna(0).astype(int)+0.15, label=\"cbdr\")\n",
    "    plt.legend()\n",
    "    plt.title(\"status flags\")\n",
    "    \n",
    "    flag_cols = [\"o.ct\", \"o.cs\", \"o.cac\", \"o.cbdr\"]\n",
    "    first_ts = [next((df.iloc[idx][\"ts\"] if idx is not None else None for idx, v in zip(df.index, (~df[c].isna() & df[c] == True)) if v), None) for c in flag_cols]\n",
    "    for c, ts in zip(flag_cols, first_ts):\n",
    "        print(f'first {c}: {ts}')\n",
    "\n",
    "ipywidgets.interact(plot_collision_info, hist_length=ipywidgets.FloatSlider(value=5, min=0, max=df[\"ts\"].max()-df[\"ts\"].min(), continuous_update=False), max_time=ipywidgets.FloatSlider(value=df[\"ts\"].max(), min=df[\"ts\"].min(), max=df[\"ts\"].max()+.1, continuous_update=False))"
   ]
  },
  {
   "cell_type": "markdown",
   "id": "94ba2b3d",
   "metadata": {},
   "source": [
    "### Target Location"
   ]
  },
  {
   "cell_type": "code",
   "execution_count": 22,
   "id": "2640e1e5",
   "metadata": {},
   "outputs": [
    {
     "data": {
      "text/html": [
       "<div>\n",
       "<style scoped>\n",
       "    .dataframe tbody tr th:only-of-type {\n",
       "        vertical-align: middle;\n",
       "    }\n",
       "\n",
       "    .dataframe tbody tr th {\n",
       "        vertical-align: top;\n",
       "    }\n",
       "\n",
       "    .dataframe thead tr th {\n",
       "        text-align: left;\n",
       "    }\n",
       "\n",
       "    .dataframe thead tr:last-of-type th {\n",
       "        text-align: right;\n",
       "    }\n",
       "</style>\n",
       "<table border=\"1\" class=\"dataframe\">\n",
       "  <thead>\n",
       "    <tr>\n",
       "      <th></th>\n",
       "      <th></th>\n",
       "      <th colspan=\"3\" halign=\"left\">ts</th>\n",
       "      <th colspan=\"2\" halign=\"left\">o.t_dist</th>\n",
       "    </tr>\n",
       "    <tr>\n",
       "      <th></th>\n",
       "      <th></th>\n",
       "      <th>count</th>\n",
       "      <th>min</th>\n",
       "      <th>max</th>\n",
       "      <th>min</th>\n",
       "      <th>max</th>\n",
       "    </tr>\n",
       "    <tr>\n",
       "      <th>o.t_loc.x</th>\n",
       "      <th>o.t_loc.y</th>\n",
       "      <th></th>\n",
       "      <th></th>\n",
       "      <th></th>\n",
       "      <th></th>\n",
       "      <th></th>\n",
       "    </tr>\n",
       "  </thead>\n",
       "  <tbody>\n",
       "    <tr>\n",
       "      <th>-162728.945556</th>\n",
       "      <th>10529.524943</th>\n",
       "      <td>3159</td>\n",
       "      <td>0.0</td>\n",
       "      <td>52.633333</td>\n",
       "      <td>1551.195995</td>\n",
       "      <td>8104.020291</td>\n",
       "    </tr>\n",
       "  </tbody>\n",
       "</table>\n",
       "</div>"
      ],
      "text/plain": [
       "                               ts                     o.t_dist             \n",
       "                            count  min        max          min          max\n",
       "o.t_loc.x      o.t_loc.y                                                   \n",
       "-162728.945556 10529.524943  3159  0.0  52.633333  1551.195995  8104.020291"
      ]
     },
     "execution_count": 22,
     "metadata": {},
     "output_type": "execute_result"
    }
   ],
   "source": [
    "if np.any(~df[\"o.t_loc\"].isna()):\n",
    "    x = df.groupby([\"o.t_loc.x\", \"o.t_loc.y\"]).agg({\"ts\": [\"count\", \"min\", \"max\"], \"o.t_dist\": [\"min\",\"max\"]})\n",
    "else:\n",
    "    x = \"no location target\"\n",
    "x"
   ]
  },
  {
   "cell_type": "code",
   "execution_count": 23,
   "id": "74d23fb4",
   "metadata": {},
   "outputs": [
    {
     "data": {
      "application/vnd.jupyter.widget-view+json": {
       "model_id": "2182daa0150c42769f9705b995aec3ce",
       "version_major": 2,
       "version_minor": 0
      },
      "text/plain": [
       "interactive(children=(FloatSlider(value=5.0, continuous_update=False, description='hist_length', max=52.633333…"
      ]
     },
     "metadata": {},
     "output_type": "display_data"
    },
    {
     "data": {
      "text/plain": [
       "<function __main__.plot_target_distance(hist_length, max_time)>"
      ]
     },
     "execution_count": 23,
     "metadata": {},
     "output_type": "execute_result"
    }
   ],
   "source": [
    "#sample = df[(df[\"ts\"] < 124.4) & (df[\"ts\"] > 120)]\n",
    "def plot_target_distance(hist_length, max_time):\n",
    "    sample = df[(df[\"ts\"] >= max_time - hist_length) & (df[\"ts\"] <= max_time)]\n",
    "    plt.scatter(sample[\"ts\"], sample[\"o.t_dist\"])\n",
    "    plt.hlines(1500, sample[\"ts\"].min(), sample[\"ts\"].max(), color=\"green\")\n",
    "    plt.hlines(1500*0.9, sample[\"ts\"].min(), sample[\"ts\"].max(), color=\"red\")\n",
    "    #plt.ylim(0,1500)\n",
    "    plt.title(\"distance to target\")\n",
    "    print(sample[\"o.t_dist\"].min(),sample[df[\"ts\"] > sample[\"ts\"].max()-1][\"o.t_dist\"].min())\n",
    "\n",
    "ipywidgets.interact(\n",
    "    plot_target_distance,\n",
    "    hist_length=ipywidgets.FloatSlider(value=5, min=0, max=df[\"ts\"].max()-df[\"ts\"].min(), continuous_update=False),\n",
    "    max_time=ipywidgets.FloatSlider(value=df[\"ts\"].max(), min=df[\"ts\"].min(), max=df[\"ts\"].max()+.1, continuous_update=False))"
   ]
  },
  {
   "cell_type": "code",
   "execution_count": 24,
   "id": "4d0bf8d0",
   "metadata": {},
   "outputs": [
    {
     "data": {
      "application/vnd.jupyter.widget-view+json": {
       "model_id": "c9bdf1699c5d48e988c0aee79f6e90bd",
       "version_major": 2,
       "version_minor": 0
      },
      "text/plain": [
       "interactive(children=(FloatSlider(value=5.0, continuous_update=False, description='hist_length', max=52.633333…"
      ]
     },
     "metadata": {},
     "output_type": "display_data"
    },
    {
     "data": {
      "text/plain": [
       "<function __main__.plot_desired_speed(hist_length, max_time)>"
      ]
     },
     "execution_count": 24,
     "metadata": {},
     "output_type": "execute_result"
    }
   ],
   "source": [
    "def plot_desired_speed(hist_length, max_time):\n",
    "    sample = df[(df[\"ts\"] >= max_time - hist_length) & (df[\"ts\"] <= max_time)]\n",
    "    plt.scatter(sample[\"ts\"], sample[\"speed\"], label=\"actual speed\")\n",
    "    plt.scatter(sample[\"ts\"], sample[\"o.t_speed\"], label=\"desired speed\")\n",
    "    plt.legend()\n",
    "    plt.title(\"speed and desired speed to target\")\n",
    "    plt.ylim(0)\n",
    "\n",
    "ipywidgets.interact(\n",
    "    plot_desired_speed,\n",
    "    hist_length=ipywidgets.FloatSlider(value=5, min=0, max=df[\"ts\"].max()-df[\"ts\"].min(), continuous_update=False),\n",
    "    max_time=ipywidgets.FloatSlider(value=df[\"ts\"].max(), min=df[\"ts\"].min(), max=df[\"ts\"].max()+.1, continuous_update=False))"
   ]
  },
  {
   "cell_type": "code",
   "execution_count": 25,
   "id": "d7341dc2",
   "metadata": {
    "scrolled": true
   },
   "outputs": [
    {
     "data": {
      "text/plain": [
       "Text(0.5, 1.0, 'desired speed delta')"
      ]
     },
     "execution_count": 25,
     "metadata": {},
     "output_type": "execute_result"
    },
    {
     "data": {
      "image/png": "[encoded data removed]",
      "text/plain": [
       "<Figure size 432x288 with 1 Axes>"
      ]
     },
     "metadata": {
      "needs_background": "light"
     },
     "output_type": "display_data"
    }
   ],
   "source": [
    "plt.scatter(df[\"ts\"], df[\"o.t_speed\"] - df[\"speed\"])\n",
    "plt.scatter(df[\"ts\"], np.linalg.norm(np.array((df[\"o.t_v.x\"] - df[\"v.x\"], df[\"o.t_v.y\"] - df[\"v.y\"])), axis=0))\n",
    "plt.title(\"desired speed delta\")"
   ]
  },
  {
   "cell_type": "markdown",
   "id": "5ac378ec",
   "metadata": {},
   "source": [
    "## Collision Avoidance"
   ]
  },
  {
   "cell_type": "code",
   "execution_count": 26,
   "id": "f38ca4d8",
   "metadata": {},
   "outputs": [
    {
     "data": {
      "application/vnd.jupyter.widget-view+json": {
       "model_id": "8c0e3251fb8b4faa8e553f0203704540",
       "version_major": 2,
       "version_minor": 0
      },
      "text/plain": [
       "interactive(children=(FloatSlider(value=5.0, continuous_update=False, description='hist_length', max=52.633333…"
      ]
     },
     "metadata": {},
     "output_type": "display_data"
    },
    {
     "data": {
      "text/plain": [
       "<function __main__.show_collision_threats(hist_length, max_time)>"
      ]
     },
     "execution_count": 26,
     "metadata": {},
     "output_type": "execute_result"
    }
   ],
   "source": [
    "def show_collision_threats(hist_length, max_time):\n",
    "    sample = df[(df[\"ts\"] >= max_time-hist_length) & (df[\"ts\"] <= max_time)]\n",
    "    if np.any(~sample[\"o.ct\"].isna()):\n",
    "        x = sample.groupby(\"o.ct\").agg({\"ts\": [\"count\", \"min\", \"max\"], \"o.ct_dist\": [\"min\",\"max\"]})\n",
    "    else:\n",
    "        x = \"no collision threats\"\n",
    "    return x\n",
    "ipywidgets.interact(\n",
    "    show_collision_threats,\n",
    "    hist_length=ipywidgets.FloatSlider(value=5, min=0, max=df[\"ts\"].max()-df[\"ts\"].min(), continuous_update=False),\n",
    "    max_time=ipywidgets.FloatSlider(value=df[\"ts\"].max(), min=df[\"ts\"].min(), max=df[\"ts\"].max()+.1, continuous_update=False)\n",
    ")"
   ]
  },
  {
   "cell_type": "code",
   "execution_count": 27,
   "id": "890424d5",
   "metadata": {},
   "outputs": [
    {
     "data": {
      "application/vnd.jupyter.widget-view+json": {
       "model_id": "5d63cc1807214d20b07df90df7efc1bd",
       "version_major": 2,
       "version_minor": 0
      },
      "text/plain": [
       "interactive(children=(FloatSlider(value=5.0, continuous_update=False, description='hist_length', max=52.633333…"
      ]
     },
     "metadata": {},
     "output_type": "display_data"
    },
    {
     "data": {
      "text/plain": [
       "<function __main__.plot_collision_distance(hist_length, max_time)>"
      ]
     },
     "execution_count": 27,
     "metadata": {},
     "output_type": "execute_result"
    }
   ],
   "source": [
    "def plot_collision_distance(hist_length, max_time):\n",
    "    sample = df[(df[\"ts\"] >= max_time-hist_length) & (df[\"ts\"] <= max_time)]\n",
    "    plt.scatter(sample[\"ts\"], sample[\"o.ct_dist\"])\n",
    "    plt.hlines(60+500+500, sample[\"ts\"].min(), sample[\"ts\"].max(), color=\"green\")\n",
    "    plt.hlines(60+500, sample[\"ts\"].min(), sample[\"ts\"].max(), color=\"orange\")\n",
    "    plt.hlines(330, sample[\"ts\"].min(), sample[\"ts\"].max(), color=\"red\")\n",
    "    plt.hlines(60, sample[\"ts\"].min(), sample[\"ts\"].max(), color=\"red\")\n",
    "    plt.ylim(0)\n",
    "    plt.title(\"distance to collision threat\")\n",
    "    print(sample[\"o.ct_dist\"].min())\n",
    "\n",
    "ipywidgets.interact(\n",
    "    plot_collision_distance,\n",
    "    hist_length=ipywidgets.FloatSlider(value=5, min=0, max=df[\"ts\"].max()-df[\"ts\"].min(), continuous_update=False),\n",
    "    max_time=ipywidgets.FloatSlider(value=df[\"ts\"].max(), min=df[\"ts\"].min(), max=df[\"ts\"].max()+.1, continuous_update=False)\n",
    ")"
   ]
  },
  {
   "cell_type": "code",
   "execution_count": 28,
   "id": "a3ce3d2d",
   "metadata": {},
   "outputs": [
    {
     "data": {
      "text/plain": [
       "<matplotlib.collections.PathCollection at 0x7f3b966a3eb0>"
      ]
     },
     "execution_count": 28,
     "metadata": {},
     "output_type": "execute_result"
    },
    {
     "data": {
      "image/png": "[encoded data removed]",
      "text/plain": [
       "<Figure size 432x288 with 2 Axes>"
      ]
     },
     "metadata": {
      "needs_background": "light"
     },
     "output_type": "display_data"
    }
   ],
   "source": [
    "fig, ax1 = plt.subplots()\n",
    "ax2 = ax1.twinx()\n",
    "\n",
    "ax1.scatter(df[\"ts\"], 1-df[\"o.ct\"].isna().astype(int))\n",
    "ax2.scatter(df[\"ts\"], df[\"ts\"] - df[\"o.ct_ts\"], color=\"orange\")\n",
    "\n",
    "#ax2.set_ylim(0,(df[\"ts\"] - df[\"o.ct_ts\"]).max()*1.2)"
   ]
  },
  {
   "cell_type": "code",
   "execution_count": 29,
   "id": "9c947c36",
   "metadata": {},
   "outputs": [
    {
     "data": {
      "text/plain": [
       "(0.0, 52.63333333333163)"
      ]
     },
     "execution_count": 29,
     "metadata": {},
     "output_type": "execute_result"
    },
    {
     "data": {
      "image/png": "[encoded data removed]",
      "text/plain": [
       "<Figure size 432x288 with 1 Axes>"
      ]
     },
     "metadata": {
      "needs_background": "light"
     },
     "output_type": "display_data"
    }
   ],
   "source": [
    "plt.scatter(df[\"ts\"], df[\"o.ct_ct\"])\n",
    "plt.title(\"number of coalesced threats\")\n",
    "plt.xlim(df[\"ts\"].min(), df[\"ts\"].max())"
   ]
  },
  {
   "cell_type": "code",
   "execution_count": 30,
   "id": "10290387",
   "metadata": {},
   "outputs": [
    {
     "data": {
      "text/plain": [
       "<matplotlib.collections.PathCollection at 0x7f3b96556d70>"
      ]
     },
     "execution_count": 30,
     "metadata": {},
     "output_type": "execute_result"
    },
    {
     "data": {
      "image/png": "[encoded data removed]",
      "text/plain": [
       "<Figure size 432x288 with 1 Axes>"
      ]
     },
     "metadata": {
      "needs_background": "light"
     },
     "output_type": "display_data"
    }
   ],
   "source": [
    "plt.scatter(df[\"ts\"], df[\"o.ct_cradius\"])"
   ]
  },
  {
   "cell_type": "code",
   "execution_count": 31,
   "id": "03a6b3aa",
   "metadata": {},
   "outputs": [
    {
     "data": {
      "image/png": "[encoded data removed]",
      "text/plain": [
       "<Figure size 432x288 with 1 Axes>"
      ]
     },
     "metadata": {
      "needs_background": "light"
     },
     "output_type": "display_data"
    }
   ],
   "source": [
    "plt.scatter(df[\"ts\"], df[\"o.nd\"]*np.pi*10000**2)\n",
    "plt.title(\"neighborhood size (10km^2)\")\n",
    "plt.show()"
   ]
  },
  {
   "cell_type": "code",
   "execution_count": 32,
   "id": "5e817d73",
   "metadata": {},
   "outputs": [
    {
     "data": {
      "application/vnd.jupyter.widget-view+json": {
       "model_id": "111409e72e024edfa3e7da46b0961ec3",
       "version_major": 2,
       "version_minor": 0
      },
      "text/plain": [
       "interactive(children=(FloatSlider(value=5.0, continuous_update=False, description='hist_length', max=52.633333…"
      ]
     },
     "metadata": {},
     "output_type": "display_data"
    },
    {
     "data": {
      "text/plain": [
       "<function __main__.plot_collision_dv(hist_length, max_time)>"
      ]
     },
     "execution_count": 32,
     "metadata": {},
     "output_type": "execute_result"
    }
   ],
   "source": [
    "def plot_collision_dv(hist_length, max_time):\n",
    "    sample = df[(df[\"ts\"] >= max_time - hist_length) & (df[\"ts\"] <= max_time)]\n",
    "    plt.scatter(sample[\"ts\"], sample[\"o.ct_dv.x\"])\n",
    "    plt.scatter(sample[\"ts\"], sample[\"o.ct_dv.y\"])\n",
    "    plt.title(\"collision avoidance velocity\")\n",
    "\n",
    "ipywidgets.interact(\n",
    "    plot_collision_dv,\n",
    "    hist_length=ipywidgets.FloatSlider(value=5, min=0, max=df[\"ts\"].max()-df[\"ts\"].min(), continuous_update=False),\n",
    "    max_time=ipywidgets.FloatSlider(value=df[\"ts\"].max(), min=df[\"ts\"].min(), max=df[\"ts\"].max()+.1, continuous_update=False))"
   ]
  },
  {
   "cell_type": "markdown",
   "id": "12a7d799",
   "metadata": {},
   "source": [
    "# History Visualization"
   ]
  },
  {
   "cell_type": "markdown",
   "id": "e7b61368",
   "metadata": {},
   "source": [
    "## Position and Velocity"
   ]
  },
  {
   "cell_type": "code",
   "execution_count": 33,
   "id": "05fc6ec3",
   "metadata": {
    "scrolled": false
   },
   "outputs": [
    {
     "data": {
      "application/vnd.jupyter.widget-view+json": {
       "model_id": "9505f41023e4483c890e9760effb4589",
       "version_major": 2,
       "version_minor": 0
      },
      "text/plain": [
       "interactive(children=(FloatSlider(value=5.0, continuous_update=False, description='hist_length', max=52.633333…"
      ]
     },
     "metadata": {},
     "output_type": "display_data"
    },
    {
     "data": {
      "text/plain": [
       "<function __main__.plot_collision_chart(hist_length=52.63333333333163, max_time=52.63333333333163, sampling_interval=50, show_tloc=True, show_tv=True, show_ctdv=True, show_v=True)>"
      ]
     },
     "execution_count": 33,
     "metadata": {},
     "output_type": "execute_result"
    }
   ],
   "source": [
    "def plot_collision_chart(hist_length=df[\"ts\"].max(), max_time=df[\"ts\"].max(), sampling_interval=50, show_tloc=True, show_tv=True, show_ctdv=True, show_v=True):\n",
    "    plt.figure(figsize=(10, 10))\n",
    "    sample = df[(df[\"ts\"] >= max_time - hist_length) & (df[\"ts\"] <= max_time)].iloc[::sampling_interval]\n",
    "    if show_v:\n",
    "        plt.quiver(sample[\"loc.x\"], sample[\"loc.y\"], sample[\"v.x\"], sample[\"v.y\"], label=\"v\")\n",
    "    ctdv_df = sample[~(sample[\"o.ct_dv\"].isna())]\n",
    "    if show_ctdv:\n",
    "        plt.quiver(ctdv_df[\"loc.x\"], ctdv_df[\"loc.y\"], ctdv_df[\"o.ct_dv.x\"]+ctdv_df[\"v.x\"], ctdv_df[\"o.ct_dv.y\"]+ctdv_df[\"v.y\"], label=\"ctdv\", color=\"orange\")\n",
    "    if show_tv:\n",
    "        plt.quiver(sample[\"loc.x\"], sample[\"loc.y\"], sample[\"o.t_v.x\"], sample[\"o.t_v.y\"], label=\"tv\", color=\"purple\")\n",
    "    \n",
    "    plt.quiver(sample[\"o.ct_loc.x\"], sample[\"o.ct_loc.y\"], sample[\"o.ct_v.x\"], sample[\"o.ct_v.y\"])\n",
    "    cmap = plt.get_cmap('viridis')\n",
    "    for x, c in zip(df[\"o.ct\"].unique(), cmap(np.linspace(0, 1, len(df[\"o.ct\"].unique())))):\n",
    "        if not isinstance(x, str):\n",
    "            continue\n",
    "        ct = sample[sample[\"o.ct\"] == x]\n",
    "        if len(ct) == 0:\n",
    "            continue\n",
    "        plt.scatter(ct[\"o.ct_loc.x\"], ct[\"o.ct_loc.y\"], color=c, label=x[:8])\n",
    "        \n",
    "        t_next = 10\n",
    "        x, y = ct.iloc[-1][\"o.ct_loc.x\"], ct.iloc[-1][\"o.ct_loc.y\"]\n",
    "        x_next, y_next = ct.iloc[-1][\"o.ct_loc.x\"]+ct.iloc[-1][\"o.ct_v.x\"]*t_next, ct.iloc[-1][\"o.ct_loc.y\"]+ct.iloc[-1][\"o.ct_v.y\"]*t_next\n",
    "        if not np.allclose((x, y), (x_next, y_next)):\n",
    "            plt.axline((x,y),(x_next,y_next), marker = 'x', color=c, dashes=[2,2])\n",
    "    \n",
    "    cloc_df = sample[~(sample[\"o.ct_cloc\"].isna())]\n",
    "    if len(cloc_df) > 0:\n",
    "        cloc_x = cloc_df.iloc[-1][\"o.ct_cloc.x\"]\n",
    "        cloc_y = cloc_df.iloc[-1][\"o.ct_cloc.y\"]\n",
    "        cradius = cloc_df.iloc[-1][\"o.ct_cradius\"]\n",
    "        threat_radius = plt.Circle((cloc_x, cloc_y), cradius, color=\"red\", fill=False)\n",
    "        margin = plt.Circle((cloc_x, cloc_y), cradius+30+500, color=\"orange\", fill=False)\n",
    "        margin_hist = plt.Circle((cloc_x, cloc_y), cradius+30+500*2, color=\"green\", fill=False)\n",
    "        plt.gca().add_patch(threat_radius)\n",
    "        plt.gca().add_patch(margin)\n",
    "        plt.gca().add_patch(margin_hist)\n",
    "        print(cradius)\n",
    "    \n",
    "    if show_tloc:\n",
    "        plt.scatter(sample[\"o.t_loc.x\"], sample[\"o.t_loc.y\"], label=\"t_loc\")\n",
    "        for ((tloc_x, tloc_y), ad, md) in sample.groupby([\"o.t_loc.x\", \"o.t_loc.y\"]).agg({\"o.t_loc\": \"min\", \"o.ad\":\"min\", \"o.md\":\"min\"}).values:\n",
    "            arrival_dist = plt.Circle((tloc_x, tloc_y), ad, color=\"green\", fill=False)\n",
    "            min_dist = plt.Circle((tloc_x, tloc_y), md, color=\"red\", fill=False)\n",
    "            plt.gca().add_patch(arrival_dist)\n",
    "            plt.gca().add_patch(min_dist)\n",
    "            \n",
    "    t_next = 10\n",
    "    x, y = sample.iloc[-1][\"loc.x\"], sample.iloc[-1][\"loc.y\"]\n",
    "    x_next, y_next = sample.iloc[-1][\"loc.x\"]+sample.iloc[-1][\"v.x\"]*t_next, sample.iloc[-1][\"loc.y\"]+sample.iloc[-1][\"v.y\"]*t_next\n",
    "    if not np.allclose((x, y), (x_next, y_next)):\n",
    "        plt.axline((x,y),(x_next,y_next),marker = 'o')\n",
    "    \n",
    "    plt.axis('equal')\n",
    "    #center = (-33555, -5000)\n",
    "    #radius = 15000\n",
    "    #plt.xlim(center[0]-radius,center[0]+radius)\n",
    "    #plt.ylim(center[1]-radius,center[1]+radius)\n",
    "\n",
    "    plt.legend()\n",
    "    plt.show()\n",
    "    \n",
    "ipywidgets.interact(\n",
    "    plot_collision_chart,\n",
    "    hist_length=ipywidgets.FloatSlider(value=5, min=0, max=df[\"ts\"].max()-df[\"ts\"].min(), continuous_update=False),\n",
    "    max_time=ipywidgets.FloatSlider(step=1/60, value=df[\"ts\"].max()+1/60, min=df[\"ts\"].min(), max=df[\"ts\"].max()+1/60, continuous_update=False),\n",
    "    sampling_interval=ipywidgets.IntSlider(value=20, min=1, max=100, continuous_update=False),\n",
    "    show_tloc=ipywidgets.Checkbox(value=True),\n",
    "    show_tv=ipywidgets.Checkbox(value=True),\n",
    "    show_ctdv=ipywidgets.Checkbox(value=True),\n",
    "    show_v=ipywidgets.Checkbox(value=True),\n",
    ")"
   ]
  },
  {
   "cell_type": "markdown",
   "id": "6e5e3aad",
   "metadata": {},
   "source": [
    "## Position and Heading"
   ]
  },
  {
   "cell_type": "code",
   "execution_count": 34,
   "id": "2f7475c2",
   "metadata": {
    "scrolled": false
   },
   "outputs": [
    {
     "data": {
      "application/vnd.jupyter.widget-view+json": {
       "model_id": "aef18854ce984bf8b9645c593f079959",
       "version_major": 2,
       "version_minor": 0
      },
      "text/plain": [
       "interactive(children=(FloatSlider(value=5.0, continuous_update=False, description='hist_length', max=52.633333…"
      ]
     },
     "metadata": {},
     "output_type": "display_data"
    },
    {
     "data": {
      "text/plain": [
       "<function __main__.plot_collision_chart(hist_length=52.63333333333163, max_time=52.63333333333163)>"
      ]
     },
     "execution_count": 34,
     "metadata": {},
     "output_type": "execute_result"
    }
   ],
   "source": [
    "def plot_collision_chart(hist_length=df[\"ts\"].max(), max_time=df[\"ts\"].max()):\n",
    "    sample = df[(df[\"ts\"] >= max_time - hist_length) & (df[\"ts\"] <= max_time)].iloc[::30]\n",
    "    plt.quiver(sample[\"loc.x\"], sample[\"loc.y\"], sample[\"angle.x\"], sample[\"angle.y\"], label=\"ship\")\n",
    "    ctdv_df = sample[~(sample[\"o.ct_dv\"].isna())]\n",
    "    plt.quiver(ctdv_df[\"loc.x\"], ctdv_df[\"loc.y\"], ctdv_df[\"o.ct_dv.x\"], ctdv_df[\"o.ct_dv.y\"], label=\"ctdv\", color=\"orange\")\n",
    "    plt.quiver(sample[\"loc.x\"], sample[\"loc.y\"], sample[\"o.t_v.x\"], sample[\"o.t_v.y\"], label=\"tv\", color=\"purple\")\n",
    "    cmap = plt.get_cmap('viridis')\n",
    "    #for x, c in zip(df[\"o.ct\"].unique(), cmap(np.linspace(0, 1, len(sample[\"o.ct\"].unique())))):\n",
    "    #    print(x)\n",
    "    #    if not isinstance(x, str):\n",
    "    #        continue\n",
    "    #    ct = sample[sample[\"o.ct\"] == x]\n",
    "    #    plt.scatter(ct[\"o.ct_loc.x\"], ct[\"o.ct_loc.y\"], color=c, label=x[:8])\n",
    "    #plt.scatter(sample[\"o.t_loc.x\"], sample[\"o.t_loc.y\"], label=\"t_loc\")\n",
    "    #plt.axis('square')\n",
    "    #center = (-33555, -5000)\n",
    "    #radius = 15000\n",
    "    #plt.xlim(center[0]-radius,center[0]+radius)\n",
    "    #plt.ylim(center[1]-radius,center[1]+radius)\n",
    "    \n",
    "    plt.legend()\n",
    "    plt.axis('equal')\n",
    "    plt.show()\n",
    "    \n",
    "ipywidgets.interact(plot_collision_chart, hist_length=ipywidgets.FloatSlider(value=5, min=0, max=df[\"ts\"].max()-df[\"ts\"].min(), continuous_update=False), max_time=ipywidgets.FloatSlider(value=df[\"ts\"].max(), min=df[\"ts\"].min(), max=df[\"ts\"].max(), continuous_update=False))"
   ]
  },
  {
   "cell_type": "code",
   "execution_count": 35,
   "id": "03aadc31",
   "metadata": {},
   "outputs": [
    {
     "name": "stdout",
     "output_type": "stream",
     "text": [
      "[list([-162728.94555641068, 10529.524943379436]) 1500.0]\n"
     ]
    }
   ],
   "source": [
    "for s in df.groupby([\"o.t_loc.x\", \"o.t_loc.y\"]).agg({\"o.t_loc\":\"min\", \"o.ad\":\"min\"}).values:\n",
    "    print(f'{s}')"
   ]
  },
  {
   "cell_type": "markdown",
   "id": "6e24f370",
   "metadata": {},
   "source": [
    "# "
   ]
  }
 ],
 "metadata": {
  "kernelspec": {
   "display_name": "Python 3 (ipykernel)",
   "language": "python",
   "name": "python3"
  },
  "language_info": {
   "codemirror_mode": {
    "name": "ipython",
    "version": 3
   },
   "file_extension": ".py",
   "mimetype": "text/x-python",
   "name": "python",
   "nbconvert_exporter": "python",
   "pygments_lexer": "ipython3",
   "version": "3.10.1"
  }
 },
 "nbformat": 4,
 "nbformat_minor": 5
}
