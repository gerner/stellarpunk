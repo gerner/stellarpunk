{
 "cells": [
  {
   "cell_type": "code",
   "execution_count": 1,
   "id": "9c5bbe2a",
   "metadata": {},
   "outputs": [],
   "source": [
    "import json\n",
    "\n",
    "import pandas as pd\n",
    "import numpy as np\n",
    "from matplotlib import pyplot as plt\n",
    "import ipywidgets\n",
    "\n",
    "from stellarpunk import util"
   ]
  },
  {
   "cell_type": "markdown",
   "id": "d6d53462",
   "metadata": {},
   "source": [
    "# Loading and Preparing Data"
   ]
  },
  {
   "cell_type": "code",
   "execution_count": 2,
   "id": "ceb18552",
   "metadata": {},
   "outputs": [],
   "source": [
    "df_base = pd.read_json(\"/tmp/stellarpunk.history.gz\", lines=True)\n",
    "df_base = df_base.join(pd.json_normalize(df_base[\"o\"]).add_prefix(\"o.\"))"
   ]
  },
  {
   "cell_type": "code",
   "execution_count": 3,
   "id": "1585e6a6",
   "metadata": {},
   "outputs": [
    {
     "data": {
      "text/plain": [
       "0      14b985e3-9d0d-4742-a901-ceda9045d4a9\n",
       "1      3a7e873f-4677-4d00-95ca-7e87285cefbe\n",
       "2      92e2b85d-dee2-4a92-9426-1dc0821ea109\n",
       "3      7ae3edb0-6904-4462-b85e-82e5d995a4f9\n",
       "4      e791c96e-4613-4f31-b0f3-35203a000edf\n",
       "                       ...                 \n",
       "124    45f8eca8-ba6b-449e-9bfe-402100b3627a\n",
       "125    922e3718-1d71-4c70-ba8f-e7a5085336a9\n",
       "126    2493553e-a02d-41b0-ae78-8135bf319d17\n",
       "127    e30bb911-9a97-42ad-9717-f62a44d0d7bc\n",
       "128    ed0c3d1a-2a30-46fb-b8a3-421d050d8cd4\n",
       "Length: 129, dtype: object"
      ]
     },
     "execution_count": 3,
     "metadata": {},
     "output_type": "execute_result"
    }
   ],
   "source": [
    "eids = pd.Series(df_base[\"eid\"].unique())\n",
    "eids"
   ]
  },
  {
   "cell_type": "code",
   "execution_count": 4,
   "id": "288e3f1e",
   "metadata": {},
   "outputs": [
    {
     "data": {
      "text/plain": [
       "99    92012b07-e5be-4a7e-bda2-602968a1ea21\n",
       "dtype: object"
      ]
     },
     "execution_count": 4,
     "metadata": {},
     "output_type": "execute_result"
    }
   ],
   "source": [
    "targets = eids[pd.Series(df_base[\"eid\"].unique()).str.startswith(\"920\")]\n",
    "targets"
   ]
  },
  {
   "cell_type": "code",
   "execution_count": 5,
   "id": "caf3fedb",
   "metadata": {},
   "outputs": [],
   "source": [
    "target_index = targets.index[0]"
   ]
  },
  {
   "cell_type": "code",
   "execution_count": 6,
   "id": "c9be6491",
   "metadata": {},
   "outputs": [
    {
     "data": {
      "text/plain": [
       "array(['92012b07-e5be-4a7e-bda2-602968a1ea21'], dtype=object)"
      ]
     },
     "execution_count": 6,
     "metadata": {},
     "output_type": "execute_result"
    }
   ],
   "source": [
    "target_eid = df_base[\"eid\"].unique()[target_index]\n",
    "df_base = df_base[df_base[\"eid\"] == target_eid].reset_index()\n",
    "df_base[\"eid\"].unique()"
   ]
  },
  {
   "cell_type": "code",
   "execution_count": 7,
   "id": "b77f957c",
   "metadata": {},
   "outputs": [],
   "source": [
    "loc = pd.DataFrame(np.vstack(df_base[\"loc\"]), columns=[\"loc.x\", \"loc.y\"])\n",
    "v = pd.DataFrame(np.vstack(df_base[\"v\"]), columns=[\"v.x\", \"v.y\"])\n",
    "\n",
    "empty_array = np.empty(len(df_base))\n",
    "empty_array[:] = np.nan\n",
    "\n",
    "if \"o.t_loc\" in df_base:\n",
    "    o_tloc = pd.DataFrame(np.vstack(df_base[\"o.t_loc\"].apply(lambda x: (np.nan, np.nan) if np.all(np.isnan(x)) else x)), columns=[\"o.t_loc.x\", \"o.t_loc.y\"])\n",
    "    o_tv = pd.DataFrame(np.vstack(df_base[\"o.t_v\"].apply(lambda x: (np.nan, np.nan) if np.all(np.isnan(x)) else x)), columns=[\"o.t_v.x\", \"o.t_v.y\"])\n",
    "else:\n",
    "    o_tloc = pd.DataFrame({\"o.t_loc\": empty_array, \"o.t_loc.x\": empty_array, \"o.t_loc.y\": empty_array})\n",
    "    o_tv = pd.DataFrame({\"o.t_v\": empty_array, \"o.t_v.x\": empty_array, \"o.t_v.y\": empty_array})\n",
    "    \n",
    "if \"o.ct\" in df_base:\n",
    "    o_ctloc = pd.DataFrame(np.vstack(df_base[\"o.ct_loc\"].apply(lambda x: (np.nan, np.nan) if np.all(np.isnan(x)) else x)), columns=[\"o.ct_loc.x\", \"o.ct_loc.y\"])\n",
    "    o_ctdv = pd.DataFrame(np.vstack(df_base[\"o.ct_dv\"].apply(lambda x: (np.nan, np.nan) if np.all(np.isnan(x)) else x)), columns=[\"o.ct_dv.x\", \"o.ct_dv.y\"])\n",
    "    o_ctv = pd.DataFrame(np.vstack(df_base[\"o.ct_v\"].apply(lambda x: (np.nan, np.nan) if np.all(np.isnan(x)) else x)), columns=[\"o.ct_v.x\", \"o.ct_v.y\"])\n",
    "    o_ctcloc = pd.DataFrame(np.vstack(df_base[\"o.ct_cloc\"].apply(lambda x: (np.nan, np.nan) if np.all(np.isnan(x)) else x)), columns=[\"o.ct_cloc.x\", \"o.ct_cloc.y\"])\n",
    "else:\n",
    "    o_ctloc = pd.DataFrame({\"o.ct_loc\": empty_array, \"o.ct_loc.x\": empty_array, \"o.ct_loc.y\": empty_array})\n",
    "    o_ctdv = pd.DataFrame({\"o.ct_dv\": empty_array, \"o.ct_dv.x\": empty_array, \"o.ct_dv.y\": empty_array})\n",
    "    o_ctv = pd.DataFrame({\"o.ct_v\": empty_array, \"o.ct_v.x\": empty_array, \"o.ct_v.y\": empty_array})\n",
    "    o_ctcloc = pd.DataFrame({\"o.ct_cloc\": empty_array, \"o.ct_cloc.x\": empty_array, \"o.ct_cloc.y\": empty_array})\n",
    "angle = pd.DataFrame(np.vstack(df_base.apply(lambda row: np.array(util.polar_to_cartesian(100, row[\"a\"])), axis=1)), columns=[\"angle.x\", \"angle.y\"])\n",
    "desired_angle = pd.DataFrame(np.vstack(df_base.apply(lambda row: np.array(util.polar_to_cartesian(100, row[\"o._ada\"])), axis=1)), columns=[\"_ada.x\", \"_ada.y\"])\n",
    "df = pd.concat([df_base, loc, v, o_ctloc, o_ctcloc, o_ctdv, o_ctv, o_tloc, o_tv, angle, desired_angle], axis=1)\n",
    "\n",
    "if \"o.ct\" not in df_base:\n",
    "    df[\"o.ct\"] = empty_array\n",
    "    df[\"o.ct_ts\"] = empty_array\n",
    "    df[\"o.cac\"] = empty_array\n",
    "    df[\"o.cbdr\"] = empty_array\n",
    "    df[\"o.cbdr_hist\"] = empty_array\n",
    "    df[\"o.ct_ct\"] = empty_array\n",
    "    df[\"o.ct_cradius\"] = empty_array\n",
    "    df[\"o.nd\"] = empty_array\n",
    "    df[\"o.ct_dist\"] = empty_array\n",
    "else:\n",
    "    df[\"o.ct_dist\"] = np.linalg.norm(np.vstack(df[\"loc\"]) - np.vstack(df[\"o.ct_cloc\"].apply(lambda x: (np.nan, np.nan) if np.all(np.isnan(x)) else x)), axis=1)\n",
    "    \n",
    "if \"o.t_loc\" not in df_base:\n",
    "    df[\"o.cs\"] = empty_array\n",
    "    df[\"o.t_dist\"] = empty_array\n",
    "else:\n",
    "    df[\"o.t_dist\"] = np.linalg.norm(np.vstack(df[\"loc\"]) - np.vstack(df[\"o.t_loc\"].apply(lambda x: (np.nan, np.nan) if np.all(np.isnan(x)) else x)), axis=1)"
   ]
  },
  {
   "cell_type": "code",
   "execution_count": 8,
   "id": "6e17314e",
   "metadata": {},
   "outputs": [],
   "source": [
    "df[\"speed\"] = np.linalg.norm(df[[\"v.x\", \"v.y\"]], axis=1)\n",
    "df[\"o.t_speed\"] = np.linalg.norm(df[[\"o.t_v.x\", \"o.t_v.y\"]], axis=1)\n",
    "df[\"f_mag\"] = df[\"f\"].apply(lambda x:np.linalg.norm(x))"
   ]
  },
  {
   "cell_type": "code",
   "execution_count": 9,
   "id": "39640462",
   "metadata": {},
   "outputs": [],
   "source": [
    "#df[\"o.ct_v.x\"] = (df[\"o.ct_loc.x\"].shift(1) - df[\"o.ct_loc.x\"]) / (df[\"ts\"].shift(1) - df[\"ts\"])\n",
    "#df[\"o.ct_v.y\"] = (df[\"o.ct_loc.y\"].shift(1) - df[\"o.ct_loc.y\"]) / (df[\"ts\"].shift(1) - df[\"ts\"])"
   ]
  },
  {
   "cell_type": "code",
   "execution_count": 10,
   "id": "34fd5383",
   "metadata": {},
   "outputs": [
    {
     "data": {
      "text/html": [
       "<div>\n",
       "<style scoped>\n",
       "    .dataframe tbody tr th:only-of-type {\n",
       "        vertical-align: middle;\n",
       "    }\n",
       "\n",
       "    .dataframe tbody tr th {\n",
       "        vertical-align: top;\n",
       "    }\n",
       "\n",
       "    .dataframe thead th {\n",
       "        text-align: right;\n",
       "    }\n",
       "</style>\n",
       "<table border=\"1\" class=\"dataframe\">\n",
       "  <thead>\n",
       "    <tr style=\"text-align: right;\">\n",
       "      <th></th>\n",
       "      <th>index</th>\n",
       "      <th>p</th>\n",
       "      <th>eid</th>\n",
       "      <th>ts</th>\n",
       "      <th>loc</th>\n",
       "      <th>r</th>\n",
       "      <th>a</th>\n",
       "      <th>v</th>\n",
       "      <th>av</th>\n",
       "      <th>f</th>\n",
       "      <th>...</th>\n",
       "      <th>o.t_v.y</th>\n",
       "      <th>angle.x</th>\n",
       "      <th>angle.y</th>\n",
       "      <th>_ada.x</th>\n",
       "      <th>_ada.y</th>\n",
       "      <th>o.ct_dist</th>\n",
       "      <th>o.t_dist</th>\n",
       "      <th>speed</th>\n",
       "      <th>o.t_speed</th>\n",
       "      <th>f_mag</th>\n",
       "    </tr>\n",
       "  </thead>\n",
       "  <tbody>\n",
       "    <tr>\n",
       "      <th>0</th>\n",
       "      <td>10995</td>\n",
       "      <td>SHP</td>\n",
       "      <td>92012b07-e5be-4a7e-bda2-602968a1ea21</td>\n",
       "      <td>160.383333</td>\n",
       "      <td>[-59033.15217183964, 41109.70008730623]</td>\n",
       "      <td>30</td>\n",
       "      <td>-11.809252</td>\n",
       "      <td>[194.71952697681502, 184.38456259957442]</td>\n",
       "      <td>0.000000</td>\n",
       "      <td>[145222.76716729498, 137514.90063361728]</td>\n",
       "      <td>...</td>\n",
       "      <td>600.532051</td>\n",
       "      <td>72.681802</td>\n",
       "      <td>68.683009</td>\n",
       "      <td>72.611384</td>\n",
       "      <td>68.757450</td>\n",
       "      <td>NaN</td>\n",
       "      <td>160079.075171</td>\n",
       "      <td>268.166667</td>\n",
       "      <td>873.406516</td>\n",
       "      <td>200000.0</td>\n",
       "    </tr>\n",
       "    <tr>\n",
       "      <th>1</th>\n",
       "      <td>10996</td>\n",
       "      <td>SHP</td>\n",
       "      <td>92012b07-e5be-4a7e-bda2-602968a1ea21</td>\n",
       "      <td>160.550000</td>\n",
       "      <td>[-58999.79127504871, 41141.29031586845]</td>\n",
       "      <td>30</td>\n",
       "      <td>-11.809252</td>\n",
       "      <td>[206.82142424075636, 195.8441376523758]</td>\n",
       "      <td>0.000000</td>\n",
       "      <td>[145222.76716729495, 137514.9006336173]</td>\n",
       "      <td>...</td>\n",
       "      <td>612.478782</td>\n",
       "      <td>72.681802</td>\n",
       "      <td>68.683009</td>\n",
       "      <td>72.611384</td>\n",
       "      <td>68.757450</td>\n",
       "      <td>NaN</td>\n",
       "      <td>160033.130727</td>\n",
       "      <td>284.833333</td>\n",
       "      <td>890.781695</td>\n",
       "      <td>200000.0</td>\n",
       "    </tr>\n",
       "    <tr>\n",
       "      <th>2</th>\n",
       "      <td>10997</td>\n",
       "      <td>SHP</td>\n",
       "      <td>92012b07-e5be-4a7e-bda2-602968a1ea21</td>\n",
       "      <td>160.716667</td>\n",
       "      <td>[-58964.413395380456, 41174.79047360614]</td>\n",
       "      <td>30</td>\n",
       "      <td>-11.809252</td>\n",
       "      <td>[218.9233215046977, 207.30371270517716]</td>\n",
       "      <td>0.000000</td>\n",
       "      <td>[145222.76716729495, 137514.9006336173]</td>\n",
       "      <td>...</td>\n",
       "      <td>621.213961</td>\n",
       "      <td>72.681802</td>\n",
       "      <td>68.683009</td>\n",
       "      <td>72.611384</td>\n",
       "      <td>68.757450</td>\n",
       "      <td>NaN</td>\n",
       "      <td>159984.408504</td>\n",
       "      <td>301.500000</td>\n",
       "      <td>903.486033</td>\n",
       "      <td>200000.0</td>\n",
       "    </tr>\n",
       "    <tr>\n",
       "      <th>3</th>\n",
       "      <td>10998</td>\n",
       "      <td>SHP</td>\n",
       "      <td>92012b07-e5be-4a7e-bda2-602968a1ea21</td>\n",
       "      <td>160.883333</td>\n",
       "      <td>[-58927.018532834874, 41210.2005605193]</td>\n",
       "      <td>30</td>\n",
       "      <td>-11.809252</td>\n",
       "      <td>[231.02521876863904, 218.76328775797853]</td>\n",
       "      <td>0.000000</td>\n",
       "      <td>[145222.7671672949, 137514.90063361736]</td>\n",
       "      <td>...</td>\n",
       "      <td>633.041448</td>\n",
       "      <td>72.681802</td>\n",
       "      <td>68.683009</td>\n",
       "      <td>72.611384</td>\n",
       "      <td>68.757450</td>\n",
       "      <td>NaN</td>\n",
       "      <td>159932.908504</td>\n",
       "      <td>318.166667</td>\n",
       "      <td>920.687787</td>\n",
       "      <td>200000.0</td>\n",
       "    </tr>\n",
       "    <tr>\n",
       "      <th>4</th>\n",
       "      <td>10999</td>\n",
       "      <td>SHP</td>\n",
       "      <td>92012b07-e5be-4a7e-bda2-602968a1ea21</td>\n",
       "      <td>161.050000</td>\n",
       "      <td>[-58887.60668741197, 41247.52057660792]</td>\n",
       "      <td>30</td>\n",
       "      <td>-11.809252</td>\n",
       "      <td>[243.12711603258037, 230.2228628107799]</td>\n",
       "      <td>0.000000</td>\n",
       "      <td>[145222.76716729486, 137514.90063361736]</td>\n",
       "      <td>...</td>\n",
       "      <td>645.919977</td>\n",
       "      <td>72.681802</td>\n",
       "      <td>68.683009</td>\n",
       "      <td>72.611384</td>\n",
       "      <td>68.757450</td>\n",
       "      <td>NaN</td>\n",
       "      <td>159878.630727</td>\n",
       "      <td>334.833333</td>\n",
       "      <td>939.418163</td>\n",
       "      <td>200000.0</td>\n",
       "    </tr>\n",
       "    <tr>\n",
       "      <th>...</th>\n",
       "      <td>...</td>\n",
       "      <td>...</td>\n",
       "      <td>...</td>\n",
       "      <td>...</td>\n",
       "      <td>...</td>\n",
       "      <td>...</td>\n",
       "      <td>...</td>\n",
       "      <td>...</td>\n",
       "      <td>...</td>\n",
       "      <td>...</td>\n",
       "      <td>...</td>\n",
       "      <td>...</td>\n",
       "      <td>...</td>\n",
       "      <td>...</td>\n",
       "      <td>...</td>\n",
       "      <td>...</td>\n",
       "      <td>...</td>\n",
       "      <td>...</td>\n",
       "      <td>...</td>\n",
       "      <td>...</td>\n",
       "      <td>...</td>\n",
       "    </tr>\n",
       "    <tr>\n",
       "      <th>3596</th>\n",
       "      <td>14591</td>\n",
       "      <td>SHP</td>\n",
       "      <td>92012b07-e5be-4a7e-bda2-602968a1ea21</td>\n",
       "      <td>761.997334</td>\n",
       "      <td>[23866.455387268445, 123912.80442617422]</td>\n",
       "      <td>30</td>\n",
       "      <td>29.929858</td>\n",
       "      <td>[-1561.2890196561043, -1785.463221895414]</td>\n",
       "      <td>-0.708857</td>\n",
       "      <td>[-1678.3417701332776, -199992.95779827505]</td>\n",
       "      <td>...</td>\n",
       "      <td>-876.808564</td>\n",
       "      <td>8.462670</td>\n",
       "      <td>-99.641273</td>\n",
       "      <td>-0.839171</td>\n",
       "      <td>-99.996479</td>\n",
       "      <td>1384.059231</td>\n",
       "      <td>108941.039839</td>\n",
       "      <td>2371.814141</td>\n",
       "      <td>1104.093478</td>\n",
       "      <td>200000.0</td>\n",
       "    </tr>\n",
       "    <tr>\n",
       "      <th>3597</th>\n",
       "      <td>14592</td>\n",
       "      <td>SHP</td>\n",
       "      <td>92012b07-e5be-4a7e-bda2-602968a1ea21</td>\n",
       "      <td>762.164001</td>\n",
       "      <td>[23606.2250679377, 123613.97732337768]</td>\n",
       "      <td>30</td>\n",
       "      <td>29.840613</td>\n",
       "      <td>[-1561.5243115625954, -1802.1281593983272]</td>\n",
       "      <td>-0.296919</td>\n",
       "      <td>[-3285.5827347548884, -199973.01054415587]</td>\n",
       "      <td>...</td>\n",
       "      <td>-589.034551</td>\n",
       "      <td>-0.451711</td>\n",
       "      <td>-99.998980</td>\n",
       "      <td>-1.642791</td>\n",
       "      <td>-99.986505</td>\n",
       "      <td>990.278593</td>\n",
       "      <td>108545.581279</td>\n",
       "      <td>2384.538546</td>\n",
       "      <td>741.592175</td>\n",
       "      <td>200000.0</td>\n",
       "    </tr>\n",
       "    <tr>\n",
       "      <th>3598</th>\n",
       "      <td>14593</td>\n",
       "      <td>SHP</td>\n",
       "      <td>92012b07-e5be-4a7e-bda2-602968a1ea21</td>\n",
       "      <td>762.330668</td>\n",
       "      <td>[23345.955315627933, 123312.37274083907]</td>\n",
       "      <td>30</td>\n",
       "      <td>29.828627</td>\n",
       "      <td>[-1561.655569539314, -1818.793828736793]</td>\n",
       "      <td>0.203081</td>\n",
       "      <td>[2639.4958364876, -199982.58189584705]</td>\n",
       "      <td>...</td>\n",
       "      <td>-300.258153</td>\n",
       "      <td>-1.650294</td>\n",
       "      <td>-99.986382</td>\n",
       "      <td>1.319748</td>\n",
       "      <td>-99.991291</td>\n",
       "      <td>593.570860</td>\n",
       "      <td>108147.898107</td>\n",
       "      <td>2397.244065</td>\n",
       "      <td>377.961047</td>\n",
       "      <td>200000.0</td>\n",
       "    </tr>\n",
       "    <tr>\n",
       "      <th>3599</th>\n",
       "      <td>14594</td>\n",
       "      <td>SHP</td>\n",
       "      <td>92012b07-e5be-4a7e-bda2-602968a1ea21</td>\n",
       "      <td>762.497334</td>\n",
       "      <td>[23085.731824330294, 123007.99212530658]</td>\n",
       "      <td>30</td>\n",
       "      <td>29.899973</td>\n",
       "      <td>[-1560.395337172975, -1835.3872692402394]</td>\n",
       "      <td>0.703081</td>\n",
       "      <td>[3801.9920761665608, -14510.163894758967]</td>\n",
       "      <td>...</td>\n",
       "      <td>-79.453877</td>\n",
       "      <td>5.481558</td>\n",
       "      <td>-99.849650</td>\n",
       "      <td>25.346614</td>\n",
       "      <td>-96.734426</td>\n",
       "      <td>194.242316</td>\n",
       "      <td>107748.042486</td>\n",
       "      <td>2409.041311</td>\n",
       "      <td>100.000000</td>\n",
       "      <td>15000.0</td>\n",
       "    </tr>\n",
       "    <tr>\n",
       "      <th>3600</th>\n",
       "      <td>14595</td>\n",
       "      <td>SHP</td>\n",
       "      <td>92012b07-e5be-4a7e-bda2-602968a1ea21</td>\n",
       "      <td>762.564001</td>\n",
       "      <td>[22981.709643689697, 122885.62127214053]</td>\n",
       "      <td>30</td>\n",
       "      <td>29.951845</td>\n",
       "      <td>[-78.70513798909248, -903.293182070698]</td>\n",
       "      <td>-0.263811</td>\n",
       "      <td>[12774.334672159235, 7862.338944847798]</td>\n",
       "      <td>...</td>\n",
       "      <td>-79.458586</td>\n",
       "      <td>10.651267</td>\n",
       "      <td>-99.431134</td>\n",
       "      <td>85.162231</td>\n",
       "      <td>52.415593</td>\n",
       "      <td>52.906181</td>\n",
       "      <td>107587.650758</td>\n",
       "      <td>906.715541</td>\n",
       "      <td>100.000000</td>\n",
       "      <td>15000.0</td>\n",
       "    </tr>\n",
       "  </tbody>\n",
       "</table>\n",
       "<p>3601 rows × 66 columns</p>\n",
       "</div>"
      ],
      "text/plain": [
       "      index    p                                   eid          ts  \\\n",
       "0     10995  SHP  92012b07-e5be-4a7e-bda2-602968a1ea21  160.383333   \n",
       "1     10996  SHP  92012b07-e5be-4a7e-bda2-602968a1ea21  160.550000   \n",
       "2     10997  SHP  92012b07-e5be-4a7e-bda2-602968a1ea21  160.716667   \n",
       "3     10998  SHP  92012b07-e5be-4a7e-bda2-602968a1ea21  160.883333   \n",
       "4     10999  SHP  92012b07-e5be-4a7e-bda2-602968a1ea21  161.050000   \n",
       "...     ...  ...                                   ...         ...   \n",
       "3596  14591  SHP  92012b07-e5be-4a7e-bda2-602968a1ea21  761.997334   \n",
       "3597  14592  SHP  92012b07-e5be-4a7e-bda2-602968a1ea21  762.164001   \n",
       "3598  14593  SHP  92012b07-e5be-4a7e-bda2-602968a1ea21  762.330668   \n",
       "3599  14594  SHP  92012b07-e5be-4a7e-bda2-602968a1ea21  762.497334   \n",
       "3600  14595  SHP  92012b07-e5be-4a7e-bda2-602968a1ea21  762.564001   \n",
       "\n",
       "                                           loc   r          a  \\\n",
       "0      [-59033.15217183964, 41109.70008730623]  30 -11.809252   \n",
       "1      [-58999.79127504871, 41141.29031586845]  30 -11.809252   \n",
       "2     [-58964.413395380456, 41174.79047360614]  30 -11.809252   \n",
       "3      [-58927.018532834874, 41210.2005605193]  30 -11.809252   \n",
       "4      [-58887.60668741197, 41247.52057660792]  30 -11.809252   \n",
       "...                                        ...  ..        ...   \n",
       "3596  [23866.455387268445, 123912.80442617422]  30  29.929858   \n",
       "3597    [23606.2250679377, 123613.97732337768]  30  29.840613   \n",
       "3598  [23345.955315627933, 123312.37274083907]  30  29.828627   \n",
       "3599  [23085.731824330294, 123007.99212530658]  30  29.899973   \n",
       "3600  [22981.709643689697, 122885.62127214053]  30  29.951845   \n",
       "\n",
       "                                               v        av  \\\n",
       "0       [194.71952697681502, 184.38456259957442]  0.000000   \n",
       "1        [206.82142424075636, 195.8441376523758]  0.000000   \n",
       "2        [218.9233215046977, 207.30371270517716]  0.000000   \n",
       "3       [231.02521876863904, 218.76328775797853]  0.000000   \n",
       "4        [243.12711603258037, 230.2228628107799]  0.000000   \n",
       "...                                          ...       ...   \n",
       "3596   [-1561.2890196561043, -1785.463221895414] -0.708857   \n",
       "3597  [-1561.5243115625954, -1802.1281593983272] -0.296919   \n",
       "3598    [-1561.655569539314, -1818.793828736793]  0.203081   \n",
       "3599   [-1560.395337172975, -1835.3872692402394]  0.703081   \n",
       "3600     [-78.70513798909248, -903.293182070698] -0.263811   \n",
       "\n",
       "                                               f  ...     o.t_v.y    angle.x  \\\n",
       "0       [145222.76716729498, 137514.90063361728]  ...  600.532051  72.681802   \n",
       "1        [145222.76716729495, 137514.9006336173]  ...  612.478782  72.681802   \n",
       "2        [145222.76716729495, 137514.9006336173]  ...  621.213961  72.681802   \n",
       "3        [145222.7671672949, 137514.90063361736]  ...  633.041448  72.681802   \n",
       "4       [145222.76716729486, 137514.90063361736]  ...  645.919977  72.681802   \n",
       "...                                          ...  ...         ...        ...   \n",
       "3596  [-1678.3417701332776, -199992.95779827505]  ... -876.808564   8.462670   \n",
       "3597  [-3285.5827347548884, -199973.01054415587]  ... -589.034551  -0.451711   \n",
       "3598      [2639.4958364876, -199982.58189584705]  ... -300.258153  -1.650294   \n",
       "3599   [3801.9920761665608, -14510.163894758967]  ...  -79.453877   5.481558   \n",
       "3600     [12774.334672159235, 7862.338944847798]  ...  -79.458586  10.651267   \n",
       "\n",
       "        angle.y     _ada.x     _ada.y    o.ct_dist       o.t_dist  \\\n",
       "0     68.683009  72.611384  68.757450          NaN  160079.075171   \n",
       "1     68.683009  72.611384  68.757450          NaN  160033.130727   \n",
       "2     68.683009  72.611384  68.757450          NaN  159984.408504   \n",
       "3     68.683009  72.611384  68.757450          NaN  159932.908504   \n",
       "4     68.683009  72.611384  68.757450          NaN  159878.630727   \n",
       "...         ...        ...        ...          ...            ...   \n",
       "3596 -99.641273  -0.839171 -99.996479  1384.059231  108941.039839   \n",
       "3597 -99.998980  -1.642791 -99.986505   990.278593  108545.581279   \n",
       "3598 -99.986382   1.319748 -99.991291   593.570860  108147.898107   \n",
       "3599 -99.849650  25.346614 -96.734426   194.242316  107748.042486   \n",
       "3600 -99.431134  85.162231  52.415593    52.906181  107587.650758   \n",
       "\n",
       "            speed    o.t_speed     f_mag  \n",
       "0      268.166667   873.406516  200000.0  \n",
       "1      284.833333   890.781695  200000.0  \n",
       "2      301.500000   903.486033  200000.0  \n",
       "3      318.166667   920.687787  200000.0  \n",
       "4      334.833333   939.418163  200000.0  \n",
       "...           ...          ...       ...  \n",
       "3596  2371.814141  1104.093478  200000.0  \n",
       "3597  2384.538546   741.592175  200000.0  \n",
       "3598  2397.244065   377.961047  200000.0  \n",
       "3599  2409.041311   100.000000   15000.0  \n",
       "3600   906.715541   100.000000   15000.0  \n",
       "\n",
       "[3601 rows x 66 columns]"
      ]
     },
     "execution_count": 10,
     "metadata": {},
     "output_type": "execute_result"
    }
   ],
   "source": [
    "df"
   ]
  },
  {
   "cell_type": "code",
   "execution_count": 11,
   "id": "a703dac7",
   "metadata": {},
   "outputs": [
    {
     "data": {
      "text/plain": [
       "{'o': 'stellarpunk.orders.movement.GoToLocation',\n",
       " 'ct': '922e3718-1d71-4c70-ba8f-e7a5085336a9',\n",
       " 'ct_ms': 52.906181399503254,\n",
       " 'ct_loc': [22936.653559194816, 122857.8901834445],\n",
       " 'ct_v': [-608.91281889222, -41.838288162263595],\n",
       " 'ct_ts': 758.2473344342354,\n",
       " 'ct_dv': [2554.866934431847, 1572.4677889695597],\n",
       " 'ct_tc': 0.0,\n",
       " 'ct_ct': 1,\n",
       " 'ct_cloc': [22936.653559194816, 122857.8901834445],\n",
       " 'ct_cradius': 30.0,\n",
       " 'ct_cn': [[22936.653559194816, 122857.8901834445]],\n",
       " 'ct_dv_override': False,\n",
       " 'cac': False,\n",
       " 'cach': True,\n",
       " 'cbdr': False,\n",
       " 'cbdr_hist': [[-10481.50500071497, -11175.952997328277],\n",
       "  [-45.05608449488136, -27.73108869603311]],\n",
       " 'nd': 7.957747154594767e-09,\n",
       " 'nnd': 52.906181399503254,\n",
       " '_nact': 0.0,\n",
       " '_ada': 0.5517236781870241,\n",
       " 't_loc': [-42340.32625802903, 37397.995142639826],\n",
       " 'ad': 4500.0,\n",
       " 'md': 0.0,\n",
       " 't_v': [-60.71518008020584, -79.45858611772661],\n",
       " 'cs': False,\n",
       " 'scm': 90.09121072097417,\n",
       " '_ncts': 762.6330487199458,\n",
       " '_dv': [2476.161796442754, 669.1746068988617]}"
      ]
     },
     "execution_count": 11,
     "metadata": {},
     "output_type": "execute_result"
    }
   ],
   "source": [
    "df.iloc[-1][\"o\"]"
   ]
  },
  {
   "cell_type": "markdown",
   "id": "a6d3cf5e",
   "metadata": {},
   "source": [
    "# Basic Ship Vitals"
   ]
  },
  {
   "cell_type": "markdown",
   "id": "36730903",
   "metadata": {},
   "source": [
    "## Position and Heading"
   ]
  },
  {
   "cell_type": "code",
   "execution_count": 12,
   "id": "665329e8",
   "metadata": {},
   "outputs": [
    {
     "data": {
      "application/vnd.jupyter.widget-view+json": {
       "model_id": "ea2bd11c03ea406d8198df2585061387",
       "version_major": 2,
       "version_minor": 0
      },
      "text/plain": [
       "interactive(children=(FloatSlider(value=762.5640011008982, continuous_update=False, description='max_time', ma…"
      ]
     },
     "metadata": {},
     "output_type": "display_data"
    },
    {
     "data": {
      "text/plain": [
       "<function __main__.plot_location_chart(max_time)>"
      ]
     },
     "execution_count": 12,
     "metadata": {},
     "output_type": "execute_result"
    }
   ],
   "source": [
    "def plot_location_chart(max_time):\n",
    "    sample = df[df[\"ts\"] <= max_time].iloc[::50]\n",
    "    plt.quiver(sample[\"loc.x\"], sample[\"loc.y\"], sample[\"angle.x\"], sample[\"angle.y\"])#, scale=100)\n",
    "    plt.scatter(sample[\"o.t_loc.x\"], sample[\"o.t_loc.y\"])\n",
    "    #center = (0,2500)\n",
    "    #radius = 10000\n",
    "    #plt.xlim(center[0]-radius,center[0]+radius)\n",
    "    #plt.ylim(center[1]-radius,center[1]+radius)\n",
    "\n",
    "ipywidgets.interact(plot_location_chart, max_time=ipywidgets.FloatSlider(value=df[\"ts\"].max(), min=df[\"ts\"].min(), max=df[\"ts\"].max(), continuous_update=False))"
   ]
  },
  {
   "cell_type": "code",
   "execution_count": 13,
   "id": "ed1c2ca3",
   "metadata": {},
   "outputs": [
    {
     "data": {
      "text/html": [
       "<div>\n",
       "<style scoped>\n",
       "    .dataframe tbody tr th:only-of-type {\n",
       "        vertical-align: middle;\n",
       "    }\n",
       "\n",
       "    .dataframe tbody tr th {\n",
       "        vertical-align: top;\n",
       "    }\n",
       "\n",
       "    .dataframe thead th {\n",
       "        text-align: right;\n",
       "    }\n",
       "</style>\n",
       "<table border=\"1\" class=\"dataframe\">\n",
       "  <thead>\n",
       "    <tr style=\"text-align: right;\">\n",
       "      <th></th>\n",
       "      <th>loc.x</th>\n",
       "      <th>loc.y</th>\n",
       "    </tr>\n",
       "  </thead>\n",
       "  <tbody>\n",
       "    <tr>\n",
       "      <th>count</th>\n",
       "      <td>3601.000000</td>\n",
       "      <td>3601.000000</td>\n",
       "    </tr>\n",
       "    <tr>\n",
       "      <th>mean</th>\n",
       "      <td>-12586.580933</td>\n",
       "      <td>90843.156258</td>\n",
       "    </tr>\n",
       "    <tr>\n",
       "      <th>std</th>\n",
       "      <td>53819.788132</td>\n",
       "      <td>52424.617253</td>\n",
       "    </tr>\n",
       "    <tr>\n",
       "      <th>min</th>\n",
       "      <td>-89133.290003</td>\n",
       "      <td>18300.242902</td>\n",
       "    </tr>\n",
       "    <tr>\n",
       "      <th>25%</th>\n",
       "      <td>-67513.504476</td>\n",
       "      <td>37823.819203</td>\n",
       "    </tr>\n",
       "    <tr>\n",
       "      <th>50%</th>\n",
       "      <td>-4726.186157</td>\n",
       "      <td>97879.025559</td>\n",
       "    </tr>\n",
       "    <tr>\n",
       "      <th>75%</th>\n",
       "      <td>42808.596884</td>\n",
       "      <td>144807.355098</td>\n",
       "    </tr>\n",
       "    <tr>\n",
       "      <th>max</th>\n",
       "      <td>54553.062462</td>\n",
       "      <td>156984.708115</td>\n",
       "    </tr>\n",
       "  </tbody>\n",
       "</table>\n",
       "</div>"
      ],
      "text/plain": [
       "              loc.x          loc.y\n",
       "count   3601.000000    3601.000000\n",
       "mean  -12586.580933   90843.156258\n",
       "std    53819.788132   52424.617253\n",
       "min   -89133.290003   18300.242902\n",
       "25%   -67513.504476   37823.819203\n",
       "50%    -4726.186157   97879.025559\n",
       "75%    42808.596884  144807.355098\n",
       "max    54553.062462  156984.708115"
      ]
     },
     "execution_count": 13,
     "metadata": {},
     "output_type": "execute_result"
    }
   ],
   "source": [
    "df[[\"loc.x\", \"loc.y\"]].describe()"
   ]
  },
  {
   "cell_type": "code",
   "execution_count": 14,
   "id": "e0f37c4c",
   "metadata": {},
   "outputs": [
    {
     "data": {
      "text/plain": [
       "Text(0.5, 1.0, 'position')"
      ]
     },
     "execution_count": 14,
     "metadata": {},
     "output_type": "execute_result"
    },
    {
     "data": {
      "image/png": "[encoded data removed]",
      "text/plain": [
       "<Figure size 432x288 with 1 Axes>"
      ]
     },
     "metadata": {
      "needs_background": "light"
     },
     "output_type": "display_data"
    }
   ],
   "source": [
    "plt.scatter(df[\"ts\"], df[\"loc.x\"])\n",
    "plt.scatter(df[\"ts\"], df[\"loc.y\"])\n",
    "plt.title(\"position\")"
   ]
  },
  {
   "cell_type": "code",
   "execution_count": 15,
   "id": "b65fd521",
   "metadata": {},
   "outputs": [
    {
     "data": {
      "application/vnd.jupyter.widget-view+json": {
       "model_id": "dee831b780844b6cafd9f06445935e7a",
       "version_major": 2,
       "version_minor": 0
      },
      "text/plain": [
       "interactive(children=(FloatSlider(value=15.0, continuous_update=False, description='hist_length', max=602.1806…"
      ]
     },
     "metadata": {},
     "output_type": "display_data"
    },
    {
     "data": {
      "text/plain": [
       "<function __main__.plot_heading(hist_length, max_time)>"
      ]
     },
     "execution_count": 15,
     "metadata": {},
     "output_type": "execute_result"
    }
   ],
   "source": [
    "def plot_heading(hist_length, max_time):\n",
    "    sample = df[(df[\"ts\"] >= max_time - hist_length) & (df[\"ts\"] <= max_time)]\n",
    "    plt.scatter(sample[\"ts\"], sample[\"a\"].apply(lambda x: util.normalize_angle(x, shortest=True)), label=\"theta\")\n",
    "    plt.scatter(sample[\"ts\"], sample[\"av\"], label=\"omega\")\n",
    "    plt.scatter(sample[\"ts\"], sample[\"o._ada\"].apply(lambda x: util.normalize_angle(x, shortest=True)), label=\"desired theta\")\n",
    "    plt.hlines(np.pi, sample[\"ts\"].min(), sample[\"ts\"].max(), color=\"red\")\n",
    "    plt.hlines(0, sample[\"ts\"].min(), sample[\"ts\"].max(), color=\"red\")\n",
    "    plt.legend()\n",
    "    plt.title(\"heading and angular velocity\")\n",
    "    \n",
    "ipywidgets.interact(plot_heading, hist_length=ipywidgets.FloatSlider(value=15, min=0, max=df[\"ts\"].max()-df[\"ts\"].min(), continuous_update=False), max_time=ipywidgets.FloatSlider(value=df[\"ts\"].max(), min=df[\"ts\"].min(), max=df[\"ts\"].max()+.1, continuous_update=False))"
   ]
  },
  {
   "cell_type": "code",
   "execution_count": 16,
   "id": "e1a4515d",
   "metadata": {},
   "outputs": [
    {
     "data": {
      "text/plain": [
       "<matplotlib.collections.PathCollection at 0x7fd43d2d3910>"
      ]
     },
     "execution_count": 16,
     "metadata": {},
     "output_type": "execute_result"
    },
    {
     "data": {
      "image/png": "[encoded data removed]",
      "text/plain": [
       "<Figure size 432x288 with 1 Axes>"
      ]
     },
     "metadata": {
      "needs_background": "light"
     },
     "output_type": "display_data"
    }
   ],
   "source": [
    "plt.scatter(df[\"ts\"], df[\"t\"])"
   ]
  },
  {
   "cell_type": "code",
   "execution_count": 17,
   "id": "575cf633",
   "metadata": {},
   "outputs": [
    {
     "data": {
      "text/plain": [
       "False    2003\n",
       "True     1598\n",
       "Name: t, dtype: int64"
      ]
     },
     "execution_count": 17,
     "metadata": {},
     "output_type": "execute_result"
    }
   ],
   "source": [
    "(df[\"t\"] == 0).value_counts()"
   ]
  },
  {
   "cell_type": "markdown",
   "id": "4ce26323",
   "metadata": {},
   "source": [
    "## Velocity and Acceleration"
   ]
  },
  {
   "cell_type": "code",
   "execution_count": 18,
   "id": "76e2e431",
   "metadata": {},
   "outputs": [
    {
     "data": {
      "application/vnd.jupyter.widget-view+json": {
       "model_id": "39754dbce15d4064b9d8edfa50070ae3",
       "version_major": 2,
       "version_minor": 0
      },
      "text/plain": [
       "interactive(children=(FloatSlider(value=15.0, continuous_update=False, description='hist_length', max=602.1806…"
      ]
     },
     "metadata": {},
     "output_type": "display_data"
    },
    {
     "data": {
      "text/plain": [
       "<function __main__.plot_speed(hist_length, max_time)>"
      ]
     },
     "execution_count": 18,
     "metadata": {},
     "output_type": "execute_result"
    }
   ],
   "source": [
    "def plot_speed(hist_length, max_time):\n",
    "    sample = df[(df[\"ts\"] >= max_time - hist_length) & (df[\"ts\"] <= max_time)]\n",
    "    plt.scatter(sample[\"ts\"], sample[\"speed\"])\n",
    "    plt.title(\"speed\")\n",
    "    print(f'min speed: {sample[\"speed\"].min()}')\n",
    "    print(f'max speed: {sample[\"speed\"].max()}')\n",
    "    \n",
    "ipywidgets.interact(plot_speed, hist_length=ipywidgets.FloatSlider(value=15, min=0, max=df[\"ts\"].max()-df[\"ts\"].min(), continuous_update=False), max_time=ipywidgets.FloatSlider(value=df[\"ts\"].max(), min=df[\"ts\"].min(), max=df[\"ts\"].max()+.1, continuous_update=False))"
   ]
  },
  {
   "cell_type": "code",
   "execution_count": 19,
   "id": "32a0a440",
   "metadata": {
    "scrolled": true
   },
   "outputs": [
    {
     "data": {
      "application/vnd.jupyter.widget-view+json": {
       "model_id": "28a442c87777410a88ae16260d1d8de4",
       "version_major": 2,
       "version_minor": 0
      },
      "text/plain": [
       "interactive(children=(FloatSlider(value=15.0, continuous_update=False, description='hist_length', max=602.1806…"
      ]
     },
     "metadata": {},
     "output_type": "display_data"
    },
    {
     "data": {
      "text/plain": [
       "<function __main__.plot_velocity(hist_length, max_time)>"
      ]
     },
     "execution_count": 19,
     "metadata": {},
     "output_type": "execute_result"
    }
   ],
   "source": [
    "def plot_velocity(hist_length, max_time):\n",
    "    sample = df[(df[\"ts\"] >= max_time - hist_length) & (df[\"ts\"] <= max_time)]\n",
    "    plt.scatter(sample[\"ts\"], sample[\"v.x\"], label=\"x\")\n",
    "    plt.scatter(sample[\"ts\"], sample[\"v.y\"], label=\"y\")\n",
    "    plt.legend()\n",
    "    plt.title(\"velocity\")\n",
    "    \n",
    "ipywidgets.interact(plot_velocity, hist_length=ipywidgets.FloatSlider(value=15, min=0, max=df[\"ts\"].max()-df[\"ts\"].min(), continuous_update=False), max_time=ipywidgets.FloatSlider(value=df[\"ts\"].max(), min=df[\"ts\"].min(), max=df[\"ts\"].max()+.1, continuous_update=False))"
   ]
  },
  {
   "cell_type": "code",
   "execution_count": 20,
   "id": "7e3172c1",
   "metadata": {
    "scrolled": true
   },
   "outputs": [
    {
     "data": {
      "application/vnd.jupyter.widget-view+json": {
       "model_id": "eb2743175a8544369f77e91df31ad204",
       "version_major": 2,
       "version_minor": 0
      },
      "text/plain": [
       "interactive(children=(FloatSlider(value=15.0, continuous_update=False, description='hist_length', max=602.1806…"
      ]
     },
     "metadata": {},
     "output_type": "display_data"
    },
    {
     "data": {
      "text/plain": [
       "<function __main__.plot_acceleration(hist_length, max_time)>"
      ]
     },
     "execution_count": 20,
     "metadata": {},
     "output_type": "execute_result"
    }
   ],
   "source": [
    "def plot_acceleration(hist_length, max_time):\n",
    "    sample = df[(df[\"ts\"] >= max_time - hist_length) & (df[\"ts\"] <= max_time)]\n",
    "    plt.scatter(sample[\"ts\"], (sample[\"v.x\"].shift(1) - sample[\"v.x\"]) / (sample[\"ts\"].shift(1) - sample[\"ts\"]), label=\"x\")\n",
    "    plt.scatter(sample[\"ts\"], (sample[\"v.y\"].shift(1) - sample[\"v.y\"]) / (sample[\"ts\"].shift(1) - sample[\"ts\"]), label=\"y\")\n",
    "    plt.yscale(\"symlog\")\n",
    "    plt.legend()\n",
    "    plt.title(\"acceleration\")\n",
    "    \n",
    "ipywidgets.interact(plot_acceleration, hist_length=ipywidgets.FloatSlider(value=15, min=0, max=df[\"ts\"].max()-df[\"ts\"].min(), continuous_update=False), max_time=ipywidgets.FloatSlider(value=df[\"ts\"].max(), min=df[\"ts\"].min(), max=df[\"ts\"].max()+.1, continuous_update=False))"
   ]
  },
  {
   "cell_type": "code",
   "execution_count": 21,
   "id": "7754010f",
   "metadata": {},
   "outputs": [
    {
     "data": {
      "application/vnd.jupyter.widget-view+json": {
       "model_id": "184f93579f0a45ed98f6a5c0859f645d",
       "version_major": 2,
       "version_minor": 0
      },
      "text/plain": [
       "interactive(children=(FloatSlider(value=15.0, continuous_update=False, description='hist_length', max=602.1806…"
      ]
     },
     "metadata": {},
     "output_type": "display_data"
    },
    {
     "data": {
      "text/plain": [
       "<function __main__.plot_force(hist_length, max_time)>"
      ]
     },
     "execution_count": 21,
     "metadata": {},
     "output_type": "execute_result"
    }
   ],
   "source": [
    "def plot_force(hist_length, max_time):\n",
    "    sample = df[(df[\"ts\"] >= max_time - hist_length) & (df[\"ts\"] <= max_time)]\n",
    "    plt.scatter(sample[\"ts\"], sample[\"f_mag\"])\n",
    "    plt.yscale(\"log\")\n",
    "    plt.title(\"force\")\n",
    "    print(f'min force={sample[\"f_mag\"].min()}')\n",
    "    print(f'max force={sample[\"f_mag\"].max()}')\n",
    "\n",
    "ipywidgets.interact(plot_force, hist_length=ipywidgets.FloatSlider(value=15, min=0, max=df[\"ts\"].max()-df[\"ts\"].min(), continuous_update=False), max_time=ipywidgets.FloatSlider(value=df[\"ts\"].max(), min=df[\"ts\"].min(), max=df[\"ts\"].max()+.1, continuous_update=False))"
   ]
  },
  {
   "cell_type": "markdown",
   "id": "4630e3f8",
   "metadata": {},
   "source": [
    "# Behavior Monitoring"
   ]
  },
  {
   "cell_type": "code",
   "execution_count": 22,
   "id": "cf1a4380",
   "metadata": {},
   "outputs": [
    {
     "data": {
      "text/plain": [
       "[277.71666666674275, None, 337.0000666666888, 548.6667333331629]"
      ]
     },
     "execution_count": 22,
     "metadata": {},
     "output_type": "execute_result"
    }
   ],
   "source": [
    "[next((df.iloc[idx][\"ts\"] if idx is not None else None for idx, v in zip(df.index, (~df[c].isna() & df[c] == True)) if v), None) for c in [\"o.ct\", \"o.cs\", \"o.cac\", \"o.cbdr\"]]"
   ]
  },
  {
   "cell_type": "code",
   "execution_count": 23,
   "id": "9e6db2b0",
   "metadata": {},
   "outputs": [
    {
     "data": {
      "application/vnd.jupyter.widget-view+json": {
       "model_id": "5b74b072a3d7419e8adc9b862520706c",
       "version_major": 2,
       "version_minor": 0
      },
      "text/plain": [
       "interactive(children=(FloatSlider(value=15.0, continuous_update=False, description='hist_length', max=602.1806…"
      ]
     },
     "metadata": {},
     "output_type": "display_data"
    },
    {
     "data": {
      "text/plain": [
       "<function __main__.plot_collision_info(hist_length, max_time)>"
      ]
     },
     "execution_count": 23,
     "metadata": {},
     "output_type": "execute_result"
    }
   ],
   "source": [
    "def plot_collision_info(hist_length, max_time):\n",
    "    sample = df[(df[\"ts\"] >= max_time - hist_length) & (df[\"ts\"] <= max_time)]\n",
    "    plt.scatter(sample[\"ts\"], (~(sample[\"o.ct\"].isna())).astype(int), label=\"ct\")\n",
    "    plt.scatter(sample[\"ts\"], sample[\"o.cs\"].fillna(0).astype(int)+0.05, label=\"cs\")\n",
    "    plt.scatter(sample[\"ts\"], sample[\"o.cac\"].fillna(0).astype(int)+0.1, label=\"cac\")\n",
    "    plt.scatter(sample[\"ts\"], sample[\"o.cbdr\"].fillna(0).astype(int)+0.15, label=\"cbdr\")\n",
    "    plt.scatter(sample[\"ts\"], sample[\"o.cach\"].fillna(0).astype(int)+0.1, label=\"cach\", marker=\"+\")\n",
    "    plt.scatter(sample[\"ts\"], sample[\"o.ct_dv_override\"].fillna(0).astype(int)+0.2, label=\"dv override\")\n",
    "    plt.legend()\n",
    "    plt.title(\"status flags\")\n",
    "    \n",
    "    flag_cols = [\"o.ct\", \"o.cs\", \"o.cac\", \"o.cach\", \"o.cbdr\", \"o.ct_dv_override\"]\n",
    "    first_ts = [\n",
    "        next(\n",
    "            (sample.loc[idx][\"ts\"] if idx is not None else None\n",
    "             for idx, v in zip(sample.index, (~sample[c].isna() & sample[c] == True))\n",
    "             if v),\n",
    "            None\n",
    "        )\n",
    "        for c in flag_cols\n",
    "    ]\n",
    "    for c, ts in zip(flag_cols, first_ts):\n",
    "        print(f'first {c}: {ts}')\n",
    "\n",
    "ipywidgets.interact(plot_collision_info, hist_length=ipywidgets.FloatSlider(value=15, min=0, max=df[\"ts\"].max()-df[\"ts\"].min(), continuous_update=False), max_time=ipywidgets.FloatSlider(value=df[\"ts\"].max(), min=df[\"ts\"].min(), max=df[\"ts\"].max()+.1, continuous_update=False))"
   ]
  },
  {
   "cell_type": "code",
   "execution_count": null,
   "id": "13150d31",
   "metadata": {},
   "outputs": [],
   "source": []
  },
  {
   "cell_type": "markdown",
   "id": "94ba2b3d",
   "metadata": {},
   "source": [
    "### Target Location"
   ]
  },
  {
   "cell_type": "code",
   "execution_count": 24,
   "id": "2640e1e5",
   "metadata": {},
   "outputs": [
    {
     "data": {
      "text/html": [
       "<div>\n",
       "<style scoped>\n",
       "    .dataframe tbody tr th:only-of-type {\n",
       "        vertical-align: middle;\n",
       "    }\n",
       "\n",
       "    .dataframe tbody tr th {\n",
       "        vertical-align: top;\n",
       "    }\n",
       "\n",
       "    .dataframe thead tr th {\n",
       "        text-align: left;\n",
       "    }\n",
       "\n",
       "    .dataframe thead tr:last-of-type th {\n",
       "        text-align: right;\n",
       "    }\n",
       "</style>\n",
       "<table border=\"1\" class=\"dataframe\">\n",
       "  <thead>\n",
       "    <tr>\n",
       "      <th></th>\n",
       "      <th></th>\n",
       "      <th colspan=\"3\" halign=\"left\">ts</th>\n",
       "      <th colspan=\"2\" halign=\"left\">o.t_dist</th>\n",
       "      <th>o.ad</th>\n",
       "    </tr>\n",
       "    <tr>\n",
       "      <th></th>\n",
       "      <th></th>\n",
       "      <th>count</th>\n",
       "      <th>min</th>\n",
       "      <th>max</th>\n",
       "      <th>min</th>\n",
       "      <th>max</th>\n",
       "      <th>min</th>\n",
       "    </tr>\n",
       "    <tr>\n",
       "      <th>o.t_loc.x</th>\n",
       "      <th>o.t_loc.y</th>\n",
       "      <th></th>\n",
       "      <th></th>\n",
       "      <th></th>\n",
       "      <th></th>\n",
       "      <th></th>\n",
       "      <th></th>\n",
       "    </tr>\n",
       "  </thead>\n",
       "  <tbody>\n",
       "    <tr>\n",
       "      <th>-89528.073776</th>\n",
       "      <th>18275.943649</th>\n",
       "      <td>151</td>\n",
       "      <td>445.166733</td>\n",
       "      <td>470.166733</td>\n",
       "      <td>396.335424</td>\n",
       "      <td>5915.562701</td>\n",
       "      <td>500.0</td>\n",
       "    </tr>\n",
       "    <tr>\n",
       "      <th>-86042.144550</th>\n",
       "      <th>16221.591997</th>\n",
       "      <td>800</td>\n",
       "      <td>311.833400</td>\n",
       "      <td>445.000067</td>\n",
       "      <td>3420.181809</td>\n",
       "      <td>196019.797945</td>\n",
       "      <td>4500.0</td>\n",
       "    </tr>\n",
       "    <tr>\n",
       "      <th>-42340.326258</th>\n",
       "      <th>37397.995143</th>\n",
       "      <td>203</td>\n",
       "      <td>727.590276</td>\n",
       "      <td>762.564001</td>\n",
       "      <td>107587.650758</td>\n",
       "      <td>152503.159487</td>\n",
       "      <td>4500.0</td>\n",
       "    </tr>\n",
       "    <tr>\n",
       "      <th>48346.070301</th>\n",
       "      <th>156660.189513</th>\n",
       "      <td>999</td>\n",
       "      <td>522.166733</td>\n",
       "      <td>688.500067</td>\n",
       "      <td>3539.713984</td>\n",
       "      <td>195048.817501</td>\n",
       "      <td>4500.0</td>\n",
       "    </tr>\n",
       "    <tr>\n",
       "      <th>52658.332785</th>\n",
       "      <th>157141.274214</th>\n",
       "      <td>171</td>\n",
       "      <td>688.666733</td>\n",
       "      <td>717.000067</td>\n",
       "      <td>393.672663</td>\n",
       "      <td>7450.419231</td>\n",
       "      <td>500.0</td>\n",
       "    </tr>\n",
       "    <tr>\n",
       "      <th>52661.928154</th>\n",
       "      <th>155029.063904</th>\n",
       "      <td>154</td>\n",
       "      <td>275.383333</td>\n",
       "      <td>301.333400</td>\n",
       "      <td>442.620640</td>\n",
       "      <td>6636.999839</td>\n",
       "      <td>500.0</td>\n",
       "    </tr>\n",
       "    <tr>\n",
       "      <th>57202.479138</th>\n",
       "      <th>151175.990666</th>\n",
       "      <td>690</td>\n",
       "      <td>160.383333</td>\n",
       "      <td>275.216667</td>\n",
       "      <td>3649.446725</td>\n",
       "      <td>160079.075171</td>\n",
       "      <td>4500.0</td>\n",
       "    </tr>\n",
       "  </tbody>\n",
       "</table>\n",
       "</div>"
      ],
      "text/plain": [
       "                               ts                               o.t_dist  \\\n",
       "                            count         min         max            min   \n",
       "o.t_loc.x     o.t_loc.y                                                    \n",
       "-89528.073776 18275.943649    151  445.166733  470.166733     396.335424   \n",
       "-86042.144550 16221.591997    800  311.833400  445.000067    3420.181809   \n",
       "-42340.326258 37397.995143    203  727.590276  762.564001  107587.650758   \n",
       " 48346.070301 156660.189513   999  522.166733  688.500067    3539.713984   \n",
       " 52658.332785 157141.274214   171  688.666733  717.000067     393.672663   \n",
       " 52661.928154 155029.063904   154  275.383333  301.333400     442.620640   \n",
       " 57202.479138 151175.990666   690  160.383333  275.216667    3649.446725   \n",
       "\n",
       "                                              o.ad  \n",
       "                                       max     min  \n",
       "o.t_loc.x     o.t_loc.y                             \n",
       "-89528.073776 18275.943649     5915.562701   500.0  \n",
       "-86042.144550 16221.591997   196019.797945  4500.0  \n",
       "-42340.326258 37397.995143   152503.159487  4500.0  \n",
       " 48346.070301 156660.189513  195048.817501  4500.0  \n",
       " 52658.332785 157141.274214    7450.419231   500.0  \n",
       " 52661.928154 155029.063904    6636.999839   500.0  \n",
       " 57202.479138 151175.990666  160079.075171  4500.0  "
      ]
     },
     "execution_count": 24,
     "metadata": {},
     "output_type": "execute_result"
    }
   ],
   "source": [
    "if np.any(~df[\"o.t_loc\"].isna()):\n",
    "    x = df.groupby([\"o.t_loc.x\", \"o.t_loc.y\"]).agg({\"ts\": [\"count\", \"min\", \"max\"], \"o.t_dist\": [\"min\",\"max\"], \"o.ad\":[\"min\"]})\n",
    "else:\n",
    "    x = \"no location target\"\n",
    "x"
   ]
  },
  {
   "cell_type": "code",
   "execution_count": 25,
   "id": "74d23fb4",
   "metadata": {},
   "outputs": [
    {
     "data": {
      "application/vnd.jupyter.widget-view+json": {
       "model_id": "ada82634d3334e8d95fcbf9ba126a470",
       "version_major": 2,
       "version_minor": 0
      },
      "text/plain": [
       "interactive(children=(FloatSlider(value=15.0, continuous_update=False, description='hist_length', max=602.1806…"
      ]
     },
     "metadata": {},
     "output_type": "display_data"
    },
    {
     "data": {
      "text/plain": [
       "<function __main__.plot_target_distance(hist_length, max_time)>"
      ]
     },
     "execution_count": 25,
     "metadata": {},
     "output_type": "execute_result"
    }
   ],
   "source": [
    "#sample = df[(df[\"ts\"] < 124.4) & (df[\"ts\"] > 120)]\n",
    "def plot_target_distance(hist_length, max_time):\n",
    "    sample = df[(df[\"ts\"] >= max_time - hist_length) & (df[\"ts\"] <= max_time)]\n",
    "    plt.scatter(sample[\"ts\"], sample[\"o.t_dist\"])\n",
    "    plt.scatter(sample[\"ts\"], sample[\"o.ad\"], color=\"green\", marker=\"_\")\n",
    "    plt.scatter(sample[\"ts\"], sample[\"o.md\"], color=\"red\", marker=\"_\")\n",
    "    #plt.ylim(0,1500)\n",
    "    plt.title(\"distance to target\")\n",
    "    print(f'when first arrived {sample[sample[\"o.t_dist\"] < sample[\"o.ad\"]][\"ts\"].min()}')\n",
    "\n",
    "ipywidgets.interact(\n",
    "    plot_target_distance,\n",
    "    hist_length=ipywidgets.FloatSlider(value=15, min=0, max=df[\"ts\"].max()-df[\"ts\"].min(), continuous_update=False),\n",
    "    max_time=ipywidgets.FloatSlider(value=df[\"ts\"].max(), min=df[\"ts\"].min(), max=df[\"ts\"].max()+.1, continuous_update=False))"
   ]
  },
  {
   "cell_type": "code",
   "execution_count": 26,
   "id": "b8111da4",
   "metadata": {},
   "outputs": [
    {
     "data": {
      "text/plain": [
       "271.21666666674867"
      ]
     },
     "execution_count": 26,
     "metadata": {},
     "output_type": "execute_result"
    }
   ],
   "source": [
    "df[df[\"o.t_dist\"] < df[\"o.ad\"]][\"ts\"].min()"
   ]
  },
  {
   "cell_type": "code",
   "execution_count": 27,
   "id": "4d0bf8d0",
   "metadata": {},
   "outputs": [
    {
     "data": {
      "application/vnd.jupyter.widget-view+json": {
       "model_id": "1e315dc1481a4bd9beddb16040cf62d9",
       "version_major": 2,
       "version_minor": 0
      },
      "text/plain": [
       "interactive(children=(FloatSlider(value=15.0, continuous_update=False, description='hist_length', max=602.1806…"
      ]
     },
     "metadata": {},
     "output_type": "display_data"
    },
    {
     "data": {
      "text/plain": [
       "<function __main__.plot_desired_speed(hist_length, max_time)>"
      ]
     },
     "execution_count": 27,
     "metadata": {},
     "output_type": "execute_result"
    }
   ],
   "source": [
    "def plot_desired_speed(hist_length, max_time):\n",
    "    sample = df[(df[\"ts\"] >= max_time - hist_length) & (df[\"ts\"] <= max_time)]\n",
    "    plt.scatter(sample[\"ts\"], sample[\"speed\"], label=\"actual speed\")\n",
    "    plt.scatter(sample[\"ts\"], sample[\"o.t_speed\"], label=\"desired speed\")\n",
    "    plt.legend()\n",
    "    plt.title(\"speed and desired speed to target\")\n",
    "    plt.ylim(0)\n",
    "\n",
    "ipywidgets.interact(\n",
    "    plot_desired_speed,\n",
    "    hist_length=ipywidgets.FloatSlider(value=15, min=0, max=df[\"ts\"].max()-df[\"ts\"].min(), continuous_update=False),\n",
    "    max_time=ipywidgets.FloatSlider(value=df[\"ts\"].max(), min=df[\"ts\"].min(), max=df[\"ts\"].max()+.1, continuous_update=False))"
   ]
  },
  {
   "cell_type": "code",
   "execution_count": 28,
   "id": "d7341dc2",
   "metadata": {
    "scrolled": true
   },
   "outputs": [
    {
     "data": {
      "text/plain": [
       "Text(0.5, 1.0, 'desired speed delta')"
      ]
     },
     "execution_count": 28,
     "metadata": {},
     "output_type": "execute_result"
    },
    {
     "data": {
      "image/png": "[encoded data removed]",
      "text/plain": [
       "<Figure size 432x288 with 1 Axes>"
      ]
     },
     "metadata": {
      "needs_background": "light"
     },
     "output_type": "display_data"
    }
   ],
   "source": [
    "plt.scatter(df[\"ts\"], df[\"o.t_speed\"] - df[\"speed\"])\n",
    "plt.scatter(df[\"ts\"], np.linalg.norm(np.array((df[\"o.t_v.x\"] - df[\"v.x\"], df[\"o.t_v.y\"] - df[\"v.y\"])), axis=0))\n",
    "plt.title(\"desired speed delta\")"
   ]
  },
  {
   "cell_type": "markdown",
   "id": "5ac378ec",
   "metadata": {},
   "source": [
    "## Collision Avoidance"
   ]
  },
  {
   "cell_type": "markdown",
   "id": "6936a767",
   "metadata": {},
   "source": [
    "### Collision Threats"
   ]
  },
  {
   "cell_type": "code",
   "execution_count": 29,
   "id": "f38ca4d8",
   "metadata": {},
   "outputs": [
    {
     "data": {
      "application/vnd.jupyter.widget-view+json": {
       "model_id": "2ce8ff83e3594c67bf069737aa74093f",
       "version_major": 2,
       "version_minor": 0
      },
      "text/plain": [
       "interactive(children=(FloatSlider(value=15.0, continuous_update=False, description='hist_length', max=602.1806…"
      ]
     },
     "metadata": {},
     "output_type": "display_data"
    },
    {
     "data": {
      "text/plain": [
       "<function __main__.show_collision_threats(hist_length, max_time)>"
      ]
     },
     "execution_count": 29,
     "metadata": {},
     "output_type": "execute_result"
    }
   ],
   "source": [
    "def show_collision_threats(hist_length, max_time):\n",
    "    sample = df[(df[\"ts\"] >= max_time-hist_length) & (df[\"ts\"] <= max_time)]\n",
    "    if np.any(~sample[\"o.ct\"].isna()):\n",
    "        x = sample.groupby(\"o.ct\").agg({\"ts\": [\"count\", \"min\", \"max\"], \"o.ct_dist\": [\"min\",\"max\"]})\n",
    "    else:\n",
    "        x = \"no collision threats\"\n",
    "    return x\n",
    "ipywidgets.interact(\n",
    "    show_collision_threats,\n",
    "    hist_length=ipywidgets.FloatSlider(value=15, min=0, max=df[\"ts\"].max()-df[\"ts\"].min(), continuous_update=False),\n",
    "    max_time=ipywidgets.FloatSlider(value=df[\"ts\"].max(), min=df[\"ts\"].min(), max=df[\"ts\"].max()+.1, continuous_update=False)\n",
    ")"
   ]
  },
  {
   "cell_type": "code",
   "execution_count": 30,
   "id": "890424d5",
   "metadata": {},
   "outputs": [
    {
     "data": {
      "application/vnd.jupyter.widget-view+json": {
       "model_id": "18f82d6b6c06466ebb676a0e622ad0df",
       "version_major": 2,
       "version_minor": 0
      },
      "text/plain": [
       "interactive(children=(FloatSlider(value=15.0, continuous_update=False, description='hist_length', max=602.1806…"
      ]
     },
     "metadata": {},
     "output_type": "display_data"
    },
    {
     "data": {
      "text/plain": [
       "<function __main__.plot_collision_distance(hist_length, max_time)>"
      ]
     },
     "execution_count": 30,
     "metadata": {},
     "output_type": "execute_result"
    }
   ],
   "source": [
    "def plot_collision_distance(hist_length, max_time):\n",
    "    sample = df[(df[\"ts\"] >= max_time-hist_length) & (df[\"ts\"] <= max_time)]\n",
    "    plt.scatter(sample[\"ts\"], sample[\"o.ct_dist\"])\n",
    "    plt.scatter(sample[\"ts\"], sample[\"o.ct_cradius\"]+sample[\"o.scm\"]*2, color=\"green\", marker=\"_\")\n",
    "    plt.scatter(sample[\"ts\"], sample[\"o.ct_cradius\"]+sample[\"o.scm\"], color=\"orange\", marker=\"_\")\n",
    "    plt.scatter(sample[\"ts\"], sample[\"o.ct_cradius\"], color=\"red\", marker=\"_\")\n",
    "    plt.hlines(60, sample[\"ts\"].min(), sample[\"ts\"].max(), color=\"red\")\n",
    "    plt.ylim(0)\n",
    "    plt.title(\"distance to collision threat\")\n",
    "    print(f'max ct dist: {sample[\"o.ct_dist\"].max()}')\n",
    "    print(f'min ct dist: {sample[\"o.ct_dist\"].min()}')\n",
    "\n",
    "ipywidgets.interact(\n",
    "    plot_collision_distance,\n",
    "    hist_length=ipywidgets.FloatSlider(value=15, min=0, max=df[\"ts\"].max()-df[\"ts\"].min(), continuous_update=False),\n",
    "    max_time=ipywidgets.FloatSlider(value=df[\"ts\"].max(), min=df[\"ts\"].min(), max=df[\"ts\"].max()+.1, continuous_update=False)\n",
    ")"
   ]
  },
  {
   "cell_type": "code",
   "execution_count": 31,
   "id": "bb2c0ac7",
   "metadata": {},
   "outputs": [
    {
     "data": {
      "application/vnd.jupyter.widget-view+json": {
       "model_id": "19fe6132fec44ad487a2f11788066f67",
       "version_major": 2,
       "version_minor": 0
      },
      "text/plain": [
       "interactive(children=(FloatSlider(value=15.0, continuous_update=False, description='hist_length', max=602.1806…"
      ]
     },
     "metadata": {},
     "output_type": "display_data"
    },
    {
     "data": {
      "text/plain": [
       "<function __main__.plot_minimum_separation(hist_length, max_time)>"
      ]
     },
     "execution_count": 31,
     "metadata": {},
     "output_type": "execute_result"
    }
   ],
   "source": [
    "def plot_minimum_separation(hist_length, max_time):\n",
    "    sample = df[(df[\"ts\"] >= max_time-hist_length) & (df[\"ts\"] <= max_time)]\n",
    "    plt.scatter(sample[\"ts\"], sample[\"o.ct_ms\"])\n",
    "    #plt.scatter(sample[\"ts\"], sample[\"o.ct_cradius\"]+30, color=\"red\", marker=\"_\")\n",
    "    plt.ylim(0)\n",
    "    plt.title(\"minimum_separation with collision threat\")\n",
    "    print(f'max min sep: {sample[\"o.ct_ms\"].max()}')\n",
    "    print(f'min min sep: {sample[\"o.ct_ms\"].min()}')\n",
    "\n",
    "ipywidgets.interact(\n",
    "    plot_minimum_separation,\n",
    "    hist_length=ipywidgets.FloatSlider(value=15, min=0, max=df[\"ts\"].max()-df[\"ts\"].min(), continuous_update=False),\n",
    "    max_time=ipywidgets.FloatSlider(value=df[\"ts\"].max(), min=df[\"ts\"].min(), max=df[\"ts\"].max()+.1, continuous_update=False)\n",
    ")"
   ]
  },
  {
   "cell_type": "code",
   "execution_count": 32,
   "id": "12faf352",
   "metadata": {},
   "outputs": [
    {
     "data": {
      "application/vnd.jupyter.widget-view+json": {
       "model_id": "dd9fab2128f9429b96114a80cefb680a",
       "version_major": 2,
       "version_minor": 0
      },
      "text/plain": [
       "interactive(children=(FloatSlider(value=15.0, continuous_update=False, description='hist_length', max=602.1806…"
      ]
     },
     "metadata": {},
     "output_type": "display_data"
    },
    {
     "data": {
      "text/plain": [
       "<function __main__.plot_threat_age(hist_length, max_time)>"
      ]
     },
     "execution_count": 32,
     "metadata": {},
     "output_type": "execute_result"
    }
   ],
   "source": [
    "def plot_threat_age(hist_length, max_time):\n",
    "    sample = df[(df[\"ts\"] >= max_time - hist_length) & (df[\"ts\"] <= max_time)]\n",
    "    fig, ax1 = plt.subplots()\n",
    "    ax2 = ax1.twinx()\n",
    "\n",
    "    ax1.scatter(sample[\"ts\"], 1-sample[\"o.ct\"].isna().astype(int))\n",
    "    ax2.scatter(sample[\"ts\"], sample[\"ts\"] - sample[\"o.ct_ts\"], color=\"orange\")\n",
    "    plt.title(\"Collision Threat and Time Since Detection\")\n",
    "\n",
    "    #ax2.set_ylim(0,(df[\"ts\"] - df[\"o.ct_ts\"]).max()*1.2)\n",
    "    \n",
    "ipywidgets.interact(\n",
    "    plot_threat_age,\n",
    "    hist_length=ipywidgets.FloatSlider(value=15, min=0, max=df[\"ts\"].max()-df[\"ts\"].min(), continuous_update=False),\n",
    "    max_time=ipywidgets.FloatSlider(value=df[\"ts\"].max(), min=df[\"ts\"].min(), max=df[\"ts\"].max()+.1, continuous_update=False))"
   ]
  },
  {
   "cell_type": "markdown",
   "id": "e0882f8c",
   "metadata": {},
   "source": [
    "## CBDR Detection"
   ]
  },
  {
   "cell_type": "code",
   "execution_count": 33,
   "id": "60657285",
   "metadata": {},
   "outputs": [
    {
     "data": {
      "application/vnd.jupyter.widget-view+json": {
       "model_id": "7cf3b88c1a7b401286f4943a3f95276a",
       "version_major": 2,
       "version_minor": 0
      },
      "text/plain": [
       "interactive(children=(FloatSlider(value=15.0, continuous_update=False, description='hist_length', max=602.1806…"
      ]
     },
     "metadata": {},
     "output_type": "display_data"
    },
    {
     "data": {
      "text/plain": [
       "<function __main__.plot_cbdr_detection_data(hist_length, max_time)>"
      ]
     },
     "execution_count": 33,
     "metadata": {},
     "output_type": "execute_result"
    }
   ],
   "source": [
    "def plot_cbdr_detection_data(hist_length, max_time):\n",
    "    sample = df[(df[\"ts\"] >= max_time - hist_length) & (df[\"ts\"] <= max_time)]\n",
    "    fig, ax1 = plt.subplots()\n",
    "    ax2 = ax1.twinx()\n",
    "\n",
    "    bearing = sample[\"o.cbdr_hist\"].apply(lambda x: np.nan if isinstance(x, float) or len(x) < 2 else abs(util.cartesian_to_polar(x[0][0], x[0][1])[1] - util.cartesian_to_polar(x[-1][0], x[-1][1])[1]))\n",
    "    threat_range = sample[\"o.cbdr_hist\"].apply(lambda x: np.nan if isinstance(x, float) or len(x) < 2 else util.cartesian_to_polar(x[0][0], x[0][1])[0] - util.cartesian_to_polar(x[-1][0], x[-1][1])[0])\n",
    "    ax1.scatter(sample[\"ts\"], bearing, label=\"delta bearing\")\n",
    "    ax1.hlines(2e-3, sample[\"ts\"].min(), sample[\"ts\"].max(), color=\"green\", label=\"max delta bearing\")\n",
    "    ax2.scatter(sample[\"ts\"], threat_range, color=\"orange\", label=\"delta range\")\n",
    "    ax2.hlines(5, sample[\"ts\"].min(), sample[\"ts\"].max(), color=\"red\", label=\"min delta range\")\n",
    "    fig.legend()\n",
    "    \n",
    "ipywidgets.interact(\n",
    "    plot_cbdr_detection_data,\n",
    "    hist_length=ipywidgets.FloatSlider(value=15, min=0, max=df[\"ts\"].max()-df[\"ts\"].min(), continuous_update=False),\n",
    "    max_time=ipywidgets.FloatSlider(value=df[\"ts\"].max(), min=df[\"ts\"].min(), max=df[\"ts\"].max()+.1, continuous_update=False))"
   ]
  },
  {
   "cell_type": "code",
   "execution_count": 34,
   "id": "9c947c36",
   "metadata": {},
   "outputs": [
    {
     "data": {
      "application/vnd.jupyter.widget-view+json": {
       "model_id": "6388ee12b40a4cd4bfc9c7f5ea7d9eef",
       "version_major": 2,
       "version_minor": 0
      },
      "text/plain": [
       "interactive(children=(FloatSlider(value=15.0, continuous_update=False, description='hist_length', max=602.1806…"
      ]
     },
     "metadata": {},
     "output_type": "display_data"
    },
    {
     "data": {
      "text/plain": [
       "<function __main__.plot_num_coalesced_threats(hist_length, max_time)>"
      ]
     },
     "execution_count": 34,
     "metadata": {},
     "output_type": "execute_result"
    }
   ],
   "source": [
    "def plot_num_coalesced_threats(hist_length, max_time):\n",
    "    sample = df[(df[\"ts\"] >= max_time-hist_length) & (df[\"ts\"] <= max_time)]\n",
    "    plt.scatter(sample[\"ts\"], sample[\"o.ct_ct\"])\n",
    "    plt.title(\"number of coalesced threats\")\n",
    "    plt.show()\n",
    "\n",
    "ipywidgets.interact(\n",
    "    plot_num_coalesced_threats,\n",
    "    hist_length=ipywidgets.FloatSlider(value=15, min=0, max=df[\"ts\"].max()-df[\"ts\"].min(), continuous_update=False),\n",
    "    max_time=ipywidgets.FloatSlider(value=df[\"ts\"].max(), min=df[\"ts\"].min(), max=df[\"ts\"].max()+.1, continuous_update=False)\n",
    ")  "
   ]
  },
  {
   "cell_type": "code",
   "execution_count": 35,
   "id": "91227c9a",
   "metadata": {},
   "outputs": [
    {
     "data": {
      "application/vnd.jupyter.widget-view+json": {
       "model_id": "ff3cd7aaed7f45dd8750288a77a3dfc4",
       "version_major": 2,
       "version_minor": 0
      },
      "text/plain": [
       "interactive(children=(FloatSlider(value=15.0, continuous_update=False, description='hist_length', max=602.1806…"
      ]
     },
     "metadata": {},
     "output_type": "display_data"
    },
    {
     "data": {
      "text/plain": [
       "<function __main__.plot_collision_threat_radius(hist_length, max_time)>"
      ]
     },
     "execution_count": 35,
     "metadata": {},
     "output_type": "execute_result"
    }
   ],
   "source": [
    "def plot_collision_threat_radius(hist_length, max_time):\n",
    "    sample = df[(df[\"ts\"] >= max_time - hist_length) & (df[\"ts\"] <= max_time)]\n",
    "    plt.scatter(sample[\"ts\"], sample[\"o.ct_cradius\"], label=\"threat radius\")\n",
    "    plt.scatter(sample[\"ts\"], sample[\"o.scm\"], label=\"desired margin\")\n",
    "    plt.title(\"collision threat radius\")\n",
    "    plt.legend()\n",
    "    print(f'min coalesced radius: {sample[\"o.ct_cradius\"].min()}')\n",
    "    print(f'min scaled margin: {sample[\"o.scm\"].min()}')\n",
    "    plt.show()\n",
    "\n",
    "ipywidgets.interact(\n",
    "    plot_collision_threat_radius,\n",
    "    hist_length=ipywidgets.FloatSlider(value=15, min=0, max=df[\"ts\"].max()-df[\"ts\"].min(), continuous_update=False),\n",
    "    max_time=ipywidgets.FloatSlider(value=df[\"ts\"].max(), min=df[\"ts\"].min(), max=df[\"ts\"].max()+.1, continuous_update=False))"
   ]
  },
  {
   "cell_type": "code",
   "execution_count": 36,
   "id": "10290387",
   "metadata": {},
   "outputs": [
    {
     "data": {
      "application/vnd.jupyter.widget-view+json": {
       "model_id": "8cbe2981bb964b019773f0ac293431c1",
       "version_major": 2,
       "version_minor": 0
      },
      "text/plain": [
       "interactive(children=(FloatSlider(value=15.0, continuous_update=False, description='hist_length', max=602.1806…"
      ]
     },
     "metadata": {},
     "output_type": "display_data"
    },
    {
     "data": {
      "text/plain": [
       "<function __main__.plot_collision_threat_loc(hist_length, max_time)>"
      ]
     },
     "execution_count": 36,
     "metadata": {},
     "output_type": "execute_result"
    }
   ],
   "source": [
    "def plot_collision_threat_loc(hist_length, max_time):\n",
    "    sample = df[(df[\"ts\"] >= max_time - hist_length) & (df[\"ts\"] <= max_time)]\n",
    "    fig, ax1 = plt.subplots()\n",
    "    ax2 = ax1.twinx()\n",
    "    ax1.scatter(sample[\"ts\"], sample[\"o.ct_cloc.x\"])\n",
    "    ax2.scatter(sample[\"ts\"], sample[\"o.ct_cloc.y\"], color=\"orange\")\n",
    "    plt.title(\"collision threat coalesced location\")\n",
    "    plt.show()\n",
    "\n",
    "ipywidgets.interact(\n",
    "    plot_collision_threat_loc,\n",
    "    hist_length=ipywidgets.FloatSlider(value=15, min=0, max=df[\"ts\"].max()-df[\"ts\"].min(), continuous_update=False),\n",
    "    max_time=ipywidgets.FloatSlider(value=df[\"ts\"].max(), min=df[\"ts\"].min(), max=df[\"ts\"].max()+.1, continuous_update=False))"
   ]
  },
  {
   "cell_type": "code",
   "execution_count": 37,
   "id": "37056949",
   "metadata": {},
   "outputs": [
    {
     "data": {
      "text/html": [
       "<div>\n",
       "<style scoped>\n",
       "    .dataframe tbody tr th:only-of-type {\n",
       "        vertical-align: middle;\n",
       "    }\n",
       "\n",
       "    .dataframe tbody tr th {\n",
       "        vertical-align: top;\n",
       "    }\n",
       "\n",
       "    .dataframe thead th {\n",
       "        text-align: right;\n",
       "    }\n",
       "</style>\n",
       "<table border=\"1\" class=\"dataframe\">\n",
       "  <thead>\n",
       "    <tr style=\"text-align: right;\">\n",
       "      <th></th>\n",
       "      <th>index</th>\n",
       "      <th>p</th>\n",
       "      <th>eid</th>\n",
       "      <th>ts</th>\n",
       "      <th>loc</th>\n",
       "      <th>r</th>\n",
       "      <th>a</th>\n",
       "      <th>v</th>\n",
       "      <th>av</th>\n",
       "      <th>f</th>\n",
       "      <th>...</th>\n",
       "      <th>o.t_v.y</th>\n",
       "      <th>angle.x</th>\n",
       "      <th>angle.y</th>\n",
       "      <th>_ada.x</th>\n",
       "      <th>_ada.y</th>\n",
       "      <th>o.ct_dist</th>\n",
       "      <th>o.t_dist</th>\n",
       "      <th>speed</th>\n",
       "      <th>o.t_speed</th>\n",
       "      <th>f_mag</th>\n",
       "    </tr>\n",
       "  </thead>\n",
       "  <tbody>\n",
       "    <tr>\n",
       "      <th>1018</th>\n",
       "      <td>12013</td>\n",
       "      <td>SHP</td>\n",
       "      <td>92012b07-e5be-4a7e-bda2-602968a1ea21</td>\n",
       "      <td>330.500067</td>\n",
       "      <td>[41494.529673973564, 143348.51878955855]</td>\n",
       "      <td>30</td>\n",
       "      <td>-15.053432</td>\n",
       "      <td>[-1260.6344882883445, -1252.2673324834948]</td>\n",
       "      <td>-0.900000</td>\n",
       "      <td>[-14974.786899854056, -869.3430300861361]</td>\n",
       "      <td>...</td>\n",
       "      <td>-1835.517190</td>\n",
       "      <td>-79.333349</td>\n",
       "      <td>-60.878730</td>\n",
       "      <td>-99.831913</td>\n",
       "      <td>-5.795620</td>\n",
       "      <td>34359.964824</td>\n",
       "      <td>180074.592288</td>\n",
       "      <td>1776.899768</td>\n",
       "      <td>2600.0</td>\n",
       "      <td>15000.0</td>\n",
       "    </tr>\n",
       "    <tr>\n",
       "      <th>1027</th>\n",
       "      <td>12022</td>\n",
       "      <td>SHP</td>\n",
       "      <td>92012b07-e5be-4a7e-bda2-602968a1ea21</td>\n",
       "      <td>332.000067</td>\n",
       "      <td>[39540.17060088435, 141468.6452454054]</td>\n",
       "      <td>30</td>\n",
       "      <td>-15.704081</td>\n",
       "      <td>[-1373.556257680677, -1254.649757073509]</td>\n",
       "      <td>0.047069</td>\n",
       "      <td>[-9199.274159776352, -11847.926187028308]</td>\n",
       "      <td>...</td>\n",
       "      <td>-1765.402555</td>\n",
       "      <td>-99.999246</td>\n",
       "      <td>-0.388225</td>\n",
       "      <td>-61.328494</td>\n",
       "      <td>-78.986175</td>\n",
       "      <td>18742.674034</td>\n",
       "      <td>177363.305748</td>\n",
       "      <td>1860.323307</td>\n",
       "      <td>2500.0</td>\n",
       "      <td>15000.0</td>\n",
       "    </tr>\n",
       "    <tr>\n",
       "      <th>1028</th>\n",
       "      <td>12023</td>\n",
       "      <td>SHP</td>\n",
       "      <td>92012b07-e5be-4a7e-bda2-602968a1ea21</td>\n",
       "      <td>332.166733</td>\n",
       "      <td>[39311.18762100863, 141259.46249363493]</td>\n",
       "      <td>30</td>\n",
       "      <td>-15.658736</td>\n",
       "      <td>[-1374.3005224784247, -1255.653459704671]</td>\n",
       "      <td>0.547069</td>\n",
       "      <td>[-8529.032692770168, -12339.189654335394]</td>\n",
       "      <td>...</td>\n",
       "      <td>-1765.484033</td>\n",
       "      <td>-99.878859</td>\n",
       "      <td>-4.920722</td>\n",
       "      <td>-56.860218</td>\n",
       "      <td>-82.261264</td>\n",
       "      <td>29943.579072</td>\n",
       "      <td>177053.457873</td>\n",
       "      <td>1861.549768</td>\n",
       "      <td>2500.0</td>\n",
       "      <td>15000.0</td>\n",
       "    </tr>\n",
       "    <tr>\n",
       "      <th>1029</th>\n",
       "      <td>12024</td>\n",
       "      <td>SHP</td>\n",
       "      <td>92012b07-e5be-4a7e-bda2-602968a1ea21</td>\n",
       "      <td>332.333400</td>\n",
       "      <td>[39082.084744242806, 141050.10944959003]</td>\n",
       "      <td>30</td>\n",
       "      <td>-15.530058</td>\n",
       "      <td>[-1375.0142464125734, -1256.6791335760902]</td>\n",
       "      <td>1.047069</td>\n",
       "      <td>[-9194.680777666625, -11851.491273118667]</td>\n",
       "      <td>...</td>\n",
       "      <td>-1765.647130</td>\n",
       "      <td>-98.421655</td>\n",
       "      <td>-17.696830</td>\n",
       "      <td>-61.297872</td>\n",
       "      <td>-79.009942</td>\n",
       "      <td>18146.647688</td>\n",
       "      <td>176743.405891</td>\n",
       "      <td>1862.768537</td>\n",
       "      <td>2500.0</td>\n",
       "      <td>15000.0</td>\n",
       "    </tr>\n",
       "    <tr>\n",
       "      <th>1030</th>\n",
       "      <td>12025</td>\n",
       "      <td>SHP</td>\n",
       "      <td>92012b07-e5be-4a7e-bda2-602968a1ea21</td>\n",
       "      <td>332.500067</td>\n",
       "      <td>[38852.86063238651, 140840.58717041052]</td>\n",
       "      <td>30</td>\n",
       "      <td>-15.318046</td>\n",
       "      <td>[-1375.7229665948148, -1257.7072001609874]</td>\n",
       "      <td>1.547069</td>\n",
       "      <td>[-8320.38728073947, -12480.831522719505]</td>\n",
       "      <td>...</td>\n",
       "      <td>-1695.177970</td>\n",
       "      <td>-92.494070</td>\n",
       "      <td>-38.011144</td>\n",
       "      <td>-55.469249</td>\n",
       "      <td>-83.205543</td>\n",
       "      <td>29322.695063</td>\n",
       "      <td>176433.149599</td>\n",
       "      <td>1863.985269</td>\n",
       "      <td>2400.0</td>\n",
       "      <td>15000.0</td>\n",
       "    </tr>\n",
       "    <tr>\n",
       "      <th>...</th>\n",
       "      <td>...</td>\n",
       "      <td>...</td>\n",
       "      <td>...</td>\n",
       "      <td>...</td>\n",
       "      <td>...</td>\n",
       "      <td>...</td>\n",
       "      <td>...</td>\n",
       "      <td>...</td>\n",
       "      <td>...</td>\n",
       "      <td>...</td>\n",
       "      <td>...</td>\n",
       "      <td>...</td>\n",
       "      <td>...</td>\n",
       "      <td>...</td>\n",
       "      <td>...</td>\n",
       "      <td>...</td>\n",
       "      <td>...</td>\n",
       "      <td>...</td>\n",
       "      <td>...</td>\n",
       "      <td>...</td>\n",
       "      <td>...</td>\n",
       "    </tr>\n",
       "    <tr>\n",
       "      <th>3570</th>\n",
       "      <td>14565</td>\n",
       "      <td>SHP</td>\n",
       "      <td>92012b07-e5be-4a7e-bda2-602968a1ea21</td>\n",
       "      <td>757.664001</td>\n",
       "      <td>[30761.432010177712, 131076.95445280892]</td>\n",
       "      <td>30</td>\n",
       "      <td>28.215492</td>\n",
       "      <td>[-1554.0853856553645, -1613.7432478593971]</td>\n",
       "      <td>-0.403480</td>\n",
       "      <td>[-199138.8113780655, 18540.059410133126]</td>\n",
       "      <td>...</td>\n",
       "      <td>-1340.163161</td>\n",
       "      <td>-99.826934</td>\n",
       "      <td>5.880753</td>\n",
       "      <td>-99.569406</td>\n",
       "      <td>9.270030</td>\n",
       "      <td>10043.506033</td>\n",
       "      <td>118825.984024</td>\n",
       "      <td>2240.390291</td>\n",
       "      <td>1700.0</td>\n",
       "      <td>200000.0</td>\n",
       "    </tr>\n",
       "    <tr>\n",
       "      <th>3571</th>\n",
       "      <td>14566</td>\n",
       "      <td>SHP</td>\n",
       "      <td>92012b07-e5be-4a7e-bda2-602968a1ea21</td>\n",
       "      <td>757.830668</td>\n",
       "      <td>[30501.172932913687, 130808.11057891823]</td>\n",
       "      <td>30</td>\n",
       "      <td>28.176607</td>\n",
       "      <td>[-1570.6857766119233, -1612.2592337586673]</td>\n",
       "      <td>0.034410</td>\n",
       "      <td>[-199347.74113508512, 16139.33407359417]</td>\n",
       "      <td>...</td>\n",
       "      <td>-1340.581908</td>\n",
       "      <td>-99.522857</td>\n",
       "      <td>9.757092</td>\n",
       "      <td>-99.673871</td>\n",
       "      <td>8.069667</td>\n",
       "      <td>9706.468580</td>\n",
       "      <td>118453.930581</td>\n",
       "      <td>2250.873974</td>\n",
       "      <td>1700.0</td>\n",
       "      <td>200000.0</td>\n",
       "    </tr>\n",
       "    <tr>\n",
       "      <th>3573</th>\n",
       "      <td>14568</td>\n",
       "      <td>SHP</td>\n",
       "      <td>92012b07-e5be-4a7e-bda2-602968a1ea21</td>\n",
       "      <td>758.164001</td>\n",
       "      <td>[29972.35042498902, 130271.11580464945]</td>\n",
       "      <td>30</td>\n",
       "      <td>28.180673</td>\n",
       "      <td>[-1603.9042692773965, -1609.5017420293104]</td>\n",
       "      <td>-0.063671</td>\n",
       "      <td>[-199261.31646959067, 17173.46088607705]</td>\n",
       "      <td>...</td>\n",
       "      <td>-1262.372966</td>\n",
       "      <td>-99.561702</td>\n",
       "      <td>9.352410</td>\n",
       "      <td>-99.630658</td>\n",
       "      <td>8.586730</td>\n",
       "      <td>9010.225732</td>\n",
       "      <td>117705.308931</td>\n",
       "      <td>2272.224629</td>\n",
       "      <td>1600.0</td>\n",
       "      <td>200000.0</td>\n",
       "    </tr>\n",
       "    <tr>\n",
       "      <th>3574</th>\n",
       "      <td>14569</td>\n",
       "      <td>SHP</td>\n",
       "      <td>92012b07-e5be-4a7e-bda2-602968a1ea21</td>\n",
       "      <td>758.330668</td>\n",
       "      <td>[29704.08407534222, 130002.95093541268]</td>\n",
       "      <td>30</td>\n",
       "      <td>28.200894</td>\n",
       "      <td>[-1611.601809276535, -1608.795138290554]</td>\n",
       "      <td>0.336329</td>\n",
       "      <td>[14879.52009678188, -1897.3354182811488]</td>\n",
       "      <td>...</td>\n",
       "      <td>-1262.683798</td>\n",
       "      <td>-99.730454</td>\n",
       "      <td>7.337340</td>\n",
       "      <td>99.196801</td>\n",
       "      <td>-12.648903</td>\n",
       "      <td>9499.181139</td>\n",
       "      <td>117328.917568</td>\n",
       "      <td>2277.165385</td>\n",
       "      <td>1600.0</td>\n",
       "      <td>15000.0</td>\n",
       "    </tr>\n",
       "    <tr>\n",
       "      <th>3591</th>\n",
       "      <td>14586</td>\n",
       "      <td>SHP</td>\n",
       "      <td>92012b07-e5be-4a7e-bda2-602968a1ea21</td>\n",
       "      <td>761.164001</td>\n",
       "      <td>[25171.95004933646, 125370.39685808874]</td>\n",
       "      <td>30</td>\n",
       "      <td>30.171476</td>\n",
       "      <td>[-1577.8601798772872, -1714.0419714841714]</td>\n",
       "      <td>0.443931</td>\n",
       "      <td>[7845.980322894214, -12784.388635079771]</td>\n",
       "      <td>...</td>\n",
       "      <td>-1586.440558</td>\n",
       "      <td>32.058358</td>\n",
       "      <td>-94.722023</td>\n",
       "      <td>52.306535</td>\n",
       "      <td>-85.229258</td>\n",
       "      <td>3318.500055</td>\n",
       "      <td>110892.068769</td>\n",
       "      <td>2329.717285</td>\n",
       "      <td>2000.0</td>\n",
       "      <td>15000.0</td>\n",
       "    </tr>\n",
       "  </tbody>\n",
       "</table>\n",
       "<p>146 rows × 66 columns</p>\n",
       "</div>"
      ],
      "text/plain": [
       "      index    p                                   eid          ts  \\\n",
       "1018  12013  SHP  92012b07-e5be-4a7e-bda2-602968a1ea21  330.500067   \n",
       "1027  12022  SHP  92012b07-e5be-4a7e-bda2-602968a1ea21  332.000067   \n",
       "1028  12023  SHP  92012b07-e5be-4a7e-bda2-602968a1ea21  332.166733   \n",
       "1029  12024  SHP  92012b07-e5be-4a7e-bda2-602968a1ea21  332.333400   \n",
       "1030  12025  SHP  92012b07-e5be-4a7e-bda2-602968a1ea21  332.500067   \n",
       "...     ...  ...                                   ...         ...   \n",
       "3570  14565  SHP  92012b07-e5be-4a7e-bda2-602968a1ea21  757.664001   \n",
       "3571  14566  SHP  92012b07-e5be-4a7e-bda2-602968a1ea21  757.830668   \n",
       "3573  14568  SHP  92012b07-e5be-4a7e-bda2-602968a1ea21  758.164001   \n",
       "3574  14569  SHP  92012b07-e5be-4a7e-bda2-602968a1ea21  758.330668   \n",
       "3591  14586  SHP  92012b07-e5be-4a7e-bda2-602968a1ea21  761.164001   \n",
       "\n",
       "                                           loc   r          a  \\\n",
       "1018  [41494.529673973564, 143348.51878955855]  30 -15.053432   \n",
       "1027    [39540.17060088435, 141468.6452454054]  30 -15.704081   \n",
       "1028   [39311.18762100863, 141259.46249363493]  30 -15.658736   \n",
       "1029  [39082.084744242806, 141050.10944959003]  30 -15.530058   \n",
       "1030   [38852.86063238651, 140840.58717041052]  30 -15.318046   \n",
       "...                                        ...  ..        ...   \n",
       "3570  [30761.432010177712, 131076.95445280892]  30  28.215492   \n",
       "3571  [30501.172932913687, 130808.11057891823]  30  28.176607   \n",
       "3573   [29972.35042498902, 130271.11580464945]  30  28.180673   \n",
       "3574   [29704.08407534222, 130002.95093541268]  30  28.200894   \n",
       "3591   [25171.95004933646, 125370.39685808874]  30  30.171476   \n",
       "\n",
       "                                               v        av  \\\n",
       "1018  [-1260.6344882883445, -1252.2673324834948] -0.900000   \n",
       "1027    [-1373.556257680677, -1254.649757073509]  0.047069   \n",
       "1028   [-1374.3005224784247, -1255.653459704671]  0.547069   \n",
       "1029  [-1375.0142464125734, -1256.6791335760902]  1.047069   \n",
       "1030  [-1375.7229665948148, -1257.7072001609874]  1.547069   \n",
       "...                                          ...       ...   \n",
       "3570  [-1554.0853856553645, -1613.7432478593971] -0.403480   \n",
       "3571  [-1570.6857766119233, -1612.2592337586673]  0.034410   \n",
       "3573  [-1603.9042692773965, -1609.5017420293104] -0.063671   \n",
       "3574    [-1611.601809276535, -1608.795138290554]  0.336329   \n",
       "3591  [-1577.8601798772872, -1714.0419714841714]  0.443931   \n",
       "\n",
       "                                              f  ...      o.t_v.y    angle.x  \\\n",
       "1018  [-14974.786899854056, -869.3430300861361]  ... -1835.517190 -79.333349   \n",
       "1027  [-9199.274159776352, -11847.926187028308]  ... -1765.402555 -99.999246   \n",
       "1028  [-8529.032692770168, -12339.189654335394]  ... -1765.484033 -99.878859   \n",
       "1029  [-9194.680777666625, -11851.491273118667]  ... -1765.647130 -98.421655   \n",
       "1030   [-8320.38728073947, -12480.831522719505]  ... -1695.177970 -92.494070   \n",
       "...                                         ...  ...          ...        ...   \n",
       "3570   [-199138.8113780655, 18540.059410133126]  ... -1340.163161 -99.826934   \n",
       "3571   [-199347.74113508512, 16139.33407359417]  ... -1340.581908 -99.522857   \n",
       "3573   [-199261.31646959067, 17173.46088607705]  ... -1262.372966 -99.561702   \n",
       "3574   [14879.52009678188, -1897.3354182811488]  ... -1262.683798 -99.730454   \n",
       "3591   [7845.980322894214, -12784.388635079771]  ... -1586.440558  32.058358   \n",
       "\n",
       "        angle.y     _ada.x     _ada.y     o.ct_dist       o.t_dist  \\\n",
       "1018 -60.878730 -99.831913  -5.795620  34359.964824  180074.592288   \n",
       "1027  -0.388225 -61.328494 -78.986175  18742.674034  177363.305748   \n",
       "1028  -4.920722 -56.860218 -82.261264  29943.579072  177053.457873   \n",
       "1029 -17.696830 -61.297872 -79.009942  18146.647688  176743.405891   \n",
       "1030 -38.011144 -55.469249 -83.205543  29322.695063  176433.149599   \n",
       "...         ...        ...        ...           ...            ...   \n",
       "3570   5.880753 -99.569406   9.270030  10043.506033  118825.984024   \n",
       "3571   9.757092 -99.673871   8.069667   9706.468580  118453.930581   \n",
       "3573   9.352410 -99.630658   8.586730   9010.225732  117705.308931   \n",
       "3574   7.337340  99.196801 -12.648903   9499.181139  117328.917568   \n",
       "3591 -94.722023  52.306535 -85.229258   3318.500055  110892.068769   \n",
       "\n",
       "            speed  o.t_speed     f_mag  \n",
       "1018  1776.899768     2600.0   15000.0  \n",
       "1027  1860.323307     2500.0   15000.0  \n",
       "1028  1861.549768     2500.0   15000.0  \n",
       "1029  1862.768537     2500.0   15000.0  \n",
       "1030  1863.985269     2400.0   15000.0  \n",
       "...           ...        ...       ...  \n",
       "3570  2240.390291     1700.0  200000.0  \n",
       "3571  2250.873974     1700.0  200000.0  \n",
       "3573  2272.224629     1600.0  200000.0  \n",
       "3574  2277.165385     1600.0   15000.0  \n",
       "3591  2329.717285     2000.0   15000.0  \n",
       "\n",
       "[146 rows x 66 columns]"
      ]
     },
     "execution_count": 37,
     "metadata": {},
     "output_type": "execute_result"
    }
   ],
   "source": [
    "df[(df[\"o.ct_cloc.x\"]-df[\"o.ct_cloc.x\"].shift(1)).abs() > 30]"
   ]
  },
  {
   "cell_type": "code",
   "execution_count": 38,
   "id": "bb4e9153",
   "metadata": {},
   "outputs": [
    {
     "data": {
      "text/plain": [
       "1018    2933.025858\n",
       "1027    4216.344699\n",
       "1028    5718.812015\n",
       "1029    5718.812015\n",
       "1030    5718.812015\n",
       "           ...     \n",
       "3570      53.266343\n",
       "3571      51.545843\n",
       "3573      52.360938\n",
       "3574    1216.078079\n",
       "3591      74.535649\n",
       "Name: o.ct_cloc.x, Length: 146, dtype: float64"
      ]
     },
     "execution_count": 38,
     "metadata": {},
     "output_type": "execute_result"
    }
   ],
   "source": [
    "ctxloc_diff_s = (df[\"o.ct_cloc.x\"]-df[\"o.ct_cloc.x\"].shift(1)).abs()\n",
    "ctxloc_diff_s[ctxloc_diff_s > 30]"
   ]
  },
  {
   "cell_type": "code",
   "execution_count": 39,
   "id": "5e817d73",
   "metadata": {},
   "outputs": [
    {
     "data": {
      "application/vnd.jupyter.widget-view+json": {
       "model_id": "4573bbc2a8744bf0ad3a0d2942cb0335",
       "version_major": 2,
       "version_minor": 0
      },
      "text/plain": [
       "interactive(children=(FloatSlider(value=15.0, continuous_update=False, description='hist_length', max=602.1806…"
      ]
     },
     "metadata": {},
     "output_type": "display_data"
    },
    {
     "data": {
      "text/plain": [
       "<function __main__.plot_collision_dv(hist_length, max_time)>"
      ]
     },
     "execution_count": 39,
     "metadata": {},
     "output_type": "execute_result"
    }
   ],
   "source": [
    "def plot_collision_dv(hist_length, max_time):\n",
    "    sample = df[(df[\"ts\"] >= max_time - hist_length) & (df[\"ts\"] <= max_time)]\n",
    "    plt.scatter(sample[\"ts\"], sample[\"o.ct_dv.x\"])\n",
    "    plt.scatter(sample[\"ts\"], sample[\"o.ct_dv.y\"])\n",
    "    plt.title(\"collision avoidance velocity\")\n",
    "\n",
    "ipywidgets.interact(\n",
    "    plot_collision_dv,\n",
    "    hist_length=ipywidgets.FloatSlider(value=15, min=0, max=df[\"ts\"].max()-df[\"ts\"].min(), continuous_update=False),\n",
    "    max_time=ipywidgets.FloatSlider(value=df[\"ts\"].max(), min=df[\"ts\"].min(), max=df[\"ts\"].max()+.1, continuous_update=False))"
   ]
  },
  {
   "cell_type": "code",
   "execution_count": 40,
   "id": "594993a7",
   "metadata": {},
   "outputs": [
    {
     "data": {
      "text/html": [
       "<div>\n",
       "<style scoped>\n",
       "    .dataframe tbody tr th:only-of-type {\n",
       "        vertical-align: middle;\n",
       "    }\n",
       "\n",
       "    .dataframe tbody tr th {\n",
       "        vertical-align: top;\n",
       "    }\n",
       "\n",
       "    .dataframe thead th {\n",
       "        text-align: right;\n",
       "    }\n",
       "</style>\n",
       "<table border=\"1\" class=\"dataframe\">\n",
       "  <thead>\n",
       "    <tr style=\"text-align: right;\">\n",
       "      <th></th>\n",
       "      <th>index</th>\n",
       "      <th>p</th>\n",
       "      <th>eid</th>\n",
       "      <th>ts</th>\n",
       "      <th>loc</th>\n",
       "      <th>r</th>\n",
       "      <th>a</th>\n",
       "      <th>v</th>\n",
       "      <th>av</th>\n",
       "      <th>f</th>\n",
       "      <th>...</th>\n",
       "      <th>o.t_v.y</th>\n",
       "      <th>angle.x</th>\n",
       "      <th>angle.y</th>\n",
       "      <th>_ada.x</th>\n",
       "      <th>_ada.y</th>\n",
       "      <th>o.ct_dist</th>\n",
       "      <th>o.t_dist</th>\n",
       "      <th>speed</th>\n",
       "      <th>o.t_speed</th>\n",
       "      <th>f_mag</th>\n",
       "    </tr>\n",
       "  </thead>\n",
       "  <tbody>\n",
       "    <tr>\n",
       "      <th>1018</th>\n",
       "      <td>12013</td>\n",
       "      <td>SHP</td>\n",
       "      <td>92012b07-e5be-4a7e-bda2-602968a1ea21</td>\n",
       "      <td>330.500067</td>\n",
       "      <td>[41494.529673973564, 143348.51878955855]</td>\n",
       "      <td>30</td>\n",
       "      <td>-15.053432</td>\n",
       "      <td>[-1260.6344882883445, -1252.2673324834948]</td>\n",
       "      <td>-0.900000</td>\n",
       "      <td>[-14974.786899854056, -869.3430300861361]</td>\n",
       "      <td>...</td>\n",
       "      <td>-1835.517190</td>\n",
       "      <td>-79.333349</td>\n",
       "      <td>-60.878730</td>\n",
       "      <td>-99.831913</td>\n",
       "      <td>-5.795620</td>\n",
       "      <td>34359.964824</td>\n",
       "      <td>180074.592288</td>\n",
       "      <td>1776.899768</td>\n",
       "      <td>2600.0</td>\n",
       "      <td>15000.0</td>\n",
       "    </tr>\n",
       "    <tr>\n",
       "      <th>1027</th>\n",
       "      <td>12022</td>\n",
       "      <td>SHP</td>\n",
       "      <td>92012b07-e5be-4a7e-bda2-602968a1ea21</td>\n",
       "      <td>332.000067</td>\n",
       "      <td>[39540.17060088435, 141468.6452454054]</td>\n",
       "      <td>30</td>\n",
       "      <td>-15.704081</td>\n",
       "      <td>[-1373.556257680677, -1254.649757073509]</td>\n",
       "      <td>0.047069</td>\n",
       "      <td>[-9199.274159776352, -11847.926187028308]</td>\n",
       "      <td>...</td>\n",
       "      <td>-1765.402555</td>\n",
       "      <td>-99.999246</td>\n",
       "      <td>-0.388225</td>\n",
       "      <td>-61.328494</td>\n",
       "      <td>-78.986175</td>\n",
       "      <td>18742.674034</td>\n",
       "      <td>177363.305748</td>\n",
       "      <td>1860.323307</td>\n",
       "      <td>2500.0</td>\n",
       "      <td>15000.0</td>\n",
       "    </tr>\n",
       "    <tr>\n",
       "      <th>1031</th>\n",
       "      <td>12026</td>\n",
       "      <td>SHP</td>\n",
       "      <td>92012b07-e5be-4a7e-bda2-602968a1ea21</td>\n",
       "      <td>332.666733</td>\n",
       "      <td>[38623.51597930361, 140630.90308255007]</td>\n",
       "      <td>30</td>\n",
       "      <td>-15.064601</td>\n",
       "      <td>[-1376.635914731648, -1258.2759082502719]</td>\n",
       "      <td>1.294710</td>\n",
       "      <td>[-14907.863183888257, 1660.0046055565867]</td>\n",
       "      <td>...</td>\n",
       "      <td>-1695.256365</td>\n",
       "      <td>-80.008354</td>\n",
       "      <td>-59.988859</td>\n",
       "      <td>-99.385755</td>\n",
       "      <td>11.066697</td>\n",
       "      <td>30421.676055</td>\n",
       "      <td>176122.694733</td>\n",
       "      <td>1865.042815</td>\n",
       "      <td>2400.0</td>\n",
       "      <td>15000.0</td>\n",
       "    </tr>\n",
       "    <tr>\n",
       "      <th>1032</th>\n",
       "      <td>12027</td>\n",
       "      <td>SHP</td>\n",
       "      <td>92012b07-e5be-4a7e-bda2-602968a1ea21</td>\n",
       "      <td>332.833400</td>\n",
       "      <td>[38393.86987158856, 140420.96108666243]</td>\n",
       "      <td>30</td>\n",
       "      <td>-14.884650</td>\n",
       "      <td>[-1380.2041973392572, -1262.7882438699112]</td>\n",
       "      <td>0.994710</td>\n",
       "      <td>[-105985.08184507632, -169608.8512616381]</td>\n",
       "      <td>...</td>\n",
       "      <td>-1695.414117</td>\n",
       "      <td>-67.979476</td>\n",
       "      <td>-73.340240</td>\n",
       "      <td>-52.992541</td>\n",
       "      <td>-84.804426</td>\n",
       "      <td>28700.816295</td>\n",
       "      <td>175811.845356</td>\n",
       "      <td>1870.721191</td>\n",
       "      <td>2400.0</td>\n",
       "      <td>200000.0</td>\n",
       "    </tr>\n",
       "    <tr>\n",
       "      <th>1033</th>\n",
       "      <td>12028</td>\n",
       "      <td>SHP</td>\n",
       "      <td>92012b07-e5be-4a7e-bda2-602968a1ea21</td>\n",
       "      <td>333.000067</td>\n",
       "      <td>[38163.16442154522, 140209.4421168032]</td>\n",
       "      <td>30</td>\n",
       "      <td>-14.751983</td>\n",
       "      <td>[-1389.2525368993809, -1276.7832882615808]</td>\n",
       "      <td>0.528286</td>\n",
       "      <td>[-14798.395691141197, 2451.017129359489]</td>\n",
       "      <td>...</td>\n",
       "      <td>-1695.568718</td>\n",
       "      <td>-57.680864</td>\n",
       "      <td>-81.687930</td>\n",
       "      <td>-98.655971</td>\n",
       "      <td>16.340114</td>\n",
       "      <td>29801.324358</td>\n",
       "      <td>175499.133200</td>\n",
       "      <td>1886.848742</td>\n",
       "      <td>2400.0</td>\n",
       "      <td>15000.0</td>\n",
       "    </tr>\n",
       "    <tr>\n",
       "      <th>...</th>\n",
       "      <td>...</td>\n",
       "      <td>...</td>\n",
       "      <td>...</td>\n",
       "      <td>...</td>\n",
       "      <td>...</td>\n",
       "      <td>...</td>\n",
       "      <td>...</td>\n",
       "      <td>...</td>\n",
       "      <td>...</td>\n",
       "      <td>...</td>\n",
       "      <td>...</td>\n",
       "      <td>...</td>\n",
       "      <td>...</td>\n",
       "      <td>...</td>\n",
       "      <td>...</td>\n",
       "      <td>...</td>\n",
       "      <td>...</td>\n",
       "      <td>...</td>\n",
       "      <td>...</td>\n",
       "      <td>...</td>\n",
       "      <td>...</td>\n",
       "    </tr>\n",
       "    <tr>\n",
       "      <th>3578</th>\n",
       "      <td>14573</td>\n",
       "      <td>SHP</td>\n",
       "      <td>92012b07-e5be-4a7e-bda2-602968a1ea21</td>\n",
       "      <td>758.997334</td>\n",
       "      <td>[28631.291021650806, 128930.19355614061]</td>\n",
       "      <td>30</td>\n",
       "      <td>29.075114</td>\n",
       "      <td>[-1606.7750934090843, -1609.6634613313272]</td>\n",
       "      <td>2.336329</td>\n",
       "      <td>[7289.2496060828, -13109.799395117447]</td>\n",
       "      <td>...</td>\n",
       "      <td>-1343.377785</td>\n",
       "      <td>-69.614678</td>\n",
       "      <td>-71.789948</td>\n",
       "      <td>48.594997</td>\n",
       "      <td>-87.398663</td>\n",
       "      <td>8028.059949</td>\n",
       "      <td>115823.632328</td>\n",
       "      <td>2274.366430</td>\n",
       "      <td>1700.0</td>\n",
       "      <td>15000.0</td>\n",
       "    </tr>\n",
       "    <tr>\n",
       "      <th>3590</th>\n",
       "      <td>14585</td>\n",
       "      <td>SHP</td>\n",
       "      <td>92012b07-e5be-4a7e-bda2-602968a1ea21</td>\n",
       "      <td>760.997334</td>\n",
       "      <td>[25435.09671011728, 125655.60248740639]</td>\n",
       "      <td>30</td>\n",
       "      <td>30.128612</td>\n",
       "      <td>[-1580.6877642161826, -1705.560455851119]</td>\n",
       "      <td>0.239499</td>\n",
       "      <td>[59049.853902958384, -191084.05154287282]</td>\n",
       "      <td>...</td>\n",
       "      <td>-1586.167593</td>\n",
       "      <td>27.969983</td>\n",
       "      <td>-96.008750</td>\n",
       "      <td>29.524927</td>\n",
       "      <td>-95.542026</td>\n",
       "      <td>3547.195311</td>\n",
       "      <td>111278.538869</td>\n",
       "      <td>2325.405400</td>\n",
       "      <td>2000.0</td>\n",
       "      <td>200000.0</td>\n",
       "    </tr>\n",
       "    <tr>\n",
       "      <th>3591</th>\n",
       "      <td>14586</td>\n",
       "      <td>SHP</td>\n",
       "      <td>92012b07-e5be-4a7e-bda2-602968a1ea21</td>\n",
       "      <td>761.164001</td>\n",
       "      <td>[25171.95004933646, 125370.39685808874]</td>\n",
       "      <td>30</td>\n",
       "      <td>30.171476</td>\n",
       "      <td>[-1577.8601798772872, -1714.0419714841714]</td>\n",
       "      <td>0.443931</td>\n",
       "      <td>[7845.980322894214, -12784.388635079771]</td>\n",
       "      <td>...</td>\n",
       "      <td>-1586.440558</td>\n",
       "      <td>32.058358</td>\n",
       "      <td>-94.722023</td>\n",
       "      <td>52.306535</td>\n",
       "      <td>-85.229258</td>\n",
       "      <td>3318.500055</td>\n",
       "      <td>110892.068769</td>\n",
       "      <td>2329.717285</td>\n",
       "      <td>2000.0</td>\n",
       "      <td>15000.0</td>\n",
       "    </tr>\n",
       "    <tr>\n",
       "      <th>3599</th>\n",
       "      <td>14594</td>\n",
       "      <td>SHP</td>\n",
       "      <td>92012b07-e5be-4a7e-bda2-602968a1ea21</td>\n",
       "      <td>762.497334</td>\n",
       "      <td>[23085.731824330294, 123007.99212530658]</td>\n",
       "      <td>30</td>\n",
       "      <td>29.899973</td>\n",
       "      <td>[-1560.395337172975, -1835.3872692402394]</td>\n",
       "      <td>0.703081</td>\n",
       "      <td>[3801.9920761665608, -14510.163894758967]</td>\n",
       "      <td>...</td>\n",
       "      <td>-79.453877</td>\n",
       "      <td>5.481558</td>\n",
       "      <td>-99.849650</td>\n",
       "      <td>25.346614</td>\n",
       "      <td>-96.734426</td>\n",
       "      <td>194.242316</td>\n",
       "      <td>107748.042486</td>\n",
       "      <td>2409.041311</td>\n",
       "      <td>100.0</td>\n",
       "      <td>15000.0</td>\n",
       "    </tr>\n",
       "    <tr>\n",
       "      <th>3600</th>\n",
       "      <td>14595</td>\n",
       "      <td>SHP</td>\n",
       "      <td>92012b07-e5be-4a7e-bda2-602968a1ea21</td>\n",
       "      <td>762.564001</td>\n",
       "      <td>[22981.709643689697, 122885.62127214053]</td>\n",
       "      <td>30</td>\n",
       "      <td>29.951845</td>\n",
       "      <td>[-78.70513798909248, -903.293182070698]</td>\n",
       "      <td>-0.263811</td>\n",
       "      <td>[12774.334672159235, 7862.338944847798]</td>\n",
       "      <td>...</td>\n",
       "      <td>-79.458586</td>\n",
       "      <td>10.651267</td>\n",
       "      <td>-99.431134</td>\n",
       "      <td>85.162231</td>\n",
       "      <td>52.415593</td>\n",
       "      <td>52.906181</td>\n",
       "      <td>107587.650758</td>\n",
       "      <td>906.715541</td>\n",
       "      <td>100.0</td>\n",
       "      <td>15000.0</td>\n",
       "    </tr>\n",
       "  </tbody>\n",
       "</table>\n",
       "<p>66 rows × 66 columns</p>\n",
       "</div>"
      ],
      "text/plain": [
       "      index    p                                   eid          ts  \\\n",
       "1018  12013  SHP  92012b07-e5be-4a7e-bda2-602968a1ea21  330.500067   \n",
       "1027  12022  SHP  92012b07-e5be-4a7e-bda2-602968a1ea21  332.000067   \n",
       "1031  12026  SHP  92012b07-e5be-4a7e-bda2-602968a1ea21  332.666733   \n",
       "1032  12027  SHP  92012b07-e5be-4a7e-bda2-602968a1ea21  332.833400   \n",
       "1033  12028  SHP  92012b07-e5be-4a7e-bda2-602968a1ea21  333.000067   \n",
       "...     ...  ...                                   ...         ...   \n",
       "3578  14573  SHP  92012b07-e5be-4a7e-bda2-602968a1ea21  758.997334   \n",
       "3590  14585  SHP  92012b07-e5be-4a7e-bda2-602968a1ea21  760.997334   \n",
       "3591  14586  SHP  92012b07-e5be-4a7e-bda2-602968a1ea21  761.164001   \n",
       "3599  14594  SHP  92012b07-e5be-4a7e-bda2-602968a1ea21  762.497334   \n",
       "3600  14595  SHP  92012b07-e5be-4a7e-bda2-602968a1ea21  762.564001   \n",
       "\n",
       "                                           loc   r          a  \\\n",
       "1018  [41494.529673973564, 143348.51878955855]  30 -15.053432   \n",
       "1027    [39540.17060088435, 141468.6452454054]  30 -15.704081   \n",
       "1031   [38623.51597930361, 140630.90308255007]  30 -15.064601   \n",
       "1032   [38393.86987158856, 140420.96108666243]  30 -14.884650   \n",
       "1033    [38163.16442154522, 140209.4421168032]  30 -14.751983   \n",
       "...                                        ...  ..        ...   \n",
       "3578  [28631.291021650806, 128930.19355614061]  30  29.075114   \n",
       "3590   [25435.09671011728, 125655.60248740639]  30  30.128612   \n",
       "3591   [25171.95004933646, 125370.39685808874]  30  30.171476   \n",
       "3599  [23085.731824330294, 123007.99212530658]  30  29.899973   \n",
       "3600  [22981.709643689697, 122885.62127214053]  30  29.951845   \n",
       "\n",
       "                                               v        av  \\\n",
       "1018  [-1260.6344882883445, -1252.2673324834948] -0.900000   \n",
       "1027    [-1373.556257680677, -1254.649757073509]  0.047069   \n",
       "1031   [-1376.635914731648, -1258.2759082502719]  1.294710   \n",
       "1032  [-1380.2041973392572, -1262.7882438699112]  0.994710   \n",
       "1033  [-1389.2525368993809, -1276.7832882615808]  0.528286   \n",
       "...                                          ...       ...   \n",
       "3578  [-1606.7750934090843, -1609.6634613313272]  2.336329   \n",
       "3590   [-1580.6877642161826, -1705.560455851119]  0.239499   \n",
       "3591  [-1577.8601798772872, -1714.0419714841714]  0.443931   \n",
       "3599   [-1560.395337172975, -1835.3872692402394]  0.703081   \n",
       "3600     [-78.70513798909248, -903.293182070698] -0.263811   \n",
       "\n",
       "                                              f  ...      o.t_v.y    angle.x  \\\n",
       "1018  [-14974.786899854056, -869.3430300861361]  ... -1835.517190 -79.333349   \n",
       "1027  [-9199.274159776352, -11847.926187028308]  ... -1765.402555 -99.999246   \n",
       "1031  [-14907.863183888257, 1660.0046055565867]  ... -1695.256365 -80.008354   \n",
       "1032  [-105985.08184507632, -169608.8512616381]  ... -1695.414117 -67.979476   \n",
       "1033   [-14798.395691141197, 2451.017129359489]  ... -1695.568718 -57.680864   \n",
       "...                                         ...  ...          ...        ...   \n",
       "3578     [7289.2496060828, -13109.799395117447]  ... -1343.377785 -69.614678   \n",
       "3590  [59049.853902958384, -191084.05154287282]  ... -1586.167593  27.969983   \n",
       "3591   [7845.980322894214, -12784.388635079771]  ... -1586.440558  32.058358   \n",
       "3599  [3801.9920761665608, -14510.163894758967]  ...   -79.453877   5.481558   \n",
       "3600    [12774.334672159235, 7862.338944847798]  ...   -79.458586  10.651267   \n",
       "\n",
       "        angle.y     _ada.x     _ada.y     o.ct_dist       o.t_dist  \\\n",
       "1018 -60.878730 -99.831913  -5.795620  34359.964824  180074.592288   \n",
       "1027  -0.388225 -61.328494 -78.986175  18742.674034  177363.305748   \n",
       "1031 -59.988859 -99.385755  11.066697  30421.676055  176122.694733   \n",
       "1032 -73.340240 -52.992541 -84.804426  28700.816295  175811.845356   \n",
       "1033 -81.687930 -98.655971  16.340114  29801.324358  175499.133200   \n",
       "...         ...        ...        ...           ...            ...   \n",
       "3578 -71.789948  48.594997 -87.398663   8028.059949  115823.632328   \n",
       "3590 -96.008750  29.524927 -95.542026   3547.195311  111278.538869   \n",
       "3591 -94.722023  52.306535 -85.229258   3318.500055  110892.068769   \n",
       "3599 -99.849650  25.346614 -96.734426    194.242316  107748.042486   \n",
       "3600 -99.431134  85.162231  52.415593     52.906181  107587.650758   \n",
       "\n",
       "            speed  o.t_speed     f_mag  \n",
       "1018  1776.899768     2600.0   15000.0  \n",
       "1027  1860.323307     2500.0   15000.0  \n",
       "1031  1865.042815     2400.0   15000.0  \n",
       "1032  1870.721191     2400.0  200000.0  \n",
       "1033  1886.848742     2400.0   15000.0  \n",
       "...           ...        ...       ...  \n",
       "3578  2274.366430     1700.0   15000.0  \n",
       "3590  2325.405400     2000.0  200000.0  \n",
       "3591  2329.717285     2000.0   15000.0  \n",
       "3599  2409.041311      100.0   15000.0  \n",
       "3600   906.715541      100.0   15000.0  \n",
       "\n",
       "[66 rows x 66 columns]"
      ]
     },
     "execution_count": 40,
     "metadata": {},
     "output_type": "execute_result"
    }
   ],
   "source": [
    "df[(df[\"o.ct_dv.x\"]-df[\"o.ct_dv.x\"].shift(1)).abs() > 250]"
   ]
  },
  {
   "cell_type": "markdown",
   "id": "785ce89f",
   "metadata": {},
   "source": [
    "## Nearest Neighbors"
   ]
  },
  {
   "cell_type": "code",
   "execution_count": 41,
   "id": "03a6b3aa",
   "metadata": {},
   "outputs": [
    {
     "data": {
      "application/vnd.jupyter.widget-view+json": {
       "model_id": "771f79afbafc4b0b8d3a5bfb7e6fe7eb",
       "version_major": 2,
       "version_minor": 0
      },
      "text/plain": [
       "interactive(children=(FloatSlider(value=15.0, continuous_update=False, description='hist_length', max=602.1806…"
      ]
     },
     "metadata": {},
     "output_type": "display_data"
    },
    {
     "data": {
      "text/plain": [
       "<function __main__.plot_neighborhood_size(hist_length, max_time)>"
      ]
     },
     "execution_count": 41,
     "metadata": {},
     "output_type": "execute_result"
    }
   ],
   "source": [
    "neighborhood_radius = 5e4\n",
    "def plot_neighborhood_size(hist_length, max_time):\n",
    "    sample = df[(df[\"ts\"] >= max_time - hist_length) & (df[\"ts\"] <= max_time)]\n",
    "    plt.scatter(sample[\"ts\"], sample[\"o.nd\"]*np.pi*neighborhood_radius**2)\n",
    "    plt.title(\"neighborhood size (10km^2)\")\n",
    "    plt.show()\n",
    "\n",
    "ipywidgets.interact(\n",
    "    plot_neighborhood_size,\n",
    "    hist_length=ipywidgets.FloatSlider(value=15, min=0, max=df[\"ts\"].max()-df[\"ts\"].min(), continuous_update=False),\n",
    "    max_time=ipywidgets.FloatSlider(value=df[\"ts\"].max(), min=df[\"ts\"].min(), max=df[\"ts\"].max()+.1, continuous_update=False))"
   ]
  },
  {
   "cell_type": "code",
   "execution_count": 42,
   "id": "139c049e",
   "metadata": {},
   "outputs": [
    {
     "data": {
      "application/vnd.jupyter.widget-view+json": {
       "model_id": "e5877e01a7d94cfcba8f14ebca851dbf",
       "version_major": 2,
       "version_minor": 0
      },
      "text/plain": [
       "interactive(children=(FloatSlider(value=15.0, continuous_update=False, description='hist_length', max=602.1806…"
      ]
     },
     "metadata": {},
     "output_type": "display_data"
    },
    {
     "data": {
      "text/plain": [
       "<function __main__.plot_nearest_neighbor(hist_length, max_time)>"
      ]
     },
     "execution_count": 42,
     "metadata": {},
     "output_type": "execute_result"
    }
   ],
   "source": [
    "def plot_nearest_neighbor(hist_length, max_time):\n",
    "    sample = df[(df[\"ts\"] >= max_time - hist_length) & (df[\"ts\"] <= max_time)]\n",
    "    plt.scatter(sample[\"ts\"], sample[\"o.nnd\"], label=\"nearest neighbor dist\")\n",
    "    plt.scatter(sample[\"ts\"], sample[\"o.scm\"], label=\"desired margin\")\n",
    "    plt.title(\"nearest neighor dist\")\n",
    "    plt.show()\n",
    "    print(f'min dist {sample[\"o.nnd\"].min()}')\n",
    "\n",
    "ipywidgets.interact(\n",
    "    plot_nearest_neighbor,\n",
    "    hist_length=ipywidgets.FloatSlider(value=15, min=0, max=df[\"ts\"].max()-df[\"ts\"].min(), continuous_update=False),\n",
    "    max_time=ipywidgets.FloatSlider(value=df[\"ts\"].max(), min=df[\"ts\"].min(), max=df[\"ts\"].max()+.1, continuous_update=False))"
   ]
  },
  {
   "cell_type": "code",
   "execution_count": 43,
   "id": "934036ca",
   "metadata": {},
   "outputs": [],
   "source": [
    "# \n",
    "# Smallest enclosing circle - Library (Python)\n",
    "# \n",
    "# Copyright (c) 2020 Project Nayuki\n",
    "# https://www.nayuki.io/page/smallest-enclosing-circle\n",
    "# \n",
    "# This program is free software: you can redistribute it and/or modify\n",
    "# it under the terms of the GNU Lesser General Public License as published by\n",
    "# the Free Software Foundation, either version 3 of the License, or\n",
    "# (at your option) any later version.\n",
    "# \n",
    "# This program is distributed in the hope that it will be useful,\n",
    "# but WITHOUT ANY WARRANTY; without even the implied warranty of\n",
    "# MERCHANTABILITY or FITNESS FOR A PARTICULAR PURPOSE.  See the\n",
    "# GNU Lesser General Public License for more details.\n",
    "# \n",
    "# You should have received a copy of the GNU Lesser General Public License\n",
    "# along with this program (see COPYING.txt and COPYING.LESSER.txt).\n",
    "# If not, see <http://www.gnu.org/licenses/>.\n",
    "# \n",
    "\n",
    "import math, random\n",
    "\n",
    "\n",
    "# Data conventions: A point is a pair of floats (x, y). A circle is a triple of floats (center x, center y, radius).\n",
    "\n",
    "# Returns the smallest circle that encloses all the given points. Runs in expected O(n) time, randomized.\n",
    "# Input: A sequence of pairs of floats or ints, e.g. [(0,5), (3.1,-2.7)].\n",
    "# Output: A triple of floats representing a circle.\n",
    "# Note: If 0 points are given, None is returned. If 1 point is given, a circle of radius 0 is returned.\n",
    "# \n",
    "# Initially: No boundary points known\n",
    "def make_circle(points):\n",
    "\t# Convert to float and randomize order\n",
    "\tshuffled = [(float(x), float(y)) for (x, y) in points]\n",
    "\trandom.shuffle(shuffled)\n",
    "\t\n",
    "\t# Progressively add points to circle or recompute circle\n",
    "\tc = None\n",
    "\tfor (i, p) in enumerate(shuffled):\n",
    "\t\tif c is None or not is_in_circle(c, p):\n",
    "\t\t\tc = _make_circle_one_point(shuffled[ : i + 1], p)\n",
    "\treturn c\n",
    "\n",
    "\n",
    "# One boundary point known\n",
    "def _make_circle_one_point(points, p):\n",
    "\tc = (p[0], p[1], 0.0)\n",
    "\tfor (i, q) in enumerate(points):\n",
    "\t\tif not is_in_circle(c, q):\n",
    "\t\t\tif c[2] == 0.0:\n",
    "\t\t\t\tc = make_diameter(p, q)\n",
    "\t\t\telse:\n",
    "\t\t\t\tc = _make_circle_two_points(points[ : i + 1], p, q)\n",
    "\treturn c\n",
    "\n",
    "\n",
    "# Two boundary points known\n",
    "def _make_circle_two_points(points, p, q):\n",
    "\tcirc = make_diameter(p, q)\n",
    "\tleft  = None\n",
    "\tright = None\n",
    "\tpx, py = p\n",
    "\tqx, qy = q\n",
    "\t\n",
    "\t# For each point not in the two-point circle\n",
    "\tfor r in points:\n",
    "\t\tif is_in_circle(circ, r):\n",
    "\t\t\tcontinue\n",
    "\t\t\n",
    "\t\t# Form a circumcircle and classify it on left or right side\n",
    "\t\tcross = _cross_product(px, py, qx, qy, r[0], r[1])\n",
    "\t\tc = make_circumcircle(p, q, r)\n",
    "\t\tif c is None:\n",
    "\t\t\tcontinue\n",
    "\t\telif cross > 0.0 and (left is None or _cross_product(px, py, qx, qy, c[0], c[1]) > _cross_product(px, py, qx, qy, left[0], left[1])):\n",
    "\t\t\tleft = c\n",
    "\t\telif cross < 0.0 and (right is None or _cross_product(px, py, qx, qy, c[0], c[1]) < _cross_product(px, py, qx, qy, right[0], right[1])):\n",
    "\t\t\tright = c\n",
    "\t\n",
    "\t# Select which circle to return\n",
    "\tif left is None and right is None:\n",
    "\t\treturn circ\n",
    "\telif left is None:\n",
    "\t\treturn right\n",
    "\telif right is None:\n",
    "\t\treturn left\n",
    "\telse:\n",
    "\t\treturn left if (left[2] <= right[2]) else right\n",
    "\n",
    "\n",
    "def make_diameter(a, b):\n",
    "\tcx = (a[0] + b[0]) / 2\n",
    "\tcy = (a[1] + b[1]) / 2\n",
    "\tr0 = math.hypot(cx - a[0], cy - a[1])\n",
    "\tr1 = math.hypot(cx - b[0], cy - b[1])\n",
    "\treturn (cx, cy, max(r0, r1))\n",
    "\n",
    "\n",
    "def make_circumcircle(a, b, c):\n",
    "\t# Mathematical algorithm from Wikipedia: Circumscribed circle\n",
    "\tox = (min(a[0], b[0], c[0]) + max(a[0], b[0], c[0])) / 2\n",
    "\toy = (min(a[1], b[1], c[1]) + max(a[1], b[1], c[1])) / 2\n",
    "\tax = a[0] - ox;  ay = a[1] - oy\n",
    "\tbx = b[0] - ox;  by = b[1] - oy\n",
    "\tcx = c[0] - ox;  cy = c[1] - oy\n",
    "\td = (ax * (by - cy) + bx * (cy - ay) + cx * (ay - by)) * 2.0\n",
    "\tif d == 0.0:\n",
    "\t\treturn None\n",
    "\tx = ox + ((ax*ax + ay*ay) * (by - cy) + (bx*bx + by*by) * (cy - ay) + (cx*cx + cy*cy) * (ay - by)) / d\n",
    "\ty = oy + ((ax*ax + ay*ay) * (cx - bx) + (bx*bx + by*by) * (ax - cx) + (cx*cx + cy*cy) * (bx - ax)) / d\n",
    "\tra = math.hypot(x - a[0], y - a[1])\n",
    "\trb = math.hypot(x - b[0], y - b[1])\n",
    "\trc = math.hypot(x - c[0], y - c[1])\n",
    "\treturn (x, y, max(ra, rb, rc))\n",
    "\n",
    "\n",
    "_MULTIPLICATIVE_EPSILON = 1 + 1e-14\n",
    "\n",
    "def is_in_circle(c, p):\n",
    "\treturn c is not None and math.hypot(p[0] - c[0], p[1] - c[1]) <= c[2] * _MULTIPLICATIVE_EPSILON\n",
    "\n",
    "\n",
    "# Returns twice the signed area of the triangle defined by (x0, y0), (x1, y1), (x2, y2).\n",
    "def _cross_product(x0, y0, x1, y1, x2, y2):\n",
    "\treturn (x1 - x0) * (y2 - y0) - (y1 - y0) * (x2 - x0)"
   ]
  },
  {
   "cell_type": "code",
   "execution_count": 44,
   "id": "c702ad3d",
   "metadata": {},
   "outputs": [
    {
     "data": {
      "application/vnd.jupyter.widget-view+json": {
       "model_id": "ff8e2d1dafc240b089088ee8b318eaa9",
       "version_major": 2,
       "version_minor": 0
      },
      "text/plain": [
       "interactive(children=(FloatSlider(value=15.0, continuous_update=False, description='hist_length', max=602.1806…"
      ]
     },
     "metadata": {},
     "output_type": "display_data"
    },
    {
     "data": {
      "text/plain": [
       "<function __main__.plot_radius_comparison(hist_length, max_time)>"
      ]
     },
     "execution_count": 44,
     "metadata": {},
     "output_type": "execute_result"
    }
   ],
   "source": [
    "def plot_radius_comparison(hist_length, max_time):\n",
    "    sample = df[(df[\"ts\"] >= max_time - hist_length) & (df[\"ts\"] <= max_time)]\n",
    "    foo = sample[\"o.ct_cn\"].apply(lambda x: np.nan if isinstance(x, float) else make_circle(x)[2]+30)\n",
    "    plt.scatter(sample[\"ts\"], sample[\"o.ct_cradius\"], label=\"threat radius\")\n",
    "    plt.scatter(sample[\"ts\"], sample[\"o.scm\"], label=\"threat radius\")\n",
    "    plt.scatter(sample[\"ts\"], foo, label=\"min radius\", marker=\"x\")\n",
    "    plt.legend()\n",
    "    plt.title(\"cradius vs smallest enclosing radius\")\n",
    "    plt.show()\n",
    "\n",
    "ipywidgets.interact(\n",
    "    plot_radius_comparison,\n",
    "    hist_length=ipywidgets.FloatSlider(value=15, min=0, max=df[\"ts\"].max()-df[\"ts\"].min(), continuous_update=False),\n",
    "    max_time=ipywidgets.FloatSlider(value=df[\"ts\"].max(), min=df[\"ts\"].min(), max=df[\"ts\"].max()+.1, continuous_update=False))"
   ]
  },
  {
   "cell_type": "markdown",
   "id": "12a7d799",
   "metadata": {},
   "source": [
    "# History Visualization"
   ]
  },
  {
   "cell_type": "markdown",
   "id": "e7b61368",
   "metadata": {},
   "source": [
    "## Position and Velocity"
   ]
  },
  {
   "cell_type": "code",
   "execution_count": 45,
   "id": "05fc6ec3",
   "metadata": {
    "scrolled": false
   },
   "outputs": [
    {
     "data": {
      "application/vnd.jupyter.widget-view+json": {
       "model_id": "4b6a611f74844930814ec18ebf9d7cfd",
       "version_major": 2,
       "version_minor": 0
      },
      "text/plain": [
       "interactive(children=(FloatSlider(value=15.0, continuous_update=False, description='hist_length', max=602.1806…"
      ]
     },
     "metadata": {},
     "output_type": "display_data"
    },
    {
     "data": {
      "text/plain": [
       "<function __main__.plot_collision_chart(hist_length=762.5640011008982, max_time=762.5640011008982, sampling_interval=50, show_tloc=True, show_tv=True, show_ctdv=True, show_v=True, show_cn=True, show_all_cts=True)>"
      ]
     },
     "execution_count": 45,
     "metadata": {},
     "output_type": "execute_result"
    }
   ],
   "source": [
    "def plot_collision_chart(hist_length=df[\"ts\"].max(), max_time=df[\"ts\"].max(), sampling_interval=50, show_tloc=True, show_tv=True, show_ctdv=True, show_v=True, show_cn=True, show_all_cts=True):\n",
    "    plt.figure(figsize=(10, 10))\n",
    "    sample = df[(df[\"ts\"] >= max_time - hist_length) & (df[\"ts\"] <= max_time)].iloc[::sampling_interval]\n",
    "    scale = None\n",
    "    if show_v:\n",
    "        q = plt.quiver(sample[\"loc.x\"], sample[\"loc.y\"], sample[\"v.x\"], sample[\"v.y\"], scale=scale, units=\"inches\", label=\"v\")\n",
    "        q._init()\n",
    "        scale = q.scale\n",
    "    ctdv_df = sample[~(sample[\"o.ct_dv\"].isna())]\n",
    "    if show_ctdv:\n",
    "        q = plt.quiver(ctdv_df[\"loc.x\"], ctdv_df[\"loc.y\"], ctdv_df[\"o.ct_dv.x\"], ctdv_df[\"o.ct_dv.y\"], scale=scale, units=\"inches\", label=\"ctdv\", color=\"orange\")\n",
    "        q._init()\n",
    "        scale = q.scale\n",
    "    if show_tv:\n",
    "        q = plt.quiver(sample[\"loc.x\"], sample[\"loc.y\"], sample[\"o.t_v.x\"], sample[\"o.t_v.y\"], scale=scale, units=\"inches\", label=\"tv\", color=\"purple\")\n",
    "        q._init()\n",
    "        scale = q.scale\n",
    "    \n",
    "    \n",
    "    if show_all_cts:\n",
    "        ctv_df = sample\n",
    "    else:\n",
    "        ctv_df = sample[sample[\"o.ct\"] == sample.iloc[-1][\"o.ct\"]]\n",
    "    q = plt.quiver(ctv_df[\"o.ct_loc.x\"], ctv_df[\"o.ct_loc.y\"], ctv_df[\"o.ct_v.x\"], ctv_df[\"o.ct_v.y\"], scale=scale, units=\"inches\", label=\"ctv\", color=\"cyan\")\n",
    "    q._init()\n",
    "    scale = q.scale\n",
    "    \n",
    "    if show_all_cts:\n",
    "        cts = df[\"o.ct\"].unique()\n",
    "    else:\n",
    "        cts = [sample.iloc[-1][\"o.ct\"]]\n",
    "        \n",
    "    cmap = plt.get_cmap('viridis')\n",
    "    for x, c in zip(cts, cmap(np.linspace(0, 1, len(cts)))):\n",
    "        if not isinstance(x, str):\n",
    "            continue\n",
    "        ct = sample[sample[\"o.ct\"] == x]\n",
    "        if len(ct) == 0:\n",
    "            continue\n",
    "        plt.scatter(ct[\"o.ct_loc.x\"], ct[\"o.ct_loc.y\"], color=c, label=x[:8])\n",
    "        \n",
    "        t_next = 10\n",
    "        x, y = ct.iloc[-1][\"o.ct_loc.x\"], ct.iloc[-1][\"o.ct_loc.y\"]\n",
    "        x_next, y_next = ct.iloc[-1][\"o.ct_loc.x\"]+ct.iloc[-1][\"o.ct_v.x\"]*t_next, ct.iloc[-1][\"o.ct_loc.y\"]+ct.iloc[-1][\"o.ct_v.y\"]*t_next\n",
    "        if not np.allclose((x, y), (x_next, y_next)):\n",
    "            plt.axline((x,y),(x_next,y_next), marker = 'x', color=c, dashes=[2,2])\n",
    "    \n",
    "    cloc_df = sample#[~(sample[\"o.ct_cloc\"].isna())]\n",
    "    if not isinstance(cloc_df.iloc[-1][\"o.ct\"], float):\n",
    "        cloc_x = cloc_df.iloc[-1][\"o.ct_cloc.x\"]\n",
    "        cloc_y = cloc_df.iloc[-1][\"o.ct_cloc.y\"]\n",
    "        cradius = cloc_df.iloc[-1][\"o.ct_cradius\"]\n",
    "        cmargin = cloc_df.iloc[-1].get([\"o.scm\"],500)\n",
    "        threat_radius = plt.Circle((cloc_x, cloc_y), cradius, color=\"red\", fill=False)\n",
    "        margin = plt.Circle((cloc_x, cloc_y), cradius+cmargin, color=\"orange\", fill=False)\n",
    "        margin_hist = plt.Circle((cloc_x, cloc_y), cradius+cmargin*2, color=\"green\", fill=False)\n",
    "        plt.gca().add_patch(threat_radius)\n",
    "        plt.gca().add_patch(margin)\n",
    "        plt.gca().add_patch(margin_hist)\n",
    "        print(f'{cradius=}')\n",
    "        \n",
    "        if show_cn:\n",
    "            cn_x, cn_y = list(zip(*cloc_df.iloc[-1][\"o.ct_cn\"]))\n",
    "            plt.scatter(cn_x, cn_y, label=\"ct_cnloc\", marker=\"+\", color=\"pink\")\n",
    "    \n",
    "    if show_tloc and not all(sample[\"o.t_loc.x\"].isna()):\n",
    "        plt.scatter(sample[\"o.t_loc.x\"], sample[\"o.t_loc.y\"], label=\"t_loc\", marker=\"x\")\n",
    "        for ((tloc_x, tloc_y), ad, md) in sample.groupby([\"o.t_loc.x\", \"o.t_loc.y\"]).agg({\"o.t_loc\": \"min\", \"o.ad\":\"min\", \"o.md\":\"min\"}).values:\n",
    "            arrival_dist = plt.Circle((tloc_x, tloc_y), ad, color=\"green\", fill=False)\n",
    "            nearby_dist = plt.Circle((tloc_x, tloc_y), ad*5, color=\"green\", ls=\"--\", fill=False)\n",
    "            min_dist = plt.Circle((tloc_x, tloc_y), md, color=\"red\", fill=False)\n",
    "            plt.gca().add_patch(arrival_dist)\n",
    "            plt.gca().add_patch(nearby_dist)\n",
    "            plt.gca().add_patch(min_dist)\n",
    "            \n",
    "    t_next = hist_length\n",
    "    x, y = sample.iloc[-1][\"loc.x\"], sample.iloc[-1][\"loc.y\"]\n",
    "    x_next, y_next = sample.iloc[-1][\"loc.x\"]+sample.iloc[-1][\"v.x\"]*t_next, sample.iloc[-1][\"loc.y\"]+sample.iloc[-1][\"v.y\"]*t_next\n",
    "    if not np.allclose((x, y), (x_next, y_next)):\n",
    "        plt.axline((x,y),(x_next,y_next),marker = 'o')\n",
    "    \n",
    "    plt.axis('equal')\n",
    "    #center = (-72000, -50000)\n",
    "    #radius = 20000\n",
    "    #plt.xlim(center[0]-radius,center[0]+radius)\n",
    "    #plt.ylim(center[1]-radius,center[1]+radius)\n",
    "\n",
    "    plt.legend()\n",
    "    plt.show()\n",
    "    \n",
    "ipywidgets.interact(\n",
    "    plot_collision_chart,\n",
    "    hist_length=ipywidgets.FloatSlider(value=15, min=0, max=df[\"ts\"].max()-df[\"ts\"].min(), continuous_update=False),\n",
    "    max_time=ipywidgets.FloatSlider(step=1/60, value=df[\"ts\"].max()+1/60, min=df[\"ts\"].min(), max=df[\"ts\"].max()+1/60, continuous_update=False),\n",
    "    sampling_interval=ipywidgets.IntSlider(value=2, min=1, max=100, continuous_update=False),\n",
    "    show_tloc=ipywidgets.Checkbox(value=True),\n",
    "    show_tv=ipywidgets.Checkbox(value=True),\n",
    "    show_ctdv=ipywidgets.Checkbox(value=True),\n",
    "    show_v=ipywidgets.Checkbox(value=True),\n",
    "    show_cn=ipywidgets.Checkbox(value=True),\n",
    "    show_all_cts=ipywidgets.Checkbox(value=True),\n",
    ")"
   ]
  },
  {
   "cell_type": "markdown",
   "id": "6e5e3aad",
   "metadata": {},
   "source": [
    "## Position and Heading"
   ]
  },
  {
   "cell_type": "code",
   "execution_count": 46,
   "id": "2f7475c2",
   "metadata": {
    "scrolled": false
   },
   "outputs": [
    {
     "data": {
      "application/vnd.jupyter.widget-view+json": {
       "model_id": "ac0bee8da9324c7599a77a6f45ad2706",
       "version_major": 2,
       "version_minor": 0
      },
      "text/plain": [
       "interactive(children=(FloatSlider(value=15.0, continuous_update=False, description='hist_length', max=602.1806…"
      ]
     },
     "metadata": {},
     "output_type": "display_data"
    },
    {
     "data": {
      "text/plain": [
       "<function __main__.plot_collision_chart(hist_length=762.5640011008982, max_time=762.5640011008982)>"
      ]
     },
     "execution_count": 46,
     "metadata": {},
     "output_type": "execute_result"
    }
   ],
   "source": [
    "def plot_collision_chart(hist_length=df[\"ts\"].max(), max_time=df[\"ts\"].max()):\n",
    "    sample = df[(df[\"ts\"] >= max_time - hist_length) & (df[\"ts\"] <= max_time)]#.iloc[::30]\n",
    "   \n",
    "    plt.figure(figsize=(10, 10))\n",
    "    plt.quiver(sample[\"loc.x\"], sample[\"loc.y\"], sample[\"angle.x\"], sample[\"angle.y\"], label=\"heading\")\n",
    "    plt.quiver(sample[\"loc.x\"], sample[\"loc.y\"], sample[\"_ada.x\"], sample[\"_ada.y\"], label=\"acceleration heading\", color=\"cyan\")\n",
    "    ctdv_df = sample[~(sample[\"o.ct_dv\"].isna())]\n",
    "    #plt.quiver(ctdv_df[\"loc.x\"], ctdv_df[\"loc.y\"], ctdv_df[\"o.ct_dv.x\"], ctdv_df[\"o.ct_dv.y\"], label=\"ctdv\", color=\"orange\")\n",
    "    #plt.quiver(sample[\"loc.x\"], sample[\"loc.y\"], sample[\"o.t_v.x\"], sample[\"o.t_v.y\"], label=\"tv\", color=\"purple\")\n",
    "    cmap = plt.get_cmap('viridis')\n",
    "    #for x, c in zip(df[\"o.ct\"].unique(), cmap(np.linspace(0, 1, len(sample[\"o.ct\"].unique())))):\n",
    "    #    print(x)\n",
    "    #    if not isinstance(x, str):\n",
    "    #        continue\n",
    "    #    ct = sample[sample[\"o.ct\"] == x]\n",
    "    #    plt.scatter(ct[\"o.ct_loc.x\"], ct[\"o.ct_loc.y\"], color=c, label=x[:8])\n",
    "    #plt.scatter(sample[\"o.t_loc.x\"], sample[\"o.t_loc.y\"], label=\"t_loc\")\n",
    "    #plt.axis('square')\n",
    "    #center = (-33555, -5000)\n",
    "    #radius = 15000\n",
    "    #plt.xlim(center[0]-radius,center[0]+radius)\n",
    "    #plt.ylim(center[1]-radius,center[1]+radius)\n",
    "    \n",
    "    print(sample[\"ts\"].min())\n",
    "    print(sample[\"ts\"].max())\n",
    "    print((sample[\"ts\"].max() - sample[\"ts\"].min())/(1/60))\n",
    "    \n",
    "    plt.legend()\n",
    "    plt.axis('equal')\n",
    "    plt.show()\n",
    "    \n",
    "ipywidgets.interact(plot_collision_chart, hist_length=ipywidgets.FloatSlider(value=15, min=0, max=df[\"ts\"].max()-df[\"ts\"].min(), continuous_update=False), max_time=ipywidgets.FloatSlider(value=df[\"ts\"].max(), min=df[\"ts\"].min(), max=df[\"ts\"].max(), continuous_update=False))"
   ]
  },
  {
   "cell_type": "code",
   "execution_count": 47,
   "id": "aaa9fbfa",
   "metadata": {},
   "outputs": [
    {
     "data": {
      "text/html": [
       "<div>\n",
       "<style scoped>\n",
       "    .dataframe tbody tr th:only-of-type {\n",
       "        vertical-align: middle;\n",
       "    }\n",
       "\n",
       "    .dataframe tbody tr th {\n",
       "        vertical-align: top;\n",
       "    }\n",
       "\n",
       "    .dataframe thead th {\n",
       "        text-align: right;\n",
       "    }\n",
       "</style>\n",
       "<table border=\"1\" class=\"dataframe\">\n",
       "  <thead>\n",
       "    <tr style=\"text-align: right;\">\n",
       "      <th></th>\n",
       "      <th>ts</th>\n",
       "      <th>o._ada</th>\n",
       "      <th>o.ct</th>\n",
       "    </tr>\n",
       "  </thead>\n",
       "  <tbody>\n",
       "  </tbody>\n",
       "</table>\n",
       "</div>"
      ],
      "text/plain": [
       "Empty DataFrame\n",
       "Columns: [ts, o._ada, o.ct]\n",
       "Index: []"
      ]
     },
     "execution_count": 47,
     "metadata": {},
     "output_type": "execute_result"
    }
   ],
   "source": [
    "df[(df[\"ts\"] > 0.9)& (df[\"ts\"]<1)][[\"ts\", \"o._ada\", \"o.ct\"]]#.apply(lambda x: util.normalize_angle(x, shortest=True))"
   ]
  },
  {
   "cell_type": "code",
   "execution_count": 48,
   "id": "0e719ba3",
   "metadata": {},
   "outputs": [
    {
     "data": {
      "text/plain": [
       "Series([], Name: a, dtype: float64)"
      ]
     },
     "execution_count": 48,
     "metadata": {},
     "output_type": "execute_result"
    }
   ],
   "source": [
    "df[(df[\"ts\"] > 0.9)& (df[\"ts\"]<1)][\"a\"].apply(lambda x: util.normalize_angle(x, shortest=True))"
   ]
  },
  {
   "cell_type": "markdown",
   "id": "6e24f370",
   "metadata": {},
   "source": [
    "# "
   ]
  }
 ],
 "metadata": {
  "kernelspec": {
   "display_name": "Python 3 (ipykernel)",
   "language": "python",
   "name": "python3"
  },
  "language_info": {
   "codemirror_mode": {
    "name": "ipython",
    "version": 3
   },
   "file_extension": ".py",
   "mimetype": "text/x-python",
   "name": "python",
   "nbconvert_exporter": "python",
   "pygments_lexer": "ipython3",
   "version": "3.10.6"
  }
 },
 "nbformat": 4,
 "nbformat_minor": 5
}
