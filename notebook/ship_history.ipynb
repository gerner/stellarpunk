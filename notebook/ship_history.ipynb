{
 "cells": [
  {
   "cell_type": "code",
   "execution_count": 1,
   "id": "9c5bbe2a",
   "metadata": {},
   "outputs": [],
   "source": [
    "import json\n",
    "\n",
    "import pandas as pd\n",
    "import numpy as np\n",
    "from matplotlib import pyplot as plt\n",
    "import ipywidgets\n",
    "\n",
    "from stellarpunk import util"
   ]
  },
  {
   "cell_type": "markdown",
   "id": "d6d53462",
   "metadata": {},
   "source": [
    "# Loading and Preparing Data"
   ]
  },
  {
   "cell_type": "code",
   "execution_count": 2,
   "id": "ceb18552",
   "metadata": {},
   "outputs": [],
   "source": [
    "df_base = pd.read_json(\"/tmp/stellarpunk_test.test_more_busy_lane.history.gz\", lines=True)\n",
    "df_base = df_base.join(pd.json_normalize(df_base[\"o\"]).add_prefix(\"o.\"))"
   ]
  },
  {
   "cell_type": "code",
   "execution_count": 3,
   "id": "1585e6a6",
   "metadata": {},
   "outputs": [
    {
     "data": {
      "text/plain": [
       "0     6e120f71-15fa-4fdb-b614-9c323b701945\n",
       "1     81332347-2513-4de2-a76e-29686d0cd3b7\n",
       "2     35e42cb9-ab86-49c9-b6e9-6446ee2876f8\n",
       "3     7e930523-b6c5-4cf4-aee0-60011d514bb4\n",
       "4     57d4e135-e635-40d5-82ab-cd48f0281474\n",
       "5     c4d3307e-2615-4b97-b008-becd084e937a\n",
       "6     a47a1450-d154-467c-b30b-e6b1825dea52\n",
       "7     c7675a04-3dab-45ea-91d5-d4387d5b0ebf\n",
       "8     18b8f22d-7670-4b4e-802c-d579b315929f\n",
       "9     609dc159-51b4-48c7-acc7-9e8d4e5d76ce\n",
       "10    33be5c78-adb6-4094-b486-ad4b364b772a\n",
       "11    de1fdec2-7b8e-4dd0-a7eb-cf83bd65967c\n",
       "12    f4005d70-d972-4393-84e5-369b533f4988\n",
       "13    c911e0f4-14f7-43f3-a65b-71a9e36f672b\n",
       "14    556d9d7d-ca0b-43ef-a5f4-26a5f83ea083\n",
       "15    df9e8db6-b511-4977-abab-a2116a53951f\n",
       "16    ad8810c0-42b9-47c9-a8cf-8dcc39e503d7\n",
       "17    2957da03-5892-4eb2-9f26-d20b01cecf20\n",
       "18    b4667c9c-efb1-4349-8c40-84dbd01ff63e\n",
       "19    21f029ea-ee23-4f0c-8544-bba6e4328399\n",
       "20    921640f7-ace2-484d-a370-13d78d7131af\n",
       "21    76a23293-8c45-4aef-a4f5-3bcb241d75e5\n",
       "22    0590d414-f274-47f7-84c3-6fe2333a601a\n",
       "23    ce1371c2-bbc5-4399-af9c-9cd4c39bcf29\n",
       "24    5b38a1c3-7230-4972-8982-e9749e3caa46\n",
       "25    b1a713d2-1433-48f9-8eff-d7fd390bc242\n",
       "26    9ad20abc-5f4b-4717-a098-dbcd1b186b59\n",
       "27    6324a9a0-fd88-40ca-bc35-b7dc2da98749\n",
       "28    f73787e7-42a6-4db7-a299-5458f8a4ce15\n",
       "29    96ac39d4-397f-4319-ac40-4e0f6be46415\n",
       "30    3a6ce1e1-a0b5-406d-9cf6-60051e8e3302\n",
       "31    4b50b60c-466e-4092-8137-82886220b3d1\n",
       "32    aa9b36da-6e56-441d-8f17-4cd64734fdc0\n",
       "33    38db67c5-22b2-46f9-b7ff-012ddac4b0f7\n",
       "34    b9b8a413-246a-481e-ba84-da4c17572b8b\n",
       "35    ddb52eff-d3c6-4bdb-8b0b-b32fe798ff26\n",
       "36    5ff3e78e-df21-482d-a5f9-392b6bb0d646\n",
       "37    826ce51c-e9aa-4c21-bdd5-4465ebd800f4\n",
       "38    3aeb5f87-3874-48bd-b700-88967a2d98c9\n",
       "39    85e001b3-6762-4c7d-b9b2-8b3b19a93e5c\n",
       "40    b3b7e8ee-68d3-430c-a69a-6ab23bcf25a1\n",
       "41    b29fbad2-60d1-4db8-8fcc-edab23610502\n",
       "42    5cbbb320-086a-408f-bf83-3b6fa35ee357\n",
       "43    051bdd0f-3319-43d0-9533-47840ac7af32\n",
       "44    4b51270e-6819-47d3-8436-d7712049f6eb\n",
       "45    9ef28b2f-ee8e-4f3a-b754-53c98806dd09\n",
       "46    797fb0b6-ee32-44e4-ba48-8fe60a28f620\n",
       "47    ebc50397-aad3-41f3-b2f8-e4f50c15e7e7\n",
       "48    6e533fc2-6dba-4858-acfe-06e30455bb83\n",
       "49    3ede9024-cf86-4299-9f8e-0caa3fd71ceb\n",
       "50    999fa4ab-5256-4bbc-a637-c34e414e5c4a\n",
       "51    3a9c736a-c803-44bd-a244-e74b929f1969\n",
       "52    83c5fc08-bd6b-47f9-95a4-0d5f75b8306c\n",
       "53    f16e89e9-95ff-4983-bf1e-f1e720c695fc\n",
       "54    d18e5537-eee0-4bab-8e76-e3008eb13868\n",
       "55    e803f4ff-970f-42cf-a552-4658b1f64fe9\n",
       "56    aaea296f-c4cd-4f2d-a169-69896075db13\n",
       "57    b16be4a2-610b-45ab-9aea-a1d4264690d7\n",
       "58    537958f9-536c-485d-8ca4-dfea883fc65b\n",
       "59    ac453203-9cf9-4416-8b1d-05a8b843d845\n",
       "dtype: object"
      ]
     },
     "execution_count": 3,
     "metadata": {},
     "output_type": "execute_result"
    }
   ],
   "source": [
    "eids = pd.Series(df_base[\"eid\"].unique())\n",
    "eids"
   ]
  },
  {
   "cell_type": "code",
   "execution_count": 4,
   "id": "288e3f1e",
   "metadata": {},
   "outputs": [
    {
     "data": {
      "text/plain": [
       "55    e803f4ff-970f-42cf-a552-4658b1f64fe9\n",
       "dtype: object"
      ]
     },
     "execution_count": 4,
     "metadata": {},
     "output_type": "execute_result"
    }
   ],
   "source": [
    "targets = eids[pd.Series(df_base[\"eid\"].unique()).str.startswith(\"e80\")]\n",
    "targets"
   ]
  },
  {
   "cell_type": "code",
   "execution_count": 5,
   "id": "caf3fedb",
   "metadata": {},
   "outputs": [],
   "source": [
    "target_index = targets.index[0]"
   ]
  },
  {
   "cell_type": "code",
   "execution_count": 6,
   "id": "c9be6491",
   "metadata": {},
   "outputs": [
    {
     "data": {
      "text/plain": [
       "array(['e803f4ff-970f-42cf-a552-4658b1f64fe9'], dtype=object)"
      ]
     },
     "execution_count": 6,
     "metadata": {},
     "output_type": "execute_result"
    }
   ],
   "source": [
    "target_eid = df_base[\"eid\"].unique()[target_index]\n",
    "df_base = df_base[df_base[\"eid\"] == target_eid].reset_index()\n",
    "df_base[\"eid\"].unique()"
   ]
  },
  {
   "cell_type": "code",
   "execution_count": 7,
   "id": "b77f957c",
   "metadata": {},
   "outputs": [],
   "source": [
    "loc = pd.DataFrame(np.vstack(df_base[\"loc\"]), columns=[\"loc.x\", \"loc.y\"])\n",
    "v = pd.DataFrame(np.vstack(df_base[\"v\"]), columns=[\"v.x\", \"v.y\"])\n",
    "\n",
    "empty_array = np.empty(len(df_base))\n",
    "empty_array[:] = np.nan\n",
    "\n",
    "if \"o.t_loc\" in df_base:\n",
    "    o_tloc = pd.DataFrame(np.vstack(df_base[\"o.t_loc\"].apply(lambda x: (np.nan, np.nan) if np.all(np.isnan(x)) else x)), columns=[\"o.t_loc.x\", \"o.t_loc.y\"])\n",
    "    o_tv = pd.DataFrame(np.vstack(df_base[\"o.t_v\"].apply(lambda x: (np.nan, np.nan) if np.all(np.isnan(x)) else x)), columns=[\"o.t_v.x\", \"o.t_v.y\"])\n",
    "else:\n",
    "    o_tloc = pd.DataFrame({\"o.t_loc\": empty_array, \"o.t_loc.x\": empty_array, \"o.t_loc.y\": empty_array})\n",
    "    o_tv = pd.DataFrame({\"o.t_v\": empty_array, \"o.t_v.x\": empty_array, \"o.t_v.y\": empty_array})\n",
    "    \n",
    "if \"o.ct\" in df_base:\n",
    "    o_ctloc = pd.DataFrame(np.vstack(df_base[\"o.ct_loc\"].apply(lambda x: (np.nan, np.nan) if np.all(np.isnan(x)) else x)), columns=[\"o.ct_loc.x\", \"o.ct_loc.y\"])\n",
    "    o_ctdv = pd.DataFrame(np.vstack(df_base[\"o.ct_dv\"].apply(lambda x: (np.nan, np.nan) if np.all(np.isnan(x)) else x)), columns=[\"o.ct_dv.x\", \"o.ct_dv.y\"])\n",
    "    o_ctv = pd.DataFrame(np.vstack(df_base[\"o.ct_v\"].apply(lambda x: (np.nan, np.nan) if np.all(np.isnan(x)) else x)), columns=[\"o.ct_v.x\", \"o.ct_v.y\"])\n",
    "    o_ctcloc = pd.DataFrame(np.vstack(df_base[\"o.ct_cloc\"].apply(lambda x: (np.nan, np.nan) if np.all(np.isnan(x)) else x)), columns=[\"o.ct_cloc.x\", \"o.ct_cloc.y\"])\n",
    "else:\n",
    "    o_ctloc = pd.DataFrame({\"o.ct_loc\": empty_array, \"o.ct_loc.x\": empty_array, \"o.ct_loc.y\": empty_array})\n",
    "    o_ctdv = pd.DataFrame({\"o.ct_dv\": empty_array, \"o.ct_dv.x\": empty_array, \"o.ct_dv.y\": empty_array})\n",
    "    o_ctv = pd.DataFrame({\"o.ct_v\": empty_array, \"o.ct_v.x\": empty_array, \"o.ct_v.y\": empty_array})\n",
    "    o_ctcloc = pd.DataFrame({\"o.ct_cloc\": empty_array, \"o.ct_cloc.x\": empty_array, \"o.ct_cloc.y\": empty_array})\n",
    "angle = pd.DataFrame(np.vstack(df_base.apply(lambda row: np.array(util.polar_to_cartesian(100, row[\"a\"])), axis=1)), columns=[\"angle.x\", \"angle.y\"])\n",
    "desired_angle = pd.DataFrame(np.vstack(df_base.apply(lambda row: np.array(util.polar_to_cartesian(100, row[\"o._ada\"])), axis=1)), columns=[\"_ada.x\", \"_ada.y\"])\n",
    "df = pd.concat([df_base, loc, v, o_ctloc, o_ctcloc, o_ctdv, o_ctv, o_tloc, o_tv, angle, desired_angle], axis=1)\n",
    "\n",
    "if \"o.ct\" not in df_base:\n",
    "    df[\"o.ct\"] = empty_array\n",
    "    df[\"o.ct_ts\"] = empty_array\n",
    "    df[\"o.cac\"] = empty_array\n",
    "    df[\"o.cbdr\"] = empty_array\n",
    "    df[\"o.cbdr_hist\"] = empty_array\n",
    "    df[\"o.ct_ct\"] = empty_array\n",
    "    df[\"o.ct_cradius\"] = empty_array\n",
    "    df[\"o.nd\"] = empty_array\n",
    "    df[\"o.ct_dist\"] = empty_array\n",
    "else:\n",
    "    df[\"o.ct_dist\"] = np.linalg.norm(np.vstack(df[\"loc\"]) - np.vstack(df[\"o.ct_cloc\"].apply(lambda x: (np.nan, np.nan) if np.all(np.isnan(x)) else x)), axis=1)\n",
    "    \n",
    "if \"o.t_loc\" not in df_base:\n",
    "    df[\"o.cs\"] = empty_array\n",
    "    df[\"o.t_dist\"] = empty_array\n",
    "else:\n",
    "    df[\"o.t_dist\"] = np.linalg.norm(np.vstack(df[\"loc\"]) - np.vstack(df[\"o.t_loc\"].apply(lambda x: (np.nan, np.nan) if np.all(np.isnan(x)) else x)), axis=1)"
   ]
  },
  {
   "cell_type": "code",
   "execution_count": 8,
   "id": "6e17314e",
   "metadata": {},
   "outputs": [],
   "source": [
    "df[\"speed\"] = np.linalg.norm(df[[\"v.x\", \"v.y\"]], axis=1)\n",
    "df[\"o.t_speed\"] = np.linalg.norm(df[[\"o.t_v.x\", \"o.t_v.y\"]], axis=1)\n",
    "df[\"f_mag\"] = df[\"f\"].apply(lambda x:np.linalg.norm(x))"
   ]
  },
  {
   "cell_type": "code",
   "execution_count": 9,
   "id": "39640462",
   "metadata": {},
   "outputs": [],
   "source": [
    "#df[\"o.ct_v.x\"] = (df[\"o.ct_loc.x\"].shift(1) - df[\"o.ct_loc.x\"]) / (df[\"ts\"].shift(1) - df[\"ts\"])\n",
    "#df[\"o.ct_v.y\"] = (df[\"o.ct_loc.y\"].shift(1) - df[\"o.ct_loc.y\"]) / (df[\"ts\"].shift(1) - df[\"ts\"])"
   ]
  },
  {
   "cell_type": "code",
   "execution_count": 10,
   "id": "34fd5383",
   "metadata": {},
   "outputs": [
    {
     "data": {
      "text/html": [
       "<div>\n",
       "<style scoped>\n",
       "    .dataframe tbody tr th:only-of-type {\n",
       "        vertical-align: middle;\n",
       "    }\n",
       "\n",
       "    .dataframe tbody tr th {\n",
       "        vertical-align: top;\n",
       "    }\n",
       "\n",
       "    .dataframe thead th {\n",
       "        text-align: right;\n",
       "    }\n",
       "</style>\n",
       "<table border=\"1\" class=\"dataframe\">\n",
       "  <thead>\n",
       "    <tr style=\"text-align: right;\">\n",
       "      <th></th>\n",
       "      <th>index</th>\n",
       "      <th>p</th>\n",
       "      <th>eid</th>\n",
       "      <th>ts</th>\n",
       "      <th>loc</th>\n",
       "      <th>r</th>\n",
       "      <th>a</th>\n",
       "      <th>v</th>\n",
       "      <th>av</th>\n",
       "      <th>f</th>\n",
       "      <th>...</th>\n",
       "      <th>o.t_v.y</th>\n",
       "      <th>angle.x</th>\n",
       "      <th>angle.y</th>\n",
       "      <th>_ada.x</th>\n",
       "      <th>_ada.y</th>\n",
       "      <th>o.ct_dist</th>\n",
       "      <th>o.t_dist</th>\n",
       "      <th>speed</th>\n",
       "      <th>o.t_speed</th>\n",
       "      <th>f_mag</th>\n",
       "    </tr>\n",
       "  </thead>\n",
       "  <tbody>\n",
       "    <tr>\n",
       "      <th>0</th>\n",
       "      <td>4542</td>\n",
       "      <td>SHP</td>\n",
       "      <td>e803f4ff-970f-42cf-a552-4658b1f64fe9</td>\n",
       "      <td>0.016667</td>\n",
       "      <td>[-63338.07800867823, -76558.61408315272]</td>\n",
       "      <td>30</td>\n",
       "      <td>-38.965147</td>\n",
       "      <td>[-898.8311137491386, 2488.6045409681647]</td>\n",
       "      <td>-0.500000</td>\n",
       "      <td>[-5228.163736071135, -14059.384906489711]</td>\n",
       "      <td>...</td>\n",
       "      <td>0.000000</td>\n",
       "      <td>30.006494</td>\n",
       "      <td>-95.391878</td>\n",
       "      <td>-34.854425</td>\n",
       "      <td>-93.729233</td>\n",
       "      <td>NaN</td>\n",
       "      <td>175762.587250</td>\n",
       "      <td>2645.949722</td>\n",
       "      <td>0.0</td>\n",
       "      <td>15000.0</td>\n",
       "    </tr>\n",
       "    <tr>\n",
       "      <th>1</th>\n",
       "      <td>4543</td>\n",
       "      <td>SHP</td>\n",
       "      <td>e803f4ff-970f-42cf-a552-4658b1f64fe9</td>\n",
       "      <td>0.033333</td>\n",
       "      <td>[-63353.05852724072, -76517.13734080325]</td>\n",
       "      <td>30</td>\n",
       "      <td>-38.973481</td>\n",
       "      <td>[-898.8746817802725, 2488.487379427277]</td>\n",
       "      <td>-0.550000</td>\n",
       "      <td>[-5228.163736071156, -14059.384906489702]</td>\n",
       "      <td>...</td>\n",
       "      <td>0.000000</td>\n",
       "      <td>29.210529</td>\n",
       "      <td>-95.638617</td>\n",
       "      <td>-34.854425</td>\n",
       "      <td>-93.729233</td>\n",
       "      <td>NaN</td>\n",
       "      <td>175718.493101</td>\n",
       "      <td>2645.854329</td>\n",
       "      <td>0.0</td>\n",
       "      <td>15000.0</td>\n",
       "    </tr>\n",
       "    <tr>\n",
       "      <th>2</th>\n",
       "      <td>4544</td>\n",
       "      <td>SHP</td>\n",
       "      <td>e803f4ff-970f-42cf-a552-4658b1f64fe9</td>\n",
       "      <td>0.050000</td>\n",
       "      <td>[-63368.03977193706, -76475.66255114613]</td>\n",
       "      <td>30</td>\n",
       "      <td>-38.982647</td>\n",
       "      <td>[-898.9182498114063, 2488.3702178863896]</td>\n",
       "      <td>-0.600000</td>\n",
       "      <td>[-5228.163736071177, -14059.384906489695]</td>\n",
       "      <td>...</td>\n",
       "      <td>0.000000</td>\n",
       "      <td>28.332627</td>\n",
       "      <td>-95.902358</td>\n",
       "      <td>-34.854425</td>\n",
       "      <td>-93.729233</td>\n",
       "      <td>NaN</td>\n",
       "      <td>175674.400524</td>\n",
       "      <td>2645.758939</td>\n",
       "      <td>0.0</td>\n",
       "      <td>15000.0</td>\n",
       "    </tr>\n",
       "    <tr>\n",
       "      <th>3</th>\n",
       "      <td>4545</td>\n",
       "      <td>SHP</td>\n",
       "      <td>e803f4ff-970f-42cf-a552-4658b1f64fe9</td>\n",
       "      <td>0.066667</td>\n",
       "      <td>[-63383.02174276725, -76434.18971418135]</td>\n",
       "      <td>30</td>\n",
       "      <td>-38.992647</td>\n",
       "      <td>[-898.9618178425402, 2488.253056345502]</td>\n",
       "      <td>-0.650000</td>\n",
       "      <td>[-5228.163736071199, -14059.384906489688]</td>\n",
       "      <td>...</td>\n",
       "      <td>0.000000</td>\n",
       "      <td>27.372202</td>\n",
       "      <td>-96.180884</td>\n",
       "      <td>-34.854425</td>\n",
       "      <td>-93.729233</td>\n",
       "      <td>NaN</td>\n",
       "      <td>175630.309519</td>\n",
       "      <td>2645.663550</td>\n",
       "      <td>0.0</td>\n",
       "      <td>15000.0</td>\n",
       "    </tr>\n",
       "    <tr>\n",
       "      <th>4</th>\n",
       "      <td>4546</td>\n",
       "      <td>SHP</td>\n",
       "      <td>e803f4ff-970f-42cf-a552-4658b1f64fe9</td>\n",
       "      <td>0.083333</td>\n",
       "      <td>[-63398.00443973129, -76392.71882990893]</td>\n",
       "      <td>30</td>\n",
       "      <td>-39.003481</td>\n",
       "      <td>[-899.0053858736741, 2488.1358948046145]</td>\n",
       "      <td>-0.700000</td>\n",
       "      <td>[-5228.163736071221, -14059.38490648968]</td>\n",
       "      <td>...</td>\n",
       "      <td>0.000000</td>\n",
       "      <td>26.328657</td>\n",
       "      <td>-96.471767</td>\n",
       "      <td>-34.854425</td>\n",
       "      <td>-93.729233</td>\n",
       "      <td>NaN</td>\n",
       "      <td>175586.220086</td>\n",
       "      <td>2645.568165</td>\n",
       "      <td>0.0</td>\n",
       "      <td>15000.0</td>\n",
       "    </tr>\n",
       "    <tr>\n",
       "      <th>...</th>\n",
       "      <td>...</td>\n",
       "      <td>...</td>\n",
       "      <td>...</td>\n",
       "      <td>...</td>\n",
       "      <td>...</td>\n",
       "      <td>...</td>\n",
       "      <td>...</td>\n",
       "      <td>...</td>\n",
       "      <td>...</td>\n",
       "      <td>...</td>\n",
       "      <td>...</td>\n",
       "      <td>...</td>\n",
       "      <td>...</td>\n",
       "      <td>...</td>\n",
       "      <td>...</td>\n",
       "      <td>...</td>\n",
       "      <td>...</td>\n",
       "      <td>...</td>\n",
       "      <td>...</td>\n",
       "      <td>...</td>\n",
       "      <td>...</td>\n",
       "    </tr>\n",
       "    <tr>\n",
       "      <th>274</th>\n",
       "      <td>4816</td>\n",
       "      <td>SHP</td>\n",
       "      <td>e803f4ff-970f-42cf-a552-4658b1f64fe9</td>\n",
       "      <td>4.583333</td>\n",
       "      <td>[-67701.33803764083, -65601.36722069624]</td>\n",
       "      <td>30</td>\n",
       "      <td>-40.146043</td>\n",
       "      <td>[-1083.2851699923854, 2269.9585178851335]</td>\n",
       "      <td>0.694119</td>\n",
       "      <td>[-8599.062922134779, -12290.488878037637]</td>\n",
       "      <td>...</td>\n",
       "      <td>93.574446</td>\n",
       "      <td>-76.827066</td>\n",
       "      <td>-64.012513</td>\n",
       "      <td>-57.327086</td>\n",
       "      <td>-81.936593</td>\n",
       "      <td>254.259325</td>\n",
       "      <td>163970.439253</td>\n",
       "      <td>2515.197494</td>\n",
       "      <td>100.0</td>\n",
       "      <td>15000.0</td>\n",
       "    </tr>\n",
       "    <tr>\n",
       "      <th>275</th>\n",
       "      <td>4817</td>\n",
       "      <td>SHP</td>\n",
       "      <td>e803f4ff-970f-42cf-a552-4658b1f64fe9</td>\n",
       "      <td>4.600000</td>\n",
       "      <td>[-67719.39279047404, -65563.53457873149]</td>\n",
       "      <td>30</td>\n",
       "      <td>-40.134475</td>\n",
       "      <td>[-1083.3568288500699, 2269.856097144483]</td>\n",
       "      <td>0.744119</td>\n",
       "      <td>[-6339.83355343777, -13594.355833017784]</td>\n",
       "      <td>...</td>\n",
       "      <td>93.575210</td>\n",
       "      <td>-76.081403</td>\n",
       "      <td>-64.896996</td>\n",
       "      <td>-42.265557</td>\n",
       "      <td>-90.629039</td>\n",
       "      <td>215.067680</td>\n",
       "      <td>163928.670079</td>\n",
       "      <td>2515.135925</td>\n",
       "      <td>100.0</td>\n",
       "      <td>15000.0</td>\n",
       "    </tr>\n",
       "    <tr>\n",
       "      <th>276</th>\n",
       "      <td>4818</td>\n",
       "      <td>SHP</td>\n",
       "      <td>e803f4ff-970f-42cf-a552-4658b1f64fe9</td>\n",
       "      <td>4.616667</td>\n",
       "      <td>[-67737.44873762154, -65525.70364377908]</td>\n",
       "      <td>30</td>\n",
       "      <td>-40.122073</td>\n",
       "      <td>[-1083.4096607963486, 2269.742810845875]</td>\n",
       "      <td>0.794119</td>\n",
       "      <td>[-630.6747775113307, -14986.735779515531]</td>\n",
       "      <td>...</td>\n",
       "      <td>93.575975</td>\n",
       "      <td>-75.270722</td>\n",
       "      <td>-65.835541</td>\n",
       "      <td>-4.204499</td>\n",
       "      <td>-99.911572</td>\n",
       "      <td>177.131583</td>\n",
       "      <td>163886.902158</td>\n",
       "      <td>2515.056445</td>\n",
       "      <td>100.0</td>\n",
       "      <td>15000.0</td>\n",
       "    </tr>\n",
       "    <tr>\n",
       "      <th>277</th>\n",
       "      <td>4819</td>\n",
       "      <td>SHP</td>\n",
       "      <td>e803f4ff-970f-42cf-a552-4658b1f64fe9</td>\n",
       "      <td>4.633333</td>\n",
       "      <td>[-67755.50556530149, -65487.87459693165]</td>\n",
       "      <td>30</td>\n",
       "      <td>-40.108837</td>\n",
       "      <td>[-1083.4149164194946, 2269.6179213810456]</td>\n",
       "      <td>0.844119</td>\n",
       "      <td>[-2704.3271720448884, -14754.206672896367]</td>\n",
       "      <td>...</td>\n",
       "      <td>93.576740</td>\n",
       "      <td>-74.392800</td>\n",
       "      <td>-66.825978</td>\n",
       "      <td>-18.028848</td>\n",
       "      <td>-98.361378</td>\n",
       "      <td>141.463962</td>\n",
       "      <td>163845.135770</td>\n",
       "      <td>2514.946001</td>\n",
       "      <td>100.0</td>\n",
       "      <td>15000.0</td>\n",
       "    </tr>\n",
       "    <tr>\n",
       "      <th>278</th>\n",
       "      <td>4820</td>\n",
       "      <td>SHP</td>\n",
       "      <td>e803f4ff-970f-42cf-a552-4658b1f64fe9</td>\n",
       "      <td>4.650000</td>\n",
       "      <td>[-67773.56248057514, -65450.047631575304]</td>\n",
       "      <td>30</td>\n",
       "      <td>-40.094769</td>\n",
       "      <td>[-1722.7087165364567, 740.6643429306117]</td>\n",
       "      <td>-0.210561</td>\n",
       "      <td>[-5924.73842057343, -13780.32926485362]</td>\n",
       "      <td>...</td>\n",
       "      <td>93.577506</td>\n",
       "      <td>-73.445317</td>\n",
       "      <td>-67.865937</td>\n",
       "      <td>-39.498256</td>\n",
       "      <td>-91.868862</td>\n",
       "      <td>110.286484</td>\n",
       "      <td>163803.371376</td>\n",
       "      <td>1875.182389</td>\n",
       "      <td>100.0</td>\n",
       "      <td>15000.0</td>\n",
       "    </tr>\n",
       "  </tbody>\n",
       "</table>\n",
       "<p>279 rows × 66 columns</p>\n",
       "</div>"
      ],
      "text/plain": [
       "     index    p                                   eid        ts  \\\n",
       "0     4542  SHP  e803f4ff-970f-42cf-a552-4658b1f64fe9  0.016667   \n",
       "1     4543  SHP  e803f4ff-970f-42cf-a552-4658b1f64fe9  0.033333   \n",
       "2     4544  SHP  e803f4ff-970f-42cf-a552-4658b1f64fe9  0.050000   \n",
       "3     4545  SHP  e803f4ff-970f-42cf-a552-4658b1f64fe9  0.066667   \n",
       "4     4546  SHP  e803f4ff-970f-42cf-a552-4658b1f64fe9  0.083333   \n",
       "..     ...  ...                                   ...       ...   \n",
       "274   4816  SHP  e803f4ff-970f-42cf-a552-4658b1f64fe9  4.583333   \n",
       "275   4817  SHP  e803f4ff-970f-42cf-a552-4658b1f64fe9  4.600000   \n",
       "276   4818  SHP  e803f4ff-970f-42cf-a552-4658b1f64fe9  4.616667   \n",
       "277   4819  SHP  e803f4ff-970f-42cf-a552-4658b1f64fe9  4.633333   \n",
       "278   4820  SHP  e803f4ff-970f-42cf-a552-4658b1f64fe9  4.650000   \n",
       "\n",
       "                                           loc   r          a  \\\n",
       "0     [-63338.07800867823, -76558.61408315272]  30 -38.965147   \n",
       "1     [-63353.05852724072, -76517.13734080325]  30 -38.973481   \n",
       "2     [-63368.03977193706, -76475.66255114613]  30 -38.982647   \n",
       "3     [-63383.02174276725, -76434.18971418135]  30 -38.992647   \n",
       "4     [-63398.00443973129, -76392.71882990893]  30 -39.003481   \n",
       "..                                         ...  ..        ...   \n",
       "274   [-67701.33803764083, -65601.36722069624]  30 -40.146043   \n",
       "275   [-67719.39279047404, -65563.53457873149]  30 -40.134475   \n",
       "276   [-67737.44873762154, -65525.70364377908]  30 -40.122073   \n",
       "277   [-67755.50556530149, -65487.87459693165]  30 -40.108837   \n",
       "278  [-67773.56248057514, -65450.047631575304]  30 -40.094769   \n",
       "\n",
       "                                             v        av  \\\n",
       "0     [-898.8311137491386, 2488.6045409681647] -0.500000   \n",
       "1      [-898.8746817802725, 2488.487379427277] -0.550000   \n",
       "2     [-898.9182498114063, 2488.3702178863896] -0.600000   \n",
       "3      [-898.9618178425402, 2488.253056345502] -0.650000   \n",
       "4     [-899.0053858736741, 2488.1358948046145] -0.700000   \n",
       "..                                         ...       ...   \n",
       "274  [-1083.2851699923854, 2269.9585178851335]  0.694119   \n",
       "275   [-1083.3568288500699, 2269.856097144483]  0.744119   \n",
       "276   [-1083.4096607963486, 2269.742810845875]  0.794119   \n",
       "277  [-1083.4149164194946, 2269.6179213810456]  0.844119   \n",
       "278   [-1722.7087165364567, 740.6643429306117] -0.210561   \n",
       "\n",
       "                                              f  ...    o.t_v.y    angle.x  \\\n",
       "0     [-5228.163736071135, -14059.384906489711]  ...   0.000000  30.006494   \n",
       "1     [-5228.163736071156, -14059.384906489702]  ...   0.000000  29.210529   \n",
       "2     [-5228.163736071177, -14059.384906489695]  ...   0.000000  28.332627   \n",
       "3     [-5228.163736071199, -14059.384906489688]  ...   0.000000  27.372202   \n",
       "4      [-5228.163736071221, -14059.38490648968]  ...   0.000000  26.328657   \n",
       "..                                          ...  ...        ...        ...   \n",
       "274   [-8599.062922134779, -12290.488878037637]  ...  93.574446 -76.827066   \n",
       "275    [-6339.83355343777, -13594.355833017784]  ...  93.575210 -76.081403   \n",
       "276   [-630.6747775113307, -14986.735779515531]  ...  93.575975 -75.270722   \n",
       "277  [-2704.3271720448884, -14754.206672896367]  ...  93.576740 -74.392800   \n",
       "278     [-5924.73842057343, -13780.32926485362]  ...  93.577506 -73.445317   \n",
       "\n",
       "       angle.y     _ada.x     _ada.y   o.ct_dist       o.t_dist        speed  \\\n",
       "0   -95.391878 -34.854425 -93.729233         NaN  175762.587250  2645.949722   \n",
       "1   -95.638617 -34.854425 -93.729233         NaN  175718.493101  2645.854329   \n",
       "2   -95.902358 -34.854425 -93.729233         NaN  175674.400524  2645.758939   \n",
       "3   -96.180884 -34.854425 -93.729233         NaN  175630.309519  2645.663550   \n",
       "4   -96.471767 -34.854425 -93.729233         NaN  175586.220086  2645.568165   \n",
       "..         ...        ...        ...         ...            ...          ...   \n",
       "274 -64.012513 -57.327086 -81.936593  254.259325  163970.439253  2515.197494   \n",
       "275 -64.896996 -42.265557 -90.629039  215.067680  163928.670079  2515.135925   \n",
       "276 -65.835541  -4.204499 -99.911572  177.131583  163886.902158  2515.056445   \n",
       "277 -66.825978 -18.028848 -98.361378  141.463962  163845.135770  2514.946001   \n",
       "278 -67.865937 -39.498256 -91.868862  110.286484  163803.371376  1875.182389   \n",
       "\n",
       "     o.t_speed    f_mag  \n",
       "0          0.0  15000.0  \n",
       "1          0.0  15000.0  \n",
       "2          0.0  15000.0  \n",
       "3          0.0  15000.0  \n",
       "4          0.0  15000.0  \n",
       "..         ...      ...  \n",
       "274      100.0  15000.0  \n",
       "275      100.0  15000.0  \n",
       "276      100.0  15000.0  \n",
       "277      100.0  15000.0  \n",
       "278      100.0  15000.0  \n",
       "\n",
       "[279 rows x 66 columns]"
      ]
     },
     "execution_count": 10,
     "metadata": {},
     "output_type": "execute_result"
    }
   ],
   "source": [
    "df"
   ]
  },
  {
   "cell_type": "code",
   "execution_count": 11,
   "id": "a703dac7",
   "metadata": {},
   "outputs": [
    {
     "data": {
      "text/plain": [
       "{'o': 'stellarpunk.orders.movement.GoToLocation',\n",
       " 'ct': 'de1fdec2-7b8e-4dd0-a7eb-cf83bd65967c',\n",
       " 'ct_ms': 110.28648354019523,\n",
       " 'ct_loc': [-67730.00124282177, -65348.72869446552],\n",
       " 'ct_v': [0.0, 0.0],\n",
       " 'ct_ts': 2.049999999999997,\n",
       " 'ct_dv': [-1184.9476841146857, -2756.065852970724],\n",
       " 'ct_tc': 0.0,\n",
       " 'ct_ct': 1,\n",
       " 'ct_cloc': [-67730.00124282177, -65348.72869446552],\n",
       " 'ct_cradius': 100.0,\n",
       " 'ct_cn': [[-67730.00124282177, -65348.72869446552]],\n",
       " 'ct_dv_override': False,\n",
       " 'cac': False,\n",
       " 'cach': True,\n",
       " 'cbdr': False,\n",
       " 'cbdr_hist': [[-2431.2874265323335, 5935.917023100905],\n",
       "  [43.561237753368914, 101.31893710978329]],\n",
       " 'nd': 3.1830988618379074e-09,\n",
       " 'nnd': 110.28648354019523,\n",
       " '_nact': 0.0,\n",
       " '_ada': -1.976845195686571,\n",
       " 't_loc': [-125530.22904246264, 87833.06279449935],\n",
       " 'ad': 500.0,\n",
       " 'md': 0.0,\n",
       " 't_v': [-35.25975447062962, 93.57750645679182],\n",
       " 'cs': False,\n",
       " 'scm': 1000.0,\n",
       " '_ncts': 4.719047619047608,\n",
       " '_dv': [-2907.6564006511426, -2015.401510040112]}"
      ]
     },
     "execution_count": 11,
     "metadata": {},
     "output_type": "execute_result"
    }
   ],
   "source": [
    "df.iloc[-1][\"o\"]"
   ]
  },
  {
   "cell_type": "markdown",
   "id": "a6d3cf5e",
   "metadata": {},
   "source": [
    "# Basic Ship Vitals"
   ]
  },
  {
   "cell_type": "markdown",
   "id": "36730903",
   "metadata": {},
   "source": [
    "## Position and Heading"
   ]
  },
  {
   "cell_type": "code",
   "execution_count": 12,
   "id": "665329e8",
   "metadata": {},
   "outputs": [
    {
     "data": {
      "application/vnd.jupyter.widget-view+json": {
       "model_id": "af69db8e811542008c0933db9114f9fd",
       "version_major": 2,
       "version_minor": 0
      },
      "text/plain": [
       "interactive(children=(FloatSlider(value=4.649999999999989, continuous_update=False, description='max_time', ma…"
      ]
     },
     "metadata": {},
     "output_type": "display_data"
    },
    {
     "data": {
      "text/plain": [
       "<function __main__.plot_location_chart(max_time)>"
      ]
     },
     "execution_count": 12,
     "metadata": {},
     "output_type": "execute_result"
    }
   ],
   "source": [
    "def plot_location_chart(max_time):\n",
    "    sample = df[df[\"ts\"] <= max_time].iloc[::50]\n",
    "    plt.quiver(sample[\"loc.x\"], sample[\"loc.y\"], sample[\"angle.x\"], sample[\"angle.y\"])#, scale=100)\n",
    "    plt.scatter(sample[\"o.t_loc.x\"], sample[\"o.t_loc.y\"])\n",
    "    #center = (0,2500)\n",
    "    #radius = 10000\n",
    "    #plt.xlim(center[0]-radius,center[0]+radius)\n",
    "    #plt.ylim(center[1]-radius,center[1]+radius)\n",
    "\n",
    "ipywidgets.interact(plot_location_chart, max_time=ipywidgets.FloatSlider(value=df[\"ts\"].max(), min=df[\"ts\"].min(), max=df[\"ts\"].max(), continuous_update=False))"
   ]
  },
  {
   "cell_type": "code",
   "execution_count": 13,
   "id": "ed1c2ca3",
   "metadata": {},
   "outputs": [
    {
     "data": {
      "text/html": [
       "<div>\n",
       "<style scoped>\n",
       "    .dataframe tbody tr th:only-of-type {\n",
       "        vertical-align: middle;\n",
       "    }\n",
       "\n",
       "    .dataframe tbody tr th {\n",
       "        vertical-align: top;\n",
       "    }\n",
       "\n",
       "    .dataframe thead th {\n",
       "        text-align: right;\n",
       "    }\n",
       "</style>\n",
       "<table border=\"1\" class=\"dataframe\">\n",
       "  <thead>\n",
       "    <tr style=\"text-align: right;\">\n",
       "      <th></th>\n",
       "      <th>loc.x</th>\n",
       "      <th>loc.y</th>\n",
       "    </tr>\n",
       "  </thead>\n",
       "  <tbody>\n",
       "    <tr>\n",
       "      <th>count</th>\n",
       "      <td>279.000000</td>\n",
       "      <td>279.000000</td>\n",
       "    </tr>\n",
       "    <tr>\n",
       "      <th>mean</th>\n",
       "      <td>-65485.870381</td>\n",
       "      <td>-70919.698233</td>\n",
       "    </tr>\n",
       "    <tr>\n",
       "      <th>std</th>\n",
       "      <td>1276.372806</td>\n",
       "      <td>3231.284020</td>\n",
       "    </tr>\n",
       "    <tr>\n",
       "      <th>min</th>\n",
       "      <td>-67773.562481</td>\n",
       "      <td>-76558.614083</td>\n",
       "    </tr>\n",
       "    <tr>\n",
       "      <th>25%</th>\n",
       "      <td>-66565.731450</td>\n",
       "      <td>-73698.956179</td>\n",
       "    </tr>\n",
       "    <tr>\n",
       "      <th>50%</th>\n",
       "      <td>-65452.031144</td>\n",
       "      <td>-70879.434380</td>\n",
       "    </tr>\n",
       "    <tr>\n",
       "      <th>75%</th>\n",
       "      <td>-64387.638191</td>\n",
       "      <td>-68117.323112</td>\n",
       "    </tr>\n",
       "    <tr>\n",
       "      <th>max</th>\n",
       "      <td>-63338.078009</td>\n",
       "      <td>-65450.047632</td>\n",
       "    </tr>\n",
       "  </tbody>\n",
       "</table>\n",
       "</div>"
      ],
      "text/plain": [
       "              loc.x         loc.y\n",
       "count    279.000000    279.000000\n",
       "mean  -65485.870381 -70919.698233\n",
       "std     1276.372806   3231.284020\n",
       "min   -67773.562481 -76558.614083\n",
       "25%   -66565.731450 -73698.956179\n",
       "50%   -65452.031144 -70879.434380\n",
       "75%   -64387.638191 -68117.323112\n",
       "max   -63338.078009 -65450.047632"
      ]
     },
     "execution_count": 13,
     "metadata": {},
     "output_type": "execute_result"
    }
   ],
   "source": [
    "df[[\"loc.x\", \"loc.y\"]].describe()"
   ]
  },
  {
   "cell_type": "code",
   "execution_count": 14,
   "id": "e0f37c4c",
   "metadata": {},
   "outputs": [
    {
     "data": {
      "text/plain": [
       "Text(0.5, 1.0, 'position')"
      ]
     },
     "execution_count": 14,
     "metadata": {},
     "output_type": "execute_result"
    },
    {
     "data": {
      "image/png": "[encoded data removed]",
      "text/plain": [
       "<Figure size 432x288 with 1 Axes>"
      ]
     },
     "metadata": {
      "needs_background": "light"
     },
     "output_type": "display_data"
    }
   ],
   "source": [
    "plt.scatter(df[\"ts\"], df[\"loc.x\"])\n",
    "plt.scatter(df[\"ts\"], df[\"loc.y\"])\n",
    "plt.title(\"position\")"
   ]
  },
  {
   "cell_type": "code",
   "execution_count": 15,
   "id": "b65fd521",
   "metadata": {},
   "outputs": [
    {
     "data": {
      "application/vnd.jupyter.widget-view+json": {
       "model_id": "aba7f7188c064bd4b7b24c51e75ba770",
       "version_major": 2,
       "version_minor": 0
      },
      "text/plain": [
       "interactive(children=(FloatSlider(value=4.633333333333323, continuous_update=False, description='hist_length',…"
      ]
     },
     "metadata": {},
     "output_type": "display_data"
    },
    {
     "data": {
      "text/plain": [
       "<function __main__.plot_heading(hist_length, max_time)>"
      ]
     },
     "execution_count": 15,
     "metadata": {},
     "output_type": "execute_result"
    }
   ],
   "source": [
    "def plot_heading(hist_length, max_time):\n",
    "    sample = df[(df[\"ts\"] >= max_time - hist_length) & (df[\"ts\"] <= max_time)]\n",
    "    plt.scatter(sample[\"ts\"], sample[\"a\"].apply(lambda x: util.normalize_angle(x, shortest=True)), label=\"theta\")\n",
    "    plt.scatter(sample[\"ts\"], sample[\"av\"], label=\"omega\")\n",
    "    plt.scatter(sample[\"ts\"], sample[\"o._ada\"].apply(lambda x: util.normalize_angle(x, shortest=True)), label=\"desired theta\")\n",
    "    plt.hlines(np.pi, sample[\"ts\"].min(), sample[\"ts\"].max(), color=\"red\")\n",
    "    plt.hlines(0, sample[\"ts\"].min(), sample[\"ts\"].max(), color=\"red\")\n",
    "    plt.legend()\n",
    "    plt.title(\"heading and angular velocity\")\n",
    "    \n",
    "ipywidgets.interact(plot_heading, hist_length=ipywidgets.FloatSlider(value=15, min=0, max=df[\"ts\"].max()-df[\"ts\"].min(), continuous_update=False), max_time=ipywidgets.FloatSlider(value=df[\"ts\"].max(), min=df[\"ts\"].min(), max=df[\"ts\"].max()+.1, continuous_update=False))"
   ]
  },
  {
   "cell_type": "code",
   "execution_count": 16,
   "id": "e1a4515d",
   "metadata": {},
   "outputs": [
    {
     "data": {
      "text/plain": [
       "<matplotlib.collections.PathCollection at 0x7faf55aff880>"
      ]
     },
     "execution_count": 16,
     "metadata": {},
     "output_type": "execute_result"
    },
    {
     "data": {
      "image/png": "[encoded data removed]",
      "text/plain": [
       "<Figure size 432x288 with 1 Axes>"
      ]
     },
     "metadata": {
      "needs_background": "light"
     },
     "output_type": "display_data"
    }
   ],
   "source": [
    "plt.scatter(df[\"ts\"], df[\"t\"])"
   ]
  },
  {
   "cell_type": "markdown",
   "id": "4ce26323",
   "metadata": {},
   "source": [
    "## Velocity and Acceleration"
   ]
  },
  {
   "cell_type": "code",
   "execution_count": 17,
   "id": "694b906e",
   "metadata": {},
   "outputs": [
    {
     "data": {
      "application/vnd.jupyter.widget-view+json": {
       "model_id": "32618c9ab44b4b389f0eef06f84cd808",
       "version_major": 2,
       "version_minor": 0
      },
      "text/plain": [
       "interactive(children=(FloatSlider(value=4.633333333333323, continuous_update=False, description='hist_length',…"
      ]
     },
     "metadata": {},
     "output_type": "display_data"
    },
    {
     "data": {
      "text/plain": [
       "<function __main__.plot_speed(hist_length, max_time)>"
      ]
     },
     "execution_count": 17,
     "metadata": {},
     "output_type": "execute_result"
    }
   ],
   "source": [
    "def plot_speed(hist_length, max_time):\n",
    "    sample = df[(df[\"ts\"] >= max_time - hist_length) & (df[\"ts\"] <= max_time)]\n",
    "    plt.scatter(sample[\"ts\"], sample[\"speed\"])\n",
    "    plt.title(\"speed\")\n",
    "    print(f'min speed: {sample[\"speed\"].min()}')\n",
    "    print(f'max speed: {sample[\"speed\"].max()}')\n",
    "    \n",
    "ipywidgets.interact(plot_speed, hist_length=ipywidgets.FloatSlider(value=15, min=0, max=df[\"ts\"].max()-df[\"ts\"].min(), continuous_update=False), max_time=ipywidgets.FloatSlider(value=df[\"ts\"].max(), min=df[\"ts\"].min(), max=df[\"ts\"].max()+.1, continuous_update=False))"
   ]
  },
  {
   "cell_type": "code",
   "execution_count": 18,
   "id": "32a0a440",
   "metadata": {
    "scrolled": true
   },
   "outputs": [
    {
     "data": {
      "application/vnd.jupyter.widget-view+json": {
       "model_id": "eee7c0e3fdb549899883a60fb2e3154d",
       "version_major": 2,
       "version_minor": 0
      },
      "text/plain": [
       "interactive(children=(FloatSlider(value=4.633333333333323, continuous_update=False, description='hist_length',…"
      ]
     },
     "metadata": {},
     "output_type": "display_data"
    },
    {
     "data": {
      "text/plain": [
       "<function __main__.plot_velocity(hist_length, max_time)>"
      ]
     },
     "execution_count": 18,
     "metadata": {},
     "output_type": "execute_result"
    }
   ],
   "source": [
    "def plot_velocity(hist_length, max_time):\n",
    "    sample = df[(df[\"ts\"] >= max_time - hist_length) & (df[\"ts\"] <= max_time)]\n",
    "    plt.scatter(sample[\"ts\"], sample[\"v.x\"], label=\"x\")\n",
    "    plt.scatter(sample[\"ts\"], sample[\"v.y\"], label=\"y\")\n",
    "    plt.legend()\n",
    "    plt.title(\"velocity\")\n",
    "    \n",
    "ipywidgets.interact(plot_velocity, hist_length=ipywidgets.FloatSlider(value=15, min=0, max=df[\"ts\"].max()-df[\"ts\"].min(), continuous_update=False), max_time=ipywidgets.FloatSlider(value=df[\"ts\"].max(), min=df[\"ts\"].min(), max=df[\"ts\"].max()+.1, continuous_update=False))"
   ]
  },
  {
   "cell_type": "code",
   "execution_count": 19,
   "id": "7e3172c1",
   "metadata": {
    "scrolled": true
   },
   "outputs": [
    {
     "data": {
      "application/vnd.jupyter.widget-view+json": {
       "model_id": "4b6fa94dae804ae3b08a2a1fc6dff0b3",
       "version_major": 2,
       "version_minor": 0
      },
      "text/plain": [
       "interactive(children=(FloatSlider(value=4.633333333333323, continuous_update=False, description='hist_length',…"
      ]
     },
     "metadata": {},
     "output_type": "display_data"
    },
    {
     "data": {
      "text/plain": [
       "<function __main__.plot_acceleration(hist_length, max_time)>"
      ]
     },
     "execution_count": 19,
     "metadata": {},
     "output_type": "execute_result"
    }
   ],
   "source": [
    "def plot_acceleration(hist_length, max_time):\n",
    "    sample = df[(df[\"ts\"] >= max_time - hist_length) & (df[\"ts\"] <= max_time)]\n",
    "    plt.scatter(sample[\"ts\"], (sample[\"v.x\"].shift(1) - sample[\"v.x\"]) / (sample[\"ts\"].shift(1) - sample[\"ts\"]), label=\"x\")\n",
    "    plt.scatter(sample[\"ts\"], (sample[\"v.y\"].shift(1) - sample[\"v.y\"]) / (sample[\"ts\"].shift(1) - sample[\"ts\"]), label=\"y\")\n",
    "    plt.yscale(\"symlog\")\n",
    "    plt.legend()\n",
    "    plt.title(\"acceleration\")\n",
    "    \n",
    "ipywidgets.interact(plot_acceleration, hist_length=ipywidgets.FloatSlider(value=15, min=0, max=df[\"ts\"].max()-df[\"ts\"].min(), continuous_update=False), max_time=ipywidgets.FloatSlider(value=df[\"ts\"].max(), min=df[\"ts\"].min(), max=df[\"ts\"].max()+.1, continuous_update=False))"
   ]
  },
  {
   "cell_type": "code",
   "execution_count": 20,
   "id": "7754010f",
   "metadata": {},
   "outputs": [
    {
     "data": {
      "application/vnd.jupyter.widget-view+json": {
       "model_id": "377240e38cbd459a8045237973802523",
       "version_major": 2,
       "version_minor": 0
      },
      "text/plain": [
       "interactive(children=(FloatSlider(value=4.633333333333323, continuous_update=False, description='hist_length',…"
      ]
     },
     "metadata": {},
     "output_type": "display_data"
    },
    {
     "data": {
      "text/plain": [
       "<function __main__.plot_force(hist_length, max_time)>"
      ]
     },
     "execution_count": 20,
     "metadata": {},
     "output_type": "execute_result"
    }
   ],
   "source": [
    "def plot_force(hist_length, max_time):\n",
    "    sample = df[(df[\"ts\"] >= max_time - hist_length) & (df[\"ts\"] <= max_time)]\n",
    "    plt.scatter(sample[\"ts\"], sample[\"f_mag\"])\n",
    "    plt.yscale(\"log\")\n",
    "    plt.title(\"force\")\n",
    "    print(f'min force={sample[\"f_mag\"].min()}')\n",
    "    print(f'max force={sample[\"f_mag\"].max()}')\n",
    "\n",
    "ipywidgets.interact(plot_force, hist_length=ipywidgets.FloatSlider(value=15, min=0, max=df[\"ts\"].max()-df[\"ts\"].min(), continuous_update=False), max_time=ipywidgets.FloatSlider(value=df[\"ts\"].max(), min=df[\"ts\"].min(), max=df[\"ts\"].max()+.1, continuous_update=False))"
   ]
  },
  {
   "cell_type": "markdown",
   "id": "4630e3f8",
   "metadata": {},
   "source": [
    "# Behavior Monitoring"
   ]
  },
  {
   "cell_type": "code",
   "execution_count": 21,
   "id": "cf1a4380",
   "metadata": {},
   "outputs": [
    {
     "data": {
      "text/plain": [
       "[0.9666666666666681, None, 1.166666666666667, None]"
      ]
     },
     "execution_count": 21,
     "metadata": {},
     "output_type": "execute_result"
    }
   ],
   "source": [
    "[next((df.iloc[idx][\"ts\"] if idx is not None else None for idx, v in zip(df.index, (~df[c].isna() & df[c] == True)) if v), None) for c in [\"o.ct\", \"o.cs\", \"o.cac\", \"o.cbdr\"]]"
   ]
  },
  {
   "cell_type": "code",
   "execution_count": 22,
   "id": "9e6db2b0",
   "metadata": {},
   "outputs": [
    {
     "data": {
      "application/vnd.jupyter.widget-view+json": {
       "model_id": "4b3ffa008af44ec7bbc1273c3f0721f8",
       "version_major": 2,
       "version_minor": 0
      },
      "text/plain": [
       "interactive(children=(FloatSlider(value=4.633333333333323, continuous_update=False, description='hist_length',…"
      ]
     },
     "metadata": {},
     "output_type": "display_data"
    },
    {
     "data": {
      "text/plain": [
       "<function __main__.plot_collision_info(hist_length, max_time)>"
      ]
     },
     "execution_count": 22,
     "metadata": {},
     "output_type": "execute_result"
    }
   ],
   "source": [
    "def plot_collision_info(hist_length, max_time):\n",
    "    sample = df[(df[\"ts\"] >= max_time - hist_length) & (df[\"ts\"] <= max_time)]\n",
    "    plt.scatter(sample[\"ts\"], (~(sample[\"o.ct\"].isna())).astype(int), label=\"ct\")\n",
    "    plt.scatter(sample[\"ts\"], sample[\"o.cs\"].fillna(0).astype(int)+0.05, label=\"cs\")\n",
    "    plt.scatter(sample[\"ts\"], sample[\"o.cac\"].fillna(0).astype(int)+0.1, label=\"cac\")\n",
    "    plt.scatter(sample[\"ts\"], sample[\"o.cbdr\"].fillna(0).astype(int)+0.15, label=\"cbdr\")\n",
    "    plt.scatter(sample[\"ts\"], sample[\"o.cach\"].fillna(0).astype(int)+0.1, label=\"cach\", marker=\"+\")\n",
    "    plt.scatter(sample[\"ts\"], sample[\"o.ct_dv_override\"].fillna(0).astype(int)+0.2, label=\"dv override\")\n",
    "    plt.legend()\n",
    "    plt.title(\"status flags\")\n",
    "    \n",
    "    flag_cols = [\"o.ct\", \"o.cs\", \"o.cac\", \"o.cach\", \"o.cbdr\", \"o.ct_dv_override\"]\n",
    "    first_ts = [\n",
    "        next(\n",
    "            (sample.loc[idx][\"ts\"] if idx is not None else None\n",
    "             for idx, v in zip(sample.index, (~sample[c].isna() & sample[c] == True))\n",
    "             if v),\n",
    "            None\n",
    "        )\n",
    "        for c in flag_cols\n",
    "    ]\n",
    "    for c, ts in zip(flag_cols, first_ts):\n",
    "        print(f'first {c}: {ts}')\n",
    "\n",
    "ipywidgets.interact(plot_collision_info, hist_length=ipywidgets.FloatSlider(value=15, min=0, max=df[\"ts\"].max()-df[\"ts\"].min(), continuous_update=False), max_time=ipywidgets.FloatSlider(value=df[\"ts\"].max(), min=df[\"ts\"].min(), max=df[\"ts\"].max()+.1, continuous_update=False))"
   ]
  },
  {
   "cell_type": "markdown",
   "id": "94ba2b3d",
   "metadata": {},
   "source": [
    "### Target Location"
   ]
  },
  {
   "cell_type": "code",
   "execution_count": 23,
   "id": "2640e1e5",
   "metadata": {},
   "outputs": [
    {
     "data": {
      "text/html": [
       "<div>\n",
       "<style scoped>\n",
       "    .dataframe tbody tr th:only-of-type {\n",
       "        vertical-align: middle;\n",
       "    }\n",
       "\n",
       "    .dataframe tbody tr th {\n",
       "        vertical-align: top;\n",
       "    }\n",
       "\n",
       "    .dataframe thead tr th {\n",
       "        text-align: left;\n",
       "    }\n",
       "\n",
       "    .dataframe thead tr:last-of-type th {\n",
       "        text-align: right;\n",
       "    }\n",
       "</style>\n",
       "<table border=\"1\" class=\"dataframe\">\n",
       "  <thead>\n",
       "    <tr>\n",
       "      <th></th>\n",
       "      <th></th>\n",
       "      <th colspan=\"3\" halign=\"left\">ts</th>\n",
       "      <th colspan=\"2\" halign=\"left\">o.t_dist</th>\n",
       "    </tr>\n",
       "    <tr>\n",
       "      <th></th>\n",
       "      <th></th>\n",
       "      <th>count</th>\n",
       "      <th>min</th>\n",
       "      <th>max</th>\n",
       "      <th>min</th>\n",
       "      <th>max</th>\n",
       "    </tr>\n",
       "    <tr>\n",
       "      <th>o.t_loc.x</th>\n",
       "      <th>o.t_loc.y</th>\n",
       "      <th></th>\n",
       "      <th></th>\n",
       "      <th></th>\n",
       "      <th></th>\n",
       "      <th></th>\n",
       "    </tr>\n",
       "  </thead>\n",
       "  <tbody>\n",
       "    <tr>\n",
       "      <th>-125530.229042</th>\n",
       "      <th>87833.062794</th>\n",
       "      <td>279</td>\n",
       "      <td>0.016667</td>\n",
       "      <td>4.65</td>\n",
       "      <td>163803.371376</td>\n",
       "      <td>175762.58725</td>\n",
       "    </tr>\n",
       "  </tbody>\n",
       "</table>\n",
       "</div>"
      ],
      "text/plain": [
       "                               ts                       o.t_dist              \n",
       "                            count       min   max            min           max\n",
       "o.t_loc.x      o.t_loc.y                                                      \n",
       "-125530.229042 87833.062794   279  0.016667  4.65  163803.371376  175762.58725"
      ]
     },
     "execution_count": 23,
     "metadata": {},
     "output_type": "execute_result"
    }
   ],
   "source": [
    "if np.any(~df[\"o.t_loc\"].isna()):\n",
    "    x = df.groupby([\"o.t_loc.x\", \"o.t_loc.y\"]).agg({\"ts\": [\"count\", \"min\", \"max\"], \"o.t_dist\": [\"min\",\"max\"]})\n",
    "else:\n",
    "    x = \"no location target\"\n",
    "x"
   ]
  },
  {
   "cell_type": "code",
   "execution_count": 24,
   "id": "74d23fb4",
   "metadata": {},
   "outputs": [
    {
     "data": {
      "application/vnd.jupyter.widget-view+json": {
       "model_id": "f80e0727e7264e6a8cde203e9537b645",
       "version_major": 2,
       "version_minor": 0
      },
      "text/plain": [
       "interactive(children=(FloatSlider(value=4.633333333333323, continuous_update=False, description='hist_length',…"
      ]
     },
     "metadata": {},
     "output_type": "display_data"
    },
    {
     "data": {
      "text/plain": [
       "<function __main__.plot_target_distance(hist_length, max_time)>"
      ]
     },
     "execution_count": 24,
     "metadata": {},
     "output_type": "execute_result"
    }
   ],
   "source": [
    "#sample = df[(df[\"ts\"] < 124.4) & (df[\"ts\"] > 120)]\n",
    "def plot_target_distance(hist_length, max_time):\n",
    "    sample = df[(df[\"ts\"] >= max_time - hist_length) & (df[\"ts\"] <= max_time)]\n",
    "    plt.scatter(sample[\"ts\"], sample[\"o.t_dist\"])\n",
    "    plt.scatter(sample[\"ts\"], sample[\"o.ad\"], color=\"green\", marker=\"_\")\n",
    "    plt.scatter(sample[\"ts\"], sample[\"o.md\"], color=\"red\", marker=\"_\")\n",
    "    #plt.ylim(0,1500)\n",
    "    plt.title(\"distance to target\")\n",
    "    print(f'when first arrived {sample[sample[\"o.t_dist\"] < sample[\"o.ad\"]][\"ts\"].min()}')\n",
    "\n",
    "ipywidgets.interact(\n",
    "    plot_target_distance,\n",
    "    hist_length=ipywidgets.FloatSlider(value=15, min=0, max=df[\"ts\"].max()-df[\"ts\"].min(), continuous_update=False),\n",
    "    max_time=ipywidgets.FloatSlider(value=df[\"ts\"].max(), min=df[\"ts\"].min(), max=df[\"ts\"].max()+.1, continuous_update=False))"
   ]
  },
  {
   "cell_type": "code",
   "execution_count": 25,
   "id": "0eac78ba",
   "metadata": {},
   "outputs": [
    {
     "data": {
      "text/plain": [
       "nan"
      ]
     },
     "execution_count": 25,
     "metadata": {},
     "output_type": "execute_result"
    }
   ],
   "source": [
    "df[df[\"o.t_dist\"] < df[\"o.ad\"]][\"ts\"].min()"
   ]
  },
  {
   "cell_type": "code",
   "execution_count": 26,
   "id": "4d0bf8d0",
   "metadata": {},
   "outputs": [
    {
     "data": {
      "application/vnd.jupyter.widget-view+json": {
       "model_id": "4890e9fda41a41109e14ee6a4d9ea648",
       "version_major": 2,
       "version_minor": 0
      },
      "text/plain": [
       "interactive(children=(FloatSlider(value=4.633333333333323, continuous_update=False, description='hist_length',…"
      ]
     },
     "metadata": {},
     "output_type": "display_data"
    },
    {
     "data": {
      "text/plain": [
       "<function __main__.plot_desired_speed(hist_length, max_time)>"
      ]
     },
     "execution_count": 26,
     "metadata": {},
     "output_type": "execute_result"
    }
   ],
   "source": [
    "def plot_desired_speed(hist_length, max_time):\n",
    "    sample = df[(df[\"ts\"] >= max_time - hist_length) & (df[\"ts\"] <= max_time)]\n",
    "    plt.scatter(sample[\"ts\"], sample[\"speed\"], label=\"actual speed\")\n",
    "    plt.scatter(sample[\"ts\"], sample[\"o.t_speed\"], label=\"desired speed\")\n",
    "    plt.legend()\n",
    "    plt.title(\"speed and desired speed to target\")\n",
    "    plt.ylim(0)\n",
    "\n",
    "ipywidgets.interact(\n",
    "    plot_desired_speed,\n",
    "    hist_length=ipywidgets.FloatSlider(value=15, min=0, max=df[\"ts\"].max()-df[\"ts\"].min(), continuous_update=False),\n",
    "    max_time=ipywidgets.FloatSlider(value=df[\"ts\"].max(), min=df[\"ts\"].min(), max=df[\"ts\"].max()+.1, continuous_update=False))"
   ]
  },
  {
   "cell_type": "code",
   "execution_count": 27,
   "id": "d7341dc2",
   "metadata": {
    "scrolled": true
   },
   "outputs": [
    {
     "data": {
      "text/plain": [
       "Text(0.5, 1.0, 'desired speed delta')"
      ]
     },
     "execution_count": 27,
     "metadata": {},
     "output_type": "execute_result"
    },
    {
     "data": {
      "image/png": "[encoded data removed]",
      "text/plain": [
       "<Figure size 432x288 with 1 Axes>"
      ]
     },
     "metadata": {
      "needs_background": "light"
     },
     "output_type": "display_data"
    }
   ],
   "source": [
    "plt.scatter(df[\"ts\"], df[\"o.t_speed\"] - df[\"speed\"])\n",
    "plt.scatter(df[\"ts\"], np.linalg.norm(np.array((df[\"o.t_v.x\"] - df[\"v.x\"], df[\"o.t_v.y\"] - df[\"v.y\"])), axis=0))\n",
    "plt.title(\"desired speed delta\")"
   ]
  },
  {
   "cell_type": "markdown",
   "id": "5ac378ec",
   "metadata": {},
   "source": [
    "## Collision Avoidance"
   ]
  },
  {
   "cell_type": "markdown",
   "id": "6936a767",
   "metadata": {},
   "source": [
    "### Collision Threats"
   ]
  },
  {
   "cell_type": "code",
   "execution_count": 28,
   "id": "f38ca4d8",
   "metadata": {},
   "outputs": [
    {
     "data": {
      "application/vnd.jupyter.widget-view+json": {
       "model_id": "cf1d36f574af4cb78b4580b4368ae22c",
       "version_major": 2,
       "version_minor": 0
      },
      "text/plain": [
       "interactive(children=(FloatSlider(value=4.633333333333323, continuous_update=False, description='hist_length',…"
      ]
     },
     "metadata": {},
     "output_type": "display_data"
    },
    {
     "data": {
      "text/plain": [
       "<function __main__.show_collision_threats(hist_length, max_time)>"
      ]
     },
     "execution_count": 28,
     "metadata": {},
     "output_type": "execute_result"
    }
   ],
   "source": [
    "def show_collision_threats(hist_length, max_time):\n",
    "    sample = df[(df[\"ts\"] >= max_time-hist_length) & (df[\"ts\"] <= max_time)]\n",
    "    if np.any(~sample[\"o.ct\"].isna()):\n",
    "        x = sample.groupby(\"o.ct\").agg({\"ts\": [\"count\", \"min\", \"max\"], \"o.ct_dist\": [\"min\",\"max\"]})\n",
    "    else:\n",
    "        x = \"no collision threats\"\n",
    "    return x\n",
    "ipywidgets.interact(\n",
    "    show_collision_threats,\n",
    "    hist_length=ipywidgets.FloatSlider(value=15, min=0, max=df[\"ts\"].max()-df[\"ts\"].min(), continuous_update=False),\n",
    "    max_time=ipywidgets.FloatSlider(value=df[\"ts\"].max(), min=df[\"ts\"].min(), max=df[\"ts\"].max()+.1, continuous_update=False)\n",
    ")"
   ]
  },
  {
   "cell_type": "code",
   "execution_count": 29,
   "id": "890424d5",
   "metadata": {},
   "outputs": [
    {
     "data": {
      "application/vnd.jupyter.widget-view+json": {
       "model_id": "c93174115580452da3114589f50cd95d",
       "version_major": 2,
       "version_minor": 0
      },
      "text/plain": [
       "interactive(children=(FloatSlider(value=4.633333333333323, continuous_update=False, description='hist_length',…"
      ]
     },
     "metadata": {},
     "output_type": "display_data"
    },
    {
     "data": {
      "text/plain": [
       "<function __main__.plot_collision_distance(hist_length, max_time)>"
      ]
     },
     "execution_count": 29,
     "metadata": {},
     "output_type": "execute_result"
    }
   ],
   "source": [
    "def plot_collision_distance(hist_length, max_time):\n",
    "    sample = df[(df[\"ts\"] >= max_time-hist_length) & (df[\"ts\"] <= max_time)]\n",
    "    plt.scatter(sample[\"ts\"], sample[\"o.ct_dist\"])\n",
    "    plt.scatter(sample[\"ts\"], sample[\"o.ct_cradius\"]+sample[\"o.scm\"]*2, color=\"green\", marker=\"_\")\n",
    "    plt.scatter(sample[\"ts\"], sample[\"o.ct_cradius\"]+sample[\"o.scm\"], color=\"orange\", marker=\"_\")\n",
    "    plt.scatter(sample[\"ts\"], sample[\"o.ct_cradius\"], color=\"red\", marker=\"_\")\n",
    "    plt.hlines(60, sample[\"ts\"].min(), sample[\"ts\"].max(), color=\"red\")\n",
    "    plt.ylim(0)\n",
    "    plt.title(\"distance to collision threat\")\n",
    "    print(f'max ct dist: {sample[\"o.ct_dist\"].max()}')\n",
    "    print(f'min ct dist: {sample[\"o.ct_dist\"].min()}')\n",
    "\n",
    "ipywidgets.interact(\n",
    "    plot_collision_distance,\n",
    "    hist_length=ipywidgets.FloatSlider(value=15, min=0, max=df[\"ts\"].max()-df[\"ts\"].min(), continuous_update=False),\n",
    "    max_time=ipywidgets.FloatSlider(value=df[\"ts\"].max(), min=df[\"ts\"].min(), max=df[\"ts\"].max()+.1, continuous_update=False)\n",
    ")"
   ]
  },
  {
   "cell_type": "code",
   "execution_count": 50,
   "id": "32839fb3",
   "metadata": {},
   "outputs": [
    {
     "data": {
      "application/vnd.jupyter.widget-view+json": {
       "model_id": "ccbd47d0ca2346bab44a09a82997e580",
       "version_major": 2,
       "version_minor": 0
      },
      "text/plain": [
       "interactive(children=(FloatSlider(value=4.633333333333323, continuous_update=False, description='hist_length',…"
      ]
     },
     "metadata": {},
     "output_type": "display_data"
    },
    {
     "data": {
      "text/plain": [
       "<function __main__.plot_minimum_separation(hist_length, max_time)>"
      ]
     },
     "execution_count": 50,
     "metadata": {},
     "output_type": "execute_result"
    }
   ],
   "source": [
    "def plot_minimum_separation(hist_length, max_time):\n",
    "    sample = df[(df[\"ts\"] >= max_time-hist_length) & (df[\"ts\"] <= max_time)]\n",
    "    plt.scatter(sample[\"ts\"], sample[\"o.ct_ms\"])\n",
    "    #plt.scatter(sample[\"ts\"], sample[\"o.ct_cradius\"]+30, color=\"red\", marker=\"_\")\n",
    "    plt.ylim(0)\n",
    "    plt.title(\"distance to collision threat\")\n",
    "    print(f'max min sep: {sample[\"o.ct_ms\"].max()}')\n",
    "    print(f'min min sep: {sample[\"o.ct_ms\"].min()}')\n",
    "\n",
    "ipywidgets.interact(\n",
    "    plot_minimum_separation,\n",
    "    hist_length=ipywidgets.FloatSlider(value=15, min=0, max=df[\"ts\"].max()-df[\"ts\"].min(), continuous_update=False),\n",
    "    max_time=ipywidgets.FloatSlider(value=df[\"ts\"].max(), min=df[\"ts\"].min(), max=df[\"ts\"].max()+.1, continuous_update=False)\n",
    ")"
   ]
  },
  {
   "cell_type": "code",
   "execution_count": 30,
   "id": "12faf352",
   "metadata": {},
   "outputs": [
    {
     "data": {
      "text/plain": [
       "Text(0.5, 1.0, 'Collision Threat and Time Since Detection')"
      ]
     },
     "execution_count": 30,
     "metadata": {},
     "output_type": "execute_result"
    },
    {
     "data": {
      "image/png": "[encoded data removed]",
      "text/plain": [
       "<Figure size 432x288 with 2 Axes>"
      ]
     },
     "metadata": {
      "needs_background": "light"
     },
     "output_type": "display_data"
    }
   ],
   "source": [
    "fig, ax1 = plt.subplots()\n",
    "ax2 = ax1.twinx()\n",
    "\n",
    "ax1.scatter(df[\"ts\"], 1-df[\"o.ct\"].isna().astype(int))\n",
    "ax2.scatter(df[\"ts\"], df[\"ts\"] - df[\"o.ct_ts\"], color=\"orange\")\n",
    "plt.title(\"Collision Threat and Time Since Detection\")\n",
    "\n",
    "#ax2.set_ylim(0,(df[\"ts\"] - df[\"o.ct_ts\"]).max()*1.2)"
   ]
  },
  {
   "cell_type": "markdown",
   "id": "bf3e29b6",
   "metadata": {},
   "source": [
    "## CBDR Detection"
   ]
  },
  {
   "cell_type": "code",
   "execution_count": 31,
   "id": "afcea585",
   "metadata": {},
   "outputs": [
    {
     "data": {
      "application/vnd.jupyter.widget-view+json": {
       "model_id": "a95a726566f7406ebc439b50a263a537",
       "version_major": 2,
       "version_minor": 0
      },
      "text/plain": [
       "interactive(children=(FloatSlider(value=4.633333333333323, continuous_update=False, description='hist_length',…"
      ]
     },
     "metadata": {},
     "output_type": "display_data"
    },
    {
     "data": {
      "text/plain": [
       "<function __main__.plot_cbdr_detection_data(hist_length, max_time)>"
      ]
     },
     "execution_count": 31,
     "metadata": {},
     "output_type": "execute_result"
    }
   ],
   "source": [
    "def plot_cbdr_detection_data(hist_length, max_time):\n",
    "    sample = df[(df[\"ts\"] >= max_time - hist_length) & (df[\"ts\"] <= max_time)]\n",
    "    fig, ax1 = plt.subplots()\n",
    "    ax2 = ax1.twinx()\n",
    "\n",
    "    bearing = sample[\"o.cbdr_hist\"].apply(lambda x: np.nan if isinstance(x, float) or len(x) < 2 else abs(util.cartesian_to_polar(x[0][0], x[0][1])[1] - util.cartesian_to_polar(x[-1][0], x[-1][1])[1]))\n",
    "    threat_range = sample[\"o.cbdr_hist\"].apply(lambda x: np.nan if isinstance(x, float) or len(x) < 2 else util.cartesian_to_polar(x[0][0], x[0][1])[0] - util.cartesian_to_polar(x[-1][0], x[-1][1])[0])\n",
    "    ax1.scatter(sample[\"ts\"], bearing, label=\"delta bearing\")\n",
    "    ax1.hlines(2e-3, sample[\"ts\"].min(), sample[\"ts\"].max(), color=\"green\", label=\"max delta bearing\")\n",
    "    ax2.scatter(sample[\"ts\"], threat_range, color=\"orange\", label=\"delta range\")\n",
    "    ax2.hlines(5, sample[\"ts\"].min(), sample[\"ts\"].max(), color=\"red\", label=\"min delta range\")\n",
    "    fig.legend()\n",
    "    \n",
    "ipywidgets.interact(\n",
    "    plot_cbdr_detection_data,\n",
    "    hist_length=ipywidgets.FloatSlider(value=15, min=0, max=df[\"ts\"].max()-df[\"ts\"].min(), continuous_update=False),\n",
    "    max_time=ipywidgets.FloatSlider(value=df[\"ts\"].max(), min=df[\"ts\"].min(), max=df[\"ts\"].max()+.1, continuous_update=False))"
   ]
  },
  {
   "cell_type": "code",
   "execution_count": 32,
   "id": "9c947c36",
   "metadata": {},
   "outputs": [
    {
     "data": {
      "application/vnd.jupyter.widget-view+json": {
       "model_id": "b164463eef0c47a1917702dc792093eb",
       "version_major": 2,
       "version_minor": 0
      },
      "text/plain": [
       "interactive(children=(FloatSlider(value=4.633333333333323, continuous_update=False, description='hist_length',…"
      ]
     },
     "metadata": {},
     "output_type": "display_data"
    },
    {
     "data": {
      "text/plain": [
       "<function __main__.plot_num_coalesced_threats(hist_length, max_time)>"
      ]
     },
     "execution_count": 32,
     "metadata": {},
     "output_type": "execute_result"
    }
   ],
   "source": [
    "def plot_num_coalesced_threats(hist_length, max_time):\n",
    "    sample = df[(df[\"ts\"] >= max_time-hist_length) & (df[\"ts\"] <= max_time)]\n",
    "    plt.scatter(sample[\"ts\"], sample[\"o.ct_ct\"])\n",
    "    plt.title(\"number of coalesced threats\")\n",
    "    plt.show()\n",
    "\n",
    "ipywidgets.interact(\n",
    "    plot_num_coalesced_threats,\n",
    "    hist_length=ipywidgets.FloatSlider(value=15, min=0, max=df[\"ts\"].max()-df[\"ts\"].min(), continuous_update=False),\n",
    "    max_time=ipywidgets.FloatSlider(value=df[\"ts\"].max(), min=df[\"ts\"].min(), max=df[\"ts\"].max()+.1, continuous_update=False)\n",
    ")  "
   ]
  },
  {
   "cell_type": "code",
   "execution_count": 33,
   "id": "91227c9a",
   "metadata": {},
   "outputs": [
    {
     "data": {
      "application/vnd.jupyter.widget-view+json": {
       "model_id": "4eb6004d42214ef3abea6f89af73750e",
       "version_major": 2,
       "version_minor": 0
      },
      "text/plain": [
       "interactive(children=(FloatSlider(value=4.633333333333323, continuous_update=False, description='hist_length',…"
      ]
     },
     "metadata": {},
     "output_type": "display_data"
    },
    {
     "data": {
      "text/plain": [
       "<function __main__.plot_collision_threat_radius(hist_length, max_time)>"
      ]
     },
     "execution_count": 33,
     "metadata": {},
     "output_type": "execute_result"
    }
   ],
   "source": [
    "def plot_collision_threat_radius(hist_length, max_time):\n",
    "    sample = df[(df[\"ts\"] >= max_time - hist_length) & (df[\"ts\"] <= max_time)]\n",
    "    plt.scatter(sample[\"ts\"], sample[\"o.ct_cradius\"], label=\"threat radius\")\n",
    "    plt.scatter(sample[\"ts\"], sample[\"o.scm\"], label=\"desired margin\")\n",
    "    plt.title(\"collision threat radius\")\n",
    "    plt.legend()\n",
    "    print(f'min coalesced radius: {sample[\"o.ct_cradius\"].min()}')\n",
    "    print(f'min scaled margin: {sample[\"o.scm\"].min()}')\n",
    "    plt.show()\n",
    "\n",
    "ipywidgets.interact(\n",
    "    plot_collision_threat_radius,\n",
    "    hist_length=ipywidgets.FloatSlider(value=15, min=0, max=df[\"ts\"].max()-df[\"ts\"].min(), continuous_update=False),\n",
    "    max_time=ipywidgets.FloatSlider(value=df[\"ts\"].max(), min=df[\"ts\"].min(), max=df[\"ts\"].max()+.1, continuous_update=False))"
   ]
  },
  {
   "cell_type": "code",
   "execution_count": 34,
   "id": "10290387",
   "metadata": {},
   "outputs": [
    {
     "data": {
      "application/vnd.jupyter.widget-view+json": {
       "model_id": "164c835637da44e1bd13ddcf7783b015",
       "version_major": 2,
       "version_minor": 0
      },
      "text/plain": [
       "interactive(children=(FloatSlider(value=4.633333333333323, continuous_update=False, description='hist_length',…"
      ]
     },
     "metadata": {},
     "output_type": "display_data"
    },
    {
     "data": {
      "text/plain": [
       "<function __main__.plot_collision_threat_loc(hist_length, max_time)>"
      ]
     },
     "execution_count": 34,
     "metadata": {},
     "output_type": "execute_result"
    }
   ],
   "source": [
    "def plot_collision_threat_loc(hist_length, max_time):\n",
    "    sample = df[(df[\"ts\"] >= max_time - hist_length) & (df[\"ts\"] <= max_time)]\n",
    "    fig, ax1 = plt.subplots()\n",
    "    ax2 = ax1.twinx()\n",
    "    ax1.scatter(sample[\"ts\"], sample[\"o.ct_cloc.x\"])\n",
    "    ax2.scatter(sample[\"ts\"], sample[\"o.ct_cloc.y\"], color=\"orange\")\n",
    "    plt.title(\"collision threat coalesced location\")\n",
    "    plt.show()\n",
    "\n",
    "ipywidgets.interact(\n",
    "    plot_collision_threat_loc,\n",
    "    hist_length=ipywidgets.FloatSlider(value=15, min=0, max=df[\"ts\"].max()-df[\"ts\"].min(), continuous_update=False),\n",
    "    max_time=ipywidgets.FloatSlider(value=df[\"ts\"].max(), min=df[\"ts\"].min(), max=df[\"ts\"].max()+.1, continuous_update=False))"
   ]
  },
  {
   "cell_type": "code",
   "execution_count": 35,
   "id": "301f9f5c",
   "metadata": {},
   "outputs": [
    {
     "data": {
      "text/html": [
       "<div>\n",
       "<style scoped>\n",
       "    .dataframe tbody tr th:only-of-type {\n",
       "        vertical-align: middle;\n",
       "    }\n",
       "\n",
       "    .dataframe tbody tr th {\n",
       "        vertical-align: top;\n",
       "    }\n",
       "\n",
       "    .dataframe thead th {\n",
       "        text-align: right;\n",
       "    }\n",
       "</style>\n",
       "<table border=\"1\" class=\"dataframe\">\n",
       "  <thead>\n",
       "    <tr style=\"text-align: right;\">\n",
       "      <th></th>\n",
       "      <th>index</th>\n",
       "      <th>p</th>\n",
       "      <th>eid</th>\n",
       "      <th>ts</th>\n",
       "      <th>loc</th>\n",
       "      <th>r</th>\n",
       "      <th>a</th>\n",
       "      <th>v</th>\n",
       "      <th>av</th>\n",
       "      <th>f</th>\n",
       "      <th>...</th>\n",
       "      <th>o.t_v.y</th>\n",
       "      <th>angle.x</th>\n",
       "      <th>angle.y</th>\n",
       "      <th>_ada.x</th>\n",
       "      <th>_ada.y</th>\n",
       "      <th>o.ct_dist</th>\n",
       "      <th>o.t_dist</th>\n",
       "      <th>speed</th>\n",
       "      <th>o.t_speed</th>\n",
       "      <th>f_mag</th>\n",
       "    </tr>\n",
       "  </thead>\n",
       "  <tbody>\n",
       "    <tr>\n",
       "      <th>69</th>\n",
       "      <td>4611</td>\n",
       "      <td>SHP</td>\n",
       "      <td>e803f4ff-970f-42cf-a552-4658b1f64fe9</td>\n",
       "      <td>1.166667</td>\n",
       "      <td>[-64380.009424917844, -73719.29303220614]</td>\n",
       "      <td>30</td>\n",
       "      <td>-39.587215</td>\n",
       "      <td>[-915.4518821093629, 2440.4224256519938]</td>\n",
       "      <td>0.507903</td>\n",
       "      <td>[-11385.923056293976, -9765.283209213814]</td>\n",
       "      <td>...</td>\n",
       "      <td>2431.633148</td>\n",
       "      <td>-31.200936</td>\n",
       "      <td>-95.007903</td>\n",
       "      <td>-75.906154</td>\n",
       "      <td>-65.101888</td>\n",
       "      <td>10967.386298</td>\n",
       "      <td>172738.279002</td>\n",
       "      <td>2606.475353</td>\n",
       "      <td>2600.0</td>\n",
       "      <td>15000.0</td>\n",
       "    </tr>\n",
       "    <tr>\n",
       "      <th>135</th>\n",
       "      <td>4677</td>\n",
       "      <td>SHP</td>\n",
       "      <td>e803f4ff-970f-42cf-a552-4658b1f64fe9</td>\n",
       "      <td>2.266667</td>\n",
       "      <td>[-65390.65421575377, -71041.44976342315]</td>\n",
       "      <td>30</td>\n",
       "      <td>-40.078522</td>\n",
       "      <td>[-918.9878971127365, 2432.0947046489405]</td>\n",
       "      <td>-0.142097</td>\n",
       "      <td>[-133282.4320589461, -149116.71034613263]</td>\n",
       "      <td>...</td>\n",
       "      <td>2431.618134</td>\n",
       "      <td>-72.333092</td>\n",
       "      <td>-69.050154</td>\n",
       "      <td>-66.641216</td>\n",
       "      <td>-74.558355</td>\n",
       "      <td>8109.200063</td>\n",
       "      <td>169876.070124</td>\n",
       "      <td>2599.927577</td>\n",
       "      <td>2600.0</td>\n",
       "      <td>200000.0</td>\n",
       "    </tr>\n",
       "    <tr>\n",
       "      <th>136</th>\n",
       "      <td>4678</td>\n",
       "      <td>SHP</td>\n",
       "      <td>e803f4ff-970f-42cf-a552-4658b1f64fe9</td>\n",
       "      <td>2.283333</td>\n",
       "      <td>[-65405.97068070565, -71000.914851679]</td>\n",
       "      <td>30</td>\n",
       "      <td>-40.080891</td>\n",
       "      <td>[-920.0985840465611, 2430.852065396056]</td>\n",
       "      <td>-0.092097</td>\n",
       "      <td>[-133282.4320589461, -149116.7103461326]</td>\n",
       "      <td>...</td>\n",
       "      <td>2431.617995</td>\n",
       "      <td>-72.496420</td>\n",
       "      <td>-68.878655</td>\n",
       "      <td>-66.641216</td>\n",
       "      <td>-74.558355</td>\n",
       "      <td>6111.327712</td>\n",
       "      <td>169832.738006</td>\n",
       "      <td>2599.158165</td>\n",
       "      <td>2600.0</td>\n",
       "      <td>200000.0</td>\n",
       "    </tr>\n",
       "  </tbody>\n",
       "</table>\n",
       "<p>3 rows × 66 columns</p>\n",
       "</div>"
      ],
      "text/plain": [
       "     index    p                                   eid        ts  \\\n",
       "69    4611  SHP  e803f4ff-970f-42cf-a552-4658b1f64fe9  1.166667   \n",
       "135   4677  SHP  e803f4ff-970f-42cf-a552-4658b1f64fe9  2.266667   \n",
       "136   4678  SHP  e803f4ff-970f-42cf-a552-4658b1f64fe9  2.283333   \n",
       "\n",
       "                                           loc   r          a  \\\n",
       "69   [-64380.009424917844, -73719.29303220614]  30 -39.587215   \n",
       "135   [-65390.65421575377, -71041.44976342315]  30 -40.078522   \n",
       "136     [-65405.97068070565, -71000.914851679]  30 -40.080891   \n",
       "\n",
       "                                            v        av  \\\n",
       "69   [-915.4518821093629, 2440.4224256519938]  0.507903   \n",
       "135  [-918.9878971127365, 2432.0947046489405] -0.142097   \n",
       "136   [-920.0985840465611, 2430.852065396056] -0.092097   \n",
       "\n",
       "                                             f  ...      o.t_v.y    angle.x  \\\n",
       "69   [-11385.923056293976, -9765.283209213814]  ...  2431.633148 -31.200936   \n",
       "135  [-133282.4320589461, -149116.71034613263]  ...  2431.618134 -72.333092   \n",
       "136   [-133282.4320589461, -149116.7103461326]  ...  2431.617995 -72.496420   \n",
       "\n",
       "       angle.y     _ada.x     _ada.y     o.ct_dist       o.t_dist  \\\n",
       "69  -95.007903 -75.906154 -65.101888  10967.386298  172738.279002   \n",
       "135 -69.050154 -66.641216 -74.558355   8109.200063  169876.070124   \n",
       "136 -68.878655 -66.641216 -74.558355   6111.327712  169832.738006   \n",
       "\n",
       "           speed  o.t_speed     f_mag  \n",
       "69   2606.475353     2600.0   15000.0  \n",
       "135  2599.927577     2600.0  200000.0  \n",
       "136  2599.158165     2600.0  200000.0  \n",
       "\n",
       "[3 rows x 66 columns]"
      ]
     },
     "execution_count": 35,
     "metadata": {},
     "output_type": "execute_result"
    }
   ],
   "source": [
    "df[(df[\"o.ct_cloc.x\"]-df[\"o.ct_cloc.x\"].shift(1)).abs() > 30]"
   ]
  },
  {
   "cell_type": "code",
   "execution_count": 36,
   "id": "df8bd034",
   "metadata": {},
   "outputs": [
    {
     "data": {
      "text/plain": [
       "69     50.878986\n",
       "135    50.878986\n",
       "136    50.878986\n",
       "Name: o.ct_cloc.x, dtype: float64"
      ]
     },
     "execution_count": 36,
     "metadata": {},
     "output_type": "execute_result"
    }
   ],
   "source": [
    "ctxloc_diff_s = (df[\"o.ct_cloc.x\"]-df[\"o.ct_cloc.x\"].shift(1)).abs()\n",
    "ctxloc_diff_s[ctxloc_diff_s > 30]"
   ]
  },
  {
   "cell_type": "code",
   "execution_count": 37,
   "id": "5e817d73",
   "metadata": {},
   "outputs": [
    {
     "data": {
      "application/vnd.jupyter.widget-view+json": {
       "model_id": "b63e365f082449bdb1ca6f43e8f4a30e",
       "version_major": 2,
       "version_minor": 0
      },
      "text/plain": [
       "interactive(children=(FloatSlider(value=4.633333333333323, continuous_update=False, description='hist_length',…"
      ]
     },
     "metadata": {},
     "output_type": "display_data"
    },
    {
     "data": {
      "text/plain": [
       "<function __main__.plot_collision_dv(hist_length, max_time)>"
      ]
     },
     "execution_count": 37,
     "metadata": {},
     "output_type": "execute_result"
    }
   ],
   "source": [
    "def plot_collision_dv(hist_length, max_time):\n",
    "    sample = df[(df[\"ts\"] >= max_time - hist_length) & (df[\"ts\"] <= max_time)]\n",
    "    plt.scatter(sample[\"ts\"], sample[\"o.ct_dv.x\"])\n",
    "    plt.scatter(sample[\"ts\"], sample[\"o.ct_dv.y\"])\n",
    "    plt.title(\"collision avoidance velocity\")\n",
    "\n",
    "ipywidgets.interact(\n",
    "    plot_collision_dv,\n",
    "    hist_length=ipywidgets.FloatSlider(value=15, min=0, max=df[\"ts\"].max()-df[\"ts\"].min(), continuous_update=False),\n",
    "    max_time=ipywidgets.FloatSlider(value=df[\"ts\"].max(), min=df[\"ts\"].min(), max=df[\"ts\"].max()+.1, continuous_update=False))"
   ]
  },
  {
   "cell_type": "code",
   "execution_count": 38,
   "id": "72851b49",
   "metadata": {},
   "outputs": [
    {
     "data": {
      "text/html": [
       "<div>\n",
       "<style scoped>\n",
       "    .dataframe tbody tr th:only-of-type {\n",
       "        vertical-align: middle;\n",
       "    }\n",
       "\n",
       "    .dataframe tbody tr th {\n",
       "        vertical-align: top;\n",
       "    }\n",
       "\n",
       "    .dataframe thead th {\n",
       "        text-align: right;\n",
       "    }\n",
       "</style>\n",
       "<table border=\"1\" class=\"dataframe\">\n",
       "  <thead>\n",
       "    <tr style=\"text-align: right;\">\n",
       "      <th></th>\n",
       "      <th>index</th>\n",
       "      <th>p</th>\n",
       "      <th>eid</th>\n",
       "      <th>ts</th>\n",
       "      <th>loc</th>\n",
       "      <th>r</th>\n",
       "      <th>a</th>\n",
       "      <th>v</th>\n",
       "      <th>av</th>\n",
       "      <th>f</th>\n",
       "      <th>...</th>\n",
       "      <th>o.t_v.y</th>\n",
       "      <th>angle.x</th>\n",
       "      <th>angle.y</th>\n",
       "      <th>_ada.x</th>\n",
       "      <th>_ada.y</th>\n",
       "      <th>o.ct_dist</th>\n",
       "      <th>o.t_dist</th>\n",
       "      <th>speed</th>\n",
       "      <th>o.t_speed</th>\n",
       "      <th>f_mag</th>\n",
       "    </tr>\n",
       "  </thead>\n",
       "  <tbody>\n",
       "    <tr>\n",
       "      <th>69</th>\n",
       "      <td>4611</td>\n",
       "      <td>SHP</td>\n",
       "      <td>e803f4ff-970f-42cf-a552-4658b1f64fe9</td>\n",
       "      <td>1.166667</td>\n",
       "      <td>[-64380.009424917844, -73719.29303220614]</td>\n",
       "      <td>30</td>\n",
       "      <td>-39.587215</td>\n",
       "      <td>[-915.4518821093629, 2440.4224256519938]</td>\n",
       "      <td>5.079028e-01</td>\n",
       "      <td>[-11385.923056293976, -9765.283209213814]</td>\n",
       "      <td>...</td>\n",
       "      <td>2431.633148</td>\n",
       "      <td>-31.200936</td>\n",
       "      <td>-95.007903</td>\n",
       "      <td>-75.906154</td>\n",
       "      <td>-65.101888</td>\n",
       "      <td>10967.386298</td>\n",
       "      <td>172738.279002</td>\n",
       "      <td>2606.475353</td>\n",
       "      <td>2600.000000</td>\n",
       "      <td>15000.0</td>\n",
       "    </tr>\n",
       "    <tr>\n",
       "      <th>135</th>\n",
       "      <td>4677</td>\n",
       "      <td>SHP</td>\n",
       "      <td>e803f4ff-970f-42cf-a552-4658b1f64fe9</td>\n",
       "      <td>2.266667</td>\n",
       "      <td>[-65390.65421575377, -71041.44976342315]</td>\n",
       "      <td>30</td>\n",
       "      <td>-40.078522</td>\n",
       "      <td>[-918.9878971127365, 2432.0947046489405]</td>\n",
       "      <td>-1.420972e-01</td>\n",
       "      <td>[-133282.4320589461, -149116.71034613263]</td>\n",
       "      <td>...</td>\n",
       "      <td>2431.618134</td>\n",
       "      <td>-72.333092</td>\n",
       "      <td>-69.050154</td>\n",
       "      <td>-66.641216</td>\n",
       "      <td>-74.558355</td>\n",
       "      <td>8109.200063</td>\n",
       "      <td>169876.070124</td>\n",
       "      <td>2599.927577</td>\n",
       "      <td>2600.000000</td>\n",
       "      <td>200000.0</td>\n",
       "    </tr>\n",
       "    <tr>\n",
       "      <th>203</th>\n",
       "      <td>4745</td>\n",
       "      <td>SHP</td>\n",
       "      <td>e803f4ff-970f-42cf-a552-4658b1f64fe9</td>\n",
       "      <td>3.400000</td>\n",
       "      <td>[-66474.34291306911, -68332.2546351223]</td>\n",
       "      <td>30</td>\n",
       "      <td>-39.997585</td>\n",
       "      <td>[-994.514608612808, 2347.5952354527876]</td>\n",
       "      <td>4.336809e-19</td>\n",
       "      <td>[-128512.47738963248, -153246.67420593248]</td>\n",
       "      <td>...</td>\n",
       "      <td>1653.420519</td>\n",
       "      <td>-66.513688</td>\n",
       "      <td>-74.672145</td>\n",
       "      <td>-64.256239</td>\n",
       "      <td>-76.623337</td>\n",
       "      <td>3236.990096</td>\n",
       "      <td>166958.689664</td>\n",
       "      <td>2549.561275</td>\n",
       "      <td>1767.696745</td>\n",
       "      <td>200000.0</td>\n",
       "    </tr>\n",
       "    <tr>\n",
       "      <th>276</th>\n",
       "      <td>4818</td>\n",
       "      <td>SHP</td>\n",
       "      <td>e803f4ff-970f-42cf-a552-4658b1f64fe9</td>\n",
       "      <td>4.616667</td>\n",
       "      <td>[-67737.44873762154, -65525.70364377908]</td>\n",
       "      <td>30</td>\n",
       "      <td>-40.122073</td>\n",
       "      <td>[-1083.4096607963486, 2269.742810845875]</td>\n",
       "      <td>7.941191e-01</td>\n",
       "      <td>[-630.6747775113307, -14986.735779515531]</td>\n",
       "      <td>...</td>\n",
       "      <td>93.575975</td>\n",
       "      <td>-75.270722</td>\n",
       "      <td>-65.835541</td>\n",
       "      <td>-4.204499</td>\n",
       "      <td>-99.911572</td>\n",
       "      <td>177.131583</td>\n",
       "      <td>163886.902158</td>\n",
       "      <td>2515.056445</td>\n",
       "      <td>100.000000</td>\n",
       "      <td>15000.0</td>\n",
       "    </tr>\n",
       "    <tr>\n",
       "      <th>277</th>\n",
       "      <td>4819</td>\n",
       "      <td>SHP</td>\n",
       "      <td>e803f4ff-970f-42cf-a552-4658b1f64fe9</td>\n",
       "      <td>4.633333</td>\n",
       "      <td>[-67755.50556530149, -65487.87459693165]</td>\n",
       "      <td>30</td>\n",
       "      <td>-40.108837</td>\n",
       "      <td>[-1083.4149164194946, 2269.6179213810456]</td>\n",
       "      <td>8.441191e-01</td>\n",
       "      <td>[-2704.3271720448884, -14754.206672896367]</td>\n",
       "      <td>...</td>\n",
       "      <td>93.576740</td>\n",
       "      <td>-74.392800</td>\n",
       "      <td>-66.825978</td>\n",
       "      <td>-18.028848</td>\n",
       "      <td>-98.361378</td>\n",
       "      <td>141.463962</td>\n",
       "      <td>163845.135770</td>\n",
       "      <td>2514.946001</td>\n",
       "      <td>100.000000</td>\n",
       "      <td>15000.0</td>\n",
       "    </tr>\n",
       "    <tr>\n",
       "      <th>278</th>\n",
       "      <td>4820</td>\n",
       "      <td>SHP</td>\n",
       "      <td>e803f4ff-970f-42cf-a552-4658b1f64fe9</td>\n",
       "      <td>4.650000</td>\n",
       "      <td>[-67773.56248057514, -65450.047631575304]</td>\n",
       "      <td>30</td>\n",
       "      <td>-40.094769</td>\n",
       "      <td>[-1722.7087165364567, 740.6643429306117]</td>\n",
       "      <td>-2.105611e-01</td>\n",
       "      <td>[-5924.73842057343, -13780.32926485362]</td>\n",
       "      <td>...</td>\n",
       "      <td>93.577506</td>\n",
       "      <td>-73.445317</td>\n",
       "      <td>-67.865937</td>\n",
       "      <td>-39.498256</td>\n",
       "      <td>-91.868862</td>\n",
       "      <td>110.286484</td>\n",
       "      <td>163803.371376</td>\n",
       "      <td>1875.182389</td>\n",
       "      <td>100.000000</td>\n",
       "      <td>15000.0</td>\n",
       "    </tr>\n",
       "  </tbody>\n",
       "</table>\n",
       "<p>6 rows × 66 columns</p>\n",
       "</div>"
      ],
      "text/plain": [
       "     index    p                                   eid        ts  \\\n",
       "69    4611  SHP  e803f4ff-970f-42cf-a552-4658b1f64fe9  1.166667   \n",
       "135   4677  SHP  e803f4ff-970f-42cf-a552-4658b1f64fe9  2.266667   \n",
       "203   4745  SHP  e803f4ff-970f-42cf-a552-4658b1f64fe9  3.400000   \n",
       "276   4818  SHP  e803f4ff-970f-42cf-a552-4658b1f64fe9  4.616667   \n",
       "277   4819  SHP  e803f4ff-970f-42cf-a552-4658b1f64fe9  4.633333   \n",
       "278   4820  SHP  e803f4ff-970f-42cf-a552-4658b1f64fe9  4.650000   \n",
       "\n",
       "                                           loc   r          a  \\\n",
       "69   [-64380.009424917844, -73719.29303220614]  30 -39.587215   \n",
       "135   [-65390.65421575377, -71041.44976342315]  30 -40.078522   \n",
       "203    [-66474.34291306911, -68332.2546351223]  30 -39.997585   \n",
       "276   [-67737.44873762154, -65525.70364377908]  30 -40.122073   \n",
       "277   [-67755.50556530149, -65487.87459693165]  30 -40.108837   \n",
       "278  [-67773.56248057514, -65450.047631575304]  30 -40.094769   \n",
       "\n",
       "                                             v            av  \\\n",
       "69    [-915.4518821093629, 2440.4224256519938]  5.079028e-01   \n",
       "135   [-918.9878971127365, 2432.0947046489405] -1.420972e-01   \n",
       "203    [-994.514608612808, 2347.5952354527876]  4.336809e-19   \n",
       "276   [-1083.4096607963486, 2269.742810845875]  7.941191e-01   \n",
       "277  [-1083.4149164194946, 2269.6179213810456]  8.441191e-01   \n",
       "278   [-1722.7087165364567, 740.6643429306117] -2.105611e-01   \n",
       "\n",
       "                                              f  ...      o.t_v.y    angle.x  \\\n",
       "69    [-11385.923056293976, -9765.283209213814]  ...  2431.633148 -31.200936   \n",
       "135   [-133282.4320589461, -149116.71034613263]  ...  2431.618134 -72.333092   \n",
       "203  [-128512.47738963248, -153246.67420593248]  ...  1653.420519 -66.513688   \n",
       "276   [-630.6747775113307, -14986.735779515531]  ...    93.575975 -75.270722   \n",
       "277  [-2704.3271720448884, -14754.206672896367]  ...    93.576740 -74.392800   \n",
       "278     [-5924.73842057343, -13780.32926485362]  ...    93.577506 -73.445317   \n",
       "\n",
       "       angle.y     _ada.x     _ada.y     o.ct_dist       o.t_dist  \\\n",
       "69  -95.007903 -75.906154 -65.101888  10967.386298  172738.279002   \n",
       "135 -69.050154 -66.641216 -74.558355   8109.200063  169876.070124   \n",
       "203 -74.672145 -64.256239 -76.623337   3236.990096  166958.689664   \n",
       "276 -65.835541  -4.204499 -99.911572    177.131583  163886.902158   \n",
       "277 -66.825978 -18.028848 -98.361378    141.463962  163845.135770   \n",
       "278 -67.865937 -39.498256 -91.868862    110.286484  163803.371376   \n",
       "\n",
       "           speed    o.t_speed     f_mag  \n",
       "69   2606.475353  2600.000000   15000.0  \n",
       "135  2599.927577  2600.000000  200000.0  \n",
       "203  2549.561275  1767.696745  200000.0  \n",
       "276  2515.056445   100.000000   15000.0  \n",
       "277  2514.946001   100.000000   15000.0  \n",
       "278  1875.182389   100.000000   15000.0  \n",
       "\n",
       "[6 rows x 66 columns]"
      ]
     },
     "execution_count": 38,
     "metadata": {},
     "output_type": "execute_result"
    }
   ],
   "source": [
    "df[(df[\"o.ct_dv.x\"]-df[\"o.ct_dv.x\"].shift(1)).abs() > 250]"
   ]
  },
  {
   "cell_type": "markdown",
   "id": "785ce89f",
   "metadata": {},
   "source": [
    "## Nearest Neighbors"
   ]
  },
  {
   "cell_type": "code",
   "execution_count": 39,
   "id": "03a6b3aa",
   "metadata": {},
   "outputs": [
    {
     "data": {
      "application/vnd.jupyter.widget-view+json": {
       "model_id": "04450afe445e4ab59d9f55a48c421210",
       "version_major": 2,
       "version_minor": 0
      },
      "text/plain": [
       "interactive(children=(FloatSlider(value=4.633333333333323, continuous_update=False, description='hist_length',…"
      ]
     },
     "metadata": {},
     "output_type": "display_data"
    },
    {
     "data": {
      "text/plain": [
       "<function __main__.plot_neighborhood_size(hist_length, max_time)>"
      ]
     },
     "execution_count": 39,
     "metadata": {},
     "output_type": "execute_result"
    }
   ],
   "source": [
    "neighborhood_radius = 5e4\n",
    "def plot_neighborhood_size(hist_length, max_time):\n",
    "    sample = df[(df[\"ts\"] >= max_time - hist_length) & (df[\"ts\"] <= max_time)]\n",
    "    plt.scatter(sample[\"ts\"], sample[\"o.nd\"]*np.pi*neighborhood_radius**2)\n",
    "    plt.title(\"neighborhood size (10km^2)\")\n",
    "    plt.show()\n",
    "\n",
    "ipywidgets.interact(\n",
    "    plot_neighborhood_size,\n",
    "    hist_length=ipywidgets.FloatSlider(value=15, min=0, max=df[\"ts\"].max()-df[\"ts\"].min(), continuous_update=False),\n",
    "    max_time=ipywidgets.FloatSlider(value=df[\"ts\"].max(), min=df[\"ts\"].min(), max=df[\"ts\"].max()+.1, continuous_update=False))"
   ]
  },
  {
   "cell_type": "code",
   "execution_count": 40,
   "id": "139c049e",
   "metadata": {},
   "outputs": [
    {
     "data": {
      "application/vnd.jupyter.widget-view+json": {
       "model_id": "53f1cfb84a0c46298808d03570103815",
       "version_major": 2,
       "version_minor": 0
      },
      "text/plain": [
       "interactive(children=(FloatSlider(value=4.633333333333323, continuous_update=False, description='hist_length',…"
      ]
     },
     "metadata": {},
     "output_type": "display_data"
    },
    {
     "data": {
      "text/plain": [
       "<function __main__.plot_nearest_neighbor(hist_length, max_time)>"
      ]
     },
     "execution_count": 40,
     "metadata": {},
     "output_type": "execute_result"
    }
   ],
   "source": [
    "def plot_nearest_neighbor(hist_length, max_time):\n",
    "    sample = df[(df[\"ts\"] >= max_time - hist_length) & (df[\"ts\"] <= max_time)]\n",
    "    plt.scatter(sample[\"ts\"], sample[\"o.nnd\"])\n",
    "    plt.title(\"nearest neighor dist\")\n",
    "    plt.show()\n",
    "    print(f'min dist {sample[\"o.nnd\"].min()}')\n",
    "\n",
    "ipywidgets.interact(\n",
    "    plot_nearest_neighbor,\n",
    "    hist_length=ipywidgets.FloatSlider(value=15, min=0, max=df[\"ts\"].max()-df[\"ts\"].min(), continuous_update=False),\n",
    "    max_time=ipywidgets.FloatSlider(value=df[\"ts\"].max(), min=df[\"ts\"].min(), max=df[\"ts\"].max()+.1, continuous_update=False))"
   ]
  },
  {
   "cell_type": "code",
   "execution_count": 41,
   "id": "32ea47f2",
   "metadata": {},
   "outputs": [],
   "source": [
    "# \n",
    "# Smallest enclosing circle - Library (Python)\n",
    "# \n",
    "# Copyright (c) 2020 Project Nayuki\n",
    "# https://www.nayuki.io/page/smallest-enclosing-circle\n",
    "# \n",
    "# This program is free software: you can redistribute it and/or modify\n",
    "# it under the terms of the GNU Lesser General Public License as published by\n",
    "# the Free Software Foundation, either version 3 of the License, or\n",
    "# (at your option) any later version.\n",
    "# \n",
    "# This program is distributed in the hope that it will be useful,\n",
    "# but WITHOUT ANY WARRANTY; without even the implied warranty of\n",
    "# MERCHANTABILITY or FITNESS FOR A PARTICULAR PURPOSE.  See the\n",
    "# GNU Lesser General Public License for more details.\n",
    "# \n",
    "# You should have received a copy of the GNU Lesser General Public License\n",
    "# along with this program (see COPYING.txt and COPYING.LESSER.txt).\n",
    "# If not, see <http://www.gnu.org/licenses/>.\n",
    "# \n",
    "\n",
    "import math, random\n",
    "\n",
    "\n",
    "# Data conventions: A point is a pair of floats (x, y). A circle is a triple of floats (center x, center y, radius).\n",
    "\n",
    "# Returns the smallest circle that encloses all the given points. Runs in expected O(n) time, randomized.\n",
    "# Input: A sequence of pairs of floats or ints, e.g. [(0,5), (3.1,-2.7)].\n",
    "# Output: A triple of floats representing a circle.\n",
    "# Note: If 0 points are given, None is returned. If 1 point is given, a circle of radius 0 is returned.\n",
    "# \n",
    "# Initially: No boundary points known\n",
    "def make_circle(points):\n",
    "\t# Convert to float and randomize order\n",
    "\tshuffled = [(float(x), float(y)) for (x, y) in points]\n",
    "\trandom.shuffle(shuffled)\n",
    "\t\n",
    "\t# Progressively add points to circle or recompute circle\n",
    "\tc = None\n",
    "\tfor (i, p) in enumerate(shuffled):\n",
    "\t\tif c is None or not is_in_circle(c, p):\n",
    "\t\t\tc = _make_circle_one_point(shuffled[ : i + 1], p)\n",
    "\treturn c\n",
    "\n",
    "\n",
    "# One boundary point known\n",
    "def _make_circle_one_point(points, p):\n",
    "\tc = (p[0], p[1], 0.0)\n",
    "\tfor (i, q) in enumerate(points):\n",
    "\t\tif not is_in_circle(c, q):\n",
    "\t\t\tif c[2] == 0.0:\n",
    "\t\t\t\tc = make_diameter(p, q)\n",
    "\t\t\telse:\n",
    "\t\t\t\tc = _make_circle_two_points(points[ : i + 1], p, q)\n",
    "\treturn c\n",
    "\n",
    "\n",
    "# Two boundary points known\n",
    "def _make_circle_two_points(points, p, q):\n",
    "\tcirc = make_diameter(p, q)\n",
    "\tleft  = None\n",
    "\tright = None\n",
    "\tpx, py = p\n",
    "\tqx, qy = q\n",
    "\t\n",
    "\t# For each point not in the two-point circle\n",
    "\tfor r in points:\n",
    "\t\tif is_in_circle(circ, r):\n",
    "\t\t\tcontinue\n",
    "\t\t\n",
    "\t\t# Form a circumcircle and classify it on left or right side\n",
    "\t\tcross = _cross_product(px, py, qx, qy, r[0], r[1])\n",
    "\t\tc = make_circumcircle(p, q, r)\n",
    "\t\tif c is None:\n",
    "\t\t\tcontinue\n",
    "\t\telif cross > 0.0 and (left is None or _cross_product(px, py, qx, qy, c[0], c[1]) > _cross_product(px, py, qx, qy, left[0], left[1])):\n",
    "\t\t\tleft = c\n",
    "\t\telif cross < 0.0 and (right is None or _cross_product(px, py, qx, qy, c[0], c[1]) < _cross_product(px, py, qx, qy, right[0], right[1])):\n",
    "\t\t\tright = c\n",
    "\t\n",
    "\t# Select which circle to return\n",
    "\tif left is None and right is None:\n",
    "\t\treturn circ\n",
    "\telif left is None:\n",
    "\t\treturn right\n",
    "\telif right is None:\n",
    "\t\treturn left\n",
    "\telse:\n",
    "\t\treturn left if (left[2] <= right[2]) else right\n",
    "\n",
    "\n",
    "def make_diameter(a, b):\n",
    "\tcx = (a[0] + b[0]) / 2\n",
    "\tcy = (a[1] + b[1]) / 2\n",
    "\tr0 = math.hypot(cx - a[0], cy - a[1])\n",
    "\tr1 = math.hypot(cx - b[0], cy - b[1])\n",
    "\treturn (cx, cy, max(r0, r1))\n",
    "\n",
    "\n",
    "def make_circumcircle(a, b, c):\n",
    "\t# Mathematical algorithm from Wikipedia: Circumscribed circle\n",
    "\tox = (min(a[0], b[0], c[0]) + max(a[0], b[0], c[0])) / 2\n",
    "\toy = (min(a[1], b[1], c[1]) + max(a[1], b[1], c[1])) / 2\n",
    "\tax = a[0] - ox;  ay = a[1] - oy\n",
    "\tbx = b[0] - ox;  by = b[1] - oy\n",
    "\tcx = c[0] - ox;  cy = c[1] - oy\n",
    "\td = (ax * (by - cy) + bx * (cy - ay) + cx * (ay - by)) * 2.0\n",
    "\tif d == 0.0:\n",
    "\t\treturn None\n",
    "\tx = ox + ((ax*ax + ay*ay) * (by - cy) + (bx*bx + by*by) * (cy - ay) + (cx*cx + cy*cy) * (ay - by)) / d\n",
    "\ty = oy + ((ax*ax + ay*ay) * (cx - bx) + (bx*bx + by*by) * (ax - cx) + (cx*cx + cy*cy) * (bx - ax)) / d\n",
    "\tra = math.hypot(x - a[0], y - a[1])\n",
    "\trb = math.hypot(x - b[0], y - b[1])\n",
    "\trc = math.hypot(x - c[0], y - c[1])\n",
    "\treturn (x, y, max(ra, rb, rc))\n",
    "\n",
    "\n",
    "_MULTIPLICATIVE_EPSILON = 1 + 1e-14\n",
    "\n",
    "def is_in_circle(c, p):\n",
    "\treturn c is not None and math.hypot(p[0] - c[0], p[1] - c[1]) <= c[2] * _MULTIPLICATIVE_EPSILON\n",
    "\n",
    "\n",
    "# Returns twice the signed area of the triangle defined by (x0, y0), (x1, y1), (x2, y2).\n",
    "def _cross_product(x0, y0, x1, y1, x2, y2):\n",
    "\treturn (x1 - x0) * (y2 - y0) - (y1 - y0) * (x2 - x0)"
   ]
  },
  {
   "cell_type": "code",
   "execution_count": 42,
   "id": "f7da4353",
   "metadata": {},
   "outputs": [
    {
     "data": {
      "application/vnd.jupyter.widget-view+json": {
       "model_id": "cb115a60abf04f5eae69cc3f075e68f1",
       "version_major": 2,
       "version_minor": 0
      },
      "text/plain": [
       "interactive(children=(FloatSlider(value=4.633333333333323, continuous_update=False, description='hist_length',…"
      ]
     },
     "metadata": {},
     "output_type": "display_data"
    },
    {
     "data": {
      "text/plain": [
       "<function __main__.plot_radius_comparison(hist_length, max_time)>"
      ]
     },
     "execution_count": 42,
     "metadata": {},
     "output_type": "execute_result"
    }
   ],
   "source": [
    "def plot_radius_comparison(hist_length, max_time):\n",
    "    sample = df[(df[\"ts\"] >= max_time - hist_length) & (df[\"ts\"] <= max_time)]\n",
    "    foo = sample[\"o.ct_cn\"].apply(lambda x: np.nan if isinstance(x, float) else make_circle(x)[2]+30)\n",
    "    plt.scatter(sample[\"ts\"], sample[\"o.ct_cradius\"], label=\"threat radius\")\n",
    "    plt.scatter(sample[\"ts\"], sample[\"o.scm\"], label=\"threat radius\")\n",
    "    plt.scatter(sample[\"ts\"], foo, label=\"min radius\", marker=\"x\")\n",
    "    plt.legend()\n",
    "    plt.title(\"cradius vs smallest enclosing radius\")\n",
    "    plt.show()\n",
    "\n",
    "ipywidgets.interact(\n",
    "    plot_radius_comparison,\n",
    "    hist_length=ipywidgets.FloatSlider(value=15, min=0, max=df[\"ts\"].max()-df[\"ts\"].min(), continuous_update=False),\n",
    "    max_time=ipywidgets.FloatSlider(value=df[\"ts\"].max(), min=df[\"ts\"].min(), max=df[\"ts\"].max()+.1, continuous_update=False))"
   ]
  },
  {
   "cell_type": "markdown",
   "id": "12a7d799",
   "metadata": {},
   "source": [
    "# History Visualization"
   ]
  },
  {
   "cell_type": "markdown",
   "id": "e7b61368",
   "metadata": {},
   "source": [
    "## Position and Velocity"
   ]
  },
  {
   "cell_type": "code",
   "execution_count": 43,
   "id": "05fc6ec3",
   "metadata": {
    "scrolled": false
   },
   "outputs": [
    {
     "data": {
      "application/vnd.jupyter.widget-view+json": {
       "model_id": "fd87b4b36bd74f829d956ddd04b83829",
       "version_major": 2,
       "version_minor": 0
      },
      "text/plain": [
       "interactive(children=(FloatSlider(value=4.633333333333323, continuous_update=False, description='hist_length',…"
      ]
     },
     "metadata": {},
     "output_type": "display_data"
    },
    {
     "data": {
      "text/plain": [
       "<function __main__.plot_collision_chart(hist_length=4.649999999999989, max_time=4.649999999999989, sampling_interval=50, show_tloc=True, show_tv=True, show_ctdv=True, show_v=True, show_cn=True, show_all_cts=True)>"
      ]
     },
     "execution_count": 43,
     "metadata": {},
     "output_type": "execute_result"
    }
   ],
   "source": [
    "def plot_collision_chart(hist_length=df[\"ts\"].max(), max_time=df[\"ts\"].max(), sampling_interval=50, show_tloc=True, show_tv=True, show_ctdv=True, show_v=True, show_cn=True, show_all_cts=True):\n",
    "    plt.figure(figsize=(10, 10))\n",
    "    sample = df[(df[\"ts\"] >= max_time - hist_length) & (df[\"ts\"] <= max_time)].iloc[::sampling_interval]\n",
    "    scale = None\n",
    "    if show_v:\n",
    "        q = plt.quiver(sample[\"loc.x\"], sample[\"loc.y\"], sample[\"v.x\"], sample[\"v.y\"], scale=scale, units=\"inches\", label=\"v\")\n",
    "        q._init()\n",
    "        scale = q.scale\n",
    "    ctdv_df = sample[~(sample[\"o.ct_dv\"].isna())]\n",
    "    if show_ctdv:\n",
    "        q = plt.quiver(ctdv_df[\"loc.x\"], ctdv_df[\"loc.y\"], ctdv_df[\"o.ct_dv.x\"], ctdv_df[\"o.ct_dv.y\"], scale=scale, units=\"inches\", label=\"ctdv\", color=\"orange\")\n",
    "        q._init()\n",
    "        scale = q.scale\n",
    "    if show_tv:\n",
    "        q = plt.quiver(sample[\"loc.x\"], sample[\"loc.y\"], sample[\"o.t_v.x\"], sample[\"o.t_v.y\"], scale=scale, units=\"inches\", label=\"tv\", color=\"purple\")\n",
    "        q._init()\n",
    "        scale = q.scale\n",
    "    \n",
    "    \n",
    "    if show_all_cts:\n",
    "        ctv_df = sample\n",
    "    else:\n",
    "        ctv_df = sample[sample[\"o.ct\"] == sample.iloc[-1][\"o.ct\"]]\n",
    "    q = plt.quiver(ctv_df[\"o.ct_loc.x\"], ctv_df[\"o.ct_loc.y\"], ctv_df[\"o.ct_v.x\"], ctv_df[\"o.ct_v.y\"], scale=scale, units=\"inches\", label=\"ctv\", color=\"cyan\")\n",
    "    q._init()\n",
    "    scale = q.scale\n",
    "    \n",
    "    if show_all_cts:\n",
    "        cts = df[\"o.ct\"].unique()\n",
    "    else:\n",
    "        cts = [sample.iloc[-1][\"o.ct\"]]\n",
    "        \n",
    "    cmap = plt.get_cmap('viridis')\n",
    "    for x, c in zip(cts, cmap(np.linspace(0, 1, len(cts)))):\n",
    "        if not isinstance(x, str):\n",
    "            continue\n",
    "        ct = sample[sample[\"o.ct\"] == x]\n",
    "        if len(ct) == 0:\n",
    "            continue\n",
    "        plt.scatter(ct[\"o.ct_loc.x\"], ct[\"o.ct_loc.y\"], color=c, label=x[:8])\n",
    "        \n",
    "        t_next = 10\n",
    "        x, y = ct.iloc[-1][\"o.ct_loc.x\"], ct.iloc[-1][\"o.ct_loc.y\"]\n",
    "        x_next, y_next = ct.iloc[-1][\"o.ct_loc.x\"]+ct.iloc[-1][\"o.ct_v.x\"]*t_next, ct.iloc[-1][\"o.ct_loc.y\"]+ct.iloc[-1][\"o.ct_v.y\"]*t_next\n",
    "        if not np.allclose((x, y), (x_next, y_next)):\n",
    "            plt.axline((x,y),(x_next,y_next), marker = 'x', color=c, dashes=[2,2])\n",
    "    \n",
    "    cloc_df = sample#[~(sample[\"o.ct_cloc\"].isna())]\n",
    "    if not isinstance(cloc_df.iloc[-1][\"o.ct\"], float):\n",
    "        cloc_x = cloc_df.iloc[-1][\"o.ct_cloc.x\"]\n",
    "        cloc_y = cloc_df.iloc[-1][\"o.ct_cloc.y\"]\n",
    "        cradius = cloc_df.iloc[-1][\"o.ct_cradius\"]\n",
    "        cmargin = cloc_df.iloc[-1].get([\"o.scm\"],500)\n",
    "        threat_radius = plt.Circle((cloc_x, cloc_y), cradius, color=\"red\", fill=False)\n",
    "        margin = plt.Circle((cloc_x, cloc_y), cradius+cmargin, color=\"orange\", fill=False)\n",
    "        margin_hist = plt.Circle((cloc_x, cloc_y), cradius+cmargin*2, color=\"green\", fill=False)\n",
    "        plt.gca().add_patch(threat_radius)\n",
    "        plt.gca().add_patch(margin)\n",
    "        plt.gca().add_patch(margin_hist)\n",
    "        print(f'{cradius=}')\n",
    "        \n",
    "        if show_cn:\n",
    "            cn_x, cn_y = list(zip(*cloc_df.iloc[-1][\"o.ct_cn\"]))\n",
    "            plt.scatter(cn_x, cn_y, label=\"ct_cnloc\", marker=\"+\", color=\"pink\")\n",
    "    \n",
    "    if show_tloc and not all(sample[\"o.t_loc.x\"].isna()):\n",
    "        plt.scatter(sample[\"o.t_loc.x\"], sample[\"o.t_loc.y\"], label=\"t_loc\", marker=\"x\")\n",
    "        for ((tloc_x, tloc_y), ad, md) in sample.groupby([\"o.t_loc.x\", \"o.t_loc.y\"]).agg({\"o.t_loc\": \"min\", \"o.ad\":\"min\", \"o.md\":\"min\"}).values:\n",
    "            arrival_dist = plt.Circle((tloc_x, tloc_y), ad, color=\"green\", fill=False)\n",
    "            min_dist = plt.Circle((tloc_x, tloc_y), md, color=\"red\", fill=False)\n",
    "            plt.gca().add_patch(arrival_dist)\n",
    "            plt.gca().add_patch(min_dist)\n",
    "            \n",
    "    t_next = hist_length\n",
    "    x, y = sample.iloc[-1][\"loc.x\"], sample.iloc[-1][\"loc.y\"]\n",
    "    x_next, y_next = sample.iloc[-1][\"loc.x\"]+sample.iloc[-1][\"v.x\"]*t_next, sample.iloc[-1][\"loc.y\"]+sample.iloc[-1][\"v.y\"]*t_next\n",
    "    if not np.allclose((x, y), (x_next, y_next)):\n",
    "        plt.axline((x,y),(x_next,y_next),marker = 'o')\n",
    "    \n",
    "    plt.axis('equal')\n",
    "    #center = (-72000, -50000)\n",
    "    #radius = 20000\n",
    "    #plt.xlim(center[0]-radius,center[0]+radius)\n",
    "    #plt.ylim(center[1]-radius,center[1]+radius)\n",
    "\n",
    "    plt.legend()\n",
    "    plt.show()\n",
    "    \n",
    "ipywidgets.interact(\n",
    "    plot_collision_chart,\n",
    "    hist_length=ipywidgets.FloatSlider(value=15, min=0, max=df[\"ts\"].max()-df[\"ts\"].min(), continuous_update=False),\n",
    "    max_time=ipywidgets.FloatSlider(step=1/60, value=df[\"ts\"].max()+1/60, min=df[\"ts\"].min(), max=df[\"ts\"].max()+1/60, continuous_update=False),\n",
    "    sampling_interval=ipywidgets.IntSlider(value=2, min=1, max=100, continuous_update=False),\n",
    "    show_tloc=ipywidgets.Checkbox(value=True),\n",
    "    show_tv=ipywidgets.Checkbox(value=True),\n",
    "    show_ctdv=ipywidgets.Checkbox(value=True),\n",
    "    show_v=ipywidgets.Checkbox(value=True),\n",
    "    show_cn=ipywidgets.Checkbox(value=True),\n",
    "    show_all_cts=ipywidgets.Checkbox(value=True),\n",
    ")"
   ]
  },
  {
   "cell_type": "markdown",
   "id": "6e5e3aad",
   "metadata": {},
   "source": [
    "## Position and Heading"
   ]
  },
  {
   "cell_type": "code",
   "execution_count": 44,
   "id": "2f7475c2",
   "metadata": {
    "scrolled": false
   },
   "outputs": [
    {
     "data": {
      "application/vnd.jupyter.widget-view+json": {
       "model_id": "37350c7064cd4c86b7d22a8cea938a3c",
       "version_major": 2,
       "version_minor": 0
      },
      "text/plain": [
       "interactive(children=(FloatSlider(value=4.633333333333323, continuous_update=False, description='hist_length',…"
      ]
     },
     "metadata": {},
     "output_type": "display_data"
    },
    {
     "data": {
      "text/plain": [
       "<function __main__.plot_collision_chart(hist_length=4.649999999999989, max_time=4.649999999999989)>"
      ]
     },
     "execution_count": 44,
     "metadata": {},
     "output_type": "execute_result"
    }
   ],
   "source": [
    "def plot_collision_chart(hist_length=df[\"ts\"].max(), max_time=df[\"ts\"].max()):\n",
    "    sample = df[(df[\"ts\"] >= max_time - hist_length) & (df[\"ts\"] <= max_time)]#.iloc[::30]\n",
    "   \n",
    "    plt.figure(figsize=(10, 10))\n",
    "    plt.quiver(sample[\"loc.x\"], sample[\"loc.y\"], sample[\"angle.x\"], sample[\"angle.y\"], label=\"heading\")\n",
    "    plt.quiver(sample[\"loc.x\"], sample[\"loc.y\"], sample[\"_ada.x\"], sample[\"_ada.y\"], label=\"acceleration heading\", color=\"cyan\")\n",
    "    ctdv_df = sample[~(sample[\"o.ct_dv\"].isna())]\n",
    "    #plt.quiver(ctdv_df[\"loc.x\"], ctdv_df[\"loc.y\"], ctdv_df[\"o.ct_dv.x\"], ctdv_df[\"o.ct_dv.y\"], label=\"ctdv\", color=\"orange\")\n",
    "    #plt.quiver(sample[\"loc.x\"], sample[\"loc.y\"], sample[\"o.t_v.x\"], sample[\"o.t_v.y\"], label=\"tv\", color=\"purple\")\n",
    "    cmap = plt.get_cmap('viridis')\n",
    "    #for x, c in zip(df[\"o.ct\"].unique(), cmap(np.linspace(0, 1, len(sample[\"o.ct\"].unique())))):\n",
    "    #    print(x)\n",
    "    #    if not isinstance(x, str):\n",
    "    #        continue\n",
    "    #    ct = sample[sample[\"o.ct\"] == x]\n",
    "    #    plt.scatter(ct[\"o.ct_loc.x\"], ct[\"o.ct_loc.y\"], color=c, label=x[:8])\n",
    "    #plt.scatter(sample[\"o.t_loc.x\"], sample[\"o.t_loc.y\"], label=\"t_loc\")\n",
    "    #plt.axis('square')\n",
    "    #center = (-33555, -5000)\n",
    "    #radius = 15000\n",
    "    #plt.xlim(center[0]-radius,center[0]+radius)\n",
    "    #plt.ylim(center[1]-radius,center[1]+radius)\n",
    "    \n",
    "    print(sample[\"ts\"].min())\n",
    "    print(sample[\"ts\"].max())\n",
    "    print((sample[\"ts\"].max() - sample[\"ts\"].min())/(1/60))\n",
    "    \n",
    "    plt.legend()\n",
    "    plt.axis('equal')\n",
    "    plt.show()\n",
    "    \n",
    "ipywidgets.interact(plot_collision_chart, hist_length=ipywidgets.FloatSlider(value=15, min=0, max=df[\"ts\"].max()-df[\"ts\"].min(), continuous_update=False), max_time=ipywidgets.FloatSlider(value=df[\"ts\"].max(), min=df[\"ts\"].min(), max=df[\"ts\"].max(), continuous_update=False))"
   ]
  },
  {
   "cell_type": "code",
   "execution_count": 45,
   "id": "947c0883",
   "metadata": {},
   "outputs": [
    {
     "data": {
      "text/html": [
       "<div>\n",
       "<style scoped>\n",
       "    .dataframe tbody tr th:only-of-type {\n",
       "        vertical-align: middle;\n",
       "    }\n",
       "\n",
       "    .dataframe tbody tr th {\n",
       "        vertical-align: top;\n",
       "    }\n",
       "\n",
       "    .dataframe thead th {\n",
       "        text-align: right;\n",
       "    }\n",
       "</style>\n",
       "<table border=\"1\" class=\"dataframe\">\n",
       "  <thead>\n",
       "    <tr style=\"text-align: right;\">\n",
       "      <th></th>\n",
       "      <th>ts</th>\n",
       "      <th>o._ada</th>\n",
       "      <th>o.ct</th>\n",
       "    </tr>\n",
       "  </thead>\n",
       "  <tbody>\n",
       "    <tr>\n",
       "      <th>53</th>\n",
       "      <td>0.900000</td>\n",
       "      <td>-1.926814</td>\n",
       "      <td>NaN</td>\n",
       "    </tr>\n",
       "    <tr>\n",
       "      <th>54</th>\n",
       "      <td>0.916667</td>\n",
       "      <td>-1.926814</td>\n",
       "      <td>NaN</td>\n",
       "    </tr>\n",
       "    <tr>\n",
       "      <th>55</th>\n",
       "      <td>0.933333</td>\n",
       "      <td>-1.926814</td>\n",
       "      <td>NaN</td>\n",
       "    </tr>\n",
       "    <tr>\n",
       "      <th>56</th>\n",
       "      <td>0.950000</td>\n",
       "      <td>-1.926814</td>\n",
       "      <td>NaN</td>\n",
       "    </tr>\n",
       "    <tr>\n",
       "      <th>57</th>\n",
       "      <td>0.966667</td>\n",
       "      <td>0.269954</td>\n",
       "      <td>de1fdec2-7b8e-4dd0-a7eb-cf83bd65967c</td>\n",
       "    </tr>\n",
       "    <tr>\n",
       "      <th>58</th>\n",
       "      <td>0.983333</td>\n",
       "      <td>0.269954</td>\n",
       "      <td>de1fdec2-7b8e-4dd0-a7eb-cf83bd65967c</td>\n",
       "    </tr>\n",
       "  </tbody>\n",
       "</table>\n",
       "</div>"
      ],
      "text/plain": [
       "          ts    o._ada                                  o.ct\n",
       "53  0.900000 -1.926814                                   NaN\n",
       "54  0.916667 -1.926814                                   NaN\n",
       "55  0.933333 -1.926814                                   NaN\n",
       "56  0.950000 -1.926814                                   NaN\n",
       "57  0.966667  0.269954  de1fdec2-7b8e-4dd0-a7eb-cf83bd65967c\n",
       "58  0.983333  0.269954  de1fdec2-7b8e-4dd0-a7eb-cf83bd65967c"
      ]
     },
     "execution_count": 45,
     "metadata": {},
     "output_type": "execute_result"
    }
   ],
   "source": [
    "df[(df[\"ts\"] > 0.9)& (df[\"ts\"]<1)][[\"ts\", \"o._ada\", \"o.ct\"]]#.apply(lambda x: util.normalize_angle(x, shortest=True))"
   ]
  },
  {
   "cell_type": "code",
   "execution_count": 46,
   "id": "00e9059c",
   "metadata": {},
   "outputs": [
    {
     "data": {
      "text/plain": [
       "53   -1.926878\n",
       "54   -1.925079\n",
       "55   -1.924114\n",
       "56   -1.923983\n",
       "57   -1.924684\n",
       "58   -1.926219\n",
       "Name: a, dtype: float64"
      ]
     },
     "execution_count": 46,
     "metadata": {},
     "output_type": "execute_result"
    }
   ],
   "source": [
    "df[(df[\"ts\"] > 0.9)& (df[\"ts\"]<1)][\"a\"].apply(lambda x: util.normalize_angle(x, shortest=True))"
   ]
  },
  {
   "cell_type": "markdown",
   "id": "6e24f370",
   "metadata": {},
   "source": [
    "# "
   ]
  }
 ],
 "metadata": {
  "kernelspec": {
   "display_name": "Python 3 (ipykernel)",
   "language": "python",
   "name": "python3"
  },
  "language_info": {
   "codemirror_mode": {
    "name": "ipython",
    "version": 3
   },
   "file_extension": ".py",
   "mimetype": "text/x-python",
   "name": "python",
   "nbconvert_exporter": "python",
   "pygments_lexer": "ipython3",
   "version": "3.10.6"
  }
 },
 "nbformat": 4,
 "nbformat_minor": 5
}
