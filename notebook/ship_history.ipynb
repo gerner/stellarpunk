{
 "cells": [
  {
   "cell_type": "code",
   "execution_count": 262,
   "id": "2c7e0238",
   "metadata": {},
   "outputs": [],
   "source": [
    "import json\n",
    "\n",
    "import pandas as pd\n",
    "import numpy as np\n",
    "from matplotlib import pyplot as plt"
   ]
  },
  {
   "cell_type": "code",
   "execution_count": 263,
   "id": "67f86d76",
   "metadata": {},
   "outputs": [],
   "source": [
    "df = pandas.json_normalize(list(json.loads(line) for line in open(\"/tmp/stellarpunk.history\", \"r\")))"
   ]
  },
  {
   "cell_type": "code",
   "execution_count": 264,
   "id": "95ffabc8",
   "metadata": {},
   "outputs": [],
   "source": [
    "loc = pd.DataFrame(np.vstack(df[\"loc\"]), columns=[\"loc.x\", \"loc.y\"])\n",
    "v = pd.DataFrame(np.vstack(df[\"v\"]), columns=[\"v.x\", \"v.y\"])\n",
    "#TODO: handle nulls\n",
    "#o_tloc = pd.DataFrame(np.vstack(df[\"o.t_loc\"]), columns=[\"o.t_loc.x\", \"o.t_loc.y\"])\n",
    "df = pd.concat([df, loc, v], axis=1)"
   ]
  },
  {
   "cell_type": "code",
   "execution_count": 265,
   "id": "fac34b45",
   "metadata": {},
   "outputs": [],
   "source": [
    "df[\"speed\"] = np.linalg.norm(df[[\"v.x\", \"v.y\"]], axis=1)"
   ]
  },
  {
   "cell_type": "code",
   "execution_count": 266,
   "id": "52fed758",
   "metadata": {},
   "outputs": [
    {
     "data": {
      "text/html": [
       "<div>\n",
       "<style scoped>\n",
       "    .dataframe tbody tr th:only-of-type {\n",
       "        vertical-align: middle;\n",
       "    }\n",
       "\n",
       "    .dataframe tbody tr th {\n",
       "        vertical-align: top;\n",
       "    }\n",
       "\n",
       "    .dataframe thead th {\n",
       "        text-align: right;\n",
       "    }\n",
       "</style>\n",
       "<table border=\"1\" class=\"dataframe\">\n",
       "  <thead>\n",
       "    <tr style=\"text-align: right;\">\n",
       "      <th></th>\n",
       "      <th>eid</th>\n",
       "      <th>ts</th>\n",
       "      <th>loc</th>\n",
       "      <th>a</th>\n",
       "      <th>v</th>\n",
       "      <th>av</th>\n",
       "      <th>o</th>\n",
       "      <th>o.o</th>\n",
       "      <th>o.nnd</th>\n",
       "      <th>o.t_loc</th>\n",
       "      <th>o.cs</th>\n",
       "      <th>o.ct</th>\n",
       "      <th>o.ct_loc</th>\n",
       "      <th>o.ct_ts</th>\n",
       "      <th>o.cac</th>\n",
       "      <th>loc.x</th>\n",
       "      <th>loc.y</th>\n",
       "      <th>v.x</th>\n",
       "      <th>v.y</th>\n",
       "      <th>speed</th>\n",
       "    </tr>\n",
       "  </thead>\n",
       "  <tbody>\n",
       "    <tr>\n",
       "      <th>0</th>\n",
       "      <td>346f7941-e537-4386-bb01-daf2b13b0893</td>\n",
       "      <td>0.000000</td>\n",
       "      <td>[-14557.676265238555, 76423.11167953191]</td>\n",
       "      <td>-3.066491</td>\n",
       "      <td>[-31.157885782656887, -2.400278687607343]</td>\n",
       "      <td>-0.106944</td>\n",
       "      <td>NaN</td>\n",
       "      <td>NaN</td>\n",
       "      <td>NaN</td>\n",
       "      <td>NaN</td>\n",
       "      <td>NaN</td>\n",
       "      <td>NaN</td>\n",
       "      <td>NaN</td>\n",
       "      <td>NaN</td>\n",
       "      <td>NaN</td>\n",
       "      <td>-14557.676265</td>\n",
       "      <td>76423.111680</td>\n",
       "      <td>-31.157886</td>\n",
       "      <td>-2.400279</td>\n",
       "      <td>31.250203</td>\n",
       "    </tr>\n",
       "    <tr>\n",
       "      <th>1</th>\n",
       "      <td>346f7941-e537-4386-bb01-daf2b13b0893</td>\n",
       "      <td>0.016667</td>\n",
       "      <td>[-14558.195563334933, 76423.07167488712]</td>\n",
       "      <td>-3.068273</td>\n",
       "      <td>[-31.196372100975193, -2.416244726985132]</td>\n",
       "      <td>-0.090278</td>\n",
       "      <td>NaN</td>\n",
       "      <td>stellarpunk.orders.GoToLocation</td>\n",
       "      <td>8514.589933</td>\n",
       "      <td>[-31988.371184337582, 69305.23529447419]</td>\n",
       "      <td>False</td>\n",
       "      <td>NaN</td>\n",
       "      <td>NaN</td>\n",
       "      <td>NaN</td>\n",
       "      <td>NaN</td>\n",
       "      <td>-14558.195563</td>\n",
       "      <td>76423.071675</td>\n",
       "      <td>-31.196372</td>\n",
       "      <td>-2.416245</td>\n",
       "      <td>31.289805</td>\n",
       "    </tr>\n",
       "    <tr>\n",
       "      <th>2</th>\n",
       "      <td>346f7941-e537-4386-bb01-daf2b13b0893</td>\n",
       "      <td>0.033333</td>\n",
       "      <td>[-14558.715502869949, 76423.03140414167]</td>\n",
       "      <td>-3.069778</td>\n",
       "      <td>[-31.234858281881518, -2.4322110975920275]</td>\n",
       "      <td>-0.073611</td>\n",
       "      <td>NaN</td>\n",
       "      <td>stellarpunk.orders.GoToLocation</td>\n",
       "      <td>8513.736822</td>\n",
       "      <td>[-31988.371184337582, 69305.23529447419]</td>\n",
       "      <td>False</td>\n",
       "      <td>NaN</td>\n",
       "      <td>NaN</td>\n",
       "      <td>NaN</td>\n",
       "      <td>NaN</td>\n",
       "      <td>-14558.715503</td>\n",
       "      <td>76423.031404</td>\n",
       "      <td>-31.234858</td>\n",
       "      <td>-2.432211</td>\n",
       "      <td>31.329411</td>\n",
       "    </tr>\n",
       "    <tr>\n",
       "      <th>3</th>\n",
       "      <td>346f7941-e537-4386-bb01-daf2b13b0893</td>\n",
       "      <td>0.050000</td>\n",
       "      <td>[-14559.236083841313, 76422.99086729005]</td>\n",
       "      <td>-3.071005</td>\n",
       "      <td>[-31.27334432536577, -2.4481777994443044]</td>\n",
       "      <td>-0.056944</td>\n",
       "      <td>NaN</td>\n",
       "      <td>stellarpunk.orders.GoToLocation</td>\n",
       "      <td>8512.883673</td>\n",
       "      <td>[-31988.371184337582, 69305.23529447419]</td>\n",
       "      <td>False</td>\n",
       "      <td>NaN</td>\n",
       "      <td>NaN</td>\n",
       "      <td>NaN</td>\n",
       "      <td>NaN</td>\n",
       "      <td>-14559.236084</td>\n",
       "      <td>76422.990867</td>\n",
       "      <td>-31.273344</td>\n",
       "      <td>-2.448178</td>\n",
       "      <td>31.369024</td>\n",
       "    </tr>\n",
       "    <tr>\n",
       "      <th>4</th>\n",
       "      <td>346f7941-e537-4386-bb01-daf2b13b0893</td>\n",
       "      <td>0.066667</td>\n",
       "      <td>[-14559.757306246736, 76422.95006432672]</td>\n",
       "      <td>-3.071954</td>\n",
       "      <td>[-31.31183023141784, -2.4641448325582624]</td>\n",
       "      <td>-0.040278</td>\n",
       "      <td>NaN</td>\n",
       "      <td>stellarpunk.orders.GoToLocation</td>\n",
       "      <td>8512.030484</td>\n",
       "      <td>[-31988.371184337582, 69305.23529447419]</td>\n",
       "      <td>False</td>\n",
       "      <td>NaN</td>\n",
       "      <td>NaN</td>\n",
       "      <td>NaN</td>\n",
       "      <td>NaN</td>\n",
       "      <td>-14559.757306</td>\n",
       "      <td>76422.950064</td>\n",
       "      <td>-31.311830</td>\n",
       "      <td>-2.464145</td>\n",
       "      <td>31.408641</td>\n",
       "    </tr>\n",
       "    <tr>\n",
       "      <th>...</th>\n",
       "      <td>...</td>\n",
       "      <td>...</td>\n",
       "      <td>...</td>\n",
       "      <td>...</td>\n",
       "      <td>...</td>\n",
       "      <td>...</td>\n",
       "      <td>...</td>\n",
       "      <td>...</td>\n",
       "      <td>...</td>\n",
       "      <td>...</td>\n",
       "      <td>...</td>\n",
       "      <td>...</td>\n",
       "      <td>...</td>\n",
       "      <td>...</td>\n",
       "      <td>...</td>\n",
       "      <td>...</td>\n",
       "      <td>...</td>\n",
       "      <td>...</td>\n",
       "      <td>...</td>\n",
       "      <td>...</td>\n",
       "    </tr>\n",
       "    <tr>\n",
       "      <th>1257</th>\n",
       "      <td>346f7941-e537-4386-bb01-daf2b13b0893</td>\n",
       "      <td>20.950000</td>\n",
       "      <td>[-31672.261851011554, 69435.5089791272]</td>\n",
       "      <td>0.390907</td>\n",
       "      <td>[-142.4576698361874, -58.70907183085512]</td>\n",
       "      <td>0.000000</td>\n",
       "      <td>NaN</td>\n",
       "      <td>stellarpunk.orders.GoToLocation</td>\n",
       "      <td>344.538533</td>\n",
       "      <td>[-31988.371184337582, 69305.23529447419]</td>\n",
       "      <td>False</td>\n",
       "      <td>NaN</td>\n",
       "      <td>NaN</td>\n",
       "      <td>NaN</td>\n",
       "      <td>NaN</td>\n",
       "      <td>-31672.261851</td>\n",
       "      <td>69435.508979</td>\n",
       "      <td>-142.457670</td>\n",
       "      <td>-58.709072</td>\n",
       "      <td>154.080962</td>\n",
       "    </tr>\n",
       "    <tr>\n",
       "      <th>1258</th>\n",
       "      <td>346f7941-e537-4386-bb01-daf2b13b0893</td>\n",
       "      <td>20.966667</td>\n",
       "      <td>[-31674.636145508823, 69434.5304945967]</td>\n",
       "      <td>0.390907</td>\n",
       "      <td>[-138.6053209339064, -57.12145756844579]</td>\n",
       "      <td>0.000000</td>\n",
       "      <td>NaN</td>\n",
       "      <td>stellarpunk.orders.GoToLocation</td>\n",
       "      <td>341.901073</td>\n",
       "      <td>[-31988.371184337582, 69305.23529447419]</td>\n",
       "      <td>False</td>\n",
       "      <td>NaN</td>\n",
       "      <td>NaN</td>\n",
       "      <td>NaN</td>\n",
       "      <td>NaN</td>\n",
       "      <td>-31674.636146</td>\n",
       "      <td>69434.530495</td>\n",
       "      <td>-138.605321</td>\n",
       "      <td>-57.121458</td>\n",
       "      <td>149.914295</td>\n",
       "    </tr>\n",
       "    <tr>\n",
       "      <th>1259</th>\n",
       "      <td>346f7941-e537-4386-bb01-daf2b13b0893</td>\n",
       "      <td>20.983333</td>\n",
       "      <td>[-31676.946234191055, 69433.57847030388]</td>\n",
       "      <td>0.390907</td>\n",
       "      <td>[-134.7529720316254, -55.53384330603646]</td>\n",
       "      <td>0.000000</td>\n",
       "      <td>NaN</td>\n",
       "      <td>stellarpunk.orders.GoToLocation</td>\n",
       "      <td>339.333057</td>\n",
       "      <td>[-31988.371184337582, 69305.23529447419]</td>\n",
       "      <td>False</td>\n",
       "      <td>NaN</td>\n",
       "      <td>NaN</td>\n",
       "      <td>NaN</td>\n",
       "      <td>NaN</td>\n",
       "      <td>-31676.946234</td>\n",
       "      <td>69433.578470</td>\n",
       "      <td>-134.752972</td>\n",
       "      <td>-55.533843</td>\n",
       "      <td>145.747629</td>\n",
       "    </tr>\n",
       "    <tr>\n",
       "      <th>1260</th>\n",
       "      <td>346f7941-e537-4386-bb01-daf2b13b0893</td>\n",
       "      <td>21.000000</td>\n",
       "      <td>[-31679.19211705825, 69432.65290624878]</td>\n",
       "      <td>0.390907</td>\n",
       "      <td>[-130.9006231293444, -53.94622904362713]</td>\n",
       "      <td>0.000000</td>\n",
       "      <td>NaN</td>\n",
       "      <td>stellarpunk.orders.GoToLocation</td>\n",
       "      <td>336.834485</td>\n",
       "      <td>[-31988.371184337582, 69305.23529447419]</td>\n",
       "      <td>False</td>\n",
       "      <td>NaN</td>\n",
       "      <td>NaN</td>\n",
       "      <td>NaN</td>\n",
       "      <td>NaN</td>\n",
       "      <td>-31679.192117</td>\n",
       "      <td>69432.652906</td>\n",
       "      <td>-130.900623</td>\n",
       "      <td>-53.946229</td>\n",
       "      <td>141.580962</td>\n",
       "    </tr>\n",
       "    <tr>\n",
       "      <th>1261</th>\n",
       "      <td>346f7941-e537-4386-bb01-daf2b13b0893</td>\n",
       "      <td>21.016667</td>\n",
       "      <td>[-31681.373794110405, 69431.75380243138]</td>\n",
       "      <td>0.390907</td>\n",
       "      <td>[-127.04827422706342, -52.358614781217796]</td>\n",
       "      <td>0.000000</td>\n",
       "      <td>NaN</td>\n",
       "      <td>stellarpunk.orders.GoToLocation</td>\n",
       "      <td>334.405358</td>\n",
       "      <td>[-31988.371184337582, 69305.23529447419]</td>\n",
       "      <td>False</td>\n",
       "      <td>NaN</td>\n",
       "      <td>NaN</td>\n",
       "      <td>NaN</td>\n",
       "      <td>NaN</td>\n",
       "      <td>-31681.373794</td>\n",
       "      <td>69431.753802</td>\n",
       "      <td>-127.048274</td>\n",
       "      <td>-52.358615</td>\n",
       "      <td>137.414295</td>\n",
       "    </tr>\n",
       "  </tbody>\n",
       "</table>\n",
       "<p>1262 rows × 20 columns</p>\n",
       "</div>"
      ],
      "text/plain": [
       "                                       eid         ts  \\\n",
       "0     346f7941-e537-4386-bb01-daf2b13b0893   0.000000   \n",
       "1     346f7941-e537-4386-bb01-daf2b13b0893   0.016667   \n",
       "2     346f7941-e537-4386-bb01-daf2b13b0893   0.033333   \n",
       "3     346f7941-e537-4386-bb01-daf2b13b0893   0.050000   \n",
       "4     346f7941-e537-4386-bb01-daf2b13b0893   0.066667   \n",
       "...                                    ...        ...   \n",
       "1257  346f7941-e537-4386-bb01-daf2b13b0893  20.950000   \n",
       "1258  346f7941-e537-4386-bb01-daf2b13b0893  20.966667   \n",
       "1259  346f7941-e537-4386-bb01-daf2b13b0893  20.983333   \n",
       "1260  346f7941-e537-4386-bb01-daf2b13b0893  21.000000   \n",
       "1261  346f7941-e537-4386-bb01-daf2b13b0893  21.016667   \n",
       "\n",
       "                                           loc         a  \\\n",
       "0     [-14557.676265238555, 76423.11167953191] -3.066491   \n",
       "1     [-14558.195563334933, 76423.07167488712] -3.068273   \n",
       "2     [-14558.715502869949, 76423.03140414167] -3.069778   \n",
       "3     [-14559.236083841313, 76422.99086729005] -3.071005   \n",
       "4     [-14559.757306246736, 76422.95006432672] -3.071954   \n",
       "...                                        ...       ...   \n",
       "1257   [-31672.261851011554, 69435.5089791272]  0.390907   \n",
       "1258   [-31674.636145508823, 69434.5304945967]  0.390907   \n",
       "1259  [-31676.946234191055, 69433.57847030388]  0.390907   \n",
       "1260   [-31679.19211705825, 69432.65290624878]  0.390907   \n",
       "1261  [-31681.373794110405, 69431.75380243138]  0.390907   \n",
       "\n",
       "                                               v        av   o  \\\n",
       "0      [-31.157885782656887, -2.400278687607343] -0.106944 NaN   \n",
       "1      [-31.196372100975193, -2.416244726985132] -0.090278 NaN   \n",
       "2     [-31.234858281881518, -2.4322110975920275] -0.073611 NaN   \n",
       "3      [-31.27334432536577, -2.4481777994443044] -0.056944 NaN   \n",
       "4      [-31.31183023141784, -2.4641448325582624] -0.040278 NaN   \n",
       "...                                          ...       ...  ..   \n",
       "1257    [-142.4576698361874, -58.70907183085512]  0.000000 NaN   \n",
       "1258    [-138.6053209339064, -57.12145756844579]  0.000000 NaN   \n",
       "1259    [-134.7529720316254, -55.53384330603646]  0.000000 NaN   \n",
       "1260    [-130.9006231293444, -53.94622904362713]  0.000000 NaN   \n",
       "1261  [-127.04827422706342, -52.358614781217796]  0.000000 NaN   \n",
       "\n",
       "                                  o.o        o.nnd  \\\n",
       "0                                 NaN          NaN   \n",
       "1     stellarpunk.orders.GoToLocation  8514.589933   \n",
       "2     stellarpunk.orders.GoToLocation  8513.736822   \n",
       "3     stellarpunk.orders.GoToLocation  8512.883673   \n",
       "4     stellarpunk.orders.GoToLocation  8512.030484   \n",
       "...                               ...          ...   \n",
       "1257  stellarpunk.orders.GoToLocation   344.538533   \n",
       "1258  stellarpunk.orders.GoToLocation   341.901073   \n",
       "1259  stellarpunk.orders.GoToLocation   339.333057   \n",
       "1260  stellarpunk.orders.GoToLocation   336.834485   \n",
       "1261  stellarpunk.orders.GoToLocation   334.405358   \n",
       "\n",
       "                                       o.t_loc   o.cs o.ct o.ct_loc  o.ct_ts  \\\n",
       "0                                          NaN    NaN  NaN      NaN      NaN   \n",
       "1     [-31988.371184337582, 69305.23529447419]  False  NaN      NaN      NaN   \n",
       "2     [-31988.371184337582, 69305.23529447419]  False  NaN      NaN      NaN   \n",
       "3     [-31988.371184337582, 69305.23529447419]  False  NaN      NaN      NaN   \n",
       "4     [-31988.371184337582, 69305.23529447419]  False  NaN      NaN      NaN   \n",
       "...                                        ...    ...  ...      ...      ...   \n",
       "1257  [-31988.371184337582, 69305.23529447419]  False  NaN      NaN      NaN   \n",
       "1258  [-31988.371184337582, 69305.23529447419]  False  NaN      NaN      NaN   \n",
       "1259  [-31988.371184337582, 69305.23529447419]  False  NaN      NaN      NaN   \n",
       "1260  [-31988.371184337582, 69305.23529447419]  False  NaN      NaN      NaN   \n",
       "1261  [-31988.371184337582, 69305.23529447419]  False  NaN      NaN      NaN   \n",
       "\n",
       "     o.cac         loc.x         loc.y         v.x        v.y       speed  \n",
       "0      NaN -14557.676265  76423.111680  -31.157886  -2.400279   31.250203  \n",
       "1      NaN -14558.195563  76423.071675  -31.196372  -2.416245   31.289805  \n",
       "2      NaN -14558.715503  76423.031404  -31.234858  -2.432211   31.329411  \n",
       "3      NaN -14559.236084  76422.990867  -31.273344  -2.448178   31.369024  \n",
       "4      NaN -14559.757306  76422.950064  -31.311830  -2.464145   31.408641  \n",
       "...    ...           ...           ...         ...        ...         ...  \n",
       "1257   NaN -31672.261851  69435.508979 -142.457670 -58.709072  154.080962  \n",
       "1258   NaN -31674.636146  69434.530495 -138.605321 -57.121458  149.914295  \n",
       "1259   NaN -31676.946234  69433.578470 -134.752972 -55.533843  145.747629  \n",
       "1260   NaN -31679.192117  69432.652906 -130.900623 -53.946229  141.580962  \n",
       "1261   NaN -31681.373794  69431.753802 -127.048274 -52.358615  137.414295  \n",
       "\n",
       "[1262 rows x 20 columns]"
      ]
     },
     "execution_count": 266,
     "metadata": {},
     "output_type": "execute_result"
    }
   ],
   "source": [
    "df"
   ]
  },
  {
   "cell_type": "code",
   "execution_count": 267,
   "id": "183eb845",
   "metadata": {},
   "outputs": [
    {
     "data": {
      "text/plain": [
       "(-32537.558670553997, -13701.491388794962, 69082.18590857636, 87918.2531903354)"
      ]
     },
     "execution_count": 267,
     "metadata": {},
     "output_type": "execute_result"
    },
    {
     "data": {
      "image/png": "[encoded data removed]",
      "text/plain": [
       "<Figure size 432x288 with 1 Axes>"
      ]
     },
     "metadata": {
      "needs_background": "light"
     },
     "output_type": "display_data"
    }
   ],
   "source": [
    "plt.scatter(df[\"loc.x\"], df[\"loc.y\"])\n",
    "plt.axis('square')\n",
    "#plt.xlim(-2000,2000)\n",
    "#plt.ylim(-2000,2000)"
   ]
  },
  {
   "cell_type": "code",
   "execution_count": 268,
   "id": "d71324e1",
   "metadata": {},
   "outputs": [
    {
     "data": {
      "text/plain": [
       "<matplotlib.collections.PathCollection at 0x7f5e717f0880>"
      ]
     },
     "execution_count": 268,
     "metadata": {},
     "output_type": "execute_result"
    },
    {
     "data": {
      "image/png": "[encoded data removed]",
      "text/plain": [
       "<Figure size 432x288 with 1 Axes>"
      ]
     },
     "metadata": {
      "needs_background": "light"
     },
     "output_type": "display_data"
    }
   ],
   "source": [
    "plt.scatter(df[\"ts\"], df[\"loc.x\"])\n",
    "plt.scatter(df[\"ts\"], df[\"loc.y\"])"
   ]
  },
  {
   "cell_type": "code",
   "execution_count": 269,
   "id": "7b57fad7",
   "metadata": {},
   "outputs": [
    {
     "data": {
      "text/plain": [
       "<matplotlib.collections.PathCollection at 0x7f5e717f3550>"
      ]
     },
     "execution_count": 269,
     "metadata": {},
     "output_type": "execute_result"
    },
    {
     "data": {
      "image/png": "[encoded data removed]",
      "text/plain": [
       "<Figure size 432x288 with 1 Axes>"
      ]
     },
     "metadata": {
      "needs_background": "light"
     },
     "output_type": "display_data"
    }
   ],
   "source": [
    "plt.scatter(df[\"ts\"], df[\"speed\"])"
   ]
  },
  {
   "cell_type": "code",
   "execution_count": 270,
   "id": "bf2788de",
   "metadata": {},
   "outputs": [
    {
     "data": {
      "text/plain": [
       "<matplotlib.collections.PathCollection at 0x7f5e716f34f0>"
      ]
     },
     "execution_count": 270,
     "metadata": {},
     "output_type": "execute_result"
    },
    {
     "data": {
      "image/png": "[encoded data removed]",
      "text/plain": [
       "<Figure size 432x288 with 1 Axes>"
      ]
     },
     "metadata": {
      "needs_background": "light"
     },
     "output_type": "display_data"
    }
   ],
   "source": [
    "plt.scatter(df[\"ts\"], df[\"v.x\"])\n",
    "plt.scatter(df[\"ts\"], df[\"v.y\"])"
   ]
  },
  {
   "cell_type": "code",
   "execution_count": 278,
   "id": "e358b69f",
   "metadata": {},
   "outputs": [
    {
     "data": {
      "text/plain": [
       "(0.0, 0.020000000000000063)"
      ]
     },
     "execution_count": 278,
     "metadata": {},
     "output_type": "execute_result"
    },
    {
     "data": {
      "image/png": "[encoded data removed]",
      "text/plain": [
       "<Figure size 432x288 with 2 Axes>"
      ]
     },
     "metadata": {
      "needs_background": "light"
     },
     "output_type": "display_data"
    }
   ],
   "source": [
    "fig, ax1 = plt.subplots()\n",
    "ax2 = ax1.twinx()\n",
    "\n",
    "ax1.scatter(df[\"ts\"], 1-df[\"o.ct\"].isna().astype(int))\n",
    "ax1.scatter(df[\"ts\"], df[\"o.cs\"].fillna(0).astype(int), )\n",
    "ax2.scatter(df[\"ts\"], df[\"ts\"] - df[\"o.ct_ts\"], color=\"orange\")\n",
    "\n",
    "ax2.set_ylim(0,(df[\"ts\"] - df[\"o.ct_ts\"]).max()*1.2)"
   ]
  },
  {
   "cell_type": "code",
   "execution_count": 275,
   "id": "3991cf7d",
   "metadata": {},
   "outputs": [
    {
     "data": {
      "text/plain": [
       "array([nan, False], dtype=object)"
      ]
     },
     "execution_count": 275,
     "metadata": {},
     "output_type": "execute_result"
    }
   ],
   "source": [
    "df[\"o.cs\"].unique()"
   ]
  },
  {
   "cell_type": "code",
   "execution_count": null,
   "id": "7871b514",
   "metadata": {},
   "outputs": [],
   "source": []
  }
 ],
 "metadata": {
  "kernelspec": {
   "display_name": "Python 3 (ipykernel)",
   "language": "python",
   "name": "python3"
  },
  "language_info": {
   "codemirror_mode": {
    "name": "ipython",
    "version": 3
   },
   "file_extension": ".py",
   "mimetype": "text/x-python",
   "name": "python",
   "nbconvert_exporter": "python",
   "pygments_lexer": "ipython3",
   "version": "3.10.1"
  }
 },
 "nbformat": 4,
 "nbformat_minor": 5
}
