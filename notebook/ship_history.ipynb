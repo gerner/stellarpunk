{
 "cells": [
  {
   "cell_type": "code",
   "execution_count": 1,
   "id": "9c5bbe2a",
   "metadata": {},
   "outputs": [],
   "source": [
    "import json\n",
    "\n",
    "import pandas as pd\n",
    "import numpy as np\n",
    "from matplotlib import pyplot as plt\n",
    "import ipywidgets\n",
    "\n",
    "from stellarpunk import util"
   ]
  },
  {
   "cell_type": "markdown",
   "id": "d6d53462",
   "metadata": {},
   "source": [
    "# Loading and Preparing Data"
   ]
  },
  {
   "cell_type": "code",
   "execution_count": 2,
   "id": "ceb18552",
   "metadata": {},
   "outputs": [],
   "source": [
    "df_base = pd.read_json(\"/tmp/stellarpunk_test.test_either_side.history.gz\", lines=True)\n",
    "df_base = df_base.join(pd.json_normalize(df_base[\"o\"]).add_prefix(\"o.\"))"
   ]
  },
  {
   "cell_type": "code",
   "execution_count": 3,
   "id": "6ce486c9",
   "metadata": {},
   "outputs": [],
   "source": [
    "e_types = df_base.groupby(\"eid\")[\"p\"].min()"
   ]
  },
  {
   "cell_type": "code",
   "execution_count": 4,
   "id": "1585e6a6",
   "metadata": {},
   "outputs": [
    {
     "data": {
      "text/plain": [
       "0    8ccb3abc-b940-453c-82f8-2d108117312e\n",
       "1    c6e358d4-58e2-4d8f-bb8e-5039bdd3995b\n",
       "2    40fb3f83-c0df-404a-9f7d-4f1a791b51cd\n",
       "3    ac5f5e42-3cf0-4a74-b701-02eca0b5256a\n",
       "4    4d0b4c21-5a96-4b26-bdba-a141a6c3aab7\n",
       "5    a12cfe52-ba4f-4284-becf-cd18ea9b4bc1\n",
       "6    354486ed-1446-46dc-9381-1f997616475b\n",
       "7    8da8ac60-15ea-44a8-9b95-59a5a1cbd241\n",
       "8    c866070d-4ac1-4559-b27f-b324118d0bc0\n",
       "dtype: object"
      ]
     },
     "execution_count": 4,
     "metadata": {},
     "output_type": "execute_result"
    }
   ],
   "source": [
    "eids = pd.Series(df_base[\"eid\"].unique())\n",
    "eids"
   ]
  },
  {
   "cell_type": "code",
   "execution_count": 5,
   "id": "288e3f1e",
   "metadata": {},
   "outputs": [
    {
     "data": {
      "text/plain": [
       "0    8ccb3abc-b940-453c-82f8-2d108117312e\n",
       "dtype: object"
      ]
     },
     "execution_count": 5,
     "metadata": {},
     "output_type": "execute_result"
    }
   ],
   "source": [
    "targets = eids[pd.Series(df_base[\"eid\"].unique()).str.startswith(\"8ccb\")]\n",
    "targets"
   ]
  },
  {
   "cell_type": "code",
   "execution_count": 6,
   "id": "caf3fedb",
   "metadata": {},
   "outputs": [],
   "source": [
    "target_index = targets.index[0]"
   ]
  },
  {
   "cell_type": "code",
   "execution_count": 7,
   "id": "c9be6491",
   "metadata": {},
   "outputs": [
    {
     "data": {
      "text/plain": [
       "array(['8ccb3abc-b940-453c-82f8-2d108117312e'], dtype=object)"
      ]
     },
     "execution_count": 7,
     "metadata": {},
     "output_type": "execute_result"
    }
   ],
   "source": [
    "target_eid = df_base[\"eid\"].unique()[target_index]\n",
    "df_base = df_base[df_base[\"eid\"] == target_eid].reset_index()\n",
    "df_base[\"eid\"].unique()"
   ]
  },
  {
   "cell_type": "code",
   "execution_count": 8,
   "id": "66bf96db",
   "metadata": {},
   "outputs": [
    {
     "data": {
      "text/plain": [
       "'SHP'"
      ]
     },
     "execution_count": 8,
     "metadata": {},
     "output_type": "execute_result"
    }
   ],
   "source": [
    "e_types.loc[target_eid]"
   ]
  },
  {
   "cell_type": "code",
   "execution_count": 9,
   "id": "b77f957c",
   "metadata": {},
   "outputs": [],
   "source": [
    "loc = pd.DataFrame(np.vstack(df_base[\"loc\"]), columns=[\"loc.x\", \"loc.y\"])\n",
    "v = pd.DataFrame(np.vstack(df_base[\"v\"]), columns=[\"v.x\", \"v.y\"])\n",
    "\n",
    "empty_array = np.empty(len(df_base))\n",
    "empty_array[:] = np.nan\n",
    "\n",
    "if \"o.t_loc\" in df_base:\n",
    "    o_tloc = pd.DataFrame(np.vstack(df_base[\"o.t_loc\"].apply(lambda x: (np.nan, np.nan) if np.all(np.isnan(x)) else x)), columns=[\"o.t_loc.x\", \"o.t_loc.y\"])\n",
    "    o_tv = pd.DataFrame(np.vstack(df_base[\"o.t_v\"].apply(lambda x: (np.nan, np.nan) if np.all(np.isnan(x)) else x)), columns=[\"o.t_v.x\", \"o.t_v.y\"])\n",
    "    o_dv = pd.DataFrame(np.vstack(df_base[\"o._dv\"].apply(lambda x: (np.nan, np.nan) if np.all(np.isnan(x)) else x)), columns=[\"o._dv.x\", \"o._dv.y\"])\n",
    "else:\n",
    "    o_tloc = pd.DataFrame({\"o.t_loc\": empty_array, \"o.t_loc.x\": empty_array, \"o.t_loc.y\": empty_array})\n",
    "    o_tv = pd.DataFrame({\"o.t_v\": empty_array, \"o.t_v.x\": empty_array, \"o.t_v.y\": empty_array})\n",
    "    o_dv = pd.DataFrame({\"o._dv\": empty_array, \"o._dv.x\": empty_array, \"o._dv.y\": empty_array})\n",
    "    \n",
    "if \"o.ct\" in df_base:\n",
    "    o_ctloc = pd.DataFrame(np.vstack(df_base[\"o.ct_loc\"].apply(lambda x: (np.nan, np.nan) if np.all(np.isnan(x)) else x)), columns=[\"o.ct_loc.x\", \"o.ct_loc.y\"])\n",
    "    o_ctdv = pd.DataFrame(np.vstack(df_base[\"o.ct_dv\"].apply(lambda x: (np.nan, np.nan) if np.all(np.isnan(x)) else x)), columns=[\"o.ct_dv.x\", \"o.ct_dv.y\"])\n",
    "    o_ctv = pd.DataFrame(np.vstack(df_base[\"o.ct_v\"].apply(lambda x: (np.nan, np.nan) if np.all(np.isnan(x)) else x)), columns=[\"o.ct_v.x\", \"o.ct_v.y\"])\n",
    "    o_ctcloc = pd.DataFrame(np.vstack(df_base[\"o.ct_cloc\"].apply(lambda x: (np.nan, np.nan) if np.all(np.isnan(x)) else x)), columns=[\"o.ct_cloc.x\", \"o.ct_cloc.y\"])\n",
    "else:\n",
    "    o_ctloc = pd.DataFrame({\"o.ct_loc\": empty_array, \"o.ct_loc.x\": empty_array, \"o.ct_loc.y\": empty_array})\n",
    "    o_ctdv = pd.DataFrame({\"o.ct_dv\": empty_array, \"o.ct_dv.x\": empty_array, \"o.ct_dv.y\": empty_array})\n",
    "    o_ctv = pd.DataFrame({\"o.ct_v\": empty_array, \"o.ct_v.x\": empty_array, \"o.ct_v.y\": empty_array})\n",
    "    o_ctcloc = pd.DataFrame({\"o.ct_cloc\": empty_array, \"o.ct_cloc.x\": empty_array, \"o.ct_cloc.y\": empty_array})\n",
    "angle = pd.DataFrame(np.vstack(df_base.apply(lambda row: np.array(util.polar_to_cartesian(100, row[\"a\"])), axis=1)), columns=[\"angle.x\", \"angle.y\"])\n",
    "desired_angle = pd.DataFrame(np.vstack(df_base.apply(lambda row: np.array(util.polar_to_cartesian(100, row[\"o._ada\"])), axis=1)), columns=[\"_ada.x\", \"_ada.y\"])\n",
    "df = pd.concat([df_base, loc, v, o_ctloc, o_ctcloc, o_ctdv, o_ctv, o_tloc, o_tv, o_dv, angle, desired_angle], axis=1)\n",
    "\n",
    "if \"o.ct\" not in df_base:\n",
    "    df[\"o.ct\"] = empty_array\n",
    "    df[\"o.ct_ts\"] = empty_array\n",
    "    df[\"o.cac\"] = empty_array\n",
    "    df[\"o.cbdr\"] = empty_array\n",
    "    df[\"o.cbdr_hist\"] = empty_array\n",
    "    df[\"o.ct_ct\"] = empty_array\n",
    "    df[\"o.ct_cradius\"] = empty_array\n",
    "    df[\"o.nd\"] = empty_array\n",
    "    df[\"o.ct_dist\"] = empty_array\n",
    "    df[\"o.ct_cn\"] = empty_array\n",
    "    df[\"o.ct_ms\"] = empty_array\n",
    "    df[\"o.ct_mh\"] = empty_array\n",
    "    \n",
    "else:\n",
    "    df[\"o.ct_dist\"] = np.linalg.norm(np.vstack(df[\"loc\"]) - np.vstack(df[\"o.ct_cloc\"].apply(lambda x: (np.nan, np.nan) if np.all(np.isnan(x)) else x)), axis=1)\n",
    "    \n",
    "if \"o.t_loc\" not in df_base:\n",
    "    df[\"o.cs\"] = empty_array\n",
    "    df[\"o.t_dist\"] = empty_array\n",
    "    df[\"o.msc\"] = empty_array\n",
    "    df[\"o.max_speed_cap\"] = empty_array\n",
    "else:\n",
    "    df[\"o.t_dist\"] = np.linalg.norm(np.vstack(df[\"loc\"]) - np.vstack(df[\"o.t_loc\"].apply(lambda x: (np.nan, np.nan) if np.all(np.isnan(x)) else x)), axis=1)\n",
    "    df[\"o.max_speed_cap\"] = (df[\"o.msc\"]*(1+df[\"o.msc_a\"])**(df[\"ts\"] - df[\"o.msc_ts\"])).clip(upper=3000)\n",
    "    \n"
   ]
  },
  {
   "cell_type": "code",
   "execution_count": 10,
   "id": "6e17314e",
   "metadata": {},
   "outputs": [],
   "source": [
    "df[\"speed\"] = np.linalg.norm(df[[\"v.x\", \"v.y\"]], axis=1)\n",
    "df[\"o.t_speed\"] = np.linalg.norm(df[[\"o.t_v.x\", \"o.t_v.y\"]], axis=1)\n",
    "df[\"o._dv_speed\"] = np.linalg.norm(df[[\"o._dv.x\", \"o._dv.y\"]], axis=1)\n",
    "df[\"f_mag\"] = df[\"f\"].apply(lambda x:np.linalg.norm(x))"
   ]
  },
  {
   "cell_type": "code",
   "execution_count": 11,
   "id": "a703dac7",
   "metadata": {},
   "outputs": [
    {
     "data": {
      "text/plain": [
       "{'o': 'stellarpunk.orders.movement.GoToLocation',\n",
       " 'ct': '4d0b4c21-5a96-4b26-bdba-a141a6c3aab7',\n",
       " 'ct_ms': 177.7785425238043,\n",
       " 'ct_loc': [-14155.08984375, -83116.203125],\n",
       " 'ct_v': [0.0, 0.0],\n",
       " 'ct_ts': 0.033333333333333,\n",
       " 'ct_at': 22.923783963405935,\n",
       " 'ct_dv': [-55.715126037597656, 20.892671585083008],\n",
       " 'ct_ct': 1,\n",
       " 'ct_cloc': [-14155.08984375, -83116.203125],\n",
       " 'ct_cradius': 100.0,\n",
       " 'ct_cn': [[-14155.08984375, -83116.203125]],\n",
       " 'ct_mh': 105.73647235682579,\n",
       " 'cac': False,\n",
       " 'cach': True,\n",
       " 'cbdr': False,\n",
       " 'cbdr_hist': [[590.1277372705754, -752.1051320996194],\n",
       "  [277.4340206154193, -163.19998996239156]],\n",
       " 'nd': 8.811346330347147e-09,\n",
       " 'nnd': 321.87555439728817,\n",
       " '_nact': 0.0,\n",
       " '_ada': 0.0,\n",
       " 't_loc': [29992.143339930542, -170583.53830079656],\n",
       " 'ad': 1850.0,\n",
       " 'md': 0.0,\n",
       " 't_v': [45.216888427734375, -89.1932373046875],\n",
       " 'cs': False,\n",
       " 'scm': 302.104206733788,\n",
       " '_ncts': 16.852380952380944,\n",
       " '_dv': [225.40770721435547, -555.3019695281982],\n",
       " 'msc': 100.0,\n",
       " 'msc_ts': 16.76666666666666,\n",
       " 'msc_a': 0.2}"
      ]
     },
     "execution_count": 11,
     "metadata": {},
     "output_type": "execute_result"
    }
   ],
   "source": [
    "df.iloc[-1][\"o\"]"
   ]
  },
  {
   "cell_type": "markdown",
   "id": "a6d3cf5e",
   "metadata": {},
   "source": [
    "# Basic Ship Vitals"
   ]
  },
  {
   "cell_type": "markdown",
   "id": "36730903",
   "metadata": {},
   "source": [
    "## Position and Heading"
   ]
  },
  {
   "cell_type": "code",
   "execution_count": 12,
   "id": "665329e8",
   "metadata": {},
   "outputs": [
    {
     "data": {
      "application/vnd.jupyter.widget-view+json": {
       "model_id": "87e5115a75cd404e9bc4dfd2187f0903",
       "version_major": 2,
       "version_minor": 0
      },
      "text/plain": [
       "interactive(children=(FloatSlider(value=16.799999999999994, continuous_update=False, description='max_time', m…"
      ]
     },
     "metadata": {},
     "output_type": "display_data"
    },
    {
     "data": {
      "text/plain": [
       "<function __main__.plot_location_chart(max_time)>"
      ]
     },
     "execution_count": 12,
     "metadata": {},
     "output_type": "execute_result"
    }
   ],
   "source": [
    "def plot_location_chart(max_time):\n",
    "    sample = df[df[\"ts\"] <= max_time].iloc[::50]\n",
    "    plt.quiver(sample[\"loc.x\"], sample[\"loc.y\"], sample[\"angle.x\"], sample[\"angle.y\"])#, scale=100)\n",
    "    plt.scatter(sample[\"o.t_loc.x\"], sample[\"o.t_loc.y\"])\n",
    "    #center = (0,2500)\n",
    "    #radius = 10000\n",
    "    #plt.xlim(center[0]-radius,center[0]+radius)\n",
    "    #plt.ylim(center[1]-radius,center[1]+radius)\n",
    "\n",
    "ipywidgets.interact(plot_location_chart, max_time=ipywidgets.FloatSlider(value=df[\"ts\"].max(), min=df[\"ts\"].min(), max=df[\"ts\"].max(), continuous_update=False))"
   ]
  },
  {
   "cell_type": "code",
   "execution_count": 13,
   "id": "ed1c2ca3",
   "metadata": {},
   "outputs": [
    {
     "data": {
      "text/html": [
       "<div>\n",
       "<style scoped>\n",
       "    .dataframe tbody tr th:only-of-type {\n",
       "        vertical-align: middle;\n",
       "    }\n",
       "\n",
       "    .dataframe tbody tr th {\n",
       "        vertical-align: top;\n",
       "    }\n",
       "\n",
       "    .dataframe thead th {\n",
       "        text-align: right;\n",
       "    }\n",
       "</style>\n",
       "<table border=\"1\" class=\"dataframe\">\n",
       "  <thead>\n",
       "    <tr style=\"text-align: right;\">\n",
       "      <th></th>\n",
       "      <th>loc.x</th>\n",
       "      <th>loc.y</th>\n",
       "    </tr>\n",
       "  </thead>\n",
       "  <tbody>\n",
       "    <tr>\n",
       "      <th>count</th>\n",
       "      <td>504.000000</td>\n",
       "      <td>504.000000</td>\n",
       "    </tr>\n",
       "    <tr>\n",
       "      <th>mean</th>\n",
       "      <td>-16964.300679</td>\n",
       "      <td>-78357.477400</td>\n",
       "    </tr>\n",
       "    <tr>\n",
       "      <th>std</th>\n",
       "      <td>1390.213518</td>\n",
       "      <td>2527.737753</td>\n",
       "    </tr>\n",
       "    <tr>\n",
       "      <th>min</th>\n",
       "      <td>-19137.515625</td>\n",
       "      <td>-82953.000000</td>\n",
       "    </tr>\n",
       "    <tr>\n",
       "      <th>25%</th>\n",
       "      <td>-18202.025879</td>\n",
       "      <td>-80526.138672</td>\n",
       "    </tr>\n",
       "    <tr>\n",
       "      <th>50%</th>\n",
       "      <td>-17058.862305</td>\n",
       "      <td>-78218.085938</td>\n",
       "    </tr>\n",
       "    <tr>\n",
       "      <th>75%</th>\n",
       "      <td>-15771.202393</td>\n",
       "      <td>-76115.431641</td>\n",
       "    </tr>\n",
       "    <tr>\n",
       "      <th>max</th>\n",
       "      <td>-14432.523438</td>\n",
       "      <td>-74334.093750</td>\n",
       "    </tr>\n",
       "  </tbody>\n",
       "</table>\n",
       "</div>"
      ],
      "text/plain": [
       "              loc.x         loc.y\n",
       "count    504.000000    504.000000\n",
       "mean  -16964.300679 -78357.477400\n",
       "std     1390.213518   2527.737753\n",
       "min   -19137.515625 -82953.000000\n",
       "25%   -18202.025879 -80526.138672\n",
       "50%   -17058.862305 -78218.085938\n",
       "75%   -15771.202393 -76115.431641\n",
       "max   -14432.523438 -74334.093750"
      ]
     },
     "execution_count": 13,
     "metadata": {},
     "output_type": "execute_result"
    }
   ],
   "source": [
    "df[[\"loc.x\", \"loc.y\"]].describe()"
   ]
  },
  {
   "cell_type": "code",
   "execution_count": 14,
   "id": "e0f37c4c",
   "metadata": {},
   "outputs": [
    {
     "data": {
      "text/plain": [
       "Text(0.5, 1.0, 'position')"
      ]
     },
     "execution_count": 14,
     "metadata": {},
     "output_type": "execute_result"
    },
    {
     "data": {
      "image/png": "[encoded data removed]",
      "text/plain": [
       "<Figure size 432x288 with 1 Axes>"
      ]
     },
     "metadata": {
      "needs_background": "light"
     },
     "output_type": "display_data"
    }
   ],
   "source": [
    "plt.scatter(df[\"ts\"], df[\"loc.x\"])\n",
    "plt.scatter(df[\"ts\"], df[\"loc.y\"])\n",
    "plt.title(\"position\")"
   ]
  },
  {
   "cell_type": "code",
   "execution_count": 15,
   "id": "b65fd521",
   "metadata": {},
   "outputs": [
    {
     "data": {
      "application/vnd.jupyter.widget-view+json": {
       "model_id": "c92f0681cd0c4893b24a9b84a16f2ff3",
       "version_major": 2,
       "version_minor": 0
      },
      "text/plain": [
       "interactive(children=(FloatSlider(value=15.0, continuous_update=False, description='hist_length', max=16.76666…"
      ]
     },
     "metadata": {},
     "output_type": "display_data"
    },
    {
     "data": {
      "text/plain": [
       "<function __main__.plot_heading(hist_length, max_time)>"
      ]
     },
     "execution_count": 15,
     "metadata": {},
     "output_type": "execute_result"
    }
   ],
   "source": [
    "def plot_heading(hist_length, max_time):\n",
    "    sample = df[(df[\"ts\"] >= max_time - hist_length) & (df[\"ts\"] <= max_time)]\n",
    "    plt.scatter(sample[\"ts\"], sample[\"a\"].apply(lambda x: util.normalize_angle(x, shortest=True)), label=\"theta\")\n",
    "    plt.scatter(sample[\"ts\"], sample[\"av\"], label=\"omega\")\n",
    "    plt.scatter(sample[\"ts\"], sample[\"o._ada\"].apply(lambda x: util.normalize_angle(x, shortest=True)), label=\"desired theta\")\n",
    "    plt.hlines(np.pi, sample[\"ts\"].min(), sample[\"ts\"].max(), color=\"red\")\n",
    "    plt.hlines(0, sample[\"ts\"].min(), sample[\"ts\"].max(), color=\"red\")\n",
    "    plt.legend()\n",
    "    plt.title(\"heading and angular velocity\")\n",
    "    \n",
    "ipywidgets.interact(plot_heading, hist_length=ipywidgets.FloatSlider(value=15, min=0, max=df[\"ts\"].max()-df[\"ts\"].min(), continuous_update=False), max_time=ipywidgets.FloatSlider(value=df[\"ts\"].max(), min=df[\"ts\"].min(), max=df[\"ts\"].max()+.1, continuous_update=False))"
   ]
  },
  {
   "cell_type": "code",
   "execution_count": 16,
   "id": "e1a4515d",
   "metadata": {},
   "outputs": [
    {
     "data": {
      "text/plain": [
       "<matplotlib.collections.PathCollection at 0x7ff8d0248610>"
      ]
     },
     "execution_count": 16,
     "metadata": {},
     "output_type": "execute_result"
    },
    {
     "data": {
      "image/png": "[encoded data removed]",
      "text/plain": [
       "<Figure size 432x288 with 1 Axes>"
      ]
     },
     "metadata": {
      "needs_background": "light"
     },
     "output_type": "display_data"
    }
   ],
   "source": [
    "plt.scatter(df[\"ts\"], df[\"t\"])"
   ]
  },
  {
   "cell_type": "code",
   "execution_count": 17,
   "id": "f22420e0",
   "metadata": {},
   "outputs": [
    {
     "data": {
      "text/plain": [
       "False    475\n",
       "True      29\n",
       "Name: t, dtype: int64"
      ]
     },
     "execution_count": 17,
     "metadata": {},
     "output_type": "execute_result"
    }
   ],
   "source": [
    "(df[\"t\"] == 0).value_counts()"
   ]
  },
  {
   "cell_type": "code",
   "execution_count": 18,
   "id": "fa4f825a",
   "metadata": {},
   "outputs": [
    {
     "data": {
      "text/plain": [
       "True     472\n",
       "False     32\n",
       "Name: t, dtype: int64"
      ]
     },
     "execution_count": 18,
     "metadata": {},
     "output_type": "execute_result"
    }
   ],
   "source": [
    "((df[\"t\"].abs() == 2700000.0) | (df[\"t\"] == 0)).value_counts()"
   ]
  },
  {
   "cell_type": "markdown",
   "id": "4ce26323",
   "metadata": {},
   "source": [
    "### Velocity and Acceleration"
   ]
  },
  {
   "cell_type": "code",
   "execution_count": 19,
   "id": "b5778f75",
   "metadata": {},
   "outputs": [
    {
     "data": {
      "application/vnd.jupyter.widget-view+json": {
       "model_id": "1daa0ce0d5aa4645b7d44e8adb2b9bc4",
       "version_major": 2,
       "version_minor": 0
      },
      "text/plain": [
       "interactive(children=(FloatSlider(value=15.0, continuous_update=False, description='hist_length', max=16.76666…"
      ]
     },
     "metadata": {},
     "output_type": "display_data"
    },
    {
     "data": {
      "text/plain": [
       "<function __main__.plot_speed(hist_length, max_time)>"
      ]
     },
     "execution_count": 19,
     "metadata": {},
     "output_type": "execute_result"
    }
   ],
   "source": [
    "def plot_speed(hist_length, max_time):\n",
    "    sample = df[(df[\"ts\"] >= max_time - hist_length) & (df[\"ts\"] <= max_time)]\n",
    "    plt.scatter(sample[\"ts\"], sample[\"speed\"])\n",
    "    plt.title(\"speed\")\n",
    "    print(f'min speed: {sample[\"speed\"].min()}')\n",
    "    print(f'max speed: {sample[\"speed\"].max()}')\n",
    "    \n",
    "ipywidgets.interact(plot_speed, hist_length=ipywidgets.FloatSlider(value=15, min=0, max=df[\"ts\"].max()-df[\"ts\"].min(), continuous_update=False), max_time=ipywidgets.FloatSlider(value=df[\"ts\"].max(), min=df[\"ts\"].min(), max=df[\"ts\"].max()+.1, continuous_update=False))"
   ]
  },
  {
   "cell_type": "code",
   "execution_count": 20,
   "id": "32a0a440",
   "metadata": {
    "scrolled": true
   },
   "outputs": [
    {
     "data": {
      "application/vnd.jupyter.widget-view+json": {
       "model_id": "535b0c191b174f1285b96a3688cef9a4",
       "version_major": 2,
       "version_minor": 0
      },
      "text/plain": [
       "interactive(children=(FloatSlider(value=15.0, continuous_update=False, description='hist_length', max=16.76666…"
      ]
     },
     "metadata": {},
     "output_type": "display_data"
    },
    {
     "data": {
      "text/plain": [
       "<function __main__.plot_velocity(hist_length, max_time)>"
      ]
     },
     "execution_count": 20,
     "metadata": {},
     "output_type": "execute_result"
    }
   ],
   "source": [
    "def plot_velocity(hist_length, max_time):\n",
    "    sample = df[(df[\"ts\"] >= max_time - hist_length) & (df[\"ts\"] <= max_time)]\n",
    "    plt.scatter(sample[\"ts\"], sample[\"v.x\"], label=\"x\")\n",
    "    plt.scatter(sample[\"ts\"], sample[\"v.y\"], label=\"y\")\n",
    "    plt.legend()\n",
    "    plt.title(\"velocity\")\n",
    "    \n",
    "ipywidgets.interact(plot_velocity, hist_length=ipywidgets.FloatSlider(value=15, min=0, max=df[\"ts\"].max()-df[\"ts\"].min(), continuous_update=False), max_time=ipywidgets.FloatSlider(value=df[\"ts\"].max(), min=df[\"ts\"].min(), max=df[\"ts\"].max()+.1, continuous_update=False))"
   ]
  },
  {
   "cell_type": "code",
   "execution_count": 21,
   "id": "7e3172c1",
   "metadata": {
    "scrolled": true
   },
   "outputs": [
    {
     "data": {
      "application/vnd.jupyter.widget-view+json": {
       "model_id": "e25a5ae609cf43aa9fbee9f5bf6cf446",
       "version_major": 2,
       "version_minor": 0
      },
      "text/plain": [
       "interactive(children=(FloatSlider(value=15.0, continuous_update=False, description='hist_length', max=16.76666…"
      ]
     },
     "metadata": {},
     "output_type": "display_data"
    },
    {
     "data": {
      "text/plain": [
       "<function __main__.plot_acceleration(hist_length, max_time)>"
      ]
     },
     "execution_count": 21,
     "metadata": {},
     "output_type": "execute_result"
    }
   ],
   "source": [
    "def plot_acceleration(hist_length, max_time):\n",
    "    sample = df[(df[\"ts\"] >= max_time - hist_length) & (df[\"ts\"] <= max_time)]\n",
    "    plt.scatter(sample[\"ts\"], (sample[\"v.x\"].shift(1) - sample[\"v.x\"]) / (sample[\"ts\"].shift(1) - sample[\"ts\"]), label=\"x\")\n",
    "    plt.scatter(sample[\"ts\"], (sample[\"v.y\"].shift(1) - sample[\"v.y\"]) / (sample[\"ts\"].shift(1) - sample[\"ts\"]), label=\"y\")\n",
    "    plt.yscale(\"symlog\")\n",
    "    plt.legend()\n",
    "    plt.title(\"acceleration\")\n",
    "    \n",
    "ipywidgets.interact(plot_acceleration, hist_length=ipywidgets.FloatSlider(value=15, min=0, max=df[\"ts\"].max()-df[\"ts\"].min(), continuous_update=False), max_time=ipywidgets.FloatSlider(value=df[\"ts\"].max(), min=df[\"ts\"].min(), max=df[\"ts\"].max()+.1, continuous_update=False))"
   ]
  },
  {
   "cell_type": "code",
   "execution_count": 22,
   "id": "7754010f",
   "metadata": {},
   "outputs": [
    {
     "data": {
      "application/vnd.jupyter.widget-view+json": {
       "model_id": "a5f2725b74954024967717efce8d4e84",
       "version_major": 2,
       "version_minor": 0
      },
      "text/plain": [
       "interactive(children=(FloatSlider(value=15.0, continuous_update=False, description='hist_length', max=16.76666…"
      ]
     },
     "metadata": {},
     "output_type": "display_data"
    },
    {
     "data": {
      "text/plain": [
       "<function __main__.plot_force(hist_length, max_time)>"
      ]
     },
     "execution_count": 22,
     "metadata": {},
     "output_type": "execute_result"
    }
   ],
   "source": [
    "def plot_force(hist_length, max_time):\n",
    "    sample = df[(df[\"ts\"] >= max_time - hist_length) & (df[\"ts\"] <= max_time)]\n",
    "    plt.scatter(sample[\"ts\"], sample[\"f_mag\"])\n",
    "    plt.yscale(\"log\")\n",
    "    plt.title(\"force\")\n",
    "    print(f'min force={sample[\"f_mag\"].min()}')\n",
    "    print(f'max force={sample[\"f_mag\"].max()}')\n",
    "\n",
    "ipywidgets.interact(plot_force, hist_length=ipywidgets.FloatSlider(value=15, min=0, max=df[\"ts\"].max()-df[\"ts\"].min(), continuous_update=False), max_time=ipywidgets.FloatSlider(value=df[\"ts\"].max(), min=df[\"ts\"].min(), max=df[\"ts\"].max()+.1, continuous_update=False))"
   ]
  },
  {
   "cell_type": "markdown",
   "id": "4630e3f8",
   "metadata": {},
   "source": [
    "# Behavior Monitoring"
   ]
  },
  {
   "cell_type": "code",
   "execution_count": 23,
   "id": "cf1a4380",
   "metadata": {},
   "outputs": [
    {
     "data": {
      "text/plain": [
       "[0.066666666666666, None, 13.566666666666631, None]"
      ]
     },
     "execution_count": 23,
     "metadata": {},
     "output_type": "execute_result"
    }
   ],
   "source": [
    "[next((df.iloc[idx][\"ts\"] if idx is not None else None for idx, v in zip(df.index, (~df[c].isna() & df[c] == True)) if v), None) for c in [\"o.ct\", \"o.cs\", \"o.cac\", \"o.cbdr\"]]"
   ]
  },
  {
   "cell_type": "code",
   "execution_count": 24,
   "id": "9e6db2b0",
   "metadata": {},
   "outputs": [
    {
     "data": {
      "application/vnd.jupyter.widget-view+json": {
       "model_id": "ad85140fb6544837a22748b380250770",
       "version_major": 2,
       "version_minor": 0
      },
      "text/plain": [
       "interactive(children=(FloatSlider(value=15.0, continuous_update=False, description='hist_length', max=16.76666…"
      ]
     },
     "metadata": {},
     "output_type": "display_data"
    },
    {
     "data": {
      "text/plain": [
       "<function __main__.plot_collision_info(hist_length, max_time)>"
      ]
     },
     "execution_count": 24,
     "metadata": {},
     "output_type": "execute_result"
    }
   ],
   "source": [
    "def plot_collision_info(hist_length, max_time):\n",
    "    sample = df[(df[\"ts\"] >= max_time - hist_length) & (df[\"ts\"] <= max_time)]\n",
    "    plt.scatter(sample[\"ts\"], (~(sample[\"o.ct\"].isna())).astype(int), label=\"ct\")\n",
    "    plt.scatter(sample[\"ts\"], sample[\"o.cs\"].fillna(0).astype(int)+0.05, label=\"cs\")\n",
    "    plt.scatter(sample[\"ts\"], sample[\"o.cac\"].fillna(0).astype(int)+0.1, label=\"cac\")\n",
    "    plt.scatter(sample[\"ts\"], sample[\"o.cbdr\"].fillna(0).astype(int)+0.15, label=\"cbdr\")\n",
    "    plt.scatter(sample[\"ts\"], sample[\"o.cach\"].fillna(0).astype(int)+0.1, label=\"cach\", marker=\"+\")\n",
    "    plt.legend()\n",
    "    plt.title(\"status flags\")\n",
    "    \n",
    "    flag_cols = [\"o.ct\", \"o.cs\", \"o.cac\", \"o.cach\", \"o.cbdr\"]\n",
    "    first_ts = [\n",
    "        next(\n",
    "            (sample.loc[idx][\"ts\"] if idx is not None else None\n",
    "             for idx, v in zip(sample.index, (~sample[c].isna() & sample[c] == True))\n",
    "             if v),\n",
    "            None\n",
    "        )\n",
    "        for c in flag_cols\n",
    "    ]\n",
    "    for c, ts in zip(flag_cols, first_ts):\n",
    "        print(f'first {c}: {ts}')\n",
    "\n",
    "ipywidgets.interact(plot_collision_info, hist_length=ipywidgets.FloatSlider(value=15, min=0, max=df[\"ts\"].max()-df[\"ts\"].min(), continuous_update=False), max_time=ipywidgets.FloatSlider(value=df[\"ts\"].max(), min=df[\"ts\"].min(), max=df[\"ts\"].max()+.1, continuous_update=False))"
   ]
  },
  {
   "cell_type": "markdown",
   "id": "94ba2b3d",
   "metadata": {},
   "source": [
    "### Target Location"
   ]
  },
  {
   "cell_type": "code",
   "execution_count": 25,
   "id": "2640e1e5",
   "metadata": {},
   "outputs": [
    {
     "data": {
      "text/html": [
       "<div>\n",
       "<style scoped>\n",
       "    .dataframe tbody tr th:only-of-type {\n",
       "        vertical-align: middle;\n",
       "    }\n",
       "\n",
       "    .dataframe tbody tr th {\n",
       "        vertical-align: top;\n",
       "    }\n",
       "\n",
       "    .dataframe thead tr th {\n",
       "        text-align: left;\n",
       "    }\n",
       "\n",
       "    .dataframe thead tr:last-of-type th {\n",
       "        text-align: right;\n",
       "    }\n",
       "</style>\n",
       "<table border=\"1\" class=\"dataframe\">\n",
       "  <thead>\n",
       "    <tr>\n",
       "      <th></th>\n",
       "      <th></th>\n",
       "      <th colspan=\"3\" halign=\"left\">ts</th>\n",
       "      <th colspan=\"2\" halign=\"left\">o.t_dist</th>\n",
       "      <th>o.ad</th>\n",
       "    </tr>\n",
       "    <tr>\n",
       "      <th></th>\n",
       "      <th></th>\n",
       "      <th>count</th>\n",
       "      <th>min</th>\n",
       "      <th>max</th>\n",
       "      <th>min</th>\n",
       "      <th>max</th>\n",
       "      <th>min</th>\n",
       "    </tr>\n",
       "    <tr>\n",
       "      <th>o.t_loc.x</th>\n",
       "      <th>o.t_loc.y</th>\n",
       "      <th></th>\n",
       "      <th></th>\n",
       "      <th></th>\n",
       "      <th></th>\n",
       "      <th></th>\n",
       "      <th></th>\n",
       "    </tr>\n",
       "  </thead>\n",
       "  <tbody>\n",
       "    <tr>\n",
       "      <th>29992.14334</th>\n",
       "      <th>-170583.538301</th>\n",
       "      <td>504</td>\n",
       "      <td>0.033333</td>\n",
       "      <td>16.8</td>\n",
       "      <td>98247.96314</td>\n",
       "      <td>108063.309992</td>\n",
       "      <td>1850.0</td>\n",
       "    </tr>\n",
       "  </tbody>\n",
       "</table>\n",
       "</div>"
      ],
      "text/plain": [
       "                              ts                     o.t_dist                 \\\n",
       "                           count       min   max          min            max   \n",
       "o.t_loc.x   o.t_loc.y                                                          \n",
       "29992.14334 -170583.538301   504  0.033333  16.8  98247.96314  108063.309992   \n",
       "\n",
       "                              o.ad  \n",
       "                               min  \n",
       "o.t_loc.x   o.t_loc.y               \n",
       "29992.14334 -170583.538301  1850.0  "
      ]
     },
     "execution_count": 25,
     "metadata": {},
     "output_type": "execute_result"
    }
   ],
   "source": [
    "if np.any(~df[\"o.t_loc\"].isna()):\n",
    "    x = df.groupby([\"o.t_loc.x\", \"o.t_loc.y\"]).agg({\"ts\": [\"count\", \"min\", \"max\"], \"o.t_dist\": [\"min\",\"max\"], \"o.ad\":[\"min\"]})\n",
    "else:\n",
    "    x = \"no location target\"\n",
    "x"
   ]
  },
  {
   "cell_type": "code",
   "execution_count": 26,
   "id": "74d23fb4",
   "metadata": {},
   "outputs": [
    {
     "data": {
      "application/vnd.jupyter.widget-view+json": {
       "model_id": "144a22920ead403f96b7727e2776226f",
       "version_major": 2,
       "version_minor": 0
      },
      "text/plain": [
       "interactive(children=(FloatSlider(value=15.0, continuous_update=False, description='hist_length', max=16.76666…"
      ]
     },
     "metadata": {},
     "output_type": "display_data"
    },
    {
     "data": {
      "text/plain": [
       "<function __main__.plot_target_distance(hist_length, max_time)>"
      ]
     },
     "execution_count": 26,
     "metadata": {},
     "output_type": "execute_result"
    }
   ],
   "source": [
    "#sample = df[(df[\"ts\"] < 124.4) & (df[\"ts\"] > 120)]\n",
    "def plot_target_distance(hist_length, max_time):\n",
    "    sample = df[(df[\"ts\"] >= max_time - hist_length) & (df[\"ts\"] <= max_time)]\n",
    "    plt.scatter(sample[\"ts\"], sample[\"o.t_dist\"])\n",
    "    plt.scatter(sample[\"ts\"], sample[\"o.ad\"], color=\"green\", marker=\"_\")\n",
    "    plt.scatter(sample[\"ts\"], sample[\"o.md\"], color=\"red\", marker=\"_\")\n",
    "    #plt.ylim(0,1500)\n",
    "    plt.title(\"distance to target\")\n",
    "    print(f'when first arrived {sample[sample[\"o.t_dist\"] < sample[\"o.ad\"]][\"ts\"].min()}')\n",
    "\n",
    "ipywidgets.interact(\n",
    "    plot_target_distance,\n",
    "    hist_length=ipywidgets.FloatSlider(value=15, min=0, max=df[\"ts\"].max()-df[\"ts\"].min(), continuous_update=False),\n",
    "    max_time=ipywidgets.FloatSlider(value=df[\"ts\"].max(), min=df[\"ts\"].min(), max=df[\"ts\"].max()+.1, continuous_update=False))"
   ]
  },
  {
   "cell_type": "code",
   "execution_count": 27,
   "id": "d86ba49e",
   "metadata": {},
   "outputs": [
    {
     "data": {
      "text/plain": [
       "nan"
      ]
     },
     "execution_count": 27,
     "metadata": {},
     "output_type": "execute_result"
    }
   ],
   "source": [
    "df[df[\"o.t_dist\"] < df[\"o.ad\"]][\"ts\"].min()"
   ]
  },
  {
   "cell_type": "code",
   "execution_count": 28,
   "id": "4d0bf8d0",
   "metadata": {},
   "outputs": [
    {
     "data": {
      "application/vnd.jupyter.widget-view+json": {
       "model_id": "bd83c9109366448f98832ef3c21e6409",
       "version_major": 2,
       "version_minor": 0
      },
      "text/plain": [
       "interactive(children=(FloatSlider(value=15.0, continuous_update=False, description='hist_length', max=16.76666…"
      ]
     },
     "metadata": {},
     "output_type": "display_data"
    },
    {
     "data": {
      "text/plain": [
       "<function __main__.plot_desired_speed(hist_length, max_time)>"
      ]
     },
     "execution_count": 28,
     "metadata": {},
     "output_type": "execute_result"
    }
   ],
   "source": [
    "def plot_desired_speed(hist_length, max_time):\n",
    "    sample = df[(df[\"ts\"] >= max_time - hist_length) & (df[\"ts\"] <= max_time)]\n",
    "    plt.scatter(sample[\"ts\"], sample[\"speed\"], label=\"actual speed\")\n",
    "    plt.scatter(sample[\"ts\"], sample[\"o.t_speed\"], label=\"desired speed\")\n",
    "    plt.scatter(sample[\"ts\"], sample[\"o.max_speed_cap\"], label=\"max speed cap\")\n",
    "    plt.scatter(sample[\"ts\"], sample[\"o._dv_speed\"], label=\"desired speed (_dv)\")\n",
    "    plt.legend()\n",
    "    plt.title(\"speed and desired speed to target\")\n",
    "    plt.ylim(0)\n",
    "\n",
    "ipywidgets.interact(\n",
    "    plot_desired_speed,\n",
    "    hist_length=ipywidgets.FloatSlider(value=15, min=0, max=df[\"ts\"].max()-df[\"ts\"].min(), continuous_update=False),\n",
    "    max_time=ipywidgets.FloatSlider(value=df[\"ts\"].max(), min=df[\"ts\"].min(), max=df[\"ts\"].max()+.1, continuous_update=False))"
   ]
  },
  {
   "cell_type": "code",
   "execution_count": 29,
   "id": "d7341dc2",
   "metadata": {
    "scrolled": true
   },
   "outputs": [
    {
     "data": {
      "text/plain": [
       "Text(0.5, 1.0, 'desired speed delta')"
      ]
     },
     "execution_count": 29,
     "metadata": {},
     "output_type": "execute_result"
    },
    {
     "data": {
      "image/png": "[encoded data removed]",
      "text/plain": [
       "<Figure size 432x288 with 1 Axes>"
      ]
     },
     "metadata": {
      "needs_background": "light"
     },
     "output_type": "display_data"
    }
   ],
   "source": [
    "plt.scatter(df[\"ts\"], df[\"o.t_speed\"] - df[\"speed\"])\n",
    "plt.scatter(df[\"ts\"], np.linalg.norm(np.array((df[\"o.t_v.x\"] - df[\"v.x\"], df[\"o.t_v.y\"] - df[\"v.y\"])), axis=0))\n",
    "plt.title(\"desired speed delta\")"
   ]
  },
  {
   "cell_type": "markdown",
   "id": "5ac378ec",
   "metadata": {},
   "source": [
    "## Collision Avoidance"
   ]
  },
  {
   "cell_type": "markdown",
   "id": "6936a767",
   "metadata": {},
   "source": [
    "### Collision Threats"
   ]
  },
  {
   "cell_type": "code",
   "execution_count": 30,
   "id": "f38ca4d8",
   "metadata": {},
   "outputs": [
    {
     "data": {
      "application/vnd.jupyter.widget-view+json": {
       "model_id": "ace0dfcaf0e94806a1932de183dfd897",
       "version_major": 2,
       "version_minor": 0
      },
      "text/plain": [
       "interactive(children=(FloatSlider(value=15.0, continuous_update=False, description='hist_length', max=16.76666…"
      ]
     },
     "metadata": {},
     "output_type": "display_data"
    },
    {
     "data": {
      "text/plain": [
       "<function __main__.show_collision_threats(hist_length, max_time)>"
      ]
     },
     "execution_count": 30,
     "metadata": {},
     "output_type": "execute_result"
    }
   ],
   "source": [
    "def show_collision_threats(hist_length, max_time):\n",
    "    sample = df[(df[\"ts\"] >= max_time-hist_length) & (df[\"ts\"] <= max_time)]\n",
    "    if np.any(~sample[\"o.ct\"].isna()):\n",
    "        x = sample.groupby(\"o.ct\").agg({\"ts\": [\"count\", \"min\", \"max\"], \"o.ct_dist\": [\"min\",\"max\"]})\n",
    "    else:\n",
    "        x = \"no collision threats\"\n",
    "    return x\n",
    "ipywidgets.interact(\n",
    "    show_collision_threats,\n",
    "    hist_length=ipywidgets.FloatSlider(value=15, min=0, max=df[\"ts\"].max()-df[\"ts\"].min(), continuous_update=False),\n",
    "    max_time=ipywidgets.FloatSlider(value=df[\"ts\"].max(), min=df[\"ts\"].min(), max=df[\"ts\"].max()+.1, continuous_update=False)\n",
    ")"
   ]
  },
  {
   "cell_type": "code",
   "execution_count": 31,
   "id": "1e264d01",
   "metadata": {},
   "outputs": [
    {
     "data": {
      "text/plain": [
       "eid\n",
       "4d0b4c21-5a96-4b26-bdba-a141a6c3aab7    AST\n",
       "Name: p, dtype: object"
      ]
     },
     "execution_count": 31,
     "metadata": {},
     "output_type": "execute_result"
    }
   ],
   "source": [
    "e_types.loc[df[~df[\"o.ct\"].isna()][\"o.ct\"].unique()]"
   ]
  },
  {
   "cell_type": "code",
   "execution_count": 32,
   "id": "890424d5",
   "metadata": {},
   "outputs": [
    {
     "data": {
      "application/vnd.jupyter.widget-view+json": {
       "model_id": "c14b388ad56e496b91d9b2a751660665",
       "version_major": 2,
       "version_minor": 0
      },
      "text/plain": [
       "interactive(children=(FloatSlider(value=15.0, continuous_update=False, description='hist_length', max=16.76666…"
      ]
     },
     "metadata": {},
     "output_type": "display_data"
    },
    {
     "data": {
      "text/plain": [
       "<function __main__.plot_collision_distance(hist_length, max_time)>"
      ]
     },
     "execution_count": 32,
     "metadata": {},
     "output_type": "execute_result"
    }
   ],
   "source": [
    "def plot_collision_distance(hist_length, max_time):\n",
    "    sample = df[(df[\"ts\"] >= max_time-hist_length) & (df[\"ts\"] <= max_time)]\n",
    "    plt.scatter(sample[\"ts\"], sample[\"o.ct_dist\"])\n",
    "    plt.scatter(sample[\"ts\"], sample[\"o.ct_cradius\"]+sample[\"o.scm\"]*2, color=\"green\", marker=\"_\")\n",
    "    plt.scatter(sample[\"ts\"], sample[\"o.ct_cradius\"]+sample[\"o.scm\"], color=\"orange\", marker=\"_\")\n",
    "    plt.scatter(sample[\"ts\"], sample[\"o.ct_cradius\"], color=\"red\", marker=\"_\")\n",
    "    plt.hlines(60, sample[\"ts\"].min(), sample[\"ts\"].max(), color=\"red\")\n",
    "    plt.ylim(0)\n",
    "    plt.title(\"distance to collision threat\")\n",
    "    print(f'max ct dist: {sample[\"o.ct_dist\"].max()}')\n",
    "    print(f'min ct dist: {sample[\"o.ct_dist\"].min()}')\n",
    "\n",
    "ipywidgets.interact(\n",
    "    plot_collision_distance,\n",
    "    hist_length=ipywidgets.FloatSlider(value=15, min=0, max=df[\"ts\"].max()-df[\"ts\"].min(), continuous_update=False),\n",
    "    max_time=ipywidgets.FloatSlider(value=df[\"ts\"].max(), min=df[\"ts\"].min(), max=df[\"ts\"].max()+.1, continuous_update=False)\n",
    ")"
   ]
  },
  {
   "cell_type": "code",
   "execution_count": 33,
   "id": "04aa08ad",
   "metadata": {},
   "outputs": [
    {
     "data": {
      "application/vnd.jupyter.widget-view+json": {
       "model_id": "0ef88621b27b40ebb244d539a0ff029c",
       "version_major": 2,
       "version_minor": 0
      },
      "text/plain": [
       "interactive(children=(FloatSlider(value=15.0, continuous_update=False, description='hist_length', max=16.76666…"
      ]
     },
     "metadata": {},
     "output_type": "display_data"
    },
    {
     "data": {
      "text/plain": [
       "<function __main__.plot_minimum_separation(hist_length, max_time)>"
      ]
     },
     "execution_count": 33,
     "metadata": {},
     "output_type": "execute_result"
    }
   ],
   "source": [
    "def plot_minimum_separation(hist_length, max_time):\n",
    "    sample = df[(df[\"ts\"] >= max_time-hist_length) & (df[\"ts\"] <= max_time)]\n",
    "    plt.scatter(sample[\"ts\"], sample[\"o.ct_ms\"])\n",
    "    #plt.scatter(sample[\"ts\"], sample[\"o.ct_cradius\"]+30, color=\"red\", marker=\"_\")\n",
    "    plt.ylim(0)\n",
    "    plt.title(\"minimum_separation with collision threat\")\n",
    "    print(f'max min sep: {sample[\"o.ct_ms\"].max()}')\n",
    "    print(f'min min sep: {sample[\"o.ct_ms\"].min()}')\n",
    "\n",
    "ipywidgets.interact(\n",
    "    plot_minimum_separation,\n",
    "    hist_length=ipywidgets.FloatSlider(value=15, min=0, max=df[\"ts\"].max()-df[\"ts\"].min(), continuous_update=False),\n",
    "    max_time=ipywidgets.FloatSlider(value=df[\"ts\"].max(), min=df[\"ts\"].min(), max=df[\"ts\"].max()+.1, continuous_update=False)\n",
    ")"
   ]
  },
  {
   "cell_type": "code",
   "execution_count": 34,
   "id": "12faf352",
   "metadata": {},
   "outputs": [
    {
     "data": {
      "application/vnd.jupyter.widget-view+json": {
       "model_id": "1b0dfcab4e3343eeb4befab69baa6727",
       "version_major": 2,
       "version_minor": 0
      },
      "text/plain": [
       "interactive(children=(FloatSlider(value=15.0, continuous_update=False, description='hist_length', max=16.76666…"
      ]
     },
     "metadata": {},
     "output_type": "display_data"
    },
    {
     "data": {
      "text/plain": [
       "<function __main__.plot_threat_age(hist_length, max_time)>"
      ]
     },
     "execution_count": 34,
     "metadata": {},
     "output_type": "execute_result"
    }
   ],
   "source": [
    "def plot_threat_age(hist_length, max_time):\n",
    "    sample = df[(df[\"ts\"] >= max_time - hist_length) & (df[\"ts\"] <= max_time)]\n",
    "    fig, ax1 = plt.subplots()\n",
    "    ax2 = ax1.twinx()\n",
    "\n",
    "    ax1.scatter(sample[\"ts\"], 1-sample[\"o.ct\"].isna().astype(int))\n",
    "    ax2.scatter(sample[\"ts\"], sample[\"ts\"] - sample[\"o.ct_ts\"], color=\"orange\")\n",
    "    plt.title(\"Collision Threat and Time Since Detection\")\n",
    "\n",
    "    #ax2.set_ylim(0,(df[\"ts\"] - df[\"o.ct_ts\"]).max()*1.2)\n",
    "    \n",
    "ipywidgets.interact(\n",
    "    plot_threat_age,\n",
    "    hist_length=ipywidgets.FloatSlider(value=15, min=0, max=df[\"ts\"].max()-df[\"ts\"].min(), continuous_update=False),\n",
    "    max_time=ipywidgets.FloatSlider(value=df[\"ts\"].max(), min=df[\"ts\"].min(), max=df[\"ts\"].max()+.1, continuous_update=False))"
   ]
  },
  {
   "cell_type": "markdown",
   "id": "86ed216b",
   "metadata": {},
   "source": [
    "## CBDR Detection"
   ]
  },
  {
   "cell_type": "code",
   "execution_count": 35,
   "id": "bcee6bd2",
   "metadata": {},
   "outputs": [
    {
     "data": {
      "application/vnd.jupyter.widget-view+json": {
       "model_id": "d958e9b3c830486691fc2fe4ad963c13",
       "version_major": 2,
       "version_minor": 0
      },
      "text/plain": [
       "interactive(children=(FloatSlider(value=15.0, continuous_update=False, description='hist_length', max=16.76666…"
      ]
     },
     "metadata": {},
     "output_type": "display_data"
    },
    {
     "data": {
      "text/plain": [
       "<function __main__.plot_cbdr_detection_data(hist_length, max_time)>"
      ]
     },
     "execution_count": 35,
     "metadata": {},
     "output_type": "execute_result"
    }
   ],
   "source": [
    "def plot_cbdr_detection_data(hist_length, max_time):\n",
    "    sample = df[(df[\"ts\"] >= max_time - hist_length) & (df[\"ts\"] <= max_time)]\n",
    "    fig, ax1 = plt.subplots()\n",
    "    ax2 = ax1.twinx()\n",
    "    \n",
    "    max_delta_bearing = 2e-3\n",
    "    min_delta_range = 5\n",
    "\n",
    "    bearing = sample[\"o.cbdr_hist\"].apply(lambda x: np.nan if isinstance(x, float) or len(x) < 2 else abs(util.cartesian_to_polar(x[0][0], x[0][1])[1] - util.cartesian_to_polar(x[-1][0], x[-1][1])[1]))\n",
    "    threat_range = sample[\"o.cbdr_hist\"].apply(lambda x: np.nan if isinstance(x, float) or len(x) < 2 else util.cartesian_to_polar(x[0][0], x[0][1])[0] - util.cartesian_to_polar(x[-1][0], x[-1][1])[0])\n",
    "    ax1.scatter(sample[\"ts\"], bearing, label=\"delta bearing\")\n",
    "    ax1.hlines(max_delta_bearing, sample[\"ts\"].min(), sample[\"ts\"].max(), color=\"green\", label=\"max delta bearing\")\n",
    "    ax2.scatter(sample[\"ts\"], threat_range, color=\"orange\", label=\"delta range\")\n",
    "    ax2.hlines(min_delta_range, sample[\"ts\"].min(), sample[\"ts\"].max(), color=\"red\", label=\"min delta range\")\n",
    "    fig.legend()\n",
    "    \n",
    "    print(f'{max_delta_bearing=}, bearing:\\t{(bearing.min(),bearing.max())}')\n",
    "    print(f'{min_delta_range=}, range:\\t{(threat_range.min(),threat_range.max())}')\n",
    "    \n",
    "ipywidgets.interact(\n",
    "    plot_cbdr_detection_data,\n",
    "    hist_length=ipywidgets.FloatSlider(value=15, min=0, max=df[\"ts\"].max()-df[\"ts\"].min(), continuous_update=False),\n",
    "    max_time=ipywidgets.FloatSlider(value=df[\"ts\"].max(), min=df[\"ts\"].min(), max=df[\"ts\"].max()+.1, continuous_update=False))"
   ]
  },
  {
   "cell_type": "code",
   "execution_count": 36,
   "id": "b542dc06",
   "metadata": {},
   "outputs": [
    {
     "data": {
      "text/html": [
       "<div>\n",
       "<style scoped>\n",
       "    .dataframe tbody tr th:only-of-type {\n",
       "        vertical-align: middle;\n",
       "    }\n",
       "\n",
       "    .dataframe tbody tr th {\n",
       "        vertical-align: top;\n",
       "    }\n",
       "\n",
       "    .dataframe thead th {\n",
       "        text-align: right;\n",
       "    }\n",
       "</style>\n",
       "<table border=\"1\" class=\"dataframe\">\n",
       "  <thead>\n",
       "    <tr style=\"text-align: right;\">\n",
       "      <th></th>\n",
       "      <th>ts</th>\n",
       "      <th>o.cbdr_hist</th>\n",
       "    </tr>\n",
       "  </thead>\n",
       "  <tbody>\n",
       "    <tr>\n",
       "      <th>454</th>\n",
       "      <td>15.166667</td>\n",
       "      <td>[[1170.6829454904473, -1803.1622382834757], [8...</td>\n",
       "    </tr>\n",
       "    <tr>\n",
       "      <th>455</th>\n",
       "      <td>15.200000</td>\n",
       "      <td>[[1138.6970132436109, -1746.1571115878178], [7...</td>\n",
       "    </tr>\n",
       "    <tr>\n",
       "      <th>456</th>\n",
       "      <td>15.233333</td>\n",
       "      <td>[[1138.6970132436109, -1746.1571115878178], [7...</td>\n",
       "    </tr>\n",
       "    <tr>\n",
       "      <th>457</th>\n",
       "      <td>15.266667</td>\n",
       "      <td>[[1138.6970132436109, -1746.1571115878178], [7...</td>\n",
       "    </tr>\n",
       "    <tr>\n",
       "      <th>458</th>\n",
       "      <td>15.300000</td>\n",
       "      <td>[[1106.682596938359, -1689.0826047336159], [75...</td>\n",
       "    </tr>\n",
       "    <tr>\n",
       "      <th>459</th>\n",
       "      <td>15.333333</td>\n",
       "      <td>[[1106.682596938359, -1689.0826047336159], [75...</td>\n",
       "    </tr>\n",
       "    <tr>\n",
       "      <th>460</th>\n",
       "      <td>15.366667</td>\n",
       "      <td>[[1106.682596938359, -1689.0826047336159], [75...</td>\n",
       "    </tr>\n",
       "    <tr>\n",
       "      <th>461</th>\n",
       "      <td>15.400000</td>\n",
       "      <td>[[1074.640163776332, -1631.938527818158], [719...</td>\n",
       "    </tr>\n",
       "    <tr>\n",
       "      <th>462</th>\n",
       "      <td>15.433333</td>\n",
       "      <td>[[1074.640163776332, -1631.938527818158], [719...</td>\n",
       "    </tr>\n",
       "    <tr>\n",
       "      <th>463</th>\n",
       "      <td>15.466667</td>\n",
       "      <td>[[1074.640163776332, -1631.938527818158], [719...</td>\n",
       "    </tr>\n",
       "    <tr>\n",
       "      <th>464</th>\n",
       "      <td>15.500000</td>\n",
       "      <td>[[1042.5702262681716, -1574.7246767254837], [6...</td>\n",
       "    </tr>\n",
       "    <tr>\n",
       "      <th>465</th>\n",
       "      <td>15.533333</td>\n",
       "      <td>[[1042.5702262681716, -1574.7246767254837], [6...</td>\n",
       "    </tr>\n",
       "    <tr>\n",
       "      <th>466</th>\n",
       "      <td>15.566667</td>\n",
       "      <td>[[1042.5702262681716, -1574.7246767254837], [6...</td>\n",
       "    </tr>\n",
       "    <tr>\n",
       "      <th>467</th>\n",
       "      <td>15.600000</td>\n",
       "      <td>[[1010.4733488524871, -1517.440831703978], [65...</td>\n",
       "    </tr>\n",
       "    <tr>\n",
       "      <th>468</th>\n",
       "      <td>15.633333</td>\n",
       "      <td>[[1010.4733488524871, -1517.440831703978], [65...</td>\n",
       "    </tr>\n",
       "    <tr>\n",
       "      <th>469</th>\n",
       "      <td>15.666667</td>\n",
       "      <td>[[1010.4733488524871, -1517.440831703978], [65...</td>\n",
       "    </tr>\n",
       "    <tr>\n",
       "      <th>470</th>\n",
       "      <td>15.700000</td>\n",
       "      <td>[[978.3501560500226, -1460.086755717959], [622...</td>\n",
       "    </tr>\n",
       "    <tr>\n",
       "      <th>471</th>\n",
       "      <td>15.733333</td>\n",
       "      <td>[[978.3501560500226, -1460.086755717959], [622...</td>\n",
       "    </tr>\n",
       "    <tr>\n",
       "      <th>472</th>\n",
       "      <td>15.766667</td>\n",
       "      <td>[[978.3501560500226, -1460.086755717959], [622...</td>\n",
       "    </tr>\n",
       "    <tr>\n",
       "      <th>473</th>\n",
       "      <td>15.800000</td>\n",
       "      <td>[[946.2017306013768, -1402.6620581852476], [59...</td>\n",
       "    </tr>\n",
       "    <tr>\n",
       "      <th>474</th>\n",
       "      <td>15.833333</td>\n",
       "      <td>[[946.2017306013768, -1402.6620581852476], [59...</td>\n",
       "    </tr>\n",
       "    <tr>\n",
       "      <th>475</th>\n",
       "      <td>15.866667</td>\n",
       "      <td>[[946.2017306013768, -1402.6620581852476], [59...</td>\n",
       "    </tr>\n",
       "    <tr>\n",
       "      <th>476</th>\n",
       "      <td>15.900000</td>\n",
       "      <td>[[914.0302629191592, -1345.1660009403568], [55...</td>\n",
       "    </tr>\n",
       "    <tr>\n",
       "      <th>477</th>\n",
       "      <td>15.933333</td>\n",
       "      <td>[[914.0302629191592, -1345.1660009403568], [55...</td>\n",
       "    </tr>\n",
       "    <tr>\n",
       "      <th>478</th>\n",
       "      <td>15.966667</td>\n",
       "      <td>[[914.0302629191592, -1345.1660009403568], [55...</td>\n",
       "    </tr>\n",
       "    <tr>\n",
       "      <th>479</th>\n",
       "      <td>16.000000</td>\n",
       "      <td>[[881.7687634883896, -1287.297405625548], [525...</td>\n",
       "    </tr>\n",
       "    <tr>\n",
       "      <th>480</th>\n",
       "      <td>16.033333</td>\n",
       "      <td>[[881.7687634883896, -1287.297405625548], [525...</td>\n",
       "    </tr>\n",
       "    <tr>\n",
       "      <th>481</th>\n",
       "      <td>16.066667</td>\n",
       "      <td>[[881.7687634883896, -1287.297405625548], [525...</td>\n",
       "    </tr>\n",
       "    <tr>\n",
       "      <th>482</th>\n",
       "      <td>16.100000</td>\n",
       "      <td>[[849.3058776987491, -1228.4500302343804], [49...</td>\n",
       "    </tr>\n",
       "    <tr>\n",
       "      <th>483</th>\n",
       "      <td>16.133333</td>\n",
       "      <td>[[849.3058776987491, -1228.4500302343804], [49...</td>\n",
       "    </tr>\n",
       "    <tr>\n",
       "      <th>484</th>\n",
       "      <td>16.166667</td>\n",
       "      <td>[[849.3058776987491, -1228.4500302343804], [49...</td>\n",
       "    </tr>\n",
       "    <tr>\n",
       "      <th>485</th>\n",
       "      <td>16.200000</td>\n",
       "      <td>[[784.1981675644274, -1109.3162632004096], [46...</td>\n",
       "    </tr>\n",
       "    <tr>\n",
       "      <th>486</th>\n",
       "      <td>16.233333</td>\n",
       "      <td>[[784.1981675644274, -1109.3162632004096], [46...</td>\n",
       "    </tr>\n",
       "    <tr>\n",
       "      <th>487</th>\n",
       "      <td>16.266667</td>\n",
       "      <td>[[784.1981675644274, -1109.3162632004096], [46...</td>\n",
       "    </tr>\n",
       "    <tr>\n",
       "      <th>488</th>\n",
       "      <td>16.300000</td>\n",
       "      <td>[[751.7051829041284, -1049.6766904715478], [42...</td>\n",
       "    </tr>\n",
       "    <tr>\n",
       "      <th>489</th>\n",
       "      <td>16.333333</td>\n",
       "      <td>[[751.7051829041284, -1049.6766904715478], [42...</td>\n",
       "    </tr>\n",
       "    <tr>\n",
       "      <th>490</th>\n",
       "      <td>16.366667</td>\n",
       "      <td>[[751.7051829041284, -1049.6766904715478], [42...</td>\n",
       "    </tr>\n",
       "    <tr>\n",
       "      <th>491</th>\n",
       "      <td>16.400000</td>\n",
       "      <td>[[719.2820731379034, -990.058909226078], [397....</td>\n",
       "    </tr>\n",
       "    <tr>\n",
       "      <th>492</th>\n",
       "      <td>16.433333</td>\n",
       "      <td>[[719.2820731379034, -990.058909226078], [397....</td>\n",
       "    </tr>\n",
       "    <tr>\n",
       "      <th>493</th>\n",
       "      <td>16.466667</td>\n",
       "      <td>[[719.2820731379034, -990.058909226078], [397....</td>\n",
       "    </tr>\n",
       "    <tr>\n",
       "      <th>494</th>\n",
       "      <td>16.500000</td>\n",
       "      <td>[[686.9176337792705, -930.4874968214135], [366...</td>\n",
       "    </tr>\n",
       "    <tr>\n",
       "      <th>495</th>\n",
       "      <td>16.533333</td>\n",
       "      <td>[[686.9176337792705, -930.4874968214135], [366...</td>\n",
       "    </tr>\n",
       "    <tr>\n",
       "      <th>496</th>\n",
       "      <td>16.566667</td>\n",
       "      <td>[[686.9176337792705, -930.4874968214135], [366...</td>\n",
       "    </tr>\n",
       "    <tr>\n",
       "      <th>497</th>\n",
       "      <td>16.600000</td>\n",
       "      <td>[[654.6052873383651, -870.9699732964509], [335...</td>\n",
       "    </tr>\n",
       "    <tr>\n",
       "      <th>498</th>\n",
       "      <td>16.633333</td>\n",
       "      <td>[[654.6052873383651, -870.9699732964509], [335...</td>\n",
       "    </tr>\n",
       "    <tr>\n",
       "      <th>499</th>\n",
       "      <td>16.666667</td>\n",
       "      <td>[[654.6052873383651, -870.9699732964509], [335...</td>\n",
       "    </tr>\n",
       "    <tr>\n",
       "      <th>500</th>\n",
       "      <td>16.700000</td>\n",
       "      <td>[[622.341993644317, -811.5091824889096], [306....</td>\n",
       "    </tr>\n",
       "    <tr>\n",
       "      <th>501</th>\n",
       "      <td>16.733333</td>\n",
       "      <td>[[622.341993644317, -811.5091824889096], [306....</td>\n",
       "    </tr>\n",
       "    <tr>\n",
       "      <th>502</th>\n",
       "      <td>16.766667</td>\n",
       "      <td>[[622.341993644317, -811.5091824889096], [306....</td>\n",
       "    </tr>\n",
       "    <tr>\n",
       "      <th>503</th>\n",
       "      <td>16.800000</td>\n",
       "      <td>[[590.1277372705754, -752.1051320996194], [277...</td>\n",
       "    </tr>\n",
       "  </tbody>\n",
       "</table>\n",
       "</div>"
      ],
      "text/plain": [
       "            ts                                        o.cbdr_hist\n",
       "454  15.166667  [[1170.6829454904473, -1803.1622382834757], [8...\n",
       "455  15.200000  [[1138.6970132436109, -1746.1571115878178], [7...\n",
       "456  15.233333  [[1138.6970132436109, -1746.1571115878178], [7...\n",
       "457  15.266667  [[1138.6970132436109, -1746.1571115878178], [7...\n",
       "458  15.300000  [[1106.682596938359, -1689.0826047336159], [75...\n",
       "459  15.333333  [[1106.682596938359, -1689.0826047336159], [75...\n",
       "460  15.366667  [[1106.682596938359, -1689.0826047336159], [75...\n",
       "461  15.400000  [[1074.640163776332, -1631.938527818158], [719...\n",
       "462  15.433333  [[1074.640163776332, -1631.938527818158], [719...\n",
       "463  15.466667  [[1074.640163776332, -1631.938527818158], [719...\n",
       "464  15.500000  [[1042.5702262681716, -1574.7246767254837], [6...\n",
       "465  15.533333  [[1042.5702262681716, -1574.7246767254837], [6...\n",
       "466  15.566667  [[1042.5702262681716, -1574.7246767254837], [6...\n",
       "467  15.600000  [[1010.4733488524871, -1517.440831703978], [65...\n",
       "468  15.633333  [[1010.4733488524871, -1517.440831703978], [65...\n",
       "469  15.666667  [[1010.4733488524871, -1517.440831703978], [65...\n",
       "470  15.700000  [[978.3501560500226, -1460.086755717959], [622...\n",
       "471  15.733333  [[978.3501560500226, -1460.086755717959], [622...\n",
       "472  15.766667  [[978.3501560500226, -1460.086755717959], [622...\n",
       "473  15.800000  [[946.2017306013768, -1402.6620581852476], [59...\n",
       "474  15.833333  [[946.2017306013768, -1402.6620581852476], [59...\n",
       "475  15.866667  [[946.2017306013768, -1402.6620581852476], [59...\n",
       "476  15.900000  [[914.0302629191592, -1345.1660009403568], [55...\n",
       "477  15.933333  [[914.0302629191592, -1345.1660009403568], [55...\n",
       "478  15.966667  [[914.0302629191592, -1345.1660009403568], [55...\n",
       "479  16.000000  [[881.7687634883896, -1287.297405625548], [525...\n",
       "480  16.033333  [[881.7687634883896, -1287.297405625548], [525...\n",
       "481  16.066667  [[881.7687634883896, -1287.297405625548], [525...\n",
       "482  16.100000  [[849.3058776987491, -1228.4500302343804], [49...\n",
       "483  16.133333  [[849.3058776987491, -1228.4500302343804], [49...\n",
       "484  16.166667  [[849.3058776987491, -1228.4500302343804], [49...\n",
       "485  16.200000  [[784.1981675644274, -1109.3162632004096], [46...\n",
       "486  16.233333  [[784.1981675644274, -1109.3162632004096], [46...\n",
       "487  16.266667  [[784.1981675644274, -1109.3162632004096], [46...\n",
       "488  16.300000  [[751.7051829041284, -1049.6766904715478], [42...\n",
       "489  16.333333  [[751.7051829041284, -1049.6766904715478], [42...\n",
       "490  16.366667  [[751.7051829041284, -1049.6766904715478], [42...\n",
       "491  16.400000  [[719.2820731379034, -990.058909226078], [397....\n",
       "492  16.433333  [[719.2820731379034, -990.058909226078], [397....\n",
       "493  16.466667  [[719.2820731379034, -990.058909226078], [397....\n",
       "494  16.500000  [[686.9176337792705, -930.4874968214135], [366...\n",
       "495  16.533333  [[686.9176337792705, -930.4874968214135], [366...\n",
       "496  16.566667  [[686.9176337792705, -930.4874968214135], [366...\n",
       "497  16.600000  [[654.6052873383651, -870.9699732964509], [335...\n",
       "498  16.633333  [[654.6052873383651, -870.9699732964509], [335...\n",
       "499  16.666667  [[654.6052873383651, -870.9699732964509], [335...\n",
       "500  16.700000  [[622.341993644317, -811.5091824889096], [306....\n",
       "501  16.733333  [[622.341993644317, -811.5091824889096], [306....\n",
       "502  16.766667  [[622.341993644317, -811.5091824889096], [306....\n",
       "503  16.800000  [[590.1277372705754, -752.1051320996194], [277..."
      ]
     },
     "execution_count": 36,
     "metadata": {},
     "output_type": "execute_result"
    }
   ],
   "source": [
    "df[[\"ts\",\"o.cbdr_hist\"]].tail(50)"
   ]
  },
  {
   "cell_type": "code",
   "execution_count": 37,
   "id": "9c947c36",
   "metadata": {},
   "outputs": [
    {
     "data": {
      "application/vnd.jupyter.widget-view+json": {
       "model_id": "c4d68ec09f4d4c1cb6064f04e17c07d4",
       "version_major": 2,
       "version_minor": 0
      },
      "text/plain": [
       "interactive(children=(FloatSlider(value=15.0, continuous_update=False, description='hist_length', max=16.76666…"
      ]
     },
     "metadata": {},
     "output_type": "display_data"
    },
    {
     "data": {
      "text/plain": [
       "<function __main__.plot_num_coalesced_threats(hist_length, max_time)>"
      ]
     },
     "execution_count": 37,
     "metadata": {},
     "output_type": "execute_result"
    }
   ],
   "source": [
    "def plot_num_coalesced_threats(hist_length, max_time):\n",
    "    sample = df[(df[\"ts\"] >= max_time-hist_length) & (df[\"ts\"] <= max_time)]\n",
    "    plt.scatter(sample[\"ts\"], sample[\"o.ct_ct\"])\n",
    "    plt.title(\"number of coalesced threats\")\n",
    "    plt.show()\n",
    "\n",
    "ipywidgets.interact(\n",
    "    plot_num_coalesced_threats,\n",
    "    hist_length=ipywidgets.FloatSlider(value=15, min=0, max=df[\"ts\"].max()-df[\"ts\"].min(), continuous_update=False),\n",
    "    max_time=ipywidgets.FloatSlider(value=df[\"ts\"].max(), min=df[\"ts\"].min(), max=df[\"ts\"].max()+.1, continuous_update=False)\n",
    ")  "
   ]
  },
  {
   "cell_type": "code",
   "execution_count": 38,
   "id": "91227c9a",
   "metadata": {},
   "outputs": [
    {
     "data": {
      "application/vnd.jupyter.widget-view+json": {
       "model_id": "6e92401deb53423e8e9413959aa28094",
       "version_major": 2,
       "version_minor": 0
      },
      "text/plain": [
       "interactive(children=(FloatSlider(value=15.0, continuous_update=False, description='hist_length', max=16.76666…"
      ]
     },
     "metadata": {},
     "output_type": "display_data"
    },
    {
     "data": {
      "text/plain": [
       "<function __main__.plot_collision_threat_radius(hist_length, max_time)>"
      ]
     },
     "execution_count": 38,
     "metadata": {},
     "output_type": "execute_result"
    }
   ],
   "source": [
    "def plot_collision_threat_radius(hist_length, max_time):\n",
    "    sample = df[(df[\"ts\"] >= max_time - hist_length) & (df[\"ts\"] <= max_time)]\n",
    "    plt.scatter(sample[\"ts\"], sample[\"o.ct_cradius\"], label=\"threat radius\")\n",
    "    plt.scatter(sample[\"ts\"], sample[\"o.scm\"]+sample[\"o.ct_mh\"], label=\"desired margin\")\n",
    "    plt.title(\"collision threat radius\")\n",
    "    plt.legend()\n",
    "    print(f'min coalesced radius: {sample[\"o.ct_cradius\"].min()}')\n",
    "    print(f'min scaled margin: {sample[\"o.scm\"].min()}')\n",
    "    plt.show()\n",
    "\n",
    "ipywidgets.interact(\n",
    "    plot_collision_threat_radius,\n",
    "    hist_length=ipywidgets.FloatSlider(value=15, min=0, max=df[\"ts\"].max()-df[\"ts\"].min(), continuous_update=False),\n",
    "    max_time=ipywidgets.FloatSlider(value=df[\"ts\"].max(), min=df[\"ts\"].min(), max=df[\"ts\"].max()+.1, continuous_update=False))"
   ]
  },
  {
   "cell_type": "code",
   "execution_count": 39,
   "id": "10290387",
   "metadata": {},
   "outputs": [
    {
     "data": {
      "application/vnd.jupyter.widget-view+json": {
       "model_id": "42e0b79224024732be1ff9e79ebb7c27",
       "version_major": 2,
       "version_minor": 0
      },
      "text/plain": [
       "interactive(children=(FloatSlider(value=15.0, continuous_update=False, description='hist_length', max=16.76666…"
      ]
     },
     "metadata": {},
     "output_type": "display_data"
    },
    {
     "data": {
      "text/plain": [
       "<function __main__.plot_collision_threat_loc(hist_length, max_time)>"
      ]
     },
     "execution_count": 39,
     "metadata": {},
     "output_type": "execute_result"
    }
   ],
   "source": [
    "def plot_collision_threat_loc(hist_length, max_time):\n",
    "    sample = df[(df[\"ts\"] >= max_time - hist_length) & (df[\"ts\"] <= max_time)]\n",
    "    fig, ax1 = plt.subplots()\n",
    "    ax2 = ax1.twinx()\n",
    "    ax1.scatter(sample[\"ts\"], sample[\"o.ct_cloc.x\"])\n",
    "    ax2.scatter(sample[\"ts\"], sample[\"o.ct_cloc.y\"], color=\"orange\")\n",
    "    plt.title(\"collision threat coalesced location\")\n",
    "    plt.show()\n",
    "\n",
    "ipywidgets.interact(\n",
    "    plot_collision_threat_loc,\n",
    "    hist_length=ipywidgets.FloatSlider(value=15, min=0, max=df[\"ts\"].max()-df[\"ts\"].min(), continuous_update=False),\n",
    "    max_time=ipywidgets.FloatSlider(value=df[\"ts\"].max(), min=df[\"ts\"].min(), max=df[\"ts\"].max()+.1, continuous_update=False))"
   ]
  },
  {
   "cell_type": "code",
   "execution_count": 40,
   "id": "88757cdd",
   "metadata": {},
   "outputs": [
    {
     "data": {
      "text/html": [
       "<div>\n",
       "<style scoped>\n",
       "    .dataframe tbody tr th:only-of-type {\n",
       "        vertical-align: middle;\n",
       "    }\n",
       "\n",
       "    .dataframe tbody tr th {\n",
       "        vertical-align: top;\n",
       "    }\n",
       "\n",
       "    .dataframe thead th {\n",
       "        text-align: right;\n",
       "    }\n",
       "</style>\n",
       "<table border=\"1\" class=\"dataframe\">\n",
       "  <thead>\n",
       "    <tr style=\"text-align: right;\">\n",
       "      <th></th>\n",
       "      <th>index</th>\n",
       "      <th>p</th>\n",
       "      <th>eid</th>\n",
       "      <th>ts</th>\n",
       "      <th>loc</th>\n",
       "      <th>r</th>\n",
       "      <th>a</th>\n",
       "      <th>v</th>\n",
       "      <th>av</th>\n",
       "      <th>f</th>\n",
       "      <th>...</th>\n",
       "      <th>angle.y</th>\n",
       "      <th>_ada.x</th>\n",
       "      <th>_ada.y</th>\n",
       "      <th>o.ct_dist</th>\n",
       "      <th>o.t_dist</th>\n",
       "      <th>o.max_speed_cap</th>\n",
       "      <th>speed</th>\n",
       "      <th>o.t_speed</th>\n",
       "      <th>o._dv_speed</th>\n",
       "      <th>f_mag</th>\n",
       "    </tr>\n",
       "  </thead>\n",
       "  <tbody>\n",
       "    <tr>\n",
       "      <th>16</th>\n",
       "      <td>16</td>\n",
       "      <td>SHP</td>\n",
       "      <td>8ccb3abc-b940-453c-82f8-2d108117312e</td>\n",
       "      <td>0.566667</td>\n",
       "      <td>[-19030.591796875, -74543.6015625]</td>\n",
       "      <td>30</td>\n",
       "      <td>-42.947142</td>\n",
       "      <td>[201.36203002929688, -394.7500915527344]</td>\n",
       "      <td>-2.247292</td>\n",
       "      <td>[9538.280809787382, -11576.752532279585]</td>\n",
       "      <td>...</td>\n",
       "      <td>85.994143</td>\n",
       "      <td>100.0</td>\n",
       "      <td>0.0</td>\n",
       "      <td>10321.432486</td>\n",
       "      <td>107828.094711</td>\n",
       "      <td>2817.068492</td>\n",
       "      <td>443.141402</td>\n",
       "      <td>2101.557666</td>\n",
       "      <td>2081.575632</td>\n",
       "      <td>15000.0</td>\n",
       "    </tr>\n",
       "    <tr>\n",
       "      <th>407</th>\n",
       "      <td>407</td>\n",
       "      <td>SHP</td>\n",
       "      <td>8ccb3abc-b940-453c-82f8-2d108117312e</td>\n",
       "      <td>13.600000</td>\n",
       "      <td>[-15453.423828125, -81085.7109375]</td>\n",
       "      <td>30</td>\n",
       "      <td>-45.552747</td>\n",
       "      <td>[318.5802001953125, -567.0635986328125]</td>\n",
       "      <td>-1.592978</td>\n",
       "      <td>[6020.9779644731925, -13738.552483843714]</td>\n",
       "      <td>...</td>\n",
       "      <td>-99.999994</td>\n",
       "      <td>100.0</td>\n",
       "      <td>0.0</td>\n",
       "      <td>2410.097438</td>\n",
       "      <td>100375.099890</td>\n",
       "      <td>1266.721452</td>\n",
       "      <td>650.426375</td>\n",
       "      <td>1259.046429</td>\n",
       "      <td>1019.528923</td>\n",
       "      <td>15000.0</td>\n",
       "    </tr>\n",
       "  </tbody>\n",
       "</table>\n",
       "<p>2 rows × 73 columns</p>\n",
       "</div>"
      ],
      "text/plain": [
       "     index    p                                   eid         ts  \\\n",
       "16      16  SHP  8ccb3abc-b940-453c-82f8-2d108117312e   0.566667   \n",
       "407    407  SHP  8ccb3abc-b940-453c-82f8-2d108117312e  13.600000   \n",
       "\n",
       "                                    loc   r          a  \\\n",
       "16   [-19030.591796875, -74543.6015625]  30 -42.947142   \n",
       "407  [-15453.423828125, -81085.7109375]  30 -45.552747   \n",
       "\n",
       "                                            v        av  \\\n",
       "16   [201.36203002929688, -394.7500915527344] -2.247292   \n",
       "407   [318.5802001953125, -567.0635986328125] -1.592978   \n",
       "\n",
       "                                             f  ...    angle.y _ada.x _ada.y  \\\n",
       "16    [9538.280809787382, -11576.752532279585]  ...  85.994143  100.0    0.0   \n",
       "407  [6020.9779644731925, -13738.552483843714]  ... -99.999994  100.0    0.0   \n",
       "\n",
       "        o.ct_dist       o.t_dist  o.max_speed_cap       speed    o.t_speed  \\\n",
       "16   10321.432486  107828.094711      2817.068492  443.141402  2101.557666   \n",
       "407   2410.097438  100375.099890      1266.721452  650.426375  1259.046429   \n",
       "\n",
       "     o._dv_speed    f_mag  \n",
       "16   2081.575632  15000.0  \n",
       "407  1019.528923  15000.0  \n",
       "\n",
       "[2 rows x 73 columns]"
      ]
     },
     "execution_count": 40,
     "metadata": {},
     "output_type": "execute_result"
    }
   ],
   "source": [
    "df[(df[\"o.ct_cloc.x\"]-df[\"o.ct_cloc.x\"].shift(1)).abs() > 30]"
   ]
  },
  {
   "cell_type": "code",
   "execution_count": 41,
   "id": "a5619e23",
   "metadata": {},
   "outputs": [
    {
     "data": {
      "text/plain": [
       "16     347.749023\n",
       "407    347.749023\n",
       "Name: o.ct_cloc.x, dtype: float64"
      ]
     },
     "execution_count": 41,
     "metadata": {},
     "output_type": "execute_result"
    }
   ],
   "source": [
    "ctxloc_diff_s = (df[\"o.ct_cloc.x\"]-df[\"o.ct_cloc.x\"].shift(1)).abs()\n",
    "ctxloc_diff_s[ctxloc_diff_s > 30]"
   ]
  },
  {
   "cell_type": "code",
   "execution_count": 42,
   "id": "5e817d73",
   "metadata": {},
   "outputs": [
    {
     "data": {
      "application/vnd.jupyter.widget-view+json": {
       "model_id": "9222015836eb4935a3aae971af0df2a4",
       "version_major": 2,
       "version_minor": 0
      },
      "text/plain": [
       "interactive(children=(FloatSlider(value=15.0, continuous_update=False, description='hist_length', max=16.76666…"
      ]
     },
     "metadata": {},
     "output_type": "display_data"
    },
    {
     "data": {
      "text/plain": [
       "<function __main__.plot_collision_dv(hist_length, max_time)>"
      ]
     },
     "execution_count": 42,
     "metadata": {},
     "output_type": "execute_result"
    }
   ],
   "source": [
    "def plot_collision_dv(hist_length, max_time):\n",
    "    sample = df[(df[\"ts\"] >= max_time - hist_length) & (df[\"ts\"] <= max_time)]\n",
    "    plt.scatter(sample[\"ts\"], sample[\"o.ct_dv.x\"])\n",
    "    plt.scatter(sample[\"ts\"], sample[\"o.ct_dv.y\"])\n",
    "    plt.title(\"collision avoidance velocity\")\n",
    "\n",
    "ipywidgets.interact(\n",
    "    plot_collision_dv,\n",
    "    hist_length=ipywidgets.FloatSlider(value=15, min=0, max=df[\"ts\"].max()-df[\"ts\"].min(), continuous_update=False),\n",
    "    max_time=ipywidgets.FloatSlider(value=df[\"ts\"].max(), min=df[\"ts\"].min(), max=df[\"ts\"].max()+.1, continuous_update=False))"
   ]
  },
  {
   "cell_type": "code",
   "execution_count": 43,
   "id": "7f11097b",
   "metadata": {},
   "outputs": [
    {
     "data": {
      "text/html": [
       "<div>\n",
       "<style scoped>\n",
       "    .dataframe tbody tr th:only-of-type {\n",
       "        vertical-align: middle;\n",
       "    }\n",
       "\n",
       "    .dataframe tbody tr th {\n",
       "        vertical-align: top;\n",
       "    }\n",
       "\n",
       "    .dataframe thead th {\n",
       "        text-align: right;\n",
       "    }\n",
       "</style>\n",
       "<table border=\"1\" class=\"dataframe\">\n",
       "  <thead>\n",
       "    <tr style=\"text-align: right;\">\n",
       "      <th></th>\n",
       "      <th>index</th>\n",
       "      <th>p</th>\n",
       "      <th>eid</th>\n",
       "      <th>ts</th>\n",
       "      <th>loc</th>\n",
       "      <th>r</th>\n",
       "      <th>a</th>\n",
       "      <th>v</th>\n",
       "      <th>av</th>\n",
       "      <th>f</th>\n",
       "      <th>...</th>\n",
       "      <th>angle.y</th>\n",
       "      <th>_ada.x</th>\n",
       "      <th>_ada.y</th>\n",
       "      <th>o.ct_dist</th>\n",
       "      <th>o.t_dist</th>\n",
       "      <th>o.max_speed_cap</th>\n",
       "      <th>speed</th>\n",
       "      <th>o.t_speed</th>\n",
       "      <th>o._dv_speed</th>\n",
       "      <th>f_mag</th>\n",
       "    </tr>\n",
       "  </thead>\n",
       "  <tbody>\n",
       "    <tr>\n",
       "      <th>16</th>\n",
       "      <td>16</td>\n",
       "      <td>SHP</td>\n",
       "      <td>8ccb3abc-b940-453c-82f8-2d108117312e</td>\n",
       "      <td>0.566667</td>\n",
       "      <td>[-19030.591796875, -74543.6015625]</td>\n",
       "      <td>30</td>\n",
       "      <td>-42.947142</td>\n",
       "      <td>[201.36203002929688, -394.7500915527344]</td>\n",
       "      <td>-2.247292</td>\n",
       "      <td>[9538.280809787382, -11576.752532279585]</td>\n",
       "      <td>...</td>\n",
       "      <td>85.994143</td>\n",
       "      <td>100.0</td>\n",
       "      <td>0.0</td>\n",
       "      <td>10321.432486</td>\n",
       "      <td>107828.094711</td>\n",
       "      <td>2817.068492</td>\n",
       "      <td>443.141402</td>\n",
       "      <td>2101.557666</td>\n",
       "      <td>2081.575632</td>\n",
       "      <td>15000.0</td>\n",
       "    </tr>\n",
       "    <tr>\n",
       "      <th>52</th>\n",
       "      <td>52</td>\n",
       "      <td>SHP</td>\n",
       "      <td>8ccb3abc-b940-453c-82f8-2d108117312e</td>\n",
       "      <td>1.766667</td>\n",
       "      <td>[-18783.69921875, -75023.5]</td>\n",
       "      <td>30</td>\n",
       "      <td>-44.797053</td>\n",
       "      <td>[223.28472900390625, -420.3003234863281]</td>\n",
       "      <td>-0.329857</td>\n",
       "      <td>[5518.139582340848, -13948.123011710326]</td>\n",
       "      <td>...</td>\n",
       "      <td>-72.755803</td>\n",
       "      <td>100.0</td>\n",
       "      <td>0.0</td>\n",
       "      <td>9779.172063</td>\n",
       "      <td>107288.413808</td>\n",
       "      <td>2817.068492</td>\n",
       "      <td>475.929020</td>\n",
       "      <td>2118.530414</td>\n",
       "      <td>2115.676682</td>\n",
       "      <td>15000.0</td>\n",
       "    </tr>\n",
       "    <tr>\n",
       "      <th>64</th>\n",
       "      <td>64</td>\n",
       "      <td>SHP</td>\n",
       "      <td>8ccb3abc-b940-453c-82f8-2d108117312e</td>\n",
       "      <td>2.166667</td>\n",
       "      <td>[-18694.0703125, -75192.421875]</td>\n",
       "      <td>30</td>\n",
       "      <td>-45.058996</td>\n",
       "      <td>[227.750732421875, -431.70721435546875]</td>\n",
       "      <td>-0.529857</td>\n",
       "      <td>[9972.48052480632, -11204.893224942338]</td>\n",
       "      <td>...</td>\n",
       "      <td>-88.039689</td>\n",
       "      <td>100.0</td>\n",
       "      <td>0.0</td>\n",
       "      <td>9590.765793</td>\n",
       "      <td>107097.210481</td>\n",
       "      <td>2817.068492</td>\n",
       "      <td>488.099903</td>\n",
       "      <td>2101.662039</td>\n",
       "      <td>2074.829020</td>\n",
       "      <td>15000.0</td>\n",
       "    </tr>\n",
       "    <tr>\n",
       "      <th>79</th>\n",
       "      <td>79</td>\n",
       "      <td>SHP</td>\n",
       "      <td>8ccb3abc-b940-453c-82f8-2d108117312e</td>\n",
       "      <td>2.666667</td>\n",
       "      <td>[-18579.61328125, -75408.921875]</td>\n",
       "      <td>30</td>\n",
       "      <td>-44.980909</td>\n",
       "      <td>[232.3184814453125, -436.7895202636719]</td>\n",
       "      <td>0.630490</td>\n",
       "      <td>[5324.341881083851, -14023.244401112623]</td>\n",
       "      <td>...</td>\n",
       "      <td>-84.072039</td>\n",
       "      <td>100.0</td>\n",
       "      <td>0.0</td>\n",
       "      <td>9343.310090</td>\n",
       "      <td>106852.342759</td>\n",
       "      <td>2817.068492</td>\n",
       "      <td>494.729180</td>\n",
       "      <td>2097.723948</td>\n",
       "      <td>2094.181793</td>\n",
       "      <td>15000.0</td>\n",
       "    </tr>\n",
       "    <tr>\n",
       "      <th>88</th>\n",
       "      <td>88</td>\n",
       "      <td>SHP</td>\n",
       "      <td>8ccb3abc-b940-453c-82f8-2d108117312e</td>\n",
       "      <td>2.966667</td>\n",
       "      <td>[-18509.810546875, -75540.2421875]</td>\n",
       "      <td>30</td>\n",
       "      <td>-44.911762</td>\n",
       "      <td>[233.11575317382812, -438.8935241699219]</td>\n",
       "      <td>-0.269510</td>\n",
       "      <td>[134959.89205507596, -147600.22878194408]</td>\n",
       "      <td>...</td>\n",
       "      <td>-80.130014</td>\n",
       "      <td>100.0</td>\n",
       "      <td>0.0</td>\n",
       "      <td>9197.403441</td>\n",
       "      <td>106703.644113</td>\n",
       "      <td>2817.068492</td>\n",
       "      <td>496.961246</td>\n",
       "      <td>2110.731339</td>\n",
       "      <td>2080.977757</td>\n",
       "      <td>200000.0</td>\n",
       "    </tr>\n",
       "    <tr>\n",
       "      <th>91</th>\n",
       "      <td>91</td>\n",
       "      <td>SHP</td>\n",
       "      <td>8ccb3abc-b940-453c-82f8-2d108117312e</td>\n",
       "      <td>3.066667</td>\n",
       "      <td>[-18486.2734375, -75584.375]</td>\n",
       "      <td>30</td>\n",
       "      <td>-44.928713</td>\n",
       "      <td>[239.86373901367188, -446.2735595703125]</td>\n",
       "      <td>0.030490</td>\n",
       "      <td>[5204.070049119208, -14068.320970316976]</td>\n",
       "      <td>...</td>\n",
       "      <td>-81.132568</td>\n",
       "      <td>100.0</td>\n",
       "      <td>0.0</td>\n",
       "      <td>9144.713972</td>\n",
       "      <td>106653.635292</td>\n",
       "      <td>2817.068492</td>\n",
       "      <td>506.650474</td>\n",
       "      <td>2117.304422</td>\n",
       "      <td>2113.418009</td>\n",
       "      <td>15000.0</td>\n",
       "    </tr>\n",
       "    <tr>\n",
       "      <th>103</th>\n",
       "      <td>103</td>\n",
       "      <td>SHP</td>\n",
       "      <td>8ccb3abc-b940-453c-82f8-2d108117312e</td>\n",
       "      <td>3.466667</td>\n",
       "      <td>[-18389.92578125, -75763.984375]</td>\n",
       "      <td>30</td>\n",
       "      <td>-45.098773</td>\n",
       "      <td>[245.12533569335938, -460.67584228515625]</td>\n",
       "      <td>-0.526302</td>\n",
       "      <td>[10324.749358712594, -10881.155760293292]</td>\n",
       "      <td>...</td>\n",
       "      <td>-89.855953</td>\n",
       "      <td>100.0</td>\n",
       "      <td>0.0</td>\n",
       "      <td>8943.787618</td>\n",
       "      <td>106449.858709</td>\n",
       "      <td>2817.068492</td>\n",
       "      <td>521.832025</td>\n",
       "      <td>2094.678465</td>\n",
       "      <td>2062.919303</td>\n",
       "      <td>15000.0</td>\n",
       "    </tr>\n",
       "    <tr>\n",
       "      <th>124</th>\n",
       "      <td>124</td>\n",
       "      <td>SHP</td>\n",
       "      <td>8ccb3abc-b940-453c-82f8-2d108117312e</td>\n",
       "      <td>4.166667</td>\n",
       "      <td>[-18216.9140625, -76087.9453125]</td>\n",
       "      <td>30</td>\n",
       "      <td>-44.867184</td>\n",
       "      <td>[255.21827697753906, -471.08636474609375]</td>\n",
       "      <td>0.473698</td>\n",
       "      <td>[4834.592577726877, -14199.53219677987]</td>\n",
       "      <td>...</td>\n",
       "      <td>-77.384353</td>\n",
       "      <td>100.0</td>\n",
       "      <td>0.0</td>\n",
       "      <td>8574.122362</td>\n",
       "      <td>106082.657913</td>\n",
       "      <td>2817.068492</td>\n",
       "      <td>535.778622</td>\n",
       "      <td>2098.433899</td>\n",
       "      <td>2045.140398</td>\n",
       "      <td>15000.0</td>\n",
       "    </tr>\n",
       "    <tr>\n",
       "      <th>145</th>\n",
       "      <td>145</td>\n",
       "      <td>SHP</td>\n",
       "      <td>8ccb3abc-b940-453c-82f8-2d108117312e</td>\n",
       "      <td>4.866667</td>\n",
       "      <td>[-18037.609375, -76419.65625]</td>\n",
       "      <td>30</td>\n",
       "      <td>-45.135596</td>\n",
       "      <td>[259.7513122558594, -484.8594665527344]</td>\n",
       "      <td>-0.470719</td>\n",
       "      <td>[10865.555558723183, -10341.165427566651]</td>\n",
       "      <td>...</td>\n",
       "      <td>-91.410631</td>\n",
       "      <td>100.0</td>\n",
       "      <td>0.0</td>\n",
       "      <td>8200.220651</td>\n",
       "      <td>105705.694401</td>\n",
       "      <td>2917.678081</td>\n",
       "      <td>550.054040</td>\n",
       "      <td>2089.663803</td>\n",
       "      <td>1920.789047</td>\n",
       "      <td>15000.0</td>\n",
       "    </tr>\n",
       "    <tr>\n",
       "      <th>166</th>\n",
       "      <td>166</td>\n",
       "      <td>SHP</td>\n",
       "      <td>8ccb3abc-b940-453c-82f8-2d108117312e</td>\n",
       "      <td>5.566667</td>\n",
       "      <td>[-17854.431640625, -76760.3203125]</td>\n",
       "      <td>30</td>\n",
       "      <td>-44.859652</td>\n",
       "      <td>[268.15777587890625, -492.5837097167969]</td>\n",
       "      <td>0.571410</td>\n",
       "      <td>[4223.539071353907, -14393.113551721428]</td>\n",
       "      <td>...</td>\n",
       "      <td>-76.905101</td>\n",
       "      <td>100.0</td>\n",
       "      <td>0.0</td>\n",
       "      <td>7811.156548</td>\n",
       "      <td>105318.996250</td>\n",
       "      <td>2917.678081</td>\n",
       "      <td>560.845169</td>\n",
       "      <td>2086.930876</td>\n",
       "      <td>1864.968449</td>\n",
       "      <td>15000.0</td>\n",
       "    </tr>\n",
       "    <tr>\n",
       "      <th>184</th>\n",
       "      <td>184</td>\n",
       "      <td>SHP</td>\n",
       "      <td>8ccb3abc-b940-453c-82f8-2d108117312e</td>\n",
       "      <td>6.166667</td>\n",
       "      <td>[-17693.181640625, -77057.1015625]</td>\n",
       "      <td>30</td>\n",
       "      <td>-45.026806</td>\n",
       "      <td>[269.3931884765625, -496.9107666015625]</td>\n",
       "      <td>-1.028590</td>\n",
       "      <td>[11444.504211686199, -9696.56245010039]</td>\n",
       "      <td>...</td>\n",
       "      <td>-86.467809</td>\n",
       "      <td>100.0</td>\n",
       "      <td>0.0</td>\n",
       "      <td>7476.656692</td>\n",
       "      <td>104981.353523</td>\n",
       "      <td>2917.678081</td>\n",
       "      <td>565.237118</td>\n",
       "      <td>2061.048279</td>\n",
       "      <td>1766.608105</td>\n",
       "      <td>15000.0</td>\n",
       "    </tr>\n",
       "    <tr>\n",
       "      <th>187</th>\n",
       "      <td>187</td>\n",
       "      <td>SHP</td>\n",
       "      <td>8ccb3abc-b940-453c-82f8-2d108117312e</td>\n",
       "      <td>6.266667</td>\n",
       "      <td>[-17666.224609375, -77106.8046875]</td>\n",
       "      <td>30</td>\n",
       "      <td>-45.119665</td>\n",
       "      <td>[269.9654235839844, -497.39556884765625]</td>\n",
       "      <td>-0.728590</td>\n",
       "      <td>[52210.56270203534, -193064.90396324452]</td>\n",
       "      <td>...</td>\n",
       "      <td>-90.753133</td>\n",
       "      <td>100.0</td>\n",
       "      <td>0.0</td>\n",
       "      <td>7417.457453</td>\n",
       "      <td>104924.829104</td>\n",
       "      <td>2917.678081</td>\n",
       "      <td>565.936111</td>\n",
       "      <td>2071.457831</td>\n",
       "      <td>1787.727453</td>\n",
       "      <td>200000.0</td>\n",
       "    </tr>\n",
       "    <tr>\n",
       "      <th>190</th>\n",
       "      <td>190</td>\n",
       "      <td>SHP</td>\n",
       "      <td>8ccb3abc-b940-453c-82f8-2d108117312e</td>\n",
       "      <td>6.366667</td>\n",
       "      <td>[-17639.140625, -77156.8671875]</td>\n",
       "      <td>30</td>\n",
       "      <td>-45.182524</td>\n",
       "      <td>[272.5759582519531, -507.048828125]</td>\n",
       "      <td>-0.528590</td>\n",
       "      <td>[11642.577985694305, -9457.820988315772]</td>\n",
       "      <td>...</td>\n",
       "      <td>-93.212139</td>\n",
       "      <td>100.0</td>\n",
       "      <td>0.0</td>\n",
       "      <td>7363.372684</td>\n",
       "      <td>104867.926877</td>\n",
       "      <td>2917.678081</td>\n",
       "      <td>575.670190</td>\n",
       "      <td>2079.931759</td>\n",
       "      <td>1734.442311</td>\n",
       "      <td>15000.0</td>\n",
       "    </tr>\n",
       "    <tr>\n",
       "      <th>217</th>\n",
       "      <td>217</td>\n",
       "      <td>SHP</td>\n",
       "      <td>8ccb3abc-b940-453c-82f8-2d108117312e</td>\n",
       "      <td>7.266667</td>\n",
       "      <td>[-17391.03125, -77615.390625]</td>\n",
       "      <td>30</td>\n",
       "      <td>-44.725750</td>\n",
       "      <td>[287.8135986328125, -518.5344848632812]</td>\n",
       "      <td>0.531913</td>\n",
       "      <td>[2992.8386051802167, -14698.398453006468]</td>\n",
       "      <td>...</td>\n",
       "      <td>-67.683393</td>\n",
       "      <td>100.0</td>\n",
       "      <td>0.0</td>\n",
       "      <td>6840.143376</td>\n",
       "      <td>104346.737929</td>\n",
       "      <td>2917.678081</td>\n",
       "      <td>593.055376</td>\n",
       "      <td>2081.897290</td>\n",
       "      <td>1659.762428</td>\n",
       "      <td>15000.0</td>\n",
       "    </tr>\n",
       "    <tr>\n",
       "      <th>247</th>\n",
       "      <td>247</td>\n",
       "      <td>SHP</td>\n",
       "      <td>8ccb3abc-b940-453c-82f8-2d108117312e</td>\n",
       "      <td>8.266667</td>\n",
       "      <td>[-17102.5, -78137.796875]</td>\n",
       "      <td>30</td>\n",
       "      <td>-45.303838</td>\n",
       "      <td>[290.53924560546875, -535.0590209960938]</td>\n",
       "      <td>-0.468087</td>\n",
       "      <td>[12950.708174219608, -7568.299530687288]</td>\n",
       "      <td>...</td>\n",
       "      <td>-96.909626</td>\n",
       "      <td>100.0</td>\n",
       "      <td>0.0</td>\n",
       "      <td>6247.666004</td>\n",
       "      <td>103750.279706</td>\n",
       "      <td>2917.678081</td>\n",
       "      <td>608.852371</td>\n",
       "      <td>2073.518075</td>\n",
       "      <td>1512.036690</td>\n",
       "      <td>15000.0</td>\n",
       "    </tr>\n",
       "    <tr>\n",
       "      <th>280</th>\n",
       "      <td>280</td>\n",
       "      <td>SHP</td>\n",
       "      <td>8ccb3abc-b940-453c-82f8-2d108117312e</td>\n",
       "      <td>9.366667</td>\n",
       "      <td>[-16778.763671875, -78728.5859375]</td>\n",
       "      <td>30</td>\n",
       "      <td>-44.498734</td>\n",
       "      <td>[306.2710876464844, -542.7013549804688]</td>\n",
       "      <td>0.438212</td>\n",
       "      <td>[403.9703992733336, -14994.5592771682]</td>\n",
       "      <td>...</td>\n",
       "      <td>-49.378442</td>\n",
       "      <td>100.0</td>\n",
       "      <td>0.0</td>\n",
       "      <td>5573.140463</td>\n",
       "      <td>103076.913110</td>\n",
       "      <td>2917.678081</td>\n",
       "      <td>623.158679</td>\n",
       "      <td>2078.594241</td>\n",
       "      <td>1429.010896</td>\n",
       "      <td>15000.0</td>\n",
       "    </tr>\n",
       "    <tr>\n",
       "      <th>310</th>\n",
       "      <td>310</td>\n",
       "      <td>SHP</td>\n",
       "      <td>8ccb3abc-b940-453c-82f8-2d108117312e</td>\n",
       "      <td>10.366667</td>\n",
       "      <td>[-16472.501953125, -79274.9140625]</td>\n",
       "      <td>30</td>\n",
       "      <td>-45.340522</td>\n",
       "      <td>[306.1084899902344, -550.1957397460938]</td>\n",
       "      <td>-1.061788</td>\n",
       "      <td>[14506.186752937729, -3817.138442458427]</td>\n",
       "      <td>...</td>\n",
       "      <td>-97.749160</td>\n",
       "      <td>100.0</td>\n",
       "      <td>0.0</td>\n",
       "      <td>4952.525484</td>\n",
       "      <td>102451.101129</td>\n",
       "      <td>2544.862543</td>\n",
       "      <td>629.617153</td>\n",
       "      <td>2038.002836</td>\n",
       "      <td>1283.440025</td>\n",
       "      <td>15000.0</td>\n",
       "    </tr>\n",
       "    <tr>\n",
       "      <th>313</th>\n",
       "      <td>313</td>\n",
       "      <td>SHP</td>\n",
       "      <td>8ccb3abc-b940-453c-82f8-2d108117312e</td>\n",
       "      <td>10.466667</td>\n",
       "      <td>[-16441.8671875, -79329.9375]</td>\n",
       "      <td>30</td>\n",
       "      <td>-45.436701</td>\n",
       "      <td>[306.83380126953125, -550.3865966796875]</td>\n",
       "      <td>-0.761788</td>\n",
       "      <td>[-1526.490075395044, -14922.12545349088]</td>\n",
       "      <td>...</td>\n",
       "      <td>-99.323400</td>\n",
       "      <td>100.0</td>\n",
       "      <td>0.0</td>\n",
       "      <td>4887.003628</td>\n",
       "      <td>102388.168226</td>\n",
       "      <td>2506.902975</td>\n",
       "      <td>630.136801</td>\n",
       "      <td>2051.937443</td>\n",
       "      <td>1313.228668</td>\n",
       "      <td>15000.0</td>\n",
       "    </tr>\n",
       "    <tr>\n",
       "      <th>316</th>\n",
       "      <td>316</td>\n",
       "      <td>SHP</td>\n",
       "      <td>8ccb3abc-b940-453c-82f8-2d108117312e</td>\n",
       "      <td>10.566667</td>\n",
       "      <td>[-16411.197265625, -79385.109375]</td>\n",
       "      <td>30</td>\n",
       "      <td>-45.507381</td>\n",
       "      <td>[306.1299133300781, -557.2673950195312]</td>\n",
       "      <td>-0.592978</td>\n",
       "      <td>[14684.142866586226, -3062.0170270076774]</td>\n",
       "      <td>...</td>\n",
       "      <td>-99.895539</td>\n",
       "      <td>100.0</td>\n",
       "      <td>0.0</td>\n",
       "      <td>4827.054566</td>\n",
       "      <td>102325.087138</td>\n",
       "      <td>2468.908596</td>\n",
       "      <td>635.816383</td>\n",
       "      <td>2059.711138</td>\n",
       "      <td>1261.492610</td>\n",
       "      <td>15000.0</td>\n",
       "    </tr>\n",
       "    <tr>\n",
       "      <th>343</th>\n",
       "      <td>343</td>\n",
       "      <td>SHP</td>\n",
       "      <td>8ccb3abc-b940-453c-82f8-2d108117312e</td>\n",
       "      <td>11.466667</td>\n",
       "      <td>[-16132.794921875, -79887.109375]</td>\n",
       "      <td>30</td>\n",
       "      <td>-44.871061</td>\n",
       "      <td>[312.8160095214844, -558.1257934570312]</td>\n",
       "      <td>1.907022</td>\n",
       "      <td>[-4277.667693336015, -14377.119290921577]</td>\n",
       "      <td>...</td>\n",
       "      <td>-77.629326</td>\n",
       "      <td>100.0</td>\n",
       "      <td>0.0</td>\n",
       "      <td>4253.364503</td>\n",
       "      <td>101751.423329</td>\n",
       "      <td>2123.169954</td>\n",
       "      <td>639.811111</td>\n",
       "      <td>1992.259055</td>\n",
       "      <td>1207.323285</td>\n",
       "      <td>15000.0</td>\n",
       "    </tr>\n",
       "    <tr>\n",
       "      <th>346</th>\n",
       "      <td>346</td>\n",
       "      <td>SHP</td>\n",
       "      <td>8ccb3abc-b940-453c-82f8-2d108117312e</td>\n",
       "      <td>11.566667</td>\n",
       "      <td>[-16101.5205078125, -79942.9453125]</td>\n",
       "      <td>30</td>\n",
       "      <td>-44.690359</td>\n",
       "      <td>[312.60211181640625, -558.8446655273438]</td>\n",
       "      <td>1.607022</td>\n",
       "      <td>[14999.932522971856, 44.992291464345335]</td>\n",
       "      <td>...</td>\n",
       "      <td>-65.036272</td>\n",
       "      <td>100.0</td>\n",
       "      <td>0.0</td>\n",
       "      <td>4192.721877</td>\n",
       "      <td>101687.476831</td>\n",
       "      <td>2084.592579</td>\n",
       "      <td>640.333851</td>\n",
       "      <td>2010.264171</td>\n",
       "      <td>1152.528330</td>\n",
       "      <td>15000.0</td>\n",
       "    </tr>\n",
       "    <tr>\n",
       "      <th>349</th>\n",
       "      <td>349</td>\n",
       "      <td>SHP</td>\n",
       "      <td>8ccb3abc-b940-453c-82f8-2d108117312e</td>\n",
       "      <td>11.666667</td>\n",
       "      <td>[-16070.234375, -79998.828125]</td>\n",
       "      <td>30</td>\n",
       "      <td>-44.529657</td>\n",
       "      <td>[313.35211181640625, -558.8424072265625]</td>\n",
       "      <td>1.607022</td>\n",
       "      <td>[-4902.856640859732, -14176.106544435168]</td>\n",
       "      <td>...</td>\n",
       "      <td>-52.043439</td>\n",
       "      <td>100.0</td>\n",
       "      <td>0.0</td>\n",
       "      <td>4126.219779</td>\n",
       "      <td>101623.483302</td>\n",
       "      <td>2045.989208</td>\n",
       "      <td>640.698355</td>\n",
       "      <td>2014.233868</td>\n",
       "      <td>1186.008893</td>\n",
       "      <td>15000.0</td>\n",
       "    </tr>\n",
       "    <tr>\n",
       "      <th>352</th>\n",
       "      <td>352</td>\n",
       "      <td>SHP</td>\n",
       "      <td>8ccb3abc-b940-453c-82f8-2d108117312e</td>\n",
       "      <td>11.766667</td>\n",
       "      <td>[-16038.908203125, -80054.734375]</td>\n",
       "      <td>30</td>\n",
       "      <td>-44.378954</td>\n",
       "      <td>[313.1069641113281, -559.5512084960938]</td>\n",
       "      <td>1.307022</td>\n",
       "      <td>[14978.195182925916, 808.4980285534937]</td>\n",
       "      <td>...</td>\n",
       "      <td>-38.633737</td>\n",
       "      <td>100.0</td>\n",
       "      <td>0.0</td>\n",
       "      <td>4065.532896</td>\n",
       "      <td>101559.450798</td>\n",
       "      <td>2007.358874</td>\n",
       "      <td>641.196948</td>\n",
       "      <td>1995.196375</td>\n",
       "      <td>1130.479235</td>\n",
       "      <td>15000.0</td>\n",
       "    </tr>\n",
       "    <tr>\n",
       "      <th>355</th>\n",
       "      <td>355</td>\n",
       "      <td>SHP</td>\n",
       "      <td>8ccb3abc-b940-453c-82f8-2d108117312e</td>\n",
       "      <td>11.866667</td>\n",
       "      <td>[-16007.572265625, -80110.6875]</td>\n",
       "      <td>30</td>\n",
       "      <td>-44.248252</td>\n",
       "      <td>[313.8558654785156, -559.5108032226562]</td>\n",
       "      <td>1.307022</td>\n",
       "      <td>[-5560.120833498062, -13931.441286417601]</td>\n",
       "      <td>...</td>\n",
       "      <td>-26.283088</td>\n",
       "      <td>100.0</td>\n",
       "      <td>0.0</td>\n",
       "      <td>3998.963821</td>\n",
       "      <td>101495.372150</td>\n",
       "      <td>1968.704350</td>\n",
       "      <td>641.527742</td>\n",
       "      <td>1956.776013</td>\n",
       "      <td>1164.738936</td>\n",
       "      <td>15000.0</td>\n",
       "    </tr>\n",
       "    <tr>\n",
       "      <th>358</th>\n",
       "      <td>358</td>\n",
       "      <td>SHP</td>\n",
       "      <td>8ccb3abc-b940-453c-82f8-2d108117312e</td>\n",
       "      <td>11.966667</td>\n",
       "      <td>[-15976.1953125, -80166.6640625]</td>\n",
       "      <td>30</td>\n",
       "      <td>-44.127550</td>\n",
       "      <td>[313.577880859375, -560.2073974609375]</td>\n",
       "      <td>1.007022</td>\n",
       "      <td>[14912.892015345107, 1614.2031280654091]</td>\n",
       "      <td>...</td>\n",
       "      <td>-14.474259</td>\n",
       "      <td>100.0</td>\n",
       "      <td>0.0</td>\n",
       "      <td>3938.236823</td>\n",
       "      <td>101431.254086</td>\n",
       "      <td>1930.024658</td>\n",
       "      <td>641.999545</td>\n",
       "      <td>1918.330712</td>\n",
       "      <td>1108.078287</td>\n",
       "      <td>15000.0</td>\n",
       "    </tr>\n",
       "    <tr>\n",
       "      <th>361</th>\n",
       "      <td>361</td>\n",
       "      <td>SHP</td>\n",
       "      <td>8ccb3abc-b940-453c-82f8-2d108117312e</td>\n",
       "      <td>12.066667</td>\n",
       "      <td>[-15944.8134765625, -80222.6875]</td>\n",
       "      <td>30</td>\n",
       "      <td>-44.036848</td>\n",
       "      <td>[314.3235168457031, -560.1266479492188]</td>\n",
       "      <td>0.707022</td>\n",
       "      <td>[-6248.66868468284, -13636.500272029625]</td>\n",
       "      <td>...</td>\n",
       "      <td>-5.452352</td>\n",
       "      <td>100.0</td>\n",
       "      <td>0.0</td>\n",
       "      <td>3871.604601</td>\n",
       "      <td>101367.092091</td>\n",
       "      <td>1891.322760</td>\n",
       "      <td>642.293652</td>\n",
       "      <td>1879.863371</td>\n",
       "      <td>1143.406987</td>\n",
       "      <td>15000.0</td>\n",
       "    </tr>\n",
       "    <tr>\n",
       "      <th>364</th>\n",
       "      <td>364</td>\n",
       "      <td>SHP</td>\n",
       "      <td>8ccb3abc-b940-453c-82f8-2d108117312e</td>\n",
       "      <td>12.166667</td>\n",
       "      <td>[-15913.3916015625, -80278.71875]</td>\n",
       "      <td>30</td>\n",
       "      <td>-43.976145</td>\n",
       "      <td>[314.0110778808594, -560.8084716796875]</td>\n",
       "      <td>0.407022</td>\n",
       "      <td>[197298.31294915263, 32762.413028014824]</td>\n",
       "      <td>...</td>\n",
       "      <td>0.615164</td>\n",
       "      <td>100.0</td>\n",
       "      <td>0.0</td>\n",
       "      <td>3810.858416</td>\n",
       "      <td>101302.905054</td>\n",
       "      <td>1852.597673</td>\n",
       "      <td>642.735637</td>\n",
       "      <td>1841.372921</td>\n",
       "      <td>1085.479676</td>\n",
       "      <td>200000.0</td>\n",
       "    </tr>\n",
       "    <tr>\n",
       "      <th>367</th>\n",
       "      <td>367</td>\n",
       "      <td>SHP</td>\n",
       "      <td>8ccb3abc-b940-453c-82f8-2d108117312e</td>\n",
       "      <td>12.266667</td>\n",
       "      <td>[-15881.6611328125, -80334.7421875]</td>\n",
       "      <td>30</td>\n",
       "      <td>-43.925443</td>\n",
       "      <td>[323.8760070800781, -559.1703491210938]</td>\n",
       "      <td>0.507022</td>\n",
       "      <td>[-7300.444924530745, -13103.568365292456]</td>\n",
       "      <td>...</td>\n",
       "      <td>5.682330</td>\n",
       "      <td>100.0</td>\n",
       "      <td>0.0</td>\n",
       "      <td>3744.119446</td>\n",
       "      <td>101238.585217</td>\n",
       "      <td>1813.852560</td>\n",
       "      <td>646.194357</td>\n",
       "      <td>1802.862472</td>\n",
       "      <td>1122.543073</td>\n",
       "      <td>15000.0</td>\n",
       "    </tr>\n",
       "    <tr>\n",
       "      <th>406</th>\n",
       "      <td>406</td>\n",
       "      <td>SHP</td>\n",
       "      <td>8ccb3abc-b940-453c-82f8-2d108117312e</td>\n",
       "      <td>13.566667</td>\n",
       "      <td>[-15464.0361328125, -81066.8046875]</td>\n",
       "      <td>30</td>\n",
       "      <td>-45.496314</td>\n",
       "      <td>[318.3815002441406, -567.21533203125]</td>\n",
       "      <td>-1.692978</td>\n",
       "      <td>[11921.331095304746, 9103.94776545429]</td>\n",
       "      <td>...</td>\n",
       "      <td>-99.838849</td>\n",
       "      <td>100.0</td>\n",
       "      <td>0.0</td>\n",
       "      <td>2915.133993</td>\n",
       "      <td>100396.762144</td>\n",
       "      <td>1305.913031</td>\n",
       "      <td>650.461384</td>\n",
       "      <td>1298.000555</td>\n",
       "      <td>919.246418</td>\n",
       "      <td>15000.0</td>\n",
       "    </tr>\n",
       "    <tr>\n",
       "      <th>407</th>\n",
       "      <td>407</td>\n",
       "      <td>SHP</td>\n",
       "      <td>8ccb3abc-b940-453c-82f8-2d108117312e</td>\n",
       "      <td>13.600000</td>\n",
       "      <td>[-15453.423828125, -81085.7109375]</td>\n",
       "      <td>30</td>\n",
       "      <td>-45.552747</td>\n",
       "      <td>[318.5802001953125, -567.0635986328125]</td>\n",
       "      <td>-1.592978</td>\n",
       "      <td>[6020.9779644731925, -13738.552483843714]</td>\n",
       "      <td>...</td>\n",
       "      <td>-99.999994</td>\n",
       "      <td>100.0</td>\n",
       "      <td>0.0</td>\n",
       "      <td>2410.097438</td>\n",
       "      <td>100375.099890</td>\n",
       "      <td>1266.721452</td>\n",
       "      <td>650.426375</td>\n",
       "      <td>1259.046429</td>\n",
       "      <td>1019.528923</td>\n",
       "      <td>15000.0</td>\n",
       "    </tr>\n",
       "  </tbody>\n",
       "</table>\n",
       "<p>30 rows × 73 columns</p>\n",
       "</div>"
      ],
      "text/plain": [
       "     index    p                                   eid         ts  \\\n",
       "16      16  SHP  8ccb3abc-b940-453c-82f8-2d108117312e   0.566667   \n",
       "52      52  SHP  8ccb3abc-b940-453c-82f8-2d108117312e   1.766667   \n",
       "64      64  SHP  8ccb3abc-b940-453c-82f8-2d108117312e   2.166667   \n",
       "79      79  SHP  8ccb3abc-b940-453c-82f8-2d108117312e   2.666667   \n",
       "88      88  SHP  8ccb3abc-b940-453c-82f8-2d108117312e   2.966667   \n",
       "91      91  SHP  8ccb3abc-b940-453c-82f8-2d108117312e   3.066667   \n",
       "103    103  SHP  8ccb3abc-b940-453c-82f8-2d108117312e   3.466667   \n",
       "124    124  SHP  8ccb3abc-b940-453c-82f8-2d108117312e   4.166667   \n",
       "145    145  SHP  8ccb3abc-b940-453c-82f8-2d108117312e   4.866667   \n",
       "166    166  SHP  8ccb3abc-b940-453c-82f8-2d108117312e   5.566667   \n",
       "184    184  SHP  8ccb3abc-b940-453c-82f8-2d108117312e   6.166667   \n",
       "187    187  SHP  8ccb3abc-b940-453c-82f8-2d108117312e   6.266667   \n",
       "190    190  SHP  8ccb3abc-b940-453c-82f8-2d108117312e   6.366667   \n",
       "217    217  SHP  8ccb3abc-b940-453c-82f8-2d108117312e   7.266667   \n",
       "247    247  SHP  8ccb3abc-b940-453c-82f8-2d108117312e   8.266667   \n",
       "280    280  SHP  8ccb3abc-b940-453c-82f8-2d108117312e   9.366667   \n",
       "310    310  SHP  8ccb3abc-b940-453c-82f8-2d108117312e  10.366667   \n",
       "313    313  SHP  8ccb3abc-b940-453c-82f8-2d108117312e  10.466667   \n",
       "316    316  SHP  8ccb3abc-b940-453c-82f8-2d108117312e  10.566667   \n",
       "343    343  SHP  8ccb3abc-b940-453c-82f8-2d108117312e  11.466667   \n",
       "346    346  SHP  8ccb3abc-b940-453c-82f8-2d108117312e  11.566667   \n",
       "349    349  SHP  8ccb3abc-b940-453c-82f8-2d108117312e  11.666667   \n",
       "352    352  SHP  8ccb3abc-b940-453c-82f8-2d108117312e  11.766667   \n",
       "355    355  SHP  8ccb3abc-b940-453c-82f8-2d108117312e  11.866667   \n",
       "358    358  SHP  8ccb3abc-b940-453c-82f8-2d108117312e  11.966667   \n",
       "361    361  SHP  8ccb3abc-b940-453c-82f8-2d108117312e  12.066667   \n",
       "364    364  SHP  8ccb3abc-b940-453c-82f8-2d108117312e  12.166667   \n",
       "367    367  SHP  8ccb3abc-b940-453c-82f8-2d108117312e  12.266667   \n",
       "406    406  SHP  8ccb3abc-b940-453c-82f8-2d108117312e  13.566667   \n",
       "407    407  SHP  8ccb3abc-b940-453c-82f8-2d108117312e  13.600000   \n",
       "\n",
       "                                     loc   r          a  \\\n",
       "16    [-19030.591796875, -74543.6015625]  30 -42.947142   \n",
       "52           [-18783.69921875, -75023.5]  30 -44.797053   \n",
       "64       [-18694.0703125, -75192.421875]  30 -45.058996   \n",
       "79      [-18579.61328125, -75408.921875]  30 -44.980909   \n",
       "88    [-18509.810546875, -75540.2421875]  30 -44.911762   \n",
       "91          [-18486.2734375, -75584.375]  30 -44.928713   \n",
       "103     [-18389.92578125, -75763.984375]  30 -45.098773   \n",
       "124     [-18216.9140625, -76087.9453125]  30 -44.867184   \n",
       "145        [-18037.609375, -76419.65625]  30 -45.135596   \n",
       "166   [-17854.431640625, -76760.3203125]  30 -44.859652   \n",
       "184   [-17693.181640625, -77057.1015625]  30 -45.026806   \n",
       "187   [-17666.224609375, -77106.8046875]  30 -45.119665   \n",
       "190      [-17639.140625, -77156.8671875]  30 -45.182524   \n",
       "217        [-17391.03125, -77615.390625]  30 -44.725750   \n",
       "247            [-17102.5, -78137.796875]  30 -45.303838   \n",
       "280   [-16778.763671875, -78728.5859375]  30 -44.498734   \n",
       "310   [-16472.501953125, -79274.9140625]  30 -45.340522   \n",
       "313        [-16441.8671875, -79329.9375]  30 -45.436701   \n",
       "316    [-16411.197265625, -79385.109375]  30 -45.507381   \n",
       "343    [-16132.794921875, -79887.109375]  30 -44.871061   \n",
       "346  [-16101.5205078125, -79942.9453125]  30 -44.690359   \n",
       "349       [-16070.234375, -79998.828125]  30 -44.529657   \n",
       "352    [-16038.908203125, -80054.734375]  30 -44.378954   \n",
       "355      [-16007.572265625, -80110.6875]  30 -44.248252   \n",
       "358     [-15976.1953125, -80166.6640625]  30 -44.127550   \n",
       "361     [-15944.8134765625, -80222.6875]  30 -44.036848   \n",
       "364    [-15913.3916015625, -80278.71875]  30 -43.976145   \n",
       "367  [-15881.6611328125, -80334.7421875]  30 -43.925443   \n",
       "406  [-15464.0361328125, -81066.8046875]  30 -45.496314   \n",
       "407   [-15453.423828125, -81085.7109375]  30 -45.552747   \n",
       "\n",
       "                                             v        av  \\\n",
       "16    [201.36203002929688, -394.7500915527344] -2.247292   \n",
       "52    [223.28472900390625, -420.3003234863281] -0.329857   \n",
       "64     [227.750732421875, -431.70721435546875] -0.529857   \n",
       "79     [232.3184814453125, -436.7895202636719]  0.630490   \n",
       "88    [233.11575317382812, -438.8935241699219] -0.269510   \n",
       "91    [239.86373901367188, -446.2735595703125]  0.030490   \n",
       "103  [245.12533569335938, -460.67584228515625] -0.526302   \n",
       "124  [255.21827697753906, -471.08636474609375]  0.473698   \n",
       "145    [259.7513122558594, -484.8594665527344] -0.470719   \n",
       "166   [268.15777587890625, -492.5837097167969]  0.571410   \n",
       "184    [269.3931884765625, -496.9107666015625] -1.028590   \n",
       "187   [269.9654235839844, -497.39556884765625] -0.728590   \n",
       "190        [272.5759582519531, -507.048828125] -0.528590   \n",
       "217    [287.8135986328125, -518.5344848632812]  0.531913   \n",
       "247   [290.53924560546875, -535.0590209960938] -0.468087   \n",
       "280    [306.2710876464844, -542.7013549804688]  0.438212   \n",
       "310    [306.1084899902344, -550.1957397460938] -1.061788   \n",
       "313   [306.83380126953125, -550.3865966796875] -0.761788   \n",
       "316    [306.1299133300781, -557.2673950195312] -0.592978   \n",
       "343    [312.8160095214844, -558.1257934570312]  1.907022   \n",
       "346   [312.60211181640625, -558.8446655273438]  1.607022   \n",
       "349   [313.35211181640625, -558.8424072265625]  1.607022   \n",
       "352    [313.1069641113281, -559.5512084960938]  1.307022   \n",
       "355    [313.8558654785156, -559.5108032226562]  1.307022   \n",
       "358     [313.577880859375, -560.2073974609375]  1.007022   \n",
       "361    [314.3235168457031, -560.1266479492188]  0.707022   \n",
       "364    [314.0110778808594, -560.8084716796875]  0.407022   \n",
       "367    [323.8760070800781, -559.1703491210938]  0.507022   \n",
       "406      [318.3815002441406, -567.21533203125] -1.692978   \n",
       "407    [318.5802001953125, -567.0635986328125] -1.592978   \n",
       "\n",
       "                                             f  ...    angle.y _ada.x _ada.y  \\\n",
       "16    [9538.280809787382, -11576.752532279585]  ...  85.994143  100.0    0.0   \n",
       "52    [5518.139582340848, -13948.123011710326]  ... -72.755803  100.0    0.0   \n",
       "64     [9972.48052480632, -11204.893224942338]  ... -88.039689  100.0    0.0   \n",
       "79    [5324.341881083851, -14023.244401112623]  ... -84.072039  100.0    0.0   \n",
       "88   [134959.89205507596, -147600.22878194408]  ... -80.130014  100.0    0.0   \n",
       "91    [5204.070049119208, -14068.320970316976]  ... -81.132568  100.0    0.0   \n",
       "103  [10324.749358712594, -10881.155760293292]  ... -89.855953  100.0    0.0   \n",
       "124    [4834.592577726877, -14199.53219677987]  ... -77.384353  100.0    0.0   \n",
       "145  [10865.555558723183, -10341.165427566651]  ... -91.410631  100.0    0.0   \n",
       "166   [4223.539071353907, -14393.113551721428]  ... -76.905101  100.0    0.0   \n",
       "184    [11444.504211686199, -9696.56245010039]  ... -86.467809  100.0    0.0   \n",
       "187   [52210.56270203534, -193064.90396324452]  ... -90.753133  100.0    0.0   \n",
       "190   [11642.577985694305, -9457.820988315772]  ... -93.212139  100.0    0.0   \n",
       "217  [2992.8386051802167, -14698.398453006468]  ... -67.683393  100.0    0.0   \n",
       "247   [12950.708174219608, -7568.299530687288]  ... -96.909626  100.0    0.0   \n",
       "280     [403.9703992733336, -14994.5592771682]  ... -49.378442  100.0    0.0   \n",
       "310   [14506.186752937729, -3817.138442458427]  ... -97.749160  100.0    0.0   \n",
       "313   [-1526.490075395044, -14922.12545349088]  ... -99.323400  100.0    0.0   \n",
       "316  [14684.142866586226, -3062.0170270076774]  ... -99.895539  100.0    0.0   \n",
       "343  [-4277.667693336015, -14377.119290921577]  ... -77.629326  100.0    0.0   \n",
       "346   [14999.932522971856, 44.992291464345335]  ... -65.036272  100.0    0.0   \n",
       "349  [-4902.856640859732, -14176.106544435168]  ... -52.043439  100.0    0.0   \n",
       "352    [14978.195182925916, 808.4980285534937]  ... -38.633737  100.0    0.0   \n",
       "355  [-5560.120833498062, -13931.441286417601]  ... -26.283088  100.0    0.0   \n",
       "358   [14912.892015345107, 1614.2031280654091]  ... -14.474259  100.0    0.0   \n",
       "361   [-6248.66868468284, -13636.500272029625]  ...  -5.452352  100.0    0.0   \n",
       "364   [197298.31294915263, 32762.413028014824]  ...   0.615164  100.0    0.0   \n",
       "367  [-7300.444924530745, -13103.568365292456]  ...   5.682330  100.0    0.0   \n",
       "406     [11921.331095304746, 9103.94776545429]  ... -99.838849  100.0    0.0   \n",
       "407  [6020.9779644731925, -13738.552483843714]  ... -99.999994  100.0    0.0   \n",
       "\n",
       "        o.ct_dist       o.t_dist  o.max_speed_cap       speed    o.t_speed  \\\n",
       "16   10321.432486  107828.094711      2817.068492  443.141402  2101.557666   \n",
       "52    9779.172063  107288.413808      2817.068492  475.929020  2118.530414   \n",
       "64    9590.765793  107097.210481      2817.068492  488.099903  2101.662039   \n",
       "79    9343.310090  106852.342759      2817.068492  494.729180  2097.723948   \n",
       "88    9197.403441  106703.644113      2817.068492  496.961246  2110.731339   \n",
       "91    9144.713972  106653.635292      2817.068492  506.650474  2117.304422   \n",
       "103   8943.787618  106449.858709      2817.068492  521.832025  2094.678465   \n",
       "124   8574.122362  106082.657913      2817.068492  535.778622  2098.433899   \n",
       "145   8200.220651  105705.694401      2917.678081  550.054040  2089.663803   \n",
       "166   7811.156548  105318.996250      2917.678081  560.845169  2086.930876   \n",
       "184   7476.656692  104981.353523      2917.678081  565.237118  2061.048279   \n",
       "187   7417.457453  104924.829104      2917.678081  565.936111  2071.457831   \n",
       "190   7363.372684  104867.926877      2917.678081  575.670190  2079.931759   \n",
       "217   6840.143376  104346.737929      2917.678081  593.055376  2081.897290   \n",
       "247   6247.666004  103750.279706      2917.678081  608.852371  2073.518075   \n",
       "280   5573.140463  103076.913110      2917.678081  623.158679  2078.594241   \n",
       "310   4952.525484  102451.101129      2544.862543  629.617153  2038.002836   \n",
       "313   4887.003628  102388.168226      2506.902975  630.136801  2051.937443   \n",
       "316   4827.054566  102325.087138      2468.908596  635.816383  2059.711138   \n",
       "343   4253.364503  101751.423329      2123.169954  639.811111  1992.259055   \n",
       "346   4192.721877  101687.476831      2084.592579  640.333851  2010.264171   \n",
       "349   4126.219779  101623.483302      2045.989208  640.698355  2014.233868   \n",
       "352   4065.532896  101559.450798      2007.358874  641.196948  1995.196375   \n",
       "355   3998.963821  101495.372150      1968.704350  641.527742  1956.776013   \n",
       "358   3938.236823  101431.254086      1930.024658  641.999545  1918.330712   \n",
       "361   3871.604601  101367.092091      1891.322760  642.293652  1879.863371   \n",
       "364   3810.858416  101302.905054      1852.597673  642.735637  1841.372921   \n",
       "367   3744.119446  101238.585217      1813.852560  646.194357  1802.862472   \n",
       "406   2915.133993  100396.762144      1305.913031  650.461384  1298.000555   \n",
       "407   2410.097438  100375.099890      1266.721452  650.426375  1259.046429   \n",
       "\n",
       "     o._dv_speed     f_mag  \n",
       "16   2081.575632   15000.0  \n",
       "52   2115.676682   15000.0  \n",
       "64   2074.829020   15000.0  \n",
       "79   2094.181793   15000.0  \n",
       "88   2080.977757  200000.0  \n",
       "91   2113.418009   15000.0  \n",
       "103  2062.919303   15000.0  \n",
       "124  2045.140398   15000.0  \n",
       "145  1920.789047   15000.0  \n",
       "166  1864.968449   15000.0  \n",
       "184  1766.608105   15000.0  \n",
       "187  1787.727453  200000.0  \n",
       "190  1734.442311   15000.0  \n",
       "217  1659.762428   15000.0  \n",
       "247  1512.036690   15000.0  \n",
       "280  1429.010896   15000.0  \n",
       "310  1283.440025   15000.0  \n",
       "313  1313.228668   15000.0  \n",
       "316  1261.492610   15000.0  \n",
       "343  1207.323285   15000.0  \n",
       "346  1152.528330   15000.0  \n",
       "349  1186.008893   15000.0  \n",
       "352  1130.479235   15000.0  \n",
       "355  1164.738936   15000.0  \n",
       "358  1108.078287   15000.0  \n",
       "361  1143.406987   15000.0  \n",
       "364  1085.479676  200000.0  \n",
       "367  1122.543073   15000.0  \n",
       "406   919.246418   15000.0  \n",
       "407  1019.528923   15000.0  \n",
       "\n",
       "[30 rows x 73 columns]"
      ]
     },
     "execution_count": 43,
     "metadata": {},
     "output_type": "execute_result"
    }
   ],
   "source": [
    "df[(df[\"o.ct_dv.x\"]-df[\"o.ct_dv.x\"].shift(1)).abs() > 250]"
   ]
  },
  {
   "cell_type": "markdown",
   "id": "785ce89f",
   "metadata": {},
   "source": [
    "## Nearest Neighbors"
   ]
  },
  {
   "cell_type": "code",
   "execution_count": 44,
   "id": "03a6b3aa",
   "metadata": {},
   "outputs": [
    {
     "data": {
      "application/vnd.jupyter.widget-view+json": {
       "model_id": "35fb9a2459a34bef91fbdf25444c506e",
       "version_major": 2,
       "version_minor": 0
      },
      "text/plain": [
       "interactive(children=(FloatSlider(value=15.0, continuous_update=False, description='hist_length', max=16.76666…"
      ]
     },
     "metadata": {},
     "output_type": "display_data"
    },
    {
     "data": {
      "text/plain": [
       "<function __main__.plot_neighborhood_size(hist_length, max_time)>"
      ]
     },
     "execution_count": 44,
     "metadata": {},
     "output_type": "execute_result"
    }
   ],
   "source": [
    "neighborhood_radius = 5e4\n",
    "def plot_neighborhood_size(hist_length, max_time):\n",
    "    sample = df[(df[\"ts\"] >= max_time - hist_length) & (df[\"ts\"] <= max_time)]\n",
    "    plt.scatter(sample[\"ts\"], sample[\"o.nd\"]*np.pi*neighborhood_radius**2)\n",
    "    plt.title(\"neighborhood size (10km^2)\")\n",
    "    plt.show()\n",
    "\n",
    "ipywidgets.interact(\n",
    "    plot_neighborhood_size,\n",
    "    hist_length=ipywidgets.FloatSlider(value=15, min=0, max=df[\"ts\"].max()-df[\"ts\"].min(), continuous_update=False),\n",
    "    max_time=ipywidgets.FloatSlider(value=df[\"ts\"].max(), min=df[\"ts\"].min(), max=df[\"ts\"].max()+.1, continuous_update=False))"
   ]
  },
  {
   "cell_type": "code",
   "execution_count": 45,
   "id": "139c049e",
   "metadata": {},
   "outputs": [
    {
     "data": {
      "application/vnd.jupyter.widget-view+json": {
       "model_id": "979994ec654e47b5b319bf85e77cf81e",
       "version_major": 2,
       "version_minor": 0
      },
      "text/plain": [
       "interactive(children=(FloatSlider(value=15.0, continuous_update=False, description='hist_length', max=16.76666…"
      ]
     },
     "metadata": {},
     "output_type": "display_data"
    },
    {
     "data": {
      "text/plain": [
       "<function __main__.plot_nearest_neighbor(hist_length, max_time)>"
      ]
     },
     "execution_count": 45,
     "metadata": {},
     "output_type": "execute_result"
    }
   ],
   "source": [
    "def plot_nearest_neighbor(hist_length, max_time):\n",
    "    sample = df[(df[\"ts\"] >= max_time - hist_length) & (df[\"ts\"] <= max_time)]\n",
    "    plt.scatter(sample[\"ts\"], sample[\"o.nnd\"], label=\"nearest neighbor dist\")\n",
    "    plt.scatter(sample[\"ts\"], sample[\"o.scm\"], label=\"desired margin\")\n",
    "    plt.title(\"nearest neighor dist\")\n",
    "    plt.legend()\n",
    "    plt.show()\n",
    "    print(f'min dist {sample[\"o.nnd\"].min()}')\n",
    "\n",
    "ipywidgets.interact(\n",
    "    plot_nearest_neighbor,\n",
    "    hist_length=ipywidgets.FloatSlider(value=15, min=0, max=df[\"ts\"].max()-df[\"ts\"].min(), continuous_update=False),\n",
    "    max_time=ipywidgets.FloatSlider(value=df[\"ts\"].max(), min=df[\"ts\"].min(), max=df[\"ts\"].max()+.1, continuous_update=False))"
   ]
  },
  {
   "cell_type": "code",
   "execution_count": 46,
   "id": "a89ffef7",
   "metadata": {},
   "outputs": [],
   "source": [
    "# \n",
    "# Smallest enclosing circle - Library (Python)\n",
    "# \n",
    "# Copyright (c) 2020 Project Nayuki\n",
    "# https://www.nayuki.io/page/smallest-enclosing-circle\n",
    "# \n",
    "# This program is free software: you can redistribute it and/or modify\n",
    "# it under the terms of the GNU Lesser General Public License as published by\n",
    "# the Free Software Foundation, either version 3 of the License, or\n",
    "# (at your option) any later version.\n",
    "# \n",
    "# This program is distributed in the hope that it will be useful,\n",
    "# but WITHOUT ANY WARRANTY; without even the implied warranty of\n",
    "# MERCHANTABILITY or FITNESS FOR A PARTICULAR PURPOSE.  See the\n",
    "# GNU Lesser General Public License for more details.\n",
    "# \n",
    "# You should have received a copy of the GNU Lesser General Public License\n",
    "# along with this program (see COPYING.txt and COPYING.LESSER.txt).\n",
    "# If not, see <http://www.gnu.org/licenses/>.\n",
    "# \n",
    "\n",
    "import math, random\n",
    "\n",
    "\n",
    "# Data conventions: A point is a pair of floats (x, y). A circle is a triple of floats (center x, center y, radius).\n",
    "\n",
    "# Returns the smallest circle that encloses all the given points. Runs in expected O(n) time, randomized.\n",
    "# Input: A sequence of pairs of floats or ints, e.g. [(0,5), (3.1,-2.7)].\n",
    "# Output: A triple of floats representing a circle.\n",
    "# Note: If 0 points are given, None is returned. If 1 point is given, a circle of radius 0 is returned.\n",
    "# \n",
    "# Initially: No boundary points known\n",
    "def make_circle(points):\n",
    "\t# Convert to float and randomize order\n",
    "\tshuffled = [(float(x), float(y)) for (x, y) in points]\n",
    "\trandom.shuffle(shuffled)\n",
    "\t\n",
    "\t# Progressively add points to circle or recompute circle\n",
    "\tc = None\n",
    "\tfor (i, p) in enumerate(shuffled):\n",
    "\t\tif c is None or not is_in_circle(c, p):\n",
    "\t\t\tc = _make_circle_one_point(shuffled[ : i + 1], p)\n",
    "\treturn c\n",
    "\n",
    "\n",
    "# One boundary point known\n",
    "def _make_circle_one_point(points, p):\n",
    "\tc = (p[0], p[1], 0.0)\n",
    "\tfor (i, q) in enumerate(points):\n",
    "\t\tif not is_in_circle(c, q):\n",
    "\t\t\tif c[2] == 0.0:\n",
    "\t\t\t\tc = make_diameter(p, q)\n",
    "\t\t\telse:\n",
    "\t\t\t\tc = _make_circle_two_points(points[ : i + 1], p, q)\n",
    "\treturn c\n",
    "\n",
    "\n",
    "# Two boundary points known\n",
    "def _make_circle_two_points(points, p, q):\n",
    "\tcirc = make_diameter(p, q)\n",
    "\tleft  = None\n",
    "\tright = None\n",
    "\tpx, py = p\n",
    "\tqx, qy = q\n",
    "\t\n",
    "\t# For each point not in the two-point circle\n",
    "\tfor r in points:\n",
    "\t\tif is_in_circle(circ, r):\n",
    "\t\t\tcontinue\n",
    "\t\t\n",
    "\t\t# Form a circumcircle and classify it on left or right side\n",
    "\t\tcross = _cross_product(px, py, qx, qy, r[0], r[1])\n",
    "\t\tc = make_circumcircle(p, q, r)\n",
    "\t\tif c is None:\n",
    "\t\t\tcontinue\n",
    "\t\telif cross > 0.0 and (left is None or _cross_product(px, py, qx, qy, c[0], c[1]) > _cross_product(px, py, qx, qy, left[0], left[1])):\n",
    "\t\t\tleft = c\n",
    "\t\telif cross < 0.0 and (right is None or _cross_product(px, py, qx, qy, c[0], c[1]) < _cross_product(px, py, qx, qy, right[0], right[1])):\n",
    "\t\t\tright = c\n",
    "\t\n",
    "\t# Select which circle to return\n",
    "\tif left is None and right is None:\n",
    "\t\treturn circ\n",
    "\telif left is None:\n",
    "\t\treturn right\n",
    "\telif right is None:\n",
    "\t\treturn left\n",
    "\telse:\n",
    "\t\treturn left if (left[2] <= right[2]) else right\n",
    "\n",
    "\n",
    "def make_diameter(a, b):\n",
    "\tcx = (a[0] + b[0]) / 2\n",
    "\tcy = (a[1] + b[1]) / 2\n",
    "\tr0 = math.hypot(cx - a[0], cy - a[1])\n",
    "\tr1 = math.hypot(cx - b[0], cy - b[1])\n",
    "\treturn (cx, cy, max(r0, r1))\n",
    "\n",
    "\n",
    "def make_circumcircle(a, b, c):\n",
    "\t# Mathematical algorithm from Wikipedia: Circumscribed circle\n",
    "\tox = (min(a[0], b[0], c[0]) + max(a[0], b[0], c[0])) / 2\n",
    "\toy = (min(a[1], b[1], c[1]) + max(a[1], b[1], c[1])) / 2\n",
    "\tax = a[0] - ox;  ay = a[1] - oy\n",
    "\tbx = b[0] - ox;  by = b[1] - oy\n",
    "\tcx = c[0] - ox;  cy = c[1] - oy\n",
    "\td = (ax * (by - cy) + bx * (cy - ay) + cx * (ay - by)) * 2.0\n",
    "\tif d == 0.0:\n",
    "\t\treturn None\n",
    "\tx = ox + ((ax*ax + ay*ay) * (by - cy) + (bx*bx + by*by) * (cy - ay) + (cx*cx + cy*cy) * (ay - by)) / d\n",
    "\ty = oy + ((ax*ax + ay*ay) * (cx - bx) + (bx*bx + by*by) * (ax - cx) + (cx*cx + cy*cy) * (bx - ax)) / d\n",
    "\tra = math.hypot(x - a[0], y - a[1])\n",
    "\trb = math.hypot(x - b[0], y - b[1])\n",
    "\trc = math.hypot(x - c[0], y - c[1])\n",
    "\treturn (x, y, max(ra, rb, rc))\n",
    "\n",
    "\n",
    "_MULTIPLICATIVE_EPSILON = 1 + 1e-14\n",
    "\n",
    "def is_in_circle(c, p):\n",
    "\treturn c is not None and math.hypot(p[0] - c[0], p[1] - c[1]) <= c[2] * _MULTIPLICATIVE_EPSILON\n",
    "\n",
    "\n",
    "# Returns twice the signed area of the triangle defined by (x0, y0), (x1, y1), (x2, y2).\n",
    "def _cross_product(x0, y0, x1, y1, x2, y2):\n",
    "\treturn (x1 - x0) * (y2 - y0) - (y1 - y0) * (x2 - x0)"
   ]
  },
  {
   "cell_type": "code",
   "execution_count": 47,
   "id": "6f0e6e0e",
   "metadata": {},
   "outputs": [
    {
     "data": {
      "text/plain": [
       "(-59830.15625, 52500.46484375, 5948.348017811875)"
      ]
     },
     "execution_count": 47,
     "metadata": {},
     "output_type": "execute_result"
    }
   ],
   "source": [
    "make_circle([(-55239.66796875, 48717.57421875), (-64420.64453125, 56283.35546875), (-64745.4375, 53056.1328125)])"
   ]
  },
  {
   "cell_type": "code",
   "execution_count": 48,
   "id": "2d2731c1",
   "metadata": {},
   "outputs": [
    {
     "data": {
      "application/vnd.jupyter.widget-view+json": {
       "model_id": "ed57ded8bb3d407d89372d2fe104b6c3",
       "version_major": 2,
       "version_minor": 0
      },
      "text/plain": [
       "interactive(children=(FloatSlider(value=15.0, continuous_update=False, description='hist_length', max=16.76666…"
      ]
     },
     "metadata": {},
     "output_type": "display_data"
    },
    {
     "data": {
      "text/plain": [
       "<function __main__.plot_radius_comparison(hist_length, max_time)>"
      ]
     },
     "execution_count": 48,
     "metadata": {},
     "output_type": "execute_result"
    }
   ],
   "source": [
    "def plot_radius_comparison(hist_length, max_time):\n",
    "    sample = df[(df[\"ts\"] >= max_time - hist_length) & (df[\"ts\"] <= max_time)]\n",
    "    foo = sample[\"o.ct_cn\"].apply(lambda x: np.nan if isinstance(x, float) else make_circle(x)[2]+30)\n",
    "    plt.scatter(sample[\"ts\"], sample[\"o.ct_cradius\"], label=\"threat radius\")\n",
    "    plt.scatter(sample[\"ts\"], sample[\"o.scm\"], label=\"threat radius\")\n",
    "    plt.scatter(sample[\"ts\"], foo, label=\"min radius\", marker=\"x\")\n",
    "    plt.legend()\n",
    "    plt.title(\"cradius vs smallest enclosing radius\")\n",
    "    plt.show()\n",
    "\n",
    "ipywidgets.interact(\n",
    "    plot_radius_comparison,\n",
    "    hist_length=ipywidgets.FloatSlider(value=15, min=0, max=df[\"ts\"].max()-df[\"ts\"].min(), continuous_update=False),\n",
    "    max_time=ipywidgets.FloatSlider(value=df[\"ts\"].max(), min=df[\"ts\"].min(), max=df[\"ts\"].max()+.1, continuous_update=False))"
   ]
  },
  {
   "cell_type": "markdown",
   "id": "12a7d799",
   "metadata": {},
   "source": [
    "# History Visualization"
   ]
  },
  {
   "cell_type": "markdown",
   "id": "e7b61368",
   "metadata": {},
   "source": [
    "## Position and Velocity"
   ]
  },
  {
   "cell_type": "code",
   "execution_count": 49,
   "id": "05fc6ec3",
   "metadata": {
    "scrolled": false
   },
   "outputs": [
    {
     "data": {
      "application/vnd.jupyter.widget-view+json": {
       "model_id": "acc9a39794e44f179c9a24e530bb750c",
       "version_major": 2,
       "version_minor": 0
      },
      "text/plain": [
       "interactive(children=(FloatSlider(value=15.0, continuous_update=False, description='hist_length', max=16.76666…"
      ]
     },
     "metadata": {},
     "output_type": "display_data"
    },
    {
     "data": {
      "text/plain": [
       "<function __main__.plot_collision_chart(hist_length=16.799999999999994, max_time=16.799999999999994, sampling_interval=50, show_tloc=True, show_tv=True, show_ctdv=True, show_v=True, show_cn=True, show_all_cts=True, show_projected_v=True)>"
      ]
     },
     "execution_count": 49,
     "metadata": {},
     "output_type": "execute_result"
    }
   ],
   "source": [
    "def plot_collision_chart(hist_length=df[\"ts\"].max(), max_time=df[\"ts\"].max(), sampling_interval=50, show_tloc=True, show_tv=True, show_ctdv=True, show_v=True, show_cn=True, show_all_cts=True, show_projected_v=True):\n",
    "    plt.figure(figsize=(10, 10))\n",
    "    sample = df[(df[\"ts\"] >= max_time - hist_length) & (df[\"ts\"] <= max_time)].iloc[::sampling_interval]\n",
    "    scale = None\n",
    "    if show_v:\n",
    "        q = plt.quiver(sample[\"loc.x\"], sample[\"loc.y\"], sample[\"v.x\"], sample[\"v.y\"], scale=scale, units=\"inches\", label=\"v\")\n",
    "        q._init()\n",
    "        scale = q.scale\n",
    "    ctdv_df = sample[~(sample[\"o.ct_dv\"].isna())]\n",
    "    if show_ctdv:\n",
    "        q = plt.quiver(ctdv_df[\"loc.x\"], ctdv_df[\"loc.y\"], ctdv_df[\"o.ct_dv.x\"], ctdv_df[\"o.ct_dv.y\"], scale=scale, units=\"inches\", label=\"ctdv\", color=\"orange\")\n",
    "        q._init()\n",
    "        scale = q.scale\n",
    "    if show_tv:\n",
    "        q = plt.quiver(sample[\"loc.x\"], sample[\"loc.y\"], sample[\"o.t_v.x\"], sample[\"o.t_v.y\"], scale=scale, units=\"inches\", label=\"tv\", color=\"purple\")\n",
    "        q._init()\n",
    "        scale = q.scale\n",
    "    \n",
    "    \n",
    "    if show_all_cts:\n",
    "        ctv_df = sample\n",
    "    else:\n",
    "        ctv_df = sample[sample[\"o.ct\"] == sample.iloc[-1][\"o.ct\"]]\n",
    "    q = plt.quiver(ctv_df[\"o.ct_loc.x\"], ctv_df[\"o.ct_loc.y\"], ctv_df[\"o.ct_v.x\"], ctv_df[\"o.ct_v.y\"], scale=scale, units=\"inches\", label=\"ctv\", color=\"cyan\")\n",
    "    q._init()\n",
    "    scale = q.scale\n",
    "    \n",
    "    if show_all_cts:\n",
    "        cts = df[\"o.ct\"].unique()\n",
    "    else:\n",
    "        cts = [sample.iloc[-1][\"o.ct\"]]\n",
    "        \n",
    "    cmap = plt.get_cmap('viridis')\n",
    "    for x, c in zip(cts, cmap(np.linspace(0, 1, len(cts)))):\n",
    "        if not isinstance(x, str):\n",
    "            continue\n",
    "        ct = sample[sample[\"o.ct\"] == x]\n",
    "        if len(ct) == 0:\n",
    "            continue\n",
    "        plt.scatter(ct[\"o.ct_loc.x\"], ct[\"o.ct_loc.y\"], color=c, label=x[:8])\n",
    "        \n",
    "        t_next = 10\n",
    "        x, y = ct.iloc[-1][\"o.ct_loc.x\"], ct.iloc[-1][\"o.ct_loc.y\"]\n",
    "        x_next, y_next = ct.iloc[-1][\"o.ct_loc.x\"]+ct.iloc[-1][\"o.ct_v.x\"]*t_next, ct.iloc[-1][\"o.ct_loc.y\"]+ct.iloc[-1][\"o.ct_v.y\"]*t_next\n",
    "        if show_projected_v and not np.allclose((x, y), (x_next, y_next)):\n",
    "            plt.axline((x,y),(x_next,y_next), marker = 'x', color=c, dashes=[2,2])\n",
    "    \n",
    "    cloc_df = sample#[~(sample[\"o.ct_cloc\"].isna())]\n",
    "    if not isinstance(cloc_df.iloc[-1][\"o.ct\"], float):\n",
    "        cloc_x = cloc_df.iloc[-1][\"o.ct_cloc.x\"]\n",
    "        cloc_y = cloc_df.iloc[-1][\"o.ct_cloc.y\"]\n",
    "        cradius = cloc_df.iloc[-1][\"o.ct_cradius\"]\n",
    "        cmargin = cloc_df.iloc[-1].get([\"o.scm\"],500)\n",
    "        threat_radius = plt.Circle((cloc_x, cloc_y), cradius, color=\"red\", fill=False)\n",
    "        margin = plt.Circle((cloc_x, cloc_y), cradius+cmargin, color=\"orange\", fill=False)\n",
    "        margin_hist = plt.Circle((cloc_x, cloc_y), cradius+cmargin*2, color=\"green\", fill=False)\n",
    "        plt.gca().add_patch(threat_radius)\n",
    "        plt.gca().add_patch(margin)\n",
    "        plt.gca().add_patch(margin_hist)\n",
    "        print(f'{cradius=}')\n",
    "        \n",
    "        if show_cn:\n",
    "            cn_x, cn_y = list(zip(*cloc_df.iloc[-1][\"o.ct_cn\"]))\n",
    "            plt.scatter(cn_x, cn_y, label=\"ct_cnloc\", marker=\"+\", color=\"pink\")\n",
    "    \n",
    "    if show_tloc and not all(sample[\"o.t_loc.x\"].isna()):\n",
    "        plt.scatter(sample[\"o.t_loc.x\"], sample[\"o.t_loc.y\"], label=\"t_loc\", marker=\"x\")\n",
    "        for ((tloc_x, tloc_y), ad, md) in sample.groupby([\"o.t_loc.x\", \"o.t_loc.y\"]).agg({\"o.t_loc\": \"min\", \"o.ad\":\"min\", \"o.md\":\"min\"}).values:\n",
    "            arrival_dist = plt.Circle((tloc_x, tloc_y), ad, color=\"green\", fill=False)\n",
    "            nearby_dist = plt.Circle((tloc_x, tloc_y), ad*5, color=\"green\", ls=\"--\", fill=False)\n",
    "            min_dist = plt.Circle((tloc_x, tloc_y), md, color=\"red\", fill=False)\n",
    "            plt.gca().add_patch(arrival_dist)\n",
    "            plt.gca().add_patch(nearby_dist)\n",
    "            plt.gca().add_patch(min_dist)\n",
    "            \n",
    "    t_next = hist_length\n",
    "    x, y = sample.iloc[-1][\"loc.x\"], sample.iloc[-1][\"loc.y\"]\n",
    "    x_next, y_next = sample.iloc[-1][\"loc.x\"]+sample.iloc[-1][\"v.x\"]*t_next, sample.iloc[-1][\"loc.y\"]+sample.iloc[-1][\"v.y\"]*t_next\n",
    "    if show_projected_v and not np.allclose((x, y), (x_next, y_next)):\n",
    "        plt.axline((x,y),(x_next,y_next),marker = 'o')\n",
    "    \n",
    "    plt.axis('equal')\n",
    "    #center = (-72000, -50000)\n",
    "    #radius = 20000\n",
    "    #plt.xlim(center[0]-radius,center[0]+radius)\n",
    "    #plt.ylim(center[1]-radius,center[1]+radius)\n",
    "\n",
    "    plt.legend()\n",
    "    plt.show()\n",
    "    \n",
    "ipywidgets.interact(\n",
    "    plot_collision_chart,\n",
    "    hist_length=ipywidgets.FloatSlider(value=15, min=0, max=df[\"ts\"].max()-df[\"ts\"].min(), continuous_update=False),\n",
    "    max_time=ipywidgets.FloatSlider(step=1/60, value=df[\"ts\"].max()+1/60, min=df[\"ts\"].min(), max=df[\"ts\"].max()+1/60, continuous_update=False),\n",
    "    sampling_interval=ipywidgets.IntSlider(value=2, min=1, max=100, continuous_update=False),\n",
    "    show_tloc=ipywidgets.Checkbox(value=True),\n",
    "    show_tv=ipywidgets.Checkbox(value=True),\n",
    "    show_ctdv=ipywidgets.Checkbox(value=True),\n",
    "    show_v=ipywidgets.Checkbox(value=True),\n",
    "    show_cn=ipywidgets.Checkbox(value=True),\n",
    "    show_all_cts=ipywidgets.Checkbox(value=True),\n",
    "    show_projected_v=ipywidgets.Checkbox(value=True),\n",
    ")"
   ]
  },
  {
   "cell_type": "markdown",
   "id": "6e5e3aad",
   "metadata": {},
   "source": [
    "## Position and Heading"
   ]
  },
  {
   "cell_type": "code",
   "execution_count": 50,
   "id": "2f7475c2",
   "metadata": {
    "scrolled": false
   },
   "outputs": [
    {
     "data": {
      "application/vnd.jupyter.widget-view+json": {
       "model_id": "44d4669d4f544a61b39e7df01bd8b985",
       "version_major": 2,
       "version_minor": 0
      },
      "text/plain": [
       "interactive(children=(FloatSlider(value=15.0, continuous_update=False, description='hist_length', max=16.76666…"
      ]
     },
     "metadata": {},
     "output_type": "display_data"
    },
    {
     "data": {
      "text/plain": [
       "<function __main__.plot_collision_chart(hist_length=16.799999999999994, max_time=16.799999999999994)>"
      ]
     },
     "execution_count": 50,
     "metadata": {},
     "output_type": "execute_result"
    }
   ],
   "source": [
    "def plot_collision_chart(hist_length=df[\"ts\"].max(), max_time=df[\"ts\"].max()):\n",
    "    sample = df[(df[\"ts\"] >= max_time - hist_length) & (df[\"ts\"] <= max_time)]#.iloc[::30]\n",
    "   \n",
    "    plt.figure(figsize=(10, 10))\n",
    "    plt.quiver(sample[\"loc.x\"], sample[\"loc.y\"], sample[\"angle.x\"], sample[\"angle.y\"], label=\"heading\")\n",
    "    plt.quiver(sample[\"loc.x\"], sample[\"loc.y\"], sample[\"_ada.x\"], sample[\"_ada.y\"], label=\"acceleration heading\", color=\"cyan\")\n",
    "    ctdv_df = sample[~(sample[\"o.ct_dv\"].isna())]\n",
    "    #plt.quiver(ctdv_df[\"loc.x\"], ctdv_df[\"loc.y\"], ctdv_df[\"o.ct_dv.x\"], ctdv_df[\"o.ct_dv.y\"], label=\"ctdv\", color=\"orange\")\n",
    "    #plt.quiver(sample[\"loc.x\"], sample[\"loc.y\"], sample[\"o.t_v.x\"], sample[\"o.t_v.y\"], label=\"tv\", color=\"purple\")\n",
    "    cmap = plt.get_cmap('viridis')\n",
    "    #for x, c in zip(df[\"o.ct\"].unique(), cmap(np.linspace(0, 1, len(sample[\"o.ct\"].unique())))):\n",
    "    #    print(x)\n",
    "    #    if not isinstance(x, str):\n",
    "    #        continue\n",
    "    #    ct = sample[sample[\"o.ct\"] == x]\n",
    "    #    plt.scatter(ct[\"o.ct_loc.x\"], ct[\"o.ct_loc.y\"], color=c, label=x[:8])\n",
    "    #plt.scatter(sample[\"o.t_loc.x\"], sample[\"o.t_loc.y\"], label=\"t_loc\")\n",
    "    #plt.axis('square')\n",
    "    #center = (-33555, -5000)\n",
    "    #radius = 15000\n",
    "    #plt.xlim(center[0]-radius,center[0]+radius)\n",
    "    #plt.ylim(center[1]-radius,center[1]+radius)\n",
    "    \n",
    "    print(sample[\"ts\"].min())\n",
    "    print(sample[\"ts\"].max())\n",
    "    print((sample[\"ts\"].max() - sample[\"ts\"].min())/(1/60))\n",
    "    \n",
    "    plt.legend()\n",
    "    plt.axis('equal')\n",
    "    plt.show()\n",
    "    \n",
    "ipywidgets.interact(plot_collision_chart, hist_length=ipywidgets.FloatSlider(value=15, min=0, max=df[\"ts\"].max()-df[\"ts\"].min(), continuous_update=False), max_time=ipywidgets.FloatSlider(value=df[\"ts\"].max(), min=df[\"ts\"].min(), max=df[\"ts\"].max(), continuous_update=False))"
   ]
  },
  {
   "cell_type": "code",
   "execution_count": null,
   "id": "d50f12bf",
   "metadata": {},
   "outputs": [],
   "source": []
  }
 ],
 "metadata": {
  "kernelspec": {
   "display_name": "Python 3 (ipykernel)",
   "language": "python",
   "name": "python3"
  },
  "language_info": {
   "codemirror_mode": {
    "name": "ipython",
    "version": 3
   },
   "file_extension": ".py",
   "mimetype": "text/x-python",
   "name": "python",
   "nbconvert_exporter": "python",
   "pygments_lexer": "ipython3",
   "version": "3.10.7"
  },
  "toc": {
   "base_numbering": 1,
   "nav_menu": {},
   "number_sections": true,
   "sideBar": true,
   "skip_h1_title": false,
   "title_cell": "Table of Contents",
   "title_sidebar": "Contents",
   "toc_cell": false,
   "toc_position": {},
   "toc_section_display": true,
   "toc_window_display": false
  }
 },
 "nbformat": 4,
 "nbformat_minor": 5
}
