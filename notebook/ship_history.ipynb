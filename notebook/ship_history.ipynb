{
 "cells": [
  {
   "cell_type": "code",
   "execution_count": 1,
   "id": "9c5bbe2a",
   "metadata": {},
   "outputs": [],
   "source": [
    "import json\n",
    "\n",
    "import pandas as pd\n",
    "import numpy as np\n",
    "from matplotlib import pyplot as plt\n",
    "import ipywidgets\n",
    "\n",
    "from stellarpunk import util"
   ]
  },
  {
   "cell_type": "markdown",
   "id": "d6d53462",
   "metadata": {},
   "source": [
    "# Loading and Preparing Data"
   ]
  },
  {
   "cell_type": "code",
   "execution_count": 2,
   "id": "ceb18552",
   "metadata": {},
   "outputs": [],
   "source": [
    "df_base = pd.read_json(\"/tmp/stellarpunk.history.gz\", lines=True)\n",
    "df_base = df_base.join(pd.json_normalize(df_base[\"o\"]).add_prefix(\"o.\"))"
   ]
  },
  {
   "cell_type": "code",
   "execution_count": 3,
   "id": "9f0400ae",
   "metadata": {},
   "outputs": [
    {
     "data": {
      "text/plain": [
       "0     4c4f3f9f-d1a7-421e-90cb-57b79767a3f4\n",
       "1     5b4b9d34-249b-4740-b794-7b8796954330\n",
       "2     c7eea0ef-cfed-42af-bd5e-170b0d9cc8f9\n",
       "3     e31e2147-edad-4ca9-b03c-b16b641d0670\n",
       "4     a4da5c17-d684-4e0a-9eb9-5f802c5cebb0\n",
       "5     65cdfaab-8d09-4c08-becb-347cc9d1a1f9\n",
       "6     22afb833-e6ef-4b84-aa80-46864a9faa0d\n",
       "7     043dea04-5427-4978-8625-dc09cb41c769\n",
       "8     8d2d8c40-4fad-4b67-83d2-a48e89bea69f\n",
       "9     35dcb19d-3b8d-49e7-a1d5-6e49265ba200\n",
       "10    39fcc6db-1304-4fe1-ba88-6b679f05931d\n",
       "11    2fba061c-7705-4235-89ff-8d008842d94f\n",
       "12    bb450757-ff60-45ee-bbb2-5a6de4582ed0\n",
       "13    8cfc85f8-be3f-4533-86be-7b2d65e1bfe0\n",
       "14    23981c26-1efc-42e0-a13b-2553b44a6d3a\n",
       "15    9efa58d9-11be-4459-9ff6-4fd5e777930c\n",
       "16    79a10a3d-fb77-4061-8e53-802e0d3212e7\n",
       "17    727c7940-51a3-47a9-a7d8-e2368f762b1d\n",
       "18    cda36eb8-5436-4bb7-b8de-744f368431ed\n",
       "19    923b26ed-7522-4059-9f17-da12fb09cf2b\n",
       "20    026c218e-7f6b-465c-897c-426f5afc1385\n",
       "21    f330961c-1f2f-4732-a1fd-69cc56466c2b\n",
       "22    59eb7f2f-7c30-4b9e-8b54-b60e3f7fc01c\n",
       "23    12acae9d-b06f-4a91-8dbb-3b8453646575\n",
       "24    f80e29c1-8499-4724-b8ac-c7aa22949117\n",
       "25    58984a19-cc8b-4580-a34c-9d95af9ef9d5\n",
       "26    e3f1fa36-aa5c-4e07-9902-8702244d0c28\n",
       "27    22820112-f6c1-4d0f-9daa-0fc29acba436\n",
       "28    81182c38-e981-45f9-be17-e8c6eb890a24\n",
       "29    b8c93d04-16a7-4a73-a4a7-66e708d2fea7\n",
       "30    a0d38d95-d59b-4579-9f6b-dea93640b079\n",
       "31    0b303acf-233d-4820-88d9-ff1141ebb712\n",
       "32    c4012023-042e-4f98-bd1f-491aa3c4651b\n",
       "33    82c1ec61-7fce-4efe-a0cd-1f930937f307\n",
       "34    34cbabe6-3207-4366-8547-02bad8d01cad\n",
       "35    f49361e2-7dbc-4953-92f1-c62242cda096\n",
       "36    9dead437-8656-44fa-9b43-105d705045cf\n",
       "37    b7d09a14-ce6f-4d16-bd57-861291b73999\n",
       "38    9da05d51-4476-4fad-b902-1a2c0bf962da\n",
       "dtype: object"
      ]
     },
     "execution_count": 3,
     "metadata": {},
     "output_type": "execute_result"
    }
   ],
   "source": [
    "eids = pd.Series(df_base[\"eid\"].unique())\n",
    "eids"
   ]
  },
  {
   "cell_type": "code",
   "execution_count": 4,
   "id": "288e3f1e",
   "metadata": {},
   "outputs": [
    {
     "data": {
      "text/plain": [
       "31    0b303acf-233d-4820-88d9-ff1141ebb712\n",
       "dtype: object"
      ]
     },
     "execution_count": 4,
     "metadata": {},
     "output_type": "execute_result"
    }
   ],
   "source": [
    "eids[pd.Series(df_base[\"eid\"].unique()).str.startswith(\"0b30\")]"
   ]
  },
  {
   "cell_type": "code",
   "execution_count": 5,
   "id": "c9be6491",
   "metadata": {},
   "outputs": [
    {
     "data": {
      "text/plain": [
       "array(['a0d38d95-d59b-4579-9f6b-dea93640b079'], dtype=object)"
      ]
     },
     "execution_count": 5,
     "metadata": {},
     "output_type": "execute_result"
    }
   ],
   "source": [
    "target_eid = df_base[\"eid\"].unique()[30]\n",
    "df_base = df_base[df_base[\"eid\"] == target_eid].reset_index()\n",
    "df_base[\"eid\"].unique()"
   ]
  },
  {
   "cell_type": "code",
   "execution_count": 6,
   "id": "b77f957c",
   "metadata": {},
   "outputs": [],
   "source": [
    "loc = pd.DataFrame(np.vstack(df_base[\"loc\"]), columns=[\"loc.x\", \"loc.y\"])\n",
    "v = pd.DataFrame(np.vstack(df_base[\"v\"]), columns=[\"v.x\", \"v.y\"])\n",
    "\n",
    "empty_array = np.empty(len(df_base))\n",
    "empty_array[:] = np.nan\n",
    "\n",
    "if \"o.t_loc\" in df_base:\n",
    "    o_tloc = pd.DataFrame(np.vstack(df_base[\"o.t_loc\"].apply(lambda x: (np.nan, np.nan) if np.all(np.isnan(x)) else x)), columns=[\"o.t_loc.x\", \"o.t_loc.y\"])\n",
    "    o_tv = pd.DataFrame(np.vstack(df_base[\"o.t_v\"].apply(lambda x: (np.nan, np.nan) if np.all(np.isnan(x)) else x)), columns=[\"o.t_v.x\", \"o.t_v.y\"])\n",
    "else:\n",
    "    o_tloc = pd.DataFrame({\"o.t_loc\": empty_array, \"o.t_loc.x\": empty_array, \"o.t_loc.y\": empty_array})\n",
    "    o_tv = pd.DataFrame({\"o.t_v\": empty_array, \"o.t_v.x\": empty_array, \"o.t_v.y\": empty_array})\n",
    "    \n",
    "if \"o.ct\" in df_base:\n",
    "    o_ctloc = pd.DataFrame(np.vstack(df_base[\"o.ct_loc\"].apply(lambda x: (np.nan, np.nan) if np.all(np.isnan(x)) else x)), columns=[\"o.ct_loc.x\", \"o.ct_loc.y\"])\n",
    "    o_ctdv = pd.DataFrame(np.vstack(df_base[\"o.ct_dv\"].apply(lambda x: (np.nan, np.nan) if np.all(np.isnan(x)) else x)), columns=[\"o.ct_dv.x\", \"o.ct_dv.y\"])\n",
    "    o_ctv = pd.DataFrame(np.vstack(df_base[\"o.ct_v\"].apply(lambda x: (np.nan, np.nan) if np.all(np.isnan(x)) else x)), columns=[\"o.ct_v.x\", \"o.ct_v.y\"])\n",
    "    o_ctcloc = pd.DataFrame(np.vstack(df_base[\"o.ct_cloc\"].apply(lambda x: (np.nan, np.nan) if np.all(np.isnan(x)) else x)), columns=[\"o.ct_cloc.x\", \"o.ct_cloc.y\"])\n",
    "else:\n",
    "    o_ctloc = pd.DataFrame({\"o.ct_loc\": empty_array, \"o.ct_loc.x\": empty_array, \"o.ct_loc.y\": empty_array})\n",
    "    o_ctdv = pd.DataFrame({\"o.ct_dv\": empty_array, \"o.ct_dv.x\": empty_array, \"o.ct_dv.y\": empty_array})\n",
    "    o_ctv = pd.DataFrame({\"o.ct_v\": empty_array, \"o.ct_v.x\": empty_array, \"o.ct_v.y\": empty_array})\n",
    "    o_ctcloc = pd.DataFrame({\"o.ct_cloc\": empty_array, \"o.ct_cloc.x\": empty_array, \"o.ct_cloc.y\": empty_array})\n",
    "angle = pd.DataFrame(np.vstack(df_base.apply(lambda row: np.array(util.polar_to_cartesian(100, row[\"a\"])), axis=1)), columns=[\"angle.x\", \"angle.y\"])\n",
    "df = pd.concat([df_base, loc, v, o_ctloc, o_ctcloc, o_ctdv, o_ctv, o_tloc, o_tv, angle], axis=1)\n",
    "\n",
    "if \"o.ct\" not in df_base:\n",
    "    df[\"o.ct\"] = empty_array\n",
    "    df[\"o.ct_ts\"] = empty_array\n",
    "    df[\"o.cac\"] = empty_array\n",
    "    df[\"o.cbdr\"] = empty_array\n",
    "    df[\"o.ct_ct\"] = empty_array\n",
    "    df[\"o.ct_cradius\"] = empty_array\n",
    "    \n",
    "if \"o.t_loc\" not in df_base:\n",
    "    df[\"o.cs\"] = empty_array"
   ]
  },
  {
   "cell_type": "code",
   "execution_count": 7,
   "id": "6e17314e",
   "metadata": {},
   "outputs": [],
   "source": [
    "df[\"speed\"] = np.linalg.norm(df[[\"v.x\", \"v.y\"]], axis=1)\n",
    "df[\"o.ct_dist\"] = np.linalg.norm(np.vstack(df[\"loc\"]) - np.vstack(df[\"o.ct_cloc\"].apply(lambda x: (np.nan, np.nan) if np.all(np.isnan(x)) else x)), axis=1)\n",
    "df[\"o.t_dist\"] = np.linalg.norm(np.vstack(df[\"loc\"]) - np.vstack(df[\"o.t_loc\"].apply(lambda x: (np.nan, np.nan) if np.all(np.isnan(x)) else x)), axis=1)\n",
    "df[\"o.t_speed\"] = np.linalg.norm(df[[\"o.t_v.x\", \"o.t_v.y\"]], axis=1)\n",
    "df[\"f_mag\"] = df[\"f\"].apply(lambda x:np.linalg.norm(x))"
   ]
  },
  {
   "cell_type": "code",
   "execution_count": 8,
   "id": "39640462",
   "metadata": {},
   "outputs": [],
   "source": [
    "#df[\"o.ct_v.x\"] = (df[\"o.ct_loc.x\"].shift(1) - df[\"o.ct_loc.x\"]) / (df[\"ts\"].shift(1) - df[\"ts\"])\n",
    "#df[\"o.ct_v.y\"] = (df[\"o.ct_loc.y\"].shift(1) - df[\"o.ct_loc.y\"]) / (df[\"ts\"].shift(1) - df[\"ts\"])"
   ]
  },
  {
   "cell_type": "code",
   "execution_count": 9,
   "id": "34fd5383",
   "metadata": {},
   "outputs": [
    {
     "data": {
      "text/html": [
       "<div>\n",
       "<style scoped>\n",
       "    .dataframe tbody tr th:only-of-type {\n",
       "        vertical-align: middle;\n",
       "    }\n",
       "\n",
       "    .dataframe tbody tr th {\n",
       "        vertical-align: top;\n",
       "    }\n",
       "\n",
       "    .dataframe thead th {\n",
       "        text-align: right;\n",
       "    }\n",
       "</style>\n",
       "<table border=\"1\" class=\"dataframe\">\n",
       "  <thead>\n",
       "    <tr style=\"text-align: right;\">\n",
       "      <th></th>\n",
       "      <th>index</th>\n",
       "      <th>eid</th>\n",
       "      <th>ts</th>\n",
       "      <th>loc</th>\n",
       "      <th>a</th>\n",
       "      <th>v</th>\n",
       "      <th>av</th>\n",
       "      <th>f</th>\n",
       "      <th>t</th>\n",
       "      <th>o</th>\n",
       "      <th>...</th>\n",
       "      <th>o.t_loc.y</th>\n",
       "      <th>o.t_v.x</th>\n",
       "      <th>o.t_v.y</th>\n",
       "      <th>angle.x</th>\n",
       "      <th>angle.y</th>\n",
       "      <th>speed</th>\n",
       "      <th>o.ct_dist</th>\n",
       "      <th>o.t_dist</th>\n",
       "      <th>o.t_speed</th>\n",
       "      <th>f_mag</th>\n",
       "    </tr>\n",
       "  </thead>\n",
       "  <tbody>\n",
       "    <tr>\n",
       "      <th>0</th>\n",
       "      <td>30</td>\n",
       "      <td>a0d38d95-d59b-4579-9f6b-dea93640b079</td>\n",
       "      <td>2947.207783</td>\n",
       "      <td>[-38076.28113937445, 111891.06094843622]</td>\n",
       "      <td>-16.513672</td>\n",
       "      <td>[-635.0373359460685, 772.4814444079029]</td>\n",
       "      <td>0.0</td>\n",
       "      <td>[0.0, 0.0]</td>\n",
       "      <td>0.0</td>\n",
       "      <td>{'o': 'stellarpunk.orders.GoToLocation', 'nnd'...</td>\n",
       "      <td>...</td>\n",
       "      <td>153003.452993</td>\n",
       "      <td>-635.037336</td>\n",
       "      <td>772.481444</td>\n",
       "      <td>-69.260008</td>\n",
       "      <td>72.132179</td>\n",
       "      <td>1000.000000</td>\n",
       "      <td>NaN</td>\n",
       "      <td>53221.203360</td>\n",
       "      <td>1000.0</td>\n",
       "      <td>0.0</td>\n",
       "    </tr>\n",
       "    <tr>\n",
       "      <th>1</th>\n",
       "      <td>31</td>\n",
       "      <td>a0d38d95-d59b-4579-9f6b-dea93640b079</td>\n",
       "      <td>2947.224450</td>\n",
       "      <td>[-38086.86509497355, 111903.93563917636]</td>\n",
       "      <td>-16.513672</td>\n",
       "      <td>[-635.0373359460687, 772.4814444079029]</td>\n",
       "      <td>0.0</td>\n",
       "      <td>[0.0, 0.0]</td>\n",
       "      <td>0.0</td>\n",
       "      <td>{'o': 'stellarpunk.orders.GoToLocation', 'nnd'...</td>\n",
       "      <td>...</td>\n",
       "      <td>153003.452993</td>\n",
       "      <td>-635.037336</td>\n",
       "      <td>772.481444</td>\n",
       "      <td>-69.260008</td>\n",
       "      <td>72.132179</td>\n",
       "      <td>1000.000000</td>\n",
       "      <td>NaN</td>\n",
       "      <td>53204.536694</td>\n",
       "      <td>1000.0</td>\n",
       "      <td>0.0</td>\n",
       "    </tr>\n",
       "    <tr>\n",
       "      <th>2</th>\n",
       "      <td>32</td>\n",
       "      <td>a0d38d95-d59b-4579-9f6b-dea93640b079</td>\n",
       "      <td>2947.241117</td>\n",
       "      <td>[-38097.44905057266, 111916.8103299165]</td>\n",
       "      <td>-16.513672</td>\n",
       "      <td>[-635.0373359460685, 772.4814444079028]</td>\n",
       "      <td>0.0</td>\n",
       "      <td>[0.0, 0.0]</td>\n",
       "      <td>0.0</td>\n",
       "      <td>{'o': 'stellarpunk.orders.GoToLocation', 'nnd'...</td>\n",
       "      <td>...</td>\n",
       "      <td>153003.452993</td>\n",
       "      <td>-635.037336</td>\n",
       "      <td>772.481444</td>\n",
       "      <td>-69.260008</td>\n",
       "      <td>72.132179</td>\n",
       "      <td>1000.000000</td>\n",
       "      <td>NaN</td>\n",
       "      <td>53187.870027</td>\n",
       "      <td>1000.0</td>\n",
       "      <td>0.0</td>\n",
       "    </tr>\n",
       "    <tr>\n",
       "      <th>3</th>\n",
       "      <td>33</td>\n",
       "      <td>a0d38d95-d59b-4579-9f6b-dea93640b079</td>\n",
       "      <td>2947.257783</td>\n",
       "      <td>[-38108.03300617176, 111929.68502065663]</td>\n",
       "      <td>-16.513672</td>\n",
       "      <td>[-635.0373359460687, 772.4814444079029]</td>\n",
       "      <td>0.0</td>\n",
       "      <td>[0.0, 0.0]</td>\n",
       "      <td>0.0</td>\n",
       "      <td>{'o': 'stellarpunk.orders.GoToLocation', 'nnd'...</td>\n",
       "      <td>...</td>\n",
       "      <td>153003.452993</td>\n",
       "      <td>-635.037336</td>\n",
       "      <td>772.481444</td>\n",
       "      <td>-69.260008</td>\n",
       "      <td>72.132179</td>\n",
       "      <td>1000.000000</td>\n",
       "      <td>NaN</td>\n",
       "      <td>53171.203360</td>\n",
       "      <td>1000.0</td>\n",
       "      <td>0.0</td>\n",
       "    </tr>\n",
       "    <tr>\n",
       "      <th>4</th>\n",
       "      <td>34</td>\n",
       "      <td>a0d38d95-d59b-4579-9f6b-dea93640b079</td>\n",
       "      <td>2947.274450</td>\n",
       "      <td>[-38118.616961770866, 111942.55971139677]</td>\n",
       "      <td>-16.513672</td>\n",
       "      <td>[-635.0373359460687, 772.4814444079029]</td>\n",
       "      <td>0.0</td>\n",
       "      <td>[0.0, 0.0]</td>\n",
       "      <td>0.0</td>\n",
       "      <td>{'o': 'stellarpunk.orders.GoToLocation', 'nnd'...</td>\n",
       "      <td>...</td>\n",
       "      <td>153003.452993</td>\n",
       "      <td>-635.037336</td>\n",
       "      <td>772.481444</td>\n",
       "      <td>-69.260008</td>\n",
       "      <td>72.132179</td>\n",
       "      <td>1000.000000</td>\n",
       "      <td>NaN</td>\n",
       "      <td>53154.536694</td>\n",
       "      <td>1000.0</td>\n",
       "      <td>0.0</td>\n",
       "    </tr>\n",
       "    <tr>\n",
       "      <th>...</th>\n",
       "      <td>...</td>\n",
       "      <td>...</td>\n",
       "      <td>...</td>\n",
       "      <td>...</td>\n",
       "      <td>...</td>\n",
       "      <td>...</td>\n",
       "      <td>...</td>\n",
       "      <td>...</td>\n",
       "      <td>...</td>\n",
       "      <td>...</td>\n",
       "      <td>...</td>\n",
       "      <td>...</td>\n",
       "      <td>...</td>\n",
       "      <td>...</td>\n",
       "      <td>...</td>\n",
       "      <td>...</td>\n",
       "      <td>...</td>\n",
       "      <td>...</td>\n",
       "      <td>...</td>\n",
       "      <td>...</td>\n",
       "      <td>...</td>\n",
       "    </tr>\n",
       "    <tr>\n",
       "      <th>3595</th>\n",
       "      <td>3625</td>\n",
       "      <td>a0d38d95-d59b-4579-9f6b-dea93640b079</td>\n",
       "      <td>3007.124450</td>\n",
       "      <td>[-71578.29399670796, 151453.84519235455]</td>\n",
       "      <td>-13.415556</td>\n",
       "      <td>[330.33195724315664, -375.3409090732113]</td>\n",
       "      <td>0.0</td>\n",
       "      <td>[330331.9572431569, -375340.90907321195]</td>\n",
       "      <td>0.0</td>\n",
       "      <td>{'o': 'stellarpunk.orders.GoToLocation', 'nnd'...</td>\n",
       "      <td>...</td>\n",
       "      <td>-6155.581541</td>\n",
       "      <td>660.663914</td>\n",
       "      <td>-750.681818</td>\n",
       "      <td>66.059510</td>\n",
       "      <td>-75.074237</td>\n",
       "      <td>500.000000</td>\n",
       "      <td>NaN</td>\n",
       "      <td>209955.034109</td>\n",
       "      <td>1000.0</td>\n",
       "      <td>500000.0</td>\n",
       "    </tr>\n",
       "    <tr>\n",
       "      <th>3596</th>\n",
       "      <td>3626</td>\n",
       "      <td>a0d38d95-d59b-4579-9f6b-dea93640b079</td>\n",
       "      <td>3007.141117</td>\n",
       "      <td>[-71572.78846408724, 151447.58951053667]</td>\n",
       "      <td>-13.415556</td>\n",
       "      <td>[333.08472355351626, -378.46874998215475]</td>\n",
       "      <td>0.0</td>\n",
       "      <td>[330331.95724315656, -375340.90907321224]</td>\n",
       "      <td>0.0</td>\n",
       "      <td>{'o': 'stellarpunk.orders.GoToLocation', 'nnd'...</td>\n",
       "      <td>...</td>\n",
       "      <td>-6155.581541</td>\n",
       "      <td>660.663914</td>\n",
       "      <td>-750.681818</td>\n",
       "      <td>66.059510</td>\n",
       "      <td>-75.074237</td>\n",
       "      <td>504.166667</td>\n",
       "      <td>NaN</td>\n",
       "      <td>209946.700775</td>\n",
       "      <td>1000.0</td>\n",
       "      <td>500000.0</td>\n",
       "    </tr>\n",
       "    <tr>\n",
       "      <th>3597</th>\n",
       "      <td>3627</td>\n",
       "      <td>a0d38d95-d59b-4579-9f6b-dea93640b079</td>\n",
       "      <td>3007.157783</td>\n",
       "      <td>[-71567.23705202801, 151441.28169803697]</td>\n",
       "      <td>-13.415556</td>\n",
       "      <td>[335.8374898638759, -381.5965908910982]</td>\n",
       "      <td>0.0</td>\n",
       "      <td>[330331.95724315656, -375340.90907321224]</td>\n",
       "      <td>0.0</td>\n",
       "      <td>{'o': 'stellarpunk.orders.GoToLocation', 'nnd'...</td>\n",
       "      <td>...</td>\n",
       "      <td>-6155.581541</td>\n",
       "      <td>660.663914</td>\n",
       "      <td>-750.681818</td>\n",
       "      <td>66.059510</td>\n",
       "      <td>-75.074237</td>\n",
       "      <td>508.333333</td>\n",
       "      <td>NaN</td>\n",
       "      <td>209938.297998</td>\n",
       "      <td>1000.0</td>\n",
       "      <td>500000.0</td>\n",
       "    </tr>\n",
       "    <tr>\n",
       "      <th>3598</th>\n",
       "      <td>3628</td>\n",
       "      <td>a0d38d95-d59b-4579-9f6b-dea93640b079</td>\n",
       "      <td>3007.174450</td>\n",
       "      <td>[-71561.63976053028, 151434.92175485546]</td>\n",
       "      <td>-13.415556</td>\n",
       "      <td>[338.5902561742355, -384.7244318000416]</td>\n",
       "      <td>0.0</td>\n",
       "      <td>[330331.9572431569, -375340.90907321195]</td>\n",
       "      <td>0.0</td>\n",
       "      <td>{'o': 'stellarpunk.orders.GoToLocation', 'nnd'...</td>\n",
       "      <td>...</td>\n",
       "      <td>-6155.581541</td>\n",
       "      <td>660.663914</td>\n",
       "      <td>-750.681818</td>\n",
       "      <td>66.059510</td>\n",
       "      <td>-75.074237</td>\n",
       "      <td>512.500000</td>\n",
       "      <td>NaN</td>\n",
       "      <td>209929.825775</td>\n",
       "      <td>1000.0</td>\n",
       "      <td>500000.0</td>\n",
       "    </tr>\n",
       "    <tr>\n",
       "      <th>3599</th>\n",
       "      <td>3629</td>\n",
       "      <td>a0d38d95-d59b-4579-9f6b-dea93640b079</td>\n",
       "      <td>3007.191117</td>\n",
       "      <td>[-71555.99658959404, 151428.50968099214]</td>\n",
       "      <td>-13.415556</td>\n",
       "      <td>[341.3430224845951, -387.852272708985]</td>\n",
       "      <td>0.0</td>\n",
       "      <td>[330331.95724315656, -375340.90907321224]</td>\n",
       "      <td>0.0</td>\n",
       "      <td>{'o': 'stellarpunk.orders.GoToLocation', 'nnd'...</td>\n",
       "      <td>...</td>\n",
       "      <td>-6155.581541</td>\n",
       "      <td>660.663914</td>\n",
       "      <td>-750.681818</td>\n",
       "      <td>66.059510</td>\n",
       "      <td>-75.074237</td>\n",
       "      <td>516.666667</td>\n",
       "      <td>NaN</td>\n",
       "      <td>209921.284109</td>\n",
       "      <td>1000.0</td>\n",
       "      <td>500000.0</td>\n",
       "    </tr>\n",
       "  </tbody>\n",
       "</table>\n",
       "<p>3600 rows × 49 columns</p>\n",
       "</div>"
      ],
      "text/plain": [
       "      index                                   eid           ts  \\\n",
       "0        30  a0d38d95-d59b-4579-9f6b-dea93640b079  2947.207783   \n",
       "1        31  a0d38d95-d59b-4579-9f6b-dea93640b079  2947.224450   \n",
       "2        32  a0d38d95-d59b-4579-9f6b-dea93640b079  2947.241117   \n",
       "3        33  a0d38d95-d59b-4579-9f6b-dea93640b079  2947.257783   \n",
       "4        34  a0d38d95-d59b-4579-9f6b-dea93640b079  2947.274450   \n",
       "...     ...                                   ...          ...   \n",
       "3595   3625  a0d38d95-d59b-4579-9f6b-dea93640b079  3007.124450   \n",
       "3596   3626  a0d38d95-d59b-4579-9f6b-dea93640b079  3007.141117   \n",
       "3597   3627  a0d38d95-d59b-4579-9f6b-dea93640b079  3007.157783   \n",
       "3598   3628  a0d38d95-d59b-4579-9f6b-dea93640b079  3007.174450   \n",
       "3599   3629  a0d38d95-d59b-4579-9f6b-dea93640b079  3007.191117   \n",
       "\n",
       "                                            loc          a  \\\n",
       "0      [-38076.28113937445, 111891.06094843622] -16.513672   \n",
       "1      [-38086.86509497355, 111903.93563917636] -16.513672   \n",
       "2       [-38097.44905057266, 111916.8103299165] -16.513672   \n",
       "3      [-38108.03300617176, 111929.68502065663] -16.513672   \n",
       "4     [-38118.616961770866, 111942.55971139677] -16.513672   \n",
       "...                                         ...        ...   \n",
       "3595   [-71578.29399670796, 151453.84519235455] -13.415556   \n",
       "3596   [-71572.78846408724, 151447.58951053667] -13.415556   \n",
       "3597   [-71567.23705202801, 151441.28169803697] -13.415556   \n",
       "3598   [-71561.63976053028, 151434.92175485546] -13.415556   \n",
       "3599   [-71555.99658959404, 151428.50968099214] -13.415556   \n",
       "\n",
       "                                              v   av  \\\n",
       "0       [-635.0373359460685, 772.4814444079029]  0.0   \n",
       "1       [-635.0373359460687, 772.4814444079029]  0.0   \n",
       "2       [-635.0373359460685, 772.4814444079028]  0.0   \n",
       "3       [-635.0373359460687, 772.4814444079029]  0.0   \n",
       "4       [-635.0373359460687, 772.4814444079029]  0.0   \n",
       "...                                         ...  ...   \n",
       "3595   [330.33195724315664, -375.3409090732113]  0.0   \n",
       "3596  [333.08472355351626, -378.46874998215475]  0.0   \n",
       "3597    [335.8374898638759, -381.5965908910982]  0.0   \n",
       "3598    [338.5902561742355, -384.7244318000416]  0.0   \n",
       "3599     [341.3430224845951, -387.852272708985]  0.0   \n",
       "\n",
       "                                              f    t  \\\n",
       "0                                    [0.0, 0.0]  0.0   \n",
       "1                                    [0.0, 0.0]  0.0   \n",
       "2                                    [0.0, 0.0]  0.0   \n",
       "3                                    [0.0, 0.0]  0.0   \n",
       "4                                    [0.0, 0.0]  0.0   \n",
       "...                                         ...  ...   \n",
       "3595   [330331.9572431569, -375340.90907321195]  0.0   \n",
       "3596  [330331.95724315656, -375340.90907321224]  0.0   \n",
       "3597  [330331.95724315656, -375340.90907321224]  0.0   \n",
       "3598   [330331.9572431569, -375340.90907321195]  0.0   \n",
       "3599  [330331.95724315656, -375340.90907321224]  0.0   \n",
       "\n",
       "                                                      o  ...      o.t_loc.y  \\\n",
       "0     {'o': 'stellarpunk.orders.GoToLocation', 'nnd'...  ...  153003.452993   \n",
       "1     {'o': 'stellarpunk.orders.GoToLocation', 'nnd'...  ...  153003.452993   \n",
       "2     {'o': 'stellarpunk.orders.GoToLocation', 'nnd'...  ...  153003.452993   \n",
       "3     {'o': 'stellarpunk.orders.GoToLocation', 'nnd'...  ...  153003.452993   \n",
       "4     {'o': 'stellarpunk.orders.GoToLocation', 'nnd'...  ...  153003.452993   \n",
       "...                                                 ...  ...            ...   \n",
       "3595  {'o': 'stellarpunk.orders.GoToLocation', 'nnd'...  ...   -6155.581541   \n",
       "3596  {'o': 'stellarpunk.orders.GoToLocation', 'nnd'...  ...   -6155.581541   \n",
       "3597  {'o': 'stellarpunk.orders.GoToLocation', 'nnd'...  ...   -6155.581541   \n",
       "3598  {'o': 'stellarpunk.orders.GoToLocation', 'nnd'...  ...   -6155.581541   \n",
       "3599  {'o': 'stellarpunk.orders.GoToLocation', 'nnd'...  ...   -6155.581541   \n",
       "\n",
       "         o.t_v.x     o.t_v.y    angle.x    angle.y        speed o.ct_dist  \\\n",
       "0    -635.037336  772.481444 -69.260008  72.132179  1000.000000       NaN   \n",
       "1    -635.037336  772.481444 -69.260008  72.132179  1000.000000       NaN   \n",
       "2    -635.037336  772.481444 -69.260008  72.132179  1000.000000       NaN   \n",
       "3    -635.037336  772.481444 -69.260008  72.132179  1000.000000       NaN   \n",
       "4    -635.037336  772.481444 -69.260008  72.132179  1000.000000       NaN   \n",
       "...          ...         ...        ...        ...          ...       ...   \n",
       "3595  660.663914 -750.681818  66.059510 -75.074237   500.000000       NaN   \n",
       "3596  660.663914 -750.681818  66.059510 -75.074237   504.166667       NaN   \n",
       "3597  660.663914 -750.681818  66.059510 -75.074237   508.333333       NaN   \n",
       "3598  660.663914 -750.681818  66.059510 -75.074237   512.500000       NaN   \n",
       "3599  660.663914 -750.681818  66.059510 -75.074237   516.666667       NaN   \n",
       "\n",
       "           o.t_dist  o.t_speed     f_mag  \n",
       "0      53221.203360     1000.0       0.0  \n",
       "1      53204.536694     1000.0       0.0  \n",
       "2      53187.870027     1000.0       0.0  \n",
       "3      53171.203360     1000.0       0.0  \n",
       "4      53154.536694     1000.0       0.0  \n",
       "...             ...        ...       ...  \n",
       "3595  209955.034109     1000.0  500000.0  \n",
       "3596  209946.700775     1000.0  500000.0  \n",
       "3597  209938.297998     1000.0  500000.0  \n",
       "3598  209929.825775     1000.0  500000.0  \n",
       "3599  209921.284109     1000.0  500000.0  \n",
       "\n",
       "[3600 rows x 49 columns]"
      ]
     },
     "execution_count": 9,
     "metadata": {},
     "output_type": "execute_result"
    }
   ],
   "source": [
    "df"
   ]
  },
  {
   "cell_type": "code",
   "execution_count": 10,
   "id": "bc0666d8",
   "metadata": {},
   "outputs": [
    {
     "data": {
      "text/plain": [
       "{'o': 'stellarpunk.orders.GoToLocation',\n",
       " 'nnd': inf,\n",
       " 't_loc': [67131.42070368413, -6155.581541393755],\n",
       " 't_v': [660.6639144863138, -750.6818181464239],\n",
       " 'cs': False}"
      ]
     },
     "execution_count": 10,
     "metadata": {},
     "output_type": "execute_result"
    }
   ],
   "source": [
    "df.iloc[-1][\"o\"]"
   ]
  },
  {
   "cell_type": "markdown",
   "id": "a6d3cf5e",
   "metadata": {},
   "source": [
    "# Basic Ship Vitals"
   ]
  },
  {
   "cell_type": "markdown",
   "id": "36730903",
   "metadata": {},
   "source": [
    "## Position and Heading"
   ]
  },
  {
   "cell_type": "code",
   "execution_count": 11,
   "id": "665329e8",
   "metadata": {},
   "outputs": [
    {
     "data": {
      "application/vnd.jupyter.widget-view+json": {
       "model_id": "696a0d9822384125aade2318b8a00328",
       "version_major": 2,
       "version_minor": 0
      },
      "text/plain": [
       "interactive(children=(FloatSlider(value=3007.191116677348, continuous_update=False, description='max_time', ma…"
      ]
     },
     "metadata": {},
     "output_type": "display_data"
    },
    {
     "data": {
      "text/plain": [
       "<function __main__.plot_location_chart(max_time)>"
      ]
     },
     "execution_count": 11,
     "metadata": {},
     "output_type": "execute_result"
    }
   ],
   "source": [
    "def plot_location_chart(max_time):\n",
    "    sample = df[df[\"ts\"] <= max_time].iloc[::50]\n",
    "    plt.quiver(sample[\"loc.x\"], sample[\"loc.y\"], sample[\"angle.x\"], sample[\"angle.y\"])#, scale=100)\n",
    "    plt.scatter(sample[\"o.t_loc.x\"], sample[\"o.t_loc.y\"])\n",
    "    #center = (0,2500)\n",
    "    #radius = 10000\n",
    "    #plt.xlim(center[0]-radius,center[0]+radius)\n",
    "    #plt.ylim(center[1]-radius,center[1]+radius)\n",
    "\n",
    "ipywidgets.interact(plot_location_chart, max_time=ipywidgets.FloatSlider(value=df[\"ts\"].max(), min=df[\"ts\"].min(), max=df[\"ts\"].max(), continuous_update=False))"
   ]
  },
  {
   "cell_type": "code",
   "execution_count": 12,
   "id": "05f3c4c6",
   "metadata": {},
   "outputs": [
    {
     "data": {
      "text/html": [
       "<div>\n",
       "<style scoped>\n",
       "    .dataframe tbody tr th:only-of-type {\n",
       "        vertical-align: middle;\n",
       "    }\n",
       "\n",
       "    .dataframe tbody tr th {\n",
       "        vertical-align: top;\n",
       "    }\n",
       "\n",
       "    .dataframe thead th {\n",
       "        text-align: right;\n",
       "    }\n",
       "</style>\n",
       "<table border=\"1\" class=\"dataframe\">\n",
       "  <thead>\n",
       "    <tr style=\"text-align: right;\">\n",
       "      <th></th>\n",
       "      <th>loc.x</th>\n",
       "      <th>loc.y</th>\n",
       "    </tr>\n",
       "  </thead>\n",
       "  <tbody>\n",
       "    <tr>\n",
       "      <th>count</th>\n",
       "      <td>3600.000000</td>\n",
       "      <td>3600.000000</td>\n",
       "    </tr>\n",
       "    <tr>\n",
       "      <th>mean</th>\n",
       "      <td>-56716.864667</td>\n",
       "      <td>134372.125926</td>\n",
       "    </tr>\n",
       "    <tr>\n",
       "      <th>std</th>\n",
       "      <td>10439.208233</td>\n",
       "      <td>12442.023431</td>\n",
       "    </tr>\n",
       "    <tr>\n",
       "      <th>min</th>\n",
       "      <td>-71905.873188</td>\n",
       "      <td>111891.060948</td>\n",
       "    </tr>\n",
       "    <tr>\n",
       "      <th>25%</th>\n",
       "      <td>-66259.532065</td>\n",
       "      <td>123475.063942</td>\n",
       "    </tr>\n",
       "    <tr>\n",
       "      <th>50%</th>\n",
       "      <td>-57122.100837</td>\n",
       "      <td>135059.056714</td>\n",
       "    </tr>\n",
       "    <tr>\n",
       "      <th>75%</th>\n",
       "      <td>-47599.195190</td>\n",
       "      <td>146142.855506</td>\n",
       "    </tr>\n",
       "    <tr>\n",
       "      <th>max</th>\n",
       "      <td>-38076.281139</td>\n",
       "      <td>151826.058261</td>\n",
       "    </tr>\n",
       "  </tbody>\n",
       "</table>\n",
       "</div>"
      ],
      "text/plain": [
       "              loc.x          loc.y\n",
       "count   3600.000000    3600.000000\n",
       "mean  -56716.864667  134372.125926\n",
       "std    10439.208233   12442.023431\n",
       "min   -71905.873188  111891.060948\n",
       "25%   -66259.532065  123475.063942\n",
       "50%   -57122.100837  135059.056714\n",
       "75%   -47599.195190  146142.855506\n",
       "max   -38076.281139  151826.058261"
      ]
     },
     "execution_count": 12,
     "metadata": {},
     "output_type": "execute_result"
    }
   ],
   "source": [
    "df[[\"loc.x\", \"loc.y\"]].describe()"
   ]
  },
  {
   "cell_type": "code",
   "execution_count": 13,
   "id": "e0f37c4c",
   "metadata": {},
   "outputs": [
    {
     "data": {
      "text/plain": [
       "Text(0.5, 1.0, 'position')"
      ]
     },
     "execution_count": 13,
     "metadata": {},
     "output_type": "execute_result"
    },
    {
     "data": {
      "image/png": "[encoded data removed]",
      "text/plain": [
       "<Figure size 432x288 with 1 Axes>"
      ]
     },
     "metadata": {
      "needs_background": "light"
     },
     "output_type": "display_data"
    }
   ],
   "source": [
    "plt.scatter(df[\"ts\"], df[\"loc.x\"])\n",
    "plt.scatter(df[\"ts\"], df[\"loc.y\"])\n",
    "plt.title(\"position\")"
   ]
  },
  {
   "cell_type": "code",
   "execution_count": 14,
   "id": "b65fd521",
   "metadata": {},
   "outputs": [
    {
     "data": {
      "text/plain": [
       "Text(0.5, 1.0, 'heading and angular velocity')"
      ]
     },
     "execution_count": 14,
     "metadata": {},
     "output_type": "execute_result"
    },
    {
     "data": {
      "image/png": "[encoded data removed]",
      "text/plain": [
       "<Figure size 432x288 with 1 Axes>"
      ]
     },
     "metadata": {
      "needs_background": "light"
     },
     "output_type": "display_data"
    }
   ],
   "source": [
    "plt.scatter(df[\"ts\"], df[\"a\"], label=\"theta\")\n",
    "plt.scatter(df[\"ts\"], df[\"av\"], label=\"omega\")\n",
    "plt.hlines(np.pi, df[\"ts\"].min(), df[\"ts\"].max(), color=\"red\")\n",
    "plt.hlines(0, df[\"ts\"].min(), df[\"ts\"].max(), color=\"red\")\n",
    "plt.legend()\n",
    "plt.title(\"heading and angular velocity\")"
   ]
  },
  {
   "cell_type": "code",
   "execution_count": 15,
   "id": "e1a4515d",
   "metadata": {},
   "outputs": [
    {
     "data": {
      "text/plain": [
       "<matplotlib.collections.PathCollection at 0x7fcf9c04ff70>"
      ]
     },
     "execution_count": 15,
     "metadata": {},
     "output_type": "execute_result"
    },
    {
     "data": {
      "image/png": "[encoded data removed]",
      "text/plain": [
       "<Figure size 432x288 with 1 Axes>"
      ]
     },
     "metadata": {
      "needs_background": "light"
     },
     "output_type": "display_data"
    }
   ],
   "source": [
    "plt.scatter(df[\"ts\"], df[\"t\"])"
   ]
  },
  {
   "cell_type": "markdown",
   "id": "4ce26323",
   "metadata": {},
   "source": [
    "## Velocity and Acceleration"
   ]
  },
  {
   "cell_type": "code",
   "execution_count": 16,
   "id": "32a0a440",
   "metadata": {
    "scrolled": true
   },
   "outputs": [
    {
     "data": {
      "text/plain": [
       "Text(0.5, 1.0, 'velocity')"
      ]
     },
     "execution_count": 16,
     "metadata": {},
     "output_type": "execute_result"
    },
    {
     "data": {
      "image/png": "[encoded data removed]",
      "text/plain": [
       "<Figure size 432x288 with 1 Axes>"
      ]
     },
     "metadata": {
      "needs_background": "light"
     },
     "output_type": "display_data"
    }
   ],
   "source": [
    "plt.scatter(df[\"ts\"], df[\"v.x\"])\n",
    "plt.scatter(df[\"ts\"], df[\"v.y\"])\n",
    "plt.title(\"velocity\")"
   ]
  },
  {
   "cell_type": "code",
   "execution_count": 17,
   "id": "7e3172c1",
   "metadata": {
    "scrolled": true
   },
   "outputs": [
    {
     "data": {
      "text/plain": [
       "Text(0.5, 1.0, 'acceleration')"
      ]
     },
     "execution_count": 17,
     "metadata": {},
     "output_type": "execute_result"
    },
    {
     "data": {
      "image/png": "[encoded data removed]",
      "text/plain": [
       "<Figure size 432x288 with 1 Axes>"
      ]
     },
     "metadata": {
      "needs_background": "light"
     },
     "output_type": "display_data"
    }
   ],
   "source": [
    "#plt.scatter(df[\"ts\"], (df[\"v.x\"] - df[\"v.x\"].shift(-1)))#/(df[\"ts\"]-df[\"ts\"].shift(-1)))\n",
    "plt.scatter(df[\"ts\"], (df[\"v.x\"].shift(1) - df[\"v.x\"]) / (df[\"ts\"].shift(1) - df[\"ts\"]))\n",
    "plt.scatter(df[\"ts\"], (df[\"v.y\"].shift(1) - df[\"v.y\"]) / (df[\"ts\"].shift(1) - df[\"ts\"]))\n",
    "plt.yscale(\"symlog\")\n",
    "plt.title(\"acceleration\")"
   ]
  },
  {
   "cell_type": "code",
   "execution_count": 18,
   "id": "7754010f",
   "metadata": {},
   "outputs": [
    {
     "data": {
      "text/plain": [
       "Text(0.5, 1.0, 'force')"
      ]
     },
     "execution_count": 18,
     "metadata": {},
     "output_type": "execute_result"
    },
    {
     "data": {
      "image/png": "[encoded data removed]",
      "text/plain": [
       "<Figure size 432x288 with 1 Axes>"
      ]
     },
     "metadata": {
      "needs_background": "light"
     },
     "output_type": "display_data"
    }
   ],
   "source": [
    "plt.scatter(df[\"ts\"], df[\"f_mag\"])\n",
    "plt.yscale(\"log\")\n",
    "plt.title(\"force\")"
   ]
  },
  {
   "cell_type": "markdown",
   "id": "4630e3f8",
   "metadata": {},
   "source": [
    "# Behavior Monitoring"
   ]
  },
  {
   "cell_type": "code",
   "execution_count": 19,
   "id": "c58d74eb",
   "metadata": {},
   "outputs": [
    {
     "data": {
      "text/plain": [
       "[2990.257783343799, 3003.741116677304, None, 2990.7577833438054]"
      ]
     },
     "execution_count": 19,
     "metadata": {},
     "output_type": "execute_result"
    }
   ],
   "source": [
    "[next((df.iloc[idx][\"ts\"] if idx is not None else None for idx, v in zip(df.index, (~df[c].isna() & df[c] == True)) if v), None) for c in [\"o.ct\", \"o.cs\", \"o.cac\", \"o.cbdr\"]]"
   ]
  },
  {
   "cell_type": "code",
   "execution_count": 20,
   "id": "9e6db2b0",
   "metadata": {},
   "outputs": [
    {
     "data": {
      "application/vnd.jupyter.widget-view+json": {
       "model_id": "96ca505f4ef14c898a1be11270b97acc",
       "version_major": 2,
       "version_minor": 0
      },
      "text/plain": [
       "interactive(children=(FloatSlider(value=5.0, continuous_update=False, description='hist_length', max=59.983333…"
      ]
     },
     "metadata": {},
     "output_type": "display_data"
    },
    {
     "data": {
      "text/plain": [
       "<function __main__.plot_collision_info(hist_length, max_time)>"
      ]
     },
     "execution_count": 20,
     "metadata": {},
     "output_type": "execute_result"
    }
   ],
   "source": [
    "def plot_collision_info(hist_length, max_time):\n",
    "    sample = df[(df[\"ts\"] >= max_time - hist_length) & (df[\"ts\"] <= max_time)]\n",
    "    plt.scatter(sample[\"ts\"], (~(sample[\"o.ct\"].isna())).astype(int), label=\"ct\")\n",
    "    plt.scatter(sample[\"ts\"], sample[\"o.cs\"].fillna(0).astype(int)+0.05, label=\"cs\")\n",
    "    plt.scatter(sample[\"ts\"], sample[\"o.cac\"].fillna(0).astype(int)+0.1, label=\"cac\")\n",
    "    plt.scatter(sample[\"ts\"], sample[\"o.cbdr\"].fillna(0).astype(int)+0.15, label=\"cbdr\")\n",
    "    plt.legend()\n",
    "    plt.title(\"status flags\")\n",
    "    \n",
    "    flag_cols = [\"o.ct\", \"o.cs\", \"o.cac\", \"o.cbdr\"]\n",
    "    first_ts = [next((df.iloc[idx][\"ts\"] if idx is not None else None for idx, v in zip(df.index, (~df[c].isna() & df[c] == True)) if v), None) for c in flag_cols]\n",
    "    for c, ts in zip(flag_cols, first_ts):\n",
    "        print(f'first {c}: {ts}')\n",
    "\n",
    "ipywidgets.interact(plot_collision_info, hist_length=ipywidgets.FloatSlider(value=5, min=0, max=df[\"ts\"].max()-df[\"ts\"].min(), continuous_update=False), max_time=ipywidgets.FloatSlider(value=df[\"ts\"].max(), min=df[\"ts\"].min(), max=df[\"ts\"].max()+.1, continuous_update=False))"
   ]
  },
  {
   "cell_type": "markdown",
   "id": "94ba2b3d",
   "metadata": {},
   "source": [
    "### Target Location"
   ]
  },
  {
   "cell_type": "code",
   "execution_count": 21,
   "id": "2640e1e5",
   "metadata": {},
   "outputs": [
    {
     "data": {
      "text/html": [
       "<div>\n",
       "<style scoped>\n",
       "    .dataframe tbody tr th:only-of-type {\n",
       "        vertical-align: middle;\n",
       "    }\n",
       "\n",
       "    .dataframe tbody tr th {\n",
       "        vertical-align: top;\n",
       "    }\n",
       "\n",
       "    .dataframe thead tr th {\n",
       "        text-align: left;\n",
       "    }\n",
       "\n",
       "    .dataframe thead tr:last-of-type th {\n",
       "        text-align: right;\n",
       "    }\n",
       "</style>\n",
       "<table border=\"1\" class=\"dataframe\">\n",
       "  <thead>\n",
       "    <tr>\n",
       "      <th></th>\n",
       "      <th></th>\n",
       "      <th colspan=\"3\" halign=\"left\">ts</th>\n",
       "      <th colspan=\"2\" halign=\"left\">o.t_dist</th>\n",
       "    </tr>\n",
       "    <tr>\n",
       "      <th></th>\n",
       "      <th></th>\n",
       "      <th>count</th>\n",
       "      <th>min</th>\n",
       "      <th>max</th>\n",
       "      <th>min</th>\n",
       "      <th>max</th>\n",
       "    </tr>\n",
       "    <tr>\n",
       "      <th>o.t_loc.x</th>\n",
       "      <th>o.t_loc.y</th>\n",
       "      <th></th>\n",
       "      <th></th>\n",
       "      <th></th>\n",
       "      <th></th>\n",
       "      <th></th>\n",
       "    </tr>\n",
       "  </thead>\n",
       "  <tbody>\n",
       "    <tr>\n",
       "      <th>-71873.732337</th>\n",
       "      <th>153003.452993</th>\n",
       "      <td>3474</td>\n",
       "      <td>2947.207783</td>\n",
       "      <td>3005.091117</td>\n",
       "      <td>1177.854600</td>\n",
       "      <td>53221.203360</td>\n",
       "    </tr>\n",
       "    <tr>\n",
       "      <th>67131.420704</th>\n",
       "      <th>-6155.581541</th>\n",
       "      <td>125</td>\n",
       "      <td>3005.124450</td>\n",
       "      <td>3007.191117</td>\n",
       "      <td>209921.284109</td>\n",
       "      <td>210450.867442</td>\n",
       "    </tr>\n",
       "  </tbody>\n",
       "</table>\n",
       "</div>"
      ],
      "text/plain": [
       "                                ts                                 o.t_dist  \\\n",
       "                             count          min          max            min   \n",
       "o.t_loc.x     o.t_loc.y                                                       \n",
       "-71873.732337  153003.452993  3474  2947.207783  3005.091117    1177.854600   \n",
       " 67131.420704 -6155.581541     125  3005.124450  3007.191117  209921.284109   \n",
       "\n",
       "                                             \n",
       "                                        max  \n",
       "o.t_loc.x     o.t_loc.y                      \n",
       "-71873.732337  153003.452993   53221.203360  \n",
       " 67131.420704 -6155.581541    210450.867442  "
      ]
     },
     "execution_count": 21,
     "metadata": {},
     "output_type": "execute_result"
    }
   ],
   "source": [
    "if np.any(~df[\"o.t_loc\"].isna()):\n",
    "    x = df.groupby([\"o.t_loc.x\", \"o.t_loc.y\"]).agg({\"ts\": [\"count\", \"min\", \"max\"], \"o.t_dist\": [\"min\",\"max\"]})\n",
    "else:\n",
    "    x = \"no location target\"\n",
    "x"
   ]
  },
  {
   "cell_type": "code",
   "execution_count": 22,
   "id": "74d23fb4",
   "metadata": {},
   "outputs": [
    {
     "data": {
      "application/vnd.jupyter.widget-view+json": {
       "model_id": "75c1f563268046d482a8c4c596dd3dd5",
       "version_major": 2,
       "version_minor": 0
      },
      "text/plain": [
       "interactive(children=(FloatSlider(value=5.0, continuous_update=False, description='hist_length', max=59.983333…"
      ]
     },
     "metadata": {},
     "output_type": "display_data"
    },
    {
     "data": {
      "text/plain": [
       "<function __main__.plot_target_distance(hist_length, max_time)>"
      ]
     },
     "execution_count": 22,
     "metadata": {},
     "output_type": "execute_result"
    }
   ],
   "source": [
    "#sample = df[(df[\"ts\"] < 124.4) & (df[\"ts\"] > 120)]\n",
    "def plot_target_distance(hist_length, max_time):\n",
    "    sample = df[(df[\"ts\"] >= max_time - hist_length) & (df[\"ts\"] <= max_time)]\n",
    "    plt.scatter(sample[\"ts\"], sample[\"o.t_dist\"])\n",
    "    plt.hlines(1500, sample[\"ts\"].min(), sample[\"ts\"].max(), color=\"green\")\n",
    "    plt.hlines(1500*0.9, sample[\"ts\"].min(), sample[\"ts\"].max(), color=\"red\")\n",
    "    #plt.ylim(0,1500)\n",
    "    plt.title(\"distance to target\")\n",
    "    print(sample[\"o.t_dist\"].min(),sample[df[\"ts\"] > sample[\"ts\"].max()-1][\"o.t_dist\"].min())\n",
    "\n",
    "ipywidgets.interact(\n",
    "    plot_target_distance,\n",
    "    hist_length=ipywidgets.FloatSlider(value=5, min=0, max=df[\"ts\"].max()-df[\"ts\"].min(), continuous_update=False),\n",
    "    max_time=ipywidgets.FloatSlider(value=df[\"ts\"].max(), min=df[\"ts\"].min(), max=df[\"ts\"].max()+.1, continuous_update=False))"
   ]
  },
  {
   "cell_type": "code",
   "execution_count": 23,
   "id": "4d0bf8d0",
   "metadata": {},
   "outputs": [
    {
     "data": {
      "application/vnd.jupyter.widget-view+json": {
       "model_id": "12b94036294847dfad83193c3ea96dc5",
       "version_major": 2,
       "version_minor": 0
      },
      "text/plain": [
       "interactive(children=(FloatSlider(value=5.0, continuous_update=False, description='hist_length', max=59.983333…"
      ]
     },
     "metadata": {},
     "output_type": "display_data"
    },
    {
     "data": {
      "text/plain": [
       "<function __main__.plot_desired_speed(hist_length, max_time)>"
      ]
     },
     "execution_count": 23,
     "metadata": {},
     "output_type": "execute_result"
    }
   ],
   "source": [
    "def plot_desired_speed(hist_length, max_time):\n",
    "    sample = df[(df[\"ts\"] >= max_time - hist_length) & (df[\"ts\"] <= max_time)]\n",
    "    plt.scatter(sample[\"ts\"], sample[\"speed\"], label=\"actual speed\")\n",
    "    plt.scatter(sample[\"ts\"], sample[\"o.t_speed\"], label=\"desired speed\")\n",
    "    plt.legend()\n",
    "    plt.title(\"speed and desired speed to target\")\n",
    "    plt.ylim(0)\n",
    "\n",
    "ipywidgets.interact(\n",
    "    plot_desired_speed,\n",
    "    hist_length=ipywidgets.FloatSlider(value=5, min=0, max=df[\"ts\"].max()-df[\"ts\"].min(), continuous_update=False),\n",
    "    max_time=ipywidgets.FloatSlider(value=df[\"ts\"].max(), min=df[\"ts\"].min(), max=df[\"ts\"].max()+.1, continuous_update=False))"
   ]
  },
  {
   "cell_type": "code",
   "execution_count": 24,
   "id": "d7341dc2",
   "metadata": {
    "scrolled": true
   },
   "outputs": [
    {
     "data": {
      "text/plain": [
       "Text(0.5, 1.0, 'desired speed delta')"
      ]
     },
     "execution_count": 24,
     "metadata": {},
     "output_type": "execute_result"
    },
    {
     "data": {
      "image/png": "[encoded data removed]",
      "text/plain": [
       "<Figure size 432x288 with 1 Axes>"
      ]
     },
     "metadata": {
      "needs_background": "light"
     },
     "output_type": "display_data"
    }
   ],
   "source": [
    "plt.scatter(df[\"ts\"], df[\"o.t_speed\"] - df[\"speed\"])\n",
    "plt.scatter(df[\"ts\"], np.linalg.norm(np.array((df[\"o.t_v.x\"] - df[\"v.x\"], df[\"o.t_v.y\"] - df[\"v.y\"])), axis=0))\n",
    "plt.title(\"desired speed delta\")"
   ]
  },
  {
   "cell_type": "markdown",
   "id": "5ac378ec",
   "metadata": {},
   "source": [
    "## Collision Avoidance"
   ]
  },
  {
   "cell_type": "code",
   "execution_count": 25,
   "id": "f38ca4d8",
   "metadata": {},
   "outputs": [
    {
     "data": {
      "text/html": [
       "<div>\n",
       "<style scoped>\n",
       "    .dataframe tbody tr th:only-of-type {\n",
       "        vertical-align: middle;\n",
       "    }\n",
       "\n",
       "    .dataframe tbody tr th {\n",
       "        vertical-align: top;\n",
       "    }\n",
       "\n",
       "    .dataframe thead tr th {\n",
       "        text-align: left;\n",
       "    }\n",
       "\n",
       "    .dataframe thead tr:last-of-type th {\n",
       "        text-align: right;\n",
       "    }\n",
       "</style>\n",
       "<table border=\"1\" class=\"dataframe\">\n",
       "  <thead>\n",
       "    <tr>\n",
       "      <th></th>\n",
       "      <th colspan=\"3\" halign=\"left\">ts</th>\n",
       "      <th colspan=\"2\" halign=\"left\">o.ct_dist</th>\n",
       "    </tr>\n",
       "    <tr>\n",
       "      <th></th>\n",
       "      <th>count</th>\n",
       "      <th>min</th>\n",
       "      <th>max</th>\n",
       "      <th>min</th>\n",
       "      <th>max</th>\n",
       "    </tr>\n",
       "    <tr>\n",
       "      <th>o.ct</th>\n",
       "      <th></th>\n",
       "      <th></th>\n",
       "      <th></th>\n",
       "      <th></th>\n",
       "      <th></th>\n",
       "    </tr>\n",
       "  </thead>\n",
       "  <tbody>\n",
       "    <tr>\n",
       "      <th>0b303acf-233d-4820-88d9-ff1141ebb712</th>\n",
       "      <td>406</td>\n",
       "      <td>2990.257783</td>\n",
       "      <td>3001.191117</td>\n",
       "      <td>1473.306235</td>\n",
       "      <td>10018.216435</td>\n",
       "    </tr>\n",
       "  </tbody>\n",
       "</table>\n",
       "</div>"
      ],
      "text/plain": [
       "                                        ts                            \\\n",
       "                                     count          min          max   \n",
       "o.ct                                                                   \n",
       "0b303acf-233d-4820-88d9-ff1141ebb712   406  2990.257783  3001.191117   \n",
       "\n",
       "                                        o.ct_dist                \n",
       "                                              min           max  \n",
       "o.ct                                                             \n",
       "0b303acf-233d-4820-88d9-ff1141ebb712  1473.306235  10018.216435  "
      ]
     },
     "execution_count": 25,
     "metadata": {},
     "output_type": "execute_result"
    }
   ],
   "source": [
    "if np.any(~df[\"o.ct\"].isna()):\n",
    "    x = df.groupby(\"o.ct\").agg({\"ts\": [\"count\", \"min\", \"max\"], \"o.ct_dist\": [\"min\",\"max\"]})\n",
    "else:\n",
    "    x = \"no collision threats\"\n",
    "x"
   ]
  },
  {
   "cell_type": "code",
   "execution_count": 26,
   "id": "890424d5",
   "metadata": {},
   "outputs": [
    {
     "data": {
      "application/vnd.jupyter.widget-view+json": {
       "model_id": "d4cf4ffd42ce4b7c9dba1d75bfe12d3f",
       "version_major": 2,
       "version_minor": 0
      },
      "text/plain": [
       "interactive(children=(FloatSlider(value=5.0, continuous_update=False, description='hist_length', max=59.983333…"
      ]
     },
     "metadata": {},
     "output_type": "display_data"
    },
    {
     "data": {
      "text/plain": [
       "<function __main__.plot_collision_distance(hist_length, max_time)>"
      ]
     },
     "execution_count": 26,
     "metadata": {},
     "output_type": "execute_result"
    }
   ],
   "source": [
    "def plot_collision_distance(hist_length, max_time):\n",
    "    sample = df[(df[\"ts\"] >= max_time-hist_length) & (df[\"ts\"] <= max_time)]\n",
    "    plt.scatter(sample[\"ts\"], sample[\"o.ct_dist\"])\n",
    "    plt.hlines(60+500+500, sample[\"ts\"].min(), sample[\"ts\"].max(), color=\"green\")\n",
    "    plt.hlines(60+500, sample[\"ts\"].min(), sample[\"ts\"].max(), color=\"orange\")\n",
    "    plt.hlines(330, sample[\"ts\"].min(), sample[\"ts\"].max(), color=\"red\")\n",
    "    plt.hlines(60, sample[\"ts\"].min(), sample[\"ts\"].max(), color=\"red\")\n",
    "    plt.ylim(0)\n",
    "    plt.title(\"distance to collision threat\")\n",
    "    print(sample[\"o.ct_dist\"].min())\n",
    "\n",
    "ipywidgets.interact(\n",
    "    plot_collision_distance,\n",
    "    hist_length=ipywidgets.FloatSlider(value=5, min=0, max=df[\"ts\"].max()-df[\"ts\"].min(), continuous_update=False),\n",
    "    max_time=ipywidgets.FloatSlider(value=df[\"ts\"].max(), min=df[\"ts\"].min(), max=df[\"ts\"].max()+.1, continuous_update=False)\n",
    ")"
   ]
  },
  {
   "cell_type": "code",
   "execution_count": 27,
   "id": "8bcb0762",
   "metadata": {},
   "outputs": [
    {
     "data": {
      "text/plain": [
       "(2947.207783343251, 3007.191116677348)"
      ]
     },
     "execution_count": 27,
     "metadata": {},
     "output_type": "execute_result"
    },
    {
     "data": {
      "image/png": "[encoded data removed]",
      "text/plain": [
       "<Figure size 432x288 with 1 Axes>"
      ]
     },
     "metadata": {
      "needs_background": "light"
     },
     "output_type": "display_data"
    }
   ],
   "source": [
    "plt.scatter(df[\"ts\"], df[\"o.ct_ct\"])\n",
    "plt.title(\"number of coalesced threats\")\n",
    "plt.xlim(df[\"ts\"].min(), df[\"ts\"].max())"
   ]
  },
  {
   "cell_type": "code",
   "execution_count": 28,
   "id": "a3ce3d2d",
   "metadata": {},
   "outputs": [
    {
     "data": {
      "text/plain": [
       "<matplotlib.collections.PathCollection at 0x7fcf9ebbaf20>"
      ]
     },
     "execution_count": 28,
     "metadata": {},
     "output_type": "execute_result"
    },
    {
     "data": {
      "image/png": "[encoded data removed]",
      "text/plain": [
       "<Figure size 432x288 with 2 Axes>"
      ]
     },
     "metadata": {
      "needs_background": "light"
     },
     "output_type": "display_data"
    }
   ],
   "source": [
    "fig, ax1 = plt.subplots()\n",
    "ax2 = ax1.twinx()\n",
    "\n",
    "ax1.scatter(df[\"ts\"], 1-df[\"o.ct\"].isna().astype(int))\n",
    "ax2.scatter(df[\"ts\"], df[\"ts\"] - df[\"o.ct_ts\"], color=\"orange\")\n",
    "\n",
    "#ax2.set_ylim(0,(df[\"ts\"] - df[\"o.ct_ts\"]).max()*1.2)"
   ]
  },
  {
   "cell_type": "code",
   "execution_count": 29,
   "id": "8f890c2c",
   "metadata": {},
   "outputs": [
    {
     "data": {
      "application/vnd.jupyter.widget-view+json": {
       "model_id": "774a54f00a5240db9daa9055d048abf5",
       "version_major": 2,
       "version_minor": 0
      },
      "text/plain": [
       "interactive(children=(FloatSlider(value=5.0, continuous_update=False, description='hist_length', max=59.983333…"
      ]
     },
     "metadata": {},
     "output_type": "display_data"
    },
    {
     "data": {
      "text/plain": [
       "<function __main__.plot_collision_dv(hist_length, max_time)>"
      ]
     },
     "execution_count": 29,
     "metadata": {},
     "output_type": "execute_result"
    }
   ],
   "source": [
    "def plot_collision_dv(hist_length, max_time):\n",
    "    sample = df[(df[\"ts\"] >= max_time - hist_length) & (df[\"ts\"] <= max_time)]\n",
    "    plt.scatter(sample[\"ts\"], sample[\"o.ct_dv.x\"])\n",
    "    plt.scatter(sample[\"ts\"], sample[\"o.ct_dv.y\"])\n",
    "    plt.title(\"collision avoidance velocity\")\n",
    "\n",
    "ipywidgets.interact(\n",
    "    plot_collision_dv,\n",
    "    hist_length=ipywidgets.FloatSlider(value=5, min=0, max=df[\"ts\"].max()-df[\"ts\"].min(), continuous_update=False),\n",
    "    max_time=ipywidgets.FloatSlider(value=df[\"ts\"].max(), min=df[\"ts\"].min(), max=df[\"ts\"].max()+.1, continuous_update=False))"
   ]
  },
  {
   "cell_type": "markdown",
   "id": "12a7d799",
   "metadata": {},
   "source": [
    "# History Visualization"
   ]
  },
  {
   "cell_type": "markdown",
   "id": "e7b61368",
   "metadata": {},
   "source": [
    "## Position and Velocity"
   ]
  },
  {
   "cell_type": "code",
   "execution_count": 30,
   "id": "05fc6ec3",
   "metadata": {},
   "outputs": [
    {
     "data": {
      "application/vnd.jupyter.widget-view+json": {
       "model_id": "3dccf940114d4df48bef5c7bf6f87a1e",
       "version_major": 2,
       "version_minor": 0
      },
      "text/plain": [
       "interactive(children=(FloatSlider(value=5.0, continuous_update=False, description='hist_length', max=59.983333…"
      ]
     },
     "metadata": {},
     "output_type": "display_data"
    },
    {
     "data": {
      "text/plain": [
       "<function __main__.plot_collision_chart(hist_length=3007.191116677348, max_time=3007.191116677348, sampling_interval=50, show_tloc=True)>"
      ]
     },
     "execution_count": 30,
     "metadata": {},
     "output_type": "execute_result"
    }
   ],
   "source": [
    "def plot_collision_chart(hist_length=df[\"ts\"].max(), max_time=df[\"ts\"].max(), sampling_interval=50, show_tloc=True):\n",
    "    plt.figure(figsize=(10, 10))\n",
    "    sample = df[(df[\"ts\"] >= max_time - hist_length) & (df[\"ts\"] <= max_time)].iloc[::sampling_interval]\n",
    "    plt.quiver(sample[\"loc.x\"], sample[\"loc.y\"], sample[\"v.x\"], sample[\"v.y\"], label=\"v\")\n",
    "    ctdv_df = sample[~(sample[\"o.ct_dv\"].isna())]\n",
    "    plt.quiver(ctdv_df[\"loc.x\"], ctdv_df[\"loc.y\"], ctdv_df[\"o.ct_dv.x\"], ctdv_df[\"o.ct_dv.y\"], label=\"ctdv\", color=\"orange\")\n",
    "    plt.quiver(sample[\"loc.x\"], sample[\"loc.y\"], sample[\"o.t_v.x\"], sample[\"o.t_v.y\"], label=\"tv\", color=\"purple\")\n",
    "    \n",
    "    plt.quiver(sample[\"o.ct_loc.x\"], sample[\"o.ct_loc.y\"], sample[\"o.ct_v.x\"], sample[\"o.ct_v.y\"])\n",
    "    cmap = plt.get_cmap('viridis')\n",
    "    for x, c in zip(df[\"o.ct\"].unique(), cmap(np.linspace(0, 1, len(df[\"o.ct\"].unique())))):\n",
    "        if not isinstance(x, str):\n",
    "            continue\n",
    "        ct = sample[sample[\"o.ct\"] == x]\n",
    "        if len(ct) == 0:\n",
    "            continue\n",
    "        plt.scatter(ct[\"o.ct_loc.x\"], ct[\"o.ct_loc.y\"], color=c, label=x[:8])\n",
    "        \n",
    "        t_next = 10\n",
    "        x, y = ct.iloc[-1][\"o.ct_loc.x\"], ct.iloc[-1][\"o.ct_loc.y\"]\n",
    "        x_next, y_next = ct.iloc[-1][\"o.ct_loc.x\"]+ct.iloc[-1][\"o.ct_v.x\"]*t_next, ct.iloc[-1][\"o.ct_loc.y\"]+ct.iloc[-1][\"o.ct_v.y\"]*t_next\n",
    "        if x_next != x or y_next != y:\n",
    "            plt.axline((x,y),(x_next,y_next), marker = 'x', color=c, dashes=[2,2])\n",
    "           \n",
    "    cloc_df = sample[~(sample[\"o.ct_cloc\"].isna())]\n",
    "    if len(cloc_df) > 0:\n",
    "        cloc_x = cloc_df.iloc[-1][\"o.ct_cloc.x\"]\n",
    "        cloc_y = cloc_df.iloc[-1][\"o.ct_cloc.y\"]\n",
    "        cradius = cloc_df.iloc[-1][\"o.ct_cradius\"]\n",
    "        threat_radius = plt.Circle((cloc_x, cloc_y), cradius, color=\"red\", fill=False)\n",
    "        margin = plt.Circle((cloc_x, cloc_y), cradius+30+500, color=\"orange\", fill=False)\n",
    "        margin = plt.Circle((cloc_x, cloc_y), cradius+30+500*2, color=\"green\", fill=False)\n",
    "        plt.gca().add_patch(threat_radius)\n",
    "        plt.gca().add_patch(margin)\n",
    "    \n",
    "    if show_tloc:\n",
    "        plt.scatter(sample[\"o.t_loc.x\"], sample[\"o.t_loc.y\"], label=\"t_loc\")\n",
    "        for (tloc_x, tloc_y) in sample.groupby([\"o.t_loc.x\", \"o.t_loc.y\"])[\"o.t_loc\"].min():\n",
    "            arrival_dist = plt.Circle((tloc_x, tloc_y), 1500, color=\"green\", fill=False)\n",
    "            min_dist = plt.Circle((tloc_x, tloc_y), 1500*0.9, color=\"red\", fill=False)\n",
    "            plt.gca().add_patch(arrival_dist)\n",
    "            plt.gca().add_patch(min_dist)\n",
    "            \n",
    "    t_next = 10\n",
    "    x, y = sample.iloc[-1][\"loc.x\"], sample.iloc[-1][\"loc.y\"]\n",
    "    x_next, y_next = sample.iloc[-1][\"loc.x\"]+sample.iloc[-1][\"v.x\"]*t_next, sample.iloc[-1][\"loc.y\"]+sample.iloc[-1][\"v.y\"]*t_next\n",
    "    if x_next != x or y_next != y:\n",
    "        plt.axline((x,y),(x_next,y_next),marker = 'o')\n",
    "    \n",
    "    plt.axis('equal')\n",
    "    #center = (-33555, -5000)\n",
    "    #radius = 15000\n",
    "    #plt.xlim(center[0]-radius,center[0]+radius)\n",
    "    #plt.ylim(center[1]-radius,center[1]+radius)\n",
    "\n",
    "    plt.legend()\n",
    "    plt.show()\n",
    "    \n",
    "ipywidgets.interact(\n",
    "    plot_collision_chart,\n",
    "    hist_length=ipywidgets.FloatSlider(value=5, min=0, max=df[\"ts\"].max()-df[\"ts\"].min(), continuous_update=False),\n",
    "    max_time=ipywidgets.FloatSlider(step=1/60, value=df[\"ts\"].max()+1/60, min=df[\"ts\"].min(), max=df[\"ts\"].max()+1/60, continuous_update=False),\n",
    "    sampling_interval=ipywidgets.IntSlider(value=20, min=1, max=100, continuous_update=False),\n",
    "    show_tloc=ipywidgets.Checkbox(value=True),\n",
    ")"
   ]
  },
  {
   "cell_type": "markdown",
   "id": "6e5e3aad",
   "metadata": {},
   "source": [
    "## Position and Heading"
   ]
  },
  {
   "cell_type": "code",
   "execution_count": 31,
   "id": "2f7475c2",
   "metadata": {
    "scrolled": false
   },
   "outputs": [
    {
     "data": {
      "application/vnd.jupyter.widget-view+json": {
       "model_id": "979dbcb6944d4e85a7735676f6dad367",
       "version_major": 2,
       "version_minor": 0
      },
      "text/plain": [
       "interactive(children=(FloatSlider(value=5.0, continuous_update=False, description='hist_length', max=59.983333…"
      ]
     },
     "metadata": {},
     "output_type": "display_data"
    },
    {
     "data": {
      "text/plain": [
       "<function __main__.plot_collision_chart(hist_length=3007.191116677348, max_time=3007.191116677348)>"
      ]
     },
     "execution_count": 31,
     "metadata": {},
     "output_type": "execute_result"
    }
   ],
   "source": [
    "def plot_collision_chart(hist_length=df[\"ts\"].max(), max_time=df[\"ts\"].max()):\n",
    "    sample = df[(df[\"ts\"] >= max_time - hist_length) & (df[\"ts\"] <= max_time)].iloc[::10]\n",
    "    plt.quiver(sample[\"loc.x\"], sample[\"loc.y\"], sample[\"angle.x\"], sample[\"angle.y\"], label=\"ship\")\n",
    "    ctdv_df = sample[~(sample[\"o.ct_dv\"].isna())]\n",
    "    plt.quiver(ctdv_df[\"loc.x\"], ctdv_df[\"loc.y\"], ctdv_df[\"o.ct_dv.x\"], ctdv_df[\"o.ct_dv.y\"], label=\"ctdv\", color=\"orange\")\n",
    "    plt.quiver(sample[\"loc.x\"], sample[\"loc.y\"], sample[\"o.t_v.x\"], sample[\"o.t_v.y\"], label=\"tv\", color=\"purple\")\n",
    "    cmap = plt.get_cmap('viridis')\n",
    "    #for x, c in zip(df[\"o.ct\"].unique(), cmap(np.linspace(0, 1, len(sample[\"o.ct\"].unique())))):\n",
    "    #    print(x)\n",
    "    #    if not isinstance(x, str):\n",
    "    #        continue\n",
    "    #    ct = sample[sample[\"o.ct\"] == x]\n",
    "    #    plt.scatter(ct[\"o.ct_loc.x\"], ct[\"o.ct_loc.y\"], color=c, label=x[:8])\n",
    "    #plt.scatter(sample[\"o.t_loc.x\"], sample[\"o.t_loc.y\"], label=\"t_loc\")\n",
    "    #plt.axis('square')\n",
    "    #center = (-33555, -5000)\n",
    "    #radius = 15000\n",
    "    #plt.xlim(center[0]-radius,center[0]+radius)\n",
    "    #plt.ylim(center[1]-radius,center[1]+radius)\n",
    "    \n",
    "    plt.legend()\n",
    "    plt.axis('equal')\n",
    "    plt.show()\n",
    "    \n",
    "ipywidgets.interact(plot_collision_chart, hist_length=ipywidgets.FloatSlider(value=5, min=0, max=df[\"ts\"].max()-df[\"ts\"].min(), continuous_update=False), max_time=ipywidgets.FloatSlider(value=df[\"ts\"].max(), min=df[\"ts\"].min(), max=df[\"ts\"].max(), continuous_update=False))"
   ]
  },
  {
   "cell_type": "markdown",
   "id": "6e24f370",
   "metadata": {},
   "source": [
    "# "
   ]
  }
 ],
 "metadata": {
  "kernelspec": {
   "display_name": "Python 3 (ipykernel)",
   "language": "python",
   "name": "python3"
  },
  "language_info": {
   "codemirror_mode": {
    "name": "ipython",
    "version": 3
   },
   "file_extension": ".py",
   "mimetype": "text/x-python",
   "name": "python",
   "nbconvert_exporter": "python",
   "pygments_lexer": "ipython3",
   "version": "3.10.1"
  }
 },
 "nbformat": 4,
 "nbformat_minor": 5
}
