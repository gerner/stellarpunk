{
 "cells": [
  {
   "cell_type": "code",
   "execution_count": 1,
   "id": "9c5bbe2a",
   "metadata": {},
   "outputs": [],
   "source": [
    "import json\n",
    "\n",
    "import pandas as pd\n",
    "import numpy as np\n",
    "from matplotlib import pyplot as plt\n",
    "import ipywidgets\n",
    "\n",
    "from stellarpunk import util"
   ]
  },
  {
   "cell_type": "markdown",
   "id": "d6d53462",
   "metadata": {},
   "source": [
    "# Loading and Preparing Data"
   ]
  },
  {
   "cell_type": "code",
   "execution_count": 2,
   "id": "ceb18552",
   "metadata": {},
   "outputs": [],
   "source": [
    "df_base = pd.read_json(\"/tmp/stellarpunk_test.test_more_asteroid_nav.history.gz\", lines=True)\n",
    "df_base = df_base.join(pd.json_normalize(df_base[\"o\"]).add_prefix(\"o.\"))"
   ]
  },
  {
   "cell_type": "code",
   "execution_count": 3,
   "id": "6ce486c9",
   "metadata": {},
   "outputs": [],
   "source": [
    "e_types = df_base.groupby(\"eid\")[\"p\"].min()"
   ]
  },
  {
   "cell_type": "code",
   "execution_count": 4,
   "id": "1585e6a6",
   "metadata": {},
   "outputs": [
    {
     "data": {
      "text/plain": [
       "0      ecc1d481-ad5d-4acd-9997-d3a0af0a276b\n",
       "1      19811cb2-52ca-4e61-b882-6a03bca841d2\n",
       "2      b7158603-81f7-4af3-aac7-be17249d6060\n",
       "3      31a6ba2b-c59a-4a2b-95f5-6b7c65587201\n",
       "4      78b2087b-f1a8-478e-a69d-660c397d1f96\n",
       "                       ...                 \n",
       "180    df5c7be5-479b-405d-bc46-ee61f1ca2715\n",
       "181    f32dd832-497a-41d5-ad34-82db56d9c76a\n",
       "182    c07f22e9-579e-4df1-9542-836511a1ca8e\n",
       "183    28ce5698-a1bf-43df-89f6-0f0b07ee957e\n",
       "184    63435016-c740-4700-b6a0-30392840fc0b\n",
       "Length: 185, dtype: object"
      ]
     },
     "execution_count": 4,
     "metadata": {},
     "output_type": "execute_result"
    }
   ],
   "source": [
    "eids = pd.Series(df_base[\"eid\"].unique())\n",
    "eids"
   ]
  },
  {
   "cell_type": "code",
   "execution_count": 5,
   "id": "288e3f1e",
   "metadata": {},
   "outputs": [
    {
     "data": {
      "text/plain": [
       "183    28ce5698-a1bf-43df-89f6-0f0b07ee957e\n",
       "dtype: object"
      ]
     },
     "execution_count": 5,
     "metadata": {},
     "output_type": "execute_result"
    }
   ],
   "source": [
    "targets = eids[pd.Series(df_base[\"eid\"].unique()).str.startswith(\"28ce\")]\n",
    "targets"
   ]
  },
  {
   "cell_type": "code",
   "execution_count": 6,
   "id": "caf3fedb",
   "metadata": {},
   "outputs": [],
   "source": [
    "target_index = targets.index[0]"
   ]
  },
  {
   "cell_type": "code",
   "execution_count": 7,
   "id": "c9be6491",
   "metadata": {},
   "outputs": [
    {
     "data": {
      "text/plain": [
       "array(['28ce5698-a1bf-43df-89f6-0f0b07ee957e'], dtype=object)"
      ]
     },
     "execution_count": 7,
     "metadata": {},
     "output_type": "execute_result"
    }
   ],
   "source": [
    "target_eid = df_base[\"eid\"].unique()[target_index]\n",
    "df_base = df_base[df_base[\"eid\"] == target_eid].reset_index()\n",
    "df_base[\"eid\"].unique()"
   ]
  },
  {
   "cell_type": "code",
   "execution_count": 8,
   "id": "66bf96db",
   "metadata": {},
   "outputs": [
    {
     "data": {
      "text/plain": [
       "'SHP'"
      ]
     },
     "execution_count": 8,
     "metadata": {},
     "output_type": "execute_result"
    }
   ],
   "source": [
    "e_types.loc[target_eid]"
   ]
  },
  {
   "cell_type": "code",
   "execution_count": 9,
   "id": "b77f957c",
   "metadata": {},
   "outputs": [],
   "source": [
    "loc = pd.DataFrame(np.vstack(df_base[\"loc\"]), columns=[\"loc.x\", \"loc.y\"])\n",
    "v = pd.DataFrame(np.vstack(df_base[\"v\"]), columns=[\"v.x\", \"v.y\"])\n",
    "\n",
    "empty_array = np.empty(len(df_base))\n",
    "empty_array[:] = np.nan\n",
    "\n",
    "if \"o.t_loc\" in df_base:\n",
    "    o_tloc = pd.DataFrame(np.vstack(df_base[\"o.t_loc\"].apply(lambda x: (np.nan, np.nan) if np.all(np.isnan(x)) else x)), columns=[\"o.t_loc.x\", \"o.t_loc.y\"])\n",
    "    o_tv = pd.DataFrame(np.vstack(df_base[\"o.t_v\"].apply(lambda x: (np.nan, np.nan) if np.all(np.isnan(x)) else x)), columns=[\"o.t_v.x\", \"o.t_v.y\"])\n",
    "    o_dv = pd.DataFrame(np.vstack(df_base[\"o._dv\"].apply(lambda x: (np.nan, np.nan) if np.all(np.isnan(x)) else x)), columns=[\"o._dv.x\", \"o._dv.y\"])\n",
    "else:\n",
    "    o_tloc = pd.DataFrame({\"o.t_loc\": empty_array, \"o.t_loc.x\": empty_array, \"o.t_loc.y\": empty_array})\n",
    "    o_tv = pd.DataFrame({\"o.t_v\": empty_array, \"o.t_v.x\": empty_array, \"o.t_v.y\": empty_array})\n",
    "    o_dv = pd.DataFrame({\"o._dv\": empty_array, \"o._dv.x\": empty_array, \"o._dv.y\": empty_array})\n",
    "    \n",
    "if \"o.ct\" in df_base:\n",
    "    o_ctloc = pd.DataFrame(np.vstack(df_base[\"o.ct_loc\"].apply(lambda x: (np.nan, np.nan) if np.all(np.isnan(x)) else x)), columns=[\"o.ct_loc.x\", \"o.ct_loc.y\"])\n",
    "    o_ctdv = pd.DataFrame(np.vstack(df_base[\"o.ct_dv\"].apply(lambda x: (np.nan, np.nan) if np.all(np.isnan(x)) else x)), columns=[\"o.ct_dv.x\", \"o.ct_dv.y\"])\n",
    "    o_ctv = pd.DataFrame(np.vstack(df_base[\"o.ct_v\"].apply(lambda x: (np.nan, np.nan) if np.all(np.isnan(x)) else x)), columns=[\"o.ct_v.x\", \"o.ct_v.y\"])\n",
    "    o_ctcloc = pd.DataFrame(np.vstack(df_base[\"o.ct_cloc\"].apply(lambda x: (np.nan, np.nan) if np.all(np.isnan(x)) else x)), columns=[\"o.ct_cloc.x\", \"o.ct_cloc.y\"])\n",
    "else:\n",
    "    o_ctloc = pd.DataFrame({\"o.ct_loc\": empty_array, \"o.ct_loc.x\": empty_array, \"o.ct_loc.y\": empty_array})\n",
    "    o_ctdv = pd.DataFrame({\"o.ct_dv\": empty_array, \"o.ct_dv.x\": empty_array, \"o.ct_dv.y\": empty_array})\n",
    "    o_ctv = pd.DataFrame({\"o.ct_v\": empty_array, \"o.ct_v.x\": empty_array, \"o.ct_v.y\": empty_array})\n",
    "    o_ctcloc = pd.DataFrame({\"o.ct_cloc\": empty_array, \"o.ct_cloc.x\": empty_array, \"o.ct_cloc.y\": empty_array})\n",
    "angle = pd.DataFrame(np.vstack(df_base.apply(lambda row: np.array(util.polar_to_cartesian(100, row[\"a\"])), axis=1)), columns=[\"angle.x\", \"angle.y\"])\n",
    "desired_angle = pd.DataFrame(np.vstack(df_base.apply(lambda row: np.array(util.polar_to_cartesian(100, row[\"o._ada\"])), axis=1)), columns=[\"_ada.x\", \"_ada.y\"])\n",
    "df = pd.concat([df_base, loc, v, o_ctloc, o_ctcloc, o_ctdv, o_ctv, o_tloc, o_tv, o_dv, angle, desired_angle], axis=1)\n",
    "\n",
    "if \"o.ct\" not in df_base:\n",
    "    df[\"o.ct\"] = empty_array\n",
    "    df[\"o.ct_ts\"] = empty_array\n",
    "    df[\"o.cac\"] = empty_array\n",
    "    df[\"o.cbdr\"] = empty_array\n",
    "    df[\"o.cbdr_hist\"] = empty_array\n",
    "    df[\"o.ct_ct\"] = empty_array\n",
    "    df[\"o.ct_cradius\"] = empty_array\n",
    "    df[\"o.nd\"] = empty_array\n",
    "    df[\"o.ct_dist\"] = empty_array\n",
    "    df[\"o.ct_cn\"] = empty_array\n",
    "    df[\"o.ct_ms\"] = empty_array\n",
    "    df[\"o.ct_mh\"] = empty_array\n",
    "    \n",
    "else:\n",
    "    df[\"o.ct_dist\"] = np.linalg.norm(np.vstack(df[\"loc\"]) - np.vstack(df[\"o.ct_cloc\"].apply(lambda x: (np.nan, np.nan) if np.all(np.isnan(x)) else x)), axis=1)\n",
    "    \n",
    "if \"o.t_loc\" not in df_base:\n",
    "    df[\"o.cs\"] = empty_array\n",
    "    df[\"o.t_dist\"] = empty_array\n",
    "    df[\"o.msc\"] = empty_array\n",
    "    df[\"o.max_speed_cap\"] = empty_array\n",
    "else:\n",
    "    df[\"o.t_dist\"] = np.linalg.norm(np.vstack(df[\"loc\"]) - np.vstack(df[\"o.t_loc\"].apply(lambda x: (np.nan, np.nan) if np.all(np.isnan(x)) else x)), axis=1)\n",
    "    df[\"o.max_speed_cap\"] = (df[\"o.msc\"]*(1+df[\"o.msc_a\"])**(df[\"ts\"] - df[\"o.msc_ts\"])).clip(upper=3000)\n",
    "    df[\"o._ada\"] = df.apply(lambda x: util.cartesian_to_polar(*(np.array(x[\"o._dv\"]) - np.array(x[\"v\"])))[1], axis=1)\n",
    "    \n"
   ]
  },
  {
   "cell_type": "code",
   "execution_count": 10,
   "id": "6e17314e",
   "metadata": {},
   "outputs": [],
   "source": [
    "df[\"speed\"] = np.linalg.norm(df[[\"v.x\", \"v.y\"]], axis=1)\n",
    "df[\"o.t_speed\"] = np.linalg.norm(df[[\"o.t_v.x\", \"o.t_v.y\"]], axis=1)\n",
    "df[\"o._dv_speed\"] = np.linalg.norm(df[[\"o._dv.x\", \"o._dv.y\"]], axis=1)\n",
    "df[\"f_mag\"] = df[\"f\"].apply(lambda x:np.linalg.norm(x))"
   ]
  },
  {
   "cell_type": "code",
   "execution_count": 11,
   "id": "a703dac7",
   "metadata": {},
   "outputs": [
    {
     "data": {
      "text/plain": [
       "{'o': 'stellarpunk.orders.movement.GoToLocation',\n",
       " 'ct': 'be86e3fe-27b4-4db1-948b-53e22b80abd1',\n",
       " 'ct_ms': 86.8411375161885,\n",
       " 'ct_loc': [-22078.3671875, 68607.375],\n",
       " 'ct_v': [0.0, 0.0],\n",
       " 'ct_ts': 3.166666666666665,\n",
       " 'ct_at': 2.99408202167786,\n",
       " 'ct_dv': [5281231.0, -35388868.0],\n",
       " 'ct_ct': 1,\n",
       " 'ct_cloc': [-22078.3671875, 68607.375],\n",
       " 'ct_cradius': 100.0,\n",
       " 'ct_cn': [[-22078.3671875, 68607.375]],\n",
       " 'ct_mh': 40.38096324096077,\n",
       " 'cac': True,\n",
       " 'cach': True,\n",
       " 'cbdr': False,\n",
       " 'cbdr_hist': [[-1346.2226563530749, 840.5409816826286],\n",
       "  [-16.11943140666699, 108.01429119307431]],\n",
       " 'nd': 1.547135927875105e-07,\n",
       " 'nnd': 109.21045357847615,\n",
       " '_nact': 0.0,\n",
       " '_ada': 0.0,\n",
       " 't_loc': [-109207.296875, 125401.875],\n",
       " 'ad': 4500.0,\n",
       " 'md': 0.0,\n",
       " 't_v': [-83.73080444335938, 54.67313766479492],\n",
       " 'cs': False,\n",
       " 'scm': 115.37418068845935,\n",
       " '_ncts': 6.147619047619035,\n",
       " '_dv': [5279946.0, -35388160.0],\n",
       " 'msc': 100.0,\n",
       " 'msc_ts': 6.133333333333321,\n",
       " 'msc_a': 0.2}"
      ]
     },
     "execution_count": 11,
     "metadata": {},
     "output_type": "execute_result"
    }
   ],
   "source": [
    "df.iloc[-1][\"o\"]"
   ]
  },
  {
   "cell_type": "markdown",
   "id": "a6d3cf5e",
   "metadata": {},
   "source": [
    "# Basic Ship Vitals"
   ]
  },
  {
   "cell_type": "markdown",
   "id": "36730903",
   "metadata": {},
   "source": [
    "## Position and Heading"
   ]
  },
  {
   "cell_type": "code",
   "execution_count": 12,
   "id": "665329e8",
   "metadata": {},
   "outputs": [
    {
     "data": {
      "application/vnd.jupyter.widget-view+json": {
       "model_id": "1ce7bb16e3f4401aa0ff9dcd55258bac",
       "version_major": 2,
       "version_minor": 0
      },
      "text/plain": [
       "interactive(children=(FloatSlider(value=6.166666666666654, continuous_update=False, description='max_time', ma…"
      ]
     },
     "metadata": {},
     "output_type": "display_data"
    },
    {
     "data": {
      "text/plain": [
       "<function __main__.plot_location_chart(max_time)>"
      ]
     },
     "execution_count": 12,
     "metadata": {},
     "output_type": "execute_result"
    }
   ],
   "source": [
    "def plot_location_chart(max_time):\n",
    "    sample = df[df[\"ts\"] <= max_time].iloc[::50]\n",
    "    plt.quiver(sample[\"loc.x\"], sample[\"loc.y\"], sample[\"angle.x\"], sample[\"angle.y\"])#, scale=100)\n",
    "    plt.scatter(sample[\"o.t_loc.x\"], sample[\"o.t_loc.y\"])\n",
    "    #center = (0,2500)\n",
    "    #radius = 10000\n",
    "    #plt.xlim(center[0]-radius,center[0]+radius)\n",
    "    #plt.ylim(center[1]-radius,center[1]+radius)\n",
    "\n",
    "ipywidgets.interact(plot_location_chart, max_time=ipywidgets.FloatSlider(value=df[\"ts\"].max(), min=df[\"ts\"].min(), max=df[\"ts\"].max(), continuous_update=False))"
   ]
  },
  {
   "cell_type": "code",
   "execution_count": 13,
   "id": "ed1c2ca3",
   "metadata": {},
   "outputs": [
    {
     "data": {
      "text/html": [
       "<div>\n",
       "<style scoped>\n",
       "    .dataframe tbody tr th:only-of-type {\n",
       "        vertical-align: middle;\n",
       "    }\n",
       "\n",
       "    .dataframe tbody tr th {\n",
       "        vertical-align: top;\n",
       "    }\n",
       "\n",
       "    .dataframe thead th {\n",
       "        text-align: right;\n",
       "    }\n",
       "</style>\n",
       "<table border=\"1\" class=\"dataframe\">\n",
       "  <thead>\n",
       "    <tr style=\"text-align: right;\">\n",
       "      <th></th>\n",
       "      <th>loc.x</th>\n",
       "      <th>loc.y</th>\n",
       "    </tr>\n",
       "  </thead>\n",
       "  <tbody>\n",
       "    <tr>\n",
       "      <th>count</th>\n",
       "      <td>185.000000</td>\n",
       "      <td>185.000000</td>\n",
       "    </tr>\n",
       "    <tr>\n",
       "      <th>mean</th>\n",
       "      <td>-18095.139326</td>\n",
       "      <td>66302.936677</td>\n",
       "    </tr>\n",
       "    <tr>\n",
       "      <th>std</th>\n",
       "      <td>2320.316041</td>\n",
       "      <td>1284.705078</td>\n",
       "    </tr>\n",
       "    <tr>\n",
       "      <th>min</th>\n",
       "      <td>-22062.248047</td>\n",
       "      <td>64093.914062</td>\n",
       "    </tr>\n",
       "    <tr>\n",
       "      <th>25%</th>\n",
       "      <td>-20088.164062</td>\n",
       "      <td>65198.250000</td>\n",
       "    </tr>\n",
       "    <tr>\n",
       "      <th>50%</th>\n",
       "      <td>-18107.511719</td>\n",
       "      <td>66305.820312</td>\n",
       "    </tr>\n",
       "    <tr>\n",
       "      <th>75%</th>\n",
       "      <td>-16110.469727</td>\n",
       "      <td>67409.992188</td>\n",
       "    </tr>\n",
       "    <tr>\n",
       "      <th>max</th>\n",
       "      <td>-14076.535156</td>\n",
       "      <td>68499.359375</td>\n",
       "    </tr>\n",
       "  </tbody>\n",
       "</table>\n",
       "</div>"
      ],
      "text/plain": [
       "              loc.x         loc.y\n",
       "count    185.000000    185.000000\n",
       "mean  -18095.139326  66302.936677\n",
       "std     2320.316041   1284.705078\n",
       "min   -22062.248047  64093.914062\n",
       "25%   -20088.164062  65198.250000\n",
       "50%   -18107.511719  66305.820312\n",
       "75%   -16110.469727  67409.992188\n",
       "max   -14076.535156  68499.359375"
      ]
     },
     "execution_count": 13,
     "metadata": {},
     "output_type": "execute_result"
    }
   ],
   "source": [
    "df[[\"loc.x\", \"loc.y\"]].describe()"
   ]
  },
  {
   "cell_type": "code",
   "execution_count": 14,
   "id": "e0f37c4c",
   "metadata": {},
   "outputs": [
    {
     "data": {
      "text/plain": [
       "Text(0.5, 1.0, 'position')"
      ]
     },
     "execution_count": 14,
     "metadata": {},
     "output_type": "execute_result"
    },
    {
     "data": {
      "image/png": "[encoded data removed]",
      "text/plain": [
       "<Figure size 432x288 with 1 Axes>"
      ]
     },
     "metadata": {
      "needs_background": "light"
     },
     "output_type": "display_data"
    }
   ],
   "source": [
    "plt.scatter(df[\"ts\"], df[\"loc.x\"])\n",
    "plt.scatter(df[\"ts\"], df[\"loc.y\"])\n",
    "plt.title(\"position\")"
   ]
  },
  {
   "cell_type": "code",
   "execution_count": 15,
   "id": "b65fd521",
   "metadata": {},
   "outputs": [
    {
     "data": {
      "application/vnd.jupyter.widget-view+json": {
       "model_id": "df22eda44f1944d6adcc7eb940353b78",
       "version_major": 2,
       "version_minor": 0
      },
      "text/plain": [
       "interactive(children=(FloatSlider(value=6.13333333333332, continuous_update=False, description='hist_length', …"
      ]
     },
     "metadata": {},
     "output_type": "display_data"
    },
    {
     "data": {
      "text/plain": [
       "<function __main__.plot_heading(hist_length, max_time)>"
      ]
     },
     "execution_count": 15,
     "metadata": {},
     "output_type": "execute_result"
    }
   ],
   "source": [
    "def plot_heading(hist_length, max_time):\n",
    "    sample = df[(df[\"ts\"] >= max_time - hist_length) & (df[\"ts\"] <= max_time)]\n",
    "    plt.scatter(sample[\"ts\"], sample[\"a\"].apply(lambda x: util.normalize_angle(x, shortest=True)), label=\"theta\")\n",
    "    plt.scatter(sample[\"ts\"], sample[\"av\"], label=\"omega\")\n",
    "    plt.scatter(sample[\"ts\"], sample[\"o._ada\"].apply(lambda x: util.normalize_angle(x, shortest=True)), label=\"desired theta\")\n",
    "    plt.hlines(np.pi, sample[\"ts\"].min(), sample[\"ts\"].max(), color=\"red\")\n",
    "    plt.hlines(0, sample[\"ts\"].min(), sample[\"ts\"].max(), color=\"red\")\n",
    "    plt.legend()\n",
    "    plt.title(\"heading and angular velocity\")\n",
    "    \n",
    "ipywidgets.interact(plot_heading, hist_length=ipywidgets.FloatSlider(value=15, min=0, max=df[\"ts\"].max()-df[\"ts\"].min(), continuous_update=False), max_time=ipywidgets.FloatSlider(value=df[\"ts\"].max(), min=df[\"ts\"].min(), max=df[\"ts\"].max()+.1, continuous_update=False))"
   ]
  },
  {
   "cell_type": "code",
   "execution_count": 16,
   "id": "e1a4515d",
   "metadata": {},
   "outputs": [
    {
     "data": {
      "text/plain": [
       "<matplotlib.collections.PathCollection at 0x7f2cd40ca050>"
      ]
     },
     "execution_count": 16,
     "metadata": {},
     "output_type": "execute_result"
    },
    {
     "data": {
      "image/png": "[encoded data removed]",
      "text/plain": [
       "<Figure size 432x288 with 1 Axes>"
      ]
     },
     "metadata": {
      "needs_background": "light"
     },
     "output_type": "display_data"
    }
   ],
   "source": [
    "plt.scatter(df[\"ts\"], df[\"t\"])"
   ]
  },
  {
   "cell_type": "code",
   "execution_count": 17,
   "id": "f22420e0",
   "metadata": {},
   "outputs": [
    {
     "data": {
      "text/plain": [
       "False    169\n",
       "True      16\n",
       "Name: t, dtype: int64"
      ]
     },
     "execution_count": 17,
     "metadata": {},
     "output_type": "execute_result"
    }
   ],
   "source": [
    "(df[\"t\"] == 0).value_counts()"
   ]
  },
  {
   "cell_type": "code",
   "execution_count": 18,
   "id": "fa4f825a",
   "metadata": {},
   "outputs": [
    {
     "data": {
      "text/plain": [
       "True     169\n",
       "False     16\n",
       "Name: t, dtype: int64"
      ]
     },
     "execution_count": 18,
     "metadata": {},
     "output_type": "execute_result"
    }
   ],
   "source": [
    "((df[\"t\"].abs() == 2700000.0) | (df[\"t\"] == 0)).value_counts()"
   ]
  },
  {
   "cell_type": "markdown",
   "id": "4ce26323",
   "metadata": {},
   "source": [
    "### Velocity and Acceleration"
   ]
  },
  {
   "cell_type": "code",
   "execution_count": 19,
   "id": "b5778f75",
   "metadata": {},
   "outputs": [
    {
     "data": {
      "application/vnd.jupyter.widget-view+json": {
       "model_id": "e977791616d642b88321390d6847d9ba",
       "version_major": 2,
       "version_minor": 0
      },
      "text/plain": [
       "interactive(children=(FloatSlider(value=6.13333333333332, continuous_update=False, description='hist_length', …"
      ]
     },
     "metadata": {},
     "output_type": "display_data"
    },
    {
     "data": {
      "text/plain": [
       "<function __main__.plot_speed(hist_length, max_time)>"
      ]
     },
     "execution_count": 19,
     "metadata": {},
     "output_type": "execute_result"
    }
   ],
   "source": [
    "def plot_speed(hist_length, max_time):\n",
    "    sample = df[(df[\"ts\"] >= max_time - hist_length) & (df[\"ts\"] <= max_time)]\n",
    "    plt.scatter(sample[\"ts\"], sample[\"speed\"])\n",
    "    plt.title(\"speed\")\n",
    "    print(f'min speed: {sample[\"speed\"].min()}')\n",
    "    print(f'max speed: {sample[\"speed\"].max()}')\n",
    "    \n",
    "ipywidgets.interact(plot_speed, hist_length=ipywidgets.FloatSlider(value=15, min=0, max=df[\"ts\"].max()-df[\"ts\"].min(), continuous_update=False), max_time=ipywidgets.FloatSlider(value=df[\"ts\"].max(), min=df[\"ts\"].min(), max=df[\"ts\"].max()+.1, continuous_update=False))"
   ]
  },
  {
   "cell_type": "code",
   "execution_count": 20,
   "id": "32a0a440",
   "metadata": {
    "scrolled": true
   },
   "outputs": [
    {
     "data": {
      "application/vnd.jupyter.widget-view+json": {
       "model_id": "c9b00414a3d04c9cb777cf4e2e277069",
       "version_major": 2,
       "version_minor": 0
      },
      "text/plain": [
       "interactive(children=(FloatSlider(value=6.13333333333332, continuous_update=False, description='hist_length', …"
      ]
     },
     "metadata": {},
     "output_type": "display_data"
    },
    {
     "data": {
      "text/plain": [
       "<function __main__.plot_velocity(hist_length, max_time)>"
      ]
     },
     "execution_count": 20,
     "metadata": {},
     "output_type": "execute_result"
    }
   ],
   "source": [
    "def plot_velocity(hist_length, max_time):\n",
    "    sample = df[(df[\"ts\"] >= max_time - hist_length) & (df[\"ts\"] <= max_time)]\n",
    "    plt.scatter(sample[\"ts\"], sample[\"v.x\"], label=\"x\")\n",
    "    plt.scatter(sample[\"ts\"], sample[\"v.y\"], label=\"y\")\n",
    "    plt.legend()\n",
    "    plt.title(\"velocity\")\n",
    "    \n",
    "ipywidgets.interact(plot_velocity, hist_length=ipywidgets.FloatSlider(value=15, min=0, max=df[\"ts\"].max()-df[\"ts\"].min(), continuous_update=False), max_time=ipywidgets.FloatSlider(value=df[\"ts\"].max(), min=df[\"ts\"].min(), max=df[\"ts\"].max()+.1, continuous_update=False))"
   ]
  },
  {
   "cell_type": "code",
   "execution_count": 21,
   "id": "7e3172c1",
   "metadata": {
    "scrolled": true
   },
   "outputs": [
    {
     "data": {
      "application/vnd.jupyter.widget-view+json": {
       "model_id": "ba1e0f40f66f4895a68f38435dcf61f2",
       "version_major": 2,
       "version_minor": 0
      },
      "text/plain": [
       "interactive(children=(FloatSlider(value=6.13333333333332, continuous_update=False, description='hist_length', …"
      ]
     },
     "metadata": {},
     "output_type": "display_data"
    },
    {
     "data": {
      "text/plain": [
       "<function __main__.plot_acceleration(hist_length, max_time)>"
      ]
     },
     "execution_count": 21,
     "metadata": {},
     "output_type": "execute_result"
    }
   ],
   "source": [
    "def plot_acceleration(hist_length, max_time):\n",
    "    sample = df[(df[\"ts\"] >= max_time - hist_length) & (df[\"ts\"] <= max_time)]\n",
    "    plt.scatter(sample[\"ts\"], (sample[\"v.x\"].shift(1) - sample[\"v.x\"]) / (sample[\"ts\"].shift(1) - sample[\"ts\"]), label=\"x\")\n",
    "    plt.scatter(sample[\"ts\"], (sample[\"v.y\"].shift(1) - sample[\"v.y\"]) / (sample[\"ts\"].shift(1) - sample[\"ts\"]), label=\"y\")\n",
    "    plt.yscale(\"symlog\")\n",
    "    plt.legend()\n",
    "    plt.title(\"acceleration\")\n",
    "    \n",
    "ipywidgets.interact(plot_acceleration, hist_length=ipywidgets.FloatSlider(value=15, min=0, max=df[\"ts\"].max()-df[\"ts\"].min(), continuous_update=False), max_time=ipywidgets.FloatSlider(value=df[\"ts\"].max(), min=df[\"ts\"].min(), max=df[\"ts\"].max()+.1, continuous_update=False))"
   ]
  },
  {
   "cell_type": "code",
   "execution_count": 22,
   "id": "7754010f",
   "metadata": {},
   "outputs": [
    {
     "data": {
      "application/vnd.jupyter.widget-view+json": {
       "model_id": "64fb74d294224c54a58cbdbf50e58697",
       "version_major": 2,
       "version_minor": 0
      },
      "text/plain": [
       "interactive(children=(FloatSlider(value=6.13333333333332, continuous_update=False, description='hist_length', …"
      ]
     },
     "metadata": {},
     "output_type": "display_data"
    },
    {
     "data": {
      "text/plain": [
       "<function __main__.plot_force(hist_length, max_time)>"
      ]
     },
     "execution_count": 22,
     "metadata": {},
     "output_type": "execute_result"
    }
   ],
   "source": [
    "def plot_force(hist_length, max_time):\n",
    "    sample = df[(df[\"ts\"] >= max_time - hist_length) & (df[\"ts\"] <= max_time)]\n",
    "    plt.scatter(sample[\"ts\"], sample[\"f_mag\"])\n",
    "    plt.yscale(\"log\")\n",
    "    plt.title(\"force\")\n",
    "    print(f'min force={sample[\"f_mag\"].min()}')\n",
    "    print(f'max force={sample[\"f_mag\"].max()}')\n",
    "\n",
    "ipywidgets.interact(plot_force, hist_length=ipywidgets.FloatSlider(value=15, min=0, max=df[\"ts\"].max()-df[\"ts\"].min(), continuous_update=False), max_time=ipywidgets.FloatSlider(value=df[\"ts\"].max(), min=df[\"ts\"].min(), max=df[\"ts\"].max()+.1, continuous_update=False))"
   ]
  },
  {
   "cell_type": "markdown",
   "id": "4630e3f8",
   "metadata": {},
   "source": [
    "# Behavior Monitoring"
   ]
  },
  {
   "cell_type": "code",
   "execution_count": 23,
   "id": "cf1a4380",
   "metadata": {},
   "outputs": [
    {
     "data": {
      "text/plain": [
       "[0.033333333333333, None, 1.866666666666669, None]"
      ]
     },
     "execution_count": 23,
     "metadata": {},
     "output_type": "execute_result"
    }
   ],
   "source": [
    "[next((df.iloc[idx][\"ts\"] if idx is not None else None for idx, v in zip(df.index, (~df[c].isna() & df[c] == True)) if v), None) for c in [\"o.ct\", \"o.cs\", \"o.cac\", \"o.cbdr\"]]"
   ]
  },
  {
   "cell_type": "code",
   "execution_count": 24,
   "id": "9e6db2b0",
   "metadata": {},
   "outputs": [
    {
     "data": {
      "application/vnd.jupyter.widget-view+json": {
       "model_id": "8819b483b3ad441192c65cbddede3b34",
       "version_major": 2,
       "version_minor": 0
      },
      "text/plain": [
       "interactive(children=(FloatSlider(value=6.13333333333332, continuous_update=False, description='hist_length', …"
      ]
     },
     "metadata": {},
     "output_type": "display_data"
    },
    {
     "data": {
      "text/plain": [
       "<function __main__.plot_collision_info(hist_length, max_time)>"
      ]
     },
     "execution_count": 24,
     "metadata": {},
     "output_type": "execute_result"
    }
   ],
   "source": [
    "def plot_collision_info(hist_length, max_time):\n",
    "    sample = df[(df[\"ts\"] >= max_time - hist_length) & (df[\"ts\"] <= max_time)]\n",
    "    plt.scatter(sample[\"ts\"], (~(sample[\"o.ct\"].isna())).astype(int), label=\"ct\")\n",
    "    plt.scatter(sample[\"ts\"], sample[\"o.cs\"].fillna(0).astype(int)+0.05, label=\"cs\")\n",
    "    plt.scatter(sample[\"ts\"], sample[\"o.cac\"].fillna(0).astype(int)+0.1, label=\"cac\")\n",
    "    plt.scatter(sample[\"ts\"], sample[\"o.cbdr\"].fillna(0).astype(int)+0.15, label=\"cbdr\")\n",
    "    plt.scatter(sample[\"ts\"], sample[\"o.cach\"].fillna(0).astype(int)+0.1, label=\"cach\", marker=\"+\")\n",
    "    plt.legend()\n",
    "    plt.title(\"status flags\")\n",
    "    \n",
    "    flag_cols = [\"o.ct\", \"o.cs\", \"o.cac\", \"o.cach\", \"o.cbdr\"]\n",
    "    first_ts = [\n",
    "        next(\n",
    "            (sample.loc[idx][\"ts\"] if idx is not None else None\n",
    "             for idx, v in zip(sample.index, (~sample[c].isna() & sample[c] == True))\n",
    "             if v),\n",
    "            None\n",
    "        )\n",
    "        for c in flag_cols\n",
    "    ]\n",
    "    for c, ts in zip(flag_cols, first_ts):\n",
    "        print(f'first {c}: {ts}')\n",
    "\n",
    "ipywidgets.interact(plot_collision_info, hist_length=ipywidgets.FloatSlider(value=15, min=0, max=df[\"ts\"].max()-df[\"ts\"].min(), continuous_update=False), max_time=ipywidgets.FloatSlider(value=df[\"ts\"].max(), min=df[\"ts\"].min(), max=df[\"ts\"].max()+.1, continuous_update=False))"
   ]
  },
  {
   "cell_type": "markdown",
   "id": "94ba2b3d",
   "metadata": {},
   "source": [
    "### Target Location"
   ]
  },
  {
   "cell_type": "code",
   "execution_count": 25,
   "id": "2640e1e5",
   "metadata": {},
   "outputs": [
    {
     "data": {
      "text/html": [
       "<div>\n",
       "<style scoped>\n",
       "    .dataframe tbody tr th:only-of-type {\n",
       "        vertical-align: middle;\n",
       "    }\n",
       "\n",
       "    .dataframe tbody tr th {\n",
       "        vertical-align: top;\n",
       "    }\n",
       "\n",
       "    .dataframe thead tr th {\n",
       "        text-align: left;\n",
       "    }\n",
       "\n",
       "    .dataframe thead tr:last-of-type th {\n",
       "        text-align: right;\n",
       "    }\n",
       "</style>\n",
       "<table border=\"1\" class=\"dataframe\">\n",
       "  <thead>\n",
       "    <tr>\n",
       "      <th></th>\n",
       "      <th></th>\n",
       "      <th colspan=\"3\" halign=\"left\">ts</th>\n",
       "      <th colspan=\"2\" halign=\"left\">o.t_dist</th>\n",
       "      <th>o.ad</th>\n",
       "    </tr>\n",
       "    <tr>\n",
       "      <th></th>\n",
       "      <th></th>\n",
       "      <th>count</th>\n",
       "      <th>min</th>\n",
       "      <th>max</th>\n",
       "      <th>min</th>\n",
       "      <th>max</th>\n",
       "      <th>min</th>\n",
       "    </tr>\n",
       "    <tr>\n",
       "      <th>o.t_loc.x</th>\n",
       "      <th>o.t_loc.y</th>\n",
       "      <th></th>\n",
       "      <th></th>\n",
       "      <th></th>\n",
       "      <th></th>\n",
       "      <th></th>\n",
       "      <th></th>\n",
       "    </tr>\n",
       "  </thead>\n",
       "  <tbody>\n",
       "    <tr>\n",
       "      <th>-109207.296875</th>\n",
       "      <th>125401.875</th>\n",
       "      <td>185</td>\n",
       "      <td>0.033333</td>\n",
       "      <td>6.166667</td>\n",
       "      <td>104077.643227</td>\n",
       "      <td>113174.767062</td>\n",
       "      <td>4500.0</td>\n",
       "    </tr>\n",
       "  </tbody>\n",
       "</table>\n",
       "</div>"
      ],
      "text/plain": [
       "                             ts                           o.t_dist  \\\n",
       "                          count       min       max            min   \n",
       "o.t_loc.x      o.t_loc.y                                             \n",
       "-109207.296875 125401.875   185  0.033333  6.166667  104077.643227   \n",
       "\n",
       "                                            o.ad  \n",
       "                                     max     min  \n",
       "o.t_loc.x      o.t_loc.y                          \n",
       "-109207.296875 125401.875  113174.767062  4500.0  "
      ]
     },
     "execution_count": 25,
     "metadata": {},
     "output_type": "execute_result"
    }
   ],
   "source": [
    "if np.any(~df[\"o.t_loc\"].isna()):\n",
    "    x = df.groupby([\"o.t_loc.x\", \"o.t_loc.y\"]).agg({\"ts\": [\"count\", \"min\", \"max\"], \"o.t_dist\": [\"min\",\"max\"], \"o.ad\":[\"min\"]})\n",
    "else:\n",
    "    x = \"no location target\"\n",
    "x"
   ]
  },
  {
   "cell_type": "code",
   "execution_count": 26,
   "id": "74d23fb4",
   "metadata": {},
   "outputs": [
    {
     "data": {
      "application/vnd.jupyter.widget-view+json": {
       "model_id": "b69af8ce9bae41b0baeabaa9d24cf59c",
       "version_major": 2,
       "version_minor": 0
      },
      "text/plain": [
       "interactive(children=(FloatSlider(value=6.13333333333332, continuous_update=False, description='hist_length', …"
      ]
     },
     "metadata": {},
     "output_type": "display_data"
    },
    {
     "data": {
      "text/plain": [
       "<function __main__.plot_target_distance(hist_length, max_time)>"
      ]
     },
     "execution_count": 26,
     "metadata": {},
     "output_type": "execute_result"
    }
   ],
   "source": [
    "#sample = df[(df[\"ts\"] < 124.4) & (df[\"ts\"] > 120)]\n",
    "def plot_target_distance(hist_length, max_time):\n",
    "    sample = df[(df[\"ts\"] >= max_time - hist_length) & (df[\"ts\"] <= max_time)]\n",
    "    plt.scatter(sample[\"ts\"], sample[\"o.t_dist\"])\n",
    "    plt.scatter(sample[\"ts\"], sample[\"o.ad\"], color=\"green\", marker=\"_\")\n",
    "    plt.scatter(sample[\"ts\"], sample[\"o.md\"], color=\"red\", marker=\"_\")\n",
    "    #plt.ylim(0,1500)\n",
    "    plt.title(\"distance to target\")\n",
    "    print(f'when first arrived {sample[sample[\"o.t_dist\"] < sample[\"o.ad\"]][\"ts\"].min()}')\n",
    "\n",
    "ipywidgets.interact(\n",
    "    plot_target_distance,\n",
    "    hist_length=ipywidgets.FloatSlider(value=15, min=0, max=df[\"ts\"].max()-df[\"ts\"].min(), continuous_update=False),\n",
    "    max_time=ipywidgets.FloatSlider(value=df[\"ts\"].max(), min=df[\"ts\"].min(), max=df[\"ts\"].max()+.1, continuous_update=False))"
   ]
  },
  {
   "cell_type": "code",
   "execution_count": 27,
   "id": "d86ba49e",
   "metadata": {},
   "outputs": [
    {
     "data": {
      "text/plain": [
       "nan"
      ]
     },
     "execution_count": 27,
     "metadata": {},
     "output_type": "execute_result"
    }
   ],
   "source": [
    "df[df[\"o.t_dist\"] < df[\"o.ad\"]][\"ts\"].min()"
   ]
  },
  {
   "cell_type": "code",
   "execution_count": 28,
   "id": "4d0bf8d0",
   "metadata": {},
   "outputs": [
    {
     "data": {
      "application/vnd.jupyter.widget-view+json": {
       "model_id": "f0155b509dd2465b8f349a853b89d7b6",
       "version_major": 2,
       "version_minor": 0
      },
      "text/plain": [
       "interactive(children=(FloatSlider(value=6.13333333333332, continuous_update=False, description='hist_length', …"
      ]
     },
     "metadata": {},
     "output_type": "display_data"
    },
    {
     "data": {
      "text/plain": [
       "<function __main__.plot_desired_speed(hist_length, max_time)>"
      ]
     },
     "execution_count": 28,
     "metadata": {},
     "output_type": "execute_result"
    }
   ],
   "source": [
    "def plot_desired_speed(hist_length, max_time):\n",
    "    sample = df[(df[\"ts\"] >= max_time - hist_length) & (df[\"ts\"] <= max_time)]\n",
    "    plt.scatter(sample[\"ts\"], sample[\"speed\"], label=\"actual speed\")\n",
    "    plt.scatter(sample[\"ts\"], sample[\"o.t_speed\"], label=\"desired speed\")\n",
    "    plt.scatter(sample[\"ts\"], sample[\"o.max_speed_cap\"], label=\"max speed cap\")\n",
    "    plt.scatter(sample[\"ts\"], sample[\"o._dv_speed\"], label=\"desired speed (_dv)\")\n",
    "    plt.legend()\n",
    "    plt.title(\"speed and desired speed to target\")\n",
    "    plt.ylim(0)\n",
    "\n",
    "ipywidgets.interact(\n",
    "    plot_desired_speed,\n",
    "    hist_length=ipywidgets.FloatSlider(value=15, min=0, max=df[\"ts\"].max()-df[\"ts\"].min(), continuous_update=False),\n",
    "    max_time=ipywidgets.FloatSlider(value=df[\"ts\"].max(), min=df[\"ts\"].min(), max=df[\"ts\"].max()+.1, continuous_update=False))"
   ]
  },
  {
   "cell_type": "code",
   "execution_count": 29,
   "id": "d7341dc2",
   "metadata": {
    "scrolled": true
   },
   "outputs": [
    {
     "data": {
      "text/plain": [
       "Text(0.5, 1.0, 'desired speed delta')"
      ]
     },
     "execution_count": 29,
     "metadata": {},
     "output_type": "execute_result"
    },
    {
     "data": {
      "image/png": "[encoded data removed]",
      "text/plain": [
       "<Figure size 432x288 with 1 Axes>"
      ]
     },
     "metadata": {
      "needs_background": "light"
     },
     "output_type": "display_data"
    }
   ],
   "source": [
    "plt.scatter(df[\"ts\"], df[\"o.t_speed\"] - df[\"speed\"])\n",
    "plt.scatter(df[\"ts\"], np.linalg.norm(np.array((df[\"o.t_v.x\"] - df[\"v.x\"], df[\"o.t_v.y\"] - df[\"v.y\"])), axis=0))\n",
    "plt.title(\"desired speed delta\")"
   ]
  },
  {
   "cell_type": "markdown",
   "id": "5ac378ec",
   "metadata": {},
   "source": [
    "## Collision Avoidance"
   ]
  },
  {
   "cell_type": "markdown",
   "id": "6936a767",
   "metadata": {},
   "source": [
    "### Collision Threats"
   ]
  },
  {
   "cell_type": "code",
   "execution_count": 30,
   "id": "f38ca4d8",
   "metadata": {},
   "outputs": [
    {
     "data": {
      "application/vnd.jupyter.widget-view+json": {
       "model_id": "8e8b41c26243456bb0f0930fa0972023",
       "version_major": 2,
       "version_minor": 0
      },
      "text/plain": [
       "interactive(children=(FloatSlider(value=6.13333333333332, continuous_update=False, description='hist_length', …"
      ]
     },
     "metadata": {},
     "output_type": "display_data"
    },
    {
     "data": {
      "text/plain": [
       "<function __main__.show_collision_threats(hist_length, max_time)>"
      ]
     },
     "execution_count": 30,
     "metadata": {},
     "output_type": "execute_result"
    }
   ],
   "source": [
    "def show_collision_threats(hist_length, max_time):\n",
    "    sample = df[(df[\"ts\"] >= max_time-hist_length) & (df[\"ts\"] <= max_time)]\n",
    "    if np.any(~sample[\"o.ct\"].isna()):\n",
    "        x = sample.groupby(\"o.ct\").agg({\"ts\": [\"count\", \"min\", \"max\"], \"o.ct_dist\": [\"min\",\"max\"]})\n",
    "    else:\n",
    "        x = \"no collision threats\"\n",
    "    return x\n",
    "ipywidgets.interact(\n",
    "    show_collision_threats,\n",
    "    hist_length=ipywidgets.FloatSlider(value=15, min=0, max=df[\"ts\"].max()-df[\"ts\"].min(), continuous_update=False),\n",
    "    max_time=ipywidgets.FloatSlider(value=df[\"ts\"].max(), min=df[\"ts\"].min(), max=df[\"ts\"].max()+.1, continuous_update=False)\n",
    ")"
   ]
  },
  {
   "cell_type": "code",
   "execution_count": 31,
   "id": "1e264d01",
   "metadata": {},
   "outputs": [
    {
     "data": {
      "text/plain": [
       "eid\n",
       "d3d1421f-4c22-4ec6-b41f-2df8568f27a9    AST\n",
       "568f53d1-8643-44f9-9099-66430c441dde    AST\n",
       "be86e3fe-27b4-4db1-948b-53e22b80abd1    AST\n",
       "Name: p, dtype: object"
      ]
     },
     "execution_count": 31,
     "metadata": {},
     "output_type": "execute_result"
    }
   ],
   "source": [
    "e_types.loc[df[~df[\"o.ct\"].isna()][\"o.ct\"].unique()]"
   ]
  },
  {
   "cell_type": "code",
   "execution_count": 32,
   "id": "890424d5",
   "metadata": {},
   "outputs": [
    {
     "data": {
      "application/vnd.jupyter.widget-view+json": {
       "model_id": "a8a2062fc15742798cc4627a5f143a02",
       "version_major": 2,
       "version_minor": 0
      },
      "text/plain": [
       "interactive(children=(FloatSlider(value=6.13333333333332, continuous_update=False, description='hist_length', …"
      ]
     },
     "metadata": {},
     "output_type": "display_data"
    },
    {
     "data": {
      "text/plain": [
       "<function __main__.plot_collision_distance(hist_length, max_time)>"
      ]
     },
     "execution_count": 32,
     "metadata": {},
     "output_type": "execute_result"
    }
   ],
   "source": [
    "def plot_collision_distance(hist_length, max_time):\n",
    "    sample = df[(df[\"ts\"] >= max_time-hist_length) & (df[\"ts\"] <= max_time)]\n",
    "    plt.scatter(sample[\"ts\"], sample[\"o.ct_dist\"])\n",
    "    plt.scatter(sample[\"ts\"], sample[\"o.ct_cradius\"]+sample[\"o.scm\"]*2, color=\"green\", marker=\"_\")\n",
    "    plt.scatter(sample[\"ts\"], sample[\"o.ct_cradius\"]+sample[\"o.scm\"], color=\"orange\", marker=\"_\")\n",
    "    plt.scatter(sample[\"ts\"], sample[\"o.ct_cradius\"], color=\"red\", marker=\"_\")\n",
    "    plt.hlines(60, sample[\"ts\"].min(), sample[\"ts\"].max(), color=\"red\")\n",
    "    plt.ylim(0)\n",
    "    plt.title(\"distance to collision threat\")\n",
    "    print(f'max ct dist: {sample[\"o.ct_dist\"].max()}')\n",
    "    print(f'min ct dist: {sample[\"o.ct_dist\"].min()}')\n",
    "\n",
    "ipywidgets.interact(\n",
    "    plot_collision_distance,\n",
    "    hist_length=ipywidgets.FloatSlider(value=15, min=0, max=df[\"ts\"].max()-df[\"ts\"].min(), continuous_update=False),\n",
    "    max_time=ipywidgets.FloatSlider(value=df[\"ts\"].max(), min=df[\"ts\"].min(), max=df[\"ts\"].max()+.1, continuous_update=False)\n",
    ")"
   ]
  },
  {
   "cell_type": "code",
   "execution_count": 33,
   "id": "04aa08ad",
   "metadata": {},
   "outputs": [
    {
     "data": {
      "application/vnd.jupyter.widget-view+json": {
       "model_id": "f09f9518067c46e58d0b75cc6d34a7b7",
       "version_major": 2,
       "version_minor": 0
      },
      "text/plain": [
       "interactive(children=(FloatSlider(value=6.13333333333332, continuous_update=False, description='hist_length', …"
      ]
     },
     "metadata": {},
     "output_type": "display_data"
    },
    {
     "data": {
      "text/plain": [
       "<function __main__.plot_minimum_separation(hist_length, max_time)>"
      ]
     },
     "execution_count": 33,
     "metadata": {},
     "output_type": "execute_result"
    }
   ],
   "source": [
    "def plot_minimum_separation(hist_length, max_time):\n",
    "    sample = df[(df[\"ts\"] >= max_time-hist_length) & (df[\"ts\"] <= max_time)]\n",
    "    plt.scatter(sample[\"ts\"], sample[\"o.ct_ms\"])\n",
    "    #plt.scatter(sample[\"ts\"], sample[\"o.ct_cradius\"]+30, color=\"red\", marker=\"_\")\n",
    "    plt.ylim(0)\n",
    "    plt.title(\"minimum_separation with collision threat\")\n",
    "    print(f'max min sep: {sample[\"o.ct_ms\"].max()}')\n",
    "    print(f'min min sep: {sample[\"o.ct_ms\"].min()}')\n",
    "\n",
    "ipywidgets.interact(\n",
    "    plot_minimum_separation,\n",
    "    hist_length=ipywidgets.FloatSlider(value=15, min=0, max=df[\"ts\"].max()-df[\"ts\"].min(), continuous_update=False),\n",
    "    max_time=ipywidgets.FloatSlider(value=df[\"ts\"].max(), min=df[\"ts\"].min(), max=df[\"ts\"].max()+.1, continuous_update=False)\n",
    ")"
   ]
  },
  {
   "cell_type": "code",
   "execution_count": 34,
   "id": "12faf352",
   "metadata": {},
   "outputs": [
    {
     "data": {
      "application/vnd.jupyter.widget-view+json": {
       "model_id": "92cc37450dd343ce8bfa965c4466d6de",
       "version_major": 2,
       "version_minor": 0
      },
      "text/plain": [
       "interactive(children=(FloatSlider(value=6.13333333333332, continuous_update=False, description='hist_length', …"
      ]
     },
     "metadata": {},
     "output_type": "display_data"
    },
    {
     "data": {
      "text/plain": [
       "<function __main__.plot_threat_age(hist_length, max_time)>"
      ]
     },
     "execution_count": 34,
     "metadata": {},
     "output_type": "execute_result"
    }
   ],
   "source": [
    "def plot_threat_age(hist_length, max_time):\n",
    "    sample = df[(df[\"ts\"] >= max_time - hist_length) & (df[\"ts\"] <= max_time)]\n",
    "    fig, ax1 = plt.subplots()\n",
    "    ax2 = ax1.twinx()\n",
    "\n",
    "    ax1.scatter(sample[\"ts\"], 1-sample[\"o.ct\"].isna().astype(int))\n",
    "    ax2.scatter(sample[\"ts\"], sample[\"ts\"] - sample[\"o.ct_ts\"], color=\"orange\")\n",
    "    plt.title(\"Collision Threat and Time Since Detection\")\n",
    "\n",
    "    #ax2.set_ylim(0,(df[\"ts\"] - df[\"o.ct_ts\"]).max()*1.2)\n",
    "    \n",
    "ipywidgets.interact(\n",
    "    plot_threat_age,\n",
    "    hist_length=ipywidgets.FloatSlider(value=15, min=0, max=df[\"ts\"].max()-df[\"ts\"].min(), continuous_update=False),\n",
    "    max_time=ipywidgets.FloatSlider(value=df[\"ts\"].max(), min=df[\"ts\"].min(), max=df[\"ts\"].max()+.1, continuous_update=False))"
   ]
  },
  {
   "cell_type": "markdown",
   "id": "86ed216b",
   "metadata": {},
   "source": [
    "## CBDR Detection"
   ]
  },
  {
   "cell_type": "code",
   "execution_count": 35,
   "id": "bcee6bd2",
   "metadata": {},
   "outputs": [
    {
     "data": {
      "application/vnd.jupyter.widget-view+json": {
       "model_id": "ca89a35015154343bacebf68748ce8ea",
       "version_major": 2,
       "version_minor": 0
      },
      "text/plain": [
       "interactive(children=(FloatSlider(value=6.13333333333332, continuous_update=False, description='hist_length', …"
      ]
     },
     "metadata": {},
     "output_type": "display_data"
    },
    {
     "data": {
      "text/plain": [
       "<function __main__.plot_cbdr_detection_data(hist_length, max_time)>"
      ]
     },
     "execution_count": 35,
     "metadata": {},
     "output_type": "execute_result"
    }
   ],
   "source": [
    "def plot_cbdr_detection_data(hist_length, max_time):\n",
    "    sample = df[(df[\"ts\"] >= max_time - hist_length) & (df[\"ts\"] <= max_time)]\n",
    "    fig, ax1 = plt.subplots()\n",
    "    ax2 = ax1.twinx()\n",
    "    \n",
    "    max_delta_bearing = 2e-3\n",
    "    min_delta_range = 5\n",
    "\n",
    "    bearing = sample[\"o.cbdr_hist\"].apply(lambda x: np.nan if isinstance(x, float) or len(x) < 2 else abs(util.cartesian_to_polar(x[0][0], x[0][1])[1] - util.cartesian_to_polar(x[-1][0], x[-1][1])[1]))\n",
    "    threat_range = sample[\"o.cbdr_hist\"].apply(lambda x: np.nan if isinstance(x, float) or len(x) < 2 else util.cartesian_to_polar(x[0][0], x[0][1])[0] - util.cartesian_to_polar(x[-1][0], x[-1][1])[0])\n",
    "    ax1.scatter(sample[\"ts\"], bearing, label=\"delta bearing\")\n",
    "    ax1.hlines(max_delta_bearing, sample[\"ts\"].min(), sample[\"ts\"].max(), color=\"green\", label=\"max delta bearing\")\n",
    "    ax2.scatter(sample[\"ts\"], threat_range, color=\"orange\", label=\"delta range\")\n",
    "    ax2.hlines(min_delta_range, sample[\"ts\"].min(), sample[\"ts\"].max(), color=\"red\", label=\"min delta range\")\n",
    "    fig.legend()\n",
    "    \n",
    "    print(f'{max_delta_bearing=}, bearing:\\t{(bearing.min(),bearing.max())}')\n",
    "    print(f'{min_delta_range=}, range:\\t{(threat_range.min(),threat_range.max())}')\n",
    "    \n",
    "ipywidgets.interact(\n",
    "    plot_cbdr_detection_data,\n",
    "    hist_length=ipywidgets.FloatSlider(value=15, min=0, max=df[\"ts\"].max()-df[\"ts\"].min(), continuous_update=False),\n",
    "    max_time=ipywidgets.FloatSlider(value=df[\"ts\"].max(), min=df[\"ts\"].min(), max=df[\"ts\"].max()+.1, continuous_update=False))"
   ]
  },
  {
   "cell_type": "code",
   "execution_count": 36,
   "id": "5f4e387c",
   "metadata": {},
   "outputs": [
    {
     "data": {
      "text/html": [
       "<div>\n",
       "<style scoped>\n",
       "    .dataframe tbody tr th:only-of-type {\n",
       "        vertical-align: middle;\n",
       "    }\n",
       "\n",
       "    .dataframe tbody tr th {\n",
       "        vertical-align: top;\n",
       "    }\n",
       "\n",
       "    .dataframe thead th {\n",
       "        text-align: right;\n",
       "    }\n",
       "</style>\n",
       "<table border=\"1\" class=\"dataframe\">\n",
       "  <thead>\n",
       "    <tr style=\"text-align: right;\">\n",
       "      <th></th>\n",
       "      <th>ts</th>\n",
       "      <th>o.cbdr_hist</th>\n",
       "    </tr>\n",
       "  </thead>\n",
       "  <tbody>\n",
       "    <tr>\n",
       "      <th>135</th>\n",
       "      <td>4.533333</td>\n",
       "      <td>[[-3539.4633034132894, 2060.3802271514287], [-...</td>\n",
       "    </tr>\n",
       "    <tr>\n",
       "      <th>136</th>\n",
       "      <td>4.566667</td>\n",
       "      <td>[[-3539.4633034132894, 2060.3802271514287], [-...</td>\n",
       "    </tr>\n",
       "    <tr>\n",
       "      <th>137</th>\n",
       "      <td>4.600000</td>\n",
       "      <td>[[-3539.4633034132894, 2060.3802271514287], [-...</td>\n",
       "    </tr>\n",
       "    <tr>\n",
       "      <th>138</th>\n",
       "      <td>4.633333</td>\n",
       "      <td>[[-3410.0914211197633, 1988.1504561183392], [-...</td>\n",
       "    </tr>\n",
       "    <tr>\n",
       "      <th>139</th>\n",
       "      <td>4.666667</td>\n",
       "      <td>[[-3410.0914211197633, 1988.1504561183392], [-...</td>\n",
       "    </tr>\n",
       "    <tr>\n",
       "      <th>140</th>\n",
       "      <td>4.700000</td>\n",
       "      <td>[[-3410.0914211197633, 1988.1504561183392], [-...</td>\n",
       "    </tr>\n",
       "    <tr>\n",
       "      <th>141</th>\n",
       "      <td>4.733333</td>\n",
       "      <td>[[-3280.772667749221, 1915.973617962518], [-18...</td>\n",
       "    </tr>\n",
       "    <tr>\n",
       "      <th>142</th>\n",
       "      <td>4.766667</td>\n",
       "      <td>[[-3280.772667749221, 1915.973617962518], [-18...</td>\n",
       "    </tr>\n",
       "    <tr>\n",
       "      <th>143</th>\n",
       "      <td>4.800000</td>\n",
       "      <td>[[-3280.772667749221, 1915.973617962518], [-18...</td>\n",
       "    </tr>\n",
       "    <tr>\n",
       "      <th>144</th>\n",
       "      <td>4.833333</td>\n",
       "      <td>[[-3151.506019615248, 1843.8507198298903], [-1...</td>\n",
       "    </tr>\n",
       "    <tr>\n",
       "      <th>145</th>\n",
       "      <td>4.866667</td>\n",
       "      <td>[[-3151.506019615248, 1843.8507198298903], [-1...</td>\n",
       "    </tr>\n",
       "    <tr>\n",
       "      <th>146</th>\n",
       "      <td>4.900000</td>\n",
       "      <td>[[-3151.506019615248, 1843.8507198298903], [-1...</td>\n",
       "    </tr>\n",
       "    <tr>\n",
       "      <th>147</th>\n",
       "      <td>4.933333</td>\n",
       "      <td>[[-3022.2903277932855, 1771.7828473701084], [-...</td>\n",
       "    </tr>\n",
       "    <tr>\n",
       "      <th>148</th>\n",
       "      <td>4.966667</td>\n",
       "      <td>[[-3022.2903277932855, 1771.7828473701084], [-...</td>\n",
       "    </tr>\n",
       "    <tr>\n",
       "      <th>149</th>\n",
       "      <td>5.000000</td>\n",
       "      <td>[[-3022.2903277932855, 1771.7828473701084], [-...</td>\n",
       "    </tr>\n",
       "    <tr>\n",
       "      <th>150</th>\n",
       "      <td>5.033333</td>\n",
       "      <td>[[-2893.124299183557, 1699.7711691991426], [-1...</td>\n",
       "    </tr>\n",
       "    <tr>\n",
       "      <th>151</th>\n",
       "      <td>5.066667</td>\n",
       "      <td>[[-2893.124299183557, 1699.7711691991426], [-1...</td>\n",
       "    </tr>\n",
       "    <tr>\n",
       "      <th>152</th>\n",
       "      <td>5.100000</td>\n",
       "      <td>[[-2893.124299183557, 1699.7711691991426], [-1...</td>\n",
       "    </tr>\n",
       "    <tr>\n",
       "      <th>153</th>\n",
       "      <td>5.133333</td>\n",
       "      <td>[[-2764.006474670856, 1627.8169403757784], [-1...</td>\n",
       "    </tr>\n",
       "    <tr>\n",
       "      <th>154</th>\n",
       "      <td>5.166667</td>\n",
       "      <td>[[-2764.006474670856, 1627.8169403757784], [-1...</td>\n",
       "    </tr>\n",
       "    <tr>\n",
       "      <th>155</th>\n",
       "      <td>5.200000</td>\n",
       "      <td>[[-2764.006474670856, 1627.8169403757784], [-1...</td>\n",
       "    </tr>\n",
       "    <tr>\n",
       "      <th>156</th>\n",
       "      <td>5.233333</td>\n",
       "      <td>[[-2634.935204086647, 1555.921504274098], [-12...</td>\n",
       "    </tr>\n",
       "    <tr>\n",
       "      <th>157</th>\n",
       "      <td>5.266667</td>\n",
       "      <td>[[-2634.935204086647, 1555.921504274098], [-12...</td>\n",
       "    </tr>\n",
       "    <tr>\n",
       "      <th>158</th>\n",
       "      <td>5.300000</td>\n",
       "      <td>[[-2634.935204086647, 1555.921504274098], [-12...</td>\n",
       "    </tr>\n",
       "    <tr>\n",
       "      <th>159</th>\n",
       "      <td>5.333333</td>\n",
       "      <td>[[-2505.9086179317164, 1484.0862918867497], [-...</td>\n",
       "    </tr>\n",
       "    <tr>\n",
       "      <th>160</th>\n",
       "      <td>5.366667</td>\n",
       "      <td>[[-2505.9086179317164, 1484.0862918867497], [-...</td>\n",
       "    </tr>\n",
       "    <tr>\n",
       "      <th>161</th>\n",
       "      <td>5.400000</td>\n",
       "      <td>[[-2505.9086179317164, 1484.0862918867497], [-...</td>\n",
       "    </tr>\n",
       "    <tr>\n",
       "      <th>162</th>\n",
       "      <td>5.433333</td>\n",
       "      <td>[[-2376.9245960300905, 1412.3128173547157], [-...</td>\n",
       "    </tr>\n",
       "    <tr>\n",
       "      <th>163</th>\n",
       "      <td>5.466667</td>\n",
       "      <td>[[-2376.9245960300905, 1412.3128173547157], [-...</td>\n",
       "    </tr>\n",
       "    <tr>\n",
       "      <th>164</th>\n",
       "      <td>5.500000</td>\n",
       "      <td>[[-2376.9245960300905, 1412.3128173547157], [-...</td>\n",
       "    </tr>\n",
       "    <tr>\n",
       "      <th>165</th>\n",
       "      <td>5.533333</td>\n",
       "      <td>[[-2247.9807337741076, 1340.6026681732037], [-...</td>\n",
       "    </tr>\n",
       "    <tr>\n",
       "      <th>166</th>\n",
       "      <td>5.566667</td>\n",
       "      <td>[[-2247.9807337741076, 1340.6026681732037], [-...</td>\n",
       "    </tr>\n",
       "    <tr>\n",
       "      <th>167</th>\n",
       "      <td>5.600000</td>\n",
       "      <td>[[-2247.9807337741076, 1340.6026681732037], [-...</td>\n",
       "    </tr>\n",
       "    <tr>\n",
       "      <th>168</th>\n",
       "      <td>5.633333</td>\n",
       "      <td>[[-2119.0743073285303, 1268.9574882451852], [-...</td>\n",
       "    </tr>\n",
       "    <tr>\n",
       "      <th>169</th>\n",
       "      <td>5.666667</td>\n",
       "      <td>[[-2119.0743073285303, 1268.9574882451852], [-...</td>\n",
       "    </tr>\n",
       "    <tr>\n",
       "      <th>170</th>\n",
       "      <td>5.700000</td>\n",
       "      <td>[[-2119.0743073285303, 1268.9574882451852], [-...</td>\n",
       "    </tr>\n",
       "    <tr>\n",
       "      <th>171</th>\n",
       "      <td>5.733333</td>\n",
       "      <td>[[-1990.2022403263181, 1197.3789517416299], [-...</td>\n",
       "    </tr>\n",
       "    <tr>\n",
       "      <th>172</th>\n",
       "      <td>5.766667</td>\n",
       "      <td>[[-1861.361076065452, 1125.868725903827], [-53...</td>\n",
       "    </tr>\n",
       "    <tr>\n",
       "      <th>173</th>\n",
       "      <td>5.800000</td>\n",
       "      <td>[[-1861.361076065452, 1125.868725903827], [-48...</td>\n",
       "    </tr>\n",
       "    <tr>\n",
       "      <th>174</th>\n",
       "      <td>5.833333</td>\n",
       "      <td>[[-1861.361076065452, 1125.868725903827], [-44...</td>\n",
       "    </tr>\n",
       "    <tr>\n",
       "      <th>175</th>\n",
       "      <td>5.866667</td>\n",
       "      <td>[[-1732.5469609017528, 1054.4284217446257], [-...</td>\n",
       "    </tr>\n",
       "    <tr>\n",
       "      <th>176</th>\n",
       "      <td>5.900000</td>\n",
       "      <td>[[-1732.5469609017528, 1054.4284217446257], [-...</td>\n",
       "    </tr>\n",
       "    <tr>\n",
       "      <th>177</th>\n",
       "      <td>5.933333</td>\n",
       "      <td>[[-1732.5469609017528, 1054.4284217446257], [-...</td>\n",
       "    </tr>\n",
       "    <tr>\n",
       "      <th>178</th>\n",
       "      <td>5.966667</td>\n",
       "      <td>[[-1603.7556461669847, 983.0595333154779], [-2...</td>\n",
       "    </tr>\n",
       "    <tr>\n",
       "      <th>179</th>\n",
       "      <td>6.000000</td>\n",
       "      <td>[[-1603.7556461669847, 983.0595333154779], [-2...</td>\n",
       "    </tr>\n",
       "    <tr>\n",
       "      <th>180</th>\n",
       "      <td>6.033333</td>\n",
       "      <td>[[-1603.7556461669847, 983.0595333154779], [-1...</td>\n",
       "    </tr>\n",
       "    <tr>\n",
       "      <th>181</th>\n",
       "      <td>6.066667</td>\n",
       "      <td>[[-1474.9825170437034, 911.7633689650975], [-1...</td>\n",
       "    </tr>\n",
       "    <tr>\n",
       "      <th>182</th>\n",
       "      <td>6.100000</td>\n",
       "      <td>[[-1474.9825170437034, 911.7633689650975], [-1...</td>\n",
       "    </tr>\n",
       "    <tr>\n",
       "      <th>183</th>\n",
       "      <td>6.133333</td>\n",
       "      <td>[[-1474.9825170437034, 911.7633689650975], [-5...</td>\n",
       "    </tr>\n",
       "    <tr>\n",
       "      <th>184</th>\n",
       "      <td>6.166667</td>\n",
       "      <td>[[-1346.2226563530749, 840.5409816826286], [-1...</td>\n",
       "    </tr>\n",
       "  </tbody>\n",
       "</table>\n",
       "</div>"
      ],
      "text/plain": [
       "           ts                                        o.cbdr_hist\n",
       "135  4.533333  [[-3539.4633034132894, 2060.3802271514287], [-...\n",
       "136  4.566667  [[-3539.4633034132894, 2060.3802271514287], [-...\n",
       "137  4.600000  [[-3539.4633034132894, 2060.3802271514287], [-...\n",
       "138  4.633333  [[-3410.0914211197633, 1988.1504561183392], [-...\n",
       "139  4.666667  [[-3410.0914211197633, 1988.1504561183392], [-...\n",
       "140  4.700000  [[-3410.0914211197633, 1988.1504561183392], [-...\n",
       "141  4.733333  [[-3280.772667749221, 1915.973617962518], [-18...\n",
       "142  4.766667  [[-3280.772667749221, 1915.973617962518], [-18...\n",
       "143  4.800000  [[-3280.772667749221, 1915.973617962518], [-18...\n",
       "144  4.833333  [[-3151.506019615248, 1843.8507198298903], [-1...\n",
       "145  4.866667  [[-3151.506019615248, 1843.8507198298903], [-1...\n",
       "146  4.900000  [[-3151.506019615248, 1843.8507198298903], [-1...\n",
       "147  4.933333  [[-3022.2903277932855, 1771.7828473701084], [-...\n",
       "148  4.966667  [[-3022.2903277932855, 1771.7828473701084], [-...\n",
       "149  5.000000  [[-3022.2903277932855, 1771.7828473701084], [-...\n",
       "150  5.033333  [[-2893.124299183557, 1699.7711691991426], [-1...\n",
       "151  5.066667  [[-2893.124299183557, 1699.7711691991426], [-1...\n",
       "152  5.100000  [[-2893.124299183557, 1699.7711691991426], [-1...\n",
       "153  5.133333  [[-2764.006474670856, 1627.8169403757784], [-1...\n",
       "154  5.166667  [[-2764.006474670856, 1627.8169403757784], [-1...\n",
       "155  5.200000  [[-2764.006474670856, 1627.8169403757784], [-1...\n",
       "156  5.233333  [[-2634.935204086647, 1555.921504274098], [-12...\n",
       "157  5.266667  [[-2634.935204086647, 1555.921504274098], [-12...\n",
       "158  5.300000  [[-2634.935204086647, 1555.921504274098], [-12...\n",
       "159  5.333333  [[-2505.9086179317164, 1484.0862918867497], [-...\n",
       "160  5.366667  [[-2505.9086179317164, 1484.0862918867497], [-...\n",
       "161  5.400000  [[-2505.9086179317164, 1484.0862918867497], [-...\n",
       "162  5.433333  [[-2376.9245960300905, 1412.3128173547157], [-...\n",
       "163  5.466667  [[-2376.9245960300905, 1412.3128173547157], [-...\n",
       "164  5.500000  [[-2376.9245960300905, 1412.3128173547157], [-...\n",
       "165  5.533333  [[-2247.9807337741076, 1340.6026681732037], [-...\n",
       "166  5.566667  [[-2247.9807337741076, 1340.6026681732037], [-...\n",
       "167  5.600000  [[-2247.9807337741076, 1340.6026681732037], [-...\n",
       "168  5.633333  [[-2119.0743073285303, 1268.9574882451852], [-...\n",
       "169  5.666667  [[-2119.0743073285303, 1268.9574882451852], [-...\n",
       "170  5.700000  [[-2119.0743073285303, 1268.9574882451852], [-...\n",
       "171  5.733333  [[-1990.2022403263181, 1197.3789517416299], [-...\n",
       "172  5.766667  [[-1861.361076065452, 1125.868725903827], [-53...\n",
       "173  5.800000  [[-1861.361076065452, 1125.868725903827], [-48...\n",
       "174  5.833333  [[-1861.361076065452, 1125.868725903827], [-44...\n",
       "175  5.866667  [[-1732.5469609017528, 1054.4284217446257], [-...\n",
       "176  5.900000  [[-1732.5469609017528, 1054.4284217446257], [-...\n",
       "177  5.933333  [[-1732.5469609017528, 1054.4284217446257], [-...\n",
       "178  5.966667  [[-1603.7556461669847, 983.0595333154779], [-2...\n",
       "179  6.000000  [[-1603.7556461669847, 983.0595333154779], [-2...\n",
       "180  6.033333  [[-1603.7556461669847, 983.0595333154779], [-1...\n",
       "181  6.066667  [[-1474.9825170437034, 911.7633689650975], [-1...\n",
       "182  6.100000  [[-1474.9825170437034, 911.7633689650975], [-1...\n",
       "183  6.133333  [[-1474.9825170437034, 911.7633689650975], [-5...\n",
       "184  6.166667  [[-1346.2226563530749, 840.5409816826286], [-1..."
      ]
     },
     "execution_count": 36,
     "metadata": {},
     "output_type": "execute_result"
    }
   ],
   "source": [
    "df[[\"ts\",\"o.cbdr_hist\"]].tail(50)"
   ]
  },
  {
   "cell_type": "code",
   "execution_count": 37,
   "id": "9c947c36",
   "metadata": {},
   "outputs": [
    {
     "data": {
      "application/vnd.jupyter.widget-view+json": {
       "model_id": "29728576a2ca48c5b329e3611869e453",
       "version_major": 2,
       "version_minor": 0
      },
      "text/plain": [
       "interactive(children=(FloatSlider(value=6.13333333333332, continuous_update=False, description='hist_length', …"
      ]
     },
     "metadata": {},
     "output_type": "display_data"
    },
    {
     "data": {
      "text/plain": [
       "<function __main__.plot_num_coalesced_threats(hist_length, max_time)>"
      ]
     },
     "execution_count": 37,
     "metadata": {},
     "output_type": "execute_result"
    }
   ],
   "source": [
    "def plot_num_coalesced_threats(hist_length, max_time):\n",
    "    sample = df[(df[\"ts\"] >= max_time-hist_length) & (df[\"ts\"] <= max_time)]\n",
    "    plt.scatter(sample[\"ts\"], sample[\"o.ct_ct\"])\n",
    "    plt.title(\"number of coalesced threats\")\n",
    "    plt.show()\n",
    "\n",
    "ipywidgets.interact(\n",
    "    plot_num_coalesced_threats,\n",
    "    hist_length=ipywidgets.FloatSlider(value=15, min=0, max=df[\"ts\"].max()-df[\"ts\"].min(), continuous_update=False),\n",
    "    max_time=ipywidgets.FloatSlider(value=df[\"ts\"].max(), min=df[\"ts\"].min(), max=df[\"ts\"].max()+.1, continuous_update=False)\n",
    ")  "
   ]
  },
  {
   "cell_type": "code",
   "execution_count": 38,
   "id": "91227c9a",
   "metadata": {},
   "outputs": [
    {
     "data": {
      "application/vnd.jupyter.widget-view+json": {
       "model_id": "1b909b571479410593316c1739537fc0",
       "version_major": 2,
       "version_minor": 0
      },
      "text/plain": [
       "interactive(children=(FloatSlider(value=6.13333333333332, continuous_update=False, description='hist_length', …"
      ]
     },
     "metadata": {},
     "output_type": "display_data"
    },
    {
     "data": {
      "text/plain": [
       "<function __main__.plot_collision_threat_radius(hist_length, max_time)>"
      ]
     },
     "execution_count": 38,
     "metadata": {},
     "output_type": "execute_result"
    }
   ],
   "source": [
    "def plot_collision_threat_radius(hist_length, max_time):\n",
    "    sample = df[(df[\"ts\"] >= max_time - hist_length) & (df[\"ts\"] <= max_time)]\n",
    "    plt.scatter(sample[\"ts\"], sample[\"o.ct_cradius\"], label=\"threat radius\")\n",
    "    plt.scatter(sample[\"ts\"], sample[\"o.scm\"]+sample[\"o.ct_mh\"], label=\"desired margin\")\n",
    "    plt.title(\"collision threat radius\")\n",
    "    plt.legend()\n",
    "    print(f'min coalesced radius: {sample[\"o.ct_cradius\"].min()}')\n",
    "    print(f'min scaled margin: {sample[\"o.scm\"].min()}')\n",
    "    plt.show()\n",
    "\n",
    "ipywidgets.interact(\n",
    "    plot_collision_threat_radius,\n",
    "    hist_length=ipywidgets.FloatSlider(value=15, min=0, max=df[\"ts\"].max()-df[\"ts\"].min(), continuous_update=False),\n",
    "    max_time=ipywidgets.FloatSlider(value=df[\"ts\"].max(), min=df[\"ts\"].min(), max=df[\"ts\"].max()+.1, continuous_update=False))"
   ]
  },
  {
   "cell_type": "code",
   "execution_count": 39,
   "id": "10290387",
   "metadata": {},
   "outputs": [
    {
     "data": {
      "application/vnd.jupyter.widget-view+json": {
       "model_id": "45c56830609a43b982f82fda7e8bf56d",
       "version_major": 2,
       "version_minor": 0
      },
      "text/plain": [
       "interactive(children=(FloatSlider(value=6.13333333333332, continuous_update=False, description='hist_length', …"
      ]
     },
     "metadata": {},
     "output_type": "display_data"
    },
    {
     "data": {
      "text/plain": [
       "<function __main__.plot_collision_threat_loc(hist_length, max_time)>"
      ]
     },
     "execution_count": 39,
     "metadata": {},
     "output_type": "execute_result"
    }
   ],
   "source": [
    "def plot_collision_threat_loc(hist_length, max_time):\n",
    "    sample = df[(df[\"ts\"] >= max_time - hist_length) & (df[\"ts\"] <= max_time)]\n",
    "    fig, ax1 = plt.subplots()\n",
    "    ax2 = ax1.twinx()\n",
    "    ax1.scatter(sample[\"ts\"], sample[\"o.ct_cloc.x\"])\n",
    "    ax2.scatter(sample[\"ts\"], sample[\"o.ct_cloc.y\"], color=\"orange\")\n",
    "    plt.title(\"collision threat coalesced location\")\n",
    "    plt.show()\n",
    "\n",
    "ipywidgets.interact(\n",
    "    plot_collision_threat_loc,\n",
    "    hist_length=ipywidgets.FloatSlider(value=15, min=0, max=df[\"ts\"].max()-df[\"ts\"].min(), continuous_update=False),\n",
    "    max_time=ipywidgets.FloatSlider(value=df[\"ts\"].max(), min=df[\"ts\"].min(), max=df[\"ts\"].max()+.1, continuous_update=False))"
   ]
  },
  {
   "cell_type": "code",
   "execution_count": 40,
   "id": "88757cdd",
   "metadata": {},
   "outputs": [
    {
     "data": {
      "text/html": [
       "<div>\n",
       "<style scoped>\n",
       "    .dataframe tbody tr th:only-of-type {\n",
       "        vertical-align: middle;\n",
       "    }\n",
       "\n",
       "    .dataframe tbody tr th {\n",
       "        vertical-align: top;\n",
       "    }\n",
       "\n",
       "    .dataframe thead th {\n",
       "        text-align: right;\n",
       "    }\n",
       "</style>\n",
       "<table border=\"1\" class=\"dataframe\">\n",
       "  <thead>\n",
       "    <tr style=\"text-align: right;\">\n",
       "      <th></th>\n",
       "      <th>index</th>\n",
       "      <th>p</th>\n",
       "      <th>eid</th>\n",
       "      <th>ts</th>\n",
       "      <th>loc</th>\n",
       "      <th>r</th>\n",
       "      <th>a</th>\n",
       "      <th>v</th>\n",
       "      <th>av</th>\n",
       "      <th>f</th>\n",
       "      <th>...</th>\n",
       "      <th>angle.y</th>\n",
       "      <th>_ada.x</th>\n",
       "      <th>_ada.y</th>\n",
       "      <th>o.ct_dist</th>\n",
       "      <th>o.t_dist</th>\n",
       "      <th>o.max_speed_cap</th>\n",
       "      <th>speed</th>\n",
       "      <th>o.t_speed</th>\n",
       "      <th>o._dv_speed</th>\n",
       "      <th>f_mag</th>\n",
       "    </tr>\n",
       "  </thead>\n",
       "  <tbody>\n",
       "    <tr>\n",
       "      <th>52</th>\n",
       "      <td>3346</td>\n",
       "      <td>SHP</td>\n",
       "      <td>28ce5698-a1bf-43df-89f6-0f0b07ee957e</td>\n",
       "      <td>1.766667</td>\n",
       "      <td>[-16374.748046875, 65342.15234375]</td>\n",
       "      <td>30</td>\n",
       "      <td>6.556312</td>\n",
       "      <td>[-1320.5865478515625, 719.1691284179688]</td>\n",
       "      <td>-1.500000</td>\n",
       "      <td>[198380.78154190895, 25398.139987436076]</td>\n",
       "      <td>...</td>\n",
       "      <td>26.974322</td>\n",
       "      <td>100.0</td>\n",
       "      <td>0.0</td>\n",
       "      <td>1470.397854</td>\n",
       "      <td>110566.958932</td>\n",
       "      <td>427.502517</td>\n",
       "      <td>1503.713093</td>\n",
       "      <td>424.912289</td>\n",
       "      <td>1.406642e+03</td>\n",
       "      <td>200000.0</td>\n",
       "    </tr>\n",
       "    <tr>\n",
       "      <th>55</th>\n",
       "      <td>3349</td>\n",
       "      <td>SHP</td>\n",
       "      <td>28ce5698-a1bf-43df-89f6-0f0b07ee957e</td>\n",
       "      <td>1.866667</td>\n",
       "      <td>[-16506.4765625, 65414.109375]</td>\n",
       "      <td>30</td>\n",
       "      <td>6.416312</td>\n",
       "      <td>[-1310.6676025390625, 720.4390869140625]</td>\n",
       "      <td>-1.200000</td>\n",
       "      <td>[14179.942273968534, -4891.751946585205]</td>\n",
       "      <td>...</td>\n",
       "      <td>13.273347</td>\n",
       "      <td>100.0</td>\n",
       "      <td>0.0</td>\n",
       "      <td>1032.350999</td>\n",
       "      <td>110417.272704</td>\n",
       "      <td>338.433104</td>\n",
       "      <td>1495.620955</td>\n",
       "      <td>336.382555</td>\n",
       "      <td>3.197235e+09</td>\n",
       "      <td>15000.0</td>\n",
       "    </tr>\n",
       "    <tr>\n",
       "      <th>56</th>\n",
       "      <td>3350</td>\n",
       "      <td>SHP</td>\n",
       "      <td>28ce5698-a1bf-43df-89f6-0f0b07ee957e</td>\n",
       "      <td>1.900000</td>\n",
       "      <td>[-16550.166015625, 65438.125]</td>\n",
       "      <td>30</td>\n",
       "      <td>6.376312</td>\n",
       "      <td>[-1310.4312744140625, 720.3575439453125]</td>\n",
       "      <td>-1.299635</td>\n",
       "      <td>[196659.02822701726, 36403.66213453299]</td>\n",
       "      <td>...</td>\n",
       "      <td>9.299179</td>\n",
       "      <td>100.0</td>\n",
       "      <td>0.0</td>\n",
       "      <td>1271.763880</td>\n",
       "      <td>110367.546014</td>\n",
       "      <td>250.272402</td>\n",
       "      <td>1495.374574</td>\n",
       "      <td>248.756010</td>\n",
       "      <td>1.411088e+03</td>\n",
       "      <td>200000.0</td>\n",
       "    </tr>\n",
       "    <tr>\n",
       "      <th>86</th>\n",
       "      <td>3380</td>\n",
       "      <td>SHP</td>\n",
       "      <td>28ce5698-a1bf-43df-89f6-0f0b07ee957e</td>\n",
       "      <td>2.900000</td>\n",
       "      <td>[-17848.626953125, 66160.96875]</td>\n",
       "      <td>30</td>\n",
       "      <td>6.526677</td>\n",
       "      <td>[-1294.8721923828125, 724.719482421875]</td>\n",
       "      <td>1.700365</td>\n",
       "      <td>[11422.656389229036, -9722.289905860915]</td>\n",
       "      <td>...</td>\n",
       "      <td>24.109235</td>\n",
       "      <td>100.0</td>\n",
       "      <td>0.0</td>\n",
       "      <td>4886.267081</td>\n",
       "      <td>108884.762677</td>\n",
       "      <td>100.609589</td>\n",
       "      <td>1483.884201</td>\n",
       "      <td>100.000002</td>\n",
       "      <td>1.154824e+03</td>\n",
       "      <td>15000.0</td>\n",
       "    </tr>\n",
       "    <tr>\n",
       "      <th>92</th>\n",
       "      <td>3386</td>\n",
       "      <td>SHP</td>\n",
       "      <td>28ce5698-a1bf-43df-89f6-0f0b07ee957e</td>\n",
       "      <td>3.100000</td>\n",
       "      <td>[-18107.51171875, 66305.8203125]</td>\n",
       "      <td>30</td>\n",
       "      <td>6.816750</td>\n",
       "      <td>[-1293.87060546875, 723.619140625]</td>\n",
       "      <td>1.100365</td>\n",
       "      <td>[-11216.654827809374, 9959.249694318376]</td>\n",
       "      <td>...</td>\n",
       "      <td>50.860539</td>\n",
       "      <td>100.0</td>\n",
       "      <td>0.0</td>\n",
       "      <td>835.972264</td>\n",
       "      <td>108588.740370</td>\n",
       "      <td>102.460743</td>\n",
       "      <td>1482.472868</td>\n",
       "      <td>101.839940</td>\n",
       "      <td>2.096573e+09</td>\n",
       "      <td>15000.0</td>\n",
       "    </tr>\n",
       "    <tr>\n",
       "      <th>95</th>\n",
       "      <td>3389</td>\n",
       "      <td>SHP</td>\n",
       "      <td>28ce5698-a1bf-43df-89f6-0f0b07ee957e</td>\n",
       "      <td>3.200000</td>\n",
       "      <td>[-18236.916015625, 66378.203125]</td>\n",
       "      <td>30</td>\n",
       "      <td>6.936786</td>\n",
       "      <td>[-1294.4315185546875, 724.1171264648438]</td>\n",
       "      <td>1.400365</td>\n",
       "      <td>[4354.831949675755, -14353.934606583773]</td>\n",
       "      <td>...</td>\n",
       "      <td>60.804898</td>\n",
       "      <td>100.0</td>\n",
       "      <td>0.0</td>\n",
       "      <td>4441.391038</td>\n",
       "      <td>108440.785848</td>\n",
       "      <td>104.345956</td>\n",
       "      <td>1483.205505</td>\n",
       "      <td>103.713726</td>\n",
       "      <td>1.188779e+03</td>\n",
       "      <td>15000.0</td>\n",
       "    </tr>\n",
       "    <tr>\n",
       "      <th>101</th>\n",
       "      <td>3395</td>\n",
       "      <td>SHP</td>\n",
       "      <td>28ce5698-a1bf-43df-89f6-0f0b07ee957e</td>\n",
       "      <td>3.400000</td>\n",
       "      <td>[-18495.76953125, 66522.90625]</td>\n",
       "      <td>30</td>\n",
       "      <td>7.166859</td>\n",
       "      <td>[-1294.0555419921875, 722.666259765625]</td>\n",
       "      <td>0.800365</td>\n",
       "      <td>[9515.91215472281, -11595.146220018043]</td>\n",
       "      <td>...</td>\n",
       "      <td>77.307441</td>\n",
       "      <td>100.0</td>\n",
       "      <td>0.0</td>\n",
       "      <td>4540.347678</td>\n",
       "      <td>108144.875764</td>\n",
       "      <td>108.221082</td>\n",
       "      <td>1482.169447</td>\n",
       "      <td>107.565378</td>\n",
       "      <td>1.439689e+03</td>\n",
       "      <td>15000.0</td>\n",
       "    </tr>\n",
       "    <tr>\n",
       "      <th>102</th>\n",
       "      <td>3396</td>\n",
       "      <td>SHP</td>\n",
       "      <td>28ce5698-a1bf-43df-89f6-0f0b07ee957e</td>\n",
       "      <td>3.433333</td>\n",
       "      <td>[-18538.904296875, 66546.9921875]</td>\n",
       "      <td>30</td>\n",
       "      <td>7.193538</td>\n",
       "      <td>[-1293.89697265625, 722.4730224609375]</td>\n",
       "      <td>0.700365</td>\n",
       "      <td>[10691.379613421317, -10521.14071580259]</td>\n",
       "      <td>...</td>\n",
       "      <td>78.972009</td>\n",
       "      <td>100.0</td>\n",
       "      <td>0.0</td>\n",
       "      <td>4095.482253</td>\n",
       "      <td>108095.581055</td>\n",
       "      <td>108.880786</td>\n",
       "      <td>1481.936788</td>\n",
       "      <td>108.221081</td>\n",
       "      <td>1.205834e+03</td>\n",
       "      <td>15000.0</td>\n",
       "    </tr>\n",
       "  </tbody>\n",
       "</table>\n",
       "<p>8 rows × 73 columns</p>\n",
       "</div>"
      ],
      "text/plain": [
       "     index    p                                   eid        ts  \\\n",
       "52    3346  SHP  28ce5698-a1bf-43df-89f6-0f0b07ee957e  1.766667   \n",
       "55    3349  SHP  28ce5698-a1bf-43df-89f6-0f0b07ee957e  1.866667   \n",
       "56    3350  SHP  28ce5698-a1bf-43df-89f6-0f0b07ee957e  1.900000   \n",
       "86    3380  SHP  28ce5698-a1bf-43df-89f6-0f0b07ee957e  2.900000   \n",
       "92    3386  SHP  28ce5698-a1bf-43df-89f6-0f0b07ee957e  3.100000   \n",
       "95    3389  SHP  28ce5698-a1bf-43df-89f6-0f0b07ee957e  3.200000   \n",
       "101   3395  SHP  28ce5698-a1bf-43df-89f6-0f0b07ee957e  3.400000   \n",
       "102   3396  SHP  28ce5698-a1bf-43df-89f6-0f0b07ee957e  3.433333   \n",
       "\n",
       "                                    loc   r         a  \\\n",
       "52   [-16374.748046875, 65342.15234375]  30  6.556312   \n",
       "55       [-16506.4765625, 65414.109375]  30  6.416312   \n",
       "56        [-16550.166015625, 65438.125]  30  6.376312   \n",
       "86      [-17848.626953125, 66160.96875]  30  6.526677   \n",
       "92     [-18107.51171875, 66305.8203125]  30  6.816750   \n",
       "95     [-18236.916015625, 66378.203125]  30  6.936786   \n",
       "101      [-18495.76953125, 66522.90625]  30  7.166859   \n",
       "102   [-18538.904296875, 66546.9921875]  30  7.193538   \n",
       "\n",
       "                                            v        av  \\\n",
       "52   [-1320.5865478515625, 719.1691284179688] -1.500000   \n",
       "55   [-1310.6676025390625, 720.4390869140625] -1.200000   \n",
       "56   [-1310.4312744140625, 720.3575439453125] -1.299635   \n",
       "86    [-1294.8721923828125, 724.719482421875]  1.700365   \n",
       "92         [-1293.87060546875, 723.619140625]  1.100365   \n",
       "95   [-1294.4315185546875, 724.1171264648438]  1.400365   \n",
       "101   [-1294.0555419921875, 722.666259765625]  0.800365   \n",
       "102    [-1293.89697265625, 722.4730224609375]  0.700365   \n",
       "\n",
       "                                            f  ...    angle.y _ada.x _ada.y  \\\n",
       "52   [198380.78154190895, 25398.139987436076]  ...  26.974322  100.0    0.0   \n",
       "55   [14179.942273968534, -4891.751946585205]  ...  13.273347  100.0    0.0   \n",
       "56    [196659.02822701726, 36403.66213453299]  ...   9.299179  100.0    0.0   \n",
       "86   [11422.656389229036, -9722.289905860915]  ...  24.109235  100.0    0.0   \n",
       "92   [-11216.654827809374, 9959.249694318376]  ...  50.860539  100.0    0.0   \n",
       "95   [4354.831949675755, -14353.934606583773]  ...  60.804898  100.0    0.0   \n",
       "101   [9515.91215472281, -11595.146220018043]  ...  77.307441  100.0    0.0   \n",
       "102  [10691.379613421317, -10521.14071580259]  ...  78.972009  100.0    0.0   \n",
       "\n",
       "       o.ct_dist       o.t_dist  o.max_speed_cap        speed   o.t_speed  \\\n",
       "52   1470.397854  110566.958932       427.502517  1503.713093  424.912289   \n",
       "55   1032.350999  110417.272704       338.433104  1495.620955  336.382555   \n",
       "56   1271.763880  110367.546014       250.272402  1495.374574  248.756010   \n",
       "86   4886.267081  108884.762677       100.609589  1483.884201  100.000002   \n",
       "92    835.972264  108588.740370       102.460743  1482.472868  101.839940   \n",
       "95   4441.391038  108440.785848       104.345956  1483.205505  103.713726   \n",
       "101  4540.347678  108144.875764       108.221082  1482.169447  107.565378   \n",
       "102  4095.482253  108095.581055       108.880786  1481.936788  108.221081   \n",
       "\n",
       "      o._dv_speed     f_mag  \n",
       "52   1.406642e+03  200000.0  \n",
       "55   3.197235e+09   15000.0  \n",
       "56   1.411088e+03  200000.0  \n",
       "86   1.154824e+03   15000.0  \n",
       "92   2.096573e+09   15000.0  \n",
       "95   1.188779e+03   15000.0  \n",
       "101  1.439689e+03   15000.0  \n",
       "102  1.205834e+03   15000.0  \n",
       "\n",
       "[8 rows x 73 columns]"
      ]
     },
     "execution_count": 40,
     "metadata": {},
     "output_type": "execute_result"
    }
   ],
   "source": [
    "df[(df[\"o.ct_cloc.x\"]-df[\"o.ct_cloc.x\"].shift(1)).abs() > 30]"
   ]
  },
  {
   "cell_type": "code",
   "execution_count": 41,
   "id": "a5619e23",
   "metadata": {},
   "outputs": [
    {
     "data": {
      "text/plain": [
       "52      500.566406\n",
       "55      250.283203\n",
       "56      250.283203\n",
       "86     4345.697266\n",
       "92     4595.980469\n",
       "95     4595.980469\n",
       "101     265.109375\n",
       "102     265.109375\n",
       "Name: o.ct_cloc.x, dtype: float64"
      ]
     },
     "execution_count": 41,
     "metadata": {},
     "output_type": "execute_result"
    }
   ],
   "source": [
    "ctxloc_diff_s = (df[\"o.ct_cloc.x\"]-df[\"o.ct_cloc.x\"].shift(1)).abs()\n",
    "ctxloc_diff_s[ctxloc_diff_s > 30]"
   ]
  },
  {
   "cell_type": "code",
   "execution_count": 42,
   "id": "5e817d73",
   "metadata": {},
   "outputs": [
    {
     "data": {
      "application/vnd.jupyter.widget-view+json": {
       "model_id": "ff388388f3fe451183cbc98c5fb19944",
       "version_major": 2,
       "version_minor": 0
      },
      "text/plain": [
       "interactive(children=(FloatSlider(value=6.13333333333332, continuous_update=False, description='hist_length', …"
      ]
     },
     "metadata": {},
     "output_type": "display_data"
    },
    {
     "data": {
      "text/plain": [
       "<function __main__.plot_collision_dv(hist_length, max_time)>"
      ]
     },
     "execution_count": 42,
     "metadata": {},
     "output_type": "execute_result"
    }
   ],
   "source": [
    "def plot_collision_dv(hist_length, max_time):\n",
    "    sample = df[(df[\"ts\"] >= max_time - hist_length) & (df[\"ts\"] <= max_time)]\n",
    "    plt.scatter(sample[\"ts\"], sample[\"o.ct_dv.x\"])\n",
    "    plt.scatter(sample[\"ts\"], sample[\"o.ct_dv.y\"])\n",
    "    plt.title(\"collision avoidance velocity\")\n",
    "\n",
    "ipywidgets.interact(\n",
    "    plot_collision_dv,\n",
    "    hist_length=ipywidgets.FloatSlider(value=15, min=0, max=df[\"ts\"].max()-df[\"ts\"].min(), continuous_update=False),\n",
    "    max_time=ipywidgets.FloatSlider(value=df[\"ts\"].max(), min=df[\"ts\"].min(), max=df[\"ts\"].max()+.1, continuous_update=False))"
   ]
  },
  {
   "cell_type": "code",
   "execution_count": 43,
   "id": "7f11097b",
   "metadata": {},
   "outputs": [
    {
     "data": {
      "text/html": [
       "<div>\n",
       "<style scoped>\n",
       "    .dataframe tbody tr th:only-of-type {\n",
       "        vertical-align: middle;\n",
       "    }\n",
       "\n",
       "    .dataframe tbody tr th {\n",
       "        vertical-align: top;\n",
       "    }\n",
       "\n",
       "    .dataframe thead th {\n",
       "        text-align: right;\n",
       "    }\n",
       "</style>\n",
       "<table border=\"1\" class=\"dataframe\">\n",
       "  <thead>\n",
       "    <tr style=\"text-align: right;\">\n",
       "      <th></th>\n",
       "      <th>index</th>\n",
       "      <th>p</th>\n",
       "      <th>eid</th>\n",
       "      <th>ts</th>\n",
       "      <th>loc</th>\n",
       "      <th>r</th>\n",
       "      <th>a</th>\n",
       "      <th>v</th>\n",
       "      <th>av</th>\n",
       "      <th>f</th>\n",
       "      <th>...</th>\n",
       "      <th>angle.y</th>\n",
       "      <th>_ada.x</th>\n",
       "      <th>_ada.y</th>\n",
       "      <th>o.ct_dist</th>\n",
       "      <th>o.t_dist</th>\n",
       "      <th>o.max_speed_cap</th>\n",
       "      <th>speed</th>\n",
       "      <th>o.t_speed</th>\n",
       "      <th>o._dv_speed</th>\n",
       "      <th>f_mag</th>\n",
       "    </tr>\n",
       "  </thead>\n",
       "  <tbody>\n",
       "    <tr>\n",
       "      <th>55</th>\n",
       "      <td>3349</td>\n",
       "      <td>SHP</td>\n",
       "      <td>28ce5698-a1bf-43df-89f6-0f0b07ee957e</td>\n",
       "      <td>1.866667</td>\n",
       "      <td>[-16506.4765625, 65414.109375]</td>\n",
       "      <td>30</td>\n",
       "      <td>6.416312</td>\n",
       "      <td>[-1310.6676025390625, 720.4390869140625]</td>\n",
       "      <td>-1.200000</td>\n",
       "      <td>[14179.942273968534, -4891.751946585205]</td>\n",
       "      <td>...</td>\n",
       "      <td>13.273347</td>\n",
       "      <td>100.0</td>\n",
       "      <td>0.0</td>\n",
       "      <td>1032.350999</td>\n",
       "      <td>110417.272704</td>\n",
       "      <td>338.433104</td>\n",
       "      <td>1495.620955</td>\n",
       "      <td>336.382555</td>\n",
       "      <td>3.197235e+09</td>\n",
       "      <td>15000.0</td>\n",
       "    </tr>\n",
       "    <tr>\n",
       "      <th>56</th>\n",
       "      <td>3350</td>\n",
       "      <td>SHP</td>\n",
       "      <td>28ce5698-a1bf-43df-89f6-0f0b07ee957e</td>\n",
       "      <td>1.900000</td>\n",
       "      <td>[-16550.166015625, 65438.125]</td>\n",
       "      <td>30</td>\n",
       "      <td>6.376312</td>\n",
       "      <td>[-1310.4312744140625, 720.3575439453125]</td>\n",
       "      <td>-1.299635</td>\n",
       "      <td>[196659.02822701726, 36403.66213453299]</td>\n",
       "      <td>...</td>\n",
       "      <td>9.299179</td>\n",
       "      <td>100.0</td>\n",
       "      <td>0.0</td>\n",
       "      <td>1271.763880</td>\n",
       "      <td>110367.546014</td>\n",
       "      <td>250.272402</td>\n",
       "      <td>1495.374574</td>\n",
       "      <td>248.756010</td>\n",
       "      <td>1.411088e+03</td>\n",
       "      <td>200000.0</td>\n",
       "    </tr>\n",
       "    <tr>\n",
       "      <th>80</th>\n",
       "      <td>3374</td>\n",
       "      <td>SHP</td>\n",
       "      <td>28ce5698-a1bf-43df-89f6-0f0b07ee957e</td>\n",
       "      <td>2.700000</td>\n",
       "      <td>[-17589.603515625, 66016.1796875]</td>\n",
       "      <td>30</td>\n",
       "      <td>6.256604</td>\n",
       "      <td>[-1295.522216796875, 723.5143432617188]</td>\n",
       "      <td>1.100365</td>\n",
       "      <td>[11891.213321485564, 9143.251376995178]</td>\n",
       "      <td>...</td>\n",
       "      <td>-2.657863</td>\n",
       "      <td>100.0</td>\n",
       "      <td>0.0</td>\n",
       "      <td>180.470816</td>\n",
       "      <td>109180.870780</td>\n",
       "      <td>100.609589</td>\n",
       "      <td>1483.863477</td>\n",
       "      <td>100.000004</td>\n",
       "      <td>9.770648e+07</td>\n",
       "      <td>15000.0</td>\n",
       "    </tr>\n",
       "    <tr>\n",
       "      <th>83</th>\n",
       "      <td>3377</td>\n",
       "      <td>SHP</td>\n",
       "      <td>28ce5698-a1bf-43df-89f6-0f0b07ee957e</td>\n",
       "      <td>2.800000</td>\n",
       "      <td>[-17719.13671875, 66088.546875]</td>\n",
       "      <td>30</td>\n",
       "      <td>6.376640</td>\n",
       "      <td>[-1294.927734375, 723.9714965820312]</td>\n",
       "      <td>1.400365</td>\n",
       "      <td>[1110.1038349260311, 14958.865915425624]</td>\n",
       "      <td>...</td>\n",
       "      <td>9.331876</td>\n",
       "      <td>100.0</td>\n",
       "      <td>0.0</td>\n",
       "      <td>182.876429</td>\n",
       "      <td>109032.813144</td>\n",
       "      <td>100.609589</td>\n",
       "      <td>1483.567513</td>\n",
       "      <td>99.999999</td>\n",
       "      <td>1.003282e+08</td>\n",
       "      <td>15000.0</td>\n",
       "    </tr>\n",
       "    <tr>\n",
       "      <th>86</th>\n",
       "      <td>3380</td>\n",
       "      <td>SHP</td>\n",
       "      <td>28ce5698-a1bf-43df-89f6-0f0b07ee957e</td>\n",
       "      <td>2.900000</td>\n",
       "      <td>[-17848.626953125, 66160.96875]</td>\n",
       "      <td>30</td>\n",
       "      <td>6.526677</td>\n",
       "      <td>[-1294.8721923828125, 724.719482421875]</td>\n",
       "      <td>1.700365</td>\n",
       "      <td>[11422.656389229036, -9722.289905860915]</td>\n",
       "      <td>...</td>\n",
       "      <td>24.109235</td>\n",
       "      <td>100.0</td>\n",
       "      <td>0.0</td>\n",
       "      <td>4886.267081</td>\n",
       "      <td>108884.762677</td>\n",
       "      <td>100.609589</td>\n",
       "      <td>1483.884201</td>\n",
       "      <td>100.000002</td>\n",
       "      <td>1.154824e+03</td>\n",
       "      <td>15000.0</td>\n",
       "    </tr>\n",
       "    <tr>\n",
       "      <th>92</th>\n",
       "      <td>3386</td>\n",
       "      <td>SHP</td>\n",
       "      <td>28ce5698-a1bf-43df-89f6-0f0b07ee957e</td>\n",
       "      <td>3.100000</td>\n",
       "      <td>[-18107.51171875, 66305.8203125]</td>\n",
       "      <td>30</td>\n",
       "      <td>6.816750</td>\n",
       "      <td>[-1293.87060546875, 723.619140625]</td>\n",
       "      <td>1.100365</td>\n",
       "      <td>[-11216.654827809374, 9959.249694318376]</td>\n",
       "      <td>...</td>\n",
       "      <td>50.860539</td>\n",
       "      <td>100.0</td>\n",
       "      <td>0.0</td>\n",
       "      <td>835.972264</td>\n",
       "      <td>108588.740370</td>\n",
       "      <td>102.460743</td>\n",
       "      <td>1482.472868</td>\n",
       "      <td>101.839940</td>\n",
       "      <td>2.096573e+09</td>\n",
       "      <td>15000.0</td>\n",
       "    </tr>\n",
       "    <tr>\n",
       "      <th>95</th>\n",
       "      <td>3389</td>\n",
       "      <td>SHP</td>\n",
       "      <td>28ce5698-a1bf-43df-89f6-0f0b07ee957e</td>\n",
       "      <td>3.200000</td>\n",
       "      <td>[-18236.916015625, 66378.203125]</td>\n",
       "      <td>30</td>\n",
       "      <td>6.936786</td>\n",
       "      <td>[-1294.4315185546875, 724.1171264648438]</td>\n",
       "      <td>1.400365</td>\n",
       "      <td>[4354.831949675755, -14353.934606583773]</td>\n",
       "      <td>...</td>\n",
       "      <td>60.804898</td>\n",
       "      <td>100.0</td>\n",
       "      <td>0.0</td>\n",
       "      <td>4441.391038</td>\n",
       "      <td>108440.785848</td>\n",
       "      <td>104.345956</td>\n",
       "      <td>1483.205505</td>\n",
       "      <td>103.713726</td>\n",
       "      <td>1.188779e+03</td>\n",
       "      <td>15000.0</td>\n",
       "    </tr>\n",
       "    <tr>\n",
       "      <th>101</th>\n",
       "      <td>3395</td>\n",
       "      <td>SHP</td>\n",
       "      <td>28ce5698-a1bf-43df-89f6-0f0b07ee957e</td>\n",
       "      <td>3.400000</td>\n",
       "      <td>[-18495.76953125, 66522.90625]</td>\n",
       "      <td>30</td>\n",
       "      <td>7.166859</td>\n",
       "      <td>[-1294.0555419921875, 722.666259765625]</td>\n",
       "      <td>0.800365</td>\n",
       "      <td>[9515.91215472281, -11595.146220018043]</td>\n",
       "      <td>...</td>\n",
       "      <td>77.307441</td>\n",
       "      <td>100.0</td>\n",
       "      <td>0.0</td>\n",
       "      <td>4540.347678</td>\n",
       "      <td>108144.875764</td>\n",
       "      <td>108.221082</td>\n",
       "      <td>1482.169447</td>\n",
       "      <td>107.565378</td>\n",
       "      <td>1.439689e+03</td>\n",
       "      <td>15000.0</td>\n",
       "    </tr>\n",
       "    <tr>\n",
       "      <th>102</th>\n",
       "      <td>3396</td>\n",
       "      <td>SHP</td>\n",
       "      <td>28ce5698-a1bf-43df-89f6-0f0b07ee957e</td>\n",
       "      <td>3.433333</td>\n",
       "      <td>[-18538.904296875, 66546.9921875]</td>\n",
       "      <td>30</td>\n",
       "      <td>7.193538</td>\n",
       "      <td>[-1293.89697265625, 722.4730224609375]</td>\n",
       "      <td>0.700365</td>\n",
       "      <td>[10691.379613421317, -10521.14071580259]</td>\n",
       "      <td>...</td>\n",
       "      <td>78.972009</td>\n",
       "      <td>100.0</td>\n",
       "      <td>0.0</td>\n",
       "      <td>4095.482253</td>\n",
       "      <td>108095.581055</td>\n",
       "      <td>108.880786</td>\n",
       "      <td>1481.936788</td>\n",
       "      <td>108.221081</td>\n",
       "      <td>1.205834e+03</td>\n",
       "      <td>15000.0</td>\n",
       "    </tr>\n",
       "    <tr>\n",
       "      <th>171</th>\n",
       "      <td>3465</td>\n",
       "      <td>SHP</td>\n",
       "      <td>28ce5698-a1bf-43df-89f6-0f0b07ee957e</td>\n",
       "      <td>5.733333</td>\n",
       "      <td>[-21504.705078125, 68192.6015625]</td>\n",
       "      <td>30</td>\n",
       "      <td>4.648770</td>\n",
       "      <td>[-1287.9417724609375, 707.2686767578125]</td>\n",
       "      <td>-0.697931</td>\n",
       "      <td>[12082.589133191334, 8888.815435055825]</td>\n",
       "      <td>...</td>\n",
       "      <td>-99.797697</td>\n",
       "      <td>100.0</td>\n",
       "      <td>0.0</td>\n",
       "      <td>707.901985</td>\n",
       "      <td>104712.203564</td>\n",
       "      <td>165.602967</td>\n",
       "      <td>1469.361423</td>\n",
       "      <td>164.599584</td>\n",
       "      <td>1.428916e+03</td>\n",
       "      <td>15000.0</td>\n",
       "    </tr>\n",
       "    <tr>\n",
       "      <th>178</th>\n",
       "      <td>3472</td>\n",
       "      <td>SHP</td>\n",
       "      <td>28ce5698-a1bf-43df-89f6-0f0b07ee957e</td>\n",
       "      <td>5.966667</td>\n",
       "      <td>[-21805.080078125, 68357.7265625]</td>\n",
       "      <td>30</td>\n",
       "      <td>4.555919</td>\n",
       "      <td>[-1286.4349365234375, 708.1455688476562]</td>\n",
       "      <td>0.002069</td>\n",
       "      <td>[14402.969341349512, 4189.80598025088]</td>\n",
       "      <td>...</td>\n",
       "      <td>-98.778352</td>\n",
       "      <td>100.0</td>\n",
       "      <td>0.0</td>\n",
       "      <td>370.148871</td>\n",
       "      <td>104370.409465</td>\n",
       "      <td>100.609589</td>\n",
       "      <td>1468.463480</td>\n",
       "      <td>99.999998</td>\n",
       "      <td>1.456102e+03</td>\n",
       "      <td>15000.0</td>\n",
       "    </tr>\n",
       "    <tr>\n",
       "      <th>179</th>\n",
       "      <td>3473</td>\n",
       "      <td>SHP</td>\n",
       "      <td>28ce5698-a1bf-43df-89f6-0f0b07ee957e</td>\n",
       "      <td>6.000000</td>\n",
       "      <td>[-21847.9609375, 68381.328125]</td>\n",
       "      <td>30</td>\n",
       "      <td>4.555988</td>\n",
       "      <td>[-1286.19482421875, 708.2153930664062]</td>\n",
       "      <td>0.102069</td>\n",
       "      <td>[14808.616635793296, 2388.4876667267904]</td>\n",
       "      <td>...</td>\n",
       "      <td>-98.779426</td>\n",
       "      <td>100.0</td>\n",
       "      <td>0.0</td>\n",
       "      <td>322.775820</td>\n",
       "      <td>104321.600550</td>\n",
       "      <td>100.609589</td>\n",
       "      <td>1468.286814</td>\n",
       "      <td>99.999998</td>\n",
       "      <td>1.460238e+03</td>\n",
       "      <td>15000.0</td>\n",
       "    </tr>\n",
       "    <tr>\n",
       "      <th>180</th>\n",
       "      <td>3474</td>\n",
       "      <td>SHP</td>\n",
       "      <td>28ce5698-a1bf-43df-89f6-0f0b07ee957e</td>\n",
       "      <td>6.033333</td>\n",
       "      <td>[-21890.833984375, 68404.9375]</td>\n",
       "      <td>30</td>\n",
       "      <td>4.559390</td>\n",
       "      <td>[-1285.947998046875, 708.2551879882812]</td>\n",
       "      <td>0.202069</td>\n",
       "      <td>[14998.205088081115, -232.04339218727526]</td>\n",
       "      <td>...</td>\n",
       "      <td>-98.831850</td>\n",
       "      <td>100.0</td>\n",
       "      <td>0.0</td>\n",
       "      <td>275.952249</td>\n",
       "      <td>104272.794036</td>\n",
       "      <td>100.609589</td>\n",
       "      <td>1468.089801</td>\n",
       "      <td>99.999998</td>\n",
       "      <td>1.464180e+03</td>\n",
       "      <td>15000.0</td>\n",
       "    </tr>\n",
       "    <tr>\n",
       "      <th>182</th>\n",
       "      <td>3476</td>\n",
       "      <td>SHP</td>\n",
       "      <td>28ce5698-a1bf-43df-89f6-0f0b07ee957e</td>\n",
       "      <td>6.100000</td>\n",
       "      <td>[-21976.5546875, 68452.15625]</td>\n",
       "      <td>30</td>\n",
       "      <td>4.576195</td>\n",
       "      <td>[-1285.458740234375, 708.1791381835938]</td>\n",
       "      <td>0.402069</td>\n",
       "      <td>[8226.99228313612, -12542.591357977772]</td>\n",
       "      <td>...</td>\n",
       "      <td>-99.073990</td>\n",
       "      <td>100.0</td>\n",
       "      <td>0.0</td>\n",
       "      <td>185.630400</td>\n",
       "      <td>104175.202655</td>\n",
       "      <td>100.609589</td>\n",
       "      <td>1467.624565</td>\n",
       "      <td>100.000000</td>\n",
       "      <td>1.033749e+08</td>\n",
       "      <td>15000.0</td>\n",
       "    </tr>\n",
       "    <tr>\n",
       "      <th>183</th>\n",
       "      <td>3477</td>\n",
       "      <td>SHP</td>\n",
       "      <td>28ce5698-a1bf-43df-89f6-0f0b07ee957e</td>\n",
       "      <td>6.133333</td>\n",
       "      <td>[-22019.404296875, 68475.7578125]</td>\n",
       "      <td>30</td>\n",
       "      <td>4.589597</td>\n",
       "      <td>[-1285.3216552734375, 707.9700927734375]</td>\n",
       "      <td>0.502069</td>\n",
       "      <td>[6132.757003682128, -13689.020839117304]</td>\n",
       "      <td>...</td>\n",
       "      <td>-99.247054</td>\n",
       "      <td>100.0</td>\n",
       "      <td>0.0</td>\n",
       "      <td>144.221034</td>\n",
       "      <td>104126.420424</td>\n",
       "      <td>100.609589</td>\n",
       "      <td>1467.403629</td>\n",
       "      <td>99.999998</td>\n",
       "      <td>6.239509e+07</td>\n",
       "      <td>15000.0</td>\n",
       "    </tr>\n",
       "    <tr>\n",
       "      <th>184</th>\n",
       "      <td>3478</td>\n",
       "      <td>SHP</td>\n",
       "      <td>28ce5698-a1bf-43df-89f6-0f0b07ee957e</td>\n",
       "      <td>6.166667</td>\n",
       "      <td>[-22062.248046875, 68499.359375]</td>\n",
       "      <td>30</td>\n",
       "      <td>4.606333</td>\n",
       "      <td>[-1285.2193603515625, 707.741943359375]</td>\n",
       "      <td>0.602069</td>\n",
       "      <td>[2213.995746238344, -14835.707695814126]</td>\n",
       "      <td>...</td>\n",
       "      <td>-99.438130</td>\n",
       "      <td>100.0</td>\n",
       "      <td>0.0</td>\n",
       "      <td>109.211730</td>\n",
       "      <td>104077.643227</td>\n",
       "      <td>100.609589</td>\n",
       "      <td>1467.203961</td>\n",
       "      <td>99.999998</td>\n",
       "      <td>3.577988e+07</td>\n",
       "      <td>15000.0</td>\n",
       "    </tr>\n",
       "  </tbody>\n",
       "</table>\n",
       "<p>16 rows × 73 columns</p>\n",
       "</div>"
      ],
      "text/plain": [
       "     index    p                                   eid        ts  \\\n",
       "55    3349  SHP  28ce5698-a1bf-43df-89f6-0f0b07ee957e  1.866667   \n",
       "56    3350  SHP  28ce5698-a1bf-43df-89f6-0f0b07ee957e  1.900000   \n",
       "80    3374  SHP  28ce5698-a1bf-43df-89f6-0f0b07ee957e  2.700000   \n",
       "83    3377  SHP  28ce5698-a1bf-43df-89f6-0f0b07ee957e  2.800000   \n",
       "86    3380  SHP  28ce5698-a1bf-43df-89f6-0f0b07ee957e  2.900000   \n",
       "92    3386  SHP  28ce5698-a1bf-43df-89f6-0f0b07ee957e  3.100000   \n",
       "95    3389  SHP  28ce5698-a1bf-43df-89f6-0f0b07ee957e  3.200000   \n",
       "101   3395  SHP  28ce5698-a1bf-43df-89f6-0f0b07ee957e  3.400000   \n",
       "102   3396  SHP  28ce5698-a1bf-43df-89f6-0f0b07ee957e  3.433333   \n",
       "171   3465  SHP  28ce5698-a1bf-43df-89f6-0f0b07ee957e  5.733333   \n",
       "178   3472  SHP  28ce5698-a1bf-43df-89f6-0f0b07ee957e  5.966667   \n",
       "179   3473  SHP  28ce5698-a1bf-43df-89f6-0f0b07ee957e  6.000000   \n",
       "180   3474  SHP  28ce5698-a1bf-43df-89f6-0f0b07ee957e  6.033333   \n",
       "182   3476  SHP  28ce5698-a1bf-43df-89f6-0f0b07ee957e  6.100000   \n",
       "183   3477  SHP  28ce5698-a1bf-43df-89f6-0f0b07ee957e  6.133333   \n",
       "184   3478  SHP  28ce5698-a1bf-43df-89f6-0f0b07ee957e  6.166667   \n",
       "\n",
       "                                   loc   r         a  \\\n",
       "55      [-16506.4765625, 65414.109375]  30  6.416312   \n",
       "56       [-16550.166015625, 65438.125]  30  6.376312   \n",
       "80   [-17589.603515625, 66016.1796875]  30  6.256604   \n",
       "83     [-17719.13671875, 66088.546875]  30  6.376640   \n",
       "86     [-17848.626953125, 66160.96875]  30  6.526677   \n",
       "92    [-18107.51171875, 66305.8203125]  30  6.816750   \n",
       "95    [-18236.916015625, 66378.203125]  30  6.936786   \n",
       "101     [-18495.76953125, 66522.90625]  30  7.166859   \n",
       "102  [-18538.904296875, 66546.9921875]  30  7.193538   \n",
       "171  [-21504.705078125, 68192.6015625]  30  4.648770   \n",
       "178  [-21805.080078125, 68357.7265625]  30  4.555919   \n",
       "179     [-21847.9609375, 68381.328125]  30  4.555988   \n",
       "180     [-21890.833984375, 68404.9375]  30  4.559390   \n",
       "182      [-21976.5546875, 68452.15625]  30  4.576195   \n",
       "183  [-22019.404296875, 68475.7578125]  30  4.589597   \n",
       "184   [-22062.248046875, 68499.359375]  30  4.606333   \n",
       "\n",
       "                                            v        av  \\\n",
       "55   [-1310.6676025390625, 720.4390869140625] -1.200000   \n",
       "56   [-1310.4312744140625, 720.3575439453125] -1.299635   \n",
       "80    [-1295.522216796875, 723.5143432617188]  1.100365   \n",
       "83       [-1294.927734375, 723.9714965820312]  1.400365   \n",
       "86    [-1294.8721923828125, 724.719482421875]  1.700365   \n",
       "92         [-1293.87060546875, 723.619140625]  1.100365   \n",
       "95   [-1294.4315185546875, 724.1171264648438]  1.400365   \n",
       "101   [-1294.0555419921875, 722.666259765625]  0.800365   \n",
       "102    [-1293.89697265625, 722.4730224609375]  0.700365   \n",
       "171  [-1287.9417724609375, 707.2686767578125] -0.697931   \n",
       "178  [-1286.4349365234375, 708.1455688476562]  0.002069   \n",
       "179    [-1286.19482421875, 708.2153930664062]  0.102069   \n",
       "180   [-1285.947998046875, 708.2551879882812]  0.202069   \n",
       "182   [-1285.458740234375, 708.1791381835938]  0.402069   \n",
       "183  [-1285.3216552734375, 707.9700927734375]  0.502069   \n",
       "184   [-1285.2193603515625, 707.741943359375]  0.602069   \n",
       "\n",
       "                                             f  ...    angle.y _ada.x _ada.y  \\\n",
       "55    [14179.942273968534, -4891.751946585205]  ...  13.273347  100.0    0.0   \n",
       "56     [196659.02822701726, 36403.66213453299]  ...   9.299179  100.0    0.0   \n",
       "80     [11891.213321485564, 9143.251376995178]  ...  -2.657863  100.0    0.0   \n",
       "83    [1110.1038349260311, 14958.865915425624]  ...   9.331876  100.0    0.0   \n",
       "86    [11422.656389229036, -9722.289905860915]  ...  24.109235  100.0    0.0   \n",
       "92    [-11216.654827809374, 9959.249694318376]  ...  50.860539  100.0    0.0   \n",
       "95    [4354.831949675755, -14353.934606583773]  ...  60.804898  100.0    0.0   \n",
       "101    [9515.91215472281, -11595.146220018043]  ...  77.307441  100.0    0.0   \n",
       "102   [10691.379613421317, -10521.14071580259]  ...  78.972009  100.0    0.0   \n",
       "171    [12082.589133191334, 8888.815435055825]  ... -99.797697  100.0    0.0   \n",
       "178     [14402.969341349512, 4189.80598025088]  ... -98.778352  100.0    0.0   \n",
       "179   [14808.616635793296, 2388.4876667267904]  ... -98.779426  100.0    0.0   \n",
       "180  [14998.205088081115, -232.04339218727526]  ... -98.831850  100.0    0.0   \n",
       "182    [8226.99228313612, -12542.591357977772]  ... -99.073990  100.0    0.0   \n",
       "183   [6132.757003682128, -13689.020839117304]  ... -99.247054  100.0    0.0   \n",
       "184   [2213.995746238344, -14835.707695814126]  ... -99.438130  100.0    0.0   \n",
       "\n",
       "       o.ct_dist       o.t_dist  o.max_speed_cap        speed   o.t_speed  \\\n",
       "55   1032.350999  110417.272704       338.433104  1495.620955  336.382555   \n",
       "56   1271.763880  110367.546014       250.272402  1495.374574  248.756010   \n",
       "80    180.470816  109180.870780       100.609589  1483.863477  100.000004   \n",
       "83    182.876429  109032.813144       100.609589  1483.567513   99.999999   \n",
       "86   4886.267081  108884.762677       100.609589  1483.884201  100.000002   \n",
       "92    835.972264  108588.740370       102.460743  1482.472868  101.839940   \n",
       "95   4441.391038  108440.785848       104.345956  1483.205505  103.713726   \n",
       "101  4540.347678  108144.875764       108.221082  1482.169447  107.565378   \n",
       "102  4095.482253  108095.581055       108.880786  1481.936788  108.221081   \n",
       "171   707.901985  104712.203564       165.602967  1469.361423  164.599584   \n",
       "178   370.148871  104370.409465       100.609589  1468.463480   99.999998   \n",
       "179   322.775820  104321.600550       100.609589  1468.286814   99.999998   \n",
       "180   275.952249  104272.794036       100.609589  1468.089801   99.999998   \n",
       "182   185.630400  104175.202655       100.609589  1467.624565  100.000000   \n",
       "183   144.221034  104126.420424       100.609589  1467.403629   99.999998   \n",
       "184   109.211730  104077.643227       100.609589  1467.203961   99.999998   \n",
       "\n",
       "      o._dv_speed     f_mag  \n",
       "55   3.197235e+09   15000.0  \n",
       "56   1.411088e+03  200000.0  \n",
       "80   9.770648e+07   15000.0  \n",
       "83   1.003282e+08   15000.0  \n",
       "86   1.154824e+03   15000.0  \n",
       "92   2.096573e+09   15000.0  \n",
       "95   1.188779e+03   15000.0  \n",
       "101  1.439689e+03   15000.0  \n",
       "102  1.205834e+03   15000.0  \n",
       "171  1.428916e+03   15000.0  \n",
       "178  1.456102e+03   15000.0  \n",
       "179  1.460238e+03   15000.0  \n",
       "180  1.464180e+03   15000.0  \n",
       "182  1.033749e+08   15000.0  \n",
       "183  6.239509e+07   15000.0  \n",
       "184  3.577988e+07   15000.0  \n",
       "\n",
       "[16 rows x 73 columns]"
      ]
     },
     "execution_count": 43,
     "metadata": {},
     "output_type": "execute_result"
    }
   ],
   "source": [
    "df[(df[\"o.ct_dv.x\"]-df[\"o.ct_dv.x\"].shift(1)).abs() > 250]"
   ]
  },
  {
   "cell_type": "markdown",
   "id": "785ce89f",
   "metadata": {},
   "source": [
    "## Nearest Neighbors"
   ]
  },
  {
   "cell_type": "code",
   "execution_count": 44,
   "id": "03a6b3aa",
   "metadata": {},
   "outputs": [
    {
     "data": {
      "application/vnd.jupyter.widget-view+json": {
       "model_id": "6924ae4541404b4ead10ccac8c6da310",
       "version_major": 2,
       "version_minor": 0
      },
      "text/plain": [
       "interactive(children=(FloatSlider(value=6.13333333333332, continuous_update=False, description='hist_length', …"
      ]
     },
     "metadata": {},
     "output_type": "display_data"
    },
    {
     "data": {
      "text/plain": [
       "<function __main__.plot_neighborhood_size(hist_length, max_time)>"
      ]
     },
     "execution_count": 44,
     "metadata": {},
     "output_type": "execute_result"
    }
   ],
   "source": [
    "neighborhood_radius = 5e4\n",
    "def plot_neighborhood_size(hist_length, max_time):\n",
    "    sample = df[(df[\"ts\"] >= max_time - hist_length) & (df[\"ts\"] <= max_time)]\n",
    "    plt.scatter(sample[\"ts\"], sample[\"o.nd\"]*np.pi*neighborhood_radius**2)\n",
    "    plt.title(\"neighborhood size (10km^2)\")\n",
    "    plt.show()\n",
    "\n",
    "ipywidgets.interact(\n",
    "    plot_neighborhood_size,\n",
    "    hist_length=ipywidgets.FloatSlider(value=15, min=0, max=df[\"ts\"].max()-df[\"ts\"].min(), continuous_update=False),\n",
    "    max_time=ipywidgets.FloatSlider(value=df[\"ts\"].max(), min=df[\"ts\"].min(), max=df[\"ts\"].max()+.1, continuous_update=False))"
   ]
  },
  {
   "cell_type": "code",
   "execution_count": 45,
   "id": "139c049e",
   "metadata": {},
   "outputs": [
    {
     "data": {
      "application/vnd.jupyter.widget-view+json": {
       "model_id": "e1bac16e14ee4fd193a1a5660e847d86",
       "version_major": 2,
       "version_minor": 0
      },
      "text/plain": [
       "interactive(children=(FloatSlider(value=6.13333333333332, continuous_update=False, description='hist_length', …"
      ]
     },
     "metadata": {},
     "output_type": "display_data"
    },
    {
     "data": {
      "text/plain": [
       "<function __main__.plot_nearest_neighbor(hist_length, max_time)>"
      ]
     },
     "execution_count": 45,
     "metadata": {},
     "output_type": "execute_result"
    }
   ],
   "source": [
    "def plot_nearest_neighbor(hist_length, max_time):\n",
    "    sample = df[(df[\"ts\"] >= max_time - hist_length) & (df[\"ts\"] <= max_time)]\n",
    "    plt.scatter(sample[\"ts\"], sample[\"o.nnd\"], label=\"nearest neighbor dist\")\n",
    "    plt.scatter(sample[\"ts\"], sample[\"o.scm\"], label=\"desired margin\")\n",
    "    plt.title(\"nearest neighor dist\")\n",
    "    plt.legend()\n",
    "    plt.show()\n",
    "    print(f'min dist {sample[\"o.nnd\"].min()}')\n",
    "\n",
    "ipywidgets.interact(\n",
    "    plot_nearest_neighbor,\n",
    "    hist_length=ipywidgets.FloatSlider(value=15, min=0, max=df[\"ts\"].max()-df[\"ts\"].min(), continuous_update=False),\n",
    "    max_time=ipywidgets.FloatSlider(value=df[\"ts\"].max(), min=df[\"ts\"].min(), max=df[\"ts\"].max()+.1, continuous_update=False))"
   ]
  },
  {
   "cell_type": "code",
   "execution_count": 46,
   "id": "a89ffef7",
   "metadata": {},
   "outputs": [],
   "source": [
    "# \n",
    "# Smallest enclosing circle - Library (Python)\n",
    "# \n",
    "# Copyright (c) 2020 Project Nayuki\n",
    "# https://www.nayuki.io/page/smallest-enclosing-circle\n",
    "# \n",
    "# This program is free software: you can redistribute it and/or modify\n",
    "# it under the terms of the GNU Lesser General Public License as published by\n",
    "# the Free Software Foundation, either version 3 of the License, or\n",
    "# (at your option) any later version.\n",
    "# \n",
    "# This program is distributed in the hope that it will be useful,\n",
    "# but WITHOUT ANY WARRANTY; without even the implied warranty of\n",
    "# MERCHANTABILITY or FITNESS FOR A PARTICULAR PURPOSE.  See the\n",
    "# GNU Lesser General Public License for more details.\n",
    "# \n",
    "# You should have received a copy of the GNU Lesser General Public License\n",
    "# along with this program (see COPYING.txt and COPYING.LESSER.txt).\n",
    "# If not, see <http://www.gnu.org/licenses/>.\n",
    "# \n",
    "\n",
    "import math, random\n",
    "\n",
    "\n",
    "# Data conventions: A point is a pair of floats (x, y). A circle is a triple of floats (center x, center y, radius).\n",
    "\n",
    "# Returns the smallest circle that encloses all the given points. Runs in expected O(n) time, randomized.\n",
    "# Input: A sequence of pairs of floats or ints, e.g. [(0,5), (3.1,-2.7)].\n",
    "# Output: A triple of floats representing a circle.\n",
    "# Note: If 0 points are given, None is returned. If 1 point is given, a circle of radius 0 is returned.\n",
    "# \n",
    "# Initially: No boundary points known\n",
    "def make_circle(points):\n",
    "\t# Convert to float and randomize order\n",
    "\tshuffled = [(float(x), float(y)) for (x, y) in points]\n",
    "\trandom.shuffle(shuffled)\n",
    "\t\n",
    "\t# Progressively add points to circle or recompute circle\n",
    "\tc = None\n",
    "\tfor (i, p) in enumerate(shuffled):\n",
    "\t\tif c is None or not is_in_circle(c, p):\n",
    "\t\t\tc = _make_circle_one_point(shuffled[ : i + 1], p)\n",
    "\treturn c\n",
    "\n",
    "\n",
    "# One boundary point known\n",
    "def _make_circle_one_point(points, p):\n",
    "\tc = (p[0], p[1], 0.0)\n",
    "\tfor (i, q) in enumerate(points):\n",
    "\t\tif not is_in_circle(c, q):\n",
    "\t\t\tif c[2] == 0.0:\n",
    "\t\t\t\tc = make_diameter(p, q)\n",
    "\t\t\telse:\n",
    "\t\t\t\tc = _make_circle_two_points(points[ : i + 1], p, q)\n",
    "\treturn c\n",
    "\n",
    "\n",
    "# Two boundary points known\n",
    "def _make_circle_two_points(points, p, q):\n",
    "\tcirc = make_diameter(p, q)\n",
    "\tleft  = None\n",
    "\tright = None\n",
    "\tpx, py = p\n",
    "\tqx, qy = q\n",
    "\t\n",
    "\t# For each point not in the two-point circle\n",
    "\tfor r in points:\n",
    "\t\tif is_in_circle(circ, r):\n",
    "\t\t\tcontinue\n",
    "\t\t\n",
    "\t\t# Form a circumcircle and classify it on left or right side\n",
    "\t\tcross = _cross_product(px, py, qx, qy, r[0], r[1])\n",
    "\t\tc = make_circumcircle(p, q, r)\n",
    "\t\tif c is None:\n",
    "\t\t\tcontinue\n",
    "\t\telif cross > 0.0 and (left is None or _cross_product(px, py, qx, qy, c[0], c[1]) > _cross_product(px, py, qx, qy, left[0], left[1])):\n",
    "\t\t\tleft = c\n",
    "\t\telif cross < 0.0 and (right is None or _cross_product(px, py, qx, qy, c[0], c[1]) < _cross_product(px, py, qx, qy, right[0], right[1])):\n",
    "\t\t\tright = c\n",
    "\t\n",
    "\t# Select which circle to return\n",
    "\tif left is None and right is None:\n",
    "\t\treturn circ\n",
    "\telif left is None:\n",
    "\t\treturn right\n",
    "\telif right is None:\n",
    "\t\treturn left\n",
    "\telse:\n",
    "\t\treturn left if (left[2] <= right[2]) else right\n",
    "\n",
    "\n",
    "def make_diameter(a, b):\n",
    "\tcx = (a[0] + b[0]) / 2\n",
    "\tcy = (a[1] + b[1]) / 2\n",
    "\tr0 = math.hypot(cx - a[0], cy - a[1])\n",
    "\tr1 = math.hypot(cx - b[0], cy - b[1])\n",
    "\treturn (cx, cy, max(r0, r1))\n",
    "\n",
    "\n",
    "def make_circumcircle(a, b, c):\n",
    "\t# Mathematical algorithm from Wikipedia: Circumscribed circle\n",
    "\tox = (min(a[0], b[0], c[0]) + max(a[0], b[0], c[0])) / 2\n",
    "\toy = (min(a[1], b[1], c[1]) + max(a[1], b[1], c[1])) / 2\n",
    "\tax = a[0] - ox;  ay = a[1] - oy\n",
    "\tbx = b[0] - ox;  by = b[1] - oy\n",
    "\tcx = c[0] - ox;  cy = c[1] - oy\n",
    "\td = (ax * (by - cy) + bx * (cy - ay) + cx * (ay - by)) * 2.0\n",
    "\tif d == 0.0:\n",
    "\t\treturn None\n",
    "\tx = ox + ((ax*ax + ay*ay) * (by - cy) + (bx*bx + by*by) * (cy - ay) + (cx*cx + cy*cy) * (ay - by)) / d\n",
    "\ty = oy + ((ax*ax + ay*ay) * (cx - bx) + (bx*bx + by*by) * (ax - cx) + (cx*cx + cy*cy) * (bx - ax)) / d\n",
    "\tra = math.hypot(x - a[0], y - a[1])\n",
    "\trb = math.hypot(x - b[0], y - b[1])\n",
    "\trc = math.hypot(x - c[0], y - c[1])\n",
    "\treturn (x, y, max(ra, rb, rc))\n",
    "\n",
    "\n",
    "_MULTIPLICATIVE_EPSILON = 1 + 1e-14\n",
    "\n",
    "def is_in_circle(c, p):\n",
    "\treturn c is not None and math.hypot(p[0] - c[0], p[1] - c[1]) <= c[2] * _MULTIPLICATIVE_EPSILON\n",
    "\n",
    "\n",
    "# Returns twice the signed area of the triangle defined by (x0, y0), (x1, y1), (x2, y2).\n",
    "def _cross_product(x0, y0, x1, y1, x2, y2):\n",
    "\treturn (x1 - x0) * (y2 - y0) - (y1 - y0) * (x2 - x0)"
   ]
  },
  {
   "cell_type": "code",
   "execution_count": 47,
   "id": "8c327886",
   "metadata": {},
   "outputs": [
    {
     "data": {
      "text/plain": [
       "(-59830.15625, 52500.46484375, 5948.348017811875)"
      ]
     },
     "execution_count": 47,
     "metadata": {},
     "output_type": "execute_result"
    }
   ],
   "source": [
    "make_circle([(-55239.66796875, 48717.57421875), (-64420.64453125, 56283.35546875), (-64745.4375, 53056.1328125)])"
   ]
  },
  {
   "cell_type": "code",
   "execution_count": 48,
   "id": "2d2731c1",
   "metadata": {},
   "outputs": [
    {
     "data": {
      "application/vnd.jupyter.widget-view+json": {
       "model_id": "4c379ca7d8cb47c3a7d0f8fbb738b1b0",
       "version_major": 2,
       "version_minor": 0
      },
      "text/plain": [
       "interactive(children=(FloatSlider(value=6.13333333333332, continuous_update=False, description='hist_length', …"
      ]
     },
     "metadata": {},
     "output_type": "display_data"
    },
    {
     "data": {
      "text/plain": [
       "<function __main__.plot_radius_comparison(hist_length, max_time)>"
      ]
     },
     "execution_count": 48,
     "metadata": {},
     "output_type": "execute_result"
    }
   ],
   "source": [
    "def plot_radius_comparison(hist_length, max_time):\n",
    "    sample = df[(df[\"ts\"] >= max_time - hist_length) & (df[\"ts\"] <= max_time)]\n",
    "    foo = sample[\"o.ct_cn\"].apply(lambda x: np.nan if isinstance(x, float) else make_circle(x)[2]+30)\n",
    "    plt.scatter(sample[\"ts\"], sample[\"o.ct_cradius\"], label=\"threat radius\")\n",
    "    plt.scatter(sample[\"ts\"], sample[\"o.scm\"], label=\"threat radius\")\n",
    "    plt.scatter(sample[\"ts\"], foo, label=\"min radius\", marker=\"x\")\n",
    "    plt.legend()\n",
    "    plt.title(\"cradius vs smallest enclosing radius\")\n",
    "    plt.show()\n",
    "\n",
    "ipywidgets.interact(\n",
    "    plot_radius_comparison,\n",
    "    hist_length=ipywidgets.FloatSlider(value=15, min=0, max=df[\"ts\"].max()-df[\"ts\"].min(), continuous_update=False),\n",
    "    max_time=ipywidgets.FloatSlider(value=df[\"ts\"].max(), min=df[\"ts\"].min(), max=df[\"ts\"].max()+.1, continuous_update=False))"
   ]
  },
  {
   "cell_type": "markdown",
   "id": "12a7d799",
   "metadata": {},
   "source": [
    "# History Visualization"
   ]
  },
  {
   "cell_type": "markdown",
   "id": "e7b61368",
   "metadata": {},
   "source": [
    "## Position and Velocity"
   ]
  },
  {
   "cell_type": "code",
   "execution_count": 49,
   "id": "05fc6ec3",
   "metadata": {
    "scrolled": false
   },
   "outputs": [
    {
     "data": {
      "application/vnd.jupyter.widget-view+json": {
       "model_id": "7a28ca0317894c1aa157a9c75fec8e76",
       "version_major": 2,
       "version_minor": 0
      },
      "text/plain": [
       "interactive(children=(FloatSlider(value=6.13333333333332, continuous_update=False, description='hist_length', …"
      ]
     },
     "metadata": {},
     "output_type": "display_data"
    },
    {
     "data": {
      "text/plain": [
       "<function __main__.plot_collision_chart(hist_length=6.166666666666654, max_time=6.166666666666654, sampling_interval=50, show_tloc=True, show_tv=True, show_ctdv=True, show_v=True, show_cn=True, show_all_cts=True, show_projected_v=True)>"
      ]
     },
     "execution_count": 49,
     "metadata": {},
     "output_type": "execute_result"
    }
   ],
   "source": [
    "def plot_collision_chart(hist_length=df[\"ts\"].max(), max_time=df[\"ts\"].max(), sampling_interval=50, show_tloc=True, show_tv=True, show_ctdv=True, show_v=True, show_cn=True, show_all_cts=True, show_projected_v=True):\n",
    "    plt.figure(figsize=(10, 10))\n",
    "    sample = df[(df[\"ts\"] >= max_time - hist_length) & (df[\"ts\"] <= max_time)].iloc[::sampling_interval]\n",
    "    scale = None\n",
    "    if show_v:\n",
    "        q = plt.quiver(sample[\"loc.x\"], sample[\"loc.y\"], sample[\"v.x\"], sample[\"v.y\"], scale=scale, units=\"inches\", label=\"v\")\n",
    "        q._init()\n",
    "        scale = q.scale\n",
    "    ctdv_df = sample[~(sample[\"o.ct_dv\"].isna())]\n",
    "    if show_ctdv:\n",
    "        q = plt.quiver(ctdv_df[\"loc.x\"], ctdv_df[\"loc.y\"], ctdv_df[\"o.ct_dv.x\"], ctdv_df[\"o.ct_dv.y\"], scale=scale, units=\"inches\", label=\"ctdv\", color=\"orange\")\n",
    "        q._init()\n",
    "        scale = q.scale\n",
    "    if show_tv:\n",
    "        q = plt.quiver(sample[\"loc.x\"], sample[\"loc.y\"], sample[\"o.t_v.x\"], sample[\"o.t_v.y\"], scale=scale, units=\"inches\", label=\"tv\", color=\"purple\")\n",
    "        q._init()\n",
    "        scale = q.scale\n",
    "    \n",
    "    \n",
    "    if show_all_cts:\n",
    "        ctv_df = sample\n",
    "    else:\n",
    "        ctv_df = sample[sample[\"o.ct\"] == sample.iloc[-1][\"o.ct\"]]\n",
    "    q = plt.quiver(ctv_df[\"o.ct_loc.x\"], ctv_df[\"o.ct_loc.y\"], ctv_df[\"o.ct_v.x\"], ctv_df[\"o.ct_v.y\"], scale=scale, units=\"inches\", label=\"ctv\", color=\"cyan\")\n",
    "    q._init()\n",
    "    scale = q.scale\n",
    "    \n",
    "    if show_all_cts:\n",
    "        cts = df[\"o.ct\"].unique()\n",
    "    else:\n",
    "        cts = [sample.iloc[-1][\"o.ct\"]]\n",
    "        \n",
    "    cmap = plt.get_cmap('viridis')\n",
    "    for x, c in zip(cts, cmap(np.linspace(0, 1, len(cts)))):\n",
    "        if not isinstance(x, str):\n",
    "            continue\n",
    "        ct = sample[sample[\"o.ct\"] == x]\n",
    "        if len(ct) == 0:\n",
    "            continue\n",
    "        plt.scatter(ct[\"o.ct_loc.x\"], ct[\"o.ct_loc.y\"], color=c, label=x[:8])\n",
    "        \n",
    "        t_next = 10\n",
    "        x, y = ct.iloc[-1][\"o.ct_loc.x\"], ct.iloc[-1][\"o.ct_loc.y\"]\n",
    "        x_next, y_next = ct.iloc[-1][\"o.ct_loc.x\"]+ct.iloc[-1][\"o.ct_v.x\"]*t_next, ct.iloc[-1][\"o.ct_loc.y\"]+ct.iloc[-1][\"o.ct_v.y\"]*t_next\n",
    "        if show_projected_v and not np.allclose((x, y), (x_next, y_next)):\n",
    "            plt.axline((x,y),(x_next,y_next), marker = 'x', color=c, dashes=[2,2])\n",
    "    \n",
    "    cloc_df = sample#[~(sample[\"o.ct_cloc\"].isna())]\n",
    "    if not isinstance(cloc_df.iloc[-1][\"o.ct\"], float):\n",
    "        cloc_x = cloc_df.iloc[-1][\"o.ct_cloc.x\"]\n",
    "        cloc_y = cloc_df.iloc[-1][\"o.ct_cloc.y\"]\n",
    "        cradius = cloc_df.iloc[-1][\"o.ct_cradius\"]\n",
    "        cmargin = cloc_df.iloc[-1].get([\"o.scm\"],500)\n",
    "        threat_radius = plt.Circle((cloc_x, cloc_y), cradius, color=\"red\", fill=False)\n",
    "        margin = plt.Circle((cloc_x, cloc_y), cradius+cmargin, color=\"orange\", fill=False)\n",
    "        margin_hist = plt.Circle((cloc_x, cloc_y), cradius+cmargin*2, color=\"green\", fill=False)\n",
    "        plt.gca().add_patch(threat_radius)\n",
    "        plt.gca().add_patch(margin)\n",
    "        plt.gca().add_patch(margin_hist)\n",
    "        print(f'{cradius=}')\n",
    "        \n",
    "        if show_cn:\n",
    "            cn_x, cn_y = list(zip(*cloc_df.iloc[-1][\"o.ct_cn\"]))\n",
    "            plt.scatter(cn_x, cn_y, label=\"ct_cnloc\", marker=\"+\", color=\"pink\")\n",
    "    \n",
    "    if show_tloc and not all(sample[\"o.t_loc.x\"].isna()):\n",
    "        plt.scatter(sample[\"o.t_loc.x\"], sample[\"o.t_loc.y\"], label=\"t_loc\", marker=\"x\")\n",
    "        for ((tloc_x, tloc_y), ad, md) in sample.groupby([\"o.t_loc.x\", \"o.t_loc.y\"]).agg({\"o.t_loc\": \"min\", \"o.ad\":\"min\", \"o.md\":\"min\"}).values:\n",
    "            arrival_dist = plt.Circle((tloc_x, tloc_y), ad, color=\"green\", fill=False)\n",
    "            nearby_dist = plt.Circle((tloc_x, tloc_y), ad*5, color=\"green\", ls=\"--\", fill=False)\n",
    "            min_dist = plt.Circle((tloc_x, tloc_y), md, color=\"red\", fill=False)\n",
    "            plt.gca().add_patch(arrival_dist)\n",
    "            plt.gca().add_patch(nearby_dist)\n",
    "            plt.gca().add_patch(min_dist)\n",
    "            \n",
    "    t_next = hist_length\n",
    "    x, y = sample.iloc[-1][\"loc.x\"], sample.iloc[-1][\"loc.y\"]\n",
    "    x_next, y_next = sample.iloc[-1][\"loc.x\"]+sample.iloc[-1][\"v.x\"]*t_next, sample.iloc[-1][\"loc.y\"]+sample.iloc[-1][\"v.y\"]*t_next\n",
    "    if show_projected_v and not np.allclose((x, y), (x_next, y_next)):\n",
    "        plt.axline((x,y),(x_next,y_next),marker = 'o')\n",
    "    \n",
    "    plt.axis('equal')\n",
    "    #center = (-72000, -50000)\n",
    "    #radius = 20000\n",
    "    #plt.xlim(center[0]-radius,center[0]+radius)\n",
    "    #plt.ylim(center[1]-radius,center[1]+radius)\n",
    "\n",
    "    plt.legend()\n",
    "    plt.show()\n",
    "    \n",
    "ipywidgets.interact(\n",
    "    plot_collision_chart,\n",
    "    hist_length=ipywidgets.FloatSlider(value=15, min=0, max=df[\"ts\"].max()-df[\"ts\"].min(), continuous_update=False),\n",
    "    max_time=ipywidgets.FloatSlider(step=1/60, value=df[\"ts\"].max()+1/60, min=df[\"ts\"].min(), max=df[\"ts\"].max()+1/60, continuous_update=False),\n",
    "    sampling_interval=ipywidgets.IntSlider(value=2, min=1, max=100, continuous_update=False),\n",
    "    show_tloc=ipywidgets.Checkbox(value=True),\n",
    "    show_tv=ipywidgets.Checkbox(value=True),\n",
    "    show_ctdv=ipywidgets.Checkbox(value=True),\n",
    "    show_v=ipywidgets.Checkbox(value=True),\n",
    "    show_cn=ipywidgets.Checkbox(value=True),\n",
    "    show_all_cts=ipywidgets.Checkbox(value=True),\n",
    "    show_projected_v=ipywidgets.Checkbox(value=True),\n",
    ")"
   ]
  },
  {
   "cell_type": "markdown",
   "id": "6e5e3aad",
   "metadata": {},
   "source": [
    "## Position and Heading"
   ]
  },
  {
   "cell_type": "code",
   "execution_count": 50,
   "id": "2f7475c2",
   "metadata": {
    "scrolled": false
   },
   "outputs": [
    {
     "data": {
      "application/vnd.jupyter.widget-view+json": {
       "model_id": "b98e1b049d884e2a97509c71b721fad8",
       "version_major": 2,
       "version_minor": 0
      },
      "text/plain": [
       "interactive(children=(FloatSlider(value=6.13333333333332, continuous_update=False, description='hist_length', …"
      ]
     },
     "metadata": {},
     "output_type": "display_data"
    },
    {
     "data": {
      "text/plain": [
       "<function __main__.plot_collision_chart(hist_length=6.166666666666654, max_time=6.166666666666654)>"
      ]
     },
     "execution_count": 50,
     "metadata": {},
     "output_type": "execute_result"
    }
   ],
   "source": [
    "def plot_collision_chart(hist_length=df[\"ts\"].max(), max_time=df[\"ts\"].max()):\n",
    "    sample = df[(df[\"ts\"] >= max_time - hist_length) & (df[\"ts\"] <= max_time)]#.iloc[::30]\n",
    "   \n",
    "    plt.figure(figsize=(10, 10))\n",
    "    plt.quiver(sample[\"loc.x\"], sample[\"loc.y\"], sample[\"angle.x\"], sample[\"angle.y\"], label=\"heading\")\n",
    "    plt.quiver(sample[\"loc.x\"], sample[\"loc.y\"], sample[\"_ada.x\"], sample[\"_ada.y\"], label=\"acceleration heading\", color=\"cyan\")\n",
    "    ctdv_df = sample[~(sample[\"o.ct_dv\"].isna())]\n",
    "    #plt.quiver(ctdv_df[\"loc.x\"], ctdv_df[\"loc.y\"], ctdv_df[\"o.ct_dv.x\"], ctdv_df[\"o.ct_dv.y\"], label=\"ctdv\", color=\"orange\")\n",
    "    #plt.quiver(sample[\"loc.x\"], sample[\"loc.y\"], sample[\"o.t_v.x\"], sample[\"o.t_v.y\"], label=\"tv\", color=\"purple\")\n",
    "    cmap = plt.get_cmap('viridis')\n",
    "    #for x, c in zip(df[\"o.ct\"].unique(), cmap(np.linspace(0, 1, len(sample[\"o.ct\"].unique())))):\n",
    "    #    print(x)\n",
    "    #    if not isinstance(x, str):\n",
    "    #        continue\n",
    "    #    ct = sample[sample[\"o.ct\"] == x]\n",
    "    #    plt.scatter(ct[\"o.ct_loc.x\"], ct[\"o.ct_loc.y\"], color=c, label=x[:8])\n",
    "    #plt.scatter(sample[\"o.t_loc.x\"], sample[\"o.t_loc.y\"], label=\"t_loc\")\n",
    "    #plt.axis('square')\n",
    "    #center = (-33555, -5000)\n",
    "    #radius = 15000\n",
    "    #plt.xlim(center[0]-radius,center[0]+radius)\n",
    "    #plt.ylim(center[1]-radius,center[1]+radius)\n",
    "    \n",
    "    print(sample[\"ts\"].min())\n",
    "    print(sample[\"ts\"].max())\n",
    "    print((sample[\"ts\"].max() - sample[\"ts\"].min())/(1/60))\n",
    "    \n",
    "    plt.legend()\n",
    "    plt.axis('equal')\n",
    "    plt.show()\n",
    "    \n",
    "ipywidgets.interact(plot_collision_chart, hist_length=ipywidgets.FloatSlider(value=15, min=0, max=df[\"ts\"].max()-df[\"ts\"].min(), continuous_update=False), max_time=ipywidgets.FloatSlider(value=df[\"ts\"].max(), min=df[\"ts\"].min(), max=df[\"ts\"].max(), continuous_update=False))"
   ]
  },
  {
   "cell_type": "code",
   "execution_count": null,
   "id": "38b92697",
   "metadata": {},
   "outputs": [],
   "source": []
  }
 ],
 "metadata": {
  "kernelspec": {
   "display_name": "Python 3 (ipykernel)",
   "language": "python",
   "name": "python3"
  },
  "language_info": {
   "codemirror_mode": {
    "name": "ipython",
    "version": 3
   },
   "file_extension": ".py",
   "mimetype": "text/x-python",
   "name": "python",
   "nbconvert_exporter": "python",
   "pygments_lexer": "ipython3",
   "version": "3.10.7"
  },
  "toc": {
   "base_numbering": 1,
   "nav_menu": {},
   "number_sections": true,
   "sideBar": true,
   "skip_h1_title": false,
   "title_cell": "Table of Contents",
   "title_sidebar": "Contents",
   "toc_cell": false,
   "toc_position": {},
   "toc_section_display": true,
   "toc_window_display": false
  }
 },
 "nbformat": 4,
 "nbformat_minor": 5
}
