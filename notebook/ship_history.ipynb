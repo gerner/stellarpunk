{
 "cells": [
  {
   "cell_type": "code",
   "execution_count": 1,
   "id": "db66bdf2",
   "metadata": {},
   "outputs": [],
   "source": [
    "import json\n",
    "\n",
    "import pandas as pd\n",
    "import numpy as np\n",
    "from matplotlib import pyplot as plt\n",
    "import ipywidgets\n",
    "\n",
    "from stellarpunk import util"
   ]
  },
  {
   "cell_type": "markdown",
   "id": "d2d7aa35",
   "metadata": {},
   "source": [
    "# Loading and Preparing Data"
   ]
  },
  {
   "cell_type": "code",
   "execution_count": 2,
   "id": "67053310",
   "metadata": {},
   "outputs": [],
   "source": [
    "#df_base = pd.json_normalize(list(json.loads(line) for line in open(\"/tmp/stellarpunk_test.history\", \"r\")))\n",
    "df_base = pd.read_json(\"/tmp/stellarpunk.history.gz\", lines=True)\n",
    "df_base = df_base.join(pd.json_normalize(df_base[\"o\"]).add_prefix(\"o.\"))"
   ]
  },
  {
   "cell_type": "code",
   "execution_count": 3,
   "id": "f40ecd20",
   "metadata": {},
   "outputs": [],
   "source": [
    "eids = pd.Series(df_base[\"eid\"].unique())"
   ]
  },
  {
   "cell_type": "code",
   "execution_count": 4,
   "id": "a05aef8f",
   "metadata": {},
   "outputs": [
    {
     "data": {
      "text/plain": [
       "84    2ccc8398-6be2-4201-86d9-a2892f35ca73\n",
       "dtype: object"
      ]
     },
     "execution_count": 4,
     "metadata": {},
     "output_type": "execute_result"
    }
   ],
   "source": [
    "eids[pd.Series(df_base[\"eid\"].unique()).str.startswith(\"2ccc83\")]"
   ]
  },
  {
   "cell_type": "code",
   "execution_count": 5,
   "id": "9a0aa836",
   "metadata": {},
   "outputs": [
    {
     "data": {
      "text/plain": [
       "array(['2ccc8398-6be2-4201-86d9-a2892f35ca73'], dtype=object)"
      ]
     },
     "execution_count": 5,
     "metadata": {},
     "output_type": "execute_result"
    }
   ],
   "source": [
    "target_eid = df_base[\"eid\"].unique()[84]\n",
    "df_base = df_base[df_base[\"eid\"] == target_eid].reset_index()\n",
    "df_base[\"eid\"].unique()"
   ]
  },
  {
   "cell_type": "code",
   "execution_count": 6,
   "id": "267f26cd",
   "metadata": {},
   "outputs": [],
   "source": [
    "loc = pd.DataFrame(np.vstack(df_base[\"loc\"]), columns=[\"loc.x\", \"loc.y\"])\n",
    "v = pd.DataFrame(np.vstack(df_base[\"v\"]), columns=[\"v.x\", \"v.y\"])\n",
    "\n",
    "empty_array = np.empty(len(df_base))\n",
    "empty_array[:] = np.nan\n",
    "\n",
    "if \"o.t_loc\" in df_base:\n",
    "    o_tloc = pd.DataFrame(np.vstack(df_base[\"o.t_loc\"].apply(lambda x: (np.nan, np.nan) if np.all(np.isnan(x)) else x)), columns=[\"o.t_loc.x\", \"o.t_loc.y\"])\n",
    "    o_tv = pd.DataFrame(np.vstack(df_base[\"o.t_v\"].apply(lambda x: (np.nan, np.nan) if np.all(np.isnan(x)) else x)), columns=[\"o.t_v.x\", \"o.t_v.y\"])\n",
    "else:\n",
    "    o_tloc = pd.DataFrame({\"o.t_loc\": empty_array, \"o.t_loc.x\": empty_array, \"o.t_loc.y\": empty_array})\n",
    "    o_tv = pd.DataFrame({\"o.t_v\": empty_array, \"o.t_v.x\": empty_array, \"o.t_v.y\": empty_array})\n",
    "    \n",
    "if \"o.ct\" in df_base:\n",
    "    o_ctloc = pd.DataFrame(np.vstack(df_base[\"o.ct_loc\"].apply(lambda x: (np.nan, np.nan) if np.all(np.isnan(x)) else x)), columns=[\"o.ct_loc.x\", \"o.ct_loc.y\"])\n",
    "    o_ctdv = pd.DataFrame(np.vstack(df_base[\"o.ct_dv\"].apply(lambda x: (np.nan, np.nan) if np.all(np.isnan(x)) else x)), columns=[\"o.ct_dv.x\", \"o.ct_dv.y\"])\n",
    "else:\n",
    "    o_ctloc = pd.DataFrame({\"o.ct_loc\": empty_array, \"o.ct_loc.x\": empty_array, \"o.ct_loc.y\": empty_array})\n",
    "    o_ctdv = pd.DataFrame({\"o.ct_dv\": empty_array, \"o.ct_dv.x\": empty_array, \"o.ct_dv.y\": empty_array})\n",
    "angle = pd.DataFrame(np.vstack(df_base.apply(lambda row: np.array(util.polar_to_cartesian(100, row[\"a\"])), axis=1)), columns=[\"angle.x\", \"angle.y\"])\n",
    "df = pd.concat([df_base, loc, v, o_ctloc, o_ctdv, o_tloc, o_tv, angle], axis=1)\n",
    "\n",
    "if \"o.ct\" not in df_base:\n",
    "    df[\"o.ct\"] = empty_array\n",
    "    df[\"o.ct_ts\"] = empty_array\n",
    "    df[\"o.cac\"] = empty_array\n",
    "    df[\"o.cbdr\"] = empty_array\n",
    "    \n",
    "if \"o.t_loc\" not in df_base:\n",
    "    df[\"o.cs\"] = empty_array"
   ]
  },
  {
   "cell_type": "code",
   "execution_count": 7,
   "id": "9aafdffa",
   "metadata": {},
   "outputs": [],
   "source": [
    "df[\"speed\"] = np.linalg.norm(df[[\"v.x\", \"v.y\"]], axis=1)\n",
    "df[\"o_ct_dist\"] = np.linalg.norm(np.vstack(df[\"loc\"]) - np.vstack(df[\"o.ct_loc\"].apply(lambda x: (np.nan, np.nan) if np.all(np.isnan(x)) else x)), axis=1)\n",
    "df[\"o_t_dist\"] = np.linalg.norm(np.vstack(df[\"loc\"]) - np.vstack(df[\"o.t_loc\"].apply(lambda x: (np.nan, np.nan) if np.all(np.isnan(x)) else x)), axis=1)\n",
    "df[\"o_t_speed\"] = np.linalg.norm(df[[\"o.t_v.x\", \"o.t_v.y\"]], axis=1)"
   ]
  },
  {
   "cell_type": "code",
   "execution_count": 8,
   "id": "9cddeae3",
   "metadata": {},
   "outputs": [
    {
     "data": {
      "text/html": [
       "<div>\n",
       "<style scoped>\n",
       "    .dataframe tbody tr th:only-of-type {\n",
       "        vertical-align: middle;\n",
       "    }\n",
       "\n",
       "    .dataframe tbody tr th {\n",
       "        vertical-align: top;\n",
       "    }\n",
       "\n",
       "    .dataframe thead th {\n",
       "        text-align: right;\n",
       "    }\n",
       "</style>\n",
       "<table border=\"1\" class=\"dataframe\">\n",
       "  <thead>\n",
       "    <tr style=\"text-align: right;\">\n",
       "      <th></th>\n",
       "      <th>index</th>\n",
       "      <th>eid</th>\n",
       "      <th>ts</th>\n",
       "      <th>loc</th>\n",
       "      <th>a</th>\n",
       "      <th>v</th>\n",
       "      <th>av</th>\n",
       "      <th>o</th>\n",
       "      <th>o.o</th>\n",
       "      <th>o.nnd</th>\n",
       "      <th>...</th>\n",
       "      <th>o.t_loc.x</th>\n",
       "      <th>o.t_loc.y</th>\n",
       "      <th>o.t_v.x</th>\n",
       "      <th>o.t_v.y</th>\n",
       "      <th>angle.x</th>\n",
       "      <th>angle.y</th>\n",
       "      <th>speed</th>\n",
       "      <th>o_ct_dist</th>\n",
       "      <th>o_t_dist</th>\n",
       "      <th>o_t_speed</th>\n",
       "    </tr>\n",
       "  </thead>\n",
       "  <tbody>\n",
       "    <tr>\n",
       "      <th>0</th>\n",
       "      <td>7282</td>\n",
       "      <td>2ccc8398-6be2-4201-86d9-a2892f35ca73</td>\n",
       "      <td>77.933333</td>\n",
       "      <td>[5535.824758228578, -3533.485501225434]</td>\n",
       "      <td>-4.396990</td>\n",
       "      <td>[348.27554323430707, -1241.5795864868267]</td>\n",
       "      <td>0.077139</td>\n",
       "      <td>{'o': 'stellarpunk.orders.GoToLocation', 'nnd'...</td>\n",
       "      <td>stellarpunk.orders.GoToLocation</td>\n",
       "      <td>6453.726376</td>\n",
       "      <td>...</td>\n",
       "      <td>7278.881261</td>\n",
       "      <td>-9747.368197</td>\n",
       "      <td>346.105602</td>\n",
       "      <td>-1233.843889</td>\n",
       "      <td>-31.019536</td>\n",
       "      <td>95.067284</td>\n",
       "      <td>1289.502122</td>\n",
       "      <td>NaN</td>\n",
       "      <td>6453.726376</td>\n",
       "      <td>1281.467842</td>\n",
       "    </tr>\n",
       "    <tr>\n",
       "      <th>1</th>\n",
       "      <td>7283</td>\n",
       "      <td>2ccc8398-6be2-4201-86d9-a2892f35ca73</td>\n",
       "      <td>77.950000</td>\n",
       "      <td>[5541.629350615816, -3554.1784943335474]</td>\n",
       "      <td>-4.395705</td>\n",
       "      <td>[347.1501878962772, -1237.5677681367167]</td>\n",
       "      <td>0.060472</td>\n",
       "      <td>{'o': 'stellarpunk.orders.GoToLocation', 'nnd'...</td>\n",
       "      <td>stellarpunk.orders.GoToLocation</td>\n",
       "      <td>6432.234674</td>\n",
       "      <td>...</td>\n",
       "      <td>7278.881261</td>\n",
       "      <td>-9747.368197</td>\n",
       "      <td>346.374768</td>\n",
       "      <td>-1234.803447</td>\n",
       "      <td>-31.141733</td>\n",
       "      <td>95.027325</td>\n",
       "      <td>1285.335456</td>\n",
       "      <td>NaN</td>\n",
       "      <td>6432.234674</td>\n",
       "      <td>1282.464437</td>\n",
       "    </tr>\n",
       "    <tr>\n",
       "      <th>2</th>\n",
       "      <td>7284</td>\n",
       "      <td>2ccc8398-6be2-4201-86d9-a2892f35ca73</td>\n",
       "      <td>77.966667</td>\n",
       "      <td>[5547.415187080755, -3574.8046238024926]</td>\n",
       "      <td>-4.394697</td>\n",
       "      <td>[346.3747679248164, -1234.8034465349779]</td>\n",
       "      <td>0.043805</td>\n",
       "      <td>{'o': 'stellarpunk.orders.GoToLocation', 'nnd'...</td>\n",
       "      <td>stellarpunk.orders.GoToLocation</td>\n",
       "      <td>6410.812416</td>\n",
       "      <td>...</td>\n",
       "      <td>7278.881261</td>\n",
       "      <td>-9747.368197</td>\n",
       "      <td>346.647668</td>\n",
       "      <td>-1235.776316</td>\n",
       "      <td>-31.237492</td>\n",
       "      <td>94.995890</td>\n",
       "      <td>1282.464437</td>\n",
       "      <td>NaN</td>\n",
       "      <td>6410.812416</td>\n",
       "      <td>1283.474857</td>\n",
       "    </tr>\n",
       "    <tr>\n",
       "      <th>3</th>\n",
       "      <td>7285</td>\n",
       "      <td>2ccc8398-6be2-4201-86d9-a2892f35ca73</td>\n",
       "      <td>77.983333</td>\n",
       "      <td>[5553.188099879501, -3595.3846812447423]</td>\n",
       "      <td>-4.393967</td>\n",
       "      <td>[346.3860214781967, -1234.843564718479]</td>\n",
       "      <td>0.060472</td>\n",
       "      <td>{'o': 'stellarpunk.orders.GoToLocation', 'nnd'...</td>\n",
       "      <td>stellarpunk.orders.GoToLocation</td>\n",
       "      <td>6389.438009</td>\n",
       "      <td>...</td>\n",
       "      <td>7278.881261</td>\n",
       "      <td>-9747.368197</td>\n",
       "      <td>344.442563</td>\n",
       "      <td>-1227.915263</td>\n",
       "      <td>-31.306839</td>\n",
       "      <td>94.973059</td>\n",
       "      <td>1282.506103</td>\n",
       "      <td>NaN</td>\n",
       "      <td>6389.438009</td>\n",
       "      <td>1275.310383</td>\n",
       "    </tr>\n",
       "    <tr>\n",
       "      <th>4</th>\n",
       "      <td>7286</td>\n",
       "      <td>2ccc8398-6be2-4201-86d9-a2892f35ca73</td>\n",
       "      <td>78.000000</td>\n",
       "      <td>[5558.9612002374715, -3615.9654073233837]</td>\n",
       "      <td>-4.392959</td>\n",
       "      <td>[345.26066614016685, -1230.831746368369]</td>\n",
       "      <td>0.043805</td>\n",
       "      <td>{'o': 'stellarpunk.orders.GoToLocation', 'nnd'...</td>\n",
       "      <td>stellarpunk.orders.GoToLocation</td>\n",
       "      <td>6368.062907</td>\n",
       "      <td>...</td>\n",
       "      <td>7278.881261</td>\n",
       "      <td>-9747.368197</td>\n",
       "      <td>344.713264</td>\n",
       "      <td>-1228.880292</td>\n",
       "      <td>-31.402543</td>\n",
       "      <td>94.941457</td>\n",
       "      <td>1278.339437</td>\n",
       "      <td>NaN</td>\n",
       "      <td>6368.062907</td>\n",
       "      <td>1276.312660</td>\n",
       "    </tr>\n",
       "    <tr>\n",
       "      <th>...</th>\n",
       "      <td>...</td>\n",
       "      <td>...</td>\n",
       "      <td>...</td>\n",
       "      <td>...</td>\n",
       "      <td>...</td>\n",
       "      <td>...</td>\n",
       "      <td>...</td>\n",
       "      <td>...</td>\n",
       "      <td>...</td>\n",
       "      <td>...</td>\n",
       "      <td>...</td>\n",
       "      <td>...</td>\n",
       "      <td>...</td>\n",
       "      <td>...</td>\n",
       "      <td>...</td>\n",
       "      <td>...</td>\n",
       "      <td>...</td>\n",
       "      <td>...</td>\n",
       "      <td>...</td>\n",
       "      <td>...</td>\n",
       "      <td>...</td>\n",
       "    </tr>\n",
       "    <tr>\n",
       "      <th>3595</th>\n",
       "      <td>10877</td>\n",
       "      <td>2ccc8398-6be2-4201-86d9-a2892f35ca73</td>\n",
       "      <td>137.850000</td>\n",
       "      <td>[-26511.81241872962, -73583.7302109628]</td>\n",
       "      <td>-5.213675</td>\n",
       "      <td>[-603.6946048775918, -1104.3244848875934]</td>\n",
       "      <td>-0.046903</td>\n",
       "      <td>{'o': 'stellarpunk.orders.GoToLocation', 'nnd'...</td>\n",
       "      <td>stellarpunk.orders.GoToLocation</td>\n",
       "      <td>403.358632</td>\n",
       "      <td>...</td>\n",
       "      <td>-26592.003599</td>\n",
       "      <td>-73979.037131</td>\n",
       "      <td>0.000000</td>\n",
       "      <td>0.000000</td>\n",
       "      <td>48.055342</td>\n",
       "      <td>87.696546</td>\n",
       "      <td>1258.562571</td>\n",
       "      <td>NaN</td>\n",
       "      <td>403.358632</td>\n",
       "      <td>0.000000</td>\n",
       "    </tr>\n",
       "    <tr>\n",
       "      <th>3596</th>\n",
       "      <td>10878</td>\n",
       "      <td>2ccc8398-6be2-4201-86d9-a2892f35ca73</td>\n",
       "      <td>137.866667</td>\n",
       "      <td>[-26521.87399547758, -73602.13561904426]</td>\n",
       "      <td>-5.214456</td>\n",
       "      <td>[-601.6959802196401, -1100.6684473347586]</td>\n",
       "      <td>-0.030237</td>\n",
       "      <td>{'o': 'stellarpunk.orders.GoToLocation', 'nnd'...</td>\n",
       "      <td>stellarpunk.orders.GoToLocation</td>\n",
       "      <td>383.370462</td>\n",
       "      <td>...</td>\n",
       "      <td>-26592.003599</td>\n",
       "      <td>-73979.037131</td>\n",
       "      <td>0.000000</td>\n",
       "      <td>0.000000</td>\n",
       "      <td>48.123881</td>\n",
       "      <td>87.658953</td>\n",
       "      <td>1254.395904</td>\n",
       "      <td>NaN</td>\n",
       "      <td>383.370462</td>\n",
       "      <td>0.000000</td>\n",
       "    </tr>\n",
       "    <tr>\n",
       "      <th>3597</th>\n",
       "      <td>10879</td>\n",
       "      <td>2ccc8398-6be2-4201-86d9-a2892f35ca73</td>\n",
       "      <td>137.883333</td>\n",
       "      <td>[-26531.902261814575, -73620.48009316651]</td>\n",
       "      <td>-5.214960</td>\n",
       "      <td>[-599.6973555616884, -1097.012409781924]</td>\n",
       "      <td>-0.013570</td>\n",
       "      <td>{'o': 'stellarpunk.orders.GoToLocation', 'nnd'...</td>\n",
       "      <td>stellarpunk.orders.GoToLocation</td>\n",
       "      <td>363.559238</td>\n",
       "      <td>...</td>\n",
       "      <td>-26592.003599</td>\n",
       "      <td>-73979.037131</td>\n",
       "      <td>0.000000</td>\n",
       "      <td>0.000000</td>\n",
       "      <td>48.168050</td>\n",
       "      <td>87.634690</td>\n",
       "      <td>1250.229237</td>\n",
       "      <td>NaN</td>\n",
       "      <td>363.559238</td>\n",
       "      <td>0.000000</td>\n",
       "    </tr>\n",
       "    <tr>\n",
       "      <th>3598</th>\n",
       "      <td>10880</td>\n",
       "      <td>2ccc8398-6be2-4201-86d9-a2892f35ca73</td>\n",
       "      <td>137.900000</td>\n",
       "      <td>[-26541.897217740603, -73638.76363332954]</td>\n",
       "      <td>-5.215186</td>\n",
       "      <td>[-597.6987309037366, -1093.3563722290892]</td>\n",
       "      <td>0.003097</td>\n",
       "      <td>{'o': 'stellarpunk.orders.GoToLocation', 'nnd'...</td>\n",
       "      <td>stellarpunk.orders.GoToLocation</td>\n",
       "      <td>343.942877</td>\n",
       "      <td>...</td>\n",
       "      <td>-26592.003599</td>\n",
       "      <td>-73979.037131</td>\n",
       "      <td>0.000000</td>\n",
       "      <td>0.000000</td>\n",
       "      <td>48.187868</td>\n",
       "      <td>87.623794</td>\n",
       "      <td>1246.062571</td>\n",
       "      <td>NaN</td>\n",
       "      <td>343.942877</td>\n",
       "      <td>0.000000</td>\n",
       "    </tr>\n",
       "    <tr>\n",
       "      <th>3599</th>\n",
       "      <td>10881</td>\n",
       "      <td>2ccc8398-6be2-4201-86d9-a2892f35ca73</td>\n",
       "      <td>137.916667</td>\n",
       "      <td>[-26551.858863255664, -73656.98623953336]</td>\n",
       "      <td>-5.215135</td>\n",
       "      <td>[-441.3675242922441, 55.01795903056449]</td>\n",
       "      <td>0.789775</td>\n",
       "      <td>{'o': 'stellarpunk.orders.GoToLocation', 'nnd'...</td>\n",
       "      <td>stellarpunk.orders.GoToLocation</td>\n",
       "      <td>324.543335</td>\n",
       "      <td>...</td>\n",
       "      <td>-26592.003599</td>\n",
       "      <td>-73979.037131</td>\n",
       "      <td>0.000000</td>\n",
       "      <td>0.000000</td>\n",
       "      <td>48.183346</td>\n",
       "      <td>87.626281</td>\n",
       "      <td>444.783394</td>\n",
       "      <td>NaN</td>\n",
       "      <td>324.543335</td>\n",
       "      <td>0.000000</td>\n",
       "    </tr>\n",
       "  </tbody>\n",
       "</table>\n",
       "<p>3600 rows × 37 columns</p>\n",
       "</div>"
      ],
      "text/plain": [
       "      index                                   eid          ts  \\\n",
       "0      7282  2ccc8398-6be2-4201-86d9-a2892f35ca73   77.933333   \n",
       "1      7283  2ccc8398-6be2-4201-86d9-a2892f35ca73   77.950000   \n",
       "2      7284  2ccc8398-6be2-4201-86d9-a2892f35ca73   77.966667   \n",
       "3      7285  2ccc8398-6be2-4201-86d9-a2892f35ca73   77.983333   \n",
       "4      7286  2ccc8398-6be2-4201-86d9-a2892f35ca73   78.000000   \n",
       "...     ...                                   ...         ...   \n",
       "3595  10877  2ccc8398-6be2-4201-86d9-a2892f35ca73  137.850000   \n",
       "3596  10878  2ccc8398-6be2-4201-86d9-a2892f35ca73  137.866667   \n",
       "3597  10879  2ccc8398-6be2-4201-86d9-a2892f35ca73  137.883333   \n",
       "3598  10880  2ccc8398-6be2-4201-86d9-a2892f35ca73  137.900000   \n",
       "3599  10881  2ccc8398-6be2-4201-86d9-a2892f35ca73  137.916667   \n",
       "\n",
       "                                            loc         a  \\\n",
       "0       [5535.824758228578, -3533.485501225434] -4.396990   \n",
       "1      [5541.629350615816, -3554.1784943335474] -4.395705   \n",
       "2      [5547.415187080755, -3574.8046238024926] -4.394697   \n",
       "3      [5553.188099879501, -3595.3846812447423] -4.393967   \n",
       "4     [5558.9612002374715, -3615.9654073233837] -4.392959   \n",
       "...                                         ...       ...   \n",
       "3595    [-26511.81241872962, -73583.7302109628] -5.213675   \n",
       "3596   [-26521.87399547758, -73602.13561904426] -5.214456   \n",
       "3597  [-26531.902261814575, -73620.48009316651] -5.214960   \n",
       "3598  [-26541.897217740603, -73638.76363332954] -5.215186   \n",
       "3599  [-26551.858863255664, -73656.98623953336] -5.215135   \n",
       "\n",
       "                                              v        av  \\\n",
       "0     [348.27554323430707, -1241.5795864868267]  0.077139   \n",
       "1      [347.1501878962772, -1237.5677681367167]  0.060472   \n",
       "2      [346.3747679248164, -1234.8034465349779]  0.043805   \n",
       "3       [346.3860214781967, -1234.843564718479]  0.060472   \n",
       "4      [345.26066614016685, -1230.831746368369]  0.043805   \n",
       "...                                         ...       ...   \n",
       "3595  [-603.6946048775918, -1104.3244848875934] -0.046903   \n",
       "3596  [-601.6959802196401, -1100.6684473347586] -0.030237   \n",
       "3597   [-599.6973555616884, -1097.012409781924] -0.013570   \n",
       "3598  [-597.6987309037366, -1093.3563722290892]  0.003097   \n",
       "3599    [-441.3675242922441, 55.01795903056449]  0.789775   \n",
       "\n",
       "                                                      o  \\\n",
       "0     {'o': 'stellarpunk.orders.GoToLocation', 'nnd'...   \n",
       "1     {'o': 'stellarpunk.orders.GoToLocation', 'nnd'...   \n",
       "2     {'o': 'stellarpunk.orders.GoToLocation', 'nnd'...   \n",
       "3     {'o': 'stellarpunk.orders.GoToLocation', 'nnd'...   \n",
       "4     {'o': 'stellarpunk.orders.GoToLocation', 'nnd'...   \n",
       "...                                                 ...   \n",
       "3595  {'o': 'stellarpunk.orders.GoToLocation', 'nnd'...   \n",
       "3596  {'o': 'stellarpunk.orders.GoToLocation', 'nnd'...   \n",
       "3597  {'o': 'stellarpunk.orders.GoToLocation', 'nnd'...   \n",
       "3598  {'o': 'stellarpunk.orders.GoToLocation', 'nnd'...   \n",
       "3599  {'o': 'stellarpunk.orders.GoToLocation', 'nnd'...   \n",
       "\n",
       "                                  o.o        o.nnd  ...     o.t_loc.x  \\\n",
       "0     stellarpunk.orders.GoToLocation  6453.726376  ...   7278.881261   \n",
       "1     stellarpunk.orders.GoToLocation  6432.234674  ...   7278.881261   \n",
       "2     stellarpunk.orders.GoToLocation  6410.812416  ...   7278.881261   \n",
       "3     stellarpunk.orders.GoToLocation  6389.438009  ...   7278.881261   \n",
       "4     stellarpunk.orders.GoToLocation  6368.062907  ...   7278.881261   \n",
       "...                               ...          ...  ...           ...   \n",
       "3595  stellarpunk.orders.GoToLocation   403.358632  ... -26592.003599   \n",
       "3596  stellarpunk.orders.GoToLocation   383.370462  ... -26592.003599   \n",
       "3597  stellarpunk.orders.GoToLocation   363.559238  ... -26592.003599   \n",
       "3598  stellarpunk.orders.GoToLocation   343.942877  ... -26592.003599   \n",
       "3599  stellarpunk.orders.GoToLocation   324.543335  ... -26592.003599   \n",
       "\n",
       "         o.t_loc.y     o.t_v.x      o.t_v.y    angle.x    angle.y  \\\n",
       "0     -9747.368197  346.105602 -1233.843889 -31.019536  95.067284   \n",
       "1     -9747.368197  346.374768 -1234.803447 -31.141733  95.027325   \n",
       "2     -9747.368197  346.647668 -1235.776316 -31.237492  94.995890   \n",
       "3     -9747.368197  344.442563 -1227.915263 -31.306839  94.973059   \n",
       "4     -9747.368197  344.713264 -1228.880292 -31.402543  94.941457   \n",
       "...            ...         ...          ...        ...        ...   \n",
       "3595 -73979.037131    0.000000     0.000000  48.055342  87.696546   \n",
       "3596 -73979.037131    0.000000     0.000000  48.123881  87.658953   \n",
       "3597 -73979.037131    0.000000     0.000000  48.168050  87.634690   \n",
       "3598 -73979.037131    0.000000     0.000000  48.187868  87.623794   \n",
       "3599 -73979.037131    0.000000     0.000000  48.183346  87.626281   \n",
       "\n",
       "            speed o_ct_dist     o_t_dist    o_t_speed  \n",
       "0     1289.502122       NaN  6453.726376  1281.467842  \n",
       "1     1285.335456       NaN  6432.234674  1282.464437  \n",
       "2     1282.464437       NaN  6410.812416  1283.474857  \n",
       "3     1282.506103       NaN  6389.438009  1275.310383  \n",
       "4     1278.339437       NaN  6368.062907  1276.312660  \n",
       "...           ...       ...          ...          ...  \n",
       "3595  1258.562571       NaN   403.358632     0.000000  \n",
       "3596  1254.395904       NaN   383.370462     0.000000  \n",
       "3597  1250.229237       NaN   363.559238     0.000000  \n",
       "3598  1246.062571       NaN   343.942877     0.000000  \n",
       "3599   444.783394       NaN   324.543335     0.000000  \n",
       "\n",
       "[3600 rows x 37 columns]"
      ]
     },
     "execution_count": 8,
     "metadata": {},
     "output_type": "execute_result"
    }
   ],
   "source": [
    "df"
   ]
  },
  {
   "cell_type": "markdown",
   "id": "ac560f71",
   "metadata": {},
   "source": [
    "# Basic Ship Vitals"
   ]
  },
  {
   "cell_type": "markdown",
   "id": "9f457936",
   "metadata": {},
   "source": [
    "## Position and Heading"
   ]
  },
  {
   "cell_type": "code",
   "execution_count": 9,
   "id": "54491d9e",
   "metadata": {},
   "outputs": [
    {
     "data": {
      "application/vnd.jupyter.widget-view+json": {
       "model_id": "328f71f54b654f94a4d17c188f802a2d",
       "version_major": 2,
       "version_minor": 0
      },
      "text/plain": [
       "interactive(children=(FloatSlider(value=137.91666666666856, continuous_update=False, description='max_time', m…"
      ]
     },
     "metadata": {},
     "output_type": "display_data"
    },
    {
     "data": {
      "text/plain": [
       "<function __main__.plot_location_chart(max_time)>"
      ]
     },
     "execution_count": 9,
     "metadata": {},
     "output_type": "execute_result"
    }
   ],
   "source": [
    "def plot_location_chart(max_time):\n",
    "    sample = df[df[\"ts\"] <= max_time].iloc[::50]\n",
    "    plt.quiver(sample[\"loc.x\"], sample[\"loc.y\"], sample[\"angle.x\"], sample[\"angle.y\"])#, scale=100)\n",
    "    plt.scatter(sample[\"o.t_loc.x\"], sample[\"o.t_loc.y\"])\n",
    "    #center = (0,2500)\n",
    "    #radius = 10000\n",
    "    #plt.xlim(center[0]-radius,center[0]+radius)\n",
    "    #plt.ylim(center[1]-radius,center[1]+radius)\n",
    "\n",
    "ipywidgets.interact(plot_location_chart, max_time=ipywidgets.FloatSlider(value=df[\"ts\"].max(), min=df[\"ts\"].min(), max=df[\"ts\"].max(), continuous_update=False))"
   ]
  },
  {
   "cell_type": "code",
   "execution_count": 10,
   "id": "d6c36090",
   "metadata": {},
   "outputs": [
    {
     "data": {
      "text/plain": [
       "<matplotlib.collections.PathCollection at 0x7fabebac7220>"
      ]
     },
     "execution_count": 10,
     "metadata": {},
     "output_type": "execute_result"
    },
    {
     "data": {
      "image/png": "[encoded data removed]",
      "text/plain": [
       "<Figure size 432x288 with 1 Axes>"
      ]
     },
     "metadata": {
      "needs_background": "light"
     },
     "output_type": "display_data"
    }
   ],
   "source": [
    "plt.scatter(df[\"ts\"], df[\"loc.x\"])\n",
    "plt.scatter(df[\"ts\"], df[\"loc.y\"])"
   ]
  },
  {
   "cell_type": "code",
   "execution_count": 11,
   "id": "c345d2bd",
   "metadata": {},
   "outputs": [
    {
     "data": {
      "text/plain": [
       "<matplotlib.legend.Legend at 0x7fabe7b1a650>"
      ]
     },
     "execution_count": 11,
     "metadata": {},
     "output_type": "execute_result"
    },
    {
     "data": {
      "image/png": "[encoded data removed]",
      "text/plain": [
       "<Figure size 432x288 with 1 Axes>"
      ]
     },
     "metadata": {
      "needs_background": "light"
     },
     "output_type": "display_data"
    }
   ],
   "source": [
    "\n",
    "plt.scatter(df[\"ts\"], df[\"a\"], label=\"theta\")\n",
    "plt.scatter(df[\"ts\"], df[\"av\"], label=\"omega\")\n",
    "plt.hlines(np.pi, df[\"ts\"].min(), df[\"ts\"].max(), color=\"red\")\n",
    "plt.hlines(0, df[\"ts\"].min(), df[\"ts\"].max(), color=\"red\")\n",
    "plt.legend()\n"
   ]
  },
  {
   "cell_type": "markdown",
   "id": "3264c2f3",
   "metadata": {},
   "source": [
    "## Velocity and Acceleration"
   ]
  },
  {
   "cell_type": "code",
   "execution_count": 12,
   "id": "1ae991f7",
   "metadata": {
    "scrolled": true
   },
   "outputs": [
    {
     "data": {
      "text/plain": [
       "<matplotlib.collections.PathCollection at 0x7fabe8252230>"
      ]
     },
     "execution_count": 12,
     "metadata": {},
     "output_type": "execute_result"
    },
    {
     "data": {
      "image/png": "[encoded data removed]",
      "text/plain": [
       "<Figure size 432x288 with 1 Axes>"
      ]
     },
     "metadata": {
      "needs_background": "light"
     },
     "output_type": "display_data"
    }
   ],
   "source": [
    "plt.scatter(df[\"ts\"], df[\"v.x\"])\n",
    "plt.scatter(df[\"ts\"], df[\"v.y\"])"
   ]
  },
  {
   "cell_type": "code",
   "execution_count": 13,
   "id": "5261be92",
   "metadata": {
    "scrolled": true
   },
   "outputs": [
    {
     "data": {
      "image/png": "[encoded data removed]",
      "text/plain": [
       "<Figure size 432x288 with 1 Axes>"
      ]
     },
     "metadata": {
      "needs_background": "light"
     },
     "output_type": "display_data"
    }
   ],
   "source": [
    "#plt.scatter(df[\"ts\"], (df[\"v.x\"] - df[\"v.x\"].shift(-1)))#/(df[\"ts\"]-df[\"ts\"].shift(-1)))\n",
    "plt.scatter(df[\"ts\"], (df[\"v.x\"].shift(1) - df[\"v.x\"]) / (df[\"ts\"].shift(1) - df[\"ts\"]))\n",
    "plt.scatter(df[\"ts\"], (df[\"v.y\"].shift(1) - df[\"v.y\"]) / (df[\"ts\"].shift(1) - df[\"ts\"]))\n",
    "plt.yscale(\"symlog\")\n"
   ]
  },
  {
   "cell_type": "markdown",
   "id": "61742ada",
   "metadata": {},
   "source": [
    "# Behavior Monitoring"
   ]
  },
  {
   "cell_type": "code",
   "execution_count": 14,
   "id": "d2f1f520",
   "metadata": {},
   "outputs": [
    {
     "data": {
      "application/vnd.jupyter.widget-view+json": {
       "model_id": "01dc8e7c0bd440dd90b2d2551e3d79f1",
       "version_major": 2,
       "version_minor": 0
      },
      "text/plain": [
       "interactive(children=(FloatSlider(value=5.0, continuous_update=False, description='hist_length', max=59.983333…"
      ]
     },
     "metadata": {},
     "output_type": "display_data"
    },
    {
     "data": {
      "text/plain": [
       "<function __main__.plot_collision_info(hist_length, max_time)>"
      ]
     },
     "execution_count": 14,
     "metadata": {},
     "output_type": "execute_result"
    }
   ],
   "source": [
    "def plot_collision_info(hist_length, max_time):\n",
    "    sample = df[(df[\"ts\"] >= max_time - hist_length) & (df[\"ts\"] <= max_time)]\n",
    "    plt.scatter(sample[\"ts\"], (~(sample[\"o.ct\"].isna())).astype(int), label=\"ct\")\n",
    "    plt.scatter(sample[\"ts\"], sample[\"o.cs\"].fillna(0).astype(int)+0.05, label=\"cs\")\n",
    "    plt.scatter(sample[\"ts\"], sample[\"o.cac\"].fillna(0).astype(int)+0.1, label=\"cac\")\n",
    "    plt.scatter(sample[\"ts\"], sample[\"o.cbdr\"].fillna(0).astype(int)+0.15, label=\"cbdr\")\n",
    "    plt.legend()\n",
    "\n",
    "ipywidgets.interact(plot_collision_info, hist_length=ipywidgets.FloatSlider(value=5, min=0, max=df[\"ts\"].max()-df[\"ts\"].min(), continuous_update=False), max_time=ipywidgets.FloatSlider(value=df[\"ts\"].max(), min=df[\"ts\"].min(), max=df[\"ts\"].max()+1, continuous_update=False))"
   ]
  },
  {
   "cell_type": "markdown",
   "id": "045281ae",
   "metadata": {},
   "source": [
    "## Target Location"
   ]
  },
  {
   "cell_type": "code",
   "execution_count": 15,
   "id": "cfb42dfd",
   "metadata": {},
   "outputs": [
    {
     "data": {
      "text/html": [
       "<div>\n",
       "<style scoped>\n",
       "    .dataframe tbody tr th:only-of-type {\n",
       "        vertical-align: middle;\n",
       "    }\n",
       "\n",
       "    .dataframe tbody tr th {\n",
       "        vertical-align: top;\n",
       "    }\n",
       "\n",
       "    .dataframe thead th {\n",
       "        text-align: right;\n",
       "    }\n",
       "</style>\n",
       "<table border=\"1\" class=\"dataframe\">\n",
       "  <thead>\n",
       "    <tr style=\"text-align: right;\">\n",
       "      <th></th>\n",
       "      <th></th>\n",
       "      <th>count</th>\n",
       "      <th>mean</th>\n",
       "      <th>std</th>\n",
       "      <th>min</th>\n",
       "      <th>25%</th>\n",
       "      <th>50%</th>\n",
       "      <th>75%</th>\n",
       "      <th>max</th>\n",
       "    </tr>\n",
       "    <tr>\n",
       "      <th>o.t_loc.x</th>\n",
       "      <th>o.t_loc.y</th>\n",
       "      <th></th>\n",
       "      <th></th>\n",
       "      <th></th>\n",
       "      <th></th>\n",
       "      <th></th>\n",
       "      <th></th>\n",
       "      <th></th>\n",
       "      <th></th>\n",
       "    </tr>\n",
       "  </thead>\n",
       "  <tbody>\n",
       "    <tr>\n",
       "      <th>7278.881261</th>\n",
       "      <th>-9747.368197</th>\n",
       "      <td>481.0</td>\n",
       "      <td>81.933333</td>\n",
       "      <td>2.316617</td>\n",
       "      <td>77.933333</td>\n",
       "      <td>79.933333</td>\n",
       "      <td>81.933333</td>\n",
       "      <td>83.933333</td>\n",
       "      <td>85.933333</td>\n",
       "    </tr>\n",
       "    <tr>\n",
       "      <th>-26592.003599</th>\n",
       "      <th>-73979.037131</th>\n",
       "      <td>3118.0</td>\n",
       "      <td>111.941667</td>\n",
       "      <td>15.003890</td>\n",
       "      <td>85.966667</td>\n",
       "      <td>98.954167</td>\n",
       "      <td>111.941667</td>\n",
       "      <td>124.929167</td>\n",
       "      <td>137.916667</td>\n",
       "    </tr>\n",
       "  </tbody>\n",
       "</table>\n",
       "</div>"
      ],
      "text/plain": [
       "                              count        mean        std        min  \\\n",
       "o.t_loc.x     o.t_loc.y                                                 \n",
       " 7278.881261  -9747.368197    481.0   81.933333   2.316617  77.933333   \n",
       "-26592.003599 -73979.037131  3118.0  111.941667  15.003890  85.966667   \n",
       "\n",
       "                                   25%         50%         75%         max  \n",
       "o.t_loc.x     o.t_loc.y                                                     \n",
       " 7278.881261  -9747.368197   79.933333   81.933333   83.933333   85.933333  \n",
       "-26592.003599 -73979.037131  98.954167  111.941667  124.929167  137.916667  "
      ]
     },
     "execution_count": 15,
     "metadata": {},
     "output_type": "execute_result"
    }
   ],
   "source": [
    "if np.any(~df[\"o.t_loc\"].isna()):\n",
    "    x = df.groupby([\"o.t_loc.x\", \"o.t_loc.y\"])[\"ts\"].describe().sort_values([\"min\"])\n",
    "x"
   ]
  },
  {
   "cell_type": "code",
   "execution_count": 16,
   "id": "3b59aebb",
   "metadata": {
    "scrolled": true
   },
   "outputs": [
    {
     "data": {
      "text/html": [
       "<div>\n",
       "<style scoped>\n",
       "    .dataframe tbody tr th:only-of-type {\n",
       "        vertical-align: middle;\n",
       "    }\n",
       "\n",
       "    .dataframe tbody tr th {\n",
       "        vertical-align: top;\n",
       "    }\n",
       "\n",
       "    .dataframe thead th {\n",
       "        text-align: right;\n",
       "    }\n",
       "</style>\n",
       "<table border=\"1\" class=\"dataframe\">\n",
       "  <thead>\n",
       "    <tr style=\"text-align: right;\">\n",
       "      <th></th>\n",
       "      <th></th>\n",
       "      <th>count</th>\n",
       "      <th>mean</th>\n",
       "      <th>std</th>\n",
       "      <th>min</th>\n",
       "      <th>25%</th>\n",
       "      <th>50%</th>\n",
       "      <th>75%</th>\n",
       "      <th>max</th>\n",
       "    </tr>\n",
       "    <tr>\n",
       "      <th>o.t_loc.x</th>\n",
       "      <th>o.t_loc.y</th>\n",
       "      <th></th>\n",
       "      <th></th>\n",
       "      <th></th>\n",
       "      <th></th>\n",
       "      <th></th>\n",
       "      <th></th>\n",
       "      <th></th>\n",
       "      <th></th>\n",
       "    </tr>\n",
       "  </thead>\n",
       "  <tbody>\n",
       "    <tr>\n",
       "      <th>-26592.003599</th>\n",
       "      <th>-73979.037131</th>\n",
       "      <td>3118.0</td>\n",
       "      <td>42136.808504</td>\n",
       "      <td>24017.573465</td>\n",
       "      <td>324.543335</td>\n",
       "      <td>20674.527266</td>\n",
       "      <td>43402.650697</td>\n",
       "      <td>66130.763168</td>\n",
       "      <td>73277.045296</td>\n",
       "    </tr>\n",
       "    <tr>\n",
       "      <th>7278.881261</th>\n",
       "      <th>-9747.368197</th>\n",
       "      <td>481.0</td>\n",
       "      <td>2849.168695</td>\n",
       "      <td>1662.477774</td>\n",
       "      <td>908.564373</td>\n",
       "      <td>1340.839020</td>\n",
       "      <td>2427.456724</td>\n",
       "      <td>4151.206653</td>\n",
       "      <td>6453.726376</td>\n",
       "    </tr>\n",
       "  </tbody>\n",
       "</table>\n",
       "</div>"
      ],
      "text/plain": [
       "                              count          mean           std         min  \\\n",
       "o.t_loc.x     o.t_loc.y                                                       \n",
       "-26592.003599 -73979.037131  3118.0  42136.808504  24017.573465  324.543335   \n",
       " 7278.881261  -9747.368197    481.0   2849.168695   1662.477774  908.564373   \n",
       "\n",
       "                                      25%           50%           75%  \\\n",
       "o.t_loc.x     o.t_loc.y                                                 \n",
       "-26592.003599 -73979.037131  20674.527266  43402.650697  66130.763168   \n",
       " 7278.881261  -9747.368197    1340.839020   2427.456724   4151.206653   \n",
       "\n",
       "                                      max  \n",
       "o.t_loc.x     o.t_loc.y                    \n",
       "-26592.003599 -73979.037131  73277.045296  \n",
       " 7278.881261  -9747.368197    6453.726376  "
      ]
     },
     "execution_count": 16,
     "metadata": {},
     "output_type": "execute_result"
    }
   ],
   "source": [
    "if np.any(~df[\"o.t_loc\"].isna()):\n",
    "    x = df.groupby([\"o.t_loc.x\", \"o.t_loc.y\"])[\"o_t_dist\"].describe()\n",
    "x"
   ]
  },
  {
   "cell_type": "code",
   "execution_count": 17,
   "id": "efb07e1a",
   "metadata": {},
   "outputs": [
    {
     "data": {
      "text/plain": [
       "(324.54333498630774, 324.54333498630774)"
      ]
     },
     "execution_count": 17,
     "metadata": {},
     "output_type": "execute_result"
    },
    {
     "data": {
      "image/png": "[encoded data removed]",
      "text/plain": [
       "<Figure size 432x288 with 1 Axes>"
      ]
     },
     "metadata": {
      "needs_background": "light"
     },
     "output_type": "display_data"
    }
   ],
   "source": [
    "plt.scatter(df[\"ts\"], df[\"o_t_dist\"])\n",
    "plt.hlines(1000, df[\"ts\"].min(), df[\"ts\"].max(), color=\"red\")\n",
    "df[\"o_t_dist\"].min(),df[df[\"ts\"] > df[\"ts\"].max()-1][\"o_t_dist\"].min()"
   ]
  },
  {
   "cell_type": "code",
   "execution_count": 18,
   "id": "f7dba093",
   "metadata": {},
   "outputs": [
    {
     "data": {
      "text/plain": [
       "(0.0, 1837.5000000000005)"
      ]
     },
     "execution_count": 18,
     "metadata": {},
     "output_type": "execute_result"
    },
    {
     "data": {
      "image/png": "[encoded data removed]",
      "text/plain": [
       "<Figure size 432x288 with 1 Axes>"
      ]
     },
     "metadata": {
      "needs_background": "light"
     },
     "output_type": "display_data"
    }
   ],
   "source": [
    "plt.scatter(df[\"ts\"], df[\"speed\"], label=\"actual speed\")\n",
    "plt.scatter(df[\"ts\"], df[\"o_t_speed\"], label=\"desired speed\")\n",
    "plt.legend()\n",
    "plt.ylim(0)"
   ]
  },
  {
   "cell_type": "code",
   "execution_count": 19,
   "id": "b7a8be3e",
   "metadata": {
    "scrolled": true
   },
   "outputs": [
    {
     "data": {
      "text/plain": [
       "<matplotlib.collections.PathCollection at 0x7fabeae114e0>"
      ]
     },
     "execution_count": 19,
     "metadata": {},
     "output_type": "execute_result"
    },
    {
     "data": {
      "image/png": "[encoded data removed]",
      "text/plain": [
       "<Figure size 432x288 with 1 Axes>"
      ]
     },
     "metadata": {
      "needs_background": "light"
     },
     "output_type": "display_data"
    }
   ],
   "source": [
    "plt.scatter(df[\"ts\"], df[\"o_t_speed\"] - df[\"speed\"])"
   ]
  },
  {
   "cell_type": "markdown",
   "id": "284882dc",
   "metadata": {},
   "source": [
    "## Collision Avoidance"
   ]
  },
  {
   "cell_type": "code",
   "execution_count": 20,
   "id": "c564753d",
   "metadata": {},
   "outputs": [
    {
     "data": {
      "text/html": [
       "<div>\n",
       "<style scoped>\n",
       "    .dataframe tbody tr th:only-of-type {\n",
       "        vertical-align: middle;\n",
       "    }\n",
       "\n",
       "    .dataframe tbody tr th {\n",
       "        vertical-align: top;\n",
       "    }\n",
       "\n",
       "    .dataframe thead th {\n",
       "        text-align: right;\n",
       "    }\n",
       "</style>\n",
       "<table border=\"1\" class=\"dataframe\">\n",
       "  <thead>\n",
       "    <tr style=\"text-align: right;\">\n",
       "      <th></th>\n",
       "      <th>count</th>\n",
       "      <th>mean</th>\n",
       "      <th>std</th>\n",
       "      <th>min</th>\n",
       "      <th>25%</th>\n",
       "      <th>50%</th>\n",
       "      <th>75%</th>\n",
       "      <th>max</th>\n",
       "    </tr>\n",
       "    <tr>\n",
       "      <th>o.ct</th>\n",
       "      <th></th>\n",
       "      <th></th>\n",
       "      <th></th>\n",
       "      <th></th>\n",
       "      <th></th>\n",
       "      <th></th>\n",
       "      <th></th>\n",
       "      <th></th>\n",
       "    </tr>\n",
       "  </thead>\n",
       "  <tbody>\n",
       "    <tr>\n",
       "      <th>2bcc334f-ad77-43fa-8de6-3ede958c171a</th>\n",
       "      <td>78.0</td>\n",
       "      <td>89.226709</td>\n",
       "      <td>0.798313</td>\n",
       "      <td>85.983333</td>\n",
       "      <td>89.070833</td>\n",
       "      <td>89.391667</td>\n",
       "      <td>89.712500</td>\n",
       "      <td>90.033333</td>\n",
       "    </tr>\n",
       "    <tr>\n",
       "      <th>74bcec03-fe06-45c5-86f3-155fef9c8520</th>\n",
       "      <td>94.0</td>\n",
       "      <td>110.458333</td>\n",
       "      <td>0.454657</td>\n",
       "      <td>109.683333</td>\n",
       "      <td>110.070833</td>\n",
       "      <td>110.458333</td>\n",
       "      <td>110.845833</td>\n",
       "      <td>111.233333</td>\n",
       "    </tr>\n",
       "    <tr>\n",
       "      <th>960a55a3-5c61-4981-81c0-f62c76086d51</th>\n",
       "      <td>1.0</td>\n",
       "      <td>86.000000</td>\n",
       "      <td>NaN</td>\n",
       "      <td>86.000000</td>\n",
       "      <td>86.000000</td>\n",
       "      <td>86.000000</td>\n",
       "      <td>86.000000</td>\n",
       "      <td>86.000000</td>\n",
       "    </tr>\n",
       "    <tr>\n",
       "      <th>de5c3905-5bd1-456c-b665-bcd02f2e544a</th>\n",
       "      <td>129.0</td>\n",
       "      <td>133.716667</td>\n",
       "      <td>0.623053</td>\n",
       "      <td>132.650000</td>\n",
       "      <td>133.183333</td>\n",
       "      <td>133.716667</td>\n",
       "      <td>134.250000</td>\n",
       "      <td>134.783333</td>\n",
       "    </tr>\n",
       "  </tbody>\n",
       "</table>\n",
       "</div>"
      ],
      "text/plain": [
       "                                      count        mean       std         min  \\\n",
       "o.ct                                                                            \n",
       "2bcc334f-ad77-43fa-8de6-3ede958c171a   78.0   89.226709  0.798313   85.983333   \n",
       "74bcec03-fe06-45c5-86f3-155fef9c8520   94.0  110.458333  0.454657  109.683333   \n",
       "960a55a3-5c61-4981-81c0-f62c76086d51    1.0   86.000000       NaN   86.000000   \n",
       "de5c3905-5bd1-456c-b665-bcd02f2e544a  129.0  133.716667  0.623053  132.650000   \n",
       "\n",
       "                                             25%         50%         75%  \\\n",
       "o.ct                                                                       \n",
       "2bcc334f-ad77-43fa-8de6-3ede958c171a   89.070833   89.391667   89.712500   \n",
       "74bcec03-fe06-45c5-86f3-155fef9c8520  110.070833  110.458333  110.845833   \n",
       "960a55a3-5c61-4981-81c0-f62c76086d51   86.000000   86.000000   86.000000   \n",
       "de5c3905-5bd1-456c-b665-bcd02f2e544a  133.183333  133.716667  134.250000   \n",
       "\n",
       "                                             max  \n",
       "o.ct                                              \n",
       "2bcc334f-ad77-43fa-8de6-3ede958c171a   90.033333  \n",
       "74bcec03-fe06-45c5-86f3-155fef9c8520  111.233333  \n",
       "960a55a3-5c61-4981-81c0-f62c76086d51   86.000000  \n",
       "de5c3905-5bd1-456c-b665-bcd02f2e544a  134.783333  "
      ]
     },
     "execution_count": 20,
     "metadata": {},
     "output_type": "execute_result"
    }
   ],
   "source": [
    "if np.any(~df[\"o.ct\"].isna()):\n",
    "    x = df.groupby(\"o.ct\")[\"ts\"].describe()\n",
    "else:\n",
    "    x = \"no collision threats\"\n",
    "x"
   ]
  },
  {
   "cell_type": "code",
   "execution_count": 21,
   "id": "ca3b3dfc",
   "metadata": {},
   "outputs": [
    {
     "data": {
      "text/html": [
       "<div>\n",
       "<style scoped>\n",
       "    .dataframe tbody tr th:only-of-type {\n",
       "        vertical-align: middle;\n",
       "    }\n",
       "\n",
       "    .dataframe tbody tr th {\n",
       "        vertical-align: top;\n",
       "    }\n",
       "\n",
       "    .dataframe thead th {\n",
       "        text-align: right;\n",
       "    }\n",
       "</style>\n",
       "<table border=\"1\" class=\"dataframe\">\n",
       "  <thead>\n",
       "    <tr style=\"text-align: right;\">\n",
       "      <th></th>\n",
       "      <th>count</th>\n",
       "      <th>mean</th>\n",
       "      <th>std</th>\n",
       "      <th>min</th>\n",
       "      <th>25%</th>\n",
       "      <th>50%</th>\n",
       "      <th>75%</th>\n",
       "      <th>max</th>\n",
       "    </tr>\n",
       "    <tr>\n",
       "      <th>o.ct</th>\n",
       "      <th></th>\n",
       "      <th></th>\n",
       "      <th></th>\n",
       "      <th></th>\n",
       "      <th></th>\n",
       "      <th></th>\n",
       "      <th></th>\n",
       "      <th></th>\n",
       "    </tr>\n",
       "  </thead>\n",
       "  <tbody>\n",
       "    <tr>\n",
       "      <th>2bcc334f-ad77-43fa-8de6-3ede958c171a</th>\n",
       "      <td>78.0</td>\n",
       "      <td>886.618093</td>\n",
       "      <td>12.591733</td>\n",
       "      <td>865.654324</td>\n",
       "      <td>875.856004</td>\n",
       "      <td>886.390607</td>\n",
       "      <td>897.245880</td>\n",
       "      <td>908.557898</td>\n",
       "    </tr>\n",
       "    <tr>\n",
       "      <th>74bcec03-fe06-45c5-86f3-155fef9c8520</th>\n",
       "      <td>94.0</td>\n",
       "      <td>45119.406845</td>\n",
       "      <td>795.189537</td>\n",
       "      <td>43764.045469</td>\n",
       "      <td>44441.671388</td>\n",
       "      <td>45119.346381</td>\n",
       "      <td>45797.086480</td>\n",
       "      <td>46475.073649</td>\n",
       "    </tr>\n",
       "    <tr>\n",
       "      <th>960a55a3-5c61-4981-81c0-f62c76086d51</th>\n",
       "      <td>1.0</td>\n",
       "      <td>36683.614787</td>\n",
       "      <td>NaN</td>\n",
       "      <td>36683.614787</td>\n",
       "      <td>36683.614787</td>\n",
       "      <td>36683.614787</td>\n",
       "      <td>36683.614787</td>\n",
       "      <td>36683.614787</td>\n",
       "    </tr>\n",
       "    <tr>\n",
       "      <th>de5c3905-5bd1-456c-b665-bcd02f2e544a</th>\n",
       "      <td>129.0</td>\n",
       "      <td>3143.122715</td>\n",
       "      <td>1488.046722</td>\n",
       "      <td>650.236096</td>\n",
       "      <td>1858.885408</td>\n",
       "      <td>3133.863193</td>\n",
       "      <td>4417.860455</td>\n",
       "      <td>5704.779002</td>\n",
       "    </tr>\n",
       "  </tbody>\n",
       "</table>\n",
       "</div>"
      ],
      "text/plain": [
       "                                      count          mean          std  \\\n",
       "o.ct                                                                     \n",
       "2bcc334f-ad77-43fa-8de6-3ede958c171a   78.0    886.618093    12.591733   \n",
       "74bcec03-fe06-45c5-86f3-155fef9c8520   94.0  45119.406845   795.189537   \n",
       "960a55a3-5c61-4981-81c0-f62c76086d51    1.0  36683.614787          NaN   \n",
       "de5c3905-5bd1-456c-b665-bcd02f2e544a  129.0   3143.122715  1488.046722   \n",
       "\n",
       "                                               min           25%  \\\n",
       "o.ct                                                               \n",
       "2bcc334f-ad77-43fa-8de6-3ede958c171a    865.654324    875.856004   \n",
       "74bcec03-fe06-45c5-86f3-155fef9c8520  43764.045469  44441.671388   \n",
       "960a55a3-5c61-4981-81c0-f62c76086d51  36683.614787  36683.614787   \n",
       "de5c3905-5bd1-456c-b665-bcd02f2e544a    650.236096   1858.885408   \n",
       "\n",
       "                                               50%           75%           max  \n",
       "o.ct                                                                            \n",
       "2bcc334f-ad77-43fa-8de6-3ede958c171a    886.390607    897.245880    908.557898  \n",
       "74bcec03-fe06-45c5-86f3-155fef9c8520  45119.346381  45797.086480  46475.073649  \n",
       "960a55a3-5c61-4981-81c0-f62c76086d51  36683.614787  36683.614787  36683.614787  \n",
       "de5c3905-5bd1-456c-b665-bcd02f2e544a   3133.863193   4417.860455   5704.779002  "
      ]
     },
     "execution_count": 21,
     "metadata": {},
     "output_type": "execute_result"
    }
   ],
   "source": [
    "if np.any(~df[\"o.ct\"].isna()):\n",
    "    x = df.groupby(\"o.ct\")[\"o_ct_dist\"].describe()\n",
    "else:\n",
    "    x = \"no collision threats\"\n",
    "x"
   ]
  },
  {
   "cell_type": "code",
   "execution_count": 22,
   "id": "08e2adaf",
   "metadata": {},
   "outputs": [
    {
     "data": {
      "text/plain": [
       "(0.0, 48783.82733189761)"
      ]
     },
     "execution_count": 22,
     "metadata": {},
     "output_type": "execute_result"
    },
    {
     "data": {
      "image/png": "[encoded data removed]",
      "text/plain": [
       "<Figure size 432x288 with 1 Axes>"
      ]
     },
     "metadata": {
      "needs_background": "light"
     },
     "output_type": "display_data"
    }
   ],
   "source": [
    "plt.scatter(df[\"ts\"], df[\"o_ct_dist\"])\n",
    "plt.hlines(300, df[\"ts\"].min(), df[\"ts\"].max(), color=\"red\")\n",
    "plt.ylim(0)"
   ]
  },
  {
   "cell_type": "code",
   "execution_count": 23,
   "id": "0ca81ca9",
   "metadata": {},
   "outputs": [
    {
     "data": {
      "text/plain": [
       "<matplotlib.collections.PathCollection at 0x7fabec41bbe0>"
      ]
     },
     "execution_count": 23,
     "metadata": {},
     "output_type": "execute_result"
    },
    {
     "data": {
      "image/png": "[encoded data removed]",
      "text/plain": [
       "<Figure size 432x288 with 2 Axes>"
      ]
     },
     "metadata": {
      "needs_background": "light"
     },
     "output_type": "display_data"
    }
   ],
   "source": [
    "fig, ax1 = plt.subplots()\n",
    "ax2 = ax1.twinx()\n",
    "\n",
    "ax1.scatter(df[\"ts\"], 1-df[\"o.ct\"].isna().astype(int))\n",
    "ax2.scatter(df[\"ts\"], df[\"ts\"] - df[\"o.ct_ts\"], color=\"orange\")\n",
    "\n",
    "#ax2.set_ylim(0,(df[\"ts\"] - df[\"o.ct_ts\"]).max()*1.2)"
   ]
  },
  {
   "cell_type": "markdown",
   "id": "235d51e2",
   "metadata": {},
   "source": [
    "# History Visualization"
   ]
  },
  {
   "cell_type": "markdown",
   "id": "ead35090",
   "metadata": {},
   "source": [
    "## Position and Velocity"
   ]
  },
  {
   "cell_type": "code",
   "execution_count": 24,
   "id": "7560ad6a",
   "metadata": {},
   "outputs": [
    {
     "data": {
      "application/vnd.jupyter.widget-view+json": {
       "model_id": "43281f04c5134b1784c36639a21a69d4",
       "version_major": 2,
       "version_minor": 0
      },
      "text/plain": [
       "interactive(children=(FloatSlider(value=5.0, continuous_update=False, description='hist_length', max=59.983333…"
      ]
     },
     "metadata": {},
     "output_type": "display_data"
    },
    {
     "data": {
      "text/plain": [
       "<function __main__.plot_collision_chart(hist_length=137.91666666666856, max_time=137.91666666666856)>"
      ]
     },
     "execution_count": 24,
     "metadata": {},
     "output_type": "execute_result"
    }
   ],
   "source": [
    "def plot_collision_chart(hist_length=df[\"ts\"].max(), max_time=df[\"ts\"].max()):\n",
    "    plt.figure(figsize=(10, 10))\n",
    "    sample = df[(df[\"ts\"] >= max_time - hist_length) & (df[\"ts\"] <= max_time)].iloc[::20]\n",
    "    plt.quiver(sample[\"loc.x\"], sample[\"loc.y\"], sample[\"v.x\"], sample[\"v.y\"], label=\"v\")\n",
    "    ctdv_df = sample[~(sample[\"o.ct_dv\"].isna())]\n",
    "    plt.quiver(ctdv_df[\"loc.x\"], ctdv_df[\"loc.y\"], ctdv_df[\"o.ct_dv.x\"], ctdv_df[\"o.ct_dv.y\"], label=\"ctdv\", color=\"orange\")\n",
    "    plt.quiver(sample[\"loc.x\"], sample[\"loc.y\"], sample[\"o.t_v.x\"], sample[\"o.t_v.y\"], label=\"tv\", color=\"purple\")\n",
    "    cmap = plt.get_cmap('viridis')\n",
    "    for x, c in zip(df[\"o.ct\"].unique(), cmap(np.linspace(0, 1, len(df[\"o.ct\"].unique())))):\n",
    "        if not isinstance(x, str):\n",
    "            continue\n",
    "        ct = sample[sample[\"o.ct\"] == x]\n",
    "        if len(ct) == 0:\n",
    "            continue\n",
    "        plt.scatter(ct[\"o.ct_loc.x\"], ct[\"o.ct_loc.y\"], color=c, label=x[:8])\n",
    "    plt.scatter(sample[\"o.t_loc.x\"], sample[\"o.t_loc.y\"], label=\"t_loc\")\n",
    "    plt.axis('equal')\n",
    "    #center = (-33555, -5000)\n",
    "    #radius = 15000\n",
    "    #plt.xlim(center[0]-radius,center[0]+radius)\n",
    "    #plt.ylim(center[1]-radius,center[1]+radius)\n",
    "\n",
    "    plt.legend()\n",
    "    plt.show()\n",
    "    \n",
    "ipywidgets.interact(plot_collision_chart, hist_length=ipywidgets.FloatSlider(value=5, min=0, max=df[\"ts\"].max()-df[\"ts\"].min(), continuous_update=False), max_time=ipywidgets.FloatSlider(value=df[\"ts\"].max(), min=df[\"ts\"].min(), max=df[\"ts\"].max(), continuous_update=False))"
   ]
  },
  {
   "cell_type": "markdown",
   "id": "cabc4a17",
   "metadata": {},
   "source": [
    "## Position and Heading"
   ]
  },
  {
   "cell_type": "code",
   "execution_count": 25,
   "id": "0941ebee",
   "metadata": {},
   "outputs": [
    {
     "data": {
      "application/vnd.jupyter.widget-view+json": {
       "model_id": "2879182bab0e4e5eb1b60c8e8cbb4040",
       "version_major": 2,
       "version_minor": 0
      },
      "text/plain": [
       "interactive(children=(FloatSlider(value=5.0, continuous_update=False, description='hist_length', max=59.983333…"
      ]
     },
     "metadata": {},
     "output_type": "display_data"
    },
    {
     "data": {
      "text/plain": [
       "<function __main__.plot_collision_chart(hist_length=137.91666666666856, max_time=137.91666666666856)>"
      ]
     },
     "execution_count": 25,
     "metadata": {},
     "output_type": "execute_result"
    }
   ],
   "source": [
    "def plot_collision_chart(hist_length=df[\"ts\"].max(), max_time=df[\"ts\"].max()):\n",
    "    sample = df[(df[\"ts\"] >= max_time - hist_length) & (df[\"ts\"] <= max_time)].iloc[::20]\n",
    "    plt.quiver(sample[\"loc.x\"], sample[\"loc.y\"], sample[\"angle.x\"], sample[\"angle.y\"], label=\"ship\")\n",
    "    ctdv_df = sample[~(sample[\"o.ct_dv\"].isna())]\n",
    "    plt.quiver(ctdv_df[\"loc.x\"], ctdv_df[\"loc.y\"], ctdv_df[\"o.ct_dv.x\"], ctdv_df[\"o.ct_dv.y\"], label=\"ctdv\", color=\"orange\")\n",
    "    plt.quiver(sample[\"loc.x\"], sample[\"loc.y\"], sample[\"o.t_v.x\"], sample[\"o.t_v.y\"], label=\"tv\", color=\"purple\")\n",
    "    cmap = plt.get_cmap('viridis')\n",
    "    for x, c in zip(df[\"o.ct\"].unique(), cmap(np.linspace(0, 1, len(sample[\"o.ct\"].unique())))):\n",
    "        if not isinstance(x, str):\n",
    "            continue\n",
    "        ct = sample[sample[\"o.ct\"] == x]\n",
    "        plt.scatter(ct[\"o.ct_loc.x\"], ct[\"o.ct_loc.y\"], color=c, label=x[:8])\n",
    "    plt.scatter(sample[\"o.t_loc.x\"], sample[\"o.t_loc.y\"], label=\"t_loc\")\n",
    "    #plt.axis('square')\n",
    "    #center = (-33555, -5000)\n",
    "    #radius = 15000\n",
    "    #plt.xlim(center[0]-radius,center[0]+radius)\n",
    "    #plt.ylim(center[1]-radius,center[1]+radius)\n",
    "\n",
    "    plt.legend()\n",
    "    plt.axis('equal')\n",
    "    plt.show()\n",
    "    \n",
    "ipywidgets.interact(plot_collision_chart, hist_length=ipywidgets.FloatSlider(value=5, min=0, max=df[\"ts\"].max()-df[\"ts\"].min(), continuous_update=False), max_time=ipywidgets.FloatSlider(value=df[\"ts\"].max(), min=df[\"ts\"].min(), max=df[\"ts\"].max(), continuous_update=False))"
   ]
  },
  {
   "cell_type": "markdown",
   "id": "1242005a",
   "metadata": {},
   "source": [
    "# "
   ]
  }
 ],
 "metadata": {
  "kernelspec": {
   "display_name": "Python 3 (ipykernel)",
   "language": "python",
   "name": "python3"
  },
  "language_info": {
   "codemirror_mode": {
    "name": "ipython",
    "version": 3
   },
   "file_extension": ".py",
   "mimetype": "text/x-python",
   "name": "python",
   "nbconvert_exporter": "python",
   "pygments_lexer": "ipython3",
   "version": "3.10.1"
  }
 },
 "nbformat": 4,
 "nbformat_minor": 5
}
