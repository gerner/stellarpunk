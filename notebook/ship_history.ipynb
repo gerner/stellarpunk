{
 "cells": [
  {
   "cell_type": "code",
   "execution_count": 1,
   "id": "bc73d5c7",
   "metadata": {},
   "outputs": [],
   "source": [
    "import json\n",
    "\n",
    "import pandas as pd\n",
    "import numpy as np\n",
    "from matplotlib import pyplot as plt\n",
    "import ipywidgets\n",
    "\n",
    "from stellarpunk import util"
   ]
  },
  {
   "cell_type": "markdown",
   "id": "c618e9be",
   "metadata": {},
   "source": [
    "# Loading and Preparing Data"
   ]
  },
  {
   "cell_type": "code",
   "execution_count": 2,
   "id": "b0381971",
   "metadata": {},
   "outputs": [],
   "source": [
    "df_base = pd.read_json(\"/tmp/stellarpunk.history\", lines=True)\n",
    "df_base = df_base.join(pd.json_normalize(df_base[\"o\"]).add_prefix(\"o.\"))"
   ]
  },
  {
   "cell_type": "code",
   "execution_count": 3,
   "id": "13a08586",
   "metadata": {},
   "outputs": [
    {
     "data": {
      "text/plain": [
       "0    aeb10ab4-7e56-4681-9504-08d8d2d9b638\n",
       "dtype: object"
      ]
     },
     "execution_count": 3,
     "metadata": {},
     "output_type": "execute_result"
    }
   ],
   "source": [
    "eids = pd.Series(df_base[\"eid\"].unique())\n",
    "eids"
   ]
  },
  {
   "cell_type": "code",
   "execution_count": 4,
   "id": "c280f484",
   "metadata": {},
   "outputs": [
    {
     "data": {
      "text/plain": [
       "Series([], dtype: object)"
      ]
     },
     "execution_count": 4,
     "metadata": {},
     "output_type": "execute_result"
    }
   ],
   "source": [
    "eids[pd.Series(df_base[\"eid\"].unique()).str.startswith(\"1aec\")]"
   ]
  },
  {
   "cell_type": "code",
   "execution_count": 5,
   "id": "3cc86fa5",
   "metadata": {},
   "outputs": [
    {
     "data": {
      "text/plain": [
       "array(['aeb10ab4-7e56-4681-9504-08d8d2d9b638'], dtype=object)"
      ]
     },
     "execution_count": 5,
     "metadata": {},
     "output_type": "execute_result"
    }
   ],
   "source": [
    "target_eid = df_base[\"eid\"].unique()[0]\n",
    "df_base = df_base[df_base[\"eid\"] == target_eid].reset_index()\n",
    "df_base[\"eid\"].unique()"
   ]
  },
  {
   "cell_type": "code",
   "execution_count": 6,
   "id": "0f065c57",
   "metadata": {},
   "outputs": [],
   "source": [
    "loc = pd.DataFrame(np.vstack(df_base[\"loc\"]), columns=[\"loc.x\", \"loc.y\"])\n",
    "v = pd.DataFrame(np.vstack(df_base[\"v\"]), columns=[\"v.x\", \"v.y\"])\n",
    "\n",
    "empty_array = np.empty(len(df_base))\n",
    "empty_array[:] = np.nan\n",
    "\n",
    "if \"o.t_loc\" in df_base:\n",
    "    o_tloc = pd.DataFrame(np.vstack(df_base[\"o.t_loc\"].apply(lambda x: (np.nan, np.nan) if np.all(np.isnan(x)) else x)), columns=[\"o.t_loc.x\", \"o.t_loc.y\"])\n",
    "    o_tv = pd.DataFrame(np.vstack(df_base[\"o.t_v\"].apply(lambda x: (np.nan, np.nan) if np.all(np.isnan(x)) else x)), columns=[\"o.t_v.x\", \"o.t_v.y\"])\n",
    "else:\n",
    "    o_tloc = pd.DataFrame({\"o.t_loc\": empty_array, \"o.t_loc.x\": empty_array, \"o.t_loc.y\": empty_array})\n",
    "    o_tv = pd.DataFrame({\"o.t_v\": empty_array, \"o.t_v.x\": empty_array, \"o.t_v.y\": empty_array})\n",
    "    \n",
    "if \"o.ct\" in df_base:\n",
    "    o_ctloc = pd.DataFrame(np.vstack(df_base[\"o.ct_loc\"].apply(lambda x: (np.nan, np.nan) if np.all(np.isnan(x)) else x)), columns=[\"o.ct_loc.x\", \"o.ct_loc.y\"])\n",
    "    o_ctdv = pd.DataFrame(np.vstack(df_base[\"o.ct_dv\"].apply(lambda x: (np.nan, np.nan) if np.all(np.isnan(x)) else x)), columns=[\"o.ct_dv.x\", \"o.ct_dv.y\"])\n",
    "else:\n",
    "    o_ctloc = pd.DataFrame({\"o.ct_loc\": empty_array, \"o.ct_loc.x\": empty_array, \"o.ct_loc.y\": empty_array})\n",
    "    o_ctdv = pd.DataFrame({\"o.ct_dv\": empty_array, \"o.ct_dv.x\": empty_array, \"o.ct_dv.y\": empty_array})\n",
    "angle = pd.DataFrame(np.vstack(df_base.apply(lambda row: np.array(util.polar_to_cartesian(100, row[\"a\"])), axis=1)), columns=[\"angle.x\", \"angle.y\"])\n",
    "df = pd.concat([df_base, loc, v, o_ctloc, o_ctdv, o_tloc, o_tv, angle], axis=1)\n",
    "\n",
    "if \"o.ct\" not in df_base:\n",
    "    df[\"o.ct\"] = empty_array\n",
    "    df[\"o.ct_ts\"] = empty_array\n",
    "    df[\"o.cac\"] = empty_array\n",
    "    df[\"o.cbdr\"] = empty_array\n",
    "    \n",
    "if \"o.t_loc\" not in df_base:\n",
    "    df[\"o.cs\"] = empty_array"
   ]
  },
  {
   "cell_type": "code",
   "execution_count": 7,
   "id": "daebdd60",
   "metadata": {},
   "outputs": [],
   "source": [
    "df[\"speed\"] = np.linalg.norm(df[[\"v.x\", \"v.y\"]], axis=1)\n",
    "df[\"o_ct_dist\"] = np.linalg.norm(np.vstack(df[\"loc\"]) - np.vstack(df[\"o.ct_loc\"].apply(lambda x: (np.nan, np.nan) if np.all(np.isnan(x)) else x)), axis=1)\n",
    "df[\"o_t_dist\"] = np.linalg.norm(np.vstack(df[\"loc\"]) - np.vstack(df[\"o.t_loc\"].apply(lambda x: (np.nan, np.nan) if np.all(np.isnan(x)) else x)), axis=1)\n",
    "df[\"o_t_speed\"] = np.linalg.norm(df[[\"o.t_v.x\", \"o.t_v.y\"]], axis=1)\n",
    "df[\"f_mag\"] = df[\"f\"].apply(lambda x:np.linalg.norm(x))"
   ]
  },
  {
   "cell_type": "code",
   "execution_count": 8,
   "id": "08c9940d",
   "metadata": {},
   "outputs": [],
   "source": [
    "df[\"o_ct_v.x\"] = (df[\"o.ct_loc.x\"].shift(1) - df[\"o.ct_loc.x\"]) / (df[\"ts\"].shift(1) - df[\"ts\"])\n",
    "df[\"o_ct_v.y\"] = (df[\"o.ct_loc.y\"].shift(1) - df[\"o.ct_loc.y\"]) / (df[\"ts\"].shift(1) - df[\"ts\"])"
   ]
  },
  {
   "cell_type": "code",
   "execution_count": 9,
   "id": "e621078d",
   "metadata": {},
   "outputs": [
    {
     "data": {
      "text/html": [
       "<div>\n",
       "<style scoped>\n",
       "    .dataframe tbody tr th:only-of-type {\n",
       "        vertical-align: middle;\n",
       "    }\n",
       "\n",
       "    .dataframe tbody tr th {\n",
       "        vertical-align: top;\n",
       "    }\n",
       "\n",
       "    .dataframe thead th {\n",
       "        text-align: right;\n",
       "    }\n",
       "</style>\n",
       "<table border=\"1\" class=\"dataframe\">\n",
       "  <thead>\n",
       "    <tr style=\"text-align: right;\">\n",
       "      <th></th>\n",
       "      <th>index</th>\n",
       "      <th>eid</th>\n",
       "      <th>ts</th>\n",
       "      <th>loc</th>\n",
       "      <th>a</th>\n",
       "      <th>v</th>\n",
       "      <th>av</th>\n",
       "      <th>f</th>\n",
       "      <th>t</th>\n",
       "      <th>o</th>\n",
       "      <th>...</th>\n",
       "      <th>o.t_v.y</th>\n",
       "      <th>angle.x</th>\n",
       "      <th>angle.y</th>\n",
       "      <th>speed</th>\n",
       "      <th>o_ct_dist</th>\n",
       "      <th>o_t_dist</th>\n",
       "      <th>o_t_speed</th>\n",
       "      <th>f_mag</th>\n",
       "      <th>o_ct_v.x</th>\n",
       "      <th>o_ct_v.y</th>\n",
       "    </tr>\n",
       "  </thead>\n",
       "  <tbody>\n",
       "    <tr>\n",
       "      <th>0</th>\n",
       "      <td>0</td>\n",
       "      <td>aeb10ab4-7e56-4681-9504-08d8d2d9b638</td>\n",
       "      <td>42.433333</td>\n",
       "      <td>[27508.36249723718, 17234.63948507875]</td>\n",
       "      <td>-6.007544</td>\n",
       "      <td>[-855.3667468257953, -43.68059256713582]</td>\n",
       "      <td>0.128773</td>\n",
       "      <td>[4993.493252878923, 255.00026167176955]</td>\n",
       "      <td>-900000.0</td>\n",
       "      <td>{'o': 'stellarpunk.orders.GoToLocation', 'nnd'...</td>\n",
       "      <td>...</td>\n",
       "      <td>-43.413822</td>\n",
       "      <td>96.225077</td>\n",
       "      <td>27.216439</td>\n",
       "      <td>856.481328</td>\n",
       "      <td>NaN</td>\n",
       "      <td>10422.055551</td>\n",
       "      <td>851.250530</td>\n",
       "      <td>5000.000000</td>\n",
       "      <td>NaN</td>\n",
       "      <td>NaN</td>\n",
       "    </tr>\n",
       "    <tr>\n",
       "      <th>1</th>\n",
       "      <td>1</td>\n",
       "      <td>aeb10ab4-7e56-4681-9504-08d8d2d9b638</td>\n",
       "      <td>42.450000</td>\n",
       "      <td>[27494.106384790084, 17233.911475202633]</td>\n",
       "      <td>-6.005397</td>\n",
       "      <td>[-855.3251343820214, -43.67846756495522]</td>\n",
       "      <td>0.112106</td>\n",
       "      <td>[4993.493252878919, 255.00026167186655]</td>\n",
       "      <td>-900000.0</td>\n",
       "      <td>{'o': 'stellarpunk.orders.GoToLocation', 'nnd'...</td>\n",
       "      <td>...</td>\n",
       "      <td>-43.531727</td>\n",
       "      <td>96.166443</td>\n",
       "      <td>27.422896</td>\n",
       "      <td>856.439662</td>\n",
       "      <td>NaN</td>\n",
       "      <td>10407.780862</td>\n",
       "      <td>853.562397</td>\n",
       "      <td>5000.000000</td>\n",
       "      <td>NaN</td>\n",
       "      <td>NaN</td>\n",
       "    </tr>\n",
       "    <tr>\n",
       "      <th>2</th>\n",
       "      <td>2</td>\n",
       "      <td>aeb10ab4-7e56-4681-9504-08d8d2d9b638</td>\n",
       "      <td>42.466667</td>\n",
       "      <td>[27479.850965883717, 17233.183500743216]</td>\n",
       "      <td>-6.003529</td>\n",
       "      <td>[-855.2835219382474, -43.67634256277462]</td>\n",
       "      <td>0.095440</td>\n",
       "      <td>[4993.493252878846, 255.0002616732792]</td>\n",
       "      <td>-900000.0</td>\n",
       "      <td>{'o': 'stellarpunk.orders.GoToLocation', 'nnd'...</td>\n",
       "      <td>...</td>\n",
       "      <td>-43.650253</td>\n",
       "      <td>96.115037</td>\n",
       "      <td>27.602529</td>\n",
       "      <td>856.397995</td>\n",
       "      <td>NaN</td>\n",
       "      <td>10393.506868</td>\n",
       "      <td>855.886438</td>\n",
       "      <td>5000.000000</td>\n",
       "      <td>NaN</td>\n",
       "      <td>NaN</td>\n",
       "    </tr>\n",
       "    <tr>\n",
       "      <th>3</th>\n",
       "      <td>3</td>\n",
       "      <td>aeb10ab4-7e56-4681-9504-08d8d2d9b638</td>\n",
       "      <td>42.483333</td>\n",
       "      <td>[27465.59624051808, 17232.455561700503]</td>\n",
       "      <td>-6.001938</td>\n",
       "      <td>[-855.2419094944735, -43.67421756059401]</td>\n",
       "      <td>0.078773</td>\n",
       "      <td>[-4993.493252878964, -255.0002616709628]</td>\n",
       "      <td>900000.0</td>\n",
       "      <td>{'o': 'stellarpunk.orders.GoToLocation', 'nnd'...</td>\n",
       "      <td>...</td>\n",
       "      <td>-43.769403</td>\n",
       "      <td>96.071010</td>\n",
       "      <td>27.755380</td>\n",
       "      <td>856.356328</td>\n",
       "      <td>NaN</td>\n",
       "      <td>10379.233568</td>\n",
       "      <td>858.222712</td>\n",
       "      <td>5000.000000</td>\n",
       "      <td>NaN</td>\n",
       "      <td>NaN</td>\n",
       "    </tr>\n",
       "    <tr>\n",
       "      <th>4</th>\n",
       "      <td>4</td>\n",
       "      <td>aeb10ab4-7e56-4681-9504-08d8d2d9b638</td>\n",
       "      <td>42.500000</td>\n",
       "      <td>[27451.34220869317, 17231.72765807449]</td>\n",
       "      <td>-6.000625</td>\n",
       "      <td>[-855.2835219382474, -43.6763425627746]</td>\n",
       "      <td>0.095440</td>\n",
       "      <td>[4993.493252878904, 255.00026167213468]</td>\n",
       "      <td>-900000.0</td>\n",
       "      <td>{'o': 'stellarpunk.orders.GoToLocation', 'nnd'...</td>\n",
       "      <td>...</td>\n",
       "      <td>-43.510774</td>\n",
       "      <td>96.034487</td>\n",
       "      <td>27.881486</td>\n",
       "      <td>856.397995</td>\n",
       "      <td>NaN</td>\n",
       "      <td>10364.960962</td>\n",
       "      <td>853.151549</td>\n",
       "      <td>5000.000000</td>\n",
       "      <td>NaN</td>\n",
       "      <td>NaN</td>\n",
       "    </tr>\n",
       "    <tr>\n",
       "      <th>...</th>\n",
       "      <td>...</td>\n",
       "      <td>...</td>\n",
       "      <td>...</td>\n",
       "      <td>...</td>\n",
       "      <td>...</td>\n",
       "      <td>...</td>\n",
       "      <td>...</td>\n",
       "      <td>...</td>\n",
       "      <td>...</td>\n",
       "      <td>...</td>\n",
       "      <td>...</td>\n",
       "      <td>...</td>\n",
       "      <td>...</td>\n",
       "      <td>...</td>\n",
       "      <td>...</td>\n",
       "      <td>...</td>\n",
       "      <td>...</td>\n",
       "      <td>...</td>\n",
       "      <td>...</td>\n",
       "      <td>...</td>\n",
       "      <td>...</td>\n",
       "    </tr>\n",
       "    <tr>\n",
       "      <th>3595</th>\n",
       "      <td>3595</td>\n",
       "      <td>aeb10ab4-7e56-4681-9504-08d8d2d9b638</td>\n",
       "      <td>102.350000</td>\n",
       "      <td>[18068.238555755404, 17022.41045433916]</td>\n",
       "      <td>-7.474495</td>\n",
       "      <td>[5.40630292493165, 6.43212212748258]</td>\n",
       "      <td>-0.347814</td>\n",
       "      <td>[-3227.2112711155946, -3819.045353433822]</td>\n",
       "      <td>-900000.0</td>\n",
       "      <td>{'o': 'stellarpunk.orders.GoToLocation', 'ct':...</td>\n",
       "      <td>...</td>\n",
       "      <td>0.000000</td>\n",
       "      <td>37.044356</td>\n",
       "      <td>-92.885498</td>\n",
       "      <td>8.402399</td>\n",
       "      <td>17868.864724</td>\n",
       "      <td>920.258612</td>\n",
       "      <td>0.000000</td>\n",
       "      <td>5000.000000</td>\n",
       "      <td>-756.390415</td>\n",
       "      <td>646.707225</td>\n",
       "    </tr>\n",
       "    <tr>\n",
       "      <th>3596</th>\n",
       "      <td>3596</td>\n",
       "      <td>aeb10ab4-7e56-4681-9504-08d8d2d9b638</td>\n",
       "      <td>102.366667</td>\n",
       "      <td>[18068.328660804153, 17022.517656374617]</td>\n",
       "      <td>-7.480292</td>\n",
       "      <td>[5.379409497672354, 6.400296749537298]</td>\n",
       "      <td>-0.364481</td>\n",
       "      <td>[3224.4279624773285, 3821.395597788104]</td>\n",
       "      <td>900000.0</td>\n",
       "      <td>{'o': 'stellarpunk.orders.GoToLocation', 'ct':...</td>\n",
       "      <td>...</td>\n",
       "      <td>0.000000</td>\n",
       "      <td>36.505288</td>\n",
       "      <td>-93.098679</td>\n",
       "      <td>8.360732</td>\n",
       "      <td>17852.307104</td>\n",
       "      <td>920.390924</td>\n",
       "      <td>0.000000</td>\n",
       "      <td>5000.000000</td>\n",
       "      <td>-756.358746</td>\n",
       "      <td>646.680148</td>\n",
       "    </tr>\n",
       "    <tr>\n",
       "      <th>3597</th>\n",
       "      <td>3597</td>\n",
       "      <td>aeb10ab4-7e56-4681-9504-08d8d2d9b638</td>\n",
       "      <td>102.383333</td>\n",
       "      <td>[18068.418317629115, 17022.62432798711]</td>\n",
       "      <td>-7.486367</td>\n",
       "      <td>[5.406279730692998, 6.432141712852199]</td>\n",
       "      <td>-0.347814</td>\n",
       "      <td>[-3228.0474122862183, -3818.338631398772]</td>\n",
       "      <td>-900000.0</td>\n",
       "      <td>{'o': 'stellarpunk.orders.GoToLocation', 'ct':...</td>\n",
       "      <td>...</td>\n",
       "      <td>0.000000</td>\n",
       "      <td>35.939073</td>\n",
       "      <td>-93.318717</td>\n",
       "      <td>8.402399</td>\n",
       "      <td>17835.748802</td>\n",
       "      <td>920.522582</td>\n",
       "      <td>0.000000</td>\n",
       "      <td>5000.000000</td>\n",
       "      <td>-756.390415</td>\n",
       "      <td>646.707225</td>\n",
       "    </tr>\n",
       "    <tr>\n",
       "      <th>3598</th>\n",
       "      <td>3598</td>\n",
       "      <td>aeb10ab4-7e56-4681-9504-08d8d2d9b638</td>\n",
       "      <td>102.400000</td>\n",
       "      <td>[18068.508422291292, 17022.73153034899]</td>\n",
       "      <td>-7.492164</td>\n",
       "      <td>[5.379379335590613, 6.400322224257209]</td>\n",
       "      <td>-0.364481</td>\n",
       "      <td>[3224.673286258156, 3821.1885843141818]</td>\n",
       "      <td>900000.0</td>\n",
       "      <td>{'o': 'stellarpunk.orders.GoToLocation', 'ct':...</td>\n",
       "      <td>...</td>\n",
       "      <td>0.000000</td>\n",
       "      <td>35.397513</td>\n",
       "      <td>-93.525484</td>\n",
       "      <td>8.360732</td>\n",
       "      <td>17819.191284</td>\n",
       "      <td>920.654899</td>\n",
       "      <td>0.000000</td>\n",
       "      <td>5000.000000</td>\n",
       "      <td>-756.358746</td>\n",
       "      <td>646.680148</td>\n",
       "    </tr>\n",
       "    <tr>\n",
       "      <th>3599</th>\n",
       "      <td>3599</td>\n",
       "      <td>aeb10ab4-7e56-4681-9504-08d8d2d9b638</td>\n",
       "      <td>102.416667</td>\n",
       "      <td>[18068.59807861355, 17022.83820238606]</td>\n",
       "      <td>-7.498238</td>\n",
       "      <td>[5.406251612976098, 6.432165462459827]</td>\n",
       "      <td>-0.347814</td>\n",
       "      <td>[-3078.7556791073093, -3640.9455277013344]</td>\n",
       "      <td>-900000.0</td>\n",
       "      <td>{'o': 'stellarpunk.orders.GoToLocation', 'ct':...</td>\n",
       "      <td>...</td>\n",
       "      <td>0.000000</td>\n",
       "      <td>34.828726</td>\n",
       "      <td>-93.738785</td>\n",
       "      <td>8.402399</td>\n",
       "      <td>17802.634471</td>\n",
       "      <td>920.786561</td>\n",
       "      <td>0.000000</td>\n",
       "      <td>4768.146481</td>\n",
       "      <td>-756.327076</td>\n",
       "      <td>646.653071</td>\n",
       "    </tr>\n",
       "  </tbody>\n",
       "</table>\n",
       "<p>3600 rows × 44 columns</p>\n",
       "</div>"
      ],
      "text/plain": [
       "      index                                   eid          ts  \\\n",
       "0         0  aeb10ab4-7e56-4681-9504-08d8d2d9b638   42.433333   \n",
       "1         1  aeb10ab4-7e56-4681-9504-08d8d2d9b638   42.450000   \n",
       "2         2  aeb10ab4-7e56-4681-9504-08d8d2d9b638   42.466667   \n",
       "3         3  aeb10ab4-7e56-4681-9504-08d8d2d9b638   42.483333   \n",
       "4         4  aeb10ab4-7e56-4681-9504-08d8d2d9b638   42.500000   \n",
       "...     ...                                   ...         ...   \n",
       "3595   3595  aeb10ab4-7e56-4681-9504-08d8d2d9b638  102.350000   \n",
       "3596   3596  aeb10ab4-7e56-4681-9504-08d8d2d9b638  102.366667   \n",
       "3597   3597  aeb10ab4-7e56-4681-9504-08d8d2d9b638  102.383333   \n",
       "3598   3598  aeb10ab4-7e56-4681-9504-08d8d2d9b638  102.400000   \n",
       "3599   3599  aeb10ab4-7e56-4681-9504-08d8d2d9b638  102.416667   \n",
       "\n",
       "                                           loc         a  \\\n",
       "0       [27508.36249723718, 17234.63948507875] -6.007544   \n",
       "1     [27494.106384790084, 17233.911475202633] -6.005397   \n",
       "2     [27479.850965883717, 17233.183500743216] -6.003529   \n",
       "3      [27465.59624051808, 17232.455561700503] -6.001938   \n",
       "4       [27451.34220869317, 17231.72765807449] -6.000625   \n",
       "...                                        ...       ...   \n",
       "3595   [18068.238555755404, 17022.41045433916] -7.474495   \n",
       "3596  [18068.328660804153, 17022.517656374617] -7.480292   \n",
       "3597   [18068.418317629115, 17022.62432798711] -7.486367   \n",
       "3598   [18068.508422291292, 17022.73153034899] -7.492164   \n",
       "3599    [18068.59807861355, 17022.83820238606] -7.498238   \n",
       "\n",
       "                                             v        av  \\\n",
       "0     [-855.3667468257953, -43.68059256713582]  0.128773   \n",
       "1     [-855.3251343820214, -43.67846756495522]  0.112106   \n",
       "2     [-855.2835219382474, -43.67634256277462]  0.095440   \n",
       "3     [-855.2419094944735, -43.67421756059401]  0.078773   \n",
       "4      [-855.2835219382474, -43.6763425627746]  0.095440   \n",
       "...                                        ...       ...   \n",
       "3595      [5.40630292493165, 6.43212212748258] -0.347814   \n",
       "3596    [5.379409497672354, 6.400296749537298] -0.364481   \n",
       "3597    [5.406279730692998, 6.432141712852199] -0.347814   \n",
       "3598    [5.379379335590613, 6.400322224257209] -0.364481   \n",
       "3599    [5.406251612976098, 6.432165462459827] -0.347814   \n",
       "\n",
       "                                               f         t  \\\n",
       "0        [4993.493252878923, 255.00026167176955] -900000.0   \n",
       "1        [4993.493252878919, 255.00026167186655] -900000.0   \n",
       "2         [4993.493252878846, 255.0002616732792] -900000.0   \n",
       "3       [-4993.493252878964, -255.0002616709628]  900000.0   \n",
       "4        [4993.493252878904, 255.00026167213468] -900000.0   \n",
       "...                                          ...       ...   \n",
       "3595   [-3227.2112711155946, -3819.045353433822] -900000.0   \n",
       "3596     [3224.4279624773285, 3821.395597788104]  900000.0   \n",
       "3597   [-3228.0474122862183, -3818.338631398772] -900000.0   \n",
       "3598     [3224.673286258156, 3821.1885843141818]  900000.0   \n",
       "3599  [-3078.7556791073093, -3640.9455277013344] -900000.0   \n",
       "\n",
       "                                                      o  ...    o.t_v.y  \\\n",
       "0     {'o': 'stellarpunk.orders.GoToLocation', 'nnd'...  ... -43.413822   \n",
       "1     {'o': 'stellarpunk.orders.GoToLocation', 'nnd'...  ... -43.531727   \n",
       "2     {'o': 'stellarpunk.orders.GoToLocation', 'nnd'...  ... -43.650253   \n",
       "3     {'o': 'stellarpunk.orders.GoToLocation', 'nnd'...  ... -43.769403   \n",
       "4     {'o': 'stellarpunk.orders.GoToLocation', 'nnd'...  ... -43.510774   \n",
       "...                                                 ...  ...        ...   \n",
       "3595  {'o': 'stellarpunk.orders.GoToLocation', 'ct':...  ...   0.000000   \n",
       "3596  {'o': 'stellarpunk.orders.GoToLocation', 'ct':...  ...   0.000000   \n",
       "3597  {'o': 'stellarpunk.orders.GoToLocation', 'ct':...  ...   0.000000   \n",
       "3598  {'o': 'stellarpunk.orders.GoToLocation', 'ct':...  ...   0.000000   \n",
       "3599  {'o': 'stellarpunk.orders.GoToLocation', 'ct':...  ...   0.000000   \n",
       "\n",
       "        angle.x    angle.y       speed     o_ct_dist      o_t_dist  \\\n",
       "0     96.225077  27.216439  856.481328           NaN  10422.055551   \n",
       "1     96.166443  27.422896  856.439662           NaN  10407.780862   \n",
       "2     96.115037  27.602529  856.397995           NaN  10393.506868   \n",
       "3     96.071010  27.755380  856.356328           NaN  10379.233568   \n",
       "4     96.034487  27.881486  856.397995           NaN  10364.960962   \n",
       "...         ...        ...         ...           ...           ...   \n",
       "3595  37.044356 -92.885498    8.402399  17868.864724    920.258612   \n",
       "3596  36.505288 -93.098679    8.360732  17852.307104    920.390924   \n",
       "3597  35.939073 -93.318717    8.402399  17835.748802    920.522582   \n",
       "3598  35.397513 -93.525484    8.360732  17819.191284    920.654899   \n",
       "3599  34.828726 -93.738785    8.402399  17802.634471    920.786561   \n",
       "\n",
       "       o_t_speed        f_mag    o_ct_v.x    o_ct_v.y  \n",
       "0     851.250530  5000.000000         NaN         NaN  \n",
       "1     853.562397  5000.000000         NaN         NaN  \n",
       "2     855.886438  5000.000000         NaN         NaN  \n",
       "3     858.222712  5000.000000         NaN         NaN  \n",
       "4     853.151549  5000.000000         NaN         NaN  \n",
       "...          ...          ...         ...         ...  \n",
       "3595    0.000000  5000.000000 -756.390415  646.707225  \n",
       "3596    0.000000  5000.000000 -756.358746  646.680148  \n",
       "3597    0.000000  5000.000000 -756.390415  646.707225  \n",
       "3598    0.000000  5000.000000 -756.358746  646.680148  \n",
       "3599    0.000000  4768.146481 -756.327076  646.653071  \n",
       "\n",
       "[3600 rows x 44 columns]"
      ]
     },
     "execution_count": 9,
     "metadata": {},
     "output_type": "execute_result"
    }
   ],
   "source": [
    "df"
   ]
  },
  {
   "cell_type": "markdown",
   "id": "c4ac1b60",
   "metadata": {},
   "source": [
    "# Basic Ship Vitals"
   ]
  },
  {
   "cell_type": "markdown",
   "id": "a2a9e14b",
   "metadata": {},
   "source": [
    "## Position and Heading"
   ]
  },
  {
   "cell_type": "code",
   "execution_count": 10,
   "id": "a01d3d10",
   "metadata": {},
   "outputs": [
    {
     "data": {
      "application/vnd.jupyter.widget-view+json": {
       "model_id": "5199a519b7b943789eb83f2a45117316",
       "version_major": 2,
       "version_minor": 0
      },
      "text/plain": [
       "interactive(children=(FloatSlider(value=102.41666666666214, continuous_update=False, description='max_time', m…"
      ]
     },
     "metadata": {},
     "output_type": "display_data"
    },
    {
     "data": {
      "text/plain": [
       "<function __main__.plot_location_chart(max_time)>"
      ]
     },
     "execution_count": 10,
     "metadata": {},
     "output_type": "execute_result"
    }
   ],
   "source": [
    "def plot_location_chart(max_time):\n",
    "    sample = df[df[\"ts\"] <= max_time].iloc[::50]\n",
    "    plt.quiver(sample[\"loc.x\"], sample[\"loc.y\"], sample[\"angle.x\"], sample[\"angle.y\"])#, scale=100)\n",
    "    plt.scatter(sample[\"o.t_loc.x\"], sample[\"o.t_loc.y\"])\n",
    "    #center = (0,2500)\n",
    "    #radius = 10000\n",
    "    #plt.xlim(center[0]-radius,center[0]+radius)\n",
    "    #plt.ylim(center[1]-radius,center[1]+radius)\n",
    "\n",
    "ipywidgets.interact(plot_location_chart, max_time=ipywidgets.FloatSlider(value=df[\"ts\"].max(), min=df[\"ts\"].min(), max=df[\"ts\"].max(), continuous_update=False))"
   ]
  },
  {
   "cell_type": "code",
   "execution_count": 11,
   "id": "3c66494a",
   "metadata": {},
   "outputs": [
    {
     "data": {
      "text/plain": [
       "<matplotlib.collections.PathCollection at 0x7f4b0f952e60>"
      ]
     },
     "execution_count": 11,
     "metadata": {},
     "output_type": "execute_result"
    },
    {
     "data": {
      "image/png": "[encoded data removed]",
      "text/plain": [
       "<Figure size 432x288 with 1 Axes>"
      ]
     },
     "metadata": {
      "needs_background": "light"
     },
     "output_type": "display_data"
    }
   ],
   "source": [
    "plt.scatter(df[\"ts\"], df[\"loc.x\"])\n",
    "plt.scatter(df[\"ts\"], df[\"loc.y\"])"
   ]
  },
  {
   "cell_type": "code",
   "execution_count": 12,
   "id": "92ce6afc",
   "metadata": {},
   "outputs": [
    {
     "data": {
      "text/plain": [
       "<matplotlib.legend.Legend at 0x7f4b0c388dc0>"
      ]
     },
     "execution_count": 12,
     "metadata": {},
     "output_type": "execute_result"
    },
    {
     "data": {
      "image/png": "[encoded data removed]",
      "text/plain": [
       "<Figure size 432x288 with 1 Axes>"
      ]
     },
     "metadata": {
      "needs_background": "light"
     },
     "output_type": "display_data"
    }
   ],
   "source": [
    "plt.scatter(df[\"ts\"], df[\"a\"], label=\"theta\")\n",
    "plt.scatter(df[\"ts\"], df[\"av\"], label=\"omega\")\n",
    "plt.hlines(np.pi, df[\"ts\"].min(), df[\"ts\"].max(), color=\"red\")\n",
    "plt.hlines(0, df[\"ts\"].min(), df[\"ts\"].max(), color=\"red\")\n",
    "plt.legend()"
   ]
  },
  {
   "cell_type": "code",
   "execution_count": 13,
   "id": "296285fe",
   "metadata": {},
   "outputs": [
    {
     "data": {
      "text/plain": [
       "<matplotlib.collections.PathCollection at 0x7f4b0c38b100>"
      ]
     },
     "execution_count": 13,
     "metadata": {},
     "output_type": "execute_result"
    },
    {
     "data": {
      "image/png": "[encoded data removed]",
      "text/plain": [
       "<Figure size 432x288 with 1 Axes>"
      ]
     },
     "metadata": {
      "needs_background": "light"
     },
     "output_type": "display_data"
    }
   ],
   "source": [
    "plt.scatter(df[\"ts\"], df[\"t\"])"
   ]
  },
  {
   "cell_type": "markdown",
   "id": "8b7cd6c7",
   "metadata": {},
   "source": [
    "## Velocity and Acceleration"
   ]
  },
  {
   "cell_type": "code",
   "execution_count": 14,
   "id": "0b8fb6ed",
   "metadata": {
    "scrolled": true
   },
   "outputs": [
    {
     "data": {
      "text/plain": [
       "<matplotlib.collections.PathCollection at 0x7f4b0c24d300>"
      ]
     },
     "execution_count": 14,
     "metadata": {},
     "output_type": "execute_result"
    },
    {
     "data": {
      "image/png": "[encoded data removed]",
      "text/plain": [
       "<Figure size 432x288 with 1 Axes>"
      ]
     },
     "metadata": {
      "needs_background": "light"
     },
     "output_type": "display_data"
    }
   ],
   "source": [
    "plt.scatter(df[\"ts\"], df[\"v.x\"])\n",
    "plt.scatter(df[\"ts\"], df[\"v.y\"])"
   ]
  },
  {
   "cell_type": "code",
   "execution_count": 15,
   "id": "db237ac3",
   "metadata": {
    "scrolled": true
   },
   "outputs": [
    {
     "data": {
      "image/png": "[encoded data removed]",
      "text/plain": [
       "<Figure size 432x288 with 1 Axes>"
      ]
     },
     "metadata": {
      "needs_background": "light"
     },
     "output_type": "display_data"
    }
   ],
   "source": [
    "#plt.scatter(df[\"ts\"], (df[\"v.x\"] - df[\"v.x\"].shift(-1)))#/(df[\"ts\"]-df[\"ts\"].shift(-1)))\n",
    "plt.scatter(df[\"ts\"], (df[\"v.x\"].shift(1) - df[\"v.x\"]) / (df[\"ts\"].shift(1) - df[\"ts\"]))\n",
    "plt.scatter(df[\"ts\"], (df[\"v.y\"].shift(1) - df[\"v.y\"]) / (df[\"ts\"].shift(1) - df[\"ts\"]))\n",
    "plt.yscale(\"symlog\")"
   ]
  },
  {
   "cell_type": "code",
   "execution_count": 16,
   "id": "f12ee387",
   "metadata": {},
   "outputs": [
    {
     "data": {
      "image/png": "[encoded data removed]",
      "text/plain": [
       "<Figure size 432x288 with 1 Axes>"
      ]
     },
     "metadata": {
      "needs_background": "light"
     },
     "output_type": "display_data"
    }
   ],
   "source": [
    "plt.scatter(df[\"ts\"], df[\"f_mag\"])\n",
    "plt.yscale(\"log\")"
   ]
  },
  {
   "cell_type": "markdown",
   "id": "21b96ba1",
   "metadata": {},
   "source": [
    "# Behavior Monitoring"
   ]
  },
  {
   "cell_type": "code",
   "execution_count": 17,
   "id": "6620d49c",
   "metadata": {},
   "outputs": [
    {
     "data": {
      "application/vnd.jupyter.widget-view+json": {
       "model_id": "b393a43d6b97467297c5bef044428f8f",
       "version_major": 2,
       "version_minor": 0
      },
      "text/plain": [
       "interactive(children=(FloatSlider(value=5.0, continuous_update=False, description='hist_length', max=59.983333…"
      ]
     },
     "metadata": {},
     "output_type": "display_data"
    },
    {
     "data": {
      "text/plain": [
       "<function __main__.plot_collision_info(hist_length, max_time)>"
      ]
     },
     "execution_count": 17,
     "metadata": {},
     "output_type": "execute_result"
    }
   ],
   "source": [
    "def plot_collision_info(hist_length, max_time):\n",
    "    sample = df[(df[\"ts\"] >= max_time - hist_length) & (df[\"ts\"] <= max_time)]\n",
    "    plt.scatter(sample[\"ts\"], (~(sample[\"o.ct\"].isna())).astype(int), label=\"ct\")\n",
    "    plt.scatter(sample[\"ts\"], sample[\"o.cs\"].fillna(0).astype(int)+0.05, label=\"cs\")\n",
    "    plt.scatter(sample[\"ts\"], sample[\"o.cac\"].fillna(0).astype(int)+0.1, label=\"cac\")\n",
    "    plt.scatter(sample[\"ts\"], sample[\"o.cbdr\"].fillna(0).astype(int)+0.15, label=\"cbdr\")\n",
    "    plt.legend()\n",
    "\n",
    "ipywidgets.interact(plot_collision_info, hist_length=ipywidgets.FloatSlider(value=5, min=0, max=df[\"ts\"].max()-df[\"ts\"].min(), continuous_update=False), max_time=ipywidgets.FloatSlider(value=df[\"ts\"].max(), min=df[\"ts\"].min(), max=df[\"ts\"].max()+.1, continuous_update=False))"
   ]
  },
  {
   "cell_type": "markdown",
   "id": "e1d4c53c",
   "metadata": {},
   "source": [
    "## Target Location"
   ]
  },
  {
   "cell_type": "code",
   "execution_count": 18,
   "id": "8c50a78b",
   "metadata": {},
   "outputs": [
    {
     "data": {
      "text/html": [
       "<div>\n",
       "<style scoped>\n",
       "    .dataframe tbody tr th:only-of-type {\n",
       "        vertical-align: middle;\n",
       "    }\n",
       "\n",
       "    .dataframe tbody tr th {\n",
       "        vertical-align: top;\n",
       "    }\n",
       "\n",
       "    .dataframe thead tr th {\n",
       "        text-align: left;\n",
       "    }\n",
       "\n",
       "    .dataframe thead tr:last-of-type th {\n",
       "        text-align: right;\n",
       "    }\n",
       "</style>\n",
       "<table border=\"1\" class=\"dataframe\">\n",
       "  <thead>\n",
       "    <tr>\n",
       "      <th></th>\n",
       "      <th></th>\n",
       "      <th colspan=\"3\" halign=\"left\">ts</th>\n",
       "      <th colspan=\"2\" halign=\"left\">o_t_dist</th>\n",
       "    </tr>\n",
       "    <tr>\n",
       "      <th></th>\n",
       "      <th></th>\n",
       "      <th>count</th>\n",
       "      <th>min</th>\n",
       "      <th>max</th>\n",
       "      <th>min</th>\n",
       "      <th>max</th>\n",
       "    </tr>\n",
       "    <tr>\n",
       "      <th>o.t_loc.x</th>\n",
       "      <th>o.t_loc.y</th>\n",
       "      <th></th>\n",
       "      <th></th>\n",
       "      <th></th>\n",
       "      <th></th>\n",
       "      <th></th>\n",
       "    </tr>\n",
       "  </thead>\n",
       "  <tbody>\n",
       "    <tr>\n",
       "      <th>17099.869683</th>\n",
       "      <th>16703.114107</th>\n",
       "      <td>1970</td>\n",
       "      <td>42.433333</td>\n",
       "      <td>75.250000</td>\n",
       "      <td>977.698465</td>\n",
       "      <td>10422.055551</td>\n",
       "    </tr>\n",
       "    <tr>\n",
       "      <th>17218.250190</th>\n",
       "      <th>16601.899803</th>\n",
       "      <td>1</td>\n",
       "      <td>75.266667</td>\n",
       "      <td>75.266667</td>\n",
       "      <td>873.535755</td>\n",
       "      <td>873.535755</td>\n",
       "    </tr>\n",
       "    <tr>\n",
       "      <th>17278.005241</th>\n",
       "      <th>16550.809754</th>\n",
       "      <td>1629</td>\n",
       "      <td>75.283333</td>\n",
       "      <td>102.416667</td>\n",
       "      <td>827.159655</td>\n",
       "      <td>920.786561</td>\n",
       "    </tr>\n",
       "  </tbody>\n",
       "</table>\n",
       "</div>"
      ],
      "text/plain": [
       "                             ts                           o_t_dist  \\\n",
       "                          count        min         max         min   \n",
       "o.t_loc.x    o.t_loc.y                                               \n",
       "17099.869683 16703.114107  1970  42.433333   75.250000  977.698465   \n",
       "17218.250190 16601.899803     1  75.266667   75.266667  873.535755   \n",
       "17278.005241 16550.809754  1629  75.283333  102.416667  827.159655   \n",
       "\n",
       "                                         \n",
       "                                    max  \n",
       "o.t_loc.x    o.t_loc.y                   \n",
       "17099.869683 16703.114107  10422.055551  \n",
       "17218.250190 16601.899803    873.535755  \n",
       "17278.005241 16550.809754    920.786561  "
      ]
     },
     "execution_count": 18,
     "metadata": {},
     "output_type": "execute_result"
    }
   ],
   "source": [
    "if np.any(~df[\"o.t_loc\"].isna()):\n",
    "    x = df.groupby([\"o.t_loc.x\", \"o.t_loc.y\"]).agg({\"ts\": [\"count\", \"min\", \"max\"], \"o_t_dist\": [\"min\",\"max\"]})\n",
    "else:\n",
    "    x = \"no location target\"\n",
    "x"
   ]
  },
  {
   "cell_type": "code",
   "execution_count": 28,
   "id": "4350609c",
   "metadata": {},
   "outputs": [
    {
     "data": {
      "text/plain": [
       "(827.1596546534474, 912.9083657847971)"
      ]
     },
     "execution_count": 28,
     "metadata": {},
     "output_type": "execute_result"
    },
    {
     "data": {
      "image/png": "[encoded data removed]",
      "text/plain": [
       "<Figure size 432x288 with 1 Axes>"
      ]
     },
     "metadata": {
      "needs_background": "light"
     },
     "output_type": "display_data"
    }
   ],
   "source": [
    "#sample = df[(df[\"ts\"] < 124.4) & (df[\"ts\"] > 120)]\n",
    "sample = df\n",
    "plt.scatter(sample[\"ts\"], sample[\"o_t_dist\"])\n",
    "plt.hlines(1000, sample[\"ts\"].min(), sample[\"ts\"].max(), color=\"green\")\n",
    "plt.hlines(900, sample[\"ts\"].min(), sample[\"ts\"].max(), color=\"red\")\n",
    "plt.ylim(0,1200)\n",
    "sample[\"o_t_dist\"].min(),sample[df[\"ts\"] > sample[\"ts\"].max()-1][\"o_t_dist\"].min()"
   ]
  },
  {
   "cell_type": "code",
   "execution_count": 20,
   "id": "e1d3f0a1",
   "metadata": {},
   "outputs": [
    {
     "data": {
      "text/plain": [
       "(0.0, 936.2149280750269)"
      ]
     },
     "execution_count": 20,
     "metadata": {},
     "output_type": "execute_result"
    },
    {
     "data": {
      "image/png": "[encoded data removed]",
      "text/plain": [
       "<Figure size 432x288 with 1 Axes>"
      ]
     },
     "metadata": {
      "needs_background": "light"
     },
     "output_type": "display_data"
    }
   ],
   "source": [
    "plt.scatter(df[\"ts\"], df[\"speed\"], label=\"actual speed\")\n",
    "plt.scatter(df[\"ts\"], df[\"o_t_speed\"], label=\"desired speed\")\n",
    "plt.legend()\n",
    "plt.ylim(0)"
   ]
  },
  {
   "cell_type": "code",
   "execution_count": 21,
   "id": "46f99489",
   "metadata": {
    "scrolled": true
   },
   "outputs": [
    {
     "data": {
      "text/plain": [
       "<matplotlib.collections.PathCollection at 0x7f4b0be5f010>"
      ]
     },
     "execution_count": 21,
     "metadata": {},
     "output_type": "execute_result"
    },
    {
     "data": {
      "image/png": "[encoded data removed]",
      "text/plain": [
       "<Figure size 432x288 with 1 Axes>"
      ]
     },
     "metadata": {
      "needs_background": "light"
     },
     "output_type": "display_data"
    }
   ],
   "source": [
    "plt.scatter(df[\"ts\"], df[\"o_t_speed\"] - df[\"speed\"])"
   ]
  },
  {
   "cell_type": "markdown",
   "id": "2efba80c",
   "metadata": {},
   "source": [
    "## Collision Avoidance"
   ]
  },
  {
   "cell_type": "code",
   "execution_count": 22,
   "id": "bbe05e1f",
   "metadata": {},
   "outputs": [
    {
     "data": {
      "text/html": [
       "<div>\n",
       "<style scoped>\n",
       "    .dataframe tbody tr th:only-of-type {\n",
       "        vertical-align: middle;\n",
       "    }\n",
       "\n",
       "    .dataframe tbody tr th {\n",
       "        vertical-align: top;\n",
       "    }\n",
       "\n",
       "    .dataframe thead tr th {\n",
       "        text-align: left;\n",
       "    }\n",
       "\n",
       "    .dataframe thead tr:last-of-type th {\n",
       "        text-align: right;\n",
       "    }\n",
       "</style>\n",
       "<table border=\"1\" class=\"dataframe\">\n",
       "  <thead>\n",
       "    <tr>\n",
       "      <th></th>\n",
       "      <th colspan=\"3\" halign=\"left\">ts</th>\n",
       "      <th colspan=\"2\" halign=\"left\">o_ct_dist</th>\n",
       "    </tr>\n",
       "    <tr>\n",
       "      <th></th>\n",
       "      <th>count</th>\n",
       "      <th>min</th>\n",
       "      <th>max</th>\n",
       "      <th>min</th>\n",
       "      <th>max</th>\n",
       "    </tr>\n",
       "    <tr>\n",
       "      <th>o.ct</th>\n",
       "      <th></th>\n",
       "      <th></th>\n",
       "      <th></th>\n",
       "      <th></th>\n",
       "      <th></th>\n",
       "    </tr>\n",
       "  </thead>\n",
       "  <tbody>\n",
       "    <tr>\n",
       "      <th>26b4b190-e776-4966-aa9e-c42eb320f7d2</th>\n",
       "      <td>1781</td>\n",
       "      <td>71.566667</td>\n",
       "      <td>102.416667</td>\n",
       "      <td>17802.634471</td>\n",
       "      <td>48419.640436</td>\n",
       "    </tr>\n",
       "    <tr>\n",
       "      <th>353ea317-e8e7-4741-85b0-cb9a959af4ca</th>\n",
       "      <td>71</td>\n",
       "      <td>74.116667</td>\n",
       "      <td>75.283333</td>\n",
       "      <td>827.159655</td>\n",
       "      <td>981.612687</td>\n",
       "    </tr>\n",
       "  </tbody>\n",
       "</table>\n",
       "</div>"
      ],
      "text/plain": [
       "                                        ts                         \\\n",
       "                                     count        min         max   \n",
       "o.ct                                                                \n",
       "26b4b190-e776-4966-aa9e-c42eb320f7d2  1781  71.566667  102.416667   \n",
       "353ea317-e8e7-4741-85b0-cb9a959af4ca    71  74.116667   75.283333   \n",
       "\n",
       "                                         o_ct_dist                \n",
       "                                               min           max  \n",
       "o.ct                                                              \n",
       "26b4b190-e776-4966-aa9e-c42eb320f7d2  17802.634471  48419.640436  \n",
       "353ea317-e8e7-4741-85b0-cb9a959af4ca    827.159655    981.612687  "
      ]
     },
     "execution_count": 22,
     "metadata": {},
     "output_type": "execute_result"
    }
   ],
   "source": [
    "if np.any(~df[\"o.ct\"].isna()):\n",
    "    x = df.groupby(\"o.ct\").agg({\"ts\": [\"count\", \"min\", \"max\"], \"o_ct_dist\": [\"min\",\"max\"]})\n",
    "else:\n",
    "    x = \"no collision threats\"\n",
    "x"
   ]
  },
  {
   "cell_type": "code",
   "execution_count": 23,
   "id": "72802091",
   "metadata": {},
   "outputs": [
    {
     "data": {
      "text/plain": [
       "827.1596546534474"
      ]
     },
     "execution_count": 23,
     "metadata": {},
     "output_type": "execute_result"
    },
    {
     "data": {
      "image/png": "[encoded data removed]",
      "text/plain": [
       "<Figure size 432x288 with 1 Axes>"
      ]
     },
     "metadata": {
      "needs_background": "light"
     },
     "output_type": "display_data"
    }
   ],
   "source": [
    "sample = df\n",
    "plt.scatter(sample[\"ts\"], sample[\"o_ct_dist\"])\n",
    "plt.hlines(60+500+500, sample[\"ts\"].min(), sample[\"ts\"].max(), color=\"green\")\n",
    "plt.hlines(60+500, sample[\"ts\"].min(), sample[\"ts\"].max(), color=\"orange\")\n",
    "plt.hlines(60, sample[\"ts\"].min(), sample[\"ts\"].max(), color=\"red\")\n",
    "plt.ylim(0)\n",
    "df[\"o_ct_dist\"].min()"
   ]
  },
  {
   "cell_type": "code",
   "execution_count": 24,
   "id": "77ec98f1",
   "metadata": {},
   "outputs": [
    {
     "data": {
      "text/plain": [
       "<matplotlib.collections.PathCollection at 0x7f4b0bd97d90>"
      ]
     },
     "execution_count": 24,
     "metadata": {},
     "output_type": "execute_result"
    },
    {
     "data": {
      "image/png": "[encoded data removed]",
      "text/plain": [
       "<Figure size 432x288 with 2 Axes>"
      ]
     },
     "metadata": {
      "needs_background": "light"
     },
     "output_type": "display_data"
    }
   ],
   "source": [
    "fig, ax1 = plt.subplots()\n",
    "ax2 = ax1.twinx()\n",
    "\n",
    "ax1.scatter(df[\"ts\"], 1-df[\"o.ct\"].isna().astype(int))\n",
    "ax2.scatter(df[\"ts\"], df[\"ts\"] - df[\"o.ct_ts\"], color=\"orange\")\n",
    "\n",
    "#ax2.set_ylim(0,(df[\"ts\"] - df[\"o.ct_ts\"]).max()*1.2)"
   ]
  },
  {
   "cell_type": "markdown",
   "id": "10573195",
   "metadata": {},
   "source": [
    "# History Visualization"
   ]
  },
  {
   "cell_type": "markdown",
   "id": "822456a3",
   "metadata": {},
   "source": [
    "## Position and Velocity"
   ]
  },
  {
   "cell_type": "code",
   "execution_count": 25,
   "id": "899fa65c",
   "metadata": {},
   "outputs": [
    {
     "data": {
      "application/vnd.jupyter.widget-view+json": {
       "model_id": "826e9e585d934ec292734f11d504a0e6",
       "version_major": 2,
       "version_minor": 0
      },
      "text/plain": [
       "interactive(children=(FloatSlider(value=5.0, continuous_update=False, description='hist_length', max=59.983333…"
      ]
     },
     "metadata": {},
     "output_type": "display_data"
    },
    {
     "data": {
      "text/plain": [
       "<function __main__.plot_collision_chart(hist_length=102.41666666666214, max_time=102.41666666666214, show_tloc=True)>"
      ]
     },
     "execution_count": 25,
     "metadata": {},
     "output_type": "execute_result"
    }
   ],
   "source": [
    "def plot_collision_chart(hist_length=df[\"ts\"].max(), max_time=df[\"ts\"].max(), show_tloc=True):\n",
    "    #fig, ax = plt.subplots()\n",
    "    plt.figure(figsize=(10, 10))\n",
    "    sample = df[(df[\"ts\"] >= max_time - hist_length) & (df[\"ts\"] <= max_time)]#.iloc[::50]\n",
    "    plt.quiver(sample[\"loc.x\"], sample[\"loc.y\"], sample[\"v.x\"], sample[\"v.y\"], label=\"v\")\n",
    "    ctdv_df = sample[~(sample[\"o.ct_dv\"].isna())]\n",
    "    plt.quiver(ctdv_df[\"loc.x\"], ctdv_df[\"loc.y\"], ctdv_df[\"o.ct_dv.x\"], ctdv_df[\"o.ct_dv.y\"], label=\"ctdv\", color=\"orange\")\n",
    "    plt.quiver(sample[\"loc.x\"], sample[\"loc.y\"], sample[\"o.t_v.x\"], sample[\"o.t_v.y\"], label=\"tv\", color=\"purple\")\n",
    "    \n",
    "    plt.quiver(sample[\"o.ct_loc.x\"], sample[\"o.ct_loc.y\"], sample[\"o_ct_v.x\"], sample[\"o_ct_v.y\"])\n",
    "    cmap = plt.get_cmap('viridis')\n",
    "    for x, c in zip(df[\"o.ct\"].unique(), cmap(np.linspace(0, 1, len(df[\"o.ct\"].unique())))):\n",
    "        if not isinstance(x, str):\n",
    "            continue\n",
    "        ct = sample[sample[\"o.ct\"] == x]\n",
    "        if len(ct) == 0:\n",
    "            continue\n",
    "        plt.scatter(ct[\"o.ct_loc.x\"], ct[\"o.ct_loc.y\"], color=c, label=x[:8])\n",
    "    if show_tloc:\n",
    "        plt.scatter(sample[\"o.t_loc.x\"], sample[\"o.t_loc.y\"], label=\"t_loc\")\n",
    "        for (tloc_x, tloc_y) in sample.groupby([\"o.t_loc.x\", \"o.t_loc.y\"])[\"o.t_loc\"].min():\n",
    "            arrival_dist = plt.Circle((tloc_x, tloc_y), 1000, color=\"green\", fill=False)\n",
    "            min_dist = plt.Circle((tloc_x, tloc_y), 900, color=\"red\", fill=False)\n",
    "            plt.gca().add_patch(arrival_dist)\n",
    "            plt.gca().add_patch(min_dist)\n",
    "    plt.axis('equal')\n",
    "    #center = (-33555, -5000)\n",
    "    #radius = 15000\n",
    "    #plt.xlim(center[0]-radius,center[0]+radius)\n",
    "    #plt.ylim(center[1]-radius,center[1]+radius)\n",
    "\n",
    "    plt.legend()\n",
    "    plt.show()\n",
    "    \n",
    "ipywidgets.interact(\n",
    "    plot_collision_chart,\n",
    "    hist_length=ipywidgets.FloatSlider(value=5, min=0, max=df[\"ts\"].max()-df[\"ts\"].min(), continuous_update=False),\n",
    "    max_time=ipywidgets.FloatSlider(value=df[\"ts\"].max(), min=df[\"ts\"].min(), max=df[\"ts\"].max(), continuous_update=False),\n",
    "    show_tloc=ipywidgets.Checkbox(value=True),\n",
    ")"
   ]
  },
  {
   "cell_type": "markdown",
   "id": "e15308dc",
   "metadata": {},
   "source": [
    "## Position and Heading"
   ]
  },
  {
   "cell_type": "code",
   "execution_count": 26,
   "id": "6cc395b0",
   "metadata": {},
   "outputs": [
    {
     "data": {
      "application/vnd.jupyter.widget-view+json": {
       "model_id": "c3cafec5539540d0b2cb31ffde33ac2e",
       "version_major": 2,
       "version_minor": 0
      },
      "text/plain": [
       "interactive(children=(FloatSlider(value=5.0, continuous_update=False, description='hist_length', max=59.983333…"
      ]
     },
     "metadata": {},
     "output_type": "display_data"
    },
    {
     "data": {
      "text/plain": [
       "<function __main__.plot_collision_chart(hist_length=102.41666666666214, max_time=102.41666666666214)>"
      ]
     },
     "execution_count": 26,
     "metadata": {},
     "output_type": "execute_result"
    }
   ],
   "source": [
    "def plot_collision_chart(hist_length=df[\"ts\"].max(), max_time=df[\"ts\"].max()):\n",
    "    sample = df[(df[\"ts\"] >= max_time - hist_length) & (df[\"ts\"] <= max_time)].iloc[::50]\n",
    "    plt.quiver(sample[\"loc.x\"], sample[\"loc.y\"], sample[\"angle.x\"], sample[\"angle.y\"], label=\"ship\")\n",
    "    ctdv_df = sample[~(sample[\"o.ct_dv\"].isna())]\n",
    "    plt.quiver(ctdv_df[\"loc.x\"], ctdv_df[\"loc.y\"], ctdv_df[\"o.ct_dv.x\"], ctdv_df[\"o.ct_dv.y\"], label=\"ctdv\", color=\"orange\")\n",
    "    plt.quiver(sample[\"loc.x\"], sample[\"loc.y\"], sample[\"o.t_v.x\"], sample[\"o.t_v.y\"], label=\"tv\", color=\"purple\")\n",
    "    cmap = plt.get_cmap('viridis')\n",
    "    #for x, c in zip(df[\"o.ct\"].unique(), cmap(np.linspace(0, 1, len(sample[\"o.ct\"].unique())))):\n",
    "    #    print(x)\n",
    "    #    if not isinstance(x, str):\n",
    "    #        continue\n",
    "    #    ct = sample[sample[\"o.ct\"] == x]\n",
    "    #    plt.scatter(ct[\"o.ct_loc.x\"], ct[\"o.ct_loc.y\"], color=c, label=x[:8])\n",
    "    #plt.scatter(sample[\"o.t_loc.x\"], sample[\"o.t_loc.y\"], label=\"t_loc\")\n",
    "    #plt.axis('square')\n",
    "    #center = (-33555, -5000)\n",
    "    #radius = 15000\n",
    "    #plt.xlim(center[0]-radius,center[0]+radius)\n",
    "    #plt.ylim(center[1]-radius,center[1]+radius)\n",
    "\n",
    "    plt.legend()\n",
    "    plt.axis('equal')\n",
    "    plt.show()\n",
    "    \n",
    "ipywidgets.interact(plot_collision_chart, hist_length=ipywidgets.FloatSlider(value=5, min=0, max=df[\"ts\"].max()-df[\"ts\"].min(), continuous_update=False), max_time=ipywidgets.FloatSlider(value=df[\"ts\"].max(), min=df[\"ts\"].min(), max=df[\"ts\"].max(), continuous_update=False))"
   ]
  },
  {
   "cell_type": "markdown",
   "id": "b1ccc0ad",
   "metadata": {},
   "source": [
    "# "
   ]
  }
 ],
 "metadata": {
  "kernelspec": {
   "display_name": "Python 3 (ipykernel)",
   "language": "python",
   "name": "python3"
  },
  "language_info": {
   "codemirror_mode": {
    "name": "ipython",
    "version": 3
   },
   "file_extension": ".py",
   "mimetype": "text/x-python",
   "name": "python",
   "nbconvert_exporter": "python",
   "pygments_lexer": "ipython3",
   "version": "3.10.1"
  }
 },
 "nbformat": 4,
 "nbformat_minor": 5
}
