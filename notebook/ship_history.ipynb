{
 "cells": [
  {
   "cell_type": "code",
   "execution_count": 1,
   "id": "9c5bbe2a",
   "metadata": {},
   "outputs": [],
   "source": [
    "import json\n",
    "\n",
    "import pandas as pd\n",
    "import numpy as np\n",
    "from matplotlib import pyplot as plt\n",
    "import ipywidgets\n",
    "\n",
    "from stellarpunk import util"
   ]
  },
  {
   "cell_type": "markdown",
   "id": "d6d53462",
   "metadata": {},
   "source": [
    "# Loading and Preparing Data"
   ]
  },
  {
   "cell_type": "code",
   "execution_count": 2,
   "id": "ceb18552",
   "metadata": {},
   "outputs": [],
   "source": [
    "df_base = pd.read_json(\"/tmp/stellarpunk_test.test_stuff.history.gz\", lines=True)\n",
    "df_base = df_base.join(pd.json_normalize(df_base[\"o\"]).add_prefix(\"o.\"))"
   ]
  },
  {
   "cell_type": "code",
   "execution_count": 3,
   "id": "1585e6a6",
   "metadata": {},
   "outputs": [
    {
     "data": {
      "text/plain": [
       "0    3068fc56-0ee8-4dfb-8dd9-6763d2b17aaa\n",
       "1    d10f0348-ab3a-4465-93b1-97cae1ebd5af\n",
       "2    6be82026-7f7f-4cb7-965d-308f84065d23\n",
       "3    3fed0e0f-4a9d-478a-b8d7-60f78b87c02a\n",
       "dtype: object"
      ]
     },
     "execution_count": 3,
     "metadata": {},
     "output_type": "execute_result"
    }
   ],
   "source": [
    "eids = pd.Series(df_base[\"eid\"].unique())\n",
    "eids"
   ]
  },
  {
   "cell_type": "code",
   "execution_count": 4,
   "id": "288e3f1e",
   "metadata": {},
   "outputs": [
    {
     "data": {
      "text/plain": [
       "Series([], dtype: object)"
      ]
     },
     "execution_count": 4,
     "metadata": {},
     "output_type": "execute_result"
    }
   ],
   "source": [
    "eids[pd.Series(df_base[\"eid\"].unique()).str.startswith(\"9510\")]"
   ]
  },
  {
   "cell_type": "code",
   "execution_count": 5,
   "id": "c9be6491",
   "metadata": {},
   "outputs": [
    {
     "data": {
      "text/plain": [
       "array(['3068fc56-0ee8-4dfb-8dd9-6763d2b17aaa'], dtype=object)"
      ]
     },
     "execution_count": 5,
     "metadata": {},
     "output_type": "execute_result"
    }
   ],
   "source": [
    "target_eid = df_base[\"eid\"].unique()[0]\n",
    "df_base = df_base[df_base[\"eid\"] == target_eid].reset_index()\n",
    "df_base[\"eid\"].unique()"
   ]
  },
  {
   "cell_type": "code",
   "execution_count": 6,
   "id": "b77f957c",
   "metadata": {},
   "outputs": [],
   "source": [
    "loc = pd.DataFrame(np.vstack(df_base[\"loc\"]), columns=[\"loc.x\", \"loc.y\"])\n",
    "v = pd.DataFrame(np.vstack(df_base[\"v\"]), columns=[\"v.x\", \"v.y\"])\n",
    "\n",
    "empty_array = np.empty(len(df_base))\n",
    "empty_array[:] = np.nan\n",
    "\n",
    "if \"o.t_loc\" in df_base:\n",
    "    o_tloc = pd.DataFrame(np.vstack(df_base[\"o.t_loc\"].apply(lambda x: (np.nan, np.nan) if np.all(np.isnan(x)) else x)), columns=[\"o.t_loc.x\", \"o.t_loc.y\"])\n",
    "    o_tv = pd.DataFrame(np.vstack(df_base[\"o.t_v\"].apply(lambda x: (np.nan, np.nan) if np.all(np.isnan(x)) else x)), columns=[\"o.t_v.x\", \"o.t_v.y\"])\n",
    "else:\n",
    "    o_tloc = pd.DataFrame({\"o.t_loc\": empty_array, \"o.t_loc.x\": empty_array, \"o.t_loc.y\": empty_array})\n",
    "    o_tv = pd.DataFrame({\"o.t_v\": empty_array, \"o.t_v.x\": empty_array, \"o.t_v.y\": empty_array})\n",
    "    \n",
    "if \"o.ct\" in df_base:\n",
    "    o_ctloc = pd.DataFrame(np.vstack(df_base[\"o.ct_loc\"].apply(lambda x: (np.nan, np.nan) if np.all(np.isnan(x)) else x)), columns=[\"o.ct_loc.x\", \"o.ct_loc.y\"])\n",
    "    o_ctdv = pd.DataFrame(np.vstack(df_base[\"o.ct_dv\"].apply(lambda x: (np.nan, np.nan) if np.all(np.isnan(x)) else x)), columns=[\"o.ct_dv.x\", \"o.ct_dv.y\"])\n",
    "    o_ctv = pd.DataFrame(np.vstack(df_base[\"o.ct_v\"].apply(lambda x: (np.nan, np.nan) if np.all(np.isnan(x)) else x)), columns=[\"o.ct_v.x\", \"o.ct_v.y\"])\n",
    "    o_ctcloc = pd.DataFrame(np.vstack(df_base[\"o.ct_cloc\"].apply(lambda x: (np.nan, np.nan) if np.all(np.isnan(x)) else x)), columns=[\"o.ct_cloc.x\", \"o.ct_cloc.y\"])\n",
    "else:\n",
    "    o_ctloc = pd.DataFrame({\"o.ct_loc\": empty_array, \"o.ct_loc.x\": empty_array, \"o.ct_loc.y\": empty_array})\n",
    "    o_ctdv = pd.DataFrame({\"o.ct_dv\": empty_array, \"o.ct_dv.x\": empty_array, \"o.ct_dv.y\": empty_array})\n",
    "    o_ctv = pd.DataFrame({\"o.ct_v\": empty_array, \"o.ct_v.x\": empty_array, \"o.ct_v.y\": empty_array})\n",
    "    o_ctcloc = pd.DataFrame({\"o.ct_cloc\": empty_array, \"o.ct_cloc.x\": empty_array, \"o.ct_cloc.y\": empty_array})\n",
    "angle = pd.DataFrame(np.vstack(df_base.apply(lambda row: np.array(util.polar_to_cartesian(100, row[\"a\"])), axis=1)), columns=[\"angle.x\", \"angle.y\"])\n",
    "df = pd.concat([df_base, loc, v, o_ctloc, o_ctcloc, o_ctdv, o_ctv, o_tloc, o_tv, angle], axis=1)\n",
    "\n",
    "if \"o.ct\" not in df_base:\n",
    "    df[\"o.ct\"] = empty_array\n",
    "    df[\"o.ct_ts\"] = empty_array\n",
    "    df[\"o.cac\"] = empty_array\n",
    "    df[\"o.cbdr\"] = empty_array\n",
    "    df[\"o.ct_ct\"] = empty_array\n",
    "    df[\"o.ct_cradius\"] = empty_array\n",
    "    df[\"o.nd\"] = empty_array\n",
    "    df[\"o.ct_dist\"] = empty_array\n",
    "else:\n",
    "    df[\"o.ct_dist\"] = np.linalg.norm(np.vstack(df[\"loc\"]) - np.vstack(df[\"o.ct_cloc\"].apply(lambda x: (np.nan, np.nan) if np.all(np.isnan(x)) else x)), axis=1)\n",
    "    \n",
    "if \"o.t_loc\" not in df_base:\n",
    "    df[\"o.cs\"] = empty_array\n",
    "    df[\"o.t_dist\"] = empty_array\n",
    "else:\n",
    "    df[\"o.t_dist\"] = np.linalg.norm(np.vstack(df[\"loc\"]) - np.vstack(df[\"o.t_loc\"].apply(lambda x: (np.nan, np.nan) if np.all(np.isnan(x)) else x)), axis=1)"
   ]
  },
  {
   "cell_type": "code",
   "execution_count": 7,
   "id": "6e17314e",
   "metadata": {},
   "outputs": [],
   "source": [
    "df[\"speed\"] = np.linalg.norm(df[[\"v.x\", \"v.y\"]], axis=1)\n",
    "df[\"o.t_speed\"] = np.linalg.norm(df[[\"o.t_v.x\", \"o.t_v.y\"]], axis=1)\n",
    "df[\"f_mag\"] = df[\"f\"].apply(lambda x:np.linalg.norm(x))"
   ]
  },
  {
   "cell_type": "code",
   "execution_count": 8,
   "id": "39640462",
   "metadata": {},
   "outputs": [],
   "source": [
    "#df[\"o.ct_v.x\"] = (df[\"o.ct_loc.x\"].shift(1) - df[\"o.ct_loc.x\"]) / (df[\"ts\"].shift(1) - df[\"ts\"])\n",
    "#df[\"o.ct_v.y\"] = (df[\"o.ct_loc.y\"].shift(1) - df[\"o.ct_loc.y\"]) / (df[\"ts\"].shift(1) - df[\"ts\"])"
   ]
  },
  {
   "cell_type": "code",
   "execution_count": 9,
   "id": "34fd5383",
   "metadata": {},
   "outputs": [
    {
     "data": {
      "text/html": [
       "<div>\n",
       "<style scoped>\n",
       "    .dataframe tbody tr th:only-of-type {\n",
       "        vertical-align: middle;\n",
       "    }\n",
       "\n",
       "    .dataframe tbody tr th {\n",
       "        vertical-align: top;\n",
       "    }\n",
       "\n",
       "    .dataframe thead th {\n",
       "        text-align: right;\n",
       "    }\n",
       "</style>\n",
       "<table border=\"1\" class=\"dataframe\">\n",
       "  <thead>\n",
       "    <tr style=\"text-align: right;\">\n",
       "      <th></th>\n",
       "      <th>index</th>\n",
       "      <th>p</th>\n",
       "      <th>eid</th>\n",
       "      <th>ts</th>\n",
       "      <th>loc</th>\n",
       "      <th>r</th>\n",
       "      <th>a</th>\n",
       "      <th>v</th>\n",
       "      <th>av</th>\n",
       "      <th>f</th>\n",
       "      <th>...</th>\n",
       "      <th>o.t_loc.y</th>\n",
       "      <th>o.t_v.x</th>\n",
       "      <th>o.t_v.y</th>\n",
       "      <th>angle.x</th>\n",
       "      <th>angle.y</th>\n",
       "      <th>o.ct_dist</th>\n",
       "      <th>o.t_dist</th>\n",
       "      <th>speed</th>\n",
       "      <th>o.t_speed</th>\n",
       "      <th>f_mag</th>\n",
       "    </tr>\n",
       "  </thead>\n",
       "  <tbody>\n",
       "    <tr>\n",
       "      <th>0</th>\n",
       "      <td>0</td>\n",
       "      <td>SHP</td>\n",
       "      <td>3068fc56-0ee8-4dfb-8dd9-6763d2b17aaa</td>\n",
       "      <td>0.133333</td>\n",
       "      <td>[-102012.6147199889, 6312.110418843732]</td>\n",
       "      <td>30</td>\n",
       "      <td>-24.783779</td>\n",
       "      <td>[-1.108919954819903, 0.31561203092101703]</td>\n",
       "      <td>0.466667</td>\n",
       "      <td>[-9863.448297813868, 1646.932808694006]</td>\n",
       "      <td>...</td>\n",
       "      <td>18212.262083</td>\n",
       "      <td>-426.523821</td>\n",
       "      <td>105.567345</td>\n",
       "      <td>93.972804</td>\n",
       "      <td>34.192281</td>\n",
       "      <td>1044.139262</td>\n",
       "      <td>49530.984175</td>\n",
       "      <td>1.152959</td>\n",
       "      <td>439.393939</td>\n",
       "      <td>10000.000000</td>\n",
       "    </tr>\n",
       "    <tr>\n",
       "      <th>1</th>\n",
       "      <td>1</td>\n",
       "      <td>SHP</td>\n",
       "      <td>3068fc56-0ee8-4dfb-8dd9-6763d2b17aaa</td>\n",
       "      <td>0.300000</td>\n",
       "      <td>[-102012.86118655394, 6312.173314054882]</td>\n",
       "      <td>30</td>\n",
       "      <td>-24.681001</td>\n",
       "      <td>[-1.9308744858541682, 0.452853399872622]</td>\n",
       "      <td>0.800000</td>\n",
       "      <td>[-9863.466064559518, 1646.826400469334]</td>\n",
       "      <td>...</td>\n",
       "      <td>18212.262083</td>\n",
       "      <td>-426.523825</td>\n",
       "      <td>105.567330</td>\n",
       "      <td>89.968888</td>\n",
       "      <td>43.653169</td>\n",
       "      <td>1044.372711</td>\n",
       "      <td>49530.729817</td>\n",
       "      <td>1.983268</td>\n",
       "      <td>439.393939</td>\n",
       "      <td>10000.000000</td>\n",
       "    </tr>\n",
       "    <tr>\n",
       "      <th>2</th>\n",
       "      <td>2</td>\n",
       "      <td>SHP</td>\n",
       "      <td>3068fc56-0ee8-4dfb-8dd9-6763d2b17aaa</td>\n",
       "      <td>0.466667</td>\n",
       "      <td>[-102013.2446456825, 6312.259081979036]</td>\n",
       "      <td>30</td>\n",
       "      <td>-24.522668</td>\n",
       "      <td>[-2.75283114884385, 0.590081999628834]</td>\n",
       "      <td>1.133333</td>\n",
       "      <td>[-9863.49706738579, 1646.6407020573472]</td>\n",
       "      <td>...</td>\n",
       "      <td>18212.262083</td>\n",
       "      <td>-426.523806</td>\n",
       "      <td>105.567406</td>\n",
       "      <td>81.960598</td>\n",
       "      <td>57.292760</td>\n",
       "      <td>1044.728377</td>\n",
       "      <td>49530.336983</td>\n",
       "      <td>2.815364</td>\n",
       "      <td>439.393939</td>\n",
       "      <td>10000.000000</td>\n",
       "    </tr>\n",
       "    <tr>\n",
       "      <th>3</th>\n",
       "      <td>3</td>\n",
       "      <td>SHP</td>\n",
       "      <td>3068fc56-0ee8-4dfb-8dd9-6763d2b17aaa</td>\n",
       "      <td>0.633333</td>\n",
       "      <td>[-102013.7650977832, 6312.3677201685205]</td>\n",
       "      <td>30</td>\n",
       "      <td>-24.308779</td>\n",
       "      <td>[-3.574790422943223, 0.727294958729772]</td>\n",
       "      <td>1.466667</td>\n",
       "      <td>[-9863.52880912911, 1646.4505554313175]</td>\n",
       "      <td>...</td>\n",
       "      <td>18212.262083</td>\n",
       "      <td>-426.523764</td>\n",
       "      <td>105.567575</td>\n",
       "      <td>67.931886</td>\n",
       "      <td>73.384323</td>\n",
       "      <td>1045.199012</td>\n",
       "      <td>49529.805675</td>\n",
       "      <td>3.648025</td>\n",
       "      <td>439.393939</td>\n",
       "      <td>10000.000000</td>\n",
       "    </tr>\n",
       "    <tr>\n",
       "      <th>4</th>\n",
       "      <td>4</td>\n",
       "      <td>SHP</td>\n",
       "      <td>3068fc56-0ee8-4dfb-8dd9-6763d2b17aaa</td>\n",
       "      <td>0.800000</td>\n",
       "      <td>[-102014.42254329589, 6312.49922598851]</td>\n",
       "      <td>30</td>\n",
       "      <td>-24.039335</td>\n",
       "      <td>[-4.396752370660904, 0.8644919008470141]</td>\n",
       "      <td>1.800000</td>\n",
       "      <td>[-9863.561314848024, 1646.2558088685662]</td>\n",
       "      <td>...</td>\n",
       "      <td>18212.262083</td>\n",
       "      <td>-426.523699</td>\n",
       "      <td>105.567836</td>\n",
       "      <td>45.946221</td>\n",
       "      <td>88.819732</td>\n",
       "      <td>1045.777070</td>\n",
       "      <td>49529.135891</td>\n",
       "      <td>4.480935</td>\n",
       "      <td>439.393939</td>\n",
       "      <td>10000.000000</td>\n",
       "    </tr>\n",
       "    <tr>\n",
       "      <th>...</th>\n",
       "      <td>...</td>\n",
       "      <td>...</td>\n",
       "      <td>...</td>\n",
       "      <td>...</td>\n",
       "      <td>...</td>\n",
       "      <td>...</td>\n",
       "      <td>...</td>\n",
       "      <td>...</td>\n",
       "      <td>...</td>\n",
       "      <td>...</td>\n",
       "      <td>...</td>\n",
       "      <td>...</td>\n",
       "      <td>...</td>\n",
       "      <td>...</td>\n",
       "      <td>...</td>\n",
       "      <td>...</td>\n",
       "      <td>...</td>\n",
       "      <td>...</td>\n",
       "      <td>...</td>\n",
       "      <td>...</td>\n",
       "      <td>...</td>\n",
       "    </tr>\n",
       "    <tr>\n",
       "      <th>959</th>\n",
       "      <td>959</td>\n",
       "      <td>SHP</td>\n",
       "      <td>3068fc56-0ee8-4dfb-8dd9-6763d2b17aaa</td>\n",
       "      <td>159.966667</td>\n",
       "      <td>[-149666.89139442673, 18107.54578108374]</td>\n",
       "      <td>30</td>\n",
       "      <td>-6.477069</td>\n",
       "      <td>[-66.19629610576338, 16.275170843762172]</td>\n",
       "      <td>-0.421024</td>\n",
       "      <td>[194216.11201387495, -47750.411874809804]</td>\n",
       "      <td>...</td>\n",
       "      <td>18212.262083</td>\n",
       "      <td>0.000000</td>\n",
       "      <td>0.000000</td>\n",
       "      <td>98.126343</td>\n",
       "      <td>-19.267091</td>\n",
       "      <td>NaN</td>\n",
       "      <td>438.598528</td>\n",
       "      <td>68.167667</td>\n",
       "      <td>0.000000</td>\n",
       "      <td>200000.000000</td>\n",
       "    </tr>\n",
       "    <tr>\n",
       "      <th>960</th>\n",
       "      <td>960</td>\n",
       "      <td>SHP</td>\n",
       "      <td>3068fc56-0ee8-4dfb-8dd9-6763d2b17aaa</td>\n",
       "      <td>160.133333</td>\n",
       "      <td>[-149676.71025974426, 18109.959869483482]</td>\n",
       "      <td>30</td>\n",
       "      <td>-6.523976</td>\n",
       "      <td>[-50.01162010460716, 12.295969854194695]</td>\n",
       "      <td>-0.102787</td>\n",
       "      <td>[194216.11201387495, -47750.411874809804]</td>\n",
       "      <td>...</td>\n",
       "      <td>18212.262083</td>\n",
       "      <td>0.000000</td>\n",
       "      <td>0.000000</td>\n",
       "      <td>97.114976</td>\n",
       "      <td>-23.847043</td>\n",
       "      <td>NaN</td>\n",
       "      <td>428.487250</td>\n",
       "      <td>51.501000</td>\n",
       "      <td>0.000000</td>\n",
       "      <td>200000.000000</td>\n",
       "    </tr>\n",
       "    <tr>\n",
       "      <th>961</th>\n",
       "      <td>961</td>\n",
       "      <td>SHP</td>\n",
       "      <td>3068fc56-0ee8-4dfb-8dd9-6763d2b17aaa</td>\n",
       "      <td>160.300000</td>\n",
       "      <td>[-149683.8316790616, 18111.710757718298]</td>\n",
       "      <td>30</td>\n",
       "      <td>-6.522361</td>\n",
       "      <td>[-33.82694410345094, 8.316768864627218]</td>\n",
       "      <td>-0.026764</td>\n",
       "      <td>[194216.11201387495, -47750.411874809804]</td>\n",
       "      <td>...</td>\n",
       "      <td>18212.262083</td>\n",
       "      <td>0.000000</td>\n",
       "      <td>0.000000</td>\n",
       "      <td>97.153347</td>\n",
       "      <td>-23.690235</td>\n",
       "      <td>NaN</td>\n",
       "      <td>421.153750</td>\n",
       "      <td>34.834334</td>\n",
       "      <td>0.000000</td>\n",
       "      <td>200000.000000</td>\n",
       "    </tr>\n",
       "    <tr>\n",
       "      <th>962</th>\n",
       "      <td>962</td>\n",
       "      <td>SHP</td>\n",
       "      <td>3068fc56-0ee8-4dfb-8dd9-6763d2b17aaa</td>\n",
       "      <td>160.466667</td>\n",
       "      <td>[-149688.25565237875, 18112.798445788187]</td>\n",
       "      <td>30</td>\n",
       "      <td>-6.523461</td>\n",
       "      <td>[-17.64226810229469, 4.33756787505974]</td>\n",
       "      <td>0.000000</td>\n",
       "      <td>[194216.11201387498, -47750.41187480963]</td>\n",
       "      <td>...</td>\n",
       "      <td>18212.262083</td>\n",
       "      <td>0.000000</td>\n",
       "      <td>0.000000</td>\n",
       "      <td>97.127247</td>\n",
       "      <td>-23.797013</td>\n",
       "      <td>NaN</td>\n",
       "      <td>416.598028</td>\n",
       "      <td>18.167667</td>\n",
       "      <td>0.000000</td>\n",
       "      <td>200000.000000</td>\n",
       "    </tr>\n",
       "    <tr>\n",
       "      <th>963</th>\n",
       "      <td>963</td>\n",
       "      <td>SHP</td>\n",
       "      <td>3068fc56-0ee8-4dfb-8dd9-6763d2b17aaa</td>\n",
       "      <td>160.633333</td>\n",
       "      <td>[-149689.9821796957, 18113.22293369315]</td>\n",
       "      <td>30</td>\n",
       "      <td>-6.523461</td>\n",
       "      <td>[-1.457592101138438, 0.35836688549226603]</td>\n",
       "      <td>0.000000</td>\n",
       "      <td>[174911.05213661262, -43004.02625907202]</td>\n",
       "      <td>...</td>\n",
       "      <td>18212.262083</td>\n",
       "      <td>0.000000</td>\n",
       "      <td>0.000000</td>\n",
       "      <td>97.127247</td>\n",
       "      <td>-23.797013</td>\n",
       "      <td>NaN</td>\n",
       "      <td>414.820083</td>\n",
       "      <td>1.501000</td>\n",
       "      <td>0.000000</td>\n",
       "      <td>180120.022302</td>\n",
       "    </tr>\n",
       "  </tbody>\n",
       "</table>\n",
       "<p>964 rows × 55 columns</p>\n",
       "</div>"
      ],
      "text/plain": [
       "     index    p                                   eid          ts  \\\n",
       "0        0  SHP  3068fc56-0ee8-4dfb-8dd9-6763d2b17aaa    0.133333   \n",
       "1        1  SHP  3068fc56-0ee8-4dfb-8dd9-6763d2b17aaa    0.300000   \n",
       "2        2  SHP  3068fc56-0ee8-4dfb-8dd9-6763d2b17aaa    0.466667   \n",
       "3        3  SHP  3068fc56-0ee8-4dfb-8dd9-6763d2b17aaa    0.633333   \n",
       "4        4  SHP  3068fc56-0ee8-4dfb-8dd9-6763d2b17aaa    0.800000   \n",
       "..     ...  ...                                   ...         ...   \n",
       "959    959  SHP  3068fc56-0ee8-4dfb-8dd9-6763d2b17aaa  159.966667   \n",
       "960    960  SHP  3068fc56-0ee8-4dfb-8dd9-6763d2b17aaa  160.133333   \n",
       "961    961  SHP  3068fc56-0ee8-4dfb-8dd9-6763d2b17aaa  160.300000   \n",
       "962    962  SHP  3068fc56-0ee8-4dfb-8dd9-6763d2b17aaa  160.466667   \n",
       "963    963  SHP  3068fc56-0ee8-4dfb-8dd9-6763d2b17aaa  160.633333   \n",
       "\n",
       "                                           loc   r          a  \\\n",
       "0      [-102012.6147199889, 6312.110418843732]  30 -24.783779   \n",
       "1     [-102012.86118655394, 6312.173314054882]  30 -24.681001   \n",
       "2      [-102013.2446456825, 6312.259081979036]  30 -24.522668   \n",
       "3     [-102013.7650977832, 6312.3677201685205]  30 -24.308779   \n",
       "4      [-102014.42254329589, 6312.49922598851]  30 -24.039335   \n",
       "..                                         ...  ..        ...   \n",
       "959   [-149666.89139442673, 18107.54578108374]  30  -6.477069   \n",
       "960  [-149676.71025974426, 18109.959869483482]  30  -6.523976   \n",
       "961   [-149683.8316790616, 18111.710757718298]  30  -6.522361   \n",
       "962  [-149688.25565237875, 18112.798445788187]  30  -6.523461   \n",
       "963    [-149689.9821796957, 18113.22293369315]  30  -6.523461   \n",
       "\n",
       "                                             v        av  \\\n",
       "0    [-1.108919954819903, 0.31561203092101703]  0.466667   \n",
       "1     [-1.9308744858541682, 0.452853399872622]  0.800000   \n",
       "2       [-2.75283114884385, 0.590081999628834]  1.133333   \n",
       "3      [-3.574790422943223, 0.727294958729772]  1.466667   \n",
       "4     [-4.396752370660904, 0.8644919008470141]  1.800000   \n",
       "..                                         ...       ...   \n",
       "959   [-66.19629610576338, 16.275170843762172] -0.421024   \n",
       "960   [-50.01162010460716, 12.295969854194695] -0.102787   \n",
       "961    [-33.82694410345094, 8.316768864627218] -0.026764   \n",
       "962     [-17.64226810229469, 4.33756787505974]  0.000000   \n",
       "963  [-1.457592101138438, 0.35836688549226603]  0.000000   \n",
       "\n",
       "                                             f  ...     o.t_loc.y     o.t_v.x  \\\n",
       "0      [-9863.448297813868, 1646.932808694006]  ...  18212.262083 -426.523821   \n",
       "1      [-9863.466064559518, 1646.826400469334]  ...  18212.262083 -426.523825   \n",
       "2      [-9863.49706738579, 1646.6407020573472]  ...  18212.262083 -426.523806   \n",
       "3      [-9863.52880912911, 1646.4505554313175]  ...  18212.262083 -426.523764   \n",
       "4     [-9863.561314848024, 1646.2558088685662]  ...  18212.262083 -426.523699   \n",
       "..                                         ...  ...           ...         ...   \n",
       "959  [194216.11201387495, -47750.411874809804]  ...  18212.262083    0.000000   \n",
       "960  [194216.11201387495, -47750.411874809804]  ...  18212.262083    0.000000   \n",
       "961  [194216.11201387495, -47750.411874809804]  ...  18212.262083    0.000000   \n",
       "962   [194216.11201387498, -47750.41187480963]  ...  18212.262083    0.000000   \n",
       "963   [174911.05213661262, -43004.02625907202]  ...  18212.262083    0.000000   \n",
       "\n",
       "        o.t_v.y    angle.x    angle.y    o.ct_dist      o.t_dist      speed  \\\n",
       "0    105.567345  93.972804  34.192281  1044.139262  49530.984175   1.152959   \n",
       "1    105.567330  89.968888  43.653169  1044.372711  49530.729817   1.983268   \n",
       "2    105.567406  81.960598  57.292760  1044.728377  49530.336983   2.815364   \n",
       "3    105.567575  67.931886  73.384323  1045.199012  49529.805675   3.648025   \n",
       "4    105.567836  45.946221  88.819732  1045.777070  49529.135891   4.480935   \n",
       "..          ...        ...        ...          ...           ...        ...   \n",
       "959    0.000000  98.126343 -19.267091          NaN    438.598528  68.167667   \n",
       "960    0.000000  97.114976 -23.847043          NaN    428.487250  51.501000   \n",
       "961    0.000000  97.153347 -23.690235          NaN    421.153750  34.834334   \n",
       "962    0.000000  97.127247 -23.797013          NaN    416.598028  18.167667   \n",
       "963    0.000000  97.127247 -23.797013          NaN    414.820083   1.501000   \n",
       "\n",
       "      o.t_speed          f_mag  \n",
       "0    439.393939   10000.000000  \n",
       "1    439.393939   10000.000000  \n",
       "2    439.393939   10000.000000  \n",
       "3    439.393939   10000.000000  \n",
       "4    439.393939   10000.000000  \n",
       "..          ...            ...  \n",
       "959    0.000000  200000.000000  \n",
       "960    0.000000  200000.000000  \n",
       "961    0.000000  200000.000000  \n",
       "962    0.000000  200000.000000  \n",
       "963    0.000000  180120.022302  \n",
       "\n",
       "[964 rows x 55 columns]"
      ]
     },
     "execution_count": 9,
     "metadata": {},
     "output_type": "execute_result"
    }
   ],
   "source": [
    "df"
   ]
  },
  {
   "cell_type": "code",
   "execution_count": 10,
   "id": "a703dac7",
   "metadata": {},
   "outputs": [
    {
     "data": {
      "text/plain": [
       "{'o': 'stellarpunk.orders.GoToLocation',\n",
       " 'nd': 0.0,\n",
       " 'nnd': inf,\n",
       " 't_loc': [-150092.80589851548, 18212.26208285093],\n",
       " 'ad': 500.0,\n",
       " 'md': 0.0,\n",
       " 't_v': [0.0, 0.0],\n",
       " 'cs': False}"
      ]
     },
     "execution_count": 10,
     "metadata": {},
     "output_type": "execute_result"
    }
   ],
   "source": [
    "df.iloc[-1][\"o\"]"
   ]
  },
  {
   "cell_type": "markdown",
   "id": "a6d3cf5e",
   "metadata": {},
   "source": [
    "# Basic Ship Vitals"
   ]
  },
  {
   "cell_type": "markdown",
   "id": "36730903",
   "metadata": {},
   "source": [
    "## Position and Heading"
   ]
  },
  {
   "cell_type": "code",
   "execution_count": 11,
   "id": "665329e8",
   "metadata": {},
   "outputs": [
    {
     "data": {
      "application/vnd.jupyter.widget-view+json": {
       "model_id": "4032b11a1f284ae29c8fdf30a3211944",
       "version_major": 2,
       "version_minor": 0
      },
      "text/plain": [
       "interactive(children=(FloatSlider(value=160.6333333333533, continuous_update=False, description='max_time', ma…"
      ]
     },
     "metadata": {},
     "output_type": "display_data"
    },
    {
     "data": {
      "text/plain": [
       "<function __main__.plot_location_chart(max_time)>"
      ]
     },
     "execution_count": 11,
     "metadata": {},
     "output_type": "execute_result"
    }
   ],
   "source": [
    "def plot_location_chart(max_time):\n",
    "    sample = df[df[\"ts\"] <= max_time].iloc[::50]\n",
    "    plt.quiver(sample[\"loc.x\"], sample[\"loc.y\"], sample[\"angle.x\"], sample[\"angle.y\"])#, scale=100)\n",
    "    plt.scatter(sample[\"o.t_loc.x\"], sample[\"o.t_loc.y\"])\n",
    "    #center = (0,2500)\n",
    "    #radius = 10000\n",
    "    #plt.xlim(center[0]-radius,center[0]+radius)\n",
    "    #plt.ylim(center[1]-radius,center[1]+radius)\n",
    "\n",
    "ipywidgets.interact(plot_location_chart, max_time=ipywidgets.FloatSlider(value=df[\"ts\"].max(), min=df[\"ts\"].min(), max=df[\"ts\"].max(), continuous_update=False))"
   ]
  },
  {
   "cell_type": "code",
   "execution_count": 12,
   "id": "ed1c2ca3",
   "metadata": {},
   "outputs": [
    {
     "data": {
      "text/html": [
       "<div>\n",
       "<style scoped>\n",
       "    .dataframe tbody tr th:only-of-type {\n",
       "        vertical-align: middle;\n",
       "    }\n",
       "\n",
       "    .dataframe tbody tr th {\n",
       "        vertical-align: top;\n",
       "    }\n",
       "\n",
       "    .dataframe thead th {\n",
       "        text-align: right;\n",
       "    }\n",
       "</style>\n",
       "<table border=\"1\" class=\"dataframe\">\n",
       "  <thead>\n",
       "    <tr style=\"text-align: right;\">\n",
       "      <th></th>\n",
       "      <th>loc.x</th>\n",
       "      <th>loc.y</th>\n",
       "    </tr>\n",
       "  </thead>\n",
       "  <tbody>\n",
       "    <tr>\n",
       "      <th>count</th>\n",
       "      <td>964.000000</td>\n",
       "      <td>964.000000</td>\n",
       "    </tr>\n",
       "    <tr>\n",
       "      <th>mean</th>\n",
       "      <td>-119964.418478</td>\n",
       "      <td>10750.567836</td>\n",
       "    </tr>\n",
       "    <tr>\n",
       "      <th>std</th>\n",
       "      <td>16756.185058</td>\n",
       "      <td>4178.090369</td>\n",
       "    </tr>\n",
       "    <tr>\n",
       "      <th>min</th>\n",
       "      <td>-149689.982180</td>\n",
       "      <td>6030.011503</td>\n",
       "    </tr>\n",
       "    <tr>\n",
       "      <th>25%</th>\n",
       "      <td>-135160.168998</td>\n",
       "      <td>6460.375667</td>\n",
       "    </tr>\n",
       "    <tr>\n",
       "      <th>50%</th>\n",
       "      <td>-115677.865262</td>\n",
       "      <td>9750.927063</td>\n",
       "    </tr>\n",
       "    <tr>\n",
       "      <th>75%</th>\n",
       "      <td>-103173.620352</td>\n",
       "      <td>14540.890254</td>\n",
       "    </tr>\n",
       "    <tr>\n",
       "      <th>max</th>\n",
       "      <td>-102012.614720</td>\n",
       "      <td>18113.222934</td>\n",
       "    </tr>\n",
       "  </tbody>\n",
       "</table>\n",
       "</div>"
      ],
      "text/plain": [
       "               loc.x         loc.y\n",
       "count     964.000000    964.000000\n",
       "mean  -119964.418478  10750.567836\n",
       "std     16756.185058   4178.090369\n",
       "min   -149689.982180   6030.011503\n",
       "25%   -135160.168998   6460.375667\n",
       "50%   -115677.865262   9750.927063\n",
       "75%   -103173.620352  14540.890254\n",
       "max   -102012.614720  18113.222934"
      ]
     },
     "execution_count": 12,
     "metadata": {},
     "output_type": "execute_result"
    }
   ],
   "source": [
    "df[[\"loc.x\", \"loc.y\"]].describe()"
   ]
  },
  {
   "cell_type": "code",
   "execution_count": 13,
   "id": "e0f37c4c",
   "metadata": {},
   "outputs": [
    {
     "data": {
      "text/plain": [
       "Text(0.5, 1.0, 'position')"
      ]
     },
     "execution_count": 13,
     "metadata": {},
     "output_type": "execute_result"
    },
    {
     "data": {
      "image/png": "[encoded data removed]",
      "text/plain": [
       "<Figure size 432x288 with 1 Axes>"
      ]
     },
     "metadata": {
      "needs_background": "light"
     },
     "output_type": "display_data"
    }
   ],
   "source": [
    "plt.scatter(df[\"ts\"], df[\"loc.x\"])\n",
    "plt.scatter(df[\"ts\"], df[\"loc.y\"])\n",
    "plt.title(\"position\")"
   ]
  },
  {
   "cell_type": "code",
   "execution_count": 14,
   "id": "b65fd521",
   "metadata": {},
   "outputs": [
    {
     "data": {
      "text/plain": [
       "Text(0.5, 1.0, 'heading and angular velocity')"
      ]
     },
     "execution_count": 14,
     "metadata": {},
     "output_type": "execute_result"
    },
    {
     "data": {
      "image/png": "[encoded data removed]",
      "text/plain": [
       "<Figure size 432x288 with 1 Axes>"
      ]
     },
     "metadata": {
      "needs_background": "light"
     },
     "output_type": "display_data"
    }
   ],
   "source": [
    "plt.scatter(df[\"ts\"], df[\"a\"], label=\"theta\")\n",
    "plt.scatter(df[\"ts\"], df[\"av\"], label=\"omega\")\n",
    "plt.hlines(np.pi, df[\"ts\"].min(), df[\"ts\"].max(), color=\"red\")\n",
    "plt.hlines(0, df[\"ts\"].min(), df[\"ts\"].max(), color=\"red\")\n",
    "plt.legend()\n",
    "plt.title(\"heading and angular velocity\")"
   ]
  },
  {
   "cell_type": "code",
   "execution_count": 15,
   "id": "e1a4515d",
   "metadata": {},
   "outputs": [
    {
     "data": {
      "text/plain": [
       "<matplotlib.collections.PathCollection at 0x7fb30cc66050>"
      ]
     },
     "execution_count": 15,
     "metadata": {},
     "output_type": "execute_result"
    },
    {
     "data": {
      "image/png": "[encoded data removed]",
      "text/plain": [
       "<Figure size 432x288 with 1 Axes>"
      ]
     },
     "metadata": {
      "needs_background": "light"
     },
     "output_type": "display_data"
    }
   ],
   "source": [
    "plt.scatter(df[\"ts\"], df[\"t\"])"
   ]
  },
  {
   "cell_type": "markdown",
   "id": "4ce26323",
   "metadata": {},
   "source": [
    "## Velocity and Acceleration"
   ]
  },
  {
   "cell_type": "code",
   "execution_count": 16,
   "id": "3b15d980",
   "metadata": {},
   "outputs": [
    {
     "data": {
      "text/plain": [
       "<matplotlib.collections.PathCollection at 0x7fb30aa77eb0>"
      ]
     },
     "execution_count": 16,
     "metadata": {},
     "output_type": "execute_result"
    },
    {
     "data": {
      "image/png": "[encoded data removed]",
      "text/plain": [
       "<Figure size 432x288 with 1 Axes>"
      ]
     },
     "metadata": {
      "needs_background": "light"
     },
     "output_type": "display_data"
    }
   ],
   "source": [
    "plt.scatter(df[\"ts\"], df[\"speed\"])"
   ]
  },
  {
   "cell_type": "code",
   "execution_count": 17,
   "id": "32a0a440",
   "metadata": {
    "scrolled": true
   },
   "outputs": [
    {
     "data": {
      "text/plain": [
       "Text(0.5, 1.0, 'velocity')"
      ]
     },
     "execution_count": 17,
     "metadata": {},
     "output_type": "execute_result"
    },
    {
     "data": {
      "image/png": "[encoded data removed]",
      "text/plain": [
       "<Figure size 432x288 with 1 Axes>"
      ]
     },
     "metadata": {
      "needs_background": "light"
     },
     "output_type": "display_data"
    }
   ],
   "source": [
    "plt.scatter(df[\"ts\"], df[\"v.x\"])\n",
    "plt.scatter(df[\"ts\"], df[\"v.y\"])\n",
    "plt.title(\"velocity\")"
   ]
  },
  {
   "cell_type": "code",
   "execution_count": 18,
   "id": "7e3172c1",
   "metadata": {
    "scrolled": true
   },
   "outputs": [
    {
     "data": {
      "text/plain": [
       "Text(0.5, 1.0, 'acceleration')"
      ]
     },
     "execution_count": 18,
     "metadata": {},
     "output_type": "execute_result"
    },
    {
     "data": {
      "image/png": "[encoded data removed]",
      "text/plain": [
       "<Figure size 432x288 with 1 Axes>"
      ]
     },
     "metadata": {
      "needs_background": "light"
     },
     "output_type": "display_data"
    }
   ],
   "source": [
    "#plt.scatter(df[\"ts\"], (df[\"v.x\"] - df[\"v.x\"].shift(-1)))#/(df[\"ts\"]-df[\"ts\"].shift(-1)))\n",
    "plt.scatter(df[\"ts\"], (df[\"v.x\"].shift(1) - df[\"v.x\"]) / (df[\"ts\"].shift(1) - df[\"ts\"]))\n",
    "plt.scatter(df[\"ts\"], (df[\"v.y\"].shift(1) - df[\"v.y\"]) / (df[\"ts\"].shift(1) - df[\"ts\"]))\n",
    "plt.yscale(\"symlog\")\n",
    "plt.title(\"acceleration\")"
   ]
  },
  {
   "cell_type": "code",
   "execution_count": 19,
   "id": "7754010f",
   "metadata": {},
   "outputs": [
    {
     "data": {
      "text/plain": [
       "Text(0.5, 1.0, 'force')"
      ]
     },
     "execution_count": 19,
     "metadata": {},
     "output_type": "execute_result"
    },
    {
     "data": {
      "image/png": "[encoded data removed]",
      "text/plain": [
       "<Figure size 432x288 with 1 Axes>"
      ]
     },
     "metadata": {
      "needs_background": "light"
     },
     "output_type": "display_data"
    }
   ],
   "source": [
    "plt.scatter(df[\"ts\"], df[\"f_mag\"])\n",
    "plt.yscale(\"log\")\n",
    "plt.title(\"force\")"
   ]
  },
  {
   "cell_type": "markdown",
   "id": "4630e3f8",
   "metadata": {},
   "source": [
    "# Behavior Monitoring"
   ]
  },
  {
   "cell_type": "code",
   "execution_count": 20,
   "id": "cf1a4380",
   "metadata": {},
   "outputs": [
    {
     "data": {
      "text/plain": [
       "[0.133333333333333, None, None, None]"
      ]
     },
     "execution_count": 20,
     "metadata": {},
     "output_type": "execute_result"
    }
   ],
   "source": [
    "[next((df.iloc[idx][\"ts\"] if idx is not None else None for idx, v in zip(df.index, (~df[c].isna() & df[c] == True)) if v), None) for c in [\"o.ct\", \"o.cs\", \"o.cac\", \"o.cbdr\"]]"
   ]
  },
  {
   "cell_type": "code",
   "execution_count": 21,
   "id": "9e6db2b0",
   "metadata": {},
   "outputs": [
    {
     "data": {
      "application/vnd.jupyter.widget-view+json": {
       "model_id": "8ea262f68401444eb2321f0bd7281f22",
       "version_major": 2,
       "version_minor": 0
      },
      "text/plain": [
       "interactive(children=(FloatSlider(value=5.0, continuous_update=False, description='hist_length', max=160.50000…"
      ]
     },
     "metadata": {},
     "output_type": "display_data"
    },
    {
     "data": {
      "text/plain": [
       "<function __main__.plot_collision_info(hist_length, max_time)>"
      ]
     },
     "execution_count": 21,
     "metadata": {},
     "output_type": "execute_result"
    }
   ],
   "source": [
    "def plot_collision_info(hist_length, max_time):\n",
    "    sample = df[(df[\"ts\"] >= max_time - hist_length) & (df[\"ts\"] <= max_time)]\n",
    "    plt.scatter(sample[\"ts\"], (~(sample[\"o.ct\"].isna())).astype(int), label=\"ct\")\n",
    "    plt.scatter(sample[\"ts\"], sample[\"o.cs\"].fillna(0).astype(int)+0.05, label=\"cs\")\n",
    "    plt.scatter(sample[\"ts\"], sample[\"o.cac\"].fillna(0).astype(int)+0.1, label=\"cac\")\n",
    "    plt.scatter(sample[\"ts\"], sample[\"o.cbdr\"].fillna(0).astype(int)+0.15, label=\"cbdr\")\n",
    "    plt.legend()\n",
    "    plt.title(\"status flags\")\n",
    "    \n",
    "    flag_cols = [\"o.ct\", \"o.cs\", \"o.cac\", \"o.cbdr\"]\n",
    "    first_ts = [next((df.iloc[idx][\"ts\"] if idx is not None else None for idx, v in zip(df.index, (~df[c].isna() & df[c] == True)) if v), None) for c in flag_cols]\n",
    "    for c, ts in zip(flag_cols, first_ts):\n",
    "        print(f'first {c}: {ts}')\n",
    "\n",
    "ipywidgets.interact(plot_collision_info, hist_length=ipywidgets.FloatSlider(value=5, min=0, max=df[\"ts\"].max()-df[\"ts\"].min(), continuous_update=False), max_time=ipywidgets.FloatSlider(value=df[\"ts\"].max(), min=df[\"ts\"].min(), max=df[\"ts\"].max()+.1, continuous_update=False))"
   ]
  },
  {
   "cell_type": "markdown",
   "id": "94ba2b3d",
   "metadata": {},
   "source": [
    "### Target Location"
   ]
  },
  {
   "cell_type": "code",
   "execution_count": 22,
   "id": "2640e1e5",
   "metadata": {},
   "outputs": [
    {
     "data": {
      "text/html": [
       "<div>\n",
       "<style scoped>\n",
       "    .dataframe tbody tr th:only-of-type {\n",
       "        vertical-align: middle;\n",
       "    }\n",
       "\n",
       "    .dataframe tbody tr th {\n",
       "        vertical-align: top;\n",
       "    }\n",
       "\n",
       "    .dataframe thead tr th {\n",
       "        text-align: left;\n",
       "    }\n",
       "\n",
       "    .dataframe thead tr:last-of-type th {\n",
       "        text-align: right;\n",
       "    }\n",
       "</style>\n",
       "<table border=\"1\" class=\"dataframe\">\n",
       "  <thead>\n",
       "    <tr>\n",
       "      <th></th>\n",
       "      <th></th>\n",
       "      <th colspan=\"3\" halign=\"left\">ts</th>\n",
       "      <th colspan=\"2\" halign=\"left\">o.t_dist</th>\n",
       "    </tr>\n",
       "    <tr>\n",
       "      <th></th>\n",
       "      <th></th>\n",
       "      <th>count</th>\n",
       "      <th>min</th>\n",
       "      <th>max</th>\n",
       "      <th>min</th>\n",
       "      <th>max</th>\n",
       "    </tr>\n",
       "    <tr>\n",
       "      <th>o.t_loc.x</th>\n",
       "      <th>o.t_loc.y</th>\n",
       "      <th></th>\n",
       "      <th></th>\n",
       "      <th></th>\n",
       "      <th></th>\n",
       "      <th></th>\n",
       "    </tr>\n",
       "  </thead>\n",
       "  <tbody>\n",
       "    <tr>\n",
       "      <th>-150092.805899</th>\n",
       "      <th>18212.262083</th>\n",
       "      <td>964</td>\n",
       "      <td>0.133333</td>\n",
       "      <td>160.633333</td>\n",
       "      <td>414.820083</td>\n",
       "      <td>49530.984175</td>\n",
       "    </tr>\n",
       "  </tbody>\n",
       "</table>\n",
       "</div>"
      ],
      "text/plain": [
       "                               ts                          o.t_dist  \\\n",
       "                            count       min         max         min   \n",
       "o.t_loc.x      o.t_loc.y                                              \n",
       "-150092.805899 18212.262083   964  0.133333  160.633333  414.820083   \n",
       "\n",
       "                                           \n",
       "                                      max  \n",
       "o.t_loc.x      o.t_loc.y                   \n",
       "-150092.805899 18212.262083  49530.984175  "
      ]
     },
     "execution_count": 22,
     "metadata": {},
     "output_type": "execute_result"
    }
   ],
   "source": [
    "if np.any(~df[\"o.t_loc\"].isna()):\n",
    "    x = df.groupby([\"o.t_loc.x\", \"o.t_loc.y\"]).agg({\"ts\": [\"count\", \"min\", \"max\"], \"o.t_dist\": [\"min\",\"max\"]})\n",
    "else:\n",
    "    x = \"no location target\"\n",
    "x"
   ]
  },
  {
   "cell_type": "code",
   "execution_count": 23,
   "id": "74d23fb4",
   "metadata": {},
   "outputs": [
    {
     "data": {
      "application/vnd.jupyter.widget-view+json": {
       "model_id": "99a91089b71349579ded319ef801f8a6",
       "version_major": 2,
       "version_minor": 0
      },
      "text/plain": [
       "interactive(children=(FloatSlider(value=5.0, continuous_update=False, description='hist_length', max=160.50000…"
      ]
     },
     "metadata": {},
     "output_type": "display_data"
    },
    {
     "data": {
      "text/plain": [
       "<function __main__.plot_target_distance(hist_length, max_time)>"
      ]
     },
     "execution_count": 23,
     "metadata": {},
     "output_type": "execute_result"
    }
   ],
   "source": [
    "#sample = df[(df[\"ts\"] < 124.4) & (df[\"ts\"] > 120)]\n",
    "def plot_target_distance(hist_length, max_time):\n",
    "    sample = df[(df[\"ts\"] >= max_time - hist_length) & (df[\"ts\"] <= max_time)]\n",
    "    plt.scatter(sample[\"ts\"], sample[\"o.t_dist\"])\n",
    "    plt.hlines(1500, sample[\"ts\"].min(), sample[\"ts\"].max(), color=\"green\")\n",
    "    plt.hlines(1500*0.9, sample[\"ts\"].min(), sample[\"ts\"].max(), color=\"red\")\n",
    "    #plt.ylim(0,1500)\n",
    "    plt.title(\"distance to target\")\n",
    "    print(sample[\"o.t_dist\"].min(),sample[df[\"ts\"] > sample[\"ts\"].max()-1][\"o.t_dist\"].min())\n",
    "\n",
    "ipywidgets.interact(\n",
    "    plot_target_distance,\n",
    "    hist_length=ipywidgets.FloatSlider(value=5, min=0, max=df[\"ts\"].max()-df[\"ts\"].min(), continuous_update=False),\n",
    "    max_time=ipywidgets.FloatSlider(value=df[\"ts\"].max(), min=df[\"ts\"].min(), max=df[\"ts\"].max()+.1, continuous_update=False))"
   ]
  },
  {
   "cell_type": "code",
   "execution_count": 24,
   "id": "4d0bf8d0",
   "metadata": {},
   "outputs": [
    {
     "data": {
      "application/vnd.jupyter.widget-view+json": {
       "model_id": "089ef11500fd4e0aa8c03c0ae4a0c725",
       "version_major": 2,
       "version_minor": 0
      },
      "text/plain": [
       "interactive(children=(FloatSlider(value=5.0, continuous_update=False, description='hist_length', max=160.50000…"
      ]
     },
     "metadata": {},
     "output_type": "display_data"
    },
    {
     "data": {
      "text/plain": [
       "<function __main__.plot_desired_speed(hist_length, max_time)>"
      ]
     },
     "execution_count": 24,
     "metadata": {},
     "output_type": "execute_result"
    }
   ],
   "source": [
    "def plot_desired_speed(hist_length, max_time):\n",
    "    sample = df[(df[\"ts\"] >= max_time - hist_length) & (df[\"ts\"] <= max_time)]\n",
    "    plt.scatter(sample[\"ts\"], sample[\"speed\"], label=\"actual speed\")\n",
    "    plt.scatter(sample[\"ts\"], sample[\"o.t_speed\"], label=\"desired speed\")\n",
    "    plt.legend()\n",
    "    plt.title(\"speed and desired speed to target\")\n",
    "    plt.ylim(0)\n",
    "\n",
    "ipywidgets.interact(\n",
    "    plot_desired_speed,\n",
    "    hist_length=ipywidgets.FloatSlider(value=5, min=0, max=df[\"ts\"].max()-df[\"ts\"].min(), continuous_update=False),\n",
    "    max_time=ipywidgets.FloatSlider(value=df[\"ts\"].max(), min=df[\"ts\"].min(), max=df[\"ts\"].max()+.1, continuous_update=False))"
   ]
  },
  {
   "cell_type": "code",
   "execution_count": 25,
   "id": "d7341dc2",
   "metadata": {
    "scrolled": true
   },
   "outputs": [
    {
     "data": {
      "text/plain": [
       "Text(0.5, 1.0, 'desired speed delta')"
      ]
     },
     "execution_count": 25,
     "metadata": {},
     "output_type": "execute_result"
    },
    {
     "data": {
      "image/png": "[encoded data removed]",
      "text/plain": [
       "<Figure size 432x288 with 1 Axes>"
      ]
     },
     "metadata": {
      "needs_background": "light"
     },
     "output_type": "display_data"
    }
   ],
   "source": [
    "plt.scatter(df[\"ts\"], df[\"o.t_speed\"] - df[\"speed\"])\n",
    "plt.scatter(df[\"ts\"], np.linalg.norm(np.array((df[\"o.t_v.x\"] - df[\"v.x\"], df[\"o.t_v.y\"] - df[\"v.y\"])), axis=0))\n",
    "plt.title(\"desired speed delta\")"
   ]
  },
  {
   "cell_type": "markdown",
   "id": "5ac378ec",
   "metadata": {},
   "source": [
    "## Collision Avoidance"
   ]
  },
  {
   "cell_type": "code",
   "execution_count": 26,
   "id": "f38ca4d8",
   "metadata": {},
   "outputs": [
    {
     "data": {
      "application/vnd.jupyter.widget-view+json": {
       "model_id": "94ea50cd6099447aa7333c49e68095fc",
       "version_major": 2,
       "version_minor": 0
      },
      "text/plain": [
       "interactive(children=(FloatSlider(value=5.0, continuous_update=False, description='hist_length', max=160.50000…"
      ]
     },
     "metadata": {},
     "output_type": "display_data"
    },
    {
     "data": {
      "text/plain": [
       "<function __main__.show_collision_threats(hist_length, max_time)>"
      ]
     },
     "execution_count": 26,
     "metadata": {},
     "output_type": "execute_result"
    }
   ],
   "source": [
    "def show_collision_threats(hist_length, max_time):\n",
    "    sample = df[(df[\"ts\"] >= max_time-hist_length) & (df[\"ts\"] <= max_time)]\n",
    "    if np.any(~sample[\"o.ct\"].isna()):\n",
    "        x = sample.groupby(\"o.ct\").agg({\"ts\": [\"count\", \"min\", \"max\"], \"o.ct_dist\": [\"min\",\"max\"]})\n",
    "    else:\n",
    "        x = \"no collision threats\"\n",
    "    return x\n",
    "ipywidgets.interact(\n",
    "    show_collision_threats,\n",
    "    hist_length=ipywidgets.FloatSlider(value=5, min=0, max=df[\"ts\"].max()-df[\"ts\"].min(), continuous_update=False),\n",
    "    max_time=ipywidgets.FloatSlider(value=df[\"ts\"].max(), min=df[\"ts\"].min(), max=df[\"ts\"].max()+.1, continuous_update=False)\n",
    ")"
   ]
  },
  {
   "cell_type": "code",
   "execution_count": 27,
   "id": "890424d5",
   "metadata": {},
   "outputs": [
    {
     "data": {
      "application/vnd.jupyter.widget-view+json": {
       "model_id": "a58ea0328cbf4ddcb96339e5d5463ee3",
       "version_major": 2,
       "version_minor": 0
      },
      "text/plain": [
       "interactive(children=(FloatSlider(value=5.0, continuous_update=False, description='hist_length', max=160.50000…"
      ]
     },
     "metadata": {},
     "output_type": "display_data"
    },
    {
     "data": {
      "text/plain": [
       "<function __main__.plot_collision_distance(hist_length, max_time)>"
      ]
     },
     "execution_count": 27,
     "metadata": {},
     "output_type": "execute_result"
    }
   ],
   "source": [
    "def plot_collision_distance(hist_length, max_time):\n",
    "    sample = df[(df[\"ts\"] >= max_time-hist_length) & (df[\"ts\"] <= max_time)]\n",
    "    plt.scatter(sample[\"ts\"], sample[\"o.ct_dist\"])\n",
    "    plt.hlines(60+500+500, sample[\"ts\"].min(), sample[\"ts\"].max(), color=\"green\")\n",
    "    plt.hlines(60+500, sample[\"ts\"].min(), sample[\"ts\"].max(), color=\"orange\")\n",
    "    plt.hlines(330, sample[\"ts\"].min(), sample[\"ts\"].max(), color=\"red\")\n",
    "    plt.hlines(60, sample[\"ts\"].min(), sample[\"ts\"].max(), color=\"red\")\n",
    "    plt.ylim(0)\n",
    "    plt.title(\"distance to collision threat\")\n",
    "    print(sample[\"o.ct_dist\"].min())\n",
    "\n",
    "ipywidgets.interact(\n",
    "    plot_collision_distance,\n",
    "    hist_length=ipywidgets.FloatSlider(value=5, min=0, max=df[\"ts\"].max()-df[\"ts\"].min(), continuous_update=False),\n",
    "    max_time=ipywidgets.FloatSlider(value=df[\"ts\"].max(), min=df[\"ts\"].min(), max=df[\"ts\"].max()+.1, continuous_update=False)\n",
    ")"
   ]
  },
  {
   "cell_type": "code",
   "execution_count": 28,
   "id": "a3ce3d2d",
   "metadata": {},
   "outputs": [
    {
     "data": {
      "text/plain": [
       "<matplotlib.collections.PathCollection at 0x7fb30a65ed10>"
      ]
     },
     "execution_count": 28,
     "metadata": {},
     "output_type": "execute_result"
    },
    {
     "data": {
      "image/png": "[encoded data removed]",
      "text/plain": [
       "<Figure size 432x288 with 2 Axes>"
      ]
     },
     "metadata": {
      "needs_background": "light"
     },
     "output_type": "display_data"
    }
   ],
   "source": [
    "fig, ax1 = plt.subplots()\n",
    "ax2 = ax1.twinx()\n",
    "\n",
    "ax1.scatter(df[\"ts\"], 1-df[\"o.ct\"].isna().astype(int))\n",
    "ax2.scatter(df[\"ts\"], df[\"ts\"] - df[\"o.ct_ts\"], color=\"orange\")\n",
    "\n",
    "#ax2.set_ylim(0,(df[\"ts\"] - df[\"o.ct_ts\"]).max()*1.2)"
   ]
  },
  {
   "cell_type": "code",
   "execution_count": 29,
   "id": "9c947c36",
   "metadata": {},
   "outputs": [
    {
     "data": {
      "text/plain": [
       "(0.133333333333333, 160.6333333333533)"
      ]
     },
     "execution_count": 29,
     "metadata": {},
     "output_type": "execute_result"
    },
    {
     "data": {
      "image/png": "[encoded data removed]",
      "text/plain": [
       "<Figure size 432x288 with 1 Axes>"
      ]
     },
     "metadata": {
      "needs_background": "light"
     },
     "output_type": "display_data"
    }
   ],
   "source": [
    "plt.scatter(df[\"ts\"], df[\"o.ct_ct\"])\n",
    "plt.title(\"number of coalesced threats\")\n",
    "plt.xlim(df[\"ts\"].min(), df[\"ts\"].max())"
   ]
  },
  {
   "cell_type": "code",
   "execution_count": 30,
   "id": "10290387",
   "metadata": {},
   "outputs": [
    {
     "data": {
      "text/plain": [
       "<matplotlib.collections.PathCollection at 0x7fb30aa3e410>"
      ]
     },
     "execution_count": 30,
     "metadata": {},
     "output_type": "execute_result"
    },
    {
     "data": {
      "image/png": "[encoded data removed]",
      "text/plain": [
       "<Figure size 432x288 with 1 Axes>"
      ]
     },
     "metadata": {
      "needs_background": "light"
     },
     "output_type": "display_data"
    }
   ],
   "source": [
    "plt.scatter(df[\"ts\"], df[\"o.ct_cradius\"])"
   ]
  },
  {
   "cell_type": "code",
   "execution_count": 31,
   "id": "03a6b3aa",
   "metadata": {},
   "outputs": [
    {
     "data": {
      "image/png": "[encoded data removed]",
      "text/plain": [
       "<Figure size 432x288 with 1 Axes>"
      ]
     },
     "metadata": {
      "needs_background": "light"
     },
     "output_type": "display_data"
    }
   ],
   "source": [
    "plt.scatter(df[\"ts\"], df[\"o.nd\"]*np.pi*10000**2)\n",
    "plt.title(\"neighborhood size (10km^2)\")\n",
    "plt.show()"
   ]
  },
  {
   "cell_type": "code",
   "execution_count": 32,
   "id": "5e817d73",
   "metadata": {},
   "outputs": [
    {
     "data": {
      "application/vnd.jupyter.widget-view+json": {
       "model_id": "0b84255c45db4a58b23a79f2021f24bb",
       "version_major": 2,
       "version_minor": 0
      },
      "text/plain": [
       "interactive(children=(FloatSlider(value=5.0, continuous_update=False, description='hist_length', max=160.50000…"
      ]
     },
     "metadata": {},
     "output_type": "display_data"
    },
    {
     "data": {
      "text/plain": [
       "<function __main__.plot_collision_dv(hist_length, max_time)>"
      ]
     },
     "execution_count": 32,
     "metadata": {},
     "output_type": "execute_result"
    }
   ],
   "source": [
    "def plot_collision_dv(hist_length, max_time):\n",
    "    sample = df[(df[\"ts\"] >= max_time - hist_length) & (df[\"ts\"] <= max_time)]\n",
    "    plt.scatter(sample[\"ts\"], sample[\"o.ct_dv.x\"])\n",
    "    plt.scatter(sample[\"ts\"], sample[\"o.ct_dv.y\"])\n",
    "    plt.title(\"collision avoidance velocity\")\n",
    "\n",
    "ipywidgets.interact(\n",
    "    plot_collision_dv,\n",
    "    hist_length=ipywidgets.FloatSlider(value=5, min=0, max=df[\"ts\"].max()-df[\"ts\"].min(), continuous_update=False),\n",
    "    max_time=ipywidgets.FloatSlider(value=df[\"ts\"].max(), min=df[\"ts\"].min(), max=df[\"ts\"].max()+.1, continuous_update=False))"
   ]
  },
  {
   "cell_type": "markdown",
   "id": "12a7d799",
   "metadata": {},
   "source": [
    "# History Visualization"
   ]
  },
  {
   "cell_type": "markdown",
   "id": "e7b61368",
   "metadata": {},
   "source": [
    "## Position and Velocity"
   ]
  },
  {
   "cell_type": "code",
   "execution_count": 33,
   "id": "05fc6ec3",
   "metadata": {
    "scrolled": false
   },
   "outputs": [
    {
     "data": {
      "application/vnd.jupyter.widget-view+json": {
       "model_id": "bb6af56e1ad243559b3faa49706b568e",
       "version_major": 2,
       "version_minor": 0
      },
      "text/plain": [
       "interactive(children=(FloatSlider(value=5.0, continuous_update=False, description='hist_length', max=160.50000…"
      ]
     },
     "metadata": {},
     "output_type": "display_data"
    },
    {
     "data": {
      "text/plain": [
       "<function __main__.plot_collision_chart(hist_length=160.6333333333533, max_time=160.6333333333533, sampling_interval=50, show_tloc=True, show_tv=True, show_ctdv=True, show_v=True)>"
      ]
     },
     "execution_count": 33,
     "metadata": {},
     "output_type": "execute_result"
    }
   ],
   "source": [
    "def plot_collision_chart(hist_length=df[\"ts\"].max(), max_time=df[\"ts\"].max(), sampling_interval=50, show_tloc=True, show_tv=True, show_ctdv=True, show_v=True):\n",
    "    plt.figure(figsize=(10, 10))\n",
    "    sample = df[(df[\"ts\"] >= max_time - hist_length) & (df[\"ts\"] <= max_time)].iloc[::sampling_interval]\n",
    "    if show_v:\n",
    "        plt.quiver(sample[\"loc.x\"], sample[\"loc.y\"], sample[\"v.x\"], sample[\"v.y\"], label=\"v\")\n",
    "    ctdv_df = sample[~(sample[\"o.ct_dv\"].isna())]\n",
    "    if show_ctdv:\n",
    "        plt.quiver(ctdv_df[\"loc.x\"], ctdv_df[\"loc.y\"], ctdv_df[\"o.ct_dv.x\"]+ctdv_df[\"v.x\"], ctdv_df[\"o.ct_dv.y\"]+ctdv_df[\"v.y\"], label=\"ctdv\", color=\"orange\")\n",
    "    if show_tv:\n",
    "        plt.quiver(sample[\"loc.x\"], sample[\"loc.y\"], sample[\"o.t_v.x\"], sample[\"o.t_v.y\"], label=\"tv\", color=\"purple\")\n",
    "    \n",
    "    plt.quiver(sample[\"o.ct_loc.x\"], sample[\"o.ct_loc.y\"], sample[\"o.ct_v.x\"], sample[\"o.ct_v.y\"])\n",
    "    cmap = plt.get_cmap('viridis')\n",
    "    for x, c in zip(df[\"o.ct\"].unique(), cmap(np.linspace(0, 1, len(df[\"o.ct\"].unique())))):\n",
    "        if not isinstance(x, str):\n",
    "            continue\n",
    "        ct = sample[sample[\"o.ct\"] == x]\n",
    "        if len(ct) == 0:\n",
    "            continue\n",
    "        plt.scatter(ct[\"o.ct_loc.x\"], ct[\"o.ct_loc.y\"], color=c, label=x[:8])\n",
    "        \n",
    "        t_next = 10\n",
    "        x, y = ct.iloc[-1][\"o.ct_loc.x\"], ct.iloc[-1][\"o.ct_loc.y\"]\n",
    "        x_next, y_next = ct.iloc[-1][\"o.ct_loc.x\"]+ct.iloc[-1][\"o.ct_v.x\"]*t_next, ct.iloc[-1][\"o.ct_loc.y\"]+ct.iloc[-1][\"o.ct_v.y\"]*t_next\n",
    "        if not np.allclose((x, y), (x_next, y_next)):\n",
    "            plt.axline((x,y),(x_next,y_next), marker = 'x', color=c, dashes=[2,2])\n",
    "    \n",
    "    cloc_df = sample[~(sample[\"o.ct_cloc\"].isna())]\n",
    "    if len(cloc_df) > 0:\n",
    "        cloc_x = cloc_df.iloc[-1][\"o.ct_cloc.x\"]\n",
    "        cloc_y = cloc_df.iloc[-1][\"o.ct_cloc.y\"]\n",
    "        cradius = cloc_df.iloc[-1][\"o.ct_cradius\"]\n",
    "        threat_radius = plt.Circle((cloc_x, cloc_y), cradius, color=\"red\", fill=False)\n",
    "        margin = plt.Circle((cloc_x, cloc_y), cradius+30+500, color=\"orange\", fill=False)\n",
    "        margin_hist = plt.Circle((cloc_x, cloc_y), cradius+30+500*2, color=\"green\", fill=False)\n",
    "        plt.gca().add_patch(threat_radius)\n",
    "        plt.gca().add_patch(margin)\n",
    "        plt.gca().add_patch(margin_hist)\n",
    "        print(cradius)\n",
    "    \n",
    "    if show_tloc:\n",
    "        plt.scatter(sample[\"o.t_loc.x\"], sample[\"o.t_loc.y\"], label=\"t_loc\")\n",
    "        for ((tloc_x, tloc_y), ad, md) in sample.groupby([\"o.t_loc.x\", \"o.t_loc.y\"]).agg({\"o.t_loc\": \"min\", \"o.ad\":\"min\", \"o.md\":\"min\"}).values:\n",
    "            arrival_dist = plt.Circle((tloc_x, tloc_y), ad, color=\"green\", fill=False)\n",
    "            min_dist = plt.Circle((tloc_x, tloc_y), md, color=\"red\", fill=False)\n",
    "            plt.gca().add_patch(arrival_dist)\n",
    "            plt.gca().add_patch(min_dist)\n",
    "            \n",
    "    t_next = 10\n",
    "    x, y = sample.iloc[-1][\"loc.x\"], sample.iloc[-1][\"loc.y\"]\n",
    "    x_next, y_next = sample.iloc[-1][\"loc.x\"]+sample.iloc[-1][\"v.x\"]*t_next, sample.iloc[-1][\"loc.y\"]+sample.iloc[-1][\"v.y\"]*t_next\n",
    "    if not np.allclose((x, y), (x_next, y_next)):\n",
    "        plt.axline((x,y),(x_next,y_next),marker = 'o')\n",
    "    \n",
    "    plt.axis('equal')\n",
    "    #center = (-33555, -5000)\n",
    "    #radius = 15000\n",
    "    #plt.xlim(center[0]-radius,center[0]+radius)\n",
    "    #plt.ylim(center[1]-radius,center[1]+radius)\n",
    "\n",
    "    plt.legend()\n",
    "    plt.show()\n",
    "    \n",
    "ipywidgets.interact(\n",
    "    plot_collision_chart,\n",
    "    hist_length=ipywidgets.FloatSlider(value=5, min=0, max=df[\"ts\"].max()-df[\"ts\"].min(), continuous_update=False),\n",
    "    max_time=ipywidgets.FloatSlider(step=1/60, value=df[\"ts\"].max()+1/60, min=df[\"ts\"].min(), max=df[\"ts\"].max()+1/60, continuous_update=False),\n",
    "    sampling_interval=ipywidgets.IntSlider(value=20, min=1, max=100, continuous_update=False),\n",
    "    show_tloc=ipywidgets.Checkbox(value=True),\n",
    "    show_tv=ipywidgets.Checkbox(value=True),\n",
    "    show_ctdv=ipywidgets.Checkbox(value=True),\n",
    "    show_v=ipywidgets.Checkbox(value=True),\n",
    ")"
   ]
  },
  {
   "cell_type": "markdown",
   "id": "6e5e3aad",
   "metadata": {},
   "source": [
    "## Position and Heading"
   ]
  },
  {
   "cell_type": "code",
   "execution_count": 34,
   "id": "2f7475c2",
   "metadata": {
    "scrolled": false
   },
   "outputs": [
    {
     "data": {
      "application/vnd.jupyter.widget-view+json": {
       "model_id": "75c420b30cfe403b8c6d149111b1b5e5",
       "version_major": 2,
       "version_minor": 0
      },
      "text/plain": [
       "interactive(children=(FloatSlider(value=5.0, continuous_update=False, description='hist_length', max=160.50000…"
      ]
     },
     "metadata": {},
     "output_type": "display_data"
    },
    {
     "data": {
      "text/plain": [
       "<function __main__.plot_collision_chart(hist_length=160.6333333333533, max_time=160.6333333333533)>"
      ]
     },
     "execution_count": 34,
     "metadata": {},
     "output_type": "execute_result"
    }
   ],
   "source": [
    "def plot_collision_chart(hist_length=df[\"ts\"].max(), max_time=df[\"ts\"].max()):\n",
    "    sample = df[(df[\"ts\"] >= max_time - hist_length) & (df[\"ts\"] <= max_time)].iloc[::30]\n",
    "    plt.quiver(sample[\"loc.x\"], sample[\"loc.y\"], sample[\"angle.x\"], sample[\"angle.y\"], label=\"ship\")\n",
    "    ctdv_df = sample[~(sample[\"o.ct_dv\"].isna())]\n",
    "    plt.quiver(ctdv_df[\"loc.x\"], ctdv_df[\"loc.y\"], ctdv_df[\"o.ct_dv.x\"], ctdv_df[\"o.ct_dv.y\"], label=\"ctdv\", color=\"orange\")\n",
    "    plt.quiver(sample[\"loc.x\"], sample[\"loc.y\"], sample[\"o.t_v.x\"], sample[\"o.t_v.y\"], label=\"tv\", color=\"purple\")\n",
    "    cmap = plt.get_cmap('viridis')\n",
    "    #for x, c in zip(df[\"o.ct\"].unique(), cmap(np.linspace(0, 1, len(sample[\"o.ct\"].unique())))):\n",
    "    #    print(x)\n",
    "    #    if not isinstance(x, str):\n",
    "    #        continue\n",
    "    #    ct = sample[sample[\"o.ct\"] == x]\n",
    "    #    plt.scatter(ct[\"o.ct_loc.x\"], ct[\"o.ct_loc.y\"], color=c, label=x[:8])\n",
    "    #plt.scatter(sample[\"o.t_loc.x\"], sample[\"o.t_loc.y\"], label=\"t_loc\")\n",
    "    #plt.axis('square')\n",
    "    #center = (-33555, -5000)\n",
    "    #radius = 15000\n",
    "    #plt.xlim(center[0]-radius,center[0]+radius)\n",
    "    #plt.ylim(center[1]-radius,center[1]+radius)\n",
    "    \n",
    "    plt.legend()\n",
    "    plt.axis('equal')\n",
    "    plt.show()\n",
    "    \n",
    "ipywidgets.interact(plot_collision_chart, hist_length=ipywidgets.FloatSlider(value=5, min=0, max=df[\"ts\"].max()-df[\"ts\"].min(), continuous_update=False), max_time=ipywidgets.FloatSlider(value=df[\"ts\"].max(), min=df[\"ts\"].min(), max=df[\"ts\"].max(), continuous_update=False))"
   ]
  },
  {
   "cell_type": "code",
   "execution_count": 35,
   "id": "03aadc31",
   "metadata": {},
   "outputs": [
    {
     "name": "stdout",
     "output_type": "stream",
     "text": [
      "[list([-150092.80589851548, 18212.26208285093]) 500.0]\n"
     ]
    }
   ],
   "source": [
    "for s in df.groupby([\"o.t_loc.x\", \"o.t_loc.y\"]).agg({\"o.t_loc\":\"min\", \"o.ad\":\"min\"}).values:\n",
    "    print(f'{s}')"
   ]
  },
  {
   "cell_type": "markdown",
   "id": "6e24f370",
   "metadata": {},
   "source": [
    "# "
   ]
  }
 ],
 "metadata": {
  "kernelspec": {
   "display_name": "Python 3 (ipykernel)",
   "language": "python",
   "name": "python3"
  },
  "language_info": {
   "codemirror_mode": {
    "name": "ipython",
    "version": 3
   },
   "file_extension": ".py",
   "mimetype": "text/x-python",
   "name": "python",
   "nbconvert_exporter": "python",
   "pygments_lexer": "ipython3",
   "version": "3.10.1"
  }
 },
 "nbformat": 4,
 "nbformat_minor": 5
}
