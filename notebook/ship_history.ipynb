{
 "cells": [
  {
   "cell_type": "code",
   "execution_count": 1,
   "id": "9c5bbe2a",
   "metadata": {},
   "outputs": [],
   "source": [
    "import json\n",
    "\n",
    "import pandas as pd\n",
    "import numpy as np\n",
    "from matplotlib import pyplot as plt\n",
    "import ipywidgets\n",
    "\n",
    "from stellarpunk import util"
   ]
  },
  {
   "cell_type": "markdown",
   "id": "d6d53462",
   "metadata": {},
   "source": [
    "# Loading and Preparing Data"
   ]
  },
  {
   "cell_type": "code",
   "execution_count": 2,
   "id": "ceb18552",
   "metadata": {},
   "outputs": [],
   "source": [
    "df_base = pd.read_json(\"/tmp/stellarpunk_test.test_ct_near_target.history.gz\", lines=True)\n",
    "df_base = df_base.join(pd.json_normalize(df_base[\"o\"]).add_prefix(\"o.\"))"
   ]
  },
  {
   "cell_type": "code",
   "execution_count": 3,
   "id": "1585e6a6",
   "metadata": {},
   "outputs": [
    {
     "data": {
      "text/plain": [
       "0    b00ce0e5-c269-4e9e-bf23-7fa73e02ec24\n",
       "1    dca3b3ba-a342-4103-9cdc-dc971c27fab4\n",
       "2    76cc3064-7cef-4525-9e3f-2ce6d035a012\n",
       "3    7d5468b6-28ad-427c-866f-b63ae40e1d4d\n",
       "dtype: object"
      ]
     },
     "execution_count": 3,
     "metadata": {},
     "output_type": "execute_result"
    }
   ],
   "source": [
    "eids = pd.Series(df_base[\"eid\"].unique())\n",
    "eids"
   ]
  },
  {
   "cell_type": "code",
   "execution_count": 4,
   "id": "288e3f1e",
   "metadata": {},
   "outputs": [
    {
     "data": {
      "text/plain": [
       "Series([], dtype: object)"
      ]
     },
     "execution_count": 4,
     "metadata": {},
     "output_type": "execute_result"
    }
   ],
   "source": [
    "eids[pd.Series(df_base[\"eid\"].unique()).str.startswith(\"9510\")]"
   ]
  },
  {
   "cell_type": "code",
   "execution_count": 5,
   "id": "c9be6491",
   "metadata": {},
   "outputs": [
    {
     "data": {
      "text/plain": [
       "array(['b00ce0e5-c269-4e9e-bf23-7fa73e02ec24'], dtype=object)"
      ]
     },
     "execution_count": 5,
     "metadata": {},
     "output_type": "execute_result"
    }
   ],
   "source": [
    "target_eid = df_base[\"eid\"].unique()[0]\n",
    "df_base = df_base[df_base[\"eid\"] == target_eid].reset_index()\n",
    "df_base[\"eid\"].unique()"
   ]
  },
  {
   "cell_type": "code",
   "execution_count": 6,
   "id": "b77f957c",
   "metadata": {},
   "outputs": [],
   "source": [
    "loc = pd.DataFrame(np.vstack(df_base[\"loc\"]), columns=[\"loc.x\", \"loc.y\"])\n",
    "v = pd.DataFrame(np.vstack(df_base[\"v\"]), columns=[\"v.x\", \"v.y\"])\n",
    "\n",
    "empty_array = np.empty(len(df_base))\n",
    "empty_array[:] = np.nan\n",
    "\n",
    "if \"o.t_loc\" in df_base:\n",
    "    o_tloc = pd.DataFrame(np.vstack(df_base[\"o.t_loc\"].apply(lambda x: (np.nan, np.nan) if np.all(np.isnan(x)) else x)), columns=[\"o.t_loc.x\", \"o.t_loc.y\"])\n",
    "    o_tv = pd.DataFrame(np.vstack(df_base[\"o.t_v\"].apply(lambda x: (np.nan, np.nan) if np.all(np.isnan(x)) else x)), columns=[\"o.t_v.x\", \"o.t_v.y\"])\n",
    "else:\n",
    "    o_tloc = pd.DataFrame({\"o.t_loc\": empty_array, \"o.t_loc.x\": empty_array, \"o.t_loc.y\": empty_array})\n",
    "    o_tv = pd.DataFrame({\"o.t_v\": empty_array, \"o.t_v.x\": empty_array, \"o.t_v.y\": empty_array})\n",
    "    \n",
    "if \"o.ct\" in df_base:\n",
    "    o_ctloc = pd.DataFrame(np.vstack(df_base[\"o.ct_loc\"].apply(lambda x: (np.nan, np.nan) if np.all(np.isnan(x)) else x)), columns=[\"o.ct_loc.x\", \"o.ct_loc.y\"])\n",
    "    o_ctdv = pd.DataFrame(np.vstack(df_base[\"o.ct_dv\"].apply(lambda x: (np.nan, np.nan) if np.all(np.isnan(x)) else x)), columns=[\"o.ct_dv.x\", \"o.ct_dv.y\"])\n",
    "    o_ctv = pd.DataFrame(np.vstack(df_base[\"o.ct_v\"].apply(lambda x: (np.nan, np.nan) if np.all(np.isnan(x)) else x)), columns=[\"o.ct_v.x\", \"o.ct_v.y\"])\n",
    "    o_ctcloc = pd.DataFrame(np.vstack(df_base[\"o.ct_cloc\"].apply(lambda x: (np.nan, np.nan) if np.all(np.isnan(x)) else x)), columns=[\"o.ct_cloc.x\", \"o.ct_cloc.y\"])\n",
    "else:\n",
    "    o_ctloc = pd.DataFrame({\"o.ct_loc\": empty_array, \"o.ct_loc.x\": empty_array, \"o.ct_loc.y\": empty_array})\n",
    "    o_ctdv = pd.DataFrame({\"o.ct_dv\": empty_array, \"o.ct_dv.x\": empty_array, \"o.ct_dv.y\": empty_array})\n",
    "    o_ctv = pd.DataFrame({\"o.ct_v\": empty_array, \"o.ct_v.x\": empty_array, \"o.ct_v.y\": empty_array})\n",
    "    o_ctcloc = pd.DataFrame({\"o.ct_cloc\": empty_array, \"o.ct_cloc.x\": empty_array, \"o.ct_cloc.y\": empty_array})\n",
    "angle = pd.DataFrame(np.vstack(df_base.apply(lambda row: np.array(util.polar_to_cartesian(100, row[\"a\"])), axis=1)), columns=[\"angle.x\", \"angle.y\"])\n",
    "df = pd.concat([df_base, loc, v, o_ctloc, o_ctcloc, o_ctdv, o_ctv, o_tloc, o_tv, angle], axis=1)\n",
    "\n",
    "if \"o.ct\" not in df_base:\n",
    "    df[\"o.ct\"] = empty_array\n",
    "    df[\"o.ct_ts\"] = empty_array\n",
    "    df[\"o.cac\"] = empty_array\n",
    "    df[\"o.cbdr\"] = empty_array\n",
    "    df[\"o.ct_ct\"] = empty_array\n",
    "    df[\"o.ct_cradius\"] = empty_array\n",
    "    df[\"o.nd\"] = empty_array\n",
    "    df[\"o.ct_dist\"] = empty_array\n",
    "else:\n",
    "    df[\"o.ct_dist\"] = np.linalg.norm(np.vstack(df[\"loc\"]) - np.vstack(df[\"o.ct_cloc\"].apply(lambda x: (np.nan, np.nan) if np.all(np.isnan(x)) else x)), axis=1)\n",
    "    \n",
    "if \"o.t_loc\" not in df_base:\n",
    "    df[\"o.cs\"] = empty_array\n",
    "    df[\"o.t_dist\"] = empty_array\n",
    "else:\n",
    "    df[\"o.t_dist\"] = np.linalg.norm(np.vstack(df[\"loc\"]) - np.vstack(df[\"o.t_loc\"].apply(lambda x: (np.nan, np.nan) if np.all(np.isnan(x)) else x)), axis=1)"
   ]
  },
  {
   "cell_type": "code",
   "execution_count": 7,
   "id": "6e17314e",
   "metadata": {},
   "outputs": [],
   "source": [
    "df[\"speed\"] = np.linalg.norm(df[[\"v.x\", \"v.y\"]], axis=1)\n",
    "df[\"o.t_speed\"] = np.linalg.norm(df[[\"o.t_v.x\", \"o.t_v.y\"]], axis=1)\n",
    "df[\"f_mag\"] = df[\"f\"].apply(lambda x:np.linalg.norm(x))"
   ]
  },
  {
   "cell_type": "code",
   "execution_count": 8,
   "id": "39640462",
   "metadata": {},
   "outputs": [],
   "source": [
    "#df[\"o.ct_v.x\"] = (df[\"o.ct_loc.x\"].shift(1) - df[\"o.ct_loc.x\"]) / (df[\"ts\"].shift(1) - df[\"ts\"])\n",
    "#df[\"o.ct_v.y\"] = (df[\"o.ct_loc.y\"].shift(1) - df[\"o.ct_loc.y\"]) / (df[\"ts\"].shift(1) - df[\"ts\"])"
   ]
  },
  {
   "cell_type": "code",
   "execution_count": 9,
   "id": "34fd5383",
   "metadata": {},
   "outputs": [
    {
     "data": {
      "text/html": [
       "<div>\n",
       "<style scoped>\n",
       "    .dataframe tbody tr th:only-of-type {\n",
       "        vertical-align: middle;\n",
       "    }\n",
       "\n",
       "    .dataframe tbody tr th {\n",
       "        vertical-align: top;\n",
       "    }\n",
       "\n",
       "    .dataframe thead th {\n",
       "        text-align: right;\n",
       "    }\n",
       "</style>\n",
       "<table border=\"1\" class=\"dataframe\">\n",
       "  <thead>\n",
       "    <tr style=\"text-align: right;\">\n",
       "      <th></th>\n",
       "      <th>index</th>\n",
       "      <th>p</th>\n",
       "      <th>eid</th>\n",
       "      <th>ts</th>\n",
       "      <th>loc</th>\n",
       "      <th>r</th>\n",
       "      <th>a</th>\n",
       "      <th>v</th>\n",
       "      <th>av</th>\n",
       "      <th>f</th>\n",
       "      <th>...</th>\n",
       "      <th>o.t_loc.y</th>\n",
       "      <th>o.t_v.x</th>\n",
       "      <th>o.t_v.y</th>\n",
       "      <th>angle.x</th>\n",
       "      <th>angle.y</th>\n",
       "      <th>o.ct_dist</th>\n",
       "      <th>o.t_dist</th>\n",
       "      <th>speed</th>\n",
       "      <th>o.t_speed</th>\n",
       "      <th>f_mag</th>\n",
       "    </tr>\n",
       "  </thead>\n",
       "  <tbody>\n",
       "    <tr>\n",
       "      <th>0</th>\n",
       "      <td>0</td>\n",
       "      <td>SHP</td>\n",
       "      <td>b00ce0e5-c269-4e9e-bf23-7fa73e02ec24</td>\n",
       "      <td>0.033333</td>\n",
       "      <td>[33741.670052175075, -2845.9391721171914]</td>\n",
       "      <td>30</td>\n",
       "      <td>0.721145</td>\n",
       "      <td>[-1513.5569354923462, -863.3545034102806]</td>\n",
       "      <td>1.363564</td>\n",
       "      <td>[8695.788737067085, 4937.94068821176]</td>\n",
       "      <td>...</td>\n",
       "      <td>-11241.763871</td>\n",
       "      <td>-621.066906</td>\n",
       "      <td>-356.550237</td>\n",
       "      <td>75.105020</td>\n",
       "      <td>66.024510</td>\n",
       "      <td>NaN</td>\n",
       "      <td>16863.151146</td>\n",
       "      <td>1742.479726</td>\n",
       "      <td>716.136979</td>\n",
       "      <td>10000.000000</td>\n",
       "    </tr>\n",
       "    <tr>\n",
       "      <th>1</th>\n",
       "      <td>1</td>\n",
       "      <td>SHP</td>\n",
       "      <td>b00ce0e5-c269-4e9e-bf23-7fa73e02ec24</td>\n",
       "      <td>0.200000</td>\n",
       "      <td>[33489.46491207444, -2989.8007280479846]</td>\n",
       "      <td>30</td>\n",
       "      <td>0.923406</td>\n",
       "      <td>[-1512.8322758391716, -862.9430270059565]</td>\n",
       "      <td>1.030231</td>\n",
       "      <td>[8696.073908840754, 4937.438462601746]</td>\n",
       "      <td>...</td>\n",
       "      <td>-11241.763871</td>\n",
       "      <td>-625.462908</td>\n",
       "      <td>-359.114323</td>\n",
       "      <td>60.310698</td>\n",
       "      <td>79.766031</td>\n",
       "      <td>NaN</td>\n",
       "      <td>16572.801492</td>\n",
       "      <td>1741.646394</td>\n",
       "      <td>721.226002</td>\n",
       "      <td>10000.000000</td>\n",
       "    </tr>\n",
       "    <tr>\n",
       "      <th>2</th>\n",
       "      <td>2</td>\n",
       "      <td>SHP</td>\n",
       "      <td>b00ce0e5-c269-4e9e-bf23-7fa73e02ec24</td>\n",
       "      <td>0.366667</td>\n",
       "      <td>[33237.380550390175, -3133.59370776142]</td>\n",
       "      <td>30</td>\n",
       "      <td>1.070111</td>\n",
       "      <td>[-1512.1075918515314, -862.5315934605442]</td>\n",
       "      <td>0.696898</td>\n",
       "      <td>[8696.374485263772, 4936.909034208879]</td>\n",
       "      <td>...</td>\n",
       "      <td>-11241.763871</td>\n",
       "      <td>-630.001683</td>\n",
       "      <td>-361.762378</td>\n",
       "      <td>48.002685</td>\n",
       "      <td>87.725379</td>\n",
       "      <td>NaN</td>\n",
       "      <td>16282.590766</td>\n",
       "      <td>1740.813063</td>\n",
       "      <td>726.480653</td>\n",
       "      <td>10000.000000</td>\n",
       "    </tr>\n",
       "    <tr>\n",
       "      <th>3</th>\n",
       "      <td>3</td>\n",
       "      <td>SHP</td>\n",
       "      <td>b00ce0e5-c269-4e9e-bf23-7fa73e02ec24</td>\n",
       "      <td>0.533333</td>\n",
       "      <td>[32985.41697127616, -3277.318118573963]</td>\n",
       "      <td>30</td>\n",
       "      <td>1.161261</td>\n",
       "      <td>[-1511.3828822035, -862.1202051157167]</td>\n",
       "      <td>0.363564</td>\n",
       "      <td>[8696.691610246879, 4936.350376164718]</td>\n",
       "      <td>...</td>\n",
       "      <td>-11241.763871</td>\n",
       "      <td>-634.688745</td>\n",
       "      <td>-364.497704</td>\n",
       "      <td>39.818345</td>\n",
       "      <td>91.730580</td>\n",
       "      <td>NaN</td>\n",
       "      <td>15992.518970</td>\n",
       "      <td>1739.979731</td>\n",
       "      <td>731.907357</td>\n",
       "      <td>10000.000000</td>\n",
       "    </tr>\n",
       "    <tr>\n",
       "      <th>4</th>\n",
       "      <td>4</td>\n",
       "      <td>SHP</td>\n",
       "      <td>b00ce0e5-c269-4e9e-bf23-7fa73e02ec24</td>\n",
       "      <td>0.700000</td>\n",
       "      <td>[32733.57417911457, -3420.9739682053323]</td>\n",
       "      <td>30</td>\n",
       "      <td>1.196855</td>\n",
       "      <td>[-1510.6581454699208, -861.7088644890058]</td>\n",
       "      <td>0.030231</td>\n",
       "      <td>[8697.026533911445, 4935.760272586208]</td>\n",
       "      <td>...</td>\n",
       "      <td>-11241.763871</td>\n",
       "      <td>-639.529804</td>\n",
       "      <td>-367.323727</td>\n",
       "      <td>36.528748</td>\n",
       "      <td>93.089476</td>\n",
       "      <td>NaN</td>\n",
       "      <td>15702.586106</td>\n",
       "      <td>1739.146400</td>\n",
       "      <td>737.512773</td>\n",
       "      <td>10000.000000</td>\n",
       "    </tr>\n",
       "    <tr>\n",
       "      <th>...</th>\n",
       "      <td>...</td>\n",
       "      <td>...</td>\n",
       "      <td>...</td>\n",
       "      <td>...</td>\n",
       "      <td>...</td>\n",
       "      <td>...</td>\n",
       "      <td>...</td>\n",
       "      <td>...</td>\n",
       "      <td>...</td>\n",
       "      <td>...</td>\n",
       "      <td>...</td>\n",
       "      <td>...</td>\n",
       "      <td>...</td>\n",
       "      <td>...</td>\n",
       "      <td>...</td>\n",
       "      <td>...</td>\n",
       "      <td>...</td>\n",
       "      <td>...</td>\n",
       "      <td>...</td>\n",
       "      <td>...</td>\n",
       "      <td>...</td>\n",
       "    </tr>\n",
       "    <tr>\n",
       "      <th>297</th>\n",
       "      <td>297</td>\n",
       "      <td>SHP</td>\n",
       "      <td>b00ce0e5-c269-4e9e-bf23-7fa73e02ec24</td>\n",
       "      <td>49.533333</td>\n",
       "      <td>[17666.468573662296, -11665.098427975963]</td>\n",
       "      <td>30</td>\n",
       "      <td>3.378811</td>\n",
       "      <td>[32.98514893925751, 9.625516766499961]</td>\n",
       "      <td>0.371239</td>\n",
       "      <td>[9599.620634768977, 2801.3003531427435]</td>\n",
       "      <td>...</td>\n",
       "      <td>-11241.763871</td>\n",
       "      <td>46.555644</td>\n",
       "      <td>13.585572</td>\n",
       "      <td>-97.199538</td>\n",
       "      <td>-23.499996</td>\n",
       "      <td>NaN</td>\n",
       "      <td>1511.207308</td>\n",
       "      <td>34.360888</td>\n",
       "      <td>48.497379</td>\n",
       "      <td>10000.000000</td>\n",
       "    </tr>\n",
       "    <tr>\n",
       "      <th>298</th>\n",
       "      <td>298</td>\n",
       "      <td>SHP</td>\n",
       "      <td>b00ce0e5-c269-4e9e-bf23-7fa73e02ec24</td>\n",
       "      <td>49.700000</td>\n",
       "      <td>[17672.026096114474, -11663.476667054338]</td>\n",
       "      <td>30</td>\n",
       "      <td>3.415684</td>\n",
       "      <td>[33.78511732548826, 9.858958462595188]</td>\n",
       "      <td>0.037906</td>\n",
       "      <td>[9599.620634768982, 2801.300353142725]</td>\n",
       "      <td>...</td>\n",
       "      <td>-11241.763871</td>\n",
       "      <td>70.507782</td>\n",
       "      <td>20.575133</td>\n",
       "      <td>-96.267143</td>\n",
       "      <td>-27.067273</td>\n",
       "      <td>NaN</td>\n",
       "      <td>1505.417993</td>\n",
       "      <td>35.194221</td>\n",
       "      <td>73.448509</td>\n",
       "      <td>10000.000000</td>\n",
       "    </tr>\n",
       "    <tr>\n",
       "      <th>299</th>\n",
       "      <td>299</td>\n",
       "      <td>SHP</td>\n",
       "      <td>b00ce0e5-c269-4e9e-bf23-7fa73e02ec24</td>\n",
       "      <td>49.866667</td>\n",
       "      <td>[17677.716946631026, -11661.815999183365]</td>\n",
       "      <td>30</td>\n",
       "      <td>3.397002</td>\n",
       "      <td>[32.90515210063443, 9.602172596890437]</td>\n",
       "      <td>-0.228761</td>\n",
       "      <td>[-191992.41269537958, -56026.00706285471]</td>\n",
       "      <td>...</td>\n",
       "      <td>-11241.763871</td>\n",
       "      <td>0.000000</td>\n",
       "      <td>0.000000</td>\n",
       "      <td>-96.755993</td>\n",
       "      <td>-25.264162</td>\n",
       "      <td>NaN</td>\n",
       "      <td>1499.489790</td>\n",
       "      <td>34.277555</td>\n",
       "      <td>0.000000</td>\n",
       "      <td>200000.000000</td>\n",
       "    </tr>\n",
       "    <tr>\n",
       "      <th>300</th>\n",
       "      <td>300</td>\n",
       "      <td>SHP</td>\n",
       "      <td>b00ce0e5-c269-4e9e-bf23-7fa73e02ec24</td>\n",
       "      <td>50.033333</td>\n",
       "      <td>[17682.001186068454, -11660.565799628028]</td>\n",
       "      <td>30</td>\n",
       "      <td>3.383875</td>\n",
       "      <td>[16.90578437601946, 4.933338674985877]</td>\n",
       "      <td>0.104573</td>\n",
       "      <td>[-191992.41269537958, -56026.00706285471]</td>\n",
       "      <td>...</td>\n",
       "      <td>-11241.763871</td>\n",
       "      <td>0.000000</td>\n",
       "      <td>0.000000</td>\n",
       "      <td>-97.079284</td>\n",
       "      <td>-23.991930</td>\n",
       "      <td>NaN</td>\n",
       "      <td>1495.026864</td>\n",
       "      <td>17.610888</td>\n",
       "      <td>0.000000</td>\n",
       "      <td>200000.000000</td>\n",
       "    </tr>\n",
       "    <tr>\n",
       "      <th>301</th>\n",
       "      <td>301</td>\n",
       "      <td>SHP</td>\n",
       "      <td>b00ce0e5-c269-4e9e-bf23-7fa73e02ec24</td>\n",
       "      <td>50.200000</td>\n",
       "      <td>[17683.618864218446, -11660.093739059674]</td>\n",
       "      <td>30</td>\n",
       "      <td>3.419645</td>\n",
       "      <td>[0.9064166514044921, 0.26450475308131405]</td>\n",
       "      <td>0.174697</td>\n",
       "      <td>[-108769.99816853907, -31740.570369757785]</td>\n",
       "      <td>...</td>\n",
       "      <td>-11241.763871</td>\n",
       "      <td>0.000000</td>\n",
       "      <td>0.000000</td>\n",
       "      <td>-96.159178</td>\n",
       "      <td>-27.448362</td>\n",
       "      <td>NaN</td>\n",
       "      <td>1493.341716</td>\n",
       "      <td>0.944221</td>\n",
       "      <td>0.000000</td>\n",
       "      <td>113306.558985</td>\n",
       "    </tr>\n",
       "  </tbody>\n",
       "</table>\n",
       "<p>302 rows × 55 columns</p>\n",
       "</div>"
      ],
      "text/plain": [
       "     index    p                                   eid         ts  \\\n",
       "0        0  SHP  b00ce0e5-c269-4e9e-bf23-7fa73e02ec24   0.033333   \n",
       "1        1  SHP  b00ce0e5-c269-4e9e-bf23-7fa73e02ec24   0.200000   \n",
       "2        2  SHP  b00ce0e5-c269-4e9e-bf23-7fa73e02ec24   0.366667   \n",
       "3        3  SHP  b00ce0e5-c269-4e9e-bf23-7fa73e02ec24   0.533333   \n",
       "4        4  SHP  b00ce0e5-c269-4e9e-bf23-7fa73e02ec24   0.700000   \n",
       "..     ...  ...                                   ...        ...   \n",
       "297    297  SHP  b00ce0e5-c269-4e9e-bf23-7fa73e02ec24  49.533333   \n",
       "298    298  SHP  b00ce0e5-c269-4e9e-bf23-7fa73e02ec24  49.700000   \n",
       "299    299  SHP  b00ce0e5-c269-4e9e-bf23-7fa73e02ec24  49.866667   \n",
       "300    300  SHP  b00ce0e5-c269-4e9e-bf23-7fa73e02ec24  50.033333   \n",
       "301    301  SHP  b00ce0e5-c269-4e9e-bf23-7fa73e02ec24  50.200000   \n",
       "\n",
       "                                           loc   r         a  \\\n",
       "0    [33741.670052175075, -2845.9391721171914]  30  0.721145   \n",
       "1     [33489.46491207444, -2989.8007280479846]  30  0.923406   \n",
       "2      [33237.380550390175, -3133.59370776142]  30  1.070111   \n",
       "3      [32985.41697127616, -3277.318118573963]  30  1.161261   \n",
       "4     [32733.57417911457, -3420.9739682053323]  30  1.196855   \n",
       "..                                         ...  ..       ...   \n",
       "297  [17666.468573662296, -11665.098427975963]  30  3.378811   \n",
       "298  [17672.026096114474, -11663.476667054338]  30  3.415684   \n",
       "299  [17677.716946631026, -11661.815999183365]  30  3.397002   \n",
       "300  [17682.001186068454, -11660.565799628028]  30  3.383875   \n",
       "301  [17683.618864218446, -11660.093739059674]  30  3.419645   \n",
       "\n",
       "                                             v        av  \\\n",
       "0    [-1513.5569354923462, -863.3545034102806]  1.363564   \n",
       "1    [-1512.8322758391716, -862.9430270059565]  1.030231   \n",
       "2    [-1512.1075918515314, -862.5315934605442]  0.696898   \n",
       "3       [-1511.3828822035, -862.1202051157167]  0.363564   \n",
       "4    [-1510.6581454699208, -861.7088644890058]  0.030231   \n",
       "..                                         ...       ...   \n",
       "297     [32.98514893925751, 9.625516766499961]  0.371239   \n",
       "298     [33.78511732548826, 9.858958462595188]  0.037906   \n",
       "299     [32.90515210063443, 9.602172596890437] -0.228761   \n",
       "300     [16.90578437601946, 4.933338674985877]  0.104573   \n",
       "301  [0.9064166514044921, 0.26450475308131405]  0.174697   \n",
       "\n",
       "                                              f  ...     o.t_loc.y  \\\n",
       "0         [8695.788737067085, 4937.94068821176]  ... -11241.763871   \n",
       "1        [8696.073908840754, 4937.438462601746]  ... -11241.763871   \n",
       "2        [8696.374485263772, 4936.909034208879]  ... -11241.763871   \n",
       "3        [8696.691610246879, 4936.350376164718]  ... -11241.763871   \n",
       "4        [8697.026533911445, 4935.760272586208]  ... -11241.763871   \n",
       "..                                          ...  ...           ...   \n",
       "297     [9599.620634768977, 2801.3003531427435]  ... -11241.763871   \n",
       "298      [9599.620634768982, 2801.300353142725]  ... -11241.763871   \n",
       "299   [-191992.41269537958, -56026.00706285471]  ... -11241.763871   \n",
       "300   [-191992.41269537958, -56026.00706285471]  ... -11241.763871   \n",
       "301  [-108769.99816853907, -31740.570369757785]  ... -11241.763871   \n",
       "\n",
       "        o.t_v.x     o.t_v.y    angle.x    angle.y o.ct_dist      o.t_dist  \\\n",
       "0   -621.066906 -356.550237  75.105020  66.024510       NaN  16863.151146   \n",
       "1   -625.462908 -359.114323  60.310698  79.766031       NaN  16572.801492   \n",
       "2   -630.001683 -361.762378  48.002685  87.725379       NaN  16282.590766   \n",
       "3   -634.688745 -364.497704  39.818345  91.730580       NaN  15992.518970   \n",
       "4   -639.529804 -367.323727  36.528748  93.089476       NaN  15702.586106   \n",
       "..          ...         ...        ...        ...       ...           ...   \n",
       "297   46.555644   13.585572 -97.199538 -23.499996       NaN   1511.207308   \n",
       "298   70.507782   20.575133 -96.267143 -27.067273       NaN   1505.417993   \n",
       "299    0.000000    0.000000 -96.755993 -25.264162       NaN   1499.489790   \n",
       "300    0.000000    0.000000 -97.079284 -23.991930       NaN   1495.026864   \n",
       "301    0.000000    0.000000 -96.159178 -27.448362       NaN   1493.341716   \n",
       "\n",
       "           speed   o.t_speed          f_mag  \n",
       "0    1742.479726  716.136979   10000.000000  \n",
       "1    1741.646394  721.226002   10000.000000  \n",
       "2    1740.813063  726.480653   10000.000000  \n",
       "3    1739.979731  731.907357   10000.000000  \n",
       "4    1739.146400  737.512773   10000.000000  \n",
       "..           ...         ...            ...  \n",
       "297    34.360888   48.497379   10000.000000  \n",
       "298    35.194221   73.448509   10000.000000  \n",
       "299    34.277555    0.000000  200000.000000  \n",
       "300    17.610888    0.000000  200000.000000  \n",
       "301     0.944221    0.000000  113306.558985  \n",
       "\n",
       "[302 rows x 55 columns]"
      ]
     },
     "execution_count": 9,
     "metadata": {},
     "output_type": "execute_result"
    }
   ],
   "source": [
    "df"
   ]
  },
  {
   "cell_type": "code",
   "execution_count": 10,
   "id": "a703dac7",
   "metadata": {},
   "outputs": [
    {
     "data": {
      "text/plain": [
       "{'o': 'stellarpunk.orders.movement.GoToLocation',\n",
       " 'nd': 3.1830988618379074e-09,\n",
       " 'nnd': inf,\n",
       " 't_loc': [19117.170259352486, -11241.763871430074],\n",
       " 'ad': 1500.0,\n",
       " 'md': 1350.0,\n",
       " 't_v': [0.0, 0.0],\n",
       " 'cs': False}"
      ]
     },
     "execution_count": 10,
     "metadata": {},
     "output_type": "execute_result"
    }
   ],
   "source": [
    "df.iloc[-1][\"o\"]"
   ]
  },
  {
   "cell_type": "markdown",
   "id": "a6d3cf5e",
   "metadata": {},
   "source": [
    "# Basic Ship Vitals"
   ]
  },
  {
   "cell_type": "markdown",
   "id": "36730903",
   "metadata": {},
   "source": [
    "## Position and Heading"
   ]
  },
  {
   "cell_type": "code",
   "execution_count": 11,
   "id": "665329e8",
   "metadata": {},
   "outputs": [
    {
     "data": {
      "application/vnd.jupyter.widget-view+json": {
       "model_id": "de605f74ca38440eb91c29b4748e3157",
       "version_major": 2,
       "version_minor": 0
      },
      "text/plain": [
       "interactive(children=(FloatSlider(value=50.19999999999843, continuous_update=False, description='max_time', ma…"
      ]
     },
     "metadata": {},
     "output_type": "display_data"
    },
    {
     "data": {
      "text/plain": [
       "<function __main__.plot_location_chart(max_time)>"
      ]
     },
     "execution_count": 11,
     "metadata": {},
     "output_type": "execute_result"
    }
   ],
   "source": [
    "def plot_location_chart(max_time):\n",
    "    sample = df[df[\"ts\"] <= max_time].iloc[::50]\n",
    "    plt.quiver(sample[\"loc.x\"], sample[\"loc.y\"], sample[\"angle.x\"], sample[\"angle.y\"])#, scale=100)\n",
    "    plt.scatter(sample[\"o.t_loc.x\"], sample[\"o.t_loc.y\"])\n",
    "    #center = (0,2500)\n",
    "    #radius = 10000\n",
    "    #plt.xlim(center[0]-radius,center[0]+radius)\n",
    "    #plt.ylim(center[1]-radius,center[1]+radius)\n",
    "\n",
    "ipywidgets.interact(plot_location_chart, max_time=ipywidgets.FloatSlider(value=df[\"ts\"].max(), min=df[\"ts\"].min(), max=df[\"ts\"].max(), continuous_update=False))"
   ]
  },
  {
   "cell_type": "code",
   "execution_count": 12,
   "id": "ed1c2ca3",
   "metadata": {},
   "outputs": [
    {
     "data": {
      "text/html": [
       "<div>\n",
       "<style scoped>\n",
       "    .dataframe tbody tr th:only-of-type {\n",
       "        vertical-align: middle;\n",
       "    }\n",
       "\n",
       "    .dataframe tbody tr th {\n",
       "        vertical-align: top;\n",
       "    }\n",
       "\n",
       "    .dataframe thead th {\n",
       "        text-align: right;\n",
       "    }\n",
       "</style>\n",
       "<table border=\"1\" class=\"dataframe\">\n",
       "  <thead>\n",
       "    <tr style=\"text-align: right;\">\n",
       "      <th></th>\n",
       "      <th>loc.x</th>\n",
       "      <th>loc.y</th>\n",
       "    </tr>\n",
       "  </thead>\n",
       "  <tbody>\n",
       "    <tr>\n",
       "      <th>count</th>\n",
       "      <td>302.000000</td>\n",
       "      <td>302.000000</td>\n",
       "    </tr>\n",
       "    <tr>\n",
       "      <th>mean</th>\n",
       "      <td>18252.825575</td>\n",
       "      <td>-10932.026801</td>\n",
       "    </tr>\n",
       "    <tr>\n",
       "      <th>std</th>\n",
       "      <td>5003.292242</td>\n",
       "      <td>2430.239618</td>\n",
       "    </tr>\n",
       "    <tr>\n",
       "      <th>min</th>\n",
       "      <td>13328.908662</td>\n",
       "      <td>-12906.148897</td>\n",
       "    </tr>\n",
       "    <tr>\n",
       "      <th>25%</th>\n",
       "      <td>14799.589300</td>\n",
       "      <td>-12431.921538</td>\n",
       "    </tr>\n",
       "    <tr>\n",
       "      <th>50%</th>\n",
       "      <td>16891.742084</td>\n",
       "      <td>-11837.644323</td>\n",
       "    </tr>\n",
       "    <tr>\n",
       "      <th>75%</th>\n",
       "      <td>19082.466645</td>\n",
       "      <td>-10644.413160</td>\n",
       "    </tr>\n",
       "    <tr>\n",
       "      <th>max</th>\n",
       "      <td>33741.670052</td>\n",
       "      <td>-2845.939172</td>\n",
       "    </tr>\n",
       "  </tbody>\n",
       "</table>\n",
       "</div>"
      ],
      "text/plain": [
       "              loc.x         loc.y\n",
       "count    302.000000    302.000000\n",
       "mean   18252.825575 -10932.026801\n",
       "std     5003.292242   2430.239618\n",
       "min    13328.908662 -12906.148897\n",
       "25%    14799.589300 -12431.921538\n",
       "50%    16891.742084 -11837.644323\n",
       "75%    19082.466645 -10644.413160\n",
       "max    33741.670052  -2845.939172"
      ]
     },
     "execution_count": 12,
     "metadata": {},
     "output_type": "execute_result"
    }
   ],
   "source": [
    "df[[\"loc.x\", \"loc.y\"]].describe()"
   ]
  },
  {
   "cell_type": "code",
   "execution_count": 13,
   "id": "e0f37c4c",
   "metadata": {},
   "outputs": [
    {
     "data": {
      "text/plain": [
       "Text(0.5, 1.0, 'position')"
      ]
     },
     "execution_count": 13,
     "metadata": {},
     "output_type": "execute_result"
    },
    {
     "data": {
      "image/png": "[encoded data removed]",
      "text/plain": [
       "<Figure size 432x288 with 1 Axes>"
      ]
     },
     "metadata": {
      "needs_background": "light"
     },
     "output_type": "display_data"
    }
   ],
   "source": [
    "plt.scatter(df[\"ts\"], df[\"loc.x\"])\n",
    "plt.scatter(df[\"ts\"], df[\"loc.y\"])\n",
    "plt.title(\"position\")"
   ]
  },
  {
   "cell_type": "code",
   "execution_count": 14,
   "id": "b65fd521",
   "metadata": {},
   "outputs": [
    {
     "data": {
      "text/plain": [
       "Text(0.5, 1.0, 'heading and angular velocity')"
      ]
     },
     "execution_count": 14,
     "metadata": {},
     "output_type": "execute_result"
    },
    {
     "data": {
      "image/png": "[encoded data removed]",
      "text/plain": [
       "<Figure size 432x288 with 1 Axes>"
      ]
     },
     "metadata": {
      "needs_background": "light"
     },
     "output_type": "display_data"
    }
   ],
   "source": [
    "plt.scatter(df[\"ts\"], df[\"a\"], label=\"theta\")\n",
    "plt.scatter(df[\"ts\"], df[\"av\"], label=\"omega\")\n",
    "plt.hlines(np.pi, df[\"ts\"].min(), df[\"ts\"].max(), color=\"red\")\n",
    "plt.hlines(0, df[\"ts\"].min(), df[\"ts\"].max(), color=\"red\")\n",
    "plt.legend()\n",
    "plt.title(\"heading and angular velocity\")"
   ]
  },
  {
   "cell_type": "code",
   "execution_count": 15,
   "id": "e1a4515d",
   "metadata": {},
   "outputs": [
    {
     "data": {
      "text/plain": [
       "<matplotlib.collections.PathCollection at 0x7f51e95ac550>"
      ]
     },
     "execution_count": 15,
     "metadata": {},
     "output_type": "execute_result"
    },
    {
     "data": {
      "image/png": "[encoded data removed]",
      "text/plain": [
       "<Figure size 432x288 with 1 Axes>"
      ]
     },
     "metadata": {
      "needs_background": "light"
     },
     "output_type": "display_data"
    }
   ],
   "source": [
    "plt.scatter(df[\"ts\"], df[\"t\"])"
   ]
  },
  {
   "cell_type": "markdown",
   "id": "4ce26323",
   "metadata": {},
   "source": [
    "## Velocity and Acceleration"
   ]
  },
  {
   "cell_type": "code",
   "execution_count": 16,
   "id": "63002f84",
   "metadata": {},
   "outputs": [
    {
     "data": {
      "text/plain": [
       "<matplotlib.collections.PathCollection at 0x7f51eb7d1a50>"
      ]
     },
     "execution_count": 16,
     "metadata": {},
     "output_type": "execute_result"
    },
    {
     "data": {
      "image/png": "[encoded data removed]",
      "text/plain": [
       "<Figure size 432x288 with 1 Axes>"
      ]
     },
     "metadata": {
      "needs_background": "light"
     },
     "output_type": "display_data"
    }
   ],
   "source": [
    "plt.scatter(df[\"ts\"], df[\"speed\"])"
   ]
  },
  {
   "cell_type": "code",
   "execution_count": 17,
   "id": "32a0a440",
   "metadata": {
    "scrolled": true
   },
   "outputs": [
    {
     "data": {
      "text/plain": [
       "Text(0.5, 1.0, 'velocity')"
      ]
     },
     "execution_count": 17,
     "metadata": {},
     "output_type": "execute_result"
    },
    {
     "data": {
      "image/png": "[encoded data removed]",
      "text/plain": [
       "<Figure size 432x288 with 1 Axes>"
      ]
     },
     "metadata": {
      "needs_background": "light"
     },
     "output_type": "display_data"
    }
   ],
   "source": [
    "plt.scatter(df[\"ts\"], df[\"v.x\"])\n",
    "plt.scatter(df[\"ts\"], df[\"v.y\"])\n",
    "plt.title(\"velocity\")"
   ]
  },
  {
   "cell_type": "code",
   "execution_count": 18,
   "id": "7e3172c1",
   "metadata": {
    "scrolled": true
   },
   "outputs": [
    {
     "data": {
      "text/plain": [
       "Text(0.5, 1.0, 'acceleration')"
      ]
     },
     "execution_count": 18,
     "metadata": {},
     "output_type": "execute_result"
    },
    {
     "data": {
      "image/png": "[encoded data removed]",
      "text/plain": [
       "<Figure size 432x288 with 1 Axes>"
      ]
     },
     "metadata": {
      "needs_background": "light"
     },
     "output_type": "display_data"
    }
   ],
   "source": [
    "#plt.scatter(df[\"ts\"], (df[\"v.x\"] - df[\"v.x\"].shift(-1)))#/(df[\"ts\"]-df[\"ts\"].shift(-1)))\n",
    "plt.scatter(df[\"ts\"], (df[\"v.x\"].shift(1) - df[\"v.x\"]) / (df[\"ts\"].shift(1) - df[\"ts\"]))\n",
    "plt.scatter(df[\"ts\"], (df[\"v.y\"].shift(1) - df[\"v.y\"]) / (df[\"ts\"].shift(1) - df[\"ts\"]))\n",
    "plt.yscale(\"symlog\")\n",
    "plt.title(\"acceleration\")"
   ]
  },
  {
   "cell_type": "code",
   "execution_count": 19,
   "id": "7754010f",
   "metadata": {},
   "outputs": [
    {
     "data": {
      "text/plain": [
       "Text(0.5, 1.0, 'force')"
      ]
     },
     "execution_count": 19,
     "metadata": {},
     "output_type": "execute_result"
    },
    {
     "data": {
      "image/png": "[encoded data removed]",
      "text/plain": [
       "<Figure size 432x288 with 1 Axes>"
      ]
     },
     "metadata": {
      "needs_background": "light"
     },
     "output_type": "display_data"
    }
   ],
   "source": [
    "plt.scatter(df[\"ts\"], df[\"f_mag\"])\n",
    "plt.yscale(\"log\")\n",
    "plt.title(\"force\")"
   ]
  },
  {
   "cell_type": "markdown",
   "id": "4630e3f8",
   "metadata": {},
   "source": [
    "# Behavior Monitoring"
   ]
  },
  {
   "cell_type": "code",
   "execution_count": 20,
   "id": "cf1a4380",
   "metadata": {},
   "outputs": [
    {
     "data": {
      "text/plain": [
       "[3.033333333333327, 0.36666666666666603, None, None]"
      ]
     },
     "execution_count": 20,
     "metadata": {},
     "output_type": "execute_result"
    }
   ],
   "source": [
    "[next((df.iloc[idx][\"ts\"] if idx is not None else None for idx, v in zip(df.index, (~df[c].isna() & df[c] == True)) if v), None) for c in [\"o.ct\", \"o.cs\", \"o.cac\", \"o.cbdr\"]]"
   ]
  },
  {
   "cell_type": "code",
   "execution_count": 21,
   "id": "9e6db2b0",
   "metadata": {},
   "outputs": [
    {
     "data": {
      "application/vnd.jupyter.widget-view+json": {
       "model_id": "773807e896844d71bb47f250ed0a125d",
       "version_major": 2,
       "version_minor": 0
      },
      "text/plain": [
       "interactive(children=(FloatSlider(value=5.0, continuous_update=False, description='hist_length', max=50.166666…"
      ]
     },
     "metadata": {},
     "output_type": "display_data"
    },
    {
     "data": {
      "text/plain": [
       "<function __main__.plot_collision_info(hist_length, max_time)>"
      ]
     },
     "execution_count": 21,
     "metadata": {},
     "output_type": "execute_result"
    }
   ],
   "source": [
    "def plot_collision_info(hist_length, max_time):\n",
    "    sample = df[(df[\"ts\"] >= max_time - hist_length) & (df[\"ts\"] <= max_time)]\n",
    "    plt.scatter(sample[\"ts\"], (~(sample[\"o.ct\"].isna())).astype(int), label=\"ct\")\n",
    "    plt.scatter(sample[\"ts\"], sample[\"o.cs\"].fillna(0).astype(int)+0.05, label=\"cs\")\n",
    "    plt.scatter(sample[\"ts\"], sample[\"o.cac\"].fillna(0).astype(int)+0.1, label=\"cac\")\n",
    "    plt.scatter(sample[\"ts\"], sample[\"o.cbdr\"].fillna(0).astype(int)+0.15, label=\"cbdr\")\n",
    "    plt.legend()\n",
    "    plt.title(\"status flags\")\n",
    "    \n",
    "    flag_cols = [\"o.ct\", \"o.cs\", \"o.cac\", \"o.cbdr\"]\n",
    "    first_ts = [next((df.iloc[idx][\"ts\"] if idx is not None else None for idx, v in zip(df.index, (~df[c].isna() & df[c] == True)) if v), None) for c in flag_cols]\n",
    "    for c, ts in zip(flag_cols, first_ts):\n",
    "        print(f'first {c}: {ts}')\n",
    "\n",
    "ipywidgets.interact(plot_collision_info, hist_length=ipywidgets.FloatSlider(value=5, min=0, max=df[\"ts\"].max()-df[\"ts\"].min(), continuous_update=False), max_time=ipywidgets.FloatSlider(value=df[\"ts\"].max(), min=df[\"ts\"].min(), max=df[\"ts\"].max()+.1, continuous_update=False))"
   ]
  },
  {
   "cell_type": "markdown",
   "id": "94ba2b3d",
   "metadata": {},
   "source": [
    "### Target Location"
   ]
  },
  {
   "cell_type": "code",
   "execution_count": 22,
   "id": "2640e1e5",
   "metadata": {},
   "outputs": [
    {
     "data": {
      "text/html": [
       "<div>\n",
       "<style scoped>\n",
       "    .dataframe tbody tr th:only-of-type {\n",
       "        vertical-align: middle;\n",
       "    }\n",
       "\n",
       "    .dataframe tbody tr th {\n",
       "        vertical-align: top;\n",
       "    }\n",
       "\n",
       "    .dataframe thead tr th {\n",
       "        text-align: left;\n",
       "    }\n",
       "\n",
       "    .dataframe thead tr:last-of-type th {\n",
       "        text-align: right;\n",
       "    }\n",
       "</style>\n",
       "<table border=\"1\" class=\"dataframe\">\n",
       "  <thead>\n",
       "    <tr>\n",
       "      <th></th>\n",
       "      <th></th>\n",
       "      <th colspan=\"3\" halign=\"left\">ts</th>\n",
       "      <th colspan=\"2\" halign=\"left\">o.t_dist</th>\n",
       "    </tr>\n",
       "    <tr>\n",
       "      <th></th>\n",
       "      <th></th>\n",
       "      <th>count</th>\n",
       "      <th>min</th>\n",
       "      <th>max</th>\n",
       "      <th>min</th>\n",
       "      <th>max</th>\n",
       "    </tr>\n",
       "    <tr>\n",
       "      <th>o.t_loc.x</th>\n",
       "      <th>o.t_loc.y</th>\n",
       "      <th></th>\n",
       "      <th></th>\n",
       "      <th></th>\n",
       "      <th></th>\n",
       "      <th></th>\n",
       "    </tr>\n",
       "  </thead>\n",
       "  <tbody>\n",
       "    <tr>\n",
       "      <th>19117.170259</th>\n",
       "      <th>-11241.763871</th>\n",
       "      <td>302</td>\n",
       "      <td>0.033333</td>\n",
       "      <td>50.2</td>\n",
       "      <td>575.057995</td>\n",
       "      <td>16863.151146</td>\n",
       "    </tr>\n",
       "  </tbody>\n",
       "</table>\n",
       "</div>"
      ],
      "text/plain": [
       "                              ts                    o.t_dist              \n",
       "                           count       min   max         min           max\n",
       "o.t_loc.x    o.t_loc.y                                                    \n",
       "19117.170259 -11241.763871   302  0.033333  50.2  575.057995  16863.151146"
      ]
     },
     "execution_count": 22,
     "metadata": {},
     "output_type": "execute_result"
    }
   ],
   "source": [
    "if np.any(~df[\"o.t_loc\"].isna()):\n",
    "    x = df.groupby([\"o.t_loc.x\", \"o.t_loc.y\"]).agg({\"ts\": [\"count\", \"min\", \"max\"], \"o.t_dist\": [\"min\",\"max\"]})\n",
    "else:\n",
    "    x = \"no location target\"\n",
    "x"
   ]
  },
  {
   "cell_type": "code",
   "execution_count": 23,
   "id": "74d23fb4",
   "metadata": {},
   "outputs": [
    {
     "data": {
      "application/vnd.jupyter.widget-view+json": {
       "model_id": "1785e29a16c842ef90e008d529b37963",
       "version_major": 2,
       "version_minor": 0
      },
      "text/plain": [
       "interactive(children=(FloatSlider(value=5.0, continuous_update=False, description='hist_length', max=50.166666…"
      ]
     },
     "metadata": {},
     "output_type": "display_data"
    },
    {
     "data": {
      "text/plain": [
       "<function __main__.plot_target_distance(hist_length, max_time)>"
      ]
     },
     "execution_count": 23,
     "metadata": {},
     "output_type": "execute_result"
    }
   ],
   "source": [
    "#sample = df[(df[\"ts\"] < 124.4) & (df[\"ts\"] > 120)]\n",
    "def plot_target_distance(hist_length, max_time):\n",
    "    sample = df[(df[\"ts\"] >= max_time - hist_length) & (df[\"ts\"] <= max_time)]\n",
    "    plt.scatter(sample[\"ts\"], sample[\"o.t_dist\"])\n",
    "    plt.hlines(1500, sample[\"ts\"].min(), sample[\"ts\"].max(), color=\"green\")\n",
    "    plt.hlines(1500*0.9, sample[\"ts\"].min(), sample[\"ts\"].max(), color=\"red\")\n",
    "    #plt.ylim(0,1500)\n",
    "    plt.title(\"distance to target\")\n",
    "    print(sample[\"o.t_dist\"].min(),sample[df[\"ts\"] > sample[\"ts\"].max()-1][\"o.t_dist\"].min())\n",
    "\n",
    "ipywidgets.interact(\n",
    "    plot_target_distance,\n",
    "    hist_length=ipywidgets.FloatSlider(value=5, min=0, max=df[\"ts\"].max()-df[\"ts\"].min(), continuous_update=False),\n",
    "    max_time=ipywidgets.FloatSlider(value=df[\"ts\"].max(), min=df[\"ts\"].min(), max=df[\"ts\"].max()+.1, continuous_update=False))"
   ]
  },
  {
   "cell_type": "code",
   "execution_count": 24,
   "id": "4d0bf8d0",
   "metadata": {},
   "outputs": [
    {
     "data": {
      "application/vnd.jupyter.widget-view+json": {
       "model_id": "7d5860670c45436182285d8dd7b7bbab",
       "version_major": 2,
       "version_minor": 0
      },
      "text/plain": [
       "interactive(children=(FloatSlider(value=5.0, continuous_update=False, description='hist_length', max=50.166666…"
      ]
     },
     "metadata": {},
     "output_type": "display_data"
    },
    {
     "data": {
      "text/plain": [
       "<function __main__.plot_desired_speed(hist_length, max_time)>"
      ]
     },
     "execution_count": 24,
     "metadata": {},
     "output_type": "execute_result"
    }
   ],
   "source": [
    "def plot_desired_speed(hist_length, max_time):\n",
    "    sample = df[(df[\"ts\"] >= max_time - hist_length) & (df[\"ts\"] <= max_time)]\n",
    "    plt.scatter(sample[\"ts\"], sample[\"speed\"], label=\"actual speed\")\n",
    "    plt.scatter(sample[\"ts\"], sample[\"o.t_speed\"], label=\"desired speed\")\n",
    "    plt.legend()\n",
    "    plt.title(\"speed and desired speed to target\")\n",
    "    plt.ylim(0)\n",
    "\n",
    "ipywidgets.interact(\n",
    "    plot_desired_speed,\n",
    "    hist_length=ipywidgets.FloatSlider(value=5, min=0, max=df[\"ts\"].max()-df[\"ts\"].min(), continuous_update=False),\n",
    "    max_time=ipywidgets.FloatSlider(value=df[\"ts\"].max(), min=df[\"ts\"].min(), max=df[\"ts\"].max()+.1, continuous_update=False))"
   ]
  },
  {
   "cell_type": "code",
   "execution_count": 25,
   "id": "d7341dc2",
   "metadata": {
    "scrolled": true
   },
   "outputs": [
    {
     "data": {
      "text/plain": [
       "Text(0.5, 1.0, 'desired speed delta')"
      ]
     },
     "execution_count": 25,
     "metadata": {},
     "output_type": "execute_result"
    },
    {
     "data": {
      "image/png": "[encoded data removed]",
      "text/plain": [
       "<Figure size 432x288 with 1 Axes>"
      ]
     },
     "metadata": {
      "needs_background": "light"
     },
     "output_type": "display_data"
    }
   ],
   "source": [
    "plt.scatter(df[\"ts\"], df[\"o.t_speed\"] - df[\"speed\"])\n",
    "plt.scatter(df[\"ts\"], np.linalg.norm(np.array((df[\"o.t_v.x\"] - df[\"v.x\"], df[\"o.t_v.y\"] - df[\"v.y\"])), axis=0))\n",
    "plt.title(\"desired speed delta\")"
   ]
  },
  {
   "cell_type": "markdown",
   "id": "5ac378ec",
   "metadata": {},
   "source": [
    "## Collision Avoidance"
   ]
  },
  {
   "cell_type": "code",
   "execution_count": 26,
   "id": "f38ca4d8",
   "metadata": {},
   "outputs": [
    {
     "data": {
      "application/vnd.jupyter.widget-view+json": {
       "model_id": "12f6a0868cb54c26bad42822fe95f667",
       "version_major": 2,
       "version_minor": 0
      },
      "text/plain": [
       "interactive(children=(FloatSlider(value=5.0, continuous_update=False, description='hist_length', max=50.166666…"
      ]
     },
     "metadata": {},
     "output_type": "display_data"
    },
    {
     "data": {
      "text/plain": [
       "<function __main__.show_collision_threats(hist_length, max_time)>"
      ]
     },
     "execution_count": 26,
     "metadata": {},
     "output_type": "execute_result"
    }
   ],
   "source": [
    "def show_collision_threats(hist_length, max_time):\n",
    "    sample = df[(df[\"ts\"] >= max_time-hist_length) & (df[\"ts\"] <= max_time)]\n",
    "    if np.any(~sample[\"o.ct\"].isna()):\n",
    "        x = sample.groupby(\"o.ct\").agg({\"ts\": [\"count\", \"min\", \"max\"], \"o.ct_dist\": [\"min\",\"max\"]})\n",
    "    else:\n",
    "        x = \"no collision threats\"\n",
    "    return x\n",
    "ipywidgets.interact(\n",
    "    show_collision_threats,\n",
    "    hist_length=ipywidgets.FloatSlider(value=5, min=0, max=df[\"ts\"].max()-df[\"ts\"].min(), continuous_update=False),\n",
    "    max_time=ipywidgets.FloatSlider(value=df[\"ts\"].max(), min=df[\"ts\"].min(), max=df[\"ts\"].max()+.1, continuous_update=False)\n",
    ")"
   ]
  },
  {
   "cell_type": "code",
   "execution_count": 27,
   "id": "890424d5",
   "metadata": {},
   "outputs": [
    {
     "data": {
      "application/vnd.jupyter.widget-view+json": {
       "model_id": "423c8cb77c414103844a6e4f1601561f",
       "version_major": 2,
       "version_minor": 0
      },
      "text/plain": [
       "interactive(children=(FloatSlider(value=5.0, continuous_update=False, description='hist_length', max=50.166666…"
      ]
     },
     "metadata": {},
     "output_type": "display_data"
    },
    {
     "data": {
      "text/plain": [
       "<function __main__.plot_collision_distance(hist_length, max_time)>"
      ]
     },
     "execution_count": 27,
     "metadata": {},
     "output_type": "execute_result"
    }
   ],
   "source": [
    "def plot_collision_distance(hist_length, max_time):\n",
    "    sample = df[(df[\"ts\"] >= max_time-hist_length) & (df[\"ts\"] <= max_time)]\n",
    "    plt.scatter(sample[\"ts\"], sample[\"o.ct_dist\"])\n",
    "    plt.hlines(60+500+500, sample[\"ts\"].min(), sample[\"ts\"].max(), color=\"green\")\n",
    "    plt.hlines(60+500, sample[\"ts\"].min(), sample[\"ts\"].max(), color=\"orange\")\n",
    "    plt.hlines(330, sample[\"ts\"].min(), sample[\"ts\"].max(), color=\"red\")\n",
    "    plt.hlines(60, sample[\"ts\"].min(), sample[\"ts\"].max(), color=\"red\")\n",
    "    plt.ylim(0)\n",
    "    plt.title(\"distance to collision threat\")\n",
    "    print(sample[\"o.ct_dist\"].min())\n",
    "\n",
    "ipywidgets.interact(\n",
    "    plot_collision_distance,\n",
    "    hist_length=ipywidgets.FloatSlider(value=5, min=0, max=df[\"ts\"].max()-df[\"ts\"].min(), continuous_update=False),\n",
    "    max_time=ipywidgets.FloatSlider(value=df[\"ts\"].max(), min=df[\"ts\"].min(), max=df[\"ts\"].max()+.1, continuous_update=False)\n",
    ")"
   ]
  },
  {
   "cell_type": "code",
   "execution_count": 28,
   "id": "a3ce3d2d",
   "metadata": {},
   "outputs": [
    {
     "data": {
      "text/plain": [
       "<matplotlib.collections.PathCollection at 0x7f51e8f6e800>"
      ]
     },
     "execution_count": 28,
     "metadata": {},
     "output_type": "execute_result"
    },
    {
     "data": {
      "image/png": "[encoded data removed]",
      "text/plain": [
       "<Figure size 432x288 with 2 Axes>"
      ]
     },
     "metadata": {
      "needs_background": "light"
     },
     "output_type": "display_data"
    }
   ],
   "source": [
    "fig, ax1 = plt.subplots()\n",
    "ax2 = ax1.twinx()\n",
    "\n",
    "ax1.scatter(df[\"ts\"], 1-df[\"o.ct\"].isna().astype(int))\n",
    "ax2.scatter(df[\"ts\"], df[\"ts\"] - df[\"o.ct_ts\"], color=\"orange\")\n",
    "\n",
    "#ax2.set_ylim(0,(df[\"ts\"] - df[\"o.ct_ts\"]).max()*1.2)"
   ]
  },
  {
   "cell_type": "code",
   "execution_count": 29,
   "id": "9c947c36",
   "metadata": {},
   "outputs": [
    {
     "data": {
      "text/plain": [
       "(0.033333333333333, 50.19999999999843)"
      ]
     },
     "execution_count": 29,
     "metadata": {},
     "output_type": "execute_result"
    },
    {
     "data": {
      "image/png": "[encoded data removed]",
      "text/plain": [
       "<Figure size 432x288 with 1 Axes>"
      ]
     },
     "metadata": {
      "needs_background": "light"
     },
     "output_type": "display_data"
    }
   ],
   "source": [
    "plt.scatter(df[\"ts\"], df[\"o.ct_ct\"])\n",
    "plt.title(\"number of coalesced threats\")\n",
    "plt.xlim(df[\"ts\"].min(), df[\"ts\"].max())"
   ]
  },
  {
   "cell_type": "code",
   "execution_count": 30,
   "id": "10290387",
   "metadata": {},
   "outputs": [
    {
     "data": {
      "text/plain": [
       "<matplotlib.collections.PathCollection at 0x7f51e8f4fd60>"
      ]
     },
     "execution_count": 30,
     "metadata": {},
     "output_type": "execute_result"
    },
    {
     "data": {
      "image/png": "[encoded data removed]",
      "text/plain": [
       "<Figure size 432x288 with 1 Axes>"
      ]
     },
     "metadata": {
      "needs_background": "light"
     },
     "output_type": "display_data"
    }
   ],
   "source": [
    "plt.scatter(df[\"ts\"], df[\"o.ct_cradius\"])"
   ]
  },
  {
   "cell_type": "code",
   "execution_count": 31,
   "id": "03a6b3aa",
   "metadata": {},
   "outputs": [
    {
     "data": {
      "image/png": "[encoded data removed]",
      "text/plain": [
       "<Figure size 432x288 with 1 Axes>"
      ]
     },
     "metadata": {
      "needs_background": "light"
     },
     "output_type": "display_data"
    }
   ],
   "source": [
    "plt.scatter(df[\"ts\"], df[\"o.nd\"]*np.pi*10000**2)\n",
    "plt.title(\"neighborhood size (10km^2)\")\n",
    "plt.show()"
   ]
  },
  {
   "cell_type": "code",
   "execution_count": 32,
   "id": "5e817d73",
   "metadata": {},
   "outputs": [
    {
     "data": {
      "application/vnd.jupyter.widget-view+json": {
       "model_id": "fc5fc4eb5faa41c2bad7af1895f4fa45",
       "version_major": 2,
       "version_minor": 0
      },
      "text/plain": [
       "interactive(children=(FloatSlider(value=5.0, continuous_update=False, description='hist_length', max=50.166666…"
      ]
     },
     "metadata": {},
     "output_type": "display_data"
    },
    {
     "data": {
      "text/plain": [
       "<function __main__.plot_collision_dv(hist_length, max_time)>"
      ]
     },
     "execution_count": 32,
     "metadata": {},
     "output_type": "execute_result"
    }
   ],
   "source": [
    "def plot_collision_dv(hist_length, max_time):\n",
    "    sample = df[(df[\"ts\"] >= max_time - hist_length) & (df[\"ts\"] <= max_time)]\n",
    "    plt.scatter(sample[\"ts\"], sample[\"o.ct_dv.x\"])\n",
    "    plt.scatter(sample[\"ts\"], sample[\"o.ct_dv.y\"])\n",
    "    plt.title(\"collision avoidance velocity\")\n",
    "\n",
    "ipywidgets.interact(\n",
    "    plot_collision_dv,\n",
    "    hist_length=ipywidgets.FloatSlider(value=5, min=0, max=df[\"ts\"].max()-df[\"ts\"].min(), continuous_update=False),\n",
    "    max_time=ipywidgets.FloatSlider(value=df[\"ts\"].max(), min=df[\"ts\"].min(), max=df[\"ts\"].max()+.1, continuous_update=False))"
   ]
  },
  {
   "cell_type": "markdown",
   "id": "12a7d799",
   "metadata": {},
   "source": [
    "# History Visualization"
   ]
  },
  {
   "cell_type": "markdown",
   "id": "e7b61368",
   "metadata": {},
   "source": [
    "## Position and Velocity"
   ]
  },
  {
   "cell_type": "code",
   "execution_count": 33,
   "id": "05fc6ec3",
   "metadata": {
    "scrolled": false
   },
   "outputs": [
    {
     "data": {
      "application/vnd.jupyter.widget-view+json": {
       "model_id": "af85c5e127f54ce7b4b61c6851139e39",
       "version_major": 2,
       "version_minor": 0
      },
      "text/plain": [
       "interactive(children=(FloatSlider(value=5.0, continuous_update=False, description='hist_length', max=50.166666…"
      ]
     },
     "metadata": {},
     "output_type": "display_data"
    },
    {
     "data": {
      "text/plain": [
       "<function __main__.plot_collision_chart(hist_length=50.19999999999843, max_time=50.19999999999843, sampling_interval=50, show_tloc=True, show_tv=True, show_ctdv=True, show_v=True)>"
      ]
     },
     "execution_count": 33,
     "metadata": {},
     "output_type": "execute_result"
    }
   ],
   "source": [
    "def plot_collision_chart(hist_length=df[\"ts\"].max(), max_time=df[\"ts\"].max(), sampling_interval=50, show_tloc=True, show_tv=True, show_ctdv=True, show_v=True):\n",
    "    plt.figure(figsize=(10, 10))\n",
    "    sample = df[(df[\"ts\"] >= max_time - hist_length) & (df[\"ts\"] <= max_time)].iloc[::sampling_interval]\n",
    "    if show_v:\n",
    "        plt.quiver(sample[\"loc.x\"], sample[\"loc.y\"], sample[\"v.x\"], sample[\"v.y\"], label=\"v\")\n",
    "    ctdv_df = sample[~(sample[\"o.ct_dv\"].isna())]\n",
    "    if show_ctdv:\n",
    "        plt.quiver(ctdv_df[\"loc.x\"], ctdv_df[\"loc.y\"], ctdv_df[\"o.ct_dv.x\"]+ctdv_df[\"v.x\"], ctdv_df[\"o.ct_dv.y\"]+ctdv_df[\"v.y\"], label=\"ctdv\", color=\"orange\")\n",
    "    if show_tv:\n",
    "        plt.quiver(sample[\"loc.x\"], sample[\"loc.y\"], sample[\"o.t_v.x\"], sample[\"o.t_v.y\"], label=\"tv\", color=\"purple\")\n",
    "    \n",
    "    plt.quiver(sample[\"o.ct_loc.x\"], sample[\"o.ct_loc.y\"], sample[\"o.ct_v.x\"], sample[\"o.ct_v.y\"])\n",
    "    cmap = plt.get_cmap('viridis')\n",
    "    for x, c in zip(df[\"o.ct\"].unique(), cmap(np.linspace(0, 1, len(df[\"o.ct\"].unique())))):\n",
    "        if not isinstance(x, str):\n",
    "            continue\n",
    "        ct = sample[sample[\"o.ct\"] == x]\n",
    "        if len(ct) == 0:\n",
    "            continue\n",
    "        plt.scatter(ct[\"o.ct_loc.x\"], ct[\"o.ct_loc.y\"], color=c, label=x[:8])\n",
    "        \n",
    "        t_next = 10\n",
    "        x, y = ct.iloc[-1][\"o.ct_loc.x\"], ct.iloc[-1][\"o.ct_loc.y\"]\n",
    "        x_next, y_next = ct.iloc[-1][\"o.ct_loc.x\"]+ct.iloc[-1][\"o.ct_v.x\"]*t_next, ct.iloc[-1][\"o.ct_loc.y\"]+ct.iloc[-1][\"o.ct_v.y\"]*t_next\n",
    "        if not np.allclose((x, y), (x_next, y_next)):\n",
    "            plt.axline((x,y),(x_next,y_next), marker = 'x', color=c, dashes=[2,2])\n",
    "    \n",
    "    cloc_df = sample[~(sample[\"o.ct_cloc\"].isna())]\n",
    "    if len(cloc_df) > 0:\n",
    "        cloc_x = cloc_df.iloc[-1][\"o.ct_cloc.x\"]\n",
    "        cloc_y = cloc_df.iloc[-1][\"o.ct_cloc.y\"]\n",
    "        cradius = cloc_df.iloc[-1][\"o.ct_cradius\"]\n",
    "        threat_radius = plt.Circle((cloc_x, cloc_y), cradius, color=\"red\", fill=False)\n",
    "        margin = plt.Circle((cloc_x, cloc_y), cradius+30+500, color=\"orange\", fill=False)\n",
    "        margin_hist = plt.Circle((cloc_x, cloc_y), cradius+30+500*2, color=\"green\", fill=False)\n",
    "        plt.gca().add_patch(threat_radius)\n",
    "        plt.gca().add_patch(margin)\n",
    "        plt.gca().add_patch(margin_hist)\n",
    "        print(cradius)\n",
    "    \n",
    "    if show_tloc:\n",
    "        plt.scatter(sample[\"o.t_loc.x\"], sample[\"o.t_loc.y\"], label=\"t_loc\")\n",
    "        for ((tloc_x, tloc_y), ad, md) in sample.groupby([\"o.t_loc.x\", \"o.t_loc.y\"]).agg({\"o.t_loc\": \"min\", \"o.ad\":\"min\", \"o.md\":\"min\"}).values:\n",
    "            arrival_dist = plt.Circle((tloc_x, tloc_y), ad, color=\"green\", fill=False)\n",
    "            min_dist = plt.Circle((tloc_x, tloc_y), md, color=\"red\", fill=False)\n",
    "            plt.gca().add_patch(arrival_dist)\n",
    "            plt.gca().add_patch(min_dist)\n",
    "            \n",
    "    t_next = 10\n",
    "    x, y = sample.iloc[-1][\"loc.x\"], sample.iloc[-1][\"loc.y\"]\n",
    "    x_next, y_next = sample.iloc[-1][\"loc.x\"]+sample.iloc[-1][\"v.x\"]*t_next, sample.iloc[-1][\"loc.y\"]+sample.iloc[-1][\"v.y\"]*t_next\n",
    "    if not np.allclose((x, y), (x_next, y_next)):\n",
    "        plt.axline((x,y),(x_next,y_next),marker = 'o')\n",
    "    \n",
    "    plt.axis('equal')\n",
    "    #center = (-33555, -5000)\n",
    "    #radius = 15000\n",
    "    #plt.xlim(center[0]-radius,center[0]+radius)\n",
    "    #plt.ylim(center[1]-radius,center[1]+radius)\n",
    "\n",
    "    plt.legend()\n",
    "    plt.show()\n",
    "    \n",
    "ipywidgets.interact(\n",
    "    plot_collision_chart,\n",
    "    hist_length=ipywidgets.FloatSlider(value=5, min=0, max=df[\"ts\"].max()-df[\"ts\"].min(), continuous_update=False),\n",
    "    max_time=ipywidgets.FloatSlider(step=1/60, value=df[\"ts\"].max()+1/60, min=df[\"ts\"].min(), max=df[\"ts\"].max()+1/60, continuous_update=False),\n",
    "    sampling_interval=ipywidgets.IntSlider(value=20, min=1, max=100, continuous_update=False),\n",
    "    show_tloc=ipywidgets.Checkbox(value=True),\n",
    "    show_tv=ipywidgets.Checkbox(value=True),\n",
    "    show_ctdv=ipywidgets.Checkbox(value=True),\n",
    "    show_v=ipywidgets.Checkbox(value=True),\n",
    ")"
   ]
  },
  {
   "cell_type": "markdown",
   "id": "6e5e3aad",
   "metadata": {},
   "source": [
    "## Position and Heading"
   ]
  },
  {
   "cell_type": "code",
   "execution_count": 34,
   "id": "2f7475c2",
   "metadata": {
    "scrolled": false
   },
   "outputs": [
    {
     "data": {
      "application/vnd.jupyter.widget-view+json": {
       "model_id": "8dead81925c2432eba1e16442aee2e63",
       "version_major": 2,
       "version_minor": 0
      },
      "text/plain": [
       "interactive(children=(FloatSlider(value=5.0, continuous_update=False, description='hist_length', max=50.166666…"
      ]
     },
     "metadata": {},
     "output_type": "display_data"
    },
    {
     "data": {
      "text/plain": [
       "<function __main__.plot_collision_chart(hist_length=50.19999999999843, max_time=50.19999999999843)>"
      ]
     },
     "execution_count": 34,
     "metadata": {},
     "output_type": "execute_result"
    }
   ],
   "source": [
    "def plot_collision_chart(hist_length=df[\"ts\"].max(), max_time=df[\"ts\"].max()):\n",
    "    sample = df[(df[\"ts\"] >= max_time - hist_length) & (df[\"ts\"] <= max_time)]#.iloc[::30]\n",
    "    plt.quiver(sample[\"loc.x\"], sample[\"loc.y\"], sample[\"angle.x\"], sample[\"angle.y\"], label=\"ship\")\n",
    "    ctdv_df = sample[~(sample[\"o.ct_dv\"].isna())]\n",
    "    plt.quiver(ctdv_df[\"loc.x\"], ctdv_df[\"loc.y\"], ctdv_df[\"o.ct_dv.x\"], ctdv_df[\"o.ct_dv.y\"], label=\"ctdv\", color=\"orange\")\n",
    "    plt.quiver(sample[\"loc.x\"], sample[\"loc.y\"], sample[\"o.t_v.x\"], sample[\"o.t_v.y\"], label=\"tv\", color=\"purple\")\n",
    "    cmap = plt.get_cmap('viridis')\n",
    "    #for x, c in zip(df[\"o.ct\"].unique(), cmap(np.linspace(0, 1, len(sample[\"o.ct\"].unique())))):\n",
    "    #    print(x)\n",
    "    #    if not isinstance(x, str):\n",
    "    #        continue\n",
    "    #    ct = sample[sample[\"o.ct\"] == x]\n",
    "    #    plt.scatter(ct[\"o.ct_loc.x\"], ct[\"o.ct_loc.y\"], color=c, label=x[:8])\n",
    "    #plt.scatter(sample[\"o.t_loc.x\"], sample[\"o.t_loc.y\"], label=\"t_loc\")\n",
    "    #plt.axis('square')\n",
    "    #center = (-33555, -5000)\n",
    "    #radius = 15000\n",
    "    #plt.xlim(center[0]-radius,center[0]+radius)\n",
    "    #plt.ylim(center[1]-radius,center[1]+radius)\n",
    "    \n",
    "    plt.legend()\n",
    "    plt.axis('equal')\n",
    "    plt.show()\n",
    "    \n",
    "ipywidgets.interact(plot_collision_chart, hist_length=ipywidgets.FloatSlider(value=5, min=0, max=df[\"ts\"].max()-df[\"ts\"].min(), continuous_update=False), max_time=ipywidgets.FloatSlider(value=df[\"ts\"].max(), min=df[\"ts\"].min(), max=df[\"ts\"].max(), continuous_update=False))"
   ]
  },
  {
   "cell_type": "code",
   "execution_count": 35,
   "id": "03aadc31",
   "metadata": {},
   "outputs": [
    {
     "name": "stdout",
     "output_type": "stream",
     "text": [
      "[list([19117.170259352486, -11241.763871430074]) 1500.0]\n"
     ]
    }
   ],
   "source": [
    "for s in df.groupby([\"o.t_loc.x\", \"o.t_loc.y\"]).agg({\"o.t_loc\":\"min\", \"o.ad\":\"min\"}).values:\n",
    "    print(f'{s}')"
   ]
  },
  {
   "cell_type": "markdown",
   "id": "6e24f370",
   "metadata": {},
   "source": [
    "# "
   ]
  }
 ],
 "metadata": {
  "kernelspec": {
   "display_name": "Python 3 (ipykernel)",
   "language": "python",
   "name": "python3"
  },
  "language_info": {
   "codemirror_mode": {
    "name": "ipython",
    "version": 3
   },
   "file_extension": ".py",
   "mimetype": "text/x-python",
   "name": "python",
   "nbconvert_exporter": "python",
   "pygments_lexer": "ipython3",
   "version": "3.10.1"
  }
 },
 "nbformat": 4,
 "nbformat_minor": 5
}
