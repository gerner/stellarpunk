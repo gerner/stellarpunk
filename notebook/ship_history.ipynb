{
 "cells": [
  {
   "cell_type": "code",
   "execution_count": 1,
   "id": "9c5bbe2a",
   "metadata": {},
   "outputs": [],
   "source": [
    "import json\n",
    "\n",
    "import pandas as pd\n",
    "import numpy as np\n",
    "from matplotlib import pyplot as plt\n",
    "import ipywidgets\n",
    "\n",
    "from stellarpunk import util"
   ]
  },
  {
   "cell_type": "markdown",
   "id": "d6d53462",
   "metadata": {},
   "source": [
    "# Loading and Preparing Data"
   ]
  },
  {
   "cell_type": "code",
   "execution_count": 2,
   "id": "ceb18552",
   "metadata": {},
   "outputs": [],
   "source": [
    "df_base = pd.read_json(\"/tmp/stellarpunk_test.test_many_threats.history.gz\", lines=True)\n",
    "df_base = df_base.join(pd.json_normalize(df_base[\"o\"]).add_prefix(\"o.\"))"
   ]
  },
  {
   "cell_type": "code",
   "execution_count": 3,
   "id": "4be7bc40",
   "metadata": {},
   "outputs": [
    {
     "data": {
      "text/plain": [
       "0    1e1971de-ae1b-42d7-953f-1d1236ae7723\n",
       "1    69443991-5a70-4458-bd34-db55d5a2fcf5\n",
       "2    aa6012e8-2001-47e6-981f-9bfc22f29b25\n",
       "3    29cd59f7-0801-40cf-ace2-6b0f0cf58eee\n",
       "dtype: object"
      ]
     },
     "execution_count": 3,
     "metadata": {},
     "output_type": "execute_result"
    }
   ],
   "source": [
    "eids = pd.Series(df_base[\"eid\"].unique())\n",
    "eids"
   ]
  },
  {
   "cell_type": "code",
   "execution_count": 4,
   "id": "288e3f1e",
   "metadata": {},
   "outputs": [
    {
     "data": {
      "text/plain": [
       "Series([], dtype: object)"
      ]
     },
     "execution_count": 4,
     "metadata": {},
     "output_type": "execute_result"
    }
   ],
   "source": [
    "eids[pd.Series(df_base[\"eid\"].unique()).str.startswith(\"1688\")]"
   ]
  },
  {
   "cell_type": "code",
   "execution_count": 5,
   "id": "c9be6491",
   "metadata": {},
   "outputs": [
    {
     "data": {
      "text/plain": [
       "array(['1e1971de-ae1b-42d7-953f-1d1236ae7723'], dtype=object)"
      ]
     },
     "execution_count": 5,
     "metadata": {},
     "output_type": "execute_result"
    }
   ],
   "source": [
    "target_eid = df_base[\"eid\"].unique()[0]\n",
    "df_base = df_base[df_base[\"eid\"] == target_eid].reset_index()\n",
    "df_base[\"eid\"].unique()"
   ]
  },
  {
   "cell_type": "code",
   "execution_count": 6,
   "id": "b77f957c",
   "metadata": {},
   "outputs": [],
   "source": [
    "loc = pd.DataFrame(np.vstack(df_base[\"loc\"]), columns=[\"loc.x\", \"loc.y\"])\n",
    "v = pd.DataFrame(np.vstack(df_base[\"v\"]), columns=[\"v.x\", \"v.y\"])\n",
    "\n",
    "empty_array = np.empty(len(df_base))\n",
    "empty_array[:] = np.nan\n",
    "\n",
    "if \"o.t_loc\" in df_base:\n",
    "    o_tloc = pd.DataFrame(np.vstack(df_base[\"o.t_loc\"].apply(lambda x: (np.nan, np.nan) if np.all(np.isnan(x)) else x)), columns=[\"o.t_loc.x\", \"o.t_loc.y\"])\n",
    "    o_tv = pd.DataFrame(np.vstack(df_base[\"o.t_v\"].apply(lambda x: (np.nan, np.nan) if np.all(np.isnan(x)) else x)), columns=[\"o.t_v.x\", \"o.t_v.y\"])\n",
    "else:\n",
    "    o_tloc = pd.DataFrame({\"o.t_loc\": empty_array, \"o.t_loc.x\": empty_array, \"o.t_loc.y\": empty_array})\n",
    "    o_tv = pd.DataFrame({\"o.t_v\": empty_array, \"o.t_v.x\": empty_array, \"o.t_v.y\": empty_array})\n",
    "    \n",
    "if \"o.ct\" in df_base:\n",
    "    o_ctloc = pd.DataFrame(np.vstack(df_base[\"o.ct_loc\"].apply(lambda x: (np.nan, np.nan) if np.all(np.isnan(x)) else x)), columns=[\"o.ct_loc.x\", \"o.ct_loc.y\"])\n",
    "    o_ctdv = pd.DataFrame(np.vstack(df_base[\"o.ct_dv\"].apply(lambda x: (np.nan, np.nan) if np.all(np.isnan(x)) else x)), columns=[\"o.ct_dv.x\", \"o.ct_dv.y\"])\n",
    "else:\n",
    "    o_ctloc = pd.DataFrame({\"o.ct_loc\": empty_array, \"o.ct_loc.x\": empty_array, \"o.ct_loc.y\": empty_array})\n",
    "    o_ctdv = pd.DataFrame({\"o.ct_dv\": empty_array, \"o.ct_dv.x\": empty_array, \"o.ct_dv.y\": empty_array})\n",
    "angle = pd.DataFrame(np.vstack(df_base.apply(lambda row: np.array(util.polar_to_cartesian(100, row[\"a\"])), axis=1)), columns=[\"angle.x\", \"angle.y\"])\n",
    "df = pd.concat([df_base, loc, v, o_ctloc, o_ctdv, o_tloc, o_tv, angle], axis=1)\n",
    "\n",
    "if \"o.ct\" not in df_base:\n",
    "    df[\"o.ct\"] = empty_array\n",
    "    df[\"o.ct_ts\"] = empty_array\n",
    "    df[\"o.cac\"] = empty_array\n",
    "    df[\"o.cbdr\"] = empty_array\n",
    "    \n",
    "if \"o.t_loc\" not in df_base:\n",
    "    df[\"o.cs\"] = empty_array"
   ]
  },
  {
   "cell_type": "code",
   "execution_count": 7,
   "id": "6e17314e",
   "metadata": {},
   "outputs": [],
   "source": [
    "df[\"speed\"] = np.linalg.norm(df[[\"v.x\", \"v.y\"]], axis=1)\n",
    "df[\"o_ct_dist\"] = np.linalg.norm(np.vstack(df[\"loc\"]) - np.vstack(df[\"o.ct_loc\"].apply(lambda x: (np.nan, np.nan) if np.all(np.isnan(x)) else x)), axis=1)\n",
    "df[\"o_t_dist\"] = np.linalg.norm(np.vstack(df[\"loc\"]) - np.vstack(df[\"o.t_loc\"].apply(lambda x: (np.nan, np.nan) if np.all(np.isnan(x)) else x)), axis=1)\n",
    "df[\"o_t_speed\"] = np.linalg.norm(df[[\"o.t_v.x\", \"o.t_v.y\"]], axis=1)\n",
    "df[\"f_mag\"] = df[\"f\"].apply(lambda x:np.linalg.norm(x))"
   ]
  },
  {
   "cell_type": "code",
   "execution_count": 8,
   "id": "39640462",
   "metadata": {},
   "outputs": [],
   "source": [
    "df[\"o_ct_v.x\"] = (df[\"o.ct_loc.x\"].shift(1) - df[\"o.ct_loc.x\"]) / (df[\"ts\"].shift(1) - df[\"ts\"])\n",
    "df[\"o_ct_v.y\"] = (df[\"o.ct_loc.y\"].shift(1) - df[\"o.ct_loc.y\"]) / (df[\"ts\"].shift(1) - df[\"ts\"])"
   ]
  },
  {
   "cell_type": "code",
   "execution_count": 9,
   "id": "34fd5383",
   "metadata": {},
   "outputs": [
    {
     "data": {
      "text/html": [
       "<div>\n",
       "<style scoped>\n",
       "    .dataframe tbody tr th:only-of-type {\n",
       "        vertical-align: middle;\n",
       "    }\n",
       "\n",
       "    .dataframe tbody tr th {\n",
       "        vertical-align: top;\n",
       "    }\n",
       "\n",
       "    .dataframe thead th {\n",
       "        text-align: right;\n",
       "    }\n",
       "</style>\n",
       "<table border=\"1\" class=\"dataframe\">\n",
       "  <thead>\n",
       "    <tr style=\"text-align: right;\">\n",
       "      <th></th>\n",
       "      <th>index</th>\n",
       "      <th>eid</th>\n",
       "      <th>ts</th>\n",
       "      <th>loc</th>\n",
       "      <th>a</th>\n",
       "      <th>v</th>\n",
       "      <th>av</th>\n",
       "      <th>f</th>\n",
       "      <th>t</th>\n",
       "      <th>o</th>\n",
       "      <th>...</th>\n",
       "      <th>o.t_v.y</th>\n",
       "      <th>angle.x</th>\n",
       "      <th>angle.y</th>\n",
       "      <th>speed</th>\n",
       "      <th>o_ct_dist</th>\n",
       "      <th>o_t_dist</th>\n",
       "      <th>o_t_speed</th>\n",
       "      <th>f_mag</th>\n",
       "      <th>o_ct_v.x</th>\n",
       "      <th>o_ct_v.y</th>\n",
       "    </tr>\n",
       "  </thead>\n",
       "  <tbody>\n",
       "    <tr>\n",
       "      <th>0</th>\n",
       "      <td>0</td>\n",
       "      <td>1e1971de-ae1b-42d7-953f-1d1236ae7723</td>\n",
       "      <td>0.000000</td>\n",
       "      <td>[-156674.0598399779, 15096.653664246307]</td>\n",
       "      <td>6.710021</td>\n",
       "      <td>[-566.413704366243, -427.2391616051364]</td>\n",
       "      <td>0.220455</td>\n",
       "      <td>[3991.7686372857193, 3010.94389625282]</td>\n",
       "      <td>900000.000000</td>\n",
       "      <td>{'o': 'stellarpunk.orders.GoToLocation', 'nnd'...</td>\n",
       "      <td>...</td>\n",
       "      <td>-397.869550</td>\n",
       "      <td>91.028026</td>\n",
       "      <td>41.399257</td>\n",
       "      <td>709.477121</td>\n",
       "      <td>NaN</td>\n",
       "      <td>7584.214250</td>\n",
       "      <td>660.705685</td>\n",
       "      <td>5000.0</td>\n",
       "      <td>NaN</td>\n",
       "      <td>NaN</td>\n",
       "    </tr>\n",
       "    <tr>\n",
       "      <th>1</th>\n",
       "      <td>1</td>\n",
       "      <td>1e1971de-ae1b-42d7-953f-1d1236ae7723</td>\n",
       "      <td>0.016667</td>\n",
       "      <td>[-156683.50006838402, 15089.533011552889]</td>\n",
       "      <td>6.713695</td>\n",
       "      <td>[-566.380439627599, -427.214070406001]</td>\n",
       "      <td>0.237122</td>\n",
       "      <td>[3991.7686372857243, 3010.9438962528134]</td>\n",
       "      <td>900000.000000</td>\n",
       "      <td>{'o': 'stellarpunk.orders.GoToLocation', 'nnd'...</td>\n",
       "      <td>...</td>\n",
       "      <td>-395.661582</td>\n",
       "      <td>90.875300</td>\n",
       "      <td>41.733437</td>\n",
       "      <td>709.435455</td>\n",
       "      <td>NaN</td>\n",
       "      <td>7572.389631</td>\n",
       "      <td>657.039115</td>\n",
       "      <td>5000.0</td>\n",
       "      <td>NaN</td>\n",
       "      <td>NaN</td>\n",
       "    </tr>\n",
       "    <tr>\n",
       "      <th>2</th>\n",
       "      <td>2</td>\n",
       "      <td>1e1971de-ae1b-42d7-953f-1d1236ae7723</td>\n",
       "      <td>0.033333</td>\n",
       "      <td>[-156692.9397423778, 15082.412777046122]</td>\n",
       "      <td>6.717647</td>\n",
       "      <td>[-566.347174888955, -427.18897920686555]</td>\n",
       "      <td>0.253789</td>\n",
       "      <td>[3991.768637285718, 3010.943896252821]</td>\n",
       "      <td>900000.000000</td>\n",
       "      <td>{'o': 'stellarpunk.orders.GoToLocation', 'nnd'...</td>\n",
       "      <td>...</td>\n",
       "      <td>-393.464663</td>\n",
       "      <td>90.709659</td>\n",
       "      <td>42.092252</td>\n",
       "      <td>709.393788</td>\n",
       "      <td>NaN</td>\n",
       "      <td>7560.565707</td>\n",
       "      <td>653.390891</td>\n",
       "      <td>5000.0</td>\n",
       "      <td>NaN</td>\n",
       "      <td>NaN</td>\n",
       "    </tr>\n",
       "    <tr>\n",
       "      <th>3</th>\n",
       "      <td>3</td>\n",
       "      <td>1e1971de-ae1b-42d7-953f-1d1236ae7723</td>\n",
       "      <td>0.050000</td>\n",
       "      <td>[-156702.3788619593, 15075.292960726007]</td>\n",
       "      <td>6.721877</td>\n",
       "      <td>[-566.313910150311, -427.1638880077301]</td>\n",
       "      <td>0.270455</td>\n",
       "      <td>[3991.768637285712, 3010.943896252829]</td>\n",
       "      <td>900000.000000</td>\n",
       "      <td>{'o': 'stellarpunk.orders.GoToLocation', 'nnd'...</td>\n",
       "      <td>...</td>\n",
       "      <td>-391.278772</td>\n",
       "      <td>90.530806</td>\n",
       "      <td>42.475559</td>\n",
       "      <td>709.352121</td>\n",
       "      <td>NaN</td>\n",
       "      <td>7548.742477</td>\n",
       "      <td>649.760981</td>\n",
       "      <td>5000.0</td>\n",
       "      <td>NaN</td>\n",
       "      <td>NaN</td>\n",
       "    </tr>\n",
       "    <tr>\n",
       "      <th>4</th>\n",
       "      <td>4</td>\n",
       "      <td>1e1971de-ae1b-42d7-953f-1d1236ae7723</td>\n",
       "      <td>0.066667</td>\n",
       "      <td>[-156711.81742712847, 15068.173562592545]</td>\n",
       "      <td>6.726385</td>\n",
       "      <td>[-566.280645411667, -427.1387968085947]</td>\n",
       "      <td>0.287122</td>\n",
       "      <td>[3991.7686372856974, 3010.943896252849]</td>\n",
       "      <td>900000.000000</td>\n",
       "      <td>{'o': 'stellarpunk.orders.GoToLocation', 'nnd'...</td>\n",
       "      <td>...</td>\n",
       "      <td>-389.103888</td>\n",
       "      <td>90.338425</td>\n",
       "      <td>42.883202</td>\n",
       "      <td>709.310455</td>\n",
       "      <td>NaN</td>\n",
       "      <td>7536.919942</td>\n",
       "      <td>646.149350</td>\n",
       "      <td>5000.0</td>\n",
       "      <td>NaN</td>\n",
       "      <td>NaN</td>\n",
       "    </tr>\n",
       "    <tr>\n",
       "      <th>...</th>\n",
       "      <td>...</td>\n",
       "      <td>...</td>\n",
       "      <td>...</td>\n",
       "      <td>...</td>\n",
       "      <td>...</td>\n",
       "      <td>...</td>\n",
       "      <td>...</td>\n",
       "      <td>...</td>\n",
       "      <td>...</td>\n",
       "      <td>...</td>\n",
       "      <td>...</td>\n",
       "      <td>...</td>\n",
       "      <td>...</td>\n",
       "      <td>...</td>\n",
       "      <td>...</td>\n",
       "      <td>...</td>\n",
       "      <td>...</td>\n",
       "      <td>...</td>\n",
       "      <td>...</td>\n",
       "      <td>...</td>\n",
       "      <td>...</td>\n",
       "    </tr>\n",
       "    <tr>\n",
       "      <th>662</th>\n",
       "      <td>662</td>\n",
       "      <td>1e1971de-ae1b-42d7-953f-1d1236ae7723</td>\n",
       "      <td>11.033333</td>\n",
       "      <td>[-162060.14150932216, 11582.016783530882]</td>\n",
       "      <td>6.037674</td>\n",
       "      <td>[-282.31121393972626, -333.99425919822727]</td>\n",
       "      <td>0.155588</td>\n",
       "      <td>[490015.2974190634, -99423.3790177483]</td>\n",
       "      <td>-42812.098772</td>\n",
       "      <td>{'o': 'stellarpunk.orders.GoToLocation', 'ct':...</td>\n",
       "      <td>...</td>\n",
       "      <td>-29.610022</td>\n",
       "      <td>97.001323</td>\n",
       "      <td>-24.305212</td>\n",
       "      <td>437.323435</td>\n",
       "      <td>70.511835</td>\n",
       "      <td>1247.011599</td>\n",
       "      <td>35.082496</td>\n",
       "      <td>500000.0</td>\n",
       "      <td>-497.671852</td>\n",
       "      <td>-228.140388</td>\n",
       "    </tr>\n",
       "    <tr>\n",
       "      <th>663</th>\n",
       "      <td>663</td>\n",
       "      <td>1e1971de-ae1b-42d7-953f-1d1236ae7723</td>\n",
       "      <td>11.050000</td>\n",
       "      <td>[-162064.84669622115, 11576.450212544245]</td>\n",
       "      <td>6.040267</td>\n",
       "      <td>[-278.2277531279007, -334.8227873567085]</td>\n",
       "      <td>0.154795</td>\n",
       "      <td>[490983.50542574364, -94526.17309427458]</td>\n",
       "      <td>620399.653964</td>\n",
       "      <td>{'o': 'stellarpunk.orders.GoToLocation', 'ct':...</td>\n",
       "      <td>...</td>\n",
       "      <td>-29.053779</td>\n",
       "      <td>97.064024</td>\n",
       "      <td>-24.053593</td>\n",
       "      <td>435.335482</td>\n",
       "      <td>67.000215</td>\n",
       "      <td>1239.790230</td>\n",
       "      <td>34.406077</td>\n",
       "      <td>500000.0</td>\n",
       "      <td>-493.670330</td>\n",
       "      <td>-229.301826</td>\n",
       "    </tr>\n",
       "    <tr>\n",
       "      <th>664</th>\n",
       "      <td>664</td>\n",
       "      <td>1e1971de-ae1b-42d7-953f-1d1236ae7723</td>\n",
       "      <td>11.066667</td>\n",
       "      <td>[-162069.48382543997, 11570.869832754966]</td>\n",
       "      <td>6.042847</td>\n",
       "      <td>[-274.1362239160195, -335.61050546582743]</td>\n",
       "      <td>0.166284</td>\n",
       "      <td>[491127.96592557704, -93772.7097070637]</td>\n",
       "      <td>-69608.305192</td>\n",
       "      <td>{'o': 'stellarpunk.orders.GoToLocation', 'ct':...</td>\n",
       "      <td>...</td>\n",
       "      <td>-28.339789</td>\n",
       "      <td>97.125757</td>\n",
       "      <td>-23.803095</td>\n",
       "      <td>433.341760</td>\n",
       "      <td>63.536211</td>\n",
       "      <td>1232.594399</td>\n",
       "      <td>33.544569</td>\n",
       "      <td>500000.0</td>\n",
       "      <td>-489.664324</td>\n",
       "      <td>-230.447700</td>\n",
       "    </tr>\n",
       "    <tr>\n",
       "      <th>665</th>\n",
       "      <td>665</td>\n",
       "      <td>1e1971de-ae1b-42d7-953f-1d1236ae7723</td>\n",
       "      <td>11.083333</td>\n",
       "      <td>[-162074.05276250522, 11565.276324330536]</td>\n",
       "      <td>6.045619</td>\n",
       "      <td>[-270.0434908666397, -336.3919447133863]</td>\n",
       "      <td>0.164995</td>\n",
       "      <td>[491267.6704844612, -93038.03489310629]</td>\n",
       "      <td>-106778.117797</td>\n",
       "      <td>{'o': 'stellarpunk.orders.GoToLocation', 'ct':...</td>\n",
       "      <td>...</td>\n",
       "      <td>-27.793329</td>\n",
       "      <td>97.191352</td>\n",
       "      <td>-23.533830</td>\n",
       "      <td>431.373420</td>\n",
       "      <td>60.127726</td>\n",
       "      <td>1225.424618</td>\n",
       "      <td>32.883016</td>\n",
       "      <td>500000.0</td>\n",
       "      <td>-485.653908</td>\n",
       "      <td>-231.578043</td>\n",
       "    </tr>\n",
       "    <tr>\n",
       "      <th>666</th>\n",
       "      <td>666</td>\n",
       "      <td>1e1971de-ae1b-42d7-953f-1d1236ae7723</td>\n",
       "      <td>11.100000</td>\n",
       "      <td>[-162078.553487353, 11559.669791918646]</td>\n",
       "      <td>6.048369</td>\n",
       "      <td>[-364.6407424583026, -347.53100060684454]</td>\n",
       "      <td>0.229170</td>\n",
       "      <td>[-4227.862731986102, 2669.3026653946567]</td>\n",
       "      <td>900000.000000</td>\n",
       "      <td>{'o': 'stellarpunk.orders.GoToLocation', 'ct':...</td>\n",
       "      <td>...</td>\n",
       "      <td>-26.442725</td>\n",
       "      <td>97.255700</td>\n",
       "      <td>-23.266473</td>\n",
       "      <td>503.726779</td>\n",
       "      <td>1069.990357</td>\n",
       "      <td>1218.280859</td>\n",
       "      <td>31.271977</td>\n",
       "      <td>5000.0</td>\n",
       "      <td>3424.722245</td>\n",
       "      <td>-64406.441319</td>\n",
       "    </tr>\n",
       "  </tbody>\n",
       "</table>\n",
       "<p>667 rows × 44 columns</p>\n",
       "</div>"
      ],
      "text/plain": [
       "     index                                   eid         ts  \\\n",
       "0        0  1e1971de-ae1b-42d7-953f-1d1236ae7723   0.000000   \n",
       "1        1  1e1971de-ae1b-42d7-953f-1d1236ae7723   0.016667   \n",
       "2        2  1e1971de-ae1b-42d7-953f-1d1236ae7723   0.033333   \n",
       "3        3  1e1971de-ae1b-42d7-953f-1d1236ae7723   0.050000   \n",
       "4        4  1e1971de-ae1b-42d7-953f-1d1236ae7723   0.066667   \n",
       "..     ...                                   ...        ...   \n",
       "662    662  1e1971de-ae1b-42d7-953f-1d1236ae7723  11.033333   \n",
       "663    663  1e1971de-ae1b-42d7-953f-1d1236ae7723  11.050000   \n",
       "664    664  1e1971de-ae1b-42d7-953f-1d1236ae7723  11.066667   \n",
       "665    665  1e1971de-ae1b-42d7-953f-1d1236ae7723  11.083333   \n",
       "666    666  1e1971de-ae1b-42d7-953f-1d1236ae7723  11.100000   \n",
       "\n",
       "                                           loc         a  \\\n",
       "0     [-156674.0598399779, 15096.653664246307]  6.710021   \n",
       "1    [-156683.50006838402, 15089.533011552889]  6.713695   \n",
       "2     [-156692.9397423778, 15082.412777046122]  6.717647   \n",
       "3     [-156702.3788619593, 15075.292960726007]  6.721877   \n",
       "4    [-156711.81742712847, 15068.173562592545]  6.726385   \n",
       "..                                         ...       ...   \n",
       "662  [-162060.14150932216, 11582.016783530882]  6.037674   \n",
       "663  [-162064.84669622115, 11576.450212544245]  6.040267   \n",
       "664  [-162069.48382543997, 11570.869832754966]  6.042847   \n",
       "665  [-162074.05276250522, 11565.276324330536]  6.045619   \n",
       "666    [-162078.553487353, 11559.669791918646]  6.048369   \n",
       "\n",
       "                                              v        av  \\\n",
       "0       [-566.413704366243, -427.2391616051364]  0.220455   \n",
       "1        [-566.380439627599, -427.214070406001]  0.237122   \n",
       "2      [-566.347174888955, -427.18897920686555]  0.253789   \n",
       "3       [-566.313910150311, -427.1638880077301]  0.270455   \n",
       "4       [-566.280645411667, -427.1387968085947]  0.287122   \n",
       "..                                          ...       ...   \n",
       "662  [-282.31121393972626, -333.99425919822727]  0.155588   \n",
       "663    [-278.2277531279007, -334.8227873567085]  0.154795   \n",
       "664   [-274.1362239160195, -335.61050546582743]  0.166284   \n",
       "665    [-270.0434908666397, -336.3919447133863]  0.164995   \n",
       "666   [-364.6407424583026, -347.53100060684454]  0.229170   \n",
       "\n",
       "                                            f              t  \\\n",
       "0      [3991.7686372857193, 3010.94389625282]  900000.000000   \n",
       "1    [3991.7686372857243, 3010.9438962528134]  900000.000000   \n",
       "2      [3991.768637285718, 3010.943896252821]  900000.000000   \n",
       "3      [3991.768637285712, 3010.943896252829]  900000.000000   \n",
       "4     [3991.7686372856974, 3010.943896252849]  900000.000000   \n",
       "..                                        ...            ...   \n",
       "662    [490015.2974190634, -99423.3790177483]  -42812.098772   \n",
       "663  [490983.50542574364, -94526.17309427458]  620399.653964   \n",
       "664   [491127.96592557704, -93772.7097070637]  -69608.305192   \n",
       "665   [491267.6704844612, -93038.03489310629] -106778.117797   \n",
       "666  [-4227.862731986102, 2669.3026653946567]  900000.000000   \n",
       "\n",
       "                                                     o  ...     o.t_v.y  \\\n",
       "0    {'o': 'stellarpunk.orders.GoToLocation', 'nnd'...  ... -397.869550   \n",
       "1    {'o': 'stellarpunk.orders.GoToLocation', 'nnd'...  ... -395.661582   \n",
       "2    {'o': 'stellarpunk.orders.GoToLocation', 'nnd'...  ... -393.464663   \n",
       "3    {'o': 'stellarpunk.orders.GoToLocation', 'nnd'...  ... -391.278772   \n",
       "4    {'o': 'stellarpunk.orders.GoToLocation', 'nnd'...  ... -389.103888   \n",
       "..                                                 ...  ...         ...   \n",
       "662  {'o': 'stellarpunk.orders.GoToLocation', 'ct':...  ...  -29.610022   \n",
       "663  {'o': 'stellarpunk.orders.GoToLocation', 'ct':...  ...  -29.053779   \n",
       "664  {'o': 'stellarpunk.orders.GoToLocation', 'ct':...  ...  -28.339789   \n",
       "665  {'o': 'stellarpunk.orders.GoToLocation', 'ct':...  ...  -27.793329   \n",
       "666  {'o': 'stellarpunk.orders.GoToLocation', 'ct':...  ...  -26.442725   \n",
       "\n",
       "       angle.x    angle.y       speed    o_ct_dist     o_t_dist   o_t_speed  \\\n",
       "0    91.028026  41.399257  709.477121          NaN  7584.214250  660.705685   \n",
       "1    90.875300  41.733437  709.435455          NaN  7572.389631  657.039115   \n",
       "2    90.709659  42.092252  709.393788          NaN  7560.565707  653.390891   \n",
       "3    90.530806  42.475559  709.352121          NaN  7548.742477  649.760981   \n",
       "4    90.338425  42.883202  709.310455          NaN  7536.919942  646.149350   \n",
       "..         ...        ...         ...          ...          ...         ...   \n",
       "662  97.001323 -24.305212  437.323435    70.511835  1247.011599   35.082496   \n",
       "663  97.064024 -24.053593  435.335482    67.000215  1239.790230   34.406077   \n",
       "664  97.125757 -23.803095  433.341760    63.536211  1232.594399   33.544569   \n",
       "665  97.191352 -23.533830  431.373420    60.127726  1225.424618   32.883016   \n",
       "666  97.255700 -23.266473  503.726779  1069.990357  1218.280859   31.271977   \n",
       "\n",
       "        f_mag     o_ct_v.x      o_ct_v.y  \n",
       "0      5000.0          NaN           NaN  \n",
       "1      5000.0          NaN           NaN  \n",
       "2      5000.0          NaN           NaN  \n",
       "3      5000.0          NaN           NaN  \n",
       "4      5000.0          NaN           NaN  \n",
       "..        ...          ...           ...  \n",
       "662  500000.0  -497.671852   -228.140388  \n",
       "663  500000.0  -493.670330   -229.301826  \n",
       "664  500000.0  -489.664324   -230.447700  \n",
       "665  500000.0  -485.653908   -231.578043  \n",
       "666    5000.0  3424.722245 -64406.441319  \n",
       "\n",
       "[667 rows x 44 columns]"
      ]
     },
     "execution_count": 9,
     "metadata": {},
     "output_type": "execute_result"
    }
   ],
   "source": [
    "df"
   ]
  },
  {
   "cell_type": "markdown",
   "id": "a6d3cf5e",
   "metadata": {},
   "source": [
    "# Basic Ship Vitals"
   ]
  },
  {
   "cell_type": "markdown",
   "id": "36730903",
   "metadata": {},
   "source": [
    "## Position and Heading"
   ]
  },
  {
   "cell_type": "code",
   "execution_count": 10,
   "id": "665329e8",
   "metadata": {},
   "outputs": [
    {
     "data": {
      "application/vnd.jupyter.widget-view+json": {
       "model_id": "265189c6475d4cb8bca9005f73111226",
       "version_major": 2,
       "version_minor": 0
      },
      "text/plain": [
       "interactive(children=(FloatSlider(value=11.100000000000131, continuous_update=False, description='max_time', m…"
      ]
     },
     "metadata": {},
     "output_type": "display_data"
    },
    {
     "data": {
      "text/plain": [
       "<function __main__.plot_location_chart(max_time)>"
      ]
     },
     "execution_count": 10,
     "metadata": {},
     "output_type": "execute_result"
    }
   ],
   "source": [
    "def plot_location_chart(max_time):\n",
    "    sample = df[df[\"ts\"] <= max_time].iloc[::50]\n",
    "    plt.quiver(sample[\"loc.x\"], sample[\"loc.y\"], sample[\"angle.x\"], sample[\"angle.y\"])#, scale=100)\n",
    "    plt.scatter(sample[\"o.t_loc.x\"], sample[\"o.t_loc.y\"])\n",
    "    #center = (0,2500)\n",
    "    #radius = 10000\n",
    "    #plt.xlim(center[0]-radius,center[0]+radius)\n",
    "    #plt.ylim(center[1]-radius,center[1]+radius)\n",
    "\n",
    "ipywidgets.interact(plot_location_chart, max_time=ipywidgets.FloatSlider(value=df[\"ts\"].max(), min=df[\"ts\"].min(), max=df[\"ts\"].max(), continuous_update=False))"
   ]
  },
  {
   "cell_type": "code",
   "execution_count": 11,
   "id": "86991f05",
   "metadata": {},
   "outputs": [
    {
     "data": {
      "text/html": [
       "<div>\n",
       "<style scoped>\n",
       "    .dataframe tbody tr th:only-of-type {\n",
       "        vertical-align: middle;\n",
       "    }\n",
       "\n",
       "    .dataframe tbody tr th {\n",
       "        vertical-align: top;\n",
       "    }\n",
       "\n",
       "    .dataframe thead th {\n",
       "        text-align: right;\n",
       "    }\n",
       "</style>\n",
       "<table border=\"1\" class=\"dataframe\">\n",
       "  <thead>\n",
       "    <tr style=\"text-align: right;\">\n",
       "      <th></th>\n",
       "      <th>loc.x</th>\n",
       "      <th>loc.y</th>\n",
       "    </tr>\n",
       "  </thead>\n",
       "  <tbody>\n",
       "    <tr>\n",
       "      <th>count</th>\n",
       "      <td>667.000000</td>\n",
       "      <td>667.000000</td>\n",
       "    </tr>\n",
       "    <tr>\n",
       "      <th>mean</th>\n",
       "      <td>-159422.274995</td>\n",
       "      <td>13206.328751</td>\n",
       "    </tr>\n",
       "    <tr>\n",
       "      <th>std</th>\n",
       "      <td>1579.500544</td>\n",
       "      <td>997.640249</td>\n",
       "    </tr>\n",
       "    <tr>\n",
       "      <th>min</th>\n",
       "      <td>-162078.553487</td>\n",
       "      <td>11559.669792</td>\n",
       "    </tr>\n",
       "    <tr>\n",
       "      <th>25%</th>\n",
       "      <td>-160803.898960</td>\n",
       "      <td>12352.793762</td>\n",
       "    </tr>\n",
       "    <tr>\n",
       "      <th>50%</th>\n",
       "      <td>-159381.664377</td>\n",
       "      <td>13116.958058</td>\n",
       "    </tr>\n",
       "    <tr>\n",
       "      <th>75%</th>\n",
       "      <td>-158069.532945</td>\n",
       "      <td>14044.482758</td>\n",
       "    </tr>\n",
       "    <tr>\n",
       "      <th>max</th>\n",
       "      <td>-156674.059840</td>\n",
       "      <td>15096.653664</td>\n",
       "    </tr>\n",
       "  </tbody>\n",
       "</table>\n",
       "</div>"
      ],
      "text/plain": [
       "               loc.x         loc.y\n",
       "count     667.000000    667.000000\n",
       "mean  -159422.274995  13206.328751\n",
       "std      1579.500544    997.640249\n",
       "min   -162078.553487  11559.669792\n",
       "25%   -160803.898960  12352.793762\n",
       "50%   -159381.664377  13116.958058\n",
       "75%   -158069.532945  14044.482758\n",
       "max   -156674.059840  15096.653664"
      ]
     },
     "execution_count": 11,
     "metadata": {},
     "output_type": "execute_result"
    }
   ],
   "source": [
    "df[[\"loc.x\", \"loc.y\"]].describe()"
   ]
  },
  {
   "cell_type": "code",
   "execution_count": 12,
   "id": "e0f37c4c",
   "metadata": {},
   "outputs": [
    {
     "data": {
      "text/plain": [
       "<matplotlib.collections.PathCollection at 0x7fec17da0250>"
      ]
     },
     "execution_count": 12,
     "metadata": {},
     "output_type": "execute_result"
    },
    {
     "data": {
      "image/png": "[encoded data removed]",
      "text/plain": [
       "<Figure size 432x288 with 1 Axes>"
      ]
     },
     "metadata": {
      "needs_background": "light"
     },
     "output_type": "display_data"
    }
   ],
   "source": [
    "plt.scatter(df[\"ts\"], df[\"loc.x\"])\n",
    "plt.scatter(df[\"ts\"], df[\"loc.y\"])"
   ]
  },
  {
   "cell_type": "code",
   "execution_count": 13,
   "id": "b65fd521",
   "metadata": {},
   "outputs": [
    {
     "data": {
      "text/plain": [
       "<matplotlib.legend.Legend at 0x7fec15b84e20>"
      ]
     },
     "execution_count": 13,
     "metadata": {},
     "output_type": "execute_result"
    },
    {
     "data": {
      "image/png": "[encoded data removed]",
      "text/plain": [
       "<Figure size 432x288 with 1 Axes>"
      ]
     },
     "metadata": {
      "needs_background": "light"
     },
     "output_type": "display_data"
    }
   ],
   "source": [
    "plt.scatter(df[\"ts\"], df[\"a\"], label=\"theta\")\n",
    "plt.scatter(df[\"ts\"], df[\"av\"], label=\"omega\")\n",
    "plt.hlines(np.pi, df[\"ts\"].min(), df[\"ts\"].max(), color=\"red\")\n",
    "plt.hlines(0, df[\"ts\"].min(), df[\"ts\"].max(), color=\"red\")\n",
    "plt.legend()"
   ]
  },
  {
   "cell_type": "code",
   "execution_count": 14,
   "id": "e1a4515d",
   "metadata": {},
   "outputs": [
    {
     "data": {
      "text/plain": [
       "<matplotlib.collections.PathCollection at 0x7fec15bacc70>"
      ]
     },
     "execution_count": 14,
     "metadata": {},
     "output_type": "execute_result"
    },
    {
     "data": {
      "image/png": "[encoded data removed]",
      "text/plain": [
       "<Figure size 432x288 with 1 Axes>"
      ]
     },
     "metadata": {
      "needs_background": "light"
     },
     "output_type": "display_data"
    }
   ],
   "source": [
    "plt.scatter(df[\"ts\"], df[\"t\"])"
   ]
  },
  {
   "cell_type": "markdown",
   "id": "4ce26323",
   "metadata": {},
   "source": [
    "## Velocity and Acceleration"
   ]
  },
  {
   "cell_type": "code",
   "execution_count": 15,
   "id": "32a0a440",
   "metadata": {
    "scrolled": true
   },
   "outputs": [
    {
     "data": {
      "text/plain": [
       "<matplotlib.collections.PathCollection at 0x7fec15b21780>"
      ]
     },
     "execution_count": 15,
     "metadata": {},
     "output_type": "execute_result"
    },
    {
     "data": {
      "image/png": "[encoded data removed]",
      "text/plain": [
       "<Figure size 432x288 with 1 Axes>"
      ]
     },
     "metadata": {
      "needs_background": "light"
     },
     "output_type": "display_data"
    }
   ],
   "source": [
    "plt.scatter(df[\"ts\"], df[\"v.x\"])\n",
    "plt.scatter(df[\"ts\"], df[\"v.y\"])"
   ]
  },
  {
   "cell_type": "code",
   "execution_count": 16,
   "id": "7e3172c1",
   "metadata": {
    "scrolled": true
   },
   "outputs": [
    {
     "data": {
      "image/png": "[encoded data removed]",
      "text/plain": [
       "<Figure size 432x288 with 1 Axes>"
      ]
     },
     "metadata": {
      "needs_background": "light"
     },
     "output_type": "display_data"
    }
   ],
   "source": [
    "#plt.scatter(df[\"ts\"], (df[\"v.x\"] - df[\"v.x\"].shift(-1)))#/(df[\"ts\"]-df[\"ts\"].shift(-1)))\n",
    "plt.scatter(df[\"ts\"], (df[\"v.x\"].shift(1) - df[\"v.x\"]) / (df[\"ts\"].shift(1) - df[\"ts\"]))\n",
    "plt.scatter(df[\"ts\"], (df[\"v.y\"].shift(1) - df[\"v.y\"]) / (df[\"ts\"].shift(1) - df[\"ts\"]))\n",
    "plt.yscale(\"symlog\")"
   ]
  },
  {
   "cell_type": "code",
   "execution_count": 17,
   "id": "7754010f",
   "metadata": {},
   "outputs": [
    {
     "data": {
      "image/png": "[encoded data removed]",
      "text/plain": [
       "<Figure size 432x288 with 1 Axes>"
      ]
     },
     "metadata": {
      "needs_background": "light"
     },
     "output_type": "display_data"
    }
   ],
   "source": [
    "plt.scatter(df[\"ts\"], df[\"f_mag\"])\n",
    "plt.yscale(\"log\")"
   ]
  },
  {
   "cell_type": "markdown",
   "id": "4630e3f8",
   "metadata": {},
   "source": [
    "# Behavior Monitoring"
   ]
  },
  {
   "cell_type": "code",
   "execution_count": 18,
   "id": "9e6db2b0",
   "metadata": {},
   "outputs": [
    {
     "data": {
      "application/vnd.jupyter.widget-view+json": {
       "model_id": "66c7dd4563994156a50a61dc3a0a6513",
       "version_major": 2,
       "version_minor": 0
      },
      "text/plain": [
       "interactive(children=(FloatSlider(value=5.0, continuous_update=False, description='hist_length', max=11.100000…"
      ]
     },
     "metadata": {},
     "output_type": "display_data"
    },
    {
     "data": {
      "text/plain": [
       "<function __main__.plot_collision_info(hist_length, max_time)>"
      ]
     },
     "execution_count": 18,
     "metadata": {},
     "output_type": "execute_result"
    }
   ],
   "source": [
    "def plot_collision_info(hist_length, max_time):\n",
    "    sample = df[(df[\"ts\"] >= max_time - hist_length) & (df[\"ts\"] <= max_time)]\n",
    "    plt.scatter(sample[\"ts\"], (~(sample[\"o.ct\"].isna())).astype(int), label=\"ct\")\n",
    "    plt.scatter(sample[\"ts\"], sample[\"o.cs\"].fillna(0).astype(int)+0.05, label=\"cs\")\n",
    "    plt.scatter(sample[\"ts\"], sample[\"o.cac\"].fillna(0).astype(int)+0.1, label=\"cac\")\n",
    "    plt.scatter(sample[\"ts\"], sample[\"o.cbdr\"].fillna(0).astype(int)+0.15, label=\"cbdr\")\n",
    "    plt.legend()\n",
    "\n",
    "ipywidgets.interact(plot_collision_info, hist_length=ipywidgets.FloatSlider(value=5, min=0, max=df[\"ts\"].max()-df[\"ts\"].min(), continuous_update=False), max_time=ipywidgets.FloatSlider(value=df[\"ts\"].max(), min=df[\"ts\"].min(), max=df[\"ts\"].max()+.1, continuous_update=False))"
   ]
  },
  {
   "cell_type": "markdown",
   "id": "94ba2b3d",
   "metadata": {},
   "source": [
    "## Target Location"
   ]
  },
  {
   "cell_type": "code",
   "execution_count": 19,
   "id": "2640e1e5",
   "metadata": {},
   "outputs": [
    {
     "data": {
      "text/html": [
       "<div>\n",
       "<style scoped>\n",
       "    .dataframe tbody tr th:only-of-type {\n",
       "        vertical-align: middle;\n",
       "    }\n",
       "\n",
       "    .dataframe tbody tr th {\n",
       "        vertical-align: top;\n",
       "    }\n",
       "\n",
       "    .dataframe thead tr th {\n",
       "        text-align: left;\n",
       "    }\n",
       "\n",
       "    .dataframe thead tr:last-of-type th {\n",
       "        text-align: right;\n",
       "    }\n",
       "</style>\n",
       "<table border=\"1\" class=\"dataframe\">\n",
       "  <thead>\n",
       "    <tr>\n",
       "      <th></th>\n",
       "      <th></th>\n",
       "      <th colspan=\"3\" halign=\"left\">ts</th>\n",
       "      <th colspan=\"2\" halign=\"left\">o_t_dist</th>\n",
       "    </tr>\n",
       "    <tr>\n",
       "      <th></th>\n",
       "      <th></th>\n",
       "      <th>count</th>\n",
       "      <th>min</th>\n",
       "      <th>max</th>\n",
       "      <th>min</th>\n",
       "      <th>max</th>\n",
       "    </tr>\n",
       "    <tr>\n",
       "      <th>o.t_loc.x</th>\n",
       "      <th>o.t_loc.y</th>\n",
       "      <th></th>\n",
       "      <th></th>\n",
       "      <th></th>\n",
       "      <th></th>\n",
       "      <th></th>\n",
       "    </tr>\n",
       "  </thead>\n",
       "  <tbody>\n",
       "    <tr>\n",
       "      <th>-162728.945556</th>\n",
       "      <th>10529.524943</th>\n",
       "      <td>667</td>\n",
       "      <td>0.0</td>\n",
       "      <td>11.1</td>\n",
       "      <td>1218.280859</td>\n",
       "      <td>7584.21425</td>\n",
       "    </tr>\n",
       "  </tbody>\n",
       "</table>\n",
       "</div>"
      ],
      "text/plain": [
       "                               ts                o_t_dist            \n",
       "                            count  min   max          min         max\n",
       "o.t_loc.x      o.t_loc.y                                             \n",
       "-162728.945556 10529.524943   667  0.0  11.1  1218.280859  7584.21425"
      ]
     },
     "execution_count": 19,
     "metadata": {},
     "output_type": "execute_result"
    }
   ],
   "source": [
    "if np.any(~df[\"o.t_loc\"].isna()):\n",
    "    x = df.groupby([\"o.t_loc.x\", \"o.t_loc.y\"]).agg({\"ts\": [\"count\", \"min\", \"max\"], \"o_t_dist\": [\"min\",\"max\"]})\n",
    "else:\n",
    "    x = \"no location target\"\n",
    "x"
   ]
  },
  {
   "cell_type": "code",
   "execution_count": 20,
   "id": "74d23fb4",
   "metadata": {},
   "outputs": [
    {
     "data": {
      "text/plain": [
       "(1218.2808594347198, 1218.2808594347198)"
      ]
     },
     "execution_count": 20,
     "metadata": {},
     "output_type": "execute_result"
    },
    {
     "data": {
      "image/png": "[encoded data removed]",
      "text/plain": [
       "<Figure size 432x288 with 1 Axes>"
      ]
     },
     "metadata": {
      "needs_background": "light"
     },
     "output_type": "display_data"
    }
   ],
   "source": [
    "#sample = df[(df[\"ts\"] < 124.4) & (df[\"ts\"] > 120)]\n",
    "sample = df\n",
    "plt.scatter(sample[\"ts\"], sample[\"o_t_dist\"])\n",
    "plt.hlines(1000, sample[\"ts\"].min(), sample[\"ts\"].max(), color=\"green\")\n",
    "plt.hlines(900, sample[\"ts\"].min(), sample[\"ts\"].max(), color=\"red\")\n",
    "plt.ylim(0,1200)\n",
    "sample[\"o_t_dist\"].min(),sample[df[\"ts\"] > sample[\"ts\"].max()-1][\"o_t_dist\"].min()"
   ]
  },
  {
   "cell_type": "code",
   "execution_count": 21,
   "id": "4d0bf8d0",
   "metadata": {},
   "outputs": [
    {
     "data": {
      "text/plain": [
       "(0.0, 778.8569233325326)"
      ]
     },
     "execution_count": 21,
     "metadata": {},
     "output_type": "execute_result"
    },
    {
     "data": {
      "image/png": "[encoded data removed]",
      "text/plain": [
       "<Figure size 432x288 with 1 Axes>"
      ]
     },
     "metadata": {
      "needs_background": "light"
     },
     "output_type": "display_data"
    }
   ],
   "source": [
    "plt.scatter(df[\"ts\"], df[\"speed\"], label=\"actual speed\")\n",
    "plt.scatter(df[\"ts\"], df[\"o_t_speed\"], label=\"desired speed\")\n",
    "plt.legend()\n",
    "plt.ylim(0)"
   ]
  },
  {
   "cell_type": "code",
   "execution_count": 22,
   "id": "d7341dc2",
   "metadata": {
    "scrolled": true
   },
   "outputs": [
    {
     "data": {
      "text/plain": [
       "<matplotlib.collections.PathCollection at 0x7fec15648670>"
      ]
     },
     "execution_count": 22,
     "metadata": {},
     "output_type": "execute_result"
    },
    {
     "data": {
      "image/png": "[encoded data removed]",
      "text/plain": [
       "<Figure size 432x288 with 1 Axes>"
      ]
     },
     "metadata": {
      "needs_background": "light"
     },
     "output_type": "display_data"
    }
   ],
   "source": [
    "plt.scatter(df[\"ts\"], df[\"o_t_speed\"] - df[\"speed\"])"
   ]
  },
  {
   "cell_type": "markdown",
   "id": "5ac378ec",
   "metadata": {},
   "source": [
    "## Collision Avoidance"
   ]
  },
  {
   "cell_type": "code",
   "execution_count": 23,
   "id": "f38ca4d8",
   "metadata": {},
   "outputs": [
    {
     "data": {
      "text/html": [
       "<div>\n",
       "<style scoped>\n",
       "    .dataframe tbody tr th:only-of-type {\n",
       "        vertical-align: middle;\n",
       "    }\n",
       "\n",
       "    .dataframe tbody tr th {\n",
       "        vertical-align: top;\n",
       "    }\n",
       "\n",
       "    .dataframe thead tr th {\n",
       "        text-align: left;\n",
       "    }\n",
       "\n",
       "    .dataframe thead tr:last-of-type th {\n",
       "        text-align: right;\n",
       "    }\n",
       "</style>\n",
       "<table border=\"1\" class=\"dataframe\">\n",
       "  <thead>\n",
       "    <tr>\n",
       "      <th></th>\n",
       "      <th colspan=\"3\" halign=\"left\">ts</th>\n",
       "      <th colspan=\"2\" halign=\"left\">o_ct_dist</th>\n",
       "    </tr>\n",
       "    <tr>\n",
       "      <th></th>\n",
       "      <th>count</th>\n",
       "      <th>min</th>\n",
       "      <th>max</th>\n",
       "      <th>min</th>\n",
       "      <th>max</th>\n",
       "    </tr>\n",
       "    <tr>\n",
       "      <th>o.ct</th>\n",
       "      <th></th>\n",
       "      <th></th>\n",
       "      <th></th>\n",
       "      <th></th>\n",
       "      <th></th>\n",
       "    </tr>\n",
       "  </thead>\n",
       "  <tbody>\n",
       "    <tr>\n",
       "      <th>69443991-5a70-4458-bd34-db55d5a2fcf5</th>\n",
       "      <td>148</td>\n",
       "      <td>8.516667</td>\n",
       "      <td>11.083333</td>\n",
       "      <td>60.127726</td>\n",
       "      <td>454.923621</td>\n",
       "    </tr>\n",
       "    <tr>\n",
       "      <th>aa6012e8-2001-47e6-981f-9bfc22f29b25</th>\n",
       "      <td>216</td>\n",
       "      <td>2.250000</td>\n",
       "      <td>11.100000</td>\n",
       "      <td>1069.990357</td>\n",
       "      <td>4826.317290</td>\n",
       "    </tr>\n",
       "  </tbody>\n",
       "</table>\n",
       "</div>"
      ],
      "text/plain": [
       "                                        ts                         o_ct_dist  \\\n",
       "                                     count       min        max          min   \n",
       "o.ct                                                                           \n",
       "69443991-5a70-4458-bd34-db55d5a2fcf5   148  8.516667  11.083333    60.127726   \n",
       "aa6012e8-2001-47e6-981f-9bfc22f29b25   216  2.250000  11.100000  1069.990357   \n",
       "\n",
       "                                                   \n",
       "                                              max  \n",
       "o.ct                                               \n",
       "69443991-5a70-4458-bd34-db55d5a2fcf5   454.923621  \n",
       "aa6012e8-2001-47e6-981f-9bfc22f29b25  4826.317290  "
      ]
     },
     "execution_count": 23,
     "metadata": {},
     "output_type": "execute_result"
    }
   ],
   "source": [
    "if np.any(~df[\"o.ct\"].isna()):\n",
    "    x = df.groupby(\"o.ct\").agg({\"ts\": [\"count\", \"min\", \"max\"], \"o_ct_dist\": [\"min\",\"max\"]})\n",
    "else:\n",
    "    x = \"no collision threats\"\n",
    "x"
   ]
  },
  {
   "cell_type": "code",
   "execution_count": 24,
   "id": "890424d5",
   "metadata": {},
   "outputs": [
    {
     "data": {
      "text/plain": [
       "60.12772643967694"
      ]
     },
     "execution_count": 24,
     "metadata": {},
     "output_type": "execute_result"
    },
    {
     "data": {
      "image/png": "[encoded data removed]",
      "text/plain": [
       "<Figure size 432x288 with 1 Axes>"
      ]
     },
     "metadata": {
      "needs_background": "light"
     },
     "output_type": "display_data"
    }
   ],
   "source": [
    "sample = df\n",
    "plt.scatter(sample[\"ts\"], sample[\"o_ct_dist\"])\n",
    "plt.hlines(60+500+500, sample[\"ts\"].min(), sample[\"ts\"].max(), color=\"green\")\n",
    "plt.hlines(60+500, sample[\"ts\"].min(), sample[\"ts\"].max(), color=\"orange\")\n",
    "plt.hlines(330, sample[\"ts\"].min(), sample[\"ts\"].max(), color=\"red\")\n",
    "plt.hlines(60, sample[\"ts\"].min(), sample[\"ts\"].max(), color=\"red\")\n",
    "plt.ylim(0)\n",
    "df[\"o_ct_dist\"].min()"
   ]
  },
  {
   "cell_type": "code",
   "execution_count": 25,
   "id": "68f7d6c2",
   "metadata": {},
   "outputs": [
    {
     "data": {
      "text/plain": [
       "<matplotlib.collections.PathCollection at 0x7fec156678b0>"
      ]
     },
     "execution_count": 25,
     "metadata": {},
     "output_type": "execute_result"
    },
    {
     "data": {
      "image/png": "[encoded data removed]",
      "text/plain": [
       "<Figure size 432x288 with 1 Axes>"
      ]
     },
     "metadata": {
      "needs_background": "light"
     },
     "output_type": "display_data"
    }
   ],
   "source": [
    "plt.scatter(df[\"ts\"], df[\"o.ct_ct\"])"
   ]
  },
  {
   "cell_type": "code",
   "execution_count": 26,
   "id": "a3ce3d2d",
   "metadata": {},
   "outputs": [
    {
     "data": {
      "text/plain": [
       "<matplotlib.collections.PathCollection at 0x7fec155b0e80>"
      ]
     },
     "execution_count": 26,
     "metadata": {},
     "output_type": "execute_result"
    },
    {
     "data": {
      "image/png": "[encoded data removed]",
      "text/plain": [
       "<Figure size 432x288 with 2 Axes>"
      ]
     },
     "metadata": {
      "needs_background": "light"
     },
     "output_type": "display_data"
    }
   ],
   "source": [
    "fig, ax1 = plt.subplots()\n",
    "ax2 = ax1.twinx()\n",
    "\n",
    "ax1.scatter(df[\"ts\"], 1-df[\"o.ct\"].isna().astype(int))\n",
    "ax2.scatter(df[\"ts\"], df[\"ts\"] - df[\"o.ct_ts\"], color=\"orange\")\n",
    "\n",
    "#ax2.set_ylim(0,(df[\"ts\"] - df[\"o.ct_ts\"]).max()*1.2)"
   ]
  },
  {
   "cell_type": "markdown",
   "id": "12a7d799",
   "metadata": {},
   "source": [
    "# History Visualization"
   ]
  },
  {
   "cell_type": "markdown",
   "id": "e7b61368",
   "metadata": {},
   "source": [
    "## Position and Velocity"
   ]
  },
  {
   "cell_type": "code",
   "execution_count": 27,
   "id": "05fc6ec3",
   "metadata": {},
   "outputs": [
    {
     "data": {
      "application/vnd.jupyter.widget-view+json": {
       "model_id": "ef85a9b0a05e4f43a33c03bd27912cef",
       "version_major": 2,
       "version_minor": 0
      },
      "text/plain": [
       "interactive(children=(FloatSlider(value=5.0, continuous_update=False, description='hist_length', max=11.100000…"
      ]
     },
     "metadata": {},
     "output_type": "display_data"
    },
    {
     "data": {
      "text/plain": [
       "<function __main__.plot_collision_chart(hist_length=11.100000000000131, max_time=11.100000000000131, sampling_interval=50, show_tloc=True)>"
      ]
     },
     "execution_count": 27,
     "metadata": {},
     "output_type": "execute_result"
    }
   ],
   "source": [
    "def plot_collision_chart(hist_length=df[\"ts\"].max(), max_time=df[\"ts\"].max(), sampling_interval=50, show_tloc=True):\n",
    "    print(max_time)\n",
    "    plt.figure(figsize=(10, 10))\n",
    "    sample = df[(df[\"ts\"] >= max_time - hist_length) & (df[\"ts\"] <= max_time)].iloc[::sampling_interval]\n",
    "    plt.quiver(sample[\"loc.x\"], sample[\"loc.y\"], sample[\"v.x\"], sample[\"v.y\"], label=\"v\")\n",
    "    ctdv_df = sample[~(sample[\"o.ct_dv\"].isna())]\n",
    "    plt.quiver(ctdv_df[\"loc.x\"], ctdv_df[\"loc.y\"], ctdv_df[\"o.ct_dv.x\"], ctdv_df[\"o.ct_dv.y\"], label=\"ctdv\", color=\"orange\")\n",
    "    plt.quiver(sample[\"loc.x\"], sample[\"loc.y\"], sample[\"o.t_v.x\"], sample[\"o.t_v.y\"], label=\"tv\", color=\"purple\")\n",
    "    \n",
    "    plt.quiver(sample[\"o.ct_loc.x\"], sample[\"o.ct_loc.y\"], sample[\"o_ct_v.x\"], sample[\"o_ct_v.y\"])\n",
    "    cmap = plt.get_cmap('viridis')\n",
    "    for x, c in zip(df[\"o.ct\"].unique(), cmap(np.linspace(0, 1, len(df[\"o.ct\"].unique())))):\n",
    "        if not isinstance(x, str):\n",
    "            continue\n",
    "        ct = sample[sample[\"o.ct\"] == x]\n",
    "        if len(ct) == 0:\n",
    "            continue\n",
    "        plt.scatter(ct[\"o.ct_loc.x\"], ct[\"o.ct_loc.y\"], color=c, label=x[:8])\n",
    "    if show_tloc:\n",
    "        plt.scatter(sample[\"o.t_loc.x\"], sample[\"o.t_loc.y\"], label=\"t_loc\")\n",
    "        for (tloc_x, tloc_y) in sample.groupby([\"o.t_loc.x\", \"o.t_loc.y\"])[\"o.t_loc\"].min():\n",
    "            arrival_dist = plt.Circle((tloc_x, tloc_y), 1000, color=\"green\", fill=False)\n",
    "            min_dist = plt.Circle((tloc_x, tloc_y), 900, color=\"red\", fill=False)\n",
    "            plt.gca().add_patch(arrival_dist)\n",
    "            plt.gca().add_patch(min_dist)\n",
    "    plt.axis('equal')\n",
    "    #center = (-33555, -5000)\n",
    "    #radius = 15000\n",
    "    #plt.xlim(center[0]-radius,center[0]+radius)\n",
    "    #plt.ylim(center[1]-radius,center[1]+radius)\n",
    "\n",
    "    plt.legend()\n",
    "    plt.show()\n",
    "    \n",
    "ipywidgets.interact(\n",
    "    plot_collision_chart,\n",
    "    hist_length=ipywidgets.FloatSlider(value=5, min=0, max=df[\"ts\"].max()-df[\"ts\"].min(), continuous_update=False),\n",
    "    max_time=ipywidgets.FloatSlider(step=1/60, value=df[\"ts\"].max(), min=df[\"ts\"].min(), max=df[\"ts\"].max(), continuous_update=False),\n",
    "    sampling_interval=ipywidgets.IntSlider(value=20, min=1, max=100, continuous_update=False),\n",
    "    show_tloc=ipywidgets.Checkbox(value=True),\n",
    ")"
   ]
  },
  {
   "cell_type": "markdown",
   "id": "6e5e3aad",
   "metadata": {},
   "source": [
    "## Position and Heading"
   ]
  },
  {
   "cell_type": "code",
   "execution_count": 28,
   "id": "2f7475c2",
   "metadata": {},
   "outputs": [
    {
     "data": {
      "application/vnd.jupyter.widget-view+json": {
       "model_id": "9b32a4069b3e4d55b47fd0b6677670e2",
       "version_major": 2,
       "version_minor": 0
      },
      "text/plain": [
       "interactive(children=(FloatSlider(value=5.0, continuous_update=False, description='hist_length', max=11.100000…"
      ]
     },
     "metadata": {},
     "output_type": "display_data"
    },
    {
     "data": {
      "text/plain": [
       "<function __main__.plot_collision_chart(hist_length=11.100000000000131, max_time=11.100000000000131)>"
      ]
     },
     "execution_count": 28,
     "metadata": {},
     "output_type": "execute_result"
    }
   ],
   "source": [
    "def plot_collision_chart(hist_length=df[\"ts\"].max(), max_time=df[\"ts\"].max()):\n",
    "    sample = df[(df[\"ts\"] >= max_time - hist_length) & (df[\"ts\"] <= max_time)].iloc[::50]\n",
    "    plt.quiver(sample[\"loc.x\"], sample[\"loc.y\"], sample[\"angle.x\"], sample[\"angle.y\"], label=\"ship\")\n",
    "    ctdv_df = sample[~(sample[\"o.ct_dv\"].isna())]\n",
    "    plt.quiver(ctdv_df[\"loc.x\"], ctdv_df[\"loc.y\"], ctdv_df[\"o.ct_dv.x\"], ctdv_df[\"o.ct_dv.y\"], label=\"ctdv\", color=\"orange\")\n",
    "    plt.quiver(sample[\"loc.x\"], sample[\"loc.y\"], sample[\"o.t_v.x\"], sample[\"o.t_v.y\"], label=\"tv\", color=\"purple\")\n",
    "    cmap = plt.get_cmap('viridis')\n",
    "    #for x, c in zip(df[\"o.ct\"].unique(), cmap(np.linspace(0, 1, len(sample[\"o.ct\"].unique())))):\n",
    "    #    print(x)\n",
    "    #    if not isinstance(x, str):\n",
    "    #        continue\n",
    "    #    ct = sample[sample[\"o.ct\"] == x]\n",
    "    #    plt.scatter(ct[\"o.ct_loc.x\"], ct[\"o.ct_loc.y\"], color=c, label=x[:8])\n",
    "    #plt.scatter(sample[\"o.t_loc.x\"], sample[\"o.t_loc.y\"], label=\"t_loc\")\n",
    "    #plt.axis('square')\n",
    "    #center = (-33555, -5000)\n",
    "    #radius = 15000\n",
    "    #plt.xlim(center[0]-radius,center[0]+radius)\n",
    "    #plt.ylim(center[1]-radius,center[1]+radius)\n",
    "\n",
    "    plt.legend()\n",
    "    plt.axis('equal')\n",
    "    plt.show()\n",
    "    \n",
    "ipywidgets.interact(plot_collision_chart, hist_length=ipywidgets.FloatSlider(value=5, min=0, max=df[\"ts\"].max()-df[\"ts\"].min(), continuous_update=False), max_time=ipywidgets.FloatSlider(value=df[\"ts\"].max(), min=df[\"ts\"].min(), max=df[\"ts\"].max(), continuous_update=False))"
   ]
  },
  {
   "cell_type": "markdown",
   "id": "6e24f370",
   "metadata": {},
   "source": [
    "# "
   ]
  }
 ],
 "metadata": {
  "kernelspec": {
   "display_name": "Python 3 (ipykernel)",
   "language": "python",
   "name": "python3"
  },
  "language_info": {
   "codemirror_mode": {
    "name": "ipython",
    "version": 3
   },
   "file_extension": ".py",
   "mimetype": "text/x-python",
   "name": "python",
   "nbconvert_exporter": "python",
   "pygments_lexer": "ipython3",
   "version": "3.10.1"
  }
 },
 "nbformat": 4,
 "nbformat_minor": 5
}
