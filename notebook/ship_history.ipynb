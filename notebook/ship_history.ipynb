{
 "cells": [
  {
   "cell_type": "code",
   "execution_count": 1,
   "id": "9c5bbe2a",
   "metadata": {},
   "outputs": [],
   "source": [
    "import json\n",
    "\n",
    "import pandas as pd\n",
    "import numpy as np\n",
    "from matplotlib import pyplot as plt\n",
    "import ipywidgets\n",
    "\n",
    "from stellarpunk import util"
   ]
  },
  {
   "cell_type": "markdown",
   "id": "d6d53462",
   "metadata": {},
   "source": [
    "# Loading and Preparing Data"
   ]
  },
  {
   "cell_type": "code",
   "execution_count": 2,
   "id": "ceb18552",
   "metadata": {},
   "outputs": [],
   "source": [
    "df_base = pd.read_json(\"/tmp/stellarpunk_test.test_more_cbdr.history.gz\", lines=True)\n",
    "df_base = df_base.join(pd.json_normalize(df_base[\"o\"]).add_prefix(\"o.\"))"
   ]
  },
  {
   "cell_type": "code",
   "execution_count": 3,
   "id": "6ce486c9",
   "metadata": {},
   "outputs": [],
   "source": [
    "e_types = df_base.groupby(\"eid\")[\"p\"].min()"
   ]
  },
  {
   "cell_type": "code",
   "execution_count": 4,
   "id": "1585e6a6",
   "metadata": {},
   "outputs": [
    {
     "data": {
      "text/plain": [
       "0     a46dcc10-4d3e-4195-b95f-cb50255f89b3\n",
       "1     ec157d16-3118-40df-b841-0f0f95aeda35\n",
       "2     2ed2c9d9-b2bf-40ea-a3a5-b266fe18f398\n",
       "3     46cf27c6-6306-4c5b-a7a3-0547b3639a54\n",
       "4     b9d056dc-2963-405f-9c4b-f316fc6aefc4\n",
       "5     f1df2797-9e94-4a66-be88-b426b599d411\n",
       "6     0e756bb5-6ada-42e7-8e96-838a8c363a35\n",
       "7     2a956337-25bb-4f9e-b354-6df11516b30b\n",
       "8     be65937c-609f-43bf-baeb-536df3244fe3\n",
       "9     3d62105c-3610-4ddd-b70c-17598038a44f\n",
       "10    6080a43c-bbe0-4e93-a45b-3bde7e368d02\n",
       "11    54010d78-870b-4db4-a472-c93e895c57d9\n",
       "12    8cb966ec-a4d0-4c01-9e83-9b8345db6f22\n",
       "13    c3a8538a-b474-4c95-9085-5d0e629ad295\n",
       "14    e0119b5b-de77-4705-88eb-773cae5d2613\n",
       "15    8b2bb8a5-a1bc-48b5-a136-86433db97b05\n",
       "16    dd34c2db-7181-4213-b461-7a0564ad3828\n",
       "17    4058c39f-26fa-4d31-9110-c1fb68c4be18\n",
       "18    9dd183a9-0a88-443c-8295-4835cd999f58\n",
       "19    fe329901-7bdb-4908-90d0-eace93f37df5\n",
       "20    9a4c1139-96e8-4650-bcad-ddf2a3f5d7fc\n",
       "21    4100045b-22ca-4cfd-9702-d2d8c45c5175\n",
       "22    c11d2ba4-a121-4f4b-a142-1e8f7d791c4a\n",
       "23    aedd55f7-8828-42a1-aec3-d5a0d562ecdf\n",
       "24    9f9ba7a3-a1be-43ca-92fe-29d6051f8441\n",
       "25    8c7c5f2d-491b-4172-a89e-948276ea99fe\n",
       "26    afc6c7dd-abe1-42d0-948d-cc41e8990dfa\n",
       "27    1ed0065e-90b6-4cf9-8c7c-3954099a1652\n",
       "28    4bfe11be-3953-4146-b8da-60df22267b4c\n",
       "29    e52fe2b3-e10d-4786-998a-6a75c714fcbd\n",
       "30    2d8d33f1-3aa5-40b6-ad30-e41954a2c9ae\n",
       "31    51a1338f-f1ae-474e-824d-dcafb1083d9b\n",
       "32    7cd32d28-e5e1-474c-bbbd-c6fcc5aeea9b\n",
       "33    6ec8ef99-666f-47a4-92f4-862b5bc08a6b\n",
       "34    25ff72aa-5dee-4d33-aacb-ef83177a6fa6\n",
       "35    4279fadb-8439-4678-983c-844dbfe500fb\n",
       "36    44529ebe-3d2d-4072-af03-96c3f2dc3e62\n",
       "37    3b2c410c-71b3-4ded-a2f2-f8ef7dc6fe0c\n",
       "38    f01fdc3e-c3ef-4b75-b7d6-bcb0523f4283\n",
       "39    ca706dc3-31c2-4229-b936-e8ce4516b3d1\n",
       "40    6df8aeb3-4ea8-4a4c-9cbc-6e7de259d68b\n",
       "41    873a8f91-4f0a-45df-910b-6641de4b8ad4\n",
       "42    d9361e71-7095-4b77-97f5-af27d00f67f5\n",
       "43    6d008545-e891-4527-ab7c-e4e3d0689630\n",
       "44    87e2e518-d7de-45f5-ae3f-4bc6f7c01b35\n",
       "45    1ec47e4b-5f71-4c0b-bd11-7b78b2bfff8f\n",
       "46    31f8f4b9-5567-4c91-bc47-1e4fee19cebd\n",
       "47    fe274a9a-f2be-4181-a93e-36dec27f64b5\n",
       "48    5c49c87e-be14-4a1f-8673-00edbfd00dcf\n",
       "49    0a6aeb79-9845-4f9b-8249-dfc6dc451560\n",
       "50    098870f7-6670-49eb-9ee9-61e5407b207d\n",
       "51    101714b8-20e4-4f50-8e58-e6828504167d\n",
       "52    2aa42a53-79df-4609-a173-ebd838068527\n",
       "53    8b5cdb2e-bab3-4fe9-95c9-5d85edc1089a\n",
       "54    57e72191-a426-4e91-8e27-27c429e8ccd0\n",
       "55    f088b248-7d7b-491d-b0cd-1cc27dca988e\n",
       "dtype: object"
      ]
     },
     "execution_count": 4,
     "metadata": {},
     "output_type": "execute_result"
    }
   ],
   "source": [
    "eids = pd.Series(df_base[\"eid\"].unique())\n",
    "eids"
   ]
  },
  {
   "cell_type": "code",
   "execution_count": 5,
   "id": "288e3f1e",
   "metadata": {},
   "outputs": [
    {
     "data": {
      "text/plain": [
       "42    d9361e71-7095-4b77-97f5-af27d00f67f5\n",
       "dtype: object"
      ]
     },
     "execution_count": 5,
     "metadata": {},
     "output_type": "execute_result"
    }
   ],
   "source": [
    "targets = eids[pd.Series(df_base[\"eid\"].unique()).str.startswith(\"d936\")]\n",
    "targets"
   ]
  },
  {
   "cell_type": "code",
   "execution_count": 6,
   "id": "caf3fedb",
   "metadata": {},
   "outputs": [],
   "source": [
    "target_index = targets.index[0]"
   ]
  },
  {
   "cell_type": "code",
   "execution_count": 7,
   "id": "c9be6491",
   "metadata": {},
   "outputs": [
    {
     "data": {
      "text/plain": [
       "array(['d9361e71-7095-4b77-97f5-af27d00f67f5'], dtype=object)"
      ]
     },
     "execution_count": 7,
     "metadata": {},
     "output_type": "execute_result"
    }
   ],
   "source": [
    "target_eid = df_base[\"eid\"].unique()[target_index]\n",
    "df_base = df_base[df_base[\"eid\"] == target_eid].reset_index()\n",
    "df_base[\"eid\"].unique()"
   ]
  },
  {
   "cell_type": "code",
   "execution_count": 8,
   "id": "66bf96db",
   "metadata": {},
   "outputs": [
    {
     "data": {
      "text/plain": [
       "'SHP'"
      ]
     },
     "execution_count": 8,
     "metadata": {},
     "output_type": "execute_result"
    }
   ],
   "source": [
    "e_types.loc[target_eid]"
   ]
  },
  {
   "cell_type": "code",
   "execution_count": 9,
   "id": "b77f957c",
   "metadata": {},
   "outputs": [],
   "source": [
    "loc = pd.DataFrame(np.vstack(df_base[\"loc\"]), columns=[\"loc.x\", \"loc.y\"])\n",
    "v = pd.DataFrame(np.vstack(df_base[\"v\"]), columns=[\"v.x\", \"v.y\"])\n",
    "\n",
    "empty_array = np.empty(len(df_base))\n",
    "empty_array[:] = np.nan\n",
    "\n",
    "if \"o.t_loc\" in df_base:\n",
    "    o_tloc = pd.DataFrame(np.vstack(df_base[\"o.t_loc\"].apply(lambda x: (np.nan, np.nan) if np.all(np.isnan(x)) else x)), columns=[\"o.t_loc.x\", \"o.t_loc.y\"])\n",
    "    o_tv = pd.DataFrame(np.vstack(df_base[\"o.t_v\"].apply(lambda x: (np.nan, np.nan) if np.all(np.isnan(x)) else x)), columns=[\"o.t_v.x\", \"o.t_v.y\"])\n",
    "    o_dv = pd.DataFrame(np.vstack(df_base[\"o._dv\"].apply(lambda x: (np.nan, np.nan) if np.all(np.isnan(x)) else x)), columns=[\"o._dv.x\", \"o._dv.y\"])\n",
    "    desired_angle = df_base.apply(lambda x: util.cartesian_to_polar(*(np.array(x[\"o._dv\"]) - np.array(x[\"v\"])))[1], axis=1)\n",
    "    df_base[\"o._ada\"] = desired_angle\n",
    "    o_ada = desired_angle = pd.DataFrame(np.vstack(df_base.apply(lambda row: np.array(util.polar_to_cartesian(100, row[\"o._ada\"])), axis=1)), columns=[\"_ada.x\", \"_ada.y\"])\n",
    "else:\n",
    "    o_tloc = pd.DataFrame({\"o.t_loc\": empty_array, \"o.t_loc.x\": empty_array, \"o.t_loc.y\": empty_array})\n",
    "    o_tv = pd.DataFrame({\"o.t_v\": empty_array, \"o.t_v.x\": empty_array, \"o.t_v.y\": empty_array})\n",
    "    o_dv = pd.DataFrame({\"o._dv\": empty_array, \"o._dv.x\": empty_array, \"o._dv.y\": empty_array})\n",
    "    o_ada = pd.DataFrame({\"o._ada\": empty_array, \"o._ada.x\": empty_array, \"o._ada.y\": empty_array})\n",
    "    \n",
    "if \"o.ct\" in df_base:\n",
    "    o_ctloc = pd.DataFrame(np.vstack(df_base[\"o.ct_loc\"].apply(lambda x: (np.nan, np.nan) if np.all(np.isnan(x)) else x)), columns=[\"o.ct_loc.x\", \"o.ct_loc.y\"])\n",
    "    o_ctdv = pd.DataFrame(np.vstack(df_base[\"o.ct_dv\"].apply(lambda x: (np.nan, np.nan) if np.all(np.isnan(x)) else x)), columns=[\"o.ct_dv.x\", \"o.ct_dv.y\"])\n",
    "    o_ctv = pd.DataFrame(np.vstack(df_base[\"o.ct_v\"].apply(lambda x: (np.nan, np.nan) if np.all(np.isnan(x)) else x)), columns=[\"o.ct_v.x\", \"o.ct_v.y\"])\n",
    "    o_ctcloc = pd.DataFrame(np.vstack(df_base[\"o.ct_cloc\"].apply(lambda x: (np.nan, np.nan) if np.all(np.isnan(x)) else x)), columns=[\"o.ct_cloc.x\", \"o.ct_cloc.y\"])\n",
    "else:\n",
    "    o_ctloc = pd.DataFrame({\"o.ct_loc\": empty_array, \"o.ct_loc.x\": empty_array, \"o.ct_loc.y\": empty_array})\n",
    "    o_ctdv = pd.DataFrame({\"o.ct_dv\": empty_array, \"o.ct_dv.x\": empty_array, \"o.ct_dv.y\": empty_array})\n",
    "    o_ctv = pd.DataFrame({\"o.ct_v\": empty_array, \"o.ct_v.x\": empty_array, \"o.ct_v.y\": empty_array})\n",
    "    o_ctcloc = pd.DataFrame({\"o.ct_cloc\": empty_array, \"o.ct_cloc.x\": empty_array, \"o.ct_cloc.y\": empty_array})\n",
    "angle = pd.DataFrame(np.vstack(df_base.apply(lambda row: np.array(util.polar_to_cartesian(100, row[\"a\"])), axis=1)), columns=[\"angle.x\", \"angle.y\"])\n",
    "df = pd.concat([df_base, loc, v, o_ctloc, o_ctcloc, o_ctdv, o_ctv, o_tloc, o_tv, o_dv, angle, o_ada], axis=1)\n",
    "\n",
    "if \"o.ct\" not in df_base:\n",
    "    df[\"o.ct\"] = empty_array\n",
    "    df[\"o.ct_ts\"] = empty_array\n",
    "    df[\"o.cac\"] = empty_array\n",
    "    df[\"o.cbdr\"] = empty_array\n",
    "    df[\"o.cbdr_hist\"] = empty_array\n",
    "    df[\"o.ct_ct\"] = empty_array\n",
    "    df[\"o.ct_cradius\"] = empty_array\n",
    "    df[\"o.nd\"] = empty_array\n",
    "    df[\"o.ct_dist\"] = empty_array\n",
    "    df[\"o.ct_cn\"] = empty_array\n",
    "    df[\"o.ct_ms\"] = empty_array\n",
    "    df[\"o.ct_mh\"] = empty_array\n",
    "    \n",
    "else:\n",
    "    df[\"o.ct_dist\"] = np.linalg.norm(np.vstack(df[\"loc\"]) - np.vstack(df[\"o.ct_cloc\"].apply(lambda x: (np.nan, np.nan) if np.all(np.isnan(x)) else x)), axis=1)\n",
    "    \n",
    "if \"o.t_loc\" not in df_base:\n",
    "    df[\"o.cs\"] = empty_array\n",
    "    df[\"o.t_dist\"] = empty_array\n",
    "    df[\"o.msc\"] = empty_array\n",
    "    df[\"o.max_speed_cap\"] = empty_array\n",
    "else:\n",
    "    df[\"o.t_dist\"] = np.linalg.norm(np.vstack(df[\"loc\"]) - np.vstack(df[\"o.t_loc\"].apply(lambda x: (np.nan, np.nan) if np.all(np.isnan(x)) else x)), axis=1)\n",
    "    df[\"o.max_speed_cap\"] = (df[\"o.msc\"]*(1+df[\"o.msc_a\"])**(df[\"ts\"] - df[\"o.msc_ts\"])).clip(upper=3000)\n",
    "    \n",
    "    \n"
   ]
  },
  {
   "cell_type": "code",
   "execution_count": 10,
   "id": "6e17314e",
   "metadata": {},
   "outputs": [],
   "source": [
    "df[\"speed\"] = np.linalg.norm(df[[\"v.x\", \"v.y\"]], axis=1)\n",
    "df[\"o.t_speed\"] = np.linalg.norm(df[[\"o.t_v.x\", \"o.t_v.y\"]], axis=1)\n",
    "df[\"o._dv_speed\"] = np.linalg.norm(df[[\"o._dv.x\", \"o._dv.y\"]], axis=1)\n",
    "df[\"f_mag\"] = df[\"f\"].apply(lambda x:np.linalg.norm(x))"
   ]
  },
  {
   "cell_type": "code",
   "execution_count": 11,
   "id": "a703dac7",
   "metadata": {},
   "outputs": [
    {
     "data": {
      "text/plain": [
       "{'o': 'stellarpunk.orders.movement.GoToLocation',\n",
       " 'msc': 100.0,\n",
       " 'msc_ts': 6.266666666666654,\n",
       " 'msc_a': 0.2,\n",
       " 'nn': 1,\n",
       " 'nnd': 47.44553486437387,\n",
       " 'ct': '1ec47e4b-5f71-4c0b-bd11-7b78b2bfff8f',\n",
       " 'ct_ms': 33.81858627804542,\n",
       " 'ct_loc': [-45209.1171875, 105712.0078125],\n",
       " 'ct_v': [1980.7904052734375, 2.253388166427612],\n",
       " 'ct_ts': 0.533333333333333,\n",
       " 'ct_at': 0.06375995722939701,\n",
       " 'ct_ct': 1,\n",
       " 'ct_cloc': [-45082.82421875, 105712.1484375],\n",
       " 'ct_cradius': 30.0,\n",
       " 'ct_cn': [[-45209.11844668821, 105712.00678307227]],\n",
       " 'ct_mh': 0.0,\n",
       " 'cac': False,\n",
       " 'cach': True,\n",
       " 'cbdr': False,\n",
       " 'cbdr_hist': [[-109.36030592741008, -616.9325476411032],\n",
       "  [27.778097903625167, -38.4636978906492]],\n",
       " 'ct_dv': [-3953840.25, 5474792.0],\n",
       " 't_loc': [137771.765625, 51021.7578125],\n",
       " 'ad': 4650.0,\n",
       " 'md': 0.0,\n",
       " 't_v': [95.80764770507812, -28.651262283325195],\n",
       " 'cs': False,\n",
       " 'scm': 60.0,\n",
       " '_ncts': 6.3523809523809405,\n",
       " '_dv': [-3951946.75, 5474279.5]}"
      ]
     },
     "execution_count": 11,
     "metadata": {},
     "output_type": "execute_result"
    }
   ],
   "source": [
    "df.iloc[-1][\"o\"]"
   ]
  },
  {
   "cell_type": "markdown",
   "id": "a6d3cf5e",
   "metadata": {},
   "source": [
    "# Basic Ship Vitals"
   ]
  },
  {
   "cell_type": "markdown",
   "id": "36730903",
   "metadata": {},
   "source": [
    "## Position and Heading"
   ]
  },
  {
   "cell_type": "code",
   "execution_count": 12,
   "id": "665329e8",
   "metadata": {},
   "outputs": [
    {
     "data": {
      "application/vnd.jupyter.widget-view+json": {
       "model_id": "513d54b4f6b345a18e55c2a654058000",
       "version_major": 2,
       "version_minor": 0
      },
      "text/plain": [
       "interactive(children=(FloatSlider(value=6.299999999999987, continuous_update=False, description='max_time', ma…"
      ]
     },
     "metadata": {},
     "output_type": "display_data"
    },
    {
     "data": {
      "text/plain": [
       "<function __main__.plot_location_chart(max_time)>"
      ]
     },
     "execution_count": 12,
     "metadata": {},
     "output_type": "execute_result"
    }
   ],
   "source": [
    "def plot_location_chart(max_time):\n",
    "    sample = df[df[\"ts\"] <= max_time].iloc[::50]\n",
    "    plt.quiver(sample[\"loc.x\"], sample[\"loc.y\"], sample[\"angle.x\"], sample[\"angle.y\"])#, scale=100)\n",
    "    plt.scatter(sample[\"o.t_loc.x\"], sample[\"o.t_loc.y\"])\n",
    "    #center = (0,2500)\n",
    "    #radius = 10000\n",
    "    #plt.xlim(center[0]-radius,center[0]+radius)\n",
    "    #plt.ylim(center[1]-radius,center[1]+radius)\n",
    "\n",
    "ipywidgets.interact(plot_location_chart, max_time=ipywidgets.FloatSlider(value=df[\"ts\"].max(), min=df[\"ts\"].min(), max=df[\"ts\"].max(), continuous_update=False))"
   ]
  },
  {
   "cell_type": "code",
   "execution_count": 13,
   "id": "ed1c2ca3",
   "metadata": {},
   "outputs": [
    {
     "data": {
      "text/html": [
       "<div>\n",
       "<style scoped>\n",
       "    .dataframe tbody tr th:only-of-type {\n",
       "        vertical-align: middle;\n",
       "    }\n",
       "\n",
       "    .dataframe tbody tr th {\n",
       "        vertical-align: top;\n",
       "    }\n",
       "\n",
       "    .dataframe thead th {\n",
       "        text-align: right;\n",
       "    }\n",
       "</style>\n",
       "<table border=\"1\" class=\"dataframe\">\n",
       "  <thead>\n",
       "    <tr style=\"text-align: right;\">\n",
       "      <th></th>\n",
       "      <th>loc.x</th>\n",
       "      <th>loc.y</th>\n",
       "    </tr>\n",
       "  </thead>\n",
       "  <tbody>\n",
       "    <tr>\n",
       "      <th>count</th>\n",
       "      <td>189.000000</td>\n",
       "      <td>189.000000</td>\n",
       "    </tr>\n",
       "    <tr>\n",
       "      <th>mean</th>\n",
       "      <td>-51441.467841</td>\n",
       "      <td>107454.240906</td>\n",
       "    </tr>\n",
       "    <tr>\n",
       "      <th>std</th>\n",
       "      <td>3678.100838</td>\n",
       "      <td>1025.206095</td>\n",
       "    </tr>\n",
       "    <tr>\n",
       "      <th>min</th>\n",
       "      <td>-57759.820312</td>\n",
       "      <td>105750.468750</td>\n",
       "    </tr>\n",
       "    <tr>\n",
       "      <th>25%</th>\n",
       "      <td>-54624.664062</td>\n",
       "      <td>106564.390625</td>\n",
       "    </tr>\n",
       "    <tr>\n",
       "      <th>50%</th>\n",
       "      <td>-51415.035156</td>\n",
       "      <td>107426.039062</td>\n",
       "    </tr>\n",
       "    <tr>\n",
       "      <th>75%</th>\n",
       "      <td>-48237.410156</td>\n",
       "      <td>108326.281250</td>\n",
       "    </tr>\n",
       "    <tr>\n",
       "      <th>max</th>\n",
       "      <td>-45236.898438</td>\n",
       "      <td>109265.179688</td>\n",
       "    </tr>\n",
       "  </tbody>\n",
       "</table>\n",
       "</div>"
      ],
      "text/plain": [
       "              loc.x          loc.y\n",
       "count    189.000000     189.000000\n",
       "mean  -51441.467841  107454.240906\n",
       "std     3678.100838    1025.206095\n",
       "min   -57759.820312  105750.468750\n",
       "25%   -54624.664062  106564.390625\n",
       "50%   -51415.035156  107426.039062\n",
       "75%   -48237.410156  108326.281250\n",
       "max   -45236.898438  109265.179688"
      ]
     },
     "execution_count": 13,
     "metadata": {},
     "output_type": "execute_result"
    }
   ],
   "source": [
    "df[[\"loc.x\", \"loc.y\"]].describe()"
   ]
  },
  {
   "cell_type": "code",
   "execution_count": 14,
   "id": "e0f37c4c",
   "metadata": {},
   "outputs": [
    {
     "data": {
      "text/plain": [
       "Text(0.5, 1.0, 'position')"
      ]
     },
     "execution_count": 14,
     "metadata": {},
     "output_type": "execute_result"
    },
    {
     "data": {
      "image/png": "[encoded data removed]",
      "text/plain": [
       "<Figure size 432x288 with 1 Axes>"
      ]
     },
     "metadata": {
      "needs_background": "light"
     },
     "output_type": "display_data"
    }
   ],
   "source": [
    "plt.scatter(df[\"ts\"], df[\"loc.x\"])\n",
    "plt.scatter(df[\"ts\"], df[\"loc.y\"])\n",
    "plt.title(\"position\")"
   ]
  },
  {
   "cell_type": "code",
   "execution_count": 15,
   "id": "b65fd521",
   "metadata": {},
   "outputs": [
    {
     "data": {
      "application/vnd.jupyter.widget-view+json": {
       "model_id": "528e5ddae3e54b30b9419fba49521a96",
       "version_major": 2,
       "version_minor": 0
      },
      "text/plain": [
       "interactive(children=(FloatSlider(value=6.266666666666654, continuous_update=False, description='hist_length',…"
      ]
     },
     "metadata": {},
     "output_type": "display_data"
    },
    {
     "data": {
      "text/plain": [
       "<function __main__.plot_heading(hist_length, max_time)>"
      ]
     },
     "execution_count": 15,
     "metadata": {},
     "output_type": "execute_result"
    }
   ],
   "source": [
    "def plot_heading(hist_length, max_time):\n",
    "    sample = df[(df[\"ts\"] >= max_time - hist_length) & (df[\"ts\"] <= max_time)]\n",
    "    plt.scatter(sample[\"ts\"], sample[\"a\"].apply(lambda x: util.normalize_angle(x, shortest=True)), label=\"theta\")\n",
    "    plt.scatter(sample[\"ts\"], sample[\"av\"], label=\"omega\")\n",
    "    plt.scatter(sample[\"ts\"], sample[\"o._ada\"].apply(lambda x: util.normalize_angle(x, shortest=True)), label=\"desired theta\")\n",
    "    plt.hlines(np.pi, sample[\"ts\"].min(), sample[\"ts\"].max(), color=\"red\")\n",
    "    plt.hlines(0, sample[\"ts\"].min(), sample[\"ts\"].max(), color=\"red\")\n",
    "    plt.legend()\n",
    "    plt.title(\"heading and angular velocity\")\n",
    "    \n",
    "ipywidgets.interact(plot_heading, hist_length=ipywidgets.FloatSlider(value=15, min=0, max=df[\"ts\"].max()-df[\"ts\"].min(), continuous_update=False), max_time=ipywidgets.FloatSlider(value=df[\"ts\"].max(), min=df[\"ts\"].min(), max=df[\"ts\"].max()+.1, continuous_update=False))"
   ]
  },
  {
   "cell_type": "code",
   "execution_count": 16,
   "id": "e1a4515d",
   "metadata": {},
   "outputs": [
    {
     "data": {
      "text/plain": [
       "<matplotlib.collections.PathCollection at 0x7f06829d3eb0>"
      ]
     },
     "execution_count": 16,
     "metadata": {},
     "output_type": "execute_result"
    },
    {
     "data": {
      "image/png": "[encoded data removed]",
      "text/plain": [
       "<Figure size 432x288 with 1 Axes>"
      ]
     },
     "metadata": {
      "needs_background": "light"
     },
     "output_type": "display_data"
    }
   ],
   "source": [
    "plt.scatter(df[\"ts\"], df[\"t\"])"
   ]
  },
  {
   "cell_type": "code",
   "execution_count": 17,
   "id": "f22420e0",
   "metadata": {},
   "outputs": [
    {
     "data": {
      "text/plain": [
       "False    126\n",
       "True      63\n",
       "Name: t, dtype: int64"
      ]
     },
     "execution_count": 17,
     "metadata": {},
     "output_type": "execute_result"
    }
   ],
   "source": [
    "(df[\"t\"] == 0).value_counts()"
   ]
  },
  {
   "cell_type": "code",
   "execution_count": 18,
   "id": "fa4f825a",
   "metadata": {},
   "outputs": [
    {
     "data": {
      "text/plain": [
       "True    189\n",
       "Name: t, dtype: int64"
      ]
     },
     "execution_count": 18,
     "metadata": {},
     "output_type": "execute_result"
    }
   ],
   "source": [
    "((df[\"t\"].abs() == 2700000.0) | (df[\"t\"] == 0)).value_counts()"
   ]
  },
  {
   "cell_type": "markdown",
   "id": "4ce26323",
   "metadata": {},
   "source": [
    "### Velocity and Acceleration"
   ]
  },
  {
   "cell_type": "code",
   "execution_count": 19,
   "id": "b5778f75",
   "metadata": {},
   "outputs": [
    {
     "data": {
      "application/vnd.jupyter.widget-view+json": {
       "model_id": "54f3a026af9340189898b304d59cbab6",
       "version_major": 2,
       "version_minor": 0
      },
      "text/plain": [
       "interactive(children=(FloatSlider(value=6.266666666666654, continuous_update=False, description='hist_length',…"
      ]
     },
     "metadata": {},
     "output_type": "display_data"
    },
    {
     "data": {
      "text/plain": [
       "<function __main__.plot_speed(hist_length, max_time)>"
      ]
     },
     "execution_count": 19,
     "metadata": {},
     "output_type": "execute_result"
    }
   ],
   "source": [
    "def plot_speed(hist_length, max_time):\n",
    "    sample = df[(df[\"ts\"] >= max_time - hist_length) & (df[\"ts\"] <= max_time)]\n",
    "    plt.scatter(sample[\"ts\"], sample[\"speed\"])\n",
    "    plt.title(\"speed\")\n",
    "    print(f'min speed: {sample[\"speed\"].min()}')\n",
    "    print(f'max speed: {sample[\"speed\"].max()}')\n",
    "    \n",
    "ipywidgets.interact(plot_speed, hist_length=ipywidgets.FloatSlider(value=15, min=0, max=df[\"ts\"].max()-df[\"ts\"].min(), continuous_update=False), max_time=ipywidgets.FloatSlider(value=df[\"ts\"].max(), min=df[\"ts\"].min(), max=df[\"ts\"].max()+.1, continuous_update=False))"
   ]
  },
  {
   "cell_type": "code",
   "execution_count": 20,
   "id": "32a0a440",
   "metadata": {
    "scrolled": true
   },
   "outputs": [
    {
     "data": {
      "application/vnd.jupyter.widget-view+json": {
       "model_id": "fd8130c807034852b4c621025336060e",
       "version_major": 2,
       "version_minor": 0
      },
      "text/plain": [
       "interactive(children=(FloatSlider(value=6.266666666666654, continuous_update=False, description='hist_length',…"
      ]
     },
     "metadata": {},
     "output_type": "display_data"
    },
    {
     "data": {
      "text/plain": [
       "<function __main__.plot_velocity(hist_length, max_time)>"
      ]
     },
     "execution_count": 20,
     "metadata": {},
     "output_type": "execute_result"
    }
   ],
   "source": [
    "def plot_velocity(hist_length, max_time):\n",
    "    sample = df[(df[\"ts\"] >= max_time - hist_length) & (df[\"ts\"] <= max_time)]\n",
    "    plt.scatter(sample[\"ts\"], sample[\"v.x\"], label=\"x\")\n",
    "    plt.scatter(sample[\"ts\"], sample[\"v.y\"], label=\"y\")\n",
    "    plt.legend()\n",
    "    plt.title(\"velocity\")\n",
    "    \n",
    "ipywidgets.interact(plot_velocity, hist_length=ipywidgets.FloatSlider(value=15, min=0, max=df[\"ts\"].max()-df[\"ts\"].min(), continuous_update=False), max_time=ipywidgets.FloatSlider(value=df[\"ts\"].max(), min=df[\"ts\"].min(), max=df[\"ts\"].max()+.1, continuous_update=False))"
   ]
  },
  {
   "cell_type": "code",
   "execution_count": 21,
   "id": "7e3172c1",
   "metadata": {
    "scrolled": true
   },
   "outputs": [
    {
     "data": {
      "application/vnd.jupyter.widget-view+json": {
       "model_id": "2ce24d386b6948c4a7651054b6caa7f0",
       "version_major": 2,
       "version_minor": 0
      },
      "text/plain": [
       "interactive(children=(FloatSlider(value=6.266666666666654, continuous_update=False, description='hist_length',…"
      ]
     },
     "metadata": {},
     "output_type": "display_data"
    },
    {
     "data": {
      "text/plain": [
       "<function __main__.plot_acceleration(hist_length, max_time)>"
      ]
     },
     "execution_count": 21,
     "metadata": {},
     "output_type": "execute_result"
    }
   ],
   "source": [
    "def plot_acceleration(hist_length, max_time):\n",
    "    sample = df[(df[\"ts\"] >= max_time - hist_length) & (df[\"ts\"] <= max_time)]\n",
    "    plt.scatter(sample[\"ts\"], (sample[\"v.x\"].shift(1) - sample[\"v.x\"]) / (sample[\"ts\"].shift(1) - sample[\"ts\"]), label=\"x\")\n",
    "    plt.scatter(sample[\"ts\"], (sample[\"v.y\"].shift(1) - sample[\"v.y\"]) / (sample[\"ts\"].shift(1) - sample[\"ts\"]), label=\"y\")\n",
    "    plt.yscale(\"symlog\")\n",
    "    plt.legend()\n",
    "    plt.title(\"acceleration\")\n",
    "    \n",
    "ipywidgets.interact(plot_acceleration, hist_length=ipywidgets.FloatSlider(value=15, min=0, max=df[\"ts\"].max()-df[\"ts\"].min(), continuous_update=False), max_time=ipywidgets.FloatSlider(value=df[\"ts\"].max(), min=df[\"ts\"].min(), max=df[\"ts\"].max()+.1, continuous_update=False))"
   ]
  },
  {
   "cell_type": "code",
   "execution_count": 22,
   "id": "7754010f",
   "metadata": {},
   "outputs": [
    {
     "data": {
      "application/vnd.jupyter.widget-view+json": {
       "model_id": "e8cc19daec3f47268fc998c7ec339345",
       "version_major": 2,
       "version_minor": 0
      },
      "text/plain": [
       "interactive(children=(FloatSlider(value=6.266666666666654, continuous_update=False, description='hist_length',…"
      ]
     },
     "metadata": {},
     "output_type": "display_data"
    },
    {
     "data": {
      "text/plain": [
       "<function __main__.plot_force(hist_length, max_time)>"
      ]
     },
     "execution_count": 22,
     "metadata": {},
     "output_type": "execute_result"
    }
   ],
   "source": [
    "def plot_force(hist_length, max_time):\n",
    "    sample = df[(df[\"ts\"] >= max_time - hist_length) & (df[\"ts\"] <= max_time)]\n",
    "    plt.scatter(sample[\"ts\"], sample[\"f_mag\"])\n",
    "    plt.yscale(\"log\")\n",
    "    plt.title(\"force\")\n",
    "    print(f'min force={sample[\"f_mag\"].min()}')\n",
    "    print(f'max force={sample[\"f_mag\"].max()}')\n",
    "\n",
    "ipywidgets.interact(plot_force, hist_length=ipywidgets.FloatSlider(value=15, min=0, max=df[\"ts\"].max()-df[\"ts\"].min(), continuous_update=False), max_time=ipywidgets.FloatSlider(value=df[\"ts\"].max(), min=df[\"ts\"].min(), max=df[\"ts\"].max()+.1, continuous_update=False))"
   ]
  },
  {
   "cell_type": "markdown",
   "id": "4630e3f8",
   "metadata": {},
   "source": [
    "# Behavior Monitoring"
   ]
  },
  {
   "cell_type": "code",
   "execution_count": 23,
   "id": "cf1a4380",
   "metadata": {},
   "outputs": [
    {
     "data": {
      "text/plain": [
       "[0.5666666666666661, None, 2.8666666666666663, 1.166666666666667]"
      ]
     },
     "execution_count": 23,
     "metadata": {},
     "output_type": "execute_result"
    }
   ],
   "source": [
    "[next((df.iloc[idx][\"ts\"] if idx is not None else None for idx, v in zip(df.index, (~df[c].isna() & df[c] == True)) if v), None) for c in [\"o.ct\", \"o.cs\", \"o.cac\", \"o.cbdr\"]]"
   ]
  },
  {
   "cell_type": "code",
   "execution_count": 24,
   "id": "9e6db2b0",
   "metadata": {},
   "outputs": [
    {
     "data": {
      "application/vnd.jupyter.widget-view+json": {
       "model_id": "15432d43c4c2457c894d74e17b57a8a1",
       "version_major": 2,
       "version_minor": 0
      },
      "text/plain": [
       "interactive(children=(FloatSlider(value=6.266666666666654, continuous_update=False, description='hist_length',…"
      ]
     },
     "metadata": {},
     "output_type": "display_data"
    },
    {
     "data": {
      "text/plain": [
       "<function __main__.plot_collision_info(hist_length, max_time)>"
      ]
     },
     "execution_count": 24,
     "metadata": {},
     "output_type": "execute_result"
    }
   ],
   "source": [
    "def plot_collision_info(hist_length, max_time):\n",
    "    sample = df[(df[\"ts\"] >= max_time - hist_length) & (df[\"ts\"] <= max_time)]\n",
    "    plt.scatter(sample[\"ts\"], (~(sample[\"o.ct\"].isna())).astype(int), label=\"ct\")\n",
    "    plt.scatter(sample[\"ts\"], sample[\"o.cs\"].fillna(0).astype(int)+0.05, label=\"cs\")\n",
    "    plt.scatter(sample[\"ts\"], sample[\"o.cac\"].fillna(0).astype(int)+0.1, label=\"cac\")\n",
    "    plt.scatter(sample[\"ts\"], sample[\"o.cbdr\"].fillna(0).astype(int)+0.15, label=\"cbdr\")\n",
    "    plt.scatter(sample[\"ts\"], sample[\"o.cach\"].fillna(0).astype(int)+0.1, label=\"cach\", marker=\"+\")\n",
    "    plt.legend()\n",
    "    plt.title(\"status flags\")\n",
    "    \n",
    "    flag_cols = [\"o.ct\", \"o.cs\", \"o.cac\", \"o.cach\", \"o.cbdr\"]\n",
    "    first_ts = [\n",
    "        next(\n",
    "            (sample.loc[idx][\"ts\"] if idx is not None else None\n",
    "             for idx, v in zip(sample.index, (~sample[c].isna() & sample[c] == True))\n",
    "             if v),\n",
    "            None\n",
    "        )\n",
    "        for c in flag_cols\n",
    "    ]\n",
    "    for c, ts in zip(flag_cols, first_ts):\n",
    "        print(f'first {c}: {ts}')\n",
    "\n",
    "ipywidgets.interact(plot_collision_info, hist_length=ipywidgets.FloatSlider(value=15, min=0, max=df[\"ts\"].max()-df[\"ts\"].min(), continuous_update=False), max_time=ipywidgets.FloatSlider(value=df[\"ts\"].max(), min=df[\"ts\"].min(), max=df[\"ts\"].max()+.1, continuous_update=False))"
   ]
  },
  {
   "cell_type": "markdown",
   "id": "94ba2b3d",
   "metadata": {},
   "source": [
    "### Target Location"
   ]
  },
  {
   "cell_type": "code",
   "execution_count": 25,
   "id": "2640e1e5",
   "metadata": {},
   "outputs": [
    {
     "data": {
      "text/html": [
       "<div>\n",
       "<style scoped>\n",
       "    .dataframe tbody tr th:only-of-type {\n",
       "        vertical-align: middle;\n",
       "    }\n",
       "\n",
       "    .dataframe tbody tr th {\n",
       "        vertical-align: top;\n",
       "    }\n",
       "\n",
       "    .dataframe thead tr th {\n",
       "        text-align: left;\n",
       "    }\n",
       "\n",
       "    .dataframe thead tr:last-of-type th {\n",
       "        text-align: right;\n",
       "    }\n",
       "</style>\n",
       "<table border=\"1\" class=\"dataframe\">\n",
       "  <thead>\n",
       "    <tr>\n",
       "      <th></th>\n",
       "      <th></th>\n",
       "      <th colspan=\"3\" halign=\"left\">ts</th>\n",
       "      <th colspan=\"2\" halign=\"left\">o.t_dist</th>\n",
       "      <th>o.ad</th>\n",
       "    </tr>\n",
       "    <tr>\n",
       "      <th></th>\n",
       "      <th></th>\n",
       "      <th>count</th>\n",
       "      <th>min</th>\n",
       "      <th>max</th>\n",
       "      <th>min</th>\n",
       "      <th>max</th>\n",
       "      <th>min</th>\n",
       "    </tr>\n",
       "    <tr>\n",
       "      <th>o.t_loc.x</th>\n",
       "      <th>o.t_loc.y</th>\n",
       "      <th></th>\n",
       "      <th></th>\n",
       "      <th></th>\n",
       "      <th></th>\n",
       "      <th></th>\n",
       "      <th></th>\n",
       "    </tr>\n",
       "  </thead>\n",
       "  <tbody>\n",
       "    <tr>\n",
       "      <th>137771.765625</th>\n",
       "      <th>51021.757812</th>\n",
       "      <td>189</td>\n",
       "      <td>0.033333</td>\n",
       "      <td>6.3</td>\n",
       "      <td>191016.760843</td>\n",
       "      <td>204021.80592</td>\n",
       "      <td>4650.0</td>\n",
       "    </tr>\n",
       "  </tbody>\n",
       "</table>\n",
       "</div>"
      ],
      "text/plain": [
       "                              ts                      o.t_dist                \\\n",
       "                           count       min  max            min           max   \n",
       "o.t_loc.x     o.t_loc.y                                                        \n",
       "137771.765625 51021.757812   189  0.033333  6.3  191016.760843  204021.80592   \n",
       "\n",
       "                              o.ad  \n",
       "                               min  \n",
       "o.t_loc.x     o.t_loc.y             \n",
       "137771.765625 51021.757812  4650.0  "
      ]
     },
     "execution_count": 25,
     "metadata": {},
     "output_type": "execute_result"
    }
   ],
   "source": [
    "if np.any(~df[\"o.t_loc\"].isna()):\n",
    "    x = df.groupby([\"o.t_loc.x\", \"o.t_loc.y\"]).agg({\"ts\": [\"count\", \"min\", \"max\"], \"o.t_dist\": [\"min\",\"max\"], \"o.ad\":[\"min\"]})\n",
    "else:\n",
    "    x = \"no location target\"\n",
    "x"
   ]
  },
  {
   "cell_type": "code",
   "execution_count": 26,
   "id": "74d23fb4",
   "metadata": {},
   "outputs": [
    {
     "data": {
      "application/vnd.jupyter.widget-view+json": {
       "model_id": "38c923833ce64c11b6883bd42c572ba5",
       "version_major": 2,
       "version_minor": 0
      },
      "text/plain": [
       "interactive(children=(FloatSlider(value=6.266666666666654, continuous_update=False, description='hist_length',…"
      ]
     },
     "metadata": {},
     "output_type": "display_data"
    },
    {
     "data": {
      "text/plain": [
       "<function __main__.plot_target_distance(hist_length, max_time)>"
      ]
     },
     "execution_count": 26,
     "metadata": {},
     "output_type": "execute_result"
    }
   ],
   "source": [
    "#sample = df[(df[\"ts\"] < 124.4) & (df[\"ts\"] > 120)]\n",
    "def plot_target_distance(hist_length, max_time):\n",
    "    sample = df[(df[\"ts\"] >= max_time - hist_length) & (df[\"ts\"] <= max_time)]\n",
    "    plt.scatter(sample[\"ts\"], sample[\"o.t_dist\"])\n",
    "    plt.scatter(sample[\"ts\"], sample[\"o.ad\"], color=\"green\", marker=\"_\")\n",
    "    plt.scatter(sample[\"ts\"], sample[\"o.md\"], color=\"red\", marker=\"_\")\n",
    "    #plt.ylim(0,1500)\n",
    "    plt.title(\"distance to target\")\n",
    "    print(f'when first arrived {sample[sample[\"o.t_dist\"] < sample[\"o.ad\"]][\"ts\"].min()}')\n",
    "\n",
    "ipywidgets.interact(\n",
    "    plot_target_distance,\n",
    "    hist_length=ipywidgets.FloatSlider(value=15, min=0, max=df[\"ts\"].max()-df[\"ts\"].min(), continuous_update=False),\n",
    "    max_time=ipywidgets.FloatSlider(value=df[\"ts\"].max(), min=df[\"ts\"].min(), max=df[\"ts\"].max()+.1, continuous_update=False))"
   ]
  },
  {
   "cell_type": "code",
   "execution_count": 27,
   "id": "d86ba49e",
   "metadata": {},
   "outputs": [
    {
     "data": {
      "text/plain": [
       "nan"
      ]
     },
     "execution_count": 27,
     "metadata": {},
     "output_type": "execute_result"
    }
   ],
   "source": [
    "df[df[\"o.t_dist\"] < df[\"o.ad\"]][\"ts\"].min()"
   ]
  },
  {
   "cell_type": "code",
   "execution_count": 28,
   "id": "4d0bf8d0",
   "metadata": {},
   "outputs": [
    {
     "data": {
      "application/vnd.jupyter.widget-view+json": {
       "model_id": "413f04adde654131afd3b2dcb4efe1e5",
       "version_major": 2,
       "version_minor": 0
      },
      "text/plain": [
       "interactive(children=(FloatSlider(value=6.266666666666654, continuous_update=False, description='hist_length',…"
      ]
     },
     "metadata": {},
     "output_type": "display_data"
    },
    {
     "data": {
      "text/plain": [
       "<function __main__.plot_desired_speed(hist_length, max_time)>"
      ]
     },
     "execution_count": 28,
     "metadata": {},
     "output_type": "execute_result"
    }
   ],
   "source": [
    "def plot_desired_speed(hist_length, max_time):\n",
    "    sample = df[(df[\"ts\"] >= max_time - hist_length) & (df[\"ts\"] <= max_time)]\n",
    "    plt.scatter(sample[\"ts\"], sample[\"speed\"], label=\"actual speed\")\n",
    "    plt.scatter(sample[\"ts\"], sample[\"o.t_speed\"], label=\"desired speed\")\n",
    "    plt.scatter(sample[\"ts\"], sample[\"o.max_speed_cap\"], label=\"max speed cap\")\n",
    "    plt.scatter(sample[\"ts\"], sample[\"o._dv_speed\"].apply(lambda x: x if x < 4000. else 4000.), label=\"desired speed (_dv)\")\n",
    "    plt.legend()\n",
    "    plt.title(\"speed and desired speed to target\")\n",
    "    plt.ylim(0)\n",
    "\n",
    "ipywidgets.interact(\n",
    "    plot_desired_speed,\n",
    "    hist_length=ipywidgets.FloatSlider(value=15, min=0, max=df[\"ts\"].max()-df[\"ts\"].min(), continuous_update=False),\n",
    "    max_time=ipywidgets.FloatSlider(value=df[\"ts\"].max(), min=df[\"ts\"].min(), max=df[\"ts\"].max()+.1, continuous_update=False))"
   ]
  },
  {
   "cell_type": "code",
   "execution_count": 29,
   "id": "d7341dc2",
   "metadata": {
    "scrolled": true
   },
   "outputs": [
    {
     "data": {
      "text/plain": [
       "Text(0.5, 1.0, 'desired speed delta')"
      ]
     },
     "execution_count": 29,
     "metadata": {},
     "output_type": "execute_result"
    },
    {
     "data": {
      "image/png": "[encoded data removed]",
      "text/plain": [
       "<Figure size 432x288 with 1 Axes>"
      ]
     },
     "metadata": {
      "needs_background": "light"
     },
     "output_type": "display_data"
    }
   ],
   "source": [
    "plt.scatter(df[\"ts\"], df[\"o.t_speed\"] - df[\"speed\"])\n",
    "plt.scatter(df[\"ts\"], np.linalg.norm(np.array((df[\"o.t_v.x\"] - df[\"v.x\"], df[\"o.t_v.y\"] - df[\"v.y\"])), axis=0))\n",
    "plt.title(\"desired speed delta\")"
   ]
  },
  {
   "cell_type": "markdown",
   "id": "5ac378ec",
   "metadata": {},
   "source": [
    "## Collision Avoidance"
   ]
  },
  {
   "cell_type": "markdown",
   "id": "6936a767",
   "metadata": {},
   "source": [
    "### Collision Threats"
   ]
  },
  {
   "cell_type": "code",
   "execution_count": 30,
   "id": "f38ca4d8",
   "metadata": {},
   "outputs": [
    {
     "data": {
      "application/vnd.jupyter.widget-view+json": {
       "model_id": "aded50e8c9184762ba3ad493828ad3db",
       "version_major": 2,
       "version_minor": 0
      },
      "text/plain": [
       "interactive(children=(FloatSlider(value=6.266666666666654, continuous_update=False, description='hist_length',…"
      ]
     },
     "metadata": {},
     "output_type": "display_data"
    },
    {
     "data": {
      "text/plain": [
       "<function __main__.show_collision_threats(hist_length, max_time)>"
      ]
     },
     "execution_count": 30,
     "metadata": {},
     "output_type": "execute_result"
    }
   ],
   "source": [
    "def show_collision_threats(hist_length, max_time):\n",
    "    sample = df[(df[\"ts\"] >= max_time-hist_length) & (df[\"ts\"] <= max_time)]\n",
    "    if np.any(~sample[\"o.ct\"].isna()):\n",
    "        x = sample.groupby(\"o.ct\").agg({\"ts\": [\"count\", \"min\", \"max\"], \"o.ct_dist\": [\"min\",\"max\"]})\n",
    "    else:\n",
    "        x = \"no collision threats\"\n",
    "    return x\n",
    "ipywidgets.interact(\n",
    "    show_collision_threats,\n",
    "    hist_length=ipywidgets.FloatSlider(value=15, min=0, max=df[\"ts\"].max()-df[\"ts\"].min(), continuous_update=False),\n",
    "    max_time=ipywidgets.FloatSlider(value=df[\"ts\"].max(), min=df[\"ts\"].min(), max=df[\"ts\"].max()+.1, continuous_update=False)\n",
    ")"
   ]
  },
  {
   "cell_type": "code",
   "execution_count": 31,
   "id": "1e264d01",
   "metadata": {},
   "outputs": [
    {
     "data": {
      "text/plain": [
       "eid\n",
       "1ec47e4b-5f71-4c0b-bd11-7b78b2bfff8f    SHP\n",
       "Name: p, dtype: object"
      ]
     },
     "execution_count": 31,
     "metadata": {},
     "output_type": "execute_result"
    }
   ],
   "source": [
    "e_types.loc[df[~df[\"o.ct\"].isna()][\"o.ct\"].unique()]"
   ]
  },
  {
   "cell_type": "code",
   "execution_count": 32,
   "id": "890424d5",
   "metadata": {},
   "outputs": [
    {
     "data": {
      "application/vnd.jupyter.widget-view+json": {
       "model_id": "87f89effc7e94299b7752607bbec91e3",
       "version_major": 2,
       "version_minor": 0
      },
      "text/plain": [
       "interactive(children=(FloatSlider(value=6.266666666666654, continuous_update=False, description='hist_length',…"
      ]
     },
     "metadata": {},
     "output_type": "display_data"
    },
    {
     "data": {
      "text/plain": [
       "<function __main__.plot_collision_distance(hist_length, max_time)>"
      ]
     },
     "execution_count": 32,
     "metadata": {},
     "output_type": "execute_result"
    }
   ],
   "source": [
    "def plot_collision_distance(hist_length, max_time):\n",
    "    sample = df[(df[\"ts\"] >= max_time-hist_length) & (df[\"ts\"] <= max_time)]\n",
    "    plt.scatter(sample[\"ts\"], sample[\"o.ct_dist\"])\n",
    "    plt.scatter(sample[\"ts\"], sample[\"o.ct_cradius\"]+sample[\"o.scm\"]*2, color=\"green\", marker=\"_\")\n",
    "    plt.scatter(sample[\"ts\"], sample[\"o.ct_cradius\"]+sample[\"o.scm\"], color=\"orange\", marker=\"_\")\n",
    "    plt.scatter(sample[\"ts\"], sample[\"o.ct_cradius\"], color=\"red\", marker=\"_\")\n",
    "    plt.hlines(60, sample[\"ts\"].min(), sample[\"ts\"].max(), color=\"red\")\n",
    "    plt.ylim(0)\n",
    "    plt.title(\"distance to collision threat\")\n",
    "    print(f'max ct dist: {sample[\"o.ct_dist\"].max()}')\n",
    "    print(f'min ct dist: {sample[\"o.ct_dist\"].min()}')\n",
    "\n",
    "ipywidgets.interact(\n",
    "    plot_collision_distance,\n",
    "    hist_length=ipywidgets.FloatSlider(value=15, min=0, max=df[\"ts\"].max()-df[\"ts\"].min(), continuous_update=False),\n",
    "    max_time=ipywidgets.FloatSlider(value=df[\"ts\"].max(), min=df[\"ts\"].min(), max=df[\"ts\"].max()+.1, continuous_update=False)\n",
    ")"
   ]
  },
  {
   "cell_type": "code",
   "execution_count": 33,
   "id": "04aa08ad",
   "metadata": {},
   "outputs": [
    {
     "data": {
      "application/vnd.jupyter.widget-view+json": {
       "model_id": "7a82d3b0d4624551a9e659b4da749a4e",
       "version_major": 2,
       "version_minor": 0
      },
      "text/plain": [
       "interactive(children=(FloatSlider(value=6.266666666666654, continuous_update=False, description='hist_length',…"
      ]
     },
     "metadata": {},
     "output_type": "display_data"
    },
    {
     "data": {
      "text/plain": [
       "<function __main__.plot_minimum_separation(hist_length, max_time)>"
      ]
     },
     "execution_count": 33,
     "metadata": {},
     "output_type": "execute_result"
    }
   ],
   "source": [
    "def plot_minimum_separation(hist_length, max_time):\n",
    "    sample = df[(df[\"ts\"] >= max_time-hist_length) & (df[\"ts\"] <= max_time)]\n",
    "    fig, ax1 = plt.subplots()\n",
    "    ax2 = ax1.twinx()\n",
    "    ax1.scatter(sample[\"ts\"], sample[\"o.ct_ms\"])\n",
    "    ax2.scatter(sample[\"ts\"], sample[\"o.ct_at\"], color=\"orange\")\n",
    "    #plt.scatter(sample[\"ts\"], sample[\"o.ct_cradius\"]+30, color=\"red\", marker=\"_\")\n",
    "    plt.ylim(0)\n",
    "    plt.title(\"minimum_separation with collision threat\")\n",
    "    print(f'min sep: {sample[\"o.ct_ms\"].min(), sample[\"o.ct_ms\"].max()}')\n",
    "    print(f'approach time: {sample[\"o.ct_at\"].min(), sample[\"o.ct_at\"].max()}')\n",
    "\n",
    "ipywidgets.interact(\n",
    "    plot_minimum_separation,\n",
    "    hist_length=ipywidgets.FloatSlider(value=15, min=0, max=df[\"ts\"].max()-df[\"ts\"].min(), continuous_update=False),\n",
    "    max_time=ipywidgets.FloatSlider(value=df[\"ts\"].max(), min=df[\"ts\"].min(), max=df[\"ts\"].max()+.1, continuous_update=False)\n",
    ")"
   ]
  },
  {
   "cell_type": "code",
   "execution_count": 34,
   "id": "12faf352",
   "metadata": {},
   "outputs": [
    {
     "data": {
      "application/vnd.jupyter.widget-view+json": {
       "model_id": "6bf5e8b3cdb94d6887a63213f3e74dfa",
       "version_major": 2,
       "version_minor": 0
      },
      "text/plain": [
       "interactive(children=(FloatSlider(value=6.266666666666654, continuous_update=False, description='hist_length',…"
      ]
     },
     "metadata": {},
     "output_type": "display_data"
    },
    {
     "data": {
      "text/plain": [
       "<function __main__.plot_threat_age(hist_length, max_time)>"
      ]
     },
     "execution_count": 34,
     "metadata": {},
     "output_type": "execute_result"
    }
   ],
   "source": [
    "def plot_threat_age(hist_length, max_time):\n",
    "    sample = df[(df[\"ts\"] >= max_time - hist_length) & (df[\"ts\"] <= max_time)]\n",
    "    fig, ax1 = plt.subplots()\n",
    "    ax2 = ax1.twinx()\n",
    "\n",
    "    ax1.scatter(sample[\"ts\"], 1-sample[\"o.ct\"].isna().astype(int))\n",
    "    ax2.scatter(sample[\"ts\"], sample[\"ts\"] - sample[\"o.ct_ts\"], color=\"orange\")\n",
    "    plt.title(\"Collision Threat and Time Since Detection\")\n",
    "\n",
    "    #ax2.set_ylim(0,(df[\"ts\"] - df[\"o.ct_ts\"]).max()*1.2)\n",
    "    \n",
    "ipywidgets.interact(\n",
    "    plot_threat_age,\n",
    "    hist_length=ipywidgets.FloatSlider(value=15, min=0, max=df[\"ts\"].max()-df[\"ts\"].min(), continuous_update=False),\n",
    "    max_time=ipywidgets.FloatSlider(value=df[\"ts\"].max(), min=df[\"ts\"].min(), max=df[\"ts\"].max()+.1, continuous_update=False))"
   ]
  },
  {
   "cell_type": "markdown",
   "id": "86ed216b",
   "metadata": {},
   "source": [
    "## CBDR Detection"
   ]
  },
  {
   "cell_type": "code",
   "execution_count": 35,
   "id": "bcee6bd2",
   "metadata": {},
   "outputs": [
    {
     "data": {
      "application/vnd.jupyter.widget-view+json": {
       "model_id": "c606daba51794e73a35635b42659a5bd",
       "version_major": 2,
       "version_minor": 0
      },
      "text/plain": [
       "interactive(children=(FloatSlider(value=6.266666666666654, continuous_update=False, description='hist_length',…"
      ]
     },
     "metadata": {},
     "output_type": "display_data"
    },
    {
     "data": {
      "text/plain": [
       "<function __main__.plot_cbdr_detection_data(hist_length, max_time)>"
      ]
     },
     "execution_count": 35,
     "metadata": {},
     "output_type": "execute_result"
    }
   ],
   "source": [
    "def plot_cbdr_detection_data(hist_length, max_time):\n",
    "    sample = df[(df[\"ts\"] >= max_time - hist_length) & (df[\"ts\"] <= max_time)]\n",
    "    fig, ax1 = plt.subplots()\n",
    "    ax2 = ax1.twinx()\n",
    "    \n",
    "    max_delta_bearing = 2e-3\n",
    "    min_delta_range = 5\n",
    "\n",
    "    bearing = sample[\"o.cbdr_hist\"].apply(lambda x: np.nan if isinstance(x, float) or len(x) < 2 else abs(util.cartesian_to_polar(x[0][0], x[0][1])[1] - util.cartesian_to_polar(x[-1][0], x[-1][1])[1]))\n",
    "    threat_range = sample[\"o.cbdr_hist\"].apply(lambda x: np.nan if isinstance(x, float) or len(x) < 2 else util.cartesian_to_polar(x[0][0], x[0][1])[0] - util.cartesian_to_polar(x[-1][0], x[-1][1])[0])\n",
    "    ax1.scatter(sample[\"ts\"], bearing, label=\"delta bearing\")\n",
    "    ax1.hlines(max_delta_bearing, sample[\"ts\"].min(), sample[\"ts\"].max(), color=\"green\", label=\"max delta bearing\")\n",
    "    ax2.scatter(sample[\"ts\"], threat_range, color=\"orange\", label=\"delta range\")\n",
    "    ax2.hlines(min_delta_range, sample[\"ts\"].min(), sample[\"ts\"].max(), color=\"red\", label=\"min delta range\")\n",
    "    fig.legend()\n",
    "    \n",
    "    print(f'{max_delta_bearing=}, bearing:\\t{(bearing.min(),bearing.max())}')\n",
    "    print(f'{min_delta_range=}, range:\\t{(threat_range.min(),threat_range.max())}')\n",
    "    \n",
    "ipywidgets.interact(\n",
    "    plot_cbdr_detection_data,\n",
    "    hist_length=ipywidgets.FloatSlider(value=15, min=0, max=df[\"ts\"].max()-df[\"ts\"].min(), continuous_update=False),\n",
    "    max_time=ipywidgets.FloatSlider(value=df[\"ts\"].max(), min=df[\"ts\"].min(), max=df[\"ts\"].max()+.1, continuous_update=False))"
   ]
  },
  {
   "cell_type": "code",
   "execution_count": 36,
   "id": "5f4e387c",
   "metadata": {},
   "outputs": [
    {
     "data": {
      "text/html": [
       "<div>\n",
       "<style scoped>\n",
       "    .dataframe tbody tr th:only-of-type {\n",
       "        vertical-align: middle;\n",
       "    }\n",
       "\n",
       "    .dataframe tbody tr th {\n",
       "        vertical-align: top;\n",
       "    }\n",
       "\n",
       "    .dataframe thead th {\n",
       "        text-align: right;\n",
       "    }\n",
       "</style>\n",
       "<table border=\"1\" class=\"dataframe\">\n",
       "  <thead>\n",
       "    <tr style=\"text-align: right;\">\n",
       "      <th></th>\n",
       "      <th>ts</th>\n",
       "      <th>o.cbdr_hist</th>\n",
       "    </tr>\n",
       "  </thead>\n",
       "  <tbody>\n",
       "    <tr>\n",
       "      <th>139</th>\n",
       "      <td>4.666667</td>\n",
       "      <td>[[-351.38611738348845, -1561.652796598879], [-...</td>\n",
       "    </tr>\n",
       "    <tr>\n",
       "      <th>140</th>\n",
       "      <td>4.700000</td>\n",
       "      <td>[[-339.79515750618157, -1504.8186799032555], [...</td>\n",
       "    </tr>\n",
       "    <tr>\n",
       "      <th>141</th>\n",
       "      <td>4.733333</td>\n",
       "      <td>[[-339.79515750618157, -1504.8186799032555], [...</td>\n",
       "    </tr>\n",
       "    <tr>\n",
       "      <th>142</th>\n",
       "      <td>4.766667</td>\n",
       "      <td>[[-339.79515750618157, -1504.8186799032555], [...</td>\n",
       "    </tr>\n",
       "    <tr>\n",
       "      <th>143</th>\n",
       "      <td>4.800000</td>\n",
       "      <td>[[-328.20652875615633, -1448.003228952046], [-...</td>\n",
       "    </tr>\n",
       "    <tr>\n",
       "      <th>144</th>\n",
       "      <td>4.833333</td>\n",
       "      <td>[[-328.20652875615633, -1448.003228952046], [-...</td>\n",
       "    </tr>\n",
       "    <tr>\n",
       "      <th>145</th>\n",
       "      <td>4.866667</td>\n",
       "      <td>[[-328.20652875615633, -1448.003228952046], [-...</td>\n",
       "    </tr>\n",
       "    <tr>\n",
       "      <th>146</th>\n",
       "      <td>4.900000</td>\n",
       "      <td>[[-316.620249582651, -1391.2065374882513], [-1...</td>\n",
       "    </tr>\n",
       "    <tr>\n",
       "      <th>147</th>\n",
       "      <td>4.933333</td>\n",
       "      <td>[[-316.620249582651, -1391.2065374882513], [-1...</td>\n",
       "    </tr>\n",
       "    <tr>\n",
       "      <th>148</th>\n",
       "      <td>4.966667</td>\n",
       "      <td>[[-316.620249582651, -1391.2065374882513], [-1...</td>\n",
       "    </tr>\n",
       "    <tr>\n",
       "      <th>149</th>\n",
       "      <td>5.000000</td>\n",
       "      <td>[[-305.0363376142923, -1334.4286948118825], [-...</td>\n",
       "    </tr>\n",
       "    <tr>\n",
       "      <th>150</th>\n",
       "      <td>5.033333</td>\n",
       "      <td>[[-305.0363376142923, -1334.4286948118825], [-...</td>\n",
       "    </tr>\n",
       "    <tr>\n",
       "      <th>151</th>\n",
       "      <td>5.066667</td>\n",
       "      <td>[[-305.0363376142923, -1334.4286948118825], [-...</td>\n",
       "    </tr>\n",
       "    <tr>\n",
       "      <th>152</th>\n",
       "      <td>5.100000</td>\n",
       "      <td>[[-293.15632332876703, -1277.747086435309], [-...</td>\n",
       "    </tr>\n",
       "    <tr>\n",
       "      <th>153</th>\n",
       "      <td>5.133333</td>\n",
       "      <td>[[-293.15632332876703, -1277.747086435309], [-...</td>\n",
       "    </tr>\n",
       "    <tr>\n",
       "      <th>154</th>\n",
       "      <td>5.166667</td>\n",
       "      <td>[[-293.15632332876703, -1277.747086435309], [-...</td>\n",
       "    </tr>\n",
       "    <tr>\n",
       "      <th>155</th>\n",
       "      <td>5.200000</td>\n",
       "      <td>[[-280.3833151988947, -1221.3166452980076], [-...</td>\n",
       "    </tr>\n",
       "    <tr>\n",
       "      <th>156</th>\n",
       "      <td>5.233333</td>\n",
       "      <td>[[-280.3833151988947, -1221.3166452980076], [-...</td>\n",
       "    </tr>\n",
       "    <tr>\n",
       "      <th>157</th>\n",
       "      <td>5.266667</td>\n",
       "      <td>[[-280.3833151988947, -1221.3166452980076], [-...</td>\n",
       "    </tr>\n",
       "    <tr>\n",
       "      <th>158</th>\n",
       "      <td>5.300000</td>\n",
       "      <td>[[-266.717521791732, -1165.1381926485483], [-9...</td>\n",
       "    </tr>\n",
       "    <tr>\n",
       "      <th>159</th>\n",
       "      <td>5.333333</td>\n",
       "      <td>[[-266.717521791732, -1165.1381926485483], [-9...</td>\n",
       "    </tr>\n",
       "    <tr>\n",
       "      <th>160</th>\n",
       "      <td>5.366667</td>\n",
       "      <td>[[-266.717521791732, -1165.1381926485483], [-9...</td>\n",
       "    </tr>\n",
       "    <tr>\n",
       "      <th>161</th>\n",
       "      <td>5.400000</td>\n",
       "      <td>[[-252.15914443133806, -1109.2125185275363], [...</td>\n",
       "    </tr>\n",
       "    <tr>\n",
       "      <th>162</th>\n",
       "      <td>5.433333</td>\n",
       "      <td>[[-252.15914443133806, -1109.2125185275363], [...</td>\n",
       "    </tr>\n",
       "    <tr>\n",
       "      <th>163</th>\n",
       "      <td>5.466667</td>\n",
       "      <td>[[-252.15914443133806, -1109.2125185275363], [...</td>\n",
       "    </tr>\n",
       "    <tr>\n",
       "      <th>164</th>\n",
       "      <td>5.500000</td>\n",
       "      <td>[[-236.70837740035495, -1053.5403828760755], [...</td>\n",
       "    </tr>\n",
       "    <tr>\n",
       "      <th>165</th>\n",
       "      <td>5.533333</td>\n",
       "      <td>[[-236.70837740035495, -1053.5403828760755], [...</td>\n",
       "    </tr>\n",
       "    <tr>\n",
       "      <th>166</th>\n",
       "      <td>5.566667</td>\n",
       "      <td>[[-236.70837740035495, -1053.5403828760755], [...</td>\n",
       "    </tr>\n",
       "    <tr>\n",
       "      <th>167</th>\n",
       "      <td>5.600000</td>\n",
       "      <td>[[-220.6737400369384, -998.1213236242329], [-4...</td>\n",
       "    </tr>\n",
       "    <tr>\n",
       "      <th>168</th>\n",
       "      <td>5.633333</td>\n",
       "      <td>[[-220.6737400369384, -998.1213236242329], [-4...</td>\n",
       "    </tr>\n",
       "    <tr>\n",
       "      <th>169</th>\n",
       "      <td>5.666667</td>\n",
       "      <td>[[-220.6737400369384, -998.1213236242329], [-4...</td>\n",
       "    </tr>\n",
       "    <tr>\n",
       "      <th>170</th>\n",
       "      <td>5.700000</td>\n",
       "      <td>[[-204.67205483319412, -942.9507504369976], [-...</td>\n",
       "    </tr>\n",
       "    <tr>\n",
       "      <th>171</th>\n",
       "      <td>5.733333</td>\n",
       "      <td>[[-204.67205483319412, -942.9507504369976], [-...</td>\n",
       "    </tr>\n",
       "    <tr>\n",
       "      <th>172</th>\n",
       "      <td>5.766667</td>\n",
       "      <td>[[-204.67205483319412, -942.9507504369976], [-...</td>\n",
       "    </tr>\n",
       "    <tr>\n",
       "      <th>173</th>\n",
       "      <td>5.800000</td>\n",
       "      <td>[[-188.70342109008925, -888.0214442752331], [-...</td>\n",
       "    </tr>\n",
       "    <tr>\n",
       "      <th>174</th>\n",
       "      <td>5.833333</td>\n",
       "      <td>[[-188.70342109008925, -888.0214442752331], [-...</td>\n",
       "    </tr>\n",
       "    <tr>\n",
       "      <th>175</th>\n",
       "      <td>5.866667</td>\n",
       "      <td>[[-188.70342109008925, -888.0214442752331], [-...</td>\n",
       "    </tr>\n",
       "    <tr>\n",
       "      <th>176</th>\n",
       "      <td>5.900000</td>\n",
       "      <td>[[-172.76792138463497, -833.3287062395393], [-...</td>\n",
       "    </tr>\n",
       "    <tr>\n",
       "      <th>177</th>\n",
       "      <td>5.933333</td>\n",
       "      <td>[[-172.76792138463497, -833.3287062395393], [-...</td>\n",
       "    </tr>\n",
       "    <tr>\n",
       "      <th>178</th>\n",
       "      <td>5.966667</td>\n",
       "      <td>[[-172.76792138463497, -833.3287062395393], [-...</td>\n",
       "    </tr>\n",
       "    <tr>\n",
       "      <th>179</th>\n",
       "      <td>6.000000</td>\n",
       "      <td>[[-156.86566717069945, -778.8705878630863], [-...</td>\n",
       "    </tr>\n",
       "    <tr>\n",
       "      <th>180</th>\n",
       "      <td>6.033333</td>\n",
       "      <td>[[-156.86566717069945, -778.8705878630863], [-...</td>\n",
       "    </tr>\n",
       "    <tr>\n",
       "      <th>181</th>\n",
       "      <td>6.066667</td>\n",
       "      <td>[[-156.86566717069945, -778.8705878630863], [-...</td>\n",
       "    </tr>\n",
       "    <tr>\n",
       "      <th>182</th>\n",
       "      <td>6.100000</td>\n",
       "      <td>[[-140.99682615875645, -724.6481863460358], [9...</td>\n",
       "    </tr>\n",
       "    <tr>\n",
       "      <th>183</th>\n",
       "      <td>6.133333</td>\n",
       "      <td>[[-140.99682615875645, -724.6481863460358], [9...</td>\n",
       "    </tr>\n",
       "    <tr>\n",
       "      <th>184</th>\n",
       "      <td>6.166667</td>\n",
       "      <td>[[-140.99682615875645, -724.6481863460358], [9...</td>\n",
       "    </tr>\n",
       "    <tr>\n",
       "      <th>185</th>\n",
       "      <td>6.200000</td>\n",
       "      <td>[[-125.16162376523425, -670.6660247879336], [1...</td>\n",
       "    </tr>\n",
       "    <tr>\n",
       "      <th>186</th>\n",
       "      <td>6.233333</td>\n",
       "      <td>[[-125.16162376523425, -670.6660247879336], [1...</td>\n",
       "    </tr>\n",
       "    <tr>\n",
       "      <th>187</th>\n",
       "      <td>6.266667</td>\n",
       "      <td>[[-125.16162376523425, -670.6660247879336], [1...</td>\n",
       "    </tr>\n",
       "    <tr>\n",
       "      <th>188</th>\n",
       "      <td>6.300000</td>\n",
       "      <td>[[-109.36030592741008, -616.9325476411032], [2...</td>\n",
       "    </tr>\n",
       "  </tbody>\n",
       "</table>\n",
       "</div>"
      ],
      "text/plain": [
       "           ts                                        o.cbdr_hist\n",
       "139  4.666667  [[-351.38611738348845, -1561.652796598879], [-...\n",
       "140  4.700000  [[-339.79515750618157, -1504.8186799032555], [...\n",
       "141  4.733333  [[-339.79515750618157, -1504.8186799032555], [...\n",
       "142  4.766667  [[-339.79515750618157, -1504.8186799032555], [...\n",
       "143  4.800000  [[-328.20652875615633, -1448.003228952046], [-...\n",
       "144  4.833333  [[-328.20652875615633, -1448.003228952046], [-...\n",
       "145  4.866667  [[-328.20652875615633, -1448.003228952046], [-...\n",
       "146  4.900000  [[-316.620249582651, -1391.2065374882513], [-1...\n",
       "147  4.933333  [[-316.620249582651, -1391.2065374882513], [-1...\n",
       "148  4.966667  [[-316.620249582651, -1391.2065374882513], [-1...\n",
       "149  5.000000  [[-305.0363376142923, -1334.4286948118825], [-...\n",
       "150  5.033333  [[-305.0363376142923, -1334.4286948118825], [-...\n",
       "151  5.066667  [[-305.0363376142923, -1334.4286948118825], [-...\n",
       "152  5.100000  [[-293.15632332876703, -1277.747086435309], [-...\n",
       "153  5.133333  [[-293.15632332876703, -1277.747086435309], [-...\n",
       "154  5.166667  [[-293.15632332876703, -1277.747086435309], [-...\n",
       "155  5.200000  [[-280.3833151988947, -1221.3166452980076], [-...\n",
       "156  5.233333  [[-280.3833151988947, -1221.3166452980076], [-...\n",
       "157  5.266667  [[-280.3833151988947, -1221.3166452980076], [-...\n",
       "158  5.300000  [[-266.717521791732, -1165.1381926485483], [-9...\n",
       "159  5.333333  [[-266.717521791732, -1165.1381926485483], [-9...\n",
       "160  5.366667  [[-266.717521791732, -1165.1381926485483], [-9...\n",
       "161  5.400000  [[-252.15914443133806, -1109.2125185275363], [...\n",
       "162  5.433333  [[-252.15914443133806, -1109.2125185275363], [...\n",
       "163  5.466667  [[-252.15914443133806, -1109.2125185275363], [...\n",
       "164  5.500000  [[-236.70837740035495, -1053.5403828760755], [...\n",
       "165  5.533333  [[-236.70837740035495, -1053.5403828760755], [...\n",
       "166  5.566667  [[-236.70837740035495, -1053.5403828760755], [...\n",
       "167  5.600000  [[-220.6737400369384, -998.1213236242329], [-4...\n",
       "168  5.633333  [[-220.6737400369384, -998.1213236242329], [-4...\n",
       "169  5.666667  [[-220.6737400369384, -998.1213236242329], [-4...\n",
       "170  5.700000  [[-204.67205483319412, -942.9507504369976], [-...\n",
       "171  5.733333  [[-204.67205483319412, -942.9507504369976], [-...\n",
       "172  5.766667  [[-204.67205483319412, -942.9507504369976], [-...\n",
       "173  5.800000  [[-188.70342109008925, -888.0214442752331], [-...\n",
       "174  5.833333  [[-188.70342109008925, -888.0214442752331], [-...\n",
       "175  5.866667  [[-188.70342109008925, -888.0214442752331], [-...\n",
       "176  5.900000  [[-172.76792138463497, -833.3287062395393], [-...\n",
       "177  5.933333  [[-172.76792138463497, -833.3287062395393], [-...\n",
       "178  5.966667  [[-172.76792138463497, -833.3287062395393], [-...\n",
       "179  6.000000  [[-156.86566717069945, -778.8705878630863], [-...\n",
       "180  6.033333  [[-156.86566717069945, -778.8705878630863], [-...\n",
       "181  6.066667  [[-156.86566717069945, -778.8705878630863], [-...\n",
       "182  6.100000  [[-140.99682615875645, -724.6481863460358], [9...\n",
       "183  6.133333  [[-140.99682615875645, -724.6481863460358], [9...\n",
       "184  6.166667  [[-140.99682615875645, -724.6481863460358], [9...\n",
       "185  6.200000  [[-125.16162376523425, -670.6660247879336], [1...\n",
       "186  6.233333  [[-125.16162376523425, -670.6660247879336], [1...\n",
       "187  6.266667  [[-125.16162376523425, -670.6660247879336], [1...\n",
       "188  6.300000  [[-109.36030592741008, -616.9325476411032], [2..."
      ]
     },
     "execution_count": 36,
     "metadata": {},
     "output_type": "execute_result"
    }
   ],
   "source": [
    "df[[\"ts\",\"o.cbdr_hist\"]].tail(50)"
   ]
  },
  {
   "cell_type": "code",
   "execution_count": 37,
   "id": "9c947c36",
   "metadata": {},
   "outputs": [
    {
     "data": {
      "application/vnd.jupyter.widget-view+json": {
       "model_id": "210bee96d327467cbcfa952b94ae2875",
       "version_major": 2,
       "version_minor": 0
      },
      "text/plain": [
       "interactive(children=(FloatSlider(value=6.266666666666654, continuous_update=False, description='hist_length',…"
      ]
     },
     "metadata": {},
     "output_type": "display_data"
    },
    {
     "data": {
      "text/plain": [
       "<function __main__.plot_num_coalesced_threats(hist_length, max_time)>"
      ]
     },
     "execution_count": 37,
     "metadata": {},
     "output_type": "execute_result"
    }
   ],
   "source": [
    "def plot_num_coalesced_threats(hist_length, max_time):\n",
    "    sample = df[(df[\"ts\"] >= max_time-hist_length) & (df[\"ts\"] <= max_time)]\n",
    "    plt.scatter(sample[\"ts\"], sample[\"o.ct_ct\"])\n",
    "    plt.title(\"number of coalesced threats\")\n",
    "    plt.show()\n",
    "\n",
    "ipywidgets.interact(\n",
    "    plot_num_coalesced_threats,\n",
    "    hist_length=ipywidgets.FloatSlider(value=15, min=0, max=df[\"ts\"].max()-df[\"ts\"].min(), continuous_update=False),\n",
    "    max_time=ipywidgets.FloatSlider(value=df[\"ts\"].max(), min=df[\"ts\"].min(), max=df[\"ts\"].max()+.1, continuous_update=False)\n",
    ")  "
   ]
  },
  {
   "cell_type": "code",
   "execution_count": 38,
   "id": "91227c9a",
   "metadata": {},
   "outputs": [
    {
     "data": {
      "application/vnd.jupyter.widget-view+json": {
       "model_id": "3fe082085a564353bdc0a14c36212926",
       "version_major": 2,
       "version_minor": 0
      },
      "text/plain": [
       "interactive(children=(FloatSlider(value=6.266666666666654, continuous_update=False, description='hist_length',…"
      ]
     },
     "metadata": {},
     "output_type": "display_data"
    },
    {
     "data": {
      "text/plain": [
       "<function __main__.plot_collision_threat_radius(hist_length, max_time)>"
      ]
     },
     "execution_count": 38,
     "metadata": {},
     "output_type": "execute_result"
    }
   ],
   "source": [
    "def plot_collision_threat_radius(hist_length, max_time):\n",
    "    sample = df[(df[\"ts\"] >= max_time - hist_length) & (df[\"ts\"] <= max_time)]\n",
    "    plt.scatter(sample[\"ts\"], sample[\"o.ct_cradius\"], label=\"threat radius\")\n",
    "    plt.scatter(sample[\"ts\"], sample[\"o.scm\"]+sample[\"o.ct_mh\"], label=\"desired margin\")\n",
    "    plt.title(\"collision threat radius\")\n",
    "    plt.legend()\n",
    "    print(f'min coalesced radius: {sample[\"o.ct_cradius\"].min()}')\n",
    "    print(f'min scaled margin: {sample[\"o.scm\"].min()}')\n",
    "    plt.show()\n",
    "\n",
    "ipywidgets.interact(\n",
    "    plot_collision_threat_radius,\n",
    "    hist_length=ipywidgets.FloatSlider(value=15, min=0, max=df[\"ts\"].max()-df[\"ts\"].min(), continuous_update=False),\n",
    "    max_time=ipywidgets.FloatSlider(value=df[\"ts\"].max(), min=df[\"ts\"].min(), max=df[\"ts\"].max()+.1, continuous_update=False))"
   ]
  },
  {
   "cell_type": "code",
   "execution_count": 39,
   "id": "10290387",
   "metadata": {},
   "outputs": [
    {
     "data": {
      "application/vnd.jupyter.widget-view+json": {
       "model_id": "93f8649a83aa4f4c8f136e5c240b4f1e",
       "version_major": 2,
       "version_minor": 0
      },
      "text/plain": [
       "interactive(children=(FloatSlider(value=6.266666666666654, continuous_update=False, description='hist_length',…"
      ]
     },
     "metadata": {},
     "output_type": "display_data"
    },
    {
     "data": {
      "text/plain": [
       "<function __main__.plot_collision_threat_loc(hist_length, max_time)>"
      ]
     },
     "execution_count": 39,
     "metadata": {},
     "output_type": "execute_result"
    }
   ],
   "source": [
    "def plot_collision_threat_loc(hist_length, max_time):\n",
    "    sample = df[(df[\"ts\"] >= max_time - hist_length) & (df[\"ts\"] <= max_time)]\n",
    "    fig, ax1 = plt.subplots()\n",
    "    ax2 = ax1.twinx()\n",
    "    ax1.scatter(sample[\"ts\"], sample[\"o.ct_cloc.x\"])\n",
    "    ax2.scatter(sample[\"ts\"], sample[\"o.ct_cloc.y\"], color=\"orange\")\n",
    "    plt.title(\"collision threat coalesced location\")\n",
    "    plt.show()\n",
    "\n",
    "ipywidgets.interact(\n",
    "    plot_collision_threat_loc,\n",
    "    hist_length=ipywidgets.FloatSlider(value=15, min=0, max=df[\"ts\"].max()-df[\"ts\"].min(), continuous_update=False),\n",
    "    max_time=ipywidgets.FloatSlider(value=df[\"ts\"].max(), min=df[\"ts\"].min(), max=df[\"ts\"].max()+.1, continuous_update=False))"
   ]
  },
  {
   "cell_type": "code",
   "execution_count": 40,
   "id": "88757cdd",
   "metadata": {},
   "outputs": [
    {
     "data": {
      "text/html": [
       "<div>\n",
       "<style scoped>\n",
       "    .dataframe tbody tr th:only-of-type {\n",
       "        vertical-align: middle;\n",
       "    }\n",
       "\n",
       "    .dataframe tbody tr th {\n",
       "        vertical-align: top;\n",
       "    }\n",
       "\n",
       "    .dataframe thead th {\n",
       "        text-align: right;\n",
       "    }\n",
       "</style>\n",
       "<table border=\"1\" class=\"dataframe\">\n",
       "  <thead>\n",
       "    <tr style=\"text-align: right;\">\n",
       "      <th></th>\n",
       "      <th>index</th>\n",
       "      <th>p</th>\n",
       "      <th>eid</th>\n",
       "      <th>ts</th>\n",
       "      <th>loc</th>\n",
       "      <th>r</th>\n",
       "      <th>a</th>\n",
       "      <th>v</th>\n",
       "      <th>av</th>\n",
       "      <th>f</th>\n",
       "      <th>...</th>\n",
       "      <th>angle.y</th>\n",
       "      <th>_ada.x</th>\n",
       "      <th>_ada.y</th>\n",
       "      <th>o.ct_dist</th>\n",
       "      <th>o.t_dist</th>\n",
       "      <th>o.max_speed_cap</th>\n",
       "      <th>speed</th>\n",
       "      <th>o.t_speed</th>\n",
       "      <th>o._dv_speed</th>\n",
       "      <th>f_mag</th>\n",
       "    </tr>\n",
       "  </thead>\n",
       "  <tbody>\n",
       "    <tr>\n",
       "      <th>43</th>\n",
       "      <td>2371</td>\n",
       "      <td>SHP</td>\n",
       "      <td>d9361e71-7095-4b77-97f5-af27d00f67f5</td>\n",
       "      <td>1.466667</td>\n",
       "      <td>[-54894.66015625, 108405.578125]</td>\n",
       "      <td>30</td>\n",
       "      <td>0.474383</td>\n",
       "      <td>[2020.638916015625, -597.2120361328125]</td>\n",
       "      <td>0.890879</td>\n",
       "      <td>[173624.11530979103, 99270.67332748574]</td>\n",
       "      <td>...</td>\n",
       "      <td>45.678924</td>\n",
       "      <td>86.812057</td>\n",
       "      <td>49.635338</td>\n",
       "      <td>9370.649522</td>\n",
       "      <td>201030.481413</td>\n",
       "      <td>1546.292775</td>\n",
       "      <td>2107.046237</td>\n",
       "      <td>1536.923875</td>\n",
       "      <td>2.605678e+03</td>\n",
       "      <td>200000.0</td>\n",
       "    </tr>\n",
       "    <tr>\n",
       "      <th>46</th>\n",
       "      <td>2374</td>\n",
       "      <td>SHP</td>\n",
       "      <td>d9361e71-7095-4b77-97f5-af27d00f67f5</td>\n",
       "      <td>1.566667</td>\n",
       "      <td>[-54692.30859375, 108346.0234375]</td>\n",
       "      <td>30</td>\n",
       "      <td>0.553470</td>\n",
       "      <td>[2029.320068359375, -592.24853515625]</td>\n",
       "      <td>0.590879</td>\n",
       "      <td>[174424.67491258477, 97857.20607926183]</td>\n",
       "      <td>...</td>\n",
       "      <td>52.564268</td>\n",
       "      <td>87.212336</td>\n",
       "      <td>48.928605</td>\n",
       "      <td>9285.204381</td>\n",
       "      <td>200819.549084</td>\n",
       "      <td>1506.802655</td>\n",
       "      <td>2113.976884</td>\n",
       "      <td>1497.672998</td>\n",
       "      <td>2.566621e+03</td>\n",
       "      <td>200000.0</td>\n",
       "    </tr>\n",
       "    <tr>\n",
       "      <th>49</th>\n",
       "      <td>2377</td>\n",
       "      <td>SHP</td>\n",
       "      <td>d9361e71-7095-4b77-97f5-af27d00f67f5</td>\n",
       "      <td>1.666667</td>\n",
       "      <td>[-54489.0859375, 108286.9609375]</td>\n",
       "      <td>30</td>\n",
       "      <td>0.602558</td>\n",
       "      <td>[2038.041259765625, -587.3556518554688]</td>\n",
       "      <td>0.290879</td>\n",
       "      <td>[175192.41985779995, 96475.98677582077]</td>\n",
       "      <td>...</td>\n",
       "      <td>56.675207</td>\n",
       "      <td>87.596213</td>\n",
       "      <td>48.237989</td>\n",
       "      <td>9185.160799</td>\n",
       "      <td>200607.922407</td>\n",
       "      <td>1467.903084</td>\n",
       "      <td>2120.990061</td>\n",
       "      <td>1459.009131</td>\n",
       "      <td>2.524488e+03</td>\n",
       "      <td>200000.0</td>\n",
       "    </tr>\n",
       "    <tr>\n",
       "      <th>52</th>\n",
       "      <td>2380</td>\n",
       "      <td>SHP</td>\n",
       "      <td>d9361e71-7095-4b77-97f5-af27d00f67f5</td>\n",
       "      <td>1.766667</td>\n",
       "      <td>[-54284.98828125, 108228.390625]</td>\n",
       "      <td>30</td>\n",
       "      <td>0.621646</td>\n",
       "      <td>[2046.8009033203125, -582.5318603515625]</td>\n",
       "      <td>-0.009121</td>\n",
       "      <td>[7864.274079867912, 12773.143434437652]</td>\n",
       "      <td>...</td>\n",
       "      <td>58.237415</td>\n",
       "      <td>52.428495</td>\n",
       "      <td>85.154289</td>\n",
       "      <td>9068.782994</td>\n",
       "      <td>200395.597653</td>\n",
       "      <td>1429.577166</td>\n",
       "      <td>2128.083012</td>\n",
       "      <td>1420.915450</td>\n",
       "      <td>2.602028e+03</td>\n",
       "      <td>15000.0</td>\n",
       "    </tr>\n",
       "    <tr>\n",
       "      <th>82</th>\n",
       "      <td>2410</td>\n",
       "      <td>SHP</td>\n",
       "      <td>d9361e71-7095-4b77-97f5-af27d00f67f5</td>\n",
       "      <td>2.766667</td>\n",
       "      <td>[-52236.5390625, 107649.3984375]</td>\n",
       "      <td>30</td>\n",
       "      <td>1.402525</td>\n",
       "      <td>[2051.86767578125, -566.6776123046875]</td>\n",
       "      <td>0.690879</td>\n",
       "      <td>[57586.42686777173, 191530.16326574457]</td>\n",
       "      <td>...</td>\n",
       "      <td>98.587575</td>\n",
       "      <td>28.793213</td>\n",
       "      <td>95.765082</td>\n",
       "      <td>7101.865790</td>\n",
       "      <td>198267.106533</td>\n",
       "      <td>1058.774454</td>\n",
       "      <td>2128.681394</td>\n",
       "      <td>1052.359385</td>\n",
       "      <td>1.267051e+10</td>\n",
       "      <td>200000.0</td>\n",
       "    </tr>\n",
       "    <tr>\n",
       "      <th>85</th>\n",
       "      <td>2413</td>\n",
       "      <td>SHP</td>\n",
       "      <td>d9361e71-7095-4b77-97f5-af27d00f67f5</td>\n",
       "      <td>2.866667</td>\n",
       "      <td>[-52031.25390625, 107593.046875]</td>\n",
       "      <td>30</td>\n",
       "      <td>1.461613</td>\n",
       "      <td>[2054.746826171875, -557.1011352539062]</td>\n",
       "      <td>0.390879</td>\n",
       "      <td>[4798.9267679456925, 14211.625588788014]</td>\n",
       "      <td>...</td>\n",
       "      <td>99.404541</td>\n",
       "      <td>31.992845</td>\n",
       "      <td>94.744171</td>\n",
       "      <td>6955.231964</td>\n",
       "      <td>198054.277837</td>\n",
       "      <td>1022.584825</td>\n",
       "      <td>2128.930763</td>\n",
       "      <td>1016.389010</td>\n",
       "      <td>1.221570e+10</td>\n",
       "      <td>15000.0</td>\n",
       "    </tr>\n",
       "    <tr>\n",
       "      <th>86</th>\n",
       "      <td>2414</td>\n",
       "      <td>SHP</td>\n",
       "      <td>d9361e71-7095-4b77-97f5-af27d00f67f5</td>\n",
       "      <td>2.900000</td>\n",
       "      <td>[-51962.76171875, 107574.4765625]</td>\n",
       "      <td>30</td>\n",
       "      <td>1.474642</td>\n",
       "      <td>[2054.826904296875, -556.8642578125]</td>\n",
       "      <td>0.290879</td>\n",
       "      <td>[-14558.354565794229, 3613.075191110523]</td>\n",
       "      <td>...</td>\n",
       "      <td>99.538075</td>\n",
       "      <td>-97.055698</td>\n",
       "      <td>24.087163</td>\n",
       "      <td>7105.929870</td>\n",
       "      <td>197983.334815</td>\n",
       "      <td>987.043324</td>\n",
       "      <td>2128.946079</td>\n",
       "      <td>981.062894</td>\n",
       "      <td>1.793736e+03</td>\n",
       "      <td>15000.0</td>\n",
       "    </tr>\n",
       "  </tbody>\n",
       "</table>\n",
       "<p>7 rows × 72 columns</p>\n",
       "</div>"
      ],
      "text/plain": [
       "    index    p                                   eid        ts  \\\n",
       "43   2371  SHP  d9361e71-7095-4b77-97f5-af27d00f67f5  1.466667   \n",
       "46   2374  SHP  d9361e71-7095-4b77-97f5-af27d00f67f5  1.566667   \n",
       "49   2377  SHP  d9361e71-7095-4b77-97f5-af27d00f67f5  1.666667   \n",
       "52   2380  SHP  d9361e71-7095-4b77-97f5-af27d00f67f5  1.766667   \n",
       "82   2410  SHP  d9361e71-7095-4b77-97f5-af27d00f67f5  2.766667   \n",
       "85   2413  SHP  d9361e71-7095-4b77-97f5-af27d00f67f5  2.866667   \n",
       "86   2414  SHP  d9361e71-7095-4b77-97f5-af27d00f67f5  2.900000   \n",
       "\n",
       "                                  loc   r         a  \\\n",
       "43   [-54894.66015625, 108405.578125]  30  0.474383   \n",
       "46  [-54692.30859375, 108346.0234375]  30  0.553470   \n",
       "49   [-54489.0859375, 108286.9609375]  30  0.602558   \n",
       "52   [-54284.98828125, 108228.390625]  30  0.621646   \n",
       "82   [-52236.5390625, 107649.3984375]  30  1.402525   \n",
       "85   [-52031.25390625, 107593.046875]  30  1.461613   \n",
       "86  [-51962.76171875, 107574.4765625]  30  1.474642   \n",
       "\n",
       "                                           v        av  \\\n",
       "43   [2020.638916015625, -597.2120361328125]  0.890879   \n",
       "46     [2029.320068359375, -592.24853515625]  0.590879   \n",
       "49   [2038.041259765625, -587.3556518554688]  0.290879   \n",
       "52  [2046.8009033203125, -582.5318603515625] -0.009121   \n",
       "82    [2051.86767578125, -566.6776123046875]  0.690879   \n",
       "85   [2054.746826171875, -557.1011352539062]  0.390879   \n",
       "86      [2054.826904296875, -556.8642578125]  0.290879   \n",
       "\n",
       "                                           f  ...    angle.y     _ada.x  \\\n",
       "43   [173624.11530979103, 99270.67332748574]  ...  45.678924  86.812057   \n",
       "46   [174424.67491258477, 97857.20607926183]  ...  52.564268  87.212336   \n",
       "49   [175192.41985779995, 96475.98677582077]  ...  56.675207  87.596213   \n",
       "52   [7864.274079867912, 12773.143434437652]  ...  58.237415  52.428495   \n",
       "82   [57586.42686777173, 191530.16326574457]  ...  98.587575  28.793213   \n",
       "85  [4798.9267679456925, 14211.625588788014]  ...  99.404541  31.992845   \n",
       "86  [-14558.354565794229, 3613.075191110523]  ...  99.538075 -97.055698   \n",
       "\n",
       "       _ada.y    o.ct_dist       o.t_dist  o.max_speed_cap        speed  \\\n",
       "43  49.635338  9370.649522  201030.481413      1546.292775  2107.046237   \n",
       "46  48.928605  9285.204381  200819.549084      1506.802655  2113.976884   \n",
       "49  48.237989  9185.160799  200607.922407      1467.903084  2120.990061   \n",
       "52  85.154289  9068.782994  200395.597653      1429.577166  2128.083012   \n",
       "82  95.765082  7101.865790  198267.106533      1058.774454  2128.681394   \n",
       "85  94.744171  6955.231964  198054.277837      1022.584825  2128.930763   \n",
       "86  24.087163  7105.929870  197983.334815       987.043324  2128.946079   \n",
       "\n",
       "      o.t_speed   o._dv_speed     f_mag  \n",
       "43  1536.923875  2.605678e+03  200000.0  \n",
       "46  1497.672998  2.566621e+03  200000.0  \n",
       "49  1459.009131  2.524488e+03  200000.0  \n",
       "52  1420.915450  2.602028e+03   15000.0  \n",
       "82  1052.359385  1.267051e+10  200000.0  \n",
       "85  1016.389010  1.221570e+10   15000.0  \n",
       "86   981.062894  1.793736e+03   15000.0  \n",
       "\n",
       "[7 rows x 72 columns]"
      ]
     },
     "execution_count": 40,
     "metadata": {},
     "output_type": "execute_result"
    }
   ],
   "source": [
    "df[(df[\"o.ct_cloc.x\"]-df[\"o.ct_cloc.x\"].shift(1)).abs() > 30]"
   ]
  },
  {
   "cell_type": "code",
   "execution_count": 41,
   "id": "a5619e23",
   "metadata": {},
   "outputs": [
    {
     "data": {
      "text/plain": [
       "43    176.160156\n",
       "46    130.472656\n",
       "49    116.050781\n",
       "52     99.886719\n",
       "82     66.917969\n",
       "85     67.910156\n",
       "86    226.867188\n",
       "Name: o.ct_cloc.x, dtype: float64"
      ]
     },
     "execution_count": 41,
     "metadata": {},
     "output_type": "execute_result"
    }
   ],
   "source": [
    "ctxloc_diff_s = (df[\"o.ct_cloc.x\"]-df[\"o.ct_cloc.x\"].shift(1)).abs()\n",
    "ctxloc_diff_s[ctxloc_diff_s > 30]"
   ]
  },
  {
   "cell_type": "code",
   "execution_count": 42,
   "id": "5e817d73",
   "metadata": {},
   "outputs": [
    {
     "data": {
      "application/vnd.jupyter.widget-view+json": {
       "model_id": "031729e1a6114101b69d738c3354d7a6",
       "version_major": 2,
       "version_minor": 0
      },
      "text/plain": [
       "interactive(children=(FloatSlider(value=6.266666666666654, continuous_update=False, description='hist_length',…"
      ]
     },
     "metadata": {},
     "output_type": "display_data"
    },
    {
     "data": {
      "text/plain": [
       "<function __main__.plot_collision_dv(hist_length, max_time)>"
      ]
     },
     "execution_count": 42,
     "metadata": {},
     "output_type": "execute_result"
    }
   ],
   "source": [
    "def plot_collision_dv(hist_length, max_time):\n",
    "    sample = df[(df[\"ts\"] >= max_time - hist_length) & (df[\"ts\"] <= max_time)]\n",
    "    plt.scatter(sample[\"ts\"], sample[\"o.ct_dv.x\"])\n",
    "    plt.scatter(sample[\"ts\"], sample[\"o.ct_dv.y\"])\n",
    "    plt.title(\"collision avoidance velocity\")\n",
    "\n",
    "ipywidgets.interact(\n",
    "    plot_collision_dv,\n",
    "    hist_length=ipywidgets.FloatSlider(value=15, min=0, max=df[\"ts\"].max()-df[\"ts\"].min(), continuous_update=False),\n",
    "    max_time=ipywidgets.FloatSlider(value=df[\"ts\"].max(), min=df[\"ts\"].min(), max=df[\"ts\"].max()+.1, continuous_update=False))"
   ]
  },
  {
   "cell_type": "code",
   "execution_count": 43,
   "id": "7f11097b",
   "metadata": {},
   "outputs": [
    {
     "data": {
      "text/html": [
       "<div>\n",
       "<style scoped>\n",
       "    .dataframe tbody tr th:only-of-type {\n",
       "        vertical-align: middle;\n",
       "    }\n",
       "\n",
       "    .dataframe tbody tr th {\n",
       "        vertical-align: top;\n",
       "    }\n",
       "\n",
       "    .dataframe thead th {\n",
       "        text-align: right;\n",
       "    }\n",
       "</style>\n",
       "<table border=\"1\" class=\"dataframe\">\n",
       "  <thead>\n",
       "    <tr style=\"text-align: right;\">\n",
       "      <th></th>\n",
       "      <th>index</th>\n",
       "      <th>p</th>\n",
       "      <th>eid</th>\n",
       "      <th>ts</th>\n",
       "      <th>loc</th>\n",
       "      <th>r</th>\n",
       "      <th>a</th>\n",
       "      <th>v</th>\n",
       "      <th>av</th>\n",
       "      <th>f</th>\n",
       "      <th>...</th>\n",
       "      <th>angle.y</th>\n",
       "      <th>_ada.x</th>\n",
       "      <th>_ada.y</th>\n",
       "      <th>o.ct_dist</th>\n",
       "      <th>o.t_dist</th>\n",
       "      <th>o.max_speed_cap</th>\n",
       "      <th>speed</th>\n",
       "      <th>o.t_speed</th>\n",
       "      <th>o._dv_speed</th>\n",
       "      <th>f_mag</th>\n",
       "    </tr>\n",
       "  </thead>\n",
       "  <tbody>\n",
       "    <tr>\n",
       "      <th>19</th>\n",
       "      <td>2347</td>\n",
       "      <td>SHP</td>\n",
       "      <td>d9361e71-7095-4b77-97f5-af27d00f67f5</td>\n",
       "      <td>0.666667</td>\n",
       "      <td>[-56504.609375, 108888.0]</td>\n",
       "      <td>30</td>\n",
       "      <td>-0.268321</td>\n",
       "      <td>[2014.0048828125, -604.5323486328125]</td>\n",
       "      <td>-0.009121</td>\n",
       "      <td>[-13024.840506353446, 7439.995281184962]</td>\n",
       "      <td>...</td>\n",
       "      <td>-26.511246</td>\n",
       "      <td>-86.832269</td>\n",
       "      <td>49.599971</td>\n",
       "      <td>10861.965870</td>\n",
       "      <td>202711.153783</td>\n",
       "      <td>1865.166148</td>\n",
       "      <td>2102.777931</td>\n",
       "      <td>1853.865237</td>\n",
       "      <td>1.608760e+03</td>\n",
       "      <td>15000.0</td>\n",
       "    </tr>\n",
       "    <tr>\n",
       "      <th>34</th>\n",
       "      <td>2362</td>\n",
       "      <td>SHP</td>\n",
       "      <td>d9361e71-7095-4b77-97f5-af27d00f67f5</td>\n",
       "      <td>1.166667</td>\n",
       "      <td>[-55498.37890625, 108586.140625]</td>\n",
       "      <td>30</td>\n",
       "      <td>0.077119</td>\n",
       "      <td>[2010.638671875, -602.8902587890625]</td>\n",
       "      <td>1.490879</td>\n",
       "      <td>[12921.7656244039, 7617.609411618164]</td>\n",
       "      <td>...</td>\n",
       "      <td>7.704244</td>\n",
       "      <td>86.145104</td>\n",
       "      <td>50.784062</td>\n",
       "      <td>9819.600437</td>\n",
       "      <td>201660.623166</td>\n",
       "      <td>1665.613363</td>\n",
       "      <td>2099.081831</td>\n",
       "      <td>1655.521544</td>\n",
       "      <td>2.645554e+03</td>\n",
       "      <td>15000.0</td>\n",
       "    </tr>\n",
       "    <tr>\n",
       "      <th>79</th>\n",
       "      <td>2407</td>\n",
       "      <td>SHP</td>\n",
       "      <td>d9361e71-7095-4b77-97f5-af27d00f67f5</td>\n",
       "      <td>2.666667</td>\n",
       "      <td>[-52441.5546875, 107706.7109375]</td>\n",
       "      <td>30</td>\n",
       "      <td>1.313437</td>\n",
       "      <td>[2049.299072265625, -576.3421630859375]</td>\n",
       "      <td>0.990879</td>\n",
       "      <td>[51370.220734189956, 193290.19742791046]</td>\n",
       "      <td>...</td>\n",
       "      <td>96.706550</td>\n",
       "      <td>25.685110</td>\n",
       "      <td>96.645099</td>\n",
       "      <td>7248.971723</td>\n",
       "      <td>198479.951469</td>\n",
       "      <td>1095.240379</td>\n",
       "      <td>2128.801770</td>\n",
       "      <td>1088.604326</td>\n",
       "      <td>1.315070e+10</td>\n",
       "      <td>200000.0</td>\n",
       "    </tr>\n",
       "    <tr>\n",
       "      <th>82</th>\n",
       "      <td>2410</td>\n",
       "      <td>SHP</td>\n",
       "      <td>d9361e71-7095-4b77-97f5-af27d00f67f5</td>\n",
       "      <td>2.766667</td>\n",
       "      <td>[-52236.5390625, 107649.3984375]</td>\n",
       "      <td>30</td>\n",
       "      <td>1.402525</td>\n",
       "      <td>[2051.86767578125, -566.6776123046875]</td>\n",
       "      <td>0.690879</td>\n",
       "      <td>[57586.42686777173, 191530.16326574457]</td>\n",
       "      <td>...</td>\n",
       "      <td>98.587575</td>\n",
       "      <td>28.793213</td>\n",
       "      <td>95.765082</td>\n",
       "      <td>7101.865790</td>\n",
       "      <td>198267.106533</td>\n",
       "      <td>1058.774454</td>\n",
       "      <td>2128.681394</td>\n",
       "      <td>1052.359385</td>\n",
       "      <td>1.267051e+10</td>\n",
       "      <td>200000.0</td>\n",
       "    </tr>\n",
       "    <tr>\n",
       "      <th>85</th>\n",
       "      <td>2413</td>\n",
       "      <td>SHP</td>\n",
       "      <td>d9361e71-7095-4b77-97f5-af27d00f67f5</td>\n",
       "      <td>2.866667</td>\n",
       "      <td>[-52031.25390625, 107593.046875]</td>\n",
       "      <td>30</td>\n",
       "      <td>1.461613</td>\n",
       "      <td>[2054.746826171875, -557.1011352539062]</td>\n",
       "      <td>0.390879</td>\n",
       "      <td>[4798.9267679456925, 14211.625588788014]</td>\n",
       "      <td>...</td>\n",
       "      <td>99.404541</td>\n",
       "      <td>31.992845</td>\n",
       "      <td>94.744171</td>\n",
       "      <td>6955.231964</td>\n",
       "      <td>198054.277837</td>\n",
       "      <td>1022.584825</td>\n",
       "      <td>2128.930763</td>\n",
       "      <td>1016.389010</td>\n",
       "      <td>1.221570e+10</td>\n",
       "      <td>15000.0</td>\n",
       "    </tr>\n",
       "    <tr>\n",
       "      <th>86</th>\n",
       "      <td>2414</td>\n",
       "      <td>SHP</td>\n",
       "      <td>d9361e71-7095-4b77-97f5-af27d00f67f5</td>\n",
       "      <td>2.900000</td>\n",
       "      <td>[-51962.76171875, 107574.4765625]</td>\n",
       "      <td>30</td>\n",
       "      <td>1.474642</td>\n",
       "      <td>[2054.826904296875, -556.8642578125]</td>\n",
       "      <td>0.290879</td>\n",
       "      <td>[-14558.354565794229, 3613.075191110523]</td>\n",
       "      <td>...</td>\n",
       "      <td>99.538075</td>\n",
       "      <td>-97.055698</td>\n",
       "      <td>24.087163</td>\n",
       "      <td>7105.929870</td>\n",
       "      <td>197983.334815</td>\n",
       "      <td>987.043324</td>\n",
       "      <td>2128.946079</td>\n",
       "      <td>981.062894</td>\n",
       "      <td>1.793736e+03</td>\n",
       "      <td>15000.0</td>\n",
       "    </tr>\n",
       "    <tr>\n",
       "      <th>161</th>\n",
       "      <td>2489</td>\n",
       "      <td>SHP</td>\n",
       "      <td>d9361e71-7095-4b77-97f5-af27d00f67f5</td>\n",
       "      <td>5.400000</td>\n",
       "      <td>[-46946.51171875, 106213.890625]</td>\n",
       "      <td>30</td>\n",
       "      <td>2.911839</td>\n",
       "      <td>[1902.5382080078125, -516.6884765625]</td>\n",
       "      <td>-0.009121</td>\n",
       "      <td>[14837.009921578941, 2205.2520461317226]</td>\n",
       "      <td>...</td>\n",
       "      <td>22.773747</td>\n",
       "      <td>98.913401</td>\n",
       "      <td>14.701673</td>\n",
       "      <td>1894.191156</td>\n",
       "      <td>192787.482761</td>\n",
       "      <td>143.578520</td>\n",
       "      <td>1971.450891</td>\n",
       "      <td>142.708589</td>\n",
       "      <td>2.332434e+03</td>\n",
       "      <td>15000.0</td>\n",
       "    </tr>\n",
       "    <tr>\n",
       "      <th>173</th>\n",
       "      <td>2501</td>\n",
       "      <td>SHP</td>\n",
       "      <td>d9361e71-7095-4b77-97f5-af27d00f67f5</td>\n",
       "      <td>5.800000</td>\n",
       "      <td>[-46184.953125, 106007.296875]</td>\n",
       "      <td>30</td>\n",
       "      <td>2.688191</td>\n",
       "      <td>[1905.5037841796875, -516.235107421875]</td>\n",
       "      <td>-1.209121</td>\n",
       "      <td>[-193112.91367771878, 52032.70674202852]</td>\n",
       "      <td>...</td>\n",
       "      <td>43.802632</td>\n",
       "      <td>-96.556457</td>\n",
       "      <td>26.016353</td>\n",
       "      <td>1127.897862</td>\n",
       "      <td>191998.655931</td>\n",
       "      <td>100.609589</td>\n",
       "      <td>1974.194357</td>\n",
       "      <td>100.000001</td>\n",
       "      <td>1.918938e+03</td>\n",
       "      <td>200000.0</td>\n",
       "    </tr>\n",
       "    <tr>\n",
       "      <th>185</th>\n",
       "      <td>2513</td>\n",
       "      <td>SHP</td>\n",
       "      <td>d9361e71-7095-4b77-97f5-af27d00f67f5</td>\n",
       "      <td>6.200000</td>\n",
       "      <td>[-45426.2578125, 105801.75]</td>\n",
       "      <td>30</td>\n",
       "      <td>2.424542</td>\n",
       "      <td>[1893.675537109375, -513.0484008789062]</td>\n",
       "      <td>-0.009121</td>\n",
       "      <td>[-3108.9728735181634, 14674.272986138982]</td>\n",
       "      <td>...</td>\n",
       "      <td>65.716436</td>\n",
       "      <td>-20.726486</td>\n",
       "      <td>97.828487</td>\n",
       "      <td>354.533952</td>\n",
       "      <td>191212.874398</td>\n",
       "      <td>100.609589</td>\n",
       "      <td>1961.944368</td>\n",
       "      <td>100.000004</td>\n",
       "      <td>2.540021e+07</td>\n",
       "      <td>15000.0</td>\n",
       "    </tr>\n",
       "    <tr>\n",
       "      <th>188</th>\n",
       "      <td>2516</td>\n",
       "      <td>SHP</td>\n",
       "      <td>d9361e71-7095-4b77-97f5-af27d00f67f5</td>\n",
       "      <td>6.300000</td>\n",
       "      <td>[-45236.8984375, 105750.46875]</td>\n",
       "      <td>30</td>\n",
       "      <td>2.413630</td>\n",
       "      <td>[1893.52001953125, -512.314697265625]</td>\n",
       "      <td>-0.309121</td>\n",
       "      <td>[-8782.10133112846, 12160.374016032227]</td>\n",
       "      <td>...</td>\n",
       "      <td>66.535006</td>\n",
       "      <td>-58.547342</td>\n",
       "      <td>81.069160</td>\n",
       "      <td>158.768105</td>\n",
       "      <td>191016.760843</td>\n",
       "      <td>100.609589</td>\n",
       "      <td>1961.602512</td>\n",
       "      <td>100.000001</td>\n",
       "      <td>6.751712e+06</td>\n",
       "      <td>15000.0</td>\n",
       "    </tr>\n",
       "  </tbody>\n",
       "</table>\n",
       "<p>10 rows × 72 columns</p>\n",
       "</div>"
      ],
      "text/plain": [
       "     index    p                                   eid        ts  \\\n",
       "19    2347  SHP  d9361e71-7095-4b77-97f5-af27d00f67f5  0.666667   \n",
       "34    2362  SHP  d9361e71-7095-4b77-97f5-af27d00f67f5  1.166667   \n",
       "79    2407  SHP  d9361e71-7095-4b77-97f5-af27d00f67f5  2.666667   \n",
       "82    2410  SHP  d9361e71-7095-4b77-97f5-af27d00f67f5  2.766667   \n",
       "85    2413  SHP  d9361e71-7095-4b77-97f5-af27d00f67f5  2.866667   \n",
       "86    2414  SHP  d9361e71-7095-4b77-97f5-af27d00f67f5  2.900000   \n",
       "161   2489  SHP  d9361e71-7095-4b77-97f5-af27d00f67f5  5.400000   \n",
       "173   2501  SHP  d9361e71-7095-4b77-97f5-af27d00f67f5  5.800000   \n",
       "185   2513  SHP  d9361e71-7095-4b77-97f5-af27d00f67f5  6.200000   \n",
       "188   2516  SHP  d9361e71-7095-4b77-97f5-af27d00f67f5  6.300000   \n",
       "\n",
       "                                   loc   r         a  \\\n",
       "19           [-56504.609375, 108888.0]  30 -0.268321   \n",
       "34    [-55498.37890625, 108586.140625]  30  0.077119   \n",
       "79    [-52441.5546875, 107706.7109375]  30  1.313437   \n",
       "82    [-52236.5390625, 107649.3984375]  30  1.402525   \n",
       "85    [-52031.25390625, 107593.046875]  30  1.461613   \n",
       "86   [-51962.76171875, 107574.4765625]  30  1.474642   \n",
       "161   [-46946.51171875, 106213.890625]  30  2.911839   \n",
       "173     [-46184.953125, 106007.296875]  30  2.688191   \n",
       "185        [-45426.2578125, 105801.75]  30  2.424542   \n",
       "188     [-45236.8984375, 105750.46875]  30  2.413630   \n",
       "\n",
       "                                           v        av  \\\n",
       "19     [2014.0048828125, -604.5323486328125] -0.009121   \n",
       "34      [2010.638671875, -602.8902587890625]  1.490879   \n",
       "79   [2049.299072265625, -576.3421630859375]  0.990879   \n",
       "82    [2051.86767578125, -566.6776123046875]  0.690879   \n",
       "85   [2054.746826171875, -557.1011352539062]  0.390879   \n",
       "86      [2054.826904296875, -556.8642578125]  0.290879   \n",
       "161    [1902.5382080078125, -516.6884765625] -0.009121   \n",
       "173  [1905.5037841796875, -516.235107421875] -1.209121   \n",
       "185  [1893.675537109375, -513.0484008789062] -0.009121   \n",
       "188    [1893.52001953125, -512.314697265625] -0.309121   \n",
       "\n",
       "                                             f  ...    angle.y     _ada.x  \\\n",
       "19    [-13024.840506353446, 7439.995281184962]  ... -26.511246 -86.832269   \n",
       "34       [12921.7656244039, 7617.609411618164]  ...   7.704244  86.145104   \n",
       "79    [51370.220734189956, 193290.19742791046]  ...  96.706550  25.685110   \n",
       "82     [57586.42686777173, 191530.16326574457]  ...  98.587575  28.793213   \n",
       "85    [4798.9267679456925, 14211.625588788014]  ...  99.404541  31.992845   \n",
       "86    [-14558.354565794229, 3613.075191110523]  ...  99.538075 -97.055698   \n",
       "161   [14837.009921578941, 2205.2520461317226]  ...  22.773747  98.913401   \n",
       "173   [-193112.91367771878, 52032.70674202852]  ...  43.802632 -96.556457   \n",
       "185  [-3108.9728735181634, 14674.272986138982]  ...  65.716436 -20.726486   \n",
       "188    [-8782.10133112846, 12160.374016032227]  ...  66.535006 -58.547342   \n",
       "\n",
       "        _ada.y     o.ct_dist       o.t_dist  o.max_speed_cap        speed  \\\n",
       "19   49.599971  10861.965870  202711.153783      1865.166148  2102.777931   \n",
       "34   50.784062   9819.600437  201660.623166      1665.613363  2099.081831   \n",
       "79   96.645099   7248.971723  198479.951469      1095.240379  2128.801770   \n",
       "82   95.765082   7101.865790  198267.106533      1058.774454  2128.681394   \n",
       "85   94.744171   6955.231964  198054.277837      1022.584825  2128.930763   \n",
       "86   24.087163   7105.929870  197983.334815       987.043324  2128.946079   \n",
       "161  14.701673   1894.191156  192787.482761       143.578520  1971.450891   \n",
       "173  26.016353   1127.897862  191998.655931       100.609589  1974.194357   \n",
       "185  97.828487    354.533952  191212.874398       100.609589  1961.944368   \n",
       "188  81.069160    158.768105  191016.760843       100.609589  1961.602512   \n",
       "\n",
       "       o.t_speed   o._dv_speed     f_mag  \n",
       "19   1853.865237  1.608760e+03   15000.0  \n",
       "34   1655.521544  2.645554e+03   15000.0  \n",
       "79   1088.604326  1.315070e+10  200000.0  \n",
       "82   1052.359385  1.267051e+10  200000.0  \n",
       "85   1016.389010  1.221570e+10   15000.0  \n",
       "86    981.062894  1.793736e+03   15000.0  \n",
       "161   142.708589  2.332434e+03   15000.0  \n",
       "173   100.000001  1.918938e+03  200000.0  \n",
       "185   100.000004  2.540021e+07   15000.0  \n",
       "188   100.000001  6.751712e+06   15000.0  \n",
       "\n",
       "[10 rows x 72 columns]"
      ]
     },
     "execution_count": 43,
     "metadata": {},
     "output_type": "execute_result"
    }
   ],
   "source": [
    "df[(df[\"o.ct_dv.x\"]-df[\"o.ct_dv.x\"].shift(1)).abs() > 250]"
   ]
  },
  {
   "cell_type": "markdown",
   "id": "785ce89f",
   "metadata": {},
   "source": [
    "## Nearest Neighbors"
   ]
  },
  {
   "cell_type": "code",
   "execution_count": 44,
   "id": "03a6b3aa",
   "metadata": {},
   "outputs": [
    {
     "data": {
      "application/vnd.jupyter.widget-view+json": {
       "model_id": "5f3c8a8af4ef487b98a6eb16941deb0c",
       "version_major": 2,
       "version_minor": 0
      },
      "text/plain": [
       "interactive(children=(FloatSlider(value=6.266666666666654, continuous_update=False, description='hist_length',…"
      ]
     },
     "metadata": {},
     "output_type": "display_data"
    },
    {
     "data": {
      "text/plain": [
       "<function __main__.plot_neighborhood_size(hist_length, max_time)>"
      ]
     },
     "execution_count": 44,
     "metadata": {},
     "output_type": "execute_result"
    }
   ],
   "source": [
    "neighborhood_radius = 5e4\n",
    "def plot_neighborhood_size(hist_length, max_time):\n",
    "    sample = df[(df[\"ts\"] >= max_time - hist_length) & (df[\"ts\"] <= max_time)]\n",
    "    plt.scatter(sample[\"ts\"], sample[\"o.nn\"])\n",
    "    plt.title(\"neighborhood size (10km^2)\")\n",
    "    plt.show()\n",
    "\n",
    "ipywidgets.interact(\n",
    "    plot_neighborhood_size,\n",
    "    hist_length=ipywidgets.FloatSlider(value=15, min=0, max=df[\"ts\"].max()-df[\"ts\"].min(), continuous_update=False),\n",
    "    max_time=ipywidgets.FloatSlider(value=df[\"ts\"].max(), min=df[\"ts\"].min(), max=df[\"ts\"].max()+.1, continuous_update=False))"
   ]
  },
  {
   "cell_type": "code",
   "execution_count": 45,
   "id": "139c049e",
   "metadata": {},
   "outputs": [
    {
     "data": {
      "application/vnd.jupyter.widget-view+json": {
       "model_id": "abd77d29b784469b99689451b3415ab6",
       "version_major": 2,
       "version_minor": 0
      },
      "text/plain": [
       "interactive(children=(FloatSlider(value=6.266666666666654, continuous_update=False, description='hist_length',…"
      ]
     },
     "metadata": {},
     "output_type": "display_data"
    },
    {
     "data": {
      "text/plain": [
       "<function __main__.plot_nearest_neighbor(hist_length, max_time)>"
      ]
     },
     "execution_count": 45,
     "metadata": {},
     "output_type": "execute_result"
    }
   ],
   "source": [
    "def plot_nearest_neighbor(hist_length, max_time):\n",
    "    sample = df[(df[\"ts\"] >= max_time - hist_length) & (df[\"ts\"] <= max_time)]\n",
    "    plt.scatter(sample[\"ts\"], sample[\"o.nnd\"], label=\"nearest neighbor dist\")\n",
    "    plt.scatter(sample[\"ts\"], sample[\"o.scm\"], label=\"desired margin\")\n",
    "    plt.title(\"nearest neighor dist\")\n",
    "    plt.legend()\n",
    "    plt.show()\n",
    "    print(f'min dist {sample[\"o.nnd\"].min()}')\n",
    "\n",
    "ipywidgets.interact(\n",
    "    plot_nearest_neighbor,\n",
    "    hist_length=ipywidgets.FloatSlider(value=15, min=0, max=df[\"ts\"].max()-df[\"ts\"].min(), continuous_update=False),\n",
    "    max_time=ipywidgets.FloatSlider(value=df[\"ts\"].max(), min=df[\"ts\"].min(), max=df[\"ts\"].max()+.1, continuous_update=False))"
   ]
  },
  {
   "cell_type": "code",
   "execution_count": 46,
   "id": "a89ffef7",
   "metadata": {},
   "outputs": [],
   "source": [
    "# \n",
    "# Smallest enclosing circle - Library (Python)\n",
    "# \n",
    "# Copyright (c) 2020 Project Nayuki\n",
    "# https://www.nayuki.io/page/smallest-enclosing-circle\n",
    "# \n",
    "# This program is free software: you can redistribute it and/or modify\n",
    "# it under the terms of the GNU Lesser General Public License as published by\n",
    "# the Free Software Foundation, either version 3 of the License, or\n",
    "# (at your option) any later version.\n",
    "# \n",
    "# This program is distributed in the hope that it will be useful,\n",
    "# but WITHOUT ANY WARRANTY; without even the implied warranty of\n",
    "# MERCHANTABILITY or FITNESS FOR A PARTICULAR PURPOSE.  See the\n",
    "# GNU Lesser General Public License for more details.\n",
    "# \n",
    "# You should have received a copy of the GNU Lesser General Public License\n",
    "# along with this program (see COPYING.txt and COPYING.LESSER.txt).\n",
    "# If not, see <http://www.gnu.org/licenses/>.\n",
    "# \n",
    "\n",
    "import math, random\n",
    "\n",
    "\n",
    "# Data conventions: A point is a pair of floats (x, y). A circle is a triple of floats (center x, center y, radius).\n",
    "\n",
    "# Returns the smallest circle that encloses all the given points. Runs in expected O(n) time, randomized.\n",
    "# Input: A sequence of pairs of floats or ints, e.g. [(0,5), (3.1,-2.7)].\n",
    "# Output: A triple of floats representing a circle.\n",
    "# Note: If 0 points are given, None is returned. If 1 point is given, a circle of radius 0 is returned.\n",
    "# \n",
    "# Initially: No boundary points known\n",
    "def make_circle(points):\n",
    "\t# Convert to float and randomize order\n",
    "\tshuffled = [(float(x), float(y)) for (x, y) in points]\n",
    "\trandom.shuffle(shuffled)\n",
    "\t\n",
    "\t# Progressively add points to circle or recompute circle\n",
    "\tc = None\n",
    "\tfor (i, p) in enumerate(shuffled):\n",
    "\t\tif c is None or not is_in_circle(c, p):\n",
    "\t\t\tc = _make_circle_one_point(shuffled[ : i + 1], p)\n",
    "\treturn c\n",
    "\n",
    "\n",
    "# One boundary point known\n",
    "def _make_circle_one_point(points, p):\n",
    "\tc = (p[0], p[1], 0.0)\n",
    "\tfor (i, q) in enumerate(points):\n",
    "\t\tif not is_in_circle(c, q):\n",
    "\t\t\tif c[2] == 0.0:\n",
    "\t\t\t\tc = make_diameter(p, q)\n",
    "\t\t\telse:\n",
    "\t\t\t\tc = _make_circle_two_points(points[ : i + 1], p, q)\n",
    "\treturn c\n",
    "\n",
    "\n",
    "# Two boundary points known\n",
    "def _make_circle_two_points(points, p, q):\n",
    "\tcirc = make_diameter(p, q)\n",
    "\tleft  = None\n",
    "\tright = None\n",
    "\tpx, py = p\n",
    "\tqx, qy = q\n",
    "\t\n",
    "\t# For each point not in the two-point circle\n",
    "\tfor r in points:\n",
    "\t\tif is_in_circle(circ, r):\n",
    "\t\t\tcontinue\n",
    "\t\t\n",
    "\t\t# Form a circumcircle and classify it on left or right side\n",
    "\t\tcross = _cross_product(px, py, qx, qy, r[0], r[1])\n",
    "\t\tc = make_circumcircle(p, q, r)\n",
    "\t\tif c is None:\n",
    "\t\t\tcontinue\n",
    "\t\telif cross > 0.0 and (left is None or _cross_product(px, py, qx, qy, c[0], c[1]) > _cross_product(px, py, qx, qy, left[0], left[1])):\n",
    "\t\t\tleft = c\n",
    "\t\telif cross < 0.0 and (right is None or _cross_product(px, py, qx, qy, c[0], c[1]) < _cross_product(px, py, qx, qy, right[0], right[1])):\n",
    "\t\t\tright = c\n",
    "\t\n",
    "\t# Select which circle to return\n",
    "\tif left is None and right is None:\n",
    "\t\treturn circ\n",
    "\telif left is None:\n",
    "\t\treturn right\n",
    "\telif right is None:\n",
    "\t\treturn left\n",
    "\telse:\n",
    "\t\treturn left if (left[2] <= right[2]) else right\n",
    "\n",
    "\n",
    "def make_diameter(a, b):\n",
    "\tcx = (a[0] + b[0]) / 2\n",
    "\tcy = (a[1] + b[1]) / 2\n",
    "\tr0 = math.hypot(cx - a[0], cy - a[1])\n",
    "\tr1 = math.hypot(cx - b[0], cy - b[1])\n",
    "\treturn (cx, cy, max(r0, r1))\n",
    "\n",
    "\n",
    "def make_circumcircle(a, b, c):\n",
    "\t# Mathematical algorithm from Wikipedia: Circumscribed circle\n",
    "\tox = (min(a[0], b[0], c[0]) + max(a[0], b[0], c[0])) / 2\n",
    "\toy = (min(a[1], b[1], c[1]) + max(a[1], b[1], c[1])) / 2\n",
    "\tax = a[0] - ox;  ay = a[1] - oy\n",
    "\tbx = b[0] - ox;  by = b[1] - oy\n",
    "\tcx = c[0] - ox;  cy = c[1] - oy\n",
    "\td = (ax * (by - cy) + bx * (cy - ay) + cx * (ay - by)) * 2.0\n",
    "\tif d == 0.0:\n",
    "\t\treturn None\n",
    "\tx = ox + ((ax*ax + ay*ay) * (by - cy) + (bx*bx + by*by) * (cy - ay) + (cx*cx + cy*cy) * (ay - by)) / d\n",
    "\ty = oy + ((ax*ax + ay*ay) * (cx - bx) + (bx*bx + by*by) * (ax - cx) + (cx*cx + cy*cy) * (bx - ax)) / d\n",
    "\tra = math.hypot(x - a[0], y - a[1])\n",
    "\trb = math.hypot(x - b[0], y - b[1])\n",
    "\trc = math.hypot(x - c[0], y - c[1])\n",
    "\treturn (x, y, max(ra, rb, rc))\n",
    "\n",
    "\n",
    "_MULTIPLICATIVE_EPSILON = 1 + 1e-14\n",
    "\n",
    "def is_in_circle(c, p):\n",
    "\treturn c is not None and math.hypot(p[0] - c[0], p[1] - c[1]) <= c[2] * _MULTIPLICATIVE_EPSILON\n",
    "\n",
    "\n",
    "# Returns twice the signed area of the triangle defined by (x0, y0), (x1, y1), (x2, y2).\n",
    "def _cross_product(x0, y0, x1, y1, x2, y2):\n",
    "\treturn (x1 - x0) * (y2 - y0) - (y1 - y0) * (x2 - x0)"
   ]
  },
  {
   "cell_type": "code",
   "execution_count": 47,
   "id": "8c327886",
   "metadata": {},
   "outputs": [
    {
     "data": {
      "text/plain": [
       "(-59830.15625, 52500.46484375, 5948.348017811875)"
      ]
     },
     "execution_count": 47,
     "metadata": {},
     "output_type": "execute_result"
    }
   ],
   "source": [
    "make_circle([(-55239.66796875, 48717.57421875), (-64420.64453125, 56283.35546875), (-64745.4375, 53056.1328125)])"
   ]
  },
  {
   "cell_type": "code",
   "execution_count": 48,
   "id": "2d2731c1",
   "metadata": {},
   "outputs": [
    {
     "data": {
      "application/vnd.jupyter.widget-view+json": {
       "model_id": "4443219704544acd8e3564e36094baec",
       "version_major": 2,
       "version_minor": 0
      },
      "text/plain": [
       "interactive(children=(FloatSlider(value=6.266666666666654, continuous_update=False, description='hist_length',…"
      ]
     },
     "metadata": {},
     "output_type": "display_data"
    },
    {
     "data": {
      "text/plain": [
       "<function __main__.plot_radius_comparison(hist_length, max_time)>"
      ]
     },
     "execution_count": 48,
     "metadata": {},
     "output_type": "execute_result"
    }
   ],
   "source": [
    "def plot_radius_comparison(hist_length, max_time):\n",
    "    sample = df[(df[\"ts\"] >= max_time - hist_length) & (df[\"ts\"] <= max_time)]\n",
    "    foo = sample[\"o.ct_cn\"].apply(lambda x: np.nan if isinstance(x, float) else make_circle(x)[2]+30)\n",
    "    plt.scatter(sample[\"ts\"], sample[\"o.ct_cradius\"], label=\"threat radius\")\n",
    "    plt.scatter(sample[\"ts\"], sample[\"o.scm\"], label=\"threat radius\")\n",
    "    plt.scatter(sample[\"ts\"], foo, label=\"min radius\", marker=\"x\")\n",
    "    plt.legend()\n",
    "    plt.title(\"cradius vs smallest enclosing radius\")\n",
    "    plt.show()\n",
    "\n",
    "ipywidgets.interact(\n",
    "    plot_radius_comparison,\n",
    "    hist_length=ipywidgets.FloatSlider(value=15, min=0, max=df[\"ts\"].max()-df[\"ts\"].min(), continuous_update=False),\n",
    "    max_time=ipywidgets.FloatSlider(value=df[\"ts\"].max(), min=df[\"ts\"].min(), max=df[\"ts\"].max()+.1, continuous_update=False))"
   ]
  },
  {
   "cell_type": "markdown",
   "id": "12a7d799",
   "metadata": {},
   "source": [
    "# History Visualization"
   ]
  },
  {
   "cell_type": "markdown",
   "id": "e7b61368",
   "metadata": {},
   "source": [
    "## Position and Velocity"
   ]
  },
  {
   "cell_type": "code",
   "execution_count": 49,
   "id": "05fc6ec3",
   "metadata": {
    "scrolled": false
   },
   "outputs": [
    {
     "data": {
      "application/vnd.jupyter.widget-view+json": {
       "model_id": "1467a62258b549a8b489815e9f3cdff8",
       "version_major": 2,
       "version_minor": 0
      },
      "text/plain": [
       "interactive(children=(FloatSlider(value=6.266666666666654, continuous_update=False, description='hist_length',…"
      ]
     },
     "metadata": {},
     "output_type": "display_data"
    },
    {
     "data": {
      "text/plain": [
       "<function __main__.plot_collision_chart(hist_length=6.299999999999987, max_time=6.299999999999987, sampling_interval=50, show_tloc=True, show_tv=True, show_ctdv=True, show_v=True, show_cn=True, show_all_cts=True, show_projected_v=True)>"
      ]
     },
     "execution_count": 49,
     "metadata": {},
     "output_type": "execute_result"
    }
   ],
   "source": [
    "def plot_collision_chart(hist_length=df[\"ts\"].max(), max_time=df[\"ts\"].max(), sampling_interval=50, show_tloc=True, show_tv=True, show_ctdv=True, show_v=True, show_cn=True, show_all_cts=True, show_projected_v=True):\n",
    "    plt.figure(figsize=(10, 10))\n",
    "    sample = df[(df[\"ts\"] >= max_time - hist_length) & (df[\"ts\"] <= max_time)].iloc[::sampling_interval]\n",
    "    scale = None\n",
    "    if show_v:\n",
    "        q = plt.quiver(sample[\"loc.x\"], sample[\"loc.y\"], sample[\"v.x\"], sample[\"v.y\"], scale=scale, units=\"inches\", label=\"v\")\n",
    "        q._init()\n",
    "        scale = q.scale\n",
    "    ctdv_df = sample[~(sample[\"o.ct_dv\"].isna())]\n",
    "    if show_ctdv:\n",
    "        q = plt.quiver(ctdv_df[\"loc.x\"], ctdv_df[\"loc.y\"], ctdv_df[\"o.ct_dv.x\"], ctdv_df[\"o.ct_dv.y\"], scale=scale, units=\"inches\", label=\"ctdv\", color=\"orange\")\n",
    "        q._init()\n",
    "        scale = q.scale\n",
    "    if show_tv:\n",
    "        q = plt.quiver(sample[\"loc.x\"], sample[\"loc.y\"], sample[\"o.t_v.x\"], sample[\"o.t_v.y\"], scale=scale, units=\"inches\", label=\"tv\", color=\"purple\")\n",
    "        q._init()\n",
    "        scale = q.scale\n",
    "    \n",
    "    \n",
    "    if show_all_cts:\n",
    "        ctv_df = sample\n",
    "    else:\n",
    "        ctv_df = sample[sample[\"o.ct\"] == sample.iloc[-1][\"o.ct\"]]\n",
    "    q = plt.quiver(ctv_df[\"o.ct_loc.x\"], ctv_df[\"o.ct_loc.y\"], ctv_df[\"o.ct_v.x\"], ctv_df[\"o.ct_v.y\"], scale=scale, units=\"inches\", label=\"ctv\", color=\"cyan\")\n",
    "    q._init()\n",
    "    scale = q.scale\n",
    "    \n",
    "    if show_all_cts:\n",
    "        cts = df[\"o.ct\"].unique()\n",
    "    else:\n",
    "        cts = [sample.iloc[-1][\"o.ct\"]]\n",
    "        \n",
    "    cmap = plt.get_cmap('viridis')\n",
    "    for x, c in zip(cts, cmap(np.linspace(0, 1, len(cts)))):\n",
    "        if not isinstance(x, str):\n",
    "            continue\n",
    "        ct = sample[sample[\"o.ct\"] == x]\n",
    "        if len(ct) == 0:\n",
    "            continue\n",
    "        plt.scatter(ct[\"o.ct_loc.x\"], ct[\"o.ct_loc.y\"], color=c, label=x[:8])\n",
    "        \n",
    "        t_next = 10\n",
    "        x, y = ct.iloc[-1][\"o.ct_loc.x\"], ct.iloc[-1][\"o.ct_loc.y\"]\n",
    "        x_next, y_next = ct.iloc[-1][\"o.ct_loc.x\"]+ct.iloc[-1][\"o.ct_v.x\"]*t_next, ct.iloc[-1][\"o.ct_loc.y\"]+ct.iloc[-1][\"o.ct_v.y\"]*t_next\n",
    "        if show_projected_v and not np.allclose((x, y), (x_next, y_next)):\n",
    "            plt.axline((x,y),(x_next,y_next), marker = 'x', color=c, dashes=[2,2])\n",
    "    \n",
    "    cloc_df = sample#[~(sample[\"o.ct_cloc\"].isna())]\n",
    "    if not isinstance(cloc_df.iloc[-1][\"o.ct\"], float):\n",
    "        cloc_x = cloc_df.iloc[-1][\"o.ct_cloc.x\"]\n",
    "        cloc_y = cloc_df.iloc[-1][\"o.ct_cloc.y\"]\n",
    "        cradius = cloc_df.iloc[-1][\"o.ct_cradius\"]\n",
    "        cmargin = cloc_df.iloc[-1].get([\"o.scm\"],500)\n",
    "        threat_radius = plt.Circle((cloc_x, cloc_y), cradius, color=\"red\", fill=False)\n",
    "        margin = plt.Circle((cloc_x, cloc_y), cradius+cmargin, color=\"orange\", fill=False)\n",
    "        margin_hist = plt.Circle((cloc_x, cloc_y), cradius+cmargin*2, color=\"green\", fill=False)\n",
    "        plt.gca().add_patch(threat_radius)\n",
    "        plt.gca().add_patch(margin)\n",
    "        plt.gca().add_patch(margin_hist)\n",
    "        print(f'{cradius=}')\n",
    "        \n",
    "        if show_cn:\n",
    "            cn_x, cn_y = list(zip(*cloc_df.iloc[-1][\"o.ct_cn\"]))\n",
    "            plt.scatter(cn_x, cn_y, label=\"ct_cnloc\", marker=\"+\", color=\"pink\")\n",
    "    \n",
    "    if show_tloc and not all(sample[\"o.t_loc.x\"].isna()):\n",
    "        plt.scatter(sample[\"o.t_loc.x\"], sample[\"o.t_loc.y\"], label=\"t_loc\", marker=\"x\")\n",
    "        for ((tloc_x, tloc_y), ad, md) in sample.groupby([\"o.t_loc.x\", \"o.t_loc.y\"]).agg({\"o.t_loc\": \"min\", \"o.ad\":\"min\", \"o.md\":\"min\"}).values:\n",
    "            arrival_dist = plt.Circle((tloc_x, tloc_y), ad, color=\"green\", fill=False)\n",
    "            nearby_dist = plt.Circle((tloc_x, tloc_y), ad*5, color=\"green\", ls=\"--\", fill=False)\n",
    "            min_dist = plt.Circle((tloc_x, tloc_y), md, color=\"red\", fill=False)\n",
    "            plt.gca().add_patch(arrival_dist)\n",
    "            plt.gca().add_patch(nearby_dist)\n",
    "            plt.gca().add_patch(min_dist)\n",
    "            \n",
    "    t_next = hist_length\n",
    "    x, y = sample.iloc[-1][\"loc.x\"], sample.iloc[-1][\"loc.y\"]\n",
    "    x_next, y_next = sample.iloc[-1][\"loc.x\"]+sample.iloc[-1][\"v.x\"]*t_next, sample.iloc[-1][\"loc.y\"]+sample.iloc[-1][\"v.y\"]*t_next\n",
    "    if show_projected_v and not np.allclose((x, y), (x_next, y_next)):\n",
    "        plt.axline((x,y),(x_next,y_next),marker = 'o')\n",
    "    \n",
    "    plt.axis('equal')\n",
    "    #center = (-72000, -50000)\n",
    "    #radius = 20000\n",
    "    #plt.xlim(center[0]-radius,center[0]+radius)\n",
    "    #plt.ylim(center[1]-radius,center[1]+radius)\n",
    "\n",
    "    plt.legend()\n",
    "    plt.show()\n",
    "    \n",
    "ipywidgets.interact(\n",
    "    plot_collision_chart,\n",
    "    hist_length=ipywidgets.FloatSlider(value=15, min=0, max=df[\"ts\"].max()-df[\"ts\"].min(), continuous_update=False),\n",
    "    max_time=ipywidgets.FloatSlider(step=1/60, value=df[\"ts\"].max()+1/60, min=df[\"ts\"].min(), max=df[\"ts\"].max()+1/60, continuous_update=False),\n",
    "    sampling_interval=ipywidgets.IntSlider(value=2, min=1, max=100, continuous_update=False),\n",
    "    show_tloc=ipywidgets.Checkbox(value=True),\n",
    "    show_tv=ipywidgets.Checkbox(value=True),\n",
    "    show_ctdv=ipywidgets.Checkbox(value=True),\n",
    "    show_v=ipywidgets.Checkbox(value=True),\n",
    "    show_cn=ipywidgets.Checkbox(value=True),\n",
    "    show_all_cts=ipywidgets.Checkbox(value=True),\n",
    "    show_projected_v=ipywidgets.Checkbox(value=True),\n",
    ")"
   ]
  },
  {
   "cell_type": "markdown",
   "id": "6e5e3aad",
   "metadata": {},
   "source": [
    "## Position and Heading"
   ]
  },
  {
   "cell_type": "code",
   "execution_count": 50,
   "id": "2f7475c2",
   "metadata": {
    "scrolled": false
   },
   "outputs": [
    {
     "data": {
      "application/vnd.jupyter.widget-view+json": {
       "model_id": "275ed232d5a74da7a83eace09eca9ca9",
       "version_major": 2,
       "version_minor": 0
      },
      "text/plain": [
       "interactive(children=(FloatSlider(value=6.266666666666654, continuous_update=False, description='hist_length',…"
      ]
     },
     "metadata": {},
     "output_type": "display_data"
    },
    {
     "data": {
      "text/plain": [
       "<function __main__.plot_collision_chart(hist_length=6.299999999999987, max_time=6.299999999999987)>"
      ]
     },
     "execution_count": 50,
     "metadata": {},
     "output_type": "execute_result"
    }
   ],
   "source": [
    "def plot_collision_chart(hist_length=df[\"ts\"].max(), max_time=df[\"ts\"].max()):\n",
    "    sample = df[(df[\"ts\"] >= max_time - hist_length) & (df[\"ts\"] <= max_time)]#.iloc[::30]\n",
    "   \n",
    "    plt.figure(figsize=(10, 10))\n",
    "    plt.quiver(sample[\"loc.x\"], sample[\"loc.y\"], sample[\"angle.x\"], sample[\"angle.y\"], label=\"heading\")\n",
    "    plt.quiver(sample[\"loc.x\"], sample[\"loc.y\"], sample[\"_ada.x\"], sample[\"_ada.y\"], label=\"acceleration heading\", color=\"cyan\")\n",
    "    ctdv_df = sample[~(sample[\"o.ct_dv\"].isna())]\n",
    "    #plt.quiver(ctdv_df[\"loc.x\"], ctdv_df[\"loc.y\"], ctdv_df[\"o.ct_dv.x\"], ctdv_df[\"o.ct_dv.y\"], label=\"ctdv\", color=\"orange\")\n",
    "    #plt.quiver(sample[\"loc.x\"], sample[\"loc.y\"], sample[\"o.t_v.x\"], sample[\"o.t_v.y\"], label=\"tv\", color=\"purple\")\n",
    "    cmap = plt.get_cmap('viridis')\n",
    "    #for x, c in zip(df[\"o.ct\"].unique(), cmap(np.linspace(0, 1, len(sample[\"o.ct\"].unique())))):\n",
    "    #    print(x)\n",
    "    #    if not isinstance(x, str):\n",
    "    #        continue\n",
    "    #    ct = sample[sample[\"o.ct\"] == x]\n",
    "    #    plt.scatter(ct[\"o.ct_loc.x\"], ct[\"o.ct_loc.y\"], color=c, label=x[:8])\n",
    "    #plt.scatter(sample[\"o.t_loc.x\"], sample[\"o.t_loc.y\"], label=\"t_loc\")\n",
    "    #plt.axis('square')\n",
    "    #center = (-33555, -5000)\n",
    "    #radius = 15000\n",
    "    #plt.xlim(center[0]-radius,center[0]+radius)\n",
    "    #plt.ylim(center[1]-radius,center[1]+radius)\n",
    "    \n",
    "    print(sample[\"ts\"].min())\n",
    "    print(sample[\"ts\"].max())\n",
    "    print((sample[\"ts\"].max() - sample[\"ts\"].min())/(1/60))\n",
    "    \n",
    "    plt.legend()\n",
    "    plt.axis('equal')\n",
    "    plt.show()\n",
    "    \n",
    "ipywidgets.interact(plot_collision_chart, hist_length=ipywidgets.FloatSlider(value=15, min=0, max=df[\"ts\"].max()-df[\"ts\"].min(), continuous_update=False), max_time=ipywidgets.FloatSlider(value=df[\"ts\"].max(), min=df[\"ts\"].min(), max=df[\"ts\"].max(), continuous_update=False))"
   ]
  },
  {
   "cell_type": "code",
   "execution_count": null,
   "id": "38b92697",
   "metadata": {},
   "outputs": [],
   "source": []
  }
 ],
 "metadata": {
  "kernelspec": {
   "display_name": "Python 3 (ipykernel)",
   "language": "python",
   "name": "python3"
  },
  "language_info": {
   "codemirror_mode": {
    "name": "ipython",
    "version": 3
   },
   "file_extension": ".py",
   "mimetype": "text/x-python",
   "name": "python",
   "nbconvert_exporter": "python",
   "pygments_lexer": "ipython3",
   "version": "3.10.7"
  },
  "toc": {
   "base_numbering": 1,
   "nav_menu": {},
   "number_sections": true,
   "sideBar": true,
   "skip_h1_title": false,
   "title_cell": "Table of Contents",
   "title_sidebar": "Contents",
   "toc_cell": false,
   "toc_position": {},
   "toc_section_display": true,
   "toc_window_display": false
  }
 },
 "nbformat": 4,
 "nbformat_minor": 5
}
