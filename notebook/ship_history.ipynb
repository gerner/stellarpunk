{
 "cells": [
  {
   "cell_type": "code",
   "execution_count": 1,
   "id": "9c5bbe2a",
   "metadata": {},
   "outputs": [],
   "source": [
    "import json\n",
    "\n",
    "import pandas as pd\n",
    "import numpy as np\n",
    "from matplotlib import pyplot as plt\n",
    "import ipywidgets\n",
    "\n",
    "from stellarpunk import util"
   ]
  },
  {
   "cell_type": "markdown",
   "id": "d6d53462",
   "metadata": {},
   "source": [
    "# Loading and Preparing Data"
   ]
  },
  {
   "cell_type": "code",
   "execution_count": 2,
   "id": "ceb18552",
   "metadata": {},
   "outputs": [],
   "source": [
    "df_base = pd.read_json(\"/tmp/stellarpunk.history.gz\", lines=True)\n",
    "df_base = df_base.join(pd.json_normalize(df_base[\"o\"]).add_prefix(\"o.\"))"
   ]
  },
  {
   "cell_type": "code",
   "execution_count": 3,
   "id": "1585e6a6",
   "metadata": {},
   "outputs": [
    {
     "data": {
      "text/plain": [
       "0      4addefc6-5a5b-48ec-ab9e-cd591b1326d3\n",
       "1      4c42c20b-6386-4c01-a780-cb7d6e7ce6d2\n",
       "2      03e4c968-93f9-466d-9f0e-1bd1e8be9c9e\n",
       "3      0c050bef-676a-403c-a503-f2aa388a94bc\n",
       "4      c205521b-25ba-4f03-85c5-65601270bbd2\n",
       "                       ...                 \n",
       "326    5315bc89-fd3c-4796-8ffe-6ba2b2305551\n",
       "327    12418ed9-5114-4cb8-ad07-5c24b75287df\n",
       "328    b686a776-1419-4179-a358-bc6880636513\n",
       "329    2df8943b-26e0-40ec-bb75-54dad8c1a491\n",
       "330    b4d60d26-618d-49b1-9247-e01c837de95c\n",
       "Length: 331, dtype: object"
      ]
     },
     "execution_count": 3,
     "metadata": {},
     "output_type": "execute_result"
    }
   ],
   "source": [
    "eids = pd.Series(df_base[\"eid\"].unique())\n",
    "eids"
   ]
  },
  {
   "cell_type": "code",
   "execution_count": 4,
   "id": "288e3f1e",
   "metadata": {},
   "outputs": [
    {
     "data": {
      "text/plain": [
       "318    f517e01f-026c-4dd9-9ac2-ce3c29de85d0\n",
       "dtype: object"
      ]
     },
     "execution_count": 4,
     "metadata": {},
     "output_type": "execute_result"
    }
   ],
   "source": [
    "targets = eids[pd.Series(df_base[\"eid\"].unique()).str.startswith(\"f51\")]\n",
    "targets"
   ]
  },
  {
   "cell_type": "code",
   "execution_count": 5,
   "id": "caf3fedb",
   "metadata": {},
   "outputs": [],
   "source": [
    "target_index = targets.index[0]"
   ]
  },
  {
   "cell_type": "code",
   "execution_count": 6,
   "id": "c9be6491",
   "metadata": {},
   "outputs": [
    {
     "data": {
      "text/plain": [
       "array(['f517e01f-026c-4dd9-9ac2-ce3c29de85d0'], dtype=object)"
      ]
     },
     "execution_count": 6,
     "metadata": {},
     "output_type": "execute_result"
    }
   ],
   "source": [
    "target_eid = df_base[\"eid\"].unique()[target_index]\n",
    "df_base = df_base[df_base[\"eid\"] == target_eid].reset_index()\n",
    "df_base[\"eid\"].unique()"
   ]
  },
  {
   "cell_type": "code",
   "execution_count": 7,
   "id": "b77f957c",
   "metadata": {},
   "outputs": [],
   "source": [
    "loc = pd.DataFrame(np.vstack(df_base[\"loc\"]), columns=[\"loc.x\", \"loc.y\"])\n",
    "v = pd.DataFrame(np.vstack(df_base[\"v\"]), columns=[\"v.x\", \"v.y\"])\n",
    "\n",
    "empty_array = np.empty(len(df_base))\n",
    "empty_array[:] = np.nan\n",
    "\n",
    "if \"o.t_loc\" in df_base:\n",
    "    o_tloc = pd.DataFrame(np.vstack(df_base[\"o.t_loc\"].apply(lambda x: (np.nan, np.nan) if np.all(np.isnan(x)) else x)), columns=[\"o.t_loc.x\", \"o.t_loc.y\"])\n",
    "    o_tv = pd.DataFrame(np.vstack(df_base[\"o.t_v\"].apply(lambda x: (np.nan, np.nan) if np.all(np.isnan(x)) else x)), columns=[\"o.t_v.x\", \"o.t_v.y\"])\n",
    "else:\n",
    "    o_tloc = pd.DataFrame({\"o.t_loc\": empty_array, \"o.t_loc.x\": empty_array, \"o.t_loc.y\": empty_array})\n",
    "    o_tv = pd.DataFrame({\"o.t_v\": empty_array, \"o.t_v.x\": empty_array, \"o.t_v.y\": empty_array})\n",
    "    \n",
    "if \"o.ct\" in df_base:\n",
    "    o_ctloc = pd.DataFrame(np.vstack(df_base[\"o.ct_loc\"].apply(lambda x: (np.nan, np.nan) if np.all(np.isnan(x)) else x)), columns=[\"o.ct_loc.x\", \"o.ct_loc.y\"])\n",
    "    o_ctdv = pd.DataFrame(np.vstack(df_base[\"o.ct_dv\"].apply(lambda x: (np.nan, np.nan) if np.all(np.isnan(x)) else x)), columns=[\"o.ct_dv.x\", \"o.ct_dv.y\"])\n",
    "    o_ctv = pd.DataFrame(np.vstack(df_base[\"o.ct_v\"].apply(lambda x: (np.nan, np.nan) if np.all(np.isnan(x)) else x)), columns=[\"o.ct_v.x\", \"o.ct_v.y\"])\n",
    "    o_ctcloc = pd.DataFrame(np.vstack(df_base[\"o.ct_cloc\"].apply(lambda x: (np.nan, np.nan) if np.all(np.isnan(x)) else x)), columns=[\"o.ct_cloc.x\", \"o.ct_cloc.y\"])\n",
    "else:\n",
    "    o_ctloc = pd.DataFrame({\"o.ct_loc\": empty_array, \"o.ct_loc.x\": empty_array, \"o.ct_loc.y\": empty_array})\n",
    "    o_ctdv = pd.DataFrame({\"o.ct_dv\": empty_array, \"o.ct_dv.x\": empty_array, \"o.ct_dv.y\": empty_array})\n",
    "    o_ctv = pd.DataFrame({\"o.ct_v\": empty_array, \"o.ct_v.x\": empty_array, \"o.ct_v.y\": empty_array})\n",
    "    o_ctcloc = pd.DataFrame({\"o.ct_cloc\": empty_array, \"o.ct_cloc.x\": empty_array, \"o.ct_cloc.y\": empty_array})\n",
    "angle = pd.DataFrame(np.vstack(df_base.apply(lambda row: np.array(util.polar_to_cartesian(100, row[\"a\"])), axis=1)), columns=[\"angle.x\", \"angle.y\"])\n",
    "df = pd.concat([df_base, loc, v, o_ctloc, o_ctcloc, o_ctdv, o_ctv, o_tloc, o_tv, angle], axis=1)\n",
    "\n",
    "if \"o.ct\" not in df_base:\n",
    "    df[\"o.ct\"] = empty_array\n",
    "    df[\"o.ct_ts\"] = empty_array\n",
    "    df[\"o.cac\"] = empty_array\n",
    "    df[\"o.cbdr\"] = empty_array\n",
    "    df[\"o.cbdr_hist\"] = empty_array\n",
    "    df[\"o.ct_ct\"] = empty_array\n",
    "    df[\"o.ct_cradius\"] = empty_array\n",
    "    df[\"o.nd\"] = empty_array\n",
    "    df[\"o.ct_dist\"] = empty_array\n",
    "else:\n",
    "    df[\"o.ct_dist\"] = np.linalg.norm(np.vstack(df[\"loc\"]) - np.vstack(df[\"o.ct_cloc\"].apply(lambda x: (np.nan, np.nan) if np.all(np.isnan(x)) else x)), axis=1)\n",
    "    \n",
    "if \"o.t_loc\" not in df_base:\n",
    "    df[\"o.cs\"] = empty_array\n",
    "    df[\"o.t_dist\"] = empty_array\n",
    "else:\n",
    "    df[\"o.t_dist\"] = np.linalg.norm(np.vstack(df[\"loc\"]) - np.vstack(df[\"o.t_loc\"].apply(lambda x: (np.nan, np.nan) if np.all(np.isnan(x)) else x)), axis=1)"
   ]
  },
  {
   "cell_type": "code",
   "execution_count": 8,
   "id": "6e17314e",
   "metadata": {},
   "outputs": [],
   "source": [
    "df[\"speed\"] = np.linalg.norm(df[[\"v.x\", \"v.y\"]], axis=1)\n",
    "df[\"o.t_speed\"] = np.linalg.norm(df[[\"o.t_v.x\", \"o.t_v.y\"]], axis=1)\n",
    "df[\"f_mag\"] = df[\"f\"].apply(lambda x:np.linalg.norm(x))"
   ]
  },
  {
   "cell_type": "code",
   "execution_count": 9,
   "id": "39640462",
   "metadata": {},
   "outputs": [],
   "source": [
    "#df[\"o.ct_v.x\"] = (df[\"o.ct_loc.x\"].shift(1) - df[\"o.ct_loc.x\"]) / (df[\"ts\"].shift(1) - df[\"ts\"])\n",
    "#df[\"o.ct_v.y\"] = (df[\"o.ct_loc.y\"].shift(1) - df[\"o.ct_loc.y\"]) / (df[\"ts\"].shift(1) - df[\"ts\"])"
   ]
  },
  {
   "cell_type": "code",
   "execution_count": 10,
   "id": "34fd5383",
   "metadata": {},
   "outputs": [
    {
     "data": {
      "text/html": [
       "<div>\n",
       "<style scoped>\n",
       "    .dataframe tbody tr th:only-of-type {\n",
       "        vertical-align: middle;\n",
       "    }\n",
       "\n",
       "    .dataframe tbody tr th {\n",
       "        vertical-align: top;\n",
       "    }\n",
       "\n",
       "    .dataframe thead th {\n",
       "        text-align: right;\n",
       "    }\n",
       "</style>\n",
       "<table border=\"1\" class=\"dataframe\">\n",
       "  <thead>\n",
       "    <tr style=\"text-align: right;\">\n",
       "      <th></th>\n",
       "      <th>index</th>\n",
       "      <th>p</th>\n",
       "      <th>eid</th>\n",
       "      <th>ts</th>\n",
       "      <th>loc</th>\n",
       "      <th>r</th>\n",
       "      <th>a</th>\n",
       "      <th>v</th>\n",
       "      <th>av</th>\n",
       "      <th>f</th>\n",
       "      <th>...</th>\n",
       "      <th>o.t_loc.y</th>\n",
       "      <th>o.t_v.x</th>\n",
       "      <th>o.t_v.y</th>\n",
       "      <th>angle.x</th>\n",
       "      <th>angle.y</th>\n",
       "      <th>o.ct_dist</th>\n",
       "      <th>o.t_dist</th>\n",
       "      <th>speed</th>\n",
       "      <th>o.t_speed</th>\n",
       "      <th>f_mag</th>\n",
       "    </tr>\n",
       "  </thead>\n",
       "  <tbody>\n",
       "    <tr>\n",
       "      <th>0</th>\n",
       "      <td>23772</td>\n",
       "      <td>SHP</td>\n",
       "      <td>f517e01f-026c-4dd9-9ac2-ce3c29de85d0</td>\n",
       "      <td>0.083333</td>\n",
       "      <td>[-34746.07381929959, 180384.69966556688]</td>\n",
       "      <td>30</td>\n",
       "      <td>-2.279259</td>\n",
       "      <td>[-28.5673656032441, -32.97058777440268]</td>\n",
       "      <td>0.260457</td>\n",
       "      <td>[7029.952164595648, -13250.651778818163]</td>\n",
       "      <td>...</td>\n",
       "      <td>-92724.614297</td>\n",
       "      <td>1369.918406</td>\n",
       "      <td>-2668.955519</td>\n",
       "      <td>-65.066753</td>\n",
       "      <td>-75.936274</td>\n",
       "      <td>NaN</td>\n",
       "      <td>306985.526140</td>\n",
       "      <td>43.625154</td>\n",
       "      <td>3000.000000</td>\n",
       "      <td>15000.0</td>\n",
       "    </tr>\n",
       "    <tr>\n",
       "      <th>1</th>\n",
       "      <td>23773</td>\n",
       "      <td>SHP</td>\n",
       "      <td>f517e01f-026c-4dd9-9ac2-ce3c29de85d0</td>\n",
       "      <td>0.250000</td>\n",
       "      <td>[-34750.79110969909, 180379.12175103088]</td>\n",
       "      <td>30</td>\n",
       "      <td>-2.198350</td>\n",
       "      <td>[-27.981536256194445, -34.07480875597086]</td>\n",
       "      <td>0.760457</td>\n",
       "      <td>[7029.952164595648, -13250.65177881816]</td>\n",
       "      <td>...</td>\n",
       "      <td>-92724.614297</td>\n",
       "      <td>1369.918406</td>\n",
       "      <td>-2668.955519</td>\n",
       "      <td>-58.716625</td>\n",
       "      <td>-80.946637</td>\n",
       "      <td>NaN</td>\n",
       "      <td>306982.717957</td>\n",
       "      <td>44.091484</td>\n",
       "      <td>3000.000000</td>\n",
       "      <td>15000.0</td>\n",
       "    </tr>\n",
       "    <tr>\n",
       "      <th>2</th>\n",
       "      <td>23774</td>\n",
       "      <td>SHP</td>\n",
       "      <td>f517e01f-026c-4dd9-9ac2-ce3c29de85d0</td>\n",
       "      <td>0.416667</td>\n",
       "      <td>[-34755.41076187411, 180373.35979966458]</td>\n",
       "      <td>30</td>\n",
       "      <td>-2.034107</td>\n",
       "      <td>[-27.395706909144792, -35.17902973753903]</td>\n",
       "      <td>1.260457</td>\n",
       "      <td>[7029.95216459565, -13250.651778818165]</td>\n",
       "      <td>...</td>\n",
       "      <td>-92724.614297</td>\n",
       "      <td>1369.918406</td>\n",
       "      <td>-2668.955519</td>\n",
       "      <td>-44.691225</td>\n",
       "      <td>-89.457780</td>\n",
       "      <td>NaN</td>\n",
       "      <td>306979.701609</td>\n",
       "      <td>44.587990</td>\n",
       "      <td>3000.000000</td>\n",
       "      <td>15000.0</td>\n",
       "    </tr>\n",
       "    <tr>\n",
       "      <th>3</th>\n",
       "      <td>23775</td>\n",
       "      <td>SHP</td>\n",
       "      <td>f517e01f-026c-4dd9-9ac2-ce3c29de85d0</td>\n",
       "      <td>0.583333</td>\n",
       "      <td>[-34759.93277582459, 180367.41381146805]</td>\n",
       "      <td>30</td>\n",
       "      <td>-1.786531</td>\n",
       "      <td>[-26.80987756209514, -36.28325071910721]</td>\n",
       "      <td>1.760457</td>\n",
       "      <td>[7029.952164595648, -13250.65177881816]</td>\n",
       "      <td>...</td>\n",
       "      <td>-92724.614297</td>\n",
       "      <td>1369.918406</td>\n",
       "      <td>-2668.955519</td>\n",
       "      <td>-21.406495</td>\n",
       "      <td>-97.681943</td>\n",
       "      <td>NaN</td>\n",
       "      <td>306976.477094</td>\n",
       "      <td>45.113677</td>\n",
       "      <td>3000.000000</td>\n",
       "      <td>15000.0</td>\n",
       "    </tr>\n",
       "    <tr>\n",
       "      <th>4</th>\n",
       "      <td>23776</td>\n",
       "      <td>SHP</td>\n",
       "      <td>f517e01f-026c-4dd9-9ac2-ce3c29de85d0</td>\n",
       "      <td>0.750000</td>\n",
       "      <td>[-34764.35715155059, 180361.28378644126]</td>\n",
       "      <td>30</td>\n",
       "      <td>-1.505154</td>\n",
       "      <td>[-26.224048215045485, -37.387471700675384]</td>\n",
       "      <td>1.474598</td>\n",
       "      <td>[7029.952164595648, -13250.651778818163]</td>\n",
       "      <td>...</td>\n",
       "      <td>-92724.614297</td>\n",
       "      <td>1369.918406</td>\n",
       "      <td>-2668.955519</td>\n",
       "      <td>6.559492</td>\n",
       "      <td>-99.784633</td>\n",
       "      <td>NaN</td>\n",
       "      <td>306973.044412</td>\n",
       "      <td>45.667535</td>\n",
       "      <td>3000.000000</td>\n",
       "      <td>15000.0</td>\n",
       "    </tr>\n",
       "    <tr>\n",
       "      <th>...</th>\n",
       "      <td>...</td>\n",
       "      <td>...</td>\n",
       "      <td>...</td>\n",
       "      <td>...</td>\n",
       "      <td>...</td>\n",
       "      <td>...</td>\n",
       "      <td>...</td>\n",
       "      <td>...</td>\n",
       "      <td>...</td>\n",
       "      <td>...</td>\n",
       "      <td>...</td>\n",
       "      <td>...</td>\n",
       "      <td>...</td>\n",
       "      <td>...</td>\n",
       "      <td>...</td>\n",
       "      <td>...</td>\n",
       "      <td>...</td>\n",
       "      <td>...</td>\n",
       "      <td>...</td>\n",
       "      <td>...</td>\n",
       "      <td>...</td>\n",
       "    </tr>\n",
       "    <tr>\n",
       "      <th>1925</th>\n",
       "      <td>25697</td>\n",
       "      <td>SHP</td>\n",
       "      <td>f517e01f-026c-4dd9-9ac2-ce3c29de85d0</td>\n",
       "      <td>320.916667</td>\n",
       "      <td>[-5342.539561835726, 85091.822014829]</td>\n",
       "      <td>30</td>\n",
       "      <td>3.437261</td>\n",
       "      <td>[-944.3065258351908, 1236.0663300747224]</td>\n",
       "      <td>1.380113</td>\n",
       "      <td>[10614.423176319362, -10598.774487364773]</td>\n",
       "      <td>...</td>\n",
       "      <td>136835.904193</td>\n",
       "      <td>-459.096946</td>\n",
       "      <td>751.572087</td>\n",
       "      <td>-95.660759</td>\n",
       "      <td>-29.137933</td>\n",
       "      <td>822.530797</td>\n",
       "      <td>60632.536354</td>\n",
       "      <td>1555.498244</td>\n",
       "      <td>880.698931</td>\n",
       "      <td>15000.0</td>\n",
       "    </tr>\n",
       "    <tr>\n",
       "      <th>1926</th>\n",
       "      <td>25698</td>\n",
       "      <td>SHP</td>\n",
       "      <td>f517e01f-026c-4dd9-9ac2-ce3c29de85d0</td>\n",
       "      <td>321.083333</td>\n",
       "      <td>[-5499.8583475383975, 85297.76615005848]</td>\n",
       "      <td>30</td>\n",
       "      <td>3.704780</td>\n",
       "      <td>[-943.447010878468, 1235.159448649628]</td>\n",
       "      <td>1.880113</td>\n",
       "      <td>[9757.652386114953, -11392.463294290012]</td>\n",
       "      <td>...</td>\n",
       "      <td>136835.904193</td>\n",
       "      <td>-283.550928</td>\n",
       "      <td>464.703441</td>\n",
       "      <td>-84.555776</td>\n",
       "      <td>-53.388395</td>\n",
       "      <td>563.424599</td>\n",
       "      <td>60374.786405</td>\n",
       "      <td>1554.255811</td>\n",
       "      <td>544.380764</td>\n",
       "      <td>15000.0</td>\n",
       "    </tr>\n",
       "    <tr>\n",
       "      <th>1927</th>\n",
       "      <td>25699</td>\n",
       "      <td>SHP</td>\n",
       "      <td>f517e01f-026c-4dd9-9ac2-ce3c29de85d0</td>\n",
       "      <td>321.250000</td>\n",
       "      <td>[-5657.042539884154, 85503.55493324719]</td>\n",
       "      <td>30</td>\n",
       "      <td>4.053966</td>\n",
       "      <td>[-943.0347327941214, 1234.2859562954388]</td>\n",
       "      <td>2.180113</td>\n",
       "      <td>[-13554.904762755206, -6423.74944036862]</td>\n",
       "      <td>...</td>\n",
       "      <td>136835.904193</td>\n",
       "      <td>-125.145323</td>\n",
       "      <td>205.304301</td>\n",
       "      <td>-61.187065</td>\n",
       "      <td>-79.095784</td>\n",
       "      <td>304.531287</td>\n",
       "      <td>60117.251256</td>\n",
       "      <td>1553.311408</td>\n",
       "      <td>240.439614</td>\n",
       "      <td>15000.0</td>\n",
       "    </tr>\n",
       "    <tr>\n",
       "      <th>1928</th>\n",
       "      <td>25700</td>\n",
       "      <td>SHP</td>\n",
       "      <td>f517e01f-026c-4dd9-9ac2-ce3c29de85d0</td>\n",
       "      <td>321.416667</td>\n",
       "      <td>[-5814.299100735388, 85709.23772073229]</td>\n",
       "      <td>30</td>\n",
       "      <td>4.379818</td>\n",
       "      <td>[-944.169678470155, 1234.1234058580385]</td>\n",
       "      <td>1.680113</td>\n",
       "      <td>[-14778.049948918122, 2570.844162387341]</td>\n",
       "      <td>...</td>\n",
       "      <td>136835.904193</td>\n",
       "      <td>-52.009710</td>\n",
       "      <td>85.410714</td>\n",
       "      <td>-32.647448</td>\n",
       "      <td>-94.520602</td>\n",
       "      <td>47.432461</td>\n",
       "      <td>59859.781221</td>\n",
       "      <td>1553.871604</td>\n",
       "      <td>100.000000</td>\n",
       "      <td>15000.0</td>\n",
       "    </tr>\n",
       "    <tr>\n",
       "      <th>1929</th>\n",
       "      <td>25701</td>\n",
       "      <td>SHP</td>\n",
       "      <td>f517e01f-026c-4dd9-9ac2-ce3c29de85d0</td>\n",
       "      <td>321.483333</td>\n",
       "      <td>[-5861.513762594691, 85770.94439712817]</td>\n",
       "      <td>30</td>\n",
       "      <td>4.461323</td>\n",
       "      <td>[-1666.7503848765027, 1309.7644287980718]</td>\n",
       "      <td>1.046023</td>\n",
       "      <td>[-14901.940129089799, 1712.3610568519427]</td>\n",
       "      <td>...</td>\n",
       "      <td>136835.904193</td>\n",
       "      <td>-51.997947</td>\n",
       "      <td>85.417876</td>\n",
       "      <td>-24.843629</td>\n",
       "      <td>-96.864824</td>\n",
       "      <td>55.151828</td>\n",
       "      <td>59782.521466</td>\n",
       "      <td>2119.797090</td>\n",
       "      <td>100.000000</td>\n",
       "      <td>15000.0</td>\n",
       "    </tr>\n",
       "  </tbody>\n",
       "</table>\n",
       "<p>1930 rows × 61 columns</p>\n",
       "</div>"
      ],
      "text/plain": [
       "      index    p                                   eid          ts  \\\n",
       "0     23772  SHP  f517e01f-026c-4dd9-9ac2-ce3c29de85d0    0.083333   \n",
       "1     23773  SHP  f517e01f-026c-4dd9-9ac2-ce3c29de85d0    0.250000   \n",
       "2     23774  SHP  f517e01f-026c-4dd9-9ac2-ce3c29de85d0    0.416667   \n",
       "3     23775  SHP  f517e01f-026c-4dd9-9ac2-ce3c29de85d0    0.583333   \n",
       "4     23776  SHP  f517e01f-026c-4dd9-9ac2-ce3c29de85d0    0.750000   \n",
       "...     ...  ...                                   ...         ...   \n",
       "1925  25697  SHP  f517e01f-026c-4dd9-9ac2-ce3c29de85d0  320.916667   \n",
       "1926  25698  SHP  f517e01f-026c-4dd9-9ac2-ce3c29de85d0  321.083333   \n",
       "1927  25699  SHP  f517e01f-026c-4dd9-9ac2-ce3c29de85d0  321.250000   \n",
       "1928  25700  SHP  f517e01f-026c-4dd9-9ac2-ce3c29de85d0  321.416667   \n",
       "1929  25701  SHP  f517e01f-026c-4dd9-9ac2-ce3c29de85d0  321.483333   \n",
       "\n",
       "                                           loc   r         a  \\\n",
       "0     [-34746.07381929959, 180384.69966556688]  30 -2.279259   \n",
       "1     [-34750.79110969909, 180379.12175103088]  30 -2.198350   \n",
       "2     [-34755.41076187411, 180373.35979966458]  30 -2.034107   \n",
       "3     [-34759.93277582459, 180367.41381146805]  30 -1.786531   \n",
       "4     [-34764.35715155059, 180361.28378644126]  30 -1.505154   \n",
       "...                                        ...  ..       ...   \n",
       "1925     [-5342.539561835726, 85091.822014829]  30  3.437261   \n",
       "1926  [-5499.8583475383975, 85297.76615005848]  30  3.704780   \n",
       "1927   [-5657.042539884154, 85503.55493324719]  30  4.053966   \n",
       "1928   [-5814.299100735388, 85709.23772073229]  30  4.379818   \n",
       "1929   [-5861.513762594691, 85770.94439712817]  30  4.461323   \n",
       "\n",
       "                                               v        av  \\\n",
       "0        [-28.5673656032441, -32.97058777440268]  0.260457   \n",
       "1      [-27.981536256194445, -34.07480875597086]  0.760457   \n",
       "2      [-27.395706909144792, -35.17902973753903]  1.260457   \n",
       "3       [-26.80987756209514, -36.28325071910721]  1.760457   \n",
       "4     [-26.224048215045485, -37.387471700675384]  1.474598   \n",
       "...                                          ...       ...   \n",
       "1925    [-944.3065258351908, 1236.0663300747224]  1.380113   \n",
       "1926      [-943.447010878468, 1235.159448649628]  1.880113   \n",
       "1927    [-943.0347327941214, 1234.2859562954388]  2.180113   \n",
       "1928     [-944.169678470155, 1234.1234058580385]  1.680113   \n",
       "1929   [-1666.7503848765027, 1309.7644287980718]  1.046023   \n",
       "\n",
       "                                              f  ...      o.t_loc.y  \\\n",
       "0      [7029.952164595648, -13250.651778818163]  ...  -92724.614297   \n",
       "1       [7029.952164595648, -13250.65177881816]  ...  -92724.614297   \n",
       "2       [7029.95216459565, -13250.651778818165]  ...  -92724.614297   \n",
       "3       [7029.952164595648, -13250.65177881816]  ...  -92724.614297   \n",
       "4      [7029.952164595648, -13250.651778818163]  ...  -92724.614297   \n",
       "...                                         ...  ...            ...   \n",
       "1925  [10614.423176319362, -10598.774487364773]  ...  136835.904193   \n",
       "1926   [9757.652386114953, -11392.463294290012]  ...  136835.904193   \n",
       "1927   [-13554.904762755206, -6423.74944036862]  ...  136835.904193   \n",
       "1928   [-14778.049948918122, 2570.844162387341]  ...  136835.904193   \n",
       "1929  [-14901.940129089799, 1712.3610568519427]  ...  136835.904193   \n",
       "\n",
       "          o.t_v.x      o.t_v.y    angle.x    angle.y   o.ct_dist  \\\n",
       "0     1369.918406 -2668.955519 -65.066753 -75.936274         NaN   \n",
       "1     1369.918406 -2668.955519 -58.716625 -80.946637         NaN   \n",
       "2     1369.918406 -2668.955519 -44.691225 -89.457780         NaN   \n",
       "3     1369.918406 -2668.955519 -21.406495 -97.681943         NaN   \n",
       "4     1369.918406 -2668.955519   6.559492 -99.784633         NaN   \n",
       "...           ...          ...        ...        ...         ...   \n",
       "1925  -459.096946   751.572087 -95.660759 -29.137933  822.530797   \n",
       "1926  -283.550928   464.703441 -84.555776 -53.388395  563.424599   \n",
       "1927  -125.145323   205.304301 -61.187065 -79.095784  304.531287   \n",
       "1928   -52.009710    85.410714 -32.647448 -94.520602   47.432461   \n",
       "1929   -51.997947    85.417876 -24.843629 -96.864824   55.151828   \n",
       "\n",
       "           o.t_dist        speed    o.t_speed    f_mag  \n",
       "0     306985.526140    43.625154  3000.000000  15000.0  \n",
       "1     306982.717957    44.091484  3000.000000  15000.0  \n",
       "2     306979.701609    44.587990  3000.000000  15000.0  \n",
       "3     306976.477094    45.113677  3000.000000  15000.0  \n",
       "4     306973.044412    45.667535  3000.000000  15000.0  \n",
       "...             ...          ...          ...      ...  \n",
       "1925   60632.536354  1555.498244   880.698931  15000.0  \n",
       "1926   60374.786405  1554.255811   544.380764  15000.0  \n",
       "1927   60117.251256  1553.311408   240.439614  15000.0  \n",
       "1928   59859.781221  1553.871604   100.000000  15000.0  \n",
       "1929   59782.521466  2119.797090   100.000000  15000.0  \n",
       "\n",
       "[1930 rows x 61 columns]"
      ]
     },
     "execution_count": 10,
     "metadata": {},
     "output_type": "execute_result"
    }
   ],
   "source": [
    "df"
   ]
  },
  {
   "cell_type": "code",
   "execution_count": 11,
   "id": "a703dac7",
   "metadata": {},
   "outputs": [
    {
     "data": {
      "text/plain": [
       "{'o': 'stellarpunk.orders.movement.GoToLocation',\n",
       " 'ct': '1e42d6cb-98fc-4c68-9d57-3ce902a138cc',\n",
       " 'ct_loc': [-5806.7224798172365, 85764.648407608],\n",
       " 'ct_v': [-1966.8607856832878, -1301.967020620511],\n",
       " 'ct_ts': 315.7500000000415,\n",
       " 'ct_dv': [-2980.3880258179597, 342.47221137038855],\n",
       " 'ct_tc': 0.0,\n",
       " 'ct_ct': 1,\n",
       " 'ct_cloc': [-5806.7224798172365, 85764.648407608],\n",
       " 'ct_cradius': 30.0,\n",
       " 'ct_cn': [[-5806.7224798172365, 85764.648407608]],\n",
       " 'ct_dv_override': False,\n",
       " 'cac': False,\n",
       " 'cach': True,\n",
       " 'cbdr': False,\n",
       " 'cbdr_hist': [[10319.76354142338, 14045.051797632914],\n",
       "  [54.7912827774544, -6.295989520178409]],\n",
       " 'nd': 7.957747154594769e-10,\n",
       " 'nnd': 55.15182818762373,\n",
       " 't_loc': [-36947.1978297688, 136835.90419271248],\n",
       " 'ad': 500.0,\n",
       " 'md': 0.0,\n",
       " 't_v': [-51.997947401371476, 85.41787556503735],\n",
       " 'cs': False,\n",
       " 'scm': 1000.0,\n",
       " '_ncts': 321.4809523809887,\n",
       " '_dv': [-4647.138410694462, 1652.2366401684603]}"
      ]
     },
     "execution_count": 11,
     "metadata": {},
     "output_type": "execute_result"
    }
   ],
   "source": [
    "df.iloc[-1][\"o\"]"
   ]
  },
  {
   "cell_type": "markdown",
   "id": "a6d3cf5e",
   "metadata": {},
   "source": [
    "# Basic Ship Vitals"
   ]
  },
  {
   "cell_type": "markdown",
   "id": "36730903",
   "metadata": {},
   "source": [
    "## Position and Heading"
   ]
  },
  {
   "cell_type": "code",
   "execution_count": 12,
   "id": "665329e8",
   "metadata": {},
   "outputs": [
    {
     "data": {
      "application/vnd.jupyter.widget-view+json": {
       "model_id": "04bbc43d656c4649aab441e6848927c5",
       "version_major": 2,
       "version_minor": 0
      },
      "text/plain": [
       "interactive(children=(FloatSlider(value=321.4833333333696, continuous_update=False, description='max_time', ma…"
      ]
     },
     "metadata": {},
     "output_type": "display_data"
    },
    {
     "data": {
      "text/plain": [
       "<function __main__.plot_location_chart(max_time)>"
      ]
     },
     "execution_count": 12,
     "metadata": {},
     "output_type": "execute_result"
    }
   ],
   "source": [
    "def plot_location_chart(max_time):\n",
    "    sample = df[df[\"ts\"] <= max_time].iloc[::50]\n",
    "    plt.quiver(sample[\"loc.x\"], sample[\"loc.y\"], sample[\"angle.x\"], sample[\"angle.y\"])#, scale=100)\n",
    "    plt.scatter(sample[\"o.t_loc.x\"], sample[\"o.t_loc.y\"])\n",
    "    #center = (0,2500)\n",
    "    #radius = 10000\n",
    "    #plt.xlim(center[0]-radius,center[0]+radius)\n",
    "    #plt.ylim(center[1]-radius,center[1]+radius)\n",
    "\n",
    "ipywidgets.interact(plot_location_chart, max_time=ipywidgets.FloatSlider(value=df[\"ts\"].max(), min=df[\"ts\"].min(), max=df[\"ts\"].max(), continuous_update=False))"
   ]
  },
  {
   "cell_type": "code",
   "execution_count": 13,
   "id": "ed1c2ca3",
   "metadata": {},
   "outputs": [
    {
     "data": {
      "text/html": [
       "<div>\n",
       "<style scoped>\n",
       "    .dataframe tbody tr th:only-of-type {\n",
       "        vertical-align: middle;\n",
       "    }\n",
       "\n",
       "    .dataframe tbody tr th {\n",
       "        vertical-align: top;\n",
       "    }\n",
       "\n",
       "    .dataframe thead th {\n",
       "        text-align: right;\n",
       "    }\n",
       "</style>\n",
       "<table border=\"1\" class=\"dataframe\">\n",
       "  <thead>\n",
       "    <tr style=\"text-align: right;\">\n",
       "      <th></th>\n",
       "      <th>loc.x</th>\n",
       "      <th>loc.y</th>\n",
       "    </tr>\n",
       "  </thead>\n",
       "  <tbody>\n",
       "    <tr>\n",
       "      <th>count</th>\n",
       "      <td>1930.000000</td>\n",
       "      <td>1930.000000</td>\n",
       "    </tr>\n",
       "    <tr>\n",
       "      <th>mean</th>\n",
       "      <td>57968.631381</td>\n",
       "      <td>-5820.115460</td>\n",
       "    </tr>\n",
       "    <tr>\n",
       "      <th>std</th>\n",
       "      <td>45577.366134</td>\n",
       "      <td>85572.911676</td>\n",
       "    </tr>\n",
       "    <tr>\n",
       "      <th>min</th>\n",
       "      <td>-34776.188375</td>\n",
       "      <td>-92396.710515</td>\n",
       "    </tr>\n",
       "    <tr>\n",
       "      <th>25%</th>\n",
       "      <td>19927.321592</td>\n",
       "      <td>-86655.853069</td>\n",
       "    </tr>\n",
       "    <tr>\n",
       "      <th>50%</th>\n",
       "      <td>71082.106910</td>\n",
       "      <td>-30612.499259</td>\n",
       "    </tr>\n",
       "    <tr>\n",
       "      <th>75%</th>\n",
       "      <td>102120.533659</td>\n",
       "      <td>57088.789553</td>\n",
       "    </tr>\n",
       "    <tr>\n",
       "      <th>max</th>\n",
       "      <td>105268.219289</td>\n",
       "      <td>180384.699666</td>\n",
       "    </tr>\n",
       "  </tbody>\n",
       "</table>\n",
       "</div>"
      ],
      "text/plain": [
       "               loc.x          loc.y\n",
       "count    1930.000000    1930.000000\n",
       "mean    57968.631381   -5820.115460\n",
       "std     45577.366134   85572.911676\n",
       "min    -34776.188375  -92396.710515\n",
       "25%     19927.321592  -86655.853069\n",
       "50%     71082.106910  -30612.499259\n",
       "75%    102120.533659   57088.789553\n",
       "max    105268.219289  180384.699666"
      ]
     },
     "execution_count": 13,
     "metadata": {},
     "output_type": "execute_result"
    }
   ],
   "source": [
    "df[[\"loc.x\", \"loc.y\"]].describe()"
   ]
  },
  {
   "cell_type": "code",
   "execution_count": 14,
   "id": "e0f37c4c",
   "metadata": {},
   "outputs": [
    {
     "data": {
      "text/plain": [
       "Text(0.5, 1.0, 'position')"
      ]
     },
     "execution_count": 14,
     "metadata": {},
     "output_type": "execute_result"
    },
    {
     "data": {
      "image/png": "[encoded data removed]",
      "text/plain": [
       "<Figure size 432x288 with 1 Axes>"
      ]
     },
     "metadata": {
      "needs_background": "light"
     },
     "output_type": "display_data"
    }
   ],
   "source": [
    "plt.scatter(df[\"ts\"], df[\"loc.x\"])\n",
    "plt.scatter(df[\"ts\"], df[\"loc.y\"])\n",
    "plt.title(\"position\")"
   ]
  },
  {
   "cell_type": "code",
   "execution_count": 15,
   "id": "b65fd521",
   "metadata": {},
   "outputs": [
    {
     "data": {
      "application/vnd.jupyter.widget-view+json": {
       "model_id": "5798c13872904ae9a32e2d1ca453a5da",
       "version_major": 2,
       "version_minor": 0
      },
      "text/plain": [
       "interactive(children=(FloatSlider(value=15.0, continuous_update=False, description='hist_length', max=321.4000…"
      ]
     },
     "metadata": {},
     "output_type": "display_data"
    },
    {
     "data": {
      "text/plain": [
       "<function __main__.plot_heading(hist_length, max_time)>"
      ]
     },
     "execution_count": 15,
     "metadata": {},
     "output_type": "execute_result"
    }
   ],
   "source": [
    "def plot_heading(hist_length, max_time):\n",
    "    sample = df[(df[\"ts\"] >= max_time - hist_length) & (df[\"ts\"] <= max_time)]\n",
    "    plt.scatter(sample[\"ts\"], sample[\"a\"], label=\"theta\")\n",
    "    plt.scatter(sample[\"ts\"], sample[\"av\"], label=\"omega\")\n",
    "    plt.hlines(np.pi, sample[\"ts\"].min(), sample[\"ts\"].max(), color=\"red\")\n",
    "    plt.hlines(0, sample[\"ts\"].min(), sample[\"ts\"].max(), color=\"red\")\n",
    "    plt.legend()\n",
    "    plt.title(\"heading and angular velocity\")\n",
    "    \n",
    "ipywidgets.interact(plot_heading, hist_length=ipywidgets.FloatSlider(value=15, min=0, max=df[\"ts\"].max()-df[\"ts\"].min(), continuous_update=False), max_time=ipywidgets.FloatSlider(value=df[\"ts\"].max(), min=df[\"ts\"].min(), max=df[\"ts\"].max()+.1, continuous_update=False))"
   ]
  },
  {
   "cell_type": "code",
   "execution_count": 16,
   "id": "e1a4515d",
   "metadata": {},
   "outputs": [
    {
     "data": {
      "text/plain": [
       "<matplotlib.collections.PathCollection at 0x7fd2d990f0a0>"
      ]
     },
     "execution_count": 16,
     "metadata": {},
     "output_type": "execute_result"
    },
    {
     "data": {
      "image/png": "[encoded data removed]",
      "text/plain": [
       "<Figure size 432x288 with 1 Axes>"
      ]
     },
     "metadata": {
      "needs_background": "light"
     },
     "output_type": "display_data"
    }
   ],
   "source": [
    "plt.scatter(df[\"ts\"], df[\"t\"])"
   ]
  },
  {
   "cell_type": "markdown",
   "id": "4ce26323",
   "metadata": {},
   "source": [
    "## Velocity and Acceleration"
   ]
  },
  {
   "cell_type": "code",
   "execution_count": 17,
   "id": "2cb0938d",
   "metadata": {},
   "outputs": [
    {
     "data": {
      "application/vnd.jupyter.widget-view+json": {
       "model_id": "d72879e08eb64a5db2774d1d159332ff",
       "version_major": 2,
       "version_minor": 0
      },
      "text/plain": [
       "interactive(children=(FloatSlider(value=15.0, continuous_update=False, description='hist_length', max=321.4000…"
      ]
     },
     "metadata": {},
     "output_type": "display_data"
    },
    {
     "data": {
      "text/plain": [
       "<function __main__.plot_speed(hist_length, max_time)>"
      ]
     },
     "execution_count": 17,
     "metadata": {},
     "output_type": "execute_result"
    }
   ],
   "source": [
    "def plot_speed(hist_length, max_time):\n",
    "    sample = df[(df[\"ts\"] >= max_time - hist_length) & (df[\"ts\"] <= max_time)]\n",
    "    plt.scatter(sample[\"ts\"], sample[\"speed\"])\n",
    "    plt.title(\"speed\")\n",
    "    print(f'min speed: {sample[\"speed\"].min()}')\n",
    "    print(f'max speed: {sample[\"speed\"].max()}')\n",
    "    \n",
    "ipywidgets.interact(plot_speed, hist_length=ipywidgets.FloatSlider(value=15, min=0, max=df[\"ts\"].max()-df[\"ts\"].min(), continuous_update=False), max_time=ipywidgets.FloatSlider(value=df[\"ts\"].max(), min=df[\"ts\"].min(), max=df[\"ts\"].max()+.1, continuous_update=False))"
   ]
  },
  {
   "cell_type": "code",
   "execution_count": 18,
   "id": "32a0a440",
   "metadata": {
    "scrolled": true
   },
   "outputs": [
    {
     "data": {
      "application/vnd.jupyter.widget-view+json": {
       "model_id": "a93f934869184c7c8a5de4c031eaeb96",
       "version_major": 2,
       "version_minor": 0
      },
      "text/plain": [
       "interactive(children=(FloatSlider(value=15.0, continuous_update=False, description='hist_length', max=321.4000…"
      ]
     },
     "metadata": {},
     "output_type": "display_data"
    },
    {
     "data": {
      "text/plain": [
       "<function __main__.plot_velocity(hist_length, max_time)>"
      ]
     },
     "execution_count": 18,
     "metadata": {},
     "output_type": "execute_result"
    }
   ],
   "source": [
    "def plot_velocity(hist_length, max_time):\n",
    "    sample = df[(df[\"ts\"] >= max_time - hist_length) & (df[\"ts\"] <= max_time)]\n",
    "    plt.scatter(sample[\"ts\"], sample[\"v.x\"], label=\"x\")\n",
    "    plt.scatter(sample[\"ts\"], sample[\"v.y\"], label=\"y\")\n",
    "    plt.legend()\n",
    "    plt.title(\"velocity\")\n",
    "    \n",
    "ipywidgets.interact(plot_velocity, hist_length=ipywidgets.FloatSlider(value=15, min=0, max=df[\"ts\"].max()-df[\"ts\"].min(), continuous_update=False), max_time=ipywidgets.FloatSlider(value=df[\"ts\"].max(), min=df[\"ts\"].min(), max=df[\"ts\"].max()+.1, continuous_update=False))"
   ]
  },
  {
   "cell_type": "code",
   "execution_count": 19,
   "id": "7e3172c1",
   "metadata": {
    "scrolled": true
   },
   "outputs": [
    {
     "data": {
      "application/vnd.jupyter.widget-view+json": {
       "model_id": "833fb5a2f38142e896b985468c0eb53f",
       "version_major": 2,
       "version_minor": 0
      },
      "text/plain": [
       "interactive(children=(FloatSlider(value=15.0, continuous_update=False, description='hist_length', max=321.4000…"
      ]
     },
     "metadata": {},
     "output_type": "display_data"
    },
    {
     "data": {
      "text/plain": [
       "<function __main__.plot_acceleration(hist_length, max_time)>"
      ]
     },
     "execution_count": 19,
     "metadata": {},
     "output_type": "execute_result"
    }
   ],
   "source": [
    "def plot_acceleration(hist_length, max_time):\n",
    "    sample = df[(df[\"ts\"] >= max_time - hist_length) & (df[\"ts\"] <= max_time)]\n",
    "    plt.scatter(sample[\"ts\"], (sample[\"v.x\"].shift(1) - sample[\"v.x\"]) / (sample[\"ts\"].shift(1) - sample[\"ts\"]), label=\"x\")\n",
    "    plt.scatter(sample[\"ts\"], (sample[\"v.y\"].shift(1) - sample[\"v.y\"]) / (sample[\"ts\"].shift(1) - sample[\"ts\"]), label=\"y\")\n",
    "    plt.yscale(\"symlog\")\n",
    "    plt.legend()\n",
    "    plt.title(\"acceleration\")\n",
    "    \n",
    "ipywidgets.interact(plot_acceleration, hist_length=ipywidgets.FloatSlider(value=15, min=0, max=df[\"ts\"].max()-df[\"ts\"].min(), continuous_update=False), max_time=ipywidgets.FloatSlider(value=df[\"ts\"].max(), min=df[\"ts\"].min(), max=df[\"ts\"].max()+.1, continuous_update=False))"
   ]
  },
  {
   "cell_type": "code",
   "execution_count": 20,
   "id": "7754010f",
   "metadata": {},
   "outputs": [
    {
     "data": {
      "application/vnd.jupyter.widget-view+json": {
       "model_id": "8329a44203f74959847913a29f0d7cb6",
       "version_major": 2,
       "version_minor": 0
      },
      "text/plain": [
       "interactive(children=(FloatSlider(value=15.0, continuous_update=False, description='hist_length', max=321.4000…"
      ]
     },
     "metadata": {},
     "output_type": "display_data"
    },
    {
     "data": {
      "text/plain": [
       "<function __main__.plot_force(hist_length, max_time)>"
      ]
     },
     "execution_count": 20,
     "metadata": {},
     "output_type": "execute_result"
    }
   ],
   "source": [
    "def plot_force(hist_length, max_time):\n",
    "    sample = df[(df[\"ts\"] >= max_time - hist_length) & (df[\"ts\"] <= max_time)]\n",
    "    plt.scatter(sample[\"ts\"], sample[\"f_mag\"])\n",
    "    plt.yscale(\"log\")\n",
    "    plt.title(\"force\")\n",
    "\n",
    "ipywidgets.interact(plot_force, hist_length=ipywidgets.FloatSlider(value=15, min=0, max=df[\"ts\"].max()-df[\"ts\"].min(), continuous_update=False), max_time=ipywidgets.FloatSlider(value=df[\"ts\"].max(), min=df[\"ts\"].min(), max=df[\"ts\"].max()+.1, continuous_update=False))"
   ]
  },
  {
   "cell_type": "markdown",
   "id": "4630e3f8",
   "metadata": {},
   "source": [
    "# Behavior Monitoring"
   ]
  },
  {
   "cell_type": "code",
   "execution_count": 21,
   "id": "cf1a4380",
   "metadata": {},
   "outputs": [
    {
     "data": {
      "text/plain": [
       "[315.7500000000415, None, 318.75000000003877, 316.58333333337407]"
      ]
     },
     "execution_count": 21,
     "metadata": {},
     "output_type": "execute_result"
    }
   ],
   "source": [
    "[next((df.iloc[idx][\"ts\"] if idx is not None else None for idx, v in zip(df.index, (~df[c].isna() & df[c] == True)) if v), None) for c in [\"o.ct\", \"o.cs\", \"o.cac\", \"o.cbdr\"]]"
   ]
  },
  {
   "cell_type": "code",
   "execution_count": 22,
   "id": "9e6db2b0",
   "metadata": {},
   "outputs": [
    {
     "data": {
      "application/vnd.jupyter.widget-view+json": {
       "model_id": "82bb3d000ecf4977ba8a4cf1ec6027cb",
       "version_major": 2,
       "version_minor": 0
      },
      "text/plain": [
       "interactive(children=(FloatSlider(value=15.0, continuous_update=False, description='hist_length', max=321.4000…"
      ]
     },
     "metadata": {},
     "output_type": "display_data"
    },
    {
     "data": {
      "text/plain": [
       "<function __main__.plot_collision_info(hist_length, max_time)>"
      ]
     },
     "execution_count": 22,
     "metadata": {},
     "output_type": "execute_result"
    }
   ],
   "source": [
    "def plot_collision_info(hist_length, max_time):\n",
    "    sample = df[(df[\"ts\"] >= max_time - hist_length) & (df[\"ts\"] <= max_time)]\n",
    "    plt.scatter(sample[\"ts\"], (~(sample[\"o.ct\"].isna())).astype(int), label=\"ct\")\n",
    "    plt.scatter(sample[\"ts\"], sample[\"o.cs\"].fillna(0).astype(int)+0.05, label=\"cs\")\n",
    "    plt.scatter(sample[\"ts\"], sample[\"o.cac\"].fillna(0).astype(int)+0.1, label=\"cac\")\n",
    "    plt.scatter(sample[\"ts\"], sample[\"o.cbdr\"].fillna(0).astype(int)+0.15, label=\"cbdr\")\n",
    "    plt.scatter(sample[\"ts\"], sample[\"o.cach\"].fillna(0).astype(int)+0.1, label=\"cach\", marker=\"+\")\n",
    "    plt.scatter(sample[\"ts\"], sample[\"o.ct_dv_override\"].fillna(0).astype(int)+0.2, label=\"dv override\")\n",
    "    plt.legend()\n",
    "    plt.title(\"status flags\")\n",
    "    \n",
    "    flag_cols = [\"o.ct\", \"o.cs\", \"o.cac\", \"o.cach\", \"o.cbdr\", \"o.ct_dv_override\"]\n",
    "    first_ts = [\n",
    "        next(\n",
    "            (sample.loc[idx][\"ts\"] if idx is not None else None\n",
    "             for idx, v in zip(sample.index, (~sample[c].isna() & sample[c] == True))\n",
    "             if v),\n",
    "            None\n",
    "        )\n",
    "        for c in flag_cols\n",
    "    ]\n",
    "    for c, ts in zip(flag_cols, first_ts):\n",
    "        print(f'first {c}: {ts}')\n",
    "\n",
    "ipywidgets.interact(plot_collision_info, hist_length=ipywidgets.FloatSlider(value=15, min=0, max=df[\"ts\"].max()-df[\"ts\"].min(), continuous_update=False), max_time=ipywidgets.FloatSlider(value=df[\"ts\"].max(), min=df[\"ts\"].min(), max=df[\"ts\"].max()+.1, continuous_update=False))"
   ]
  },
  {
   "cell_type": "markdown",
   "id": "94ba2b3d",
   "metadata": {},
   "source": [
    "### Target Location"
   ]
  },
  {
   "cell_type": "code",
   "execution_count": 23,
   "id": "2640e1e5",
   "metadata": {},
   "outputs": [
    {
     "data": {
      "text/html": [
       "<div>\n",
       "<style scoped>\n",
       "    .dataframe tbody tr th:only-of-type {\n",
       "        vertical-align: middle;\n",
       "    }\n",
       "\n",
       "    .dataframe tbody tr th {\n",
       "        vertical-align: top;\n",
       "    }\n",
       "\n",
       "    .dataframe thead tr th {\n",
       "        text-align: left;\n",
       "    }\n",
       "\n",
       "    .dataframe thead tr:last-of-type th {\n",
       "        text-align: right;\n",
       "    }\n",
       "</style>\n",
       "<table border=\"1\" class=\"dataframe\">\n",
       "  <thead>\n",
       "    <tr>\n",
       "      <th></th>\n",
       "      <th></th>\n",
       "      <th colspan=\"3\" halign=\"left\">ts</th>\n",
       "      <th colspan=\"2\" halign=\"left\">o.t_dist</th>\n",
       "    </tr>\n",
       "    <tr>\n",
       "      <th></th>\n",
       "      <th></th>\n",
       "      <th>count</th>\n",
       "      <th>min</th>\n",
       "      <th>max</th>\n",
       "      <th>min</th>\n",
       "      <th>max</th>\n",
       "    </tr>\n",
       "    <tr>\n",
       "      <th>o.t_loc.x</th>\n",
       "      <th>o.t_loc.y</th>\n",
       "      <th></th>\n",
       "      <th></th>\n",
       "      <th></th>\n",
       "      <th></th>\n",
       "      <th></th>\n",
       "    </tr>\n",
       "  </thead>\n",
       "  <tbody>\n",
       "    <tr>\n",
       "      <th>-36947.197830</th>\n",
       "      <th>136835.904193</th>\n",
       "      <td>591</td>\n",
       "      <td>223.250000</td>\n",
       "      <td>321.483333</td>\n",
       "      <td>59782.521466</td>\n",
       "      <td>269764.094429</td>\n",
       "    </tr>\n",
       "    <tr>\n",
       "      <th>105437.434078</th>\n",
       "      <th>-92724.614297</th>\n",
       "      <td>1038</td>\n",
       "      <td>0.083333</td>\n",
       "      <td>172.916667</td>\n",
       "      <td>370.389071</td>\n",
       "      <td>306985.526140</td>\n",
       "    </tr>\n",
       "  </tbody>\n",
       "</table>\n",
       "</div>"
      ],
      "text/plain": [
       "                                 ts                              o.t_dist  \\\n",
       "                              count         min         max           min   \n",
       "o.t_loc.x      o.t_loc.y                                                    \n",
       "-36947.197830   136835.904193   591  223.250000  321.483333  59782.521466   \n",
       " 105437.434078 -92724.614297   1038    0.083333  172.916667    370.389071   \n",
       "\n",
       "                                              \n",
       "                                         max  \n",
       "o.t_loc.x      o.t_loc.y                      \n",
       "-36947.197830   136835.904193  269764.094429  \n",
       " 105437.434078 -92724.614297   306985.526140  "
      ]
     },
     "execution_count": 23,
     "metadata": {},
     "output_type": "execute_result"
    }
   ],
   "source": [
    "if np.any(~df[\"o.t_loc\"].isna()):\n",
    "    x = df.groupby([\"o.t_loc.x\", \"o.t_loc.y\"]).agg({\"ts\": [\"count\", \"min\", \"max\"], \"o.t_dist\": [\"min\",\"max\"]})\n",
    "else:\n",
    "    x = \"no location target\"\n",
    "x"
   ]
  },
  {
   "cell_type": "code",
   "execution_count": 24,
   "id": "74d23fb4",
   "metadata": {},
   "outputs": [
    {
     "data": {
      "application/vnd.jupyter.widget-view+json": {
       "model_id": "f80e6c2f7ee04ef884aff22d8b7a0e05",
       "version_major": 2,
       "version_minor": 0
      },
      "text/plain": [
       "interactive(children=(FloatSlider(value=15.0, continuous_update=False, description='hist_length', max=321.4000…"
      ]
     },
     "metadata": {},
     "output_type": "display_data"
    },
    {
     "data": {
      "text/plain": [
       "<function __main__.plot_target_distance(hist_length, max_time)>"
      ]
     },
     "execution_count": 24,
     "metadata": {},
     "output_type": "execute_result"
    }
   ],
   "source": [
    "#sample = df[(df[\"ts\"] < 124.4) & (df[\"ts\"] > 120)]\n",
    "def plot_target_distance(hist_length, max_time):\n",
    "    sample = df[(df[\"ts\"] >= max_time - hist_length) & (df[\"ts\"] <= max_time)]\n",
    "    plt.scatter(sample[\"ts\"], sample[\"o.t_dist\"])\n",
    "    plt.scatter(sample[\"ts\"], sample[\"o.ad\"], color=\"green\", marker=\"_\")\n",
    "    plt.scatter(sample[\"ts\"], sample[\"o.md\"], color=\"red\", marker=\"_\")\n",
    "    #plt.ylim(0,1500)\n",
    "    plt.title(\"distance to target\")\n",
    "    print(f'when first arrived {sample[sample[\"o.t_dist\"] < sample[\"o.ad\"]][\"ts\"].min()}')\n",
    "\n",
    "ipywidgets.interact(\n",
    "    plot_target_distance,\n",
    "    hist_length=ipywidgets.FloatSlider(value=15, min=0, max=df[\"ts\"].max()-df[\"ts\"].min(), continuous_update=False),\n",
    "    max_time=ipywidgets.FloatSlider(value=df[\"ts\"].max(), min=df[\"ts\"].min(), max=df[\"ts\"].max()+.1, continuous_update=False))"
   ]
  },
  {
   "cell_type": "code",
   "execution_count": 25,
   "id": "821d6c72",
   "metadata": {},
   "outputs": [
    {
     "data": {
      "text/plain": [
       "171.58333333336202"
      ]
     },
     "execution_count": 25,
     "metadata": {},
     "output_type": "execute_result"
    }
   ],
   "source": [
    "df[df[\"o.t_dist\"] < df[\"o.ad\"]][\"ts\"].min()"
   ]
  },
  {
   "cell_type": "code",
   "execution_count": 26,
   "id": "4d0bf8d0",
   "metadata": {},
   "outputs": [
    {
     "data": {
      "application/vnd.jupyter.widget-view+json": {
       "model_id": "d005e4ff0c134958b9711833533f3f3b",
       "version_major": 2,
       "version_minor": 0
      },
      "text/plain": [
       "interactive(children=(FloatSlider(value=15.0, continuous_update=False, description='hist_length', max=321.4000…"
      ]
     },
     "metadata": {},
     "output_type": "display_data"
    },
    {
     "data": {
      "text/plain": [
       "<function __main__.plot_desired_speed(hist_length, max_time)>"
      ]
     },
     "execution_count": 26,
     "metadata": {},
     "output_type": "execute_result"
    }
   ],
   "source": [
    "def plot_desired_speed(hist_length, max_time):\n",
    "    sample = df[(df[\"ts\"] >= max_time - hist_length) & (df[\"ts\"] <= max_time)]\n",
    "    plt.scatter(sample[\"ts\"], sample[\"speed\"], label=\"actual speed\")\n",
    "    plt.scatter(sample[\"ts\"], sample[\"o.t_speed\"], label=\"desired speed\")\n",
    "    plt.legend()\n",
    "    plt.title(\"speed and desired speed to target\")\n",
    "    plt.ylim(0)\n",
    "\n",
    "ipywidgets.interact(\n",
    "    plot_desired_speed,\n",
    "    hist_length=ipywidgets.FloatSlider(value=15, min=0, max=df[\"ts\"].max()-df[\"ts\"].min(), continuous_update=False),\n",
    "    max_time=ipywidgets.FloatSlider(value=df[\"ts\"].max(), min=df[\"ts\"].min(), max=df[\"ts\"].max()+.1, continuous_update=False))"
   ]
  },
  {
   "cell_type": "code",
   "execution_count": 27,
   "id": "d7341dc2",
   "metadata": {
    "scrolled": true
   },
   "outputs": [
    {
     "data": {
      "text/plain": [
       "Text(0.5, 1.0, 'desired speed delta')"
      ]
     },
     "execution_count": 27,
     "metadata": {},
     "output_type": "execute_result"
    },
    {
     "data": {
      "image/png": "[encoded data removed]",
      "text/plain": [
       "<Figure size 432x288 with 1 Axes>"
      ]
     },
     "metadata": {
      "needs_background": "light"
     },
     "output_type": "display_data"
    }
   ],
   "source": [
    "plt.scatter(df[\"ts\"], df[\"o.t_speed\"] - df[\"speed\"])\n",
    "plt.scatter(df[\"ts\"], np.linalg.norm(np.array((df[\"o.t_v.x\"] - df[\"v.x\"], df[\"o.t_v.y\"] - df[\"v.y\"])), axis=0))\n",
    "plt.title(\"desired speed delta\")"
   ]
  },
  {
   "cell_type": "markdown",
   "id": "5ac378ec",
   "metadata": {},
   "source": [
    "## Collision Avoidance"
   ]
  },
  {
   "cell_type": "markdown",
   "id": "6936a767",
   "metadata": {},
   "source": [
    "### Collision Threats"
   ]
  },
  {
   "cell_type": "code",
   "execution_count": 28,
   "id": "f38ca4d8",
   "metadata": {},
   "outputs": [
    {
     "data": {
      "application/vnd.jupyter.widget-view+json": {
       "model_id": "5716edfd590d45fe846c5245bc447dd8",
       "version_major": 2,
       "version_minor": 0
      },
      "text/plain": [
       "interactive(children=(FloatSlider(value=15.0, continuous_update=False, description='hist_length', max=321.4000…"
      ]
     },
     "metadata": {},
     "output_type": "display_data"
    },
    {
     "data": {
      "text/plain": [
       "<function __main__.show_collision_threats(hist_length, max_time)>"
      ]
     },
     "execution_count": 28,
     "metadata": {},
     "output_type": "execute_result"
    }
   ],
   "source": [
    "def show_collision_threats(hist_length, max_time):\n",
    "    sample = df[(df[\"ts\"] >= max_time-hist_length) & (df[\"ts\"] <= max_time)]\n",
    "    if np.any(~sample[\"o.ct\"].isna()):\n",
    "        x = sample.groupby(\"o.ct\").agg({\"ts\": [\"count\", \"min\", \"max\"], \"o.ct_dist\": [\"min\",\"max\"]})\n",
    "    else:\n",
    "        x = \"no collision threats\"\n",
    "    return x\n",
    "ipywidgets.interact(\n",
    "    show_collision_threats,\n",
    "    hist_length=ipywidgets.FloatSlider(value=15, min=0, max=df[\"ts\"].max()-df[\"ts\"].min(), continuous_update=False),\n",
    "    max_time=ipywidgets.FloatSlider(value=df[\"ts\"].max(), min=df[\"ts\"].min(), max=df[\"ts\"].max()+.1, continuous_update=False)\n",
    ")"
   ]
  },
  {
   "cell_type": "code",
   "execution_count": 29,
   "id": "890424d5",
   "metadata": {},
   "outputs": [
    {
     "data": {
      "application/vnd.jupyter.widget-view+json": {
       "model_id": "8663a3a6440c4f5a937e66ad0cd26658",
       "version_major": 2,
       "version_minor": 0
      },
      "text/plain": [
       "interactive(children=(FloatSlider(value=15.0, continuous_update=False, description='hist_length', max=321.4000…"
      ]
     },
     "metadata": {},
     "output_type": "display_data"
    },
    {
     "data": {
      "text/plain": [
       "<function __main__.plot_collision_distance(hist_length, max_time)>"
      ]
     },
     "execution_count": 29,
     "metadata": {},
     "output_type": "execute_result"
    }
   ],
   "source": [
    "def plot_collision_distance(hist_length, max_time):\n",
    "    sample = df[(df[\"ts\"] >= max_time-hist_length) & (df[\"ts\"] <= max_time)]\n",
    "    plt.scatter(sample[\"ts\"], sample[\"o.ct_dist\"])\n",
    "    plt.scatter(sample[\"ts\"], sample[\"o.ct_cradius\"]+sample[\"o.scm\"]*2, color=\"green\", marker=\"_\")\n",
    "    plt.scatter(sample[\"ts\"], sample[\"o.ct_cradius\"]+sample[\"o.scm\"], color=\"orange\", marker=\"_\")\n",
    "    plt.scatter(sample[\"ts\"], sample[\"o.ct_cradius\"], color=\"red\", marker=\"_\")\n",
    "    plt.hlines(60, sample[\"ts\"].min(), sample[\"ts\"].max(), color=\"red\")\n",
    "    plt.ylim(0)\n",
    "    plt.title(\"distance to collision threat\")\n",
    "    print(f'max ct dist: {sample[\"o.ct_dist\"].max()}')\n",
    "    print(f'min ct dist: {sample[\"o.ct_dist\"].min()}')\n",
    "\n",
    "ipywidgets.interact(\n",
    "    plot_collision_distance,\n",
    "    hist_length=ipywidgets.FloatSlider(value=15, min=0, max=df[\"ts\"].max()-df[\"ts\"].min(), continuous_update=False),\n",
    "    max_time=ipywidgets.FloatSlider(value=df[\"ts\"].max(), min=df[\"ts\"].min(), max=df[\"ts\"].max()+.1, continuous_update=False)\n",
    ")"
   ]
  },
  {
   "cell_type": "code",
   "execution_count": 30,
   "id": "12faf352",
   "metadata": {},
   "outputs": [
    {
     "data": {
      "text/plain": [
       "Text(0.5, 1.0, 'Collision Threat and Time Since Detection')"
      ]
     },
     "execution_count": 30,
     "metadata": {},
     "output_type": "execute_result"
    },
    {
     "data": {
      "image/png": "[encoded data removed]",
      "text/plain": [
       "<Figure size 432x288 with 2 Axes>"
      ]
     },
     "metadata": {
      "needs_background": "light"
     },
     "output_type": "display_data"
    }
   ],
   "source": [
    "fig, ax1 = plt.subplots()\n",
    "ax2 = ax1.twinx()\n",
    "\n",
    "ax1.scatter(df[\"ts\"], 1-df[\"o.ct\"].isna().astype(int))\n",
    "ax2.scatter(df[\"ts\"], df[\"ts\"] - df[\"o.ct_ts\"], color=\"orange\")\n",
    "plt.title(\"Collision Threat and Time Since Detection\")\n",
    "\n",
    "#ax2.set_ylim(0,(df[\"ts\"] - df[\"o.ct_ts\"]).max()*1.2)"
   ]
  },
  {
   "cell_type": "markdown",
   "id": "4ccbb6a4",
   "metadata": {},
   "source": [
    "## CBDR Detection"
   ]
  },
  {
   "cell_type": "code",
   "execution_count": 31,
   "id": "4d35c62b",
   "metadata": {},
   "outputs": [
    {
     "data": {
      "application/vnd.jupyter.widget-view+json": {
       "model_id": "6b9ca93123ec491680e2dfce7b9da827",
       "version_major": 2,
       "version_minor": 0
      },
      "text/plain": [
       "interactive(children=(FloatSlider(value=15.0, continuous_update=False, description='hist_length', max=321.4000…"
      ]
     },
     "metadata": {},
     "output_type": "display_data"
    },
    {
     "data": {
      "text/plain": [
       "<function __main__.plot_cbdr_detection_data(hist_length, max_time)>"
      ]
     },
     "execution_count": 31,
     "metadata": {},
     "output_type": "execute_result"
    }
   ],
   "source": [
    "def plot_cbdr_detection_data(hist_length, max_time):\n",
    "    sample = df[(df[\"ts\"] >= max_time - hist_length) & (df[\"ts\"] <= max_time)]\n",
    "    fig, ax1 = plt.subplots()\n",
    "    ax2 = ax1.twinx()\n",
    "\n",
    "    bearing = sample[\"o.cbdr_hist\"].apply(lambda x: np.nan if isinstance(x, float) or len(x) < 2 else abs(util.cartesian_to_polar(x[0][0], x[0][1])[1] - util.cartesian_to_polar(x[-1][0], x[-1][1])[1]))\n",
    "    threat_range = sample[\"o.cbdr_hist\"].apply(lambda x: np.nan if isinstance(x, float) or len(x) < 2 else util.cartesian_to_polar(x[0][0], x[0][1])[0] - util.cartesian_to_polar(x[-1][0], x[-1][1])[0])\n",
    "    ax1.scatter(sample[\"ts\"], bearing, label=\"delta bearing\")\n",
    "    ax1.hlines(2e-3, sample[\"ts\"].min(), sample[\"ts\"].max(), color=\"green\", label=\"max delta bearing\")\n",
    "    ax2.scatter(sample[\"ts\"], threat_range, color=\"orange\", label=\"delta range\")\n",
    "    ax2.hlines(5, sample[\"ts\"].min(), sample[\"ts\"].max(), color=\"red\", label=\"min delta range\")\n",
    "    fig.legend()\n",
    "    \n",
    "ipywidgets.interact(\n",
    "    plot_cbdr_detection_data,\n",
    "    hist_length=ipywidgets.FloatSlider(value=15, min=0, max=df[\"ts\"].max()-df[\"ts\"].min(), continuous_update=False),\n",
    "    max_time=ipywidgets.FloatSlider(value=df[\"ts\"].max(), min=df[\"ts\"].min(), max=df[\"ts\"].max()+.1, continuous_update=False))"
   ]
  },
  {
   "cell_type": "code",
   "execution_count": 32,
   "id": "9c947c36",
   "metadata": {},
   "outputs": [
    {
     "data": {
      "application/vnd.jupyter.widget-view+json": {
       "model_id": "b559cb45f4c24cbc934f51585bbe2409",
       "version_major": 2,
       "version_minor": 0
      },
      "text/plain": [
       "interactive(children=(FloatSlider(value=15.0, continuous_update=False, description='hist_length', max=321.4000…"
      ]
     },
     "metadata": {},
     "output_type": "display_data"
    },
    {
     "data": {
      "text/plain": [
       "<function __main__.plot_num_coalesced_threats(hist_length, max_time)>"
      ]
     },
     "execution_count": 32,
     "metadata": {},
     "output_type": "execute_result"
    }
   ],
   "source": [
    "def plot_num_coalesced_threats(hist_length, max_time):\n",
    "    sample = df[(df[\"ts\"] >= max_time-hist_length) & (df[\"ts\"] <= max_time)]\n",
    "    plt.scatter(sample[\"ts\"], sample[\"o.ct_ct\"])\n",
    "    plt.title(\"number of coalesced threats\")\n",
    "    plt.show()\n",
    "\n",
    "ipywidgets.interact(\n",
    "    plot_num_coalesced_threats,\n",
    "    hist_length=ipywidgets.FloatSlider(value=15, min=0, max=df[\"ts\"].max()-df[\"ts\"].min(), continuous_update=False),\n",
    "    max_time=ipywidgets.FloatSlider(value=df[\"ts\"].max(), min=df[\"ts\"].min(), max=df[\"ts\"].max()+.1, continuous_update=False)\n",
    ")  "
   ]
  },
  {
   "cell_type": "code",
   "execution_count": 33,
   "id": "91227c9a",
   "metadata": {},
   "outputs": [
    {
     "data": {
      "application/vnd.jupyter.widget-view+json": {
       "model_id": "769496c16e8f41899304436e073f229a",
       "version_major": 2,
       "version_minor": 0
      },
      "text/plain": [
       "interactive(children=(FloatSlider(value=15.0, continuous_update=False, description='hist_length', max=321.4000…"
      ]
     },
     "metadata": {},
     "output_type": "display_data"
    },
    {
     "data": {
      "text/plain": [
       "<function __main__.plot_collision_threat_radius(hist_length, max_time)>"
      ]
     },
     "execution_count": 33,
     "metadata": {},
     "output_type": "execute_result"
    }
   ],
   "source": [
    "def plot_collision_threat_radius(hist_length, max_time):\n",
    "    sample = df[(df[\"ts\"] >= max_time - hist_length) & (df[\"ts\"] <= max_time)]\n",
    "    plt.scatter(sample[\"ts\"], sample[\"o.ct_cradius\"], label=\"threat radius\")\n",
    "    plt.scatter(sample[\"ts\"], sample[\"o.scm\"], label=\"desired margin\")\n",
    "    plt.title(\"collision threat radius\")\n",
    "    plt.legend()\n",
    "    print(f'min coalesced radius: {sample[\"o.ct_cradius\"].min()}')\n",
    "    print(f'min scaled margin: {sample[\"o.scm\"].min()}')\n",
    "    plt.show()\n",
    "\n",
    "ipywidgets.interact(\n",
    "    plot_collision_threat_radius,\n",
    "    hist_length=ipywidgets.FloatSlider(value=15, min=0, max=df[\"ts\"].max()-df[\"ts\"].min(), continuous_update=False),\n",
    "    max_time=ipywidgets.FloatSlider(value=df[\"ts\"].max(), min=df[\"ts\"].min(), max=df[\"ts\"].max()+.1, continuous_update=False))"
   ]
  },
  {
   "cell_type": "code",
   "execution_count": 34,
   "id": "10290387",
   "metadata": {},
   "outputs": [
    {
     "data": {
      "application/vnd.jupyter.widget-view+json": {
       "model_id": "8b2b2e08c2aa4d129ab89187990b2278",
       "version_major": 2,
       "version_minor": 0
      },
      "text/plain": [
       "interactive(children=(FloatSlider(value=15.0, continuous_update=False, description='hist_length', max=321.4000…"
      ]
     },
     "metadata": {},
     "output_type": "display_data"
    },
    {
     "data": {
      "text/plain": [
       "<function __main__.plot_collision_threat_loc(hist_length, max_time)>"
      ]
     },
     "execution_count": 34,
     "metadata": {},
     "output_type": "execute_result"
    }
   ],
   "source": [
    "def plot_collision_threat_loc(hist_length, max_time):\n",
    "    sample = df[(df[\"ts\"] >= max_time - hist_length) & (df[\"ts\"] <= max_time)]\n",
    "    fig, ax1 = plt.subplots()\n",
    "    ax2 = ax1.twinx()\n",
    "    ax1.scatter(sample[\"ts\"], sample[\"o.ct_cloc.x\"])\n",
    "    ax2.scatter(sample[\"ts\"], sample[\"o.ct_cloc.y\"], color=\"orange\")\n",
    "    plt.title(\"collision threat coalesced location\")\n",
    "    plt.show()\n",
    "\n",
    "ipywidgets.interact(\n",
    "    plot_collision_threat_loc,\n",
    "    hist_length=ipywidgets.FloatSlider(value=15, min=0, max=df[\"ts\"].max()-df[\"ts\"].min(), continuous_update=False),\n",
    "    max_time=ipywidgets.FloatSlider(value=df[\"ts\"].max(), min=df[\"ts\"].min(), max=df[\"ts\"].max()+.1, continuous_update=False))"
   ]
  },
  {
   "cell_type": "code",
   "execution_count": 35,
   "id": "5e817d73",
   "metadata": {},
   "outputs": [
    {
     "data": {
      "application/vnd.jupyter.widget-view+json": {
       "model_id": "5e254e67d0fe43afa056287defbbb967",
       "version_major": 2,
       "version_minor": 0
      },
      "text/plain": [
       "interactive(children=(FloatSlider(value=15.0, continuous_update=False, description='hist_length', max=321.4000…"
      ]
     },
     "metadata": {},
     "output_type": "display_data"
    },
    {
     "data": {
      "text/plain": [
       "<function __main__.plot_collision_dv(hist_length, max_time)>"
      ]
     },
     "execution_count": 35,
     "metadata": {},
     "output_type": "execute_result"
    }
   ],
   "source": [
    "def plot_collision_dv(hist_length, max_time):\n",
    "    sample = df[(df[\"ts\"] >= max_time - hist_length) & (df[\"ts\"] <= max_time)]\n",
    "    plt.scatter(sample[\"ts\"], sample[\"o.ct_dv.x\"])\n",
    "    plt.scatter(sample[\"ts\"], sample[\"o.ct_dv.y\"])\n",
    "    plt.title(\"collision avoidance velocity\")\n",
    "\n",
    "ipywidgets.interact(\n",
    "    plot_collision_dv,\n",
    "    hist_length=ipywidgets.FloatSlider(value=15, min=0, max=df[\"ts\"].max()-df[\"ts\"].min(), continuous_update=False),\n",
    "    max_time=ipywidgets.FloatSlider(value=df[\"ts\"].max(), min=df[\"ts\"].min(), max=df[\"ts\"].max()+.1, continuous_update=False))"
   ]
  },
  {
   "cell_type": "markdown",
   "id": "785ce89f",
   "metadata": {},
   "source": [
    "## Nearest Neighbors"
   ]
  },
  {
   "cell_type": "code",
   "execution_count": 36,
   "id": "03a6b3aa",
   "metadata": {},
   "outputs": [
    {
     "data": {
      "application/vnd.jupyter.widget-view+json": {
       "model_id": "b5e5bd720e994b2c8d9b862094294aae",
       "version_major": 2,
       "version_minor": 0
      },
      "text/plain": [
       "interactive(children=(FloatSlider(value=15.0, continuous_update=False, description='hist_length', max=321.4000…"
      ]
     },
     "metadata": {},
     "output_type": "display_data"
    },
    {
     "data": {
      "text/plain": [
       "<function __main__.plot_neighborhood_size(hist_length, max_time)>"
      ]
     },
     "execution_count": 36,
     "metadata": {},
     "output_type": "execute_result"
    }
   ],
   "source": [
    "neighborhood_radius = 5e4\n",
    "def plot_neighborhood_size(hist_length, max_time):\n",
    "    sample = df[(df[\"ts\"] >= max_time - hist_length) & (df[\"ts\"] <= max_time)]\n",
    "    plt.scatter(sample[\"ts\"], sample[\"o.nd\"]*np.pi*neighborhood_radius**2)\n",
    "    plt.title(\"neighborhood size (10km^2)\")\n",
    "    plt.show()\n",
    "\n",
    "ipywidgets.interact(\n",
    "    plot_neighborhood_size,\n",
    "    hist_length=ipywidgets.FloatSlider(value=15, min=0, max=df[\"ts\"].max()-df[\"ts\"].min(), continuous_update=False),\n",
    "    max_time=ipywidgets.FloatSlider(value=df[\"ts\"].max(), min=df[\"ts\"].min(), max=df[\"ts\"].max()+.1, continuous_update=False))"
   ]
  },
  {
   "cell_type": "code",
   "execution_count": 37,
   "id": "139c049e",
   "metadata": {},
   "outputs": [
    {
     "data": {
      "application/vnd.jupyter.widget-view+json": {
       "model_id": "540e4196982f4b12a673e10130b2965e",
       "version_major": 2,
       "version_minor": 0
      },
      "text/plain": [
       "interactive(children=(FloatSlider(value=15.0, continuous_update=False, description='hist_length', max=321.4000…"
      ]
     },
     "metadata": {},
     "output_type": "display_data"
    },
    {
     "data": {
      "text/plain": [
       "<function __main__.plot_nearest_neighbor(hist_length, max_time)>"
      ]
     },
     "execution_count": 37,
     "metadata": {},
     "output_type": "execute_result"
    }
   ],
   "source": [
    "def plot_nearest_neighbor(hist_length, max_time):\n",
    "    sample = df[(df[\"ts\"] >= max_time - hist_length) & (df[\"ts\"] <= max_time)]\n",
    "    plt.scatter(sample[\"ts\"], sample[\"o.nnd\"])\n",
    "    plt.title(\"nearest neighor dist\")\n",
    "    plt.show()\n",
    "    print(f'min dist {sample[\"o.nnd\"].min()}')\n",
    "\n",
    "ipywidgets.interact(\n",
    "    plot_nearest_neighbor,\n",
    "    hist_length=ipywidgets.FloatSlider(value=15, min=0, max=df[\"ts\"].max()-df[\"ts\"].min(), continuous_update=False),\n",
    "    max_time=ipywidgets.FloatSlider(value=df[\"ts\"].max(), min=df[\"ts\"].min(), max=df[\"ts\"].max()+.1, continuous_update=False))"
   ]
  },
  {
   "cell_type": "code",
   "execution_count": 38,
   "id": "7eb296e0",
   "metadata": {},
   "outputs": [],
   "source": [
    "# \n",
    "# Smallest enclosing circle - Library (Python)\n",
    "# \n",
    "# Copyright (c) 2020 Project Nayuki\n",
    "# https://www.nayuki.io/page/smallest-enclosing-circle\n",
    "# \n",
    "# This program is free software: you can redistribute it and/or modify\n",
    "# it under the terms of the GNU Lesser General Public License as published by\n",
    "# the Free Software Foundation, either version 3 of the License, or\n",
    "# (at your option) any later version.\n",
    "# \n",
    "# This program is distributed in the hope that it will be useful,\n",
    "# but WITHOUT ANY WARRANTY; without even the implied warranty of\n",
    "# MERCHANTABILITY or FITNESS FOR A PARTICULAR PURPOSE.  See the\n",
    "# GNU Lesser General Public License for more details.\n",
    "# \n",
    "# You should have received a copy of the GNU Lesser General Public License\n",
    "# along with this program (see COPYING.txt and COPYING.LESSER.txt).\n",
    "# If not, see <http://www.gnu.org/licenses/>.\n",
    "# \n",
    "\n",
    "import math, random\n",
    "\n",
    "\n",
    "# Data conventions: A point is a pair of floats (x, y). A circle is a triple of floats (center x, center y, radius).\n",
    "\n",
    "# Returns the smallest circle that encloses all the given points. Runs in expected O(n) time, randomized.\n",
    "# Input: A sequence of pairs of floats or ints, e.g. [(0,5), (3.1,-2.7)].\n",
    "# Output: A triple of floats representing a circle.\n",
    "# Note: If 0 points are given, None is returned. If 1 point is given, a circle of radius 0 is returned.\n",
    "# \n",
    "# Initially: No boundary points known\n",
    "def make_circle(points):\n",
    "\t# Convert to float and randomize order\n",
    "\tshuffled = [(float(x), float(y)) for (x, y) in points]\n",
    "\trandom.shuffle(shuffled)\n",
    "\t\n",
    "\t# Progressively add points to circle or recompute circle\n",
    "\tc = None\n",
    "\tfor (i, p) in enumerate(shuffled):\n",
    "\t\tif c is None or not is_in_circle(c, p):\n",
    "\t\t\tc = _make_circle_one_point(shuffled[ : i + 1], p)\n",
    "\treturn c\n",
    "\n",
    "\n",
    "# One boundary point known\n",
    "def _make_circle_one_point(points, p):\n",
    "\tc = (p[0], p[1], 0.0)\n",
    "\tfor (i, q) in enumerate(points):\n",
    "\t\tif not is_in_circle(c, q):\n",
    "\t\t\tif c[2] == 0.0:\n",
    "\t\t\t\tc = make_diameter(p, q)\n",
    "\t\t\telse:\n",
    "\t\t\t\tc = _make_circle_two_points(points[ : i + 1], p, q)\n",
    "\treturn c\n",
    "\n",
    "\n",
    "# Two boundary points known\n",
    "def _make_circle_two_points(points, p, q):\n",
    "\tcirc = make_diameter(p, q)\n",
    "\tleft  = None\n",
    "\tright = None\n",
    "\tpx, py = p\n",
    "\tqx, qy = q\n",
    "\t\n",
    "\t# For each point not in the two-point circle\n",
    "\tfor r in points:\n",
    "\t\tif is_in_circle(circ, r):\n",
    "\t\t\tcontinue\n",
    "\t\t\n",
    "\t\t# Form a circumcircle and classify it on left or right side\n",
    "\t\tcross = _cross_product(px, py, qx, qy, r[0], r[1])\n",
    "\t\tc = make_circumcircle(p, q, r)\n",
    "\t\tif c is None:\n",
    "\t\t\tcontinue\n",
    "\t\telif cross > 0.0 and (left is None or _cross_product(px, py, qx, qy, c[0], c[1]) > _cross_product(px, py, qx, qy, left[0], left[1])):\n",
    "\t\t\tleft = c\n",
    "\t\telif cross < 0.0 and (right is None or _cross_product(px, py, qx, qy, c[0], c[1]) < _cross_product(px, py, qx, qy, right[0], right[1])):\n",
    "\t\t\tright = c\n",
    "\t\n",
    "\t# Select which circle to return\n",
    "\tif left is None and right is None:\n",
    "\t\treturn circ\n",
    "\telif left is None:\n",
    "\t\treturn right\n",
    "\telif right is None:\n",
    "\t\treturn left\n",
    "\telse:\n",
    "\t\treturn left if (left[2] <= right[2]) else right\n",
    "\n",
    "\n",
    "def make_diameter(a, b):\n",
    "\tcx = (a[0] + b[0]) / 2\n",
    "\tcy = (a[1] + b[1]) / 2\n",
    "\tr0 = math.hypot(cx - a[0], cy - a[1])\n",
    "\tr1 = math.hypot(cx - b[0], cy - b[1])\n",
    "\treturn (cx, cy, max(r0, r1))\n",
    "\n",
    "\n",
    "def make_circumcircle(a, b, c):\n",
    "\t# Mathematical algorithm from Wikipedia: Circumscribed circle\n",
    "\tox = (min(a[0], b[0], c[0]) + max(a[0], b[0], c[0])) / 2\n",
    "\toy = (min(a[1], b[1], c[1]) + max(a[1], b[1], c[1])) / 2\n",
    "\tax = a[0] - ox;  ay = a[1] - oy\n",
    "\tbx = b[0] - ox;  by = b[1] - oy\n",
    "\tcx = c[0] - ox;  cy = c[1] - oy\n",
    "\td = (ax * (by - cy) + bx * (cy - ay) + cx * (ay - by)) * 2.0\n",
    "\tif d == 0.0:\n",
    "\t\treturn None\n",
    "\tx = ox + ((ax*ax + ay*ay) * (by - cy) + (bx*bx + by*by) * (cy - ay) + (cx*cx + cy*cy) * (ay - by)) / d\n",
    "\ty = oy + ((ax*ax + ay*ay) * (cx - bx) + (bx*bx + by*by) * (ax - cx) + (cx*cx + cy*cy) * (bx - ax)) / d\n",
    "\tra = math.hypot(x - a[0], y - a[1])\n",
    "\trb = math.hypot(x - b[0], y - b[1])\n",
    "\trc = math.hypot(x - c[0], y - c[1])\n",
    "\treturn (x, y, max(ra, rb, rc))\n",
    "\n",
    "\n",
    "_MULTIPLICATIVE_EPSILON = 1 + 1e-14\n",
    "\n",
    "def is_in_circle(c, p):\n",
    "\treturn c is not None and math.hypot(p[0] - c[0], p[1] - c[1]) <= c[2] * _MULTIPLICATIVE_EPSILON\n",
    "\n",
    "\n",
    "# Returns twice the signed area of the triangle defined by (x0, y0), (x1, y1), (x2, y2).\n",
    "def _cross_product(x0, y0, x1, y1, x2, y2):\n",
    "\treturn (x1 - x0) * (y2 - y0) - (y1 - y0) * (x2 - x0)"
   ]
  },
  {
   "cell_type": "code",
   "execution_count": 39,
   "id": "72edbc60",
   "metadata": {},
   "outputs": [
    {
     "data": {
      "application/vnd.jupyter.widget-view+json": {
       "model_id": "c7355c9af9d64b24807cd63a01305565",
       "version_major": 2,
       "version_minor": 0
      },
      "text/plain": [
       "interactive(children=(FloatSlider(value=15.0, continuous_update=False, description='hist_length', max=321.4000…"
      ]
     },
     "metadata": {},
     "output_type": "display_data"
    },
    {
     "data": {
      "text/plain": [
       "<function __main__.plot_radius_comparison(hist_length, max_time)>"
      ]
     },
     "execution_count": 39,
     "metadata": {},
     "output_type": "execute_result"
    }
   ],
   "source": [
    "def plot_radius_comparison(hist_length, max_time):\n",
    "    sample = df[(df[\"ts\"] >= max_time - hist_length) & (df[\"ts\"] <= max_time)]\n",
    "    foo = sample[\"o.ct_cn\"].apply(lambda x: np.nan if isinstance(x, float) else make_circle(x)[2]+30)\n",
    "    plt.scatter(sample[\"ts\"], sample[\"o.ct_cradius\"], label=\"threat radius\")\n",
    "    plt.scatter(sample[\"ts\"], sample[\"o.scm\"], label=\"threat radius\")\n",
    "    plt.scatter(sample[\"ts\"], foo, label=\"min radius\", marker=\"x\")\n",
    "    plt.legend()\n",
    "    plt.title(\"cradius vs smallest enclosing radius\")\n",
    "    plt.show()\n",
    "\n",
    "ipywidgets.interact(\n",
    "    plot_radius_comparison,\n",
    "    hist_length=ipywidgets.FloatSlider(value=15, min=0, max=df[\"ts\"].max()-df[\"ts\"].min(), continuous_update=False),\n",
    "    max_time=ipywidgets.FloatSlider(value=df[\"ts\"].max(), min=df[\"ts\"].min(), max=df[\"ts\"].max()+.1, continuous_update=False))"
   ]
  },
  {
   "cell_type": "markdown",
   "id": "12a7d799",
   "metadata": {},
   "source": [
    "# History Visualization"
   ]
  },
  {
   "cell_type": "markdown",
   "id": "e7b61368",
   "metadata": {},
   "source": [
    "## Position and Velocity"
   ]
  },
  {
   "cell_type": "code",
   "execution_count": 40,
   "id": "05fc6ec3",
   "metadata": {
    "scrolled": false
   },
   "outputs": [
    {
     "data": {
      "application/vnd.jupyter.widget-view+json": {
       "model_id": "db0b72ae8aa64f6c85b4cc093da2e5e8",
       "version_major": 2,
       "version_minor": 0
      },
      "text/plain": [
       "interactive(children=(FloatSlider(value=15.0, continuous_update=False, description='hist_length', max=321.4000…"
      ]
     },
     "metadata": {},
     "output_type": "display_data"
    },
    {
     "data": {
      "text/plain": [
       "<function __main__.plot_collision_chart(hist_length=321.4833333333696, max_time=321.4833333333696, sampling_interval=50, show_tloc=True, show_tv=True, show_ctdv=True, show_v=True, show_cn=True)>"
      ]
     },
     "execution_count": 40,
     "metadata": {},
     "output_type": "execute_result"
    }
   ],
   "source": [
    "def plot_collision_chart(hist_length=df[\"ts\"].max(), max_time=df[\"ts\"].max(), sampling_interval=50, show_tloc=True, show_tv=True, show_ctdv=True, show_v=True, show_cn=True):\n",
    "    plt.figure(figsize=(10, 10))\n",
    "    sample = df[(df[\"ts\"] >= max_time - hist_length) & (df[\"ts\"] <= max_time)].iloc[::sampling_interval]\n",
    "    if show_v:\n",
    "        plt.quiver(sample[\"loc.x\"], sample[\"loc.y\"], sample[\"v.x\"], sample[\"v.y\"], label=\"v\")\n",
    "    ctdv_df = sample[~(sample[\"o.ct_dv\"].isna())]\n",
    "    if show_ctdv:\n",
    "        plt.quiver(ctdv_df[\"loc.x\"], ctdv_df[\"loc.y\"], ctdv_df[\"o.ct_dv.x\"]+ctdv_df[\"v.x\"], ctdv_df[\"o.ct_dv.y\"]+ctdv_df[\"v.y\"], label=\"ctdv\", color=\"orange\")\n",
    "    if show_tv:\n",
    "        plt.quiver(sample[\"loc.x\"], sample[\"loc.y\"], sample[\"o.t_v.x\"], sample[\"o.t_v.y\"], label=\"tv\", color=\"purple\")\n",
    "    \n",
    "    plt.quiver(sample[\"o.ct_loc.x\"], sample[\"o.ct_loc.y\"], sample[\"o.ct_v.x\"], sample[\"o.ct_v.y\"], label=\"ctv\", color=\"cyan\")\n",
    "    cmap = plt.get_cmap('viridis')\n",
    "    for x, c in zip(df[\"o.ct\"].unique(), cmap(np.linspace(0, 1, len(df[\"o.ct\"].unique())))):\n",
    "        if not isinstance(x, str):\n",
    "            continue\n",
    "        ct = sample[sample[\"o.ct\"] == x]\n",
    "        if len(ct) == 0:\n",
    "            continue\n",
    "        plt.scatter(ct[\"o.ct_loc.x\"], ct[\"o.ct_loc.y\"], color=c, label=x[:8])\n",
    "        \n",
    "        t_next = 10\n",
    "        x, y = ct.iloc[-1][\"o.ct_loc.x\"], ct.iloc[-1][\"o.ct_loc.y\"]\n",
    "        x_next, y_next = ct.iloc[-1][\"o.ct_loc.x\"]+ct.iloc[-1][\"o.ct_v.x\"]*t_next, ct.iloc[-1][\"o.ct_loc.y\"]+ct.iloc[-1][\"o.ct_v.y\"]*t_next\n",
    "        if not np.allclose((x, y), (x_next, y_next)):\n",
    "            plt.axline((x,y),(x_next,y_next), marker = 'x', color=c, dashes=[2,2])\n",
    "    \n",
    "    cloc_df = sample#[~(sample[\"o.ct_cloc\"].isna())]\n",
    "    if not isinstance(cloc_df.iloc[-1][\"o.ct\"], float):\n",
    "        print(cloc_df.iloc[-1][\"o.ct\"])\n",
    "        print(cloc_df.iloc[-1][\"o.ct_cn\"])\n",
    "        cloc_x = cloc_df.iloc[-1][\"o.ct_cloc.x\"]\n",
    "        cloc_y = cloc_df.iloc[-1][\"o.ct_cloc.y\"]\n",
    "        cradius = cloc_df.iloc[-1][\"o.ct_cradius\"]\n",
    "        cmargin = cloc_df.iloc[-1].get([\"o.scm\"],500)\n",
    "        threat_radius = plt.Circle((cloc_x, cloc_y), cradius, color=\"red\", fill=False)\n",
    "        margin = plt.Circle((cloc_x, cloc_y), cradius+cmargin, color=\"orange\", fill=False)\n",
    "        margin_hist = plt.Circle((cloc_x, cloc_y), cradius+cmargin*2, color=\"green\", fill=False)\n",
    "        plt.gca().add_patch(threat_radius)\n",
    "        plt.gca().add_patch(margin)\n",
    "        plt.gca().add_patch(margin_hist)\n",
    "        print(cradius)\n",
    "        \n",
    "        if show_cn:\n",
    "            cn_x, cn_y = list(zip(*cloc_df.iloc[-1][\"o.ct_cn\"]))\n",
    "            plt.scatter(cn_x, cn_y, label=\"ct_cnloc\", marker=\"+\", color=\"pink\")\n",
    "    \n",
    "    if show_tloc and not all(sample[\"o.t_loc.x\"].isna()):\n",
    "        plt.scatter(sample[\"o.t_loc.x\"], sample[\"o.t_loc.y\"], label=\"t_loc\", marker=\"x\")\n",
    "        for ((tloc_x, tloc_y), ad, md) in sample.groupby([\"o.t_loc.x\", \"o.t_loc.y\"]).agg({\"o.t_loc\": \"min\", \"o.ad\":\"min\", \"o.md\":\"min\"}).values:\n",
    "            arrival_dist = plt.Circle((tloc_x, tloc_y), ad, color=\"green\", fill=False)\n",
    "            min_dist = plt.Circle((tloc_x, tloc_y), md, color=\"red\", fill=False)\n",
    "            plt.gca().add_patch(arrival_dist)\n",
    "            plt.gca().add_patch(min_dist)\n",
    "            \n",
    "    t_next = 10\n",
    "    x, y = sample.iloc[-1][\"loc.x\"], sample.iloc[-1][\"loc.y\"]\n",
    "    x_next, y_next = sample.iloc[-1][\"loc.x\"]+sample.iloc[-1][\"v.x\"]*t_next, sample.iloc[-1][\"loc.y\"]+sample.iloc[-1][\"v.y\"]*t_next\n",
    "    if not np.allclose((x, y), (x_next, y_next)):\n",
    "        plt.axline((x,y),(x_next,y_next),marker = 'o')\n",
    "    \n",
    "    plt.axis('equal')\n",
    "    #center = (-17189, -77839)\n",
    "    #radius = 3000\n",
    "    #plt.xlim(center[0]-radius,center[0]+radius)\n",
    "    #plt.ylim(center[1]-radius,center[1]+radius)\n",
    "\n",
    "    plt.legend()\n",
    "    plt.show()\n",
    "    \n",
    "ipywidgets.interact(\n",
    "    plot_collision_chart,\n",
    "    hist_length=ipywidgets.FloatSlider(value=15, min=0, max=df[\"ts\"].max()-df[\"ts\"].min(), continuous_update=False),\n",
    "    max_time=ipywidgets.FloatSlider(step=1/60, value=df[\"ts\"].max()+1/60, min=df[\"ts\"].min(), max=df[\"ts\"].max()+1/60, continuous_update=False),\n",
    "    sampling_interval=ipywidgets.IntSlider(value=2, min=1, max=100, continuous_update=False),\n",
    "    show_tloc=ipywidgets.Checkbox(value=True),\n",
    "    show_tv=ipywidgets.Checkbox(value=True),\n",
    "    show_ctdv=ipywidgets.Checkbox(value=True),\n",
    "    show_v=ipywidgets.Checkbox(value=True),\n",
    "    show_cn=ipywidgets.Checkbox(value=True),\n",
    ")"
   ]
  },
  {
   "cell_type": "code",
   "execution_count": 41,
   "id": "b26525d2",
   "metadata": {},
   "outputs": [
    {
     "data": {
      "text/plain": [
       "0        NaN\n",
       "1        NaN\n",
       "2        NaN\n",
       "3        NaN\n",
       "4        NaN\n",
       "        ... \n",
       "1925    30.0\n",
       "1926    30.0\n",
       "1927    30.0\n",
       "1928    30.0\n",
       "1929    30.0\n",
       "Name: o.ct_cradius, Length: 1930, dtype: float64"
      ]
     },
     "execution_count": 41,
     "metadata": {},
     "output_type": "execute_result"
    }
   ],
   "source": [
    "df[\"o.ct_cradius\"]"
   ]
  },
  {
   "cell_type": "markdown",
   "id": "6e5e3aad",
   "metadata": {},
   "source": [
    "## Position and Heading"
   ]
  },
  {
   "cell_type": "code",
   "execution_count": 42,
   "id": "2f7475c2",
   "metadata": {
    "scrolled": false
   },
   "outputs": [
    {
     "data": {
      "application/vnd.jupyter.widget-view+json": {
       "model_id": "e128ed39eb9a4f3e906de3fef640c9bf",
       "version_major": 2,
       "version_minor": 0
      },
      "text/plain": [
       "interactive(children=(FloatSlider(value=15.0, continuous_update=False, description='hist_length', max=321.4000…"
      ]
     },
     "metadata": {},
     "output_type": "display_data"
    },
    {
     "data": {
      "text/plain": [
       "<function __main__.plot_collision_chart(hist_length=321.4833333333696, max_time=321.4833333333696)>"
      ]
     },
     "execution_count": 42,
     "metadata": {},
     "output_type": "execute_result"
    }
   ],
   "source": [
    "def plot_collision_chart(hist_length=df[\"ts\"].max(), max_time=df[\"ts\"].max()):\n",
    "    sample = df[(df[\"ts\"] >= max_time - hist_length) & (df[\"ts\"] <= max_time)]#.iloc[::30]\n",
    "    plt.quiver(sample[\"loc.x\"], sample[\"loc.y\"], sample[\"angle.x\"], sample[\"angle.y\"], label=\"ship\")\n",
    "    ctdv_df = sample[~(sample[\"o.ct_dv\"].isna())]\n",
    "    #plt.quiver(ctdv_df[\"loc.x\"], ctdv_df[\"loc.y\"], ctdv_df[\"o.ct_dv.x\"], ctdv_df[\"o.ct_dv.y\"], label=\"ctdv\", color=\"orange\")\n",
    "    #plt.quiver(sample[\"loc.x\"], sample[\"loc.y\"], sample[\"o.t_v.x\"], sample[\"o.t_v.y\"], label=\"tv\", color=\"purple\")\n",
    "    cmap = plt.get_cmap('viridis')\n",
    "    #for x, c in zip(df[\"o.ct\"].unique(), cmap(np.linspace(0, 1, len(sample[\"o.ct\"].unique())))):\n",
    "    #    print(x)\n",
    "    #    if not isinstance(x, str):\n",
    "    #        continue\n",
    "    #    ct = sample[sample[\"o.ct\"] == x]\n",
    "    #    plt.scatter(ct[\"o.ct_loc.x\"], ct[\"o.ct_loc.y\"], color=c, label=x[:8])\n",
    "    #plt.scatter(sample[\"o.t_loc.x\"], sample[\"o.t_loc.y\"], label=\"t_loc\")\n",
    "    #plt.axis('square')\n",
    "    #center = (-33555, -5000)\n",
    "    #radius = 15000\n",
    "    #plt.xlim(center[0]-radius,center[0]+radius)\n",
    "    #plt.ylim(center[1]-radius,center[1]+radius)\n",
    "    \n",
    "    plt.legend()\n",
    "    plt.axis('equal')\n",
    "    plt.show()\n",
    "    \n",
    "ipywidgets.interact(plot_collision_chart, hist_length=ipywidgets.FloatSlider(value=15, min=0, max=df[\"ts\"].max()-df[\"ts\"].min(), continuous_update=False), max_time=ipywidgets.FloatSlider(value=df[\"ts\"].max(), min=df[\"ts\"].min(), max=df[\"ts\"].max(), continuous_update=False))"
   ]
  },
  {
   "cell_type": "code",
   "execution_count": 43,
   "id": "03aadc31",
   "metadata": {},
   "outputs": [
    {
     "ename": "SyntaxError",
     "evalue": "invalid syntax (3112385185.py, line 1)",
     "output_type": "error",
     "traceback": [
      "\u001b[0;36m  File \u001b[0;32m\"/tmp/ipykernel_3487586/3112385185.py\"\u001b[0;36m, line \u001b[0;32m1\u001b[0m\n\u001b[0;31m    120.00for s in df.groupby([\"o.t_loc.x\", \"o.t_loc.y\"]).agg({\"o.t_loc\":\"min\", \"o.ad\":\"min\"}).values:\u001b[0m\n\u001b[0m          ^\u001b[0m\n\u001b[0;31mSyntaxError\u001b[0m\u001b[0;31m:\u001b[0m invalid syntax\n"
     ]
    }
   ],
   "source": [
    "120.00for s in df.groupby([\"o.t_loc.x\", \"o.t_loc.y\"]).agg({\"o.t_loc\":\"min\", \"o.ad\":\"min\"}).values:\n",
    "    print(f'{s}')"
   ]
  },
  {
   "cell_type": "markdown",
   "id": "6e24f370",
   "metadata": {},
   "source": [
    "# "
   ]
  }
 ],
 "metadata": {
  "kernelspec": {
   "display_name": "Python 3 (ipykernel)",
   "language": "python",
   "name": "python3"
  },
  "language_info": {
   "codemirror_mode": {
    "name": "ipython",
    "version": 3
   },
   "file_extension": ".py",
   "mimetype": "text/x-python",
   "name": "python",
   "nbconvert_exporter": "python",
   "pygments_lexer": "ipython3",
   "version": "3.10.6"
  }
 },
 "nbformat": 4,
 "nbformat_minor": 5
}
