{
 "cells": [
  {
   "cell_type": "code",
   "execution_count": 1,
   "id": "9c5bbe2a",
   "metadata": {},
   "outputs": [],
   "source": [
    "import json\n",
    "\n",
    "import pandas as pd\n",
    "import numpy as np\n",
    "from matplotlib import pyplot as plt\n",
    "import ipywidgets\n",
    "\n",
    "from stellarpunk import util"
   ]
  },
  {
   "cell_type": "markdown",
   "id": "d6d53462",
   "metadata": {},
   "source": [
    "# Loading and Preparing Data"
   ]
  },
  {
   "cell_type": "code",
   "execution_count": 2,
   "id": "ceb18552",
   "metadata": {},
   "outputs": [],
   "source": [
    "df_base = pd.read_json(\"/tmp/stellarpunk_test.test_overeager_arrival.history.gz\", lines=True)\n",
    "df_base = df_base.join(pd.json_normalize(df_base[\"o\"]).add_prefix(\"o.\"))"
   ]
  },
  {
   "cell_type": "code",
   "execution_count": 3,
   "id": "1585e6a6",
   "metadata": {},
   "outputs": [
    {
     "data": {
      "text/plain": [
       "0     de056cdf-6ff0-4eeb-a9bc-2c8a52589f30\n",
       "1     0b97488f-791c-483f-a48d-62bd169e6fc9\n",
       "2     a08151fe-90e5-4820-b109-6611ae291f7e\n",
       "3     c1fb35a7-b984-4b88-89ba-3b15b2e1369c\n",
       "4     1d2f3cbc-5062-40c2-8992-17058fae74ac\n",
       "5     bf8744de-e563-4bb0-bbff-184c15ee9777\n",
       "6     8b4342c5-1894-4975-a5d8-65d58e5c70b4\n",
       "7     9fac0d05-f96a-4410-8167-da3921aa22e8\n",
       "8     18daca2e-aac8-4613-aa8d-0aa7a1e3691e\n",
       "9     e37ec702-2d8a-4f8b-b295-5b2ec1fab510\n",
       "10    ce2c7bd2-5196-4aac-b217-5d71c8227c67\n",
       "11    b8178602-fa02-4a2d-a14c-158bb814e9af\n",
       "12    114fb290-7fd6-4083-bda2-8a746771ee03\n",
       "13    6466900c-ccf7-4f01-9b57-0582c663e271\n",
       "14    b455f7a0-964b-4042-ae15-73e254aa4a72\n",
       "15    95e4bb49-b0ba-4fc7-9343-e2f789f33397\n",
       "16    b49a99fb-494e-427a-8046-eb06f45b4f13\n",
       "17    18789ba4-7782-4d99-a513-115c2c7f40f1\n",
       "18    8db52255-b098-4720-b90f-bab6cfec1722\n",
       "dtype: object"
      ]
     },
     "execution_count": 3,
     "metadata": {},
     "output_type": "execute_result"
    }
   ],
   "source": [
    "eids = pd.Series(df_base[\"eid\"].unique())\n",
    "eids"
   ]
  },
  {
   "cell_type": "code",
   "execution_count": 4,
   "id": "288e3f1e",
   "metadata": {},
   "outputs": [
    {
     "data": {
      "text/plain": [
       "7    9fac0d05-f96a-4410-8167-da3921aa22e8\n",
       "dtype: object"
      ]
     },
     "execution_count": 4,
     "metadata": {},
     "output_type": "execute_result"
    }
   ],
   "source": [
    "targets = eids[pd.Series(df_base[\"eid\"].unique()).str.startswith(\"9fac\")]\n",
    "targets"
   ]
  },
  {
   "cell_type": "code",
   "execution_count": 5,
   "id": "caf3fedb",
   "metadata": {},
   "outputs": [],
   "source": [
    "target_index = targets.index[0]"
   ]
  },
  {
   "cell_type": "code",
   "execution_count": 6,
   "id": "c9be6491",
   "metadata": {},
   "outputs": [
    {
     "data": {
      "text/plain": [
       "array(['9fac0d05-f96a-4410-8167-da3921aa22e8'], dtype=object)"
      ]
     },
     "execution_count": 6,
     "metadata": {},
     "output_type": "execute_result"
    }
   ],
   "source": [
    "target_eid = df_base[\"eid\"].unique()[target_index]\n",
    "df_base = df_base[df_base[\"eid\"] == target_eid].reset_index()\n",
    "df_base[\"eid\"].unique()"
   ]
  },
  {
   "cell_type": "code",
   "execution_count": 7,
   "id": "b77f957c",
   "metadata": {},
   "outputs": [],
   "source": [
    "loc = pd.DataFrame(np.vstack(df_base[\"loc\"]), columns=[\"loc.x\", \"loc.y\"])\n",
    "v = pd.DataFrame(np.vstack(df_base[\"v\"]), columns=[\"v.x\", \"v.y\"])\n",
    "\n",
    "empty_array = np.empty(len(df_base))\n",
    "empty_array[:] = np.nan\n",
    "\n",
    "if \"o.t_loc\" in df_base:\n",
    "    o_tloc = pd.DataFrame(np.vstack(df_base[\"o.t_loc\"].apply(lambda x: (np.nan, np.nan) if np.all(np.isnan(x)) else x)), columns=[\"o.t_loc.x\", \"o.t_loc.y\"])\n",
    "    o_tv = pd.DataFrame(np.vstack(df_base[\"o.t_v\"].apply(lambda x: (np.nan, np.nan) if np.all(np.isnan(x)) else x)), columns=[\"o.t_v.x\", \"o.t_v.y\"])\n",
    "    o_dv = pd.DataFrame(np.vstack(df_base[\"o._dv\"].apply(lambda x: (np.nan, np.nan) if np.all(np.isnan(x)) else x)), columns=[\"o._dv.x\", \"o._dv.y\"])\n",
    "else:\n",
    "    o_tloc = pd.DataFrame({\"o.t_loc\": empty_array, \"o.t_loc.x\": empty_array, \"o.t_loc.y\": empty_array})\n",
    "    o_tv = pd.DataFrame({\"o.t_v\": empty_array, \"o.t_v.x\": empty_array, \"o.t_v.y\": empty_array})\n",
    "    o_dv = pd.DataFrame({\"o._dv\": empty_array, \"o._dv.x\": empty_array, \"o._dv.y\": empty_array})\n",
    "    \n",
    "if \"o.ct\" in df_base:\n",
    "    o_ctloc = pd.DataFrame(np.vstack(df_base[\"o.ct_loc\"].apply(lambda x: (np.nan, np.nan) if np.all(np.isnan(x)) else x)), columns=[\"o.ct_loc.x\", \"o.ct_loc.y\"])\n",
    "    o_ctdv = pd.DataFrame(np.vstack(df_base[\"o.ct_dv\"].apply(lambda x: (np.nan, np.nan) if np.all(np.isnan(x)) else x)), columns=[\"o.ct_dv.x\", \"o.ct_dv.y\"])\n",
    "    o_ctv = pd.DataFrame(np.vstack(df_base[\"o.ct_v\"].apply(lambda x: (np.nan, np.nan) if np.all(np.isnan(x)) else x)), columns=[\"o.ct_v.x\", \"o.ct_v.y\"])\n",
    "    o_ctcloc = pd.DataFrame(np.vstack(df_base[\"o.ct_cloc\"].apply(lambda x: (np.nan, np.nan) if np.all(np.isnan(x)) else x)), columns=[\"o.ct_cloc.x\", \"o.ct_cloc.y\"])\n",
    "else:\n",
    "    o_ctloc = pd.DataFrame({\"o.ct_loc\": empty_array, \"o.ct_loc.x\": empty_array, \"o.ct_loc.y\": empty_array})\n",
    "    o_ctdv = pd.DataFrame({\"o.ct_dv\": empty_array, \"o.ct_dv.x\": empty_array, \"o.ct_dv.y\": empty_array})\n",
    "    o_ctv = pd.DataFrame({\"o.ct_v\": empty_array, \"o.ct_v.x\": empty_array, \"o.ct_v.y\": empty_array})\n",
    "    o_ctcloc = pd.DataFrame({\"o.ct_cloc\": empty_array, \"o.ct_cloc.x\": empty_array, \"o.ct_cloc.y\": empty_array})\n",
    "angle = pd.DataFrame(np.vstack(df_base.apply(lambda row: np.array(util.polar_to_cartesian(100, row[\"a\"])), axis=1)), columns=[\"angle.x\", \"angle.y\"])\n",
    "desired_angle = pd.DataFrame(np.vstack(df_base.apply(lambda row: np.array(util.polar_to_cartesian(100, row[\"o._ada\"])), axis=1)), columns=[\"_ada.x\", \"_ada.y\"])\n",
    "df = pd.concat([df_base, loc, v, o_ctloc, o_ctcloc, o_ctdv, o_ctv, o_tloc, o_tv, o_dv, angle, desired_angle], axis=1)\n",
    "\n",
    "if \"o.ct\" not in df_base:\n",
    "    df[\"o.ct\"] = empty_array\n",
    "    df[\"o.ct_ts\"] = empty_array\n",
    "    df[\"o.cac\"] = empty_array\n",
    "    df[\"o.cbdr\"] = empty_array\n",
    "    df[\"o.cbdr_hist\"] = empty_array\n",
    "    df[\"o.ct_ct\"] = empty_array\n",
    "    df[\"o.ct_cradius\"] = empty_array\n",
    "    df[\"o.nd\"] = empty_array\n",
    "    df[\"o.ct_dist\"] = empty_array\n",
    "    df[\"o.ct_cn\"] = empty_array\n",
    "    df[\"o.ct_ms\"] = empty_array\n",
    "    \n",
    "else:\n",
    "    df[\"o.ct_dist\"] = np.linalg.norm(np.vstack(df[\"loc\"]) - np.vstack(df[\"o.ct_cloc\"].apply(lambda x: (np.nan, np.nan) if np.all(np.isnan(x)) else x)), axis=1)\n",
    "    \n",
    "if \"o.t_loc\" not in df_base:\n",
    "    df[\"o.cs\"] = empty_array\n",
    "    df[\"o.t_dist\"] = empty_array\n",
    "    df[\"o.msc\"] = empty_array\n",
    "    df[\"o.max_speed_cap\"] = empty_array\n",
    "else:\n",
    "    df[\"o.t_dist\"] = np.linalg.norm(np.vstack(df[\"loc\"]) - np.vstack(df[\"o.t_loc\"].apply(lambda x: (np.nan, np.nan) if np.all(np.isnan(x)) else x)), axis=1)\n",
    "    df[\"o.max_speed_cap\"] = (df[\"o.msc\"]*(1+df[\"o.msc_a\"])**(df[\"ts\"] - df[\"o.msc_ts\"])).clip(upper=3000)\n",
    "    \n"
   ]
  },
  {
   "cell_type": "code",
   "execution_count": 8,
   "id": "81413445",
   "metadata": {},
   "outputs": [],
   "source": [
    "df[\"f\"] = df[\"f\"].apply(lambda x: [x[\"x\"],x[\"y\"]])"
   ]
  },
  {
   "cell_type": "code",
   "execution_count": 9,
   "id": "6e17314e",
   "metadata": {},
   "outputs": [],
   "source": [
    "df[\"speed\"] = np.linalg.norm(df[[\"v.x\", \"v.y\"]], axis=1)\n",
    "df[\"o.t_speed\"] = np.linalg.norm(df[[\"o.t_v.x\", \"o.t_v.y\"]], axis=1)\n",
    "df[\"o._dv_speed\"] = np.linalg.norm(df[[\"o._dv.x\", \"o._dv.y\"]], axis=1)\n",
    "df[\"f_mag\"] = df[\"f\"].apply(lambda x:np.linalg.norm(x))"
   ]
  },
  {
   "cell_type": "code",
   "execution_count": 10,
   "id": "39640462",
   "metadata": {},
   "outputs": [],
   "source": [
    "#df[\"o.ct_v.x\"] = (df[\"o.ct_loc.x\"].shift(1) - df[\"o.ct_loc.x\"]) / (df[\"ts\"].shift(1) - df[\"ts\"])\n",
    "#df[\"o.ct_v.y\"] = (df[\"o.ct_loc.y\"].shift(1) - df[\"o.ct_loc.y\"]) / (df[\"ts\"].shift(1) - df[\"ts\"])"
   ]
  },
  {
   "cell_type": "code",
   "execution_count": 11,
   "id": "a703dac7",
   "metadata": {},
   "outputs": [
    {
     "data": {
      "text/plain": [
       "{'o': 'stellarpunk.orders.movement.GoToLocation',\n",
       " 'nd': 2.984155182973037e-08,\n",
       " 'nnd': 524.5782318498955,\n",
       " '_nact': 0.0,\n",
       " '_ada': 0.0,\n",
       " 't_loc': [-21684.42275167689, 31317.42010677473],\n",
       " 'ad': 500.0,\n",
       " 'md': 0.0,\n",
       " 't_v': [-41.592045575106944, 73.61827703048125],\n",
       " 'cs': False,\n",
       " 'scm': 200.0,\n",
       " '_ncts': 49.98571428571402,\n",
       " '_dv': [-41.592045575106944, 73.61827703048125],\n",
       " 'msc': 100.0,\n",
       " 'msc_ts': 49.39999999999976,\n",
       " 'msc_a': 0.2}"
      ]
     },
     "execution_count": 11,
     "metadata": {},
     "output_type": "execute_result"
    }
   ],
   "source": [
    "df.iloc[-1][\"o\"]"
   ]
  },
  {
   "cell_type": "markdown",
   "id": "a6d3cf5e",
   "metadata": {},
   "source": [
    "# Basic Ship Vitals"
   ]
  },
  {
   "cell_type": "markdown",
   "id": "36730903",
   "metadata": {},
   "source": [
    "## Position and Heading"
   ]
  },
  {
   "cell_type": "code",
   "execution_count": 12,
   "id": "665329e8",
   "metadata": {},
   "outputs": [
    {
     "data": {
      "application/vnd.jupyter.widget-view+json": {
       "model_id": "0cf4c78cf8ca469b8e03f3a7124a4862",
       "version_major": 2,
       "version_minor": 0
      },
      "text/plain": [
       "interactive(children=(FloatSlider(value=49.96666666666639, continuous_update=False, description='max_time', ma…"
      ]
     },
     "metadata": {},
     "output_type": "display_data"
    },
    {
     "data": {
      "text/plain": [
       "<function __main__.plot_location_chart(max_time)>"
      ]
     },
     "execution_count": 12,
     "metadata": {},
     "output_type": "execute_result"
    }
   ],
   "source": [
    "def plot_location_chart(max_time):\n",
    "    sample = df[df[\"ts\"] <= max_time].iloc[::50]\n",
    "    plt.quiver(sample[\"loc.x\"], sample[\"loc.y\"], sample[\"angle.x\"], sample[\"angle.y\"])#, scale=100)\n",
    "    plt.scatter(sample[\"o.t_loc.x\"], sample[\"o.t_loc.y\"])\n",
    "    #center = (0,2500)\n",
    "    #radius = 10000\n",
    "    #plt.xlim(center[0]-radius,center[0]+radius)\n",
    "    #plt.ylim(center[1]-radius,center[1]+radius)\n",
    "\n",
    "ipywidgets.interact(plot_location_chart, max_time=ipywidgets.FloatSlider(value=df[\"ts\"].max(), min=df[\"ts\"].min(), max=df[\"ts\"].max(), continuous_update=False))"
   ]
  },
  {
   "cell_type": "code",
   "execution_count": 13,
   "id": "ed1c2ca3",
   "metadata": {},
   "outputs": [
    {
     "data": {
      "text/html": [
       "<div>\n",
       "<style scoped>\n",
       "    .dataframe tbody tr th:only-of-type {\n",
       "        vertical-align: middle;\n",
       "    }\n",
       "\n",
       "    .dataframe tbody tr th {\n",
       "        vertical-align: top;\n",
       "    }\n",
       "\n",
       "    .dataframe thead th {\n",
       "        text-align: right;\n",
       "    }\n",
       "</style>\n",
       "<table border=\"1\" class=\"dataframe\">\n",
       "  <thead>\n",
       "    <tr style=\"text-align: right;\">\n",
       "      <th></th>\n",
       "      <th>loc.x</th>\n",
       "      <th>loc.y</th>\n",
       "    </tr>\n",
       "  </thead>\n",
       "  <tbody>\n",
       "    <tr>\n",
       "      <th>count</th>\n",
       "      <td>1499.000000</td>\n",
       "      <td>1499.000000</td>\n",
       "    </tr>\n",
       "    <tr>\n",
       "      <th>mean</th>\n",
       "      <td>-20928.583393</td>\n",
       "      <td>30600.150499</td>\n",
       "    </tr>\n",
       "    <tr>\n",
       "      <th>std</th>\n",
       "      <td>393.163623</td>\n",
       "      <td>93.491678</td>\n",
       "    </tr>\n",
       "    <tr>\n",
       "      <th>min</th>\n",
       "      <td>-21404.630859</td>\n",
       "      <td>30415.945312</td>\n",
       "    </tr>\n",
       "    <tr>\n",
       "      <th>25%</th>\n",
       "      <td>-21168.087891</td>\n",
       "      <td>30497.427734</td>\n",
       "    </tr>\n",
       "    <tr>\n",
       "      <th>50%</th>\n",
       "      <td>-21087.708984</td>\n",
       "      <td>30633.025391</td>\n",
       "    </tr>\n",
       "    <tr>\n",
       "      <th>75%</th>\n",
       "      <td>-20752.919922</td>\n",
       "      <td>30669.500977</td>\n",
       "    </tr>\n",
       "    <tr>\n",
       "      <th>max</th>\n",
       "      <td>-19969.226562</td>\n",
       "      <td>30736.361328</td>\n",
       "    </tr>\n",
       "  </tbody>\n",
       "</table>\n",
       "</div>"
      ],
      "text/plain": [
       "              loc.x         loc.y\n",
       "count   1499.000000   1499.000000\n",
       "mean  -20928.583393  30600.150499\n",
       "std      393.163623     93.491678\n",
       "min   -21404.630859  30415.945312\n",
       "25%   -21168.087891  30497.427734\n",
       "50%   -21087.708984  30633.025391\n",
       "75%   -20752.919922  30669.500977\n",
       "max   -19969.226562  30736.361328"
      ]
     },
     "execution_count": 13,
     "metadata": {},
     "output_type": "execute_result"
    }
   ],
   "source": [
    "df[[\"loc.x\", \"loc.y\"]].describe()"
   ]
  },
  {
   "cell_type": "code",
   "execution_count": 14,
   "id": "e0f37c4c",
   "metadata": {},
   "outputs": [
    {
     "data": {
      "text/plain": [
       "Text(0.5, 1.0, 'position')"
      ]
     },
     "execution_count": 14,
     "metadata": {},
     "output_type": "execute_result"
    },
    {
     "data": {
      "image/png": "[encoded data removed]",
      "text/plain": [
       "<Figure size 432x288 with 1 Axes>"
      ]
     },
     "metadata": {
      "needs_background": "light"
     },
     "output_type": "display_data"
    }
   ],
   "source": [
    "plt.scatter(df[\"ts\"], df[\"loc.x\"])\n",
    "plt.scatter(df[\"ts\"], df[\"loc.y\"])\n",
    "plt.title(\"position\")"
   ]
  },
  {
   "cell_type": "code",
   "execution_count": 15,
   "id": "b65fd521",
   "metadata": {},
   "outputs": [
    {
     "data": {
      "application/vnd.jupyter.widget-view+json": {
       "model_id": "da54edf723b24d4eb6240a03f33480f3",
       "version_major": 2,
       "version_minor": 0
      },
      "text/plain": [
       "interactive(children=(FloatSlider(value=15.0, continuous_update=False, description='hist_length', max=49.93333…"
      ]
     },
     "metadata": {},
     "output_type": "display_data"
    },
    {
     "data": {
      "text/plain": [
       "<function __main__.plot_heading(hist_length, max_time)>"
      ]
     },
     "execution_count": 15,
     "metadata": {},
     "output_type": "execute_result"
    }
   ],
   "source": [
    "def plot_heading(hist_length, max_time):\n",
    "    sample = df[(df[\"ts\"] >= max_time - hist_length) & (df[\"ts\"] <= max_time)]\n",
    "    plt.scatter(sample[\"ts\"], sample[\"a\"].apply(lambda x: util.normalize_angle(x, shortest=True)), label=\"theta\")\n",
    "    plt.scatter(sample[\"ts\"], sample[\"av\"], label=\"omega\")\n",
    "    plt.scatter(sample[\"ts\"], sample[\"o._ada\"].apply(lambda x: util.normalize_angle(x, shortest=True)), label=\"desired theta\")\n",
    "    plt.hlines(np.pi, sample[\"ts\"].min(), sample[\"ts\"].max(), color=\"red\")\n",
    "    plt.hlines(0, sample[\"ts\"].min(), sample[\"ts\"].max(), color=\"red\")\n",
    "    plt.legend()\n",
    "    plt.title(\"heading and angular velocity\")\n",
    "    \n",
    "ipywidgets.interact(plot_heading, hist_length=ipywidgets.FloatSlider(value=15, min=0, max=df[\"ts\"].max()-df[\"ts\"].min(), continuous_update=False), max_time=ipywidgets.FloatSlider(value=df[\"ts\"].max(), min=df[\"ts\"].min(), max=df[\"ts\"].max()+.1, continuous_update=False))"
   ]
  },
  {
   "cell_type": "code",
   "execution_count": 16,
   "id": "e1a4515d",
   "metadata": {},
   "outputs": [
    {
     "data": {
      "text/plain": [
       "<matplotlib.collections.PathCollection at 0x7f17a8bb0c70>"
      ]
     },
     "execution_count": 16,
     "metadata": {},
     "output_type": "execute_result"
    },
    {
     "data": {
      "image/png": "[encoded data removed]",
      "text/plain": [
       "<Figure size 432x288 with 1 Axes>"
      ]
     },
     "metadata": {
      "needs_background": "light"
     },
     "output_type": "display_data"
    }
   ],
   "source": [
    "plt.scatter(df[\"ts\"], df[\"t\"])"
   ]
  },
  {
   "cell_type": "code",
   "execution_count": 17,
   "id": "f22420e0",
   "metadata": {},
   "outputs": [
    {
     "data": {
      "text/plain": [
       "False    1221\n",
       "True      278\n",
       "Name: t, dtype: int64"
      ]
     },
     "execution_count": 17,
     "metadata": {},
     "output_type": "execute_result"
    }
   ],
   "source": [
    "(df[\"t\"] == 0).value_counts()"
   ]
  },
  {
   "cell_type": "code",
   "execution_count": 18,
   "id": "fa4f825a",
   "metadata": {},
   "outputs": [
    {
     "data": {
      "text/plain": [
       "True     1216\n",
       "False     283\n",
       "Name: t, dtype: int64"
      ]
     },
     "execution_count": 18,
     "metadata": {},
     "output_type": "execute_result"
    }
   ],
   "source": [
    "((df[\"t\"].abs() == 2700000.0) | (df[\"t\"] == 0)).value_counts()"
   ]
  },
  {
   "cell_type": "markdown",
   "id": "4ce26323",
   "metadata": {},
   "source": [
    "### Velocity and Acceleration"
   ]
  },
  {
   "cell_type": "code",
   "execution_count": 19,
   "id": "b5778f75",
   "metadata": {},
   "outputs": [
    {
     "data": {
      "application/vnd.jupyter.widget-view+json": {
       "model_id": "40066618a7ca4a4dbb5c019890ee793e",
       "version_major": 2,
       "version_minor": 0
      },
      "text/plain": [
       "interactive(children=(FloatSlider(value=15.0, continuous_update=False, description='hist_length', max=49.93333…"
      ]
     },
     "metadata": {},
     "output_type": "display_data"
    },
    {
     "data": {
      "text/plain": [
       "<function __main__.plot_speed(hist_length, max_time)>"
      ]
     },
     "execution_count": 19,
     "metadata": {},
     "output_type": "execute_result"
    }
   ],
   "source": [
    "def plot_speed(hist_length, max_time):\n",
    "    sample = df[(df[\"ts\"] >= max_time - hist_length) & (df[\"ts\"] <= max_time)]\n",
    "    plt.scatter(sample[\"ts\"], sample[\"speed\"])\n",
    "    plt.title(\"speed\")\n",
    "    print(f'min speed: {sample[\"speed\"].min()}')\n",
    "    print(f'max speed: {sample[\"speed\"].max()}')\n",
    "    \n",
    "ipywidgets.interact(plot_speed, hist_length=ipywidgets.FloatSlider(value=15, min=0, max=df[\"ts\"].max()-df[\"ts\"].min(), continuous_update=False), max_time=ipywidgets.FloatSlider(value=df[\"ts\"].max(), min=df[\"ts\"].min(), max=df[\"ts\"].max()+.1, continuous_update=False))"
   ]
  },
  {
   "cell_type": "code",
   "execution_count": 20,
   "id": "32a0a440",
   "metadata": {
    "scrolled": true
   },
   "outputs": [
    {
     "data": {
      "application/vnd.jupyter.widget-view+json": {
       "model_id": "aa1e6f6130c74a98ad30640f717b1b95",
       "version_major": 2,
       "version_minor": 0
      },
      "text/plain": [
       "interactive(children=(FloatSlider(value=15.0, continuous_update=False, description='hist_length', max=49.93333…"
      ]
     },
     "metadata": {},
     "output_type": "display_data"
    },
    {
     "data": {
      "text/plain": [
       "<function __main__.plot_velocity(hist_length, max_time)>"
      ]
     },
     "execution_count": 20,
     "metadata": {},
     "output_type": "execute_result"
    }
   ],
   "source": [
    "def plot_velocity(hist_length, max_time):\n",
    "    sample = df[(df[\"ts\"] >= max_time - hist_length) & (df[\"ts\"] <= max_time)]\n",
    "    plt.scatter(sample[\"ts\"], sample[\"v.x\"], label=\"x\")\n",
    "    plt.scatter(sample[\"ts\"], sample[\"v.y\"], label=\"y\")\n",
    "    plt.legend()\n",
    "    plt.title(\"velocity\")\n",
    "    \n",
    "ipywidgets.interact(plot_velocity, hist_length=ipywidgets.FloatSlider(value=15, min=0, max=df[\"ts\"].max()-df[\"ts\"].min(), continuous_update=False), max_time=ipywidgets.FloatSlider(value=df[\"ts\"].max(), min=df[\"ts\"].min(), max=df[\"ts\"].max()+.1, continuous_update=False))"
   ]
  },
  {
   "cell_type": "code",
   "execution_count": 21,
   "id": "7e3172c1",
   "metadata": {
    "scrolled": true
   },
   "outputs": [
    {
     "data": {
      "application/vnd.jupyter.widget-view+json": {
       "model_id": "6c738155d77347a9abfcbd8b217a3a38",
       "version_major": 2,
       "version_minor": 0
      },
      "text/plain": [
       "interactive(children=(FloatSlider(value=15.0, continuous_update=False, description='hist_length', max=49.93333…"
      ]
     },
     "metadata": {},
     "output_type": "display_data"
    },
    {
     "data": {
      "text/plain": [
       "<function __main__.plot_acceleration(hist_length, max_time)>"
      ]
     },
     "execution_count": 21,
     "metadata": {},
     "output_type": "execute_result"
    }
   ],
   "source": [
    "def plot_acceleration(hist_length, max_time):\n",
    "    sample = df[(df[\"ts\"] >= max_time - hist_length) & (df[\"ts\"] <= max_time)]\n",
    "    plt.scatter(sample[\"ts\"], (sample[\"v.x\"].shift(1) - sample[\"v.x\"]) / (sample[\"ts\"].shift(1) - sample[\"ts\"]), label=\"x\")\n",
    "    plt.scatter(sample[\"ts\"], (sample[\"v.y\"].shift(1) - sample[\"v.y\"]) / (sample[\"ts\"].shift(1) - sample[\"ts\"]), label=\"y\")\n",
    "    plt.yscale(\"symlog\")\n",
    "    plt.legend()\n",
    "    plt.title(\"acceleration\")\n",
    "    \n",
    "ipywidgets.interact(plot_acceleration, hist_length=ipywidgets.FloatSlider(value=15, min=0, max=df[\"ts\"].max()-df[\"ts\"].min(), continuous_update=False), max_time=ipywidgets.FloatSlider(value=df[\"ts\"].max(), min=df[\"ts\"].min(), max=df[\"ts\"].max()+.1, continuous_update=False))"
   ]
  },
  {
   "cell_type": "code",
   "execution_count": 22,
   "id": "7754010f",
   "metadata": {},
   "outputs": [
    {
     "data": {
      "application/vnd.jupyter.widget-view+json": {
       "model_id": "31e6710d701a442f9a515e1e260206a6",
       "version_major": 2,
       "version_minor": 0
      },
      "text/plain": [
       "interactive(children=(FloatSlider(value=15.0, continuous_update=False, description='hist_length', max=49.93333…"
      ]
     },
     "metadata": {},
     "output_type": "display_data"
    },
    {
     "data": {
      "text/plain": [
       "<function __main__.plot_force(hist_length, max_time)>"
      ]
     },
     "execution_count": 22,
     "metadata": {},
     "output_type": "execute_result"
    }
   ],
   "source": [
    "def plot_force(hist_length, max_time):\n",
    "    sample = df[(df[\"ts\"] >= max_time - hist_length) & (df[\"ts\"] <= max_time)]\n",
    "    plt.scatter(sample[\"ts\"], sample[\"f_mag\"])\n",
    "    plt.yscale(\"log\")\n",
    "    plt.title(\"force\")\n",
    "    print(f'min force={sample[\"f_mag\"].min()}')\n",
    "    print(f'max force={sample[\"f_mag\"].max()}')\n",
    "\n",
    "ipywidgets.interact(plot_force, hist_length=ipywidgets.FloatSlider(value=15, min=0, max=df[\"ts\"].max()-df[\"ts\"].min(), continuous_update=False), max_time=ipywidgets.FloatSlider(value=df[\"ts\"].max(), min=df[\"ts\"].min(), max=df[\"ts\"].max()+.1, continuous_update=False))"
   ]
  },
  {
   "cell_type": "markdown",
   "id": "4630e3f8",
   "metadata": {},
   "source": [
    "# Behavior Monitoring"
   ]
  },
  {
   "cell_type": "code",
   "execution_count": 23,
   "id": "cf1a4380",
   "metadata": {},
   "outputs": [
    {
     "data": {
      "text/plain": [
       "[0.033333333333333, None, 0.16666666666666602, None]"
      ]
     },
     "execution_count": 23,
     "metadata": {},
     "output_type": "execute_result"
    }
   ],
   "source": [
    "[next((df.iloc[idx][\"ts\"] if idx is not None else None for idx, v in zip(df.index, (~df[c].isna() & df[c] == True)) if v), None) for c in [\"o.ct\", \"o.cs\", \"o.cac\", \"o.cbdr\"]]"
   ]
  },
  {
   "cell_type": "code",
   "execution_count": 24,
   "id": "9e6db2b0",
   "metadata": {},
   "outputs": [
    {
     "data": {
      "application/vnd.jupyter.widget-view+json": {
       "model_id": "71406cc120674ff7b7b6713339ffbce6",
       "version_major": 2,
       "version_minor": 0
      },
      "text/plain": [
       "interactive(children=(FloatSlider(value=15.0, continuous_update=False, description='hist_length', max=49.93333…"
      ]
     },
     "metadata": {},
     "output_type": "display_data"
    },
    {
     "data": {
      "text/plain": [
       "<function __main__.plot_collision_info(hist_length, max_time)>"
      ]
     },
     "execution_count": 24,
     "metadata": {},
     "output_type": "execute_result"
    }
   ],
   "source": [
    "def plot_collision_info(hist_length, max_time):\n",
    "    sample = df[(df[\"ts\"] >= max_time - hist_length) & (df[\"ts\"] <= max_time)]\n",
    "    plt.scatter(sample[\"ts\"], (~(sample[\"o.ct\"].isna())).astype(int), label=\"ct\")\n",
    "    plt.scatter(sample[\"ts\"], sample[\"o.cs\"].fillna(0).astype(int)+0.05, label=\"cs\")\n",
    "    plt.scatter(sample[\"ts\"], sample[\"o.cac\"].fillna(0).astype(int)+0.1, label=\"cac\")\n",
    "    plt.scatter(sample[\"ts\"], sample[\"o.cbdr\"].fillna(0).astype(int)+0.15, label=\"cbdr\")\n",
    "    plt.scatter(sample[\"ts\"], sample[\"o.cach\"].fillna(0).astype(int)+0.1, label=\"cach\", marker=\"+\")\n",
    "    plt.scatter(sample[\"ts\"], sample[\"o.ct_dv_override\"].fillna(0).astype(int)+0.2, label=\"dv override\")\n",
    "    plt.legend()\n",
    "    plt.title(\"status flags\")\n",
    "    \n",
    "    flag_cols = [\"o.ct\", \"o.cs\", \"o.cac\", \"o.cach\", \"o.cbdr\", \"o.ct_dv_override\"]\n",
    "    first_ts = [\n",
    "        next(\n",
    "            (sample.loc[idx][\"ts\"] if idx is not None else None\n",
    "             for idx, v in zip(sample.index, (~sample[c].isna() & sample[c] == True))\n",
    "             if v),\n",
    "            None\n",
    "        )\n",
    "        for c in flag_cols\n",
    "    ]\n",
    "    for c, ts in zip(flag_cols, first_ts):\n",
    "        print(f'first {c}: {ts}')\n",
    "\n",
    "ipywidgets.interact(plot_collision_info, hist_length=ipywidgets.FloatSlider(value=15, min=0, max=df[\"ts\"].max()-df[\"ts\"].min(), continuous_update=False), max_time=ipywidgets.FloatSlider(value=df[\"ts\"].max(), min=df[\"ts\"].min(), max=df[\"ts\"].max()+.1, continuous_update=False))"
   ]
  },
  {
   "cell_type": "markdown",
   "id": "94ba2b3d",
   "metadata": {},
   "source": [
    "### Target Location"
   ]
  },
  {
   "cell_type": "code",
   "execution_count": 25,
   "id": "2640e1e5",
   "metadata": {},
   "outputs": [
    {
     "data": {
      "text/html": [
       "<div>\n",
       "<style scoped>\n",
       "    .dataframe tbody tr th:only-of-type {\n",
       "        vertical-align: middle;\n",
       "    }\n",
       "\n",
       "    .dataframe tbody tr th {\n",
       "        vertical-align: top;\n",
       "    }\n",
       "\n",
       "    .dataframe thead tr th {\n",
       "        text-align: left;\n",
       "    }\n",
       "\n",
       "    .dataframe thead tr:last-of-type th {\n",
       "        text-align: right;\n",
       "    }\n",
       "</style>\n",
       "<table border=\"1\" class=\"dataframe\">\n",
       "  <thead>\n",
       "    <tr>\n",
       "      <th></th>\n",
       "      <th></th>\n",
       "      <th colspan=\"3\" halign=\"left\">ts</th>\n",
       "      <th colspan=\"2\" halign=\"left\">o.t_dist</th>\n",
       "      <th>o.ad</th>\n",
       "    </tr>\n",
       "    <tr>\n",
       "      <th></th>\n",
       "      <th></th>\n",
       "      <th>count</th>\n",
       "      <th>min</th>\n",
       "      <th>max</th>\n",
       "      <th>min</th>\n",
       "      <th>max</th>\n",
       "      <th>min</th>\n",
       "    </tr>\n",
       "    <tr>\n",
       "      <th>o.t_loc.x</th>\n",
       "      <th>o.t_loc.y</th>\n",
       "      <th></th>\n",
       "      <th></th>\n",
       "      <th></th>\n",
       "      <th></th>\n",
       "      <th></th>\n",
       "      <th></th>\n",
       "    </tr>\n",
       "  </thead>\n",
       "  <tbody>\n",
       "    <tr>\n",
       "      <th>-21684.422752</th>\n",
       "      <th>31317.420107</th>\n",
       "      <td>1499</td>\n",
       "      <td>0.033333</td>\n",
       "      <td>49.966667</td>\n",
       "      <td>655.212504</td>\n",
       "      <td>1863.84378</td>\n",
       "      <td>500.0</td>\n",
       "    </tr>\n",
       "  </tbody>\n",
       "</table>\n",
       "</div>"
      ],
      "text/plain": [
       "                              ts                         o.t_dist              \\\n",
       "                           count       min        max         min         max   \n",
       "o.t_loc.x     o.t_loc.y                                                         \n",
       "-21684.422752 31317.420107  1499  0.033333  49.966667  655.212504  1863.84378   \n",
       "\n",
       "                             o.ad  \n",
       "                              min  \n",
       "o.t_loc.x     o.t_loc.y            \n",
       "-21684.422752 31317.420107  500.0  "
      ]
     },
     "execution_count": 25,
     "metadata": {},
     "output_type": "execute_result"
    }
   ],
   "source": [
    "if np.any(~df[\"o.t_loc\"].isna()):\n",
    "    x = df.groupby([\"o.t_loc.x\", \"o.t_loc.y\"]).agg({\"ts\": [\"count\", \"min\", \"max\"], \"o.t_dist\": [\"min\",\"max\"], \"o.ad\":[\"min\"]})\n",
    "else:\n",
    "    x = \"no location target\"\n",
    "x"
   ]
  },
  {
   "cell_type": "code",
   "execution_count": 26,
   "id": "74d23fb4",
   "metadata": {},
   "outputs": [
    {
     "data": {
      "application/vnd.jupyter.widget-view+json": {
       "model_id": "c8c5362ae2ff4fa195ac41a624696f5d",
       "version_major": 2,
       "version_minor": 0
      },
      "text/plain": [
       "interactive(children=(FloatSlider(value=15.0, continuous_update=False, description='hist_length', max=49.93333…"
      ]
     },
     "metadata": {},
     "output_type": "display_data"
    },
    {
     "data": {
      "text/plain": [
       "<function __main__.plot_target_distance(hist_length, max_time)>"
      ]
     },
     "execution_count": 26,
     "metadata": {},
     "output_type": "execute_result"
    }
   ],
   "source": [
    "#sample = df[(df[\"ts\"] < 124.4) & (df[\"ts\"] > 120)]\n",
    "def plot_target_distance(hist_length, max_time):\n",
    "    sample = df[(df[\"ts\"] >= max_time - hist_length) & (df[\"ts\"] <= max_time)]\n",
    "    plt.scatter(sample[\"ts\"], sample[\"o.t_dist\"])\n",
    "    plt.scatter(sample[\"ts\"], sample[\"o.ad\"], color=\"green\", marker=\"_\")\n",
    "    plt.scatter(sample[\"ts\"], sample[\"o.md\"], color=\"red\", marker=\"_\")\n",
    "    #plt.ylim(0,1500)\n",
    "    plt.title(\"distance to target\")\n",
    "    print(f'when first arrived {sample[sample[\"o.t_dist\"] < sample[\"o.ad\"]][\"ts\"].min()}')\n",
    "\n",
    "ipywidgets.interact(\n",
    "    plot_target_distance,\n",
    "    hist_length=ipywidgets.FloatSlider(value=15, min=0, max=df[\"ts\"].max()-df[\"ts\"].min(), continuous_update=False),\n",
    "    max_time=ipywidgets.FloatSlider(value=df[\"ts\"].max(), min=df[\"ts\"].min(), max=df[\"ts\"].max()+.1, continuous_update=False))"
   ]
  },
  {
   "cell_type": "code",
   "execution_count": 27,
   "id": "d86ba49e",
   "metadata": {},
   "outputs": [
    {
     "data": {
      "text/plain": [
       "nan"
      ]
     },
     "execution_count": 27,
     "metadata": {},
     "output_type": "execute_result"
    }
   ],
   "source": [
    "df[df[\"o.t_dist\"] < df[\"o.ad\"]][\"ts\"].min()"
   ]
  },
  {
   "cell_type": "code",
   "execution_count": 51,
   "id": "4d0bf8d0",
   "metadata": {},
   "outputs": [
    {
     "data": {
      "application/vnd.jupyter.widget-view+json": {
       "model_id": "63707503a2394f7697f4b6d33d1c28e9",
       "version_major": 2,
       "version_minor": 0
      },
      "text/plain": [
       "interactive(children=(FloatSlider(value=15.0, continuous_update=False, description='hist_length', max=49.93333…"
      ]
     },
     "metadata": {},
     "output_type": "display_data"
    },
    {
     "data": {
      "text/plain": [
       "<function __main__.plot_desired_speed(hist_length, max_time)>"
      ]
     },
     "execution_count": 51,
     "metadata": {},
     "output_type": "execute_result"
    }
   ],
   "source": [
    "def plot_desired_speed(hist_length, max_time):\n",
    "    sample = df[(df[\"ts\"] >= max_time - hist_length) & (df[\"ts\"] <= max_time)]\n",
    "    plt.scatter(sample[\"ts\"], sample[\"speed\"], label=\"actual speed\")\n",
    "    plt.scatter(sample[\"ts\"], sample[\"o.t_speed\"], label=\"desired speed\")\n",
    "    plt.scatter(sample[\"ts\"], sample[\"o.max_speed_cap\"], label=\"max speed cap\")\n",
    "    plt.scatter(sample[\"ts\"], sample[\"o._dv_speed\"], label=\"desired speed (_dv)\")\n",
    "    plt.legend()\n",
    "    plt.title(\"speed and desired speed to target\")\n",
    "    plt.ylim(0)\n",
    "\n",
    "ipywidgets.interact(\n",
    "    plot_desired_speed,\n",
    "    hist_length=ipywidgets.FloatSlider(value=15, min=0, max=df[\"ts\"].max()-df[\"ts\"].min(), continuous_update=False),\n",
    "    max_time=ipywidgets.FloatSlider(value=df[\"ts\"].max(), min=df[\"ts\"].min(), max=df[\"ts\"].max()+.1, continuous_update=False))"
   ]
  },
  {
   "cell_type": "code",
   "execution_count": 29,
   "id": "d7341dc2",
   "metadata": {
    "scrolled": true
   },
   "outputs": [
    {
     "data": {
      "text/plain": [
       "Text(0.5, 1.0, 'desired speed delta')"
      ]
     },
     "execution_count": 29,
     "metadata": {},
     "output_type": "execute_result"
    },
    {
     "data": {
      "image/png": "[encoded data removed]",
      "text/plain": [
       "<Figure size 432x288 with 1 Axes>"
      ]
     },
     "metadata": {
      "needs_background": "light"
     },
     "output_type": "display_data"
    }
   ],
   "source": [
    "plt.scatter(df[\"ts\"], df[\"o.t_speed\"] - df[\"speed\"])\n",
    "plt.scatter(df[\"ts\"], np.linalg.norm(np.array((df[\"o.t_v.x\"] - df[\"v.x\"], df[\"o.t_v.y\"] - df[\"v.y\"])), axis=0))\n",
    "plt.title(\"desired speed delta\")"
   ]
  },
  {
   "cell_type": "markdown",
   "id": "5ac378ec",
   "metadata": {},
   "source": [
    "## Collision Avoidance"
   ]
  },
  {
   "cell_type": "markdown",
   "id": "6936a767",
   "metadata": {},
   "source": [
    "### Collision Threats"
   ]
  },
  {
   "cell_type": "code",
   "execution_count": 30,
   "id": "f38ca4d8",
   "metadata": {},
   "outputs": [
    {
     "data": {
      "application/vnd.jupyter.widget-view+json": {
       "model_id": "ebd85be512564594a4d518ef46f2a673",
       "version_major": 2,
       "version_minor": 0
      },
      "text/plain": [
       "interactive(children=(FloatSlider(value=15.0, continuous_update=False, description='hist_length', max=49.93333…"
      ]
     },
     "metadata": {},
     "output_type": "display_data"
    },
    {
     "data": {
      "text/plain": [
       "<function __main__.show_collision_threats(hist_length, max_time)>"
      ]
     },
     "execution_count": 30,
     "metadata": {},
     "output_type": "execute_result"
    }
   ],
   "source": [
    "def show_collision_threats(hist_length, max_time):\n",
    "    sample = df[(df[\"ts\"] >= max_time-hist_length) & (df[\"ts\"] <= max_time)]\n",
    "    if np.any(~sample[\"o.ct\"].isna()):\n",
    "        x = sample.groupby(\"o.ct\").agg({\"ts\": [\"count\", \"min\", \"max\"], \"o.ct_dist\": [\"min\",\"max\"]})\n",
    "    else:\n",
    "        x = \"no collision threats\"\n",
    "    return x\n",
    "ipywidgets.interact(\n",
    "    show_collision_threats,\n",
    "    hist_length=ipywidgets.FloatSlider(value=15, min=0, max=df[\"ts\"].max()-df[\"ts\"].min(), continuous_update=False),\n",
    "    max_time=ipywidgets.FloatSlider(value=df[\"ts\"].max(), min=df[\"ts\"].min(), max=df[\"ts\"].max()+.1, continuous_update=False)\n",
    ")"
   ]
  },
  {
   "cell_type": "code",
   "execution_count": 31,
   "id": "890424d5",
   "metadata": {},
   "outputs": [
    {
     "data": {
      "application/vnd.jupyter.widget-view+json": {
       "model_id": "38b0ba84cace448093114b1819ea1c58",
       "version_major": 2,
       "version_minor": 0
      },
      "text/plain": [
       "interactive(children=(FloatSlider(value=15.0, continuous_update=False, description='hist_length', max=49.93333…"
      ]
     },
     "metadata": {},
     "output_type": "display_data"
    },
    {
     "data": {
      "text/plain": [
       "<function __main__.plot_collision_distance(hist_length, max_time)>"
      ]
     },
     "execution_count": 31,
     "metadata": {},
     "output_type": "execute_result"
    }
   ],
   "source": [
    "def plot_collision_distance(hist_length, max_time):\n",
    "    sample = df[(df[\"ts\"] >= max_time-hist_length) & (df[\"ts\"] <= max_time)]\n",
    "    plt.scatter(sample[\"ts\"], sample[\"o.ct_dist\"])\n",
    "    plt.scatter(sample[\"ts\"], sample[\"o.ct_cradius\"]+sample[\"o.scm\"]*2, color=\"green\", marker=\"_\")\n",
    "    plt.scatter(sample[\"ts\"], sample[\"o.ct_cradius\"]+sample[\"o.scm\"], color=\"orange\", marker=\"_\")\n",
    "    plt.scatter(sample[\"ts\"], sample[\"o.ct_cradius\"], color=\"red\", marker=\"_\")\n",
    "    plt.hlines(60, sample[\"ts\"].min(), sample[\"ts\"].max(), color=\"red\")\n",
    "    plt.ylim(0)\n",
    "    plt.title(\"distance to collision threat\")\n",
    "    print(f'max ct dist: {sample[\"o.ct_dist\"].max()}')\n",
    "    print(f'min ct dist: {sample[\"o.ct_dist\"].min()}')\n",
    "\n",
    "ipywidgets.interact(\n",
    "    plot_collision_distance,\n",
    "    hist_length=ipywidgets.FloatSlider(value=15, min=0, max=df[\"ts\"].max()-df[\"ts\"].min(), continuous_update=False),\n",
    "    max_time=ipywidgets.FloatSlider(value=df[\"ts\"].max(), min=df[\"ts\"].min(), max=df[\"ts\"].max()+.1, continuous_update=False)\n",
    ")"
   ]
  },
  {
   "cell_type": "code",
   "execution_count": 32,
   "id": "04aa08ad",
   "metadata": {},
   "outputs": [
    {
     "data": {
      "application/vnd.jupyter.widget-view+json": {
       "model_id": "f004c521ada24df197c60ff7d4c39c56",
       "version_major": 2,
       "version_minor": 0
      },
      "text/plain": [
       "interactive(children=(FloatSlider(value=15.0, continuous_update=False, description='hist_length', max=49.93333…"
      ]
     },
     "metadata": {},
     "output_type": "display_data"
    },
    {
     "data": {
      "text/plain": [
       "<function __main__.plot_minimum_separation(hist_length, max_time)>"
      ]
     },
     "execution_count": 32,
     "metadata": {},
     "output_type": "execute_result"
    }
   ],
   "source": [
    "def plot_minimum_separation(hist_length, max_time):\n",
    "    sample = df[(df[\"ts\"] >= max_time-hist_length) & (df[\"ts\"] <= max_time)]\n",
    "    plt.scatter(sample[\"ts\"], sample[\"o.ct_ms\"])\n",
    "    #plt.scatter(sample[\"ts\"], sample[\"o.ct_cradius\"]+30, color=\"red\", marker=\"_\")\n",
    "    plt.ylim(0)\n",
    "    plt.title(\"minimum_separation with collision threat\")\n",
    "    print(f'max min sep: {sample[\"o.ct_ms\"].max()}')\n",
    "    print(f'min min sep: {sample[\"o.ct_ms\"].min()}')\n",
    "\n",
    "ipywidgets.interact(\n",
    "    plot_minimum_separation,\n",
    "    hist_length=ipywidgets.FloatSlider(value=15, min=0, max=df[\"ts\"].max()-df[\"ts\"].min(), continuous_update=False),\n",
    "    max_time=ipywidgets.FloatSlider(value=df[\"ts\"].max(), min=df[\"ts\"].min(), max=df[\"ts\"].max()+.1, continuous_update=False)\n",
    ")"
   ]
  },
  {
   "cell_type": "code",
   "execution_count": 33,
   "id": "12faf352",
   "metadata": {},
   "outputs": [
    {
     "data": {
      "application/vnd.jupyter.widget-view+json": {
       "model_id": "220e01b4792d4affb39ee5e8664ed05b",
       "version_major": 2,
       "version_minor": 0
      },
      "text/plain": [
       "interactive(children=(FloatSlider(value=15.0, continuous_update=False, description='hist_length', max=49.93333…"
      ]
     },
     "metadata": {},
     "output_type": "display_data"
    },
    {
     "data": {
      "text/plain": [
       "<function __main__.plot_threat_age(hist_length, max_time)>"
      ]
     },
     "execution_count": 33,
     "metadata": {},
     "output_type": "execute_result"
    }
   ],
   "source": [
    "def plot_threat_age(hist_length, max_time):\n",
    "    sample = df[(df[\"ts\"] >= max_time - hist_length) & (df[\"ts\"] <= max_time)]\n",
    "    fig, ax1 = plt.subplots()\n",
    "    ax2 = ax1.twinx()\n",
    "\n",
    "    ax1.scatter(sample[\"ts\"], 1-sample[\"o.ct\"].isna().astype(int))\n",
    "    ax2.scatter(sample[\"ts\"], sample[\"ts\"] - sample[\"o.ct_ts\"], color=\"orange\")\n",
    "    plt.title(\"Collision Threat and Time Since Detection\")\n",
    "\n",
    "    #ax2.set_ylim(0,(df[\"ts\"] - df[\"o.ct_ts\"]).max()*1.2)\n",
    "    \n",
    "ipywidgets.interact(\n",
    "    plot_threat_age,\n",
    "    hist_length=ipywidgets.FloatSlider(value=15, min=0, max=df[\"ts\"].max()-df[\"ts\"].min(), continuous_update=False),\n",
    "    max_time=ipywidgets.FloatSlider(value=df[\"ts\"].max(), min=df[\"ts\"].min(), max=df[\"ts\"].max()+.1, continuous_update=False))"
   ]
  },
  {
   "cell_type": "markdown",
   "id": "86ed216b",
   "metadata": {},
   "source": [
    "## CBDR Detection"
   ]
  },
  {
   "cell_type": "code",
   "execution_count": 34,
   "id": "bcee6bd2",
   "metadata": {},
   "outputs": [
    {
     "data": {
      "application/vnd.jupyter.widget-view+json": {
       "model_id": "a25d0c0006524885befe5a958193acb3",
       "version_major": 2,
       "version_minor": 0
      },
      "text/plain": [
       "interactive(children=(FloatSlider(value=15.0, continuous_update=False, description='hist_length', max=49.93333…"
      ]
     },
     "metadata": {},
     "output_type": "display_data"
    },
    {
     "data": {
      "text/plain": [
       "<function __main__.plot_cbdr_detection_data(hist_length, max_time)>"
      ]
     },
     "execution_count": 34,
     "metadata": {},
     "output_type": "execute_result"
    }
   ],
   "source": [
    "def plot_cbdr_detection_data(hist_length, max_time):\n",
    "    sample = df[(df[\"ts\"] >= max_time - hist_length) & (df[\"ts\"] <= max_time)]\n",
    "    fig, ax1 = plt.subplots()\n",
    "    ax2 = ax1.twinx()\n",
    "\n",
    "    bearing = sample[\"o.cbdr_hist\"].apply(lambda x: np.nan if isinstance(x, float) or len(x) < 2 else abs(util.cartesian_to_polar(x[0][0], x[0][1])[1] - util.cartesian_to_polar(x[-1][0], x[-1][1])[1]))\n",
    "    threat_range = sample[\"o.cbdr_hist\"].apply(lambda x: np.nan if isinstance(x, float) or len(x) < 2 else util.cartesian_to_polar(x[0][0], x[0][1])[0] - util.cartesian_to_polar(x[-1][0], x[-1][1])[0])\n",
    "    ax1.scatter(sample[\"ts\"], bearing, label=\"delta bearing\")\n",
    "    ax1.hlines(2e-3, sample[\"ts\"].min(), sample[\"ts\"].max(), color=\"green\", label=\"max delta bearing\")\n",
    "    ax2.scatter(sample[\"ts\"], threat_range, color=\"orange\", label=\"delta range\")\n",
    "    ax2.hlines(5, sample[\"ts\"].min(), sample[\"ts\"].max(), color=\"red\", label=\"min delta range\")\n",
    "    fig.legend()\n",
    "    \n",
    "ipywidgets.interact(\n",
    "    plot_cbdr_detection_data,\n",
    "    hist_length=ipywidgets.FloatSlider(value=15, min=0, max=df[\"ts\"].max()-df[\"ts\"].min(), continuous_update=False),\n",
    "    max_time=ipywidgets.FloatSlider(value=df[\"ts\"].max(), min=df[\"ts\"].min(), max=df[\"ts\"].max()+.1, continuous_update=False))"
   ]
  },
  {
   "cell_type": "code",
   "execution_count": 35,
   "id": "9c947c36",
   "metadata": {},
   "outputs": [
    {
     "data": {
      "application/vnd.jupyter.widget-view+json": {
       "model_id": "c8b8aa121fa549369a59e00b32b8834d",
       "version_major": 2,
       "version_minor": 0
      },
      "text/plain": [
       "interactive(children=(FloatSlider(value=15.0, continuous_update=False, description='hist_length', max=49.93333…"
      ]
     },
     "metadata": {},
     "output_type": "display_data"
    },
    {
     "data": {
      "text/plain": [
       "<function __main__.plot_num_coalesced_threats(hist_length, max_time)>"
      ]
     },
     "execution_count": 35,
     "metadata": {},
     "output_type": "execute_result"
    }
   ],
   "source": [
    "def plot_num_coalesced_threats(hist_length, max_time):\n",
    "    sample = df[(df[\"ts\"] >= max_time-hist_length) & (df[\"ts\"] <= max_time)]\n",
    "    plt.scatter(sample[\"ts\"], sample[\"o.ct_ct\"])\n",
    "    plt.title(\"number of coalesced threats\")\n",
    "    plt.show()\n",
    "\n",
    "ipywidgets.interact(\n",
    "    plot_num_coalesced_threats,\n",
    "    hist_length=ipywidgets.FloatSlider(value=15, min=0, max=df[\"ts\"].max()-df[\"ts\"].min(), continuous_update=False),\n",
    "    max_time=ipywidgets.FloatSlider(value=df[\"ts\"].max(), min=df[\"ts\"].min(), max=df[\"ts\"].max()+.1, continuous_update=False)\n",
    ")  "
   ]
  },
  {
   "cell_type": "code",
   "execution_count": 36,
   "id": "91227c9a",
   "metadata": {},
   "outputs": [
    {
     "data": {
      "application/vnd.jupyter.widget-view+json": {
       "model_id": "ee4a16cdf6884a19baff150c035ca656",
       "version_major": 2,
       "version_minor": 0
      },
      "text/plain": [
       "interactive(children=(FloatSlider(value=15.0, continuous_update=False, description='hist_length', max=49.93333…"
      ]
     },
     "metadata": {},
     "output_type": "display_data"
    },
    {
     "data": {
      "text/plain": [
       "<function __main__.plot_collision_threat_radius(hist_length, max_time)>"
      ]
     },
     "execution_count": 36,
     "metadata": {},
     "output_type": "execute_result"
    }
   ],
   "source": [
    "def plot_collision_threat_radius(hist_length, max_time):\n",
    "    sample = df[(df[\"ts\"] >= max_time - hist_length) & (df[\"ts\"] <= max_time)]\n",
    "    plt.scatter(sample[\"ts\"], sample[\"o.ct_cradius\"], label=\"threat radius\")\n",
    "    plt.scatter(sample[\"ts\"], sample[\"o.scm\"], label=\"desired margin\")\n",
    "    plt.title(\"collision threat radius\")\n",
    "    plt.legend()\n",
    "    print(f'min coalesced radius: {sample[\"o.ct_cradius\"].min()}')\n",
    "    print(f'min scaled margin: {sample[\"o.scm\"].min()}')\n",
    "    plt.show()\n",
    "\n",
    "ipywidgets.interact(\n",
    "    plot_collision_threat_radius,\n",
    "    hist_length=ipywidgets.FloatSlider(value=15, min=0, max=df[\"ts\"].max()-df[\"ts\"].min(), continuous_update=False),\n",
    "    max_time=ipywidgets.FloatSlider(value=df[\"ts\"].max(), min=df[\"ts\"].min(), max=df[\"ts\"].max()+.1, continuous_update=False))"
   ]
  },
  {
   "cell_type": "code",
   "execution_count": 37,
   "id": "10290387",
   "metadata": {},
   "outputs": [
    {
     "data": {
      "application/vnd.jupyter.widget-view+json": {
       "model_id": "aef18fd2d9b1431493a5683738181393",
       "version_major": 2,
       "version_minor": 0
      },
      "text/plain": [
       "interactive(children=(FloatSlider(value=15.0, continuous_update=False, description='hist_length', max=49.93333…"
      ]
     },
     "metadata": {},
     "output_type": "display_data"
    },
    {
     "data": {
      "text/plain": [
       "<function __main__.plot_collision_threat_loc(hist_length, max_time)>"
      ]
     },
     "execution_count": 37,
     "metadata": {},
     "output_type": "execute_result"
    }
   ],
   "source": [
    "def plot_collision_threat_loc(hist_length, max_time):\n",
    "    sample = df[(df[\"ts\"] >= max_time - hist_length) & (df[\"ts\"] <= max_time)]\n",
    "    fig, ax1 = plt.subplots()\n",
    "    ax2 = ax1.twinx()\n",
    "    ax1.scatter(sample[\"ts\"], sample[\"o.ct_cloc.x\"])\n",
    "    ax2.scatter(sample[\"ts\"], sample[\"o.ct_cloc.y\"], color=\"orange\")\n",
    "    plt.title(\"collision threat coalesced location\")\n",
    "    plt.show()\n",
    "\n",
    "ipywidgets.interact(\n",
    "    plot_collision_threat_loc,\n",
    "    hist_length=ipywidgets.FloatSlider(value=15, min=0, max=df[\"ts\"].max()-df[\"ts\"].min(), continuous_update=False),\n",
    "    max_time=ipywidgets.FloatSlider(value=df[\"ts\"].max(), min=df[\"ts\"].min(), max=df[\"ts\"].max()+.1, continuous_update=False))"
   ]
  },
  {
   "cell_type": "code",
   "execution_count": 38,
   "id": "88757cdd",
   "metadata": {},
   "outputs": [
    {
     "data": {
      "text/html": [
       "<div>\n",
       "<style scoped>\n",
       "    .dataframe tbody tr th:only-of-type {\n",
       "        vertical-align: middle;\n",
       "    }\n",
       "\n",
       "    .dataframe tbody tr th {\n",
       "        vertical-align: top;\n",
       "    }\n",
       "\n",
       "    .dataframe thead th {\n",
       "        text-align: right;\n",
       "    }\n",
       "</style>\n",
       "<table border=\"1\" class=\"dataframe\">\n",
       "  <thead>\n",
       "    <tr style=\"text-align: right;\">\n",
       "      <th></th>\n",
       "      <th>index</th>\n",
       "      <th>p</th>\n",
       "      <th>eid</th>\n",
       "      <th>ts</th>\n",
       "      <th>loc</th>\n",
       "      <th>r</th>\n",
       "      <th>a</th>\n",
       "      <th>v</th>\n",
       "      <th>av</th>\n",
       "      <th>f</th>\n",
       "      <th>...</th>\n",
       "      <th>angle.y</th>\n",
       "      <th>_ada.x</th>\n",
       "      <th>_ada.y</th>\n",
       "      <th>o.ct_dist</th>\n",
       "      <th>o.t_dist</th>\n",
       "      <th>o.max_speed_cap</th>\n",
       "      <th>speed</th>\n",
       "      <th>o.t_speed</th>\n",
       "      <th>o._dv_speed</th>\n",
       "      <th>f_mag</th>\n",
       "    </tr>\n",
       "  </thead>\n",
       "  <tbody>\n",
       "    <tr>\n",
       "      <th>4</th>\n",
       "      <td>3012</td>\n",
       "      <td>SHP</td>\n",
       "      <td>9fac0d05-f96a-4410-8167-da3921aa22e8</td>\n",
       "      <td>0.166667</td>\n",
       "      <td>[-21361.291015625, 30545.44140625]</td>\n",
       "      <td>30</td>\n",
       "      <td>-57.933679</td>\n",
       "      <td>[-12.533207893371582, 40.7727165222168]</td>\n",
       "      <td>0.054310</td>\n",
       "      <td>[-12646.902765345241, -8065.720702076344]</td>\n",
       "      <td>...</td>\n",
       "      <td>-98.279153</td>\n",
       "      <td>100.0</td>\n",
       "      <td>0.0</td>\n",
       "      <td>127.510839</td>\n",
       "      <td>836.878266</td>\n",
       "      <td>100.609589</td>\n",
       "      <td>42.655547</td>\n",
       "      <td>100.000000</td>\n",
       "      <td>2988.925805</td>\n",
       "      <td>15000.0</td>\n",
       "    </tr>\n",
       "    <tr>\n",
       "      <th>12</th>\n",
       "      <td>3020</td>\n",
       "      <td>SHP</td>\n",
       "      <td>9fac0d05-f96a-4410-8167-da3921aa22e8</td>\n",
       "      <td>0.433333</td>\n",
       "      <td>[-21364.611328125, 30556.306640625]</td>\n",
       "      <td>30</td>\n",
       "      <td>-57.912530</td>\n",
       "      <td>[-11.58014965057373, 41.10374450683594]</td>\n",
       "      <td>0.454310</td>\n",
       "      <td>[-12625.308234486054, -8099.480970051022]</td>\n",
       "      <td>...</td>\n",
       "      <td>-97.866534</td>\n",
       "      <td>100.0</td>\n",
       "      <td>0.0</td>\n",
       "      <td>124.273730</td>\n",
       "      <td>825.574379</td>\n",
       "      <td>100.609589</td>\n",
       "      <td>42.703837</td>\n",
       "      <td>100.000000</td>\n",
       "      <td>2987.831521</td>\n",
       "      <td>15000.0</td>\n",
       "    </tr>\n",
       "    <tr>\n",
       "      <th>20</th>\n",
       "      <td>3028</td>\n",
       "      <td>SHP</td>\n",
       "      <td>9fac0d05-f96a-4410-8167-da3921aa22e8</td>\n",
       "      <td>0.700000</td>\n",
       "      <td>[-21367.671875, 30567.25]</td>\n",
       "      <td>30</td>\n",
       "      <td>-57.784713</td>\n",
       "      <td>[-10.573969841003418, 41.29496765136719]</td>\n",
       "      <td>0.854310</td>\n",
       "      <td>[-12611.621123057259, -8120.77660377725]</td>\n",
       "      <td>...</td>\n",
       "      <td>-94.449224</td>\n",
       "      <td>100.0</td>\n",
       "      <td>0.0</td>\n",
       "      <td>120.942675</td>\n",
       "      <td>814.301116</td>\n",
       "      <td>100.609589</td>\n",
       "      <td>42.627259</td>\n",
       "      <td>100.000000</td>\n",
       "      <td>2986.807688</td>\n",
       "      <td>15000.0</td>\n",
       "    </tr>\n",
       "    <tr>\n",
       "      <th>28</th>\n",
       "      <td>3036</td>\n",
       "      <td>SHP</td>\n",
       "      <td>9fac0d05-f96a-4410-8167-da3921aa22e8</td>\n",
       "      <td>0.966667</td>\n",
       "      <td>[-21370.4609375, 30578.228515625]</td>\n",
       "      <td>30</td>\n",
       "      <td>-57.550231</td>\n",
       "      <td>[-9.520678520202637, 41.30107498168945]</td>\n",
       "      <td>1.254310</td>\n",
       "      <td>[-12603.427719897452, -8133.486934231865]</td>\n",
       "      <td>...</td>\n",
       "      <td>-84.231436</td>\n",
       "      <td>100.0</td>\n",
       "      <td>0.0</td>\n",
       "      <td>117.529877</td>\n",
       "      <td>803.104121</td>\n",
       "      <td>100.609589</td>\n",
       "      <td>42.384220</td>\n",
       "      <td>100.000000</td>\n",
       "      <td>2985.870893</td>\n",
       "      <td>15000.0</td>\n",
       "    </tr>\n",
       "    <tr>\n",
       "      <th>36</th>\n",
       "      <td>3044</td>\n",
       "      <td>SHP</td>\n",
       "      <td>9fac0d05-f96a-4410-8167-da3921aa22e8</td>\n",
       "      <td>1.233333</td>\n",
       "      <td>[-21372.96484375, 30589.1875]</td>\n",
       "      <td>30</td>\n",
       "      <td>-57.209081</td>\n",
       "      <td>[-8.442233085632324, 41.03345489501953]</td>\n",
       "      <td>1.654311</td>\n",
       "      <td>[-12596.797210666604, -8143.752208493455]</td>\n",
       "      <td>...</td>\n",
       "      <td>-61.344334</td>\n",
       "      <td>100.0</td>\n",
       "      <td>0.0</td>\n",
       "      <td>114.061267</td>\n",
       "      <td>792.040882</td>\n",
       "      <td>100.609589</td>\n",
       "      <td>41.892908</td>\n",
       "      <td>92.285559</td>\n",
       "      <td>2985.067258</td>\n",
       "      <td>15000.0</td>\n",
       "    </tr>\n",
       "    <tr>\n",
       "      <th>44</th>\n",
       "      <td>3052</td>\n",
       "      <td>SHP</td>\n",
       "      <td>9fac0d05-f96a-4410-8167-da3921aa22e8</td>\n",
       "      <td>1.500000</td>\n",
       "      <td>[-21375.193359375, 30600.021484375]</td>\n",
       "      <td>30</td>\n",
       "      <td>-56.861265</td>\n",
       "      <td>[-7.587891578674316, 40.02744674682617]</td>\n",
       "      <td>0.854310</td>\n",
       "      <td>[-12644.054128793709, -8070.185573339363]</td>\n",
       "      <td>...</td>\n",
       "      <td>-30.753100</td>\n",
       "      <td>100.0</td>\n",
       "      <td>0.0</td>\n",
       "      <td>111.336454</td>\n",
       "      <td>781.206503</td>\n",
       "      <td>100.609589</td>\n",
       "      <td>40.740307</td>\n",
       "      <td>100.000000</td>\n",
       "      <td>2985.100482</td>\n",
       "      <td>15000.0</td>\n",
       "    </tr>\n",
       "    <tr>\n",
       "      <th>52</th>\n",
       "      <td>3060</td>\n",
       "      <td>SHP</td>\n",
       "      <td>9fac0d05-f96a-4410-8167-da3921aa22e8</td>\n",
       "      <td>1.766667</td>\n",
       "      <td>[-21377.212890625, 30610.556640625]</td>\n",
       "      <td>30</td>\n",
       "      <td>-56.726782</td>\n",
       "      <td>[-6.861176013946533, 38.79323959350586]</td>\n",
       "      <td>0.054310</td>\n",
       "      <td>[-12748.51392525422, -7904.137694751986]</td>\n",
       "      <td>...</td>\n",
       "      <td>-17.717411</td>\n",
       "      <td>100.0</td>\n",
       "      <td>0.0</td>\n",
       "      <td>109.776121</td>\n",
       "      <td>770.735920</td>\n",
       "      <td>100.609589</td>\n",
       "      <td>39.395319</td>\n",
       "      <td>100.000000</td>\n",
       "      <td>2985.613684</td>\n",
       "      <td>15000.0</td>\n",
       "    </tr>\n",
       "    <tr>\n",
       "      <th>60</th>\n",
       "      <td>3068</td>\n",
       "      <td>SHP</td>\n",
       "      <td>9fac0d05-f96a-4410-8167-da3921aa22e8</td>\n",
       "      <td>2.033333</td>\n",
       "      <td>[-21379.037109375, 30620.765625]</td>\n",
       "      <td>30</td>\n",
       "      <td>-56.805633</td>\n",
       "      <td>[-6.11170482635498, 37.59667205810547]</td>\n",
       "      <td>-0.745690</td>\n",
       "      <td>[-9295.641712729173, -11772.469798159154]</td>\n",
       "      <td>...</td>\n",
       "      <td>-25.414633</td>\n",
       "      <td>100.0</td>\n",
       "      <td>0.0</td>\n",
       "      <td>140.958829</td>\n",
       "      <td>760.649629</td>\n",
       "      <td>100.609589</td>\n",
       "      <td>38.090191</td>\n",
       "      <td>100.000000</td>\n",
       "      <td>2974.413131</td>\n",
       "      <td>15000.0</td>\n",
       "    </tr>\n",
       "    <tr>\n",
       "      <th>96</th>\n",
       "      <td>3104</td>\n",
       "      <td>SHP</td>\n",
       "      <td>9fac0d05-f96a-4410-8167-da3921aa22e8</td>\n",
       "      <td>3.233333</td>\n",
       "      <td>[-21390.57421875, 30662.837890625]</td>\n",
       "      <td>30</td>\n",
       "      <td>-58.879359</td>\n",
       "      <td>[-13.65354061126709, 32.825592041015625]</td>\n",
       "      <td>-1.167996</td>\n",
       "      <td>[12966.579878128643, -7541.074609371626]</td>\n",
       "      <td>...</td>\n",
       "      <td>-72.490855</td>\n",
       "      <td>100.0</td>\n",
       "      <td>0.0</td>\n",
       "      <td>205.383011</td>\n",
       "      <td>717.512953</td>\n",
       "      <td>100.609589</td>\n",
       "      <td>35.551915</td>\n",
       "      <td>82.554333</td>\n",
       "      <td>2971.772527</td>\n",
       "      <td>15000.0</td>\n",
       "    </tr>\n",
       "    <tr>\n",
       "      <th>222</th>\n",
       "      <td>3230</td>\n",
       "      <td>SHP</td>\n",
       "      <td>9fac0d05-f96a-4410-8167-da3921aa22e8</td>\n",
       "      <td>7.433333</td>\n",
       "      <td>[-21150.51171875, 30732.75]</td>\n",
       "      <td>30</td>\n",
       "      <td>-56.652038</td>\n",
       "      <td>[226.1939239501953, -8.224906921386719]</td>\n",
       "      <td>0.026762</td>\n",
       "      <td>[-14459.453140961632, -3990.5156138442544]</td>\n",
       "      <td>...</td>\n",
       "      <td>-10.318645</td>\n",
       "      <td>100.0</td>\n",
       "      <td>0.0</td>\n",
       "      <td>507.456771</td>\n",
       "      <td>791.770248</td>\n",
       "      <td>100.609589</td>\n",
       "      <td>226.343412</td>\n",
       "      <td>100.000000</td>\n",
       "      <td>71.936400</td>\n",
       "      <td>15000.0</td>\n",
       "    </tr>\n",
       "    <tr>\n",
       "      <th>465</th>\n",
       "      <td>3473</td>\n",
       "      <td>SHP</td>\n",
       "      <td>9fac0d05-f96a-4410-8167-da3921aa22e8</td>\n",
       "      <td>15.533333</td>\n",
       "      <td>[-20071.421875, 30648.62109375]</td>\n",
       "      <td>30</td>\n",
       "      <td>-59.937188</td>\n",
       "      <td>[-133.49073791503906, 57.258785247802734]</td>\n",
       "      <td>0.283437</td>\n",
       "      <td>[-11807.75066559819, -9250.78505960794]</td>\n",
       "      <td>...</td>\n",
       "      <td>24.442618</td>\n",
       "      <td>100.0</td>\n",
       "      <td>0.0</td>\n",
       "      <td>1699.380032</td>\n",
       "      <td>1746.156908</td>\n",
       "      <td>259.646130</td>\n",
       "      <td>145.252696</td>\n",
       "      <td>152.610437</td>\n",
       "      <td>152.132854</td>\n",
       "      <td>15000.0</td>\n",
       "    </tr>\n",
       "    <tr>\n",
       "      <th>468</th>\n",
       "      <td>3476</td>\n",
       "      <td>SHP</td>\n",
       "      <td>9fac0d05-f96a-4410-8167-da3921aa22e8</td>\n",
       "      <td>15.633333</td>\n",
       "      <td>[-20084.7890625, 30654.33203125]</td>\n",
       "      <td>30</td>\n",
       "      <td>-59.898845</td>\n",
       "      <td>[-134.0811309814453, 56.79624557495117]</td>\n",
       "      <td>0.583437</td>\n",
       "      <td>[-2903.5507525701746, -14716.296851696394]</td>\n",
       "      <td>...</td>\n",
       "      <td>20.707496</td>\n",
       "      <td>100.0</td>\n",
       "      <td>0.0</td>\n",
       "      <td>1552.124381</td>\n",
       "      <td>1731.621707</td>\n",
       "      <td>264.423457</td>\n",
       "      <td>145.614433</td>\n",
       "      <td>147.432950</td>\n",
       "      <td>144.570815</td>\n",
       "      <td>15000.0</td>\n",
       "    </tr>\n",
       "    <tr>\n",
       "      <th>471</th>\n",
       "      <td>3479</td>\n",
       "      <td>SHP</td>\n",
       "      <td>9fac0d05-f96a-4410-8167-da3921aa22e8</td>\n",
       "      <td>15.733333</td>\n",
       "      <td>[-20098.203125, 30659.98828125]</td>\n",
       "      <td>30</td>\n",
       "      <td>-59.830501</td>\n",
       "      <td>[-134.22630310058594, 56.060428619384766]</td>\n",
       "      <td>0.883437</td>\n",
       "      <td>[-1628.0860335613997, -14911.382761746889]</td>\n",
       "      <td>...</td>\n",
       "      <td>13.978119</td>\n",
       "      <td>100.0</td>\n",
       "      <td>0.0</td>\n",
       "      <td>1425.736467</td>\n",
       "      <td>1717.064154</td>\n",
       "      <td>269.288684</td>\n",
       "      <td>145.462958</td>\n",
       "      <td>142.465268</td>\n",
       "      <td>140.956661</td>\n",
       "      <td>15000.0</td>\n",
       "    </tr>\n",
       "    <tr>\n",
       "      <th>474</th>\n",
       "      <td>3482</td>\n",
       "      <td>SHP</td>\n",
       "      <td>9fac0d05-f96a-4410-8167-da3921aa22e8</td>\n",
       "      <td>15.833333</td>\n",
       "      <td>[-20111.62890625, 30665.568359375]</td>\n",
       "      <td>30</td>\n",
       "      <td>-59.732157</td>\n",
       "      <td>[-134.30770874023438, 55.31486129760742]</td>\n",
       "      <td>1.183437</td>\n",
       "      <td>[-670.5095876431064, -14985.006402830752]</td>\n",
       "      <td>...</td>\n",
       "      <td>4.188445</td>\n",
       "      <td>100.0</td>\n",
       "      <td>0.0</td>\n",
       "      <td>1315.037019</td>\n",
       "      <td>1702.524943</td>\n",
       "      <td>274.243428</td>\n",
       "      <td>145.252520</td>\n",
       "      <td>137.701423</td>\n",
       "      <td>138.073150</td>\n",
       "      <td>15000.0</td>\n",
       "    </tr>\n",
       "    <tr>\n",
       "      <th>477</th>\n",
       "      <td>3485</td>\n",
       "      <td>SHP</td>\n",
       "      <td>9fac0d05-f96a-4410-8167-da3921aa22e8</td>\n",
       "      <td>15.933333</td>\n",
       "      <td>[-20125.060546875, 30671.076171875]</td>\n",
       "      <td>30</td>\n",
       "      <td>-59.603813</td>\n",
       "      <td>[-134.3412322998047, 54.565608978271484]</td>\n",
       "      <td>1.483437</td>\n",
       "      <td>[5367.001110337871, -14006.973230560272]</td>\n",
       "      <td>...</td>\n",
       "      <td>-8.633939</td>\n",
       "      <td>100.0</td>\n",
       "      <td>0.0</td>\n",
       "      <td>1516.542463</td>\n",
       "      <td>1688.007988</td>\n",
       "      <td>279.289335</td>\n",
       "      <td>144.999905</td>\n",
       "      <td>133.132968</td>\n",
       "      <td>137.729133</td>\n",
       "      <td>15000.0</td>\n",
       "    </tr>\n",
       "    <tr>\n",
       "      <th>627</th>\n",
       "      <td>3635</td>\n",
       "      <td>SHP</td>\n",
       "      <td>9fac0d05-f96a-4410-8167-da3921aa22e8</td>\n",
       "      <td>20.933333</td>\n",
       "      <td>[-20676.9296875, 30641.837890625]</td>\n",
       "      <td>30</td>\n",
       "      <td>-61.577769</td>\n",
       "      <td>[-95.16404724121094, 35.00166320800781]</td>\n",
       "      <td>-0.300000</td>\n",
       "      <td>[10736.025127246505, -10475.579433479166]</td>\n",
       "      <td>...</td>\n",
       "      <td>95.026464</td>\n",
       "      <td>100.0</td>\n",
       "      <td>0.0</td>\n",
       "      <td>1086.519697</td>\n",
       "      <td>1213.034874</td>\n",
       "      <td>337.990288</td>\n",
       "      <td>101.396806</td>\n",
       "      <td>130.351705</td>\n",
       "      <td>2907.738434</td>\n",
       "      <td>15000.0</td>\n",
       "    </tr>\n",
       "    <tr>\n",
       "      <th>780</th>\n",
       "      <td>3788</td>\n",
       "      <td>SHP</td>\n",
       "      <td>9fac0d05-f96a-4410-8167-da3921aa22e8</td>\n",
       "      <td>26.033333</td>\n",
       "      <td>[-20969.45703125, 30642.611328125]</td>\n",
       "      <td>30</td>\n",
       "      <td>-61.577611</td>\n",
       "      <td>[-44.4163818359375, 26.4249324798584]</td>\n",
       "      <td>-0.458951</td>\n",
       "      <td>[8420.933479360998, -12413.21390036348]</td>\n",
       "      <td>...</td>\n",
       "      <td>95.031381</td>\n",
       "      <td>100.0</td>\n",
       "      <td>0.0</td>\n",
       "      <td>878.829727</td>\n",
       "      <td>983.129121</td>\n",
       "      <td>170.770168</td>\n",
       "      <td>51.682609</td>\n",
       "      <td>105.411323</td>\n",
       "      <td>2953.278314</td>\n",
       "      <td>15000.0</td>\n",
       "    </tr>\n",
       "    <tr>\n",
       "      <th>930</th>\n",
       "      <td>3938</td>\n",
       "      <td>SHP</td>\n",
       "      <td>9fac0d05-f96a-4410-8167-da3921aa22e8</td>\n",
       "      <td>31.033333</td>\n",
       "      <td>[-21100.28515625, 30641.4765625]</td>\n",
       "      <td>30</td>\n",
       "      <td>-68.075977</td>\n",
       "      <td>[-24.058305740356445, 20.138185501098633]</td>\n",
       "      <td>-0.608999</td>\n",
       "      <td>[6683.6935424642, -13428.63509931007]</td>\n",
       "      <td>...</td>\n",
       "      <td>86.192894</td>\n",
       "      <td>100.0</td>\n",
       "      <td>0.0</td>\n",
       "      <td>813.643604</td>\n",
       "      <td>893.373609</td>\n",
       "      <td>100.609589</td>\n",
       "      <td>31.374330</td>\n",
       "      <td>96.942276</td>\n",
       "      <td>2971.278121</td>\n",
       "      <td>15000.0</td>\n",
       "    </tr>\n",
       "    <tr>\n",
       "      <th>1113</th>\n",
       "      <td>4121</td>\n",
       "      <td>SHP</td>\n",
       "      <td>9fac0d05-f96a-4410-8167-da3921aa22e8</td>\n",
       "      <td>37.133333</td>\n",
       "      <td>[-21090.509765625, 30443.23828125]</td>\n",
       "      <td>30</td>\n",
       "      <td>-74.080643</td>\n",
       "      <td>[-13.926053047180176, 20.408681869506836]</td>\n",
       "      <td>-0.491098</td>\n",
       "      <td>[5592.344965709827, -13918.53719988203]</td>\n",
       "      <td>...</td>\n",
       "      <td>96.811174</td>\n",
       "      <td>100.0</td>\n",
       "      <td>0.0</td>\n",
       "      <td>998.646418</td>\n",
       "      <td>1056.847434</td>\n",
       "      <td>148.076841</td>\n",
       "      <td>24.707271</td>\n",
       "      <td>107.260935</td>\n",
       "      <td>2975.875524</td>\n",
       "      <td>15000.0</td>\n",
       "    </tr>\n",
       "    <tr>\n",
       "      <th>1200</th>\n",
       "      <td>4208</td>\n",
       "      <td>SHP</td>\n",
       "      <td>9fac0d05-f96a-4410-8167-da3921aa22e8</td>\n",
       "      <td>40.033333</td>\n",
       "      <td>[-21116.912109375, 30464.837890625]</td>\n",
       "      <td>30</td>\n",
       "      <td>-78.915353</td>\n",
       "      <td>[-7.717984676361084, 3.061346054077148]</td>\n",
       "      <td>-2.431888</td>\n",
       "      <td>[2084.8043710570637, -14854.413173680787]</td>\n",
       "      <td>...</td>\n",
       "      <td>36.677157</td>\n",
       "      <td>100.0</td>\n",
       "      <td>0.0</td>\n",
       "      <td>883.232625</td>\n",
       "      <td>1024.189809</td>\n",
       "      <td>126.763784</td>\n",
       "      <td>8.302959</td>\n",
       "      <td>76.248455</td>\n",
       "      <td>2995.904362</td>\n",
       "      <td>15000.0</td>\n",
       "    </tr>\n",
       "    <tr>\n",
       "      <th>1245</th>\n",
       "      <td>4253</td>\n",
       "      <td>SHP</td>\n",
       "      <td>9fac0d05-f96a-4410-8167-da3921aa22e8</td>\n",
       "      <td>41.533333</td>\n",
       "      <td>[-21129.833984375, 30467.09375]</td>\n",
       "      <td>30</td>\n",
       "      <td>-79.647843</td>\n",
       "      <td>[-19.120534896850586, 27.707582473754883]</td>\n",
       "      <td>-0.086855</td>\n",
       "      <td>[5190.890878668155, -14073.189115682335]</td>\n",
       "      <td>...</td>\n",
       "      <td>89.481949</td>\n",
       "      <td>100.0</td>\n",
       "      <td>0.0</td>\n",
       "      <td>962.245663</td>\n",
       "      <td>1015.196343</td>\n",
       "      <td>120.639502</td>\n",
       "      <td>33.664595</td>\n",
       "      <td>99.994369</td>\n",
       "      <td>2967.399306</td>\n",
       "      <td>15000.0</td>\n",
       "    </tr>\n",
       "    <tr>\n",
       "      <th>1401</th>\n",
       "      <td>4409</td>\n",
       "      <td>SHP</td>\n",
       "      <td>9fac0d05-f96a-4410-8167-da3921aa22e8</td>\n",
       "      <td>46.733333</td>\n",
       "      <td>[-21188.212890625, 30491.0625]</td>\n",
       "      <td>30</td>\n",
       "      <td>-80.896894</td>\n",
       "      <td>[-7.696033477783203, 14.496230125427246]</td>\n",
       "      <td>-0.639745</td>\n",
       "      <td>[4473.876583593596, -14317.277266113584]</td>\n",
       "      <td>...</td>\n",
       "      <td>70.648230</td>\n",
       "      <td>100.0</td>\n",
       "      <td>0.0</td>\n",
       "      <td>920.729114</td>\n",
       "      <td>963.893729</td>\n",
       "      <td>100.609589</td>\n",
       "      <td>16.412484</td>\n",
       "      <td>100.000000</td>\n",
       "      <td>2983.869687</td>\n",
       "      <td>15000.0</td>\n",
       "    </tr>\n",
       "  </tbody>\n",
       "</table>\n",
       "<p>22 rows × 74 columns</p>\n",
       "</div>"
      ],
      "text/plain": [
       "      index    p                                   eid         ts  \\\n",
       "4      3012  SHP  9fac0d05-f96a-4410-8167-da3921aa22e8   0.166667   \n",
       "12     3020  SHP  9fac0d05-f96a-4410-8167-da3921aa22e8   0.433333   \n",
       "20     3028  SHP  9fac0d05-f96a-4410-8167-da3921aa22e8   0.700000   \n",
       "28     3036  SHP  9fac0d05-f96a-4410-8167-da3921aa22e8   0.966667   \n",
       "36     3044  SHP  9fac0d05-f96a-4410-8167-da3921aa22e8   1.233333   \n",
       "44     3052  SHP  9fac0d05-f96a-4410-8167-da3921aa22e8   1.500000   \n",
       "52     3060  SHP  9fac0d05-f96a-4410-8167-da3921aa22e8   1.766667   \n",
       "60     3068  SHP  9fac0d05-f96a-4410-8167-da3921aa22e8   2.033333   \n",
       "96     3104  SHP  9fac0d05-f96a-4410-8167-da3921aa22e8   3.233333   \n",
       "222    3230  SHP  9fac0d05-f96a-4410-8167-da3921aa22e8   7.433333   \n",
       "465    3473  SHP  9fac0d05-f96a-4410-8167-da3921aa22e8  15.533333   \n",
       "468    3476  SHP  9fac0d05-f96a-4410-8167-da3921aa22e8  15.633333   \n",
       "471    3479  SHP  9fac0d05-f96a-4410-8167-da3921aa22e8  15.733333   \n",
       "474    3482  SHP  9fac0d05-f96a-4410-8167-da3921aa22e8  15.833333   \n",
       "477    3485  SHP  9fac0d05-f96a-4410-8167-da3921aa22e8  15.933333   \n",
       "627    3635  SHP  9fac0d05-f96a-4410-8167-da3921aa22e8  20.933333   \n",
       "780    3788  SHP  9fac0d05-f96a-4410-8167-da3921aa22e8  26.033333   \n",
       "930    3938  SHP  9fac0d05-f96a-4410-8167-da3921aa22e8  31.033333   \n",
       "1113   4121  SHP  9fac0d05-f96a-4410-8167-da3921aa22e8  37.133333   \n",
       "1200   4208  SHP  9fac0d05-f96a-4410-8167-da3921aa22e8  40.033333   \n",
       "1245   4253  SHP  9fac0d05-f96a-4410-8167-da3921aa22e8  41.533333   \n",
       "1401   4409  SHP  9fac0d05-f96a-4410-8167-da3921aa22e8  46.733333   \n",
       "\n",
       "                                      loc   r          a  \\\n",
       "4      [-21361.291015625, 30545.44140625]  30 -57.933679   \n",
       "12    [-21364.611328125, 30556.306640625]  30 -57.912530   \n",
       "20              [-21367.671875, 30567.25]  30 -57.784713   \n",
       "28      [-21370.4609375, 30578.228515625]  30 -57.550231   \n",
       "36          [-21372.96484375, 30589.1875]  30 -57.209081   \n",
       "44    [-21375.193359375, 30600.021484375]  30 -56.861265   \n",
       "52    [-21377.212890625, 30610.556640625]  30 -56.726782   \n",
       "60       [-21379.037109375, 30620.765625]  30 -56.805633   \n",
       "96     [-21390.57421875, 30662.837890625]  30 -58.879359   \n",
       "222           [-21150.51171875, 30732.75]  30 -56.652038   \n",
       "465       [-20071.421875, 30648.62109375]  30 -59.937188   \n",
       "468      [-20084.7890625, 30654.33203125]  30 -59.898845   \n",
       "471       [-20098.203125, 30659.98828125]  30 -59.830501   \n",
       "474    [-20111.62890625, 30665.568359375]  30 -59.732157   \n",
       "477   [-20125.060546875, 30671.076171875]  30 -59.603813   \n",
       "627     [-20676.9296875, 30641.837890625]  30 -61.577769   \n",
       "780    [-20969.45703125, 30642.611328125]  30 -61.577611   \n",
       "930      [-21100.28515625, 30641.4765625]  30 -68.075977   \n",
       "1113   [-21090.509765625, 30443.23828125]  30 -74.080643   \n",
       "1200  [-21116.912109375, 30464.837890625]  30 -78.915353   \n",
       "1245      [-21129.833984375, 30467.09375]  30 -79.647843   \n",
       "1401       [-21188.212890625, 30491.0625]  30 -80.896894   \n",
       "\n",
       "                                              v        av  \\\n",
       "4       [-12.533207893371582, 40.7727165222168]  0.054310   \n",
       "12      [-11.58014965057373, 41.10374450683594]  0.454310   \n",
       "20     [-10.573969841003418, 41.29496765136719]  0.854310   \n",
       "28      [-9.520678520202637, 41.30107498168945]  1.254310   \n",
       "36      [-8.442233085632324, 41.03345489501953]  1.654311   \n",
       "44      [-7.587891578674316, 40.02744674682617]  0.854310   \n",
       "52      [-6.861176013946533, 38.79323959350586]  0.054310   \n",
       "60       [-6.11170482635498, 37.59667205810547] -0.745690   \n",
       "96     [-13.65354061126709, 32.825592041015625] -1.167996   \n",
       "222     [226.1939239501953, -8.224906921386719]  0.026762   \n",
       "465   [-133.49073791503906, 57.258785247802734]  0.283437   \n",
       "468     [-134.0811309814453, 56.79624557495117]  0.583437   \n",
       "471   [-134.22630310058594, 56.060428619384766]  0.883437   \n",
       "474    [-134.30770874023438, 55.31486129760742]  1.183437   \n",
       "477    [-134.3412322998047, 54.565608978271484]  1.483437   \n",
       "627     [-95.16404724121094, 35.00166320800781] -0.300000   \n",
       "780       [-44.4163818359375, 26.4249324798584] -0.458951   \n",
       "930   [-24.058305740356445, 20.138185501098633] -0.608999   \n",
       "1113  [-13.926053047180176, 20.408681869506836] -0.491098   \n",
       "1200    [-7.717984676361084, 3.061346054077148] -2.431888   \n",
       "1245  [-19.120534896850586, 27.707582473754883] -0.086855   \n",
       "1401   [-7.696033477783203, 14.496230125427246] -0.639745   \n",
       "\n",
       "                                               f  ...    angle.y _ada.x  \\\n",
       "4      [-12646.902765345241, -8065.720702076344]  ... -98.279153  100.0   \n",
       "12     [-12625.308234486054, -8099.480970051022]  ... -97.866534  100.0   \n",
       "20      [-12611.621123057259, -8120.77660377725]  ... -94.449224  100.0   \n",
       "28     [-12603.427719897452, -8133.486934231865]  ... -84.231436  100.0   \n",
       "36     [-12596.797210666604, -8143.752208493455]  ... -61.344334  100.0   \n",
       "44     [-12644.054128793709, -8070.185573339363]  ... -30.753100  100.0   \n",
       "52      [-12748.51392525422, -7904.137694751986]  ... -17.717411  100.0   \n",
       "60     [-9295.641712729173, -11772.469798159154]  ... -25.414633  100.0   \n",
       "96      [12966.579878128643, -7541.074609371626]  ... -72.490855  100.0   \n",
       "222   [-14459.453140961632, -3990.5156138442544]  ... -10.318645  100.0   \n",
       "465      [-11807.75066559819, -9250.78505960794]  ...  24.442618  100.0   \n",
       "468   [-2903.5507525701746, -14716.296851696394]  ...  20.707496  100.0   \n",
       "471   [-1628.0860335613997, -14911.382761746889]  ...  13.978119  100.0   \n",
       "474    [-670.5095876431064, -14985.006402830752]  ...   4.188445  100.0   \n",
       "477     [5367.001110337871, -14006.973230560272]  ...  -8.633939  100.0   \n",
       "627    [10736.025127246505, -10475.579433479166]  ...  95.026464  100.0   \n",
       "780      [8420.933479360998, -12413.21390036348]  ...  95.031381  100.0   \n",
       "930        [6683.6935424642, -13428.63509931007]  ...  86.192894  100.0   \n",
       "1113     [5592.344965709827, -13918.53719988203]  ...  96.811174  100.0   \n",
       "1200   [2084.8043710570637, -14854.413173680787]  ...  36.677157  100.0   \n",
       "1245    [5190.890878668155, -14073.189115682335]  ...  89.481949  100.0   \n",
       "1401    [4473.876583593596, -14317.277266113584]  ...  70.648230  100.0   \n",
       "\n",
       "     _ada.y    o.ct_dist     o.t_dist  o.max_speed_cap       speed  \\\n",
       "4       0.0   127.510839   836.878266       100.609589   42.655547   \n",
       "12      0.0   124.273730   825.574379       100.609589   42.703837   \n",
       "20      0.0   120.942675   814.301116       100.609589   42.627259   \n",
       "28      0.0   117.529877   803.104121       100.609589   42.384220   \n",
       "36      0.0   114.061267   792.040882       100.609589   41.892908   \n",
       "44      0.0   111.336454   781.206503       100.609589   40.740307   \n",
       "52      0.0   109.776121   770.735920       100.609589   39.395319   \n",
       "60      0.0   140.958829   760.649629       100.609589   38.090191   \n",
       "96      0.0   205.383011   717.512953       100.609589   35.551915   \n",
       "222     0.0   507.456771   791.770248       100.609589  226.343412   \n",
       "465     0.0  1699.380032  1746.156908       259.646130  145.252696   \n",
       "468     0.0  1552.124381  1731.621707       264.423457  145.614433   \n",
       "471     0.0  1425.736467  1717.064154       269.288684  145.462958   \n",
       "474     0.0  1315.037019  1702.524943       274.243428  145.252520   \n",
       "477     0.0  1516.542463  1688.007988       279.289335  144.999905   \n",
       "627     0.0  1086.519697  1213.034874       337.990288  101.396806   \n",
       "780     0.0   878.829727   983.129121       170.770168   51.682609   \n",
       "930     0.0   813.643604   893.373609       100.609589   31.374330   \n",
       "1113    0.0   998.646418  1056.847434       148.076841   24.707271   \n",
       "1200    0.0   883.232625  1024.189809       126.763784    8.302959   \n",
       "1245    0.0   962.245663  1015.196343       120.639502   33.664595   \n",
       "1401    0.0   920.729114   963.893729       100.609589   16.412484   \n",
       "\n",
       "       o.t_speed  o._dv_speed    f_mag  \n",
       "4     100.000000  2988.925805  15000.0  \n",
       "12    100.000000  2987.831521  15000.0  \n",
       "20    100.000000  2986.807688  15000.0  \n",
       "28    100.000000  2985.870893  15000.0  \n",
       "36     92.285559  2985.067258  15000.0  \n",
       "44    100.000000  2985.100482  15000.0  \n",
       "52    100.000000  2985.613684  15000.0  \n",
       "60    100.000000  2974.413131  15000.0  \n",
       "96     82.554333  2971.772527  15000.0  \n",
       "222   100.000000    71.936400  15000.0  \n",
       "465   152.610437   152.132854  15000.0  \n",
       "468   147.432950   144.570815  15000.0  \n",
       "471   142.465268   140.956661  15000.0  \n",
       "474   137.701423   138.073150  15000.0  \n",
       "477   133.132968   137.729133  15000.0  \n",
       "627   130.351705  2907.738434  15000.0  \n",
       "780   105.411323  2953.278314  15000.0  \n",
       "930    96.942276  2971.278121  15000.0  \n",
       "1113  107.260935  2975.875524  15000.0  \n",
       "1200   76.248455  2995.904362  15000.0  \n",
       "1245   99.994369  2967.399306  15000.0  \n",
       "1401  100.000000  2983.869687  15000.0  \n",
       "\n",
       "[22 rows x 74 columns]"
      ]
     },
     "execution_count": 38,
     "metadata": {},
     "output_type": "execute_result"
    }
   ],
   "source": [
    "df[(df[\"o.ct_cloc.x\"]-df[\"o.ct_cloc.x\"].shift(1)).abs() > 30]"
   ]
  },
  {
   "cell_type": "code",
   "execution_count": 39,
   "id": "a5619e23",
   "metadata": {},
   "outputs": [
    {
     "data": {
      "text/plain": [
       "4       297.327794\n",
       "12      308.103516\n",
       "20      302.128906\n",
       "28      296.406250\n",
       "36      290.937500\n",
       "44      286.771484\n",
       "52      284.201172\n",
       "60      276.431641\n",
       "96      285.806641\n",
       "222     859.035156\n",
       "465     114.171875\n",
       "468     111.316406\n",
       "471      93.832031\n",
       "474      80.716797\n",
       "477     194.910156\n",
       "627     113.525391\n",
       "780     105.287109\n",
       "930     105.287109\n",
       "1113    105.287109\n",
       "1200    328.445312\n",
       "1245    105.287109\n",
       "1401    105.287109\n",
       "Name: o.ct_cloc.x, dtype: float64"
      ]
     },
     "execution_count": 39,
     "metadata": {},
     "output_type": "execute_result"
    }
   ],
   "source": [
    "ctxloc_diff_s = (df[\"o.ct_cloc.x\"]-df[\"o.ct_cloc.x\"].shift(1)).abs()\n",
    "ctxloc_diff_s[ctxloc_diff_s > 30]"
   ]
  },
  {
   "cell_type": "code",
   "execution_count": 40,
   "id": "5e817d73",
   "metadata": {},
   "outputs": [
    {
     "data": {
      "application/vnd.jupyter.widget-view+json": {
       "model_id": "f476c372db144b3a91af82143f22d6e9",
       "version_major": 2,
       "version_minor": 0
      },
      "text/plain": [
       "interactive(children=(FloatSlider(value=15.0, continuous_update=False, description='hist_length', max=49.93333…"
      ]
     },
     "metadata": {},
     "output_type": "display_data"
    },
    {
     "data": {
      "text/plain": [
       "<function __main__.plot_collision_dv(hist_length, max_time)>"
      ]
     },
     "execution_count": 40,
     "metadata": {},
     "output_type": "execute_result"
    }
   ],
   "source": [
    "def plot_collision_dv(hist_length, max_time):\n",
    "    sample = df[(df[\"ts\"] >= max_time - hist_length) & (df[\"ts\"] <= max_time)]\n",
    "    plt.scatter(sample[\"ts\"], sample[\"o.ct_dv.x\"])\n",
    "    plt.scatter(sample[\"ts\"], sample[\"o.ct_dv.y\"])\n",
    "    plt.title(\"collision avoidance velocity\")\n",
    "\n",
    "ipywidgets.interact(\n",
    "    plot_collision_dv,\n",
    "    hist_length=ipywidgets.FloatSlider(value=15, min=0, max=df[\"ts\"].max()-df[\"ts\"].min(), continuous_update=False),\n",
    "    max_time=ipywidgets.FloatSlider(value=df[\"ts\"].max(), min=df[\"ts\"].min(), max=df[\"ts\"].max()+.1, continuous_update=False))"
   ]
  },
  {
   "cell_type": "code",
   "execution_count": 41,
   "id": "7f11097b",
   "metadata": {},
   "outputs": [
    {
     "data": {
      "text/html": [
       "<div>\n",
       "<style scoped>\n",
       "    .dataframe tbody tr th:only-of-type {\n",
       "        vertical-align: middle;\n",
       "    }\n",
       "\n",
       "    .dataframe tbody tr th {\n",
       "        vertical-align: top;\n",
       "    }\n",
       "\n",
       "    .dataframe thead th {\n",
       "        text-align: right;\n",
       "    }\n",
       "</style>\n",
       "<table border=\"1\" class=\"dataframe\">\n",
       "  <thead>\n",
       "    <tr style=\"text-align: right;\">\n",
       "      <th></th>\n",
       "      <th>index</th>\n",
       "      <th>p</th>\n",
       "      <th>eid</th>\n",
       "      <th>ts</th>\n",
       "      <th>loc</th>\n",
       "      <th>r</th>\n",
       "      <th>a</th>\n",
       "      <th>v</th>\n",
       "      <th>av</th>\n",
       "      <th>f</th>\n",
       "      <th>...</th>\n",
       "      <th>angle.y</th>\n",
       "      <th>_ada.x</th>\n",
       "      <th>_ada.y</th>\n",
       "      <th>o.ct_dist</th>\n",
       "      <th>o.t_dist</th>\n",
       "      <th>o.max_speed_cap</th>\n",
       "      <th>speed</th>\n",
       "      <th>o.t_speed</th>\n",
       "      <th>o._dv_speed</th>\n",
       "      <th>f_mag</th>\n",
       "    </tr>\n",
       "  </thead>\n",
       "  <tbody>\n",
       "    <tr>\n",
       "      <th>1</th>\n",
       "      <td>3009</td>\n",
       "      <td>SHP</td>\n",
       "      <td>9fac0d05-f96a-4410-8167-da3921aa22e8</td>\n",
       "      <td>0.066667</td>\n",
       "      <td>[-21359.8046875, 30540.740234375]</td>\n",
       "      <td>30</td>\n",
       "      <td>-57.919110</td>\n",
       "      <td>[-16.02910041809082, 50.141746520996094]</td>\n",
       "      <td>-0.245690</td>\n",
       "      <td>[69917.83891058309, -187380.61746635847]</td>\n",
       "      <td>...</td>\n",
       "      <td>-97.999617</td>\n",
       "      <td>100.0</td>\n",
       "      <td>0.0</td>\n",
       "      <td>547.231760</td>\n",
       "      <td>841.788876</td>\n",
       "      <td>3000.000000</td>\n",
       "      <td>52.641493</td>\n",
       "      <td>153.358182</td>\n",
       "      <td>2947.419512</td>\n",
       "      <td>200000.0</td>\n",
       "    </tr>\n",
       "    <tr>\n",
       "      <th>4</th>\n",
       "      <td>3012</td>\n",
       "      <td>SHP</td>\n",
       "      <td>9fac0d05-f96a-4410-8167-da3921aa22e8</td>\n",
       "      <td>0.166667</td>\n",
       "      <td>[-21361.291015625, 30545.44140625]</td>\n",
       "      <td>30</td>\n",
       "      <td>-57.933679</td>\n",
       "      <td>[-12.533207893371582, 40.7727165222168]</td>\n",
       "      <td>0.054310</td>\n",
       "      <td>[-12646.902765345241, -8065.720702076344]</td>\n",
       "      <td>...</td>\n",
       "      <td>-98.279153</td>\n",
       "      <td>100.0</td>\n",
       "      <td>0.0</td>\n",
       "      <td>127.510839</td>\n",
       "      <td>836.878266</td>\n",
       "      <td>100.609589</td>\n",
       "      <td>42.655547</td>\n",
       "      <td>100.000000</td>\n",
       "      <td>2988.925805</td>\n",
       "      <td>15000.0</td>\n",
       "    </tr>\n",
       "    <tr>\n",
       "      <th>12</th>\n",
       "      <td>3020</td>\n",
       "      <td>SHP</td>\n",
       "      <td>9fac0d05-f96a-4410-8167-da3921aa22e8</td>\n",
       "      <td>0.433333</td>\n",
       "      <td>[-21364.611328125, 30556.306640625]</td>\n",
       "      <td>30</td>\n",
       "      <td>-57.912530</td>\n",
       "      <td>[-11.58014965057373, 41.10374450683594]</td>\n",
       "      <td>0.454310</td>\n",
       "      <td>[-12625.308234486054, -8099.480970051022]</td>\n",
       "      <td>...</td>\n",
       "      <td>-97.866534</td>\n",
       "      <td>100.0</td>\n",
       "      <td>0.0</td>\n",
       "      <td>124.273730</td>\n",
       "      <td>825.574379</td>\n",
       "      <td>100.609589</td>\n",
       "      <td>42.703837</td>\n",
       "      <td>100.000000</td>\n",
       "      <td>2987.831521</td>\n",
       "      <td>15000.0</td>\n",
       "    </tr>\n",
       "    <tr>\n",
       "      <th>20</th>\n",
       "      <td>3028</td>\n",
       "      <td>SHP</td>\n",
       "      <td>9fac0d05-f96a-4410-8167-da3921aa22e8</td>\n",
       "      <td>0.700000</td>\n",
       "      <td>[-21367.671875, 30567.25]</td>\n",
       "      <td>30</td>\n",
       "      <td>-57.784713</td>\n",
       "      <td>[-10.573969841003418, 41.29496765136719]</td>\n",
       "      <td>0.854310</td>\n",
       "      <td>[-12611.621123057259, -8120.77660377725]</td>\n",
       "      <td>...</td>\n",
       "      <td>-94.449224</td>\n",
       "      <td>100.0</td>\n",
       "      <td>0.0</td>\n",
       "      <td>120.942675</td>\n",
       "      <td>814.301116</td>\n",
       "      <td>100.609589</td>\n",
       "      <td>42.627259</td>\n",
       "      <td>100.000000</td>\n",
       "      <td>2986.807688</td>\n",
       "      <td>15000.0</td>\n",
       "    </tr>\n",
       "    <tr>\n",
       "      <th>28</th>\n",
       "      <td>3036</td>\n",
       "      <td>SHP</td>\n",
       "      <td>9fac0d05-f96a-4410-8167-da3921aa22e8</td>\n",
       "      <td>0.966667</td>\n",
       "      <td>[-21370.4609375, 30578.228515625]</td>\n",
       "      <td>30</td>\n",
       "      <td>-57.550231</td>\n",
       "      <td>[-9.520678520202637, 41.30107498168945]</td>\n",
       "      <td>1.254310</td>\n",
       "      <td>[-12603.427719897452, -8133.486934231865]</td>\n",
       "      <td>...</td>\n",
       "      <td>-84.231436</td>\n",
       "      <td>100.0</td>\n",
       "      <td>0.0</td>\n",
       "      <td>117.529877</td>\n",
       "      <td>803.104121</td>\n",
       "      <td>100.609589</td>\n",
       "      <td>42.384220</td>\n",
       "      <td>100.000000</td>\n",
       "      <td>2985.870893</td>\n",
       "      <td>15000.0</td>\n",
       "    </tr>\n",
       "    <tr>\n",
       "      <th>36</th>\n",
       "      <td>3044</td>\n",
       "      <td>SHP</td>\n",
       "      <td>9fac0d05-f96a-4410-8167-da3921aa22e8</td>\n",
       "      <td>1.233333</td>\n",
       "      <td>[-21372.96484375, 30589.1875]</td>\n",
       "      <td>30</td>\n",
       "      <td>-57.209081</td>\n",
       "      <td>[-8.442233085632324, 41.03345489501953]</td>\n",
       "      <td>1.654311</td>\n",
       "      <td>[-12596.797210666604, -8143.752208493455]</td>\n",
       "      <td>...</td>\n",
       "      <td>-61.344334</td>\n",
       "      <td>100.0</td>\n",
       "      <td>0.0</td>\n",
       "      <td>114.061267</td>\n",
       "      <td>792.040882</td>\n",
       "      <td>100.609589</td>\n",
       "      <td>41.892908</td>\n",
       "      <td>92.285559</td>\n",
       "      <td>2985.067258</td>\n",
       "      <td>15000.0</td>\n",
       "    </tr>\n",
       "    <tr>\n",
       "      <th>41</th>\n",
       "      <td>3049</td>\n",
       "      <td>SHP</td>\n",
       "      <td>9fac0d05-f96a-4410-8167-da3921aa22e8</td>\n",
       "      <td>1.400000</td>\n",
       "      <td>[-21374.3984375, 30595.986328125]</td>\n",
       "      <td>30</td>\n",
       "      <td>-56.966696</td>\n",
       "      <td>[-8.151453971862793, 40.52231979370117]</td>\n",
       "      <td>1.154310</td>\n",
       "      <td>[11271.237958300268, -9897.43375261341]</td>\n",
       "      <td>...</td>\n",
       "      <td>-40.595927</td>\n",
       "      <td>100.0</td>\n",
       "      <td>0.0</td>\n",
       "      <td>257.802381</td>\n",
       "      <td>785.227211</td>\n",
       "      <td>100.609589</td>\n",
       "      <td>41.334061</td>\n",
       "      <td>97.675320</td>\n",
       "      <td>2967.242983</td>\n",
       "      <td>15000.0</td>\n",
       "    </tr>\n",
       "    <tr>\n",
       "      <th>44</th>\n",
       "      <td>3052</td>\n",
       "      <td>SHP</td>\n",
       "      <td>9fac0d05-f96a-4410-8167-da3921aa22e8</td>\n",
       "      <td>1.500000</td>\n",
       "      <td>[-21375.193359375, 30600.021484375]</td>\n",
       "      <td>30</td>\n",
       "      <td>-56.861265</td>\n",
       "      <td>[-7.587891578674316, 40.02744674682617]</td>\n",
       "      <td>0.854310</td>\n",
       "      <td>[-12644.054128793709, -8070.185573339363]</td>\n",
       "      <td>...</td>\n",
       "      <td>-30.753100</td>\n",
       "      <td>100.0</td>\n",
       "      <td>0.0</td>\n",
       "      <td>111.336454</td>\n",
       "      <td>781.206503</td>\n",
       "      <td>100.609589</td>\n",
       "      <td>40.740307</td>\n",
       "      <td>100.000000</td>\n",
       "      <td>2985.100482</td>\n",
       "      <td>15000.0</td>\n",
       "    </tr>\n",
       "    <tr>\n",
       "      <th>52</th>\n",
       "      <td>3060</td>\n",
       "      <td>SHP</td>\n",
       "      <td>9fac0d05-f96a-4410-8167-da3921aa22e8</td>\n",
       "      <td>1.766667</td>\n",
       "      <td>[-21377.212890625, 30610.556640625]</td>\n",
       "      <td>30</td>\n",
       "      <td>-56.726782</td>\n",
       "      <td>[-6.861176013946533, 38.79323959350586]</td>\n",
       "      <td>0.054310</td>\n",
       "      <td>[-12748.51392525422, -7904.137694751986]</td>\n",
       "      <td>...</td>\n",
       "      <td>-17.717411</td>\n",
       "      <td>100.0</td>\n",
       "      <td>0.0</td>\n",
       "      <td>109.776121</td>\n",
       "      <td>770.735920</td>\n",
       "      <td>100.609589</td>\n",
       "      <td>39.395319</td>\n",
       "      <td>100.000000</td>\n",
       "      <td>2985.613684</td>\n",
       "      <td>15000.0</td>\n",
       "    </tr>\n",
       "    <tr>\n",
       "      <th>60</th>\n",
       "      <td>3068</td>\n",
       "      <td>SHP</td>\n",
       "      <td>9fac0d05-f96a-4410-8167-da3921aa22e8</td>\n",
       "      <td>2.033333</td>\n",
       "      <td>[-21379.037109375, 30620.765625]</td>\n",
       "      <td>30</td>\n",
       "      <td>-56.805633</td>\n",
       "      <td>[-6.11170482635498, 37.59667205810547]</td>\n",
       "      <td>-0.745690</td>\n",
       "      <td>[-9295.641712729173, -11772.469798159154]</td>\n",
       "      <td>...</td>\n",
       "      <td>-25.414633</td>\n",
       "      <td>100.0</td>\n",
       "      <td>0.0</td>\n",
       "      <td>140.958829</td>\n",
       "      <td>760.649629</td>\n",
       "      <td>100.609589</td>\n",
       "      <td>38.090191</td>\n",
       "      <td>100.000000</td>\n",
       "      <td>2974.413131</td>\n",
       "      <td>15000.0</td>\n",
       "    </tr>\n",
       "    <tr>\n",
       "      <th>63</th>\n",
       "      <td>3071</td>\n",
       "      <td>SHP</td>\n",
       "      <td>9fac0d05-f96a-4410-8167-da3921aa22e8</td>\n",
       "      <td>2.133333</td>\n",
       "      <td>[-21379.6640625, 30624.505859375]</td>\n",
       "      <td>30</td>\n",
       "      <td>-56.890202</td>\n",
       "      <td>[-6.576487064361572, 37.0080451965332]</td>\n",
       "      <td>-1.045690</td>\n",
       "      <td>[-10754.597915324754, -10456.511066301824]</td>\n",
       "      <td>...</td>\n",
       "      <td>-33.493281</td>\n",
       "      <td>100.0</td>\n",
       "      <td>0.0</td>\n",
       "      <td>126.097047</td>\n",
       "      <td>756.972927</td>\n",
       "      <td>100.609589</td>\n",
       "      <td>37.587838</td>\n",
       "      <td>95.596690</td>\n",
       "      <td>2979.079358</td>\n",
       "      <td>15000.0</td>\n",
       "    </tr>\n",
       "    <tr>\n",
       "      <th>66</th>\n",
       "      <td>3074</td>\n",
       "      <td>SHP</td>\n",
       "      <td>9fac0d05-f96a-4410-8167-da3921aa22e8</td>\n",
       "      <td>2.233333</td>\n",
       "      <td>[-21380.33984375, 30628.189453125]</td>\n",
       "      <td>30</td>\n",
       "      <td>-57.004771</td>\n",
       "      <td>[-7.114217281341553, 36.48522186279297]</td>\n",
       "      <td>-1.345690</td>\n",
       "      <td>[-12274.300265983295, -8622.15477595261]</td>\n",
       "      <td>...</td>\n",
       "      <td>-44.045273</td>\n",
       "      <td>100.0</td>\n",
       "      <td>0.0</td>\n",
       "      <td>113.709385</td>\n",
       "      <td>753.329482</td>\n",
       "      <td>100.609589</td>\n",
       "      <td>37.172349</td>\n",
       "      <td>91.388642</td>\n",
       "      <td>2985.042396</td>\n",
       "      <td>15000.0</td>\n",
       "    </tr>\n",
       "    <tr>\n",
       "      <th>96</th>\n",
       "      <td>3104</td>\n",
       "      <td>SHP</td>\n",
       "      <td>9fac0d05-f96a-4410-8167-da3921aa22e8</td>\n",
       "      <td>3.233333</td>\n",
       "      <td>[-21390.57421875, 30662.837890625]</td>\n",
       "      <td>30</td>\n",
       "      <td>-58.879359</td>\n",
       "      <td>[-13.65354061126709, 32.825592041015625]</td>\n",
       "      <td>-1.167996</td>\n",
       "      <td>[12966.579878128643, -7541.074609371626]</td>\n",
       "      <td>...</td>\n",
       "      <td>-72.490855</td>\n",
       "      <td>100.0</td>\n",
       "      <td>0.0</td>\n",
       "      <td>205.383011</td>\n",
       "      <td>717.512953</td>\n",
       "      <td>100.609589</td>\n",
       "      <td>35.551915</td>\n",
       "      <td>82.554333</td>\n",
       "      <td>2971.772527</td>\n",
       "      <td>15000.0</td>\n",
       "    </tr>\n",
       "    <tr>\n",
       "      <th>222</th>\n",
       "      <td>3230</td>\n",
       "      <td>SHP</td>\n",
       "      <td>9fac0d05-f96a-4410-8167-da3921aa22e8</td>\n",
       "      <td>7.433333</td>\n",
       "      <td>[-21150.51171875, 30732.75]</td>\n",
       "      <td>30</td>\n",
       "      <td>-56.652038</td>\n",
       "      <td>[226.1939239501953, -8.224906921386719]</td>\n",
       "      <td>0.026762</td>\n",
       "      <td>[-14459.453140961632, -3990.5156138442544]</td>\n",
       "      <td>...</td>\n",
       "      <td>-10.318645</td>\n",
       "      <td>100.0</td>\n",
       "      <td>0.0</td>\n",
       "      <td>507.456771</td>\n",
       "      <td>791.770248</td>\n",
       "      <td>100.609589</td>\n",
       "      <td>226.343412</td>\n",
       "      <td>100.000000</td>\n",
       "      <td>71.936400</td>\n",
       "      <td>15000.0</td>\n",
       "    </tr>\n",
       "    <tr>\n",
       "      <th>231</th>\n",
       "      <td>3239</td>\n",
       "      <td>SHP</td>\n",
       "      <td>9fac0d05-f96a-4410-8167-da3921aa22e8</td>\n",
       "      <td>7.733333</td>\n",
       "      <td>[-21082.943359375, 30730.24609375]</td>\n",
       "      <td>30</td>\n",
       "      <td>-56.684010</td>\n",
       "      <td>[224.01898193359375, -8.529765129089355]</td>\n",
       "      <td>-0.273238</td>\n",
       "      <td>[-14020.112120293416, -5332.584376679068]</td>\n",
       "      <td>...</td>\n",
       "      <td>-13.492900</td>\n",
       "      <td>100.0</td>\n",
       "      <td>0.0</td>\n",
       "      <td>434.491420</td>\n",
       "      <td>840.565751</td>\n",
       "      <td>100.609589</td>\n",
       "      <td>224.181313</td>\n",
       "      <td>100.000000</td>\n",
       "      <td>2795.021117</td>\n",
       "      <td>15000.0</td>\n",
       "    </tr>\n",
       "    <tr>\n",
       "      <th>264</th>\n",
       "      <td>3272</td>\n",
       "      <td>SHP</td>\n",
       "      <td>9fac0d05-f96a-4410-8167-da3921aa22e8</td>\n",
       "      <td>8.833333</td>\n",
       "      <td>[-20840.294921875, 30718.6953125]</td>\n",
       "      <td>30</td>\n",
       "      <td>-58.332460</td>\n",
       "      <td>[217.5773468017578, -13.384960174560547]</td>\n",
       "      <td>-1.265234</td>\n",
       "      <td>[-6297.6591971536645, -13613.944639100964]</td>\n",
       "      <td>...</td>\n",
       "      <td>-97.740200</td>\n",
       "      <td>100.0</td>\n",
       "      <td>0.0</td>\n",
       "      <td>280.980888</td>\n",
       "      <td>1034.902494</td>\n",
       "      <td>100.609589</td>\n",
       "      <td>217.988667</td>\n",
       "      <td>100.000000</td>\n",
       "      <td>2927.851891</td>\n",
       "      <td>15000.0</td>\n",
       "    </tr>\n",
       "    <tr>\n",
       "      <th>267</th>\n",
       "      <td>3275</td>\n",
       "      <td>SHP</td>\n",
       "      <td>9fac0d05-f96a-4410-8167-da3921aa22e8</td>\n",
       "      <td>8.933333</td>\n",
       "      <td>[-20818.546875, 30717.333984375]</td>\n",
       "      <td>30</td>\n",
       "      <td>-58.448983</td>\n",
       "      <td>[217.26246643066406, -14.065657615661621]</td>\n",
       "      <td>-0.965234</td>\n",
       "      <td>[-63399.39619922863, -189685.30929297933]</td>\n",
       "      <td>...</td>\n",
       "      <td>-94.619800</td>\n",
       "      <td>100.0</td>\n",
       "      <td>0.0</td>\n",
       "      <td>274.614865</td>\n",
       "      <td>1053.491523</td>\n",
       "      <td>100.609589</td>\n",
       "      <td>217.717298</td>\n",
       "      <td>100.000000</td>\n",
       "      <td>2951.984590</td>\n",
       "      <td>200000.0</td>\n",
       "    </tr>\n",
       "    <tr>\n",
       "      <th>270</th>\n",
       "      <td>3278</td>\n",
       "      <td>SHP</td>\n",
       "      <td>9fac0d05-f96a-4410-8167-da3921aa22e8</td>\n",
       "      <td>9.033333</td>\n",
       "      <td>[-20796.927734375, 30715.611328125]</td>\n",
       "      <td>30</td>\n",
       "      <td>-58.535507</td>\n",
       "      <td>[214.0924835205078, -23.549922943115234]</td>\n",
       "      <td>-0.665234</td>\n",
       "      <td>[-44654.36336314011, -194951.24475784364]</td>\n",
       "      <td>...</td>\n",
       "      <td>-91.469543</td>\n",
       "      <td>100.0</td>\n",
       "      <td>0.0</td>\n",
       "      <td>269.538222</td>\n",
       "      <td>1072.297166</td>\n",
       "      <td>100.609589</td>\n",
       "      <td>215.383821</td>\n",
       "      <td>100.000000</td>\n",
       "      <td>2982.837221</td>\n",
       "      <td>200000.0</td>\n",
       "    </tr>\n",
       "    <tr>\n",
       "      <th>273</th>\n",
       "      <td>3281</td>\n",
       "      <td>SHP</td>\n",
       "      <td>9fac0d05-f96a-4410-8167-da3921aa22e8</td>\n",
       "      <td>9.133333</td>\n",
       "      <td>[-20775.591796875, 30712.931640625]</td>\n",
       "      <td>30</td>\n",
       "      <td>-58.592030</td>\n",
       "      <td>[211.85977172851562, -33.2974853515625]</td>\n",
       "      <td>-0.365234</td>\n",
       "      <td>[-1924.438128316239, -14876.039052458913]</td>\n",
       "      <td>...</td>\n",
       "      <td>-89.040323</td>\n",
       "      <td>100.0</td>\n",
       "      <td>0.0</td>\n",
       "      <td>268.275918</td>\n",
       "      <td>1091.503555</td>\n",
       "      <td>100.609589</td>\n",
       "      <td>214.460452</td>\n",
       "      <td>100.000000</td>\n",
       "      <td>3013.476854</td>\n",
       "      <td>15000.0</td>\n",
       "    </tr>\n",
       "    <tr>\n",
       "      <th>276</th>\n",
       "      <td>3284</td>\n",
       "      <td>SHP</td>\n",
       "      <td>9fac0d05-f96a-4410-8167-da3921aa22e8</td>\n",
       "      <td>9.233333</td>\n",
       "      <td>[-20754.41015625, 30709.576171875]</td>\n",
       "      <td>30</td>\n",
       "      <td>-58.618554</td>\n",
       "      <td>[211.7635498046875, -34.04128646850586]</td>\n",
       "      <td>-0.065234</td>\n",
       "      <td>[-471.45367964927783, -14992.589216941324]</td>\n",
       "      <td>...</td>\n",
       "      <td>-87.801876</td>\n",
       "      <td>100.0</td>\n",
       "      <td>0.0</td>\n",
       "      <td>270.888872</td>\n",
       "      <td>1111.034507</td>\n",
       "      <td>100.609589</td>\n",
       "      <td>214.482191</td>\n",
       "      <td>100.000000</td>\n",
       "      <td>3034.833560</td>\n",
       "      <td>15000.0</td>\n",
       "    </tr>\n",
       "    <tr>\n",
       "      <th>279</th>\n",
       "      <td>3287</td>\n",
       "      <td>SHP</td>\n",
       "      <td>9fac0d05-f96a-4410-8167-da3921aa22e8</td>\n",
       "      <td>9.333333</td>\n",
       "      <td>[-20733.234375, 30706.146484375]</td>\n",
       "      <td>30</td>\n",
       "      <td>-58.615077</td>\n",
       "      <td>[211.73997497558594, -34.790916442871094]</td>\n",
       "      <td>0.234766</td>\n",
       "      <td>[946.7761742410144, -14970.090676942793]</td>\n",
       "      <td>...</td>\n",
       "      <td>-87.967746</td>\n",
       "      <td>100.0</td>\n",
       "      <td>0.0</td>\n",
       "      <td>276.532591</td>\n",
       "      <td>1130.670053</td>\n",
       "      <td>100.609589</td>\n",
       "      <td>214.579181</td>\n",
       "      <td>100.000000</td>\n",
       "      <td>3055.251485</td>\n",
       "      <td>15000.0</td>\n",
       "    </tr>\n",
       "    <tr>\n",
       "      <th>282</th>\n",
       "      <td>3290</td>\n",
       "      <td>SHP</td>\n",
       "      <td>9fac0d05-f96a-4410-8167-da3921aa22e8</td>\n",
       "      <td>9.433333</td>\n",
       "      <td>[-20712.05859375, 30702.642578125]</td>\n",
       "      <td>30</td>\n",
       "      <td>-58.581600</td>\n",
       "      <td>[211.78732299804688, -35.53942108154297]</td>\n",
       "      <td>0.534766</td>\n",
       "      <td>[2286.280925808875, -14824.740116719837]</td>\n",
       "      <td>...</td>\n",
       "      <td>-89.510212</td>\n",
       "      <td>100.0</td>\n",
       "      <td>0.0</td>\n",
       "      <td>284.908135</td>\n",
       "      <td>1150.410129</td>\n",
       "      <td>100.609589</td>\n",
       "      <td>214.748506</td>\n",
       "      <td>100.000000</td>\n",
       "      <td>3074.173730</td>\n",
       "      <td>15000.0</td>\n",
       "    </tr>\n",
       "    <tr>\n",
       "      <th>627</th>\n",
       "      <td>3635</td>\n",
       "      <td>SHP</td>\n",
       "      <td>9fac0d05-f96a-4410-8167-da3921aa22e8</td>\n",
       "      <td>20.933333</td>\n",
       "      <td>[-20676.9296875, 30641.837890625]</td>\n",
       "      <td>30</td>\n",
       "      <td>-61.577769</td>\n",
       "      <td>[-95.16404724121094, 35.00166320800781]</td>\n",
       "      <td>-0.300000</td>\n",
       "      <td>[10736.025127246505, -10475.579433479166]</td>\n",
       "      <td>...</td>\n",
       "      <td>95.026464</td>\n",
       "      <td>100.0</td>\n",
       "      <td>0.0</td>\n",
       "      <td>1086.519697</td>\n",
       "      <td>1213.034874</td>\n",
       "      <td>337.990288</td>\n",
       "      <td>101.396806</td>\n",
       "      <td>130.351705</td>\n",
       "      <td>2907.738434</td>\n",
       "      <td>15000.0</td>\n",
       "    </tr>\n",
       "    <tr>\n",
       "      <th>780</th>\n",
       "      <td>3788</td>\n",
       "      <td>SHP</td>\n",
       "      <td>9fac0d05-f96a-4410-8167-da3921aa22e8</td>\n",
       "      <td>26.033333</td>\n",
       "      <td>[-20969.45703125, 30642.611328125]</td>\n",
       "      <td>30</td>\n",
       "      <td>-61.577611</td>\n",
       "      <td>[-44.4163818359375, 26.4249324798584]</td>\n",
       "      <td>-0.458951</td>\n",
       "      <td>[8420.933479360998, -12413.21390036348]</td>\n",
       "      <td>...</td>\n",
       "      <td>95.031381</td>\n",
       "      <td>100.0</td>\n",
       "      <td>0.0</td>\n",
       "      <td>878.829727</td>\n",
       "      <td>983.129121</td>\n",
       "      <td>170.770168</td>\n",
       "      <td>51.682609</td>\n",
       "      <td>105.411323</td>\n",
       "      <td>2953.278314</td>\n",
       "      <td>15000.0</td>\n",
       "    </tr>\n",
       "    <tr>\n",
       "      <th>930</th>\n",
       "      <td>3938</td>\n",
       "      <td>SHP</td>\n",
       "      <td>9fac0d05-f96a-4410-8167-da3921aa22e8</td>\n",
       "      <td>31.033333</td>\n",
       "      <td>[-21100.28515625, 30641.4765625]</td>\n",
       "      <td>30</td>\n",
       "      <td>-68.075977</td>\n",
       "      <td>[-24.058305740356445, 20.138185501098633]</td>\n",
       "      <td>-0.608999</td>\n",
       "      <td>[6683.6935424642, -13428.63509931007]</td>\n",
       "      <td>...</td>\n",
       "      <td>86.192894</td>\n",
       "      <td>100.0</td>\n",
       "      <td>0.0</td>\n",
       "      <td>813.643604</td>\n",
       "      <td>893.373609</td>\n",
       "      <td>100.609589</td>\n",
       "      <td>31.374330</td>\n",
       "      <td>96.942276</td>\n",
       "      <td>2971.278121</td>\n",
       "      <td>15000.0</td>\n",
       "    </tr>\n",
       "    <tr>\n",
       "      <th>1113</th>\n",
       "      <td>4121</td>\n",
       "      <td>SHP</td>\n",
       "      <td>9fac0d05-f96a-4410-8167-da3921aa22e8</td>\n",
       "      <td>37.133333</td>\n",
       "      <td>[-21090.509765625, 30443.23828125]</td>\n",
       "      <td>30</td>\n",
       "      <td>-74.080643</td>\n",
       "      <td>[-13.926053047180176, 20.408681869506836]</td>\n",
       "      <td>-0.491098</td>\n",
       "      <td>[5592.344965709827, -13918.53719988203]</td>\n",
       "      <td>...</td>\n",
       "      <td>96.811174</td>\n",
       "      <td>100.0</td>\n",
       "      <td>0.0</td>\n",
       "      <td>998.646418</td>\n",
       "      <td>1056.847434</td>\n",
       "      <td>148.076841</td>\n",
       "      <td>24.707271</td>\n",
       "      <td>107.260935</td>\n",
       "      <td>2975.875524</td>\n",
       "      <td>15000.0</td>\n",
       "    </tr>\n",
       "    <tr>\n",
       "      <th>1200</th>\n",
       "      <td>4208</td>\n",
       "      <td>SHP</td>\n",
       "      <td>9fac0d05-f96a-4410-8167-da3921aa22e8</td>\n",
       "      <td>40.033333</td>\n",
       "      <td>[-21116.912109375, 30464.837890625]</td>\n",
       "      <td>30</td>\n",
       "      <td>-78.915353</td>\n",
       "      <td>[-7.717984676361084, 3.061346054077148]</td>\n",
       "      <td>-2.431888</td>\n",
       "      <td>[2084.8043710570637, -14854.413173680787]</td>\n",
       "      <td>...</td>\n",
       "      <td>36.677157</td>\n",
       "      <td>100.0</td>\n",
       "      <td>0.0</td>\n",
       "      <td>883.232625</td>\n",
       "      <td>1024.189809</td>\n",
       "      <td>126.763784</td>\n",
       "      <td>8.302959</td>\n",
       "      <td>76.248455</td>\n",
       "      <td>2995.904362</td>\n",
       "      <td>15000.0</td>\n",
       "    </tr>\n",
       "    <tr>\n",
       "      <th>1245</th>\n",
       "      <td>4253</td>\n",
       "      <td>SHP</td>\n",
       "      <td>9fac0d05-f96a-4410-8167-da3921aa22e8</td>\n",
       "      <td>41.533333</td>\n",
       "      <td>[-21129.833984375, 30467.09375]</td>\n",
       "      <td>30</td>\n",
       "      <td>-79.647843</td>\n",
       "      <td>[-19.120534896850586, 27.707582473754883]</td>\n",
       "      <td>-0.086855</td>\n",
       "      <td>[5190.890878668155, -14073.189115682335]</td>\n",
       "      <td>...</td>\n",
       "      <td>89.481949</td>\n",
       "      <td>100.0</td>\n",
       "      <td>0.0</td>\n",
       "      <td>962.245663</td>\n",
       "      <td>1015.196343</td>\n",
       "      <td>120.639502</td>\n",
       "      <td>33.664595</td>\n",
       "      <td>99.994369</td>\n",
       "      <td>2967.399306</td>\n",
       "      <td>15000.0</td>\n",
       "    </tr>\n",
       "    <tr>\n",
       "      <th>1401</th>\n",
       "      <td>4409</td>\n",
       "      <td>SHP</td>\n",
       "      <td>9fac0d05-f96a-4410-8167-da3921aa22e8</td>\n",
       "      <td>46.733333</td>\n",
       "      <td>[-21188.212890625, 30491.0625]</td>\n",
       "      <td>30</td>\n",
       "      <td>-80.896894</td>\n",
       "      <td>[-7.696033477783203, 14.496230125427246]</td>\n",
       "      <td>-0.639745</td>\n",
       "      <td>[4473.876583593596, -14317.277266113584]</td>\n",
       "      <td>...</td>\n",
       "      <td>70.648230</td>\n",
       "      <td>100.0</td>\n",
       "      <td>0.0</td>\n",
       "      <td>920.729114</td>\n",
       "      <td>963.893729</td>\n",
       "      <td>100.609589</td>\n",
       "      <td>16.412484</td>\n",
       "      <td>100.000000</td>\n",
       "      <td>2983.869687</td>\n",
       "      <td>15000.0</td>\n",
       "    </tr>\n",
       "  </tbody>\n",
       "</table>\n",
       "<p>29 rows × 74 columns</p>\n",
       "</div>"
      ],
      "text/plain": [
       "      index    p                                   eid         ts  \\\n",
       "1      3009  SHP  9fac0d05-f96a-4410-8167-da3921aa22e8   0.066667   \n",
       "4      3012  SHP  9fac0d05-f96a-4410-8167-da3921aa22e8   0.166667   \n",
       "12     3020  SHP  9fac0d05-f96a-4410-8167-da3921aa22e8   0.433333   \n",
       "20     3028  SHP  9fac0d05-f96a-4410-8167-da3921aa22e8   0.700000   \n",
       "28     3036  SHP  9fac0d05-f96a-4410-8167-da3921aa22e8   0.966667   \n",
       "36     3044  SHP  9fac0d05-f96a-4410-8167-da3921aa22e8   1.233333   \n",
       "41     3049  SHP  9fac0d05-f96a-4410-8167-da3921aa22e8   1.400000   \n",
       "44     3052  SHP  9fac0d05-f96a-4410-8167-da3921aa22e8   1.500000   \n",
       "52     3060  SHP  9fac0d05-f96a-4410-8167-da3921aa22e8   1.766667   \n",
       "60     3068  SHP  9fac0d05-f96a-4410-8167-da3921aa22e8   2.033333   \n",
       "63     3071  SHP  9fac0d05-f96a-4410-8167-da3921aa22e8   2.133333   \n",
       "66     3074  SHP  9fac0d05-f96a-4410-8167-da3921aa22e8   2.233333   \n",
       "96     3104  SHP  9fac0d05-f96a-4410-8167-da3921aa22e8   3.233333   \n",
       "222    3230  SHP  9fac0d05-f96a-4410-8167-da3921aa22e8   7.433333   \n",
       "231    3239  SHP  9fac0d05-f96a-4410-8167-da3921aa22e8   7.733333   \n",
       "264    3272  SHP  9fac0d05-f96a-4410-8167-da3921aa22e8   8.833333   \n",
       "267    3275  SHP  9fac0d05-f96a-4410-8167-da3921aa22e8   8.933333   \n",
       "270    3278  SHP  9fac0d05-f96a-4410-8167-da3921aa22e8   9.033333   \n",
       "273    3281  SHP  9fac0d05-f96a-4410-8167-da3921aa22e8   9.133333   \n",
       "276    3284  SHP  9fac0d05-f96a-4410-8167-da3921aa22e8   9.233333   \n",
       "279    3287  SHP  9fac0d05-f96a-4410-8167-da3921aa22e8   9.333333   \n",
       "282    3290  SHP  9fac0d05-f96a-4410-8167-da3921aa22e8   9.433333   \n",
       "627    3635  SHP  9fac0d05-f96a-4410-8167-da3921aa22e8  20.933333   \n",
       "780    3788  SHP  9fac0d05-f96a-4410-8167-da3921aa22e8  26.033333   \n",
       "930    3938  SHP  9fac0d05-f96a-4410-8167-da3921aa22e8  31.033333   \n",
       "1113   4121  SHP  9fac0d05-f96a-4410-8167-da3921aa22e8  37.133333   \n",
       "1200   4208  SHP  9fac0d05-f96a-4410-8167-da3921aa22e8  40.033333   \n",
       "1245   4253  SHP  9fac0d05-f96a-4410-8167-da3921aa22e8  41.533333   \n",
       "1401   4409  SHP  9fac0d05-f96a-4410-8167-da3921aa22e8  46.733333   \n",
       "\n",
       "                                      loc   r          a  \\\n",
       "1       [-21359.8046875, 30540.740234375]  30 -57.919110   \n",
       "4      [-21361.291015625, 30545.44140625]  30 -57.933679   \n",
       "12    [-21364.611328125, 30556.306640625]  30 -57.912530   \n",
       "20              [-21367.671875, 30567.25]  30 -57.784713   \n",
       "28      [-21370.4609375, 30578.228515625]  30 -57.550231   \n",
       "36          [-21372.96484375, 30589.1875]  30 -57.209081   \n",
       "41      [-21374.3984375, 30595.986328125]  30 -56.966696   \n",
       "44    [-21375.193359375, 30600.021484375]  30 -56.861265   \n",
       "52    [-21377.212890625, 30610.556640625]  30 -56.726782   \n",
       "60       [-21379.037109375, 30620.765625]  30 -56.805633   \n",
       "63      [-21379.6640625, 30624.505859375]  30 -56.890202   \n",
       "66     [-21380.33984375, 30628.189453125]  30 -57.004771   \n",
       "96     [-21390.57421875, 30662.837890625]  30 -58.879359   \n",
       "222           [-21150.51171875, 30732.75]  30 -56.652038   \n",
       "231    [-21082.943359375, 30730.24609375]  30 -56.684010   \n",
       "264     [-20840.294921875, 30718.6953125]  30 -58.332460   \n",
       "267      [-20818.546875, 30717.333984375]  30 -58.448983   \n",
       "270   [-20796.927734375, 30715.611328125]  30 -58.535507   \n",
       "273   [-20775.591796875, 30712.931640625]  30 -58.592030   \n",
       "276    [-20754.41015625, 30709.576171875]  30 -58.618554   \n",
       "279      [-20733.234375, 30706.146484375]  30 -58.615077   \n",
       "282    [-20712.05859375, 30702.642578125]  30 -58.581600   \n",
       "627     [-20676.9296875, 30641.837890625]  30 -61.577769   \n",
       "780    [-20969.45703125, 30642.611328125]  30 -61.577611   \n",
       "930      [-21100.28515625, 30641.4765625]  30 -68.075977   \n",
       "1113   [-21090.509765625, 30443.23828125]  30 -74.080643   \n",
       "1200  [-21116.912109375, 30464.837890625]  30 -78.915353   \n",
       "1245      [-21129.833984375, 30467.09375]  30 -79.647843   \n",
       "1401       [-21188.212890625, 30491.0625]  30 -80.896894   \n",
       "\n",
       "                                              v        av  \\\n",
       "1      [-16.02910041809082, 50.141746520996094] -0.245690   \n",
       "4       [-12.533207893371582, 40.7727165222168]  0.054310   \n",
       "12      [-11.58014965057373, 41.10374450683594]  0.454310   \n",
       "20     [-10.573969841003418, 41.29496765136719]  0.854310   \n",
       "28      [-9.520678520202637, 41.30107498168945]  1.254310   \n",
       "36      [-8.442233085632324, 41.03345489501953]  1.654311   \n",
       "41      [-8.151453971862793, 40.52231979370117]  1.154310   \n",
       "44      [-7.587891578674316, 40.02744674682617]  0.854310   \n",
       "52      [-6.861176013946533, 38.79323959350586]  0.054310   \n",
       "60       [-6.11170482635498, 37.59667205810547] -0.745690   \n",
       "63       [-6.576487064361572, 37.0080451965332] -1.045690   \n",
       "66      [-7.114217281341553, 36.48522186279297] -1.345690   \n",
       "96     [-13.65354061126709, 32.825592041015625] -1.167996   \n",
       "222     [226.1939239501953, -8.224906921386719]  0.026762   \n",
       "231    [224.01898193359375, -8.529765129089355] -0.273238   \n",
       "264    [217.5773468017578, -13.384960174560547] -1.265234   \n",
       "267   [217.26246643066406, -14.065657615661621] -0.965234   \n",
       "270    [214.0924835205078, -23.549922943115234] -0.665234   \n",
       "273     [211.85977172851562, -33.2974853515625] -0.365234   \n",
       "276     [211.7635498046875, -34.04128646850586] -0.065234   \n",
       "279   [211.73997497558594, -34.790916442871094]  0.234766   \n",
       "282    [211.78732299804688, -35.53942108154297]  0.534766   \n",
       "627     [-95.16404724121094, 35.00166320800781] -0.300000   \n",
       "780       [-44.4163818359375, 26.4249324798584] -0.458951   \n",
       "930   [-24.058305740356445, 20.138185501098633] -0.608999   \n",
       "1113  [-13.926053047180176, 20.408681869506836] -0.491098   \n",
       "1200    [-7.717984676361084, 3.061346054077148] -2.431888   \n",
       "1245  [-19.120534896850586, 27.707582473754883] -0.086855   \n",
       "1401   [-7.696033477783203, 14.496230125427246] -0.639745   \n",
       "\n",
       "                                               f  ...    angle.y _ada.x  \\\n",
       "1       [69917.83891058309, -187380.61746635847]  ... -97.999617  100.0   \n",
       "4      [-12646.902765345241, -8065.720702076344]  ... -98.279153  100.0   \n",
       "12     [-12625.308234486054, -8099.480970051022]  ... -97.866534  100.0   \n",
       "20      [-12611.621123057259, -8120.77660377725]  ... -94.449224  100.0   \n",
       "28     [-12603.427719897452, -8133.486934231865]  ... -84.231436  100.0   \n",
       "36     [-12596.797210666604, -8143.752208493455]  ... -61.344334  100.0   \n",
       "41       [11271.237958300268, -9897.43375261341]  ... -40.595927  100.0   \n",
       "44     [-12644.054128793709, -8070.185573339363]  ... -30.753100  100.0   \n",
       "52      [-12748.51392525422, -7904.137694751986]  ... -17.717411  100.0   \n",
       "60     [-9295.641712729173, -11772.469798159154]  ... -25.414633  100.0   \n",
       "63    [-10754.597915324754, -10456.511066301824]  ... -33.493281  100.0   \n",
       "66      [-12274.300265983295, -8622.15477595261]  ... -44.045273  100.0   \n",
       "96      [12966.579878128643, -7541.074609371626]  ... -72.490855  100.0   \n",
       "222   [-14459.453140961632, -3990.5156138442544]  ... -10.318645  100.0   \n",
       "231    [-14020.112120293416, -5332.584376679068]  ... -13.492900  100.0   \n",
       "264   [-6297.6591971536645, -13613.944639100964]  ... -97.740200  100.0   \n",
       "267    [-63399.39619922863, -189685.30929297933]  ... -94.619800  100.0   \n",
       "270    [-44654.36336314011, -194951.24475784364]  ... -91.469543  100.0   \n",
       "273    [-1924.438128316239, -14876.039052458913]  ... -89.040323  100.0   \n",
       "276   [-471.45367964927783, -14992.589216941324]  ... -87.801876  100.0   \n",
       "279     [946.7761742410144, -14970.090676942793]  ... -87.967746  100.0   \n",
       "282     [2286.280925808875, -14824.740116719837]  ... -89.510212  100.0   \n",
       "627    [10736.025127246505, -10475.579433479166]  ...  95.026464  100.0   \n",
       "780      [8420.933479360998, -12413.21390036348]  ...  95.031381  100.0   \n",
       "930        [6683.6935424642, -13428.63509931007]  ...  86.192894  100.0   \n",
       "1113     [5592.344965709827, -13918.53719988203]  ...  96.811174  100.0   \n",
       "1200   [2084.8043710570637, -14854.413173680787]  ...  36.677157  100.0   \n",
       "1245    [5190.890878668155, -14073.189115682335]  ...  89.481949  100.0   \n",
       "1401    [4473.876583593596, -14317.277266113584]  ...  70.648230  100.0   \n",
       "\n",
       "     _ada.y    o.ct_dist     o.t_dist  o.max_speed_cap       speed  \\\n",
       "1       0.0   547.231760   841.788876      3000.000000   52.641493   \n",
       "4       0.0   127.510839   836.878266       100.609589   42.655547   \n",
       "12      0.0   124.273730   825.574379       100.609589   42.703837   \n",
       "20      0.0   120.942675   814.301116       100.609589   42.627259   \n",
       "28      0.0   117.529877   803.104121       100.609589   42.384220   \n",
       "36      0.0   114.061267   792.040882       100.609589   41.892908   \n",
       "41      0.0   257.802381   785.227211       100.609589   41.334061   \n",
       "44      0.0   111.336454   781.206503       100.609589   40.740307   \n",
       "52      0.0   109.776121   770.735920       100.609589   39.395319   \n",
       "60      0.0   140.958829   760.649629       100.609589   38.090191   \n",
       "63      0.0   126.097047   756.972927       100.609589   37.587838   \n",
       "66      0.0   113.709385   753.329482       100.609589   37.172349   \n",
       "96      0.0   205.383011   717.512953       100.609589   35.551915   \n",
       "222     0.0   507.456771   791.770248       100.609589  226.343412   \n",
       "231     0.0   434.491420   840.565751       100.609589  224.181313   \n",
       "264     0.0   280.980888  1034.902494       100.609589  217.988667   \n",
       "267     0.0   274.614865  1053.491523       100.609589  217.717298   \n",
       "270     0.0   269.538222  1072.297166       100.609589  215.383821   \n",
       "273     0.0   268.275918  1091.503555       100.609589  214.460452   \n",
       "276     0.0   270.888872  1111.034507       100.609589  214.482191   \n",
       "279     0.0   276.532591  1130.670053       100.609589  214.579181   \n",
       "282     0.0   284.908135  1150.410129       100.609589  214.748506   \n",
       "627     0.0  1086.519697  1213.034874       337.990288  101.396806   \n",
       "780     0.0   878.829727   983.129121       170.770168   51.682609   \n",
       "930     0.0   813.643604   893.373609       100.609589   31.374330   \n",
       "1113    0.0   998.646418  1056.847434       148.076841   24.707271   \n",
       "1200    0.0   883.232625  1024.189809       126.763784    8.302959   \n",
       "1245    0.0   962.245663  1015.196343       120.639502   33.664595   \n",
       "1401    0.0   920.729114   963.893729       100.609589   16.412484   \n",
       "\n",
       "       o.t_speed  o._dv_speed     f_mag  \n",
       "1     153.358182  2947.419512  200000.0  \n",
       "4     100.000000  2988.925805   15000.0  \n",
       "12    100.000000  2987.831521   15000.0  \n",
       "20    100.000000  2986.807688   15000.0  \n",
       "28    100.000000  2985.870893   15000.0  \n",
       "36     92.285559  2985.067258   15000.0  \n",
       "41     97.675320  2967.242983   15000.0  \n",
       "44    100.000000  2985.100482   15000.0  \n",
       "52    100.000000  2985.613684   15000.0  \n",
       "60    100.000000  2974.413131   15000.0  \n",
       "63     95.596690  2979.079358   15000.0  \n",
       "66     91.388642  2985.042396   15000.0  \n",
       "96     82.554333  2971.772527   15000.0  \n",
       "222   100.000000    71.936400   15000.0  \n",
       "231   100.000000  2795.021117   15000.0  \n",
       "264   100.000000  2927.851891   15000.0  \n",
       "267   100.000000  2951.984590  200000.0  \n",
       "270   100.000000  2982.837221  200000.0  \n",
       "273   100.000000  3013.476854   15000.0  \n",
       "276   100.000000  3034.833560   15000.0  \n",
       "279   100.000000  3055.251485   15000.0  \n",
       "282   100.000000  3074.173730   15000.0  \n",
       "627   130.351705  2907.738434   15000.0  \n",
       "780   105.411323  2953.278314   15000.0  \n",
       "930    96.942276  2971.278121   15000.0  \n",
       "1113  107.260935  2975.875524   15000.0  \n",
       "1200   76.248455  2995.904362   15000.0  \n",
       "1245   99.994369  2967.399306   15000.0  \n",
       "1401  100.000000  2983.869687   15000.0  \n",
       "\n",
       "[29 rows x 74 columns]"
      ]
     },
     "execution_count": 41,
     "metadata": {},
     "output_type": "execute_result"
    }
   ],
   "source": [
    "df[(df[\"o.ct_dv.x\"]-df[\"o.ct_dv.x\"].shift(1)).abs() > 250]"
   ]
  },
  {
   "cell_type": "markdown",
   "id": "785ce89f",
   "metadata": {},
   "source": [
    "## Nearest Neighbors"
   ]
  },
  {
   "cell_type": "code",
   "execution_count": 42,
   "id": "03a6b3aa",
   "metadata": {},
   "outputs": [
    {
     "data": {
      "application/vnd.jupyter.widget-view+json": {
       "model_id": "0f13c40630c44257a193d3f4c2907429",
       "version_major": 2,
       "version_minor": 0
      },
      "text/plain": [
       "interactive(children=(FloatSlider(value=15.0, continuous_update=False, description='hist_length', max=49.93333…"
      ]
     },
     "metadata": {},
     "output_type": "display_data"
    },
    {
     "data": {
      "text/plain": [
       "<function __main__.plot_neighborhood_size(hist_length, max_time)>"
      ]
     },
     "execution_count": 42,
     "metadata": {},
     "output_type": "execute_result"
    }
   ],
   "source": [
    "neighborhood_radius = 5e4\n",
    "def plot_neighborhood_size(hist_length, max_time):\n",
    "    sample = df[(df[\"ts\"] >= max_time - hist_length) & (df[\"ts\"] <= max_time)]\n",
    "    plt.scatter(sample[\"ts\"], sample[\"o.nd\"]*np.pi*neighborhood_radius**2)\n",
    "    plt.title(\"neighborhood size (10km^2)\")\n",
    "    plt.show()\n",
    "\n",
    "ipywidgets.interact(\n",
    "    plot_neighborhood_size,\n",
    "    hist_length=ipywidgets.FloatSlider(value=15, min=0, max=df[\"ts\"].max()-df[\"ts\"].min(), continuous_update=False),\n",
    "    max_time=ipywidgets.FloatSlider(value=df[\"ts\"].max(), min=df[\"ts\"].min(), max=df[\"ts\"].max()+.1, continuous_update=False))"
   ]
  },
  {
   "cell_type": "code",
   "execution_count": 43,
   "id": "139c049e",
   "metadata": {},
   "outputs": [
    {
     "data": {
      "application/vnd.jupyter.widget-view+json": {
       "model_id": "a13438dd6a774ccc80ccd190fcf24e9a",
       "version_major": 2,
       "version_minor": 0
      },
      "text/plain": [
       "interactive(children=(FloatSlider(value=15.0, continuous_update=False, description='hist_length', max=49.93333…"
      ]
     },
     "metadata": {},
     "output_type": "display_data"
    },
    {
     "data": {
      "text/plain": [
       "<function __main__.plot_nearest_neighbor(hist_length, max_time)>"
      ]
     },
     "execution_count": 43,
     "metadata": {},
     "output_type": "execute_result"
    }
   ],
   "source": [
    "def plot_nearest_neighbor(hist_length, max_time):\n",
    "    sample = df[(df[\"ts\"] >= max_time - hist_length) & (df[\"ts\"] <= max_time)]\n",
    "    plt.scatter(sample[\"ts\"], sample[\"o.nnd\"], label=\"nearest neighbor dist\")\n",
    "    plt.scatter(sample[\"ts\"], sample[\"o.scm\"], label=\"desired margin\")\n",
    "    plt.title(\"nearest neighor dist\")\n",
    "    plt.legend()\n",
    "    plt.show()\n",
    "    print(f'min dist {sample[\"o.nnd\"].min()}')\n",
    "\n",
    "ipywidgets.interact(\n",
    "    plot_nearest_neighbor,\n",
    "    hist_length=ipywidgets.FloatSlider(value=15, min=0, max=df[\"ts\"].max()-df[\"ts\"].min(), continuous_update=False),\n",
    "    max_time=ipywidgets.FloatSlider(value=df[\"ts\"].max(), min=df[\"ts\"].min(), max=df[\"ts\"].max()+.1, continuous_update=False))"
   ]
  },
  {
   "cell_type": "code",
   "execution_count": 44,
   "id": "a89ffef7",
   "metadata": {},
   "outputs": [],
   "source": [
    "# \n",
    "# Smallest enclosing circle - Library (Python)\n",
    "# \n",
    "# Copyright (c) 2020 Project Nayuki\n",
    "# https://www.nayuki.io/page/smallest-enclosing-circle\n",
    "# \n",
    "# This program is free software: you can redistribute it and/or modify\n",
    "# it under the terms of the GNU Lesser General Public License as published by\n",
    "# the Free Software Foundation, either version 3 of the License, or\n",
    "# (at your option) any later version.\n",
    "# \n",
    "# This program is distributed in the hope that it will be useful,\n",
    "# but WITHOUT ANY WARRANTY; without even the implied warranty of\n",
    "# MERCHANTABILITY or FITNESS FOR A PARTICULAR PURPOSE.  See the\n",
    "# GNU Lesser General Public License for more details.\n",
    "# \n",
    "# You should have received a copy of the GNU Lesser General Public License\n",
    "# along with this program (see COPYING.txt and COPYING.LESSER.txt).\n",
    "# If not, see <http://www.gnu.org/licenses/>.\n",
    "# \n",
    "\n",
    "import math, random\n",
    "\n",
    "\n",
    "# Data conventions: A point is a pair of floats (x, y). A circle is a triple of floats (center x, center y, radius).\n",
    "\n",
    "# Returns the smallest circle that encloses all the given points. Runs in expected O(n) time, randomized.\n",
    "# Input: A sequence of pairs of floats or ints, e.g. [(0,5), (3.1,-2.7)].\n",
    "# Output: A triple of floats representing a circle.\n",
    "# Note: If 0 points are given, None is returned. If 1 point is given, a circle of radius 0 is returned.\n",
    "# \n",
    "# Initially: No boundary points known\n",
    "def make_circle(points):\n",
    "\t# Convert to float and randomize order\n",
    "\tshuffled = [(float(x), float(y)) for (x, y) in points]\n",
    "\trandom.shuffle(shuffled)\n",
    "\t\n",
    "\t# Progressively add points to circle or recompute circle\n",
    "\tc = None\n",
    "\tfor (i, p) in enumerate(shuffled):\n",
    "\t\tif c is None or not is_in_circle(c, p):\n",
    "\t\t\tc = _make_circle_one_point(shuffled[ : i + 1], p)\n",
    "\treturn c\n",
    "\n",
    "\n",
    "# One boundary point known\n",
    "def _make_circle_one_point(points, p):\n",
    "\tc = (p[0], p[1], 0.0)\n",
    "\tfor (i, q) in enumerate(points):\n",
    "\t\tif not is_in_circle(c, q):\n",
    "\t\t\tif c[2] == 0.0:\n",
    "\t\t\t\tc = make_diameter(p, q)\n",
    "\t\t\telse:\n",
    "\t\t\t\tc = _make_circle_two_points(points[ : i + 1], p, q)\n",
    "\treturn c\n",
    "\n",
    "\n",
    "# Two boundary points known\n",
    "def _make_circle_two_points(points, p, q):\n",
    "\tcirc = make_diameter(p, q)\n",
    "\tleft  = None\n",
    "\tright = None\n",
    "\tpx, py = p\n",
    "\tqx, qy = q\n",
    "\t\n",
    "\t# For each point not in the two-point circle\n",
    "\tfor r in points:\n",
    "\t\tif is_in_circle(circ, r):\n",
    "\t\t\tcontinue\n",
    "\t\t\n",
    "\t\t# Form a circumcircle and classify it on left or right side\n",
    "\t\tcross = _cross_product(px, py, qx, qy, r[0], r[1])\n",
    "\t\tc = make_circumcircle(p, q, r)\n",
    "\t\tif c is None:\n",
    "\t\t\tcontinue\n",
    "\t\telif cross > 0.0 and (left is None or _cross_product(px, py, qx, qy, c[0], c[1]) > _cross_product(px, py, qx, qy, left[0], left[1])):\n",
    "\t\t\tleft = c\n",
    "\t\telif cross < 0.0 and (right is None or _cross_product(px, py, qx, qy, c[0], c[1]) < _cross_product(px, py, qx, qy, right[0], right[1])):\n",
    "\t\t\tright = c\n",
    "\t\n",
    "\t# Select which circle to return\n",
    "\tif left is None and right is None:\n",
    "\t\treturn circ\n",
    "\telif left is None:\n",
    "\t\treturn right\n",
    "\telif right is None:\n",
    "\t\treturn left\n",
    "\telse:\n",
    "\t\treturn left if (left[2] <= right[2]) else right\n",
    "\n",
    "\n",
    "def make_diameter(a, b):\n",
    "\tcx = (a[0] + b[0]) / 2\n",
    "\tcy = (a[1] + b[1]) / 2\n",
    "\tr0 = math.hypot(cx - a[0], cy - a[1])\n",
    "\tr1 = math.hypot(cx - b[0], cy - b[1])\n",
    "\treturn (cx, cy, max(r0, r1))\n",
    "\n",
    "\n",
    "def make_circumcircle(a, b, c):\n",
    "\t# Mathematical algorithm from Wikipedia: Circumscribed circle\n",
    "\tox = (min(a[0], b[0], c[0]) + max(a[0], b[0], c[0])) / 2\n",
    "\toy = (min(a[1], b[1], c[1]) + max(a[1], b[1], c[1])) / 2\n",
    "\tax = a[0] - ox;  ay = a[1] - oy\n",
    "\tbx = b[0] - ox;  by = b[1] - oy\n",
    "\tcx = c[0] - ox;  cy = c[1] - oy\n",
    "\td = (ax * (by - cy) + bx * (cy - ay) + cx * (ay - by)) * 2.0\n",
    "\tif d == 0.0:\n",
    "\t\treturn None\n",
    "\tx = ox + ((ax*ax + ay*ay) * (by - cy) + (bx*bx + by*by) * (cy - ay) + (cx*cx + cy*cy) * (ay - by)) / d\n",
    "\ty = oy + ((ax*ax + ay*ay) * (cx - bx) + (bx*bx + by*by) * (ax - cx) + (cx*cx + cy*cy) * (bx - ax)) / d\n",
    "\tra = math.hypot(x - a[0], y - a[1])\n",
    "\trb = math.hypot(x - b[0], y - b[1])\n",
    "\trc = math.hypot(x - c[0], y - c[1])\n",
    "\treturn (x, y, max(ra, rb, rc))\n",
    "\n",
    "\n",
    "_MULTIPLICATIVE_EPSILON = 1 + 1e-14\n",
    "\n",
    "def is_in_circle(c, p):\n",
    "\treturn c is not None and math.hypot(p[0] - c[0], p[1] - c[1]) <= c[2] * _MULTIPLICATIVE_EPSILON\n",
    "\n",
    "\n",
    "# Returns twice the signed area of the triangle defined by (x0, y0), (x1, y1), (x2, y2).\n",
    "def _cross_product(x0, y0, x1, y1, x2, y2):\n",
    "\treturn (x1 - x0) * (y2 - y0) - (y1 - y0) * (x2 - x0)"
   ]
  },
  {
   "cell_type": "code",
   "execution_count": 45,
   "id": "2d2731c1",
   "metadata": {},
   "outputs": [
    {
     "data": {
      "application/vnd.jupyter.widget-view+json": {
       "model_id": "2c4763c5079e4452a47a2de31a9673b0",
       "version_major": 2,
       "version_minor": 0
      },
      "text/plain": [
       "interactive(children=(FloatSlider(value=15.0, continuous_update=False, description='hist_length', max=49.93333…"
      ]
     },
     "metadata": {},
     "output_type": "display_data"
    },
    {
     "data": {
      "text/plain": [
       "<function __main__.plot_radius_comparison(hist_length, max_time)>"
      ]
     },
     "execution_count": 45,
     "metadata": {},
     "output_type": "execute_result"
    }
   ],
   "source": [
    "def plot_radius_comparison(hist_length, max_time):\n",
    "    sample = df[(df[\"ts\"] >= max_time - hist_length) & (df[\"ts\"] <= max_time)]\n",
    "    foo = sample[\"o.ct_cn\"].apply(lambda x: np.nan if isinstance(x, float) else make_circle(x)[2]+30)\n",
    "    plt.scatter(sample[\"ts\"], sample[\"o.ct_cradius\"], label=\"threat radius\")\n",
    "    plt.scatter(sample[\"ts\"], sample[\"o.scm\"], label=\"threat radius\")\n",
    "    plt.scatter(sample[\"ts\"], foo, label=\"min radius\", marker=\"x\")\n",
    "    plt.legend()\n",
    "    plt.title(\"cradius vs smallest enclosing radius\")\n",
    "    plt.show()\n",
    "\n",
    "ipywidgets.interact(\n",
    "    plot_radius_comparison,\n",
    "    hist_length=ipywidgets.FloatSlider(value=15, min=0, max=df[\"ts\"].max()-df[\"ts\"].min(), continuous_update=False),\n",
    "    max_time=ipywidgets.FloatSlider(value=df[\"ts\"].max(), min=df[\"ts\"].min(), max=df[\"ts\"].max()+.1, continuous_update=False))"
   ]
  },
  {
   "cell_type": "markdown",
   "id": "12a7d799",
   "metadata": {},
   "source": [
    "# History Visualization"
   ]
  },
  {
   "cell_type": "markdown",
   "id": "e7b61368",
   "metadata": {},
   "source": [
    "## Position and Velocity"
   ]
  },
  {
   "cell_type": "code",
   "execution_count": 46,
   "id": "05fc6ec3",
   "metadata": {
    "scrolled": false
   },
   "outputs": [
    {
     "data": {
      "application/vnd.jupyter.widget-view+json": {
       "model_id": "191ff9f46cbc4adbbc9af2d367f1a3ec",
       "version_major": 2,
       "version_minor": 0
      },
      "text/plain": [
       "interactive(children=(FloatSlider(value=15.0, continuous_update=False, description='hist_length', max=49.93333…"
      ]
     },
     "metadata": {},
     "output_type": "display_data"
    },
    {
     "data": {
      "text/plain": [
       "<function __main__.plot_collision_chart(hist_length=49.96666666666639, max_time=49.96666666666639, sampling_interval=50, show_tloc=True, show_tv=True, show_ctdv=True, show_v=True, show_cn=True, show_all_cts=True)>"
      ]
     },
     "execution_count": 46,
     "metadata": {},
     "output_type": "execute_result"
    }
   ],
   "source": [
    "def plot_collision_chart(hist_length=df[\"ts\"].max(), max_time=df[\"ts\"].max(), sampling_interval=50, show_tloc=True, show_tv=True, show_ctdv=True, show_v=True, show_cn=True, show_all_cts=True):\n",
    "    plt.figure(figsize=(10, 10))\n",
    "    sample = df[(df[\"ts\"] >= max_time - hist_length) & (df[\"ts\"] <= max_time)].iloc[::sampling_interval]\n",
    "    scale = None\n",
    "    if show_v:\n",
    "        q = plt.quiver(sample[\"loc.x\"], sample[\"loc.y\"], sample[\"v.x\"], sample[\"v.y\"], scale=scale, units=\"inches\", label=\"v\")\n",
    "        q._init()\n",
    "        scale = q.scale\n",
    "    ctdv_df = sample[~(sample[\"o.ct_dv\"].isna())]\n",
    "    if show_ctdv:\n",
    "        q = plt.quiver(ctdv_df[\"loc.x\"], ctdv_df[\"loc.y\"], ctdv_df[\"o.ct_dv.x\"], ctdv_df[\"o.ct_dv.y\"], scale=scale, units=\"inches\", label=\"ctdv\", color=\"orange\")\n",
    "        q._init()\n",
    "        scale = q.scale\n",
    "    if show_tv:\n",
    "        q = plt.quiver(sample[\"loc.x\"], sample[\"loc.y\"], sample[\"o.t_v.x\"], sample[\"o.t_v.y\"], scale=scale, units=\"inches\", label=\"tv\", color=\"purple\")\n",
    "        q._init()\n",
    "        scale = q.scale\n",
    "    \n",
    "    \n",
    "    if show_all_cts:\n",
    "        ctv_df = sample\n",
    "    else:\n",
    "        ctv_df = sample[sample[\"o.ct\"] == sample.iloc[-1][\"o.ct\"]]\n",
    "    q = plt.quiver(ctv_df[\"o.ct_loc.x\"], ctv_df[\"o.ct_loc.y\"], ctv_df[\"o.ct_v.x\"], ctv_df[\"o.ct_v.y\"], scale=scale, units=\"inches\", label=\"ctv\", color=\"cyan\")\n",
    "    q._init()\n",
    "    scale = q.scale\n",
    "    \n",
    "    if show_all_cts:\n",
    "        cts = df[\"o.ct\"].unique()\n",
    "    else:\n",
    "        cts = [sample.iloc[-1][\"o.ct\"]]\n",
    "        \n",
    "    cmap = plt.get_cmap('viridis')\n",
    "    for x, c in zip(cts, cmap(np.linspace(0, 1, len(cts)))):\n",
    "        if not isinstance(x, str):\n",
    "            continue\n",
    "        ct = sample[sample[\"o.ct\"] == x]\n",
    "        if len(ct) == 0:\n",
    "            continue\n",
    "        plt.scatter(ct[\"o.ct_loc.x\"], ct[\"o.ct_loc.y\"], color=c, label=x[:8])\n",
    "        \n",
    "        t_next = 10\n",
    "        x, y = ct.iloc[-1][\"o.ct_loc.x\"], ct.iloc[-1][\"o.ct_loc.y\"]\n",
    "        x_next, y_next = ct.iloc[-1][\"o.ct_loc.x\"]+ct.iloc[-1][\"o.ct_v.x\"]*t_next, ct.iloc[-1][\"o.ct_loc.y\"]+ct.iloc[-1][\"o.ct_v.y\"]*t_next\n",
    "        if not np.allclose((x, y), (x_next, y_next)):\n",
    "            plt.axline((x,y),(x_next,y_next), marker = 'x', color=c, dashes=[2,2])\n",
    "    \n",
    "    cloc_df = sample#[~(sample[\"o.ct_cloc\"].isna())]\n",
    "    if not isinstance(cloc_df.iloc[-1][\"o.ct\"], float):\n",
    "        cloc_x = cloc_df.iloc[-1][\"o.ct_cloc.x\"]\n",
    "        cloc_y = cloc_df.iloc[-1][\"o.ct_cloc.y\"]\n",
    "        cradius = cloc_df.iloc[-1][\"o.ct_cradius\"]\n",
    "        cmargin = cloc_df.iloc[-1].get([\"o.scm\"],500)\n",
    "        threat_radius = plt.Circle((cloc_x, cloc_y), cradius, color=\"red\", fill=False)\n",
    "        margin = plt.Circle((cloc_x, cloc_y), cradius+cmargin, color=\"orange\", fill=False)\n",
    "        margin_hist = plt.Circle((cloc_x, cloc_y), cradius+cmargin*2, color=\"green\", fill=False)\n",
    "        plt.gca().add_patch(threat_radius)\n",
    "        plt.gca().add_patch(margin)\n",
    "        plt.gca().add_patch(margin_hist)\n",
    "        print(f'{cradius=}')\n",
    "        \n",
    "        if show_cn:\n",
    "            cn_x, cn_y = list(zip(*cloc_df.iloc[-1][\"o.ct_cn\"]))\n",
    "            plt.scatter(cn_x, cn_y, label=\"ct_cnloc\", marker=\"+\", color=\"pink\")\n",
    "    \n",
    "    if show_tloc and not all(sample[\"o.t_loc.x\"].isna()):\n",
    "        plt.scatter(sample[\"o.t_loc.x\"], sample[\"o.t_loc.y\"], label=\"t_loc\", marker=\"x\")\n",
    "        for ((tloc_x, tloc_y), ad, md) in sample.groupby([\"o.t_loc.x\", \"o.t_loc.y\"]).agg({\"o.t_loc\": \"min\", \"o.ad\":\"min\", \"o.md\":\"min\"}).values:\n",
    "            arrival_dist = plt.Circle((tloc_x, tloc_y), ad, color=\"green\", fill=False)\n",
    "            nearby_dist = plt.Circle((tloc_x, tloc_y), ad*5, color=\"green\", ls=\"--\", fill=False)\n",
    "            min_dist = plt.Circle((tloc_x, tloc_y), md, color=\"red\", fill=False)\n",
    "            plt.gca().add_patch(arrival_dist)\n",
    "            plt.gca().add_patch(nearby_dist)\n",
    "            plt.gca().add_patch(min_dist)\n",
    "            \n",
    "    t_next = hist_length\n",
    "    x, y = sample.iloc[-1][\"loc.x\"], sample.iloc[-1][\"loc.y\"]\n",
    "    x_next, y_next = sample.iloc[-1][\"loc.x\"]+sample.iloc[-1][\"v.x\"]*t_next, sample.iloc[-1][\"loc.y\"]+sample.iloc[-1][\"v.y\"]*t_next\n",
    "    if not np.allclose((x, y), (x_next, y_next)):\n",
    "        plt.axline((x,y),(x_next,y_next),marker = 'o')\n",
    "    \n",
    "    plt.axis('equal')\n",
    "    #center = (-72000, -50000)\n",
    "    #radius = 20000\n",
    "    #plt.xlim(center[0]-radius,center[0]+radius)\n",
    "    #plt.ylim(center[1]-radius,center[1]+radius)\n",
    "\n",
    "    plt.legend()\n",
    "    plt.show()\n",
    "    \n",
    "ipywidgets.interact(\n",
    "    plot_collision_chart,\n",
    "    hist_length=ipywidgets.FloatSlider(value=15, min=0, max=df[\"ts\"].max()-df[\"ts\"].min(), continuous_update=False),\n",
    "    max_time=ipywidgets.FloatSlider(step=1/60, value=df[\"ts\"].max()+1/60, min=df[\"ts\"].min(), max=df[\"ts\"].max()+1/60, continuous_update=False),\n",
    "    sampling_interval=ipywidgets.IntSlider(value=2, min=1, max=100, continuous_update=False),\n",
    "    show_tloc=ipywidgets.Checkbox(value=True),\n",
    "    show_tv=ipywidgets.Checkbox(value=True),\n",
    "    show_ctdv=ipywidgets.Checkbox(value=True),\n",
    "    show_v=ipywidgets.Checkbox(value=True),\n",
    "    show_cn=ipywidgets.Checkbox(value=True),\n",
    "    show_all_cts=ipywidgets.Checkbox(value=True),\n",
    ")"
   ]
  },
  {
   "cell_type": "markdown",
   "id": "6e5e3aad",
   "metadata": {},
   "source": [
    "## Position and Heading"
   ]
  },
  {
   "cell_type": "code",
   "execution_count": 47,
   "id": "2f7475c2",
   "metadata": {
    "scrolled": false
   },
   "outputs": [
    {
     "data": {
      "application/vnd.jupyter.widget-view+json": {
       "model_id": "d67405bc3aea4cb0b0702a2998e9e9de",
       "version_major": 2,
       "version_minor": 0
      },
      "text/plain": [
       "interactive(children=(FloatSlider(value=15.0, continuous_update=False, description='hist_length', max=49.93333…"
      ]
     },
     "metadata": {},
     "output_type": "display_data"
    },
    {
     "data": {
      "text/plain": [
       "<function __main__.plot_collision_chart(hist_length=49.96666666666639, max_time=49.96666666666639)>"
      ]
     },
     "execution_count": 47,
     "metadata": {},
     "output_type": "execute_result"
    }
   ],
   "source": [
    "def plot_collision_chart(hist_length=df[\"ts\"].max(), max_time=df[\"ts\"].max()):\n",
    "    sample = df[(df[\"ts\"] >= max_time - hist_length) & (df[\"ts\"] <= max_time)]#.iloc[::30]\n",
    "   \n",
    "    plt.figure(figsize=(10, 10))\n",
    "    plt.quiver(sample[\"loc.x\"], sample[\"loc.y\"], sample[\"angle.x\"], sample[\"angle.y\"], label=\"heading\")\n",
    "    plt.quiver(sample[\"loc.x\"], sample[\"loc.y\"], sample[\"_ada.x\"], sample[\"_ada.y\"], label=\"acceleration heading\", color=\"cyan\")\n",
    "    ctdv_df = sample[~(sample[\"o.ct_dv\"].isna())]\n",
    "    #plt.quiver(ctdv_df[\"loc.x\"], ctdv_df[\"loc.y\"], ctdv_df[\"o.ct_dv.x\"], ctdv_df[\"o.ct_dv.y\"], label=\"ctdv\", color=\"orange\")\n",
    "    #plt.quiver(sample[\"loc.x\"], sample[\"loc.y\"], sample[\"o.t_v.x\"], sample[\"o.t_v.y\"], label=\"tv\", color=\"purple\")\n",
    "    cmap = plt.get_cmap('viridis')\n",
    "    #for x, c in zip(df[\"o.ct\"].unique(), cmap(np.linspace(0, 1, len(sample[\"o.ct\"].unique())))):\n",
    "    #    print(x)\n",
    "    #    if not isinstance(x, str):\n",
    "    #        continue\n",
    "    #    ct = sample[sample[\"o.ct\"] == x]\n",
    "    #    plt.scatter(ct[\"o.ct_loc.x\"], ct[\"o.ct_loc.y\"], color=c, label=x[:8])\n",
    "    #plt.scatter(sample[\"o.t_loc.x\"], sample[\"o.t_loc.y\"], label=\"t_loc\")\n",
    "    #plt.axis('square')\n",
    "    #center = (-33555, -5000)\n",
    "    #radius = 15000\n",
    "    #plt.xlim(center[0]-radius,center[0]+radius)\n",
    "    #plt.ylim(center[1]-radius,center[1]+radius)\n",
    "    \n",
    "    print(sample[\"ts\"].min())\n",
    "    print(sample[\"ts\"].max())\n",
    "    print((sample[\"ts\"].max() - sample[\"ts\"].min())/(1/60))\n",
    "    \n",
    "    plt.legend()\n",
    "    plt.axis('equal')\n",
    "    plt.show()\n",
    "    \n",
    "ipywidgets.interact(plot_collision_chart, hist_length=ipywidgets.FloatSlider(value=15, min=0, max=df[\"ts\"].max()-df[\"ts\"].min(), continuous_update=False), max_time=ipywidgets.FloatSlider(value=df[\"ts\"].max(), min=df[\"ts\"].min(), max=df[\"ts\"].max(), continuous_update=False))"
   ]
  },
  {
   "cell_type": "code",
   "execution_count": 48,
   "id": "369a3889",
   "metadata": {},
   "outputs": [
    {
     "data": {
      "text/html": [
       "<div>\n",
       "<style scoped>\n",
       "    .dataframe tbody tr th:only-of-type {\n",
       "        vertical-align: middle;\n",
       "    }\n",
       "\n",
       "    .dataframe tbody tr th {\n",
       "        vertical-align: top;\n",
       "    }\n",
       "\n",
       "    .dataframe thead th {\n",
       "        text-align: right;\n",
       "    }\n",
       "</style>\n",
       "<table border=\"1\" class=\"dataframe\">\n",
       "  <thead>\n",
       "    <tr style=\"text-align: right;\">\n",
       "      <th></th>\n",
       "      <th>ts</th>\n",
       "      <th>o._ada</th>\n",
       "      <th>o.ct</th>\n",
       "    </tr>\n",
       "  </thead>\n",
       "  <tbody>\n",
       "    <tr>\n",
       "      <th>27</th>\n",
       "      <td>0.933333</td>\n",
       "      <td>0.0</td>\n",
       "      <td>95e4bb49-b0ba-4fc7-9343-e2f789f33397</td>\n",
       "    </tr>\n",
       "    <tr>\n",
       "      <th>28</th>\n",
       "      <td>0.966667</td>\n",
       "      <td>0.0</td>\n",
       "      <td>95e4bb49-b0ba-4fc7-9343-e2f789f33397</td>\n",
       "    </tr>\n",
       "    <tr>\n",
       "      <th>29</th>\n",
       "      <td>1.000000</td>\n",
       "      <td>0.0</td>\n",
       "      <td>NaN</td>\n",
       "    </tr>\n",
       "  </tbody>\n",
       "</table>\n",
       "</div>"
      ],
      "text/plain": [
       "          ts  o._ada                                  o.ct\n",
       "27  0.933333     0.0  95e4bb49-b0ba-4fc7-9343-e2f789f33397\n",
       "28  0.966667     0.0  95e4bb49-b0ba-4fc7-9343-e2f789f33397\n",
       "29  1.000000     0.0                                   NaN"
      ]
     },
     "execution_count": 48,
     "metadata": {},
     "output_type": "execute_result"
    }
   ],
   "source": [
    "df[(df[\"ts\"] > 0.9)& (df[\"ts\"]<1)][[\"ts\", \"o._ada\", \"o.ct\"]]#.apply(lambda x: util.normalize_angle(x, shortest=True))"
   ]
  },
  {
   "cell_type": "code",
   "execution_count": 49,
   "id": "7b74a956",
   "metadata": {},
   "outputs": [
    {
     "data": {
      "text/plain": [
       "27   -1.040040\n",
       "28   -1.001563\n",
       "29   -0.959752\n",
       "Name: a, dtype: float64"
      ]
     },
     "execution_count": 49,
     "metadata": {},
     "output_type": "execute_result"
    }
   ],
   "source": [
    "df[(df[\"ts\"] > 0.9)& (df[\"ts\"]<1)][\"a\"].apply(lambda x: util.normalize_angle(x, shortest=True))"
   ]
  }
 ],
 "metadata": {
  "kernelspec": {
   "display_name": "Python 3 (ipykernel)",
   "language": "python",
   "name": "python3"
  },
  "language_info": {
   "codemirror_mode": {
    "name": "ipython",
    "version": 3
   },
   "file_extension": ".py",
   "mimetype": "text/x-python",
   "name": "python",
   "nbconvert_exporter": "python",
   "pygments_lexer": "ipython3",
   "version": "3.10.7"
  },
  "toc": {
   "base_numbering": 1,
   "nav_menu": {},
   "number_sections": true,
   "sideBar": true,
   "skip_h1_title": false,
   "title_cell": "Table of Contents",
   "title_sidebar": "Contents",
   "toc_cell": false,
   "toc_position": {},
   "toc_section_display": true,
   "toc_window_display": false
  }
 },
 "nbformat": 4,
 "nbformat_minor": 5
}
