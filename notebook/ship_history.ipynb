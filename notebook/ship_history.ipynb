{
 "cells": [
  {
   "cell_type": "code",
   "execution_count": 1,
   "id": "3bc23758",
   "metadata": {},
   "outputs": [],
   "source": [
    "import json\n",
    "\n",
    "import pandas as pd\n",
    "import numpy as np\n",
    "from matplotlib import pyplot as plt\n",
    "import ipywidgets\n",
    "\n",
    "from stellarpunk import util"
   ]
  },
  {
   "cell_type": "markdown",
   "id": "87cccd16",
   "metadata": {},
   "source": [
    "# Loading and Preparing Data"
   ]
  },
  {
   "cell_type": "code",
   "execution_count": 2,
   "id": "d17f6c94",
   "metadata": {},
   "outputs": [],
   "source": [
    "df_base = pd.read_json(\"/tmp/stellarpunk_test.test_basic_collision_avoidance.history.gz\", lines=True)\n",
    "df_base = df_base.join(pd.json_normalize(df_base[\"o\"]).add_prefix(\"o.\"))"
   ]
  },
  {
   "cell_type": "code",
   "execution_count": 3,
   "id": "c166b2cb",
   "metadata": {},
   "outputs": [
    {
     "data": {
      "text/plain": [
       "0    ebe28c7f-c42e-43af-8a04-84ebcc3da68d\n",
       "1    1148fcd5-c5d2-4f45-8682-a93b03e3ab4a\n",
       "dtype: object"
      ]
     },
     "execution_count": 3,
     "metadata": {},
     "output_type": "execute_result"
    }
   ],
   "source": [
    "eids = pd.Series(df_base[\"eid\"].unique())\n",
    "eids"
   ]
  },
  {
   "cell_type": "code",
   "execution_count": 4,
   "id": "48e451ec",
   "metadata": {},
   "outputs": [
    {
     "data": {
      "text/plain": [
       "Series([], dtype: object)"
      ]
     },
     "execution_count": 4,
     "metadata": {},
     "output_type": "execute_result"
    }
   ],
   "source": [
    "eids[pd.Series(df_base[\"eid\"].unique()).str.startswith(\"1aec\")]"
   ]
  },
  {
   "cell_type": "code",
   "execution_count": 5,
   "id": "5946dd49",
   "metadata": {},
   "outputs": [
    {
     "data": {
      "text/plain": [
       "array(['ebe28c7f-c42e-43af-8a04-84ebcc3da68d'], dtype=object)"
      ]
     },
     "execution_count": 5,
     "metadata": {},
     "output_type": "execute_result"
    }
   ],
   "source": [
    "target_eid = df_base[\"eid\"].unique()[0]\n",
    "df_base = df_base[df_base[\"eid\"] == target_eid].reset_index()\n",
    "df_base[\"eid\"].unique()"
   ]
  },
  {
   "cell_type": "code",
   "execution_count": 6,
   "id": "35e21006",
   "metadata": {},
   "outputs": [],
   "source": [
    "loc = pd.DataFrame(np.vstack(df_base[\"loc\"]), columns=[\"loc.x\", \"loc.y\"])\n",
    "v = pd.DataFrame(np.vstack(df_base[\"v\"]), columns=[\"v.x\", \"v.y\"])\n",
    "\n",
    "empty_array = np.empty(len(df_base))\n",
    "empty_array[:] = np.nan\n",
    "\n",
    "if \"o.t_loc\" in df_base:\n",
    "    o_tloc = pd.DataFrame(np.vstack(df_base[\"o.t_loc\"].apply(lambda x: (np.nan, np.nan) if np.all(np.isnan(x)) else x)), columns=[\"o.t_loc.x\", \"o.t_loc.y\"])\n",
    "    o_tv = pd.DataFrame(np.vstack(df_base[\"o.t_v\"].apply(lambda x: (np.nan, np.nan) if np.all(np.isnan(x)) else x)), columns=[\"o.t_v.x\", \"o.t_v.y\"])\n",
    "else:\n",
    "    o_tloc = pd.DataFrame({\"o.t_loc\": empty_array, \"o.t_loc.x\": empty_array, \"o.t_loc.y\": empty_array})\n",
    "    o_tv = pd.DataFrame({\"o.t_v\": empty_array, \"o.t_v.x\": empty_array, \"o.t_v.y\": empty_array})\n",
    "    \n",
    "if \"o.ct\" in df_base:\n",
    "    o_ctloc = pd.DataFrame(np.vstack(df_base[\"o.ct_loc\"].apply(lambda x: (np.nan, np.nan) if np.all(np.isnan(x)) else x)), columns=[\"o.ct_loc.x\", \"o.ct_loc.y\"])\n",
    "    o_ctdv = pd.DataFrame(np.vstack(df_base[\"o.ct_dv\"].apply(lambda x: (np.nan, np.nan) if np.all(np.isnan(x)) else x)), columns=[\"o.ct_dv.x\", \"o.ct_dv.y\"])\n",
    "else:\n",
    "    o_ctloc = pd.DataFrame({\"o.ct_loc\": empty_array, \"o.ct_loc.x\": empty_array, \"o.ct_loc.y\": empty_array})\n",
    "    o_ctdv = pd.DataFrame({\"o.ct_dv\": empty_array, \"o.ct_dv.x\": empty_array, \"o.ct_dv.y\": empty_array})\n",
    "angle = pd.DataFrame(np.vstack(df_base.apply(lambda row: np.array(util.polar_to_cartesian(100, row[\"a\"])), axis=1)), columns=[\"angle.x\", \"angle.y\"])\n",
    "df = pd.concat([df_base, loc, v, o_ctloc, o_ctdv, o_tloc, o_tv, angle], axis=1)\n",
    "\n",
    "if \"o.ct\" not in df_base:\n",
    "    df[\"o.ct\"] = empty_array\n",
    "    df[\"o.ct_ts\"] = empty_array\n",
    "    df[\"o.cac\"] = empty_array\n",
    "    df[\"o.cbdr\"] = empty_array\n",
    "    \n",
    "if \"o.t_loc\" not in df_base:\n",
    "    df[\"o.cs\"] = empty_array"
   ]
  },
  {
   "cell_type": "code",
   "execution_count": 7,
   "id": "bc3fba77",
   "metadata": {},
   "outputs": [],
   "source": [
    "df[\"speed\"] = np.linalg.norm(df[[\"v.x\", \"v.y\"]], axis=1)\n",
    "df[\"o_ct_dist\"] = np.linalg.norm(np.vstack(df[\"loc\"]) - np.vstack(df[\"o.ct_loc\"].apply(lambda x: (np.nan, np.nan) if np.all(np.isnan(x)) else x)), axis=1)\n",
    "df[\"o_t_dist\"] = np.linalg.norm(np.vstack(df[\"loc\"]) - np.vstack(df[\"o.t_loc\"].apply(lambda x: (np.nan, np.nan) if np.all(np.isnan(x)) else x)), axis=1)\n",
    "df[\"o_t_speed\"] = np.linalg.norm(df[[\"o.t_v.x\", \"o.t_v.y\"]], axis=1)\n",
    "df[\"f_mag\"] = df[\"f\"].apply(lambda x:np.linalg.norm(x))"
   ]
  },
  {
   "cell_type": "code",
   "execution_count": 8,
   "id": "10043b64",
   "metadata": {},
   "outputs": [],
   "source": [
    "df[\"o_ct_v.x\"] = (df[\"o.ct_loc.x\"].shift(1) - df[\"o.ct_loc.x\"]) / (df[\"ts\"].shift(1) - df[\"ts\"])\n",
    "df[\"o_ct_v.y\"] = (df[\"o.ct_loc.y\"].shift(1) - df[\"o.ct_loc.y\"]) / (df[\"ts\"].shift(1) - df[\"ts\"])"
   ]
  },
  {
   "cell_type": "code",
   "execution_count": 9,
   "id": "cb5d11e7",
   "metadata": {},
   "outputs": [
    {
     "data": {
      "text/html": [
       "<div>\n",
       "<style scoped>\n",
       "    .dataframe tbody tr th:only-of-type {\n",
       "        vertical-align: middle;\n",
       "    }\n",
       "\n",
       "    .dataframe tbody tr th {\n",
       "        vertical-align: top;\n",
       "    }\n",
       "\n",
       "    .dataframe thead th {\n",
       "        text-align: right;\n",
       "    }\n",
       "</style>\n",
       "<table border=\"1\" class=\"dataframe\">\n",
       "  <thead>\n",
       "    <tr style=\"text-align: right;\">\n",
       "      <th></th>\n",
       "      <th>index</th>\n",
       "      <th>eid</th>\n",
       "      <th>ts</th>\n",
       "      <th>loc</th>\n",
       "      <th>a</th>\n",
       "      <th>v</th>\n",
       "      <th>av</th>\n",
       "      <th>f</th>\n",
       "      <th>t</th>\n",
       "      <th>o</th>\n",
       "      <th>...</th>\n",
       "      <th>o.t_v.y</th>\n",
       "      <th>angle.x</th>\n",
       "      <th>angle.y</th>\n",
       "      <th>speed</th>\n",
       "      <th>o_ct_dist</th>\n",
       "      <th>o_t_dist</th>\n",
       "      <th>o_t_speed</th>\n",
       "      <th>f_mag</th>\n",
       "      <th>o_ct_v.x</th>\n",
       "      <th>o_ct_v.y</th>\n",
       "    </tr>\n",
       "  </thead>\n",
       "  <tbody>\n",
       "    <tr>\n",
       "      <th>0</th>\n",
       "      <td>0</td>\n",
       "      <td>ebe28c7f-c42e-43af-8a04-84ebcc3da68d</td>\n",
       "      <td>0.000000</td>\n",
       "      <td>[0.0, 2400.0]</td>\n",
       "      <td>0.000000</td>\n",
       "      <td>[0.0, 0.0]</td>\n",
       "      <td>0.000000e+00</td>\n",
       "      <td>[-9.18485099360515e-13, -5000.0]</td>\n",
       "      <td>-900000.0</td>\n",
       "      <td>{'o': 'stellarpunk.orders.GoToLocation', 'nnd'...</td>\n",
       "      <td>...</td>\n",
       "      <td>-135.050934</td>\n",
       "      <td>100.000000</td>\n",
       "      <td>0.000000</td>\n",
       "      <td>0.000000e+00</td>\n",
       "      <td>NaN</td>\n",
       "      <td>2400.000000</td>\n",
       "      <td>135.050934</td>\n",
       "      <td>5000.000000</td>\n",
       "      <td>NaN</td>\n",
       "      <td>NaN</td>\n",
       "    </tr>\n",
       "    <tr>\n",
       "      <th>1</th>\n",
       "      <td>1</td>\n",
       "      <td>ebe28c7f-c42e-43af-8a04-84ebcc3da68d</td>\n",
       "      <td>0.016667</td>\n",
       "      <td>[0.0, 2400.0]</td>\n",
       "      <td>0.000000</td>\n",
       "      <td>[-7.654042494670959e-18, -0.041666666666666005]</td>\n",
       "      <td>-1.666667e-02</td>\n",
       "      <td>[12666.66666666667, 0.0]</td>\n",
       "      <td>900000.0</td>\n",
       "      <td>{'o': 'stellarpunk.orders.GoToLocation', 'ct':...</td>\n",
       "      <td>...</td>\n",
       "      <td>-134.310987</td>\n",
       "      <td>100.000000</td>\n",
       "      <td>0.000000</td>\n",
       "      <td>4.166667e-02</td>\n",
       "      <td>1236.931688</td>\n",
       "      <td>2400.000000</td>\n",
       "      <td>134.310987</td>\n",
       "      <td>12666.666667</td>\n",
       "      <td>NaN</td>\n",
       "      <td>NaN</td>\n",
       "    </tr>\n",
       "    <tr>\n",
       "      <th>2</th>\n",
       "      <td>2</td>\n",
       "      <td>ebe28c7f-c42e-43af-8a04-84ebcc3da68d</td>\n",
       "      <td>0.033333</td>\n",
       "      <td>[-1.275673749111826e-19, 2399.9993055555556]</td>\n",
       "      <td>-0.000278</td>\n",
       "      <td>[0.10555555555555501, -0.041666666666666005]</td>\n",
       "      <td>-3.469447e-18</td>\n",
       "      <td>[-3.9094815562343492, -4999.998471595162]</td>\n",
       "      <td>-900000.0</td>\n",
       "      <td>{'o': 'stellarpunk.orders.GoToLocation', 'nnd'...</td>\n",
       "      <td>...</td>\n",
       "      <td>-135.041054</td>\n",
       "      <td>99.999996</td>\n",
       "      <td>-0.027778</td>\n",
       "      <td>1.134817e-01</td>\n",
       "      <td>NaN</td>\n",
       "      <td>2399.999306</td>\n",
       "      <td>135.041054</td>\n",
       "      <td>5000.000000</td>\n",
       "      <td>NaN</td>\n",
       "      <td>NaN</td>\n",
       "    </tr>\n",
       "    <tr>\n",
       "      <th>3</th>\n",
       "      <td>3</td>\n",
       "      <td>ebe28c7f-c42e-43af-8a04-84ebcc3da68d</td>\n",
       "      <td>0.050000</td>\n",
       "      <td>[0.0017592592592590001, 2399.998611111111]</td>\n",
       "      <td>-0.000278</td>\n",
       "      <td>[0.10552297654258601, -0.083333320596626]</td>\n",
       "      <td>-1.666667e-02</td>\n",
       "      <td>[-3.934700071718691, -4999.998451813295]</td>\n",
       "      <td>-900000.0</td>\n",
       "      <td>{'o': 'stellarpunk.orders.GoToLocation', 'nnd'...</td>\n",
       "      <td>...</td>\n",
       "      <td>-134.301175</td>\n",
       "      <td>99.999996</td>\n",
       "      <td>-0.027778</td>\n",
       "      <td>1.344602e-01</td>\n",
       "      <td>NaN</td>\n",
       "      <td>2399.998611</td>\n",
       "      <td>134.301175</td>\n",
       "      <td>5000.000000</td>\n",
       "      <td>NaN</td>\n",
       "      <td>NaN</td>\n",
       "    </tr>\n",
       "    <tr>\n",
       "      <th>4</th>\n",
       "      <td>4</td>\n",
       "      <td>ebe28c7f-c42e-43af-8a04-84ebcc3da68d</td>\n",
       "      <td>0.066667</td>\n",
       "      <td>[0.003517975534969, 2399.9972222224346]</td>\n",
       "      <td>-0.000556</td>\n",
       "      <td>[0.10549018737532201, -0.12499997436173702]</td>\n",
       "      <td>-3.333333e-02</td>\n",
       "      <td>[-3.960518169795992, -4999.998431429337]</td>\n",
       "      <td>-900000.0</td>\n",
       "      <td>{'o': 'stellarpunk.orders.GoToLocation', 'nnd'...</td>\n",
       "      <td>...</td>\n",
       "      <td>-133.549352</td>\n",
       "      <td>99.999985</td>\n",
       "      <td>-0.055556</td>\n",
       "      <td>1.635640e-01</td>\n",
       "      <td>NaN</td>\n",
       "      <td>2399.997222</td>\n",
       "      <td>133.549352</td>\n",
       "      <td>5000.000000</td>\n",
       "      <td>NaN</td>\n",
       "      <td>NaN</td>\n",
       "    </tr>\n",
       "    <tr>\n",
       "      <th>...</th>\n",
       "      <td>...</td>\n",
       "      <td>...</td>\n",
       "      <td>...</td>\n",
       "      <td>...</td>\n",
       "      <td>...</td>\n",
       "      <td>...</td>\n",
       "      <td>...</td>\n",
       "      <td>...</td>\n",
       "      <td>...</td>\n",
       "      <td>...</td>\n",
       "      <td>...</td>\n",
       "      <td>...</td>\n",
       "      <td>...</td>\n",
       "      <td>...</td>\n",
       "      <td>...</td>\n",
       "      <td>...</td>\n",
       "      <td>...</td>\n",
       "      <td>...</td>\n",
       "      <td>...</td>\n",
       "      <td>...</td>\n",
       "      <td>...</td>\n",
       "    </tr>\n",
       "    <tr>\n",
       "      <th>2092</th>\n",
       "      <td>2092</td>\n",
       "      <td>ebe28c7f-c42e-43af-8a04-84ebcc3da68d</td>\n",
       "      <td>34.866667</td>\n",
       "      <td>[369.9353434285337, 928.2676465268131]</td>\n",
       "      <td>-4.956175</td>\n",
       "      <td>[-4.815388896962498, -12.083110732452258]</td>\n",
       "      <td>3.985835e-02</td>\n",
       "      <td>[185103.49663636708, 464474.6446610304]</td>\n",
       "      <td>-900000.0</td>\n",
       "      <td>{'o': 'stellarpunk.orders.GoToLocation', 'nnd'...</td>\n",
       "      <td>...</td>\n",
       "      <td>0.000000</td>\n",
       "      <td>24.137820</td>\n",
       "      <td>97.043112</td>\n",
       "      <td>1.300729e+01</td>\n",
       "      <td>NaN</td>\n",
       "      <td>999.266222</td>\n",
       "      <td>0.000000</td>\n",
       "      <td>500000.000000</td>\n",
       "      <td>NaN</td>\n",
       "      <td>NaN</td>\n",
       "    </tr>\n",
       "    <tr>\n",
       "      <th>2093</th>\n",
       "      <td>2093</td>\n",
       "      <td>ebe28c7f-c42e-43af-8a04-84ebcc3da68d</td>\n",
       "      <td>34.883333</td>\n",
       "      <td>[369.85508694691765, 928.066261347939]</td>\n",
       "      <td>-4.955510</td>\n",
       "      <td>[-3.272859758326106, -8.21248869361034]</td>\n",
       "      <td>2.319168e-02</td>\n",
       "      <td>[185103.49663636708, 464474.6446610304]</td>\n",
       "      <td>-900000.0</td>\n",
       "      <td>{'o': 'stellarpunk.orders.GoToLocation', 'nnd'...</td>\n",
       "      <td>...</td>\n",
       "      <td>0.000000</td>\n",
       "      <td>24.073348</td>\n",
       "      <td>97.059126</td>\n",
       "      <td>8.840621e+00</td>\n",
       "      <td>NaN</td>\n",
       "      <td>999.049434</td>\n",
       "      <td>0.000000</td>\n",
       "      <td>500000.000000</td>\n",
       "      <td>NaN</td>\n",
       "      <td>NaN</td>\n",
       "    </tr>\n",
       "    <tr>\n",
       "      <th>2094</th>\n",
       "      <td>2094</td>\n",
       "      <td>ebe28c7f-c42e-43af-8a04-84ebcc3da68d</td>\n",
       "      <td>34.900000</td>\n",
       "      <td>[369.8005392842789, 927.9293865363788]</td>\n",
       "      <td>-4.955124</td>\n",
       "      <td>[-1.7303306196897141, -4.34186665476842]</td>\n",
       "      <td>6.525016e-03</td>\n",
       "      <td>[185103.49663636708, 464474.6446610304]</td>\n",
       "      <td>-900000.0</td>\n",
       "      <td>{'o': 'stellarpunk.orders.GoToLocation', 'nnd'...</td>\n",
       "      <td>...</td>\n",
       "      <td>0.000000</td>\n",
       "      <td>24.035830</td>\n",
       "      <td>97.068424</td>\n",
       "      <td>4.673954e+00</td>\n",
       "      <td>NaN</td>\n",
       "      <td>998.902090</td>\n",
       "      <td>0.000000</td>\n",
       "      <td>500000.000000</td>\n",
       "      <td>NaN</td>\n",
       "      <td>NaN</td>\n",
       "    </tr>\n",
       "    <tr>\n",
       "      <th>2095</th>\n",
       "      <td>2095</td>\n",
       "      <td>ebe28c7f-c42e-43af-8a04-84ebcc3da68d</td>\n",
       "      <td>34.916667</td>\n",
       "      <td>[369.7717004406174, 927.8570220921328]</td>\n",
       "      <td>-4.955015</td>\n",
       "      <td>[-0.187801481053321, -0.4712446159265]</td>\n",
       "      <td>-1.014165e-02</td>\n",
       "      <td>[22536.177726398582, 56549.3539111801]</td>\n",
       "      <td>-900000.0</td>\n",
       "      <td>{'o': 'stellarpunk.orders.GoToLocation', 'nnd'...</td>\n",
       "      <td>...</td>\n",
       "      <td>0.000000</td>\n",
       "      <td>24.025274</td>\n",
       "      <td>97.071037</td>\n",
       "      <td>5.072878e-01</td>\n",
       "      <td>NaN</td>\n",
       "      <td>998.824191</td>\n",
       "      <td>0.000000</td>\n",
       "      <td>60874.532723</td>\n",
       "      <td>NaN</td>\n",
       "      <td>NaN</td>\n",
       "    </tr>\n",
       "    <tr>\n",
       "      <th>2096</th>\n",
       "      <td>2096</td>\n",
       "      <td>ebe28c7f-c42e-43af-8a04-84ebcc3da68d</td>\n",
       "      <td>34.933333</td>\n",
       "      <td>[369.7685704159332, 927.8491680152007]</td>\n",
       "      <td>-4.955184</td>\n",
       "      <td>[2.775557561562891e-17, -1.110223024625156e-16]</td>\n",
       "      <td>-2.680832e-02</td>\n",
       "      <td>[0.0, 0.0]</td>\n",
       "      <td>0.0</td>\n",
       "      <td>None</td>\n",
       "      <td>...</td>\n",
       "      <td>NaN</td>\n",
       "      <td>24.041681</td>\n",
       "      <td>97.066975</td>\n",
       "      <td>1.144392e-16</td>\n",
       "      <td>NaN</td>\n",
       "      <td>NaN</td>\n",
       "      <td>NaN</td>\n",
       "      <td>0.000000</td>\n",
       "      <td>NaN</td>\n",
       "      <td>NaN</td>\n",
       "    </tr>\n",
       "  </tbody>\n",
       "</table>\n",
       "<p>2097 rows × 42 columns</p>\n",
       "</div>"
      ],
      "text/plain": [
       "      index                                   eid         ts  \\\n",
       "0         0  ebe28c7f-c42e-43af-8a04-84ebcc3da68d   0.000000   \n",
       "1         1  ebe28c7f-c42e-43af-8a04-84ebcc3da68d   0.016667   \n",
       "2         2  ebe28c7f-c42e-43af-8a04-84ebcc3da68d   0.033333   \n",
       "3         3  ebe28c7f-c42e-43af-8a04-84ebcc3da68d   0.050000   \n",
       "4         4  ebe28c7f-c42e-43af-8a04-84ebcc3da68d   0.066667   \n",
       "...     ...                                   ...        ...   \n",
       "2092   2092  ebe28c7f-c42e-43af-8a04-84ebcc3da68d  34.866667   \n",
       "2093   2093  ebe28c7f-c42e-43af-8a04-84ebcc3da68d  34.883333   \n",
       "2094   2094  ebe28c7f-c42e-43af-8a04-84ebcc3da68d  34.900000   \n",
       "2095   2095  ebe28c7f-c42e-43af-8a04-84ebcc3da68d  34.916667   \n",
       "2096   2096  ebe28c7f-c42e-43af-8a04-84ebcc3da68d  34.933333   \n",
       "\n",
       "                                               loc         a  \\\n",
       "0                                    [0.0, 2400.0]  0.000000   \n",
       "1                                    [0.0, 2400.0]  0.000000   \n",
       "2     [-1.275673749111826e-19, 2399.9993055555556] -0.000278   \n",
       "3       [0.0017592592592590001, 2399.998611111111] -0.000278   \n",
       "4          [0.003517975534969, 2399.9972222224346] -0.000556   \n",
       "...                                            ...       ...   \n",
       "2092        [369.9353434285337, 928.2676465268131] -4.956175   \n",
       "2093        [369.85508694691765, 928.066261347939] -4.955510   \n",
       "2094        [369.8005392842789, 927.9293865363788] -4.955124   \n",
       "2095        [369.7717004406174, 927.8570220921328] -4.955015   \n",
       "2096        [369.7685704159332, 927.8491680152007] -4.955184   \n",
       "\n",
       "                                                    v            av  \\\n",
       "0                                          [0.0, 0.0]  0.000000e+00   \n",
       "1     [-7.654042494670959e-18, -0.041666666666666005] -1.666667e-02   \n",
       "2        [0.10555555555555501, -0.041666666666666005] -3.469447e-18   \n",
       "3           [0.10552297654258601, -0.083333320596626] -1.666667e-02   \n",
       "4         [0.10549018737532201, -0.12499997436173702] -3.333333e-02   \n",
       "...                                               ...           ...   \n",
       "2092        [-4.815388896962498, -12.083110732452258]  3.985835e-02   \n",
       "2093          [-3.272859758326106, -8.21248869361034]  2.319168e-02   \n",
       "2094         [-1.7303306196897141, -4.34186665476842]  6.525016e-03   \n",
       "2095           [-0.187801481053321, -0.4712446159265] -1.014165e-02   \n",
       "2096  [2.775557561562891e-17, -1.110223024625156e-16] -2.680832e-02   \n",
       "\n",
       "                                              f         t  \\\n",
       "0              [-9.18485099360515e-13, -5000.0] -900000.0   \n",
       "1                      [12666.66666666667, 0.0]  900000.0   \n",
       "2     [-3.9094815562343492, -4999.998471595162] -900000.0   \n",
       "3      [-3.934700071718691, -4999.998451813295] -900000.0   \n",
       "4      [-3.960518169795992, -4999.998431429337] -900000.0   \n",
       "...                                         ...       ...   \n",
       "2092    [185103.49663636708, 464474.6446610304] -900000.0   \n",
       "2093    [185103.49663636708, 464474.6446610304] -900000.0   \n",
       "2094    [185103.49663636708, 464474.6446610304] -900000.0   \n",
       "2095     [22536.177726398582, 56549.3539111801] -900000.0   \n",
       "2096                                 [0.0, 0.0]       0.0   \n",
       "\n",
       "                                                      o  ...     o.t_v.y  \\\n",
       "0     {'o': 'stellarpunk.orders.GoToLocation', 'nnd'...  ... -135.050934   \n",
       "1     {'o': 'stellarpunk.orders.GoToLocation', 'ct':...  ... -134.310987   \n",
       "2     {'o': 'stellarpunk.orders.GoToLocation', 'nnd'...  ... -135.041054   \n",
       "3     {'o': 'stellarpunk.orders.GoToLocation', 'nnd'...  ... -134.301175   \n",
       "4     {'o': 'stellarpunk.orders.GoToLocation', 'nnd'...  ... -133.549352   \n",
       "...                                                 ...  ...         ...   \n",
       "2092  {'o': 'stellarpunk.orders.GoToLocation', 'nnd'...  ...    0.000000   \n",
       "2093  {'o': 'stellarpunk.orders.GoToLocation', 'nnd'...  ...    0.000000   \n",
       "2094  {'o': 'stellarpunk.orders.GoToLocation', 'nnd'...  ...    0.000000   \n",
       "2095  {'o': 'stellarpunk.orders.GoToLocation', 'nnd'...  ...    0.000000   \n",
       "2096                                               None  ...         NaN   \n",
       "\n",
       "         angle.x    angle.y         speed    o_ct_dist     o_t_dist  \\\n",
       "0     100.000000   0.000000  0.000000e+00          NaN  2400.000000   \n",
       "1     100.000000   0.000000  4.166667e-02  1236.931688  2400.000000   \n",
       "2      99.999996  -0.027778  1.134817e-01          NaN  2399.999306   \n",
       "3      99.999996  -0.027778  1.344602e-01          NaN  2399.998611   \n",
       "4      99.999985  -0.055556  1.635640e-01          NaN  2399.997222   \n",
       "...          ...        ...           ...          ...          ...   \n",
       "2092   24.137820  97.043112  1.300729e+01          NaN   999.266222   \n",
       "2093   24.073348  97.059126  8.840621e+00          NaN   999.049434   \n",
       "2094   24.035830  97.068424  4.673954e+00          NaN   998.902090   \n",
       "2095   24.025274  97.071037  5.072878e-01          NaN   998.824191   \n",
       "2096   24.041681  97.066975  1.144392e-16          NaN          NaN   \n",
       "\n",
       "       o_t_speed          f_mag o_ct_v.x o_ct_v.y  \n",
       "0     135.050934    5000.000000      NaN      NaN  \n",
       "1     134.310987   12666.666667      NaN      NaN  \n",
       "2     135.041054    5000.000000      NaN      NaN  \n",
       "3     134.301175    5000.000000      NaN      NaN  \n",
       "4     133.549352    5000.000000      NaN      NaN  \n",
       "...          ...            ...      ...      ...  \n",
       "2092    0.000000  500000.000000      NaN      NaN  \n",
       "2093    0.000000  500000.000000      NaN      NaN  \n",
       "2094    0.000000  500000.000000      NaN      NaN  \n",
       "2095    0.000000   60874.532723      NaN      NaN  \n",
       "2096         NaN       0.000000      NaN      NaN  \n",
       "\n",
       "[2097 rows x 42 columns]"
      ]
     },
     "execution_count": 9,
     "metadata": {},
     "output_type": "execute_result"
    }
   ],
   "source": [
    "df"
   ]
  },
  {
   "cell_type": "markdown",
   "id": "d88fc347",
   "metadata": {},
   "source": [
    "# Basic Ship Vitals"
   ]
  },
  {
   "cell_type": "markdown",
   "id": "e1460fb2",
   "metadata": {},
   "source": [
    "## Position and Heading"
   ]
  },
  {
   "cell_type": "code",
   "execution_count": 10,
   "id": "29f0ddaa",
   "metadata": {},
   "outputs": [
    {
     "data": {
      "application/vnd.jupyter.widget-view+json": {
       "model_id": "2ae6c3a1957f4a00b695ad64eceff023",
       "version_major": 2,
       "version_minor": 0
      },
      "text/plain": [
       "interactive(children=(FloatSlider(value=34.933333333332634, continuous_update=False, description='max_time', m…"
      ]
     },
     "metadata": {},
     "output_type": "display_data"
    },
    {
     "data": {
      "text/plain": [
       "<function __main__.plot_location_chart(max_time)>"
      ]
     },
     "execution_count": 10,
     "metadata": {},
     "output_type": "execute_result"
    }
   ],
   "source": [
    "def plot_location_chart(max_time):\n",
    "    sample = df[df[\"ts\"] <= max_time].iloc[::50]\n",
    "    plt.quiver(sample[\"loc.x\"], sample[\"loc.y\"], sample[\"angle.x\"], sample[\"angle.y\"])#, scale=100)\n",
    "    plt.scatter(sample[\"o.t_loc.x\"], sample[\"o.t_loc.y\"])\n",
    "    #center = (0,2500)\n",
    "    #radius = 10000\n",
    "    #plt.xlim(center[0]-radius,center[0]+radius)\n",
    "    #plt.ylim(center[1]-radius,center[1]+radius)\n",
    "\n",
    "ipywidgets.interact(plot_location_chart, max_time=ipywidgets.FloatSlider(value=df[\"ts\"].max(), min=df[\"ts\"].min(), max=df[\"ts\"].max(), continuous_update=False))"
   ]
  },
  {
   "cell_type": "code",
   "execution_count": 11,
   "id": "b7438065",
   "metadata": {},
   "outputs": [
    {
     "data": {
      "text/plain": [
       "<matplotlib.collections.PathCollection at 0x7fd7ee7d8310>"
      ]
     },
     "execution_count": 11,
     "metadata": {},
     "output_type": "execute_result"
    },
    {
     "data": {
      "image/png": "[encoded data removed]",
      "text/plain": [
       "<Figure size 432x288 with 1 Axes>"
      ]
     },
     "metadata": {
      "needs_background": "light"
     },
     "output_type": "display_data"
    }
   ],
   "source": [
    "plt.scatter(df[\"ts\"], df[\"loc.x\"])\n",
    "plt.scatter(df[\"ts\"], df[\"loc.y\"])"
   ]
  },
  {
   "cell_type": "code",
   "execution_count": 12,
   "id": "a15a8a7c",
   "metadata": {},
   "outputs": [
    {
     "data": {
      "text/plain": [
       "<matplotlib.legend.Legend at 0x7fd7ee8a5330>"
      ]
     },
     "execution_count": 12,
     "metadata": {},
     "output_type": "execute_result"
    },
    {
     "data": {
      "image/png": "[encoded data removed]",
      "text/plain": [
       "<Figure size 432x288 with 1 Axes>"
      ]
     },
     "metadata": {
      "needs_background": "light"
     },
     "output_type": "display_data"
    }
   ],
   "source": [
    "plt.scatter(df[\"ts\"], df[\"a\"], label=\"theta\")\n",
    "plt.scatter(df[\"ts\"], df[\"av\"], label=\"omega\")\n",
    "plt.hlines(np.pi, df[\"ts\"].min(), df[\"ts\"].max(), color=\"red\")\n",
    "plt.hlines(0, df[\"ts\"].min(), df[\"ts\"].max(), color=\"red\")\n",
    "plt.legend()"
   ]
  },
  {
   "cell_type": "code",
   "execution_count": 13,
   "id": "646f37d1",
   "metadata": {},
   "outputs": [
    {
     "data": {
      "text/plain": [
       "<matplotlib.collections.PathCollection at 0x7fd7ee6db3d0>"
      ]
     },
     "execution_count": 13,
     "metadata": {},
     "output_type": "execute_result"
    },
    {
     "data": {
      "image/png": "[encoded data removed]",
      "text/plain": [
       "<Figure size 432x288 with 1 Axes>"
      ]
     },
     "metadata": {
      "needs_background": "light"
     },
     "output_type": "display_data"
    }
   ],
   "source": [
    "plt.scatter(df[\"ts\"], df[\"t\"])"
   ]
  },
  {
   "cell_type": "markdown",
   "id": "e29a7479",
   "metadata": {},
   "source": [
    "## Velocity and Acceleration"
   ]
  },
  {
   "cell_type": "code",
   "execution_count": 14,
   "id": "646f3d6c",
   "metadata": {
    "scrolled": true
   },
   "outputs": [
    {
     "data": {
      "text/plain": [
       "<matplotlib.collections.PathCollection at 0x7fd7ee78ba00>"
      ]
     },
     "execution_count": 14,
     "metadata": {},
     "output_type": "execute_result"
    },
    {
     "data": {
      "image/png": "[encoded data removed]",
      "text/plain": [
       "<Figure size 432x288 with 1 Axes>"
      ]
     },
     "metadata": {
      "needs_background": "light"
     },
     "output_type": "display_data"
    }
   ],
   "source": [
    "plt.scatter(df[\"ts\"], df[\"v.x\"])\n",
    "plt.scatter(df[\"ts\"], df[\"v.y\"])"
   ]
  },
  {
   "cell_type": "code",
   "execution_count": 15,
   "id": "3d6f2acc",
   "metadata": {
    "scrolled": true
   },
   "outputs": [
    {
     "data": {
      "image/png": "[encoded data removed]",
      "text/plain": [
       "<Figure size 432x288 with 1 Axes>"
      ]
     },
     "metadata": {
      "needs_background": "light"
     },
     "output_type": "display_data"
    }
   ],
   "source": [
    "#plt.scatter(df[\"ts\"], (df[\"v.x\"] - df[\"v.x\"].shift(-1)))#/(df[\"ts\"]-df[\"ts\"].shift(-1)))\n",
    "plt.scatter(df[\"ts\"], (df[\"v.x\"].shift(1) - df[\"v.x\"]) / (df[\"ts\"].shift(1) - df[\"ts\"]))\n",
    "plt.scatter(df[\"ts\"], (df[\"v.y\"].shift(1) - df[\"v.y\"]) / (df[\"ts\"].shift(1) - df[\"ts\"]))\n",
    "plt.yscale(\"symlog\")"
   ]
  },
  {
   "cell_type": "code",
   "execution_count": 16,
   "id": "f16b7a73",
   "metadata": {},
   "outputs": [
    {
     "data": {
      "image/png": "[encoded data removed]",
      "text/plain": [
       "<Figure size 432x288 with 1 Axes>"
      ]
     },
     "metadata": {
      "needs_background": "light"
     },
     "output_type": "display_data"
    }
   ],
   "source": [
    "plt.scatter(df[\"ts\"], df[\"f_mag\"])\n",
    "plt.yscale(\"log\")"
   ]
  },
  {
   "cell_type": "markdown",
   "id": "b71493bc",
   "metadata": {},
   "source": [
    "# Behavior Monitoring"
   ]
  },
  {
   "cell_type": "code",
   "execution_count": 17,
   "id": "522d8ebf",
   "metadata": {},
   "outputs": [
    {
     "data": {
      "application/vnd.jupyter.widget-view+json": {
       "model_id": "7fe4dcab6e124fb9a44eca678a7f59e6",
       "version_major": 2,
       "version_minor": 0
      },
      "text/plain": [
       "interactive(children=(FloatSlider(value=5.0, continuous_update=False, description='hist_length', max=34.933333…"
      ]
     },
     "metadata": {},
     "output_type": "display_data"
    },
    {
     "data": {
      "text/plain": [
       "<function __main__.plot_collision_info(hist_length, max_time)>"
      ]
     },
     "execution_count": 17,
     "metadata": {},
     "output_type": "execute_result"
    }
   ],
   "source": [
    "def plot_collision_info(hist_length, max_time):\n",
    "    sample = df[(df[\"ts\"] >= max_time - hist_length) & (df[\"ts\"] <= max_time)]\n",
    "    plt.scatter(sample[\"ts\"], (~(sample[\"o.ct\"].isna())).astype(int), label=\"ct\")\n",
    "    plt.scatter(sample[\"ts\"], sample[\"o.cs\"].fillna(0).astype(int)+0.05, label=\"cs\")\n",
    "    plt.scatter(sample[\"ts\"], sample[\"o.cac\"].fillna(0).astype(int)+0.1, label=\"cac\")\n",
    "    plt.scatter(sample[\"ts\"], sample[\"o.cbdr\"].fillna(0).astype(int)+0.15, label=\"cbdr\")\n",
    "    plt.legend()\n",
    "\n",
    "ipywidgets.interact(plot_collision_info, hist_length=ipywidgets.FloatSlider(value=5, min=0, max=df[\"ts\"].max()-df[\"ts\"].min(), continuous_update=False), max_time=ipywidgets.FloatSlider(value=df[\"ts\"].max(), min=df[\"ts\"].min(), max=df[\"ts\"].max()+.1, continuous_update=False))"
   ]
  },
  {
   "cell_type": "markdown",
   "id": "5436504d",
   "metadata": {},
   "source": [
    "## Target Location"
   ]
  },
  {
   "cell_type": "code",
   "execution_count": 18,
   "id": "031f19e0",
   "metadata": {},
   "outputs": [
    {
     "data": {
      "text/html": [
       "<div>\n",
       "<style scoped>\n",
       "    .dataframe tbody tr th:only-of-type {\n",
       "        vertical-align: middle;\n",
       "    }\n",
       "\n",
       "    .dataframe tbody tr th {\n",
       "        vertical-align: top;\n",
       "    }\n",
       "\n",
       "    .dataframe thead th {\n",
       "        text-align: right;\n",
       "    }\n",
       "</style>\n",
       "<table border=\"1\" class=\"dataframe\">\n",
       "  <thead>\n",
       "    <tr style=\"text-align: right;\">\n",
       "      <th></th>\n",
       "      <th></th>\n",
       "      <th>count</th>\n",
       "      <th>mean</th>\n",
       "      <th>std</th>\n",
       "      <th>min</th>\n",
       "      <th>25%</th>\n",
       "      <th>50%</th>\n",
       "      <th>75%</th>\n",
       "      <th>max</th>\n",
       "    </tr>\n",
       "    <tr>\n",
       "      <th>o.t_loc.x</th>\n",
       "      <th>o.t_loc.y</th>\n",
       "      <th></th>\n",
       "      <th></th>\n",
       "      <th></th>\n",
       "      <th></th>\n",
       "      <th></th>\n",
       "      <th></th>\n",
       "      <th></th>\n",
       "      <th></th>\n",
       "    </tr>\n",
       "  </thead>\n",
       "  <tbody>\n",
       "    <tr>\n",
       "      <th>0.0</th>\n",
       "      <th>0.0</th>\n",
       "      <td>2096.0</td>\n",
       "      <td>17.458333</td>\n",
       "      <td>10.08679</td>\n",
       "      <td>0.0</td>\n",
       "      <td>8.729167</td>\n",
       "      <td>17.458333</td>\n",
       "      <td>26.1875</td>\n",
       "      <td>34.916667</td>\n",
       "    </tr>\n",
       "  </tbody>\n",
       "</table>\n",
       "</div>"
      ],
      "text/plain": [
       "                      count       mean       std  min       25%        50%  \\\n",
       "o.t_loc.x o.t_loc.y                                                          \n",
       "0.0       0.0        2096.0  17.458333  10.08679  0.0  8.729167  17.458333   \n",
       "\n",
       "                         75%        max  \n",
       "o.t_loc.x o.t_loc.y                      \n",
       "0.0       0.0        26.1875  34.916667  "
      ]
     },
     "execution_count": 18,
     "metadata": {},
     "output_type": "execute_result"
    }
   ],
   "source": [
    "if np.any(~df[\"o.t_loc\"].isna()):\n",
    "    x = df.groupby([\"o.t_loc.x\", \"o.t_loc.y\"])[\"ts\"].describe().sort_values([\"min\"])\n",
    "x"
   ]
  },
  {
   "cell_type": "code",
   "execution_count": 19,
   "id": "e7872d3a",
   "metadata": {
    "scrolled": true
   },
   "outputs": [
    {
     "data": {
      "text/html": [
       "<div>\n",
       "<style scoped>\n",
       "    .dataframe tbody tr th:only-of-type {\n",
       "        vertical-align: middle;\n",
       "    }\n",
       "\n",
       "    .dataframe tbody tr th {\n",
       "        vertical-align: top;\n",
       "    }\n",
       "\n",
       "    .dataframe thead th {\n",
       "        text-align: right;\n",
       "    }\n",
       "</style>\n",
       "<table border=\"1\" class=\"dataframe\">\n",
       "  <thead>\n",
       "    <tr style=\"text-align: right;\">\n",
       "      <th></th>\n",
       "      <th></th>\n",
       "      <th>count</th>\n",
       "      <th>mean</th>\n",
       "      <th>std</th>\n",
       "      <th>min</th>\n",
       "      <th>25%</th>\n",
       "      <th>50%</th>\n",
       "      <th>75%</th>\n",
       "      <th>max</th>\n",
       "    </tr>\n",
       "    <tr>\n",
       "      <th>o.t_loc.x</th>\n",
       "      <th>o.t_loc.y</th>\n",
       "      <th></th>\n",
       "      <th></th>\n",
       "      <th></th>\n",
       "      <th></th>\n",
       "      <th></th>\n",
       "      <th></th>\n",
       "      <th></th>\n",
       "      <th></th>\n",
       "    </tr>\n",
       "  </thead>\n",
       "  <tbody>\n",
       "    <tr>\n",
       "      <th>0.0</th>\n",
       "      <th>0.0</th>\n",
       "      <td>2096.0</td>\n",
       "      <td>1860.19443</td>\n",
       "      <td>473.845071</td>\n",
       "      <td>998.824191</td>\n",
       "      <td>1436.592693</td>\n",
       "      <td>1947.863154</td>\n",
       "      <td>2314.55091</td>\n",
       "      <td>2400.0</td>\n",
       "    </tr>\n",
       "  </tbody>\n",
       "</table>\n",
       "</div>"
      ],
      "text/plain": [
       "                      count        mean         std         min          25%  \\\n",
       "o.t_loc.x o.t_loc.y                                                            \n",
       "0.0       0.0        2096.0  1860.19443  473.845071  998.824191  1436.592693   \n",
       "\n",
       "                             50%         75%     max  \n",
       "o.t_loc.x o.t_loc.y                                   \n",
       "0.0       0.0        1947.863154  2314.55091  2400.0  "
      ]
     },
     "execution_count": 19,
     "metadata": {},
     "output_type": "execute_result"
    }
   ],
   "source": [
    "if np.any(~df[\"o.t_loc\"].isna()):\n",
    "    x = df.groupby([\"o.t_loc.x\", \"o.t_loc.y\"])[\"o_t_dist\"].describe()\n",
    "x"
   ]
  },
  {
   "cell_type": "code",
   "execution_count": 20,
   "id": "4ba98c08",
   "metadata": {},
   "outputs": [
    {
     "data": {
      "text/plain": [
       "(998.8241906824375, 998.8241906824375)"
      ]
     },
     "execution_count": 20,
     "metadata": {},
     "output_type": "execute_result"
    },
    {
     "data": {
      "image/png": "[encoded data removed]",
      "text/plain": [
       "<Figure size 432x288 with 1 Axes>"
      ]
     },
     "metadata": {
      "needs_background": "light"
     },
     "output_type": "display_data"
    }
   ],
   "source": [
    "plt.scatter(df[\"ts\"], df[\"o_t_dist\"])\n",
    "plt.hlines(1000, df[\"ts\"].min(), df[\"ts\"].max(), color=\"green\")\n",
    "plt.hlines(900, df[\"ts\"].min(), df[\"ts\"].max(), color=\"red\")\n",
    "df[\"o_t_dist\"].min(),df[df[\"ts\"] > df[\"ts\"].max()-1][\"o_t_dist\"].min()"
   ]
  },
  {
   "cell_type": "code",
   "execution_count": 21,
   "id": "4fc35a72",
   "metadata": {},
   "outputs": [
    {
     "data": {
      "text/plain": [
       "(0.0, 141.80348096595384)"
      ]
     },
     "execution_count": 21,
     "metadata": {},
     "output_type": "execute_result"
    },
    {
     "data": {
      "image/png": "[encoded data removed]",
      "text/plain": [
       "<Figure size 432x288 with 1 Axes>"
      ]
     },
     "metadata": {
      "needs_background": "light"
     },
     "output_type": "display_data"
    }
   ],
   "source": [
    "plt.scatter(df[\"ts\"], df[\"speed\"], label=\"actual speed\")\n",
    "plt.scatter(df[\"ts\"], df[\"o_t_speed\"], label=\"desired speed\")\n",
    "plt.legend()\n",
    "plt.ylim(0)"
   ]
  },
  {
   "cell_type": "code",
   "execution_count": 22,
   "id": "df3402c5",
   "metadata": {
    "scrolled": true
   },
   "outputs": [
    {
     "data": {
      "text/plain": [
       "<matplotlib.collections.PathCollection at 0x7fd7ee237f40>"
      ]
     },
     "execution_count": 22,
     "metadata": {},
     "output_type": "execute_result"
    },
    {
     "data": {
      "image/png": "[encoded data removed]",
      "text/plain": [
       "<Figure size 432x288 with 1 Axes>"
      ]
     },
     "metadata": {
      "needs_background": "light"
     },
     "output_type": "display_data"
    }
   ],
   "source": [
    "plt.scatter(df[\"ts\"], df[\"o_t_speed\"] - df[\"speed\"])"
   ]
  },
  {
   "cell_type": "markdown",
   "id": "1d954bcc",
   "metadata": {},
   "source": [
    "## Collision Avoidance"
   ]
  },
  {
   "cell_type": "code",
   "execution_count": 23,
   "id": "216adca9",
   "metadata": {},
   "outputs": [
    {
     "data": {
      "text/html": [
       "<div>\n",
       "<style scoped>\n",
       "    .dataframe tbody tr th:only-of-type {\n",
       "        vertical-align: middle;\n",
       "    }\n",
       "\n",
       "    .dataframe tbody tr th {\n",
       "        vertical-align: top;\n",
       "    }\n",
       "\n",
       "    .dataframe thead th {\n",
       "        text-align: right;\n",
       "    }\n",
       "</style>\n",
       "<table border=\"1\" class=\"dataframe\">\n",
       "  <thead>\n",
       "    <tr style=\"text-align: right;\">\n",
       "      <th></th>\n",
       "      <th>count</th>\n",
       "      <th>mean</th>\n",
       "      <th>std</th>\n",
       "      <th>min</th>\n",
       "      <th>25%</th>\n",
       "      <th>50%</th>\n",
       "      <th>75%</th>\n",
       "      <th>max</th>\n",
       "    </tr>\n",
       "    <tr>\n",
       "      <th>o.ct</th>\n",
       "      <th></th>\n",
       "      <th></th>\n",
       "      <th></th>\n",
       "      <th></th>\n",
       "      <th></th>\n",
       "      <th></th>\n",
       "      <th></th>\n",
       "      <th></th>\n",
       "    </tr>\n",
       "  </thead>\n",
       "  <tbody>\n",
       "    <tr>\n",
       "      <th>1148fcd5-c5d2-4f45-8682-a93b03e3ab4a</th>\n",
       "      <td>482.0</td>\n",
       "      <td>9.536929</td>\n",
       "      <td>4.585113</td>\n",
       "      <td>0.016667</td>\n",
       "      <td>6.470833</td>\n",
       "      <td>8.475</td>\n",
       "      <td>13.9125</td>\n",
       "      <td>15.916667</td>\n",
       "    </tr>\n",
       "  </tbody>\n",
       "</table>\n",
       "</div>"
      ],
      "text/plain": [
       "                                      count      mean       std       min  \\\n",
       "o.ct                                                                        \n",
       "1148fcd5-c5d2-4f45-8682-a93b03e3ab4a  482.0  9.536929  4.585113  0.016667   \n",
       "\n",
       "                                           25%    50%      75%        max  \n",
       "o.ct                                                                       \n",
       "1148fcd5-c5d2-4f45-8682-a93b03e3ab4a  6.470833  8.475  13.9125  15.916667  "
      ]
     },
     "execution_count": 23,
     "metadata": {},
     "output_type": "execute_result"
    }
   ],
   "source": [
    "if np.any(~df[\"o.ct\"].isna()):\n",
    "    x = df.groupby(\"o.ct\")[\"ts\"].describe()\n",
    "else:\n",
    "    x = \"no collision threats\"\n",
    "x"
   ]
  },
  {
   "cell_type": "code",
   "execution_count": 24,
   "id": "ed6062ee",
   "metadata": {},
   "outputs": [
    {
     "data": {
      "text/html": [
       "<div>\n",
       "<style scoped>\n",
       "    .dataframe tbody tr th:only-of-type {\n",
       "        vertical-align: middle;\n",
       "    }\n",
       "\n",
       "    .dataframe tbody tr th {\n",
       "        vertical-align: top;\n",
       "    }\n",
       "\n",
       "    .dataframe thead th {\n",
       "        text-align: right;\n",
       "    }\n",
       "</style>\n",
       "<table border=\"1\" class=\"dataframe\">\n",
       "  <thead>\n",
       "    <tr style=\"text-align: right;\">\n",
       "      <th></th>\n",
       "      <th>count</th>\n",
       "      <th>mean</th>\n",
       "      <th>std</th>\n",
       "      <th>min</th>\n",
       "      <th>25%</th>\n",
       "      <th>50%</th>\n",
       "      <th>75%</th>\n",
       "      <th>max</th>\n",
       "    </tr>\n",
       "    <tr>\n",
       "      <th>o.ct</th>\n",
       "      <th></th>\n",
       "      <th></th>\n",
       "      <th></th>\n",
       "      <th></th>\n",
       "      <th></th>\n",
       "      <th></th>\n",
       "      <th></th>\n",
       "      <th></th>\n",
       "    </tr>\n",
       "  </thead>\n",
       "  <tbody>\n",
       "    <tr>\n",
       "      <th>1148fcd5-c5d2-4f45-8682-a93b03e3ab4a</th>\n",
       "      <td>482.0</td>\n",
       "      <td>1119.446795</td>\n",
       "      <td>97.483566</td>\n",
       "      <td>944.256963</td>\n",
       "      <td>1028.610824</td>\n",
       "      <td>1168.277508</td>\n",
       "      <td>1201.505038</td>\n",
       "      <td>1236.931688</td>\n",
       "    </tr>\n",
       "  </tbody>\n",
       "</table>\n",
       "</div>"
      ],
      "text/plain": [
       "                                      count         mean        std  \\\n",
       "o.ct                                                                  \n",
       "1148fcd5-c5d2-4f45-8682-a93b03e3ab4a  482.0  1119.446795  97.483566   \n",
       "\n",
       "                                             min          25%          50%  \\\n",
       "o.ct                                                                         \n",
       "1148fcd5-c5d2-4f45-8682-a93b03e3ab4a  944.256963  1028.610824  1168.277508   \n",
       "\n",
       "                                              75%          max  \n",
       "o.ct                                                            \n",
       "1148fcd5-c5d2-4f45-8682-a93b03e3ab4a  1201.505038  1236.931688  "
      ]
     },
     "execution_count": 24,
     "metadata": {},
     "output_type": "execute_result"
    }
   ],
   "source": [
    "if np.any(~df[\"o.ct\"].isna()):\n",
    "    x = df.groupby(\"o.ct\")[\"o_ct_dist\"].describe()\n",
    "else:\n",
    "    x = \"no collision threats\"\n",
    "x"
   ]
  },
  {
   "cell_type": "code",
   "execution_count": 25,
   "id": "b5f337f2",
   "metadata": {},
   "outputs": [
    {
     "data": {
      "text/plain": [
       "944.2569631667207"
      ]
     },
     "execution_count": 25,
     "metadata": {},
     "output_type": "execute_result"
    },
    {
     "data": {
      "image/png": "[encoded data removed]",
      "text/plain": [
       "<Figure size 432x288 with 1 Axes>"
      ]
     },
     "metadata": {
      "needs_background": "light"
     },
     "output_type": "display_data"
    }
   ],
   "source": [
    "plt.scatter(df[\"ts\"], df[\"o_ct_dist\"])\n",
    "plt.hlines(60+500, df[\"ts\"].min(), df[\"ts\"].max(), color=\"orange\")\n",
    "plt.hlines(60, df[\"ts\"].min(), df[\"ts\"].max(), color=\"red\")\n",
    "plt.ylim(0)\n",
    "df[\"o_ct_dist\"].min()"
   ]
  },
  {
   "cell_type": "code",
   "execution_count": 26,
   "id": "526690b2",
   "metadata": {},
   "outputs": [
    {
     "data": {
      "text/plain": [
       "<matplotlib.collections.PathCollection at 0x7fd7ee0f9840>"
      ]
     },
     "execution_count": 26,
     "metadata": {},
     "output_type": "execute_result"
    },
    {
     "data": {
      "image/png": "[encoded data removed]",
      "text/plain": [
       "<Figure size 432x288 with 2 Axes>"
      ]
     },
     "metadata": {
      "needs_background": "light"
     },
     "output_type": "display_data"
    }
   ],
   "source": [
    "fig, ax1 = plt.subplots()\n",
    "ax2 = ax1.twinx()\n",
    "\n",
    "ax1.scatter(df[\"ts\"], 1-df[\"o.ct\"].isna().astype(int))\n",
    "ax2.scatter(df[\"ts\"], df[\"ts\"] - df[\"o.ct_ts\"], color=\"orange\")\n",
    "\n",
    "#ax2.set_ylim(0,(df[\"ts\"] - df[\"o.ct_ts\"]).max()*1.2)"
   ]
  },
  {
   "cell_type": "markdown",
   "id": "0bcb5104",
   "metadata": {},
   "source": [
    "# History Visualization"
   ]
  },
  {
   "cell_type": "markdown",
   "id": "4d12991e",
   "metadata": {},
   "source": [
    "## Position and Velocity"
   ]
  },
  {
   "cell_type": "code",
   "execution_count": 27,
   "id": "f86a9f9a",
   "metadata": {},
   "outputs": [
    {
     "data": {
      "application/vnd.jupyter.widget-view+json": {
       "model_id": "7d6e686cf869476484e286a415b22f34",
       "version_major": 2,
       "version_minor": 0
      },
      "text/plain": [
       "interactive(children=(FloatSlider(value=5.0, continuous_update=False, description='hist_length', max=34.933333…"
      ]
     },
     "metadata": {},
     "output_type": "display_data"
    },
    {
     "data": {
      "text/plain": [
       "<function __main__.plot_collision_chart(hist_length=34.933333333332634, max_time=34.933333333332634, show_tloc=True)>"
      ]
     },
     "execution_count": 27,
     "metadata": {},
     "output_type": "execute_result"
    }
   ],
   "source": [
    "def plot_collision_chart(hist_length=df[\"ts\"].max(), max_time=df[\"ts\"].max(), show_tloc=True):\n",
    "    #fig, ax = plt.subplots()\n",
    "    plt.figure(figsize=(10, 10))\n",
    "    sample = df[(df[\"ts\"] >= max_time - hist_length) & (df[\"ts\"] <= max_time)].iloc[::10]\n",
    "    plt.quiver(sample[\"loc.x\"], sample[\"loc.y\"], sample[\"v.x\"], sample[\"v.y\"], label=\"v\")\n",
    "    ctdv_df = sample[~(sample[\"o.ct_dv\"].isna())]\n",
    "    plt.quiver(ctdv_df[\"loc.x\"], ctdv_df[\"loc.y\"], ctdv_df[\"o.ct_dv.x\"], ctdv_df[\"o.ct_dv.y\"], label=\"ctdv\", color=\"orange\")\n",
    "    plt.quiver(sample[\"loc.x\"], sample[\"loc.y\"], sample[\"o.t_v.x\"], sample[\"o.t_v.y\"], label=\"tv\", color=\"purple\")\n",
    "    \n",
    "    plt.quiver(sample[\"o.ct_loc.x\"], sample[\"o.ct_loc.y\"], sample[\"o_ct_v.x\"], sample[\"o_ct_v.y\"])\n",
    "    cmap = plt.get_cmap('viridis')\n",
    "    for x, c in zip(df[\"o.ct\"].unique(), cmap(np.linspace(0, 1, len(df[\"o.ct\"].unique())))):\n",
    "        if not isinstance(x, str):\n",
    "            continue\n",
    "        ct = sample[sample[\"o.ct\"] == x]\n",
    "        if len(ct) == 0:\n",
    "            continue\n",
    "        plt.scatter(ct[\"o.ct_loc.x\"], ct[\"o.ct_loc.y\"], color=c, label=x[:8])\n",
    "    if show_tloc:\n",
    "        plt.scatter(sample[\"o.t_loc.x\"], sample[\"o.t_loc.y\"], label=\"t_loc\")\n",
    "        for (tloc_x, tloc_y) in sample.groupby([\"o.t_loc.x\", \"o.t_loc.y\"])[\"o.t_loc\"].min():\n",
    "            arrival_dist = plt.Circle((tloc_x, tloc_y), 1000, color=\"green\", fill=False)\n",
    "            min_dist = plt.Circle((tloc_x, tloc_y), 900, color=\"red\", fill=False)\n",
    "            plt.gca().add_patch(arrival_dist)\n",
    "            plt.gca().add_patch(min_dist)\n",
    "    plt.axis('equal')\n",
    "    #center = (-33555, -5000)\n",
    "    #radius = 15000\n",
    "    #plt.xlim(center[0]-radius,center[0]+radius)\n",
    "    #plt.ylim(center[1]-radius,center[1]+radius)\n",
    "\n",
    "    plt.legend()\n",
    "    plt.show()\n",
    "    \n",
    "ipywidgets.interact(\n",
    "    plot_collision_chart,\n",
    "    hist_length=ipywidgets.FloatSlider(value=5, min=0, max=df[\"ts\"].max()-df[\"ts\"].min(), continuous_update=False),\n",
    "    max_time=ipywidgets.FloatSlider(value=df[\"ts\"].max(), min=df[\"ts\"].min(), max=df[\"ts\"].max(), continuous_update=False),\n",
    "    show_tloc=ipywidgets.Checkbox(value=True),\n",
    ")"
   ]
  },
  {
   "cell_type": "markdown",
   "id": "f54f46d6",
   "metadata": {},
   "source": [
    "## Position and Heading"
   ]
  },
  {
   "cell_type": "code",
   "execution_count": 28,
   "id": "e6e85ccc",
   "metadata": {},
   "outputs": [
    {
     "data": {
      "application/vnd.jupyter.widget-view+json": {
       "model_id": "c08c534c0dcb4266a9981b134cdf5211",
       "version_major": 2,
       "version_minor": 0
      },
      "text/plain": [
       "interactive(children=(FloatSlider(value=5.0, continuous_update=False, description='hist_length', max=34.933333…"
      ]
     },
     "metadata": {},
     "output_type": "display_data"
    },
    {
     "data": {
      "text/plain": [
       "<function __main__.plot_collision_chart(hist_length=34.933333333332634, max_time=34.933333333332634)>"
      ]
     },
     "execution_count": 28,
     "metadata": {},
     "output_type": "execute_result"
    }
   ],
   "source": [
    "def plot_collision_chart(hist_length=df[\"ts\"].max(), max_time=df[\"ts\"].max()):\n",
    "    sample = df[(df[\"ts\"] >= max_time - hist_length) & (df[\"ts\"] <= max_time)].iloc[::50]\n",
    "    plt.quiver(sample[\"loc.x\"], sample[\"loc.y\"], sample[\"angle.x\"], sample[\"angle.y\"], label=\"ship\")\n",
    "    ctdv_df = sample[~(sample[\"o.ct_dv\"].isna())]\n",
    "    plt.quiver(ctdv_df[\"loc.x\"], ctdv_df[\"loc.y\"], ctdv_df[\"o.ct_dv.x\"], ctdv_df[\"o.ct_dv.y\"], label=\"ctdv\", color=\"orange\")\n",
    "    plt.quiver(sample[\"loc.x\"], sample[\"loc.y\"], sample[\"o.t_v.x\"], sample[\"o.t_v.y\"], label=\"tv\", color=\"purple\")\n",
    "    cmap = plt.get_cmap('viridis')\n",
    "    #for x, c in zip(df[\"o.ct\"].unique(), cmap(np.linspace(0, 1, len(sample[\"o.ct\"].unique())))):\n",
    "    #    print(x)\n",
    "    #    if not isinstance(x, str):\n",
    "    #        continue\n",
    "    #    ct = sample[sample[\"o.ct\"] == x]\n",
    "    #    plt.scatter(ct[\"o.ct_loc.x\"], ct[\"o.ct_loc.y\"], color=c, label=x[:8])\n",
    "    #plt.scatter(sample[\"o.t_loc.x\"], sample[\"o.t_loc.y\"], label=\"t_loc\")\n",
    "    #plt.axis('square')\n",
    "    #center = (-33555, -5000)\n",
    "    #radius = 15000\n",
    "    #plt.xlim(center[0]-radius,center[0]+radius)\n",
    "    #plt.ylim(center[1]-radius,center[1]+radius)\n",
    "\n",
    "    plt.legend()\n",
    "    plt.axis('equal')\n",
    "    plt.show()\n",
    "    \n",
    "ipywidgets.interact(plot_collision_chart, hist_length=ipywidgets.FloatSlider(value=5, min=0, max=df[\"ts\"].max()-df[\"ts\"].min(), continuous_update=False), max_time=ipywidgets.FloatSlider(value=df[\"ts\"].max(), min=df[\"ts\"].min(), max=df[\"ts\"].max(), continuous_update=False))"
   ]
  },
  {
   "cell_type": "markdown",
   "id": "c71adaec",
   "metadata": {},
   "source": [
    "# "
   ]
  }
 ],
 "metadata": {
  "kernelspec": {
   "display_name": "Python 3 (ipykernel)",
   "language": "python",
   "name": "python3"
  },
  "language_info": {
   "codemirror_mode": {
    "name": "ipython",
    "version": 3
   },
   "file_extension": ".py",
   "mimetype": "text/x-python",
   "name": "python",
   "nbconvert_exporter": "python",
   "pygments_lexer": "ipython3",
   "version": "3.10.1"
  }
 },
 "nbformat": 4,
 "nbformat_minor": 5
}
