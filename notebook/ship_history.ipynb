{
 "cells": [
  {
   "cell_type": "code",
   "execution_count": 1,
   "id": "9c5bbe2a",
   "metadata": {},
   "outputs": [],
   "source": [
    "import json\n",
    "\n",
    "import pandas as pd\n",
    "import numpy as np\n",
    "from matplotlib import pyplot as plt\n",
    "import ipywidgets\n",
    "\n",
    "from stellarpunk import util"
   ]
  },
  {
   "cell_type": "markdown",
   "id": "d6d53462",
   "metadata": {},
   "source": [
    "# Loading and Preparing Data"
   ]
  },
  {
   "cell_type": "code",
   "execution_count": 2,
   "id": "ceb18552",
   "metadata": {},
   "outputs": [],
   "source": [
    "df_base = pd.read_json(\"/tmp/stellarpunk_test.test_blocker_wall_collision_avoidance.history.gz\", lines=True)\n",
    "df_base = df_base.join(pd.json_normalize(df_base[\"o\"]).add_prefix(\"o.\"))"
   ]
  },
  {
   "cell_type": "code",
   "execution_count": 3,
   "id": "e9f5873d",
   "metadata": {},
   "outputs": [
    {
     "data": {
      "text/plain": [
       "0    2fe1c532-96a8-4eff-ad99-a8fae2517805\n",
       "1    47bbe1e1-559d-4c7e-9b81-f8c719c9f5f4\n",
       "2    7b6d5074-01d3-48ab-b178-10edd001ab7e\n",
       "3    070e836e-dd58-41a8-aabf-4a12c21d6305\n",
       "4    0763a6ea-b9d9-4e5f-bc98-d5d010dc578b\n",
       "5    4424f5f4-2d2a-4cad-a7e6-2caca3811e6f\n",
       "dtype: object"
      ]
     },
     "execution_count": 3,
     "metadata": {},
     "output_type": "execute_result"
    }
   ],
   "source": [
    "eids = pd.Series(df_base[\"eid\"].unique())\n",
    "eids"
   ]
  },
  {
   "cell_type": "code",
   "execution_count": 4,
   "id": "288e3f1e",
   "metadata": {},
   "outputs": [
    {
     "data": {
      "text/plain": [
       "Series([], dtype: object)"
      ]
     },
     "execution_count": 4,
     "metadata": {},
     "output_type": "execute_result"
    }
   ],
   "source": [
    "eids[pd.Series(df_base[\"eid\"].unique()).str.startswith(\"1688\")]"
   ]
  },
  {
   "cell_type": "code",
   "execution_count": 5,
   "id": "c9be6491",
   "metadata": {},
   "outputs": [
    {
     "data": {
      "text/plain": [
       "array(['2fe1c532-96a8-4eff-ad99-a8fae2517805'], dtype=object)"
      ]
     },
     "execution_count": 5,
     "metadata": {},
     "output_type": "execute_result"
    }
   ],
   "source": [
    "target_eid = df_base[\"eid\"].unique()[0]\n",
    "df_base = df_base[df_base[\"eid\"] == target_eid].reset_index()\n",
    "df_base[\"eid\"].unique()"
   ]
  },
  {
   "cell_type": "code",
   "execution_count": 6,
   "id": "b77f957c",
   "metadata": {},
   "outputs": [],
   "source": [
    "loc = pd.DataFrame(np.vstack(df_base[\"loc\"]), columns=[\"loc.x\", \"loc.y\"])\n",
    "v = pd.DataFrame(np.vstack(df_base[\"v\"]), columns=[\"v.x\", \"v.y\"])\n",
    "\n",
    "empty_array = np.empty(len(df_base))\n",
    "empty_array[:] = np.nan\n",
    "\n",
    "if \"o.t_loc\" in df_base:\n",
    "    o_tloc = pd.DataFrame(np.vstack(df_base[\"o.t_loc\"].apply(lambda x: (np.nan, np.nan) if np.all(np.isnan(x)) else x)), columns=[\"o.t_loc.x\", \"o.t_loc.y\"])\n",
    "    o_tv = pd.DataFrame(np.vstack(df_base[\"o.t_v\"].apply(lambda x: (np.nan, np.nan) if np.all(np.isnan(x)) else x)), columns=[\"o.t_v.x\", \"o.t_v.y\"])\n",
    "else:\n",
    "    o_tloc = pd.DataFrame({\"o.t_loc\": empty_array, \"o.t_loc.x\": empty_array, \"o.t_loc.y\": empty_array})\n",
    "    o_tv = pd.DataFrame({\"o.t_v\": empty_array, \"o.t_v.x\": empty_array, \"o.t_v.y\": empty_array})\n",
    "    \n",
    "if \"o.ct\" in df_base:\n",
    "    o_ctloc = pd.DataFrame(np.vstack(df_base[\"o.ct_loc\"].apply(lambda x: (np.nan, np.nan) if np.all(np.isnan(x)) else x)), columns=[\"o.ct_loc.x\", \"o.ct_loc.y\"])\n",
    "    o_ctdv = pd.DataFrame(np.vstack(df_base[\"o.ct_dv\"].apply(lambda x: (np.nan, np.nan) if np.all(np.isnan(x)) else x)), columns=[\"o.ct_dv.x\", \"o.ct_dv.y\"])\n",
    "else:\n",
    "    o_ctloc = pd.DataFrame({\"o.ct_loc\": empty_array, \"o.ct_loc.x\": empty_array, \"o.ct_loc.y\": empty_array})\n",
    "    o_ctdv = pd.DataFrame({\"o.ct_dv\": empty_array, \"o.ct_dv.x\": empty_array, \"o.ct_dv.y\": empty_array})\n",
    "angle = pd.DataFrame(np.vstack(df_base.apply(lambda row: np.array(util.polar_to_cartesian(100, row[\"a\"])), axis=1)), columns=[\"angle.x\", \"angle.y\"])\n",
    "df = pd.concat([df_base, loc, v, o_ctloc, o_ctdv, o_tloc, o_tv, angle], axis=1)\n",
    "\n",
    "if \"o.ct\" not in df_base:\n",
    "    df[\"o.ct\"] = empty_array\n",
    "    df[\"o.ct_ts\"] = empty_array\n",
    "    df[\"o.cac\"] = empty_array\n",
    "    df[\"o.cbdr\"] = empty_array\n",
    "    \n",
    "if \"o.t_loc\" not in df_base:\n",
    "    df[\"o.cs\"] = empty_array"
   ]
  },
  {
   "cell_type": "code",
   "execution_count": 7,
   "id": "6e17314e",
   "metadata": {},
   "outputs": [],
   "source": [
    "df[\"speed\"] = np.linalg.norm(df[[\"v.x\", \"v.y\"]], axis=1)\n",
    "df[\"o_ct_dist\"] = np.linalg.norm(np.vstack(df[\"loc\"]) - np.vstack(df[\"o.ct_loc\"].apply(lambda x: (np.nan, np.nan) if np.all(np.isnan(x)) else x)), axis=1)\n",
    "df[\"o_t_dist\"] = np.linalg.norm(np.vstack(df[\"loc\"]) - np.vstack(df[\"o.t_loc\"].apply(lambda x: (np.nan, np.nan) if np.all(np.isnan(x)) else x)), axis=1)\n",
    "df[\"o_t_speed\"] = np.linalg.norm(df[[\"o.t_v.x\", \"o.t_v.y\"]], axis=1)\n",
    "df[\"f_mag\"] = df[\"f\"].apply(lambda x:np.linalg.norm(x))"
   ]
  },
  {
   "cell_type": "code",
   "execution_count": 8,
   "id": "39640462",
   "metadata": {},
   "outputs": [],
   "source": [
    "df[\"o_ct_v.x\"] = (df[\"o.ct_loc.x\"].shift(1) - df[\"o.ct_loc.x\"]) / (df[\"ts\"].shift(1) - df[\"ts\"])\n",
    "df[\"o_ct_v.y\"] = (df[\"o.ct_loc.y\"].shift(1) - df[\"o.ct_loc.y\"]) / (df[\"ts\"].shift(1) - df[\"ts\"])"
   ]
  },
  {
   "cell_type": "code",
   "execution_count": 9,
   "id": "34fd5383",
   "metadata": {},
   "outputs": [
    {
     "data": {
      "text/html": [
       "<div>\n",
       "<style scoped>\n",
       "    .dataframe tbody tr th:only-of-type {\n",
       "        vertical-align: middle;\n",
       "    }\n",
       "\n",
       "    .dataframe tbody tr th {\n",
       "        vertical-align: top;\n",
       "    }\n",
       "\n",
       "    .dataframe thead th {\n",
       "        text-align: right;\n",
       "    }\n",
       "</style>\n",
       "<table border=\"1\" class=\"dataframe\">\n",
       "  <thead>\n",
       "    <tr style=\"text-align: right;\">\n",
       "      <th></th>\n",
       "      <th>index</th>\n",
       "      <th>eid</th>\n",
       "      <th>ts</th>\n",
       "      <th>loc</th>\n",
       "      <th>a</th>\n",
       "      <th>v</th>\n",
       "      <th>av</th>\n",
       "      <th>f</th>\n",
       "      <th>t</th>\n",
       "      <th>o</th>\n",
       "      <th>...</th>\n",
       "      <th>o.t_v.y</th>\n",
       "      <th>angle.x</th>\n",
       "      <th>angle.y</th>\n",
       "      <th>speed</th>\n",
       "      <th>o_ct_dist</th>\n",
       "      <th>o_t_dist</th>\n",
       "      <th>o_t_speed</th>\n",
       "      <th>f_mag</th>\n",
       "      <th>o_ct_v.x</th>\n",
       "      <th>o_ct_v.y</th>\n",
       "    </tr>\n",
       "  </thead>\n",
       "  <tbody>\n",
       "    <tr>\n",
       "      <th>0</th>\n",
       "      <td>0</td>\n",
       "      <td>2fe1c532-96a8-4eff-ad99-a8fae2517805</td>\n",
       "      <td>0.000000</td>\n",
       "      <td>[-400.0, 20000.0]</td>\n",
       "      <td>0.000000</td>\n",
       "      <td>[0.0, 0.0]</td>\n",
       "      <td>0.000000</td>\n",
       "      <td>[99.98000599799967, -4999.000299900035]</td>\n",
       "      <td>-900000.0</td>\n",
       "      <td>{'o': 'stellarpunk.orders.GoToLocation', 'nnd'...</td>\n",
       "      <td>...</td>\n",
       "      <td>-999.80006</td>\n",
       "      <td>100.000000</td>\n",
       "      <td>0.000000</td>\n",
       "      <td>0.000000e+00</td>\n",
       "      <td>NaN</td>\n",
       "      <td>20003.999600</td>\n",
       "      <td>1000.0</td>\n",
       "      <td>5000.000000</td>\n",
       "      <td>NaN</td>\n",
       "      <td>NaN</td>\n",
       "    </tr>\n",
       "    <tr>\n",
       "      <th>1</th>\n",
       "      <td>1</td>\n",
       "      <td>2fe1c532-96a8-4eff-ad99-a8fae2517805</td>\n",
       "      <td>0.016667</td>\n",
       "      <td>[-400.0, 20000.0]</td>\n",
       "      <td>0.000000</td>\n",
       "      <td>[0.0008331667166490001, -0.041658335832500004]</td>\n",
       "      <td>-0.016667</td>\n",
       "      <td>[100.10415464412326, -4998.997815384899]</td>\n",
       "      <td>-900000.0</td>\n",
       "      <td>{'o': 'stellarpunk.orders.GoToLocation', 'ct':...</td>\n",
       "      <td>...</td>\n",
       "      <td>-999.80006</td>\n",
       "      <td>100.000000</td>\n",
       "      <td>0.000000</td>\n",
       "      <td>4.166667e-02</td>\n",
       "      <td>10000.499988</td>\n",
       "      <td>20003.999600</td>\n",
       "      <td>1000.0</td>\n",
       "      <td>5000.000000</td>\n",
       "      <td>NaN</td>\n",
       "      <td>NaN</td>\n",
       "    </tr>\n",
       "    <tr>\n",
       "      <th>2</th>\n",
       "      <td>2</td>\n",
       "      <td>2fe1c532-96a8-4eff-ad99-a8fae2517805</td>\n",
       "      <td>0.033333</td>\n",
       "      <td>[-399.99998611388804, 19999.999305694404]</td>\n",
       "      <td>-0.000278</td>\n",
       "      <td>[0.001667368005351, -0.083316650960707]</td>\n",
       "      <td>-0.033333</td>\n",
       "      <td>[100.2282877565635, -4998.995328096776]</td>\n",
       "      <td>-900000.0</td>\n",
       "      <td>{'o': 'stellarpunk.orders.GoToLocation', 'ct':...</td>\n",
       "      <td>...</td>\n",
       "      <td>-999.80006</td>\n",
       "      <td>99.999996</td>\n",
       "      <td>-0.027778</td>\n",
       "      <td>8.333333e-02</td>\n",
       "      <td>10000.499293</td>\n",
       "      <td>20003.998906</td>\n",
       "      <td>1000.0</td>\n",
       "      <td>5000.000000</td>\n",
       "      <td>-0.0</td>\n",
       "      <td>-0.0</td>\n",
       "    </tr>\n",
       "    <tr>\n",
       "      <th>3</th>\n",
       "      <td>3</td>\n",
       "      <td>2fe1c532-96a8-4eff-ad99-a8fae2517805</td>\n",
       "      <td>0.050000</td>\n",
       "      <td>[-399.9999583244213, 19999.997917083554]</td>\n",
       "      <td>-0.000833</td>\n",
       "      <td>[0.0025026037366550004, -0.124974945361514]</td>\n",
       "      <td>-0.050000</td>\n",
       "      <td>[100.35240535798197, -4998.992838036364]</td>\n",
       "      <td>-900000.0</td>\n",
       "      <td>{'o': 'stellarpunk.orders.GoToLocation', 'ct':...</td>\n",
       "      <td>...</td>\n",
       "      <td>-999.80006</td>\n",
       "      <td>99.999965</td>\n",
       "      <td>-0.083333</td>\n",
       "      <td>1.250000e-01</td>\n",
       "      <td>10000.497904</td>\n",
       "      <td>20003.997517</td>\n",
       "      <td>1000.0</td>\n",
       "      <td>5000.000000</td>\n",
       "      <td>-0.0</td>\n",
       "      <td>-0.0</td>\n",
       "    </tr>\n",
       "    <tr>\n",
       "      <th>4</th>\n",
       "      <td>4</td>\n",
       "      <td>2fe1c532-96a8-4eff-ad99-a8fae2517805</td>\n",
       "      <td>0.066667</td>\n",
       "      <td>[-399.999916614359, 19999.9958341678]</td>\n",
       "      <td>-0.001667</td>\n",
       "      <td>[0.0033388737813050003, -0.16663321901181702]</td>\n",
       "      <td>-0.066667</td>\n",
       "      <td>[100.47650747105357, -4998.990345204361]</td>\n",
       "      <td>-900000.0</td>\n",
       "      <td>{'o': 'stellarpunk.orders.GoToLocation', 'ct':...</td>\n",
       "      <td>...</td>\n",
       "      <td>-999.80006</td>\n",
       "      <td>99.999861</td>\n",
       "      <td>-0.166667</td>\n",
       "      <td>1.666667e-01</td>\n",
       "      <td>10000.495821</td>\n",
       "      <td>20003.995433</td>\n",
       "      <td>1000.0</td>\n",
       "      <td>5000.000000</td>\n",
       "      <td>-0.0</td>\n",
       "      <td>-0.0</td>\n",
       "    </tr>\n",
       "    <tr>\n",
       "      <th>...</th>\n",
       "      <td>...</td>\n",
       "      <td>...</td>\n",
       "      <td>...</td>\n",
       "      <td>...</td>\n",
       "      <td>...</td>\n",
       "      <td>...</td>\n",
       "      <td>...</td>\n",
       "      <td>...</td>\n",
       "      <td>...</td>\n",
       "      <td>...</td>\n",
       "      <td>...</td>\n",
       "      <td>...</td>\n",
       "      <td>...</td>\n",
       "      <td>...</td>\n",
       "      <td>...</td>\n",
       "      <td>...</td>\n",
       "      <td>...</td>\n",
       "      <td>...</td>\n",
       "      <td>...</td>\n",
       "      <td>...</td>\n",
       "      <td>...</td>\n",
       "    </tr>\n",
       "    <tr>\n",
       "      <th>3027</th>\n",
       "      <td>3027</td>\n",
       "      <td>2fe1c532-96a8-4eff-ad99-a8fae2517805</td>\n",
       "      <td>50.450000</td>\n",
       "      <td>[189.1370286720186, 981.2343083415199]</td>\n",
       "      <td>-4.724478</td>\n",
       "      <td>[-2.56226461676176, -13.292912375059055]</td>\n",
       "      <td>0.174242</td>\n",
       "      <td>[94635.08592513557, 490962.52454942244]</td>\n",
       "      <td>-900000.0</td>\n",
       "      <td>{'o': 'stellarpunk.orders.GoToLocation', 'nnd'...</td>\n",
       "      <td>...</td>\n",
       "      <td>0.00000</td>\n",
       "      <td>1.208886</td>\n",
       "      <td>99.992693</td>\n",
       "      <td>1.353760e+01</td>\n",
       "      <td>NaN</td>\n",
       "      <td>999.296544</td>\n",
       "      <td>0.0</td>\n",
       "      <td>500000.000000</td>\n",
       "      <td>NaN</td>\n",
       "      <td>NaN</td>\n",
       "    </tr>\n",
       "    <tr>\n",
       "      <th>3028</th>\n",
       "      <td>3028</td>\n",
       "      <td>2fe1c532-96a8-4eff-ad99-a8fae2517805</td>\n",
       "      <td>50.466667</td>\n",
       "      <td>[189.09432426173925, 981.0127598019355]</td>\n",
       "      <td>-4.721574</td>\n",
       "      <td>[-1.773638900718964, -9.201558003813869]</td>\n",
       "      <td>0.157576</td>\n",
       "      <td>[94635.08592513569, 490962.52454942244]</td>\n",
       "      <td>-900000.0</td>\n",
       "      <td>{'o': 'stellarpunk.orders.GoToLocation', 'nnd'...</td>\n",
       "      <td>...</td>\n",
       "      <td>0.00000</td>\n",
       "      <td>0.918499</td>\n",
       "      <td>99.995782</td>\n",
       "      <td>9.370937e+00</td>\n",
       "      <td>NaN</td>\n",
       "      <td>999.070918</td>\n",
       "      <td>0.0</td>\n",
       "      <td>500000.000000</td>\n",
       "      <td>NaN</td>\n",
       "      <td>NaN</td>\n",
       "    </tr>\n",
       "    <tr>\n",
       "      <th>3029</th>\n",
       "      <td>3029</td>\n",
       "      <td>2fe1c532-96a8-4eff-ad99-a8fae2517805</td>\n",
       "      <td>50.483333</td>\n",
       "      <td>[189.06476361339392, 980.859400501872]</td>\n",
       "      <td>-4.718948</td>\n",
       "      <td>[-0.985013184676166, -5.110203632568682]</td>\n",
       "      <td>0.140909</td>\n",
       "      <td>[94635.08592513557, 490962.52454942244]</td>\n",
       "      <td>-900000.0</td>\n",
       "      <td>{'o': 'stellarpunk.orders.GoToLocation', 'nnd'...</td>\n",
       "      <td>...</td>\n",
       "      <td>0.00000</td>\n",
       "      <td>0.655881</td>\n",
       "      <td>99.997849</td>\n",
       "      <td>5.204271e+00</td>\n",
       "      <td>NaN</td>\n",
       "      <td>998.914735</td>\n",
       "      <td>0.0</td>\n",
       "      <td>500000.000000</td>\n",
       "      <td>NaN</td>\n",
       "      <td>NaN</td>\n",
       "    </tr>\n",
       "    <tr>\n",
       "      <th>3030</th>\n",
       "      <td>3030</td>\n",
       "      <td>2fe1c532-96a8-4eff-ad99-a8fae2517805</td>\n",
       "      <td>50.500000</td>\n",
       "      <td>[189.04834672698266, 980.7742304413291]</td>\n",
       "      <td>-4.716599</td>\n",
       "      <td>[-0.19638746863337, -1.018849261323495]</td>\n",
       "      <td>0.124242</td>\n",
       "      <td>[23566.496236004477, 122261.91135881947]</td>\n",
       "      <td>-900000.0</td>\n",
       "      <td>{'o': 'stellarpunk.orders.GoToLocation', 'nnd'...</td>\n",
       "      <td>...</td>\n",
       "      <td>0.00000</td>\n",
       "      <td>0.421036</td>\n",
       "      <td>99.999114</td>\n",
       "      <td>1.037604e+00</td>\n",
       "      <td>NaN</td>\n",
       "      <td>998.827997</td>\n",
       "      <td>0.0</td>\n",
       "      <td>124512.468106</td>\n",
       "      <td>NaN</td>\n",
       "      <td>NaN</td>\n",
       "    </tr>\n",
       "    <tr>\n",
       "      <th>3031</th>\n",
       "      <td>3031</td>\n",
       "      <td>2fe1c532-96a8-4eff-ad99-a8fae2517805</td>\n",
       "      <td>50.516667</td>\n",
       "      <td>[189.04507360250543, 980.7572496203071]</td>\n",
       "      <td>-4.714529</td>\n",
       "      <td>[1.110223024625156e-16, 0.0]</td>\n",
       "      <td>0.107576</td>\n",
       "      <td>[0.0, 0.0]</td>\n",
       "      <td>0.0</td>\n",
       "      <td>None</td>\n",
       "      <td>...</td>\n",
       "      <td>NaN</td>\n",
       "      <td>0.213966</td>\n",
       "      <td>99.999771</td>\n",
       "      <td>1.110223e-16</td>\n",
       "      <td>NaN</td>\n",
       "      <td>NaN</td>\n",
       "      <td>NaN</td>\n",
       "      <td>0.000000</td>\n",
       "      <td>NaN</td>\n",
       "      <td>NaN</td>\n",
       "    </tr>\n",
       "  </tbody>\n",
       "</table>\n",
       "<p>3032 rows × 44 columns</p>\n",
       "</div>"
      ],
      "text/plain": [
       "      index                                   eid         ts  \\\n",
       "0         0  2fe1c532-96a8-4eff-ad99-a8fae2517805   0.000000   \n",
       "1         1  2fe1c532-96a8-4eff-ad99-a8fae2517805   0.016667   \n",
       "2         2  2fe1c532-96a8-4eff-ad99-a8fae2517805   0.033333   \n",
       "3         3  2fe1c532-96a8-4eff-ad99-a8fae2517805   0.050000   \n",
       "4         4  2fe1c532-96a8-4eff-ad99-a8fae2517805   0.066667   \n",
       "...     ...                                   ...        ...   \n",
       "3027   3027  2fe1c532-96a8-4eff-ad99-a8fae2517805  50.450000   \n",
       "3028   3028  2fe1c532-96a8-4eff-ad99-a8fae2517805  50.466667   \n",
       "3029   3029  2fe1c532-96a8-4eff-ad99-a8fae2517805  50.483333   \n",
       "3030   3030  2fe1c532-96a8-4eff-ad99-a8fae2517805  50.500000   \n",
       "3031   3031  2fe1c532-96a8-4eff-ad99-a8fae2517805  50.516667   \n",
       "\n",
       "                                            loc         a  \\\n",
       "0                             [-400.0, 20000.0]  0.000000   \n",
       "1                             [-400.0, 20000.0]  0.000000   \n",
       "2     [-399.99998611388804, 19999.999305694404] -0.000278   \n",
       "3      [-399.9999583244213, 19999.997917083554] -0.000833   \n",
       "4         [-399.999916614359, 19999.9958341678] -0.001667   \n",
       "...                                         ...       ...   \n",
       "3027     [189.1370286720186, 981.2343083415199] -4.724478   \n",
       "3028    [189.09432426173925, 981.0127598019355] -4.721574   \n",
       "3029     [189.06476361339392, 980.859400501872] -4.718948   \n",
       "3030    [189.04834672698266, 980.7742304413291] -4.716599   \n",
       "3031    [189.04507360250543, 980.7572496203071] -4.714529   \n",
       "\n",
       "                                                   v        av  \\\n",
       "0                                         [0.0, 0.0]  0.000000   \n",
       "1     [0.0008331667166490001, -0.041658335832500004] -0.016667   \n",
       "2            [0.001667368005351, -0.083316650960707] -0.033333   \n",
       "3        [0.0025026037366550004, -0.124974945361514] -0.050000   \n",
       "4      [0.0033388737813050003, -0.16663321901181702] -0.066667   \n",
       "...                                              ...       ...   \n",
       "3027        [-2.56226461676176, -13.292912375059055]  0.174242   \n",
       "3028        [-1.773638900718964, -9.201558003813869]  0.157576   \n",
       "3029        [-0.985013184676166, -5.110203632568682]  0.140909   \n",
       "3030         [-0.19638746863337, -1.018849261323495]  0.124242   \n",
       "3031                    [1.110223024625156e-16, 0.0]  0.107576   \n",
       "\n",
       "                                             f         t  \\\n",
       "0      [99.98000599799967, -4999.000299900035] -900000.0   \n",
       "1     [100.10415464412326, -4998.997815384899] -900000.0   \n",
       "2      [100.2282877565635, -4998.995328096776] -900000.0   \n",
       "3     [100.35240535798197, -4998.992838036364] -900000.0   \n",
       "4     [100.47650747105357, -4998.990345204361] -900000.0   \n",
       "...                                        ...       ...   \n",
       "3027   [94635.08592513557, 490962.52454942244] -900000.0   \n",
       "3028   [94635.08592513569, 490962.52454942244] -900000.0   \n",
       "3029   [94635.08592513557, 490962.52454942244] -900000.0   \n",
       "3030  [23566.496236004477, 122261.91135881947] -900000.0   \n",
       "3031                                [0.0, 0.0]       0.0   \n",
       "\n",
       "                                                      o  ...    o.t_v.y  \\\n",
       "0     {'o': 'stellarpunk.orders.GoToLocation', 'nnd'...  ... -999.80006   \n",
       "1     {'o': 'stellarpunk.orders.GoToLocation', 'ct':...  ... -999.80006   \n",
       "2     {'o': 'stellarpunk.orders.GoToLocation', 'ct':...  ... -999.80006   \n",
       "3     {'o': 'stellarpunk.orders.GoToLocation', 'ct':...  ... -999.80006   \n",
       "4     {'o': 'stellarpunk.orders.GoToLocation', 'ct':...  ... -999.80006   \n",
       "...                                                 ...  ...        ...   \n",
       "3027  {'o': 'stellarpunk.orders.GoToLocation', 'nnd'...  ...    0.00000   \n",
       "3028  {'o': 'stellarpunk.orders.GoToLocation', 'nnd'...  ...    0.00000   \n",
       "3029  {'o': 'stellarpunk.orders.GoToLocation', 'nnd'...  ...    0.00000   \n",
       "3030  {'o': 'stellarpunk.orders.GoToLocation', 'nnd'...  ...    0.00000   \n",
       "3031                                               None  ...        NaN   \n",
       "\n",
       "         angle.x    angle.y         speed     o_ct_dist      o_t_dist  \\\n",
       "0     100.000000   0.000000  0.000000e+00           NaN  20003.999600   \n",
       "1     100.000000   0.000000  4.166667e-02  10000.499988  20003.999600   \n",
       "2      99.999996  -0.027778  8.333333e-02  10000.499293  20003.998906   \n",
       "3      99.999965  -0.083333  1.250000e-01  10000.497904  20003.997517   \n",
       "4      99.999861  -0.166667  1.666667e-01  10000.495821  20003.995433   \n",
       "...          ...        ...           ...           ...           ...   \n",
       "3027    1.208886  99.992693  1.353760e+01           NaN    999.296544   \n",
       "3028    0.918499  99.995782  9.370937e+00           NaN    999.070918   \n",
       "3029    0.655881  99.997849  5.204271e+00           NaN    998.914735   \n",
       "3030    0.421036  99.999114  1.037604e+00           NaN    998.827997   \n",
       "3031    0.213966  99.999771  1.110223e-16           NaN           NaN   \n",
       "\n",
       "     o_t_speed          f_mag o_ct_v.x  o_ct_v.y  \n",
       "0       1000.0    5000.000000      NaN       NaN  \n",
       "1       1000.0    5000.000000      NaN       NaN  \n",
       "2       1000.0    5000.000000     -0.0      -0.0  \n",
       "3       1000.0    5000.000000     -0.0      -0.0  \n",
       "4       1000.0    5000.000000     -0.0      -0.0  \n",
       "...        ...            ...      ...       ...  \n",
       "3027       0.0  500000.000000      NaN       NaN  \n",
       "3028       0.0  500000.000000      NaN       NaN  \n",
       "3029       0.0  500000.000000      NaN       NaN  \n",
       "3030       0.0  124512.468106      NaN       NaN  \n",
       "3031       NaN       0.000000      NaN       NaN  \n",
       "\n",
       "[3032 rows x 44 columns]"
      ]
     },
     "execution_count": 9,
     "metadata": {},
     "output_type": "execute_result"
    }
   ],
   "source": [
    "df"
   ]
  },
  {
   "cell_type": "markdown",
   "id": "a6d3cf5e",
   "metadata": {},
   "source": [
    "# Basic Ship Vitals"
   ]
  },
  {
   "cell_type": "markdown",
   "id": "36730903",
   "metadata": {},
   "source": [
    "## Position and Heading"
   ]
  },
  {
   "cell_type": "code",
   "execution_count": 10,
   "id": "665329e8",
   "metadata": {},
   "outputs": [
    {
     "data": {
      "application/vnd.jupyter.widget-view+json": {
       "model_id": "8a02e89a7fab49ad970090a6710ad8d1",
       "version_major": 2,
       "version_minor": 0
      },
      "text/plain": [
       "interactive(children=(FloatSlider(value=50.51666666666508, continuous_update=False, description='max_time', ma…"
      ]
     },
     "metadata": {},
     "output_type": "display_data"
    },
    {
     "data": {
      "text/plain": [
       "<function __main__.plot_location_chart(max_time)>"
      ]
     },
     "execution_count": 10,
     "metadata": {},
     "output_type": "execute_result"
    }
   ],
   "source": [
    "def plot_location_chart(max_time):\n",
    "    sample = df[df[\"ts\"] <= max_time].iloc[::50]\n",
    "    plt.quiver(sample[\"loc.x\"], sample[\"loc.y\"], sample[\"angle.x\"], sample[\"angle.y\"])#, scale=100)\n",
    "    plt.scatter(sample[\"o.t_loc.x\"], sample[\"o.t_loc.y\"])\n",
    "    #center = (0,2500)\n",
    "    #radius = 10000\n",
    "    #plt.xlim(center[0]-radius,center[0]+radius)\n",
    "    #plt.ylim(center[1]-radius,center[1]+radius)\n",
    "\n",
    "ipywidgets.interact(plot_location_chart, max_time=ipywidgets.FloatSlider(value=df[\"ts\"].max(), min=df[\"ts\"].min(), max=df[\"ts\"].max(), continuous_update=False))"
   ]
  },
  {
   "cell_type": "code",
   "execution_count": 11,
   "id": "fc01d8c0",
   "metadata": {},
   "outputs": [
    {
     "data": {
      "text/html": [
       "<div>\n",
       "<style scoped>\n",
       "    .dataframe tbody tr th:only-of-type {\n",
       "        vertical-align: middle;\n",
       "    }\n",
       "\n",
       "    .dataframe tbody tr th {\n",
       "        vertical-align: top;\n",
       "    }\n",
       "\n",
       "    .dataframe thead th {\n",
       "        text-align: right;\n",
       "    }\n",
       "</style>\n",
       "<table border=\"1\" class=\"dataframe\">\n",
       "  <thead>\n",
       "    <tr style=\"text-align: right;\">\n",
       "      <th></th>\n",
       "      <th>loc.x</th>\n",
       "      <th>loc.y</th>\n",
       "    </tr>\n",
       "  </thead>\n",
       "  <tbody>\n",
       "    <tr>\n",
       "      <th>count</th>\n",
       "      <td>3032.000000</td>\n",
       "      <td>3032.000000</td>\n",
       "    </tr>\n",
       "    <tr>\n",
       "      <th>mean</th>\n",
       "      <td>319.692059</td>\n",
       "      <td>8752.765337</td>\n",
       "    </tr>\n",
       "    <tr>\n",
       "      <th>std</th>\n",
       "      <td>390.534259</td>\n",
       "      <td>6756.138823</td>\n",
       "    </tr>\n",
       "    <tr>\n",
       "      <th>min</th>\n",
       "      <td>-400.000000</td>\n",
       "      <td>980.757250</td>\n",
       "    </tr>\n",
       "    <tr>\n",
       "      <th>25%</th>\n",
       "      <td>123.296039</td>\n",
       "      <td>2061.191347</td>\n",
       "    </tr>\n",
       "    <tr>\n",
       "      <th>50%</th>\n",
       "      <td>305.796902</td>\n",
       "      <td>7337.490435</td>\n",
       "    </tr>\n",
       "    <tr>\n",
       "      <th>75%</th>\n",
       "      <td>682.426633</td>\n",
       "      <td>15060.346655</td>\n",
       "    </tr>\n",
       "    <tr>\n",
       "      <th>max</th>\n",
       "      <td>978.957672</td>\n",
       "      <td>20000.000000</td>\n",
       "    </tr>\n",
       "  </tbody>\n",
       "</table>\n",
       "</div>"
      ],
      "text/plain": [
       "             loc.x         loc.y\n",
       "count  3032.000000   3032.000000\n",
       "mean    319.692059   8752.765337\n",
       "std     390.534259   6756.138823\n",
       "min    -400.000000    980.757250\n",
       "25%     123.296039   2061.191347\n",
       "50%     305.796902   7337.490435\n",
       "75%     682.426633  15060.346655\n",
       "max     978.957672  20000.000000"
      ]
     },
     "execution_count": 11,
     "metadata": {},
     "output_type": "execute_result"
    }
   ],
   "source": [
    "df[[\"loc.x\", \"loc.y\"]].describe()"
   ]
  },
  {
   "cell_type": "code",
   "execution_count": 12,
   "id": "e0f37c4c",
   "metadata": {},
   "outputs": [
    {
     "data": {
      "text/plain": [
       "<matplotlib.collections.PathCollection at 0x7f800de991e0>"
      ]
     },
     "execution_count": 12,
     "metadata": {},
     "output_type": "execute_result"
    },
    {
     "data": {
      "image/png": "[encoded data removed]",
      "text/plain": [
       "<Figure size 432x288 with 1 Axes>"
      ]
     },
     "metadata": {
      "needs_background": "light"
     },
     "output_type": "display_data"
    }
   ],
   "source": [
    "plt.scatter(df[\"ts\"], df[\"loc.x\"])\n",
    "plt.scatter(df[\"ts\"], df[\"loc.y\"])"
   ]
  },
  {
   "cell_type": "code",
   "execution_count": 13,
   "id": "b65fd521",
   "metadata": {},
   "outputs": [
    {
     "data": {
      "text/plain": [
       "<matplotlib.legend.Legend at 0x7f800c4173a0>"
      ]
     },
     "execution_count": 13,
     "metadata": {},
     "output_type": "execute_result"
    },
    {
     "data": {
      "image/png": "[encoded data removed]",
      "text/plain": [
       "<Figure size 432x288 with 1 Axes>"
      ]
     },
     "metadata": {
      "needs_background": "light"
     },
     "output_type": "display_data"
    }
   ],
   "source": [
    "plt.scatter(df[\"ts\"], df[\"a\"], label=\"theta\")\n",
    "plt.scatter(df[\"ts\"], df[\"av\"], label=\"omega\")\n",
    "plt.hlines(np.pi, df[\"ts\"].min(), df[\"ts\"].max(), color=\"red\")\n",
    "plt.hlines(0, df[\"ts\"].min(), df[\"ts\"].max(), color=\"red\")\n",
    "plt.legend()"
   ]
  },
  {
   "cell_type": "code",
   "execution_count": 14,
   "id": "e1a4515d",
   "metadata": {},
   "outputs": [
    {
     "data": {
      "text/plain": [
       "<matplotlib.collections.PathCollection at 0x7f800df00f40>"
      ]
     },
     "execution_count": 14,
     "metadata": {},
     "output_type": "execute_result"
    },
    {
     "data": {
      "image/png": "[encoded data removed]",
      "text/plain": [
       "<Figure size 432x288 with 1 Axes>"
      ]
     },
     "metadata": {
      "needs_background": "light"
     },
     "output_type": "display_data"
    }
   ],
   "source": [
    "plt.scatter(df[\"ts\"], df[\"t\"])"
   ]
  },
  {
   "cell_type": "markdown",
   "id": "4ce26323",
   "metadata": {},
   "source": [
    "## Velocity and Acceleration"
   ]
  },
  {
   "cell_type": "code",
   "execution_count": 15,
   "id": "32a0a440",
   "metadata": {
    "scrolled": true
   },
   "outputs": [
    {
     "data": {
      "text/plain": [
       "<matplotlib.collections.PathCollection at 0x7f800df68df0>"
      ]
     },
     "execution_count": 15,
     "metadata": {},
     "output_type": "execute_result"
    },
    {
     "data": {
      "image/png": "[encoded data removed]",
      "text/plain": [
       "<Figure size 432x288 with 1 Axes>"
      ]
     },
     "metadata": {
      "needs_background": "light"
     },
     "output_type": "display_data"
    }
   ],
   "source": [
    "plt.scatter(df[\"ts\"], df[\"v.x\"])\n",
    "plt.scatter(df[\"ts\"], df[\"v.y\"])"
   ]
  },
  {
   "cell_type": "code",
   "execution_count": 16,
   "id": "7e3172c1",
   "metadata": {
    "scrolled": true
   },
   "outputs": [
    {
     "data": {
      "image/png": "[encoded data removed]",
      "text/plain": [
       "<Figure size 432x288 with 1 Axes>"
      ]
     },
     "metadata": {
      "needs_background": "light"
     },
     "output_type": "display_data"
    }
   ],
   "source": [
    "#plt.scatter(df[\"ts\"], (df[\"v.x\"] - df[\"v.x\"].shift(-1)))#/(df[\"ts\"]-df[\"ts\"].shift(-1)))\n",
    "plt.scatter(df[\"ts\"], (df[\"v.x\"].shift(1) - df[\"v.x\"]) / (df[\"ts\"].shift(1) - df[\"ts\"]))\n",
    "plt.scatter(df[\"ts\"], (df[\"v.y\"].shift(1) - df[\"v.y\"]) / (df[\"ts\"].shift(1) - df[\"ts\"]))\n",
    "plt.yscale(\"symlog\")"
   ]
  },
  {
   "cell_type": "code",
   "execution_count": 17,
   "id": "7754010f",
   "metadata": {},
   "outputs": [
    {
     "data": {
      "image/png": "[encoded data removed]",
      "text/plain": [
       "<Figure size 432x288 with 1 Axes>"
      ]
     },
     "metadata": {
      "needs_background": "light"
     },
     "output_type": "display_data"
    }
   ],
   "source": [
    "plt.scatter(df[\"ts\"], df[\"f_mag\"])\n",
    "plt.yscale(\"log\")"
   ]
  },
  {
   "cell_type": "markdown",
   "id": "4630e3f8",
   "metadata": {},
   "source": [
    "# Behavior Monitoring"
   ]
  },
  {
   "cell_type": "code",
   "execution_count": 18,
   "id": "9e6db2b0",
   "metadata": {},
   "outputs": [
    {
     "data": {
      "application/vnd.jupyter.widget-view+json": {
       "model_id": "848631e738ed41ee9b230662a152fa17",
       "version_major": 2,
       "version_minor": 0
      },
      "text/plain": [
       "interactive(children=(FloatSlider(value=5.0, continuous_update=False, description='hist_length', max=50.516666…"
      ]
     },
     "metadata": {},
     "output_type": "display_data"
    },
    {
     "data": {
      "text/plain": [
       "<function __main__.plot_collision_info(hist_length, max_time)>"
      ]
     },
     "execution_count": 18,
     "metadata": {},
     "output_type": "execute_result"
    }
   ],
   "source": [
    "def plot_collision_info(hist_length, max_time):\n",
    "    sample = df[(df[\"ts\"] >= max_time - hist_length) & (df[\"ts\"] <= max_time)]\n",
    "    plt.scatter(sample[\"ts\"], (~(sample[\"o.ct\"].isna())).astype(int), label=\"ct\")\n",
    "    plt.scatter(sample[\"ts\"], sample[\"o.cs\"].fillna(0).astype(int)+0.05, label=\"cs\")\n",
    "    plt.scatter(sample[\"ts\"], sample[\"o.cac\"].fillna(0).astype(int)+0.1, label=\"cac\")\n",
    "    plt.scatter(sample[\"ts\"], sample[\"o.cbdr\"].fillna(0).astype(int)+0.15, label=\"cbdr\")\n",
    "    plt.legend()\n",
    "\n",
    "ipywidgets.interact(plot_collision_info, hist_length=ipywidgets.FloatSlider(value=5, min=0, max=df[\"ts\"].max()-df[\"ts\"].min(), continuous_update=False), max_time=ipywidgets.FloatSlider(value=df[\"ts\"].max(), min=df[\"ts\"].min(), max=df[\"ts\"].max()+.1, continuous_update=False))"
   ]
  },
  {
   "cell_type": "markdown",
   "id": "94ba2b3d",
   "metadata": {},
   "source": [
    "## Target Location"
   ]
  },
  {
   "cell_type": "code",
   "execution_count": 19,
   "id": "2640e1e5",
   "metadata": {},
   "outputs": [
    {
     "data": {
      "text/html": [
       "<div>\n",
       "<style scoped>\n",
       "    .dataframe tbody tr th:only-of-type {\n",
       "        vertical-align: middle;\n",
       "    }\n",
       "\n",
       "    .dataframe tbody tr th {\n",
       "        vertical-align: top;\n",
       "    }\n",
       "\n",
       "    .dataframe thead tr th {\n",
       "        text-align: left;\n",
       "    }\n",
       "\n",
       "    .dataframe thead tr:last-of-type th {\n",
       "        text-align: right;\n",
       "    }\n",
       "</style>\n",
       "<table border=\"1\" class=\"dataframe\">\n",
       "  <thead>\n",
       "    <tr>\n",
       "      <th></th>\n",
       "      <th></th>\n",
       "      <th colspan=\"3\" halign=\"left\">ts</th>\n",
       "      <th colspan=\"2\" halign=\"left\">o_t_dist</th>\n",
       "    </tr>\n",
       "    <tr>\n",
       "      <th></th>\n",
       "      <th></th>\n",
       "      <th>count</th>\n",
       "      <th>min</th>\n",
       "      <th>max</th>\n",
       "      <th>min</th>\n",
       "      <th>max</th>\n",
       "    </tr>\n",
       "    <tr>\n",
       "      <th>o.t_loc.x</th>\n",
       "      <th>o.t_loc.y</th>\n",
       "      <th></th>\n",
       "      <th></th>\n",
       "      <th></th>\n",
       "      <th></th>\n",
       "      <th></th>\n",
       "    </tr>\n",
       "  </thead>\n",
       "  <tbody>\n",
       "    <tr>\n",
       "      <th>0.0</th>\n",
       "      <th>0.0</th>\n",
       "      <td>3031</td>\n",
       "      <td>0.0</td>\n",
       "      <td>50.5</td>\n",
       "      <td>998.827997</td>\n",
       "      <td>20003.9996</td>\n",
       "    </tr>\n",
       "  </tbody>\n",
       "</table>\n",
       "</div>"
      ],
      "text/plain": [
       "                       ts               o_t_dist            \n",
       "                    count  min   max         min         max\n",
       "o.t_loc.x o.t_loc.y                                         \n",
       "0.0       0.0        3031  0.0  50.5  998.827997  20003.9996"
      ]
     },
     "execution_count": 19,
     "metadata": {},
     "output_type": "execute_result"
    }
   ],
   "source": [
    "if np.any(~df[\"o.t_loc\"].isna()):\n",
    "    x = df.groupby([\"o.t_loc.x\", \"o.t_loc.y\"]).agg({\"ts\": [\"count\", \"min\", \"max\"], \"o_t_dist\": [\"min\",\"max\"]})\n",
    "else:\n",
    "    x = \"no location target\"\n",
    "x"
   ]
  },
  {
   "cell_type": "code",
   "execution_count": 20,
   "id": "74d23fb4",
   "metadata": {},
   "outputs": [
    {
     "data": {
      "text/plain": [
       "(998.8279974540095, 998.8279974540095)"
      ]
     },
     "execution_count": 20,
     "metadata": {},
     "output_type": "execute_result"
    },
    {
     "data": {
      "image/png": "[encoded data removed]",
      "text/plain": [
       "<Figure size 432x288 with 1 Axes>"
      ]
     },
     "metadata": {
      "needs_background": "light"
     },
     "output_type": "display_data"
    }
   ],
   "source": [
    "#sample = df[(df[\"ts\"] < 124.4) & (df[\"ts\"] > 120)]\n",
    "sample = df\n",
    "plt.scatter(sample[\"ts\"], sample[\"o_t_dist\"])\n",
    "plt.hlines(1000, sample[\"ts\"].min(), sample[\"ts\"].max(), color=\"green\")\n",
    "plt.hlines(900, sample[\"ts\"].min(), sample[\"ts\"].max(), color=\"red\")\n",
    "plt.ylim(0,1500)\n",
    "sample[\"o_t_dist\"].min(),sample[df[\"ts\"] > sample[\"ts\"].max()-1][\"o_t_dist\"].min()"
   ]
  },
  {
   "cell_type": "code",
   "execution_count": 21,
   "id": "4d0bf8d0",
   "metadata": {},
   "outputs": [
    {
     "data": {
      "text/plain": [
       "(0.0, 1050.0000000000002)"
      ]
     },
     "execution_count": 21,
     "metadata": {},
     "output_type": "execute_result"
    },
    {
     "data": {
      "image/png": "[encoded data removed]",
      "text/plain": [
       "<Figure size 432x288 with 1 Axes>"
      ]
     },
     "metadata": {
      "needs_background": "light"
     },
     "output_type": "display_data"
    }
   ],
   "source": [
    "plt.scatter(df[\"ts\"], df[\"speed\"], label=\"actual speed\")\n",
    "plt.scatter(df[\"ts\"], df[\"o_t_speed\"], label=\"desired speed\")\n",
    "plt.legend()\n",
    "plt.ylim(0)"
   ]
  },
  {
   "cell_type": "code",
   "execution_count": 22,
   "id": "d7341dc2",
   "metadata": {
    "scrolled": true
   },
   "outputs": [
    {
     "data": {
      "text/plain": [
       "<matplotlib.collections.PathCollection at 0x7f800cc175e0>"
      ]
     },
     "execution_count": 22,
     "metadata": {},
     "output_type": "execute_result"
    },
    {
     "data": {
      "image/png": "[encoded data removed]",
      "text/plain": [
       "<Figure size 432x288 with 1 Axes>"
      ]
     },
     "metadata": {
      "needs_background": "light"
     },
     "output_type": "display_data"
    }
   ],
   "source": [
    "plt.scatter(df[\"ts\"], df[\"o_t_speed\"] - df[\"speed\"])"
   ]
  },
  {
   "cell_type": "markdown",
   "id": "5ac378ec",
   "metadata": {},
   "source": [
    "## Collision Avoidance"
   ]
  },
  {
   "cell_type": "code",
   "execution_count": 23,
   "id": "f38ca4d8",
   "metadata": {},
   "outputs": [
    {
     "data": {
      "text/html": [
       "<div>\n",
       "<style scoped>\n",
       "    .dataframe tbody tr th:only-of-type {\n",
       "        vertical-align: middle;\n",
       "    }\n",
       "\n",
       "    .dataframe tbody tr th {\n",
       "        vertical-align: top;\n",
       "    }\n",
       "\n",
       "    .dataframe thead tr th {\n",
       "        text-align: left;\n",
       "    }\n",
       "\n",
       "    .dataframe thead tr:last-of-type th {\n",
       "        text-align: right;\n",
       "    }\n",
       "</style>\n",
       "<table border=\"1\" class=\"dataframe\">\n",
       "  <thead>\n",
       "    <tr>\n",
       "      <th></th>\n",
       "      <th colspan=\"3\" halign=\"left\">ts</th>\n",
       "      <th colspan=\"2\" halign=\"left\">o_ct_dist</th>\n",
       "    </tr>\n",
       "    <tr>\n",
       "      <th></th>\n",
       "      <th>count</th>\n",
       "      <th>min</th>\n",
       "      <th>max</th>\n",
       "      <th>min</th>\n",
       "      <th>max</th>\n",
       "    </tr>\n",
       "    <tr>\n",
       "      <th>o.ct</th>\n",
       "      <th></th>\n",
       "      <th></th>\n",
       "      <th></th>\n",
       "      <th></th>\n",
       "      <th></th>\n",
       "    </tr>\n",
       "  </thead>\n",
       "  <tbody>\n",
       "    <tr>\n",
       "      <th>070e836e-dd58-41a8-aabf-4a12c21d6305</th>\n",
       "      <td>258</td>\n",
       "      <td>23.366667</td>\n",
       "      <td>27.650000</td>\n",
       "      <td>1032.677993</td>\n",
       "      <td>2706.215835</td>\n",
       "    </tr>\n",
       "    <tr>\n",
       "      <th>0763a6ea-b9d9-4e5f-bc98-d5d010dc578b</th>\n",
       "      <td>2</td>\n",
       "      <td>23.350000</td>\n",
       "      <td>27.666667</td>\n",
       "      <td>4126.102201</td>\n",
       "      <td>6524.396318</td>\n",
       "    </tr>\n",
       "    <tr>\n",
       "      <th>47bbe1e1-559d-4c7e-9b81-f8c719c9f5f4</th>\n",
       "      <td>1056</td>\n",
       "      <td>0.016667</td>\n",
       "      <td>17.600000</td>\n",
       "      <td>2152.682684</td>\n",
       "      <td>10000.499988</td>\n",
       "    </tr>\n",
       "  </tbody>\n",
       "</table>\n",
       "</div>"
      ],
      "text/plain": [
       "                                        ts                          o_ct_dist  \\\n",
       "                                     count        min        max          min   \n",
       "o.ct                                                                            \n",
       "070e836e-dd58-41a8-aabf-4a12c21d6305   258  23.366667  27.650000  1032.677993   \n",
       "0763a6ea-b9d9-4e5f-bc98-d5d010dc578b     2  23.350000  27.666667  4126.102201   \n",
       "47bbe1e1-559d-4c7e-9b81-f8c719c9f5f4  1056   0.016667  17.600000  2152.682684   \n",
       "\n",
       "                                                    \n",
       "                                               max  \n",
       "o.ct                                                \n",
       "070e836e-dd58-41a8-aabf-4a12c21d6305   2706.215835  \n",
       "0763a6ea-b9d9-4e5f-bc98-d5d010dc578b   6524.396318  \n",
       "47bbe1e1-559d-4c7e-9b81-f8c719c9f5f4  10000.499988  "
      ]
     },
     "execution_count": 23,
     "metadata": {},
     "output_type": "execute_result"
    }
   ],
   "source": [
    "if np.any(~df[\"o.ct\"].isna()):\n",
    "    x = df.groupby(\"o.ct\").agg({\"ts\": [\"count\", \"min\", \"max\"], \"o_ct_dist\": [\"min\",\"max\"]})\n",
    "else:\n",
    "    x = \"no collision threats\"\n",
    "x"
   ]
  },
  {
   "cell_type": "code",
   "execution_count": 24,
   "id": "890424d5",
   "metadata": {},
   "outputs": [
    {
     "data": {
      "text/plain": [
       "1032.677993266002"
      ]
     },
     "execution_count": 24,
     "metadata": {},
     "output_type": "execute_result"
    },
    {
     "data": {
      "image/png": "[encoded data removed]",
      "text/plain": [
       "<Figure size 432x288 with 1 Axes>"
      ]
     },
     "metadata": {
      "needs_background": "light"
     },
     "output_type": "display_data"
    }
   ],
   "source": [
    "sample = df\n",
    "plt.scatter(sample[\"ts\"], sample[\"o_ct_dist\"])\n",
    "plt.hlines(60+500+500, sample[\"ts\"].min(), sample[\"ts\"].max(), color=\"green\")\n",
    "plt.hlines(60+500, sample[\"ts\"].min(), sample[\"ts\"].max(), color=\"orange\")\n",
    "plt.hlines(330, sample[\"ts\"].min(), sample[\"ts\"].max(), color=\"red\")\n",
    "plt.hlines(60, sample[\"ts\"].min(), sample[\"ts\"].max(), color=\"red\")\n",
    "plt.ylim(0)\n",
    "df[\"o_ct_dist\"].min()"
   ]
  },
  {
   "cell_type": "code",
   "execution_count": 25,
   "id": "04aee2ed",
   "metadata": {},
   "outputs": [
    {
     "data": {
      "text/plain": [
       "<matplotlib.collections.PathCollection at 0x7f800cc7f1f0>"
      ]
     },
     "execution_count": 25,
     "metadata": {},
     "output_type": "execute_result"
    },
    {
     "data": {
      "image/png": "[encoded data removed]",
      "text/plain": [
       "<Figure size 432x288 with 1 Axes>"
      ]
     },
     "metadata": {
      "needs_background": "light"
     },
     "output_type": "display_data"
    }
   ],
   "source": [
    "plt.scatter(df[\"ts\"], df[\"o.ct_ct\"])"
   ]
  },
  {
   "cell_type": "code",
   "execution_count": 26,
   "id": "a3ce3d2d",
   "metadata": {},
   "outputs": [
    {
     "data": {
      "text/plain": [
       "<matplotlib.collections.PathCollection at 0x7f800cc56e90>"
      ]
     },
     "execution_count": 26,
     "metadata": {},
     "output_type": "execute_result"
    },
    {
     "data": {
      "image/png": "[encoded data removed]",
      "text/plain": [
       "<Figure size 432x288 with 2 Axes>"
      ]
     },
     "metadata": {
      "needs_background": "light"
     },
     "output_type": "display_data"
    }
   ],
   "source": [
    "fig, ax1 = plt.subplots()\n",
    "ax2 = ax1.twinx()\n",
    "\n",
    "ax1.scatter(df[\"ts\"], 1-df[\"o.ct\"].isna().astype(int))\n",
    "ax2.scatter(df[\"ts\"], df[\"ts\"] - df[\"o.ct_ts\"], color=\"orange\")\n",
    "\n",
    "#ax2.set_ylim(0,(df[\"ts\"] - df[\"o.ct_ts\"]).max()*1.2)"
   ]
  },
  {
   "cell_type": "markdown",
   "id": "12a7d799",
   "metadata": {},
   "source": [
    "# History Visualization"
   ]
  },
  {
   "cell_type": "markdown",
   "id": "e7b61368",
   "metadata": {},
   "source": [
    "## Position and Velocity"
   ]
  },
  {
   "cell_type": "code",
   "execution_count": 27,
   "id": "05fc6ec3",
   "metadata": {},
   "outputs": [
    {
     "data": {
      "application/vnd.jupyter.widget-view+json": {
       "model_id": "4bff104c00f24d08ade69efa3ec8a2de",
       "version_major": 2,
       "version_minor": 0
      },
      "text/plain": [
       "interactive(children=(FloatSlider(value=5.0, continuous_update=False, description='hist_length', max=50.516666…"
      ]
     },
     "metadata": {},
     "output_type": "display_data"
    },
    {
     "data": {
      "text/plain": [
       "<function __main__.plot_collision_chart(hist_length=50.51666666666508, max_time=50.51666666666508, sampling_interval=50, show_tloc=True)>"
      ]
     },
     "execution_count": 27,
     "metadata": {},
     "output_type": "execute_result"
    }
   ],
   "source": [
    "def plot_collision_chart(hist_length=df[\"ts\"].max(), max_time=df[\"ts\"].max(), sampling_interval=50, show_tloc=True):\n",
    "    plt.figure(figsize=(10, 10))\n",
    "    sample = df[(df[\"ts\"] >= max_time - hist_length) & (df[\"ts\"] <= max_time)].iloc[::sampling_interval]\n",
    "    plt.quiver(sample[\"loc.x\"], sample[\"loc.y\"], sample[\"v.x\"], sample[\"v.y\"], label=\"v\")\n",
    "    ctdv_df = sample[~(sample[\"o.ct_dv\"].isna())]\n",
    "    plt.quiver(ctdv_df[\"loc.x\"], ctdv_df[\"loc.y\"], ctdv_df[\"o.ct_dv.x\"], ctdv_df[\"o.ct_dv.y\"], label=\"ctdv\", color=\"orange\")\n",
    "    plt.quiver(sample[\"loc.x\"], sample[\"loc.y\"], sample[\"o.t_v.x\"], sample[\"o.t_v.y\"], label=\"tv\", color=\"purple\")\n",
    "    \n",
    "    plt.quiver(sample[\"o.ct_loc.x\"], sample[\"o.ct_loc.y\"], sample[\"o_ct_v.x\"], sample[\"o_ct_v.y\"])\n",
    "    cmap = plt.get_cmap('viridis')\n",
    "    for x, c in zip(df[\"o.ct\"].unique(), cmap(np.linspace(0, 1, len(df[\"o.ct\"].unique())))):\n",
    "        if not isinstance(x, str):\n",
    "            continue\n",
    "        ct = sample[sample[\"o.ct\"] == x]\n",
    "        if len(ct) == 0:\n",
    "            continue\n",
    "        plt.scatter(ct[\"o.ct_loc.x\"], ct[\"o.ct_loc.y\"], color=c, label=x[:8])\n",
    "    \n",
    "    if show_tloc:\n",
    "        plt.scatter(sample[\"o.t_loc.x\"], sample[\"o.t_loc.y\"], label=\"t_loc\")\n",
    "        for (tloc_x, tloc_y) in sample.groupby([\"o.t_loc.x\", \"o.t_loc.y\"])[\"o.t_loc\"].min():\n",
    "            arrival_dist = plt.Circle((tloc_x, tloc_y), 1000, color=\"green\", fill=False)\n",
    "            min_dist = plt.Circle((tloc_x, tloc_y), 900, color=\"red\", fill=False)\n",
    "            plt.gca().add_patch(arrival_dist)\n",
    "            plt.gca().add_patch(min_dist)\n",
    "    plt.axis('equal')\n",
    "    #center = (-33555, -5000)\n",
    "    #radius = 15000\n",
    "    #plt.xlim(center[0]-radius,center[0]+radius)\n",
    "    #plt.ylim(center[1]-radius,center[1]+radius)\n",
    "\n",
    "    plt.legend()\n",
    "    plt.show()\n",
    "    \n",
    "ipywidgets.interact(\n",
    "    plot_collision_chart,\n",
    "    hist_length=ipywidgets.FloatSlider(value=5, min=0, max=df[\"ts\"].max()-df[\"ts\"].min(), continuous_update=False),\n",
    "    max_time=ipywidgets.FloatSlider(step=1/60, value=df[\"ts\"].max(), min=df[\"ts\"].min(), max=df[\"ts\"].max(), continuous_update=False),\n",
    "    sampling_interval=ipywidgets.IntSlider(value=20, min=1, max=100, continuous_update=False),\n",
    "    show_tloc=ipywidgets.Checkbox(value=True),\n",
    ")"
   ]
  },
  {
   "cell_type": "markdown",
   "id": "6e5e3aad",
   "metadata": {},
   "source": [
    "## Position and Heading"
   ]
  },
  {
   "cell_type": "code",
   "execution_count": 28,
   "id": "2f7475c2",
   "metadata": {
    "scrolled": true
   },
   "outputs": [
    {
     "data": {
      "application/vnd.jupyter.widget-view+json": {
       "model_id": "efa283632269424c94cadcae6a0fc6ef",
       "version_major": 2,
       "version_minor": 0
      },
      "text/plain": [
       "interactive(children=(FloatSlider(value=5.0, continuous_update=False, description='hist_length', max=50.516666…"
      ]
     },
     "metadata": {},
     "output_type": "display_data"
    },
    {
     "data": {
      "text/plain": [
       "<function __main__.plot_collision_chart(hist_length=50.51666666666508, max_time=50.51666666666508)>"
      ]
     },
     "execution_count": 28,
     "metadata": {},
     "output_type": "execute_result"
    }
   ],
   "source": [
    "def plot_collision_chart(hist_length=df[\"ts\"].max(), max_time=df[\"ts\"].max()):\n",
    "    sample = df[(df[\"ts\"] >= max_time - hist_length) & (df[\"ts\"] <= max_time)].iloc[::50]\n",
    "    plt.quiver(sample[\"loc.x\"], sample[\"loc.y\"], sample[\"angle.x\"], sample[\"angle.y\"], label=\"ship\")\n",
    "    ctdv_df = sample[~(sample[\"o.ct_dv\"].isna())]\n",
    "    plt.quiver(ctdv_df[\"loc.x\"], ctdv_df[\"loc.y\"], ctdv_df[\"o.ct_dv.x\"], ctdv_df[\"o.ct_dv.y\"], label=\"ctdv\", color=\"orange\")\n",
    "    plt.quiver(sample[\"loc.x\"], sample[\"loc.y\"], sample[\"o.t_v.x\"], sample[\"o.t_v.y\"], label=\"tv\", color=\"purple\")\n",
    "    cmap = plt.get_cmap('viridis')\n",
    "    #for x, c in zip(df[\"o.ct\"].unique(), cmap(np.linspace(0, 1, len(sample[\"o.ct\"].unique())))):\n",
    "    #    print(x)\n",
    "    #    if not isinstance(x, str):\n",
    "    #        continue\n",
    "    #    ct = sample[sample[\"o.ct\"] == x]\n",
    "    #    plt.scatter(ct[\"o.ct_loc.x\"], ct[\"o.ct_loc.y\"], color=c, label=x[:8])\n",
    "    #plt.scatter(sample[\"o.t_loc.x\"], sample[\"o.t_loc.y\"], label=\"t_loc\")\n",
    "    #plt.axis('square')\n",
    "    #center = (-33555, -5000)\n",
    "    #radius = 15000\n",
    "    #plt.xlim(center[0]-radius,center[0]+radius)\n",
    "    #plt.ylim(center[1]-radius,center[1]+radius)\n",
    "\n",
    "    plt.legend()\n",
    "    plt.axis('equal')\n",
    "    plt.show()\n",
    "    \n",
    "ipywidgets.interact(plot_collision_chart, hist_length=ipywidgets.FloatSlider(value=5, min=0, max=df[\"ts\"].max()-df[\"ts\"].min(), continuous_update=False), max_time=ipywidgets.FloatSlider(value=df[\"ts\"].max(), min=df[\"ts\"].min(), max=df[\"ts\"].max(), continuous_update=False))"
   ]
  },
  {
   "cell_type": "markdown",
   "id": "6e24f370",
   "metadata": {},
   "source": [
    "# "
   ]
  }
 ],
 "metadata": {
  "kernelspec": {
   "display_name": "Python 3 (ipykernel)",
   "language": "python",
   "name": "python3"
  },
  "language_info": {
   "codemirror_mode": {
    "name": "ipython",
    "version": 3
   },
   "file_extension": ".py",
   "mimetype": "text/x-python",
   "name": "python",
   "nbconvert_exporter": "python",
   "pygments_lexer": "ipython3",
   "version": "3.10.1"
  }
 },
 "nbformat": 4,
 "nbformat_minor": 5
}
