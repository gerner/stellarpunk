{
 "cells": [
  {
   "cell_type": "code",
   "execution_count": 1,
   "id": "9c5bbe2a",
   "metadata": {},
   "outputs": [],
   "source": [
    "import json\n",
    "\n",
    "import pandas as pd\n",
    "import numpy as np\n",
    "from matplotlib import pyplot as plt\n",
    "import ipywidgets\n",
    "\n",
    "from stellarpunk import util"
   ]
  },
  {
   "cell_type": "markdown",
   "id": "d6d53462",
   "metadata": {},
   "source": [
    "# Loading and Preparing Data"
   ]
  },
  {
   "cell_type": "code",
   "execution_count": 2,
   "id": "ceb18552",
   "metadata": {},
   "outputs": [],
   "source": [
    "df_base = pd.read_json(\"/tmp/stellarpunk.history.gz\", lines=True)\n",
    "df_base = df_base.join(pd.json_normalize(df_base[\"o\"]).add_prefix(\"o.\"))"
   ]
  },
  {
   "cell_type": "code",
   "execution_count": 3,
   "id": "1585e6a6",
   "metadata": {},
   "outputs": [
    {
     "data": {
      "text/plain": [
       "0      135673ba-c6e3-49f8-9e2a-4c0f096b5ff8\n",
       "1      da7de856-08ef-47b5-af51-d4fb66f42149\n",
       "2      a6f3a0e6-222f-44d2-9a7a-19b2ad4e30b8\n",
       "3      46f0f8a5-be2e-4a52-9be9-9f45d13b6b08\n",
       "4      a9d0f947-aa3d-4032-ab09-70e3b9fff73a\n",
       "                       ...                 \n",
       "129    737c4b33-d4be-4616-808b-8238882c721a\n",
       "130    46ab6cb0-c26c-4af2-82aa-9375d877bb95\n",
       "131    8681c89e-213e-4076-9b13-6111c4f65086\n",
       "132    2884da06-63f0-428d-a114-8e260d5cf19d\n",
       "133    65e6f1b6-745d-44f0-88bc-2bd8a9e83108\n",
       "Length: 134, dtype: object"
      ]
     },
     "execution_count": 3,
     "metadata": {},
     "output_type": "execute_result"
    }
   ],
   "source": [
    "eids = pd.Series(df_base[\"eid\"].unique())\n",
    "eids"
   ]
  },
  {
   "cell_type": "code",
   "execution_count": 4,
   "id": "288e3f1e",
   "metadata": {},
   "outputs": [
    {
     "data": {
      "text/plain": [
       "119    d0c48ae3-b438-463a-9a6f-1f6f8ad69e4e\n",
       "dtype: object"
      ]
     },
     "execution_count": 4,
     "metadata": {},
     "output_type": "execute_result"
    }
   ],
   "source": [
    "targets = eids[pd.Series(df_base[\"eid\"].unique()).str.startswith(\"d0c\")]\n",
    "targets"
   ]
  },
  {
   "cell_type": "code",
   "execution_count": 5,
   "id": "caf3fedb",
   "metadata": {},
   "outputs": [],
   "source": [
    "target_index = targets.index[0]"
   ]
  },
  {
   "cell_type": "code",
   "execution_count": 6,
   "id": "c9be6491",
   "metadata": {},
   "outputs": [
    {
     "data": {
      "text/plain": [
       "array(['d0c48ae3-b438-463a-9a6f-1f6f8ad69e4e'], dtype=object)"
      ]
     },
     "execution_count": 6,
     "metadata": {},
     "output_type": "execute_result"
    }
   ],
   "source": [
    "target_eid = df_base[\"eid\"].unique()[target_index]\n",
    "df_base = df_base[df_base[\"eid\"] == target_eid].reset_index()\n",
    "df_base[\"eid\"].unique()"
   ]
  },
  {
   "cell_type": "code",
   "execution_count": 7,
   "id": "b77f957c",
   "metadata": {},
   "outputs": [],
   "source": [
    "loc = pd.DataFrame(np.vstack(df_base[\"loc\"]), columns=[\"loc.x\", \"loc.y\"])\n",
    "v = pd.DataFrame(np.vstack(df_base[\"v\"]), columns=[\"v.x\", \"v.y\"])\n",
    "\n",
    "empty_array = np.empty(len(df_base))\n",
    "empty_array[:] = np.nan\n",
    "\n",
    "if \"o.t_loc\" in df_base:\n",
    "    o_tloc = pd.DataFrame(np.vstack(df_base[\"o.t_loc\"].apply(lambda x: (np.nan, np.nan) if np.all(np.isnan(x)) else x)), columns=[\"o.t_loc.x\", \"o.t_loc.y\"])\n",
    "    o_tv = pd.DataFrame(np.vstack(df_base[\"o.t_v\"].apply(lambda x: (np.nan, np.nan) if np.all(np.isnan(x)) else x)), columns=[\"o.t_v.x\", \"o.t_v.y\"])\n",
    "else:\n",
    "    o_tloc = pd.DataFrame({\"o.t_loc\": empty_array, \"o.t_loc.x\": empty_array, \"o.t_loc.y\": empty_array})\n",
    "    o_tv = pd.DataFrame({\"o.t_v\": empty_array, \"o.t_v.x\": empty_array, \"o.t_v.y\": empty_array})\n",
    "    \n",
    "if \"o.ct\" in df_base:\n",
    "    o_ctloc = pd.DataFrame(np.vstack(df_base[\"o.ct_loc\"].apply(lambda x: (np.nan, np.nan) if np.all(np.isnan(x)) else x)), columns=[\"o.ct_loc.x\", \"o.ct_loc.y\"])\n",
    "    o_ctdv = pd.DataFrame(np.vstack(df_base[\"o.ct_dv\"].apply(lambda x: (np.nan, np.nan) if np.all(np.isnan(x)) else x)), columns=[\"o.ct_dv.x\", \"o.ct_dv.y\"])\n",
    "    o_ctv = pd.DataFrame(np.vstack(df_base[\"o.ct_v\"].apply(lambda x: (np.nan, np.nan) if np.all(np.isnan(x)) else x)), columns=[\"o.ct_v.x\", \"o.ct_v.y\"])\n",
    "    o_ctcloc = pd.DataFrame(np.vstack(df_base[\"o.ct_cloc\"].apply(lambda x: (np.nan, np.nan) if np.all(np.isnan(x)) else x)), columns=[\"o.ct_cloc.x\", \"o.ct_cloc.y\"])\n",
    "else:\n",
    "    o_ctloc = pd.DataFrame({\"o.ct_loc\": empty_array, \"o.ct_loc.x\": empty_array, \"o.ct_loc.y\": empty_array})\n",
    "    o_ctdv = pd.DataFrame({\"o.ct_dv\": empty_array, \"o.ct_dv.x\": empty_array, \"o.ct_dv.y\": empty_array})\n",
    "    o_ctv = pd.DataFrame({\"o.ct_v\": empty_array, \"o.ct_v.x\": empty_array, \"o.ct_v.y\": empty_array})\n",
    "    o_ctcloc = pd.DataFrame({\"o.ct_cloc\": empty_array, \"o.ct_cloc.x\": empty_array, \"o.ct_cloc.y\": empty_array})\n",
    "angle = pd.DataFrame(np.vstack(df_base.apply(lambda row: np.array(util.polar_to_cartesian(100, row[\"a\"])), axis=1)), columns=[\"angle.x\", \"angle.y\"])\n",
    "df = pd.concat([df_base, loc, v, o_ctloc, o_ctcloc, o_ctdv, o_ctv, o_tloc, o_tv, angle], axis=1)\n",
    "\n",
    "if \"o.ct\" not in df_base:\n",
    "    df[\"o.ct\"] = empty_array\n",
    "    df[\"o.ct_ts\"] = empty_array\n",
    "    df[\"o.cac\"] = empty_array\n",
    "    df[\"o.cbdr\"] = empty_array\n",
    "    df[\"o.cbdr_hist\"] = empty_array\n",
    "    df[\"o.ct_ct\"] = empty_array\n",
    "    df[\"o.ct_cradius\"] = empty_array\n",
    "    df[\"o.nd\"] = empty_array\n",
    "    df[\"o.ct_dist\"] = empty_array\n",
    "else:\n",
    "    df[\"o.ct_dist\"] = np.linalg.norm(np.vstack(df[\"loc\"]) - np.vstack(df[\"o.ct_cloc\"].apply(lambda x: (np.nan, np.nan) if np.all(np.isnan(x)) else x)), axis=1)\n",
    "    \n",
    "if \"o.t_loc\" not in df_base:\n",
    "    df[\"o.cs\"] = empty_array\n",
    "    df[\"o.t_dist\"] = empty_array\n",
    "else:\n",
    "    df[\"o.t_dist\"] = np.linalg.norm(np.vstack(df[\"loc\"]) - np.vstack(df[\"o.t_loc\"].apply(lambda x: (np.nan, np.nan) if np.all(np.isnan(x)) else x)), axis=1)"
   ]
  },
  {
   "cell_type": "code",
   "execution_count": 8,
   "id": "6e17314e",
   "metadata": {},
   "outputs": [],
   "source": [
    "df[\"speed\"] = np.linalg.norm(df[[\"v.x\", \"v.y\"]], axis=1)\n",
    "df[\"o.t_speed\"] = np.linalg.norm(df[[\"o.t_v.x\", \"o.t_v.y\"]], axis=1)\n",
    "df[\"f_mag\"] = df[\"f\"].apply(lambda x:np.linalg.norm(x))"
   ]
  },
  {
   "cell_type": "code",
   "execution_count": 9,
   "id": "39640462",
   "metadata": {},
   "outputs": [],
   "source": [
    "#df[\"o.ct_v.x\"] = (df[\"o.ct_loc.x\"].shift(1) - df[\"o.ct_loc.x\"]) / (df[\"ts\"].shift(1) - df[\"ts\"])\n",
    "#df[\"o.ct_v.y\"] = (df[\"o.ct_loc.y\"].shift(1) - df[\"o.ct_loc.y\"]) / (df[\"ts\"].shift(1) - df[\"ts\"])"
   ]
  },
  {
   "cell_type": "code",
   "execution_count": 10,
   "id": "34fd5383",
   "metadata": {},
   "outputs": [
    {
     "data": {
      "text/html": [
       "<div>\n",
       "<style scoped>\n",
       "    .dataframe tbody tr th:only-of-type {\n",
       "        vertical-align: middle;\n",
       "    }\n",
       "\n",
       "    .dataframe tbody tr th {\n",
       "        vertical-align: top;\n",
       "    }\n",
       "\n",
       "    .dataframe thead th {\n",
       "        text-align: right;\n",
       "    }\n",
       "</style>\n",
       "<table border=\"1\" class=\"dataframe\">\n",
       "  <thead>\n",
       "    <tr style=\"text-align: right;\">\n",
       "      <th></th>\n",
       "      <th>index</th>\n",
       "      <th>p</th>\n",
       "      <th>eid</th>\n",
       "      <th>ts</th>\n",
       "      <th>loc</th>\n",
       "      <th>r</th>\n",
       "      <th>a</th>\n",
       "      <th>v</th>\n",
       "      <th>av</th>\n",
       "      <th>f</th>\n",
       "      <th>...</th>\n",
       "      <th>o.t_loc.y</th>\n",
       "      <th>o.t_v.x</th>\n",
       "      <th>o.t_v.y</th>\n",
       "      <th>angle.x</th>\n",
       "      <th>angle.y</th>\n",
       "      <th>o.ct_dist</th>\n",
       "      <th>o.t_dist</th>\n",
       "      <th>speed</th>\n",
       "      <th>o.t_speed</th>\n",
       "      <th>f_mag</th>\n",
       "    </tr>\n",
       "  </thead>\n",
       "  <tbody>\n",
       "    <tr>\n",
       "      <th>0</th>\n",
       "      <td>5660</td>\n",
       "      <td>SHP</td>\n",
       "      <td>d0c48ae3-b438-463a-9a6f-1f6f8ad69e4e</td>\n",
       "      <td>0.133333</td>\n",
       "      <td>[9099.66740268315, 68007.28893377277]</td>\n",
       "      <td>30</td>\n",
       "      <td>-1.022598</td>\n",
       "      <td>[9.717566456330955, -15.968109527798422]</td>\n",
       "      <td>-0.294720</td>\n",
       "      <td>[3335.742534485992, -14624.391328996258]</td>\n",
       "      <td>...</td>\n",
       "      <td>11307.30985</td>\n",
       "      <td>344.518495</td>\n",
       "      <td>-1483.785169</td>\n",
       "      <td>52.115072</td>\n",
       "      <td>-85.346466</td>\n",
       "      <td>NaN</td>\n",
       "      <td>58208.176907</td>\n",
       "      <td>18.692555</td>\n",
       "      <td>1523.256847</td>\n",
       "      <td>15000.0</td>\n",
       "    </tr>\n",
       "    <tr>\n",
       "      <th>1</th>\n",
       "      <td>5661</td>\n",
       "      <td>SHP</td>\n",
       "      <td>d0c48ae3-b438-463a-9a6f-1f6f8ad69e4e</td>\n",
       "      <td>0.300000</td>\n",
       "      <td>[9101.307845483376, 68004.53617973899]</td>\n",
       "      <td>30</td>\n",
       "      <td>-1.109218</td>\n",
       "      <td>[9.995545000871457, -17.18680880521477]</td>\n",
       "      <td>-0.794720</td>\n",
       "      <td>[3335.742534485992, -14624.391328996258]</td>\n",
       "      <td>...</td>\n",
       "      <td>11307.30985</td>\n",
       "      <td>344.518495</td>\n",
       "      <td>-1483.785169</td>\n",
       "      <td>44.536219</td>\n",
       "      <td>-89.535050</td>\n",
       "      <td>NaN</td>\n",
       "      <td>58205.124479</td>\n",
       "      <td>19.882085</td>\n",
       "      <td>1523.256847</td>\n",
       "      <td>15000.0</td>\n",
       "    </tr>\n",
       "    <tr>\n",
       "      <th>2</th>\n",
       "      <td>5662</td>\n",
       "      <td>SHP</td>\n",
       "      <td>d0c48ae3-b438-463a-9a6f-1f6f8ad69e4e</td>\n",
       "      <td>0.466667</td>\n",
       "      <td>[9103.114612112753, 68001.05423730423]</td>\n",
       "      <td>30</td>\n",
       "      <td>-1.253978</td>\n",
       "      <td>[12.673404979944932, -28.926945177658986]</td>\n",
       "      <td>-0.715078</td>\n",
       "      <td>[44476.5671264799, -194991.8843866168]</td>\n",
       "      <td>...</td>\n",
       "      <td>11307.30985</td>\n",
       "      <td>344.518495</td>\n",
       "      <td>-1483.785169</td>\n",
       "      <td>31.154435</td>\n",
       "      <td>-95.023161</td>\n",
       "      <td>NaN</td>\n",
       "      <td>58201.324157</td>\n",
       "      <td>31.581377</td>\n",
       "      <td>1523.256847</td>\n",
       "      <td>200000.0</td>\n",
       "    </tr>\n",
       "    <tr>\n",
       "      <th>3</th>\n",
       "      <td>5663</td>\n",
       "      <td>SHP</td>\n",
       "      <td>d0c48ae3-b438-463a-9a6f-1f6f8ad69e4e</td>\n",
       "      <td>0.633333</td>\n",
       "      <td>[9105.504824820617, 67995.01438049719]</td>\n",
       "      <td>30</td>\n",
       "      <td>-1.339028</td>\n",
       "      <td>[16.379785573818253, -45.17626887654374]</td>\n",
       "      <td>-0.247990</td>\n",
       "      <td>[44476.56712647989, -194991.8843866168]</td>\n",
       "      <td>...</td>\n",
       "      <td>11307.30985</td>\n",
       "      <td>344.518495</td>\n",
       "      <td>-1483.785169</td>\n",
       "      <td>22.969876</td>\n",
       "      <td>-97.326177</td>\n",
       "      <td>NaN</td>\n",
       "      <td>58194.900259</td>\n",
       "      <td>48.054060</td>\n",
       "      <td>1523.256847</td>\n",
       "      <td>200000.0</td>\n",
       "    </tr>\n",
       "    <tr>\n",
       "      <th>4</th>\n",
       "      <td>5664</td>\n",
       "      <td>SHP</td>\n",
       "      <td>d0c48ae3-b438-463a-9a6f-1f6f8ad69e4e</td>\n",
       "      <td>0.800000</td>\n",
       "      <td>[9108.51276762746, 67986.26630307367]</td>\n",
       "      <td>30</td>\n",
       "      <td>-1.344727</td>\n",
       "      <td>[20.086166167691573, -61.425592575428496]</td>\n",
       "      <td>0.053910</td>\n",
       "      <td>[44476.567126479895, -194991.88438661682]</td>\n",
       "      <td>...</td>\n",
       "      <td>11307.30985</td>\n",
       "      <td>344.518495</td>\n",
       "      <td>-1483.785169</td>\n",
       "      <td>22.414826</td>\n",
       "      <td>-97.455506</td>\n",
       "      <td>NaN</td>\n",
       "      <td>58185.698619</td>\n",
       "      <td>64.626291</td>\n",
       "      <td>1523.256847</td>\n",
       "      <td>200000.0</td>\n",
       "    </tr>\n",
       "    <tr>\n",
       "      <th>...</th>\n",
       "      <td>...</td>\n",
       "      <td>...</td>\n",
       "      <td>...</td>\n",
       "      <td>...</td>\n",
       "      <td>...</td>\n",
       "      <td>...</td>\n",
       "      <td>...</td>\n",
       "      <td>...</td>\n",
       "      <td>...</td>\n",
       "      <td>...</td>\n",
       "      <td>...</td>\n",
       "      <td>...</td>\n",
       "      <td>...</td>\n",
       "      <td>...</td>\n",
       "      <td>...</td>\n",
       "      <td>...</td>\n",
       "      <td>...</td>\n",
       "      <td>...</td>\n",
       "      <td>...</td>\n",
       "      <td>...</td>\n",
       "      <td>...</td>\n",
       "    </tr>\n",
       "    <tr>\n",
       "      <th>342</th>\n",
       "      <td>6002</td>\n",
       "      <td>SHP</td>\n",
       "      <td>d0c48ae3-b438-463a-9a6f-1f6f8ad69e4e</td>\n",
       "      <td>57.133333</td>\n",
       "      <td>[18654.62981279303, 21297.22982874417]</td>\n",
       "      <td>30</td>\n",
       "      <td>13.925260</td>\n",
       "      <td>[159.90698183003636, -730.6981478149404]</td>\n",
       "      <td>0.050000</td>\n",
       "      <td>[11277.46044790727, 199681.79407709127]</td>\n",
       "      <td>...</td>\n",
       "      <td>11307.30985</td>\n",
       "      <td>47.150759</td>\n",
       "      <td>-130.559449</td>\n",
       "      <td>21.032480</td>\n",
       "      <td>97.763157</td>\n",
       "      <td>631.585004</td>\n",
       "      <td>10622.020030</td>\n",
       "      <td>747.990659</td>\n",
       "      <td>138.812693</td>\n",
       "      <td>200000.0</td>\n",
       "    </tr>\n",
       "    <tr>\n",
       "      <th>343</th>\n",
       "      <td>6003</td>\n",
       "      <td>SHP</td>\n",
       "      <td>d0c48ae3-b438-463a-9a6f-1f6f8ad69e4e</td>\n",
       "      <td>57.300000</td>\n",
       "      <td>[18681.356364405456, 21176.69451501216]</td>\n",
       "      <td>30</td>\n",
       "      <td>13.971093</td>\n",
       "      <td>[160.97336994775105, -714.0659442507722]</td>\n",
       "      <td>0.550000</td>\n",
       "      <td>[14425.66712697244, 199479.07190465316]</td>\n",
       "      <td>...</td>\n",
       "      <td>11307.30985</td>\n",
       "      <td>40.519238</td>\n",
       "      <td>-111.770998</td>\n",
       "      <td>16.531149</td>\n",
       "      <td>98.624141</td>\n",
       "      <td>508.844696</td>\n",
       "      <td>10499.587372</td>\n",
       "      <td>731.985381</td>\n",
       "      <td>118.888876</td>\n",
       "      <td>200000.0</td>\n",
       "    </tr>\n",
       "    <tr>\n",
       "      <th>344</th>\n",
       "      <td>6004</td>\n",
       "      <td>SHP</td>\n",
       "      <td>d0c48ae3-b438-463a-9a6f-1f6f8ad69e4e</td>\n",
       "      <td>57.466667</td>\n",
       "      <td>[18708.28894368584, 21058.92918288248]</td>\n",
       "      <td>30</td>\n",
       "      <td>14.048940</td>\n",
       "      <td>[162.46506394661685, -697.4672689557134]</td>\n",
       "      <td>0.218734</td>\n",
       "      <td>[23159.782264350608, 198654.53552704974]</td>\n",
       "      <td>...</td>\n",
       "      <td>11307.30985</td>\n",
       "      <td>34.244917</td>\n",
       "      <td>-93.953636</td>\n",
       "      <td>8.811254</td>\n",
       "      <td>99.611053</td>\n",
       "      <td>389.317981</td>\n",
       "      <td>10379.710847</td>\n",
       "      <td>716.139294</td>\n",
       "      <td>100.000000</td>\n",
       "      <td>200000.0</td>\n",
       "    </tr>\n",
       "    <tr>\n",
       "      <th>345</th>\n",
       "      <td>6005</td>\n",
       "      <td>SHP</td>\n",
       "      <td>d0c48ae3-b438-463a-9a6f-1f6f8ad69e4e</td>\n",
       "      <td>57.633333</td>\n",
       "      <td>[18735.52636715159, 20943.92424087957]</td>\n",
       "      <td>30</td>\n",
       "      <td>14.047896</td>\n",
       "      <td>[164.772659319128, -680.9637440835677]</td>\n",
       "      <td>-0.281266</td>\n",
       "      <td>[32181.618803295536, 197393.87885950107]</td>\n",
       "      <td>...</td>\n",
       "      <td>11307.30985</td>\n",
       "      <td>34.347463</td>\n",
       "      <td>-93.916196</td>\n",
       "      <td>8.915268</td>\n",
       "      <td>99.601797</td>\n",
       "      <td>273.693280</td>\n",
       "      <td>10262.343308</td>\n",
       "      <td>700.615194</td>\n",
       "      <td>100.000000</td>\n",
       "      <td>200000.0</td>\n",
       "    </tr>\n",
       "    <tr>\n",
       "      <th>346</th>\n",
       "      <td>6006</td>\n",
       "      <td>SHP</td>\n",
       "      <td>d0c48ae3-b438-463a-9a6f-1f6f8ad69e4e</td>\n",
       "      <td>57.800000</td>\n",
       "      <td>[18763.199616335252, 20831.662276323503]</td>\n",
       "      <td>30</td>\n",
       "      <td>13.980185</td>\n",
       "      <td>[167.54573390543607, -664.5300205686214]</td>\n",
       "      <td>-0.294607</td>\n",
       "      <td>[33702.37528024076, 197139.92467399855]</td>\n",
       "      <td>...</td>\n",
       "      <td>11307.30985</td>\n",
       "      <td>34.489914</td>\n",
       "      <td>-93.863975</td>\n",
       "      <td>15.633816</td>\n",
       "      <td>98.770359</td>\n",
       "      <td>164.588497</td>\n",
       "      <td>10147.418879</td>\n",
       "      <td>685.325996</td>\n",
       "      <td>100.000000</td>\n",
       "      <td>200000.0</td>\n",
       "    </tr>\n",
       "  </tbody>\n",
       "</table>\n",
       "<p>347 rows × 58 columns</p>\n",
       "</div>"
      ],
      "text/plain": [
       "     index    p                                   eid         ts  \\\n",
       "0     5660  SHP  d0c48ae3-b438-463a-9a6f-1f6f8ad69e4e   0.133333   \n",
       "1     5661  SHP  d0c48ae3-b438-463a-9a6f-1f6f8ad69e4e   0.300000   \n",
       "2     5662  SHP  d0c48ae3-b438-463a-9a6f-1f6f8ad69e4e   0.466667   \n",
       "3     5663  SHP  d0c48ae3-b438-463a-9a6f-1f6f8ad69e4e   0.633333   \n",
       "4     5664  SHP  d0c48ae3-b438-463a-9a6f-1f6f8ad69e4e   0.800000   \n",
       "..     ...  ...                                   ...        ...   \n",
       "342   6002  SHP  d0c48ae3-b438-463a-9a6f-1f6f8ad69e4e  57.133333   \n",
       "343   6003  SHP  d0c48ae3-b438-463a-9a6f-1f6f8ad69e4e  57.300000   \n",
       "344   6004  SHP  d0c48ae3-b438-463a-9a6f-1f6f8ad69e4e  57.466667   \n",
       "345   6005  SHP  d0c48ae3-b438-463a-9a6f-1f6f8ad69e4e  57.633333   \n",
       "346   6006  SHP  d0c48ae3-b438-463a-9a6f-1f6f8ad69e4e  57.800000   \n",
       "\n",
       "                                          loc   r          a  \\\n",
       "0       [9099.66740268315, 68007.28893377277]  30  -1.022598   \n",
       "1      [9101.307845483376, 68004.53617973899]  30  -1.109218   \n",
       "2      [9103.114612112753, 68001.05423730423]  30  -1.253978   \n",
       "3      [9105.504824820617, 67995.01438049719]  30  -1.339028   \n",
       "4       [9108.51276762746, 67986.26630307367]  30  -1.344727   \n",
       "..                                        ...  ..        ...   \n",
       "342    [18654.62981279303, 21297.22982874417]  30  13.925260   \n",
       "343   [18681.356364405456, 21176.69451501216]  30  13.971093   \n",
       "344    [18708.28894368584, 21058.92918288248]  30  14.048940   \n",
       "345    [18735.52636715159, 20943.92424087957]  30  14.047896   \n",
       "346  [18763.199616335252, 20831.662276323503]  30  13.980185   \n",
       "\n",
       "                                             v        av  \\\n",
       "0     [9.717566456330955, -15.968109527798422] -0.294720   \n",
       "1      [9.995545000871457, -17.18680880521477] -0.794720   \n",
       "2    [12.673404979944932, -28.926945177658986] -0.715078   \n",
       "3     [16.379785573818253, -45.17626887654374] -0.247990   \n",
       "4    [20.086166167691573, -61.425592575428496]  0.053910   \n",
       "..                                         ...       ...   \n",
       "342   [159.90698183003636, -730.6981478149404]  0.050000   \n",
       "343   [160.97336994775105, -714.0659442507722]  0.550000   \n",
       "344   [162.46506394661685, -697.4672689557134]  0.218734   \n",
       "345     [164.772659319128, -680.9637440835677] -0.281266   \n",
       "346   [167.54573390543607, -664.5300205686214] -0.294607   \n",
       "\n",
       "                                             f  ...    o.t_loc.y     o.t_v.x  \\\n",
       "0     [3335.742534485992, -14624.391328996258]  ...  11307.30985  344.518495   \n",
       "1     [3335.742534485992, -14624.391328996258]  ...  11307.30985  344.518495   \n",
       "2       [44476.5671264799, -194991.8843866168]  ...  11307.30985  344.518495   \n",
       "3      [44476.56712647989, -194991.8843866168]  ...  11307.30985  344.518495   \n",
       "4    [44476.567126479895, -194991.88438661682]  ...  11307.30985  344.518495   \n",
       "..                                         ...  ...          ...         ...   \n",
       "342    [11277.46044790727, 199681.79407709127]  ...  11307.30985   47.150759   \n",
       "343    [14425.66712697244, 199479.07190465316]  ...  11307.30985   40.519238   \n",
       "344   [23159.782264350608, 198654.53552704974]  ...  11307.30985   34.244917   \n",
       "345   [32181.618803295536, 197393.87885950107]  ...  11307.30985   34.347463   \n",
       "346    [33702.37528024076, 197139.92467399855]  ...  11307.30985   34.489914   \n",
       "\n",
       "         o.t_v.y    angle.x    angle.y   o.ct_dist      o.t_dist       speed  \\\n",
       "0   -1483.785169  52.115072 -85.346466         NaN  58208.176907   18.692555   \n",
       "1   -1483.785169  44.536219 -89.535050         NaN  58205.124479   19.882085   \n",
       "2   -1483.785169  31.154435 -95.023161         NaN  58201.324157   31.581377   \n",
       "3   -1483.785169  22.969876 -97.326177         NaN  58194.900259   48.054060   \n",
       "4   -1483.785169  22.414826 -97.455506         NaN  58185.698619   64.626291   \n",
       "..           ...        ...        ...         ...           ...         ...   \n",
       "342  -130.559449  21.032480  97.763157  631.585004  10622.020030  747.990659   \n",
       "343  -111.770998  16.531149  98.624141  508.844696  10499.587372  731.985381   \n",
       "344   -93.953636   8.811254  99.611053  389.317981  10379.710847  716.139294   \n",
       "345   -93.916196   8.915268  99.601797  273.693280  10262.343308  700.615194   \n",
       "346   -93.863975  15.633816  98.770359  164.588497  10147.418879  685.325996   \n",
       "\n",
       "       o.t_speed     f_mag  \n",
       "0    1523.256847   15000.0  \n",
       "1    1523.256847   15000.0  \n",
       "2    1523.256847  200000.0  \n",
       "3    1523.256847  200000.0  \n",
       "4    1523.256847  200000.0  \n",
       "..           ...       ...  \n",
       "342   138.812693  200000.0  \n",
       "343   118.888876  200000.0  \n",
       "344   100.000000  200000.0  \n",
       "345   100.000000  200000.0  \n",
       "346   100.000000  200000.0  \n",
       "\n",
       "[347 rows x 58 columns]"
      ]
     },
     "execution_count": 10,
     "metadata": {},
     "output_type": "execute_result"
    }
   ],
   "source": [
    "df"
   ]
  },
  {
   "cell_type": "code",
   "execution_count": 11,
   "id": "a703dac7",
   "metadata": {},
   "outputs": [
    {
     "data": {
      "text/plain": [
       "{'o': 'stellarpunk.orders.movement.GoToLocation',\n",
       " 'ct': 'deba5d83-fffd-4ccf-81a2-e4cd1392e5c4',\n",
       " 'ct_loc': [18730.92262500561, 20670.269682996244],\n",
       " 'ct_v': [0.0, 0.0],\n",
       " 'ct_ts': 52.84999999999828,\n",
       " 'ct_dv': [505.53562920361134, 2957.0988701099777],\n",
       " 'ct_tc': 0.0,\n",
       " 'ct_ct': 1,\n",
       " 'ct_cloc': [18730.92262500561, 20670.269682996244],\n",
       " 'ct_cradius': 100.0,\n",
       " 'ct_cn': [[18730.92262500561, 20670.269682996244]],\n",
       " 'cac': True,\n",
       " 'cach': True,\n",
       " 'cbdr': False,\n",
       " 'cbdr_hist': [[476.88364120166807, -4498.68302752413],\n",
       "  [-29.48924331667513, -172.495474215164]],\n",
       " 'nd': 7.639437268410977e-09,\n",
       " 'nnd': 174.99801169186003,\n",
       " 't_loc': [22264.173875210778, 11307.309849660829],\n",
       " 'ad': 500.0,\n",
       " 'md': 0.0,\n",
       " 't_v': [34.4899136731314, -93.8639752770995],\n",
       " 'cs': False,\n",
       " 'scm': 200.0}"
      ]
     },
     "execution_count": 11,
     "metadata": {},
     "output_type": "execute_result"
    }
   ],
   "source": [
    "df.iloc[-1][\"o\"]"
   ]
  },
  {
   "cell_type": "markdown",
   "id": "a6d3cf5e",
   "metadata": {},
   "source": [
    "# Basic Ship Vitals"
   ]
  },
  {
   "cell_type": "markdown",
   "id": "36730903",
   "metadata": {},
   "source": [
    "## Position and Heading"
   ]
  },
  {
   "cell_type": "code",
   "execution_count": 12,
   "id": "665329e8",
   "metadata": {},
   "outputs": [
    {
     "data": {
      "application/vnd.jupyter.widget-view+json": {
       "model_id": "056ca2e9596942348444ae365faebcce",
       "version_major": 2,
       "version_minor": 0
      },
      "text/plain": [
       "interactive(children=(FloatSlider(value=57.799999999998, continuous_update=False, description='max_time', max=…"
      ]
     },
     "metadata": {},
     "output_type": "display_data"
    },
    {
     "data": {
      "text/plain": [
       "<function __main__.plot_location_chart(max_time)>"
      ]
     },
     "execution_count": 12,
     "metadata": {},
     "output_type": "execute_result"
    }
   ],
   "source": [
    "def plot_location_chart(max_time):\n",
    "    sample = df[df[\"ts\"] <= max_time].iloc[::50]\n",
    "    plt.quiver(sample[\"loc.x\"], sample[\"loc.y\"], sample[\"angle.x\"], sample[\"angle.y\"])#, scale=100)\n",
    "    plt.scatter(sample[\"o.t_loc.x\"], sample[\"o.t_loc.y\"])\n",
    "    #center = (0,2500)\n",
    "    #radius = 10000\n",
    "    #plt.xlim(center[0]-radius,center[0]+radius)\n",
    "    #plt.ylim(center[1]-radius,center[1]+radius)\n",
    "\n",
    "ipywidgets.interact(plot_location_chart, max_time=ipywidgets.FloatSlider(value=df[\"ts\"].max(), min=df[\"ts\"].min(), max=df[\"ts\"].max(), continuous_update=False))"
   ]
  },
  {
   "cell_type": "code",
   "execution_count": 13,
   "id": "ed1c2ca3",
   "metadata": {},
   "outputs": [
    {
     "data": {
      "text/html": [
       "<div>\n",
       "<style scoped>\n",
       "    .dataframe tbody tr th:only-of-type {\n",
       "        vertical-align: middle;\n",
       "    }\n",
       "\n",
       "    .dataframe tbody tr th {\n",
       "        vertical-align: top;\n",
       "    }\n",
       "\n",
       "    .dataframe thead th {\n",
       "        text-align: right;\n",
       "    }\n",
       "</style>\n",
       "<table border=\"1\" class=\"dataframe\">\n",
       "  <thead>\n",
       "    <tr style=\"text-align: right;\">\n",
       "      <th></th>\n",
       "      <th>loc.x</th>\n",
       "      <th>loc.y</th>\n",
       "    </tr>\n",
       "  </thead>\n",
       "  <tbody>\n",
       "    <tr>\n",
       "      <th>count</th>\n",
       "      <td>347.000000</td>\n",
       "      <td>347.000000</td>\n",
       "    </tr>\n",
       "    <tr>\n",
       "      <th>mean</th>\n",
       "      <td>14049.565141</td>\n",
       "      <td>46045.552594</td>\n",
       "    </tr>\n",
       "    <tr>\n",
       "      <th>std</th>\n",
       "      <td>3111.951364</td>\n",
       "      <td>14200.902019</td>\n",
       "    </tr>\n",
       "    <tr>\n",
       "      <th>min</th>\n",
       "      <td>9099.667403</td>\n",
       "      <td>20831.662276</td>\n",
       "    </tr>\n",
       "    <tr>\n",
       "      <th>25%</th>\n",
       "      <td>11238.261816</td>\n",
       "      <td>34266.818444</td>\n",
       "    </tr>\n",
       "    <tr>\n",
       "      <th>50%</th>\n",
       "      <td>13951.888978</td>\n",
       "      <td>46831.075221</td>\n",
       "    </tr>\n",
       "    <tr>\n",
       "      <th>75%</th>\n",
       "      <td>16934.799670</td>\n",
       "      <td>58436.475734</td>\n",
       "    </tr>\n",
       "    <tr>\n",
       "      <th>max</th>\n",
       "      <td>18763.199616</td>\n",
       "      <td>68007.288934</td>\n",
       "    </tr>\n",
       "  </tbody>\n",
       "</table>\n",
       "</div>"
      ],
      "text/plain": [
       "              loc.x         loc.y\n",
       "count    347.000000    347.000000\n",
       "mean   14049.565141  46045.552594\n",
       "std     3111.951364  14200.902019\n",
       "min     9099.667403  20831.662276\n",
       "25%    11238.261816  34266.818444\n",
       "50%    13951.888978  46831.075221\n",
       "75%    16934.799670  58436.475734\n",
       "max    18763.199616  68007.288934"
      ]
     },
     "execution_count": 13,
     "metadata": {},
     "output_type": "execute_result"
    }
   ],
   "source": [
    "df[[\"loc.x\", \"loc.y\"]].describe()"
   ]
  },
  {
   "cell_type": "code",
   "execution_count": 14,
   "id": "e0f37c4c",
   "metadata": {},
   "outputs": [
    {
     "data": {
      "text/plain": [
       "Text(0.5, 1.0, 'position')"
      ]
     },
     "execution_count": 14,
     "metadata": {},
     "output_type": "execute_result"
    },
    {
     "data": {
      "image/png": "[encoded data removed]",
      "text/plain": [
       "<Figure size 432x288 with 1 Axes>"
      ]
     },
     "metadata": {
      "needs_background": "light"
     },
     "output_type": "display_data"
    }
   ],
   "source": [
    "plt.scatter(df[\"ts\"], df[\"loc.x\"])\n",
    "plt.scatter(df[\"ts\"], df[\"loc.y\"])\n",
    "plt.title(\"position\")"
   ]
  },
  {
   "cell_type": "code",
   "execution_count": 15,
   "id": "b65fd521",
   "metadata": {},
   "outputs": [
    {
     "data": {
      "text/plain": [
       "Text(0.5, 1.0, 'heading and angular velocity')"
      ]
     },
     "execution_count": 15,
     "metadata": {},
     "output_type": "execute_result"
    },
    {
     "data": {
      "image/png": "[encoded data removed]",
      "text/plain": [
       "<Figure size 432x288 with 1 Axes>"
      ]
     },
     "metadata": {
      "needs_background": "light"
     },
     "output_type": "display_data"
    }
   ],
   "source": [
    "plt.scatter(df[\"ts\"], df[\"a\"], label=\"theta\")\n",
    "plt.scatter(df[\"ts\"], df[\"av\"], label=\"omega\")\n",
    "plt.hlines(np.pi, df[\"ts\"].min(), df[\"ts\"].max(), color=\"red\")\n",
    "plt.hlines(0, df[\"ts\"].min(), df[\"ts\"].max(), color=\"red\")\n",
    "plt.legend()\n",
    "plt.title(\"heading and angular velocity\")"
   ]
  },
  {
   "cell_type": "code",
   "execution_count": 16,
   "id": "e1a4515d",
   "metadata": {},
   "outputs": [
    {
     "data": {
      "text/plain": [
       "<matplotlib.collections.PathCollection at 0x7f16a4e69120>"
      ]
     },
     "execution_count": 16,
     "metadata": {},
     "output_type": "execute_result"
    },
    {
     "data": {
      "image/png": "[encoded data removed]",
      "text/plain": [
       "<Figure size 432x288 with 1 Axes>"
      ]
     },
     "metadata": {
      "needs_background": "light"
     },
     "output_type": "display_data"
    }
   ],
   "source": [
    "plt.scatter(df[\"ts\"], df[\"t\"])"
   ]
  },
  {
   "cell_type": "markdown",
   "id": "4ce26323",
   "metadata": {},
   "source": [
    "## Velocity and Acceleration"
   ]
  },
  {
   "cell_type": "code",
   "execution_count": 17,
   "id": "b6c96550",
   "metadata": {},
   "outputs": [
    {
     "data": {
      "application/vnd.jupyter.widget-view+json": {
       "model_id": "3f2f71f0896941b3a7a8419a5043c1b8",
       "version_major": 2,
       "version_minor": 0
      },
      "text/plain": [
       "interactive(children=(FloatSlider(value=15.0, continuous_update=False, description='hist_length', max=57.66666…"
      ]
     },
     "metadata": {},
     "output_type": "display_data"
    },
    {
     "data": {
      "text/plain": [
       "<function __main__.plot_speed(hist_length, max_time)>"
      ]
     },
     "execution_count": 17,
     "metadata": {},
     "output_type": "execute_result"
    }
   ],
   "source": [
    "def plot_speed(hist_length, max_time):\n",
    "    sample = df[(df[\"ts\"] >= max_time - hist_length) & (df[\"ts\"] <= max_time)]\n",
    "    plt.scatter(sample[\"ts\"], sample[\"speed\"])\n",
    "    plt.title(\"speed\")\n",
    "    print(f'min speed: {sample[\"speed\"].min()}')\n",
    "    print(f'max speed: {sample[\"speed\"].max()}')\n",
    "    \n",
    "ipywidgets.interact(plot_speed, hist_length=ipywidgets.FloatSlider(value=15, min=0, max=df[\"ts\"].max()-df[\"ts\"].min(), continuous_update=False), max_time=ipywidgets.FloatSlider(value=df[\"ts\"].max(), min=df[\"ts\"].min(), max=df[\"ts\"].max()+.1, continuous_update=False))"
   ]
  },
  {
   "cell_type": "code",
   "execution_count": 18,
   "id": "32a0a440",
   "metadata": {
    "scrolled": true
   },
   "outputs": [
    {
     "data": {
      "application/vnd.jupyter.widget-view+json": {
       "model_id": "144c621887ac47ad8ca077417b42c7f4",
       "version_major": 2,
       "version_minor": 0
      },
      "text/plain": [
       "interactive(children=(FloatSlider(value=15.0, continuous_update=False, description='hist_length', max=57.66666…"
      ]
     },
     "metadata": {},
     "output_type": "display_data"
    },
    {
     "data": {
      "text/plain": [
       "<function __main__.plot_velocity(hist_length, max_time)>"
      ]
     },
     "execution_count": 18,
     "metadata": {},
     "output_type": "execute_result"
    }
   ],
   "source": [
    "def plot_velocity(hist_length, max_time):\n",
    "    sample = df[(df[\"ts\"] >= max_time - hist_length) & (df[\"ts\"] <= max_time)]\n",
    "    plt.scatter(sample[\"ts\"], sample[\"v.x\"], label=\"x\")\n",
    "    plt.scatter(sample[\"ts\"], sample[\"v.y\"], label=\"y\")\n",
    "    plt.legend()\n",
    "    plt.title(\"velocity\")\n",
    "    \n",
    "ipywidgets.interact(plot_velocity, hist_length=ipywidgets.FloatSlider(value=15, min=0, max=df[\"ts\"].max()-df[\"ts\"].min(), continuous_update=False), max_time=ipywidgets.FloatSlider(value=df[\"ts\"].max(), min=df[\"ts\"].min(), max=df[\"ts\"].max()+.1, continuous_update=False))"
   ]
  },
  {
   "cell_type": "code",
   "execution_count": 19,
   "id": "7e3172c1",
   "metadata": {
    "scrolled": true
   },
   "outputs": [
    {
     "data": {
      "application/vnd.jupyter.widget-view+json": {
       "model_id": "efda37ddf8424b51a9959373c4357e49",
       "version_major": 2,
       "version_minor": 0
      },
      "text/plain": [
       "interactive(children=(FloatSlider(value=15.0, continuous_update=False, description='hist_length', max=57.66666…"
      ]
     },
     "metadata": {},
     "output_type": "display_data"
    },
    {
     "data": {
      "text/plain": [
       "<function __main__.plot_acceleration(hist_length, max_time)>"
      ]
     },
     "execution_count": 19,
     "metadata": {},
     "output_type": "execute_result"
    }
   ],
   "source": [
    "def plot_acceleration(hist_length, max_time):\n",
    "    sample = df[(df[\"ts\"] >= max_time - hist_length) & (df[\"ts\"] <= max_time)]\n",
    "    plt.scatter(sample[\"ts\"], (sample[\"v.x\"].shift(1) - sample[\"v.x\"]) / (sample[\"ts\"].shift(1) - sample[\"ts\"]), label=\"x\")\n",
    "    plt.scatter(sample[\"ts\"], (sample[\"v.y\"].shift(1) - sample[\"v.y\"]) / (sample[\"ts\"].shift(1) - sample[\"ts\"]), label=\"y\")\n",
    "    plt.yscale(\"symlog\")\n",
    "    plt.legend()\n",
    "    plt.title(\"acceleration\")\n",
    "    \n",
    "ipywidgets.interact(plot_acceleration, hist_length=ipywidgets.FloatSlider(value=15, min=0, max=df[\"ts\"].max()-df[\"ts\"].min(), continuous_update=False), max_time=ipywidgets.FloatSlider(value=df[\"ts\"].max(), min=df[\"ts\"].min(), max=df[\"ts\"].max()+.1, continuous_update=False))"
   ]
  },
  {
   "cell_type": "code",
   "execution_count": 20,
   "id": "7754010f",
   "metadata": {},
   "outputs": [
    {
     "data": {
      "application/vnd.jupyter.widget-view+json": {
       "model_id": "668e2e6a514f45ffb67832ae0993e1f2",
       "version_major": 2,
       "version_minor": 0
      },
      "text/plain": [
       "interactive(children=(FloatSlider(value=15.0, continuous_update=False, description='hist_length', max=57.66666…"
      ]
     },
     "metadata": {},
     "output_type": "display_data"
    },
    {
     "data": {
      "text/plain": [
       "<function __main__.plot_force(hist_length, max_time)>"
      ]
     },
     "execution_count": 20,
     "metadata": {},
     "output_type": "execute_result"
    }
   ],
   "source": [
    "def plot_force(hist_length, max_time):\n",
    "    sample = df[(df[\"ts\"] >= max_time - hist_length) & (df[\"ts\"] <= max_time)]\n",
    "    plt.scatter(sample[\"ts\"], sample[\"f_mag\"])\n",
    "    plt.yscale(\"log\")\n",
    "    plt.title(\"force\")\n",
    "\n",
    "ipywidgets.interact(plot_force, hist_length=ipywidgets.FloatSlider(value=15, min=0, max=df[\"ts\"].max()-df[\"ts\"].min(), continuous_update=False), max_time=ipywidgets.FloatSlider(value=df[\"ts\"].max(), min=df[\"ts\"].min(), max=df[\"ts\"].max()+.1, continuous_update=False))"
   ]
  },
  {
   "cell_type": "markdown",
   "id": "4630e3f8",
   "metadata": {},
   "source": [
    "# Behavior Monitoring"
   ]
  },
  {
   "cell_type": "code",
   "execution_count": 21,
   "id": "cf1a4380",
   "metadata": {},
   "outputs": [
    {
     "data": {
      "text/plain": [
       "[5.13333333333332, None, 57.13333333333137, None]"
      ]
     },
     "execution_count": 21,
     "metadata": {},
     "output_type": "execute_result"
    }
   ],
   "source": [
    "[next((df.iloc[idx][\"ts\"] if idx is not None else None for idx, v in zip(df.index, (~df[c].isna() & df[c] == True)) if v), None) for c in [\"o.ct\", \"o.cs\", \"o.cac\", \"o.cbdr\"]]"
   ]
  },
  {
   "cell_type": "code",
   "execution_count": 47,
   "id": "9e6db2b0",
   "metadata": {},
   "outputs": [
    {
     "data": {
      "application/vnd.jupyter.widget-view+json": {
       "model_id": "a0bfcda41b2442649da595b203d712f3",
       "version_major": 2,
       "version_minor": 0
      },
      "text/plain": [
       "interactive(children=(FloatSlider(value=15.0, continuous_update=False, description='hist_length', max=57.66666…"
      ]
     },
     "metadata": {},
     "output_type": "display_data"
    },
    {
     "data": {
      "text/plain": [
       "<function __main__.plot_collision_info(hist_length, max_time)>"
      ]
     },
     "execution_count": 47,
     "metadata": {},
     "output_type": "execute_result"
    }
   ],
   "source": [
    "def plot_collision_info(hist_length, max_time):\n",
    "    sample = df[(df[\"ts\"] >= max_time - hist_length) & (df[\"ts\"] <= max_time)]\n",
    "    plt.scatter(sample[\"ts\"], (~(sample[\"o.ct\"].isna())).astype(int), label=\"ct\")\n",
    "    plt.scatter(sample[\"ts\"], sample[\"o.cs\"].fillna(0).astype(int)+0.05, label=\"cs\")\n",
    "    plt.scatter(sample[\"ts\"], sample[\"o.cac\"].fillna(0).astype(int)+0.1, label=\"cac\")\n",
    "    plt.scatter(sample[\"ts\"], sample[\"o.cbdr\"].fillna(0).astype(int)+0.15, label=\"cbdr\")\n",
    "    plt.scatter(sample[\"ts\"], sample[\"o.cac\"].fillna(0).astype(int)+0.1, label=\"cach\", marker=\"+\")\n",
    "    plt.legend()\n",
    "    plt.title(\"status flags\")\n",
    "    \n",
    "    flag_cols = [\"o.ct\", \"o.cs\", \"o.cac\", \"o.cbdr\"]\n",
    "    first_ts = [\n",
    "        next(\n",
    "            (sample.loc[idx][\"ts\"] if idx is not None else None\n",
    "             for idx, v in zip(sample.index, (~sample[c].isna() & sample[c] == True))\n",
    "             if v),\n",
    "            None\n",
    "        )\n",
    "        for c in flag_cols\n",
    "    ]\n",
    "    for c, ts in zip(flag_cols, first_ts):\n",
    "        print(f'first {c}: {ts}')\n",
    "\n",
    "ipywidgets.interact(plot_collision_info, hist_length=ipywidgets.FloatSlider(value=15, min=0, max=df[\"ts\"].max()-df[\"ts\"].min(), continuous_update=False), max_time=ipywidgets.FloatSlider(value=df[\"ts\"].max(), min=df[\"ts\"].min(), max=df[\"ts\"].max()+.1, continuous_update=False))"
   ]
  },
  {
   "cell_type": "markdown",
   "id": "94ba2b3d",
   "metadata": {},
   "source": [
    "### Target Location"
   ]
  },
  {
   "cell_type": "code",
   "execution_count": 23,
   "id": "2640e1e5",
   "metadata": {},
   "outputs": [
    {
     "data": {
      "text/html": [
       "<div>\n",
       "<style scoped>\n",
       "    .dataframe tbody tr th:only-of-type {\n",
       "        vertical-align: middle;\n",
       "    }\n",
       "\n",
       "    .dataframe tbody tr th {\n",
       "        vertical-align: top;\n",
       "    }\n",
       "\n",
       "    .dataframe thead tr th {\n",
       "        text-align: left;\n",
       "    }\n",
       "\n",
       "    .dataframe thead tr:last-of-type th {\n",
       "        text-align: right;\n",
       "    }\n",
       "</style>\n",
       "<table border=\"1\" class=\"dataframe\">\n",
       "  <thead>\n",
       "    <tr>\n",
       "      <th></th>\n",
       "      <th></th>\n",
       "      <th colspan=\"3\" halign=\"left\">ts</th>\n",
       "      <th colspan=\"2\" halign=\"left\">o.t_dist</th>\n",
       "    </tr>\n",
       "    <tr>\n",
       "      <th></th>\n",
       "      <th></th>\n",
       "      <th>count</th>\n",
       "      <th>min</th>\n",
       "      <th>max</th>\n",
       "      <th>min</th>\n",
       "      <th>max</th>\n",
       "    </tr>\n",
       "    <tr>\n",
       "      <th>o.t_loc.x</th>\n",
       "      <th>o.t_loc.y</th>\n",
       "      <th></th>\n",
       "      <th></th>\n",
       "      <th></th>\n",
       "      <th></th>\n",
       "      <th></th>\n",
       "    </tr>\n",
       "  </thead>\n",
       "  <tbody>\n",
       "    <tr>\n",
       "      <th>22264.173875</th>\n",
       "      <th>11307.30985</th>\n",
       "      <td>347</td>\n",
       "      <td>0.133333</td>\n",
       "      <td>57.8</td>\n",
       "      <td>10147.418879</td>\n",
       "      <td>58208.176907</td>\n",
       "    </tr>\n",
       "  </tbody>\n",
       "</table>\n",
       "</div>"
      ],
      "text/plain": [
       "                            ts                      o.t_dist              \n",
       "                         count       min   max           min           max\n",
       "o.t_loc.x    o.t_loc.y                                                    \n",
       "22264.173875 11307.30985   347  0.133333  57.8  10147.418879  58208.176907"
      ]
     },
     "execution_count": 23,
     "metadata": {},
     "output_type": "execute_result"
    }
   ],
   "source": [
    "if np.any(~df[\"o.t_loc\"].isna()):\n",
    "    x = df.groupby([\"o.t_loc.x\", \"o.t_loc.y\"]).agg({\"ts\": [\"count\", \"min\", \"max\"], \"o.t_dist\": [\"min\",\"max\"]})\n",
    "else:\n",
    "    x = \"no location target\"\n",
    "x"
   ]
  },
  {
   "cell_type": "code",
   "execution_count": 24,
   "id": "74d23fb4",
   "metadata": {},
   "outputs": [
    {
     "data": {
      "application/vnd.jupyter.widget-view+json": {
       "model_id": "9c0d39d238554f02943782c7f9a6471e",
       "version_major": 2,
       "version_minor": 0
      },
      "text/plain": [
       "interactive(children=(FloatSlider(value=15.0, continuous_update=False, description='hist_length', max=57.66666…"
      ]
     },
     "metadata": {},
     "output_type": "display_data"
    },
    {
     "data": {
      "text/plain": [
       "<function __main__.plot_target_distance(hist_length, max_time)>"
      ]
     },
     "execution_count": 24,
     "metadata": {},
     "output_type": "execute_result"
    }
   ],
   "source": [
    "#sample = df[(df[\"ts\"] < 124.4) & (df[\"ts\"] > 120)]\n",
    "def plot_target_distance(hist_length, max_time):\n",
    "    sample = df[(df[\"ts\"] >= max_time - hist_length) & (df[\"ts\"] <= max_time)]\n",
    "    plt.scatter(sample[\"ts\"], sample[\"o.t_dist\"])\n",
    "    plt.scatter(sample[\"ts\"], sample[\"o.ad\"], color=\"green\", marker=\"_\")\n",
    "    plt.scatter(sample[\"ts\"], sample[\"o.md\"], color=\"red\", marker=\"_\")\n",
    "    #plt.ylim(0,1500)\n",
    "    plt.title(\"distance to target\")\n",
    "    print(f'when first arrived {sample[sample[\"o.t_dist\"] < sample[\"o.ad\"]][\"ts\"].min()}')\n",
    "\n",
    "ipywidgets.interact(\n",
    "    plot_target_distance,\n",
    "    hist_length=ipywidgets.FloatSlider(value=15, min=0, max=df[\"ts\"].max()-df[\"ts\"].min(), continuous_update=False),\n",
    "    max_time=ipywidgets.FloatSlider(value=df[\"ts\"].max(), min=df[\"ts\"].min(), max=df[\"ts\"].max()+.1, continuous_update=False))"
   ]
  },
  {
   "cell_type": "code",
   "execution_count": 25,
   "id": "b437f000",
   "metadata": {},
   "outputs": [
    {
     "data": {
      "text/plain": [
       "nan"
      ]
     },
     "execution_count": 25,
     "metadata": {},
     "output_type": "execute_result"
    }
   ],
   "source": [
    "df[df[\"o.t_dist\"] < df[\"o.ad\"]][\"ts\"].min()"
   ]
  },
  {
   "cell_type": "code",
   "execution_count": 26,
   "id": "4d0bf8d0",
   "metadata": {},
   "outputs": [
    {
     "data": {
      "application/vnd.jupyter.widget-view+json": {
       "model_id": "bd7ea720e796484485d304347091b723",
       "version_major": 2,
       "version_minor": 0
      },
      "text/plain": [
       "interactive(children=(FloatSlider(value=15.0, continuous_update=False, description='hist_length', max=57.66666…"
      ]
     },
     "metadata": {},
     "output_type": "display_data"
    },
    {
     "data": {
      "text/plain": [
       "<function __main__.plot_desired_speed(hist_length, max_time)>"
      ]
     },
     "execution_count": 26,
     "metadata": {},
     "output_type": "execute_result"
    }
   ],
   "source": [
    "def plot_desired_speed(hist_length, max_time):\n",
    "    sample = df[(df[\"ts\"] >= max_time - hist_length) & (df[\"ts\"] <= max_time)]\n",
    "    plt.scatter(sample[\"ts\"], sample[\"speed\"], label=\"actual speed\")\n",
    "    plt.scatter(sample[\"ts\"], sample[\"o.t_speed\"], label=\"desired speed\")\n",
    "    plt.legend()\n",
    "    plt.title(\"speed and desired speed to target\")\n",
    "    plt.ylim(0)\n",
    "\n",
    "ipywidgets.interact(\n",
    "    plot_desired_speed,\n",
    "    hist_length=ipywidgets.FloatSlider(value=15, min=0, max=df[\"ts\"].max()-df[\"ts\"].min(), continuous_update=False),\n",
    "    max_time=ipywidgets.FloatSlider(value=df[\"ts\"].max(), min=df[\"ts\"].min(), max=df[\"ts\"].max()+.1, continuous_update=False))"
   ]
  },
  {
   "cell_type": "code",
   "execution_count": 27,
   "id": "d7341dc2",
   "metadata": {
    "scrolled": true
   },
   "outputs": [
    {
     "data": {
      "text/plain": [
       "Text(0.5, 1.0, 'desired speed delta')"
      ]
     },
     "execution_count": 27,
     "metadata": {},
     "output_type": "execute_result"
    },
    {
     "data": {
      "image/png": "[encoded data removed]",
      "text/plain": [
       "<Figure size 432x288 with 1 Axes>"
      ]
     },
     "metadata": {
      "needs_background": "light"
     },
     "output_type": "display_data"
    }
   ],
   "source": [
    "plt.scatter(df[\"ts\"], df[\"o.t_speed\"] - df[\"speed\"])\n",
    "plt.scatter(df[\"ts\"], np.linalg.norm(np.array((df[\"o.t_v.x\"] - df[\"v.x\"], df[\"o.t_v.y\"] - df[\"v.y\"])), axis=0))\n",
    "plt.title(\"desired speed delta\")"
   ]
  },
  {
   "cell_type": "markdown",
   "id": "5ac378ec",
   "metadata": {},
   "source": [
    "## Collision Avoidance"
   ]
  },
  {
   "cell_type": "markdown",
   "id": "6936a767",
   "metadata": {},
   "source": [
    "### Collision Threats"
   ]
  },
  {
   "cell_type": "code",
   "execution_count": 28,
   "id": "f38ca4d8",
   "metadata": {},
   "outputs": [
    {
     "data": {
      "application/vnd.jupyter.widget-view+json": {
       "model_id": "a0887b0def32447eafe5cf676dfa60d9",
       "version_major": 2,
       "version_minor": 0
      },
      "text/plain": [
       "interactive(children=(FloatSlider(value=15.0, continuous_update=False, description='hist_length', max=57.66666…"
      ]
     },
     "metadata": {},
     "output_type": "display_data"
    },
    {
     "data": {
      "text/plain": [
       "<function __main__.show_collision_threats(hist_length, max_time)>"
      ]
     },
     "execution_count": 28,
     "metadata": {},
     "output_type": "execute_result"
    }
   ],
   "source": [
    "def show_collision_threats(hist_length, max_time):\n",
    "    sample = df[(df[\"ts\"] >= max_time-hist_length) & (df[\"ts\"] <= max_time)]\n",
    "    if np.any(~sample[\"o.ct\"].isna()):\n",
    "        x = sample.groupby(\"o.ct\").agg({\"ts\": [\"count\", \"min\", \"max\"], \"o.ct_dist\": [\"min\",\"max\"]})\n",
    "    else:\n",
    "        x = \"no collision threats\"\n",
    "    return x\n",
    "ipywidgets.interact(\n",
    "    show_collision_threats,\n",
    "    hist_length=ipywidgets.FloatSlider(value=15, min=0, max=df[\"ts\"].max()-df[\"ts\"].min(), continuous_update=False),\n",
    "    max_time=ipywidgets.FloatSlider(value=df[\"ts\"].max(), min=df[\"ts\"].min(), max=df[\"ts\"].max()+.1, continuous_update=False)\n",
    ")"
   ]
  },
  {
   "cell_type": "code",
   "execution_count": 29,
   "id": "890424d5",
   "metadata": {},
   "outputs": [
    {
     "data": {
      "application/vnd.jupyter.widget-view+json": {
       "model_id": "98805d67a5844d22a1df93dca319562c",
       "version_major": 2,
       "version_minor": 0
      },
      "text/plain": [
       "interactive(children=(FloatSlider(value=15.0, continuous_update=False, description='hist_length', max=57.66666…"
      ]
     },
     "metadata": {},
     "output_type": "display_data"
    },
    {
     "data": {
      "text/plain": [
       "<function __main__.plot_collision_distance(hist_length, max_time)>"
      ]
     },
     "execution_count": 29,
     "metadata": {},
     "output_type": "execute_result"
    }
   ],
   "source": [
    "def plot_collision_distance(hist_length, max_time):\n",
    "    sample = df[(df[\"ts\"] >= max_time-hist_length) & (df[\"ts\"] <= max_time)]\n",
    "    plt.scatter(sample[\"ts\"], sample[\"o.ct_dist\"])\n",
    "    plt.scatter(sample[\"ts\"], sample[\"o.ct_cradius\"]+sample[\"o.scm\"]*2, color=\"green\", marker=\"_\")\n",
    "    plt.scatter(sample[\"ts\"], sample[\"o.ct_cradius\"]+sample[\"o.scm\"], color=\"orange\", marker=\"_\")\n",
    "    plt.scatter(sample[\"ts\"], sample[\"o.ct_cradius\"], color=\"red\", marker=\"_\")\n",
    "    plt.hlines(60, sample[\"ts\"].min(), sample[\"ts\"].max(), color=\"red\")\n",
    "    plt.ylim(0)\n",
    "    plt.title(\"distance to collision threat\")\n",
    "    print(sample[\"o.ct_dist\"].min())\n",
    "\n",
    "ipywidgets.interact(\n",
    "    plot_collision_distance,\n",
    "    hist_length=ipywidgets.FloatSlider(value=15, min=0, max=df[\"ts\"].max()-df[\"ts\"].min(), continuous_update=False),\n",
    "    max_time=ipywidgets.FloatSlider(value=df[\"ts\"].max(), min=df[\"ts\"].min(), max=df[\"ts\"].max()+.1, continuous_update=False)\n",
    ")"
   ]
  },
  {
   "cell_type": "code",
   "execution_count": 30,
   "id": "12faf352",
   "metadata": {},
   "outputs": [
    {
     "data": {
      "text/plain": [
       "Text(0.5, 1.0, 'Collision Threat and Time Since Detection')"
      ]
     },
     "execution_count": 30,
     "metadata": {},
     "output_type": "execute_result"
    },
    {
     "data": {
      "image/png": "[encoded data removed]",
      "text/plain": [
       "<Figure size 432x288 with 2 Axes>"
      ]
     },
     "metadata": {
      "needs_background": "light"
     },
     "output_type": "display_data"
    }
   ],
   "source": [
    "fig, ax1 = plt.subplots()\n",
    "ax2 = ax1.twinx()\n",
    "\n",
    "ax1.scatter(df[\"ts\"], 1-df[\"o.ct\"].isna().astype(int))\n",
    "ax2.scatter(df[\"ts\"], df[\"ts\"] - df[\"o.ct_ts\"], color=\"orange\")\n",
    "plt.title(\"Collision Threat and Time Since Detection\")\n",
    "\n",
    "#ax2.set_ylim(0,(df[\"ts\"] - df[\"o.ct_ts\"]).max()*1.2)"
   ]
  },
  {
   "cell_type": "code",
   "execution_count": 31,
   "id": "9c947c36",
   "metadata": {},
   "outputs": [
    {
     "data": {
      "application/vnd.jupyter.widget-view+json": {
       "model_id": "76fd78443ad1463e85e52244df6cd68e",
       "version_major": 2,
       "version_minor": 0
      },
      "text/plain": [
       "interactive(children=(FloatSlider(value=15.0, continuous_update=False, description='hist_length', max=57.66666…"
      ]
     },
     "metadata": {},
     "output_type": "display_data"
    },
    {
     "data": {
      "text/plain": [
       "<function __main__.plot_num_coalesced_threats(hist_length, max_time)>"
      ]
     },
     "execution_count": 31,
     "metadata": {},
     "output_type": "execute_result"
    }
   ],
   "source": [
    "def plot_num_coalesced_threats(hist_length, max_time):\n",
    "    sample = df[(df[\"ts\"] >= max_time-hist_length) & (df[\"ts\"] <= max_time)]\n",
    "    plt.scatter(sample[\"ts\"], sample[\"o.ct_ct\"])\n",
    "    plt.title(\"number of coalesced threats\")\n",
    "    plt.show()\n",
    "\n",
    "ipywidgets.interact(\n",
    "    plot_num_coalesced_threats,\n",
    "    hist_length=ipywidgets.FloatSlider(value=15, min=0, max=df[\"ts\"].max()-df[\"ts\"].min(), continuous_update=False),\n",
    "    max_time=ipywidgets.FloatSlider(value=df[\"ts\"].max(), min=df[\"ts\"].min(), max=df[\"ts\"].max()+.1, continuous_update=False)\n",
    ")  "
   ]
  },
  {
   "cell_type": "code",
   "execution_count": 32,
   "id": "91227c9a",
   "metadata": {},
   "outputs": [
    {
     "data": {
      "application/vnd.jupyter.widget-view+json": {
       "model_id": "12237095c6e04704b070fc98ad277e17",
       "version_major": 2,
       "version_minor": 0
      },
      "text/plain": [
       "interactive(children=(FloatSlider(value=15.0, continuous_update=False, description='hist_length', max=57.66666…"
      ]
     },
     "metadata": {},
     "output_type": "display_data"
    },
    {
     "data": {
      "text/plain": [
       "<function __main__.plot_collision_threat_radius(hist_length, max_time)>"
      ]
     },
     "execution_count": 32,
     "metadata": {},
     "output_type": "execute_result"
    }
   ],
   "source": [
    "def plot_collision_threat_radius(hist_length, max_time):\n",
    "    sample = df[(df[\"ts\"] >= max_time - hist_length) & (df[\"ts\"] <= max_time)]\n",
    "    plt.scatter(sample[\"ts\"], sample[\"o.ct_cradius\"], label=\"threat radius\")\n",
    "    plt.scatter(sample[\"ts\"], sample[\"o.scm\"], label=\"desired margin\")\n",
    "    plt.title(\"collision threat radius\")\n",
    "    plt.legend()\n",
    "    plt.show()\n",
    "\n",
    "ipywidgets.interact(\n",
    "    plot_collision_threat_radius,\n",
    "    hist_length=ipywidgets.FloatSlider(value=15, min=0, max=df[\"ts\"].max()-df[\"ts\"].min(), continuous_update=False),\n",
    "    max_time=ipywidgets.FloatSlider(value=df[\"ts\"].max(), min=df[\"ts\"].min(), max=df[\"ts\"].max()+.1, continuous_update=False))"
   ]
  },
  {
   "cell_type": "code",
   "execution_count": 33,
   "id": "10290387",
   "metadata": {},
   "outputs": [
    {
     "data": {
      "application/vnd.jupyter.widget-view+json": {
       "model_id": "35a8fb97f0af494980183a434cca0371",
       "version_major": 2,
       "version_minor": 0
      },
      "text/plain": [
       "interactive(children=(FloatSlider(value=15.0, continuous_update=False, description='hist_length', max=57.66666…"
      ]
     },
     "metadata": {},
     "output_type": "display_data"
    },
    {
     "data": {
      "text/plain": [
       "<function __main__.plot_collision_threat_loc(hist_length, max_time)>"
      ]
     },
     "execution_count": 33,
     "metadata": {},
     "output_type": "execute_result"
    }
   ],
   "source": [
    "def plot_collision_threat_loc(hist_length, max_time):\n",
    "    sample = df[(df[\"ts\"] >= max_time - hist_length) & (df[\"ts\"] <= max_time)]\n",
    "    fig, ax1 = plt.subplots()\n",
    "    ax2 = ax1.twinx()\n",
    "    ax1.scatter(sample[\"ts\"], sample[\"o.ct_cloc.x\"])\n",
    "    ax2.scatter(sample[\"ts\"], sample[\"o.ct_cloc.y\"], color=\"orange\")\n",
    "    plt.title(\"collision threat coalesced location\")\n",
    "    plt.show()\n",
    "\n",
    "ipywidgets.interact(\n",
    "    plot_collision_threat_loc,\n",
    "    hist_length=ipywidgets.FloatSlider(value=15, min=0, max=df[\"ts\"].max()-df[\"ts\"].min(), continuous_update=False),\n",
    "    max_time=ipywidgets.FloatSlider(value=df[\"ts\"].max(), min=df[\"ts\"].min(), max=df[\"ts\"].max()+.1, continuous_update=False))"
   ]
  },
  {
   "cell_type": "code",
   "execution_count": 34,
   "id": "5e817d73",
   "metadata": {},
   "outputs": [
    {
     "data": {
      "application/vnd.jupyter.widget-view+json": {
       "model_id": "ba39687bac8148fd8db3550879f5ce99",
       "version_major": 2,
       "version_minor": 0
      },
      "text/plain": [
       "interactive(children=(FloatSlider(value=15.0, continuous_update=False, description='hist_length', max=57.66666…"
      ]
     },
     "metadata": {},
     "output_type": "display_data"
    },
    {
     "data": {
      "text/plain": [
       "<function __main__.plot_collision_dv(hist_length, max_time)>"
      ]
     },
     "execution_count": 34,
     "metadata": {},
     "output_type": "execute_result"
    }
   ],
   "source": [
    "def plot_collision_dv(hist_length, max_time):\n",
    "    sample = df[(df[\"ts\"] >= max_time - hist_length) & (df[\"ts\"] <= max_time)]\n",
    "    plt.scatter(sample[\"ts\"], sample[\"o.ct_dv.x\"])\n",
    "    plt.scatter(sample[\"ts\"], sample[\"o.ct_dv.y\"])\n",
    "    plt.title(\"collision avoidance velocity\")\n",
    "\n",
    "ipywidgets.interact(\n",
    "    plot_collision_dv,\n",
    "    hist_length=ipywidgets.FloatSlider(value=15, min=0, max=df[\"ts\"].max()-df[\"ts\"].min(), continuous_update=False),\n",
    "    max_time=ipywidgets.FloatSlider(value=df[\"ts\"].max(), min=df[\"ts\"].min(), max=df[\"ts\"].max()+.1, continuous_update=False))"
   ]
  },
  {
   "cell_type": "markdown",
   "id": "785ce89f",
   "metadata": {},
   "source": [
    "## Nearest Neighbors"
   ]
  },
  {
   "cell_type": "code",
   "execution_count": 35,
   "id": "03a6b3aa",
   "metadata": {},
   "outputs": [
    {
     "data": {
      "application/vnd.jupyter.widget-view+json": {
       "model_id": "89f3af81e61d4914a429f3f017d5edee",
       "version_major": 2,
       "version_minor": 0
      },
      "text/plain": [
       "interactive(children=(FloatSlider(value=15.0, continuous_update=False, description='hist_length', max=57.66666…"
      ]
     },
     "metadata": {},
     "output_type": "display_data"
    },
    {
     "data": {
      "text/plain": [
       "<function __main__.plot_neighborhood_size(hist_length, max_time)>"
      ]
     },
     "execution_count": 35,
     "metadata": {},
     "output_type": "execute_result"
    }
   ],
   "source": [
    "neighborhood_radius = 5e4\n",
    "def plot_neighborhood_size(hist_length, max_time):\n",
    "    sample = df[(df[\"ts\"] >= max_time - hist_length) & (df[\"ts\"] <= max_time)]\n",
    "    plt.scatter(sample[\"ts\"], sample[\"o.nd\"]*np.pi*neighborhood_radius**2)\n",
    "    plt.title(\"neighborhood size (10km^2)\")\n",
    "    plt.show()\n",
    "\n",
    "ipywidgets.interact(\n",
    "    plot_neighborhood_size,\n",
    "    hist_length=ipywidgets.FloatSlider(value=15, min=0, max=df[\"ts\"].max()-df[\"ts\"].min(), continuous_update=False),\n",
    "    max_time=ipywidgets.FloatSlider(value=df[\"ts\"].max(), min=df[\"ts\"].min(), max=df[\"ts\"].max()+.1, continuous_update=False))"
   ]
  },
  {
   "cell_type": "code",
   "execution_count": 36,
   "id": "139c049e",
   "metadata": {},
   "outputs": [
    {
     "data": {
      "application/vnd.jupyter.widget-view+json": {
       "model_id": "421ef564f95545c4a812cba983ee78a3",
       "version_major": 2,
       "version_minor": 0
      },
      "text/plain": [
       "interactive(children=(FloatSlider(value=15.0, continuous_update=False, description='hist_length', max=57.66666…"
      ]
     },
     "metadata": {},
     "output_type": "display_data"
    },
    {
     "data": {
      "text/plain": [
       "<function __main__.plot_nearest_neighbor(hist_length, max_time)>"
      ]
     },
     "execution_count": 36,
     "metadata": {},
     "output_type": "execute_result"
    }
   ],
   "source": [
    "def plot_nearest_neighbor(hist_length, max_time):\n",
    "    sample = df[(df[\"ts\"] >= max_time - hist_length) & (df[\"ts\"] <= max_time)]\n",
    "    plt.scatter(sample[\"ts\"], sample[\"o.nnd\"])\n",
    "    plt.title(\"nearest neighor dist\")\n",
    "    plt.show()\n",
    "\n",
    "ipywidgets.interact(\n",
    "    plot_nearest_neighbor,\n",
    "    hist_length=ipywidgets.FloatSlider(value=15, min=0, max=df[\"ts\"].max()-df[\"ts\"].min(), continuous_update=False),\n",
    "    max_time=ipywidgets.FloatSlider(value=df[\"ts\"].max(), min=df[\"ts\"].min(), max=df[\"ts\"].max()+.1, continuous_update=False))"
   ]
  },
  {
   "cell_type": "markdown",
   "id": "71ba3b2a",
   "metadata": {},
   "source": [
    "## CBDR Detection"
   ]
  },
  {
   "cell_type": "code",
   "execution_count": 37,
   "id": "c22a2134",
   "metadata": {},
   "outputs": [
    {
     "data": {
      "text/plain": [
       "0                                                    NaN\n",
       "1                                                    NaN\n",
       "2                                                    NaN\n",
       "3                                                    NaN\n",
       "4                                                    NaN\n",
       "                             ...                        \n",
       "342    [[476.88364120166807, -4498.68302752413], [78....\n",
       "343    [[476.88364120166807, -4498.68302752413], [57....\n",
       "344    [[476.88364120166807, -4498.68302752413], [25....\n",
       "345    [[476.88364120166807, -4498.68302752413], [3.6...\n",
       "346    [[476.88364120166807, -4498.68302752413], [-29...\n",
       "Name: o.cbdr_hist, Length: 347, dtype: object"
      ]
     },
     "execution_count": 37,
     "metadata": {},
     "output_type": "execute_result"
    }
   ],
   "source": [
    "df[\"o.cbdr_hist\"]"
   ]
  },
  {
   "cell_type": "code",
   "execution_count": 38,
   "id": "e96cb7cd",
   "metadata": {},
   "outputs": [
    {
     "data": {
      "text/plain": [
       "<matplotlib.legend.Legend at 0x7f16a77f3a30>"
      ]
     },
     "execution_count": 38,
     "metadata": {},
     "output_type": "execute_result"
    },
    {
     "data": {
      "image/png": "[encoded data removed]",
      "text/plain": [
       "<Figure size 432x288 with 2 Axes>"
      ]
     },
     "metadata": {
      "needs_background": "light"
     },
     "output_type": "display_data"
    }
   ],
   "source": [
    "fig, ax1 = plt.subplots()\n",
    "ax2 = ax1.twinx()\n",
    "\n",
    "bearing = df[\"o.cbdr_hist\"].apply(lambda x: np.nan if isinstance(x, float) or len(x) < 2 else abs(util.cartesian_to_polar(x[0][0], x[0][1])[1] - util.cartesian_to_polar(x[-1][0], x[-1][1])[1]))\n",
    "threat_range = df[\"o.cbdr_hist\"].apply(lambda x: np.nan if isinstance(x, float) or len(x) < 2 else util.cartesian_to_polar(x[0][0], x[0][1])[0] - util.cartesian_to_polar(x[-1][0], x[-1][1])[0])\n",
    "ax1.scatter(df[\"ts\"], bearing, label=\"delta bearing\")\n",
    "ax1.hlines(2e-3, df[\"ts\"].min(), df[\"ts\"].max(), color=\"green\", label=\"max delta bearing\")\n",
    "ax2.scatter(df[\"ts\"], threat_range, color=\"orange\", label=\"delta range\")\n",
    "ax2.hlines(5, df[\"ts\"].min(), df[\"ts\"].max(), color=\"red\", label=\"min delta range\")\n",
    "fig.legend()"
   ]
  },
  {
   "cell_type": "code",
   "execution_count": 39,
   "id": "a2771b78",
   "metadata": {},
   "outputs": [],
   "source": [
    "# \n",
    "# Smallest enclosing circle - Library (Python)\n",
    "# \n",
    "# Copyright (c) 2020 Project Nayuki\n",
    "# https://www.nayuki.io/page/smallest-enclosing-circle\n",
    "# \n",
    "# This program is free software: you can redistribute it and/or modify\n",
    "# it under the terms of the GNU Lesser General Public License as published by\n",
    "# the Free Software Foundation, either version 3 of the License, or\n",
    "# (at your option) any later version.\n",
    "# \n",
    "# This program is distributed in the hope that it will be useful,\n",
    "# but WITHOUT ANY WARRANTY; without even the implied warranty of\n",
    "# MERCHANTABILITY or FITNESS FOR A PARTICULAR PURPOSE.  See the\n",
    "# GNU Lesser General Public License for more details.\n",
    "# \n",
    "# You should have received a copy of the GNU Lesser General Public License\n",
    "# along with this program (see COPYING.txt and COPYING.LESSER.txt).\n",
    "# If not, see <http://www.gnu.org/licenses/>.\n",
    "# \n",
    "\n",
    "import math, random\n",
    "\n",
    "\n",
    "# Data conventions: A point is a pair of floats (x, y). A circle is a triple of floats (center x, center y, radius).\n",
    "\n",
    "# Returns the smallest circle that encloses all the given points. Runs in expected O(n) time, randomized.\n",
    "# Input: A sequence of pairs of floats or ints, e.g. [(0,5), (3.1,-2.7)].\n",
    "# Output: A triple of floats representing a circle.\n",
    "# Note: If 0 points are given, None is returned. If 1 point is given, a circle of radius 0 is returned.\n",
    "# \n",
    "# Initially: No boundary points known\n",
    "def make_circle(points):\n",
    "\t# Convert to float and randomize order\n",
    "\tshuffled = [(float(x), float(y)) for (x, y) in points]\n",
    "\trandom.shuffle(shuffled)\n",
    "\t\n",
    "\t# Progressively add points to circle or recompute circle\n",
    "\tc = None\n",
    "\tfor (i, p) in enumerate(shuffled):\n",
    "\t\tif c is None or not is_in_circle(c, p):\n",
    "\t\t\tc = _make_circle_one_point(shuffled[ : i + 1], p)\n",
    "\treturn c\n",
    "\n",
    "\n",
    "# One boundary point known\n",
    "def _make_circle_one_point(points, p):\n",
    "\tc = (p[0], p[1], 0.0)\n",
    "\tfor (i, q) in enumerate(points):\n",
    "\t\tif not is_in_circle(c, q):\n",
    "\t\t\tif c[2] == 0.0:\n",
    "\t\t\t\tc = make_diameter(p, q)\n",
    "\t\t\telse:\n",
    "\t\t\t\tc = _make_circle_two_points(points[ : i + 1], p, q)\n",
    "\treturn c\n",
    "\n",
    "\n",
    "# Two boundary points known\n",
    "def _make_circle_two_points(points, p, q):\n",
    "\tcirc = make_diameter(p, q)\n",
    "\tleft  = None\n",
    "\tright = None\n",
    "\tpx, py = p\n",
    "\tqx, qy = q\n",
    "\t\n",
    "\t# For each point not in the two-point circle\n",
    "\tfor r in points:\n",
    "\t\tif is_in_circle(circ, r):\n",
    "\t\t\tcontinue\n",
    "\t\t\n",
    "\t\t# Form a circumcircle and classify it on left or right side\n",
    "\t\tcross = _cross_product(px, py, qx, qy, r[0], r[1])\n",
    "\t\tc = make_circumcircle(p, q, r)\n",
    "\t\tif c is None:\n",
    "\t\t\tcontinue\n",
    "\t\telif cross > 0.0 and (left is None or _cross_product(px, py, qx, qy, c[0], c[1]) > _cross_product(px, py, qx, qy, left[0], left[1])):\n",
    "\t\t\tleft = c\n",
    "\t\telif cross < 0.0 and (right is None or _cross_product(px, py, qx, qy, c[0], c[1]) < _cross_product(px, py, qx, qy, right[0], right[1])):\n",
    "\t\t\tright = c\n",
    "\t\n",
    "\t# Select which circle to return\n",
    "\tif left is None and right is None:\n",
    "\t\treturn circ\n",
    "\telif left is None:\n",
    "\t\treturn right\n",
    "\telif right is None:\n",
    "\t\treturn left\n",
    "\telse:\n",
    "\t\treturn left if (left[2] <= right[2]) else right\n",
    "\n",
    "\n",
    "def make_diameter(a, b):\n",
    "\tcx = (a[0] + b[0]) / 2\n",
    "\tcy = (a[1] + b[1]) / 2\n",
    "\tr0 = math.hypot(cx - a[0], cy - a[1])\n",
    "\tr1 = math.hypot(cx - b[0], cy - b[1])\n",
    "\treturn (cx, cy, max(r0, r1))\n",
    "\n",
    "\n",
    "def make_circumcircle(a, b, c):\n",
    "\t# Mathematical algorithm from Wikipedia: Circumscribed circle\n",
    "\tox = (min(a[0], b[0], c[0]) + max(a[0], b[0], c[0])) / 2\n",
    "\toy = (min(a[1], b[1], c[1]) + max(a[1], b[1], c[1])) / 2\n",
    "\tax = a[0] - ox;  ay = a[1] - oy\n",
    "\tbx = b[0] - ox;  by = b[1] - oy\n",
    "\tcx = c[0] - ox;  cy = c[1] - oy\n",
    "\td = (ax * (by - cy) + bx * (cy - ay) + cx * (ay - by)) * 2.0\n",
    "\tif d == 0.0:\n",
    "\t\treturn None\n",
    "\tx = ox + ((ax*ax + ay*ay) * (by - cy) + (bx*bx + by*by) * (cy - ay) + (cx*cx + cy*cy) * (ay - by)) / d\n",
    "\ty = oy + ((ax*ax + ay*ay) * (cx - bx) + (bx*bx + by*by) * (ax - cx) + (cx*cx + cy*cy) * (bx - ax)) / d\n",
    "\tra = math.hypot(x - a[0], y - a[1])\n",
    "\trb = math.hypot(x - b[0], y - b[1])\n",
    "\trc = math.hypot(x - c[0], y - c[1])\n",
    "\treturn (x, y, max(ra, rb, rc))\n",
    "\n",
    "\n",
    "_MULTIPLICATIVE_EPSILON = 1 + 1e-14\n",
    "\n",
    "def is_in_circle(c, p):\n",
    "\treturn c is not None and math.hypot(p[0] - c[0], p[1] - c[1]) <= c[2] * _MULTIPLICATIVE_EPSILON\n",
    "\n",
    "\n",
    "# Returns twice the signed area of the triangle defined by (x0, y0), (x1, y1), (x2, y2).\n",
    "def _cross_product(x0, y0, x1, y1, x2, y2):\n",
    "\treturn (x1 - x0) * (y2 - y0) - (y1 - y0) * (x2 - x0)"
   ]
  },
  {
   "cell_type": "code",
   "execution_count": 40,
   "id": "21133973",
   "metadata": {},
   "outputs": [
    {
     "data": {
      "application/vnd.jupyter.widget-view+json": {
       "model_id": "0013ee7c230f4ca1ab0f4a5fe3bb1e53",
       "version_major": 2,
       "version_minor": 0
      },
      "text/plain": [
       "interactive(children=(FloatSlider(value=15.0, continuous_update=False, description='hist_length', max=57.66666…"
      ]
     },
     "metadata": {},
     "output_type": "display_data"
    },
    {
     "data": {
      "text/plain": [
       "<function __main__.plot_radius_comparison(hist_length, max_time)>"
      ]
     },
     "execution_count": 40,
     "metadata": {},
     "output_type": "execute_result"
    }
   ],
   "source": [
    "def plot_radius_comparison(hist_length, max_time):\n",
    "    sample = df[(df[\"ts\"] >= max_time - hist_length) & (df[\"ts\"] <= max_time)]\n",
    "    foo = sample[\"o.ct_cn\"].apply(lambda x: np.nan if isinstance(x, float) else make_circle(x)[2]+30)\n",
    "    plt.scatter(sample[\"ts\"], sample[\"o.ct_cradius\"], label=\"threat radius\")\n",
    "    plt.scatter(sample[\"ts\"], foo, label=\"min radius\", marker=\"x\")\n",
    "    plt.legend()\n",
    "    plt.title(\"cradius vs smallest enclosing radius\")\n",
    "    plt.show()\n",
    "\n",
    "ipywidgets.interact(\n",
    "    plot_radius_comparison,\n",
    "    hist_length=ipywidgets.FloatSlider(value=15, min=0, max=df[\"ts\"].max()-df[\"ts\"].min(), continuous_update=False),\n",
    "    max_time=ipywidgets.FloatSlider(value=df[\"ts\"].max(), min=df[\"ts\"].min(), max=df[\"ts\"].max()+.1, continuous_update=False))"
   ]
  },
  {
   "cell_type": "markdown",
   "id": "12a7d799",
   "metadata": {},
   "source": [
    "# History Visualization"
   ]
  },
  {
   "cell_type": "markdown",
   "id": "e7b61368",
   "metadata": {},
   "source": [
    "## Position and Velocity"
   ]
  },
  {
   "cell_type": "code",
   "execution_count": 41,
   "id": "05fc6ec3",
   "metadata": {
    "scrolled": false
   },
   "outputs": [
    {
     "data": {
      "application/vnd.jupyter.widget-view+json": {
       "model_id": "2a0954141c014ee4af2f7b11d3ede09a",
       "version_major": 2,
       "version_minor": 0
      },
      "text/plain": [
       "interactive(children=(FloatSlider(value=15.0, continuous_update=False, description='hist_length', max=57.66666…"
      ]
     },
     "metadata": {},
     "output_type": "display_data"
    },
    {
     "data": {
      "text/plain": [
       "<function __main__.plot_collision_chart(hist_length=57.799999999998, max_time=57.799999999998, sampling_interval=50, show_tloc=True, show_tv=True, show_ctdv=True, show_v=True)>"
      ]
     },
     "execution_count": 41,
     "metadata": {},
     "output_type": "execute_result"
    }
   ],
   "source": [
    "def plot_collision_chart(hist_length=df[\"ts\"].max(), max_time=df[\"ts\"].max(), sampling_interval=50, show_tloc=True, show_tv=True, show_ctdv=True, show_v=True):\n",
    "    plt.figure(figsize=(10, 10))\n",
    "    sample = df[(df[\"ts\"] >= max_time - hist_length) & (df[\"ts\"] <= max_time)].iloc[::sampling_interval]\n",
    "    if show_v:\n",
    "        plt.quiver(sample[\"loc.x\"], sample[\"loc.y\"], sample[\"v.x\"], sample[\"v.y\"], label=\"v\")\n",
    "    ctdv_df = sample[~(sample[\"o.ct_dv\"].isna())]\n",
    "    if show_ctdv:\n",
    "        plt.quiver(ctdv_df[\"loc.x\"], ctdv_df[\"loc.y\"], ctdv_df[\"o.ct_dv.x\"]+ctdv_df[\"v.x\"], ctdv_df[\"o.ct_dv.y\"]+ctdv_df[\"v.y\"], label=\"ctdv\", color=\"orange\")\n",
    "    if show_tv:\n",
    "        plt.quiver(sample[\"loc.x\"], sample[\"loc.y\"], sample[\"o.t_v.x\"], sample[\"o.t_v.y\"], label=\"tv\", color=\"purple\")\n",
    "    \n",
    "    plt.quiver(sample[\"o.ct_loc.x\"], sample[\"o.ct_loc.y\"], sample[\"o.ct_v.x\"], sample[\"o.ct_v.y\"], label=\"ctv\", color=\"cyan\")\n",
    "    cmap = plt.get_cmap('viridis')\n",
    "    for x, c in zip(df[\"o.ct\"].unique(), cmap(np.linspace(0, 1, len(df[\"o.ct\"].unique())))):\n",
    "        if not isinstance(x, str):\n",
    "            continue\n",
    "        ct = sample[sample[\"o.ct\"] == x]\n",
    "        if len(ct) == 0:\n",
    "            continue\n",
    "        plt.scatter(ct[\"o.ct_loc.x\"], ct[\"o.ct_loc.y\"], color=c, label=x[:8])\n",
    "        \n",
    "        t_next = 10\n",
    "        x, y = ct.iloc[-1][\"o.ct_loc.x\"], ct.iloc[-1][\"o.ct_loc.y\"]\n",
    "        x_next, y_next = ct.iloc[-1][\"o.ct_loc.x\"]+ct.iloc[-1][\"o.ct_v.x\"]*t_next, ct.iloc[-1][\"o.ct_loc.y\"]+ct.iloc[-1][\"o.ct_v.y\"]*t_next\n",
    "        if not np.allclose((x, y), (x_next, y_next)):\n",
    "            plt.axline((x,y),(x_next,y_next), marker = 'x', color=c, dashes=[2,2])\n",
    "    \n",
    "    cloc_df = sample[~(sample[\"o.ct_cloc\"].isna())]\n",
    "    if len(cloc_df) > 0:\n",
    "        cloc_x = cloc_df.iloc[-1][\"o.ct_cloc.x\"]\n",
    "        cloc_y = cloc_df.iloc[-1][\"o.ct_cloc.y\"]\n",
    "        cradius = cloc_df.iloc[-1][\"o.ct_cradius\"]\n",
    "        cmargin = cloc_df.iloc[-1].get([\"o.scm\"],500)\n",
    "        threat_radius = plt.Circle((cloc_x, cloc_y), cradius, color=\"red\", fill=False)\n",
    "        margin = plt.Circle((cloc_x, cloc_y), cradius+cmargin, color=\"orange\", fill=False)\n",
    "        margin_hist = plt.Circle((cloc_x, cloc_y), cradius+cmargin*2, color=\"green\", fill=False)\n",
    "        plt.gca().add_patch(threat_radius)\n",
    "        plt.gca().add_patch(margin)\n",
    "        plt.gca().add_patch(margin_hist)\n",
    "        print(cradius)\n",
    "        \n",
    "        cn_x, cn_y = list(zip(*cloc_df.iloc[-1][\"o.ct_cn\"]))\n",
    "        plt.scatter(cn_x, cn_y, label=\"ct_cnloc\", marker=\"+\", color=\"pink\")\n",
    "    \n",
    "    if show_tloc:\n",
    "        plt.scatter(sample[\"o.t_loc.x\"], sample[\"o.t_loc.y\"], label=\"t_loc\", marker=\"x\")\n",
    "        for ((tloc_x, tloc_y), ad, md) in sample.groupby([\"o.t_loc.x\", \"o.t_loc.y\"]).agg({\"o.t_loc\": \"min\", \"o.ad\":\"min\", \"o.md\":\"min\"}).values:\n",
    "            arrival_dist = plt.Circle((tloc_x, tloc_y), ad, color=\"green\", fill=False)\n",
    "            min_dist = plt.Circle((tloc_x, tloc_y), md, color=\"red\", fill=False)\n",
    "            plt.gca().add_patch(arrival_dist)\n",
    "            plt.gca().add_patch(min_dist)\n",
    "            \n",
    "    t_next = 10\n",
    "    x, y = sample.iloc[-1][\"loc.x\"], sample.iloc[-1][\"loc.y\"]\n",
    "    x_next, y_next = sample.iloc[-1][\"loc.x\"]+sample.iloc[-1][\"v.x\"]*t_next, sample.iloc[-1][\"loc.y\"]+sample.iloc[-1][\"v.y\"]*t_next\n",
    "    if not np.allclose((x, y), (x_next, y_next)):\n",
    "        plt.axline((x,y),(x_next,y_next),marker = 'o')\n",
    "    \n",
    "    plt.axis('equal')\n",
    "    #center = (54140, -58169)\n",
    "    #radius = 30000\n",
    "    #plt.xlim(center[0]-radius,center[0]+radius)\n",
    "    #plt.ylim(center[1]-radius,center[1]+radius)\n",
    "\n",
    "    plt.legend()\n",
    "    plt.show()\n",
    "    \n",
    "ipywidgets.interact(\n",
    "    plot_collision_chart,\n",
    "    hist_length=ipywidgets.FloatSlider(value=15, min=0, max=df[\"ts\"].max()-df[\"ts\"].min(), continuous_update=False),\n",
    "    max_time=ipywidgets.FloatSlider(step=1/60, value=df[\"ts\"].max()+1/60, min=df[\"ts\"].min(), max=df[\"ts\"].max()+1/60, continuous_update=False),\n",
    "    sampling_interval=ipywidgets.IntSlider(value=2, min=1, max=100, continuous_update=False),\n",
    "    show_tloc=ipywidgets.Checkbox(value=True),\n",
    "    show_tv=ipywidgets.Checkbox(value=True),\n",
    "    show_ctdv=ipywidgets.Checkbox(value=True),\n",
    "    show_v=ipywidgets.Checkbox(value=True),\n",
    ")"
   ]
  },
  {
   "cell_type": "markdown",
   "id": "6e5e3aad",
   "metadata": {},
   "source": [
    "## Position and Heading"
   ]
  },
  {
   "cell_type": "code",
   "execution_count": 42,
   "id": "2f7475c2",
   "metadata": {
    "scrolled": false
   },
   "outputs": [
    {
     "data": {
      "application/vnd.jupyter.widget-view+json": {
       "model_id": "f16b255157a94313855467ae534f2b49",
       "version_major": 2,
       "version_minor": 0
      },
      "text/plain": [
       "interactive(children=(FloatSlider(value=15.0, continuous_update=False, description='hist_length', max=57.66666…"
      ]
     },
     "metadata": {},
     "output_type": "display_data"
    },
    {
     "data": {
      "text/plain": [
       "<function __main__.plot_collision_chart(hist_length=57.799999999998, max_time=57.799999999998)>"
      ]
     },
     "execution_count": 42,
     "metadata": {},
     "output_type": "execute_result"
    }
   ],
   "source": [
    "def plot_collision_chart(hist_length=df[\"ts\"].max(), max_time=df[\"ts\"].max()):\n",
    "    sample = df[(df[\"ts\"] >= max_time - hist_length) & (df[\"ts\"] <= max_time)]#.iloc[::30]\n",
    "    plt.quiver(sample[\"loc.x\"], sample[\"loc.y\"], sample[\"angle.x\"], sample[\"angle.y\"], label=\"ship\")\n",
    "    ctdv_df = sample[~(sample[\"o.ct_dv\"].isna())]\n",
    "    #plt.quiver(ctdv_df[\"loc.x\"], ctdv_df[\"loc.y\"], ctdv_df[\"o.ct_dv.x\"], ctdv_df[\"o.ct_dv.y\"], label=\"ctdv\", color=\"orange\")\n",
    "    #plt.quiver(sample[\"loc.x\"], sample[\"loc.y\"], sample[\"o.t_v.x\"], sample[\"o.t_v.y\"], label=\"tv\", color=\"purple\")\n",
    "    cmap = plt.get_cmap('viridis')\n",
    "    #for x, c in zip(df[\"o.ct\"].unique(), cmap(np.linspace(0, 1, len(sample[\"o.ct\"].unique())))):\n",
    "    #    print(x)\n",
    "    #    if not isinstance(x, str):\n",
    "    #        continue\n",
    "    #    ct = sample[sample[\"o.ct\"] == x]\n",
    "    #    plt.scatter(ct[\"o.ct_loc.x\"], ct[\"o.ct_loc.y\"], color=c, label=x[:8])\n",
    "    #plt.scatter(sample[\"o.t_loc.x\"], sample[\"o.t_loc.y\"], label=\"t_loc\")\n",
    "    #plt.axis('square')\n",
    "    #center = (-33555, -5000)\n",
    "    #radius = 15000\n",
    "    #plt.xlim(center[0]-radius,center[0]+radius)\n",
    "    #plt.ylim(center[1]-radius,center[1]+radius)\n",
    "    \n",
    "    plt.legend()\n",
    "    plt.axis('equal')\n",
    "    plt.show()\n",
    "    \n",
    "ipywidgets.interact(plot_collision_chart, hist_length=ipywidgets.FloatSlider(value=15, min=0, max=df[\"ts\"].max()-df[\"ts\"].min(), continuous_update=False), max_time=ipywidgets.FloatSlider(value=df[\"ts\"].max(), min=df[\"ts\"].min(), max=df[\"ts\"].max(), continuous_update=False))"
   ]
  },
  {
   "cell_type": "code",
   "execution_count": 43,
   "id": "03aadc31",
   "metadata": {},
   "outputs": [
    {
     "name": "stdout",
     "output_type": "stream",
     "text": [
      "[list([22264.173875210778, 11307.309849660829]) 500.0]\n"
     ]
    }
   ],
   "source": [
    "for s in df.groupby([\"o.t_loc.x\", \"o.t_loc.y\"]).agg({\"o.t_loc\":\"min\", \"o.ad\":\"min\"}).values:\n",
    "    print(f'{s}')"
   ]
  },
  {
   "cell_type": "markdown",
   "id": "6e24f370",
   "metadata": {},
   "source": [
    "# "
   ]
  }
 ],
 "metadata": {
  "kernelspec": {
   "display_name": "Python 3 (ipykernel)",
   "language": "python",
   "name": "python3"
  },
  "language_info": {
   "codemirror_mode": {
    "name": "ipython",
    "version": 3
   },
   "file_extension": ".py",
   "mimetype": "text/x-python",
   "name": "python",
   "nbconvert_exporter": "python",
   "pygments_lexer": "ipython3",
   "version": "3.10.6"
  }
 },
 "nbformat": 4,
 "nbformat_minor": 5
}
