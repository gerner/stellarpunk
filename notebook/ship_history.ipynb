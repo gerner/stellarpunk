{
 "cells": [
  {
   "cell_type": "code",
   "execution_count": 1,
   "id": "9c5bbe2a",
   "metadata": {},
   "outputs": [],
   "source": [
    "import json\n",
    "\n",
    "import pandas as pd\n",
    "import numpy as np\n",
    "from matplotlib import pyplot as plt\n",
    "import ipywidgets\n",
    "\n",
    "from stellarpunk import util"
   ]
  },
  {
   "cell_type": "markdown",
   "id": "d6d53462",
   "metadata": {},
   "source": [
    "# Loading and Preparing Data"
   ]
  },
  {
   "cell_type": "code",
   "execution_count": 2,
   "id": "ceb18552",
   "metadata": {},
   "outputs": [],
   "source": [
    "df_base = pd.read_json(\"/tmp/stellarpunk.history.gz\", lines=True)\n",
    "df_base = df_base.join(pd.json_normalize(df_base[\"o\"]).add_prefix(\"o.\"))"
   ]
  },
  {
   "cell_type": "code",
   "execution_count": 3,
   "id": "1585e6a6",
   "metadata": {},
   "outputs": [
    {
     "data": {
      "text/plain": [
       "0      cd0b8319-1fd8-4961-9490-f7e27a77cacb\n",
       "1      0492f84c-6933-42cf-b69a-fbaceebcfde1\n",
       "2      3db0968d-aa79-4abe-b9e6-6968dd0b241c\n",
       "3      d938ff9e-4a72-46f1-ac94-cf40216de2b4\n",
       "4      5269ee6f-3ab5-4b38-a111-11cd196f2aec\n",
       "                       ...                 \n",
       "132    01ff6699-bf2e-467d-a402-9c5b3e28909c\n",
       "133    4e5c6a12-5663-43bb-bd69-6e0062e6a9eb\n",
       "134    433cad12-9f29-4d38-8a56-c5e649e585f4\n",
       "135    22463aa6-bb24-4380-a000-23969ac4b86d\n",
       "136    300101c8-9e0a-4355-a4e2-7e10749a7e8d\n",
       "Length: 137, dtype: object"
      ]
     },
     "execution_count": 3,
     "metadata": {},
     "output_type": "execute_result"
    }
   ],
   "source": [
    "eids = pd.Series(df_base[\"eid\"].unique())\n",
    "eids"
   ]
  },
  {
   "cell_type": "code",
   "execution_count": 4,
   "id": "288e3f1e",
   "metadata": {},
   "outputs": [
    {
     "data": {
      "text/plain": [
       "128    cb65ec71-352a-41a8-beb0-d9e2ffb47e66\n",
       "dtype: object"
      ]
     },
     "execution_count": 4,
     "metadata": {},
     "output_type": "execute_result"
    }
   ],
   "source": [
    "targets = eids[pd.Series(df_base[\"eid\"].unique()).str.startswith(\"cb65\")]\n",
    "targets"
   ]
  },
  {
   "cell_type": "code",
   "execution_count": 5,
   "id": "caf3fedb",
   "metadata": {},
   "outputs": [],
   "source": [
    "target_index = targets.index[0]"
   ]
  },
  {
   "cell_type": "code",
   "execution_count": 6,
   "id": "c9be6491",
   "metadata": {},
   "outputs": [
    {
     "data": {
      "text/plain": [
       "array(['cb65ec71-352a-41a8-beb0-d9e2ffb47e66'], dtype=object)"
      ]
     },
     "execution_count": 6,
     "metadata": {},
     "output_type": "execute_result"
    }
   ],
   "source": [
    "target_eid = df_base[\"eid\"].unique()[target_index]\n",
    "df_base = df_base[df_base[\"eid\"] == target_eid].reset_index()\n",
    "df_base[\"eid\"].unique()"
   ]
  },
  {
   "cell_type": "code",
   "execution_count": 7,
   "id": "b77f957c",
   "metadata": {},
   "outputs": [],
   "source": [
    "loc = pd.DataFrame(np.vstack(df_base[\"loc\"]), columns=[\"loc.x\", \"loc.y\"])\n",
    "v = pd.DataFrame(np.vstack(df_base[\"v\"]), columns=[\"v.x\", \"v.y\"])\n",
    "\n",
    "empty_array = np.empty(len(df_base))\n",
    "empty_array[:] = np.nan\n",
    "\n",
    "if \"o.t_loc\" in df_base:\n",
    "    o_tloc = pd.DataFrame(np.vstack(df_base[\"o.t_loc\"].apply(lambda x: (np.nan, np.nan) if np.all(np.isnan(x)) else x)), columns=[\"o.t_loc.x\", \"o.t_loc.y\"])\n",
    "    o_tv = pd.DataFrame(np.vstack(df_base[\"o.t_v\"].apply(lambda x: (np.nan, np.nan) if np.all(np.isnan(x)) else x)), columns=[\"o.t_v.x\", \"o.t_v.y\"])\n",
    "else:\n",
    "    o_tloc = pd.DataFrame({\"o.t_loc\": empty_array, \"o.t_loc.x\": empty_array, \"o.t_loc.y\": empty_array})\n",
    "    o_tv = pd.DataFrame({\"o.t_v\": empty_array, \"o.t_v.x\": empty_array, \"o.t_v.y\": empty_array})\n",
    "    \n",
    "if \"o.ct\" in df_base:\n",
    "    o_ctloc = pd.DataFrame(np.vstack(df_base[\"o.ct_loc\"].apply(lambda x: (np.nan, np.nan) if np.all(np.isnan(x)) else x)), columns=[\"o.ct_loc.x\", \"o.ct_loc.y\"])\n",
    "    o_ctdv = pd.DataFrame(np.vstack(df_base[\"o.ct_dv\"].apply(lambda x: (np.nan, np.nan) if np.all(np.isnan(x)) else x)), columns=[\"o.ct_dv.x\", \"o.ct_dv.y\"])\n",
    "    o_ctv = pd.DataFrame(np.vstack(df_base[\"o.ct_v\"].apply(lambda x: (np.nan, np.nan) if np.all(np.isnan(x)) else x)), columns=[\"o.ct_v.x\", \"o.ct_v.y\"])\n",
    "    o_ctcloc = pd.DataFrame(np.vstack(df_base[\"o.ct_cloc\"].apply(lambda x: (np.nan, np.nan) if np.all(np.isnan(x)) else x)), columns=[\"o.ct_cloc.x\", \"o.ct_cloc.y\"])\n",
    "else:\n",
    "    o_ctloc = pd.DataFrame({\"o.ct_loc\": empty_array, \"o.ct_loc.x\": empty_array, \"o.ct_loc.y\": empty_array})\n",
    "    o_ctdv = pd.DataFrame({\"o.ct_dv\": empty_array, \"o.ct_dv.x\": empty_array, \"o.ct_dv.y\": empty_array})\n",
    "    o_ctv = pd.DataFrame({\"o.ct_v\": empty_array, \"o.ct_v.x\": empty_array, \"o.ct_v.y\": empty_array})\n",
    "    o_ctcloc = pd.DataFrame({\"o.ct_cloc\": empty_array, \"o.ct_cloc.x\": empty_array, \"o.ct_cloc.y\": empty_array})\n",
    "angle = pd.DataFrame(np.vstack(df_base.apply(lambda row: np.array(util.polar_to_cartesian(100, row[\"a\"])), axis=1)), columns=[\"angle.x\", \"angle.y\"])\n",
    "df = pd.concat([df_base, loc, v, o_ctloc, o_ctcloc, o_ctdv, o_ctv, o_tloc, o_tv, angle], axis=1)\n",
    "\n",
    "if \"o.ct\" not in df_base:\n",
    "    df[\"o.ct\"] = empty_array\n",
    "    df[\"o.ct_ts\"] = empty_array\n",
    "    df[\"o.cac\"] = empty_array\n",
    "    df[\"o.cbdr\"] = empty_array\n",
    "    df[\"o.cbdr_hist\"] = empty_array\n",
    "    df[\"o.ct_ct\"] = empty_array\n",
    "    df[\"o.ct_cradius\"] = empty_array\n",
    "    df[\"o.nd\"] = empty_array\n",
    "    df[\"o.ct_dist\"] = empty_array\n",
    "else:\n",
    "    df[\"o.ct_dist\"] = np.linalg.norm(np.vstack(df[\"loc\"]) - np.vstack(df[\"o.ct_cloc\"].apply(lambda x: (np.nan, np.nan) if np.all(np.isnan(x)) else x)), axis=1)\n",
    "    \n",
    "if \"o.t_loc\" not in df_base:\n",
    "    df[\"o.cs\"] = empty_array\n",
    "    df[\"o.t_dist\"] = empty_array\n",
    "else:\n",
    "    df[\"o.t_dist\"] = np.linalg.norm(np.vstack(df[\"loc\"]) - np.vstack(df[\"o.t_loc\"].apply(lambda x: (np.nan, np.nan) if np.all(np.isnan(x)) else x)), axis=1)"
   ]
  },
  {
   "cell_type": "code",
   "execution_count": 8,
   "id": "6e17314e",
   "metadata": {},
   "outputs": [],
   "source": [
    "df[\"speed\"] = np.linalg.norm(df[[\"v.x\", \"v.y\"]], axis=1)\n",
    "df[\"o.t_speed\"] = np.linalg.norm(df[[\"o.t_v.x\", \"o.t_v.y\"]], axis=1)\n",
    "df[\"f_mag\"] = df[\"f\"].apply(lambda x:np.linalg.norm(x))"
   ]
  },
  {
   "cell_type": "code",
   "execution_count": 9,
   "id": "39640462",
   "metadata": {},
   "outputs": [],
   "source": [
    "#df[\"o.ct_v.x\"] = (df[\"o.ct_loc.x\"].shift(1) - df[\"o.ct_loc.x\"]) / (df[\"ts\"].shift(1) - df[\"ts\"])\n",
    "#df[\"o.ct_v.y\"] = (df[\"o.ct_loc.y\"].shift(1) - df[\"o.ct_loc.y\"]) / (df[\"ts\"].shift(1) - df[\"ts\"])"
   ]
  },
  {
   "cell_type": "code",
   "execution_count": 10,
   "id": "34fd5383",
   "metadata": {},
   "outputs": [
    {
     "data": {
      "text/html": [
       "<div>\n",
       "<style scoped>\n",
       "    .dataframe tbody tr th:only-of-type {\n",
       "        vertical-align: middle;\n",
       "    }\n",
       "\n",
       "    .dataframe tbody tr th {\n",
       "        vertical-align: top;\n",
       "    }\n",
       "\n",
       "    .dataframe thead th {\n",
       "        text-align: right;\n",
       "    }\n",
       "</style>\n",
       "<table border=\"1\" class=\"dataframe\">\n",
       "  <thead>\n",
       "    <tr style=\"text-align: right;\">\n",
       "      <th></th>\n",
       "      <th>index</th>\n",
       "      <th>p</th>\n",
       "      <th>eid</th>\n",
       "      <th>ts</th>\n",
       "      <th>loc</th>\n",
       "      <th>r</th>\n",
       "      <th>a</th>\n",
       "      <th>v</th>\n",
       "      <th>av</th>\n",
       "      <th>f</th>\n",
       "      <th>...</th>\n",
       "      <th>o.t_loc.y</th>\n",
       "      <th>o.t_v.x</th>\n",
       "      <th>o.t_v.y</th>\n",
       "      <th>angle.x</th>\n",
       "      <th>angle.y</th>\n",
       "      <th>o.ct_dist</th>\n",
       "      <th>o.t_dist</th>\n",
       "      <th>speed</th>\n",
       "      <th>o.t_speed</th>\n",
       "      <th>f_mag</th>\n",
       "    </tr>\n",
       "  </thead>\n",
       "  <tbody>\n",
       "    <tr>\n",
       "      <th>0</th>\n",
       "      <td>26091</td>\n",
       "      <td>SHP</td>\n",
       "      <td>cb65ec71-352a-41a8-beb0-d9e2ffb47e66</td>\n",
       "      <td>0.133333</td>\n",
       "      <td>[-37485.566949728505, 179403.00064797446]</td>\n",
       "      <td>30</td>\n",
       "      <td>2.510593</td>\n",
       "      <td>[-65.6432869101162, 48.28557505182764]</td>\n",
       "      <td>-0.247399</td>\n",
       "      <td>[1050.0362624693582, 14963.202325956145]</td>\n",
       "      <td>...</td>\n",
       "      <td>189136.994368</td>\n",
       "      <td>-30.851713</td>\n",
       "      <td>544.071653</td>\n",
       "      <td>-80.743844</td>\n",
       "      <td>58.995183</td>\n",
       "      <td>NaN</td>\n",
       "      <td>9749.276491</td>\n",
       "      <td>81.489495</td>\n",
       "      <td>544.945678</td>\n",
       "      <td>15000.0</td>\n",
       "    </tr>\n",
       "    <tr>\n",
       "      <th>1</th>\n",
       "      <td>26092</td>\n",
       "      <td>SHP</td>\n",
       "      <td>cb65ec71-352a-41a8-beb0-d9e2ffb47e66</td>\n",
       "      <td>0.300000</td>\n",
       "      <td>[-37496.50093482022, 179411.141763831]</td>\n",
       "      <td>30</td>\n",
       "      <td>2.431860</td>\n",
       "      <td>[-65.55578388824382, 49.53250857899064]</td>\n",
       "      <td>-0.747399</td>\n",
       "      <td>[1050.0362624693603, 14963.202325956143]</td>\n",
       "      <td>...</td>\n",
       "      <td>189136.994368</td>\n",
       "      <td>-30.851713</td>\n",
       "      <td>544.071653</td>\n",
       "      <td>-75.853633</td>\n",
       "      <td>65.163075</td>\n",
       "      <td>NaN</td>\n",
       "      <td>9740.541773</td>\n",
       "      <td>82.164653</td>\n",
       "      <td>544.945678</td>\n",
       "      <td>15000.0</td>\n",
       "    </tr>\n",
       "    <tr>\n",
       "      <th>2</th>\n",
       "      <td>26093</td>\n",
       "      <td>SHP</td>\n",
       "      <td>cb65ec71-352a-41a8-beb0-d9e2ffb47e66</td>\n",
       "      <td>0.466667</td>\n",
       "      <td>[-37507.42033607496, 179419.490701942]</td>\n",
       "      <td>30</td>\n",
       "      <td>2.269794</td>\n",
       "      <td>[-65.46828086637144, 50.77944210615363]</td>\n",
       "      <td>-1.247399</td>\n",
       "      <td>[1050.036262469362, 14963.202325956145]</td>\n",
       "      <td>...</td>\n",
       "      <td>189136.994368</td>\n",
       "      <td>-30.851713</td>\n",
       "      <td>544.071653</td>\n",
       "      <td>-64.345063</td>\n",
       "      <td>76.548762</td>\n",
       "      <td>NaN</td>\n",
       "      <td>9731.611575</td>\n",
       "      <td>82.853169</td>\n",
       "      <td>544.945678</td>\n",
       "      <td>15000.0</td>\n",
       "    </tr>\n",
       "    <tr>\n",
       "      <th>3</th>\n",
       "      <td>26094</td>\n",
       "      <td>SHP</td>\n",
       "      <td>cb65ec71-352a-41a8-beb0-d9e2ffb47e66</td>\n",
       "      <td>0.633333</td>\n",
       "      <td>[-37518.32515349271, 179428.04746230756]</td>\n",
       "      <td>30</td>\n",
       "      <td>2.024716</td>\n",
       "      <td>[-65.38077784449906, 52.026375633316626]</td>\n",
       "      <td>-1.637823</td>\n",
       "      <td>[1050.0362624693641, 14963.202325956143]</td>\n",
       "      <td>...</td>\n",
       "      <td>189136.994368</td>\n",
       "      <td>-30.851713</td>\n",
       "      <td>544.071653</td>\n",
       "      <td>-43.849187</td>\n",
       "      <td>89.873515</td>\n",
       "      <td>NaN</td>\n",
       "      <td>9722.485843</td>\n",
       "      <td>83.554712</td>\n",
       "      <td>544.945678</td>\n",
       "      <td>15000.0</td>\n",
       "    </tr>\n",
       "    <tr>\n",
       "      <th>4</th>\n",
       "      <td>26095</td>\n",
       "      <td>SHP</td>\n",
       "      <td>cb65ec71-352a-41a8-beb0-d9e2ffb47e66</td>\n",
       "      <td>0.800000</td>\n",
       "      <td>[-37529.215387073484, 179436.81204492765]</td>\n",
       "      <td>30</td>\n",
       "      <td>1.783397</td>\n",
       "      <td>[-65.29327482262669, 53.27330916047962]</td>\n",
       "      <td>-1.214731</td>\n",
       "      <td>[1050.0362624693664, 14963.202325956143]</td>\n",
       "      <td>...</td>\n",
       "      <td>189136.994368</td>\n",
       "      <td>-30.851713</td>\n",
       "      <td>544.071653</td>\n",
       "      <td>-21.100233</td>\n",
       "      <td>97.748556</td>\n",
       "      <td>NaN</td>\n",
       "      <td>9713.164528</td>\n",
       "      <td>84.268958</td>\n",
       "      <td>544.945678</td>\n",
       "      <td>15000.0</td>\n",
       "    </tr>\n",
       "    <tr>\n",
       "      <th>...</th>\n",
       "      <td>...</td>\n",
       "      <td>...</td>\n",
       "      <td>...</td>\n",
       "      <td>...</td>\n",
       "      <td>...</td>\n",
       "      <td>...</td>\n",
       "      <td>...</td>\n",
       "      <td>...</td>\n",
       "      <td>...</td>\n",
       "      <td>...</td>\n",
       "      <td>...</td>\n",
       "      <td>...</td>\n",
       "      <td>...</td>\n",
       "      <td>...</td>\n",
       "      <td>...</td>\n",
       "      <td>...</td>\n",
       "      <td>...</td>\n",
       "      <td>...</td>\n",
       "      <td>...</td>\n",
       "      <td>...</td>\n",
       "      <td>...</td>\n",
       "    </tr>\n",
       "    <tr>\n",
       "      <th>1034</th>\n",
       "      <td>27125</td>\n",
       "      <td>SHP</td>\n",
       "      <td>cb65ec71-352a-41a8-beb0-d9e2ffb47e66</td>\n",
       "      <td>173.669308</td>\n",
       "      <td>[74394.72811805966, 174.6481743300668]</td>\n",
       "      <td>30</td>\n",
       "      <td>-3.835294</td>\n",
       "      <td>[1725.290758111895, -2316.0823893237994]</td>\n",
       "      <td>1.014059</td>\n",
       "      <td>[-12352.848950681278, -8509.237498251678]</td>\n",
       "      <td>...</td>\n",
       "      <td>-212781.188564</td>\n",
       "      <td>250.711190</td>\n",
       "      <td>-413.264680</td>\n",
       "      <td>-76.888462</td>\n",
       "      <td>63.938756</td>\n",
       "      <td>2239.133906</td>\n",
       "      <td>249076.960364</td>\n",
       "      <td>2888.055719</td>\n",
       "      <td>483.367144</td>\n",
       "      <td>15000.0</td>\n",
       "    </tr>\n",
       "    <tr>\n",
       "      <th>1035</th>\n",
       "      <td>27126</td>\n",
       "      <td>SHP</td>\n",
       "      <td>cb65ec71-352a-41a8-beb0-d9e2ffb47e66</td>\n",
       "      <td>173.835975</td>\n",
       "      <td>[74682.1992735023, -211.41859563601002]</td>\n",
       "      <td>30</td>\n",
       "      <td>-3.628784</td>\n",
       "      <td>[1724.2587995141469, -2316.787760290157]</td>\n",
       "      <td>1.514059</td>\n",
       "      <td>[-12416.381846633643, -8416.261749647912]</td>\n",
       "      <td>...</td>\n",
       "      <td>-212781.188564</td>\n",
       "      <td>217.262887</td>\n",
       "      <td>-358.247926</td>\n",
       "      <td>-88.365110</td>\n",
       "      <td>46.814606</td>\n",
       "      <td>1758.480928</td>\n",
       "      <td>248597.785108</td>\n",
       "      <td>2888.005182</td>\n",
       "      <td>418.980595</td>\n",
       "      <td>15000.0</td>\n",
       "    </tr>\n",
       "    <tr>\n",
       "      <th>1036</th>\n",
       "      <td>27127</td>\n",
       "      <td>SHP</td>\n",
       "      <td>cb65ec71-352a-41a8-beb0-d9e2ffb47e66</td>\n",
       "      <td>174.002642</td>\n",
       "      <td>[74969.49785575982, -597.6020711488212]</td>\n",
       "      <td>30</td>\n",
       "      <td>-3.338941</td>\n",
       "      <td>[1723.21823447032, -2317.4803513426095]</td>\n",
       "      <td>1.979730</td>\n",
       "      <td>[-12576.746836164137, -8174.682808466356]</td>\n",
       "      <td>...</td>\n",
       "      <td>-212781.188564</td>\n",
       "      <td>157.408925</td>\n",
       "      <td>-259.682529</td>\n",
       "      <td>-98.058994</td>\n",
       "      <td>19.606983</td>\n",
       "      <td>1278.370980</td>\n",
       "      <td>248118.607877</td>\n",
       "      <td>2887.939796</td>\n",
       "      <td>303.665253</td>\n",
       "      <td>15000.0</td>\n",
       "    </tr>\n",
       "    <tr>\n",
       "      <th>1037</th>\n",
       "      <td>27128</td>\n",
       "      <td>SHP</td>\n",
       "      <td>cb65ec71-352a-41a8-beb0-d9e2ffb47e66</td>\n",
       "      <td>174.169308</td>\n",
       "      <td>[75256.6219835535, -983.8994084609812]</td>\n",
       "      <td>30</td>\n",
       "      <td>-3.042000</td>\n",
       "      <td>[1722.1620134381087, -2318.148733820206]</td>\n",
       "      <td>1.522627</td>\n",
       "      <td>[-12786.09040075917, -7843.206758948423]</td>\n",
       "      <td>...</td>\n",
       "      <td>-212781.188564</td>\n",
       "      <td>117.592962</td>\n",
       "      <td>-194.060937</td>\n",
       "      <td>-99.504477</td>\n",
       "      <td>-9.942789</td>\n",
       "      <td>799.769031</td>\n",
       "      <td>247639.432013</td>\n",
       "      <td>2887.846179</td>\n",
       "      <td>226.909127</td>\n",
       "      <td>15000.0</td>\n",
       "    </tr>\n",
       "    <tr>\n",
       "      <th>1038</th>\n",
       "      <td>27129</td>\n",
       "      <td>SHP</td>\n",
       "      <td>cb65ec71-352a-41a8-beb0-d9e2ffb47e66</td>\n",
       "      <td>174.335975</td>\n",
       "      <td>[75543.56776489766, -1370.304309447956]</td>\n",
       "      <td>30</td>\n",
       "      <td>-2.824639</td>\n",
       "      <td>[1719.6451027771782, -2319.3457606510574]</td>\n",
       "      <td>1.029893</td>\n",
       "      <td>[-184339.4401217683, -77582.02636946911]</td>\n",
       "      <td>...</td>\n",
       "      <td>-212781.188564</td>\n",
       "      <td>58.252753</td>\n",
       "      <td>-96.180773</td>\n",
       "      <td>-95.018935</td>\n",
       "      <td>-31.167323</td>\n",
       "      <td>329.268006</td>\n",
       "      <td>247160.264853</td>\n",
       "      <td>2887.307403</td>\n",
       "      <td>112.446095</td>\n",
       "      <td>200000.0</td>\n",
       "    </tr>\n",
       "  </tbody>\n",
       "</table>\n",
       "<p>1039 rows × 59 columns</p>\n",
       "</div>"
      ],
      "text/plain": [
       "      index    p                                   eid          ts  \\\n",
       "0     26091  SHP  cb65ec71-352a-41a8-beb0-d9e2ffb47e66    0.133333   \n",
       "1     26092  SHP  cb65ec71-352a-41a8-beb0-d9e2ffb47e66    0.300000   \n",
       "2     26093  SHP  cb65ec71-352a-41a8-beb0-d9e2ffb47e66    0.466667   \n",
       "3     26094  SHP  cb65ec71-352a-41a8-beb0-d9e2ffb47e66    0.633333   \n",
       "4     26095  SHP  cb65ec71-352a-41a8-beb0-d9e2ffb47e66    0.800000   \n",
       "...     ...  ...                                   ...         ...   \n",
       "1034  27125  SHP  cb65ec71-352a-41a8-beb0-d9e2ffb47e66  173.669308   \n",
       "1035  27126  SHP  cb65ec71-352a-41a8-beb0-d9e2ffb47e66  173.835975   \n",
       "1036  27127  SHP  cb65ec71-352a-41a8-beb0-d9e2ffb47e66  174.002642   \n",
       "1037  27128  SHP  cb65ec71-352a-41a8-beb0-d9e2ffb47e66  174.169308   \n",
       "1038  27129  SHP  cb65ec71-352a-41a8-beb0-d9e2ffb47e66  174.335975   \n",
       "\n",
       "                                            loc   r         a  \\\n",
       "0     [-37485.566949728505, 179403.00064797446]  30  2.510593   \n",
       "1        [-37496.50093482022, 179411.141763831]  30  2.431860   \n",
       "2        [-37507.42033607496, 179419.490701942]  30  2.269794   \n",
       "3      [-37518.32515349271, 179428.04746230756]  30  2.024716   \n",
       "4     [-37529.215387073484, 179436.81204492765]  30  1.783397   \n",
       "...                                         ...  ..       ...   \n",
       "1034     [74394.72811805966, 174.6481743300668]  30 -3.835294   \n",
       "1035    [74682.1992735023, -211.41859563601002]  30 -3.628784   \n",
       "1036    [74969.49785575982, -597.6020711488212]  30 -3.338941   \n",
       "1037     [75256.6219835535, -983.8994084609812]  30 -3.042000   \n",
       "1038    [75543.56776489766, -1370.304309447956]  30 -2.824639   \n",
       "\n",
       "                                              v        av  \\\n",
       "0        [-65.6432869101162, 48.28557505182764] -0.247399   \n",
       "1       [-65.55578388824382, 49.53250857899064] -0.747399   \n",
       "2       [-65.46828086637144, 50.77944210615363] -1.247399   \n",
       "3      [-65.38077784449906, 52.026375633316626] -1.637823   \n",
       "4       [-65.29327482262669, 53.27330916047962] -1.214731   \n",
       "...                                         ...       ...   \n",
       "1034   [1725.290758111895, -2316.0823893237994]  1.014059   \n",
       "1035   [1724.2587995141469, -2316.787760290157]  1.514059   \n",
       "1036    [1723.21823447032, -2317.4803513426095]  1.979730   \n",
       "1037   [1722.1620134381087, -2318.148733820206]  1.522627   \n",
       "1038  [1719.6451027771782, -2319.3457606510574]  1.029893   \n",
       "\n",
       "                                              f  ...      o.t_loc.y  \\\n",
       "0      [1050.0362624693582, 14963.202325956145]  ...  189136.994368   \n",
       "1      [1050.0362624693603, 14963.202325956143]  ...  189136.994368   \n",
       "2       [1050.036262469362, 14963.202325956145]  ...  189136.994368   \n",
       "3      [1050.0362624693641, 14963.202325956143]  ...  189136.994368   \n",
       "4      [1050.0362624693664, 14963.202325956143]  ...  189136.994368   \n",
       "...                                         ...  ...            ...   \n",
       "1034  [-12352.848950681278, -8509.237498251678]  ... -212781.188564   \n",
       "1035  [-12416.381846633643, -8416.261749647912]  ... -212781.188564   \n",
       "1036  [-12576.746836164137, -8174.682808466356]  ... -212781.188564   \n",
       "1037   [-12786.09040075917, -7843.206758948423]  ... -212781.188564   \n",
       "1038   [-184339.4401217683, -77582.02636946911]  ... -212781.188564   \n",
       "\n",
       "         o.t_v.x     o.t_v.y    angle.x    angle.y    o.ct_dist  \\\n",
       "0     -30.851713  544.071653 -80.743844  58.995183          NaN   \n",
       "1     -30.851713  544.071653 -75.853633  65.163075          NaN   \n",
       "2     -30.851713  544.071653 -64.345063  76.548762          NaN   \n",
       "3     -30.851713  544.071653 -43.849187  89.873515          NaN   \n",
       "4     -30.851713  544.071653 -21.100233  97.748556          NaN   \n",
       "...          ...         ...        ...        ...          ...   \n",
       "1034  250.711190 -413.264680 -76.888462  63.938756  2239.133906   \n",
       "1035  217.262887 -358.247926 -88.365110  46.814606  1758.480928   \n",
       "1036  157.408925 -259.682529 -98.058994  19.606983  1278.370980   \n",
       "1037  117.592962 -194.060937 -99.504477  -9.942789   799.769031   \n",
       "1038   58.252753  -96.180773 -95.018935 -31.167323   329.268006   \n",
       "\n",
       "           o.t_dist        speed   o.t_speed     f_mag  \n",
       "0       9749.276491    81.489495  544.945678   15000.0  \n",
       "1       9740.541773    82.164653  544.945678   15000.0  \n",
       "2       9731.611575    82.853169  544.945678   15000.0  \n",
       "3       9722.485843    83.554712  544.945678   15000.0  \n",
       "4       9713.164528    84.268958  544.945678   15000.0  \n",
       "...             ...          ...         ...       ...  \n",
       "1034  249076.960364  2888.055719  483.367144   15000.0  \n",
       "1035  248597.785108  2888.005182  418.980595   15000.0  \n",
       "1036  248118.607877  2887.939796  303.665253   15000.0  \n",
       "1037  247639.432013  2887.846179  226.909127   15000.0  \n",
       "1038  247160.264853  2887.307403  112.446095  200000.0  \n",
       "\n",
       "[1039 rows x 59 columns]"
      ]
     },
     "execution_count": 10,
     "metadata": {},
     "output_type": "execute_result"
    }
   ],
   "source": [
    "df"
   ]
  },
  {
   "cell_type": "code",
   "execution_count": 11,
   "id": "a703dac7",
   "metadata": {},
   "outputs": [
    {
     "data": {
      "text/plain": [
       "{'o': 'stellarpunk.orders.movement.GoToLocation',\n",
       " 'ct': '778c10a6-7f1c-4e71-9286-5bdef14e7f03',\n",
       " 'ct_loc': [75815.45404285376, -1556.0333372901805],\n",
       " 'ct_v': [0.0, 0.0],\n",
       " 'ct_ts': 171.98597500002904,\n",
       " 'ct_dv': [-1266.340105723773, -532.9582828833627],\n",
       " 'ct_tc': 0.0,\n",
       " 'ct_ct': 1,\n",
       " 'ct_cloc': [75815.45404285376, -1556.0333372901805],\n",
       " 'ct_cradius': 100.0,\n",
       " 'ct_cn': [[75815.45404285376, -1556.0333372901805]],\n",
       " 'ct_dv_override': True,\n",
       " 'cac': False,\n",
       " 'cach': True,\n",
       " 'cbdr': False,\n",
       " 'cbdr_hist': [[4239.819834054113, -5504.826892697946],\n",
       "  [300.572632369076, -224.3740152383018]],\n",
       " 'nd': 9.549296585513724e-09,\n",
       " 'nnd': 375.0834654359392,\n",
       " 't_loc': [203581.1971592323, -212781.18856426352],\n",
       " 'ad': 500.0,\n",
       " 'md': 0.0,\n",
       " 't_v': [58.252752988842545, -96.18077262969945],\n",
       " 'cs': False,\n",
       " 'scm': 200.0}"
      ]
     },
     "execution_count": 11,
     "metadata": {},
     "output_type": "execute_result"
    }
   ],
   "source": [
    "df.iloc[-1][\"o\"]"
   ]
  },
  {
   "cell_type": "markdown",
   "id": "a6d3cf5e",
   "metadata": {},
   "source": [
    "# Basic Ship Vitals"
   ]
  },
  {
   "cell_type": "markdown",
   "id": "36730903",
   "metadata": {},
   "source": [
    "## Position and Heading"
   ]
  },
  {
   "cell_type": "code",
   "execution_count": 12,
   "id": "665329e8",
   "metadata": {},
   "outputs": [
    {
     "data": {
      "application/vnd.jupyter.widget-view+json": {
       "model_id": "9ab5fbb11a644b138cc5a20261541a86",
       "version_major": 2,
       "version_minor": 0
      },
      "text/plain": [
       "interactive(children=(FloatSlider(value=174.3359750000309, continuous_update=False, description='max_time', ma…"
      ]
     },
     "metadata": {},
     "output_type": "display_data"
    },
    {
     "data": {
      "text/plain": [
       "<function __main__.plot_location_chart(max_time)>"
      ]
     },
     "execution_count": 12,
     "metadata": {},
     "output_type": "execute_result"
    }
   ],
   "source": [
    "def plot_location_chart(max_time):\n",
    "    sample = df[df[\"ts\"] <= max_time].iloc[::50]\n",
    "    plt.quiver(sample[\"loc.x\"], sample[\"loc.y\"], sample[\"angle.x\"], sample[\"angle.y\"])#, scale=100)\n",
    "    plt.scatter(sample[\"o.t_loc.x\"], sample[\"o.t_loc.y\"])\n",
    "    #center = (0,2500)\n",
    "    #radius = 10000\n",
    "    #plt.xlim(center[0]-radius,center[0]+radius)\n",
    "    #plt.ylim(center[1]-radius,center[1]+radius)\n",
    "\n",
    "ipywidgets.interact(plot_location_chart, max_time=ipywidgets.FloatSlider(value=df[\"ts\"].max(), min=df[\"ts\"].min(), max=df[\"ts\"].max(), continuous_update=False))"
   ]
  },
  {
   "cell_type": "code",
   "execution_count": 13,
   "id": "ed1c2ca3",
   "metadata": {},
   "outputs": [
    {
     "data": {
      "text/html": [
       "<div>\n",
       "<style scoped>\n",
       "    .dataframe tbody tr th:only-of-type {\n",
       "        vertical-align: middle;\n",
       "    }\n",
       "\n",
       "    .dataframe tbody tr th {\n",
       "        vertical-align: top;\n",
       "    }\n",
       "\n",
       "    .dataframe thead th {\n",
       "        text-align: right;\n",
       "    }\n",
       "</style>\n",
       "<table border=\"1\" class=\"dataframe\">\n",
       "  <thead>\n",
       "    <tr style=\"text-align: right;\">\n",
       "      <th></th>\n",
       "      <th>loc.x</th>\n",
       "      <th>loc.y</th>\n",
       "    </tr>\n",
       "  </thead>\n",
       "  <tbody>\n",
       "    <tr>\n",
       "      <th>count</th>\n",
       "      <td>1039.000000</td>\n",
       "      <td>1039.000000</td>\n",
       "    </tr>\n",
       "    <tr>\n",
       "      <th>mean</th>\n",
       "      <td>-12889.304601</td>\n",
       "      <td>145060.182344</td>\n",
       "    </tr>\n",
       "    <tr>\n",
       "      <th>std</th>\n",
       "      <td>34919.088390</td>\n",
       "      <td>59249.703847</td>\n",
       "    </tr>\n",
       "    <tr>\n",
       "      <th>min</th>\n",
       "      <td>-38015.765888</td>\n",
       "      <td>-1370.304309</td>\n",
       "    </tr>\n",
       "    <tr>\n",
       "      <th>25%</th>\n",
       "      <td>-38015.765888</td>\n",
       "      <td>104383.517378</td>\n",
       "    </tr>\n",
       "    <tr>\n",
       "      <th>50%</th>\n",
       "      <td>-37380.791900</td>\n",
       "      <td>182273.989741</td>\n",
       "    </tr>\n",
       "    <tr>\n",
       "      <th>75%</th>\n",
       "      <td>9798.385343</td>\n",
       "      <td>188699.385539</td>\n",
       "    </tr>\n",
       "    <tr>\n",
       "      <th>max</th>\n",
       "      <td>75543.567765</td>\n",
       "      <td>188699.385539</td>\n",
       "    </tr>\n",
       "  </tbody>\n",
       "</table>\n",
       "</div>"
      ],
      "text/plain": [
       "              loc.x          loc.y\n",
       "count   1039.000000    1039.000000\n",
       "mean  -12889.304601  145060.182344\n",
       "std    34919.088390   59249.703847\n",
       "min   -38015.765888   -1370.304309\n",
       "25%   -38015.765888  104383.517378\n",
       "50%   -37380.791900  182273.989741\n",
       "75%     9798.385343  188699.385539\n",
       "max    75543.567765  188699.385539"
      ]
     },
     "execution_count": 13,
     "metadata": {},
     "output_type": "execute_result"
    }
   ],
   "source": [
    "df[[\"loc.x\", \"loc.y\"]].describe()"
   ]
  },
  {
   "cell_type": "code",
   "execution_count": 14,
   "id": "e0f37c4c",
   "metadata": {},
   "outputs": [
    {
     "data": {
      "text/plain": [
       "Text(0.5, 1.0, 'position')"
      ]
     },
     "execution_count": 14,
     "metadata": {},
     "output_type": "execute_result"
    },
    {
     "data": {
      "image/png": "[encoded data removed]",
      "text/plain": [
       "<Figure size 432x288 with 1 Axes>"
      ]
     },
     "metadata": {
      "needs_background": "light"
     },
     "output_type": "display_data"
    }
   ],
   "source": [
    "plt.scatter(df[\"ts\"], df[\"loc.x\"])\n",
    "plt.scatter(df[\"ts\"], df[\"loc.y\"])\n",
    "plt.title(\"position\")"
   ]
  },
  {
   "cell_type": "code",
   "execution_count": 15,
   "id": "b65fd521",
   "metadata": {},
   "outputs": [
    {
     "data": {
      "text/plain": [
       "Text(0.5, 1.0, 'heading and angular velocity')"
      ]
     },
     "execution_count": 15,
     "metadata": {},
     "output_type": "execute_result"
    },
    {
     "data": {
      "image/png": "[encoded data removed]",
      "text/plain": [
       "<Figure size 432x288 with 1 Axes>"
      ]
     },
     "metadata": {
      "needs_background": "light"
     },
     "output_type": "display_data"
    }
   ],
   "source": [
    "plt.scatter(df[\"ts\"], df[\"a\"], label=\"theta\")\n",
    "plt.scatter(df[\"ts\"], df[\"av\"], label=\"omega\")\n",
    "plt.hlines(np.pi, df[\"ts\"].min(), df[\"ts\"].max(), color=\"red\")\n",
    "plt.hlines(0, df[\"ts\"].min(), df[\"ts\"].max(), color=\"red\")\n",
    "plt.legend()\n",
    "plt.title(\"heading and angular velocity\")"
   ]
  },
  {
   "cell_type": "code",
   "execution_count": 16,
   "id": "e1a4515d",
   "metadata": {},
   "outputs": [
    {
     "data": {
      "text/plain": [
       "<matplotlib.collections.PathCollection at 0x7ff8c1052230>"
      ]
     },
     "execution_count": 16,
     "metadata": {},
     "output_type": "execute_result"
    },
    {
     "data": {
      "image/png": "[encoded data removed]",
      "text/plain": [
       "<Figure size 432x288 with 1 Axes>"
      ]
     },
     "metadata": {
      "needs_background": "light"
     },
     "output_type": "display_data"
    }
   ],
   "source": [
    "plt.scatter(df[\"ts\"], df[\"t\"])"
   ]
  },
  {
   "cell_type": "markdown",
   "id": "4ce26323",
   "metadata": {},
   "source": [
    "## Velocity and Acceleration"
   ]
  },
  {
   "cell_type": "code",
   "execution_count": 17,
   "id": "bcd34da2",
   "metadata": {},
   "outputs": [
    {
     "data": {
      "application/vnd.jupyter.widget-view+json": {
       "model_id": "617add554ba248b6991a229600ae6f76",
       "version_major": 2,
       "version_minor": 0
      },
      "text/plain": [
       "interactive(children=(FloatSlider(value=15.0, continuous_update=False, description='hist_length', max=174.2026…"
      ]
     },
     "metadata": {},
     "output_type": "display_data"
    },
    {
     "data": {
      "text/plain": [
       "<function __main__.plot_speed(hist_length, max_time)>"
      ]
     },
     "execution_count": 17,
     "metadata": {},
     "output_type": "execute_result"
    }
   ],
   "source": [
    "def plot_speed(hist_length, max_time):\n",
    "    sample = df[(df[\"ts\"] >= max_time - hist_length) & (df[\"ts\"] <= max_time)]\n",
    "    plt.scatter(sample[\"ts\"], sample[\"speed\"])\n",
    "    plt.title(\"speed\")\n",
    "    print(f'min speed: {sample[\"speed\"].min()}')\n",
    "    print(f'max speed: {sample[\"speed\"].max()}')\n",
    "    \n",
    "ipywidgets.interact(plot_speed, hist_length=ipywidgets.FloatSlider(value=15, min=0, max=df[\"ts\"].max()-df[\"ts\"].min(), continuous_update=False), max_time=ipywidgets.FloatSlider(value=df[\"ts\"].max(), min=df[\"ts\"].min(), max=df[\"ts\"].max()+.1, continuous_update=False))"
   ]
  },
  {
   "cell_type": "code",
   "execution_count": 18,
   "id": "32a0a440",
   "metadata": {
    "scrolled": true
   },
   "outputs": [
    {
     "data": {
      "application/vnd.jupyter.widget-view+json": {
       "model_id": "44f5bc41b0da4d5a82a1ae56b157e967",
       "version_major": 2,
       "version_minor": 0
      },
      "text/plain": [
       "interactive(children=(FloatSlider(value=15.0, continuous_update=False, description='hist_length', max=174.2026…"
      ]
     },
     "metadata": {},
     "output_type": "display_data"
    },
    {
     "data": {
      "text/plain": [
       "<function __main__.plot_velocity(hist_length, max_time)>"
      ]
     },
     "execution_count": 18,
     "metadata": {},
     "output_type": "execute_result"
    }
   ],
   "source": [
    "def plot_velocity(hist_length, max_time):\n",
    "    sample = df[(df[\"ts\"] >= max_time - hist_length) & (df[\"ts\"] <= max_time)]\n",
    "    plt.scatter(sample[\"ts\"], sample[\"v.x\"], label=\"x\")\n",
    "    plt.scatter(sample[\"ts\"], sample[\"v.y\"], label=\"y\")\n",
    "    plt.legend()\n",
    "    plt.title(\"velocity\")\n",
    "    \n",
    "ipywidgets.interact(plot_velocity, hist_length=ipywidgets.FloatSlider(value=15, min=0, max=df[\"ts\"].max()-df[\"ts\"].min(), continuous_update=False), max_time=ipywidgets.FloatSlider(value=df[\"ts\"].max(), min=df[\"ts\"].min(), max=df[\"ts\"].max()+.1, continuous_update=False))"
   ]
  },
  {
   "cell_type": "code",
   "execution_count": 19,
   "id": "7e3172c1",
   "metadata": {
    "scrolled": true
   },
   "outputs": [
    {
     "data": {
      "application/vnd.jupyter.widget-view+json": {
       "model_id": "0c5561dcf64c476f93a74ba0248d4143",
       "version_major": 2,
       "version_minor": 0
      },
      "text/plain": [
       "interactive(children=(FloatSlider(value=15.0, continuous_update=False, description='hist_length', max=174.2026…"
      ]
     },
     "metadata": {},
     "output_type": "display_data"
    },
    {
     "data": {
      "text/plain": [
       "<function __main__.plot_acceleration(hist_length, max_time)>"
      ]
     },
     "execution_count": 19,
     "metadata": {},
     "output_type": "execute_result"
    }
   ],
   "source": [
    "def plot_acceleration(hist_length, max_time):\n",
    "    sample = df[(df[\"ts\"] >= max_time - hist_length) & (df[\"ts\"] <= max_time)]\n",
    "    plt.scatter(sample[\"ts\"], (sample[\"v.x\"].shift(1) - sample[\"v.x\"]) / (sample[\"ts\"].shift(1) - sample[\"ts\"]), label=\"x\")\n",
    "    plt.scatter(sample[\"ts\"], (sample[\"v.y\"].shift(1) - sample[\"v.y\"]) / (sample[\"ts\"].shift(1) - sample[\"ts\"]), label=\"y\")\n",
    "    plt.yscale(\"symlog\")\n",
    "    plt.legend()\n",
    "    plt.title(\"acceleration\")\n",
    "    \n",
    "ipywidgets.interact(plot_acceleration, hist_length=ipywidgets.FloatSlider(value=15, min=0, max=df[\"ts\"].max()-df[\"ts\"].min(), continuous_update=False), max_time=ipywidgets.FloatSlider(value=df[\"ts\"].max(), min=df[\"ts\"].min(), max=df[\"ts\"].max()+.1, continuous_update=False))"
   ]
  },
  {
   "cell_type": "code",
   "execution_count": 20,
   "id": "7754010f",
   "metadata": {},
   "outputs": [
    {
     "data": {
      "application/vnd.jupyter.widget-view+json": {
       "model_id": "a684892827f74d6fbee6d5b2f535a043",
       "version_major": 2,
       "version_minor": 0
      },
      "text/plain": [
       "interactive(children=(FloatSlider(value=15.0, continuous_update=False, description='hist_length', max=174.2026…"
      ]
     },
     "metadata": {},
     "output_type": "display_data"
    },
    {
     "data": {
      "text/plain": [
       "<function __main__.plot_force(hist_length, max_time)>"
      ]
     },
     "execution_count": 20,
     "metadata": {},
     "output_type": "execute_result"
    }
   ],
   "source": [
    "def plot_force(hist_length, max_time):\n",
    "    sample = df[(df[\"ts\"] >= max_time - hist_length) & (df[\"ts\"] <= max_time)]\n",
    "    plt.scatter(sample[\"ts\"], sample[\"f_mag\"])\n",
    "    plt.yscale(\"log\")\n",
    "    plt.title(\"force\")\n",
    "\n",
    "ipywidgets.interact(plot_force, hist_length=ipywidgets.FloatSlider(value=15, min=0, max=df[\"ts\"].max()-df[\"ts\"].min(), continuous_update=False), max_time=ipywidgets.FloatSlider(value=df[\"ts\"].max(), min=df[\"ts\"].min(), max=df[\"ts\"].max()+.1, continuous_update=False))"
   ]
  },
  {
   "cell_type": "markdown",
   "id": "4630e3f8",
   "metadata": {},
   "source": [
    "# Behavior Monitoring"
   ]
  },
  {
   "cell_type": "code",
   "execution_count": 21,
   "id": "cf1a4380",
   "metadata": {},
   "outputs": [
    {
     "data": {
      "text/plain": [
       "[114.3359749999948, None, 131.6693083333303, None]"
      ]
     },
     "execution_count": 21,
     "metadata": {},
     "output_type": "execute_result"
    }
   ],
   "source": [
    "[next((df.iloc[idx][\"ts\"] if idx is not None else None for idx, v in zip(df.index, (~df[c].isna() & df[c] == True)) if v), None) for c in [\"o.ct\", \"o.cs\", \"o.cac\", \"o.cbdr\"]]"
   ]
  },
  {
   "cell_type": "code",
   "execution_count": 46,
   "id": "9e6db2b0",
   "metadata": {},
   "outputs": [
    {
     "data": {
      "application/vnd.jupyter.widget-view+json": {
       "model_id": "c2bddac2a9f545fb8876cc108df5750e",
       "version_major": 2,
       "version_minor": 0
      },
      "text/plain": [
       "interactive(children=(FloatSlider(value=15.0, continuous_update=False, description='hist_length', max=174.2026…"
      ]
     },
     "metadata": {},
     "output_type": "display_data"
    },
    {
     "data": {
      "text/plain": [
       "<function __main__.plot_collision_info(hist_length, max_time)>"
      ]
     },
     "execution_count": 46,
     "metadata": {},
     "output_type": "execute_result"
    }
   ],
   "source": [
    "def plot_collision_info(hist_length, max_time):\n",
    "    sample = df[(df[\"ts\"] >= max_time - hist_length) & (df[\"ts\"] <= max_time)]\n",
    "    plt.scatter(sample[\"ts\"], (~(sample[\"o.ct\"].isna())).astype(int), label=\"ct\")\n",
    "    plt.scatter(sample[\"ts\"], sample[\"o.cs\"].fillna(0).astype(int)+0.05, label=\"cs\")\n",
    "    plt.scatter(sample[\"ts\"], sample[\"o.cac\"].fillna(0).astype(int)+0.1, label=\"cac\")\n",
    "    plt.scatter(sample[\"ts\"], sample[\"o.cbdr\"].fillna(0).astype(int)+0.15, label=\"cbdr\")\n",
    "    plt.scatter(sample[\"ts\"], sample[\"o.cach\"].fillna(0).astype(int)+0.1, label=\"cach\", marker=\"+\")\n",
    "    plt.scatter(sample[\"ts\"], sample[\"o.ct_dv_override\"].fillna(0).astype(int)+0.15, label=\"dv override\")\n",
    "    plt.legend()\n",
    "    plt.title(\"status flags\")\n",
    "    \n",
    "    flag_cols = [\"o.ct\", \"o.cs\", \"o.cac\", \"o.cach\", \"o.cbdr\", \"o.ct_dv_override\"]\n",
    "    first_ts = [\n",
    "        next(\n",
    "            (sample.loc[idx][\"ts\"] if idx is not None else None\n",
    "             for idx, v in zip(sample.index, (~sample[c].isna() & sample[c] == True))\n",
    "             if v),\n",
    "            None\n",
    "        )\n",
    "        for c in flag_cols\n",
    "    ]\n",
    "    for c, ts in zip(flag_cols, first_ts):\n",
    "        print(f'first {c}: {ts}')\n",
    "\n",
    "ipywidgets.interact(plot_collision_info, hist_length=ipywidgets.FloatSlider(value=15, min=0, max=df[\"ts\"].max()-df[\"ts\"].min(), continuous_update=False), max_time=ipywidgets.FloatSlider(value=df[\"ts\"].max(), min=df[\"ts\"].min(), max=df[\"ts\"].max()+.1, continuous_update=False))"
   ]
  },
  {
   "cell_type": "markdown",
   "id": "94ba2b3d",
   "metadata": {},
   "source": [
    "### Target Location"
   ]
  },
  {
   "cell_type": "code",
   "execution_count": 23,
   "id": "2640e1e5",
   "metadata": {},
   "outputs": [
    {
     "data": {
      "text/html": [
       "<div>\n",
       "<style scoped>\n",
       "    .dataframe tbody tr th:only-of-type {\n",
       "        vertical-align: middle;\n",
       "    }\n",
       "\n",
       "    .dataframe tbody tr th {\n",
       "        vertical-align: top;\n",
       "    }\n",
       "\n",
       "    .dataframe thead tr th {\n",
       "        text-align: left;\n",
       "    }\n",
       "\n",
       "    .dataframe thead tr:last-of-type th {\n",
       "        text-align: right;\n",
       "    }\n",
       "</style>\n",
       "<table border=\"1\" class=\"dataframe\">\n",
       "  <thead>\n",
       "    <tr>\n",
       "      <th></th>\n",
       "      <th></th>\n",
       "      <th colspan=\"3\" halign=\"left\">ts</th>\n",
       "      <th colspan=\"2\" halign=\"left\">o.t_dist</th>\n",
       "    </tr>\n",
       "    <tr>\n",
       "      <th></th>\n",
       "      <th></th>\n",
       "      <th>count</th>\n",
       "      <th>min</th>\n",
       "      <th>max</th>\n",
       "      <th>min</th>\n",
       "      <th>max</th>\n",
       "    </tr>\n",
       "    <tr>\n",
       "      <th>o.t_loc.x</th>\n",
       "      <th>o.t_loc.y</th>\n",
       "      <th></th>\n",
       "      <th></th>\n",
       "      <th></th>\n",
       "      <th></th>\n",
       "      <th></th>\n",
       "    </tr>\n",
       "  </thead>\n",
       "  <tbody>\n",
       "    <tr>\n",
       "      <th>-38031.239326</th>\n",
       "      <th>189136.994368</th>\n",
       "      <td>176</td>\n",
       "      <td>0.133333</td>\n",
       "      <td>30.502642</td>\n",
       "      <td>439.373871</td>\n",
       "      <td>9749.276491</td>\n",
       "    </tr>\n",
       "    <tr>\n",
       "      <th>203581.197159</th>\n",
       "      <th>-212781.188564</th>\n",
       "      <td>552</td>\n",
       "      <td>82.502642</td>\n",
       "      <td>174.335975</td>\n",
       "      <td>247160.264853</td>\n",
       "      <td>468567.737272</td>\n",
       "    </tr>\n",
       "  </tbody>\n",
       "</table>\n",
       "</div>"
      ],
      "text/plain": [
       "                                 ts                              o.t_dist  \\\n",
       "                              count        min         max            min   \n",
       "o.t_loc.x      o.t_loc.y                                                    \n",
       "-38031.239326   189136.994368   176   0.133333   30.502642     439.373871   \n",
       " 203581.197159 -212781.188564   552  82.502642  174.335975  247160.264853   \n",
       "\n",
       "                                              \n",
       "                                         max  \n",
       "o.t_loc.x      o.t_loc.y                      \n",
       "-38031.239326   189136.994368    9749.276491  \n",
       " 203581.197159 -212781.188564  468567.737272  "
      ]
     },
     "execution_count": 23,
     "metadata": {},
     "output_type": "execute_result"
    }
   ],
   "source": [
    "if np.any(~df[\"o.t_loc\"].isna()):\n",
    "    x = df.groupby([\"o.t_loc.x\", \"o.t_loc.y\"]).agg({\"ts\": [\"count\", \"min\", \"max\"], \"o.t_dist\": [\"min\",\"max\"]})\n",
    "else:\n",
    "    x = \"no location target\"\n",
    "x"
   ]
  },
  {
   "cell_type": "code",
   "execution_count": 24,
   "id": "74d23fb4",
   "metadata": {},
   "outputs": [
    {
     "data": {
      "application/vnd.jupyter.widget-view+json": {
       "model_id": "0cec7cec59ec4592820ccb36d482ba3d",
       "version_major": 2,
       "version_minor": 0
      },
      "text/plain": [
       "interactive(children=(FloatSlider(value=15.0, continuous_update=False, description='hist_length', max=174.2026…"
      ]
     },
     "metadata": {},
     "output_type": "display_data"
    },
    {
     "data": {
      "text/plain": [
       "<function __main__.plot_target_distance(hist_length, max_time)>"
      ]
     },
     "execution_count": 24,
     "metadata": {},
     "output_type": "execute_result"
    }
   ],
   "source": [
    "#sample = df[(df[\"ts\"] < 124.4) & (df[\"ts\"] > 120)]\n",
    "def plot_target_distance(hist_length, max_time):\n",
    "    sample = df[(df[\"ts\"] >= max_time - hist_length) & (df[\"ts\"] <= max_time)]\n",
    "    plt.scatter(sample[\"ts\"], sample[\"o.t_dist\"])\n",
    "    plt.scatter(sample[\"ts\"], sample[\"o.ad\"], color=\"green\", marker=\"_\")\n",
    "    plt.scatter(sample[\"ts\"], sample[\"o.md\"], color=\"red\", marker=\"_\")\n",
    "    #plt.ylim(0,1500)\n",
    "    plt.title(\"distance to target\")\n",
    "    print(f'when first arrived {sample[sample[\"o.t_dist\"] < sample[\"o.ad\"]][\"ts\"].min()}')\n",
    "\n",
    "ipywidgets.interact(\n",
    "    plot_target_distance,\n",
    "    hist_length=ipywidgets.FloatSlider(value=15, min=0, max=df[\"ts\"].max()-df[\"ts\"].min(), continuous_update=False),\n",
    "    max_time=ipywidgets.FloatSlider(value=df[\"ts\"].max(), min=df[\"ts\"].min(), max=df[\"ts\"].max()+.1, continuous_update=False))"
   ]
  },
  {
   "cell_type": "code",
   "execution_count": 25,
   "id": "f19d748b",
   "metadata": {},
   "outputs": [
    {
     "data": {
      "text/plain": [
       "29.669308333332943"
      ]
     },
     "execution_count": 25,
     "metadata": {},
     "output_type": "execute_result"
    }
   ],
   "source": [
    "df[df[\"o.t_dist\"] < df[\"o.ad\"]][\"ts\"].min()"
   ]
  },
  {
   "cell_type": "code",
   "execution_count": 26,
   "id": "4d0bf8d0",
   "metadata": {},
   "outputs": [
    {
     "data": {
      "application/vnd.jupyter.widget-view+json": {
       "model_id": "4ac5e06492d7491891fb85f6aebac136",
       "version_major": 2,
       "version_minor": 0
      },
      "text/plain": [
       "interactive(children=(FloatSlider(value=15.0, continuous_update=False, description='hist_length', max=174.2026…"
      ]
     },
     "metadata": {},
     "output_type": "display_data"
    },
    {
     "data": {
      "text/plain": [
       "<function __main__.plot_desired_speed(hist_length, max_time)>"
      ]
     },
     "execution_count": 26,
     "metadata": {},
     "output_type": "execute_result"
    }
   ],
   "source": [
    "def plot_desired_speed(hist_length, max_time):\n",
    "    sample = df[(df[\"ts\"] >= max_time - hist_length) & (df[\"ts\"] <= max_time)]\n",
    "    plt.scatter(sample[\"ts\"], sample[\"speed\"], label=\"actual speed\")\n",
    "    plt.scatter(sample[\"ts\"], sample[\"o.t_speed\"], label=\"desired speed\")\n",
    "    plt.legend()\n",
    "    plt.title(\"speed and desired speed to target\")\n",
    "    plt.ylim(0)\n",
    "\n",
    "ipywidgets.interact(\n",
    "    plot_desired_speed,\n",
    "    hist_length=ipywidgets.FloatSlider(value=15, min=0, max=df[\"ts\"].max()-df[\"ts\"].min(), continuous_update=False),\n",
    "    max_time=ipywidgets.FloatSlider(value=df[\"ts\"].max(), min=df[\"ts\"].min(), max=df[\"ts\"].max()+.1, continuous_update=False))"
   ]
  },
  {
   "cell_type": "code",
   "execution_count": 27,
   "id": "d7341dc2",
   "metadata": {
    "scrolled": true
   },
   "outputs": [
    {
     "data": {
      "text/plain": [
       "Text(0.5, 1.0, 'desired speed delta')"
      ]
     },
     "execution_count": 27,
     "metadata": {},
     "output_type": "execute_result"
    },
    {
     "data": {
      "image/png": "[encoded data removed]",
      "text/plain": [
       "<Figure size 432x288 with 1 Axes>"
      ]
     },
     "metadata": {
      "needs_background": "light"
     },
     "output_type": "display_data"
    }
   ],
   "source": [
    "plt.scatter(df[\"ts\"], df[\"o.t_speed\"] - df[\"speed\"])\n",
    "plt.scatter(df[\"ts\"], np.linalg.norm(np.array((df[\"o.t_v.x\"] - df[\"v.x\"], df[\"o.t_v.y\"] - df[\"v.y\"])), axis=0))\n",
    "plt.title(\"desired speed delta\")"
   ]
  },
  {
   "cell_type": "markdown",
   "id": "5ac378ec",
   "metadata": {},
   "source": [
    "## Collision Avoidance"
   ]
  },
  {
   "cell_type": "markdown",
   "id": "6936a767",
   "metadata": {},
   "source": [
    "### Collision Threats"
   ]
  },
  {
   "cell_type": "code",
   "execution_count": 28,
   "id": "f38ca4d8",
   "metadata": {},
   "outputs": [
    {
     "data": {
      "application/vnd.jupyter.widget-view+json": {
       "model_id": "10d8a30f2ab04c91b431ef7bfc28ce52",
       "version_major": 2,
       "version_minor": 0
      },
      "text/plain": [
       "interactive(children=(FloatSlider(value=15.0, continuous_update=False, description='hist_length', max=174.2026…"
      ]
     },
     "metadata": {},
     "output_type": "display_data"
    },
    {
     "data": {
      "text/plain": [
       "<function __main__.show_collision_threats(hist_length, max_time)>"
      ]
     },
     "execution_count": 28,
     "metadata": {},
     "output_type": "execute_result"
    }
   ],
   "source": [
    "def show_collision_threats(hist_length, max_time):\n",
    "    sample = df[(df[\"ts\"] >= max_time-hist_length) & (df[\"ts\"] <= max_time)]\n",
    "    if np.any(~sample[\"o.ct\"].isna()):\n",
    "        x = sample.groupby(\"o.ct\").agg({\"ts\": [\"count\", \"min\", \"max\"], \"o.ct_dist\": [\"min\",\"max\"]})\n",
    "    else:\n",
    "        x = \"no collision threats\"\n",
    "    return x\n",
    "ipywidgets.interact(\n",
    "    show_collision_threats,\n",
    "    hist_length=ipywidgets.FloatSlider(value=15, min=0, max=df[\"ts\"].max()-df[\"ts\"].min(), continuous_update=False),\n",
    "    max_time=ipywidgets.FloatSlider(value=df[\"ts\"].max(), min=df[\"ts\"].min(), max=df[\"ts\"].max()+.1, continuous_update=False)\n",
    ")"
   ]
  },
  {
   "cell_type": "code",
   "execution_count": 29,
   "id": "890424d5",
   "metadata": {},
   "outputs": [
    {
     "data": {
      "application/vnd.jupyter.widget-view+json": {
       "model_id": "3c88d8b998e64d56be934faf06f45f9b",
       "version_major": 2,
       "version_minor": 0
      },
      "text/plain": [
       "interactive(children=(FloatSlider(value=15.0, continuous_update=False, description='hist_length', max=174.2026…"
      ]
     },
     "metadata": {},
     "output_type": "display_data"
    },
    {
     "data": {
      "text/plain": [
       "<function __main__.plot_collision_distance(hist_length, max_time)>"
      ]
     },
     "execution_count": 29,
     "metadata": {},
     "output_type": "execute_result"
    }
   ],
   "source": [
    "def plot_collision_distance(hist_length, max_time):\n",
    "    sample = df[(df[\"ts\"] >= max_time-hist_length) & (df[\"ts\"] <= max_time)]\n",
    "    plt.scatter(sample[\"ts\"], sample[\"o.ct_dist\"])\n",
    "    plt.scatter(sample[\"ts\"], sample[\"o.ct_cradius\"]+sample[\"o.scm\"]*2, color=\"green\", marker=\"_\")\n",
    "    plt.scatter(sample[\"ts\"], sample[\"o.ct_cradius\"]+sample[\"o.scm\"], color=\"orange\", marker=\"_\")\n",
    "    plt.scatter(sample[\"ts\"], sample[\"o.ct_cradius\"], color=\"red\", marker=\"_\")\n",
    "    plt.hlines(60, sample[\"ts\"].min(), sample[\"ts\"].max(), color=\"red\")\n",
    "    plt.ylim(0)\n",
    "    plt.title(\"distance to collision threat\")\n",
    "    print(sample[\"o.ct_dist\"].min())\n",
    "\n",
    "ipywidgets.interact(\n",
    "    plot_collision_distance,\n",
    "    hist_length=ipywidgets.FloatSlider(value=15, min=0, max=df[\"ts\"].max()-df[\"ts\"].min(), continuous_update=False),\n",
    "    max_time=ipywidgets.FloatSlider(value=df[\"ts\"].max(), min=df[\"ts\"].min(), max=df[\"ts\"].max()+.1, continuous_update=False)\n",
    ")"
   ]
  },
  {
   "cell_type": "code",
   "execution_count": 30,
   "id": "12faf352",
   "metadata": {},
   "outputs": [
    {
     "data": {
      "text/plain": [
       "Text(0.5, 1.0, 'Collision Threat and Time Since Detection')"
      ]
     },
     "execution_count": 30,
     "metadata": {},
     "output_type": "execute_result"
    },
    {
     "data": {
      "image/png": "[encoded data removed]",
      "text/plain": [
       "<Figure size 432x288 with 2 Axes>"
      ]
     },
     "metadata": {
      "needs_background": "light"
     },
     "output_type": "display_data"
    }
   ],
   "source": [
    "fig, ax1 = plt.subplots()\n",
    "ax2 = ax1.twinx()\n",
    "\n",
    "ax1.scatter(df[\"ts\"], 1-df[\"o.ct\"].isna().astype(int))\n",
    "ax2.scatter(df[\"ts\"], df[\"ts\"] - df[\"o.ct_ts\"], color=\"orange\")\n",
    "plt.title(\"Collision Threat and Time Since Detection\")\n",
    "\n",
    "#ax2.set_ylim(0,(df[\"ts\"] - df[\"o.ct_ts\"]).max()*1.2)"
   ]
  },
  {
   "cell_type": "code",
   "execution_count": 31,
   "id": "9c947c36",
   "metadata": {},
   "outputs": [
    {
     "data": {
      "application/vnd.jupyter.widget-view+json": {
       "model_id": "676e3f1db8774550b36c753e406adcd0",
       "version_major": 2,
       "version_minor": 0
      },
      "text/plain": [
       "interactive(children=(FloatSlider(value=15.0, continuous_update=False, description='hist_length', max=174.2026…"
      ]
     },
     "metadata": {},
     "output_type": "display_data"
    },
    {
     "data": {
      "text/plain": [
       "<function __main__.plot_num_coalesced_threats(hist_length, max_time)>"
      ]
     },
     "execution_count": 31,
     "metadata": {},
     "output_type": "execute_result"
    }
   ],
   "source": [
    "def plot_num_coalesced_threats(hist_length, max_time):\n",
    "    sample = df[(df[\"ts\"] >= max_time-hist_length) & (df[\"ts\"] <= max_time)]\n",
    "    plt.scatter(sample[\"ts\"], sample[\"o.ct_ct\"])\n",
    "    plt.title(\"number of coalesced threats\")\n",
    "    plt.show()\n",
    "\n",
    "ipywidgets.interact(\n",
    "    plot_num_coalesced_threats,\n",
    "    hist_length=ipywidgets.FloatSlider(value=15, min=0, max=df[\"ts\"].max()-df[\"ts\"].min(), continuous_update=False),\n",
    "    max_time=ipywidgets.FloatSlider(value=df[\"ts\"].max(), min=df[\"ts\"].min(), max=df[\"ts\"].max()+.1, continuous_update=False)\n",
    ")  "
   ]
  },
  {
   "cell_type": "code",
   "execution_count": 32,
   "id": "91227c9a",
   "metadata": {},
   "outputs": [
    {
     "data": {
      "application/vnd.jupyter.widget-view+json": {
       "model_id": "87660ba03a0c4162b8fb37b0440df075",
       "version_major": 2,
       "version_minor": 0
      },
      "text/plain": [
       "interactive(children=(FloatSlider(value=15.0, continuous_update=False, description='hist_length', max=174.2026…"
      ]
     },
     "metadata": {},
     "output_type": "display_data"
    },
    {
     "data": {
      "text/plain": [
       "<function __main__.plot_collision_threat_radius(hist_length, max_time)>"
      ]
     },
     "execution_count": 32,
     "metadata": {},
     "output_type": "execute_result"
    }
   ],
   "source": [
    "def plot_collision_threat_radius(hist_length, max_time):\n",
    "    sample = df[(df[\"ts\"] >= max_time - hist_length) & (df[\"ts\"] <= max_time)]\n",
    "    plt.scatter(sample[\"ts\"], sample[\"o.ct_cradius\"], label=\"threat radius\")\n",
    "    plt.scatter(sample[\"ts\"], sample[\"o.scm\"], label=\"desired margin\")\n",
    "    plt.title(\"collision threat radius\")\n",
    "    plt.legend()\n",
    "    plt.show()\n",
    "\n",
    "ipywidgets.interact(\n",
    "    plot_collision_threat_radius,\n",
    "    hist_length=ipywidgets.FloatSlider(value=15, min=0, max=df[\"ts\"].max()-df[\"ts\"].min(), continuous_update=False),\n",
    "    max_time=ipywidgets.FloatSlider(value=df[\"ts\"].max(), min=df[\"ts\"].min(), max=df[\"ts\"].max()+.1, continuous_update=False))"
   ]
  },
  {
   "cell_type": "code",
   "execution_count": 33,
   "id": "10290387",
   "metadata": {},
   "outputs": [
    {
     "data": {
      "application/vnd.jupyter.widget-view+json": {
       "model_id": "070267cf6d7140579425daa93632d22d",
       "version_major": 2,
       "version_minor": 0
      },
      "text/plain": [
       "interactive(children=(FloatSlider(value=15.0, continuous_update=False, description='hist_length', max=174.2026…"
      ]
     },
     "metadata": {},
     "output_type": "display_data"
    },
    {
     "data": {
      "text/plain": [
       "<function __main__.plot_collision_threat_loc(hist_length, max_time)>"
      ]
     },
     "execution_count": 33,
     "metadata": {},
     "output_type": "execute_result"
    }
   ],
   "source": [
    "def plot_collision_threat_loc(hist_length, max_time):\n",
    "    sample = df[(df[\"ts\"] >= max_time - hist_length) & (df[\"ts\"] <= max_time)]\n",
    "    fig, ax1 = plt.subplots()\n",
    "    ax2 = ax1.twinx()\n",
    "    ax1.scatter(sample[\"ts\"], sample[\"o.ct_cloc.x\"])\n",
    "    ax2.scatter(sample[\"ts\"], sample[\"o.ct_cloc.y\"], color=\"orange\")\n",
    "    plt.title(\"collision threat coalesced location\")\n",
    "    plt.show()\n",
    "\n",
    "ipywidgets.interact(\n",
    "    plot_collision_threat_loc,\n",
    "    hist_length=ipywidgets.FloatSlider(value=15, min=0, max=df[\"ts\"].max()-df[\"ts\"].min(), continuous_update=False),\n",
    "    max_time=ipywidgets.FloatSlider(value=df[\"ts\"].max(), min=df[\"ts\"].min(), max=df[\"ts\"].max()+.1, continuous_update=False))"
   ]
  },
  {
   "cell_type": "code",
   "execution_count": 34,
   "id": "5e817d73",
   "metadata": {},
   "outputs": [
    {
     "data": {
      "application/vnd.jupyter.widget-view+json": {
       "model_id": "f571c93d74714901a06084524b8b6298",
       "version_major": 2,
       "version_minor": 0
      },
      "text/plain": [
       "interactive(children=(FloatSlider(value=15.0, continuous_update=False, description='hist_length', max=174.2026…"
      ]
     },
     "metadata": {},
     "output_type": "display_data"
    },
    {
     "data": {
      "text/plain": [
       "<function __main__.plot_collision_dv(hist_length, max_time)>"
      ]
     },
     "execution_count": 34,
     "metadata": {},
     "output_type": "execute_result"
    }
   ],
   "source": [
    "def plot_collision_dv(hist_length, max_time):\n",
    "    sample = df[(df[\"ts\"] >= max_time - hist_length) & (df[\"ts\"] <= max_time)]\n",
    "    plt.scatter(sample[\"ts\"], sample[\"o.ct_dv.x\"])\n",
    "    plt.scatter(sample[\"ts\"], sample[\"o.ct_dv.y\"])\n",
    "    plt.title(\"collision avoidance velocity\")\n",
    "\n",
    "ipywidgets.interact(\n",
    "    plot_collision_dv,\n",
    "    hist_length=ipywidgets.FloatSlider(value=15, min=0, max=df[\"ts\"].max()-df[\"ts\"].min(), continuous_update=False),\n",
    "    max_time=ipywidgets.FloatSlider(value=df[\"ts\"].max(), min=df[\"ts\"].min(), max=df[\"ts\"].max()+.1, continuous_update=False))"
   ]
  },
  {
   "cell_type": "markdown",
   "id": "785ce89f",
   "metadata": {},
   "source": [
    "## Nearest Neighbors"
   ]
  },
  {
   "cell_type": "code",
   "execution_count": 35,
   "id": "03a6b3aa",
   "metadata": {},
   "outputs": [
    {
     "data": {
      "application/vnd.jupyter.widget-view+json": {
       "model_id": "a2a9b869428e4ed4aac3831a30263b10",
       "version_major": 2,
       "version_minor": 0
      },
      "text/plain": [
       "interactive(children=(FloatSlider(value=15.0, continuous_update=False, description='hist_length', max=174.2026…"
      ]
     },
     "metadata": {},
     "output_type": "display_data"
    },
    {
     "data": {
      "text/plain": [
       "<function __main__.plot_neighborhood_size(hist_length, max_time)>"
      ]
     },
     "execution_count": 35,
     "metadata": {},
     "output_type": "execute_result"
    }
   ],
   "source": [
    "neighborhood_radius = 5e4\n",
    "def plot_neighborhood_size(hist_length, max_time):\n",
    "    sample = df[(df[\"ts\"] >= max_time - hist_length) & (df[\"ts\"] <= max_time)]\n",
    "    plt.scatter(sample[\"ts\"], sample[\"o.nd\"]*np.pi*neighborhood_radius**2)\n",
    "    plt.title(\"neighborhood size (10km^2)\")\n",
    "    plt.show()\n",
    "\n",
    "ipywidgets.interact(\n",
    "    plot_neighborhood_size,\n",
    "    hist_length=ipywidgets.FloatSlider(value=15, min=0, max=df[\"ts\"].max()-df[\"ts\"].min(), continuous_update=False),\n",
    "    max_time=ipywidgets.FloatSlider(value=df[\"ts\"].max(), min=df[\"ts\"].min(), max=df[\"ts\"].max()+.1, continuous_update=False))"
   ]
  },
  {
   "cell_type": "code",
   "execution_count": 36,
   "id": "139c049e",
   "metadata": {},
   "outputs": [
    {
     "data": {
      "application/vnd.jupyter.widget-view+json": {
       "model_id": "dea032971ac34734bb025c0713fe953f",
       "version_major": 2,
       "version_minor": 0
      },
      "text/plain": [
       "interactive(children=(FloatSlider(value=15.0, continuous_update=False, description='hist_length', max=174.2026…"
      ]
     },
     "metadata": {},
     "output_type": "display_data"
    },
    {
     "data": {
      "text/plain": [
       "<function __main__.plot_nearest_neighbor(hist_length, max_time)>"
      ]
     },
     "execution_count": 36,
     "metadata": {},
     "output_type": "execute_result"
    }
   ],
   "source": [
    "def plot_nearest_neighbor(hist_length, max_time):\n",
    "    sample = df[(df[\"ts\"] >= max_time - hist_length) & (df[\"ts\"] <= max_time)]\n",
    "    plt.scatter(sample[\"ts\"], sample[\"o.nnd\"])\n",
    "    plt.title(\"nearest neighor dist\")\n",
    "    plt.show()\n",
    "\n",
    "ipywidgets.interact(\n",
    "    plot_nearest_neighbor,\n",
    "    hist_length=ipywidgets.FloatSlider(value=15, min=0, max=df[\"ts\"].max()-df[\"ts\"].min(), continuous_update=False),\n",
    "    max_time=ipywidgets.FloatSlider(value=df[\"ts\"].max(), min=df[\"ts\"].min(), max=df[\"ts\"].max()+.1, continuous_update=False))"
   ]
  },
  {
   "cell_type": "markdown",
   "id": "68c9f42d",
   "metadata": {},
   "source": [
    "## CBDR Detection"
   ]
  },
  {
   "cell_type": "code",
   "execution_count": 37,
   "id": "4e9cba0f",
   "metadata": {},
   "outputs": [
    {
     "data": {
      "text/plain": [
       "0                                                     NaN\n",
       "1                                                     NaN\n",
       "2                                                     NaN\n",
       "3                                                     NaN\n",
       "4                                                     NaN\n",
       "                              ...                        \n",
       "1034    [[4239.819834054113, -5504.826892697946], [144...\n",
       "1035    [[4239.819834054113, -5504.826892697946], [121...\n",
       "1036    [[4239.819834054113, -5504.826892697946], [874...\n",
       "1037    [[4239.819834054113, -5504.826892697946], [644...\n",
       "1038    [[4239.819834054113, -5504.826892697946], [300...\n",
       "Name: o.cbdr_hist, Length: 1039, dtype: object"
      ]
     },
     "execution_count": 37,
     "metadata": {},
     "output_type": "execute_result"
    }
   ],
   "source": [
    "df[\"o.cbdr_hist\"]"
   ]
  },
  {
   "cell_type": "code",
   "execution_count": 38,
   "id": "d902859a",
   "metadata": {},
   "outputs": [
    {
     "data": {
      "text/plain": [
       "<matplotlib.legend.Legend at 0x7ff8bf583b80>"
      ]
     },
     "execution_count": 38,
     "metadata": {},
     "output_type": "execute_result"
    },
    {
     "data": {
      "image/png": "[encoded data removed]",
      "text/plain": [
       "<Figure size 432x288 with 2 Axes>"
      ]
     },
     "metadata": {
      "needs_background": "light"
     },
     "output_type": "display_data"
    }
   ],
   "source": [
    "fig, ax1 = plt.subplots()\n",
    "ax2 = ax1.twinx()\n",
    "\n",
    "bearing = df[\"o.cbdr_hist\"].apply(lambda x: np.nan if isinstance(x, float) or len(x) < 2 else abs(util.cartesian_to_polar(x[0][0], x[0][1])[1] - util.cartesian_to_polar(x[-1][0], x[-1][1])[1]))\n",
    "threat_range = df[\"o.cbdr_hist\"].apply(lambda x: np.nan if isinstance(x, float) or len(x) < 2 else util.cartesian_to_polar(x[0][0], x[0][1])[0] - util.cartesian_to_polar(x[-1][0], x[-1][1])[0])\n",
    "ax1.scatter(df[\"ts\"], bearing, label=\"delta bearing\")\n",
    "ax1.hlines(2e-3, df[\"ts\"].min(), df[\"ts\"].max(), color=\"green\", label=\"max delta bearing\")\n",
    "ax2.scatter(df[\"ts\"], threat_range, color=\"orange\", label=\"delta range\")\n",
    "ax2.hlines(5, df[\"ts\"].min(), df[\"ts\"].max(), color=\"red\", label=\"min delta range\")\n",
    "fig.legend()"
   ]
  },
  {
   "cell_type": "code",
   "execution_count": 39,
   "id": "b067a473",
   "metadata": {},
   "outputs": [],
   "source": [
    "# \n",
    "# Smallest enclosing circle - Library (Python)\n",
    "# \n",
    "# Copyright (c) 2020 Project Nayuki\n",
    "# https://www.nayuki.io/page/smallest-enclosing-circle\n",
    "# \n",
    "# This program is free software: you can redistribute it and/or modify\n",
    "# it under the terms of the GNU Lesser General Public License as published by\n",
    "# the Free Software Foundation, either version 3 of the License, or\n",
    "# (at your option) any later version.\n",
    "# \n",
    "# This program is distributed in the hope that it will be useful,\n",
    "# but WITHOUT ANY WARRANTY; without even the implied warranty of\n",
    "# MERCHANTABILITY or FITNESS FOR A PARTICULAR PURPOSE.  See the\n",
    "# GNU Lesser General Public License for more details.\n",
    "# \n",
    "# You should have received a copy of the GNU Lesser General Public License\n",
    "# along with this program (see COPYING.txt and COPYING.LESSER.txt).\n",
    "# If not, see <http://www.gnu.org/licenses/>.\n",
    "# \n",
    "\n",
    "import math, random\n",
    "\n",
    "\n",
    "# Data conventions: A point is a pair of floats (x, y). A circle is a triple of floats (center x, center y, radius).\n",
    "\n",
    "# Returns the smallest circle that encloses all the given points. Runs in expected O(n) time, randomized.\n",
    "# Input: A sequence of pairs of floats or ints, e.g. [(0,5), (3.1,-2.7)].\n",
    "# Output: A triple of floats representing a circle.\n",
    "# Note: If 0 points are given, None is returned. If 1 point is given, a circle of radius 0 is returned.\n",
    "# \n",
    "# Initially: No boundary points known\n",
    "def make_circle(points):\n",
    "\t# Convert to float and randomize order\n",
    "\tshuffled = [(float(x), float(y)) for (x, y) in points]\n",
    "\trandom.shuffle(shuffled)\n",
    "\t\n",
    "\t# Progressively add points to circle or recompute circle\n",
    "\tc = None\n",
    "\tfor (i, p) in enumerate(shuffled):\n",
    "\t\tif c is None or not is_in_circle(c, p):\n",
    "\t\t\tc = _make_circle_one_point(shuffled[ : i + 1], p)\n",
    "\treturn c\n",
    "\n",
    "\n",
    "# One boundary point known\n",
    "def _make_circle_one_point(points, p):\n",
    "\tc = (p[0], p[1], 0.0)\n",
    "\tfor (i, q) in enumerate(points):\n",
    "\t\tif not is_in_circle(c, q):\n",
    "\t\t\tif c[2] == 0.0:\n",
    "\t\t\t\tc = make_diameter(p, q)\n",
    "\t\t\telse:\n",
    "\t\t\t\tc = _make_circle_two_points(points[ : i + 1], p, q)\n",
    "\treturn c\n",
    "\n",
    "\n",
    "# Two boundary points known\n",
    "def _make_circle_two_points(points, p, q):\n",
    "\tcirc = make_diameter(p, q)\n",
    "\tleft  = None\n",
    "\tright = None\n",
    "\tpx, py = p\n",
    "\tqx, qy = q\n",
    "\t\n",
    "\t# For each point not in the two-point circle\n",
    "\tfor r in points:\n",
    "\t\tif is_in_circle(circ, r):\n",
    "\t\t\tcontinue\n",
    "\t\t\n",
    "\t\t# Form a circumcircle and classify it on left or right side\n",
    "\t\tcross = _cross_product(px, py, qx, qy, r[0], r[1])\n",
    "\t\tc = make_circumcircle(p, q, r)\n",
    "\t\tif c is None:\n",
    "\t\t\tcontinue\n",
    "\t\telif cross > 0.0 and (left is None or _cross_product(px, py, qx, qy, c[0], c[1]) > _cross_product(px, py, qx, qy, left[0], left[1])):\n",
    "\t\t\tleft = c\n",
    "\t\telif cross < 0.0 and (right is None or _cross_product(px, py, qx, qy, c[0], c[1]) < _cross_product(px, py, qx, qy, right[0], right[1])):\n",
    "\t\t\tright = c\n",
    "\t\n",
    "\t# Select which circle to return\n",
    "\tif left is None and right is None:\n",
    "\t\treturn circ\n",
    "\telif left is None:\n",
    "\t\treturn right\n",
    "\telif right is None:\n",
    "\t\treturn left\n",
    "\telse:\n",
    "\t\treturn left if (left[2] <= right[2]) else right\n",
    "\n",
    "\n",
    "def make_diameter(a, b):\n",
    "\tcx = (a[0] + b[0]) / 2\n",
    "\tcy = (a[1] + b[1]) / 2\n",
    "\tr0 = math.hypot(cx - a[0], cy - a[1])\n",
    "\tr1 = math.hypot(cx - b[0], cy - b[1])\n",
    "\treturn (cx, cy, max(r0, r1))\n",
    "\n",
    "\n",
    "def make_circumcircle(a, b, c):\n",
    "\t# Mathematical algorithm from Wikipedia: Circumscribed circle\n",
    "\tox = (min(a[0], b[0], c[0]) + max(a[0], b[0], c[0])) / 2\n",
    "\toy = (min(a[1], b[1], c[1]) + max(a[1], b[1], c[1])) / 2\n",
    "\tax = a[0] - ox;  ay = a[1] - oy\n",
    "\tbx = b[0] - ox;  by = b[1] - oy\n",
    "\tcx = c[0] - ox;  cy = c[1] - oy\n",
    "\td = (ax * (by - cy) + bx * (cy - ay) + cx * (ay - by)) * 2.0\n",
    "\tif d == 0.0:\n",
    "\t\treturn None\n",
    "\tx = ox + ((ax*ax + ay*ay) * (by - cy) + (bx*bx + by*by) * (cy - ay) + (cx*cx + cy*cy) * (ay - by)) / d\n",
    "\ty = oy + ((ax*ax + ay*ay) * (cx - bx) + (bx*bx + by*by) * (ax - cx) + (cx*cx + cy*cy) * (bx - ax)) / d\n",
    "\tra = math.hypot(x - a[0], y - a[1])\n",
    "\trb = math.hypot(x - b[0], y - b[1])\n",
    "\trc = math.hypot(x - c[0], y - c[1])\n",
    "\treturn (x, y, max(ra, rb, rc))\n",
    "\n",
    "\n",
    "_MULTIPLICATIVE_EPSILON = 1 + 1e-14\n",
    "\n",
    "def is_in_circle(c, p):\n",
    "\treturn c is not None and math.hypot(p[0] - c[0], p[1] - c[1]) <= c[2] * _MULTIPLICATIVE_EPSILON\n",
    "\n",
    "\n",
    "# Returns twice the signed area of the triangle defined by (x0, y0), (x1, y1), (x2, y2).\n",
    "def _cross_product(x0, y0, x1, y1, x2, y2):\n",
    "\treturn (x1 - x0) * (y2 - y0) - (y1 - y0) * (x2 - x0)"
   ]
  },
  {
   "cell_type": "code",
   "execution_count": 40,
   "id": "cf28819a",
   "metadata": {},
   "outputs": [
    {
     "data": {
      "application/vnd.jupyter.widget-view+json": {
       "model_id": "223f4fa0b80d4a69a58d20365d9a608a",
       "version_major": 2,
       "version_minor": 0
      },
      "text/plain": [
       "interactive(children=(FloatSlider(value=15.0, continuous_update=False, description='hist_length', max=174.2026…"
      ]
     },
     "metadata": {},
     "output_type": "display_data"
    },
    {
     "data": {
      "text/plain": [
       "<function __main__.plot_radius_comparison(hist_length, max_time)>"
      ]
     },
     "execution_count": 40,
     "metadata": {},
     "output_type": "execute_result"
    }
   ],
   "source": [
    "def plot_radius_comparison(hist_length, max_time):\n",
    "    sample = df[(df[\"ts\"] >= max_time - hist_length) & (df[\"ts\"] <= max_time)]\n",
    "    foo = sample[\"o.ct_cn\"].apply(lambda x: np.nan if isinstance(x, float) else make_circle(x)[2]+30)\n",
    "    plt.scatter(sample[\"ts\"], sample[\"o.ct_cradius\"], label=\"threat radius\")\n",
    "    plt.scatter(sample[\"ts\"], foo, label=\"min radius\", marker=\"x\")\n",
    "    plt.legend()\n",
    "    plt.title(\"cradius vs smallest enclosing radius\")\n",
    "    plt.show()\n",
    "\n",
    "ipywidgets.interact(\n",
    "    plot_radius_comparison,\n",
    "    hist_length=ipywidgets.FloatSlider(value=15, min=0, max=df[\"ts\"].max()-df[\"ts\"].min(), continuous_update=False),\n",
    "    max_time=ipywidgets.FloatSlider(value=df[\"ts\"].max(), min=df[\"ts\"].min(), max=df[\"ts\"].max()+.1, continuous_update=False))"
   ]
  },
  {
   "cell_type": "markdown",
   "id": "12a7d799",
   "metadata": {},
   "source": [
    "# History Visualization"
   ]
  },
  {
   "cell_type": "markdown",
   "id": "e7b61368",
   "metadata": {},
   "source": [
    "## Position and Velocity"
   ]
  },
  {
   "cell_type": "code",
   "execution_count": 41,
   "id": "05fc6ec3",
   "metadata": {
    "scrolled": false
   },
   "outputs": [
    {
     "data": {
      "application/vnd.jupyter.widget-view+json": {
       "model_id": "5e36d0ab8a1643c08e2a86217b84a276",
       "version_major": 2,
       "version_minor": 0
      },
      "text/plain": [
       "interactive(children=(FloatSlider(value=15.0, continuous_update=False, description='hist_length', max=174.2026…"
      ]
     },
     "metadata": {},
     "output_type": "display_data"
    },
    {
     "data": {
      "text/plain": [
       "<function __main__.plot_collision_chart(hist_length=174.3359750000309, max_time=174.3359750000309, sampling_interval=50, show_tloc=True, show_tv=True, show_ctdv=True, show_v=True)>"
      ]
     },
     "execution_count": 41,
     "metadata": {},
     "output_type": "execute_result"
    }
   ],
   "source": [
    "def plot_collision_chart(hist_length=df[\"ts\"].max(), max_time=df[\"ts\"].max(), sampling_interval=50, show_tloc=True, show_tv=True, show_ctdv=True, show_v=True):\n",
    "    plt.figure(figsize=(10, 10))\n",
    "    sample = df[(df[\"ts\"] >= max_time - hist_length) & (df[\"ts\"] <= max_time)].iloc[::sampling_interval]\n",
    "    if show_v:\n",
    "        plt.quiver(sample[\"loc.x\"], sample[\"loc.y\"], sample[\"v.x\"], sample[\"v.y\"], label=\"v\")\n",
    "    ctdv_df = sample[~(sample[\"o.ct_dv\"].isna())]\n",
    "    if show_ctdv:\n",
    "        plt.quiver(ctdv_df[\"loc.x\"], ctdv_df[\"loc.y\"], ctdv_df[\"o.ct_dv.x\"]+ctdv_df[\"v.x\"], ctdv_df[\"o.ct_dv.y\"]+ctdv_df[\"v.y\"], label=\"ctdv\", color=\"orange\")\n",
    "    if show_tv:\n",
    "        plt.quiver(sample[\"loc.x\"], sample[\"loc.y\"], sample[\"o.t_v.x\"], sample[\"o.t_v.y\"], label=\"tv\", color=\"purple\")\n",
    "    \n",
    "    plt.quiver(sample[\"o.ct_loc.x\"], sample[\"o.ct_loc.y\"], sample[\"o.ct_v.x\"], sample[\"o.ct_v.y\"], label=\"ctv\", color=\"cyan\")\n",
    "    cmap = plt.get_cmap('viridis')\n",
    "    for x, c in zip(df[\"o.ct\"].unique(), cmap(np.linspace(0, 1, len(df[\"o.ct\"].unique())))):\n",
    "        if not isinstance(x, str):\n",
    "            continue\n",
    "        ct = sample[sample[\"o.ct\"] == x]\n",
    "        if len(ct) == 0:\n",
    "            continue\n",
    "        plt.scatter(ct[\"o.ct_loc.x\"], ct[\"o.ct_loc.y\"], color=c, label=x[:8])\n",
    "        \n",
    "        t_next = 10\n",
    "        x, y = ct.iloc[-1][\"o.ct_loc.x\"], ct.iloc[-1][\"o.ct_loc.y\"]\n",
    "        x_next, y_next = ct.iloc[-1][\"o.ct_loc.x\"]+ct.iloc[-1][\"o.ct_v.x\"]*t_next, ct.iloc[-1][\"o.ct_loc.y\"]+ct.iloc[-1][\"o.ct_v.y\"]*t_next\n",
    "        if not np.allclose((x, y), (x_next, y_next)):\n",
    "            plt.axline((x,y),(x_next,y_next), marker = 'x', color=c, dashes=[2,2])\n",
    "    \n",
    "    cloc_df = sample[~(sample[\"o.ct_cloc\"].isna())]\n",
    "    if len(cloc_df) > 0:\n",
    "        cloc_x = cloc_df.iloc[-1][\"o.ct_cloc.x\"]\n",
    "        cloc_y = cloc_df.iloc[-1][\"o.ct_cloc.y\"]\n",
    "        cradius = cloc_df.iloc[-1][\"o.ct_cradius\"]\n",
    "        cmargin = cloc_df.iloc[-1].get([\"o.scm\"],500)\n",
    "        threat_radius = plt.Circle((cloc_x, cloc_y), cradius, color=\"red\", fill=False)\n",
    "        margin = plt.Circle((cloc_x, cloc_y), cradius+cmargin, color=\"orange\", fill=False)\n",
    "        margin_hist = plt.Circle((cloc_x, cloc_y), cradius+cmargin*2, color=\"green\", fill=False)\n",
    "        plt.gca().add_patch(threat_radius)\n",
    "        plt.gca().add_patch(margin)\n",
    "        plt.gca().add_patch(margin_hist)\n",
    "        print(cradius)\n",
    "        \n",
    "        cn_x, cn_y = list(zip(*cloc_df.iloc[-1][\"o.ct_cn\"]))\n",
    "        plt.scatter(cn_x, cn_y, label=\"ct_cnloc\", marker=\"+\", color=\"pink\")\n",
    "    \n",
    "    if show_tloc:\n",
    "        plt.scatter(sample[\"o.t_loc.x\"], sample[\"o.t_loc.y\"], label=\"t_loc\", marker=\"x\")\n",
    "        for ((tloc_x, tloc_y), ad, md) in sample.groupby([\"o.t_loc.x\", \"o.t_loc.y\"]).agg({\"o.t_loc\": \"min\", \"o.ad\":\"min\", \"o.md\":\"min\"}).values:\n",
    "            arrival_dist = plt.Circle((tloc_x, tloc_y), ad, color=\"green\", fill=False)\n",
    "            min_dist = plt.Circle((tloc_x, tloc_y), md, color=\"red\", fill=False)\n",
    "            plt.gca().add_patch(arrival_dist)\n",
    "            plt.gca().add_patch(min_dist)\n",
    "            \n",
    "    t_next = 10\n",
    "    x, y = sample.iloc[-1][\"loc.x\"], sample.iloc[-1][\"loc.y\"]\n",
    "    x_next, y_next = sample.iloc[-1][\"loc.x\"]+sample.iloc[-1][\"v.x\"]*t_next, sample.iloc[-1][\"loc.y\"]+sample.iloc[-1][\"v.y\"]*t_next\n",
    "    if not np.allclose((x, y), (x_next, y_next)):\n",
    "        plt.axline((x,y),(x_next,y_next),marker = 'o')\n",
    "    \n",
    "    plt.axis('equal')\n",
    "    #center = (54140, -58169)\n",
    "    #radius = 30000\n",
    "    #plt.xlim(center[0]-radius,center[0]+radius)\n",
    "    #plt.ylim(center[1]-radius,center[1]+radius)\n",
    "\n",
    "    plt.legend()\n",
    "    plt.show()\n",
    "    \n",
    "ipywidgets.interact(\n",
    "    plot_collision_chart,\n",
    "    hist_length=ipywidgets.FloatSlider(value=15, min=0, max=df[\"ts\"].max()-df[\"ts\"].min(), continuous_update=False),\n",
    "    max_time=ipywidgets.FloatSlider(step=1/60, value=df[\"ts\"].max()+1/60, min=df[\"ts\"].min(), max=df[\"ts\"].max()+1/60, continuous_update=False),\n",
    "    sampling_interval=ipywidgets.IntSlider(value=2, min=1, max=100, continuous_update=False),\n",
    "    show_tloc=ipywidgets.Checkbox(value=True),\n",
    "    show_tv=ipywidgets.Checkbox(value=True),\n",
    "    show_ctdv=ipywidgets.Checkbox(value=True),\n",
    "    show_v=ipywidgets.Checkbox(value=True),\n",
    ")"
   ]
  },
  {
   "cell_type": "markdown",
   "id": "6e5e3aad",
   "metadata": {},
   "source": [
    "## Position and Heading"
   ]
  },
  {
   "cell_type": "code",
   "execution_count": 42,
   "id": "2f7475c2",
   "metadata": {
    "scrolled": false
   },
   "outputs": [
    {
     "data": {
      "application/vnd.jupyter.widget-view+json": {
       "model_id": "499bd9a27b3b4e16ab4195ca4f6efd7c",
       "version_major": 2,
       "version_minor": 0
      },
      "text/plain": [
       "interactive(children=(FloatSlider(value=15.0, continuous_update=False, description='hist_length', max=174.2026…"
      ]
     },
     "metadata": {},
     "output_type": "display_data"
    },
    {
     "data": {
      "text/plain": [
       "<function __main__.plot_collision_chart(hist_length=174.3359750000309, max_time=174.3359750000309)>"
      ]
     },
     "execution_count": 42,
     "metadata": {},
     "output_type": "execute_result"
    }
   ],
   "source": [
    "def plot_collision_chart(hist_length=df[\"ts\"].max(), max_time=df[\"ts\"].max()):\n",
    "    sample = df[(df[\"ts\"] >= max_time - hist_length) & (df[\"ts\"] <= max_time)]#.iloc[::30]\n",
    "    plt.quiver(sample[\"loc.x\"], sample[\"loc.y\"], sample[\"angle.x\"], sample[\"angle.y\"], label=\"ship\")\n",
    "    ctdv_df = sample[~(sample[\"o.ct_dv\"].isna())]\n",
    "    #plt.quiver(ctdv_df[\"loc.x\"], ctdv_df[\"loc.y\"], ctdv_df[\"o.ct_dv.x\"], ctdv_df[\"o.ct_dv.y\"], label=\"ctdv\", color=\"orange\")\n",
    "    #plt.quiver(sample[\"loc.x\"], sample[\"loc.y\"], sample[\"o.t_v.x\"], sample[\"o.t_v.y\"], label=\"tv\", color=\"purple\")\n",
    "    cmap = plt.get_cmap('viridis')\n",
    "    #for x, c in zip(df[\"o.ct\"].unique(), cmap(np.linspace(0, 1, len(sample[\"o.ct\"].unique())))):\n",
    "    #    print(x)\n",
    "    #    if not isinstance(x, str):\n",
    "    #        continue\n",
    "    #    ct = sample[sample[\"o.ct\"] == x]\n",
    "    #    plt.scatter(ct[\"o.ct_loc.x\"], ct[\"o.ct_loc.y\"], color=c, label=x[:8])\n",
    "    #plt.scatter(sample[\"o.t_loc.x\"], sample[\"o.t_loc.y\"], label=\"t_loc\")\n",
    "    #plt.axis('square')\n",
    "    #center = (-33555, -5000)\n",
    "    #radius = 15000\n",
    "    #plt.xlim(center[0]-radius,center[0]+radius)\n",
    "    #plt.ylim(center[1]-radius,center[1]+radius)\n",
    "    \n",
    "    plt.legend()\n",
    "    plt.axis('equal')\n",
    "    plt.show()\n",
    "    \n",
    "ipywidgets.interact(plot_collision_chart, hist_length=ipywidgets.FloatSlider(value=15, min=0, max=df[\"ts\"].max()-df[\"ts\"].min(), continuous_update=False), max_time=ipywidgets.FloatSlider(value=df[\"ts\"].max(), min=df[\"ts\"].min(), max=df[\"ts\"].max(), continuous_update=False))"
   ]
  },
  {
   "cell_type": "code",
   "execution_count": 43,
   "id": "03aadc31",
   "metadata": {},
   "outputs": [
    {
     "name": "stdout",
     "output_type": "stream",
     "text": [
      "[list([-38031.23932625042, 189136.9943684641]) 500.0]\n",
      "[list([203581.1971592323, -212781.18856426352]) 500.0]\n"
     ]
    }
   ],
   "source": [
    "for s in df.groupby([\"o.t_loc.x\", \"o.t_loc.y\"]).agg({\"o.t_loc\":\"min\", \"o.ad\":\"min\"}).values:\n",
    "    print(f'{s}')"
   ]
  },
  {
   "cell_type": "markdown",
   "id": "6e24f370",
   "metadata": {},
   "source": [
    "# "
   ]
  }
 ],
 "metadata": {
  "kernelspec": {
   "display_name": "Python 3 (ipykernel)",
   "language": "python",
   "name": "python3"
  },
  "language_info": {
   "codemirror_mode": {
    "name": "ipython",
    "version": 3
   },
   "file_extension": ".py",
   "mimetype": "text/x-python",
   "name": "python",
   "nbconvert_exporter": "python",
   "pygments_lexer": "ipython3",
   "version": "3.10.6"
  }
 },
 "nbformat": 4,
 "nbformat_minor": 5
}
