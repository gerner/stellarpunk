{
 "cells": [
  {
   "cell_type": "code",
   "execution_count": 1,
   "id": "9c5bbe2a",
   "metadata": {},
   "outputs": [],
   "source": [
    "import json\n",
    "\n",
    "import pandas as pd\n",
    "import numpy as np\n",
    "from matplotlib import pyplot as plt\n",
    "import ipywidgets\n",
    "\n",
    "from stellarpunk import util"
   ]
  },
  {
   "cell_type": "markdown",
   "id": "d6d53462",
   "metadata": {},
   "source": [
    "# Loading and Preparing Data"
   ]
  },
  {
   "cell_type": "code",
   "execution_count": 2,
   "id": "ceb18552",
   "metadata": {},
   "outputs": [],
   "source": [
    "df_base = pd.read_json(\"/tmp/stellarpunk.history.gz\", lines=True)\n",
    "df_base = df_base.join(pd.json_normalize(df_base[\"o\"]).add_prefix(\"o.\"))"
   ]
  },
  {
   "cell_type": "code",
   "execution_count": 3,
   "id": "2f042e69",
   "metadata": {},
   "outputs": [
    {
     "data": {
      "text/plain": [
       "0      c8a40715-5a18-4b2c-9a4d-509071b2767b\n",
       "1      b90c7214-e4ce-44c9-b6f1-091deab6109a\n",
       "2      3423ef5c-3556-4c76-ba99-e8de32529b17\n",
       "3      5ea9ab41-4789-4586-8df4-69f3fec8f1d7\n",
       "4      d077d512-d8a7-4a6d-8fb7-5df2da85e250\n",
       "                       ...                 \n",
       "151    81e89063-a785-46b9-9801-7a8eb2ca7fb4\n",
       "152    af73858a-bda1-4422-a105-a8552dc97604\n",
       "153    e05569da-2671-4d07-aa91-376acd518d06\n",
       "154    4f96453a-5e58-4aa3-9be0-15acc0f10bd0\n",
       "155    22ba6bf1-3bde-4735-8f1a-49cb6e081d37\n",
       "Length: 156, dtype: object"
      ]
     },
     "execution_count": 3,
     "metadata": {},
     "output_type": "execute_result"
    }
   ],
   "source": [
    "eids = pd.Series(df_base[\"eid\"].unique())\n",
    "eids"
   ]
  },
  {
   "cell_type": "code",
   "execution_count": 4,
   "id": "288e3f1e",
   "metadata": {},
   "outputs": [
    {
     "data": {
      "text/plain": [
       "152    af73858a-bda1-4422-a105-a8552dc97604\n",
       "dtype: object"
      ]
     },
     "execution_count": 4,
     "metadata": {},
     "output_type": "execute_result"
    }
   ],
   "source": [
    "eids[pd.Series(df_base[\"eid\"].unique()).str.startswith(\"af73\")]"
   ]
  },
  {
   "cell_type": "code",
   "execution_count": 5,
   "id": "c9be6491",
   "metadata": {},
   "outputs": [
    {
     "data": {
      "text/plain": [
       "array(['af73858a-bda1-4422-a105-a8552dc97604'], dtype=object)"
      ]
     },
     "execution_count": 5,
     "metadata": {},
     "output_type": "execute_result"
    }
   ],
   "source": [
    "target_eid = df_base[\"eid\"].unique()[152]\n",
    "df_base = df_base[df_base[\"eid\"] == target_eid].reset_index()\n",
    "df_base[\"eid\"].unique()"
   ]
  },
  {
   "cell_type": "code",
   "execution_count": 6,
   "id": "b77f957c",
   "metadata": {},
   "outputs": [],
   "source": [
    "loc = pd.DataFrame(np.vstack(df_base[\"loc\"]), columns=[\"loc.x\", \"loc.y\"])\n",
    "v = pd.DataFrame(np.vstack(df_base[\"v\"]), columns=[\"v.x\", \"v.y\"])\n",
    "\n",
    "empty_array = np.empty(len(df_base))\n",
    "empty_array[:] = np.nan\n",
    "\n",
    "if \"o.t_loc\" in df_base:\n",
    "    o_tloc = pd.DataFrame(np.vstack(df_base[\"o.t_loc\"].apply(lambda x: (np.nan, np.nan) if np.all(np.isnan(x)) else x)), columns=[\"o.t_loc.x\", \"o.t_loc.y\"])\n",
    "    o_tv = pd.DataFrame(np.vstack(df_base[\"o.t_v\"].apply(lambda x: (np.nan, np.nan) if np.all(np.isnan(x)) else x)), columns=[\"o.t_v.x\", \"o.t_v.y\"])\n",
    "else:\n",
    "    o_tloc = pd.DataFrame({\"o.t_loc\": empty_array, \"o.t_loc.x\": empty_array, \"o.t_loc.y\": empty_array})\n",
    "    o_tv = pd.DataFrame({\"o.t_v\": empty_array, \"o.t_v.x\": empty_array, \"o.t_v.y\": empty_array})\n",
    "    \n",
    "if \"o.ct\" in df_base:\n",
    "    o_ctloc = pd.DataFrame(np.vstack(df_base[\"o.ct_loc\"].apply(lambda x: (np.nan, np.nan) if np.all(np.isnan(x)) else x)), columns=[\"o.ct_loc.x\", \"o.ct_loc.y\"])\n",
    "    o_ctdv = pd.DataFrame(np.vstack(df_base[\"o.ct_dv\"].apply(lambda x: (np.nan, np.nan) if np.all(np.isnan(x)) else x)), columns=[\"o.ct_dv.x\", \"o.ct_dv.y\"])\n",
    "    o_ctv = pd.DataFrame(np.vstack(df_base[\"o.ct_v\"].apply(lambda x: (np.nan, np.nan) if np.all(np.isnan(x)) else x)), columns=[\"o.ct_v.x\", \"o.ct_v.y\"])\n",
    "    o_ctcloc = pd.DataFrame(np.vstack(df_base[\"o.ct_cloc\"].apply(lambda x: (np.nan, np.nan) if np.all(np.isnan(x)) else x)), columns=[\"o.ct_cloc.x\", \"o.ct_cloc.y\"])\n",
    "else:\n",
    "    o_ctloc = pd.DataFrame({\"o.ct_loc\": empty_array, \"o.ct_loc.x\": empty_array, \"o.ct_loc.y\": empty_array})\n",
    "    o_ctdv = pd.DataFrame({\"o.ct_dv\": empty_array, \"o.ct_dv.x\": empty_array, \"o.ct_dv.y\": empty_array})\n",
    "    o_ctv = pd.DataFrame({\"o.ct_v\": empty_array, \"o.ct_v.x\": empty_array, \"o.ct_v.y\": empty_array})\n",
    "    o_ctcloc = pd.DataFrame({\"o.ct_cloc\": empty_array, \"o.ct_cloc.x\": empty_array, \"o.ct_cloc.y\": empty_array})\n",
    "angle = pd.DataFrame(np.vstack(df_base.apply(lambda row: np.array(util.polar_to_cartesian(100, row[\"a\"])), axis=1)), columns=[\"angle.x\", \"angle.y\"])\n",
    "df = pd.concat([df_base, loc, v, o_ctloc, o_ctcloc, o_ctdv, o_ctv, o_tloc, o_tv, angle], axis=1)\n",
    "\n",
    "if \"o.ct\" not in df_base:\n",
    "    df[\"o.ct\"] = empty_array\n",
    "    df[\"o.ct_ts\"] = empty_array\n",
    "    df[\"o.cac\"] = empty_array\n",
    "    df[\"o.cbdr\"] = empty_array\n",
    "    df[\"o.ct_ct\"] = empty_array\n",
    "    df[\"o.ct_cradius\"] = empty_array\n",
    "    \n",
    "if \"o.t_loc\" not in df_base:\n",
    "    df[\"o.cs\"] = empty_array"
   ]
  },
  {
   "cell_type": "code",
   "execution_count": 7,
   "id": "6e17314e",
   "metadata": {},
   "outputs": [],
   "source": [
    "df[\"speed\"] = np.linalg.norm(df[[\"v.x\", \"v.y\"]], axis=1)\n",
    "df[\"o.ct_dist\"] = np.linalg.norm(np.vstack(df[\"loc\"]) - np.vstack(df[\"o.ct_cloc\"].apply(lambda x: (np.nan, np.nan) if np.all(np.isnan(x)) else x)), axis=1)\n",
    "df[\"o.t_dist\"] = np.linalg.norm(np.vstack(df[\"loc\"]) - np.vstack(df[\"o.t_loc\"].apply(lambda x: (np.nan, np.nan) if np.all(np.isnan(x)) else x)), axis=1)\n",
    "df[\"o.t_speed\"] = np.linalg.norm(df[[\"o.t_v.x\", \"o.t_v.y\"]], axis=1)\n",
    "df[\"f_mag\"] = df[\"f\"].apply(lambda x:np.linalg.norm(x))"
   ]
  },
  {
   "cell_type": "code",
   "execution_count": 8,
   "id": "39640462",
   "metadata": {},
   "outputs": [],
   "source": [
    "#df[\"o.ct_v.x\"] = (df[\"o.ct_loc.x\"].shift(1) - df[\"o.ct_loc.x\"]) / (df[\"ts\"].shift(1) - df[\"ts\"])\n",
    "#df[\"o.ct_v.y\"] = (df[\"o.ct_loc.y\"].shift(1) - df[\"o.ct_loc.y\"]) / (df[\"ts\"].shift(1) - df[\"ts\"])"
   ]
  },
  {
   "cell_type": "code",
   "execution_count": 9,
   "id": "34fd5383",
   "metadata": {},
   "outputs": [
    {
     "data": {
      "text/html": [
       "<div>\n",
       "<style scoped>\n",
       "    .dataframe tbody tr th:only-of-type {\n",
       "        vertical-align: middle;\n",
       "    }\n",
       "\n",
       "    .dataframe tbody tr th {\n",
       "        vertical-align: top;\n",
       "    }\n",
       "\n",
       "    .dataframe thead th {\n",
       "        text-align: right;\n",
       "    }\n",
       "</style>\n",
       "<table border=\"1\" class=\"dataframe\">\n",
       "  <thead>\n",
       "    <tr style=\"text-align: right;\">\n",
       "      <th></th>\n",
       "      <th>index</th>\n",
       "      <th>eid</th>\n",
       "      <th>ts</th>\n",
       "      <th>loc</th>\n",
       "      <th>a</th>\n",
       "      <th>v</th>\n",
       "      <th>av</th>\n",
       "      <th>f</th>\n",
       "      <th>t</th>\n",
       "      <th>o</th>\n",
       "      <th>...</th>\n",
       "      <th>o.t_loc.y</th>\n",
       "      <th>o.t_v.x</th>\n",
       "      <th>o.t_v.y</th>\n",
       "      <th>angle.x</th>\n",
       "      <th>angle.y</th>\n",
       "      <th>speed</th>\n",
       "      <th>o.ct_dist</th>\n",
       "      <th>o.t_dist</th>\n",
       "      <th>o.t_speed</th>\n",
       "      <th>f_mag</th>\n",
       "    </tr>\n",
       "  </thead>\n",
       "  <tbody>\n",
       "    <tr>\n",
       "      <th>0</th>\n",
       "      <td>12869</td>\n",
       "      <td>af73858a-bda1-4422-a105-a8552dc97604</td>\n",
       "      <td>0.000000</td>\n",
       "      <td>[31829.47075972064, 107545.31626957547]</td>\n",
       "      <td>0.954248</td>\n",
       "      <td>[19.452983632731556, 27.511744870750977]</td>\n",
       "      <td>-0.065198</td>\n",
       "      <td>[-4811.924068311385, 1358.450131880301]</td>\n",
       "      <td>900000.0</td>\n",
       "      <td>{'o': 'stellarpunk.orders.GoToLocation', 'ct':...</td>\n",
       "      <td>...</td>\n",
       "      <td>110026.198364</td>\n",
       "      <td>-992.134402</td>\n",
       "      <td>125.177191</td>\n",
       "      <td>57.822218</td>\n",
       "      <td>81.587935</td>\n",
       "      <td>33.694431</td>\n",
       "      <td>791.495358</td>\n",
       "      <td>19818.962881</td>\n",
       "      <td>1000.000000</td>\n",
       "      <td>5000.0</td>\n",
       "    </tr>\n",
       "    <tr>\n",
       "      <th>1</th>\n",
       "      <td>12870</td>\n",
       "      <td>af73858a-bda1-4422-a105-a8552dc97604</td>\n",
       "      <td>0.016667</td>\n",
       "      <td>[31829.794976114517, 107545.77479865665]</td>\n",
       "      <td>0.953162</td>\n",
       "      <td>[19.412884265495627, 27.523065288516648]</td>\n",
       "      <td>-0.048532</td>\n",
       "      <td>[-4811.885805285409, 1358.5856604913765]</td>\n",
       "      <td>900000.0</td>\n",
       "      <td>{'o': 'stellarpunk.orders.GoToLocation', 'ct':...</td>\n",
       "      <td>...</td>\n",
       "      <td>110026.198364</td>\n",
       "      <td>-992.137531</td>\n",
       "      <td>125.152386</td>\n",
       "      <td>57.910841</td>\n",
       "      <td>81.525055</td>\n",
       "      <td>33.680546</td>\n",
       "      <td>790.945200</td>\n",
       "      <td>19819.227156</td>\n",
       "      <td>1000.000000</td>\n",
       "      <td>5000.0</td>\n",
       "    </tr>\n",
       "    <tr>\n",
       "      <th>2</th>\n",
       "      <td>12871</td>\n",
       "      <td>af73858a-bda1-4422-a105-a8552dc97604</td>\n",
       "      <td>0.033333</td>\n",
       "      <td>[31830.118524185607, 107546.23351641146]</td>\n",
       "      <td>0.952353</td>\n",
       "      <td>[19.37278521711825, 27.53438683568741]</td>\n",
       "      <td>-0.031865</td>\n",
       "      <td>[-4811.846244558935, 1358.7257702436036]</td>\n",
       "      <td>900000.0</td>\n",
       "      <td>{'o': 'stellarpunk.orders.GoToLocation', 'ct':...</td>\n",
       "      <td>...</td>\n",
       "      <td>110026.198364</td>\n",
       "      <td>-992.140660</td>\n",
       "      <td>125.127577</td>\n",
       "      <td>57.976764</td>\n",
       "      <td>81.478186</td>\n",
       "      <td>33.666709</td>\n",
       "      <td>790.395416</td>\n",
       "      <td>19819.490757</td>\n",
       "      <td>1000.000000</td>\n",
       "      <td>5000.0</td>\n",
       "    </tr>\n",
       "    <tr>\n",
       "      <th>3</th>\n",
       "      <td>12872</td>\n",
       "      <td>af73858a-bda1-4422-a105-a8552dc97604</td>\n",
       "      <td>0.050000</td>\n",
       "      <td>[31830.441403939225, 107546.69242285873]</td>\n",
       "      <td>0.951822</td>\n",
       "      <td>[19.33268649841359, 27.54570955043944]</td>\n",
       "      <td>-0.015198</td>\n",
       "      <td>[-4811.805379973926, 1358.870481412403]</td>\n",
       "      <td>900000.0</td>\n",
       "      <td>{'o': 'stellarpunk.orders.GoToLocation', 'ct':...</td>\n",
       "      <td>...</td>\n",
       "      <td>110026.198364</td>\n",
       "      <td>-992.143789</td>\n",
       "      <td>125.102763</td>\n",
       "      <td>58.020028</td>\n",
       "      <td>81.447384</td>\n",
       "      <td>33.652918</td>\n",
       "      <td>789.846008</td>\n",
       "      <td>19819.753684</td>\n",
       "      <td>1000.000000</td>\n",
       "      <td>5000.0</td>\n",
       "    </tr>\n",
       "    <tr>\n",
       "      <th>4</th>\n",
       "      <td>12873</td>\n",
       "      <td>af73858a-bda1-4422-a105-a8552dc97604</td>\n",
       "      <td>0.066667</td>\n",
       "      <td>[31830.763615380863, 107547.1515180179]</td>\n",
       "      <td>0.951568</td>\n",
       "      <td>[19.292588120247142, 27.557033471117876]</td>\n",
       "      <td>0.001468</td>\n",
       "      <td>[-4811.763205330135, 1359.0198143629368]</td>\n",
       "      <td>900000.0</td>\n",
       "      <td>{'o': 'stellarpunk.orders.GoToLocation', 'ct':...</td>\n",
       "      <td>...</td>\n",
       "      <td>110026.198364</td>\n",
       "      <td>-992.146918</td>\n",
       "      <td>125.077944</td>\n",
       "      <td>58.040657</td>\n",
       "      <td>81.432685</td>\n",
       "      <td>33.639174</td>\n",
       "      <td>789.296974</td>\n",
       "      <td>19820.015936</td>\n",
       "      <td>1000.000000</td>\n",
       "      <td>5000.0</td>\n",
       "    </tr>\n",
       "    <tr>\n",
       "      <th>...</th>\n",
       "      <td>...</td>\n",
       "      <td>...</td>\n",
       "      <td>...</td>\n",
       "      <td>...</td>\n",
       "      <td>...</td>\n",
       "      <td>...</td>\n",
       "      <td>...</td>\n",
       "      <td>...</td>\n",
       "      <td>...</td>\n",
       "      <td>...</td>\n",
       "      <td>...</td>\n",
       "      <td>...</td>\n",
       "      <td>...</td>\n",
       "      <td>...</td>\n",
       "      <td>...</td>\n",
       "      <td>...</td>\n",
       "      <td>...</td>\n",
       "      <td>...</td>\n",
       "      <td>...</td>\n",
       "      <td>...</td>\n",
       "      <td>...</td>\n",
       "    </tr>\n",
       "    <tr>\n",
       "      <th>1409</th>\n",
       "      <td>14278</td>\n",
       "      <td>af73858a-bda1-4422-a105-a8552dc97604</td>\n",
       "      <td>23.483333</td>\n",
       "      <td>[21784.469779270115, 109205.47575760983]</td>\n",
       "      <td>5.952480</td>\n",
       "      <td>[-771.239550474789, 65.81086200915952]</td>\n",
       "      <td>-0.149441</td>\n",
       "      <td>[4981.895241032781, -425.1115234558217]</td>\n",
       "      <td>900000.0</td>\n",
       "      <td>{'o': 'stellarpunk.orders.GoToLocation', 'nnd'...</td>\n",
       "      <td>...</td>\n",
       "      <td>110026.198364</td>\n",
       "      <td>-765.935069</td>\n",
       "      <td>65.358224</td>\n",
       "      <td>94.581357</td>\n",
       "      <td>-32.471015</td>\n",
       "      <td>774.042320</td>\n",
       "      <td>NaN</td>\n",
       "      <td>9653.027045</td>\n",
       "      <td>768.718562</td>\n",
       "      <td>5000.0</td>\n",
       "    </tr>\n",
       "    <tr>\n",
       "      <th>1410</th>\n",
       "      <td>14279</td>\n",
       "      <td>af73858a-bda1-4422-a105-a8552dc97604</td>\n",
       "      <td>23.500000</td>\n",
       "      <td>[21771.615786762202, 109206.57260531]</td>\n",
       "      <td>5.949989</td>\n",
       "      <td>[-771.1980346811138, 65.80731941313073]</td>\n",
       "      <td>-0.132775</td>\n",
       "      <td>[4981.89524103271, -425.1115234566447]</td>\n",
       "      <td>900000.0</td>\n",
       "      <td>{'o': 'stellarpunk.orders.GoToLocation', 'nnd'...</td>\n",
       "      <td>...</td>\n",
       "      <td>110026.198364</td>\n",
       "      <td>-768.145834</td>\n",
       "      <td>65.546871</td>\n",
       "      <td>94.500189</td>\n",
       "      <td>-32.706487</td>\n",
       "      <td>774.000654</td>\n",
       "      <td>NaN</td>\n",
       "      <td>9640.126340</td>\n",
       "      <td>770.937361</td>\n",
       "      <td>5000.0</td>\n",
       "    </tr>\n",
       "    <tr>\n",
       "      <th>1411</th>\n",
       "      <td>14280</td>\n",
       "      <td>af73858a-bda1-4422-a105-a8552dc97604</td>\n",
       "      <td>23.516667</td>\n",
       "      <td>[21758.762486184183, 109207.66939396688]</td>\n",
       "      <td>5.947776</td>\n",
       "      <td>[-771.1565188874386, 65.80377681710192]</td>\n",
       "      <td>-0.116108</td>\n",
       "      <td>[4981.895241032607, -425.1115234578571]</td>\n",
       "      <td>900000.0</td>\n",
       "      <td>{'o': 'stellarpunk.orders.GoToLocation', 'nnd'...</td>\n",
       "      <td>...</td>\n",
       "      <td>110026.198364</td>\n",
       "      <td>-770.369171</td>\n",
       "      <td>65.736591</td>\n",
       "      <td>94.427581</td>\n",
       "      <td>-32.915528</td>\n",
       "      <td>773.958987</td>\n",
       "      <td>NaN</td>\n",
       "      <td>9627.226329</td>\n",
       "      <td>773.168778</td>\n",
       "      <td>5000.0</td>\n",
       "    </tr>\n",
       "    <tr>\n",
       "      <th>1412</th>\n",
       "      <td>14281</td>\n",
       "      <td>af73858a-bda1-4422-a105-a8552dc97604</td>\n",
       "      <td>23.533333</td>\n",
       "      <td>[21745.909877536058, 109208.7661235805]</td>\n",
       "      <td>5.945841</td>\n",
       "      <td>[-771.1150030937633, 65.8002342210731]</td>\n",
       "      <td>-0.099441</td>\n",
       "      <td>[-4981.895241032954, 425.11152345379674]</td>\n",
       "      <td>-900000.0</td>\n",
       "      <td>{'o': 'stellarpunk.orders.GoToLocation', 'nnd'...</td>\n",
       "      <td>...</td>\n",
       "      <td>110026.198364</td>\n",
       "      <td>-772.605147</td>\n",
       "      <td>65.927390</td>\n",
       "      <td>94.363708</td>\n",
       "      <td>-33.098196</td>\n",
       "      <td>773.917320</td>\n",
       "      <td>NaN</td>\n",
       "      <td>9614.327012</td>\n",
       "      <td>775.412880</td>\n",
       "      <td>5000.0</td>\n",
       "    </tr>\n",
       "    <tr>\n",
       "      <th>1413</th>\n",
       "      <td>14282</td>\n",
       "      <td>af73858a-bda1-4422-a105-a8552dc97604</td>\n",
       "      <td>23.550000</td>\n",
       "      <td>[21733.05796081783, 109209.86279415085]</td>\n",
       "      <td>5.944184</td>\n",
       "      <td>[-771.1565188874387, 65.80377681710188]</td>\n",
       "      <td>-0.116108</td>\n",
       "      <td>[4981.895241032756, -425.1115234561138]</td>\n",
       "      <td>900000.0</td>\n",
       "      <td>{'o': 'stellarpunk.orders.GoToLocation', 'nnd'...</td>\n",
       "      <td>...</td>\n",
       "      <td>110026.198364</td>\n",
       "      <td>-767.560062</td>\n",
       "      <td>65.496887</td>\n",
       "      <td>94.308723</td>\n",
       "      <td>-33.254545</td>\n",
       "      <td>773.958987</td>\n",
       "      <td>NaN</td>\n",
       "      <td>9601.428390</td>\n",
       "      <td>770.349460</td>\n",
       "      <td>5000.0</td>\n",
       "    </tr>\n",
       "  </tbody>\n",
       "</table>\n",
       "<p>1414 rows × 49 columns</p>\n",
       "</div>"
      ],
      "text/plain": [
       "      index                                   eid         ts  \\\n",
       "0     12869  af73858a-bda1-4422-a105-a8552dc97604   0.000000   \n",
       "1     12870  af73858a-bda1-4422-a105-a8552dc97604   0.016667   \n",
       "2     12871  af73858a-bda1-4422-a105-a8552dc97604   0.033333   \n",
       "3     12872  af73858a-bda1-4422-a105-a8552dc97604   0.050000   \n",
       "4     12873  af73858a-bda1-4422-a105-a8552dc97604   0.066667   \n",
       "...     ...                                   ...        ...   \n",
       "1409  14278  af73858a-bda1-4422-a105-a8552dc97604  23.483333   \n",
       "1410  14279  af73858a-bda1-4422-a105-a8552dc97604  23.500000   \n",
       "1411  14280  af73858a-bda1-4422-a105-a8552dc97604  23.516667   \n",
       "1412  14281  af73858a-bda1-4422-a105-a8552dc97604  23.533333   \n",
       "1413  14282  af73858a-bda1-4422-a105-a8552dc97604  23.550000   \n",
       "\n",
       "                                           loc         a  \\\n",
       "0      [31829.47075972064, 107545.31626957547]  0.954248   \n",
       "1     [31829.794976114517, 107545.77479865665]  0.953162   \n",
       "2     [31830.118524185607, 107546.23351641146]  0.952353   \n",
       "3     [31830.441403939225, 107546.69242285873]  0.951822   \n",
       "4      [31830.763615380863, 107547.1515180179]  0.951568   \n",
       "...                                        ...       ...   \n",
       "1409  [21784.469779270115, 109205.47575760983]  5.952480   \n",
       "1410     [21771.615786762202, 109206.57260531]  5.949989   \n",
       "1411  [21758.762486184183, 109207.66939396688]  5.947776   \n",
       "1412   [21745.909877536058, 109208.7661235805]  5.945841   \n",
       "1413   [21733.05796081783, 109209.86279415085]  5.944184   \n",
       "\n",
       "                                             v        av  \\\n",
       "0     [19.452983632731556, 27.511744870750977] -0.065198   \n",
       "1     [19.412884265495627, 27.523065288516648] -0.048532   \n",
       "2       [19.37278521711825, 27.53438683568741] -0.031865   \n",
       "3       [19.33268649841359, 27.54570955043944] -0.015198   \n",
       "4     [19.292588120247142, 27.557033471117876]  0.001468   \n",
       "...                                        ...       ...   \n",
       "1409    [-771.239550474789, 65.81086200915952] -0.149441   \n",
       "1410   [-771.1980346811138, 65.80731941313073] -0.132775   \n",
       "1411   [-771.1565188874386, 65.80377681710192] -0.116108   \n",
       "1412    [-771.1150030937633, 65.8002342210731] -0.099441   \n",
       "1413   [-771.1565188874387, 65.80377681710188] -0.116108   \n",
       "\n",
       "                                             f         t  \\\n",
       "0      [-4811.924068311385, 1358.450131880301]  900000.0   \n",
       "1     [-4811.885805285409, 1358.5856604913765]  900000.0   \n",
       "2     [-4811.846244558935, 1358.7257702436036]  900000.0   \n",
       "3      [-4811.805379973926, 1358.870481412403]  900000.0   \n",
       "4     [-4811.763205330135, 1359.0198143629368]  900000.0   \n",
       "...                                        ...       ...   \n",
       "1409   [4981.895241032781, -425.1115234558217]  900000.0   \n",
       "1410    [4981.89524103271, -425.1115234566447]  900000.0   \n",
       "1411   [4981.895241032607, -425.1115234578571]  900000.0   \n",
       "1412  [-4981.895241032954, 425.11152345379674] -900000.0   \n",
       "1413   [4981.895241032756, -425.1115234561138]  900000.0   \n",
       "\n",
       "                                                      o  ...      o.t_loc.y  \\\n",
       "0     {'o': 'stellarpunk.orders.GoToLocation', 'ct':...  ...  110026.198364   \n",
       "1     {'o': 'stellarpunk.orders.GoToLocation', 'ct':...  ...  110026.198364   \n",
       "2     {'o': 'stellarpunk.orders.GoToLocation', 'ct':...  ...  110026.198364   \n",
       "3     {'o': 'stellarpunk.orders.GoToLocation', 'ct':...  ...  110026.198364   \n",
       "4     {'o': 'stellarpunk.orders.GoToLocation', 'ct':...  ...  110026.198364   \n",
       "...                                                 ...  ...            ...   \n",
       "1409  {'o': 'stellarpunk.orders.GoToLocation', 'nnd'...  ...  110026.198364   \n",
       "1410  {'o': 'stellarpunk.orders.GoToLocation', 'nnd'...  ...  110026.198364   \n",
       "1411  {'o': 'stellarpunk.orders.GoToLocation', 'nnd'...  ...  110026.198364   \n",
       "1412  {'o': 'stellarpunk.orders.GoToLocation', 'nnd'...  ...  110026.198364   \n",
       "1413  {'o': 'stellarpunk.orders.GoToLocation', 'nnd'...  ...  110026.198364   \n",
       "\n",
       "         o.t_v.x     o.t_v.y    angle.x    angle.y       speed   o.ct_dist  \\\n",
       "0    -992.134402  125.177191  57.822218  81.587935   33.694431  791.495358   \n",
       "1    -992.137531  125.152386  57.910841  81.525055   33.680546  790.945200   \n",
       "2    -992.140660  125.127577  57.976764  81.478186   33.666709  790.395416   \n",
       "3    -992.143789  125.102763  58.020028  81.447384   33.652918  789.846008   \n",
       "4    -992.146918  125.077944  58.040657  81.432685   33.639174  789.296974   \n",
       "...          ...         ...        ...        ...         ...         ...   \n",
       "1409 -765.935069   65.358224  94.581357 -32.471015  774.042320         NaN   \n",
       "1410 -768.145834   65.546871  94.500189 -32.706487  774.000654         NaN   \n",
       "1411 -770.369171   65.736591  94.427581 -32.915528  773.958987         NaN   \n",
       "1412 -772.605147   65.927390  94.363708 -33.098196  773.917320         NaN   \n",
       "1413 -767.560062   65.496887  94.308723 -33.254545  773.958987         NaN   \n",
       "\n",
       "          o.t_dist    o.t_speed   f_mag  \n",
       "0     19818.962881  1000.000000  5000.0  \n",
       "1     19819.227156  1000.000000  5000.0  \n",
       "2     19819.490757  1000.000000  5000.0  \n",
       "3     19819.753684  1000.000000  5000.0  \n",
       "4     19820.015936  1000.000000  5000.0  \n",
       "...            ...          ...     ...  \n",
       "1409   9653.027045   768.718562  5000.0  \n",
       "1410   9640.126340   770.937361  5000.0  \n",
       "1411   9627.226329   773.168778  5000.0  \n",
       "1412   9614.327012   775.412880  5000.0  \n",
       "1413   9601.428390   770.349460  5000.0  \n",
       "\n",
       "[1414 rows x 49 columns]"
      ]
     },
     "execution_count": 9,
     "metadata": {},
     "output_type": "execute_result"
    }
   ],
   "source": [
    "df"
   ]
  },
  {
   "cell_type": "code",
   "execution_count": 10,
   "id": "c4727c74",
   "metadata": {},
   "outputs": [
    {
     "data": {
      "text/plain": [
       "{'o': 'stellarpunk.orders.GoToLocation',\n",
       " 'nnd': inf,\n",
       " 't_loc': [12166.395879920085, 110026.19836421676],\n",
       " 't_v': [-767.5600619148329, 65.49688652160224],\n",
       " 'cs': False}"
      ]
     },
     "execution_count": 10,
     "metadata": {},
     "output_type": "execute_result"
    }
   ],
   "source": [
    "df.iloc[-1][\"o\"]"
   ]
  },
  {
   "cell_type": "markdown",
   "id": "a6d3cf5e",
   "metadata": {},
   "source": [
    "# Basic Ship Vitals"
   ]
  },
  {
   "cell_type": "markdown",
   "id": "36730903",
   "metadata": {},
   "source": [
    "## Position and Heading"
   ]
  },
  {
   "cell_type": "code",
   "execution_count": 11,
   "id": "665329e8",
   "metadata": {},
   "outputs": [
    {
     "data": {
      "application/vnd.jupyter.widget-view+json": {
       "model_id": "364ba621f022482383ce891b5728fea3",
       "version_major": 2,
       "version_minor": 0
      },
      "text/plain": [
       "interactive(children=(FloatSlider(value=23.549999999999944, continuous_update=False, description='max_time', m…"
      ]
     },
     "metadata": {},
     "output_type": "display_data"
    },
    {
     "data": {
      "text/plain": [
       "<function __main__.plot_location_chart(max_time)>"
      ]
     },
     "execution_count": 11,
     "metadata": {},
     "output_type": "execute_result"
    }
   ],
   "source": [
    "def plot_location_chart(max_time):\n",
    "    sample = df[df[\"ts\"] <= max_time].iloc[::50]\n",
    "    plt.quiver(sample[\"loc.x\"], sample[\"loc.y\"], sample[\"angle.x\"], sample[\"angle.y\"])#, scale=100)\n",
    "    plt.scatter(sample[\"o.t_loc.x\"], sample[\"o.t_loc.y\"])\n",
    "    #center = (0,2500)\n",
    "    #radius = 10000\n",
    "    #plt.xlim(center[0]-radius,center[0]+radius)\n",
    "    #plt.ylim(center[1]-radius,center[1]+radius)\n",
    "\n",
    "ipywidgets.interact(plot_location_chart, max_time=ipywidgets.FloatSlider(value=df[\"ts\"].max(), min=df[\"ts\"].min(), max=df[\"ts\"].max(), continuous_update=False))"
   ]
  },
  {
   "cell_type": "code",
   "execution_count": 12,
   "id": "3170b399",
   "metadata": {},
   "outputs": [
    {
     "data": {
      "text/html": [
       "<div>\n",
       "<style scoped>\n",
       "    .dataframe tbody tr th:only-of-type {\n",
       "        vertical-align: middle;\n",
       "    }\n",
       "\n",
       "    .dataframe tbody tr th {\n",
       "        vertical-align: top;\n",
       "    }\n",
       "\n",
       "    .dataframe thead th {\n",
       "        text-align: right;\n",
       "    }\n",
       "</style>\n",
       "<table border=\"1\" class=\"dataframe\">\n",
       "  <thead>\n",
       "    <tr style=\"text-align: right;\">\n",
       "      <th></th>\n",
       "      <th>loc.x</th>\n",
       "      <th>loc.y</th>\n",
       "    </tr>\n",
       "  </thead>\n",
       "  <tbody>\n",
       "    <tr>\n",
       "      <th>count</th>\n",
       "      <td>1414.000000</td>\n",
       "      <td>1414.000000</td>\n",
       "    </tr>\n",
       "    <tr>\n",
       "      <th>mean</th>\n",
       "      <td>29070.345465</td>\n",
       "      <td>108338.804625</td>\n",
       "    </tr>\n",
       "    <tr>\n",
       "      <th>std</th>\n",
       "      <td>3319.057923</td>\n",
       "      <td>537.570846</td>\n",
       "    </tr>\n",
       "    <tr>\n",
       "      <th>min</th>\n",
       "      <td>21733.057961</td>\n",
       "      <td>107545.316270</td>\n",
       "    </tr>\n",
       "    <tr>\n",
       "      <th>25%</th>\n",
       "      <td>26346.016281</td>\n",
       "      <td>107752.759729</td>\n",
       "    </tr>\n",
       "    <tr>\n",
       "      <th>50%</th>\n",
       "      <td>30945.977307</td>\n",
       "      <td>108403.459572</td>\n",
       "    </tr>\n",
       "    <tr>\n",
       "      <th>75%</th>\n",
       "      <td>31872.021599</td>\n",
       "      <td>108816.233132</td>\n",
       "    </tr>\n",
       "    <tr>\n",
       "      <th>max</th>\n",
       "      <td>31879.552666</td>\n",
       "      <td>109209.862794</td>\n",
       "    </tr>\n",
       "  </tbody>\n",
       "</table>\n",
       "</div>"
      ],
      "text/plain": [
       "              loc.x          loc.y\n",
       "count   1414.000000    1414.000000\n",
       "mean   29070.345465  108338.804625\n",
       "std     3319.057923     537.570846\n",
       "min    21733.057961  107545.316270\n",
       "25%    26346.016281  107752.759729\n",
       "50%    30945.977307  108403.459572\n",
       "75%    31872.021599  108816.233132\n",
       "max    31879.552666  109209.862794"
      ]
     },
     "execution_count": 12,
     "metadata": {},
     "output_type": "execute_result"
    }
   ],
   "source": [
    "df[[\"loc.x\", \"loc.y\"]].describe()"
   ]
  },
  {
   "cell_type": "code",
   "execution_count": 13,
   "id": "e0f37c4c",
   "metadata": {},
   "outputs": [
    {
     "data": {
      "text/plain": [
       "Text(0.5, 1.0, 'position')"
      ]
     },
     "execution_count": 13,
     "metadata": {},
     "output_type": "execute_result"
    },
    {
     "data": {
      "image/png": "[encoded data removed]",
      "text/plain": [
       "<Figure size 432x288 with 1 Axes>"
      ]
     },
     "metadata": {
      "needs_background": "light"
     },
     "output_type": "display_data"
    }
   ],
   "source": [
    "plt.scatter(df[\"ts\"], df[\"loc.x\"])\n",
    "plt.scatter(df[\"ts\"], df[\"loc.y\"])\n",
    "plt.title(\"position\")"
   ]
  },
  {
   "cell_type": "code",
   "execution_count": 14,
   "id": "b65fd521",
   "metadata": {},
   "outputs": [
    {
     "data": {
      "text/plain": [
       "Text(0.5, 1.0, 'heading and angular velocity')"
      ]
     },
     "execution_count": 14,
     "metadata": {},
     "output_type": "execute_result"
    },
    {
     "data": {
      "image/png": "[encoded data removed]",
      "text/plain": [
       "<Figure size 432x288 with 1 Axes>"
      ]
     },
     "metadata": {
      "needs_background": "light"
     },
     "output_type": "display_data"
    }
   ],
   "source": [
    "plt.scatter(df[\"ts\"], df[\"a\"], label=\"theta\")\n",
    "plt.scatter(df[\"ts\"], df[\"av\"], label=\"omega\")\n",
    "plt.hlines(np.pi, df[\"ts\"].min(), df[\"ts\"].max(), color=\"red\")\n",
    "plt.hlines(0, df[\"ts\"].min(), df[\"ts\"].max(), color=\"red\")\n",
    "plt.legend()\n",
    "plt.title(\"heading and angular velocity\")"
   ]
  },
  {
   "cell_type": "code",
   "execution_count": 15,
   "id": "e1a4515d",
   "metadata": {},
   "outputs": [
    {
     "data": {
      "text/plain": [
       "<matplotlib.collections.PathCollection at 0x7f4eeeb95930>"
      ]
     },
     "execution_count": 15,
     "metadata": {},
     "output_type": "execute_result"
    },
    {
     "data": {
      "image/png": "[encoded data removed]",
      "text/plain": [
       "<Figure size 432x288 with 1 Axes>"
      ]
     },
     "metadata": {
      "needs_background": "light"
     },
     "output_type": "display_data"
    }
   ],
   "source": [
    "plt.scatter(df[\"ts\"], df[\"t\"])"
   ]
  },
  {
   "cell_type": "markdown",
   "id": "4ce26323",
   "metadata": {},
   "source": [
    "## Velocity and Acceleration"
   ]
  },
  {
   "cell_type": "code",
   "execution_count": 16,
   "id": "32a0a440",
   "metadata": {
    "scrolled": true
   },
   "outputs": [
    {
     "data": {
      "text/plain": [
       "Text(0.5, 1.0, 'velocity')"
      ]
     },
     "execution_count": 16,
     "metadata": {},
     "output_type": "execute_result"
    },
    {
     "data": {
      "image/png": "[encoded data removed]",
      "text/plain": [
       "<Figure size 432x288 with 1 Axes>"
      ]
     },
     "metadata": {
      "needs_background": "light"
     },
     "output_type": "display_data"
    }
   ],
   "source": [
    "plt.scatter(df[\"ts\"], df[\"v.x\"])\n",
    "plt.scatter(df[\"ts\"], df[\"v.y\"])\n",
    "plt.title(\"velocity\")"
   ]
  },
  {
   "cell_type": "code",
   "execution_count": 17,
   "id": "7e3172c1",
   "metadata": {
    "scrolled": true
   },
   "outputs": [
    {
     "data": {
      "text/plain": [
       "Text(0.5, 1.0, 'acceleration')"
      ]
     },
     "execution_count": 17,
     "metadata": {},
     "output_type": "execute_result"
    },
    {
     "data": {
      "image/png": "[encoded data removed]",
      "text/plain": [
       "<Figure size 432x288 with 1 Axes>"
      ]
     },
     "metadata": {
      "needs_background": "light"
     },
     "output_type": "display_data"
    }
   ],
   "source": [
    "#plt.scatter(df[\"ts\"], (df[\"v.x\"] - df[\"v.x\"].shift(-1)))#/(df[\"ts\"]-df[\"ts\"].shift(-1)))\n",
    "plt.scatter(df[\"ts\"], (df[\"v.x\"].shift(1) - df[\"v.x\"]) / (df[\"ts\"].shift(1) - df[\"ts\"]))\n",
    "plt.scatter(df[\"ts\"], (df[\"v.y\"].shift(1) - df[\"v.y\"]) / (df[\"ts\"].shift(1) - df[\"ts\"]))\n",
    "plt.yscale(\"symlog\")\n",
    "plt.title(\"acceleration\")"
   ]
  },
  {
   "cell_type": "code",
   "execution_count": 18,
   "id": "7754010f",
   "metadata": {},
   "outputs": [
    {
     "data": {
      "text/plain": [
       "Text(0.5, 1.0, 'force')"
      ]
     },
     "execution_count": 18,
     "metadata": {},
     "output_type": "execute_result"
    },
    {
     "data": {
      "image/png": "[encoded data removed]",
      "text/plain": [
       "<Figure size 432x288 with 1 Axes>"
      ]
     },
     "metadata": {
      "needs_background": "light"
     },
     "output_type": "display_data"
    }
   ],
   "source": [
    "plt.scatter(df[\"ts\"], df[\"f_mag\"])\n",
    "plt.yscale(\"log\")\n",
    "plt.title(\"force\")"
   ]
  },
  {
   "cell_type": "markdown",
   "id": "4630e3f8",
   "metadata": {},
   "source": [
    "# Behavior Monitoring"
   ]
  },
  {
   "cell_type": "code",
   "execution_count": 19,
   "id": "f37960fb",
   "metadata": {},
   "outputs": [
    {
     "data": {
      "text/plain": [
       "[0.0, None, None, None]"
      ]
     },
     "execution_count": 19,
     "metadata": {},
     "output_type": "execute_result"
    }
   ],
   "source": [
    "[next((df.iloc[idx][\"ts\"] if idx is not None else None for idx, v in zip(df.index, (~df[c].isna() & df[c] == True)) if v), None) for c in [\"o.ct\", \"o.cs\", \"o.cac\", \"o.cbdr\"]]"
   ]
  },
  {
   "cell_type": "code",
   "execution_count": 20,
   "id": "9e6db2b0",
   "metadata": {},
   "outputs": [
    {
     "data": {
      "application/vnd.jupyter.widget-view+json": {
       "model_id": "52e06ad47e0b4d648aa0fa5d89286c98",
       "version_major": 2,
       "version_minor": 0
      },
      "text/plain": [
       "interactive(children=(FloatSlider(value=5.0, continuous_update=False, description='hist_length', max=23.549999…"
      ]
     },
     "metadata": {},
     "output_type": "display_data"
    },
    {
     "data": {
      "text/plain": [
       "<function __main__.plot_collision_info(hist_length, max_time)>"
      ]
     },
     "execution_count": 20,
     "metadata": {},
     "output_type": "execute_result"
    }
   ],
   "source": [
    "def plot_collision_info(hist_length, max_time):\n",
    "    sample = df[(df[\"ts\"] >= max_time - hist_length) & (df[\"ts\"] <= max_time)]\n",
    "    plt.scatter(sample[\"ts\"], (~(sample[\"o.ct\"].isna())).astype(int), label=\"ct\")\n",
    "    plt.scatter(sample[\"ts\"], sample[\"o.cs\"].fillna(0).astype(int)+0.05, label=\"cs\")\n",
    "    plt.scatter(sample[\"ts\"], sample[\"o.cac\"].fillna(0).astype(int)+0.1, label=\"cac\")\n",
    "    plt.scatter(sample[\"ts\"], sample[\"o.cbdr\"].fillna(0).astype(int)+0.15, label=\"cbdr\")\n",
    "    plt.legend()\n",
    "    plt.title(\"status flags\")\n",
    "    \n",
    "    flag_cols = [\"o.ct\", \"o.cs\", \"o.cac\", \"o.cbdr\"]\n",
    "    first_ts = [next((df.iloc[idx][\"ts\"] if idx is not None else None for idx, v in zip(df.index, (~df[c].isna() & df[c] == True)) if v), None) for c in flag_cols]\n",
    "    for c, ts in zip(flag_cols, first_ts):\n",
    "        print(f'first {c}: {ts}')\n",
    "\n",
    "ipywidgets.interact(plot_collision_info, hist_length=ipywidgets.FloatSlider(value=5, min=0, max=df[\"ts\"].max()-df[\"ts\"].min(), continuous_update=False), max_time=ipywidgets.FloatSlider(value=df[\"ts\"].max(), min=df[\"ts\"].min(), max=df[\"ts\"].max()+.1, continuous_update=False))"
   ]
  },
  {
   "cell_type": "markdown",
   "id": "94ba2b3d",
   "metadata": {},
   "source": [
    "### Target Location"
   ]
  },
  {
   "cell_type": "code",
   "execution_count": 21,
   "id": "2640e1e5",
   "metadata": {},
   "outputs": [
    {
     "data": {
      "text/html": [
       "<div>\n",
       "<style scoped>\n",
       "    .dataframe tbody tr th:only-of-type {\n",
       "        vertical-align: middle;\n",
       "    }\n",
       "\n",
       "    .dataframe tbody tr th {\n",
       "        vertical-align: top;\n",
       "    }\n",
       "\n",
       "    .dataframe thead tr th {\n",
       "        text-align: left;\n",
       "    }\n",
       "\n",
       "    .dataframe thead tr:last-of-type th {\n",
       "        text-align: right;\n",
       "    }\n",
       "</style>\n",
       "<table border=\"1\" class=\"dataframe\">\n",
       "  <thead>\n",
       "    <tr>\n",
       "      <th></th>\n",
       "      <th></th>\n",
       "      <th colspan=\"3\" halign=\"left\">ts</th>\n",
       "      <th colspan=\"2\" halign=\"left\">o.t_dist</th>\n",
       "    </tr>\n",
       "    <tr>\n",
       "      <th></th>\n",
       "      <th></th>\n",
       "      <th>count</th>\n",
       "      <th>min</th>\n",
       "      <th>max</th>\n",
       "      <th>min</th>\n",
       "      <th>max</th>\n",
       "    </tr>\n",
       "    <tr>\n",
       "      <th>o.t_loc.x</th>\n",
       "      <th>o.t_loc.y</th>\n",
       "      <th></th>\n",
       "      <th></th>\n",
       "      <th></th>\n",
       "      <th></th>\n",
       "      <th></th>\n",
       "    </tr>\n",
       "  </thead>\n",
       "  <tbody>\n",
       "    <tr>\n",
       "      <th>12166.39588</th>\n",
       "      <th>110026.198364</th>\n",
       "      <td>1414</td>\n",
       "      <td>0.0</td>\n",
       "      <td>23.55</td>\n",
       "      <td>9601.42839</td>\n",
       "      <td>19856.504654</td>\n",
       "    </tr>\n",
       "  </tbody>\n",
       "</table>\n",
       "</div>"
      ],
      "text/plain": [
       "                             ts                o.t_dist              \n",
       "                          count  min    max         min           max\n",
       "o.t_loc.x   o.t_loc.y                                                \n",
       "12166.39588 110026.198364  1414  0.0  23.55  9601.42839  19856.504654"
      ]
     },
     "execution_count": 21,
     "metadata": {},
     "output_type": "execute_result"
    }
   ],
   "source": [
    "if np.any(~df[\"o.t_loc\"].isna()):\n",
    "    x = df.groupby([\"o.t_loc.x\", \"o.t_loc.y\"]).agg({\"ts\": [\"count\", \"min\", \"max\"], \"o.t_dist\": [\"min\",\"max\"]})\n",
    "else:\n",
    "    x = \"no location target\"\n",
    "x"
   ]
  },
  {
   "cell_type": "code",
   "execution_count": 22,
   "id": "74d23fb4",
   "metadata": {},
   "outputs": [
    {
     "data": {
      "application/vnd.jupyter.widget-view+json": {
       "model_id": "289a3885936640c9a975755531466c41",
       "version_major": 2,
       "version_minor": 0
      },
      "text/plain": [
       "interactive(children=(FloatSlider(value=5.0, continuous_update=False, description='hist_length', max=23.549999…"
      ]
     },
     "metadata": {},
     "output_type": "display_data"
    },
    {
     "data": {
      "text/plain": [
       "<function __main__.plot_target_distance(hist_length, max_time)>"
      ]
     },
     "execution_count": 22,
     "metadata": {},
     "output_type": "execute_result"
    }
   ],
   "source": [
    "#sample = df[(df[\"ts\"] < 124.4) & (df[\"ts\"] > 120)]\n",
    "def plot_target_distance(hist_length, max_time):\n",
    "    sample = df[(df[\"ts\"] >= max_time - hist_length) & (df[\"ts\"] <= max_time)]\n",
    "    plt.scatter(sample[\"ts\"], sample[\"o.t_dist\"])\n",
    "    plt.hlines(1500, sample[\"ts\"].min(), sample[\"ts\"].max(), color=\"green\")\n",
    "    plt.hlines(1500*0.9, sample[\"ts\"].min(), sample[\"ts\"].max(), color=\"red\")\n",
    "    #plt.ylim(0,1500)\n",
    "    plt.title(\"distance to target\")\n",
    "    print(sample[\"o.t_dist\"].min(),sample[df[\"ts\"] > sample[\"ts\"].max()-1][\"o.t_dist\"].min())\n",
    "\n",
    "ipywidgets.interact(\n",
    "    plot_target_distance,\n",
    "    hist_length=ipywidgets.FloatSlider(value=5, min=0, max=df[\"ts\"].max()-df[\"ts\"].min(), continuous_update=False),\n",
    "    max_time=ipywidgets.FloatSlider(value=df[\"ts\"].max(), min=df[\"ts\"].min(), max=df[\"ts\"].max()+.1, continuous_update=False))"
   ]
  },
  {
   "cell_type": "code",
   "execution_count": 23,
   "id": "4d0bf8d0",
   "metadata": {},
   "outputs": [
    {
     "data": {
      "text/plain": [
       "(0.0, 1048.390306835178)"
      ]
     },
     "execution_count": 23,
     "metadata": {},
     "output_type": "execute_result"
    },
    {
     "data": {
      "image/png": "[encoded data removed]",
      "text/plain": [
       "<Figure size 432x288 with 1 Axes>"
      ]
     },
     "metadata": {
      "needs_background": "light"
     },
     "output_type": "display_data"
    }
   ],
   "source": [
    "plt.scatter(df[\"ts\"], df[\"speed\"], label=\"actual speed\")\n",
    "plt.scatter(df[\"ts\"], df[\"o.t_speed\"], label=\"desired speed\")\n",
    "plt.legend()\n",
    "plt.title(\"speed and desired speed to target\")\n",
    "plt.ylim(0)"
   ]
  },
  {
   "cell_type": "code",
   "execution_count": 24,
   "id": "d7341dc2",
   "metadata": {
    "scrolled": true
   },
   "outputs": [
    {
     "data": {
      "text/plain": [
       "Text(0.5, 1.0, 'desired speed delta')"
      ]
     },
     "execution_count": 24,
     "metadata": {},
     "output_type": "execute_result"
    },
    {
     "data": {
      "image/png": "[encoded data removed]",
      "text/plain": [
       "<Figure size 432x288 with 1 Axes>"
      ]
     },
     "metadata": {
      "needs_background": "light"
     },
     "output_type": "display_data"
    }
   ],
   "source": [
    "plt.scatter(df[\"ts\"], df[\"o.t_speed\"] - df[\"speed\"])\n",
    "plt.scatter(df[\"ts\"], np.linalg.norm(np.array((df[\"o.t_v.x\"] - df[\"v.x\"], df[\"o.t_v.y\"] - df[\"v.y\"])), axis=0))\n",
    "plt.title(\"desired speed delta\")"
   ]
  },
  {
   "cell_type": "markdown",
   "id": "5ac378ec",
   "metadata": {},
   "source": [
    "## Collision Avoidance"
   ]
  },
  {
   "cell_type": "code",
   "execution_count": 25,
   "id": "f38ca4d8",
   "metadata": {},
   "outputs": [
    {
     "data": {
      "text/html": [
       "<div>\n",
       "<style scoped>\n",
       "    .dataframe tbody tr th:only-of-type {\n",
       "        vertical-align: middle;\n",
       "    }\n",
       "\n",
       "    .dataframe tbody tr th {\n",
       "        vertical-align: top;\n",
       "    }\n",
       "\n",
       "    .dataframe thead tr th {\n",
       "        text-align: left;\n",
       "    }\n",
       "\n",
       "    .dataframe thead tr:last-of-type th {\n",
       "        text-align: right;\n",
       "    }\n",
       "</style>\n",
       "<table border=\"1\" class=\"dataframe\">\n",
       "  <thead>\n",
       "    <tr>\n",
       "      <th></th>\n",
       "      <th colspan=\"3\" halign=\"left\">ts</th>\n",
       "      <th colspan=\"2\" halign=\"left\">o.ct_dist</th>\n",
       "    </tr>\n",
       "    <tr>\n",
       "      <th></th>\n",
       "      <th>count</th>\n",
       "      <th>min</th>\n",
       "      <th>max</th>\n",
       "      <th>min</th>\n",
       "      <th>max</th>\n",
       "    </tr>\n",
       "    <tr>\n",
       "      <th>o.ct</th>\n",
       "      <th></th>\n",
       "      <th></th>\n",
       "      <th></th>\n",
       "      <th></th>\n",
       "      <th></th>\n",
       "    </tr>\n",
       "  </thead>\n",
       "  <tbody>\n",
       "    <tr>\n",
       "      <th>2772a5b5-a2ae-426c-87ae-311179dc797f</th>\n",
       "      <td>524</td>\n",
       "      <td>0.000000</td>\n",
       "      <td>8.716667</td>\n",
       "      <td>527.315773</td>\n",
       "      <td>791.495358</td>\n",
       "    </tr>\n",
       "    <tr>\n",
       "      <th>4f96453a-5e58-4aa3-9be0-15acc0f10bd0</th>\n",
       "      <td>28</td>\n",
       "      <td>10.383333</td>\n",
       "      <td>10.833333</td>\n",
       "      <td>16912.164650</td>\n",
       "      <td>17166.429165</td>\n",
       "    </tr>\n",
       "  </tbody>\n",
       "</table>\n",
       "</div>"
      ],
      "text/plain": [
       "                                        ts                        \\\n",
       "                                     count        min        max   \n",
       "o.ct                                                               \n",
       "2772a5b5-a2ae-426c-87ae-311179dc797f   524   0.000000   8.716667   \n",
       "4f96453a-5e58-4aa3-9be0-15acc0f10bd0    28  10.383333  10.833333   \n",
       "\n",
       "                                         o.ct_dist                \n",
       "                                               min           max  \n",
       "o.ct                                                              \n",
       "2772a5b5-a2ae-426c-87ae-311179dc797f    527.315773    791.495358  \n",
       "4f96453a-5e58-4aa3-9be0-15acc0f10bd0  16912.164650  17166.429165  "
      ]
     },
     "execution_count": 25,
     "metadata": {},
     "output_type": "execute_result"
    }
   ],
   "source": [
    "if np.any(~df[\"o.ct\"].isna()):\n",
    "    x = df.groupby(\"o.ct\").agg({\"ts\": [\"count\", \"min\", \"max\"], \"o.ct_dist\": [\"min\",\"max\"]})\n",
    "else:\n",
    "    x = \"no collision threats\"\n",
    "x"
   ]
  },
  {
   "cell_type": "code",
   "execution_count": 26,
   "id": "890424d5",
   "metadata": {},
   "outputs": [
    {
     "data": {
      "application/vnd.jupyter.widget-view+json": {
       "model_id": "4753aa8f80ac4f80a0f97ef4f76de13a",
       "version_major": 2,
       "version_minor": 0
      },
      "text/plain": [
       "interactive(children=(FloatSlider(value=5.0, continuous_update=False, description='hist_length', max=23.549999…"
      ]
     },
     "metadata": {},
     "output_type": "display_data"
    },
    {
     "data": {
      "text/plain": [
       "<function __main__.plot_collision_distance(hist_length, max_time)>"
      ]
     },
     "execution_count": 26,
     "metadata": {},
     "output_type": "execute_result"
    }
   ],
   "source": [
    "def plot_collision_distance(hist_length, max_time):\n",
    "    sample = df[(df[\"ts\"] >= max_time-hist_length) & (df[\"ts\"] <= max_time)]\n",
    "    plt.scatter(sample[\"ts\"], sample[\"o.ct_dist\"])\n",
    "    plt.hlines(60+500+500, sample[\"ts\"].min(), sample[\"ts\"].max(), color=\"green\")\n",
    "    plt.hlines(60+500, sample[\"ts\"].min(), sample[\"ts\"].max(), color=\"orange\")\n",
    "    plt.hlines(330, sample[\"ts\"].min(), sample[\"ts\"].max(), color=\"red\")\n",
    "    plt.hlines(60, sample[\"ts\"].min(), sample[\"ts\"].max(), color=\"red\")\n",
    "    plt.ylim(0)\n",
    "    plt.title(\"distance to collision threat\")\n",
    "    print(sample[\"o.ct_dist\"].min())\n",
    "\n",
    "ipywidgets.interact(\n",
    "    plot_collision_distance,\n",
    "    hist_length=ipywidgets.FloatSlider(value=5, min=0, max=df[\"ts\"].max()-df[\"ts\"].min(), continuous_update=False),\n",
    "    max_time=ipywidgets.FloatSlider(value=df[\"ts\"].max(), min=df[\"ts\"].min(), max=df[\"ts\"].max()+.1, continuous_update=False)\n",
    ")"
   ]
  },
  {
   "cell_type": "code",
   "execution_count": 27,
   "id": "7f36fdbc",
   "metadata": {},
   "outputs": [
    {
     "data": {
      "text/plain": [
       "(0.0, 23.549999999999944)"
      ]
     },
     "execution_count": 27,
     "metadata": {},
     "output_type": "execute_result"
    },
    {
     "data": {
      "image/png": "[encoded data removed]",
      "text/plain": [
       "<Figure size 432x288 with 1 Axes>"
      ]
     },
     "metadata": {
      "needs_background": "light"
     },
     "output_type": "display_data"
    }
   ],
   "source": [
    "plt.scatter(df[\"ts\"], df[\"o.ct_ct\"])\n",
    "plt.title(\"number of coalesced threats\")\n",
    "plt.xlim(df[\"ts\"].min(), df[\"ts\"].max())"
   ]
  },
  {
   "cell_type": "code",
   "execution_count": 28,
   "id": "a3ce3d2d",
   "metadata": {},
   "outputs": [
    {
     "data": {
      "text/plain": [
       "<matplotlib.collections.PathCollection at 0x7f4eef6cd540>"
      ]
     },
     "execution_count": 28,
     "metadata": {},
     "output_type": "execute_result"
    },
    {
     "data": {
      "image/png": "[encoded data removed]",
      "text/plain": [
       "<Figure size 432x288 with 2 Axes>"
      ]
     },
     "metadata": {
      "needs_background": "light"
     },
     "output_type": "display_data"
    }
   ],
   "source": [
    "fig, ax1 = plt.subplots()\n",
    "ax2 = ax1.twinx()\n",
    "\n",
    "ax1.scatter(df[\"ts\"], 1-df[\"o.ct\"].isna().astype(int))\n",
    "ax2.scatter(df[\"ts\"], df[\"ts\"] - df[\"o.ct_ts\"], color=\"orange\")\n",
    "\n",
    "#ax2.set_ylim(0,(df[\"ts\"] - df[\"o.ct_ts\"]).max()*1.2)"
   ]
  },
  {
   "cell_type": "code",
   "execution_count": 29,
   "id": "885d0e7e",
   "metadata": {},
   "outputs": [
    {
     "data": {
      "application/vnd.jupyter.widget-view+json": {
       "model_id": "272164f7d9a248ce86177ab640cf87a1",
       "version_major": 2,
       "version_minor": 0
      },
      "text/plain": [
       "interactive(children=(FloatSlider(value=5.0, continuous_update=False, description='hist_length', max=23.549999…"
      ]
     },
     "metadata": {},
     "output_type": "display_data"
    },
    {
     "data": {
      "text/plain": [
       "<function __main__.plot_collision_dv(hist_length, max_time)>"
      ]
     },
     "execution_count": 29,
     "metadata": {},
     "output_type": "execute_result"
    }
   ],
   "source": [
    "def plot_collision_dv(hist_length, max_time):\n",
    "    sample = df[(df[\"ts\"] >= max_time - hist_length) & (df[\"ts\"] <= max_time)]\n",
    "    plt.scatter(sample[\"ts\"], sample[\"o.ct_dv.x\"])\n",
    "    plt.scatter(sample[\"ts\"], sample[\"o.ct_dv.y\"])\n",
    "    plt.title(\"collision avoidance velocity\")\n",
    "\n",
    "ipywidgets.interact(\n",
    "    plot_collision_dv,\n",
    "    hist_length=ipywidgets.FloatSlider(value=5, min=0, max=df[\"ts\"].max()-df[\"ts\"].min(), continuous_update=False),\n",
    "    max_time=ipywidgets.FloatSlider(value=df[\"ts\"].max(), min=df[\"ts\"].min(), max=df[\"ts\"].max()+.1, continuous_update=False))"
   ]
  },
  {
   "cell_type": "markdown",
   "id": "12a7d799",
   "metadata": {},
   "source": [
    "# History Visualization"
   ]
  },
  {
   "cell_type": "markdown",
   "id": "e7b61368",
   "metadata": {},
   "source": [
    "## Position and Velocity"
   ]
  },
  {
   "cell_type": "code",
   "execution_count": 33,
   "id": "05fc6ec3",
   "metadata": {},
   "outputs": [
    {
     "data": {
      "application/vnd.jupyter.widget-view+json": {
       "model_id": "9fcbf22a0ac94a46b54787568f22ac75",
       "version_major": 2,
       "version_minor": 0
      },
      "text/plain": [
       "interactive(children=(FloatSlider(value=5.0, continuous_update=False, description='hist_length', max=23.549999…"
      ]
     },
     "metadata": {},
     "output_type": "display_data"
    },
    {
     "data": {
      "text/plain": [
       "<function __main__.plot_collision_chart(hist_length=23.549999999999944, max_time=23.549999999999944, sampling_interval=50, show_tloc=True)>"
      ]
     },
     "execution_count": 33,
     "metadata": {},
     "output_type": "execute_result"
    }
   ],
   "source": [
    "def plot_collision_chart(hist_length=df[\"ts\"].max(), max_time=df[\"ts\"].max(), sampling_interval=50, show_tloc=True):\n",
    "    plt.figure(figsize=(10, 10))\n",
    "    sample = df[(df[\"ts\"] >= max_time - hist_length) & (df[\"ts\"] <= max_time)].iloc[::sampling_interval]\n",
    "    plt.quiver(sample[\"loc.x\"], sample[\"loc.y\"], sample[\"v.x\"], sample[\"v.y\"], label=\"v\")\n",
    "    ctdv_df = sample[~(sample[\"o.ct_dv\"].isna())]\n",
    "    plt.quiver(ctdv_df[\"loc.x\"], ctdv_df[\"loc.y\"], ctdv_df[\"o.ct_dv.x\"], ctdv_df[\"o.ct_dv.y\"], label=\"ctdv\", color=\"orange\")\n",
    "    plt.quiver(sample[\"loc.x\"], sample[\"loc.y\"], sample[\"o.t_v.x\"], sample[\"o.t_v.y\"], label=\"tv\", color=\"purple\")\n",
    "    \n",
    "    plt.quiver(sample[\"o.ct_loc.x\"], sample[\"o.ct_loc.y\"], sample[\"o.ct_v.x\"], sample[\"o.ct_v.y\"])\n",
    "    cmap = plt.get_cmap('viridis')\n",
    "    for x, c in zip(df[\"o.ct\"].unique(), cmap(np.linspace(0, 1, len(df[\"o.ct\"].unique())))):\n",
    "        if not isinstance(x, str):\n",
    "            continue\n",
    "        ct = sample[sample[\"o.ct\"] == x]\n",
    "        if len(ct) == 0:\n",
    "            continue\n",
    "        plt.scatter(ct[\"o.ct_loc.x\"], ct[\"o.ct_loc.y\"], color=c, label=x[:8])\n",
    "        \n",
    "        t_next = 10\n",
    "        x, y = ct.iloc[-1][\"o.ct_loc.x\"], ct.iloc[-1][\"o.ct_loc.y\"]\n",
    "        x_next, y_next = ct.iloc[-1][\"o.ct_loc.x\"]+ct.iloc[-1][\"o.ct_v.x\"]*t_next, ct.iloc[-1][\"o.ct_loc.y\"]+ct.iloc[-1][\"o.ct_v.y\"]*t_next\n",
    "        if x_next != x or y_next != y:\n",
    "            plt.axline((x,y),(x_next,y_next), marker = 'x', color=c, dashes=[2,2])\n",
    "           \n",
    "    cloc_df = sample[~(sample[\"o.ct_cloc\"].isna())]\n",
    "    if len(cloc_df) > 0:\n",
    "        cloc_x = cloc_df.iloc[-1][\"o.ct_cloc.x\"]\n",
    "        cloc_y = cloc_df.iloc[-1][\"o.ct_cloc.y\"]\n",
    "        cradius = cloc_df.iloc[-1][\"o.ct_cradius\"]\n",
    "        threat_radius = plt.Circle((cloc_x, cloc_y), cradius, color=\"red\", fill=False)\n",
    "        margin = plt.Circle((cloc_x, cloc_y), cradius+30+500, color=\"orange\", fill=False)\n",
    "        margin = plt.Circle((cloc_x, cloc_y), cradius+30+500*2, color=\"green\", fill=False)\n",
    "        plt.gca().add_patch(threat_radius)\n",
    "        plt.gca().add_patch(margin)\n",
    "    \n",
    "    if show_tloc:\n",
    "        plt.scatter(sample[\"o.t_loc.x\"], sample[\"o.t_loc.y\"], label=\"t_loc\")\n",
    "        for (tloc_x, tloc_y) in sample.groupby([\"o.t_loc.x\", \"o.t_loc.y\"])[\"o.t_loc\"].min():\n",
    "            arrival_dist = plt.Circle((tloc_x, tloc_y), 1500, color=\"green\", fill=False)\n",
    "            min_dist = plt.Circle((tloc_x, tloc_y), 1500*0.9, color=\"red\", fill=False)\n",
    "            plt.gca().add_patch(arrival_dist)\n",
    "            plt.gca().add_patch(min_dist)\n",
    "            \n",
    "    t_next = 10\n",
    "    x, y = sample.iloc[-1][\"loc.x\"], sample.iloc[-1][\"loc.y\"]\n",
    "    x_next, y_next = sample.iloc[-1][\"loc.x\"]+sample.iloc[-1][\"v.x\"]*t_next, sample.iloc[-1][\"loc.y\"]+sample.iloc[-1][\"v.y\"]*t_next\n",
    "    if x_next != x or y_next != y:\n",
    "        plt.axline((x,y),(x_next,y_next),marker = 'o')\n",
    "    \n",
    "    plt.axis('equal')\n",
    "    #center = (-33555, -5000)\n",
    "    #radius = 15000\n",
    "    #plt.xlim(center[0]-radius,center[0]+radius)\n",
    "    #plt.ylim(center[1]-radius,center[1]+radius)\n",
    "\n",
    "    plt.legend()\n",
    "    plt.show()\n",
    "    \n",
    "ipywidgets.interact(\n",
    "    plot_collision_chart,\n",
    "    hist_length=ipywidgets.FloatSlider(value=5, min=0, max=df[\"ts\"].max()-df[\"ts\"].min(), continuous_update=False),\n",
    "    max_time=ipywidgets.FloatSlider(step=1/60, value=df[\"ts\"].max()+1/60, min=df[\"ts\"].min(), max=df[\"ts\"].max()+1/60, continuous_update=False),\n",
    "    sampling_interval=ipywidgets.IntSlider(value=20, min=1, max=100, continuous_update=False),\n",
    "    show_tloc=ipywidgets.Checkbox(value=True),\n",
    ")"
   ]
  },
  {
   "cell_type": "markdown",
   "id": "6e5e3aad",
   "metadata": {},
   "source": [
    "## Position and Heading"
   ]
  },
  {
   "cell_type": "code",
   "execution_count": 31,
   "id": "2f7475c2",
   "metadata": {
    "scrolled": false
   },
   "outputs": [
    {
     "data": {
      "application/vnd.jupyter.widget-view+json": {
       "model_id": "30643084c18649e892ea914a384f61d2",
       "version_major": 2,
       "version_minor": 0
      },
      "text/plain": [
       "interactive(children=(FloatSlider(value=5.0, continuous_update=False, description='hist_length', max=23.549999…"
      ]
     },
     "metadata": {},
     "output_type": "display_data"
    },
    {
     "data": {
      "text/plain": [
       "<function __main__.plot_collision_chart(hist_length=23.549999999999944, max_time=23.549999999999944)>"
      ]
     },
     "execution_count": 31,
     "metadata": {},
     "output_type": "execute_result"
    }
   ],
   "source": [
    "def plot_collision_chart(hist_length=df[\"ts\"].max(), max_time=df[\"ts\"].max()):\n",
    "    sample = df[(df[\"ts\"] >= max_time - hist_length) & (df[\"ts\"] <= max_time)]#.iloc[::10]\n",
    "    plt.quiver(sample[\"loc.x\"], sample[\"loc.y\"], sample[\"angle.x\"], sample[\"angle.y\"], label=\"ship\")\n",
    "    ctdv_df = sample[~(sample[\"o.ct_dv\"].isna())]\n",
    "    plt.quiver(ctdv_df[\"loc.x\"], ctdv_df[\"loc.y\"], ctdv_df[\"o.ct_dv.x\"], ctdv_df[\"o.ct_dv.y\"], label=\"ctdv\", color=\"orange\")\n",
    "    plt.quiver(sample[\"loc.x\"], sample[\"loc.y\"], sample[\"o.t_v.x\"], sample[\"o.t_v.y\"], label=\"tv\", color=\"purple\")\n",
    "    cmap = plt.get_cmap('viridis')\n",
    "    #for x, c in zip(df[\"o.ct\"].unique(), cmap(np.linspace(0, 1, len(sample[\"o.ct\"].unique())))):\n",
    "    #    print(x)\n",
    "    #    if not isinstance(x, str):\n",
    "    #        continue\n",
    "    #    ct = sample[sample[\"o.ct\"] == x]\n",
    "    #    plt.scatter(ct[\"o.ct_loc.x\"], ct[\"o.ct_loc.y\"], color=c, label=x[:8])\n",
    "    #plt.scatter(sample[\"o.t_loc.x\"], sample[\"o.t_loc.y\"], label=\"t_loc\")\n",
    "    #plt.axis('square')\n",
    "    #center = (-33555, -5000)\n",
    "    #radius = 15000\n",
    "    #plt.xlim(center[0]-radius,center[0]+radius)\n",
    "    #plt.ylim(center[1]-radius,center[1]+radius)\n",
    "    \n",
    "    plt.legend()\n",
    "    plt.axis('equal')\n",
    "    plt.show()\n",
    "    \n",
    "ipywidgets.interact(plot_collision_chart, hist_length=ipywidgets.FloatSlider(value=5, min=0, max=df[\"ts\"].max()-df[\"ts\"].min(), continuous_update=False), max_time=ipywidgets.FloatSlider(value=df[\"ts\"].max(), min=df[\"ts\"].min(), max=df[\"ts\"].max(), continuous_update=False))"
   ]
  },
  {
   "cell_type": "markdown",
   "id": "6e24f370",
   "metadata": {},
   "source": [
    "# "
   ]
  }
 ],
 "metadata": {
  "kernelspec": {
   "display_name": "Python 3 (ipykernel)",
   "language": "python",
   "name": "python3"
  },
  "language_info": {
   "codemirror_mode": {
    "name": "ipython",
    "version": 3
   },
   "file_extension": ".py",
   "mimetype": "text/x-python",
   "name": "python",
   "nbconvert_exporter": "python",
   "pygments_lexer": "ipython3",
   "version": "3.10.1"
  }
 },
 "nbformat": 4,
 "nbformat_minor": 5
}
