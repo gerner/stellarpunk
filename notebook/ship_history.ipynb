{
 "cells": [
  {
   "cell_type": "code",
   "execution_count": 1,
   "id": "83af8c87",
   "metadata": {},
   "outputs": [],
   "source": [
    "import json\n",
    "\n",
    "import pandas as pd\n",
    "import numpy as np\n",
    "from matplotlib import pyplot as plt\n",
    "\n",
    "from stellarpunk import util"
   ]
  },
  {
   "cell_type": "code",
   "execution_count": 2,
   "id": "de85f4fe",
   "metadata": {},
   "outputs": [],
   "source": [
    "df_base = pd.json_normalize(list(json.loads(line) for line in open(\"/tmp/stellarpunk_test.history\", \"r\")))"
   ]
  },
  {
   "cell_type": "code",
   "execution_count": 3,
   "id": "59a24762",
   "metadata": {},
   "outputs": [
    {
     "data": {
      "text/html": [
       "<div>\n",
       "<style scoped>\n",
       "    .dataframe tbody tr th:only-of-type {\n",
       "        vertical-align: middle;\n",
       "    }\n",
       "\n",
       "    .dataframe tbody tr th {\n",
       "        vertical-align: top;\n",
       "    }\n",
       "\n",
       "    .dataframe thead th {\n",
       "        text-align: right;\n",
       "    }\n",
       "</style>\n",
       "<table border=\"1\" class=\"dataframe\">\n",
       "  <thead>\n",
       "    <tr style=\"text-align: right;\">\n",
       "      <th></th>\n",
       "      <th>eid</th>\n",
       "      <th>ts</th>\n",
       "      <th>loc</th>\n",
       "      <th>a</th>\n",
       "      <th>v</th>\n",
       "      <th>av</th>\n",
       "      <th>o.o</th>\n",
       "      <th>o.nnd</th>\n",
       "      <th>o.t_loc</th>\n",
       "      <th>o.cs</th>\n",
       "      <th>o.ct</th>\n",
       "      <th>o.ct_loc</th>\n",
       "      <th>o.ct_ts</th>\n",
       "      <th>o.cac</th>\n",
       "    </tr>\n",
       "  </thead>\n",
       "  <tbody>\n",
       "    <tr>\n",
       "      <th>0</th>\n",
       "      <td>f15a66ac-51a1-4183-b900-8cf3e6ea4ebe</td>\n",
       "      <td>0.000000</td>\n",
       "      <td>[0.0, 2400.0]</td>\n",
       "      <td>0.000000</td>\n",
       "      <td>[0.0, 0.0]</td>\n",
       "      <td>0.000000e+00</td>\n",
       "      <td>stellarpunk.orders.GoToLocation</td>\n",
       "      <td>inf</td>\n",
       "      <td>[0, 0]</td>\n",
       "      <td>False</td>\n",
       "      <td>NaN</td>\n",
       "      <td>NaN</td>\n",
       "      <td>NaN</td>\n",
       "      <td>NaN</td>\n",
       "    </tr>\n",
       "    <tr>\n",
       "      <th>1</th>\n",
       "      <td>f15a66ac-51a1-4183-b900-8cf3e6ea4ebe</td>\n",
       "      <td>0.016667</td>\n",
       "      <td>[0.0, 2400.0]</td>\n",
       "      <td>0.000000</td>\n",
       "      <td>[-7.654042494670958e-18, -0.041666666666666664]</td>\n",
       "      <td>-1.666667e-02</td>\n",
       "      <td>stellarpunk.orders.GoToLocation</td>\n",
       "      <td>1200.000000</td>\n",
       "      <td>[0, 0]</td>\n",
       "      <td>False</td>\n",
       "      <td>NaN</td>\n",
       "      <td>NaN</td>\n",
       "      <td>NaN</td>\n",
       "      <td>NaN</td>\n",
       "    </tr>\n",
       "    <tr>\n",
       "      <th>2</th>\n",
       "      <td>f15a66ac-51a1-4183-b900-8cf3e6ea4ebe</td>\n",
       "      <td>0.033333</td>\n",
       "      <td>[-1.2756737491118262e-19, 2399.9993055555556]</td>\n",
       "      <td>-0.000278</td>\n",
       "      <td>[0.03241666666666664, -0.041666666666666664]</td>\n",
       "      <td>-3.469447e-18</td>\n",
       "      <td>stellarpunk.orders.GoToLocation</td>\n",
       "      <td>1200.000000</td>\n",
       "      <td>[0, 0]</td>\n",
       "      <td>False</td>\n",
       "      <td>771d5cf5-c555-4435-be1a-7d51917d266c</td>\n",
       "      <td>[0.0, 1200.0]</td>\n",
       "      <td>0.016667</td>\n",
       "      <td>False</td>\n",
       "    </tr>\n",
       "    <tr>\n",
       "      <th>3</th>\n",
       "      <td>f15a66ac-51a1-4183-b900-8cf3e6ea4ebe</td>\n",
       "      <td>0.050000</td>\n",
       "      <td>[0.0005402777777777772, 2399.998611111111]</td>\n",
       "      <td>-0.000278</td>\n",
       "      <td>[0.03241279456865635, -0.08333333315341562]</td>\n",
       "      <td>-1.666667e-02</td>\n",
       "      <td>stellarpunk.orders.GoToLocation</td>\n",
       "      <td>1199.999306</td>\n",
       "      <td>[0, 0]</td>\n",
       "      <td>False</td>\n",
       "      <td>NaN</td>\n",
       "      <td>NaN</td>\n",
       "      <td>NaN</td>\n",
       "      <td>NaN</td>\n",
       "    </tr>\n",
       "    <tr>\n",
       "      <th>4</th>\n",
       "      <td>f15a66ac-51a1-4183-b900-8cf3e6ea4ebe</td>\n",
       "      <td>0.066667</td>\n",
       "      <td>[0.0010804910205887163, 2399.9972222222254]</td>\n",
       "      <td>-0.000556</td>\n",
       "      <td>[0.032408913087207045, -0.12499999963929151]</td>\n",
       "      <td>-3.333333e-02</td>\n",
       "      <td>stellarpunk.orders.GoToLocation</td>\n",
       "      <td>1199.998611</td>\n",
       "      <td>[0, 0]</td>\n",
       "      <td>False</td>\n",
       "      <td>NaN</td>\n",
       "      <td>NaN</td>\n",
       "      <td>NaN</td>\n",
       "      <td>NaN</td>\n",
       "    </tr>\n",
       "    <tr>\n",
       "      <th>...</th>\n",
       "      <td>...</td>\n",
       "      <td>...</td>\n",
       "      <td>...</td>\n",
       "      <td>...</td>\n",
       "      <td>...</td>\n",
       "      <td>...</td>\n",
       "      <td>...</td>\n",
       "      <td>...</td>\n",
       "      <td>...</td>\n",
       "      <td>...</td>\n",
       "      <td>...</td>\n",
       "      <td>...</td>\n",
       "      <td>...</td>\n",
       "      <td>...</td>\n",
       "    </tr>\n",
       "    <tr>\n",
       "      <th>2086</th>\n",
       "      <td>f15a66ac-51a1-4183-b900-8cf3e6ea4ebe</td>\n",
       "      <td>34.766667</td>\n",
       "      <td>[394.4229783111657, 918.944407260889]</td>\n",
       "      <td>1.169807</td>\n",
       "      <td>[-0.041790096163233995, -0.09736444695116658]</td>\n",
       "      <td>3.469447e-18</td>\n",
       "      <td>stellarpunk.orders.GoToLocation</td>\n",
       "      <td>484.315250</td>\n",
       "      <td>[0, 0]</td>\n",
       "      <td>False</td>\n",
       "      <td>NaN</td>\n",
       "      <td>NaN</td>\n",
       "      <td>NaN</td>\n",
       "      <td>NaN</td>\n",
       "    </tr>\n",
       "    <tr>\n",
       "      <th>2087</th>\n",
       "      <td>f15a66ac-51a1-4183-b900-8cf3e6ea4ebe</td>\n",
       "      <td>34.783333</td>\n",
       "      <td>[394.422281809563, 918.9427845201064]</td>\n",
       "      <td>1.165363</td>\n",
       "      <td>[-0.03483730967565325, -0.08116553205782367]</td>\n",
       "      <td>0.000000e+00</td>\n",
       "      <td>stellarpunk.orders.GoToLocation</td>\n",
       "      <td>484.315736</td>\n",
       "      <td>[0, 0]</td>\n",
       "      <td>False</td>\n",
       "      <td>NaN</td>\n",
       "      <td>NaN</td>\n",
       "      <td>NaN</td>\n",
       "      <td>NaN</td>\n",
       "    </tr>\n",
       "    <tr>\n",
       "      <th>2088</th>\n",
       "      <td>f15a66ac-51a1-4183-b900-8cf3e6ea4ebe</td>\n",
       "      <td>34.800000</td>\n",
       "      <td>[394.4217011877351, 918.9414317612388]</td>\n",
       "      <td>1.165363</td>\n",
       "      <td>[-0.05127136782064251, -0.11945434039653048]</td>\n",
       "      <td>1.666667e-02</td>\n",
       "      <td>stellarpunk.orders.GoToLocation</td>\n",
       "      <td>484.316110</td>\n",
       "      <td>[0, 0]</td>\n",
       "      <td>False</td>\n",
       "      <td>NaN</td>\n",
       "      <td>NaN</td>\n",
       "      <td>NaN</td>\n",
       "      <td>NaN</td>\n",
       "    </tr>\n",
       "    <tr>\n",
       "      <th>2089</th>\n",
       "      <td>f15a66ac-51a1-4183-b900-8cf3e6ea4ebe</td>\n",
       "      <td>34.816667</td>\n",
       "      <td>[394.4208466649381, 918.9394408555655]</td>\n",
       "      <td>1.165640</td>\n",
       "      <td>[-0.06770542596563177, -0.1577431487352373]</td>\n",
       "      <td>3.333333e-02</td>\n",
       "      <td>stellarpunk.orders.GoToLocation</td>\n",
       "      <td>484.316423</td>\n",
       "      <td>[0, 0]</td>\n",
       "      <td>False</td>\n",
       "      <td>NaN</td>\n",
       "      <td>NaN</td>\n",
       "      <td>NaN</td>\n",
       "      <td>NaN</td>\n",
       "    </tr>\n",
       "    <tr>\n",
       "      <th>2090</th>\n",
       "      <td>f15a66ac-51a1-4183-b900-8cf3e6ea4ebe</td>\n",
       "      <td>34.833333</td>\n",
       "      <td>[394.419718241172, 918.9368118030866]</td>\n",
       "      <td>1.166196</td>\n",
       "      <td>[0.0, 2.7755575615628914e-17]</td>\n",
       "      <td>1.666667e-02</td>\n",
       "      <td>stellarpunk.orders.GoToLocation</td>\n",
       "      <td>484.316882</td>\n",
       "      <td>[0, 0]</td>\n",
       "      <td>False</td>\n",
       "      <td>NaN</td>\n",
       "      <td>NaN</td>\n",
       "      <td>NaN</td>\n",
       "      <td>NaN</td>\n",
       "    </tr>\n",
       "  </tbody>\n",
       "</table>\n",
       "<p>2091 rows × 14 columns</p>\n",
       "</div>"
      ],
      "text/plain": [
       "                                       eid         ts  \\\n",
       "0     f15a66ac-51a1-4183-b900-8cf3e6ea4ebe   0.000000   \n",
       "1     f15a66ac-51a1-4183-b900-8cf3e6ea4ebe   0.016667   \n",
       "2     f15a66ac-51a1-4183-b900-8cf3e6ea4ebe   0.033333   \n",
       "3     f15a66ac-51a1-4183-b900-8cf3e6ea4ebe   0.050000   \n",
       "4     f15a66ac-51a1-4183-b900-8cf3e6ea4ebe   0.066667   \n",
       "...                                    ...        ...   \n",
       "2086  f15a66ac-51a1-4183-b900-8cf3e6ea4ebe  34.766667   \n",
       "2087  f15a66ac-51a1-4183-b900-8cf3e6ea4ebe  34.783333   \n",
       "2088  f15a66ac-51a1-4183-b900-8cf3e6ea4ebe  34.800000   \n",
       "2089  f15a66ac-51a1-4183-b900-8cf3e6ea4ebe  34.816667   \n",
       "2090  f15a66ac-51a1-4183-b900-8cf3e6ea4ebe  34.833333   \n",
       "\n",
       "                                                loc         a  \\\n",
       "0                                     [0.0, 2400.0]  0.000000   \n",
       "1                                     [0.0, 2400.0]  0.000000   \n",
       "2     [-1.2756737491118262e-19, 2399.9993055555556] -0.000278   \n",
       "3        [0.0005402777777777772, 2399.998611111111] -0.000278   \n",
       "4       [0.0010804910205887163, 2399.9972222222254] -0.000556   \n",
       "...                                             ...       ...   \n",
       "2086          [394.4229783111657, 918.944407260889]  1.169807   \n",
       "2087          [394.422281809563, 918.9427845201064]  1.165363   \n",
       "2088         [394.4217011877351, 918.9414317612388]  1.165363   \n",
       "2089         [394.4208466649381, 918.9394408555655]  1.165640   \n",
       "2090          [394.419718241172, 918.9368118030866]  1.166196   \n",
       "\n",
       "                                                    v            av  \\\n",
       "0                                          [0.0, 0.0]  0.000000e+00   \n",
       "1     [-7.654042494670958e-18, -0.041666666666666664] -1.666667e-02   \n",
       "2        [0.03241666666666664, -0.041666666666666664] -3.469447e-18   \n",
       "3         [0.03241279456865635, -0.08333333315341562] -1.666667e-02   \n",
       "4        [0.032408913087207045, -0.12499999963929151] -3.333333e-02   \n",
       "...                                               ...           ...   \n",
       "2086    [-0.041790096163233995, -0.09736444695116658]  3.469447e-18   \n",
       "2087     [-0.03483730967565325, -0.08116553205782367]  0.000000e+00   \n",
       "2088     [-0.05127136782064251, -0.11945434039653048]  1.666667e-02   \n",
       "2089      [-0.06770542596563177, -0.1577431487352373]  3.333333e-02   \n",
       "2090                    [0.0, 2.7755575615628914e-17]  1.666667e-02   \n",
       "\n",
       "                                  o.o        o.nnd o.t_loc   o.cs  \\\n",
       "0     stellarpunk.orders.GoToLocation          inf  [0, 0]  False   \n",
       "1     stellarpunk.orders.GoToLocation  1200.000000  [0, 0]  False   \n",
       "2     stellarpunk.orders.GoToLocation  1200.000000  [0, 0]  False   \n",
       "3     stellarpunk.orders.GoToLocation  1199.999306  [0, 0]  False   \n",
       "4     stellarpunk.orders.GoToLocation  1199.998611  [0, 0]  False   \n",
       "...                               ...          ...     ...    ...   \n",
       "2086  stellarpunk.orders.GoToLocation   484.315250  [0, 0]  False   \n",
       "2087  stellarpunk.orders.GoToLocation   484.315736  [0, 0]  False   \n",
       "2088  stellarpunk.orders.GoToLocation   484.316110  [0, 0]  False   \n",
       "2089  stellarpunk.orders.GoToLocation   484.316423  [0, 0]  False   \n",
       "2090  stellarpunk.orders.GoToLocation   484.316882  [0, 0]  False   \n",
       "\n",
       "                                      o.ct       o.ct_loc   o.ct_ts  o.cac  \n",
       "0                                      NaN            NaN       NaN    NaN  \n",
       "1                                      NaN            NaN       NaN    NaN  \n",
       "2     771d5cf5-c555-4435-be1a-7d51917d266c  [0.0, 1200.0]  0.016667  False  \n",
       "3                                      NaN            NaN       NaN    NaN  \n",
       "4                                      NaN            NaN       NaN    NaN  \n",
       "...                                    ...            ...       ...    ...  \n",
       "2086                                   NaN            NaN       NaN    NaN  \n",
       "2087                                   NaN            NaN       NaN    NaN  \n",
       "2088                                   NaN            NaN       NaN    NaN  \n",
       "2089                                   NaN            NaN       NaN    NaN  \n",
       "2090                                   NaN            NaN       NaN    NaN  \n",
       "\n",
       "[2091 rows x 14 columns]"
      ]
     },
     "execution_count": 3,
     "metadata": {},
     "output_type": "execute_result"
    }
   ],
   "source": [
    "df_base"
   ]
  },
  {
   "cell_type": "code",
   "execution_count": 4,
   "id": "3333768b",
   "metadata": {},
   "outputs": [],
   "source": [
    "loc = pd.DataFrame(np.vstack(df_base[\"loc\"]), columns=[\"loc.x\", \"loc.y\"])\n",
    "v = pd.DataFrame(np.vstack(df_base[\"v\"]), columns=[\"v.x\", \"v.y\"])\n",
    "#TODO: handle missing columns\n",
    "o_tloc = pd.DataFrame(np.vstack(df_base[\"o.t_loc\"].apply(lambda x: (np.nan, np.nan) if np.all(np.isnan(x)) else x)), columns=[\"o.t_loc.x\", \"o.t_loc.y\"])\n",
    "o_ctloc = pd.DataFrame(np.vstack(df_base[\"o.ct_loc\"].apply(lambda x: (np.nan, np.nan) if np.all(np.isnan(x)) else x)), columns=[\"o.ct_loc.x\", \"o.ct_loc.y\"])\n",
    "angle = pd.DataFrame(np.vstack(df_base.apply(lambda row: np.array(util.polar_to_cartesian(100, row[\"a\"])), axis=1)), columns=[\"angle.x\", \"angle.y\"])\n",
    "df = pd.concat([df_base, loc, v, o_ctloc, o_tloc, angle], axis=1)\n",
    "#df = pd.concat([df_base, loc, v, angle], axis=1)"
   ]
  },
  {
   "cell_type": "code",
   "execution_count": 5,
   "id": "49a78299",
   "metadata": {},
   "outputs": [],
   "source": [
    "df[\"speed\"] = np.linalg.norm(df[[\"v.x\", \"v.y\"]], axis=1)\n",
    "df[\"o_ct_dist\"] = np.linalg.norm(np.vstack(df[\"loc\"]) - np.vstack(df[\"o.ct_loc\"].apply(lambda x: (np.nan, np.nan) if np.all(np.isnan(x)) else x)), axis=1)\n",
    "df[\"o_t_dist\"] = np.linalg.norm(np.vstack(df[\"loc\"]) - np.vstack(df[\"o.t_loc\"].apply(lambda x: (np.nan, np.nan) if np.all(np.isnan(x)) else x)), axis=1)"
   ]
  },
  {
   "cell_type": "code",
   "execution_count": 6,
   "id": "a1096940",
   "metadata": {},
   "outputs": [
    {
     "data": {
      "text/html": [
       "<div>\n",
       "<style scoped>\n",
       "    .dataframe tbody tr th:only-of-type {\n",
       "        vertical-align: middle;\n",
       "    }\n",
       "\n",
       "    .dataframe tbody tr th {\n",
       "        vertical-align: top;\n",
       "    }\n",
       "\n",
       "    .dataframe thead th {\n",
       "        text-align: right;\n",
       "    }\n",
       "</style>\n",
       "<table border=\"1\" class=\"dataframe\">\n",
       "  <thead>\n",
       "    <tr style=\"text-align: right;\">\n",
       "      <th></th>\n",
       "      <th>eid</th>\n",
       "      <th>ts</th>\n",
       "      <th>loc</th>\n",
       "      <th>a</th>\n",
       "      <th>v</th>\n",
       "      <th>av</th>\n",
       "      <th>o.o</th>\n",
       "      <th>o.nnd</th>\n",
       "      <th>o.t_loc</th>\n",
       "      <th>o.cs</th>\n",
       "      <th>...</th>\n",
       "      <th>v.y</th>\n",
       "      <th>o.ct_loc.x</th>\n",
       "      <th>o.ct_loc.y</th>\n",
       "      <th>o.t_loc.x</th>\n",
       "      <th>o.t_loc.y</th>\n",
       "      <th>angle.x</th>\n",
       "      <th>angle.y</th>\n",
       "      <th>speed</th>\n",
       "      <th>o_ct_dist</th>\n",
       "      <th>o_t_dist</th>\n",
       "    </tr>\n",
       "  </thead>\n",
       "  <tbody>\n",
       "    <tr>\n",
       "      <th>0</th>\n",
       "      <td>f15a66ac-51a1-4183-b900-8cf3e6ea4ebe</td>\n",
       "      <td>0.000000</td>\n",
       "      <td>[0.0, 2400.0]</td>\n",
       "      <td>0.000000</td>\n",
       "      <td>[0.0, 0.0]</td>\n",
       "      <td>0.000000e+00</td>\n",
       "      <td>stellarpunk.orders.GoToLocation</td>\n",
       "      <td>inf</td>\n",
       "      <td>[0, 0]</td>\n",
       "      <td>False</td>\n",
       "      <td>...</td>\n",
       "      <td>0.000000e+00</td>\n",
       "      <td>NaN</td>\n",
       "      <td>NaN</td>\n",
       "      <td>0</td>\n",
       "      <td>0</td>\n",
       "      <td>100.000000</td>\n",
       "      <td>0.000000</td>\n",
       "      <td>0.000000e+00</td>\n",
       "      <td>NaN</td>\n",
       "      <td>2400.000000</td>\n",
       "    </tr>\n",
       "    <tr>\n",
       "      <th>1</th>\n",
       "      <td>f15a66ac-51a1-4183-b900-8cf3e6ea4ebe</td>\n",
       "      <td>0.016667</td>\n",
       "      <td>[0.0, 2400.0]</td>\n",
       "      <td>0.000000</td>\n",
       "      <td>[-7.654042494670958e-18, -0.041666666666666664]</td>\n",
       "      <td>-1.666667e-02</td>\n",
       "      <td>stellarpunk.orders.GoToLocation</td>\n",
       "      <td>1200.000000</td>\n",
       "      <td>[0, 0]</td>\n",
       "      <td>False</td>\n",
       "      <td>...</td>\n",
       "      <td>-4.166667e-02</td>\n",
       "      <td>NaN</td>\n",
       "      <td>NaN</td>\n",
       "      <td>0</td>\n",
       "      <td>0</td>\n",
       "      <td>100.000000</td>\n",
       "      <td>0.000000</td>\n",
       "      <td>4.166667e-02</td>\n",
       "      <td>NaN</td>\n",
       "      <td>2400.000000</td>\n",
       "    </tr>\n",
       "    <tr>\n",
       "      <th>2</th>\n",
       "      <td>f15a66ac-51a1-4183-b900-8cf3e6ea4ebe</td>\n",
       "      <td>0.033333</td>\n",
       "      <td>[-1.2756737491118262e-19, 2399.9993055555556]</td>\n",
       "      <td>-0.000278</td>\n",
       "      <td>[0.03241666666666664, -0.041666666666666664]</td>\n",
       "      <td>-3.469447e-18</td>\n",
       "      <td>stellarpunk.orders.GoToLocation</td>\n",
       "      <td>1200.000000</td>\n",
       "      <td>[0, 0]</td>\n",
       "      <td>False</td>\n",
       "      <td>...</td>\n",
       "      <td>-4.166667e-02</td>\n",
       "      <td>0.0</td>\n",
       "      <td>1200.0</td>\n",
       "      <td>0</td>\n",
       "      <td>0</td>\n",
       "      <td>99.999996</td>\n",
       "      <td>-0.027778</td>\n",
       "      <td>5.279158e-02</td>\n",
       "      <td>1199.999306</td>\n",
       "      <td>2399.999306</td>\n",
       "    </tr>\n",
       "    <tr>\n",
       "      <th>3</th>\n",
       "      <td>f15a66ac-51a1-4183-b900-8cf3e6ea4ebe</td>\n",
       "      <td>0.050000</td>\n",
       "      <td>[0.0005402777777777772, 2399.998611111111]</td>\n",
       "      <td>-0.000278</td>\n",
       "      <td>[0.03241279456865635, -0.08333333315341562]</td>\n",
       "      <td>-1.666667e-02</td>\n",
       "      <td>stellarpunk.orders.GoToLocation</td>\n",
       "      <td>1199.999306</td>\n",
       "      <td>[0, 0]</td>\n",
       "      <td>False</td>\n",
       "      <td>...</td>\n",
       "      <td>-8.333333e-02</td>\n",
       "      <td>NaN</td>\n",
       "      <td>NaN</td>\n",
       "      <td>0</td>\n",
       "      <td>0</td>\n",
       "      <td>99.999996</td>\n",
       "      <td>-0.027778</td>\n",
       "      <td>8.941495e-02</td>\n",
       "      <td>NaN</td>\n",
       "      <td>2399.998611</td>\n",
       "    </tr>\n",
       "    <tr>\n",
       "      <th>4</th>\n",
       "      <td>f15a66ac-51a1-4183-b900-8cf3e6ea4ebe</td>\n",
       "      <td>0.066667</td>\n",
       "      <td>[0.0010804910205887163, 2399.9972222222254]</td>\n",
       "      <td>-0.000556</td>\n",
       "      <td>[0.032408913087207045, -0.12499999963929151]</td>\n",
       "      <td>-3.333333e-02</td>\n",
       "      <td>stellarpunk.orders.GoToLocation</td>\n",
       "      <td>1199.998611</td>\n",
       "      <td>[0, 0]</td>\n",
       "      <td>False</td>\n",
       "      <td>...</td>\n",
       "      <td>-1.250000e-01</td>\n",
       "      <td>NaN</td>\n",
       "      <td>NaN</td>\n",
       "      <td>0</td>\n",
       "      <td>0</td>\n",
       "      <td>99.999985</td>\n",
       "      <td>-0.055556</td>\n",
       "      <td>1.291330e-01</td>\n",
       "      <td>NaN</td>\n",
       "      <td>2399.997222</td>\n",
       "    </tr>\n",
       "    <tr>\n",
       "      <th>...</th>\n",
       "      <td>...</td>\n",
       "      <td>...</td>\n",
       "      <td>...</td>\n",
       "      <td>...</td>\n",
       "      <td>...</td>\n",
       "      <td>...</td>\n",
       "      <td>...</td>\n",
       "      <td>...</td>\n",
       "      <td>...</td>\n",
       "      <td>...</td>\n",
       "      <td>...</td>\n",
       "      <td>...</td>\n",
       "      <td>...</td>\n",
       "      <td>...</td>\n",
       "      <td>...</td>\n",
       "      <td>...</td>\n",
       "      <td>...</td>\n",
       "      <td>...</td>\n",
       "      <td>...</td>\n",
       "      <td>...</td>\n",
       "      <td>...</td>\n",
       "    </tr>\n",
       "    <tr>\n",
       "      <th>2086</th>\n",
       "      <td>f15a66ac-51a1-4183-b900-8cf3e6ea4ebe</td>\n",
       "      <td>34.766667</td>\n",
       "      <td>[394.4229783111657, 918.944407260889]</td>\n",
       "      <td>1.169807</td>\n",
       "      <td>[-0.041790096163233995, -0.09736444695116658]</td>\n",
       "      <td>3.469447e-18</td>\n",
       "      <td>stellarpunk.orders.GoToLocation</td>\n",
       "      <td>484.315250</td>\n",
       "      <td>[0, 0]</td>\n",
       "      <td>False</td>\n",
       "      <td>...</td>\n",
       "      <td>-9.736445e-02</td>\n",
       "      <td>NaN</td>\n",
       "      <td>NaN</td>\n",
       "      <td>0</td>\n",
       "      <td>0</td>\n",
       "      <td>39.032937</td>\n",
       "      <td>92.067528</td>\n",
       "      <td>1.059540e-01</td>\n",
       "      <td>NaN</td>\n",
       "      <td>1000.014155</td>\n",
       "    </tr>\n",
       "    <tr>\n",
       "      <th>2087</th>\n",
       "      <td>f15a66ac-51a1-4183-b900-8cf3e6ea4ebe</td>\n",
       "      <td>34.783333</td>\n",
       "      <td>[394.422281809563, 918.9427845201064]</td>\n",
       "      <td>1.165363</td>\n",
       "      <td>[-0.03483730967565325, -0.08116553205782367]</td>\n",
       "      <td>0.000000e+00</td>\n",
       "      <td>stellarpunk.orders.GoToLocation</td>\n",
       "      <td>484.315736</td>\n",
       "      <td>[0, 0]</td>\n",
       "      <td>False</td>\n",
       "      <td>...</td>\n",
       "      <td>-8.116553e-02</td>\n",
       "      <td>NaN</td>\n",
       "      <td>NaN</td>\n",
       "      <td>0</td>\n",
       "      <td>0</td>\n",
       "      <td>39.441740</td>\n",
       "      <td>91.893140</td>\n",
       "      <td>8.832600e-02</td>\n",
       "      <td>NaN</td>\n",
       "      <td>1000.012389</td>\n",
       "    </tr>\n",
       "    <tr>\n",
       "      <th>2088</th>\n",
       "      <td>f15a66ac-51a1-4183-b900-8cf3e6ea4ebe</td>\n",
       "      <td>34.800000</td>\n",
       "      <td>[394.4217011877351, 918.9414317612388]</td>\n",
       "      <td>1.165363</td>\n",
       "      <td>[-0.05127136782064251, -0.11945434039653048]</td>\n",
       "      <td>1.666667e-02</td>\n",
       "      <td>stellarpunk.orders.GoToLocation</td>\n",
       "      <td>484.316110</td>\n",
       "      <td>[0, 0]</td>\n",
       "      <td>False</td>\n",
       "      <td>...</td>\n",
       "      <td>-1.194543e-01</td>\n",
       "      <td>NaN</td>\n",
       "      <td>NaN</td>\n",
       "      <td>0</td>\n",
       "      <td>0</td>\n",
       "      <td>39.441740</td>\n",
       "      <td>91.893140</td>\n",
       "      <td>1.299927e-01</td>\n",
       "      <td>NaN</td>\n",
       "      <td>1000.010917</td>\n",
       "    </tr>\n",
       "    <tr>\n",
       "      <th>2089</th>\n",
       "      <td>f15a66ac-51a1-4183-b900-8cf3e6ea4ebe</td>\n",
       "      <td>34.816667</td>\n",
       "      <td>[394.4208466649381, 918.9394408555655]</td>\n",
       "      <td>1.165640</td>\n",
       "      <td>[-0.06770542596563177, -0.1577431487352373]</td>\n",
       "      <td>3.333333e-02</td>\n",
       "      <td>stellarpunk.orders.GoToLocation</td>\n",
       "      <td>484.316423</td>\n",
       "      <td>[0, 0]</td>\n",
       "      <td>False</td>\n",
       "      <td>...</td>\n",
       "      <td>-1.577431e-01</td>\n",
       "      <td>NaN</td>\n",
       "      <td>NaN</td>\n",
       "      <td>0</td>\n",
       "      <td>0</td>\n",
       "      <td>39.416212</td>\n",
       "      <td>91.904093</td>\n",
       "      <td>1.716593e-01</td>\n",
       "      <td>NaN</td>\n",
       "      <td>1000.008750</td>\n",
       "    </tr>\n",
       "    <tr>\n",
       "      <th>2090</th>\n",
       "      <td>f15a66ac-51a1-4183-b900-8cf3e6ea4ebe</td>\n",
       "      <td>34.833333</td>\n",
       "      <td>[394.419718241172, 918.9368118030866]</td>\n",
       "      <td>1.166196</td>\n",
       "      <td>[0.0, 2.7755575615628914e-17]</td>\n",
       "      <td>1.666667e-02</td>\n",
       "      <td>stellarpunk.orders.GoToLocation</td>\n",
       "      <td>484.316882</td>\n",
       "      <td>[0, 0]</td>\n",
       "      <td>False</td>\n",
       "      <td>...</td>\n",
       "      <td>2.775558e-17</td>\n",
       "      <td>NaN</td>\n",
       "      <td>NaN</td>\n",
       "      <td>0</td>\n",
       "      <td>0</td>\n",
       "      <td>39.365148</td>\n",
       "      <td>91.925976</td>\n",
       "      <td>2.775558e-17</td>\n",
       "      <td>NaN</td>\n",
       "      <td>1000.005889</td>\n",
       "    </tr>\n",
       "  </tbody>\n",
       "</table>\n",
       "<p>2091 rows × 27 columns</p>\n",
       "</div>"
      ],
      "text/plain": [
       "                                       eid         ts  \\\n",
       "0     f15a66ac-51a1-4183-b900-8cf3e6ea4ebe   0.000000   \n",
       "1     f15a66ac-51a1-4183-b900-8cf3e6ea4ebe   0.016667   \n",
       "2     f15a66ac-51a1-4183-b900-8cf3e6ea4ebe   0.033333   \n",
       "3     f15a66ac-51a1-4183-b900-8cf3e6ea4ebe   0.050000   \n",
       "4     f15a66ac-51a1-4183-b900-8cf3e6ea4ebe   0.066667   \n",
       "...                                    ...        ...   \n",
       "2086  f15a66ac-51a1-4183-b900-8cf3e6ea4ebe  34.766667   \n",
       "2087  f15a66ac-51a1-4183-b900-8cf3e6ea4ebe  34.783333   \n",
       "2088  f15a66ac-51a1-4183-b900-8cf3e6ea4ebe  34.800000   \n",
       "2089  f15a66ac-51a1-4183-b900-8cf3e6ea4ebe  34.816667   \n",
       "2090  f15a66ac-51a1-4183-b900-8cf3e6ea4ebe  34.833333   \n",
       "\n",
       "                                                loc         a  \\\n",
       "0                                     [0.0, 2400.0]  0.000000   \n",
       "1                                     [0.0, 2400.0]  0.000000   \n",
       "2     [-1.2756737491118262e-19, 2399.9993055555556] -0.000278   \n",
       "3        [0.0005402777777777772, 2399.998611111111] -0.000278   \n",
       "4       [0.0010804910205887163, 2399.9972222222254] -0.000556   \n",
       "...                                             ...       ...   \n",
       "2086          [394.4229783111657, 918.944407260889]  1.169807   \n",
       "2087          [394.422281809563, 918.9427845201064]  1.165363   \n",
       "2088         [394.4217011877351, 918.9414317612388]  1.165363   \n",
       "2089         [394.4208466649381, 918.9394408555655]  1.165640   \n",
       "2090          [394.419718241172, 918.9368118030866]  1.166196   \n",
       "\n",
       "                                                    v            av  \\\n",
       "0                                          [0.0, 0.0]  0.000000e+00   \n",
       "1     [-7.654042494670958e-18, -0.041666666666666664] -1.666667e-02   \n",
       "2        [0.03241666666666664, -0.041666666666666664] -3.469447e-18   \n",
       "3         [0.03241279456865635, -0.08333333315341562] -1.666667e-02   \n",
       "4        [0.032408913087207045, -0.12499999963929151] -3.333333e-02   \n",
       "...                                               ...           ...   \n",
       "2086    [-0.041790096163233995, -0.09736444695116658]  3.469447e-18   \n",
       "2087     [-0.03483730967565325, -0.08116553205782367]  0.000000e+00   \n",
       "2088     [-0.05127136782064251, -0.11945434039653048]  1.666667e-02   \n",
       "2089      [-0.06770542596563177, -0.1577431487352373]  3.333333e-02   \n",
       "2090                    [0.0, 2.7755575615628914e-17]  1.666667e-02   \n",
       "\n",
       "                                  o.o        o.nnd o.t_loc   o.cs  ...  \\\n",
       "0     stellarpunk.orders.GoToLocation          inf  [0, 0]  False  ...   \n",
       "1     stellarpunk.orders.GoToLocation  1200.000000  [0, 0]  False  ...   \n",
       "2     stellarpunk.orders.GoToLocation  1200.000000  [0, 0]  False  ...   \n",
       "3     stellarpunk.orders.GoToLocation  1199.999306  [0, 0]  False  ...   \n",
       "4     stellarpunk.orders.GoToLocation  1199.998611  [0, 0]  False  ...   \n",
       "...                               ...          ...     ...    ...  ...   \n",
       "2086  stellarpunk.orders.GoToLocation   484.315250  [0, 0]  False  ...   \n",
       "2087  stellarpunk.orders.GoToLocation   484.315736  [0, 0]  False  ...   \n",
       "2088  stellarpunk.orders.GoToLocation   484.316110  [0, 0]  False  ...   \n",
       "2089  stellarpunk.orders.GoToLocation   484.316423  [0, 0]  False  ...   \n",
       "2090  stellarpunk.orders.GoToLocation   484.316882  [0, 0]  False  ...   \n",
       "\n",
       "               v.y o.ct_loc.x  o.ct_loc.y o.t_loc.x  o.t_loc.y     angle.x  \\\n",
       "0     0.000000e+00        NaN         NaN         0          0  100.000000   \n",
       "1    -4.166667e-02        NaN         NaN         0          0  100.000000   \n",
       "2    -4.166667e-02        0.0      1200.0         0          0   99.999996   \n",
       "3    -8.333333e-02        NaN         NaN         0          0   99.999996   \n",
       "4    -1.250000e-01        NaN         NaN         0          0   99.999985   \n",
       "...            ...        ...         ...       ...        ...         ...   \n",
       "2086 -9.736445e-02        NaN         NaN         0          0   39.032937   \n",
       "2087 -8.116553e-02        NaN         NaN         0          0   39.441740   \n",
       "2088 -1.194543e-01        NaN         NaN         0          0   39.441740   \n",
       "2089 -1.577431e-01        NaN         NaN         0          0   39.416212   \n",
       "2090  2.775558e-17        NaN         NaN         0          0   39.365148   \n",
       "\n",
       "        angle.y         speed    o_ct_dist     o_t_dist  \n",
       "0      0.000000  0.000000e+00          NaN  2400.000000  \n",
       "1      0.000000  4.166667e-02          NaN  2400.000000  \n",
       "2     -0.027778  5.279158e-02  1199.999306  2399.999306  \n",
       "3     -0.027778  8.941495e-02          NaN  2399.998611  \n",
       "4     -0.055556  1.291330e-01          NaN  2399.997222  \n",
       "...         ...           ...          ...          ...  \n",
       "2086  92.067528  1.059540e-01          NaN  1000.014155  \n",
       "2087  91.893140  8.832600e-02          NaN  1000.012389  \n",
       "2088  91.893140  1.299927e-01          NaN  1000.010917  \n",
       "2089  91.904093  1.716593e-01          NaN  1000.008750  \n",
       "2090  91.925976  2.775558e-17          NaN  1000.005889  \n",
       "\n",
       "[2091 rows x 27 columns]"
      ]
     },
     "execution_count": 6,
     "metadata": {},
     "output_type": "execute_result"
    }
   ],
   "source": [
    "df"
   ]
  },
  {
   "cell_type": "code",
   "execution_count": 7,
   "id": "3ee243c8",
   "metadata": {},
   "outputs": [
    {
     "data": {
      "text/plain": [
       "0       100.000000\n",
       "1       100.000000\n",
       "2        99.999996\n",
       "3        99.999996\n",
       "4        99.999985\n",
       "           ...    \n",
       "2086     39.032937\n",
       "2087     39.441740\n",
       "2088     39.441740\n",
       "2089     39.416212\n",
       "2090     39.365148\n",
       "Name: angle.x, Length: 2091, dtype: float64"
      ]
     },
     "execution_count": 7,
     "metadata": {},
     "output_type": "execute_result"
    }
   ],
   "source": [
    "df[\"angle.x\"]"
   ]
  },
  {
   "cell_type": "code",
   "execution_count": 8,
   "id": "95c10b2f",
   "metadata": {},
   "outputs": [
    {
     "data": {
      "text/plain": [
       "<matplotlib.quiver.Quiver at 0x7f5b40312290>"
      ]
     },
     "execution_count": 8,
     "metadata": {},
     "output_type": "execute_result"
    },
    {
     "data": {
      "image/png": "[encoded data removed]",
      "text/plain": [
       "<Figure size 432x288 with 1 Axes>"
      ]
     },
     "metadata": {
      "needs_background": "light"
     },
     "output_type": "display_data"
    }
   ],
   "source": [
    "#plt.scatter(df[\"loc.x\"], df[\"loc.y\"])\n",
    "#plt.axis('square')\n",
    "plt.quiver(df[\"loc.x\"], df[\"loc.y\"], df[\"angle.x\"], df[\"angle.y\"])#, scale=100)\n",
    "#center = (0,2500)\n",
    "#radius = 10000\n",
    "#plt.xlim(center[0]-radius,center[0]+radius)\n",
    "#plt.ylim(center[1]-radius,center[1]+radius)"
   ]
  },
  {
   "cell_type": "code",
   "execution_count": 9,
   "id": "1e56b944",
   "metadata": {},
   "outputs": [
    {
     "data": {
      "text/plain": [
       "<matplotlib.collections.PathCollection at 0x7f5b3e2014b0>"
      ]
     },
     "execution_count": 9,
     "metadata": {},
     "output_type": "execute_result"
    },
    {
     "data": {
      "image/png": "[encoded data removed]",
      "text/plain": [
       "<Figure size 432x288 with 1 Axes>"
      ]
     },
     "metadata": {
      "needs_background": "light"
     },
     "output_type": "display_data"
    }
   ],
   "source": [
    "plt.scatter(df[\"ts\"], df[\"loc.x\"])\n",
    "plt.scatter(df[\"ts\"], df[\"loc.y\"])"
   ]
  },
  {
   "cell_type": "code",
   "execution_count": 10,
   "id": "1f71000e",
   "metadata": {},
   "outputs": [
    {
     "data": {
      "text/plain": [
       "<matplotlib.collections.PathCollection at 0x7f5b484ae8f0>"
      ]
     },
     "execution_count": 10,
     "metadata": {},
     "output_type": "execute_result"
    },
    {
     "data": {
      "image/png": "[encoded data removed]",
      "text/plain": [
       "<Figure size 432x288 with 1 Axes>"
      ]
     },
     "metadata": {
      "needs_background": "light"
     },
     "output_type": "display_data"
    }
   ],
   "source": [
    "plt.scatter(df[\"ts\"], df[\"speed\"])"
   ]
  },
  {
   "cell_type": "code",
   "execution_count": 11,
   "id": "2c3b5a9b",
   "metadata": {},
   "outputs": [
    {
     "data": {
      "text/plain": [
       "<matplotlib.collections.PathCollection at 0x7f5b3e0149a0>"
      ]
     },
     "execution_count": 11,
     "metadata": {},
     "output_type": "execute_result"
    },
    {
     "data": {
      "image/png": "[encoded data removed]",
      "text/plain": [
       "<Figure size 432x288 with 1 Axes>"
      ]
     },
     "metadata": {
      "needs_background": "light"
     },
     "output_type": "display_data"
    }
   ],
   "source": [
    "plt.scatter(df[\"ts\"], df[\"v.x\"])\n",
    "plt.scatter(df[\"ts\"], df[\"v.y\"])"
   ]
  },
  {
   "cell_type": "code",
   "execution_count": 12,
   "id": "731f0769",
   "metadata": {},
   "outputs": [
    {
     "data": {
      "text/plain": [
       "(0.0, 0.020000000000000993)"
      ]
     },
     "execution_count": 12,
     "metadata": {},
     "output_type": "execute_result"
    },
    {
     "data": {
      "image/png": "[encoded data removed]",
      "text/plain": [
       "<Figure size 432x288 with 2 Axes>"
      ]
     },
     "metadata": {
      "needs_background": "light"
     },
     "output_type": "display_data"
    }
   ],
   "source": [
    "fig, ax1 = plt.subplots()\n",
    "ax2 = ax1.twinx()\n",
    "\n",
    "ax1.scatter(df[\"ts\"], 1-df[\"o.ct\"].isna().astype(int))\n",
    "ax2.scatter(df[\"ts\"], df[\"ts\"] - df[\"o.ct_ts\"], color=\"orange\")\n",
    "\n",
    "ax2.set_ylim(0,(df[\"ts\"] - df[\"o.ct_ts\"]).max()*1.2)"
   ]
  },
  {
   "cell_type": "code",
   "execution_count": 13,
   "id": "fcbf4606",
   "metadata": {},
   "outputs": [
    {
     "data": {
      "text/plain": [
       "<matplotlib.collections.PathCollection at 0x7f5b3df13820>"
      ]
     },
     "execution_count": 13,
     "metadata": {},
     "output_type": "execute_result"
    },
    {
     "data": {
      "image/png": "[encoded data removed]",
      "text/plain": [
       "<Figure size 432x288 with 1 Axes>"
      ]
     },
     "metadata": {
      "needs_background": "light"
     },
     "output_type": "display_data"
    }
   ],
   "source": [
    "plt.scatter(df[\"ts\"], df[\"o.cs\"].fillna(0).astype(int))\n",
    "plt.scatter(df[\"ts\"], df[\"o.cac\"].fillna(0).astype(int))"
   ]
  },
  {
   "cell_type": "code",
   "execution_count": 14,
   "id": "aebfac30",
   "metadata": {},
   "outputs": [
    {
     "data": {
      "text/plain": [
       "<matplotlib.collections.PathCollection at 0x7f5b3dfa6c50>"
      ]
     },
     "execution_count": 14,
     "metadata": {},
     "output_type": "execute_result"
    },
    {
     "data": {
      "image/png": "[encoded data removed]",
      "text/plain": [
       "<Figure size 432x288 with 1 Axes>"
      ]
     },
     "metadata": {
      "needs_background": "light"
     },
     "output_type": "display_data"
    }
   ],
   "source": [
    "plt.scatter(df[\"ts\"], df[\"o_ct_dist\"])"
   ]
  },
  {
   "cell_type": "code",
   "execution_count": 15,
   "id": "a8f5f49d",
   "metadata": {},
   "outputs": [
    {
     "data": {
      "text/html": [
       "<div>\n",
       "<style scoped>\n",
       "    .dataframe tbody tr th:only-of-type {\n",
       "        vertical-align: middle;\n",
       "    }\n",
       "\n",
       "    .dataframe tbody tr th {\n",
       "        vertical-align: top;\n",
       "    }\n",
       "\n",
       "    .dataframe thead th {\n",
       "        text-align: right;\n",
       "    }\n",
       "</style>\n",
       "<table border=\"1\" class=\"dataframe\">\n",
       "  <thead>\n",
       "    <tr style=\"text-align: right;\">\n",
       "      <th></th>\n",
       "      <th>count</th>\n",
       "      <th>mean</th>\n",
       "      <th>std</th>\n",
       "      <th>min</th>\n",
       "      <th>25%</th>\n",
       "      <th>50%</th>\n",
       "      <th>75%</th>\n",
       "      <th>max</th>\n",
       "    </tr>\n",
       "    <tr>\n",
       "      <th>o.ct</th>\n",
       "      <th></th>\n",
       "      <th></th>\n",
       "      <th></th>\n",
       "      <th></th>\n",
       "      <th></th>\n",
       "      <th></th>\n",
       "      <th></th>\n",
       "      <th></th>\n",
       "    </tr>\n",
       "  </thead>\n",
       "  <tbody>\n",
       "    <tr>\n",
       "      <th>771d5cf5-c555-4435-be1a-7d51917d266c</th>\n",
       "      <td>734.0</td>\n",
       "      <td>14.308401</td>\n",
       "      <td>7.945961</td>\n",
       "      <td>0.033333</td>\n",
       "      <td>7.2375</td>\n",
       "      <td>14.958333</td>\n",
       "      <td>20.645833</td>\n",
       "      <td>26.483333</td>\n",
       "    </tr>\n",
       "  </tbody>\n",
       "</table>\n",
       "</div>"
      ],
      "text/plain": [
       "                                      count       mean       std       min  \\\n",
       "o.ct                                                                         \n",
       "771d5cf5-c555-4435-be1a-7d51917d266c  734.0  14.308401  7.945961  0.033333   \n",
       "\n",
       "                                         25%        50%        75%        max  \n",
       "o.ct                                                                           \n",
       "771d5cf5-c555-4435-be1a-7d51917d266c  7.2375  14.958333  20.645833  26.483333  "
      ]
     },
     "execution_count": 15,
     "metadata": {},
     "output_type": "execute_result"
    }
   ],
   "source": [
    "df.groupby(\"o.ct\")[\"ts\"].describe()"
   ]
  },
  {
   "cell_type": "code",
   "execution_count": 16,
   "id": "e69a08b7",
   "metadata": {},
   "outputs": [
    {
     "data": {
      "text/plain": [
       "<matplotlib.collections.PathCollection at 0x7f5b3df1d240>"
      ]
     },
     "execution_count": 16,
     "metadata": {},
     "output_type": "execute_result"
    },
    {
     "data": {
      "image/png": "[encoded data removed]",
      "text/plain": [
       "<Figure size 432x288 with 1 Axes>"
      ]
     },
     "metadata": {
      "needs_background": "light"
     },
     "output_type": "display_data"
    }
   ],
   "source": [
    "plt.scatter(df[\"ts\"], df[\"o_t_dist\"])"
   ]
  },
  {
   "cell_type": "code",
   "execution_count": 17,
   "id": "7549aca9",
   "metadata": {},
   "outputs": [
    {
     "data": {
      "text/html": [
       "<div>\n",
       "<style scoped>\n",
       "    .dataframe tbody tr th:only-of-type {\n",
       "        vertical-align: middle;\n",
       "    }\n",
       "\n",
       "    .dataframe tbody tr th {\n",
       "        vertical-align: top;\n",
       "    }\n",
       "\n",
       "    .dataframe thead th {\n",
       "        text-align: right;\n",
       "    }\n",
       "</style>\n",
       "<table border=\"1\" class=\"dataframe\">\n",
       "  <thead>\n",
       "    <tr style=\"text-align: right;\">\n",
       "      <th></th>\n",
       "      <th></th>\n",
       "      <th>count</th>\n",
       "      <th>mean</th>\n",
       "      <th>std</th>\n",
       "      <th>min</th>\n",
       "      <th>25%</th>\n",
       "      <th>50%</th>\n",
       "      <th>75%</th>\n",
       "      <th>max</th>\n",
       "    </tr>\n",
       "    <tr>\n",
       "      <th>o.t_loc.x</th>\n",
       "      <th>o.t_loc.y</th>\n",
       "      <th></th>\n",
       "      <th></th>\n",
       "      <th></th>\n",
       "      <th></th>\n",
       "      <th></th>\n",
       "      <th></th>\n",
       "      <th></th>\n",
       "      <th></th>\n",
       "    </tr>\n",
       "  </thead>\n",
       "  <tbody>\n",
       "    <tr>\n",
       "      <th>0</th>\n",
       "      <th>0</th>\n",
       "      <td>2091.0</td>\n",
       "      <td>17.416667</td>\n",
       "      <td>10.062734</td>\n",
       "      <td>0.0</td>\n",
       "      <td>8.708333</td>\n",
       "      <td>17.416667</td>\n",
       "      <td>26.125</td>\n",
       "      <td>34.833333</td>\n",
       "    </tr>\n",
       "  </tbody>\n",
       "</table>\n",
       "</div>"
      ],
      "text/plain": [
       "                      count       mean        std  min       25%        50%  \\\n",
       "o.t_loc.x o.t_loc.y                                                           \n",
       "0         0          2091.0  17.416667  10.062734  0.0  8.708333  17.416667   \n",
       "\n",
       "                        75%        max  \n",
       "o.t_loc.x o.t_loc.y                     \n",
       "0         0          26.125  34.833333  "
      ]
     },
     "execution_count": 17,
     "metadata": {},
     "output_type": "execute_result"
    }
   ],
   "source": [
    "df.groupby([\"o.t_loc.x\", \"o.t_loc.y\"])[\"ts\"].describe().sort_values([\"min\"])"
   ]
  },
  {
   "cell_type": "code",
   "execution_count": 18,
   "id": "9db4a125",
   "metadata": {},
   "outputs": [
    {
     "data": {
      "text/plain": [
       "(3000.0, 3000.0)"
      ]
     },
     "execution_count": 18,
     "metadata": {},
     "output_type": "execute_result"
    },
    {
     "data": {
      "image/png": "[encoded data removed]",
      "text/plain": [
       "<Figure size 432x288 with 1 Axes>"
      ]
     },
     "metadata": {
      "needs_background": "light"
     },
     "output_type": "display_data"
    }
   ],
   "source": [
    "plt.quiver(df[\"loc.x\"], df[\"loc.y\"], df[\"v.x\"], df[\"v.y\"])\n",
    "plt.scatter(df[\"o.ct_loc.x\"], df[\"o.ct_loc.y\"])\n",
    "plt.scatter(df[\"o.t_loc.x\"], df[\"o.t_loc.y\"])\n",
    "#plt.axis('square')\n",
    "center = (0,1000)\n",
    "radius = 1500\n",
    "plt.xlim(center[0]-radius,center[0]+radius)\n",
    "plt.ylim(center[1]-radius,center[1]+radius)\n",
    "plt.gca().get_xlim()[1]-plt.gca().get_xlim()[0], plt.gca().get_ylim()[1]-plt.gca().get_ylim()[0]"
   ]
  },
  {
   "cell_type": "code",
   "execution_count": null,
   "id": "7698f327",
   "metadata": {},
   "outputs": [],
   "source": []
  }
 ],
 "metadata": {
  "kernelspec": {
   "display_name": "Python 3 (ipykernel)",
   "language": "python",
   "name": "python3"
  },
  "language_info": {
   "codemirror_mode": {
    "name": "ipython",
    "version": 3
   },
   "file_extension": ".py",
   "mimetype": "text/x-python",
   "name": "python",
   "nbconvert_exporter": "python",
   "pygments_lexer": "ipython3",
   "version": "3.10.1"
  }
 },
 "nbformat": 4,
 "nbformat_minor": 5
}
