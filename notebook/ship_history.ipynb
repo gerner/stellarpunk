{
 "cells": [
  {
   "cell_type": "code",
   "execution_count": 1,
   "id": "9c5bbe2a",
   "metadata": {},
   "outputs": [],
   "source": [
    "import json\n",
    "\n",
    "import pandas as pd\n",
    "import numpy as np\n",
    "from matplotlib import pyplot as plt\n",
    "import ipywidgets\n",
    "\n",
    "from stellarpunk import util"
   ]
  },
  {
   "cell_type": "markdown",
   "id": "d6d53462",
   "metadata": {},
   "source": [
    "# Loading and Preparing Data"
   ]
  },
  {
   "cell_type": "code",
   "execution_count": 2,
   "id": "ceb18552",
   "metadata": {},
   "outputs": [],
   "source": [
    "df_base = pd.read_json(\"/tmp/stellarpunk.history.gz\", lines=True)\n",
    "df_base = df_base.join(pd.json_normalize(df_base[\"o\"]).add_prefix(\"o.\"))"
   ]
  },
  {
   "cell_type": "code",
   "execution_count": 3,
   "id": "1585e6a6",
   "metadata": {},
   "outputs": [
    {
     "data": {
      "text/plain": [
       "0      c59084f4-729a-4248-a701-82d45dfdcd68\n",
       "1      0bd1b178-f5e3-4577-a634-f8a21c60d982\n",
       "2      62bc080f-6120-4960-8871-17c28667eeb2\n",
       "3      da0b5741-0e24-43cc-8671-0b559977c63f\n",
       "4      52dc5477-ebd3-4632-8f48-005c34d5bd1b\n",
       "                       ...                 \n",
       "138    3674f40d-1c96-45ac-a29f-9abcf6eece45\n",
       "139    b28cae04-0306-4cd8-af46-4603628f7816\n",
       "140    c7504814-7637-4564-b20a-346217c31c8a\n",
       "141    50ea57e4-3a68-428f-a378-8c310bbe234a\n",
       "142    5844fa90-882c-4685-963e-fe3efb0bd523\n",
       "Length: 143, dtype: object"
      ]
     },
     "execution_count": 3,
     "metadata": {},
     "output_type": "execute_result"
    }
   ],
   "source": [
    "eids = pd.Series(df_base[\"eid\"].unique())\n",
    "eids"
   ]
  },
  {
   "cell_type": "code",
   "execution_count": 4,
   "id": "288e3f1e",
   "metadata": {},
   "outputs": [
    {
     "data": {
      "text/plain": [
       "134    670fff17-7333-4b69-be59-98d00286dc6f\n",
       "dtype: object"
      ]
     },
     "execution_count": 4,
     "metadata": {},
     "output_type": "execute_result"
    }
   ],
   "source": [
    "eids[pd.Series(df_base[\"eid\"].unique()).str.startswith(\"670f\")]"
   ]
  },
  {
   "cell_type": "code",
   "execution_count": 5,
   "id": "c9be6491",
   "metadata": {},
   "outputs": [
    {
     "data": {
      "text/plain": [
       "array(['670fff17-7333-4b69-be59-98d00286dc6f'], dtype=object)"
      ]
     },
     "execution_count": 5,
     "metadata": {},
     "output_type": "execute_result"
    }
   ],
   "source": [
    "target_eid = df_base[\"eid\"].unique()[134]\n",
    "df_base = df_base[df_base[\"eid\"] == target_eid].reset_index()\n",
    "df_base[\"eid\"].unique()"
   ]
  },
  {
   "cell_type": "code",
   "execution_count": 6,
   "id": "b77f957c",
   "metadata": {},
   "outputs": [],
   "source": [
    "loc = pd.DataFrame(np.vstack(df_base[\"loc\"]), columns=[\"loc.x\", \"loc.y\"])\n",
    "v = pd.DataFrame(np.vstack(df_base[\"v\"]), columns=[\"v.x\", \"v.y\"])\n",
    "\n",
    "empty_array = np.empty(len(df_base))\n",
    "empty_array[:] = np.nan\n",
    "\n",
    "if \"o.t_loc\" in df_base:\n",
    "    o_tloc = pd.DataFrame(np.vstack(df_base[\"o.t_loc\"].apply(lambda x: (np.nan, np.nan) if np.all(np.isnan(x)) else x)), columns=[\"o.t_loc.x\", \"o.t_loc.y\"])\n",
    "    o_tv = pd.DataFrame(np.vstack(df_base[\"o.t_v\"].apply(lambda x: (np.nan, np.nan) if np.all(np.isnan(x)) else x)), columns=[\"o.t_v.x\", \"o.t_v.y\"])\n",
    "else:\n",
    "    o_tloc = pd.DataFrame({\"o.t_loc\": empty_array, \"o.t_loc.x\": empty_array, \"o.t_loc.y\": empty_array})\n",
    "    o_tv = pd.DataFrame({\"o.t_v\": empty_array, \"o.t_v.x\": empty_array, \"o.t_v.y\": empty_array})\n",
    "    \n",
    "if \"o.ct\" in df_base:\n",
    "    o_ctloc = pd.DataFrame(np.vstack(df_base[\"o.ct_loc\"].apply(lambda x: (np.nan, np.nan) if np.all(np.isnan(x)) else x)), columns=[\"o.ct_loc.x\", \"o.ct_loc.y\"])\n",
    "    o_ctdv = pd.DataFrame(np.vstack(df_base[\"o.ct_dv\"].apply(lambda x: (np.nan, np.nan) if np.all(np.isnan(x)) else x)), columns=[\"o.ct_dv.x\", \"o.ct_dv.y\"])\n",
    "    o_ctv = pd.DataFrame(np.vstack(df_base[\"o.ct_v\"].apply(lambda x: (np.nan, np.nan) if np.all(np.isnan(x)) else x)), columns=[\"o.ct_v.x\", \"o.ct_v.y\"])\n",
    "    o_ctcloc = pd.DataFrame(np.vstack(df_base[\"o.ct_cloc\"].apply(lambda x: (np.nan, np.nan) if np.all(np.isnan(x)) else x)), columns=[\"o.ct_cloc.x\", \"o.ct_cloc.y\"])\n",
    "else:\n",
    "    o_ctloc = pd.DataFrame({\"o.ct_loc\": empty_array, \"o.ct_loc.x\": empty_array, \"o.ct_loc.y\": empty_array})\n",
    "    o_ctdv = pd.DataFrame({\"o.ct_dv\": empty_array, \"o.ct_dv.x\": empty_array, \"o.ct_dv.y\": empty_array})\n",
    "    o_ctv = pd.DataFrame({\"o.ct_v\": empty_array, \"o.ct_v.x\": empty_array, \"o.ct_v.y\": empty_array})\n",
    "    o_ctcloc = pd.DataFrame({\"o.ct_cloc\": empty_array, \"o.ct_cloc.x\": empty_array, \"o.ct_cloc.y\": empty_array})\n",
    "angle = pd.DataFrame(np.vstack(df_base.apply(lambda row: np.array(util.polar_to_cartesian(100, row[\"a\"])), axis=1)), columns=[\"angle.x\", \"angle.y\"])\n",
    "df = pd.concat([df_base, loc, v, o_ctloc, o_ctcloc, o_ctdv, o_ctv, o_tloc, o_tv, angle], axis=1)\n",
    "\n",
    "if \"o.ct\" not in df_base:\n",
    "    df[\"o.ct\"] = empty_array\n",
    "    df[\"o.ct_ts\"] = empty_array\n",
    "    df[\"o.cac\"] = empty_array\n",
    "    df[\"o.cbdr\"] = empty_array\n",
    "    df[\"o.ct_ct\"] = empty_array\n",
    "    df[\"o.ct_cradius\"] = empty_array\n",
    "    df[\"o.nd\"] = empty_array\n",
    "    df[\"o.ct_dist\"] = empty_array\n",
    "else:\n",
    "    df[\"o.ct_dist\"] = np.linalg.norm(np.vstack(df[\"loc\"]) - np.vstack(df[\"o.ct_cloc\"].apply(lambda x: (np.nan, np.nan) if np.all(np.isnan(x)) else x)), axis=1)\n",
    "    \n",
    "if \"o.t_loc\" not in df_base:\n",
    "    df[\"o.cs\"] = empty_array\n",
    "    df[\"o.t_dist\"] = empty_array\n",
    "else:\n",
    "    df[\"o.t_dist\"] = np.linalg.norm(np.vstack(df[\"loc\"]) - np.vstack(df[\"o.t_loc\"].apply(lambda x: (np.nan, np.nan) if np.all(np.isnan(x)) else x)), axis=1)"
   ]
  },
  {
   "cell_type": "code",
   "execution_count": 7,
   "id": "6e17314e",
   "metadata": {},
   "outputs": [],
   "source": [
    "df[\"speed\"] = np.linalg.norm(df[[\"v.x\", \"v.y\"]], axis=1)\n",
    "df[\"o.t_speed\"] = np.linalg.norm(df[[\"o.t_v.x\", \"o.t_v.y\"]], axis=1)\n",
    "df[\"f_mag\"] = df[\"f\"].apply(lambda x:np.linalg.norm(x))"
   ]
  },
  {
   "cell_type": "code",
   "execution_count": 8,
   "id": "39640462",
   "metadata": {},
   "outputs": [],
   "source": [
    "#df[\"o.ct_v.x\"] = (df[\"o.ct_loc.x\"].shift(1) - df[\"o.ct_loc.x\"]) / (df[\"ts\"].shift(1) - df[\"ts\"])\n",
    "#df[\"o.ct_v.y\"] = (df[\"o.ct_loc.y\"].shift(1) - df[\"o.ct_loc.y\"]) / (df[\"ts\"].shift(1) - df[\"ts\"])"
   ]
  },
  {
   "cell_type": "code",
   "execution_count": 9,
   "id": "34fd5383",
   "metadata": {},
   "outputs": [
    {
     "data": {
      "text/html": [
       "<div>\n",
       "<style scoped>\n",
       "    .dataframe tbody tr th:only-of-type {\n",
       "        vertical-align: middle;\n",
       "    }\n",
       "\n",
       "    .dataframe tbody tr th {\n",
       "        vertical-align: top;\n",
       "    }\n",
       "\n",
       "    .dataframe thead th {\n",
       "        text-align: right;\n",
       "    }\n",
       "</style>\n",
       "<table border=\"1\" class=\"dataframe\">\n",
       "  <thead>\n",
       "    <tr style=\"text-align: right;\">\n",
       "      <th></th>\n",
       "      <th>index</th>\n",
       "      <th>p</th>\n",
       "      <th>eid</th>\n",
       "      <th>ts</th>\n",
       "      <th>loc</th>\n",
       "      <th>r</th>\n",
       "      <th>a</th>\n",
       "      <th>v</th>\n",
       "      <th>av</th>\n",
       "      <th>f</th>\n",
       "      <th>...</th>\n",
       "      <th>o.t_loc.y</th>\n",
       "      <th>o.t_v.x</th>\n",
       "      <th>o.t_v.y</th>\n",
       "      <th>angle.x</th>\n",
       "      <th>angle.y</th>\n",
       "      <th>o.ct_dist</th>\n",
       "      <th>o.t_dist</th>\n",
       "      <th>speed</th>\n",
       "      <th>o.t_speed</th>\n",
       "      <th>f_mag</th>\n",
       "    </tr>\n",
       "  </thead>\n",
       "  <tbody>\n",
       "    <tr>\n",
       "      <th>0</th>\n",
       "      <td>17756</td>\n",
       "      <td>SHP</td>\n",
       "      <td>670fff17-7333-4b69-be59-98d00286dc6f</td>\n",
       "      <td>0.050000</td>\n",
       "      <td>[-21433.204187126998, -202744.2750700287]</td>\n",
       "      <td>30</td>\n",
       "      <td>2.780308</td>\n",
       "      <td>[-28.724110477780894, 10.694609039977989]</td>\n",
       "      <td>-0.138938</td>\n",
       "      <td>[8399.15977116526, 5427.164557892007]</td>\n",
       "      <td>...</td>\n",
       "      <td>-176853.048725</td>\n",
       "      <td>826.326960</td>\n",
       "      <td>563.190691</td>\n",
       "      <td>-93.544348</td>\n",
       "      <td>35.347630</td>\n",
       "      <td>NaN</td>\n",
       "      <td>45972.397540</td>\n",
       "      <td>30.650435</td>\n",
       "      <td>1000.000000</td>\n",
       "      <td>10000.0</td>\n",
       "    </tr>\n",
       "    <tr>\n",
       "      <th>1</th>\n",
       "      <td>17757</td>\n",
       "      <td>SHP</td>\n",
       "      <td>670fff17-7333-4b69-be59-98d00286dc6f</td>\n",
       "      <td>0.216667</td>\n",
       "      <td>[-21437.939043319187, -202742.45871665693]</td>\n",
       "      <td>30</td>\n",
       "      <td>2.732152</td>\n",
       "      <td>[-28.0241623727131, 11.146844702218454]</td>\n",
       "      <td>-0.472271</td>\n",
       "      <td>[8399.64305798508, 5426.416543027548]</td>\n",
       "      <td>...</td>\n",
       "      <td>-176853.048725</td>\n",
       "      <td>826.378009</td>\n",
       "      <td>563.115785</td>\n",
       "      <td>-91.734349</td>\n",
       "      <td>39.809662</td>\n",
       "      <td>NaN</td>\n",
       "      <td>45975.287315</td>\n",
       "      <td>30.159672</td>\n",
       "      <td>1000.000000</td>\n",
       "      <td>10000.0</td>\n",
       "    </tr>\n",
       "    <tr>\n",
       "      <th>2</th>\n",
       "      <td>17758</td>\n",
       "      <td>SHP</td>\n",
       "      <td>670fff17-7333-4b69-be59-98d00286dc6f</td>\n",
       "      <td>0.383333</td>\n",
       "      <td>[-21442.55723847354, -202740.5669953498]</td>\n",
       "      <td>30</td>\n",
       "      <td>2.628440</td>\n",
       "      <td>[-27.32417399851748, 11.599018031795902]</td>\n",
       "      <td>-0.805605</td>\n",
       "      <td>[8400.126218042315, 5425.668578245278]</td>\n",
       "      <td>...</td>\n",
       "      <td>-176853.048725</td>\n",
       "      <td>826.429002</td>\n",
       "      <td>563.040944</td>\n",
       "      <td>-87.120099</td>\n",
       "      <td>49.092650</td>\n",
       "      <td>NaN</td>\n",
       "      <td>45978.038621</td>\n",
       "      <td>29.684132</td>\n",
       "      <td>1000.000000</td>\n",
       "      <td>10000.0</td>\n",
       "    </tr>\n",
       "    <tr>\n",
       "      <th>3</th>\n",
       "      <td>17759</td>\n",
       "      <td>SHP</td>\n",
       "      <td>670fff17-7333-4b69-be59-98d00286dc6f</td>\n",
       "      <td>0.550000</td>\n",
       "      <td>[-21447.05876587931, -202738.59991649576]</td>\n",
       "      <td>30</td>\n",
       "      <td>2.469172</td>\n",
       "      <td>[-26.624145365647284, 12.051129032715112]</td>\n",
       "      <td>-1.138938</td>\n",
       "      <td>[8400.609254277782, 5424.920659045851]</td>\n",
       "      <td>...</td>\n",
       "      <td>-176853.048725</td>\n",
       "      <td>826.479941</td>\n",
       "      <td>562.966169</td>\n",
       "      <td>-78.231637</td>\n",
       "      <td>62.288128</td>\n",
       "      <td>NaN</td>\n",
       "      <td>45980.651456</td>\n",
       "      <td>29.224559</td>\n",
       "      <td>1000.000000</td>\n",
       "      <td>10000.0</td>\n",
       "    </tr>\n",
       "    <tr>\n",
       "      <th>4</th>\n",
       "      <td>17760</td>\n",
       "      <td>SHP</td>\n",
       "      <td>670fff17-7333-4b69-be59-98d00286dc6f</td>\n",
       "      <td>0.716667</td>\n",
       "      <td>[-21451.44361882749, -202736.5574904827]</td>\n",
       "      <td>30</td>\n",
       "      <td>2.254349</td>\n",
       "      <td>[-25.924076484310806, 12.503177708605975]</td>\n",
       "      <td>-1.472271</td>\n",
       "      <td>[8401.092169629152, 5424.172780931279]</td>\n",
       "      <td>...</td>\n",
       "      <td>-176853.048725</td>\n",
       "      <td>826.530826</td>\n",
       "      <td>562.891459</td>\n",
       "      <td>-63.155176</td>\n",
       "      <td>77.533372</td>\n",
       "      <td>NaN</td>\n",
       "      <td>45983.125820</td>\n",
       "      <td>28.781716</td>\n",
       "      <td>1000.000000</td>\n",
       "      <td>10000.0</td>\n",
       "    </tr>\n",
       "    <tr>\n",
       "      <th>...</th>\n",
       "      <td>...</td>\n",
       "      <td>...</td>\n",
       "      <td>...</td>\n",
       "      <td>...</td>\n",
       "      <td>...</td>\n",
       "      <td>...</td>\n",
       "      <td>...</td>\n",
       "      <td>...</td>\n",
       "      <td>...</td>\n",
       "      <td>...</td>\n",
       "      <td>...</td>\n",
       "      <td>...</td>\n",
       "      <td>...</td>\n",
       "      <td>...</td>\n",
       "      <td>...</td>\n",
       "      <td>...</td>\n",
       "      <td>...</td>\n",
       "      <td>...</td>\n",
       "      <td>...</td>\n",
       "      <td>...</td>\n",
       "      <td>...</td>\n",
       "    </tr>\n",
       "    <tr>\n",
       "      <th>1598</th>\n",
       "      <td>19354</td>\n",
       "      <td>SHP</td>\n",
       "      <td>670fff17-7333-4b69-be59-98d00286dc6f</td>\n",
       "      <td>765.863604</td>\n",
       "      <td>[137548.99604525333, -108069.99112259099]</td>\n",
       "      <td>30</td>\n",
       "      <td>15.690113</td>\n",
       "      <td>[474.8043504354045, 20.40597970856442]</td>\n",
       "      <td>0.153998</td>\n",
       "      <td>[-8902.270278770067, 4555.171114648395]</td>\n",
       "      <td>...</td>\n",
       "      <td>-108168.015075</td>\n",
       "      <td>315.201317</td>\n",
       "      <td>-3.183313</td>\n",
       "      <td>-99.984068</td>\n",
       "      <td>1.784976</td>\n",
       "      <td>1783.485018</td>\n",
       "      <td>9706.508226</td>\n",
       "      <td>475.242649</td>\n",
       "      <td>315.217391</td>\n",
       "      <td>10000.0</td>\n",
       "    </tr>\n",
       "    <tr>\n",
       "      <th>1599</th>\n",
       "      <td>19355</td>\n",
       "      <td>SHP</td>\n",
       "      <td>670fff17-7333-4b69-be59-98d00286dc6f</td>\n",
       "      <td>766.536209</td>\n",
       "      <td>[137867.45850581522, -108055.7785764606]</td>\n",
       "      <td>30</td>\n",
       "      <td>15.386535</td>\n",
       "      <td>[471.88559425655063, 22.073357062532008]</td>\n",
       "      <td>-1.016565</td>\n",
       "      <td>[-8274.29709974151, 5615.692967498244]</td>\n",
       "      <td>...</td>\n",
       "      <td>-108168.015075</td>\n",
       "      <td>315.194865</td>\n",
       "      <td>-3.768434</td>\n",
       "      <td>-94.878509</td>\n",
       "      <td>31.592224</td>\n",
       "      <td>1506.557219</td>\n",
       "      <td>9388.221711</td>\n",
       "      <td>472.401574</td>\n",
       "      <td>315.217391</td>\n",
       "      <td>10000.0</td>\n",
       "    </tr>\n",
       "    <tr>\n",
       "      <th>1600</th>\n",
       "      <td>19356</td>\n",
       "      <td>SHP</td>\n",
       "      <td>670fff17-7333-4b69-be59-98d00286dc6f</td>\n",
       "      <td>767.208814</td>\n",
       "      <td>[138174.54376098356, -108032.93625756935]</td>\n",
       "      <td>30</td>\n",
       "      <td>14.958134</td>\n",
       "      <td>[429.8527021189555, 56.65333326768933]</td>\n",
       "      <td>-0.314058</td>\n",
       "      <td>[-141988.72977498552, 140851.6972453159]</td>\n",
       "      <td>...</td>\n",
       "      <td>-108168.015075</td>\n",
       "      <td>315.182520</td>\n",
       "      <td>-4.688579</td>\n",
       "      <td>-73.180504</td>\n",
       "      <td>68.151404</td>\n",
       "      <td>1253.878570</td>\n",
       "      <td>9081.470181</td>\n",
       "      <td>433.570001</td>\n",
       "      <td>315.217391</td>\n",
       "      <td>200000.0</td>\n",
       "    </tr>\n",
       "    <tr>\n",
       "      <th>1601</th>\n",
       "      <td>19357</td>\n",
       "      <td>SHP</td>\n",
       "      <td>670fff17-7333-4b69-be59-98d00286dc6f</td>\n",
       "      <td>767.881419</td>\n",
       "      <td>[138449.4843114459, -107980.22770631064]</td>\n",
       "      <td>30</td>\n",
       "      <td>14.859649</td>\n",
       "      <td>[383.66219662532916, 105.52441998884115]</td>\n",
       "      <td>-0.259518</td>\n",
       "      <td>[-130757.41067712952, 151335.71803448285]</td>\n",
       "      <td>...</td>\n",
       "      <td>-108168.015075</td>\n",
       "      <td>287.063442</td>\n",
       "      <td>-6.121939</td>\n",
       "      <td>-66.124901</td>\n",
       "      <td>75.016648</td>\n",
       "      <td>1050.346443</td>\n",
       "      <td>8807.527143</td>\n",
       "      <td>397.909643</td>\n",
       "      <td>287.128713</td>\n",
       "      <td>200000.0</td>\n",
       "    </tr>\n",
       "    <tr>\n",
       "      <th>1602</th>\n",
       "      <td>19358</td>\n",
       "      <td>SHP</td>\n",
       "      <td>670fff17-7333-4b69-be59-98d00286dc6f</td>\n",
       "      <td>768.554024</td>\n",
       "      <td>[138694.582871109, -107893.55239993831]</td>\n",
       "      <td>30</td>\n",
       "      <td>14.778843</td>\n",
       "      <td>[341.23748981308245, 157.69768258172115]</td>\n",
       "      <td>0.265006</td>\n",
       "      <td>[-118144.26414404347, 161375.13082833576]</td>\n",
       "      <td>...</td>\n",
       "      <td>-108168.015075</td>\n",
       "      <td>286.981248</td>\n",
       "      <td>-9.201135</td>\n",
       "      <td>-59.853882</td>\n",
       "      <td>80.109380</td>\n",
       "      <td>864.865152</td>\n",
       "      <td>8564.825180</td>\n",
       "      <td>375.914330</td>\n",
       "      <td>287.128713</td>\n",
       "      <td>200000.0</td>\n",
       "    </tr>\n",
       "  </tbody>\n",
       "</table>\n",
       "<p>1603 rows × 55 columns</p>\n",
       "</div>"
      ],
      "text/plain": [
       "      index    p                                   eid          ts  \\\n",
       "0     17756  SHP  670fff17-7333-4b69-be59-98d00286dc6f    0.050000   \n",
       "1     17757  SHP  670fff17-7333-4b69-be59-98d00286dc6f    0.216667   \n",
       "2     17758  SHP  670fff17-7333-4b69-be59-98d00286dc6f    0.383333   \n",
       "3     17759  SHP  670fff17-7333-4b69-be59-98d00286dc6f    0.550000   \n",
       "4     17760  SHP  670fff17-7333-4b69-be59-98d00286dc6f    0.716667   \n",
       "...     ...  ...                                   ...         ...   \n",
       "1598  19354  SHP  670fff17-7333-4b69-be59-98d00286dc6f  765.863604   \n",
       "1599  19355  SHP  670fff17-7333-4b69-be59-98d00286dc6f  766.536209   \n",
       "1600  19356  SHP  670fff17-7333-4b69-be59-98d00286dc6f  767.208814   \n",
       "1601  19357  SHP  670fff17-7333-4b69-be59-98d00286dc6f  767.881419   \n",
       "1602  19358  SHP  670fff17-7333-4b69-be59-98d00286dc6f  768.554024   \n",
       "\n",
       "                                             loc   r          a  \\\n",
       "0      [-21433.204187126998, -202744.2750700287]  30   2.780308   \n",
       "1     [-21437.939043319187, -202742.45871665693]  30   2.732152   \n",
       "2       [-21442.55723847354, -202740.5669953498]  30   2.628440   \n",
       "3      [-21447.05876587931, -202738.59991649576]  30   2.469172   \n",
       "4       [-21451.44361882749, -202736.5574904827]  30   2.254349   \n",
       "...                                          ...  ..        ...   \n",
       "1598   [137548.99604525333, -108069.99112259099]  30  15.690113   \n",
       "1599    [137867.45850581522, -108055.7785764606]  30  15.386535   \n",
       "1600   [138174.54376098356, -108032.93625756935]  30  14.958134   \n",
       "1601    [138449.4843114459, -107980.22770631064]  30  14.859649   \n",
       "1602     [138694.582871109, -107893.55239993831]  30  14.778843   \n",
       "\n",
       "                                              v        av  \\\n",
       "0     [-28.724110477780894, 10.694609039977989] -0.138938   \n",
       "1       [-28.0241623727131, 11.146844702218454] -0.472271   \n",
       "2      [-27.32417399851748, 11.599018031795902] -0.805605   \n",
       "3     [-26.624145365647284, 12.051129032715112] -1.138938   \n",
       "4     [-25.924076484310806, 12.503177708605975] -1.472271   \n",
       "...                                         ...       ...   \n",
       "1598     [474.8043504354045, 20.40597970856442]  0.153998   \n",
       "1599   [471.88559425655063, 22.073357062532008] -1.016565   \n",
       "1600     [429.8527021189555, 56.65333326768933] -0.314058   \n",
       "1601   [383.66219662532916, 105.52441998884115] -0.259518   \n",
       "1602   [341.23748981308245, 157.69768258172115]  0.265006   \n",
       "\n",
       "                                              f  ...      o.t_loc.y  \\\n",
       "0         [8399.15977116526, 5427.164557892007]  ... -176853.048725   \n",
       "1         [8399.64305798508, 5426.416543027548]  ... -176853.048725   \n",
       "2        [8400.126218042315, 5425.668578245278]  ... -176853.048725   \n",
       "3        [8400.609254277782, 5424.920659045851]  ... -176853.048725   \n",
       "4        [8401.092169629152, 5424.172780931279]  ... -176853.048725   \n",
       "...                                         ...  ...            ...   \n",
       "1598    [-8902.270278770067, 4555.171114648395]  ... -108168.015075   \n",
       "1599     [-8274.29709974151, 5615.692967498244]  ... -108168.015075   \n",
       "1600   [-141988.72977498552, 140851.6972453159]  ... -108168.015075   \n",
       "1601  [-130757.41067712952, 151335.71803448285]  ... -108168.015075   \n",
       "1602  [-118144.26414404347, 161375.13082833576]  ... -108168.015075   \n",
       "\n",
       "         o.t_v.x     o.t_v.y    angle.x    angle.y    o.ct_dist      o.t_dist  \\\n",
       "0     826.326960  563.190691 -93.544348  35.347630          NaN  45972.397540   \n",
       "1     826.378009  563.115785 -91.734349  39.809662          NaN  45975.287315   \n",
       "2     826.429002  563.040944 -87.120099  49.092650          NaN  45978.038621   \n",
       "3     826.479941  562.966169 -78.231637  62.288128          NaN  45980.651456   \n",
       "4     826.530826  562.891459 -63.155176  77.533372          NaN  45983.125820   \n",
       "...          ...         ...        ...        ...          ...           ...   \n",
       "1598  315.201317   -3.183313 -99.984068   1.784976  1783.485018   9706.508226   \n",
       "1599  315.194865   -3.768434 -94.878509  31.592224  1506.557219   9388.221711   \n",
       "1600  315.182520   -4.688579 -73.180504  68.151404  1253.878570   9081.470181   \n",
       "1601  287.063442   -6.121939 -66.124901  75.016648  1050.346443   8807.527143   \n",
       "1602  286.981248   -9.201135 -59.853882  80.109380   864.865152   8564.825180   \n",
       "\n",
       "           speed    o.t_speed     f_mag  \n",
       "0      30.650435  1000.000000   10000.0  \n",
       "1      30.159672  1000.000000   10000.0  \n",
       "2      29.684132  1000.000000   10000.0  \n",
       "3      29.224559  1000.000000   10000.0  \n",
       "4      28.781716  1000.000000   10000.0  \n",
       "...          ...          ...       ...  \n",
       "1598  475.242649   315.217391   10000.0  \n",
       "1599  472.401574   315.217391   10000.0  \n",
       "1600  433.570001   315.217391  200000.0  \n",
       "1601  397.909643   287.128713  200000.0  \n",
       "1602  375.914330   287.128713  200000.0  \n",
       "\n",
       "[1603 rows x 55 columns]"
      ]
     },
     "execution_count": 9,
     "metadata": {},
     "output_type": "execute_result"
    }
   ],
   "source": [
    "df"
   ]
  },
  {
   "cell_type": "code",
   "execution_count": 10,
   "id": "a703dac7",
   "metadata": {},
   "outputs": [
    {
     "data": {
      "text/plain": [
       "{'o': 'stellarpunk.orders.movement.GoToLocation',\n",
       " 'ct': '4b7d92b4-5d28-46fe-9606-1f4f9f50ec04',\n",
       " 'ct_loc': [139135.14004792395, -107935.57745240707],\n",
       " 'ct_v': [0.0, 0.0],\n",
       " 'ct_ts': 765.7290829308117,\n",
       " 'ct_dv': [-590.7213207202175, 806.8756541416789],\n",
       " 'ct_tc': 0.0,\n",
       " 'ct_ct': 1,\n",
       " 'ct_cloc': [139205.47715620996, -108591.39103556683],\n",
       " 'ct_cradius': 1248.3244212773486,\n",
       " 'ct_cn': [[139135.14004792395, -107935.57745240707]],\n",
       " 'cac': False,\n",
       " 'cbdr': False,\n",
       " 'nd': 2.8647889756541162e-08,\n",
       " 'nnd': 442.5570370903064,\n",
       " 't_loc': [147255.00929731913, -108168.01507540842],\n",
       " 'ad': 500.0,\n",
       " 'md': 0.0,\n",
       " 't_v': [286.98124828203845, -9.201135234580727],\n",
       " 'cs': False}"
      ]
     },
     "execution_count": 10,
     "metadata": {},
     "output_type": "execute_result"
    }
   ],
   "source": [
    "df.iloc[-1][\"o\"]"
   ]
  },
  {
   "cell_type": "markdown",
   "id": "a6d3cf5e",
   "metadata": {},
   "source": [
    "# Basic Ship Vitals"
   ]
  },
  {
   "cell_type": "markdown",
   "id": "36730903",
   "metadata": {},
   "source": [
    "## Position and Heading"
   ]
  },
  {
   "cell_type": "code",
   "execution_count": 11,
   "id": "665329e8",
   "metadata": {},
   "outputs": [
    {
     "data": {
      "application/vnd.jupyter.widget-view+json": {
       "model_id": "ee6b9b55b20844879c9665a342613dbe",
       "version_major": 2,
       "version_minor": 0
      },
      "text/plain": [
       "interactive(children=(FloatSlider(value=768.5540239964362, continuous_update=False, description='max_time', ma…"
      ]
     },
     "metadata": {},
     "output_type": "display_data"
    },
    {
     "data": {
      "text/plain": [
       "<function __main__.plot_location_chart(max_time)>"
      ]
     },
     "execution_count": 11,
     "metadata": {},
     "output_type": "execute_result"
    }
   ],
   "source": [
    "def plot_location_chart(max_time):\n",
    "    sample = df[df[\"ts\"] <= max_time].iloc[::50]\n",
    "    plt.quiver(sample[\"loc.x\"], sample[\"loc.y\"], sample[\"angle.x\"], sample[\"angle.y\"])#, scale=100)\n",
    "    plt.scatter(sample[\"o.t_loc.x\"], sample[\"o.t_loc.y\"])\n",
    "    #center = (0,2500)\n",
    "    #radius = 10000\n",
    "    #plt.xlim(center[0]-radius,center[0]+radius)\n",
    "    #plt.ylim(center[1]-radius,center[1]+radius)\n",
    "\n",
    "ipywidgets.interact(plot_location_chart, max_time=ipywidgets.FloatSlider(value=df[\"ts\"].max(), min=df[\"ts\"].min(), max=df[\"ts\"].max(), continuous_update=False))"
   ]
  },
  {
   "cell_type": "code",
   "execution_count": 12,
   "id": "ed1c2ca3",
   "metadata": {},
   "outputs": [
    {
     "data": {
      "text/html": [
       "<div>\n",
       "<style scoped>\n",
       "    .dataframe tbody tr th:only-of-type {\n",
       "        vertical-align: middle;\n",
       "    }\n",
       "\n",
       "    .dataframe tbody tr th {\n",
       "        vertical-align: top;\n",
       "    }\n",
       "\n",
       "    .dataframe thead th {\n",
       "        text-align: right;\n",
       "    }\n",
       "</style>\n",
       "<table border=\"1\" class=\"dataframe\">\n",
       "  <thead>\n",
       "    <tr style=\"text-align: right;\">\n",
       "      <th></th>\n",
       "      <th>loc.x</th>\n",
       "      <th>loc.y</th>\n",
       "    </tr>\n",
       "  </thead>\n",
       "  <tbody>\n",
       "    <tr>\n",
       "      <th>count</th>\n",
       "      <td>1603.000000</td>\n",
       "      <td>1603.000000</td>\n",
       "    </tr>\n",
       "    <tr>\n",
       "      <th>mean</th>\n",
       "      <td>57137.620286</td>\n",
       "      <td>-144867.242619</td>\n",
       "    </tr>\n",
       "    <tr>\n",
       "      <th>std</th>\n",
       "      <td>50384.882665</td>\n",
       "      <td>35283.225551</td>\n",
       "    </tr>\n",
       "    <tr>\n",
       "      <th>min</th>\n",
       "      <td>-21477.664005</td>\n",
       "      <td>-202744.275070</td>\n",
       "    </tr>\n",
       "    <tr>\n",
       "      <th>25%</th>\n",
       "      <td>16211.257645</td>\n",
       "      <td>-177085.477550</td>\n",
       "    </tr>\n",
       "    <tr>\n",
       "      <th>50%</th>\n",
       "      <td>58455.641048</td>\n",
       "      <td>-142329.004764</td>\n",
       "    </tr>\n",
       "    <tr>\n",
       "      <th>75%</th>\n",
       "      <td>99112.568474</td>\n",
       "      <td>-110006.068122</td>\n",
       "    </tr>\n",
       "    <tr>\n",
       "      <th>max</th>\n",
       "      <td>146887.366842</td>\n",
       "      <td>-102496.856378</td>\n",
       "    </tr>\n",
       "  </tbody>\n",
       "</table>\n",
       "</div>"
      ],
      "text/plain": [
       "               loc.x          loc.y\n",
       "count    1603.000000    1603.000000\n",
       "mean    57137.620286 -144867.242619\n",
       "std     50384.882665   35283.225551\n",
       "min    -21477.664005 -202744.275070\n",
       "25%     16211.257645 -177085.477550\n",
       "50%     58455.641048 -142329.004764\n",
       "75%     99112.568474 -110006.068122\n",
       "max    146887.366842 -102496.856378"
      ]
     },
     "execution_count": 12,
     "metadata": {},
     "output_type": "execute_result"
    }
   ],
   "source": [
    "df[[\"loc.x\", \"loc.y\"]].describe()"
   ]
  },
  {
   "cell_type": "code",
   "execution_count": 13,
   "id": "e0f37c4c",
   "metadata": {},
   "outputs": [
    {
     "data": {
      "text/plain": [
       "Text(0.5, 1.0, 'position')"
      ]
     },
     "execution_count": 13,
     "metadata": {},
     "output_type": "execute_result"
    },
    {
     "data": {
      "image/png": "[encoded data removed]",
      "text/plain": [
       "<Figure size 432x288 with 1 Axes>"
      ]
     },
     "metadata": {
      "needs_background": "light"
     },
     "output_type": "display_data"
    }
   ],
   "source": [
    "plt.scatter(df[\"ts\"], df[\"loc.x\"])\n",
    "plt.scatter(df[\"ts\"], df[\"loc.y\"])\n",
    "plt.title(\"position\")"
   ]
  },
  {
   "cell_type": "code",
   "execution_count": 14,
   "id": "b65fd521",
   "metadata": {},
   "outputs": [
    {
     "data": {
      "text/plain": [
       "Text(0.5, 1.0, 'heading and angular velocity')"
      ]
     },
     "execution_count": 14,
     "metadata": {},
     "output_type": "execute_result"
    },
    {
     "data": {
      "image/png": "[encoded data removed]",
      "text/plain": [
       "<Figure size 432x288 with 1 Axes>"
      ]
     },
     "metadata": {
      "needs_background": "light"
     },
     "output_type": "display_data"
    }
   ],
   "source": [
    "plt.scatter(df[\"ts\"], df[\"a\"], label=\"theta\")\n",
    "plt.scatter(df[\"ts\"], df[\"av\"], label=\"omega\")\n",
    "plt.hlines(np.pi, df[\"ts\"].min(), df[\"ts\"].max(), color=\"red\")\n",
    "plt.hlines(0, df[\"ts\"].min(), df[\"ts\"].max(), color=\"red\")\n",
    "plt.legend()\n",
    "plt.title(\"heading and angular velocity\")"
   ]
  },
  {
   "cell_type": "code",
   "execution_count": 15,
   "id": "e1a4515d",
   "metadata": {},
   "outputs": [
    {
     "data": {
      "text/plain": [
       "<matplotlib.collections.PathCollection at 0x7f94e2ea7fa0>"
      ]
     },
     "execution_count": 15,
     "metadata": {},
     "output_type": "execute_result"
    },
    {
     "data": {
      "image/png": "[encoded data removed]",
      "text/plain": [
       "<Figure size 432x288 with 1 Axes>"
      ]
     },
     "metadata": {
      "needs_background": "light"
     },
     "output_type": "display_data"
    }
   ],
   "source": [
    "plt.scatter(df[\"ts\"], df[\"t\"])"
   ]
  },
  {
   "cell_type": "markdown",
   "id": "4ce26323",
   "metadata": {},
   "source": [
    "## Velocity and Acceleration"
   ]
  },
  {
   "cell_type": "code",
   "execution_count": 16,
   "id": "63002f84",
   "metadata": {},
   "outputs": [
    {
     "data": {
      "text/plain": [
       "<matplotlib.collections.PathCollection at 0x7f94e2e775b0>"
      ]
     },
     "execution_count": 16,
     "metadata": {},
     "output_type": "execute_result"
    },
    {
     "data": {
      "image/png": "[encoded data removed]",
      "text/plain": [
       "<Figure size 432x288 with 1 Axes>"
      ]
     },
     "metadata": {
      "needs_background": "light"
     },
     "output_type": "display_data"
    }
   ],
   "source": [
    "plt.scatter(df[\"ts\"], df[\"speed\"])"
   ]
  },
  {
   "cell_type": "code",
   "execution_count": 17,
   "id": "32a0a440",
   "metadata": {
    "scrolled": true
   },
   "outputs": [
    {
     "data": {
      "text/plain": [
       "Text(0.5, 1.0, 'velocity')"
      ]
     },
     "execution_count": 17,
     "metadata": {},
     "output_type": "execute_result"
    },
    {
     "data": {
      "image/png": "[encoded data removed]",
      "text/plain": [
       "<Figure size 432x288 with 1 Axes>"
      ]
     },
     "metadata": {
      "needs_background": "light"
     },
     "output_type": "display_data"
    }
   ],
   "source": [
    "plt.scatter(df[\"ts\"], df[\"v.x\"])\n",
    "plt.scatter(df[\"ts\"], df[\"v.y\"])\n",
    "plt.title(\"velocity\")"
   ]
  },
  {
   "cell_type": "code",
   "execution_count": 18,
   "id": "7e3172c1",
   "metadata": {
    "scrolled": true
   },
   "outputs": [
    {
     "data": {
      "text/plain": [
       "Text(0.5, 1.0, 'acceleration')"
      ]
     },
     "execution_count": 18,
     "metadata": {},
     "output_type": "execute_result"
    },
    {
     "data": {
      "image/png": "[encoded data removed]",
      "text/plain": [
       "<Figure size 432x288 with 1 Axes>"
      ]
     },
     "metadata": {
      "needs_background": "light"
     },
     "output_type": "display_data"
    }
   ],
   "source": [
    "#plt.scatter(df[\"ts\"], (df[\"v.x\"] - df[\"v.x\"].shift(-1)))#/(df[\"ts\"]-df[\"ts\"].shift(-1)))\n",
    "plt.scatter(df[\"ts\"], (df[\"v.x\"].shift(1) - df[\"v.x\"]) / (df[\"ts\"].shift(1) - df[\"ts\"]))\n",
    "plt.scatter(df[\"ts\"], (df[\"v.y\"].shift(1) - df[\"v.y\"]) / (df[\"ts\"].shift(1) - df[\"ts\"]))\n",
    "plt.yscale(\"symlog\")\n",
    "plt.title(\"acceleration\")"
   ]
  },
  {
   "cell_type": "code",
   "execution_count": 19,
   "id": "7754010f",
   "metadata": {},
   "outputs": [
    {
     "data": {
      "text/plain": [
       "Text(0.5, 1.0, 'force')"
      ]
     },
     "execution_count": 19,
     "metadata": {},
     "output_type": "execute_result"
    },
    {
     "data": {
      "image/png": "[encoded data removed]",
      "text/plain": [
       "<Figure size 432x288 with 1 Axes>"
      ]
     },
     "metadata": {
      "needs_background": "light"
     },
     "output_type": "display_data"
    }
   ],
   "source": [
    "plt.scatter(df[\"ts\"], df[\"f_mag\"])\n",
    "plt.yscale(\"log\")\n",
    "plt.title(\"force\")"
   ]
  },
  {
   "cell_type": "markdown",
   "id": "4630e3f8",
   "metadata": {},
   "source": [
    "# Behavior Monitoring"
   ]
  },
  {
   "cell_type": "code",
   "execution_count": 20,
   "id": "cf1a4380",
   "metadata": {},
   "outputs": [
    {
     "data": {
      "text/plain": [
       "[474.27774947916424, None, None, None]"
      ]
     },
     "execution_count": 20,
     "metadata": {},
     "output_type": "execute_result"
    }
   ],
   "source": [
    "[next((df.iloc[idx][\"ts\"] if idx is not None else None for idx, v in zip(df.index, (~df[c].isna() & df[c] == True)) if v), None) for c in [\"o.ct\", \"o.cs\", \"o.cac\", \"o.cbdr\"]]"
   ]
  },
  {
   "cell_type": "code",
   "execution_count": 21,
   "id": "9e6db2b0",
   "metadata": {},
   "outputs": [
    {
     "data": {
      "application/vnd.jupyter.widget-view+json": {
       "model_id": "0b031f2f98574b99be1c77701788bdad",
       "version_major": 2,
       "version_minor": 0
      },
      "text/plain": [
       "interactive(children=(FloatSlider(value=5.0, continuous_update=False, description='hist_length', max=768.50402…"
      ]
     },
     "metadata": {},
     "output_type": "display_data"
    },
    {
     "data": {
      "text/plain": [
       "<function __main__.plot_collision_info(hist_length, max_time)>"
      ]
     },
     "execution_count": 21,
     "metadata": {},
     "output_type": "execute_result"
    }
   ],
   "source": [
    "def plot_collision_info(hist_length, max_time):\n",
    "    sample = df[(df[\"ts\"] >= max_time - hist_length) & (df[\"ts\"] <= max_time)]\n",
    "    plt.scatter(sample[\"ts\"], (~(sample[\"o.ct\"].isna())).astype(int), label=\"ct\")\n",
    "    plt.scatter(sample[\"ts\"], sample[\"o.cs\"].fillna(0).astype(int)+0.05, label=\"cs\")\n",
    "    plt.scatter(sample[\"ts\"], sample[\"o.cac\"].fillna(0).astype(int)+0.1, label=\"cac\")\n",
    "    plt.scatter(sample[\"ts\"], sample[\"o.cbdr\"].fillna(0).astype(int)+0.15, label=\"cbdr\")\n",
    "    plt.legend()\n",
    "    plt.title(\"status flags\")\n",
    "    \n",
    "    flag_cols = [\"o.ct\", \"o.cs\", \"o.cac\", \"o.cbdr\"]\n",
    "    first_ts = [next((df.iloc[idx][\"ts\"] if idx is not None else None for idx, v in zip(df.index, (~df[c].isna() & df[c] == True)) if v), None) for c in flag_cols]\n",
    "    for c, ts in zip(flag_cols, first_ts):\n",
    "        print(f'first {c}: {ts}')\n",
    "\n",
    "ipywidgets.interact(plot_collision_info, hist_length=ipywidgets.FloatSlider(value=5, min=0, max=df[\"ts\"].max()-df[\"ts\"].min(), continuous_update=False), max_time=ipywidgets.FloatSlider(value=df[\"ts\"].max(), min=df[\"ts\"].min(), max=df[\"ts\"].max()+.1, continuous_update=False))"
   ]
  },
  {
   "cell_type": "markdown",
   "id": "94ba2b3d",
   "metadata": {},
   "source": [
    "### Target Location"
   ]
  },
  {
   "cell_type": "code",
   "execution_count": 22,
   "id": "2640e1e5",
   "metadata": {},
   "outputs": [
    {
     "data": {
      "text/html": [
       "<div>\n",
       "<style scoped>\n",
       "    .dataframe tbody tr th:only-of-type {\n",
       "        vertical-align: middle;\n",
       "    }\n",
       "\n",
       "    .dataframe tbody tr th {\n",
       "        vertical-align: top;\n",
       "    }\n",
       "\n",
       "    .dataframe thead tr th {\n",
       "        text-align: left;\n",
       "    }\n",
       "\n",
       "    .dataframe thead tr:last-of-type th {\n",
       "        text-align: right;\n",
       "    }\n",
       "</style>\n",
       "<table border=\"1\" class=\"dataframe\">\n",
       "  <thead>\n",
       "    <tr>\n",
       "      <th></th>\n",
       "      <th></th>\n",
       "      <th colspan=\"3\" halign=\"left\">ts</th>\n",
       "      <th colspan=\"2\" halign=\"left\">o.t_dist</th>\n",
       "    </tr>\n",
       "    <tr>\n",
       "      <th></th>\n",
       "      <th></th>\n",
       "      <th>count</th>\n",
       "      <th>min</th>\n",
       "      <th>max</th>\n",
       "      <th>min</th>\n",
       "      <th>max</th>\n",
       "    </tr>\n",
       "    <tr>\n",
       "      <th>o.t_loc.x</th>\n",
       "      <th>o.t_loc.y</th>\n",
       "      <th></th>\n",
       "      <th></th>\n",
       "      <th></th>\n",
       "      <th></th>\n",
       "      <th></th>\n",
       "    </tr>\n",
       "  </thead>\n",
       "  <tbody>\n",
       "    <tr>\n",
       "      <th>16555.027332</th>\n",
       "      <th>-176853.048725</th>\n",
       "      <td>239</td>\n",
       "      <td>0.050000</td>\n",
       "      <td>74.354167</td>\n",
       "      <td>415.761108</td>\n",
       "      <td>45995.118172</td>\n",
       "    </tr>\n",
       "    <tr>\n",
       "      <th>57863.952567</th>\n",
       "      <th>-111138.389462</th>\n",
       "      <td>310</td>\n",
       "      <td>541.261459</td>\n",
       "      <td>675.516586</td>\n",
       "      <td>412.246456</td>\n",
       "      <td>89256.449383</td>\n",
       "    </tr>\n",
       "    <tr>\n",
       "      <th>147140.160749</th>\n",
       "      <th>-105023.352898</th>\n",
       "      <td>319</td>\n",
       "      <td>325.838542</td>\n",
       "      <td>525.207512</td>\n",
       "      <td>417.820226</td>\n",
       "      <td>149449.549629</td>\n",
       "    </tr>\n",
       "    <tr>\n",
       "      <th>147255.009297</th>\n",
       "      <th>-108168.015075</th>\n",
       "      <td>247</td>\n",
       "      <td>675.849920</td>\n",
       "      <td>768.554024</td>\n",
       "      <td>8564.825180</td>\n",
       "      <td>89073.758032</td>\n",
       "    </tr>\n",
       "  </tbody>\n",
       "</table>\n",
       "</div>"
      ],
      "text/plain": [
       "                                ts                             o.t_dist  \\\n",
       "                             count         min         max          min   \n",
       "o.t_loc.x     o.t_loc.y                                                   \n",
       "16555.027332  -176853.048725   239    0.050000   74.354167   415.761108   \n",
       "57863.952567  -111138.389462   310  541.261459  675.516586   412.246456   \n",
       "147140.160749 -105023.352898   319  325.838542  525.207512   417.820226   \n",
       "147255.009297 -108168.015075   247  675.849920  768.554024  8564.825180   \n",
       "\n",
       "                                             \n",
       "                                        max  \n",
       "o.t_loc.x     o.t_loc.y                      \n",
       "16555.027332  -176853.048725   45995.118172  \n",
       "57863.952567  -111138.389462   89256.449383  \n",
       "147140.160749 -105023.352898  149449.549629  \n",
       "147255.009297 -108168.015075   89073.758032  "
      ]
     },
     "execution_count": 22,
     "metadata": {},
     "output_type": "execute_result"
    }
   ],
   "source": [
    "if np.any(~df[\"o.t_loc\"].isna()):\n",
    "    x = df.groupby([\"o.t_loc.x\", \"o.t_loc.y\"]).agg({\"ts\": [\"count\", \"min\", \"max\"], \"o.t_dist\": [\"min\",\"max\"]})\n",
    "else:\n",
    "    x = \"no location target\"\n",
    "x"
   ]
  },
  {
   "cell_type": "code",
   "execution_count": 23,
   "id": "74d23fb4",
   "metadata": {},
   "outputs": [
    {
     "data": {
      "application/vnd.jupyter.widget-view+json": {
       "model_id": "22107dbd76174e458117fb2b6c68973a",
       "version_major": 2,
       "version_minor": 0
      },
      "text/plain": [
       "interactive(children=(FloatSlider(value=5.0, continuous_update=False, description='hist_length', max=768.50402…"
      ]
     },
     "metadata": {},
     "output_type": "display_data"
    },
    {
     "data": {
      "text/plain": [
       "<function __main__.plot_target_distance(hist_length, max_time)>"
      ]
     },
     "execution_count": 23,
     "metadata": {},
     "output_type": "execute_result"
    }
   ],
   "source": [
    "#sample = df[(df[\"ts\"] < 124.4) & (df[\"ts\"] > 120)]\n",
    "def plot_target_distance(hist_length, max_time):\n",
    "    sample = df[(df[\"ts\"] >= max_time - hist_length) & (df[\"ts\"] <= max_time)]\n",
    "    plt.scatter(sample[\"ts\"], sample[\"o.t_dist\"])\n",
    "    plt.hlines(1500, sample[\"ts\"].min(), sample[\"ts\"].max(), color=\"green\")\n",
    "    plt.hlines(1500*0.9, sample[\"ts\"].min(), sample[\"ts\"].max(), color=\"red\")\n",
    "    #plt.ylim(0,1500)\n",
    "    plt.title(\"distance to target\")\n",
    "    print(sample[\"o.t_dist\"].min(),sample[df[\"ts\"] > sample[\"ts\"].max()-1][\"o.t_dist\"].min())\n",
    "\n",
    "ipywidgets.interact(\n",
    "    plot_target_distance,\n",
    "    hist_length=ipywidgets.FloatSlider(value=5, min=0, max=df[\"ts\"].max()-df[\"ts\"].min(), continuous_update=False),\n",
    "    max_time=ipywidgets.FloatSlider(value=df[\"ts\"].max(), min=df[\"ts\"].min(), max=df[\"ts\"].max()+.1, continuous_update=False))"
   ]
  },
  {
   "cell_type": "code",
   "execution_count": 24,
   "id": "4d0bf8d0",
   "metadata": {},
   "outputs": [
    {
     "data": {
      "application/vnd.jupyter.widget-view+json": {
       "model_id": "47f4aad4b4d04d83a026ab5bdc33a4ab",
       "version_major": 2,
       "version_minor": 0
      },
      "text/plain": [
       "interactive(children=(FloatSlider(value=5.0, continuous_update=False, description='hist_length', max=768.50402…"
      ]
     },
     "metadata": {},
     "output_type": "display_data"
    },
    {
     "data": {
      "text/plain": [
       "<function __main__.plot_desired_speed(hist_length, max_time)>"
      ]
     },
     "execution_count": 24,
     "metadata": {},
     "output_type": "execute_result"
    }
   ],
   "source": [
    "def plot_desired_speed(hist_length, max_time):\n",
    "    sample = df[(df[\"ts\"] >= max_time - hist_length) & (df[\"ts\"] <= max_time)]\n",
    "    plt.scatter(sample[\"ts\"], sample[\"speed\"], label=\"actual speed\")\n",
    "    plt.scatter(sample[\"ts\"], sample[\"o.t_speed\"], label=\"desired speed\")\n",
    "    plt.legend()\n",
    "    plt.title(\"speed and desired speed to target\")\n",
    "    plt.ylim(0)\n",
    "\n",
    "ipywidgets.interact(\n",
    "    plot_desired_speed,\n",
    "    hist_length=ipywidgets.FloatSlider(value=5, min=0, max=df[\"ts\"].max()-df[\"ts\"].min(), continuous_update=False),\n",
    "    max_time=ipywidgets.FloatSlider(value=df[\"ts\"].max(), min=df[\"ts\"].min(), max=df[\"ts\"].max()+.1, continuous_update=False))"
   ]
  },
  {
   "cell_type": "code",
   "execution_count": 25,
   "id": "d7341dc2",
   "metadata": {
    "scrolled": true
   },
   "outputs": [
    {
     "data": {
      "text/plain": [
       "Text(0.5, 1.0, 'desired speed delta')"
      ]
     },
     "execution_count": 25,
     "metadata": {},
     "output_type": "execute_result"
    },
    {
     "data": {
      "image/png": "[encoded data removed]",
      "text/plain": [
       "<Figure size 432x288 with 1 Axes>"
      ]
     },
     "metadata": {
      "needs_background": "light"
     },
     "output_type": "display_data"
    }
   ],
   "source": [
    "plt.scatter(df[\"ts\"], df[\"o.t_speed\"] - df[\"speed\"])\n",
    "plt.scatter(df[\"ts\"], np.linalg.norm(np.array((df[\"o.t_v.x\"] - df[\"v.x\"], df[\"o.t_v.y\"] - df[\"v.y\"])), axis=0))\n",
    "plt.title(\"desired speed delta\")"
   ]
  },
  {
   "cell_type": "markdown",
   "id": "5ac378ec",
   "metadata": {},
   "source": [
    "## Collision Avoidance"
   ]
  },
  {
   "cell_type": "code",
   "execution_count": 26,
   "id": "f38ca4d8",
   "metadata": {},
   "outputs": [
    {
     "data": {
      "application/vnd.jupyter.widget-view+json": {
       "model_id": "9867e33b57574221b528440dd5a40cbb",
       "version_major": 2,
       "version_minor": 0
      },
      "text/plain": [
       "interactive(children=(FloatSlider(value=5.0, continuous_update=False, description='hist_length', max=768.50402…"
      ]
     },
     "metadata": {},
     "output_type": "display_data"
    },
    {
     "data": {
      "text/plain": [
       "<function __main__.show_collision_threats(hist_length, max_time)>"
      ]
     },
     "execution_count": 26,
     "metadata": {},
     "output_type": "execute_result"
    }
   ],
   "source": [
    "def show_collision_threats(hist_length, max_time):\n",
    "    sample = df[(df[\"ts\"] >= max_time-hist_length) & (df[\"ts\"] <= max_time)]\n",
    "    if np.any(~sample[\"o.ct\"].isna()):\n",
    "        x = sample.groupby(\"o.ct\").agg({\"ts\": [\"count\", \"min\", \"max\"], \"o.ct_dist\": [\"min\",\"max\"]})\n",
    "    else:\n",
    "        x = \"no collision threats\"\n",
    "    return x\n",
    "ipywidgets.interact(\n",
    "    show_collision_threats,\n",
    "    hist_length=ipywidgets.FloatSlider(value=5, min=0, max=df[\"ts\"].max()-df[\"ts\"].min(), continuous_update=False),\n",
    "    max_time=ipywidgets.FloatSlider(value=df[\"ts\"].max(), min=df[\"ts\"].min(), max=df[\"ts\"].max()+.1, continuous_update=False)\n",
    ")"
   ]
  },
  {
   "cell_type": "code",
   "execution_count": 27,
   "id": "890424d5",
   "metadata": {},
   "outputs": [
    {
     "data": {
      "application/vnd.jupyter.widget-view+json": {
       "model_id": "94228d9cc9fc42f6a5c502b70f5a1dd6",
       "version_major": 2,
       "version_minor": 0
      },
      "text/plain": [
       "interactive(children=(FloatSlider(value=5.0, continuous_update=False, description='hist_length', max=768.50402…"
      ]
     },
     "metadata": {},
     "output_type": "display_data"
    },
    {
     "data": {
      "text/plain": [
       "<function __main__.plot_collision_distance(hist_length, max_time)>"
      ]
     },
     "execution_count": 27,
     "metadata": {},
     "output_type": "execute_result"
    }
   ],
   "source": [
    "def plot_collision_distance(hist_length, max_time):\n",
    "    sample = df[(df[\"ts\"] >= max_time-hist_length) & (df[\"ts\"] <= max_time)]\n",
    "    plt.scatter(sample[\"ts\"], sample[\"o.ct_dist\"])\n",
    "    plt.hlines(60+500+500, sample[\"ts\"].min(), sample[\"ts\"].max(), color=\"green\")\n",
    "    plt.hlines(60+500, sample[\"ts\"].min(), sample[\"ts\"].max(), color=\"orange\")\n",
    "    plt.hlines(330, sample[\"ts\"].min(), sample[\"ts\"].max(), color=\"red\")\n",
    "    plt.hlines(60, sample[\"ts\"].min(), sample[\"ts\"].max(), color=\"red\")\n",
    "    plt.ylim(0)\n",
    "    plt.title(\"distance to collision threat\")\n",
    "    print(sample[\"o.ct_dist\"].min())\n",
    "\n",
    "ipywidgets.interact(\n",
    "    plot_collision_distance,\n",
    "    hist_length=ipywidgets.FloatSlider(value=5, min=0, max=df[\"ts\"].max()-df[\"ts\"].min(), continuous_update=False),\n",
    "    max_time=ipywidgets.FloatSlider(value=df[\"ts\"].max(), min=df[\"ts\"].min(), max=df[\"ts\"].max()+.1, continuous_update=False)\n",
    ")"
   ]
  },
  {
   "cell_type": "code",
   "execution_count": 28,
   "id": "a3ce3d2d",
   "metadata": {},
   "outputs": [
    {
     "data": {
      "text/plain": [
       "<matplotlib.collections.PathCollection at 0x7f94e7dd0d00>"
      ]
     },
     "execution_count": 28,
     "metadata": {},
     "output_type": "execute_result"
    },
    {
     "data": {
      "image/png": "[encoded data removed]",
      "text/plain": [
       "<Figure size 432x288 with 2 Axes>"
      ]
     },
     "metadata": {
      "needs_background": "light"
     },
     "output_type": "display_data"
    }
   ],
   "source": [
    "247.10fig, ax1 = plt.subplots()\n",
    "ax2 = ax1.twinx()\n",
    "\n",
    "ax1.scatter(df[\"ts\"], 1-df[\"o.ct\"].isna().astype(int))\n",
    "ax2.scatter(df[\"ts\"], df[\"ts\"] - df[\"o.ct_ts\"], color=\"orange\")\n",
    "\n",
    "#ax2.set_ylim(0,(df[\"ts\"] - df[\"o.ct_ts\"]).max()*1.2)"
   ]
  },
  {
   "cell_type": "code",
   "execution_count": 29,
   "id": "9c947c36",
   "metadata": {},
   "outputs": [
    {
     "data": {
      "text/plain": [
       "Text(0.5, 1.0, 'number of coalesced threats')"
      ]
     },
     "execution_count": 29,
     "metadata": {},
     "output_type": "execute_result"
    },
    {
     "data": {
      "image/png": "[encoded data removed]",
      "text/plain": [
       "<Figure size 432x288 with 1 Axes>"
      ]
     },
     "metadata": {
      "needs_background": "light"
     },
     "output_type": "display_data"
    }
   ],
   "source": [
    "plt.scatter(df[\"ts\"], df[\"o.ct_ct\"])\n",
    "plt.title(\"number of coalesced threats\")\n",
    "#plt.xlim(df[\"ts\"].min(), df[\"ts\"].max())"
   ]
  },
  {
   "cell_type": "code",
   "execution_count": 37,
   "id": "10290387",
   "metadata": {},
   "outputs": [
    {
     "data": {
      "text/plain": [
       "Text(0.5, 1.0, 'collision threat radius')"
      ]
     },
     "execution_count": 37,
     "metadata": {},
     "output_type": "execute_result"
    },
    {
     "data": {
      "image/png": "[encoded data removed]",
      "text/plain": [
       "<Figure size 432x288 with 1 Axes>"
      ]
     },
     "metadata": {
      "needs_background": "light"
     },
     "output_type": "display_data"
    }
   ],
   "source": [
    "plt.scatter(df[\"ts\"], df[\"o.ct_cradius\"])\n",
    "plt.title(\"collision threat radius\")"
   ]
  },
  {
   "cell_type": "code",
   "execution_count": 38,
   "id": "03a6b3aa",
   "metadata": {},
   "outputs": [
    {
     "data": {
      "application/vnd.jupyter.widget-view+json": {
       "model_id": "8b1e2c163c19453896213170df121859",
       "version_major": 2,
       "version_minor": 0
      },
      "text/plain": [
       "interactive(children=(FloatSlider(value=5.0, continuous_update=False, description='hist_length', max=768.50402…"
      ]
     },
     "metadata": {},
     "output_type": "display_data"
    },
    {
     "data": {
      "text/plain": [
       "<function __main__.plot_neighborhood_size(hist_length, max_time)>"
      ]
     },
     "execution_count": 38,
     "metadata": {},
     "output_type": "execute_result"
    }
   ],
   "source": [
    "def plot_neighborhood_size(hist_length, max_time):\n",
    "    sample = df[(df[\"ts\"] >= max_time - hist_length) & (df[\"ts\"] <= max_time)]\n",
    "    plt.scatter(sample[\"ts\"], sample[\"o.nd\"]*np.pi*10000**2)\n",
    "    plt.title(\"neighborhood size (10km^2)\")\n",
    "    plt.show()\n",
    "\n",
    "ipywidgets.interact(\n",
    "    plot_neighborhood_size,\n",
    "    hist_length=ipywidgets.FloatSlider(value=5, min=0, max=df[\"ts\"].max()-df[\"ts\"].min(), continuous_update=False),\n",
    "    max_time=ipywidgets.FloatSlider(value=df[\"ts\"].max(), min=df[\"ts\"].min(), max=df[\"ts\"].max()+.1, continuous_update=False))"
   ]
  },
  {
   "cell_type": "code",
   "execution_count": 32,
   "id": "5e817d73",
   "metadata": {},
   "outputs": [
    {
     "data": {
      "application/vnd.jupyter.widget-view+json": {
       "model_id": "afb05ea52e41431ca6eb2664a4c081f7",
       "version_major": 2,
       "version_minor": 0
      },
      "text/plain": [
       "interactive(children=(FloatSlider(value=5.0, continuous_update=False, description='hist_length', max=768.50402…"
      ]
     },
     "metadata": {},
     "output_type": "display_data"
    },
    {
     "data": {
      "text/plain": [
       "<function __main__.plot_collision_dv(hist_length, max_time)>"
      ]
     },
     "execution_count": 32,
     "metadata": {},
     "output_type": "execute_result"
    }
   ],
   "source": [
    "def plot_collision_dv(hist_length, max_time):\n",
    "    sample = df[(df[\"ts\"] >= max_time - hist_length) & (df[\"ts\"] <= max_time)]\n",
    "    plt.scatter(sample[\"ts\"], sample[\"o.ct_dv.x\"])\n",
    "    plt.scatter(sample[\"ts\"], sample[\"o.ct_dv.y\"])\n",
    "    plt.title(\"collision avoidance velocity\")\n",
    "\n",
    "ipywidgets.interact(\n",
    "    plot_collision_dv,\n",
    "    hist_length=ipywidgets.FloatSlider(value=5, min=0, max=df[\"ts\"].max()-df[\"ts\"].min(), continuous_update=False),\n",
    "    max_time=ipywidgets.FloatSlider(value=df[\"ts\"].max(), min=df[\"ts\"].min(), max=df[\"ts\"].max()+.1, continuous_update=False))"
   ]
  },
  {
   "cell_type": "markdown",
   "id": "12a7d799",
   "metadata": {},
   "source": [
    "# History Visualization"
   ]
  },
  {
   "cell_type": "markdown",
   "id": "e7b61368",
   "metadata": {},
   "source": [
    "## Position and Velocity"
   ]
  },
  {
   "cell_type": "code",
   "execution_count": 36,
   "id": "05fc6ec3",
   "metadata": {
    "scrolled": false
   },
   "outputs": [
    {
     "data": {
      "application/vnd.jupyter.widget-view+json": {
       "model_id": "e7be366797444ffe97502f488d005fd2",
       "version_major": 2,
       "version_minor": 0
      },
      "text/plain": [
       "interactive(children=(FloatSlider(value=5.0, continuous_update=False, description='hist_length', max=768.50402…"
      ]
     },
     "metadata": {},
     "output_type": "display_data"
    },
    {
     "data": {
      "text/plain": [
       "<function __main__.plot_collision_chart(hist_length=768.5540239964362, max_time=768.5540239964362, sampling_interval=50, show_tloc=True, show_tv=True, show_ctdv=True, show_v=True)>"
      ]
     },
     "execution_count": 36,
     "metadata": {},
     "output_type": "execute_result"
    }
   ],
   "source": [
    "def plot_collision_chart(hist_length=df[\"ts\"].max(), max_time=df[\"ts\"].max(), sampling_interval=50, show_tloc=True, show_tv=True, show_ctdv=True, show_v=True):\n",
    "    plt.figure(figsize=(10, 10))\n",
    "    sample = df[(df[\"ts\"] >= max_time - hist_length) & (df[\"ts\"] <= max_time)].iloc[::sampling_interval]\n",
    "    if show_v:\n",
    "        plt.quiver(sample[\"loc.x\"], sample[\"loc.y\"], sample[\"v.x\"], sample[\"v.y\"], label=\"v\")\n",
    "    ctdv_df = sample[~(sample[\"o.ct_dv\"].isna())]\n",
    "    if show_ctdv:\n",
    "        plt.quiver(ctdv_df[\"loc.x\"], ctdv_df[\"loc.y\"], ctdv_df[\"o.ct_dv.x\"]+ctdv_df[\"v.x\"], ctdv_df[\"o.ct_dv.y\"]+ctdv_df[\"v.y\"], label=\"ctdv\", color=\"orange\")\n",
    "    if show_tv:\n",
    "        plt.quiver(sample[\"loc.x\"], sample[\"loc.y\"], sample[\"o.t_v.x\"], sample[\"o.t_v.y\"], label=\"tv\", color=\"purple\")\n",
    "    \n",
    "    plt.quiver(sample[\"o.ct_loc.x\"], sample[\"o.ct_loc.y\"], sample[\"o.ct_v.x\"], sample[\"o.ct_v.y\"])\n",
    "    cmap = plt.get_cmap('viridis')\n",
    "    for x, c in zip(df[\"o.ct\"].unique(), cmap(np.linspace(0, 1, len(df[\"o.ct\"].unique())))):\n",
    "        if not isinstance(x, str):\n",
    "            continue\n",
    "        ct = sample[sample[\"o.ct\"] == x]\n",
    "        if len(ct) == 0:\n",
    "            continue\n",
    "        plt.scatter(ct[\"o.ct_loc.x\"], ct[\"o.ct_loc.y\"], color=c, label=x[:8])\n",
    "        \n",
    "        t_next = 10\n",
    "        x, y = ct.iloc[-1][\"o.ct_loc.x\"], ct.iloc[-1][\"o.ct_loc.y\"]\n",
    "        x_next, y_next = ct.iloc[-1][\"o.ct_loc.x\"]+ct.iloc[-1][\"o.ct_v.x\"]*t_next, ct.iloc[-1][\"o.ct_loc.y\"]+ct.iloc[-1][\"o.ct_v.y\"]*t_next\n",
    "        if not np.allclose((x, y), (x_next, y_next)):\n",
    "            plt.axline((x,y),(x_next,y_next), marker = 'x', color=c, dashes=[2,2])\n",
    "    \n",
    "    cloc_df = sample[~(sample[\"o.ct_cloc\"].isna())]\n",
    "    if len(cloc_df) > 0:\n",
    "        cloc_x = cloc_df.iloc[-1][\"o.ct_cloc.x\"]\n",
    "        cloc_y = cloc_df.iloc[-1][\"o.ct_cloc.y\"]\n",
    "        cradius = cloc_df.iloc[-1][\"o.ct_cradius\"]\n",
    "        threat_radius = plt.Circle((cloc_x, cloc_y), cradius, color=\"red\", fill=False)\n",
    "        margin = plt.Circle((cloc_x, cloc_y), cradius+30+500, color=\"orange\", fill=False)\n",
    "        margin_hist = plt.Circle((cloc_x, cloc_y), cradius+30+500*2, color=\"green\", fill=False)\n",
    "        plt.gca().add_patch(threat_radius)\n",
    "        plt.gca().add_patch(margin)\n",
    "        plt.gca().add_patch(margin_hist)\n",
    "        print(cradius)\n",
    "    \n",
    "    if show_tloc:\n",
    "        plt.scatter(sample[\"o.t_loc.x\"], sample[\"o.t_loc.y\"], label=\"t_loc\")\n",
    "        for ((tloc_x, tloc_y), ad, md) in sample.groupby([\"o.t_loc.x\", \"o.t_loc.y\"]).agg({\"o.t_loc\": \"min\", \"o.ad\":\"min\", \"o.md\":\"min\"}).values:\n",
    "            arrival_dist = plt.Circle((tloc_x, tloc_y), ad, color=\"green\", fill=False)\n",
    "            min_dist = plt.Circle((tloc_x, tloc_y), md, color=\"red\", fill=False)\n",
    "            plt.gca().add_patch(arrival_dist)\n",
    "            plt.gca().add_patch(min_dist)\n",
    "            \n",
    "    t_next = 10\n",
    "    x, y = sample.iloc[-1][\"loc.x\"], sample.iloc[-1][\"loc.y\"]\n",
    "    x_next, y_next = sample.iloc[-1][\"loc.x\"]+sample.iloc[-1][\"v.x\"]*t_next, sample.iloc[-1][\"loc.y\"]+sample.iloc[-1][\"v.y\"]*t_next\n",
    "    if not np.allclose((x, y), (x_next, y_next)):\n",
    "        plt.axline((x,y),(x_next,y_next),marker = 'o')\n",
    "    \n",
    "    plt.axis('equal')\n",
    "    #center = (-33555, -5000)\n",
    "    #radius = 15000\n",
    "    #plt.xlim(center[0]-radius,center[0]+radius)\n",
    "    #plt.ylim(center[1]-radius,center[1]+radius)\n",
    "\n",
    "    plt.legend()\n",
    "    plt.show()\n",
    "    \n",
    "ipywidgets.interact(\n",
    "    plot_collision_chart,\n",
    "    hist_length=ipywidgets.FloatSlider(value=5, min=0, max=df[\"ts\"].max()-df[\"ts\"].min(), continuous_update=False),\n",
    "    max_time=ipywidgets.FloatSlider(step=1/60, value=df[\"ts\"].max()+1/60, min=df[\"ts\"].min(), max=df[\"ts\"].max()+1/60, continuous_update=False),\n",
    "    sampling_interval=ipywidgets.IntSlider(value=20, min=1, max=100, continuous_update=False),\n",
    "    show_tloc=ipywidgets.Checkbox(value=True),\n",
    "    show_tv=ipywidgets.Checkbox(value=True),\n",
    "    show_ctdv=ipywidgets.Checkbox(value=True),\n",
    "    show_v=ipywidgets.Checkbox(value=True),\n",
    ")"
   ]
  },
  {
   "cell_type": "markdown",
   "id": "6e5e3aad",
   "metadata": {},
   "source": [
    "## Position and Heading"
   ]
  },
  {
   "cell_type": "code",
   "execution_count": 34,
   "id": "2f7475c2",
   "metadata": {
    "scrolled": false
   },
   "outputs": [
    {
     "data": {
      "application/vnd.jupyter.widget-view+json": {
       "model_id": "76c482f6210b4856851531cc4d1a33ed",
       "version_major": 2,
       "version_minor": 0
      },
      "text/plain": [
       "interactive(children=(FloatSlider(value=5.0, continuous_update=False, description='hist_length', max=768.50402…"
      ]
     },
     "metadata": {},
     "output_type": "display_data"
    },
    {
     "data": {
      "text/plain": [
       "<function __main__.plot_collision_chart(hist_length=768.5540239964362, max_time=768.5540239964362)>"
      ]
     },
     "execution_count": 34,
     "metadata": {},
     "output_type": "execute_result"
    }
   ],
   "source": [
    "def plot_collision_chart(hist_length=df[\"ts\"].max(), max_time=df[\"ts\"].max()):\n",
    "    sample = df[(df[\"ts\"] >= max_time - hist_length) & (df[\"ts\"] <= max_time)]#.iloc[::30]\n",
    "    plt.quiver(sample[\"loc.x\"], sample[\"loc.y\"], sample[\"angle.x\"], sample[\"angle.y\"], label=\"ship\")\n",
    "    ctdv_df = sample[~(sample[\"o.ct_dv\"].isna())]\n",
    "    plt.quiver(ctdv_df[\"loc.x\"], ctdv_df[\"loc.y\"], ctdv_df[\"o.ct_dv.x\"], ctdv_df[\"o.ct_dv.y\"], label=\"ctdv\", color=\"orange\")\n",
    "    plt.quiver(sample[\"loc.x\"], sample[\"loc.y\"], sample[\"o.t_v.x\"], sample[\"o.t_v.y\"], label=\"tv\", color=\"purple\")\n",
    "    cmap = plt.get_cmap('viridis')\n",
    "    #for x, c in zip(df[\"o.ct\"].unique(), cmap(np.linspace(0, 1, len(sample[\"o.ct\"].unique())))):\n",
    "    #    print(x)\n",
    "    #    if not isinstance(x, str):\n",
    "    #        continue\n",
    "    #    ct = sample[sample[\"o.ct\"] == x]\n",
    "    #    plt.scatter(ct[\"o.ct_loc.x\"], ct[\"o.ct_loc.y\"], color=c, label=x[:8])\n",
    "    #plt.scatter(sample[\"o.t_loc.x\"], sample[\"o.t_loc.y\"], label=\"t_loc\")\n",
    "    #plt.axis('square')\n",
    "    #center = (-33555, -5000)\n",
    "    #radius = 15000\n",
    "    #plt.xlim(center[0]-radius,center[0]+radius)\n",
    "    #plt.ylim(center[1]-radius,center[1]+radius)\n",
    "    \n",
    "    plt.legend()\n",
    "    plt.axis('equal')\n",
    "    plt.show()\n",
    "    \n",
    "ipywidgets.interact(plot_collision_chart, hist_length=ipywidgets.FloatSlider(value=5, min=0, max=df[\"ts\"].max()-df[\"ts\"].min(), continuous_update=False), max_time=ipywidgets.FloatSlider(value=df[\"ts\"].max(), min=df[\"ts\"].min(), max=df[\"ts\"].max(), continuous_update=False))"
   ]
  },
  {
   "cell_type": "code",
   "execution_count": 35,
   "id": "03aadc31",
   "metadata": {},
   "outputs": [
    {
     "name": "stdout",
     "output_type": "stream",
     "text": [
      "[list([16555.02733187793, -176853.04872469872]) 500.0]\n",
      "[list([57863.95256691071, -111138.38946212994]) 500.0]\n",
      "[list([147140.16074895728, -105023.3528980405]) 500.0]\n",
      "[list([147255.00929731913, -108168.01507540842]) 500.0]\n"
     ]
    }
   ],
   "source": [
    "for s in df.groupby([\"o.t_loc.x\", \"o.t_loc.y\"]).agg({\"o.t_loc\":\"min\", \"o.ad\":\"min\"}).values:\n",
    "    print(f'{s}')"
   ]
  },
  {
   "cell_type": "markdown",
   "id": "6e24f370",
   "metadata": {},
   "source": [
    "# "
   ]
  }
 ],
 "metadata": {
  "kernelspec": {
   "display_name": "Python 3 (ipykernel)",
   "language": "python",
   "name": "python3"
  },
  "language_info": {
   "codemirror_mode": {
    "name": "ipython",
    "version": 3
   },
   "file_extension": ".py",
   "mimetype": "text/x-python",
   "name": "python",
   "nbconvert_exporter": "python",
   "pygments_lexer": "ipython3",
   "version": "3.10.3"
  }
 },
 "nbformat": 4,
 "nbformat_minor": 5
}
